{
 "cells": [
  {
   "cell_type": "code",
   "execution_count": 1,
   "id": "initial_id",
   "metadata": {
    "collapsed": true,
    "ExecuteTime": {
     "end_time": "2024-03-31T10:10:14.041536Z",
     "start_time": "2024-03-31T10:10:14.039822Z"
    }
   },
   "outputs": [],
   "source": [
    "import pandas as pd\n",
    "import matplotlib.pyplot as plt"
   ]
  },
  {
   "cell_type": "code",
   "execution_count": 2,
   "outputs": [],
   "source": [
    "dataset_build = pd.read_csv(\"../feature_engineering/datasets/built_dataset.csv\")"
   ],
   "metadata": {
    "collapsed": false,
    "ExecuteTime": {
     "end_time": "2024-03-31T10:10:14.288155Z",
     "start_time": "2024-03-31T10:10:14.042758Z"
    }
   },
   "id": "6b6a4004f1d30fdc"
  },
  {
   "cell_type": "code",
   "execution_count": 3,
   "outputs": [
    {
     "name": "stdout",
     "output_type": "stream",
     "text": [
      "<class 'pandas.core.frame.DataFrame'>\n",
      "RangeIndex: 442974 entries, 0 to 442973\n",
      "Data columns (total 7 columns):\n",
      " #   Column                     Non-Null Count   Dtype  \n",
      "---  ------                     --------------   -----  \n",
      " 0   item_name                  442974 non-null  object \n",
      " 1   category_name              442974 non-null  object \n",
      " 2   date                       442974 non-null  object \n",
      " 3   time                       442974 non-null  object \n",
      " 4   item_code                  442974 non-null  int64  \n",
      " 5   quantity_sold_kg           442974 non-null  float64\n",
      " 6   unit_selling_price_rmb/kg  442974 non-null  float64\n",
      "dtypes: float64(2), int64(1), object(4)\n",
      "memory usage: 23.7+ MB\n"
     ]
    }
   ],
   "source": [
    "dataset_build.info()"
   ],
   "metadata": {
    "collapsed": false,
    "ExecuteTime": {
     "end_time": "2024-03-31T10:10:15.172585Z",
     "start_time": "2024-03-31T10:10:15.131284Z"
    }
   },
   "id": "60d0f74aff26a17d"
  },
  {
   "cell_type": "code",
   "execution_count": 4,
   "outputs": [
    {
     "data": {
      "text/plain": "           item_name category_name        date          time        item_code  \\\n0  green hot peppers      capsicum  2021-01-01  09:14:26.212  102900005116226   \n1  green hot peppers      capsicum  2021-01-01  09:14:26.324  102900005116226   \n2    yunnan lettuces        flower  2021-01-01  09:16:20.074  102900005115984   \n\n   quantity_sold_kg  unit_selling_price_rmb/kg  \n0             1.132                       25.8  \n1             0.593                       25.8  \n2             0.468                        6.0  ",
      "text/html": "<div>\n<style scoped>\n    .dataframe tbody tr th:only-of-type {\n        vertical-align: middle;\n    }\n\n    .dataframe tbody tr th {\n        vertical-align: top;\n    }\n\n    .dataframe thead th {\n        text-align: right;\n    }\n</style>\n<table border=\"1\" class=\"dataframe\">\n  <thead>\n    <tr style=\"text-align: right;\">\n      <th></th>\n      <th>item_name</th>\n      <th>category_name</th>\n      <th>date</th>\n      <th>time</th>\n      <th>item_code</th>\n      <th>quantity_sold_kg</th>\n      <th>unit_selling_price_rmb/kg</th>\n    </tr>\n  </thead>\n  <tbody>\n    <tr>\n      <th>0</th>\n      <td>green hot peppers</td>\n      <td>capsicum</td>\n      <td>2021-01-01</td>\n      <td>09:14:26.212</td>\n      <td>102900005116226</td>\n      <td>1.132</td>\n      <td>25.8</td>\n    </tr>\n    <tr>\n      <th>1</th>\n      <td>green hot peppers</td>\n      <td>capsicum</td>\n      <td>2021-01-01</td>\n      <td>09:14:26.324</td>\n      <td>102900005116226</td>\n      <td>0.593</td>\n      <td>25.8</td>\n    </tr>\n    <tr>\n      <th>2</th>\n      <td>yunnan lettuces</td>\n      <td>flower</td>\n      <td>2021-01-01</td>\n      <td>09:16:20.074</td>\n      <td>102900005115984</td>\n      <td>0.468</td>\n      <td>6.0</td>\n    </tr>\n  </tbody>\n</table>\n</div>"
     },
     "execution_count": 4,
     "metadata": {},
     "output_type": "execute_result"
    }
   ],
   "source": [
    "dataset_build.head(3)"
   ],
   "metadata": {
    "collapsed": false,
    "ExecuteTime": {
     "end_time": "2024-03-31T10:10:30.349755Z",
     "start_time": "2024-03-31T10:10:30.293010Z"
    }
   },
   "id": "b4d96728674b2f2"
  },
  {
   "cell_type": "code",
   "execution_count": 5,
   "outputs": [
    {
     "data": {
      "text/plain": "         Date        Item Code  Wholesale Price (RMB/kg)\n0  2020-07-01  102900005115762                      3.88\n1  2020-07-01  102900005115779                      6.72\n2  2020-07-01  102900005115786                      3.19\n3  2020-07-01  102900005115793                      9.24\n4  2020-07-01  102900005115823                      7.03",
      "text/html": "<div>\n<style scoped>\n    .dataframe tbody tr th:only-of-type {\n        vertical-align: middle;\n    }\n\n    .dataframe tbody tr th {\n        vertical-align: top;\n    }\n\n    .dataframe thead th {\n        text-align: right;\n    }\n</style>\n<table border=\"1\" class=\"dataframe\">\n  <thead>\n    <tr style=\"text-align: right;\">\n      <th></th>\n      <th>Date</th>\n      <th>Item Code</th>\n      <th>Wholesale Price (RMB/kg)</th>\n    </tr>\n  </thead>\n  <tbody>\n    <tr>\n      <th>0</th>\n      <td>2020-07-01</td>\n      <td>102900005115762</td>\n      <td>3.88</td>\n    </tr>\n    <tr>\n      <th>1</th>\n      <td>2020-07-01</td>\n      <td>102900005115779</td>\n      <td>6.72</td>\n    </tr>\n    <tr>\n      <th>2</th>\n      <td>2020-07-01</td>\n      <td>102900005115786</td>\n      <td>3.19</td>\n    </tr>\n    <tr>\n      <th>3</th>\n      <td>2020-07-01</td>\n      <td>102900005115793</td>\n      <td>9.24</td>\n    </tr>\n    <tr>\n      <th>4</th>\n      <td>2020-07-01</td>\n      <td>102900005115823</td>\n      <td>7.03</td>\n    </tr>\n  </tbody>\n</table>\n</div>"
     },
     "execution_count": 5,
     "metadata": {},
     "output_type": "execute_result"
    }
   ],
   "source": [
    "Wholesale_Price_data = pd.read_csv(\"../feature_engineering/datasets/wholesale_price.csv\")\n",
    "Wholesale_Price_data.head()"
   ],
   "metadata": {
    "collapsed": false,
    "ExecuteTime": {
     "end_time": "2024-03-31T10:10:48.552206Z",
     "start_time": "2024-03-31T10:10:48.510932Z"
    }
   },
   "id": "d075637de77d0ec2"
  },
  {
   "cell_type": "code",
   "execution_count": 6,
   "outputs": [
    {
     "name": "stdout",
     "output_type": "stream",
     "text": [
      "<class 'pandas.core.frame.DataFrame'>\n",
      "RangeIndex: 55982 entries, 0 to 55981\n",
      "Data columns (total 3 columns):\n",
      " #   Column                    Non-Null Count  Dtype  \n",
      "---  ------                    --------------  -----  \n",
      " 0   Date                      55982 non-null  object \n",
      " 1   Item Code                 55982 non-null  int64  \n",
      " 2   Wholesale Price (RMB/kg)  55982 non-null  float64\n",
      "dtypes: float64(1), int64(1), object(1)\n",
      "memory usage: 1.3+ MB\n"
     ]
    }
   ],
   "source": [
    "Wholesale_Price_data.info()"
   ],
   "metadata": {
    "collapsed": false,
    "ExecuteTime": {
     "end_time": "2024-03-31T10:10:49.718981Z",
     "start_time": "2024-03-31T10:10:49.708888Z"
    }
   },
   "id": "bd1c38041c9ad3d7"
  },
  {
   "cell_type": "code",
   "execution_count": 7,
   "outputs": [
    {
     "name": "stdout",
     "output_type": "stream",
     "text": [
      "Number of duplicate entries in 'Item Code': 55731\n",
      "Duplicate entries:\n",
      "             date        item_code  wholesale_price_(rmb/kg)\n",
      "0      2020-07-01  102900005115762                      3.88\n",
      "1      2020-07-01  102900005115779                      6.72\n",
      "2      2020-07-01  102900005115786                      3.19\n",
      "3      2020-07-01  102900005115793                      9.24\n",
      "4      2020-07-01  102900005115823                      7.03\n",
      "...           ...              ...                       ...\n",
      "55977  2023-06-30  102900051000944                     18.00\n",
      "55978  2023-06-30  102900051004294                      6.45\n",
      "55979  2023-06-30  102900051010455                      4.48\n",
      "55980  2023-06-30  106949711300259                      1.45\n",
      "55981  2023-06-30  106971533450003                      1.95\n",
      "\n",
      "[55974 rows x 3 columns]\n"
     ]
    }
   ],
   "source": [
    "Wholesale_Price_data.rename(str.lower, axis='columns', inplace=True)\n",
    "\n",
    "Wholesale_Price_data.rename(lambda x: x.replace(\" \", \"_\"), axis='columns', inplace=True)\n",
    "Wholesale_Price_data.columns\n",
    "\n",
    "# Check for duplicates in the 'Item Code' column\n",
    "duplicates_counts = Wholesale_Price_data['item_code'].duplicated().sum()\n",
    "\n",
    "# Print the count of duplicates\n",
    "print(\"Number of duplicate entries in 'Item Code':\", duplicates_counts)\n",
    "\n",
    "# Optionally, you can print the actual duplicated rows\n",
    "duplicates = Wholesale_Price_data[Wholesale_Price_data['item_code'].duplicated(keep=False)]\n",
    "print(\"Duplicate entries:\")\n",
    "print(duplicates)\n"
   ],
   "metadata": {
    "collapsed": false,
    "ExecuteTime": {
     "end_time": "2024-03-31T10:10:51.040729Z",
     "start_time": "2024-03-31T10:10:51.026761Z"
    }
   },
   "id": "6f68cb154c331ab3"
  },
  {
   "cell_type": "code",
   "execution_count": 8,
   "outputs": [
    {
     "data": {
      "text/plain": "         Item Code                 Item Name  Loss Rate (%)\n0  102900005115168          Niushou Shengcai           4.39\n1  102900005115199         Sichuan Red Cedar          10.46\n2  102900005115250  Xixia Black Mushroom (1)          10.80\n3  102900005115625     Local Xiaomao Cabbage           0.18\n4  102900005115748              White Caitai           8.78",
      "text/html": "<div>\n<style scoped>\n    .dataframe tbody tr th:only-of-type {\n        vertical-align: middle;\n    }\n\n    .dataframe tbody tr th {\n        vertical-align: top;\n    }\n\n    .dataframe thead th {\n        text-align: right;\n    }\n</style>\n<table border=\"1\" class=\"dataframe\">\n  <thead>\n    <tr style=\"text-align: right;\">\n      <th></th>\n      <th>Item Code</th>\n      <th>Item Name</th>\n      <th>Loss Rate (%)</th>\n    </tr>\n  </thead>\n  <tbody>\n    <tr>\n      <th>0</th>\n      <td>102900005115168</td>\n      <td>Niushou Shengcai</td>\n      <td>4.39</td>\n    </tr>\n    <tr>\n      <th>1</th>\n      <td>102900005115199</td>\n      <td>Sichuan Red Cedar</td>\n      <td>10.46</td>\n    </tr>\n    <tr>\n      <th>2</th>\n      <td>102900005115250</td>\n      <td>Xixia Black Mushroom (1)</td>\n      <td>10.80</td>\n    </tr>\n    <tr>\n      <th>3</th>\n      <td>102900005115625</td>\n      <td>Local Xiaomao Cabbage</td>\n      <td>0.18</td>\n    </tr>\n    <tr>\n      <th>4</th>\n      <td>102900005115748</td>\n      <td>White Caitai</td>\n      <td>8.78</td>\n    </tr>\n  </tbody>\n</table>\n</div>"
     },
     "execution_count": 8,
     "metadata": {},
     "output_type": "execute_result"
    }
   ],
   "source": [
    "loss_rate = pd.read_csv('../feature_engineering/datasets/loss_rate.csv')\n",
    "(loss_rate.head())"
   ],
   "metadata": {
    "collapsed": false,
    "ExecuteTime": {
     "end_time": "2024-03-31T10:11:01.410214Z",
     "start_time": "2024-03-31T10:11:01.391109Z"
    }
   },
   "id": "c71364fba76a445b"
  },
  {
   "cell_type": "code",
   "execution_count": 9,
   "outputs": [
    {
     "name": "stdout",
     "output_type": "stream",
     "text": [
      "<class 'pandas.core.frame.DataFrame'>\n",
      "RangeIndex: 251 entries, 0 to 250\n",
      "Data columns (total 3 columns):\n",
      " #   Column         Non-Null Count  Dtype  \n",
      "---  ------         --------------  -----  \n",
      " 0   Item Code      251 non-null    int64  \n",
      " 1   Item Name      251 non-null    object \n",
      " 2   Loss Rate (%)  251 non-null    float64\n",
      "dtypes: float64(1), int64(1), object(1)\n",
      "memory usage: 6.0+ KB\n"
     ]
    }
   ],
   "source": [
    "loss_rate.info()"
   ],
   "metadata": {
    "collapsed": false,
    "ExecuteTime": {
     "end_time": "2024-03-31T10:11:07.028880Z",
     "start_time": "2024-03-31T10:11:07.000795Z"
    }
   },
   "id": "9dc4ce64cff6d573"
  },
  {
   "cell_type": "code",
   "execution_count": 10,
   "outputs": [
    {
     "name": "stdout",
     "output_type": "stream",
     "text": [
      "Number of duplicate entries in 'Item Code': 0\n",
      "Duplicate entries:\n",
      "Empty DataFrame\n",
      "Columns: [item_code, item_name, loss_rate_(%)]\n",
      "Index: []\n"
     ]
    }
   ],
   "source": [
    "loss_rate.rename(str.lower, axis='columns', inplace=True)\n",
    "\n",
    "loss_rate.rename(lambda x: x.replace(\" \", \"_\"), axis='columns', inplace=True)\n",
    "loss_rate.columns\n",
    "\n",
    "# Check for duplicates in the 'Item Code' column\n",
    "duplicates_count = loss_rate['item_code'].duplicated().sum()\n",
    "\n",
    "# Print the count of duplicates\n",
    "print(\"Number of duplicate entries in 'Item Code':\", duplicates_count)\n",
    "\n",
    "# Optionally, you can print the actual duplicated rows\n",
    "duplicates = loss_rate[loss_rate['item_code'].duplicated(keep=False)]\n",
    "print(\"Duplicate entries:\")\n",
    "print(duplicates)"
   ],
   "metadata": {
    "collapsed": false,
    "ExecuteTime": {
     "end_time": "2024-03-31T10:11:07.706042Z",
     "start_time": "2024-03-31T10:11:07.700157Z"
    }
   },
   "id": "3e2b82f6ff750b54"
  },
  {
   "cell_type": "code",
   "execution_count": 11,
   "outputs": [
    {
     "data": {
      "text/plain": "             date        item_code  wholesale_price_(rmb/kg)\n0      2020-07-01  102900005115762                      3.88\n1      2020-07-01  102900005115779                      6.72\n2      2020-07-01  102900005115786                      3.19\n3      2020-07-01  102900005115793                      9.24\n4      2020-07-01  102900005115823                      7.03\n...           ...              ...                       ...\n55977  2023-06-30  102900051000944                     18.00\n55978  2023-06-30  102900051004294                      6.45\n55979  2023-06-30  102900051010455                      4.48\n55980  2023-06-30  106949711300259                      1.45\n55981  2023-06-30  106971533450003                      1.95\n\n[55982 rows x 3 columns]",
      "text/html": "<div>\n<style scoped>\n    .dataframe tbody tr th:only-of-type {\n        vertical-align: middle;\n    }\n\n    .dataframe tbody tr th {\n        vertical-align: top;\n    }\n\n    .dataframe thead th {\n        text-align: right;\n    }\n</style>\n<table border=\"1\" class=\"dataframe\">\n  <thead>\n    <tr style=\"text-align: right;\">\n      <th></th>\n      <th>date</th>\n      <th>item_code</th>\n      <th>wholesale_price_(rmb/kg)</th>\n    </tr>\n  </thead>\n  <tbody>\n    <tr>\n      <th>0</th>\n      <td>2020-07-01</td>\n      <td>102900005115762</td>\n      <td>3.88</td>\n    </tr>\n    <tr>\n      <th>1</th>\n      <td>2020-07-01</td>\n      <td>102900005115779</td>\n      <td>6.72</td>\n    </tr>\n    <tr>\n      <th>2</th>\n      <td>2020-07-01</td>\n      <td>102900005115786</td>\n      <td>3.19</td>\n    </tr>\n    <tr>\n      <th>3</th>\n      <td>2020-07-01</td>\n      <td>102900005115793</td>\n      <td>9.24</td>\n    </tr>\n    <tr>\n      <th>4</th>\n      <td>2020-07-01</td>\n      <td>102900005115823</td>\n      <td>7.03</td>\n    </tr>\n    <tr>\n      <th>...</th>\n      <td>...</td>\n      <td>...</td>\n      <td>...</td>\n    </tr>\n    <tr>\n      <th>55977</th>\n      <td>2023-06-30</td>\n      <td>102900051000944</td>\n      <td>18.00</td>\n    </tr>\n    <tr>\n      <th>55978</th>\n      <td>2023-06-30</td>\n      <td>102900051004294</td>\n      <td>6.45</td>\n    </tr>\n    <tr>\n      <th>55979</th>\n      <td>2023-06-30</td>\n      <td>102900051010455</td>\n      <td>4.48</td>\n    </tr>\n    <tr>\n      <th>55980</th>\n      <td>2023-06-30</td>\n      <td>106949711300259</td>\n      <td>1.45</td>\n    </tr>\n    <tr>\n      <th>55981</th>\n      <td>2023-06-30</td>\n      <td>106971533450003</td>\n      <td>1.95</td>\n    </tr>\n  </tbody>\n</table>\n<p>55982 rows × 3 columns</p>\n</div>"
     },
     "execution_count": 11,
     "metadata": {},
     "output_type": "execute_result"
    }
   ],
   "source": [
    "Wholesale_Price_data_drop = Wholesale_Price_data.drop_duplicates()\n",
    "Wholesale_Price_data_drop"
   ],
   "metadata": {
    "collapsed": false,
    "ExecuteTime": {
     "end_time": "2024-03-31T10:11:09.432086Z",
     "start_time": "2024-03-31T10:11:09.418887Z"
    }
   },
   "id": "255e3537214b54c2"
  },
  {
   "cell_type": "code",
   "execution_count": 12,
   "outputs": [
    {
     "data": {
      "text/plain": "           item_code                                     item_name  \\\n0    102900005115168                              Niushou Shengcai   \n1    102900005115199                             Sichuan Red Cedar   \n2    102900005115250                      Xixia Black Mushroom (1)   \n3    102900005115625                         Local Xiaomao Cabbage   \n4    102900005115748                                  White Caitai   \n..               ...                                           ...   \n246  106971533455008                    Haixian Mushroom (Bag) (3)   \n247  106971563780002                          Xianzongye (Bag) (2)   \n248  106972776821582                          Xianzongye (Bag) (3)   \n249  106973223300667  Chinese Caterpillar Fungus Flowers (Box) (2)   \n250  106973990980123                 Hfyg Haixian Mushroom (Bunch)   \n\n     loss_rate_(%)  \n0             4.39  \n1            10.46  \n2            10.80  \n3             0.18  \n4             8.78  \n..             ...  \n246           1.30  \n247           0.00  \n248           9.43  \n249          11.13  \n250           0.12  \n\n[251 rows x 3 columns]",
      "text/html": "<div>\n<style scoped>\n    .dataframe tbody tr th:only-of-type {\n        vertical-align: middle;\n    }\n\n    .dataframe tbody tr th {\n        vertical-align: top;\n    }\n\n    .dataframe thead th {\n        text-align: right;\n    }\n</style>\n<table border=\"1\" class=\"dataframe\">\n  <thead>\n    <tr style=\"text-align: right;\">\n      <th></th>\n      <th>item_code</th>\n      <th>item_name</th>\n      <th>loss_rate_(%)</th>\n    </tr>\n  </thead>\n  <tbody>\n    <tr>\n      <th>0</th>\n      <td>102900005115168</td>\n      <td>Niushou Shengcai</td>\n      <td>4.39</td>\n    </tr>\n    <tr>\n      <th>1</th>\n      <td>102900005115199</td>\n      <td>Sichuan Red Cedar</td>\n      <td>10.46</td>\n    </tr>\n    <tr>\n      <th>2</th>\n      <td>102900005115250</td>\n      <td>Xixia Black Mushroom (1)</td>\n      <td>10.80</td>\n    </tr>\n    <tr>\n      <th>3</th>\n      <td>102900005115625</td>\n      <td>Local Xiaomao Cabbage</td>\n      <td>0.18</td>\n    </tr>\n    <tr>\n      <th>4</th>\n      <td>102900005115748</td>\n      <td>White Caitai</td>\n      <td>8.78</td>\n    </tr>\n    <tr>\n      <th>...</th>\n      <td>...</td>\n      <td>...</td>\n      <td>...</td>\n    </tr>\n    <tr>\n      <th>246</th>\n      <td>106971533455008</td>\n      <td>Haixian Mushroom (Bag) (3)</td>\n      <td>1.30</td>\n    </tr>\n    <tr>\n      <th>247</th>\n      <td>106971563780002</td>\n      <td>Xianzongye (Bag) (2)</td>\n      <td>0.00</td>\n    </tr>\n    <tr>\n      <th>248</th>\n      <td>106972776821582</td>\n      <td>Xianzongye (Bag) (3)</td>\n      <td>9.43</td>\n    </tr>\n    <tr>\n      <th>249</th>\n      <td>106973223300667</td>\n      <td>Chinese Caterpillar Fungus Flowers (Box) (2)</td>\n      <td>11.13</td>\n    </tr>\n    <tr>\n      <th>250</th>\n      <td>106973990980123</td>\n      <td>Hfyg Haixian Mushroom (Bunch)</td>\n      <td>0.12</td>\n    </tr>\n  </tbody>\n</table>\n<p>251 rows × 3 columns</p>\n</div>"
     },
     "execution_count": 12,
     "metadata": {},
     "output_type": "execute_result"
    }
   ],
   "source": [
    "loss_rate_drop = loss_rate.drop_duplicates()\n",
    "loss_rate_drop"
   ],
   "metadata": {
    "collapsed": false,
    "ExecuteTime": {
     "end_time": "2024-03-31T10:11:10.093679Z",
     "start_time": "2024-03-31T10:11:10.087669Z"
    }
   },
   "id": "bf5d88d74a9909f3"
  },
  {
   "cell_type": "code",
   "execution_count": 13,
   "outputs": [
    {
     "data": {
      "text/plain": "<BarContainer object of 6 artists>"
     },
     "execution_count": 13,
     "metadata": {},
     "output_type": "execute_result"
    },
    {
     "data": {
      "text/plain": "<Figure size 640x480 with 1 Axes>",
      "image/png": "[encoded data removed]"
     },
     "metadata": {},
     "output_type": "display_data"
    }
   ],
   "source": [
    "plt.bar(dataset_build['category_name'].unique(), dataset_build['category_name'].value_counts())"
   ],
   "metadata": {
    "collapsed": false,
    "ExecuteTime": {
     "end_time": "2024-03-31T10:11:13.029827Z",
     "start_time": "2024-03-31T10:11:12.822675Z"
    }
   },
   "id": "327f5907e090c0b8"
  },
  {
   "cell_type": "code",
   "execution_count": 14,
   "outputs": [
    {
     "data": {
      "text/plain": "         date        item_code  wholesale_price_(rmb/kg)\n0  2020-07-01  102900005115762                      3.88\n1  2020-07-01  102900005115779                      6.72\n2  2020-07-01  102900005115786                      3.19\n3  2020-07-01  102900005115793                      9.24\n4  2020-07-01  102900005115823                      7.03",
      "text/html": "<div>\n<style scoped>\n    .dataframe tbody tr th:only-of-type {\n        vertical-align: middle;\n    }\n\n    .dataframe tbody tr th {\n        vertical-align: top;\n    }\n\n    .dataframe thead th {\n        text-align: right;\n    }\n</style>\n<table border=\"1\" class=\"dataframe\">\n  <thead>\n    <tr style=\"text-align: right;\">\n      <th></th>\n      <th>date</th>\n      <th>item_code</th>\n      <th>wholesale_price_(rmb/kg)</th>\n    </tr>\n  </thead>\n  <tbody>\n    <tr>\n      <th>0</th>\n      <td>2020-07-01</td>\n      <td>102900005115762</td>\n      <td>3.88</td>\n    </tr>\n    <tr>\n      <th>1</th>\n      <td>2020-07-01</td>\n      <td>102900005115779</td>\n      <td>6.72</td>\n    </tr>\n    <tr>\n      <th>2</th>\n      <td>2020-07-01</td>\n      <td>102900005115786</td>\n      <td>3.19</td>\n    </tr>\n    <tr>\n      <th>3</th>\n      <td>2020-07-01</td>\n      <td>102900005115793</td>\n      <td>9.24</td>\n    </tr>\n    <tr>\n      <th>4</th>\n      <td>2020-07-01</td>\n      <td>102900005115823</td>\n      <td>7.03</td>\n    </tr>\n  </tbody>\n</table>\n</div>"
     },
     "execution_count": 14,
     "metadata": {},
     "output_type": "execute_result"
    }
   ],
   "source": [
    "#Wholesale_Price_data_drop.columns = Wholesale_Price_data_drop.columns.str.replace(\" \", \"_\")\n",
    "Wholesale_Price_data_drop.head()"
   ],
   "metadata": {
    "collapsed": false,
    "ExecuteTime": {
     "end_time": "2024-03-31T10:11:14.676432Z",
     "start_time": "2024-03-31T10:11:14.670878Z"
    }
   },
   "id": "7f614f7600a0543e"
  },
  {
   "cell_type": "code",
   "execution_count": 15,
   "outputs": [
    {
     "data": {
      "text/plain": "         item_code                 item_name  loss_rate_(%)\n0  102900005115168          Niushou Shengcai           4.39\n1  102900005115199         Sichuan Red Cedar          10.46\n2  102900005115250  Xixia Black Mushroom (1)          10.80\n3  102900005115625     Local Xiaomao Cabbage           0.18\n4  102900005115748              White Caitai           8.78",
      "text/html": "<div>\n<style scoped>\n    .dataframe tbody tr th:only-of-type {\n        vertical-align: middle;\n    }\n\n    .dataframe tbody tr th {\n        vertical-align: top;\n    }\n\n    .dataframe thead th {\n        text-align: right;\n    }\n</style>\n<table border=\"1\" class=\"dataframe\">\n  <thead>\n    <tr style=\"text-align: right;\">\n      <th></th>\n      <th>item_code</th>\n      <th>item_name</th>\n      <th>loss_rate_(%)</th>\n    </tr>\n  </thead>\n  <tbody>\n    <tr>\n      <th>0</th>\n      <td>102900005115168</td>\n      <td>Niushou Shengcai</td>\n      <td>4.39</td>\n    </tr>\n    <tr>\n      <th>1</th>\n      <td>102900005115199</td>\n      <td>Sichuan Red Cedar</td>\n      <td>10.46</td>\n    </tr>\n    <tr>\n      <th>2</th>\n      <td>102900005115250</td>\n      <td>Xixia Black Mushroom (1)</td>\n      <td>10.80</td>\n    </tr>\n    <tr>\n      <th>3</th>\n      <td>102900005115625</td>\n      <td>Local Xiaomao Cabbage</td>\n      <td>0.18</td>\n    </tr>\n    <tr>\n      <th>4</th>\n      <td>102900005115748</td>\n      <td>White Caitai</td>\n      <td>8.78</td>\n    </tr>\n  </tbody>\n</table>\n</div>"
     },
     "execution_count": 15,
     "metadata": {},
     "output_type": "execute_result"
    }
   ],
   "source": [
    "#loss_rate_drop.columns = loss_rate_drop.columns.str.replace(\" \", \"_\")\n",
    "loss_rate_drop.head()"
   ],
   "metadata": {
    "collapsed": false,
    "ExecuteTime": {
     "end_time": "2024-03-31T10:11:15.689030Z",
     "start_time": "2024-03-31T10:11:15.683396Z"
    }
   },
   "id": "e34aa151b6ee9cd1"
  },
  {
   "cell_type": "code",
   "execution_count": 16,
   "outputs": [
    {
     "data": {
      "text/plain": "item_name                     object\ncategory_name                 object\ndate                          object\ntime                          object\nitem_code                      int64\nquantity_sold_kg             float64\nunit_selling_price_rmb/kg    float64\ndtype: object"
     },
     "execution_count": 16,
     "metadata": {},
     "output_type": "execute_result"
    }
   ],
   "source": [
    "dataset_build.dtypes"
   ],
   "metadata": {
    "collapsed": false,
    "ExecuteTime": {
     "end_time": "2024-03-31T10:11:16.312761Z",
     "start_time": "2024-03-31T10:11:16.308024Z"
    }
   },
   "id": "b9690c8c2bb99b29"
  },
  {
   "cell_type": "code",
   "execution_count": 17,
   "outputs": [],
   "source": [
    "#Wholesale_Price_data_drop.columns = [col.replace('_', ' ') for col in Wholesale_Price_data_drop.columns]"
   ],
   "metadata": {
    "collapsed": false,
    "ExecuteTime": {
     "end_time": "2024-03-31T10:11:17.832222Z",
     "start_time": "2024-03-31T10:11:17.828255Z"
    }
   },
   "id": "65076d2e843eb053"
  },
  {
   "cell_type": "code",
   "execution_count": 18,
   "outputs": [],
   "source": [
    "\n",
    "# Convert 'Date' column to object type\n",
    "Wholesale_Price_data_drop['date'] = Wholesale_Price_data_drop['date'].astype(str)"
   ],
   "metadata": {
    "collapsed": false,
    "ExecuteTime": {
     "end_time": "2024-03-31T10:11:18.219643Z",
     "start_time": "2024-03-31T10:11:18.214733Z"
    }
   },
   "id": "bf38699f8d7dea09"
  },
  {
   "cell_type": "code",
   "execution_count": 19,
   "outputs": [
    {
     "data": {
      "text/plain": "date                         object\nitem_code                     int64\nwholesale_price_(rmb/kg)    float64\ndtype: object"
     },
     "execution_count": 19,
     "metadata": {},
     "output_type": "execute_result"
    }
   ],
   "source": [
    "Wholesale_Price_data_drop.dtypes"
   ],
   "metadata": {
    "collapsed": false,
    "ExecuteTime": {
     "end_time": "2024-03-31T10:11:19.127661Z",
     "start_time": "2024-03-31T10:11:19.123405Z"
    }
   },
   "id": "bad3ba11e0f0dc3d"
  },
  {
   "cell_type": "code",
   "execution_count": 20,
   "outputs": [],
   "source": [
    "#loss_rate_drop.columns = [col.replace('_', ' ') for col in loss_rate_drop.columns]"
   ],
   "metadata": {
    "collapsed": false,
    "ExecuteTime": {
     "end_time": "2024-03-31T10:11:21.090570Z",
     "start_time": "2024-03-31T10:11:21.086234Z"
    }
   },
   "id": "ff6e29194800e1fd"
  },
  {
   "cell_type": "code",
   "execution_count": 21,
   "outputs": [
    {
     "data": {
      "text/plain": "item_code          int64\nitem_name         object\nloss_rate_(%)    float64\ndtype: object"
     },
     "execution_count": 21,
     "metadata": {},
     "output_type": "execute_result"
    }
   ],
   "source": [
    "loss_rate_drop.dtypes"
   ],
   "metadata": {
    "collapsed": false,
    "ExecuteTime": {
     "end_time": "2024-03-31T10:11:21.376784Z",
     "start_time": "2024-03-31T10:11:21.372750Z"
    }
   },
   "id": "5dda66778f5e86fc"
  },
  {
   "cell_type": "code",
   "execution_count": 22,
   "outputs": [
    {
     "name": "stdout",
     "output_type": "stream",
     "text": [
      "2020-07-01 2023-06-30\n"
     ]
    }
   ],
   "source": [
    "print(Wholesale_Price_data_drop['date'].min(), Wholesale_Price_data_drop['date'].max())"
   ],
   "metadata": {
    "collapsed": false,
    "ExecuteTime": {
     "end_time": "2024-03-31T10:11:22.180717Z",
     "start_time": "2024-03-31T10:11:22.174291Z"
    }
   },
   "id": "fc1ec27d402c3f55"
  },
  {
   "cell_type": "code",
   "execution_count": 23,
   "outputs": [
    {
     "data": {
      "text/plain": "(39491, 3)"
     },
     "execution_count": 23,
     "metadata": {},
     "output_type": "execute_result"
    }
   ],
   "source": [
    "cf = Wholesale_Price_data_drop[(Wholesale_Price_data_drop['date'] >= '2021-01-01') & (Wholesale_Price_data_drop['date'] <= '2022-12-31')]\n",
    "cf.shape"
   ],
   "metadata": {
    "collapsed": false,
    "ExecuteTime": {
     "end_time": "2024-03-31T10:11:25.874251Z",
     "start_time": "2024-03-31T10:11:25.862782Z"
    }
   },
   "id": "5efd4ea300945b90"
  },
  {
   "cell_type": "code",
   "execution_count": 24,
   "outputs": [
    {
     "data": {
      "text/plain": "           item_name category_name        date          time        item_code  \\\n0  green hot peppers      capsicum  2021-01-01  09:14:26.212  102900005116226   \n1  green hot peppers      capsicum  2021-01-01  09:14:26.324  102900005116226   \n2    yunnan lettuces        flower  2021-01-01  09:16:20.074  102900005115984   \n3     xixia mushroom      mushroom  2021-01-01  09:18:49.451  102900005116530   \n4         paopaojiao      capsicum  2021-01-01  09:19:14.842  102900005117056   \n\n   quantity_sold_kg  unit_selling_price_rmb/kg  wholesale_price_(rmb/kg)  \n0             1.132                       25.8                     15.21  \n1             0.593                       25.8                     15.21  \n2             0.468                        6.0                      3.19  \n3             0.389                       18.0                     13.00  \n4             0.606                       18.0                     14.31  ",
      "text/html": "<div>\n<style scoped>\n    .dataframe tbody tr th:only-of-type {\n        vertical-align: middle;\n    }\n\n    .dataframe tbody tr th {\n        vertical-align: top;\n    }\n\n    .dataframe thead th {\n        text-align: right;\n    }\n</style>\n<table border=\"1\" class=\"dataframe\">\n  <thead>\n    <tr style=\"text-align: right;\">\n      <th></th>\n      <th>item_name</th>\n      <th>category_name</th>\n      <th>date</th>\n      <th>time</th>\n      <th>item_code</th>\n      <th>quantity_sold_kg</th>\n      <th>unit_selling_price_rmb/kg</th>\n      <th>wholesale_price_(rmb/kg)</th>\n    </tr>\n  </thead>\n  <tbody>\n    <tr>\n      <th>0</th>\n      <td>green hot peppers</td>\n      <td>capsicum</td>\n      <td>2021-01-01</td>\n      <td>09:14:26.212</td>\n      <td>102900005116226</td>\n      <td>1.132</td>\n      <td>25.8</td>\n      <td>15.21</td>\n    </tr>\n    <tr>\n      <th>1</th>\n      <td>green hot peppers</td>\n      <td>capsicum</td>\n      <td>2021-01-01</td>\n      <td>09:14:26.324</td>\n      <td>102900005116226</td>\n      <td>0.593</td>\n      <td>25.8</td>\n      <td>15.21</td>\n    </tr>\n    <tr>\n      <th>2</th>\n      <td>yunnan lettuces</td>\n      <td>flower</td>\n      <td>2021-01-01</td>\n      <td>09:16:20.074</td>\n      <td>102900005115984</td>\n      <td>0.468</td>\n      <td>6.0</td>\n      <td>3.19</td>\n    </tr>\n    <tr>\n      <th>3</th>\n      <td>xixia mushroom</td>\n      <td>mushroom</td>\n      <td>2021-01-01</td>\n      <td>09:18:49.451</td>\n      <td>102900005116530</td>\n      <td>0.389</td>\n      <td>18.0</td>\n      <td>13.00</td>\n    </tr>\n    <tr>\n      <th>4</th>\n      <td>paopaojiao</td>\n      <td>capsicum</td>\n      <td>2021-01-01</td>\n      <td>09:19:14.842</td>\n      <td>102900005117056</td>\n      <td>0.606</td>\n      <td>18.0</td>\n      <td>14.31</td>\n    </tr>\n  </tbody>\n</table>\n</div>"
     },
     "execution_count": 24,
     "metadata": {},
     "output_type": "execute_result"
    }
   ],
   "source": [
    "sales_wholesale_df = pd.merge(dataset_build, cf, on=['item_code', 'date'], how='inner')\n",
    "sales_wholesale_df.head()"
   ],
   "metadata": {
    "collapsed": false,
    "ExecuteTime": {
     "end_time": "2024-03-31T10:11:29.480052Z",
     "start_time": "2024-03-31T10:11:29.388790Z"
    }
   },
   "id": "f3f1ea24fbed8e"
  },
  {
   "cell_type": "code",
   "execution_count": 25,
   "outputs": [
    {
     "data": {
      "text/plain": "item_name                    0\ncategory_name                0\ndate                         0\ntime                         0\nitem_code                    0\nquantity_sold_kg             0\nunit_selling_price_rmb/kg    0\nwholesale_price_(rmb/kg)     0\ndtype: int64"
     },
     "execution_count": 25,
     "metadata": {},
     "output_type": "execute_result"
    }
   ],
   "source": [
    "sales_wholesale_df.isnull().sum()"
   ],
   "metadata": {
    "collapsed": false,
    "ExecuteTime": {
     "end_time": "2024-03-31T10:11:30.182432Z",
     "start_time": "2024-03-31T10:11:30.139901Z"
    }
   },
   "id": "f0fc999c60789677"
  },
  {
   "cell_type": "code",
   "execution_count": 26,
   "outputs": [
    {
     "data": {
      "text/plain": "              item_name category_name        date          time  \\\n0     Green Hot Peppers      capsicum  2021-01-01  09:14:26.212   \n1     Green Hot Peppers      capsicum  2021-01-01  09:14:26.324   \n2       Yunnan Lettuces        flower  2021-01-01  09:16:20.074   \n3    Xixia Mushroom (1)      mushroom  2021-01-01  09:18:49.451   \n4  Paopaojiao (Jingpin)      capsicum  2021-01-01  09:19:14.842   \n\n         item_code  quantity_sold_kg  unit_selling_price_rmb/kg  \\\n0  102900005116226             1.132                       25.8   \n1  102900005116226             0.593                       25.8   \n2  102900005115984             0.468                        6.0   \n3  102900005116530             0.389                       18.0   \n4  102900005117056             0.606                       18.0   \n\n   wholesale_price_(rmb/kg)  loss_rate_(%)  \n0                     15.21           6.72  \n1                     15.21           6.72  \n2                      3.19          12.81  \n3                     13.00          13.82  \n4                     14.31           7.08  ",
      "text/html": "<div>\n<style scoped>\n    .dataframe tbody tr th:only-of-type {\n        vertical-align: middle;\n    }\n\n    .dataframe tbody tr th {\n        vertical-align: top;\n    }\n\n    .dataframe thead th {\n        text-align: right;\n    }\n</style>\n<table border=\"1\" class=\"dataframe\">\n  <thead>\n    <tr style=\"text-align: right;\">\n      <th></th>\n      <th>item_name</th>\n      <th>category_name</th>\n      <th>date</th>\n      <th>time</th>\n      <th>item_code</th>\n      <th>quantity_sold_kg</th>\n      <th>unit_selling_price_rmb/kg</th>\n      <th>wholesale_price_(rmb/kg)</th>\n      <th>loss_rate_(%)</th>\n    </tr>\n  </thead>\n  <tbody>\n    <tr>\n      <th>0</th>\n      <td>Green Hot Peppers</td>\n      <td>capsicum</td>\n      <td>2021-01-01</td>\n      <td>09:14:26.212</td>\n      <td>102900005116226</td>\n      <td>1.132</td>\n      <td>25.8</td>\n      <td>15.21</td>\n      <td>6.72</td>\n    </tr>\n    <tr>\n      <th>1</th>\n      <td>Green Hot Peppers</td>\n      <td>capsicum</td>\n      <td>2021-01-01</td>\n      <td>09:14:26.324</td>\n      <td>102900005116226</td>\n      <td>0.593</td>\n      <td>25.8</td>\n      <td>15.21</td>\n      <td>6.72</td>\n    </tr>\n    <tr>\n      <th>2</th>\n      <td>Yunnan Lettuces</td>\n      <td>flower</td>\n      <td>2021-01-01</td>\n      <td>09:16:20.074</td>\n      <td>102900005115984</td>\n      <td>0.468</td>\n      <td>6.0</td>\n      <td>3.19</td>\n      <td>12.81</td>\n    </tr>\n    <tr>\n      <th>3</th>\n      <td>Xixia Mushroom (1)</td>\n      <td>mushroom</td>\n      <td>2021-01-01</td>\n      <td>09:18:49.451</td>\n      <td>102900005116530</td>\n      <td>0.389</td>\n      <td>18.0</td>\n      <td>13.00</td>\n      <td>13.82</td>\n    </tr>\n    <tr>\n      <th>4</th>\n      <td>Paopaojiao (Jingpin)</td>\n      <td>capsicum</td>\n      <td>2021-01-01</td>\n      <td>09:19:14.842</td>\n      <td>102900005117056</td>\n      <td>0.606</td>\n      <td>18.0</td>\n      <td>14.31</td>\n      <td>7.08</td>\n    </tr>\n  </tbody>\n</table>\n</div>"
     },
     "execution_count": 26,
     "metadata": {},
     "output_type": "execute_result"
    }
   ],
   "source": [
    "for i in range(sales_wholesale_df.shape[0]):\n",
    "    for j in range(loss_rate_drop.shape[0]):\n",
    "        if sales_wholesale_df['item_code'].iloc[i] == loss_rate_drop['item_code'].iloc[j]:\n",
    "            sales_wholesale_df.at[i, 'item_name'] = loss_rate_drop['item_name'].iloc[j]\n",
    "            sales_wholesale_df.at[i, 'loss_rate_(%)'] = loss_rate_drop['loss_rate_(%)'].iloc[j]\n",
    "            break  # Break the inner loop once a match is found\n",
    "\n",
    "# Display the merged DataFrame 'a'\n",
    "sales_wholesale_cat_df = sales_wholesale_df\n",
    "sales_wholesale_cat_df.head()"
   ],
   "metadata": {
    "collapsed": false,
    "ExecuteTime": {
     "end_time": "2024-03-31T10:15:15.036947Z",
     "start_time": "2024-03-31T10:11:31.368232Z"
    }
   },
   "id": "c04b7a6af67041ec"
  },
  {
   "cell_type": "code",
   "execution_count": 27,
   "outputs": [
    {
     "data": {
      "text/plain": "item_name                    0\ncategory_name                0\ndate                         0\ntime                         0\nitem_code                    0\nquantity_sold_kg             0\nunit_selling_price_rmb/kg    0\nwholesale_price_(rmb/kg)     0\nloss_rate_(%)                0\ndtype: int64"
     },
     "execution_count": 27,
     "metadata": {},
     "output_type": "execute_result"
    }
   ],
   "source": [
    "sales_wholesale_cat_df.isnull().sum()"
   ],
   "metadata": {
    "collapsed": false,
    "ExecuteTime": {
     "end_time": "2024-03-31T10:15:30.668427Z",
     "start_time": "2024-03-31T10:15:30.597040Z"
    }
   },
   "id": "18b28d77d5a11619"
  },
  {
   "cell_type": "code",
   "execution_count": 28,
   "outputs": [
    {
     "data": {
      "text/plain": "              item_name category_name        date          time  \\\n0     Green Hot Peppers      capsicum  2021-01-01  09:14:26.212   \n1     Green Hot Peppers      capsicum  2021-01-01  09:14:26.324   \n2       Yunnan Lettuces        flower  2021-01-01  09:16:20.074   \n3    Xixia Mushroom (1)      mushroom  2021-01-01  09:18:49.451   \n4  Paopaojiao (Jingpin)      capsicum  2021-01-01  09:19:14.842   \n\n         item_code  quantity_sold_kg  unit_selling_price_rmb/kg  \\\n0  102900005116226             1.132                       25.8   \n1  102900005116226             0.593                       25.8   \n2  102900005115984             0.468                        6.0   \n3  102900005116530             0.389                       18.0   \n4  102900005117056             0.606                       18.0   \n\n   wholesale_price_(rmb/kg)  loss_rate_(%)  \n0                     15.21           6.72  \n1                     15.21           6.72  \n2                      3.19          12.81  \n3                     13.00          13.82  \n4                     14.31           7.08  ",
      "text/html": "<div>\n<style scoped>\n    .dataframe tbody tr th:only-of-type {\n        vertical-align: middle;\n    }\n\n    .dataframe tbody tr th {\n        vertical-align: top;\n    }\n\n    .dataframe thead th {\n        text-align: right;\n    }\n</style>\n<table border=\"1\" class=\"dataframe\">\n  <thead>\n    <tr style=\"text-align: right;\">\n      <th></th>\n      <th>item_name</th>\n      <th>category_name</th>\n      <th>date</th>\n      <th>time</th>\n      <th>item_code</th>\n      <th>quantity_sold_kg</th>\n      <th>unit_selling_price_rmb/kg</th>\n      <th>wholesale_price_(rmb/kg)</th>\n      <th>loss_rate_(%)</th>\n    </tr>\n  </thead>\n  <tbody>\n    <tr>\n      <th>0</th>\n      <td>Green Hot Peppers</td>\n      <td>capsicum</td>\n      <td>2021-01-01</td>\n      <td>09:14:26.212</td>\n      <td>102900005116226</td>\n      <td>1.132</td>\n      <td>25.8</td>\n      <td>15.21</td>\n      <td>6.72</td>\n    </tr>\n    <tr>\n      <th>1</th>\n      <td>Green Hot Peppers</td>\n      <td>capsicum</td>\n      <td>2021-01-01</td>\n      <td>09:14:26.324</td>\n      <td>102900005116226</td>\n      <td>0.593</td>\n      <td>25.8</td>\n      <td>15.21</td>\n      <td>6.72</td>\n    </tr>\n    <tr>\n      <th>2</th>\n      <td>Yunnan Lettuces</td>\n      <td>flower</td>\n      <td>2021-01-01</td>\n      <td>09:16:20.074</td>\n      <td>102900005115984</td>\n      <td>0.468</td>\n      <td>6.0</td>\n      <td>3.19</td>\n      <td>12.81</td>\n    </tr>\n    <tr>\n      <th>3</th>\n      <td>Xixia Mushroom (1)</td>\n      <td>mushroom</td>\n      <td>2021-01-01</td>\n      <td>09:18:49.451</td>\n      <td>102900005116530</td>\n      <td>0.389</td>\n      <td>18.0</td>\n      <td>13.00</td>\n      <td>13.82</td>\n    </tr>\n    <tr>\n      <th>4</th>\n      <td>Paopaojiao (Jingpin)</td>\n      <td>capsicum</td>\n      <td>2021-01-01</td>\n      <td>09:19:14.842</td>\n      <td>102900005117056</td>\n      <td>0.606</td>\n      <td>18.0</td>\n      <td>14.31</td>\n      <td>7.08</td>\n    </tr>\n  </tbody>\n</table>\n</div>"
     },
     "execution_count": 28,
     "metadata": {},
     "output_type": "execute_result"
    }
   ],
   "source": [
    "data = sales_wholesale_cat_df\n",
    "data.head()"
   ],
   "metadata": {
    "collapsed": false,
    "ExecuteTime": {
     "end_time": "2024-03-31T10:15:31.025103Z",
     "start_time": "2024-03-31T10:15:31.017990Z"
    }
   },
   "id": "c8d8334dfef96f37"
  },
  {
   "cell_type": "code",
   "execution_count": 29,
   "outputs": [
    {
     "data": {
      "text/plain": "item_name                    0\ncategory_name                0\ndate                         0\ntime                         0\nitem_code                    0\nquantity_sold_kg             0\nunit_selling_price_rmb/kg    0\nwholesale_price_(rmb/kg)     0\nloss_rate_(%)                0\ndtype: int64"
     },
     "execution_count": 29,
     "metadata": {},
     "output_type": "execute_result"
    }
   ],
   "source": [
    "data.isnull().sum()"
   ],
   "metadata": {
    "collapsed": false,
    "ExecuteTime": {
     "end_time": "2024-03-31T10:15:31.554172Z",
     "start_time": "2024-03-31T10:15:31.518071Z"
    }
   },
   "id": "866fd5677b969f72"
  },
  {
   "cell_type": "code",
   "execution_count": 30,
   "outputs": [
    {
     "data": {
      "text/plain": "                   item_name category_name        date          time  \\\n0          Green Hot Peppers      capsicum  2021-01-01  09:14:26.212   \n1          Green Hot Peppers      capsicum  2021-01-01  09:14:26.324   \n2            Yunnan Lettuces        flower  2021-01-01  09:16:20.074   \n3         Xixia Mushroom (1)      mushroom  2021-01-01  09:18:49.451   \n4       Paopaojiao (Jingpin)      capsicum  2021-01-01  09:19:14.842   \n...                      ...           ...         ...           ...   \n442969               Wawacai        flower  2022-12-31  21:15:42.594   \n442970               Wawacai        flower  2022-12-31   21:30:36.49   \n442971  Yunnan Lettuce (Bag)        flower  2022-12-31   21:32:20.42   \n442972               Wawacai        flower  2022-12-31  21:38:08.696   \n442973     Yellow Baicai (1)        flower  2022-12-31  21:38:09.004   \n\n              item_code  quantity_sold_kg  unit_selling_price_rmb/kg  \\\n0       102900005116226             1.132                       25.8   \n1       102900005116226             0.593                       25.8   \n2       102900005115984             0.468                        6.0   \n3       102900005116530             0.389                       18.0   \n4       102900005117056             0.606                       18.0   \n...                 ...               ...                        ...   \n442969  102900005118831             1.000                        3.5   \n442970  102900005118831             1.000                        2.1   \n442971  102900011030059             1.000                        2.7   \n442972  102900005118831             1.000                        3.5   \n442973  102900011035771             0.306                        9.2   \n\n        wholesale_price_(rmb/kg)  loss_rate_(%)  \n0                          15.21           6.72  \n1                          15.21           6.72  \n2                           3.19          12.81  \n3                          13.00          13.82  \n4                          14.31           7.08  \n...                          ...            ...  \n442969                      2.99           2.48  \n442970                      2.99           2.48  \n442971                      2.58           9.43  \n442972                      2.99           2.48  \n442973                      7.55           9.43  \n\n[442974 rows x 9 columns]",
      "text/html": "<div>\n<style scoped>\n    .dataframe tbody tr th:only-of-type {\n        vertical-align: middle;\n    }\n\n    .dataframe tbody tr th {\n        vertical-align: top;\n    }\n\n    .dataframe thead th {\n        text-align: right;\n    }\n</style>\n<table border=\"1\" class=\"dataframe\">\n  <thead>\n    <tr style=\"text-align: right;\">\n      <th></th>\n      <th>item_name</th>\n      <th>category_name</th>\n      <th>date</th>\n      <th>time</th>\n      <th>item_code</th>\n      <th>quantity_sold_kg</th>\n      <th>unit_selling_price_rmb/kg</th>\n      <th>wholesale_price_(rmb/kg)</th>\n      <th>loss_rate_(%)</th>\n    </tr>\n  </thead>\n  <tbody>\n    <tr>\n      <th>0</th>\n      <td>Green Hot Peppers</td>\n      <td>capsicum</td>\n      <td>2021-01-01</td>\n      <td>09:14:26.212</td>\n      <td>102900005116226</td>\n      <td>1.132</td>\n      <td>25.8</td>\n      <td>15.21</td>\n      <td>6.72</td>\n    </tr>\n    <tr>\n      <th>1</th>\n      <td>Green Hot Peppers</td>\n      <td>capsicum</td>\n      <td>2021-01-01</td>\n      <td>09:14:26.324</td>\n      <td>102900005116226</td>\n      <td>0.593</td>\n      <td>25.8</td>\n      <td>15.21</td>\n      <td>6.72</td>\n    </tr>\n    <tr>\n      <th>2</th>\n      <td>Yunnan Lettuces</td>\n      <td>flower</td>\n      <td>2021-01-01</td>\n      <td>09:16:20.074</td>\n      <td>102900005115984</td>\n      <td>0.468</td>\n      <td>6.0</td>\n      <td>3.19</td>\n      <td>12.81</td>\n    </tr>\n    <tr>\n      <th>3</th>\n      <td>Xixia Mushroom (1)</td>\n      <td>mushroom</td>\n      <td>2021-01-01</td>\n      <td>09:18:49.451</td>\n      <td>102900005116530</td>\n      <td>0.389</td>\n      <td>18.0</td>\n      <td>13.00</td>\n      <td>13.82</td>\n    </tr>\n    <tr>\n      <th>4</th>\n      <td>Paopaojiao (Jingpin)</td>\n      <td>capsicum</td>\n      <td>2021-01-01</td>\n      <td>09:19:14.842</td>\n      <td>102900005117056</td>\n      <td>0.606</td>\n      <td>18.0</td>\n      <td>14.31</td>\n      <td>7.08</td>\n    </tr>\n    <tr>\n      <th>...</th>\n      <td>...</td>\n      <td>...</td>\n      <td>...</td>\n      <td>...</td>\n      <td>...</td>\n      <td>...</td>\n      <td>...</td>\n      <td>...</td>\n      <td>...</td>\n    </tr>\n    <tr>\n      <th>442969</th>\n      <td>Wawacai</td>\n      <td>flower</td>\n      <td>2022-12-31</td>\n      <td>21:15:42.594</td>\n      <td>102900005118831</td>\n      <td>1.000</td>\n      <td>3.5</td>\n      <td>2.99</td>\n      <td>2.48</td>\n    </tr>\n    <tr>\n      <th>442970</th>\n      <td>Wawacai</td>\n      <td>flower</td>\n      <td>2022-12-31</td>\n      <td>21:30:36.49</td>\n      <td>102900005118831</td>\n      <td>1.000</td>\n      <td>2.1</td>\n      <td>2.99</td>\n      <td>2.48</td>\n    </tr>\n    <tr>\n      <th>442971</th>\n      <td>Yunnan Lettuce (Bag)</td>\n      <td>flower</td>\n      <td>2022-12-31</td>\n      <td>21:32:20.42</td>\n      <td>102900011030059</td>\n      <td>1.000</td>\n      <td>2.7</td>\n      <td>2.58</td>\n      <td>9.43</td>\n    </tr>\n    <tr>\n      <th>442972</th>\n      <td>Wawacai</td>\n      <td>flower</td>\n      <td>2022-12-31</td>\n      <td>21:38:08.696</td>\n      <td>102900005118831</td>\n      <td>1.000</td>\n      <td>3.5</td>\n      <td>2.99</td>\n      <td>2.48</td>\n    </tr>\n    <tr>\n      <th>442973</th>\n      <td>Yellow Baicai (1)</td>\n      <td>flower</td>\n      <td>2022-12-31</td>\n      <td>21:38:09.004</td>\n      <td>102900011035771</td>\n      <td>0.306</td>\n      <td>9.2</td>\n      <td>7.55</td>\n      <td>9.43</td>\n    </tr>\n  </tbody>\n</table>\n<p>442974 rows × 9 columns</p>\n</div>"
     },
     "execution_count": 30,
     "metadata": {},
     "output_type": "execute_result"
    }
   ],
   "source": [
    "data = data.drop_duplicates()\n",
    "data"
   ],
   "metadata": {
    "collapsed": false,
    "ExecuteTime": {
     "end_time": "2024-03-31T10:15:32.454191Z",
     "start_time": "2024-03-31T10:15:32.228709Z"
    }
   },
   "id": "ea61be125805b595"
  },
  {
   "cell_type": "code",
   "execution_count": 32,
   "outputs": [
    {
     "data": {
      "text/plain": "              item_name category_name        date          time  \\\n0     Green Hot Peppers      capsicum  2021-01-01  09:14:26.212   \n1     Green Hot Peppers      capsicum  2021-01-01  09:14:26.324   \n2       Yunnan Lettuces        flower  2021-01-01  09:16:20.074   \n3    Xixia Mushroom (1)      mushroom  2021-01-01  09:18:49.451   \n4  Paopaojiao (Jingpin)      capsicum  2021-01-01  09:19:14.842   \n\n         item_code  quantity_sold_kg  unit_selling_price_rmb/kg  \\\n0  102900005116226               1.1                       25.8   \n1  102900005116226               0.6                       25.8   \n2  102900005115984               0.5                        6.0   \n3  102900005116530               0.4                       18.0   \n4  102900005117056               0.6                       18.0   \n\n   wholesale_price_(rmb/kg)  loss_rate_(%)  total_sales  \n0                     15.21           6.72        28.38  \n1                     15.21           6.72        15.48  \n2                      3.19          12.81         3.00  \n3                     13.00          13.82         7.20  \n4                     14.31           7.08        10.80  ",
      "text/html": "<div>\n<style scoped>\n    .dataframe tbody tr th:only-of-type {\n        vertical-align: middle;\n    }\n\n    .dataframe tbody tr th {\n        vertical-align: top;\n    }\n\n    .dataframe thead th {\n        text-align: right;\n    }\n</style>\n<table border=\"1\" class=\"dataframe\">\n  <thead>\n    <tr style=\"text-align: right;\">\n      <th></th>\n      <th>item_name</th>\n      <th>category_name</th>\n      <th>date</th>\n      <th>time</th>\n      <th>item_code</th>\n      <th>quantity_sold_kg</th>\n      <th>unit_selling_price_rmb/kg</th>\n      <th>wholesale_price_(rmb/kg)</th>\n      <th>loss_rate_(%)</th>\n      <th>total_sales</th>\n    </tr>\n  </thead>\n  <tbody>\n    <tr>\n      <th>0</th>\n      <td>Green Hot Peppers</td>\n      <td>capsicum</td>\n      <td>2021-01-01</td>\n      <td>09:14:26.212</td>\n      <td>102900005116226</td>\n      <td>1.1</td>\n      <td>25.8</td>\n      <td>15.21</td>\n      <td>6.72</td>\n      <td>28.38</td>\n    </tr>\n    <tr>\n      <th>1</th>\n      <td>Green Hot Peppers</td>\n      <td>capsicum</td>\n      <td>2021-01-01</td>\n      <td>09:14:26.324</td>\n      <td>102900005116226</td>\n      <td>0.6</td>\n      <td>25.8</td>\n      <td>15.21</td>\n      <td>6.72</td>\n      <td>15.48</td>\n    </tr>\n    <tr>\n      <th>2</th>\n      <td>Yunnan Lettuces</td>\n      <td>flower</td>\n      <td>2021-01-01</td>\n      <td>09:16:20.074</td>\n      <td>102900005115984</td>\n      <td>0.5</td>\n      <td>6.0</td>\n      <td>3.19</td>\n      <td>12.81</td>\n      <td>3.00</td>\n    </tr>\n    <tr>\n      <th>3</th>\n      <td>Xixia Mushroom (1)</td>\n      <td>mushroom</td>\n      <td>2021-01-01</td>\n      <td>09:18:49.451</td>\n      <td>102900005116530</td>\n      <td>0.4</td>\n      <td>18.0</td>\n      <td>13.00</td>\n      <td>13.82</td>\n      <td>7.20</td>\n    </tr>\n    <tr>\n      <th>4</th>\n      <td>Paopaojiao (Jingpin)</td>\n      <td>capsicum</td>\n      <td>2021-01-01</td>\n      <td>09:19:14.842</td>\n      <td>102900005117056</td>\n      <td>0.6</td>\n      <td>18.0</td>\n      <td>14.31</td>\n      <td>7.08</td>\n      <td>10.80</td>\n    </tr>\n  </tbody>\n</table>\n</div>"
     },
     "execution_count": 32,
     "metadata": {},
     "output_type": "execute_result"
    }
   ],
   "source": [
    "#All Sales\n",
    "data['quantity_sold_kg'] = data['quantity_sold_kg'].round(1)\n",
    "data = data.assign(total_sales = data['quantity_sold_kg'] * data['unit_selling_price_rmb/kg'])\n",
    "data.head()"
   ],
   "metadata": {
    "collapsed": false,
    "ExecuteTime": {
     "end_time": "2024-03-31T10:15:41.417186Z",
     "start_time": "2024-03-31T10:15:41.357253Z"
    }
   },
   "id": "ff9c0ffdda45108"
  },
  {
   "cell_type": "code",
   "execution_count": 33,
   "outputs": [
    {
     "data": {
      "text/plain": "           date  total_sales\n0    2021-01-01      4013.16\n1    2021-01-02      3692.16\n2    2021-01-03      3471.64\n3    2021-01-04      2844.66\n4    2021-01-05      2824.72\n..          ...          ...\n716  2022-12-27      1650.60\n717  2022-12-28      1688.68\n718  2022-12-29      1720.19\n719  2022-12-30      1577.36\n720  2022-12-31      2312.21\n\n[721 rows x 2 columns]",
      "text/html": "<div>\n<style scoped>\n    .dataframe tbody tr th:only-of-type {\n        vertical-align: middle;\n    }\n\n    .dataframe tbody tr th {\n        vertical-align: top;\n    }\n\n    .dataframe thead th {\n        text-align: right;\n    }\n</style>\n<table border=\"1\" class=\"dataframe\">\n  <thead>\n    <tr style=\"text-align: right;\">\n      <th></th>\n      <th>date</th>\n      <th>total_sales</th>\n    </tr>\n  </thead>\n  <tbody>\n    <tr>\n      <th>0</th>\n      <td>2021-01-01</td>\n      <td>4013.16</td>\n    </tr>\n    <tr>\n      <th>1</th>\n      <td>2021-01-02</td>\n      <td>3692.16</td>\n    </tr>\n    <tr>\n      <th>2</th>\n      <td>2021-01-03</td>\n      <td>3471.64</td>\n    </tr>\n    <tr>\n      <th>3</th>\n      <td>2021-01-04</td>\n      <td>2844.66</td>\n    </tr>\n    <tr>\n      <th>4</th>\n      <td>2021-01-05</td>\n      <td>2824.72</td>\n    </tr>\n    <tr>\n      <th>...</th>\n      <td>...</td>\n      <td>...</td>\n    </tr>\n    <tr>\n      <th>716</th>\n      <td>2022-12-27</td>\n      <td>1650.60</td>\n    </tr>\n    <tr>\n      <th>717</th>\n      <td>2022-12-28</td>\n      <td>1688.68</td>\n    </tr>\n    <tr>\n      <th>718</th>\n      <td>2022-12-29</td>\n      <td>1720.19</td>\n    </tr>\n    <tr>\n      <th>719</th>\n      <td>2022-12-30</td>\n      <td>1577.36</td>\n    </tr>\n    <tr>\n      <th>720</th>\n      <td>2022-12-31</td>\n      <td>2312.21</td>\n    </tr>\n  </tbody>\n</table>\n<p>721 rows × 2 columns</p>\n</div>"
     },
     "execution_count": 33,
     "metadata": {},
     "output_type": "execute_result"
    }
   ],
   "source": [
    "## total sales per day\n",
    "total_sales_per_day = data.groupby(['date'])['total_sales'].sum().reset_index()\n",
    "total_sales_per_day"
   ],
   "metadata": {
    "collapsed": false,
    "ExecuteTime": {
     "end_time": "2024-03-31T10:15:44.695578Z",
     "start_time": "2024-03-31T10:15:44.652616Z"
    }
   },
   "id": "ec1a2c0645306025"
  },
  {
   "cell_type": "code",
   "execution_count": 34,
   "outputs": [
    {
     "data": {
      "text/plain": "152"
     },
     "execution_count": 34,
     "metadata": {},
     "output_type": "execute_result"
    }
   ],
   "source": [
    "data['item_name'].nunique()"
   ],
   "metadata": {
    "collapsed": false,
    "ExecuteTime": {
     "end_time": "2024-03-31T10:15:45.854904Z",
     "start_time": "2024-03-31T10:15:45.827011Z"
    }
   },
   "id": "9572971016c7d044"
  },
  {
   "cell_type": "code",
   "execution_count": 35,
   "outputs": [
    {
     "data": {
      "text/plain": "                    item_name  Avg Selling Price\n0         7 Colour Pepper (1)          21.805952\n1     Agaricus Bisporus (Bag)           7.980000\n2                       Aihao           6.000000\n3                    Amaranth           4.814075\n4    Apricot Bao Mushroom (1)           9.478495\n..                        ...                ...\n147           Yuxingcao (Bag)           4.693388\n148   Zhijiang Qinggengsanhua           7.671782\n149         Zhijiang Red Bolt           5.284824\n150              Zhimaxiancai           6.000000\n151                  Zhuyecai           5.043070\n\n[152 rows x 2 columns]",
      "text/html": "<div>\n<style scoped>\n    .dataframe tbody tr th:only-of-type {\n        vertical-align: middle;\n    }\n\n    .dataframe tbody tr th {\n        vertical-align: top;\n    }\n\n    .dataframe thead th {\n        text-align: right;\n    }\n</style>\n<table border=\"1\" class=\"dataframe\">\n  <thead>\n    <tr style=\"text-align: right;\">\n      <th></th>\n      <th>item_name</th>\n      <th>Avg Selling Price</th>\n    </tr>\n  </thead>\n  <tbody>\n    <tr>\n      <th>0</th>\n      <td>7 Colour Pepper (1)</td>\n      <td>21.805952</td>\n    </tr>\n    <tr>\n      <th>1</th>\n      <td>Agaricus Bisporus (Bag)</td>\n      <td>7.980000</td>\n    </tr>\n    <tr>\n      <th>2</th>\n      <td>Aihao</td>\n      <td>6.000000</td>\n    </tr>\n    <tr>\n      <th>3</th>\n      <td>Amaranth</td>\n      <td>4.814075</td>\n    </tr>\n    <tr>\n      <th>4</th>\n      <td>Apricot Bao Mushroom (1)</td>\n      <td>9.478495</td>\n    </tr>\n    <tr>\n      <th>...</th>\n      <td>...</td>\n      <td>...</td>\n    </tr>\n    <tr>\n      <th>147</th>\n      <td>Yuxingcao (Bag)</td>\n      <td>4.693388</td>\n    </tr>\n    <tr>\n      <th>148</th>\n      <td>Zhijiang Qinggengsanhua</td>\n      <td>7.671782</td>\n    </tr>\n    <tr>\n      <th>149</th>\n      <td>Zhijiang Red Bolt</td>\n      <td>5.284824</td>\n    </tr>\n    <tr>\n      <th>150</th>\n      <td>Zhimaxiancai</td>\n      <td>6.000000</td>\n    </tr>\n    <tr>\n      <th>151</th>\n      <td>Zhuyecai</td>\n      <td>5.043070</td>\n    </tr>\n  </tbody>\n</table>\n<p>152 rows × 2 columns</p>\n</div>"
     },
     "execution_count": 35,
     "metadata": {},
     "output_type": "execute_result"
    }
   ],
   "source": [
    "avg_selling_price_each_item = data.groupby(['item_name'])['unit_selling_price_rmb/kg'].mean().reset_index().rename(columns = {\"unit_selling_price_rmb/kg\" : \"Avg Selling Price\"})\n",
    "avg_selling_price_each_item"
   ],
   "metadata": {
    "collapsed": false,
    "ExecuteTime": {
     "end_time": "2024-03-31T10:15:46.869673Z",
     "start_time": "2024-03-31T10:15:46.837433Z"
    }
   },
   "id": "403cfbf37d3383ec"
  },
  {
   "cell_type": "code",
   "execution_count": 36,
   "outputs": [
    {
     "data": {
      "text/plain": "  category_name  Avg Selling Price\n0       aquatic           9.417657\n1       cabbage           7.439760\n2      capsicum          11.156743\n3        flower           6.534790\n4      mushroom          15.653296\n5       solanum           8.873326",
      "text/html": "<div>\n<style scoped>\n    .dataframe tbody tr th:only-of-type {\n        vertical-align: middle;\n    }\n\n    .dataframe tbody tr th {\n        vertical-align: top;\n    }\n\n    .dataframe thead th {\n        text-align: right;\n    }\n</style>\n<table border=\"1\" class=\"dataframe\">\n  <thead>\n    <tr style=\"text-align: right;\">\n      <th></th>\n      <th>category_name</th>\n      <th>Avg Selling Price</th>\n    </tr>\n  </thead>\n  <tbody>\n    <tr>\n      <th>0</th>\n      <td>aquatic</td>\n      <td>9.417657</td>\n    </tr>\n    <tr>\n      <th>1</th>\n      <td>cabbage</td>\n      <td>7.439760</td>\n    </tr>\n    <tr>\n      <th>2</th>\n      <td>capsicum</td>\n      <td>11.156743</td>\n    </tr>\n    <tr>\n      <th>3</th>\n      <td>flower</td>\n      <td>6.534790</td>\n    </tr>\n    <tr>\n      <th>4</th>\n      <td>mushroom</td>\n      <td>15.653296</td>\n    </tr>\n    <tr>\n      <th>5</th>\n      <td>solanum</td>\n      <td>8.873326</td>\n    </tr>\n  </tbody>\n</table>\n</div>"
     },
     "execution_count": 36,
     "metadata": {},
     "output_type": "execute_result"
    }
   ],
   "source": [
    "## average selling price for each item and each category\n",
    "\n",
    "avg_selling_price_each_category = data.groupby(['category_name'])['unit_selling_price_rmb/kg'].mean().reset_index().rename(columns = {\"unit_selling_price_rmb/kg\" : \"Avg Selling Price\"})\n",
    "avg_selling_price_each_category"
   ],
   "metadata": {
    "collapsed": false,
    "ExecuteTime": {
     "end_time": "2024-03-31T10:15:47.718328Z",
     "start_time": "2024-03-31T10:15:47.679503Z"
    }
   },
   "id": "bc848e2ae068604e"
  },
  {
   "cell_type": "code",
   "execution_count": 37,
   "outputs": [
    {
     "data": {
      "text/plain": "       item_name  Avg Selling Price\n9  Black Porcini               91.6",
      "text/html": "<div>\n<style scoped>\n    .dataframe tbody tr th:only-of-type {\n        vertical-align: middle;\n    }\n\n    .dataframe tbody tr th {\n        vertical-align: top;\n    }\n\n    .dataframe thead th {\n        text-align: right;\n    }\n</style>\n<table border=\"1\" class=\"dataframe\">\n  <thead>\n    <tr style=\"text-align: right;\">\n      <th></th>\n      <th>item_name</th>\n      <th>Avg Selling Price</th>\n    </tr>\n  </thead>\n  <tbody>\n    <tr>\n      <th>9</th>\n      <td>Black Porcini</td>\n      <td>91.6</td>\n    </tr>\n  </tbody>\n</table>\n</div>"
     },
     "execution_count": 37,
     "metadata": {},
     "output_type": "execute_result"
    }
   ],
   "source": [
    "top_selling_item = avg_selling_price_each_item.nlargest(1, 'Avg Selling Price')\n",
    "top_selling_item"
   ],
   "metadata": {
    "collapsed": false,
    "ExecuteTime": {
     "end_time": "2024-03-31T10:15:48.412012Z",
     "start_time": "2024-03-31T10:15:48.398476Z"
    }
   },
   "id": "8e5c9fd61e0b5aa7"
  },
  {
   "cell_type": "code",
   "execution_count": 38,
   "outputs": [
    {
     "data": {
      "text/plain": "              item_name category_name        date          time  \\\n0     Green Hot Peppers      capsicum  2021-01-01  09:14:26.212   \n1     Green Hot Peppers      capsicum  2021-01-01  09:14:26.324   \n2       Yunnan Lettuces        flower  2021-01-01  09:16:20.074   \n3    Xixia Mushroom (1)      mushroom  2021-01-01  09:18:49.451   \n4  Paopaojiao (Jingpin)      capsicum  2021-01-01  09:19:14.842   \n\n   quantity_sold_kg  unit_selling_price_rmb/kg  wholesale_price_(rmb/kg)  \\\n0               1.1                       25.8                     15.21   \n1               0.6                       25.8                     15.21   \n2               0.5                        6.0                      3.19   \n3               0.4                       18.0                     13.00   \n4               0.6                       18.0                     14.31   \n\n   loss_rate_(%)  total_sales  \n0           6.72        28.38  \n1           6.72        15.48  \n2          12.81         3.00  \n3          13.82         7.20  \n4           7.08        10.80  ",
      "text/html": "<div>\n<style scoped>\n    .dataframe tbody tr th:only-of-type {\n        vertical-align: middle;\n    }\n\n    .dataframe tbody tr th {\n        vertical-align: top;\n    }\n\n    .dataframe thead th {\n        text-align: right;\n    }\n</style>\n<table border=\"1\" class=\"dataframe\">\n  <thead>\n    <tr style=\"text-align: right;\">\n      <th></th>\n      <th>item_name</th>\n      <th>category_name</th>\n      <th>date</th>\n      <th>time</th>\n      <th>quantity_sold_kg</th>\n      <th>unit_selling_price_rmb/kg</th>\n      <th>wholesale_price_(rmb/kg)</th>\n      <th>loss_rate_(%)</th>\n      <th>total_sales</th>\n    </tr>\n  </thead>\n  <tbody>\n    <tr>\n      <th>0</th>\n      <td>Green Hot Peppers</td>\n      <td>capsicum</td>\n      <td>2021-01-01</td>\n      <td>09:14:26.212</td>\n      <td>1.1</td>\n      <td>25.8</td>\n      <td>15.21</td>\n      <td>6.72</td>\n      <td>28.38</td>\n    </tr>\n    <tr>\n      <th>1</th>\n      <td>Green Hot Peppers</td>\n      <td>capsicum</td>\n      <td>2021-01-01</td>\n      <td>09:14:26.324</td>\n      <td>0.6</td>\n      <td>25.8</td>\n      <td>15.21</td>\n      <td>6.72</td>\n      <td>15.48</td>\n    </tr>\n    <tr>\n      <th>2</th>\n      <td>Yunnan Lettuces</td>\n      <td>flower</td>\n      <td>2021-01-01</td>\n      <td>09:16:20.074</td>\n      <td>0.5</td>\n      <td>6.0</td>\n      <td>3.19</td>\n      <td>12.81</td>\n      <td>3.00</td>\n    </tr>\n    <tr>\n      <th>3</th>\n      <td>Xixia Mushroom (1)</td>\n      <td>mushroom</td>\n      <td>2021-01-01</td>\n      <td>09:18:49.451</td>\n      <td>0.4</td>\n      <td>18.0</td>\n      <td>13.00</td>\n      <td>13.82</td>\n      <td>7.20</td>\n    </tr>\n    <tr>\n      <th>4</th>\n      <td>Paopaojiao (Jingpin)</td>\n      <td>capsicum</td>\n      <td>2021-01-01</td>\n      <td>09:19:14.842</td>\n      <td>0.6</td>\n      <td>18.0</td>\n      <td>14.31</td>\n      <td>7.08</td>\n      <td>10.80</td>\n    </tr>\n  </tbody>\n</table>\n</div>"
     },
     "execution_count": 38,
     "metadata": {},
     "output_type": "execute_result"
    }
   ],
   "source": [
    "# Drop unnecessary columns (if any)\n",
    "columns_to_drop = ['item_code']\n",
    "data = data.drop(columns=columns_to_drop)\n",
    "data.head()"
   ],
   "metadata": {
    "collapsed": false,
    "ExecuteTime": {
     "end_time": "2024-03-31T10:15:49.117092Z",
     "start_time": "2024-03-31T10:15:49.078217Z"
    }
   },
   "id": "64e6fe157e4db10d"
  },
  {
   "cell_type": "code",
   "execution_count": 39,
   "outputs": [
    {
     "data": {
      "text/plain": "item_name                    0\ncategory_name                0\ndate                         0\ntime                         0\nquantity_sold_kg             0\nunit_selling_price_rmb/kg    0\nwholesale_price_(rmb/kg)     0\nloss_rate_(%)                0\ntotal_sales                  0\ndtype: int64"
     },
     "execution_count": 39,
     "metadata": {},
     "output_type": "execute_result"
    }
   ],
   "source": [
    "data.isnull().sum()"
   ],
   "metadata": {
    "collapsed": false,
    "ExecuteTime": {
     "end_time": "2024-03-31T10:15:50.650033Z",
     "start_time": "2024-03-31T10:15:50.579682Z"
    }
   },
   "id": "ca44eb7981c33109"
  },
  {
   "cell_type": "code",
   "execution_count": 40,
   "outputs": [
    {
     "name": "stdout",
     "output_type": "stream",
     "text": [
      "Index(['item_name', 'category_name', 'date', 'time', 'quantity_sold_kg',\n",
      "       'unit_selling_price_rmb/kg', 'wholesale_price_(rmb/kg)',\n",
      "       'loss_rate_(%)', 'total_sales'],\n",
      "      dtype='object')\n"
     ]
    }
   ],
   "source": [
    "print(data.columns)"
   ],
   "metadata": {
    "collapsed": false,
    "ExecuteTime": {
     "end_time": "2024-03-31T10:15:51.052790Z",
     "start_time": "2024-03-31T10:15:51.050007Z"
    }
   },
   "id": "37c2bc32d70d782c"
  },
  {
   "cell_type": "code",
   "execution_count": 41,
   "outputs": [
    {
     "data": {
      "text/plain": "        date  Year  Month          time category_name             item_name  \\\n0 2021-01-01  2021      1  09:14:26.212      capsicum     Green Hot Peppers   \n1 2021-01-01  2021      1  09:14:26.324      capsicum     Green Hot Peppers   \n2 2021-01-01  2021      1  09:16:20.074        flower       Yunnan Lettuces   \n3 2021-01-01  2021      1  09:18:49.451      mushroom    Xixia Mushroom (1)   \n4 2021-01-01  2021      1  09:19:14.842      capsicum  Paopaojiao (Jingpin)   \n\n   quantity_sold_kg  unit_selling_price_rmb/kg  wholesale_price_(rmb/kg)  \\\n0               1.1                       25.8                     15.21   \n1               0.6                       25.8                     15.21   \n2               0.5                        6.0                      3.19   \n3               0.4                       18.0                     13.00   \n4               0.6                       18.0                     14.31   \n\n   loss_rate_(%)  total_sales  sale_or_return  discount  \n0           6.72        28.38             NaN       NaN  \n1           6.72        15.48             NaN       NaN  \n2          12.81         3.00             NaN       NaN  \n3          13.82         7.20             NaN       NaN  \n4           7.08        10.80             NaN       NaN  ",
      "text/html": "<div>\n<style scoped>\n    .dataframe tbody tr th:only-of-type {\n        vertical-align: middle;\n    }\n\n    .dataframe tbody tr th {\n        vertical-align: top;\n    }\n\n    .dataframe thead th {\n        text-align: right;\n    }\n</style>\n<table border=\"1\" class=\"dataframe\">\n  <thead>\n    <tr style=\"text-align: right;\">\n      <th></th>\n      <th>date</th>\n      <th>Year</th>\n      <th>Month</th>\n      <th>time</th>\n      <th>category_name</th>\n      <th>item_name</th>\n      <th>quantity_sold_kg</th>\n      <th>unit_selling_price_rmb/kg</th>\n      <th>wholesale_price_(rmb/kg)</th>\n      <th>loss_rate_(%)</th>\n      <th>total_sales</th>\n      <th>sale_or_return</th>\n      <th>discount</th>\n    </tr>\n  </thead>\n  <tbody>\n    <tr>\n      <th>0</th>\n      <td>2021-01-01</td>\n      <td>2021</td>\n      <td>1</td>\n      <td>09:14:26.212</td>\n      <td>capsicum</td>\n      <td>Green Hot Peppers</td>\n      <td>1.1</td>\n      <td>25.8</td>\n      <td>15.21</td>\n      <td>6.72</td>\n      <td>28.38</td>\n      <td>NaN</td>\n      <td>NaN</td>\n    </tr>\n    <tr>\n      <th>1</th>\n      <td>2021-01-01</td>\n      <td>2021</td>\n      <td>1</td>\n      <td>09:14:26.324</td>\n      <td>capsicum</td>\n      <td>Green Hot Peppers</td>\n      <td>0.6</td>\n      <td>25.8</td>\n      <td>15.21</td>\n      <td>6.72</td>\n      <td>15.48</td>\n      <td>NaN</td>\n      <td>NaN</td>\n    </tr>\n    <tr>\n      <th>2</th>\n      <td>2021-01-01</td>\n      <td>2021</td>\n      <td>1</td>\n      <td>09:16:20.074</td>\n      <td>flower</td>\n      <td>Yunnan Lettuces</td>\n      <td>0.5</td>\n      <td>6.0</td>\n      <td>3.19</td>\n      <td>12.81</td>\n      <td>3.00</td>\n      <td>NaN</td>\n      <td>NaN</td>\n    </tr>\n    <tr>\n      <th>3</th>\n      <td>2021-01-01</td>\n      <td>2021</td>\n      <td>1</td>\n      <td>09:18:49.451</td>\n      <td>mushroom</td>\n      <td>Xixia Mushroom (1)</td>\n      <td>0.4</td>\n      <td>18.0</td>\n      <td>13.00</td>\n      <td>13.82</td>\n      <td>7.20</td>\n      <td>NaN</td>\n      <td>NaN</td>\n    </tr>\n    <tr>\n      <th>4</th>\n      <td>2021-01-01</td>\n      <td>2021</td>\n      <td>1</td>\n      <td>09:19:14.842</td>\n      <td>capsicum</td>\n      <td>Paopaojiao (Jingpin)</td>\n      <td>0.6</td>\n      <td>18.0</td>\n      <td>14.31</td>\n      <td>7.08</td>\n      <td>10.80</td>\n      <td>NaN</td>\n      <td>NaN</td>\n    </tr>\n  </tbody>\n</table>\n</div>"
     },
     "execution_count": 41,
     "metadata": {},
     "output_type": "execute_result"
    }
   ],
   "source": [
    "import pandas as pd\n",
    "\n",
    "# Assuming 'filtered_data' is your preprocessed dataset\n",
    "data['date'] = pd.to_datetime(data['date'])\n",
    "data['Month'] = data['date'].dt.month\n",
    "data['Year'] = data['date'].dt.year\n",
    "\n",
    "# Aggregate data based on month and year\n",
    "monthly_data = data.groupby(['Year', 'Month']).agg({\n",
    "    'quantity_sold_kg': 'sum',\n",
    "    'loss_rate_(%)': 'mean',\n",
    "    'total_sales': 'sum'\n",
    "}).reset_index()\n",
    "\n",
    "desired_column_order = [\n",
    "    'date', \n",
    "    'Year', \n",
    "    'Month',\n",
    "    'time', \n",
    "    'category_name', \n",
    "    'item_name', \n",
    "    'quantity_sold_kg', \n",
    "    'unit_selling_price_rmb/kg', \n",
    "    'wholesale_price_(rmb/kg)', \n",
    "    'loss_rate_(%)', \n",
    "    'total_sales', \n",
    "    'sale_or_return', \n",
    "    'discount'\n",
    "    # Add any other columns you want at the end\n",
    "]\n",
    "# Reorder the columns of merged_data based on the desired_column_order\n",
    "data = data.reindex(columns=desired_column_order)\n",
    "\n",
    "# Display the DataFrame with the reordered columns\n",
    "data.head()"
   ],
   "metadata": {
    "collapsed": false,
    "ExecuteTime": {
     "end_time": "2024-03-31T10:15:51.697316Z",
     "start_time": "2024-03-31T10:15:51.612725Z"
    }
   },
   "id": "a80bf0bf3f196af"
  },
  {
   "cell_type": "code",
   "execution_count": 42,
   "outputs": [
    {
     "data": {
      "text/plain": "   Month category_name             item_name  quantity_sold_kg  \\\n0      1      capsicum     Green Hot Peppers               1.1   \n1      1      capsicum     Green Hot Peppers               0.6   \n2      1        flower       Yunnan Lettuces               0.5   \n3      1      mushroom    Xixia Mushroom (1)               0.4   \n4      1      capsicum  Paopaojiao (Jingpin)               0.6   \n\n   unit_selling_price_rmb/kg  wholesale_price_(rmb/kg)  loss_rate_(%)  \\\n0                       25.8                     15.21           6.72   \n1                       25.8                     15.21           6.72   \n2                        6.0                      3.19          12.81   \n3                       18.0                     13.00          13.82   \n4                       18.0                     14.31           7.08   \n\n   total_sales  sale_or_return  discount  \n0        28.38             NaN       NaN  \n1        15.48             NaN       NaN  \n2         3.00             NaN       NaN  \n3         7.20             NaN       NaN  \n4        10.80             NaN       NaN  ",
      "text/html": "<div>\n<style scoped>\n    .dataframe tbody tr th:only-of-type {\n        vertical-align: middle;\n    }\n\n    .dataframe tbody tr th {\n        vertical-align: top;\n    }\n\n    .dataframe thead th {\n        text-align: right;\n    }\n</style>\n<table border=\"1\" class=\"dataframe\">\n  <thead>\n    <tr style=\"text-align: right;\">\n      <th></th>\n      <th>Month</th>\n      <th>category_name</th>\n      <th>item_name</th>\n      <th>quantity_sold_kg</th>\n      <th>unit_selling_price_rmb/kg</th>\n      <th>wholesale_price_(rmb/kg)</th>\n      <th>loss_rate_(%)</th>\n      <th>total_sales</th>\n      <th>sale_or_return</th>\n      <th>discount</th>\n    </tr>\n  </thead>\n  <tbody>\n    <tr>\n      <th>0</th>\n      <td>1</td>\n      <td>capsicum</td>\n      <td>Green Hot Peppers</td>\n      <td>1.1</td>\n      <td>25.8</td>\n      <td>15.21</td>\n      <td>6.72</td>\n      <td>28.38</td>\n      <td>NaN</td>\n      <td>NaN</td>\n    </tr>\n    <tr>\n      <th>1</th>\n      <td>1</td>\n      <td>capsicum</td>\n      <td>Green Hot Peppers</td>\n      <td>0.6</td>\n      <td>25.8</td>\n      <td>15.21</td>\n      <td>6.72</td>\n      <td>15.48</td>\n      <td>NaN</td>\n      <td>NaN</td>\n    </tr>\n    <tr>\n      <th>2</th>\n      <td>1</td>\n      <td>flower</td>\n      <td>Yunnan Lettuces</td>\n      <td>0.5</td>\n      <td>6.0</td>\n      <td>3.19</td>\n      <td>12.81</td>\n      <td>3.00</td>\n      <td>NaN</td>\n      <td>NaN</td>\n    </tr>\n    <tr>\n      <th>3</th>\n      <td>1</td>\n      <td>mushroom</td>\n      <td>Xixia Mushroom (1)</td>\n      <td>0.4</td>\n      <td>18.0</td>\n      <td>13.00</td>\n      <td>13.82</td>\n      <td>7.20</td>\n      <td>NaN</td>\n      <td>NaN</td>\n    </tr>\n    <tr>\n      <th>4</th>\n      <td>1</td>\n      <td>capsicum</td>\n      <td>Paopaojiao (Jingpin)</td>\n      <td>0.6</td>\n      <td>18.0</td>\n      <td>14.31</td>\n      <td>7.08</td>\n      <td>10.80</td>\n      <td>NaN</td>\n      <td>NaN</td>\n    </tr>\n  </tbody>\n</table>\n</div>"
     },
     "execution_count": 42,
     "metadata": {},
     "output_type": "execute_result"
    }
   ],
   "source": [
    "# Drop unnecessary columns (if any)\n",
    "columns_to_drops = ['Year', 'date', 'time']\n",
    "data = data.drop(columns=columns_to_drops)\n",
    "data.head()"
   ],
   "metadata": {
    "collapsed": false,
    "ExecuteTime": {
     "end_time": "2024-03-31T10:15:52.721460Z",
     "start_time": "2024-03-31T10:15:52.677001Z"
    }
   },
   "id": "73fced34c5417a12"
  },
  {
   "cell_type": "code",
   "execution_count": 43,
   "outputs": [
    {
     "data": {
      "text/plain": "Month                             0\ncategory_name                     0\nitem_name                         0\nquantity_sold_kg                  0\nunit_selling_price_rmb/kg         0\nwholesale_price_(rmb/kg)          0\nloss_rate_(%)                     0\ntotal_sales                       0\nsale_or_return               442974\ndiscount                     442974\ndtype: int64"
     },
     "execution_count": 43,
     "metadata": {},
     "output_type": "execute_result"
    }
   ],
   "source": [
    "data.isnull().sum()"
   ],
   "metadata": {
    "collapsed": false,
    "ExecuteTime": {
     "end_time": "2024-03-31T10:15:53.982917Z",
     "start_time": "2024-03-31T10:15:53.947977Z"
    }
   },
   "id": "d1bc3a45bfbb5a8f"
  },
  {
   "cell_type": "markdown",
   "source": [
    "Check Outliers and Outlier Handling"
   ],
   "metadata": {
    "collapsed": false
   },
   "id": "d1c39abb97e41f59"
  },
  {
   "cell_type": "code",
   "execution_count": 44,
   "outputs": [
    {
     "data": {
      "text/plain": "<Figure size 800x600 with 1 Axes>",
      "image/png": "[encoded data removed]"
     },
     "metadata": {},
     "output_type": "display_data"
    }
   ],
   "source": [
    "import pandas as pd\n",
    "import seaborn as sns\n",
    "import matplotlib.pyplot as plt\n",
    "\n",
    "# Generate a boxplot specifically for the 'Quantity Sold (kilo)' column\n",
    "plt.figure(figsize=(8, 6))  # Set the figure size\n",
    "sns.boxplot(x=data['quantity_sold_kg'])  # Create the boxplot using seaborn\n",
    "plt.title('Boxplot for Quantity Sold (kilo)')  # Set the title of the plot\n",
    "plt.xlabel('Quantity Sold (kilo)')  # Set the label for the x-axis\n",
    "plt.show()  # Display the plot\n"
   ],
   "metadata": {
    "collapsed": false,
    "ExecuteTime": {
     "end_time": "2024-03-31T10:15:55.938201Z",
     "start_time": "2024-03-31T10:15:55.521150Z"
    }
   },
   "id": "e17629ecc826dbf7"
  },
  {
   "cell_type": "code",
   "execution_count": 45,
   "outputs": [],
   "source": [
    "import numpy as np\n",
    "# Calculate Q1 (25th percentile) and Q3 (75th percentile) for 'Quantity Sold (kilo)'\n",
    "Q1 = data['quantity_sold_kg'].quantile(0.25)\n",
    "Q3 = data['quantity_sold_kg'].quantile(0.75)\n",
    "\n",
    "# Calculate IQR (Interquartile Range)\n",
    "IQR = Q3 - Q1\n",
    "\n",
    "# Define the lower and upper bounds to identify outliers\n",
    "lower_bound = Q1 - 1.5 * IQR\n",
    "upper_bound = Q3 + 1.5 * IQR\n",
    "# Identify outliers\n",
    "outliers = (data['quantity_sold_kg'] < lower_bound) | (data['quantity_sold_kg'] > upper_bound)\n",
    "\n",
    "# Calculate the mean excluding outliers\n",
    "mean_without_outliers = np.mean(data.loc[~outliers, 'quantity_sold_kg'])\n",
    "\n",
    "# Replace outliers with the mean excluding outliers\n",
    "data.loc[outliers, 'quantity_sold_kg'] = mean_without_outliers\n",
    "\n",
    "# Filter out rows where 'Quantity Sold (kilo)' is outside the bounds\n",
    "filtered_data = data[(data['quantity_sold_kg'] >= lower_bound) & (data['quantity_sold_kg'] <= upper_bound)]"
   ],
   "metadata": {
    "collapsed": false,
    "ExecuteTime": {
     "end_time": "2024-03-31T10:15:56.803414Z",
     "start_time": "2024-03-31T10:15:56.746131Z"
    }
   },
   "id": "12fb91faacf1ff6c"
  },
  {
   "cell_type": "code",
   "execution_count": 46,
   "outputs": [
    {
     "data": {
      "text/plain": "<Figure size 800x600 with 1 Axes>",
      "image/png": "[encoded data removed]"
     },
     "metadata": {},
     "output_type": "display_data"
    }
   ],
   "source": [
    "plt.figure(figsize=(8, 6))  # Set the figure size\n",
    "sns.boxplot(x=filtered_data['quantity_sold_kg'])  # Create the boxplot using seaborn\n",
    "plt.title('Boxplot for Quantity Sold (kilo)')  # Set the title of the plot\n",
    "plt.xlabel('quantity_sold_kg')  # Set the label for the x-axis\n",
    "plt.show()"
   ],
   "metadata": {
    "collapsed": false,
    "ExecuteTime": {
     "end_time": "2024-03-31T10:15:58.121006Z",
     "start_time": "2024-03-31T10:15:57.450982Z"
    }
   },
   "id": "76fd39ba7ba078f0"
  },
  {
   "cell_type": "code",
   "execution_count": 47,
   "outputs": [
    {
     "data": {
      "text/plain": "<Figure size 800x600 with 1 Axes>",
      "image/png": "[encoded data removed]"
     },
     "metadata": {},
     "output_type": "display_data"
    }
   ],
   "source": [
    "# Generate a boxplot specifically for the 'Unit Selling Price (RMB/kg)' column\n",
    "plt.figure(figsize=(8, 6))  # Set the figure size\n",
    "sns.boxplot(x=filtered_data['unit_selling_price_rmb/kg'])  # Create the boxplot using seaborn\n",
    "plt.title('Boxplot for Unit Selling Price (RMB/kg)')  # Set the title of the plot\n",
    "plt.xlabel('unit_selling_price_rmb/kg)')  # Set the label for the x-axis\n",
    "plt.show()  # Display the plot"
   ],
   "metadata": {
    "collapsed": false,
    "ExecuteTime": {
     "end_time": "2024-03-31T10:15:58.877596Z",
     "start_time": "2024-03-31T10:15:58.292770Z"
    }
   },
   "id": "ea50564f7d5c6f6f"
  },
  {
   "cell_type": "code",
   "execution_count": 48,
   "outputs": [
    {
     "data": {
      "text/plain": "<Figure size 800x600 with 1 Axes>",
      "image/png": "[encoded data removed]"
     },
     "metadata": {},
     "output_type": "display_data"
    }
   ],
   "source": [
    "# Calculate Q1 (25th percentile) and Q3 (75th percentile) for 'Unit Selling Price (RMB/kg)'\n",
    "Q1 = filtered_data['unit_selling_price_rmb/kg'].quantile(0.25)\n",
    "Q3 = filtered_data['unit_selling_price_rmb/kg'].quantile(0.75)\n",
    "\n",
    "# Calculate IQR (Interquartile Range)\n",
    "IQR = Q3 - Q1\n",
    "\n",
    "# Define the lower and upper bounds to identify outliers\n",
    "lower_bound = Q1 - 1.5 * IQR\n",
    "upper_bound = Q3 + 1.5 * IQR\n",
    "# Identify outliers\n",
    "outliers = (data['unit_selling_price_rmb/kg'] < lower_bound) | (data['unit_selling_price_rmb/kg'] > upper_bound)\n",
    "\n",
    "# Replace outliers with the mean value without considering outliers in the mean calculation\n",
    "mean_without_outliers = np.mean(data.loc[~outliers, 'unit_selling_price_rmb/kg'])\n",
    "data.loc[outliers, 'unit_selling_price_rmb/kg'] = mean_without_outliers\n",
    "\n",
    "# Filter out rows where 'Unit Selling Price (RMB/kg)' is outside the bounds\n",
    "filtered_data = data[(data['unit_selling_price_rmb/kg'] >= lower_bound) & (data['unit_selling_price_rmb/kg'] <= upper_bound)]\n",
    "\n",
    "plt.figure(figsize=(8, 6))  # Set the figure size\n",
    "sns.boxplot(x=filtered_data['unit_selling_price_rmb/kg'])  # Create the boxplot using seaborn\n",
    "plt.title('Boxplot for Unit Selling Price (RMB/kg)')  # Set the title of the plot\n",
    "plt.xlabel('unit_selling_price_rmb/kg')  # Set the label for the x-axis\n",
    "plt.show()\n"
   ],
   "metadata": {
    "collapsed": false,
    "ExecuteTime": {
     "end_time": "2024-03-31T10:15:59.605545Z",
     "start_time": "2024-03-31T10:15:58.879936Z"
    }
   },
   "id": "372f2856bcb2ff42"
  },
  {
   "cell_type": "code",
   "execution_count": 49,
   "outputs": [
    {
     "data": {
      "text/plain": "<Figure size 800x600 with 1 Axes>",
      "image/png": "[encoded data removed]"
     },
     "metadata": {},
     "output_type": "display_data"
    }
   ],
   "source": [
    "# Generate a boxplot specifically for the 'Wholesale Price (RMB/kg)' column\n",
    "plt.figure(figsize=(8, 6))  # Set the figure size\n",
    "sns.boxplot(x=filtered_data['wholesale_price_(rmb/kg)'])  # Create the boxplot using seaborn\n",
    "plt.title('Boxplot for Wholesale Price (RMB/kg)')  # Set the title of the plot\n",
    "plt.xlabel('wholesale_price_(rmb/kg)')  # Set the label for the x-axis\n",
    "plt.show()  # Display the plot"
   ],
   "metadata": {
    "collapsed": false,
    "ExecuteTime": {
     "end_time": "2024-03-31T10:16:00.189019Z",
     "start_time": "2024-03-31T10:15:59.607578Z"
    }
   },
   "id": "cad1eb0d4a054348"
  },
  {
   "cell_type": "code",
   "execution_count": 50,
   "outputs": [
    {
     "data": {
      "text/plain": "<Figure size 800x600 with 1 Axes>",
      "image/png": "[encoded data removed]"
     },
     "metadata": {},
     "output_type": "display_data"
    }
   ],
   "source": [
    "# Calculate Q1 (25th percentile) and Q3 (75th percentile) for 'Wholesale Price (RMB/kg)'\n",
    "Q1 = filtered_data['wholesale_price_(rmb/kg)'].quantile(0.25)\n",
    "Q3 = filtered_data['wholesale_price_(rmb/kg)'].quantile(0.75)\n",
    "\n",
    "# Calculate IQR (Interquartile Range)\n",
    "IQR = Q3 - Q1\n",
    "\n",
    "# Define the lower and upper bounds to identify outliers\n",
    "lower_bound = Q1 - 1.5 * IQR\n",
    "upper_bound = Q3 + 1.5 * IQR\n",
    "# Identify outliers\n",
    "outliers = (data['wholesale_price_(rmb/kg)'] < lower_bound) | (data['wholesale_price_(rmb/kg)'] > upper_bound)\n",
    "\n",
    "# Replace outliers with the mean value without considering outliers in the mean calculation\n",
    "mean_without_outliers = np.mean(data.loc[~outliers, 'wholesale_price_(rmb/kg)'])\n",
    "data.loc[outliers, 'wholesale_price_(rmb/kg)'] = mean_without_outliers\n",
    "\n",
    "# Filter out rows where 'Wholesale Price (RMB/kg)' is outside the bounds\n",
    "filtered_data = data[(data['wholesale_price_(rmb/kg)'] >= lower_bound) & (data['wholesale_price_(rmb/kg)'] <= upper_bound)]\n",
    "\n",
    "plt.figure(figsize=(8, 6))  # Set the figure size\n",
    "sns.boxplot(x=filtered_data['wholesale_price_(rmb/kg)'])  # Create the boxplot using seaborn\n",
    "plt.title('Boxplot for Wholesale Price (RMB/kg)')  # Set the title of the plot\n",
    "plt.xlabel('wholesale_price_(rmb/kg)')  # Set the label for the x-axis\n",
    "plt.show()"
   ],
   "metadata": {
    "collapsed": false,
    "ExecuteTime": {
     "end_time": "2024-03-31T10:16:00.938445Z",
     "start_time": "2024-03-31T10:16:00.252449Z"
    }
   },
   "id": "78a543aa269761e7"
  },
  {
   "cell_type": "code",
   "execution_count": 51,
   "outputs": [
    {
     "data": {
      "text/plain": "   Month category_name             item_name  quantity_sold_kg  \\\n0      1      capsicum     Green Hot Peppers          0.450737   \n1      1      capsicum     Green Hot Peppers          0.600000   \n2      1        flower       Yunnan Lettuces          0.500000   \n3      1      mushroom    Xixia Mushroom (1)          0.400000   \n4      1      capsicum  Paopaojiao (Jingpin)          0.600000   \n\n   unit_selling_price_rmb/kg  wholesale_price_(rmb/kg)  loss_rate_(%)  \\\n0                   8.478437                  5.238012           6.72   \n1                   8.478437                  5.238012           6.72   \n2                   6.000000                  3.190000          12.81   \n3                  18.000000                 13.000000          13.82   \n4                  18.000000                  5.238012           7.08   \n\n   total_sales  sale_or_return  discount  \n0        28.38             NaN       NaN  \n1        15.48             NaN       NaN  \n2         3.00             NaN       NaN  \n3         7.20             NaN       NaN  \n4        10.80             NaN       NaN  ",
      "text/html": "<div>\n<style scoped>\n    .dataframe tbody tr th:only-of-type {\n        vertical-align: middle;\n    }\n\n    .dataframe tbody tr th {\n        vertical-align: top;\n    }\n\n    .dataframe thead th {\n        text-align: right;\n    }\n</style>\n<table border=\"1\" class=\"dataframe\">\n  <thead>\n    <tr style=\"text-align: right;\">\n      <th></th>\n      <th>Month</th>\n      <th>category_name</th>\n      <th>item_name</th>\n      <th>quantity_sold_kg</th>\n      <th>unit_selling_price_rmb/kg</th>\n      <th>wholesale_price_(rmb/kg)</th>\n      <th>loss_rate_(%)</th>\n      <th>total_sales</th>\n      <th>sale_or_return</th>\n      <th>discount</th>\n    </tr>\n  </thead>\n  <tbody>\n    <tr>\n      <th>0</th>\n      <td>1</td>\n      <td>capsicum</td>\n      <td>Green Hot Peppers</td>\n      <td>0.450737</td>\n      <td>8.478437</td>\n      <td>5.238012</td>\n      <td>6.72</td>\n      <td>28.38</td>\n      <td>NaN</td>\n      <td>NaN</td>\n    </tr>\n    <tr>\n      <th>1</th>\n      <td>1</td>\n      <td>capsicum</td>\n      <td>Green Hot Peppers</td>\n      <td>0.600000</td>\n      <td>8.478437</td>\n      <td>5.238012</td>\n      <td>6.72</td>\n      <td>15.48</td>\n      <td>NaN</td>\n      <td>NaN</td>\n    </tr>\n    <tr>\n      <th>2</th>\n      <td>1</td>\n      <td>flower</td>\n      <td>Yunnan Lettuces</td>\n      <td>0.500000</td>\n      <td>6.000000</td>\n      <td>3.190000</td>\n      <td>12.81</td>\n      <td>3.00</td>\n      <td>NaN</td>\n      <td>NaN</td>\n    </tr>\n    <tr>\n      <th>3</th>\n      <td>1</td>\n      <td>mushroom</td>\n      <td>Xixia Mushroom (1)</td>\n      <td>0.400000</td>\n      <td>18.000000</td>\n      <td>13.000000</td>\n      <td>13.82</td>\n      <td>7.20</td>\n      <td>NaN</td>\n      <td>NaN</td>\n    </tr>\n    <tr>\n      <th>4</th>\n      <td>1</td>\n      <td>capsicum</td>\n      <td>Paopaojiao (Jingpin)</td>\n      <td>0.600000</td>\n      <td>18.000000</td>\n      <td>5.238012</td>\n      <td>7.08</td>\n      <td>10.80</td>\n      <td>NaN</td>\n      <td>NaN</td>\n    </tr>\n  </tbody>\n</table>\n</div>"
     },
     "execution_count": 51,
     "metadata": {},
     "output_type": "execute_result"
    }
   ],
   "source": [
    "filtered_data.head()"
   ],
   "metadata": {
    "collapsed": false,
    "ExecuteTime": {
     "end_time": "2024-03-31T10:16:01.056869Z",
     "start_time": "2024-03-31T10:16:01.051197Z"
    }
   },
   "id": "94b736ec18d6740c"
  },
  {
   "cell_type": "code",
   "outputs": [
    {
     "data": {
      "text/plain": "(442974, 10)"
     },
     "execution_count": 52,
     "metadata": {},
     "output_type": "execute_result"
    }
   ],
   "source": [
    "filtered_data.shape"
   ],
   "metadata": {
    "collapsed": false,
    "ExecuteTime": {
     "end_time": "2024-03-31T10:16:02.024173Z",
     "start_time": "2024-03-31T10:16:02.018083Z"
    }
   },
   "id": "1b0be00aa4951f17",
   "execution_count": 52
  },
  {
   "cell_type": "code",
   "outputs": [
    {
     "data": {
      "text/plain": "   Month category_name          item_name  unit_selling_price_rmb/kg  \\\n0      1      capsicum  Green Hot Peppers                   8.478437   \n1      1      capsicum  Green Hot Peppers                   8.478437   \n2      1        flower    Yunnan Lettuces                   6.000000   \n\n   wholesale_price_(rmb/kg)  loss_rate_(%)  total_sales  sale_or_return  \\\n0                  5.238012           6.72        28.38             NaN   \n1                  5.238012           6.72        15.48             NaN   \n2                  3.190000          12.81         3.00             NaN   \n\n   discount  \n0       NaN  \n1       NaN  \n2       NaN  ",
      "text/html": "<div>\n<style scoped>\n    .dataframe tbody tr th:only-of-type {\n        vertical-align: middle;\n    }\n\n    .dataframe tbody tr th {\n        vertical-align: top;\n    }\n\n    .dataframe thead th {\n        text-align: right;\n    }\n</style>\n<table border=\"1\" class=\"dataframe\">\n  <thead>\n    <tr style=\"text-align: right;\">\n      <th></th>\n      <th>Month</th>\n      <th>category_name</th>\n      <th>item_name</th>\n      <th>unit_selling_price_rmb/kg</th>\n      <th>wholesale_price_(rmb/kg)</th>\n      <th>loss_rate_(%)</th>\n      <th>total_sales</th>\n      <th>sale_or_return</th>\n      <th>discount</th>\n    </tr>\n  </thead>\n  <tbody>\n    <tr>\n      <th>0</th>\n      <td>1</td>\n      <td>capsicum</td>\n      <td>Green Hot Peppers</td>\n      <td>8.478437</td>\n      <td>5.238012</td>\n      <td>6.72</td>\n      <td>28.38</td>\n      <td>NaN</td>\n      <td>NaN</td>\n    </tr>\n    <tr>\n      <th>1</th>\n      <td>1</td>\n      <td>capsicum</td>\n      <td>Green Hot Peppers</td>\n      <td>8.478437</td>\n      <td>5.238012</td>\n      <td>6.72</td>\n      <td>15.48</td>\n      <td>NaN</td>\n      <td>NaN</td>\n    </tr>\n    <tr>\n      <th>2</th>\n      <td>1</td>\n      <td>flower</td>\n      <td>Yunnan Lettuces</td>\n      <td>6.000000</td>\n      <td>3.190000</td>\n      <td>12.81</td>\n      <td>3.00</td>\n      <td>NaN</td>\n      <td>NaN</td>\n    </tr>\n  </tbody>\n</table>\n</div>"
     },
     "execution_count": 53,
     "metadata": {},
     "output_type": "execute_result"
    }
   ],
   "source": [
    "filtered_data = filtered_data.drop(columns=['quantity_sold_kg'])\n",
    "filtered_data.head(3)"
   ],
   "metadata": {
    "collapsed": false,
    "ExecuteTime": {
     "end_time": "2024-03-31T10:16:14.430855Z",
     "start_time": "2024-03-31T10:16:14.399950Z"
    }
   },
   "id": "c13ef91fd9d7df1f",
   "execution_count": 53
  },
  {
   "cell_type": "code",
   "outputs": [],
   "source": [
    "filtered_data['item_name'] = filtered_data['item_name'].str.lower()\n",
    "filtered_data.rename(columns={'Month': 'month'}, inplace=True)"
   ],
   "metadata": {
    "collapsed": false,
    "ExecuteTime": {
     "end_time": "2024-03-31T10:16:16.627930Z",
     "start_time": "2024-03-31T10:16:16.562382Z"
    }
   },
   "id": "9a4343ab072ceb7a",
   "execution_count": 54
  },
  {
   "cell_type": "markdown",
   "source": [
    "Save data in a file"
   ],
   "metadata": {
    "collapsed": false
   },
   "id": "aac5da5da923196c"
  },
  {
   "cell_type": "code",
   "execution_count": 56,
   "outputs": [],
   "source": [
    "# save built dataset\n",
    "filtered_data.to_csv('datasets/cleaned_loss_rate_dataset.csv', index=False)"
   ],
   "metadata": {
    "collapsed": false,
    "ExecuteTime": {
     "end_time": "2024-03-31T10:17:15.662211Z",
     "start_time": "2024-03-31T10:17:14.496956Z"
    }
   },
   "id": "215d4e7976918bb1"
  }
 ],
 "metadata": {
  "kernelspec": {
   "display_name": "Python 3",
   "language": "python",
   "name": "python3"
  },
  "language_info": {
   "codemirror_mode": {
    "name": "ipython",
    "version": 2
   },
   "file_extension": ".py",
   "mimetype": "text/x-python",
   "name": "python",
   "nbconvert_exporter": "python",
   "pygments_lexer": "ipython2",
   "version": "2.7.6"
  }
 },
 "nbformat": 4,
 "nbformat_minor": 5
}
