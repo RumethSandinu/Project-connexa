{
 "cells": [
  {
   "cell_type": "code",
   "execution_count": 1,
   "id": "initial_id",
   "metadata": {
    "collapsed": true,
    "ExecuteTime": {
     "end_time": "2024-02-12T05:25:09.286856Z",
     "start_time": "2024-02-12T05:25:05.888502900Z"
    }
   },
   "outputs": [
    {
     "data": {
      "text/plain": "   Month category_name          item_name  quantity_sold_kg  \\\n0      1      capsicum  Green Hot Peppers          0.475929   \n1      1      capsicum  Green Hot Peppers          0.600000   \n2      1      capsicum  Green Hot Peppers          0.200000   \n3      1      capsicum  Green Hot Peppers          0.300000   \n4      1      capsicum  Green Hot Peppers          0.300000   \n\n   unit_selling_price_rmb/kg  wholesale_price_(rmb/kg)  loss_rate_(%)  \\\n0                   8.287794                  5.049097           6.72   \n1                   8.287794                  5.049097           6.72   \n2                   8.287794                  5.049097           6.72   \n3                   8.287794                  5.049097           6.72   \n4                   8.287794                  5.049097           6.72   \n\n   total_sales sale_or_return  discount  \n0        28.38           sale     False  \n1        15.48           sale     False  \n2         5.16           sale     False  \n3         7.74           sale     False  \n4         7.74           sale     False  ",
      "text/html": "<div>\n<style scoped>\n    .dataframe tbody tr th:only-of-type {\n        vertical-align: middle;\n    }\n\n    .dataframe tbody tr th {\n        vertical-align: top;\n    }\n\n    .dataframe thead th {\n        text-align: right;\n    }\n</style>\n<table border=\"1\" class=\"dataframe\">\n  <thead>\n    <tr style=\"text-align: right;\">\n      <th></th>\n      <th>Month</th>\n      <th>category_name</th>\n      <th>item_name</th>\n      <th>quantity_sold_kg</th>\n      <th>unit_selling_price_rmb/kg</th>\n      <th>wholesale_price_(rmb/kg)</th>\n      <th>loss_rate_(%)</th>\n      <th>total_sales</th>\n      <th>sale_or_return</th>\n      <th>discount</th>\n    </tr>\n  </thead>\n  <tbody>\n    <tr>\n      <th>0</th>\n      <td>1</td>\n      <td>capsicum</td>\n      <td>Green Hot Peppers</td>\n      <td>0.475929</td>\n      <td>8.287794</td>\n      <td>5.049097</td>\n      <td>6.72</td>\n      <td>28.38</td>\n      <td>sale</td>\n      <td>False</td>\n    </tr>\n    <tr>\n      <th>1</th>\n      <td>1</td>\n      <td>capsicum</td>\n      <td>Green Hot Peppers</td>\n      <td>0.600000</td>\n      <td>8.287794</td>\n      <td>5.049097</td>\n      <td>6.72</td>\n      <td>15.48</td>\n      <td>sale</td>\n      <td>False</td>\n    </tr>\n    <tr>\n      <th>2</th>\n      <td>1</td>\n      <td>capsicum</td>\n      <td>Green Hot Peppers</td>\n      <td>0.200000</td>\n      <td>8.287794</td>\n      <td>5.049097</td>\n      <td>6.72</td>\n      <td>5.16</td>\n      <td>sale</td>\n      <td>False</td>\n    </tr>\n    <tr>\n      <th>3</th>\n      <td>1</td>\n      <td>capsicum</td>\n      <td>Green Hot Peppers</td>\n      <td>0.300000</td>\n      <td>8.287794</td>\n      <td>5.049097</td>\n      <td>6.72</td>\n      <td>7.74</td>\n      <td>sale</td>\n      <td>False</td>\n    </tr>\n    <tr>\n      <th>4</th>\n      <td>1</td>\n      <td>capsicum</td>\n      <td>Green Hot Peppers</td>\n      <td>0.300000</td>\n      <td>8.287794</td>\n      <td>5.049097</td>\n      <td>6.72</td>\n      <td>7.74</td>\n      <td>sale</td>\n      <td>False</td>\n    </tr>\n  </tbody>\n</table>\n</div>"
     },
     "execution_count": 1,
     "metadata": {},
     "output_type": "execute_result"
    }
   ],
   "source": [
    "import pandas as pd\n",
    "# Read a CSV file\n",
    "data = pd.read_csv('../../datasets/cleaned_loss_rate_dataset.csv')\n",
    "# Display the dataframe\n",
    "data.head()"
   ]
  },
  {
   "cell_type": "code",
   "execution_count": 2,
   "outputs": [
    {
     "data": {
      "text/plain": "(475428, 10)"
     },
     "execution_count": 2,
     "metadata": {},
     "output_type": "execute_result"
    }
   ],
   "source": [
    "data.shape"
   ],
   "metadata": {
    "collapsed": false,
    "ExecuteTime": {
     "end_time": "2024-02-12T05:25:09.390092600Z",
     "start_time": "2024-02-12T05:25:09.284861600Z"
    }
   },
   "id": "e285e14e6304d008"
  },
  {
   "cell_type": "code",
   "execution_count": 3,
   "outputs": [],
   "source": [
    "import pandas as pd\n",
    "from sklearn.model_selection import train_test_split\n",
    "\n",
    "# Assuming 'Loss Rate (%)' is the target variable\n",
    "y = data['loss_rate_(%)']\n",
    "\n",
    "# Select features for model training\n",
    "numerical_columns = ['Month', 'quantity_sold_kg', 'unit_selling_price_rmb/kg', 'wholesale_price_(rmb/kg)', 'total_sales']\n",
    "categorical_columns = ['category_name', 'item_name', 'sale_or_return', 'discount']\n",
    "\n",
    "# Extract numerical features\n",
    "X_numerical = data[numerical_columns]\n",
    "\n",
    "# Extract categorical features\n",
    "X_categorical = data[categorical_columns]\n",
    "\n",
    "# Apply one-hot encoding using pd.get_dummies for categorical variables\n",
    "X_categorical_encoded = pd.get_dummies(X_categorical, columns=categorical_columns, drop_first=True)\n",
    "\n",
    "# Concatenate numerical and encoded categorical features\n",
    "X = pd.concat([X_numerical, X_categorical_encoded], axis=1)"
   ],
   "metadata": {
    "collapsed": false,
    "ExecuteTime": {
     "end_time": "2024-02-12T05:25:14.936274200Z",
     "start_time": "2024-02-12T05:25:09.325265300Z"
    }
   },
   "id": "716981fc2701083"
  },
  {
   "cell_type": "code",
   "execution_count": 4,
   "outputs": [],
   "source": [
    "# Split data into training and test sets (75% training, 25% testing)\n",
    "X_train, X_test, y_train, y_test = train_test_split(X, y, test_size=0.25, random_state=42)"
   ],
   "metadata": {
    "collapsed": false,
    "ExecuteTime": {
     "end_time": "2024-02-12T05:25:15.642839800Z",
     "start_time": "2024-02-12T05:25:14.940283300Z"
    }
   },
   "id": "13a1b0a77323b8af"
  },
  {
   "cell_type": "code",
   "execution_count": 5,
   "outputs": [],
   "source": [
    "# Initialize and train a linear regression model\n",
    "from sklearn.linear_model import LinearRegression\n",
    "model = LinearRegression()\n",
    "model.fit(X_train, y_train)\n",
    "# Make predictions\n",
    "y_pred = model.predict(X_test)"
   ],
   "metadata": {
    "collapsed": false,
    "ExecuteTime": {
     "end_time": "2024-02-12T05:25:28.280544900Z",
     "start_time": "2024-02-12T05:25:15.644834800Z"
    }
   },
   "id": "38745e3fc75c07ae"
  },
  {
   "cell_type": "code",
   "execution_count": 6,
   "outputs": [
    {
     "name": "stdout",
     "output_type": "stream",
     "text": [
      "Mean Absolute Error (MAE): 0.0001\n"
     ]
    }
   ],
   "source": [
    "from sklearn.metrics import mean_absolute_error\n",
    "# Calculate the Mean Absolute Error (MAE)\n",
    "mae = mean_absolute_error(y_test, y_pred)\n",
    "\n",
    "# Round the MAE to 4 decimal places\n",
    "rounded_mae = round(mae, 4)\n",
    "\n",
    "print(f\"Mean Absolute Error (MAE): {rounded_mae}\")"
   ],
   "metadata": {
    "collapsed": false,
    "ExecuteTime": {
     "end_time": "2024-02-12T05:25:28.346881200Z",
     "start_time": "2024-02-12T05:25:28.280544900Z"
    }
   },
   "id": "470464895875a002"
  },
  {
   "cell_type": "code",
   "execution_count": 7,
   "outputs": [
    {
     "name": "stdout",
     "output_type": "stream",
     "text": [
      "MAE for Lasso Regression: 3.6523\n"
     ]
    }
   ],
   "source": [
    "from sklearn.linear_model import Lasso\n",
    "lasso_model = Lasso()\n",
    "lasso_model.fit(X_train, y_train)\n",
    "lasso_predictions = lasso_model.predict(X_test)\n",
    "lasso_mae = mean_absolute_error(y_test, lasso_predictions)\n",
    "print(f\"MAE for Lasso Regression: {lasso_mae:.4f}\")"
   ],
   "metadata": {
    "collapsed": false,
    "ExecuteTime": {
     "end_time": "2024-02-12T05:25:36.046937900Z",
     "start_time": "2024-02-12T05:25:28.338902600Z"
    }
   },
   "id": "620e4928b885c068"
  },
  {
   "cell_type": "code",
   "execution_count": 8,
   "outputs": [
    {
     "name": "stdout",
     "output_type": "stream",
     "text": [
      "MAE for Decision Tree Regressor: 0.0004\n"
     ]
    }
   ],
   "source": [
    "from sklearn.tree import DecisionTreeRegressor\n",
    "dt_model = DecisionTreeRegressor()\n",
    "dt_model.fit(X_train, y_train)\n",
    "dt_predictions = dt_model.predict(X_test)\n",
    "dt_mae = mean_absolute_error(y_test, dt_predictions)\n",
    "print(f\"MAE for Decision Tree Regressor: {dt_mae:.4f}\")"
   ],
   "metadata": {
    "collapsed": false,
    "ExecuteTime": {
     "end_time": "2024-02-12T05:25:45.086351800Z",
     "start_time": "2024-02-12T05:25:36.103800700Z"
    }
   },
   "id": "6867b4c942d755e"
  },
  {
   "cell_type": "code",
   "execution_count": null,
   "outputs": [],
   "source": [
    "# Predict Loss Rate for the first 5 values in the test data\n",
    "X_test_subset = X_test.head()\n",
    "predictions = model.predict(X_test_subset)\n",
    "\n",
    "# Display the results along with Month, Item Name, Category Name, and Discount information\n",
    "result_df = pd.DataFrame({\n",
    "    'Month': data.loc[X_test_subset.index, 'Month'],  # Assuming 'Month' is the original month numbers\n",
    "    'Predicted Loss Rate (%)': predictions\n",
    "})\n",
    "result_df.head()"
   ],
   "metadata": {
    "collapsed": false,
    "ExecuteTime": {
     "end_time": "2024-02-12T05:25:50.793733600Z",
     "start_time": "2024-02-12T05:25:50.785754200Z"
    }
   },
   "id": "84db0584ad13d787"
  },
  {
   "cell_type": "code",
   "execution_count": null,
   "outputs": [],
   "source": [
    "y_test[:5]"
   ],
   "metadata": {
    "collapsed": false,
    "ExecuteTime": {
     "start_time": "2024-02-12T05:25:50.791739900Z"
    }
   },
   "id": "13b8b7c0169333b7"
  },
  {
   "cell_type": "code",
   "execution_count": null,
   "outputs": [],
   "source": [
    "predictions[:5]"
   ],
   "metadata": {
    "collapsed": false,
    "ExecuteTime": {
     "end_time": "2024-02-12T05:25:50.858918900Z",
     "start_time": "2024-02-12T05:25:50.797724100Z"
    }
   },
   "id": "d817db02b460467a"
  },
  {
   "cell_type": "code",
   "execution_count": null,
   "outputs": [],
   "source": [
    "y_test.shape[0]"
   ],
   "metadata": {
    "collapsed": false,
    "ExecuteTime": {
     "start_time": "2024-02-12T05:25:50.803707100Z"
    }
   },
   "id": "9b66eea35a217205"
  },
  {
   "cell_type": "code",
   "execution_count": null,
   "outputs": [],
   "source": [
    "import pickle\n",
    "\n",
    "# save model\n",
    "with open('lossRatemodel.pickle', 'wb') as file:\n",
    "    pickle.dump(model, file)"
   ],
   "metadata": {
    "collapsed": false,
    "ExecuteTime": {
     "start_time": "2024-02-12T05:25:50.809691400Z"
    }
   },
   "id": "6f0f611eaf1c594a"
  }
 ],
 "metadata": {
  "kernelspec": {
   "display_name": "Python 3",
   "language": "python",
   "name": "python3"
  },
  "language_info": {
   "codemirror_mode": {
    "name": "ipython",
    "version": 2
   },
   "file_extension": ".py",
   "mimetype": "text/x-python",
   "name": "python",
   "nbconvert_exporter": "python",
   "pygments_lexer": "ipython2",
   "version": "2.7.6"
  }
 },
 "nbformat": 4,
 "nbformat_minor": 5
}
