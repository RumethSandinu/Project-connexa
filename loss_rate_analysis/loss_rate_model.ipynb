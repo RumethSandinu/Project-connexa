{
 "cells": [
  {
   "cell_type": "code",
   "execution_count": 10,
   "id": "initial_id",
   "metadata": {
    "collapsed": true,
    "ExecuteTime": {
     "end_time": "2024-02-12T06:28:56.829297700Z",
     "start_time": "2024-02-12T06:28:55.808960Z"
    }
   },
   "outputs": [
    {
     "data": {
      "text/plain": "   Month category_name          item_name  quantity_sold_kg  \\\n0      1      capsicum  Green Hot Peppers          0.475929   \n1      1      capsicum  Green Hot Peppers          0.600000   \n2      1      capsicum  Green Hot Peppers          0.200000   \n3      1      capsicum  Green Hot Peppers          0.300000   \n4      1      capsicum  Green Hot Peppers          0.300000   \n\n   unit_selling_price_rmb/kg  wholesale_price_(rmb/kg)  loss_rate_(%)  \\\n0                   8.287794                  5.049097           6.72   \n1                   8.287794                  5.049097           6.72   \n2                   8.287794                  5.049097           6.72   \n3                   8.287794                  5.049097           6.72   \n4                   8.287794                  5.049097           6.72   \n\n   total_sales sale_or_return  discount  \n0        28.38           sale     False  \n1        15.48           sale     False  \n2         5.16           sale     False  \n3         7.74           sale     False  \n4         7.74           sale     False  ",
      "text/html": "<div>\n<style scoped>\n    .dataframe tbody tr th:only-of-type {\n        vertical-align: middle;\n    }\n\n    .dataframe tbody tr th {\n        vertical-align: top;\n    }\n\n    .dataframe thead th {\n        text-align: right;\n    }\n</style>\n<table border=\"1\" class=\"dataframe\">\n  <thead>\n    <tr style=\"text-align: right;\">\n      <th></th>\n      <th>Month</th>\n      <th>category_name</th>\n      <th>item_name</th>\n      <th>quantity_sold_kg</th>\n      <th>unit_selling_price_rmb/kg</th>\n      <th>wholesale_price_(rmb/kg)</th>\n      <th>loss_rate_(%)</th>\n      <th>total_sales</th>\n      <th>sale_or_return</th>\n      <th>discount</th>\n    </tr>\n  </thead>\n  <tbody>\n    <tr>\n      <th>0</th>\n      <td>1</td>\n      <td>capsicum</td>\n      <td>Green Hot Peppers</td>\n      <td>0.475929</td>\n      <td>8.287794</td>\n      <td>5.049097</td>\n      <td>6.72</td>\n      <td>28.38</td>\n      <td>sale</td>\n      <td>False</td>\n    </tr>\n    <tr>\n      <th>1</th>\n      <td>1</td>\n      <td>capsicum</td>\n      <td>Green Hot Peppers</td>\n      <td>0.600000</td>\n      <td>8.287794</td>\n      <td>5.049097</td>\n      <td>6.72</td>\n      <td>15.48</td>\n      <td>sale</td>\n      <td>False</td>\n    </tr>\n    <tr>\n      <th>2</th>\n      <td>1</td>\n      <td>capsicum</td>\n      <td>Green Hot Peppers</td>\n      <td>0.200000</td>\n      <td>8.287794</td>\n      <td>5.049097</td>\n      <td>6.72</td>\n      <td>5.16</td>\n      <td>sale</td>\n      <td>False</td>\n    </tr>\n    <tr>\n      <th>3</th>\n      <td>1</td>\n      <td>capsicum</td>\n      <td>Green Hot Peppers</td>\n      <td>0.300000</td>\n      <td>8.287794</td>\n      <td>5.049097</td>\n      <td>6.72</td>\n      <td>7.74</td>\n      <td>sale</td>\n      <td>False</td>\n    </tr>\n    <tr>\n      <th>4</th>\n      <td>1</td>\n      <td>capsicum</td>\n      <td>Green Hot Peppers</td>\n      <td>0.300000</td>\n      <td>8.287794</td>\n      <td>5.049097</td>\n      <td>6.72</td>\n      <td>7.74</td>\n      <td>sale</td>\n      <td>False</td>\n    </tr>\n  </tbody>\n</table>\n</div>"
     },
     "execution_count": 10,
     "metadata": {},
     "output_type": "execute_result"
    }
   ],
   "source": [
    "import pandas as pd\n",
    "# Read a CSV file\n",
    "data = pd.read_csv('../../datasets/cleaned_loss_rate_dataset.csv')\n",
    "# Display the dataframe\n",
    "data.head()"
   ]
  },
  {
   "cell_type": "code",
   "execution_count": 11,
   "outputs": [
    {
     "data": {
      "text/plain": "(475428, 10)"
     },
     "execution_count": 11,
     "metadata": {},
     "output_type": "execute_result"
    }
   ],
   "source": [
    "data.shape"
   ],
   "metadata": {
    "collapsed": false,
    "ExecuteTime": {
     "end_time": "2024-02-12T06:28:56.897115200Z",
     "start_time": "2024-02-12T06:28:56.835281Z"
    }
   },
   "id": "e285e14e6304d008"
  },
  {
   "cell_type": "code",
   "execution_count": 12,
   "outputs": [],
   "source": [
    "import pandas as pd\n",
    "from sklearn.model_selection import train_test_split\n",
    "\n",
    "# Assuming 'Loss Rate (%)' is the target variable\n",
    "y = data['loss_rate_(%)']\n",
    "\n",
    "# Select features for model training\n",
    "numerical_columns = ['Month', 'quantity_sold_kg', 'unit_selling_price_rmb/kg', 'wholesale_price_(rmb/kg)', 'total_sales']\n",
    "categorical_columns = ['category_name', 'item_name', 'sale_or_return', 'discount']\n",
    "\n",
    "# Extract numerical features\n",
    "X_numerical = data[numerical_columns]\n",
    "\n",
    "# Extract categorical features\n",
    "X_categorical = data[categorical_columns]\n",
    "\n",
    "# Apply one-hot encoding using pd.get_dummies for categorical variables\n",
    "X_categorical_encoded = pd.get_dummies(X_categorical, columns=categorical_columns, drop_first=True)\n",
    "\n",
    "# Concatenate numerical and encoded categorical features\n",
    "X = pd.concat([X_numerical, X_categorical_encoded], axis=1)"
   ],
   "metadata": {
    "collapsed": false,
    "ExecuteTime": {
     "end_time": "2024-02-12T06:28:59.551132200Z",
     "start_time": "2024-02-12T06:28:56.850241200Z"
    }
   },
   "id": "716981fc2701083"
  },
  {
   "cell_type": "code",
   "execution_count": 13,
   "outputs": [],
   "source": [
    "# Split data into training and test sets (75% training, 25% testing)\n",
    "X_train, X_test, y_train, y_test = train_test_split(X, y, test_size=0.25, random_state=42)"
   ],
   "metadata": {
    "collapsed": false,
    "ExecuteTime": {
     "end_time": "2024-02-12T06:29:00.740901400Z",
     "start_time": "2024-02-12T06:28:59.644891400Z"
    }
   },
   "id": "13a1b0a77323b8af"
  },
  {
   "cell_type": "code",
   "execution_count": 14,
   "outputs": [],
   "source": [
    "# Initialize and train a linear regression model\n",
    "from sklearn.linear_model import LinearRegression\n",
    "model = LinearRegression()\n",
    "model.fit(X_train, y_train)\n",
    "# Make predictions\n",
    "y_pred = model.predict(X_test)"
   ],
   "metadata": {
    "collapsed": false,
    "ExecuteTime": {
     "end_time": "2024-02-12T06:29:23.211628900Z",
     "start_time": "2024-02-12T06:29:00.744892Z"
    }
   },
   "id": "38745e3fc75c07ae"
  },
  {
   "cell_type": "code",
   "execution_count": 15,
   "outputs": [
    {
     "name": "stdout",
     "output_type": "stream",
     "text": [
      "Mean Absolute Error (MAE): 0.0001\n"
     ]
    }
   ],
   "source": [
    "from sklearn.metrics import mean_absolute_error\n",
    "# Calculate the Mean Absolute Error (MAE)\n",
    "mae = mean_absolute_error(y_test, y_pred)\n",
    "\n",
    "# Round the MAE to 4 decimal places\n",
    "rounded_mae = round(mae, 4)\n",
    "\n",
    "print(f\"Mean Absolute Error (MAE): {rounded_mae}\")"
   ],
   "metadata": {
    "collapsed": false,
    "ExecuteTime": {
     "end_time": "2024-02-12T06:29:23.655000300Z",
     "start_time": "2024-02-12T06:29:23.442881600Z"
    }
   },
   "id": "470464895875a002"
  },
  {
   "cell_type": "code",
   "execution_count": 16,
   "outputs": [
    {
     "name": "stdout",
     "output_type": "stream",
     "text": [
      "MAE for Lasso Regression: 3.6523\n"
     ]
    }
   ],
   "source": [
    "from sklearn.linear_model import Lasso\n",
    "lasso_model = Lasso()\n",
    "lasso_model.fit(X_train, y_train)\n",
    "lasso_predictions = lasso_model.predict(X_test)\n",
    "lasso_mae = mean_absolute_error(y_test, lasso_predictions)\n",
    "print(f\"MAE for Lasso Regression: {lasso_mae:.4f}\")"
   ],
   "metadata": {
    "collapsed": false,
    "ExecuteTime": {
     "end_time": "2024-02-12T06:29:28.327651600Z",
     "start_time": "2024-02-12T06:29:23.634056600Z"
    }
   },
   "id": "620e4928b885c068"
  },
  {
   "cell_type": "code",
   "execution_count": 17,
   "outputs": [
    {
     "name": "stdout",
     "output_type": "stream",
     "text": [
      "MAE for Decision Tree Regressor: 0.0004\n"
     ]
    }
   ],
   "source": [
    "from sklearn.tree import DecisionTreeRegressor\n",
    "dt_model = DecisionTreeRegressor()\n",
    "dt_model.fit(X_train, y_train)\n",
    "dt_predictions = dt_model.predict(X_test)\n",
    "dt_mae = mean_absolute_error(y_test, dt_predictions)\n",
    "print(f\"MAE for Decision Tree Regressor: {dt_mae:.4f}\")"
   ],
   "metadata": {
    "collapsed": false,
    "ExecuteTime": {
     "end_time": "2024-02-12T06:29:36.032538600Z",
     "start_time": "2024-02-12T06:29:28.821320500Z"
    }
   },
   "id": "6867b4c942d755e"
  },
  {
   "cell_type": "code",
   "execution_count": 18,
   "outputs": [
    {
     "data": {
      "text/plain": "        Month  Predicted Loss Rate (%)\n33771       2                    10.80\n11108       1                    13.82\n317832      4                     5.70\n371715      7                    24.05\n256082     12                     5.54",
      "text/html": "<div>\n<style scoped>\n    .dataframe tbody tr th:only-of-type {\n        vertical-align: middle;\n    }\n\n    .dataframe tbody tr th {\n        vertical-align: top;\n    }\n\n    .dataframe thead th {\n        text-align: right;\n    }\n</style>\n<table border=\"1\" class=\"dataframe\">\n  <thead>\n    <tr style=\"text-align: right;\">\n      <th></th>\n      <th>Month</th>\n      <th>Predicted Loss Rate (%)</th>\n    </tr>\n  </thead>\n  <tbody>\n    <tr>\n      <th>33771</th>\n      <td>2</td>\n      <td>10.80</td>\n    </tr>\n    <tr>\n      <th>11108</th>\n      <td>1</td>\n      <td>13.82</td>\n    </tr>\n    <tr>\n      <th>317832</th>\n      <td>4</td>\n      <td>5.70</td>\n    </tr>\n    <tr>\n      <th>371715</th>\n      <td>7</td>\n      <td>24.05</td>\n    </tr>\n    <tr>\n      <th>256082</th>\n      <td>12</td>\n      <td>5.54</td>\n    </tr>\n  </tbody>\n</table>\n</div>"
     },
     "execution_count": 18,
     "metadata": {},
     "output_type": "execute_result"
    }
   ],
   "source": [
    "# Predict Loss Rate for the first 5 values in the test data\n",
    "X_test_subset = X_test.head()\n",
    "predictions = model.predict(X_test_subset)\n",
    "\n",
    "# Display the results along with Month, Item Name, Category Name, and Discount information\n",
    "result_df = pd.DataFrame({\n",
    "    'Month': data.loc[X_test_subset.index, 'Month'],  # Assuming 'Month' is the original month numbers\n",
    "    'Predicted Loss Rate (%)': predictions\n",
    "})\n",
    "result_df.head()"
   ],
   "metadata": {
    "collapsed": false,
    "ExecuteTime": {
     "end_time": "2024-02-12T06:29:41.557286500Z",
     "start_time": "2024-02-12T06:29:38.314003900Z"
    }
   },
   "id": "84db0584ad13d787"
  },
  {
   "cell_type": "code",
   "execution_count": 19,
   "outputs": [
    {
     "data": {
      "text/plain": "33771     10.80\n11108     13.82\n317832     5.70\n371715    24.05\n256082     5.54\nName: loss_rate_(%), dtype: float64"
     },
     "execution_count": 19,
     "metadata": {},
     "output_type": "execute_result"
    }
   ],
   "source": [
    "y_test[:5]"
   ],
   "metadata": {
    "collapsed": false,
    "ExecuteTime": {
     "end_time": "2024-02-12T06:29:42.853847500Z",
     "start_time": "2024-02-12T06:29:41.757833300Z"
    }
   },
   "id": "13b8b7c0169333b7"
  },
  {
   "cell_type": "code",
   "execution_count": 20,
   "outputs": [
    {
     "data": {
      "text/plain": "array([10.8 , 13.82,  5.7 , 24.05,  5.54])"
     },
     "execution_count": 20,
     "metadata": {},
     "output_type": "execute_result"
    }
   ],
   "source": [
    "predictions[:5]"
   ],
   "metadata": {
    "collapsed": false,
    "ExecuteTime": {
     "end_time": "2024-02-12T06:29:43.975541700Z",
     "start_time": "2024-02-12T06:29:43.083063300Z"
    }
   },
   "id": "d817db02b460467a"
  },
  {
   "cell_type": "code",
   "execution_count": 21,
   "outputs": [
    {
     "data": {
      "text/plain": "118857"
     },
     "execution_count": 21,
     "metadata": {},
     "output_type": "execute_result"
    }
   ],
   "source": [
    "y_test.shape[0]"
   ],
   "metadata": {
    "collapsed": false,
    "ExecuteTime": {
     "end_time": "2024-02-12T06:29:44.015432700Z",
     "start_time": "2024-02-12T06:29:43.970554500Z"
    }
   },
   "id": "9b66eea35a217205"
  },
  {
   "cell_type": "code",
   "execution_count": 22,
   "outputs": [],
   "source": [
    "import pickle\n",
    "\n",
    "# save model\n",
    "with open('lossRatemodel.pickle', 'wb') as file:\n",
    "    pickle.dump(model, file)"
   ],
   "metadata": {
    "collapsed": false,
    "ExecuteTime": {
     "end_time": "2024-02-12T06:29:44.906768300Z",
     "start_time": "2024-02-12T06:29:43.999475500Z"
    }
   },
   "id": "6f0f611eaf1c594a"
  }
 ],
 "metadata": {
  "kernelspec": {
   "display_name": "Python 3",
   "language": "python",
   "name": "python3"
  },
  "language_info": {
   "codemirror_mode": {
    "name": "ipython",
    "version": 2
   },
   "file_extension": ".py",
   "mimetype": "text/x-python",
   "name": "python",
   "nbconvert_exporter": "python",
   "pygments_lexer": "ipython2",
   "version": "2.7.6"
  }
 },
 "nbformat": 4,
 "nbformat_minor": 5
}
