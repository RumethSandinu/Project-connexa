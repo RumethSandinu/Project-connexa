{
 "cells": [
  {
   "cell_type": "code",
   "execution_count": 1,
   "id": "initial_id",
   "metadata": {
    "collapsed": true,
    "ExecuteTime": {
     "end_time": "2024-03-31T14:49:01.629184Z",
     "start_time": "2024-03-31T14:49:01.203175Z"
    }
   },
   "outputs": [],
   "source": [
    "import pandas as pd"
   ]
  },
  {
   "cell_type": "code",
   "execution_count": 2,
   "outputs": [
    {
     "data": {
      "text/plain": "         Item Code              Item Name  Category Code  \\\n0  102900005115168       Niushou Shengcai     1011010101   \n1  102900005115199      Sichuan Red Cedar     1011010101   \n2  102900005115625  Local Xiaomao Cabbage     1011010101   \n\n            Category Name  \n0  Flower/Leaf Vegetables  \n1  Flower/Leaf Vegetables  \n2  Flower/Leaf Vegetables  ",
      "text/html": "<div>\n<style scoped>\n    .dataframe tbody tr th:only-of-type {\n        vertical-align: middle;\n    }\n\n    .dataframe tbody tr th {\n        vertical-align: top;\n    }\n\n    .dataframe thead th {\n        text-align: right;\n    }\n</style>\n<table border=\"1\" class=\"dataframe\">\n  <thead>\n    <tr style=\"text-align: right;\">\n      <th></th>\n      <th>Item Code</th>\n      <th>Item Name</th>\n      <th>Category Code</th>\n      <th>Category Name</th>\n    </tr>\n  </thead>\n  <tbody>\n    <tr>\n      <th>0</th>\n      <td>102900005115168</td>\n      <td>Niushou Shengcai</td>\n      <td>1011010101</td>\n      <td>Flower/Leaf Vegetables</td>\n    </tr>\n    <tr>\n      <th>1</th>\n      <td>102900005115199</td>\n      <td>Sichuan Red Cedar</td>\n      <td>1011010101</td>\n      <td>Flower/Leaf Vegetables</td>\n    </tr>\n    <tr>\n      <th>2</th>\n      <td>102900005115625</td>\n      <td>Local Xiaomao Cabbage</td>\n      <td>1011010101</td>\n      <td>Flower/Leaf Vegetables</td>\n    </tr>\n  </tbody>\n</table>\n</div>"
     },
     "execution_count": 2,
     "metadata": {},
     "output_type": "execute_result"
    }
   ],
   "source": [
    "# read item.csv\n",
    "df1 = pd.read_csv('../datasets/item.csv')\n",
    "df1.head(3)"
   ],
   "metadata": {
    "collapsed": false,
    "ExecuteTime": {
     "end_time": "2024-03-31T14:49:01.648461Z",
     "start_time": "2024-03-31T14:49:01.632268Z"
    }
   },
   "id": "8e4f9211ddae87b6"
  },
  {
   "cell_type": "code",
   "outputs": [
    {
     "data": {
      "text/plain": "array(['Niushou Shengcai', 'Sichuan Red Cedar', 'Local Xiaomao Cabbage',\n       'White Caitai', 'Amaranth', 'Yunnan Shengcai', 'Zhuyecai',\n       'Chinese Cabbage', 'Nanguajian', 'Shanghaiqing', 'Radish Leaves',\n       'Niushou Youcai', 'Garden Chrysanthemum',\n       'Caidian Quinoa Artemisia', 'Caixin', 'Muercai', 'Wandoujian',\n       'Yunnan Lettuces', 'Machixian', 'Local Spinach',\n       'Yellow Xincai (1)', 'Black Rapeseed', 'Local Shanghaiqing',\n       'Spinach', 'Wawacai', 'Hongshujian', 'Zhijiang Red Bolt',\n       'Huanghuacai', 'Kuaicai', 'Suizhou Bubble Green',\n       'Panax Notoginseng', 'Dongmenkou Xiaobaicai',\n       'Foreign Garland Chrysanthemum ', 'Ice Grass', 'Perilla', 'Mint',\n       'The Dandelion', 'Siguajian', 'Naibaicai', 'Mustard',\n       'Big Broccoli', 'Miantiaocai', 'Sweet Chinese Cabbage', 'Jicai',\n       'Malan Head', 'Ganlanye', 'Hongshan Caitai',\n       'The Local Yellow Youcai', 'Green Caitai', 'Xiaoqingcai (1)',\n       'Fresh Rice Dumplings Leaves', 'Aihao', 'Naibai Caimiao',\n       'Juhua Youcai', 'Shuanggou Cabbage', 'Zhijiang Red Bolt (Bag)',\n       'Yunnan Lettuce (Bag)', 'Yunnan Leaf Lettuce (Bag)',\n       'Garden Chrysanthemum (Bag)', 'Spinach (Bag)', 'Caixin (Bag)',\n       'Shanghai Green (Bag)', 'Xiaoqingcai (2)', 'Hongshan Shoutidai',\n       'Hongshan Gift Box', 'Yuxingcao (Bag)', 'Ice Grass (Box)',\n       'Basil (Bag)', 'Xiangtianhongcaitai (Bag)',\n       'Artemisia Stelleriana', 'Yuxingcao ', 'Zhuyecai (Bag)', 'Chuncai',\n       'Sophora Japonica', 'Hongshujian (Bag)',\n       'Caidian Quinoa Artemisia (Bag)', 'Red Coral (Leaf)',\n       'Red Oak Leaf', 'Green Butter', 'Powcan Mountain Chinese Cabbage ',\n       'Huangxincai (2)', 'Amaranth (Bag)', 'Chinese Cabbage (Bag)',\n       'Xiaoqingcai (Bag)', 'Cabbage Stem (Bag)', 'Zhimaxiancai',\n       'Xianzongye', 'Xianzongye (Bag) (1)',\n       'Foreign Garland Chrysanthemum  (Bag)', 'Longyacai',\n       'Yellow Baicai (1)', 'Chinese Cabbage Seedling', 'Muercai (Bag)',\n       'Broccoli', 'Youcaitai', 'Huangbaicai (2)', 'Purple Beicai',\n       'Xianzongye (Bag) (2)', 'Xianzongye (Bag) (3)',\n       'Purple Cabbage (1)', 'Qinggengsanhua', 'Purple Cabbage (2)',\n       'Zhijiang Qinggengsanhua', 'Lotus Root', 'Net Lotus Root (1)',\n       'High Melon (1)', 'Lotus (Ea)', 'Water Chestnut (Lingjiao)',\n       'Red Lotus Root Zone', 'Water Chestnut', 'Wild Lotus Root (1)',\n       'Wild Pink Lotus Root', 'Honghu Lotus Root Powder (Fenou)',\n       'Net Lotus Root (2)', 'Fresh Lotus Root Zone (Bag)',\n       'Water Chestnut (Bag)', 'High Melon (2)',\n       'Honghu Lotus (Lotus Root)', 'Net Lotus Root (3)',\n       'Wild Lotus Root (2)', 'Honghu Lotus Root', 'Lotus Root Tip',\n       'Eggplant (2)', 'Green Eggplant (1)', 'Round Eggplant',\n       'Dalong Eggplant', 'Hua Eggplant', 'Changxianqie',\n       'Green Eggplant (2)', 'Eggplant (1)', 'Round Eggplant (1)',\n       'Round Eggplant (2)', 'Red Hot Peppers', 'Green Hot Peppers',\n       'Red Pepper (1)', 'Green Hangjiao (1)', 'Red Hang Pepper',\n       'Paopaojiao (Jingpin)', '7 Colour Pepper (1)',\n       'Green Hangzhou Pepper (2)', 'Bell Pepper (1)', 'Millet Pepper',\n       'Luosi Pepper', 'Red Line Pepper', 'The Red Bell Pepper (1)',\n       'Fruit Pepper (Orange)', 'Wuhu Green Pepper (1)', 'Pepper Mix',\n       'Wuhu Green Pepper (2)', 'Xiaozhoupi', 'Yuganjiao', 'Lameizi',\n       'Purple Hot Peppers', 'Purple Screw Pepper', 'Fruit Chili',\n       'Millet Pepper (Bag)', 'Green Hot Peppers (Bag)',\n       '7 Colour Pepper (Bag)', 'Bell Pepper (Bag)',\n       'Red Bell Pepper (Bag)', 'Xiaozhoupi (Bag)',\n       'Wuhu Green Pepper (Bag)', 'Green Hang Pepper (Bag)',\n       'Red Hang Pepper (Bag)', 'Fruit Pepper (Bag)',\n       'Green Line Pepper (Bag)', 'Red Hot Peppers (Bag)',\n       'Luosi Pepper (Bag)', '7 Colour Pepper (2)', 'Bell Pepper (2)',\n       'Red Bell Pepper (2)', 'Ginger And Xiaomijiao Mix (Small Bag)',\n       'Red Pepper (Bag)', 'Green And Red Hang Pepper Mix (Bag)',\n       'Red Pepper (2)', 'Green And Red Jian Pepper Mix (Bag)',\n       'Green Line Pepper', 'Xixia Black Mushroom (1)',\n       'Xixia Mushroom (1)', 'Needle Mushroom (1)', 'Ping Mushroom',\n       'Jigu Mushroom (1)', 'The White Mushroom (1)',\n       'The Agaricus Bisporus', 'The Crab Flavor Mushroom (1)',\n       'Haixian Mushroom (1)', 'Apricot Bao Mushroom (1)',\n       'Jigu Mushroom (Bunch)', 'Needle Mushroom (Bag) (1)',\n       'Tremella (Flower)', 'Hericium ', 'Fresh Black Fungus (1)',\n       'Chicken Fir Bacteria', 'Black Porcini',\n       'Haixian Mushroom (Bag) (1)', 'Xiuzhen Mushroom',\n       'Chinese Caterpillar Fungus Flowers (Box) (1)',\n       'Tea Tree Mushroom (Bag)', 'Black Chicken  Mushroom',\n       'Apricot Bao Mushroom (Bag)', 'The White Mushroom (Bag)',\n       'Chinese Caterpillar Fungus Flowers (Bag)', 'Chopped Red Pine',\n       'The Steak Mushrooms', 'White Jelly Mushroom',\n       'Apricot Bao Mushroom (250 G)', 'Chopped Red Pine (Box)',\n       'The Steak Mushrooms (Box)', 'The Pork Stomach Mushroom (Box)',\n       'Black Porcini (Box)', 'Black Chicken Fir Bacteria (Box)',\n       'Haixian Mushroom (Bag)', 'Fresh Edible Fungus (Bag)',\n       'Agaricus Bisporus (Bag)', 'Needle Mushroom (Bag)', 'Jigu (Bag)',\n       'Xixia Xianggu Mushroom (2)', 'Fresh Edible Fungus (2)',\n       'Fresh Sea (2)', 'Jigu (2)', 'Needle Mushroom (2)',\n       'Apricot Bao Mushroom (2)', 'Xixia Black Mushroom (2)',\n       'Agaricus Bisporus (Box)', 'Black Mushroom (Bag)',\n       'The Fungus Mushroom Hot Pot Package (Bag)',\n       'Crab Flavor Mushroom And White Mushroom Mix (Box)',\n       'Xixia Xianggu Mushroom (Bag)', 'Mushroom And Leaf Mix (Bag)',\n       'Velvet Antler Mushroom (Box)',\n       'Chinese Caterpillar Fungus Flowers',\n       'The Crab Flavor Mushroom (Bag)', 'Haixian Mushroom (Bag) (2)',\n       'Embroidered Aureus', 'Embroidered Aureus (Bag)',\n       'Needle Mushroom (Bag) (3)', 'Needle Mushroom (Bag) (2)',\n       'Needle Mushroom (Box)', 'The White Mushroom (2)',\n       'The Crab Flavor Mushroom (2)', 'The White Mushroom (Box)',\n       'The Crab Flavor Mushroom (Box)', 'Haixian Mushroom (Bag) (4)',\n       'Haixian Mushroom (Bunch)', 'Haixian Mushroom (Bag) (3)',\n       'Chinese Caterpillar Fungus Flowers (Box) (2)',\n       'Hfyg Haixian Mushroom (Bunch)'], dtype=object)"
     },
     "execution_count": 3,
     "metadata": {},
     "output_type": "execute_result"
    }
   ],
   "source": [
    "df1['Item Name'].unique()"
   ],
   "metadata": {
    "collapsed": false,
    "ExecuteTime": {
     "end_time": "2024-03-31T14:49:01.654947Z",
     "start_time": "2024-03-31T14:49:01.649950Z"
    }
   },
   "id": "b1cab20edd9d7856",
   "execution_count": 3
  },
  {
   "cell_type": "code",
   "execution_count": 4,
   "outputs": [
    {
     "name": "stdout",
     "output_type": "stream",
     "text": [
      "<class 'pandas.core.frame.DataFrame'>\n",
      "RangeIndex: 251 entries, 0 to 250\n",
      "Data columns (total 4 columns):\n",
      " #   Column         Non-Null Count  Dtype \n",
      "---  ------         --------------  ----- \n",
      " 0   Item Code      251 non-null    int64 \n",
      " 1   Item Name      251 non-null    object\n",
      " 2   Category Code  251 non-null    int64 \n",
      " 3   Category Name  251 non-null    object\n",
      "dtypes: int64(2), object(2)\n",
      "memory usage: 8.0+ KB\n"
     ]
    }
   ],
   "source": [
    "# check data types, shape and null values\n",
    "df1.info()"
   ],
   "metadata": {
    "collapsed": false,
    "ExecuteTime": {
     "end_time": "2024-03-31T14:49:01.671631Z",
     "start_time": "2024-03-31T14:49:01.657747Z"
    }
   },
   "id": "78ed671b18013277"
  },
  {
   "cell_type": "code",
   "execution_count": 5,
   "outputs": [
    {
     "data": {
      "text/plain": "Item Code\nFalse    251\nName: count, dtype: int64"
     },
     "execution_count": 5,
     "metadata": {},
     "output_type": "execute_result"
    }
   ],
   "source": [
    "# check if item code duplicates\n",
    "df1['Item Code'].duplicated().value_counts()"
   ],
   "metadata": {
    "collapsed": false,
    "ExecuteTime": {
     "end_time": "2024-03-31T14:49:01.688808Z",
     "start_time": "2024-03-31T14:49:01.674274Z"
    }
   },
   "id": "34b9ca94737f53fb"
  },
  {
   "cell_type": "code",
   "execution_count": 6,
   "outputs": [
    {
     "data": {
      "text/plain": "array(['Niushou Shengcai', 'Sichuan Red Cedar', 'Local Xiaomao Cabbage',\n       'White Caitai', 'Amaranth', 'Yunnan Shengcai', 'Zhuyecai',\n       'Chinese Cabbage', 'Nanguajian', 'Shanghaiqing', 'Radish Leaves',\n       'Niushou Youcai', 'Garden Chrysanthemum',\n       'Caidian Quinoa Artemisia', 'Caixin', 'Muercai', 'Wandoujian',\n       'Yunnan Lettuces', 'Machixian', 'Local Spinach', 'Yellow Xincai',\n       'Black Rapeseed', 'Local Shanghaiqing', 'Spinach', 'Wawacai',\n       'Hongshujian', 'Zhijiang Red Bolt', 'Huanghuacai', 'Kuaicai',\n       'Suizhou Bubble Green', 'Panax Notoginseng',\n       'Dongmenkou Xiaobaicai', 'Foreign Garland Chrysanthemum ',\n       'Ice Grass', 'Perilla', 'Mint', 'The Dandelion', 'Siguajian',\n       'Naibaicai', 'Mustard', 'Big Broccoli', 'Miantiaocai',\n       'Sweet Chinese Cabbage', 'Jicai', 'Malan Head', 'Ganlanye',\n       'Hongshan Caitai', 'The Local Yellow Youcai', 'Green Caitai',\n       'Xiaoqingcai', 'Fresh Rice Dumplings Leaves', 'Aihao',\n       'Naibai Caimiao', 'Juhua Youcai', 'Shuanggou Cabbage',\n       'Yunnan Lettuce', 'Yunnan Leaf Lettuce', 'Shanghai Green',\n       'Hongshan Shoutidai', 'Hongshan Gift Box', 'Yuxingcao', 'Basil',\n       'Xiangtianhongcaitai', 'Artemisia Stelleriana', 'Yuxingcao ',\n       'Chuncai', 'Sophora Japonica', 'Red Coral', 'Red Oak Leaf',\n       'Green Butter', 'Powcan Mountain Chinese Cabbage ', 'Huangxincai',\n       'Cabbage Stem', 'Zhimaxiancai', 'Xianzongye', 'Longyacai',\n       'Yellow Baicai', 'Chinese Cabbage Seedling', 'Broccoli',\n       'Youcaitai', 'Huangbaicai', 'Purple Beicai', 'Purple Cabbage',\n       'Qinggengsanhua', 'Zhijiang Qinggengsanhua', 'Lotus Root',\n       'Net Lotus Root', 'High Melon', 'Lotus', 'Water Chestnut',\n       'Red Lotus Root Zone', 'Wild Lotus Root', 'Wild Pink Lotus Root',\n       'Honghu Lotus Root Powder', 'Fresh Lotus Root Zone',\n       'Honghu Lotus', 'Honghu Lotus Root', 'Lotus Root Tip', 'Eggplant',\n       'Green Eggplant', 'Round Eggplant', 'Dalong Eggplant',\n       'Hua Eggplant', 'Changxianqie', 'Red Hot Peppers',\n       'Green Hot Peppers', 'Red Pepper', 'Green Hangjiao',\n       'Red Hang Pepper', 'Paopaojiao', '7 Colour Pepper',\n       'Green Hangzhou Pepper', 'Bell Pepper', 'Millet Pepper',\n       'Luosi Pepper', 'Red Line Pepper', 'The Red Bell Pepper',\n       'Fruit Pepper', 'Wuhu Green Pepper', 'Pepper Mix', 'Xiaozhoupi',\n       'Yuganjiao', 'Lameizi', 'Purple Hot Peppers',\n       'Purple Screw Pepper', 'Fruit Chili', 'Red Bell Pepper',\n       'Green Hang Pepper', 'Green Line Pepper',\n       'Ginger And Xiaomijiao Mix', 'Green And Red Hang Pepper Mix',\n       'Green And Red Jian Pepper Mix', 'Xixia Black Mushroom',\n       'Xixia Mushroom', 'Needle Mushroom', 'Ping Mushroom',\n       'Jigu Mushroom', 'The White Mushroom', 'The Agaricus Bisporus',\n       'The Crab Flavor Mushroom', 'Haixian Mushroom',\n       'Apricot Bao Mushroom', 'Tremella', 'Hericium ',\n       'Fresh Black Fungus', 'Chicken Fir Bacteria', 'Black Porcini',\n       'Xiuzhen Mushroom', 'Chinese Caterpillar Fungus Flowers',\n       'Tea Tree Mushroom', 'Black Chicken  Mushroom', 'Chopped Red Pine',\n       'The Steak Mushrooms', 'White Jelly Mushroom',\n       'The Pork Stomach Mushroom', 'Black Chicken Fir Bacteria',\n       'Fresh Edible Fungus', 'Agaricus Bisporus', 'Jigu',\n       'Xixia Xianggu Mushroom', 'Fresh Sea', 'Black Mushroom',\n       'The Fungus Mushroom Hot Pot Package',\n       'Crab Flavor Mushroom And White Mushroom Mix',\n       'Mushroom And Leaf Mix', 'Velvet Antler Mushroom',\n       'Embroidered Aureus', 'Hfyg Haixian Mushroom'], dtype=object)"
     },
     "execution_count": 6,
     "metadata": {},
     "output_type": "execute_result"
    }
   ],
   "source": [
    "\"\"\"there are items in the dataset which have the same name upto certain point but different item code for example some item available as a powder and leaves. for the ease of the implementation, drop the duplicated item names and keep only first value assuming the item is available in the market as a single type.\"\"\"\n",
    "\n",
    "# split item names where duplication name starts\n",
    "def split_name(data):\n",
    "    if '(' in data:\n",
    "        return data.split('(')[0][:-1]\n",
    "    return data\n",
    "\n",
    "df1['Item Name'] = df1['Item Name'].apply(split_name)\n",
    "df1['Item Name'].unique()"
   ],
   "metadata": {
    "collapsed": false,
    "ExecuteTime": {
     "end_time": "2024-03-31T14:49:01.778584Z",
     "start_time": "2024-03-31T14:49:01.695626Z"
    }
   },
   "id": "d5acee1e3f03d6a"
  },
  {
   "cell_type": "code",
   "outputs": [
    {
     "data": {
      "text/plain": "13"
     },
     "execution_count": 7,
     "metadata": {},
     "output_type": "execute_result"
    }
   ],
   "source": [
    "len(df1.at[20, 'Item Name'])"
   ],
   "metadata": {
    "collapsed": false,
    "ExecuteTime": {
     "end_time": "2024-03-31T14:49:01.918746Z",
     "start_time": "2024-03-31T14:49:01.879764Z"
    }
   },
   "id": "7ae2fb11cf8b124a",
   "execution_count": 7
  },
  {
   "cell_type": "code",
   "execution_count": 8,
   "outputs": [
    {
     "data": {
      "text/plain": "Item Name\nFalse    168\nTrue      83\nName: count, dtype: int64"
     },
     "execution_count": 8,
     "metadata": {},
     "output_type": "execute_result"
    }
   ],
   "source": [
    "# check for duplicated names\n",
    "df1['Item Name'].duplicated().value_counts()"
   ],
   "metadata": {
    "collapsed": false,
    "ExecuteTime": {
     "end_time": "2024-03-31T14:49:02.056144Z",
     "start_time": "2024-03-31T14:49:01.965153Z"
    }
   },
   "id": "956218b5c7fc9825"
  },
  {
   "cell_type": "code",
   "execution_count": 9,
   "outputs": [
    {
     "data": {
      "text/plain": "(168, 4)"
     },
     "execution_count": 9,
     "metadata": {},
     "output_type": "execute_result"
    }
   ],
   "source": [
    "# drop the duplicates keeping only first value\n",
    "df1 = df1.drop_duplicates(subset=['Item Name'], keep='first')\n",
    "df1.shape"
   ],
   "metadata": {
    "collapsed": false,
    "ExecuteTime": {
     "end_time": "2024-03-31T14:49:02.063853Z",
     "start_time": "2024-03-31T14:49:02.058561Z"
    }
   },
   "id": "3175a0cf2d606740"
  },
  {
   "cell_type": "code",
   "execution_count": 10,
   "outputs": [
    {
     "data": {
      "text/plain": "Category Name\nFlower/Leaf Vegetables         82\nEdible Mushroom                36\nCapsicum                       28\nAquatic Tuberous Vegetables    13\nSolanum                         6\nCabbage                         3\nName: count, dtype: int64"
     },
     "execution_count": 10,
     "metadata": {},
     "output_type": "execute_result"
    }
   ],
   "source": [
    "# check the frequency of categories\n",
    "df1['Category Name'].value_counts()"
   ],
   "metadata": {
    "collapsed": false,
    "ExecuteTime": {
     "end_time": "2024-03-31T14:49:02.075298Z",
     "start_time": "2024-03-31T14:49:02.069081Z"
    }
   },
   "id": "b1ca6678c24298fd"
  },
  {
   "cell_type": "code",
   "execution_count": 11,
   "outputs": [
    {
     "data": {
      "text/plain": "Category Name\nFlower      82\nMushroom    36\nCapsicum    28\nAquatic     13\nSolanum      6\nCabbage      3\nName: count, dtype: int64"
     },
     "execution_count": 11,
     "metadata": {},
     "output_type": "execute_result"
    }
   ],
   "source": [
    "def rename_category(data):\n",
    "    if data == 'Flower/Leaf Vegetables':\n",
    "        return 'Flower'\n",
    "    if data == 'Edible Mushroom':\n",
    "        return 'Mushroom'\n",
    "    if data == 'Aquatic Tuberous Vegetables':\n",
    "        return 'Aquatic'\n",
    "    return data\n",
    "\n",
    "\n",
    "# rename all categories to readable value\n",
    "df1['Category Name'] = df1['Category Name'].apply(rename_category)\n",
    "df1['Category Name'].value_counts()"
   ],
   "metadata": {
    "collapsed": false,
    "ExecuteTime": {
     "end_time": "2024-03-31T14:49:02.085070Z",
     "start_time": "2024-03-31T14:49:02.077096Z"
    }
   },
   "id": "e8123fbaed77245a"
  },
  {
   "cell_type": "code",
   "outputs": [
    {
     "data": {
      "text/plain": "          Item Code            Item Name  Category Code Category Name\n26  102900005119975          hongshujian     1011010101        flower\n4   102900005115762             amaranth     1011010101        flower\n58  102900011030097  yunnan leaf lettuce     1011010101        flower",
      "text/html": "<div>\n<style scoped>\n    .dataframe tbody tr th:only-of-type {\n        vertical-align: middle;\n    }\n\n    .dataframe tbody tr th {\n        vertical-align: top;\n    }\n\n    .dataframe thead th {\n        text-align: right;\n    }\n</style>\n<table border=\"1\" class=\"dataframe\">\n  <thead>\n    <tr style=\"text-align: right;\">\n      <th></th>\n      <th>Item Code</th>\n      <th>Item Name</th>\n      <th>Category Code</th>\n      <th>Category Name</th>\n    </tr>\n  </thead>\n  <tbody>\n    <tr>\n      <th>26</th>\n      <td>102900005119975</td>\n      <td>hongshujian</td>\n      <td>1011010101</td>\n      <td>flower</td>\n    </tr>\n    <tr>\n      <th>4</th>\n      <td>102900005115762</td>\n      <td>amaranth</td>\n      <td>1011010101</td>\n      <td>flower</td>\n    </tr>\n    <tr>\n      <th>58</th>\n      <td>102900011030097</td>\n      <td>yunnan leaf lettuce</td>\n      <td>1011010101</td>\n      <td>flower</td>\n    </tr>\n  </tbody>\n</table>\n</div>"
     },
     "execution_count": 12,
     "metadata": {},
     "output_type": "execute_result"
    }
   ],
   "source": [
    "# lowercases all item names and category names\n",
    "df1['Item Name'] = df1['Item Name'].str.lower()\n",
    "df1['Category Name'] = df1['Category Name'].str.lower()\n",
    "df1.sample(3)"
   ],
   "metadata": {
    "collapsed": false,
    "ExecuteTime": {
     "end_time": "2024-03-31T14:49:02.093957Z",
     "start_time": "2024-03-31T14:49:02.086231Z"
    }
   },
   "id": "e144b120c12e774f",
   "execution_count": 12
  },
  {
   "cell_type": "code",
   "execution_count": 13,
   "outputs": [
    {
     "data": {
      "text/plain": "         Date          Time        Item Code  Quantity Sold (kilo)  \\\n0  2020-07-01  09:15:07.924  102900005117056                 0.396   \n1  2020-07-01  09:17:27.295  102900005115960                 0.849   \n2  2020-07-01  09:17:33.905  102900005117056                 0.409   \n\n   Unit Selling Price (RMB/kg) Sale or Return Discount (Yes/No)  \n0                          7.6           sale                No  \n1                          3.2           sale                No  \n2                          7.6           sale                No  ",
      "text/html": "<div>\n<style scoped>\n    .dataframe tbody tr th:only-of-type {\n        vertical-align: middle;\n    }\n\n    .dataframe tbody tr th {\n        vertical-align: top;\n    }\n\n    .dataframe thead th {\n        text-align: right;\n    }\n</style>\n<table border=\"1\" class=\"dataframe\">\n  <thead>\n    <tr style=\"text-align: right;\">\n      <th></th>\n      <th>Date</th>\n      <th>Time</th>\n      <th>Item Code</th>\n      <th>Quantity Sold (kilo)</th>\n      <th>Unit Selling Price (RMB/kg)</th>\n      <th>Sale or Return</th>\n      <th>Discount (Yes/No)</th>\n    </tr>\n  </thead>\n  <tbody>\n    <tr>\n      <th>0</th>\n      <td>2020-07-01</td>\n      <td>09:15:07.924</td>\n      <td>102900005117056</td>\n      <td>0.396</td>\n      <td>7.6</td>\n      <td>sale</td>\n      <td>No</td>\n    </tr>\n    <tr>\n      <th>1</th>\n      <td>2020-07-01</td>\n      <td>09:17:27.295</td>\n      <td>102900005115960</td>\n      <td>0.849</td>\n      <td>3.2</td>\n      <td>sale</td>\n      <td>No</td>\n    </tr>\n    <tr>\n      <th>2</th>\n      <td>2020-07-01</td>\n      <td>09:17:33.905</td>\n      <td>102900005117056</td>\n      <td>0.409</td>\n      <td>7.6</td>\n      <td>sale</td>\n      <td>No</td>\n    </tr>\n  </tbody>\n</table>\n</div>"
     },
     "execution_count": 13,
     "metadata": {},
     "output_type": "execute_result"
    }
   ],
   "source": [
    "# read sale.csv\n",
    "df2 = pd.read_csv('../datasets/sale.csv')\n",
    "df2.head(3)"
   ],
   "metadata": {
    "collapsed": false,
    "ExecuteTime": {
     "end_time": "2024-03-31T14:49:02.832953Z",
     "start_time": "2024-03-31T14:49:02.095704Z"
    }
   },
   "id": "e91032627b07ee8c"
  },
  {
   "cell_type": "code",
   "execution_count": 14,
   "outputs": [
    {
     "name": "stdout",
     "output_type": "stream",
     "text": [
      "<class 'pandas.core.frame.DataFrame'>\n",
      "RangeIndex: 878503 entries, 0 to 878502\n",
      "Data columns (total 7 columns):\n",
      " #   Column                       Non-Null Count   Dtype  \n",
      "---  ------                       --------------   -----  \n",
      " 0   Date                         878503 non-null  object \n",
      " 1   Time                         878503 non-null  object \n",
      " 2   Item Code                    878503 non-null  int64  \n",
      " 3   Quantity Sold (kilo)         878503 non-null  float64\n",
      " 4   Unit Selling Price (RMB/kg)  878503 non-null  float64\n",
      " 5   Sale or Return               878503 non-null  object \n",
      " 6   Discount (Yes/No)            878503 non-null  object \n",
      "dtypes: float64(2), int64(1), object(4)\n",
      "memory usage: 46.9+ MB\n"
     ]
    }
   ],
   "source": [
    "# check data types, shape and null values\n",
    "df2.info()"
   ],
   "metadata": {
    "collapsed": false,
    "ExecuteTime": {
     "end_time": "2024-03-31T14:49:03.034944Z",
     "start_time": "2024-03-31T14:49:02.906676Z"
    }
   },
   "id": "cbba1e17241ebd7e"
  },
  {
   "cell_type": "code",
   "execution_count": 15,
   "outputs": [
    {
     "data": {
      "text/plain": "(165, 4)"
     },
     "execution_count": 15,
     "metadata": {},
     "output_type": "execute_result"
    }
   ],
   "source": [
    "# get item codes in df1 which present in df3\n",
    "filt = df1['Item Code'].isin(df2['Item Code'])\n",
    "df1 = df1.loc[filt]\n",
    "df1.shape"
   ],
   "metadata": {
    "collapsed": false,
    "ExecuteTime": {
     "end_time": "2024-03-31T14:49:03.045218Z",
     "start_time": "2024-03-31T14:49:03.036807Z"
    }
   },
   "id": "36f13c005a0065f0"
  },
  {
   "cell_type": "code",
   "execution_count": 16,
   "outputs": [
    {
     "data": {
      "text/plain": "(684584, 7)"
     },
     "execution_count": 16,
     "metadata": {},
     "output_type": "execute_result"
    }
   ],
   "source": [
    "# get item codes in df3 which present in df1\n",
    "filt = df2['Item Code'].isin(df1['Item Code'])\n",
    "df2 = df2.loc[filt]\n",
    "df2.shape"
   ],
   "metadata": {
    "collapsed": false,
    "ExecuteTime": {
     "end_time": "2024-03-31T14:49:03.089850Z",
     "start_time": "2024-03-31T14:49:03.047035Z"
    }
   },
   "id": "6589b5cecc2993c"
  },
  {
   "cell_type": "code",
   "execution_count": 17,
   "outputs": [
    {
     "name": "stdout",
     "output_type": "stream",
     "text": [
      "<class 'pandas.core.frame.DataFrame'>\n",
      "RangeIndex: 684584 entries, 0 to 684583\n",
      "Data columns (total 7 columns):\n",
      " #   Column                       Non-Null Count   Dtype  \n",
      "---  ------                       --------------   -----  \n",
      " 0   Date                         684584 non-null  object \n",
      " 1   Time                         684584 non-null  object \n",
      " 2   Item Code                    684584 non-null  int64  \n",
      " 3   Quantity Sold (kilo)         684584 non-null  float64\n",
      " 4   Unit Selling Price (RMB/kg)  684584 non-null  float64\n",
      " 5   Sale or Return               684584 non-null  object \n",
      " 6   Discount (Yes/No)            684584 non-null  object \n",
      "dtypes: float64(2), int64(1), object(4)\n",
      "memory usage: 36.6+ MB\n"
     ]
    }
   ],
   "source": [
    "# getting a copy of df3 and assigning it to dff\n",
    "dff = df2.copy().reset_index(drop=True)\n",
    "dff.info()"
   ],
   "metadata": {
    "collapsed": false,
    "ExecuteTime": {
     "end_time": "2024-03-31T14:49:03.191037Z",
     "start_time": "2024-03-31T14:49:03.090990Z"
    }
   },
   "id": "70e418d00022cc43"
  },
  {
   "cell_type": "code",
   "execution_count": 18,
   "outputs": [
    {
     "name": "stdout",
     "output_type": "stream",
     "text": [
      "<class 'pandas.core.frame.DataFrame'>\n",
      "RangeIndex: 684584 entries, 0 to 684583\n",
      "Data columns (total 9 columns):\n",
      " #   Column                       Non-Null Count   Dtype  \n",
      "---  ------                       --------------   -----  \n",
      " 0   Date                         684584 non-null  object \n",
      " 1   Time                         684584 non-null  object \n",
      " 2   Item Code                    684584 non-null  int64  \n",
      " 3   Quantity Sold (kilo)         684584 non-null  float64\n",
      " 4   Unit Selling Price (RMB/kg)  684584 non-null  float64\n",
      " 5   Sale or Return               684584 non-null  object \n",
      " 6   Discount (Yes/No)            684584 non-null  object \n",
      " 7   Item Name                    684584 non-null  object \n",
      " 8   Category Name                684584 non-null  object \n",
      "dtypes: float64(2), int64(1), object(6)\n",
      "memory usage: 47.0+ MB\n"
     ]
    }
   ],
   "source": [
    "# merge df3 with df1 (item name, category name)\n",
    "for i in range(dff.shape[0]):\n",
    "    for j in range(df1.shape[0]):\n",
    "        if dff['Item Code'].values[i] == df1['Item Code'].values[j]:\n",
    "            dff.at[i, 'Item Name'] = df1['Item Name'].values[j]\n",
    "            dff.at[i, 'Category Name'] = df1['Category Name'].values[j]\n",
    "            break\n",
    "\n",
    "# check data types, shape and null values\n",
    "dff.info()"
   ],
   "metadata": {
    "collapsed": false,
    "ExecuteTime": {
     "end_time": "2024-03-31T14:53:52.125223Z",
     "start_time": "2024-03-31T14:49:03.192197Z"
    }
   },
   "id": "f7fb01539b2247e3"
  },
  {
   "cell_type": "code",
   "outputs": [
    {
     "data": {
      "text/plain": "165"
     },
     "execution_count": 19,
     "metadata": {},
     "output_type": "execute_result"
    }
   ],
   "source": [
    "# check unique items\n",
    "dff['Item Name'].unique().shape[0]"
   ],
   "metadata": {
    "collapsed": false,
    "ExecuteTime": {
     "end_time": "2024-03-31T14:53:52.259953Z",
     "start_time": "2024-03-31T14:53:52.165902Z"
    }
   },
   "id": "13613a7db1080e38",
   "execution_count": 19
  },
  {
   "cell_type": "code",
   "execution_count": 20,
   "outputs": [
    {
     "data": {
      "text/plain": "              Item Name Category Name        Date          Time  \\\n674387         zhuyecai        flower  2023-06-06  09:33:50.985   \n498366         zhuyecai        flower  2022-07-02  11:00:20.814   \n18461   yunnan lettuces        flower  2020-07-19  17:30:22.545   \n\n              Item Code  Quantity Sold (kilo)  Unit Selling Price (RMB/kg)  \\\n674387  102900005115786                 0.490                          8.0   \n498366  102900005115786                 0.285                          3.2   \n18461   102900005115984                 0.435                          6.0   \n\n       Sale or Return Discount (Yes/No)  \n674387           sale                No  \n498366           sale                No  \n18461            sale                No  ",
      "text/html": "<div>\n<style scoped>\n    .dataframe tbody tr th:only-of-type {\n        vertical-align: middle;\n    }\n\n    .dataframe tbody tr th {\n        vertical-align: top;\n    }\n\n    .dataframe thead th {\n        text-align: right;\n    }\n</style>\n<table border=\"1\" class=\"dataframe\">\n  <thead>\n    <tr style=\"text-align: right;\">\n      <th></th>\n      <th>Item Name</th>\n      <th>Category Name</th>\n      <th>Date</th>\n      <th>Time</th>\n      <th>Item Code</th>\n      <th>Quantity Sold (kilo)</th>\n      <th>Unit Selling Price (RMB/kg)</th>\n      <th>Sale or Return</th>\n      <th>Discount (Yes/No)</th>\n    </tr>\n  </thead>\n  <tbody>\n    <tr>\n      <th>674387</th>\n      <td>zhuyecai</td>\n      <td>flower</td>\n      <td>2023-06-06</td>\n      <td>09:33:50.985</td>\n      <td>102900005115786</td>\n      <td>0.490</td>\n      <td>8.0</td>\n      <td>sale</td>\n      <td>No</td>\n    </tr>\n    <tr>\n      <th>498366</th>\n      <td>zhuyecai</td>\n      <td>flower</td>\n      <td>2022-07-02</td>\n      <td>11:00:20.814</td>\n      <td>102900005115786</td>\n      <td>0.285</td>\n      <td>3.2</td>\n      <td>sale</td>\n      <td>No</td>\n    </tr>\n    <tr>\n      <th>18461</th>\n      <td>yunnan lettuces</td>\n      <td>flower</td>\n      <td>2020-07-19</td>\n      <td>17:30:22.545</td>\n      <td>102900005115984</td>\n      <td>0.435</td>\n      <td>6.0</td>\n      <td>sale</td>\n      <td>No</td>\n    </tr>\n  </tbody>\n</table>\n</div>"
     },
     "execution_count": 20,
     "metadata": {},
     "output_type": "execute_result"
    }
   ],
   "source": [
    "# get the column names to lists\n",
    "\n",
    "first_columns = dff.columns[:-2].tolist()\n",
    "last_two_columns = dff.columns[-2:].tolist()\n",
    "\n",
    "# rearrange the columns\n",
    "\n",
    "order = last_two_columns + first_columns\n",
    "dff = dff[order]\n",
    "\n",
    "# check all the operations successful\n",
    "dff.sample(3)"
   ],
   "metadata": {
    "collapsed": false,
    "ExecuteTime": {
     "end_time": "2024-03-31T14:53:52.407516Z",
     "start_time": "2024-03-31T14:53:52.289792Z"
    }
   },
   "id": "3befb7395baaec6"
  },
  {
   "cell_type": "code",
   "outputs": [
    {
     "data": {
      "text/plain": "Index(['item_name', 'category_name', 'date', 'time', 'item_code',\n       'quantity_sold_kg', 'unit_selling_price_rmb/kg', 'sale_or_return',\n       'discount'],\n      dtype='object')"
     },
     "execution_count": 21,
     "metadata": {},
     "output_type": "execute_result"
    }
   ],
   "source": [
    "\"\"\"to follow a one standard in implementation, change all the column names to snake case\"\"\"\n",
    "\n",
    "dff.rename(columns={'Quantity Sold (kilo)': 'Quantity Sold Kg', \n",
    "                    'Unit Selling Price (RMB/kg)': 'Unit Selling Price RMB/Kg', \n",
    "                    'Discount (Yes/No)': 'Discount'}, inplace=True)\n",
    "\n",
    "dff.rename(str.lower, axis='columns', inplace=True)\n",
    "\n",
    "dff.rename(lambda x: x.replace(\" \", \"_\"), axis='columns', inplace=True)\n",
    "dff.columns"
   ],
   "metadata": {
    "collapsed": false,
    "ExecuteTime": {
     "end_time": "2024-03-31T14:53:52.413949Z",
     "start_time": "2024-03-31T14:53:52.408720Z"
    }
   },
   "id": "fd546103421314ec",
   "execution_count": 21
  },
  {
   "cell_type": "code",
   "outputs": [
    {
     "data": {
      "text/plain": "('2020-07-01', '2023-06-30')"
     },
     "execution_count": 22,
     "metadata": {},
     "output_type": "execute_result"
    }
   ],
   "source": [
    "# check date range\n",
    "dff['date'].min(), dff['date'].max()"
   ],
   "metadata": {
    "collapsed": false,
    "ExecuteTime": {
     "end_time": "2024-03-31T14:53:52.465153Z",
     "start_time": "2024-03-31T14:53:52.415934Z"
    }
   },
   "id": "7bfaa8dba0d2c4e2",
   "execution_count": 22
  },
  {
   "cell_type": "code",
   "outputs": [
    {
     "data": {
      "text/plain": "(443205, 9)"
     },
     "execution_count": 23,
     "metadata": {},
     "output_type": "execute_result"
    }
   ],
   "source": [
    "# select 2 year range of data\n",
    "filt = (dff['date'] >= '2021-01-01') & (dff['date'] <= '2022-12-31')\n",
    "dff = dff.loc[filt]\n",
    "dff.shape"
   ],
   "metadata": {
    "collapsed": false,
    "ExecuteTime": {
     "end_time": "2024-03-31T14:53:52.558257Z",
     "start_time": "2024-03-31T14:53:52.466815Z"
    }
   },
   "id": "681bcaece6ddae5a",
   "execution_count": 23
  },
  {
   "cell_type": "code",
   "outputs": [
    {
     "data": {
      "text/plain": "                item_name category_name        date          time  \\\n155128  green hot peppers      capsicum  2021-01-01  09:14:26.212   \n155129  green hot peppers      capsicum  2021-01-01  09:14:26.324   \n155130    yunnan lettuces        flower  2021-01-01  09:16:20.074   \n\n              item_code  quantity_sold_kg  unit_selling_price_rmb/kg  \\\n155128  102900005116226             1.132                       25.8   \n155129  102900005116226             0.593                       25.8   \n155130  102900005115984             0.468                        6.0   \n\n       sale_or_return discount  \n155128           sale       No  \n155129           sale       No  \n155130           sale       No  ",
      "text/html": "<div>\n<style scoped>\n    .dataframe tbody tr th:only-of-type {\n        vertical-align: middle;\n    }\n\n    .dataframe tbody tr th {\n        vertical-align: top;\n    }\n\n    .dataframe thead th {\n        text-align: right;\n    }\n</style>\n<table border=\"1\" class=\"dataframe\">\n  <thead>\n    <tr style=\"text-align: right;\">\n      <th></th>\n      <th>item_name</th>\n      <th>category_name</th>\n      <th>date</th>\n      <th>time</th>\n      <th>item_code</th>\n      <th>quantity_sold_kg</th>\n      <th>unit_selling_price_rmb/kg</th>\n      <th>sale_or_return</th>\n      <th>discount</th>\n    </tr>\n  </thead>\n  <tbody>\n    <tr>\n      <th>155128</th>\n      <td>green hot peppers</td>\n      <td>capsicum</td>\n      <td>2021-01-01</td>\n      <td>09:14:26.212</td>\n      <td>102900005116226</td>\n      <td>1.132</td>\n      <td>25.8</td>\n      <td>sale</td>\n      <td>No</td>\n    </tr>\n    <tr>\n      <th>155129</th>\n      <td>green hot peppers</td>\n      <td>capsicum</td>\n      <td>2021-01-01</td>\n      <td>09:14:26.324</td>\n      <td>102900005116226</td>\n      <td>0.593</td>\n      <td>25.8</td>\n      <td>sale</td>\n      <td>No</td>\n    </tr>\n    <tr>\n      <th>155130</th>\n      <td>yunnan lettuces</td>\n      <td>flower</td>\n      <td>2021-01-01</td>\n      <td>09:16:20.074</td>\n      <td>102900005115984</td>\n      <td>0.468</td>\n      <td>6.0</td>\n      <td>sale</td>\n      <td>No</td>\n    </tr>\n  </tbody>\n</table>\n</div>"
     },
     "execution_count": 24,
     "metadata": {},
     "output_type": "execute_result"
    }
   ],
   "source": [
    "dff.head(3)"
   ],
   "metadata": {
    "collapsed": false,
    "ExecuteTime": {
     "end_time": "2024-03-31T14:53:52.566843Z",
     "start_time": "2024-03-31T14:53:52.559831Z"
    }
   },
   "id": "95ec1b4b8f8ba5ab",
   "execution_count": 24
  },
  {
   "cell_type": "code",
   "outputs": [
    {
     "data": {
      "text/plain": "                item_name category_name        date  time        item_code  \\\n155128  green hot peppers      capsicum  2021-01-01     9  102900005116226   \n155129  green hot peppers      capsicum  2021-01-01     9  102900005116226   \n155130    yunnan lettuces        flower  2021-01-01     9  102900005115984   \n\n        quantity_sold_kg  unit_selling_price_rmb/kg  \n155128               1.1                       25.8  \n155129               0.6                       25.8  \n155130               0.5                        6.0  ",
      "text/html": "<div>\n<style scoped>\n    .dataframe tbody tr th:only-of-type {\n        vertical-align: middle;\n    }\n\n    .dataframe tbody tr th {\n        vertical-align: top;\n    }\n\n    .dataframe thead th {\n        text-align: right;\n    }\n</style>\n<table border=\"1\" class=\"dataframe\">\n  <thead>\n    <tr style=\"text-align: right;\">\n      <th></th>\n      <th>item_name</th>\n      <th>category_name</th>\n      <th>date</th>\n      <th>time</th>\n      <th>item_code</th>\n      <th>quantity_sold_kg</th>\n      <th>unit_selling_price_rmb/kg</th>\n    </tr>\n  </thead>\n  <tbody>\n    <tr>\n      <th>155128</th>\n      <td>green hot peppers</td>\n      <td>capsicum</td>\n      <td>2021-01-01</td>\n      <td>9</td>\n      <td>102900005116226</td>\n      <td>1.1</td>\n      <td>25.8</td>\n    </tr>\n    <tr>\n      <th>155129</th>\n      <td>green hot peppers</td>\n      <td>capsicum</td>\n      <td>2021-01-01</td>\n      <td>9</td>\n      <td>102900005116226</td>\n      <td>0.6</td>\n      <td>25.8</td>\n    </tr>\n    <tr>\n      <th>155130</th>\n      <td>yunnan lettuces</td>\n      <td>flower</td>\n      <td>2021-01-01</td>\n      <td>9</td>\n      <td>102900005115984</td>\n      <td>0.5</td>\n      <td>6.0</td>\n    </tr>\n  </tbody>\n</table>\n</div>"
     },
     "execution_count": 25,
     "metadata": {},
     "output_type": "execute_result"
    }
   ],
   "source": [
    "# drop unnecessary data\n",
    "filt_return = (dff['sale_or_return'] == 'sale')\n",
    "dff = dff.loc[filt_return]\n",
    "dff['time'] = dff['time'].str.split(':').str[0].astype(int)\n",
    "dff = dff.drop(columns = ['sale_or_return', 'discount'])\n",
    "\n",
    "\"\"\"quantity_sold_kg column has some values which are not in the correct format. convert them to float and round them to 1 decimal point to make them more readable and usable for the analysis\"\"\"\n",
    "\n",
    "dff['quantity_sold_kg'] = dff['quantity_sold_kg'].round(1)\n",
    "dff.head(3)"
   ],
   "metadata": {
    "collapsed": false,
    "ExecuteTime": {
     "end_time": "2024-03-31T14:53:53.657941Z",
     "start_time": "2024-03-31T14:53:52.567733Z"
    }
   },
   "id": "65595624b2eafaee",
   "execution_count": 25
  },
  {
   "cell_type": "code",
   "outputs": [
    {
     "data": {
      "text/plain": "count    442974.000000\nmean          0.478923\nstd           0.331339\nmin           0.000000\n25%           0.300000\n50%           0.400000\n75%           0.600000\nmax          25.000000\nName: quantity_sold_kg, dtype: float64"
     },
     "execution_count": 26,
     "metadata": {},
     "output_type": "execute_result"
    }
   ],
   "source": [
    "dff['quantity_sold_kg'].describe()"
   ],
   "metadata": {
    "collapsed": false,
    "ExecuteTime": {
     "end_time": "2024-03-31T14:53:53.696582Z",
     "start_time": "2024-03-31T14:53:53.667322Z"
    }
   },
   "id": "4d754298f014cfa5",
   "execution_count": 26
  },
  {
   "cell_type": "code",
   "outputs": [
    {
     "data": {
      "text/plain": "2258"
     },
     "execution_count": 27,
     "metadata": {},
     "output_type": "execute_result"
    }
   ],
   "source": [
    "(dff['quantity_sold_kg'] == 0).sum()"
   ],
   "metadata": {
    "collapsed": false,
    "ExecuteTime": {
     "end_time": "2024-03-31T14:53:53.706198Z",
     "start_time": "2024-03-31T14:53:53.699219Z"
    }
   },
   "id": "8a5760fa339e61a5",
   "execution_count": 27
  },
  {
   "cell_type": "code",
   "outputs": [
    {
     "name": "stdout",
     "output_type": "stream",
     "text": [
      "<class 'pandas.core.frame.DataFrame'>\n",
      "Index: 440716 entries, 155128 to 598332\n",
      "Data columns (total 7 columns):\n",
      " #   Column                     Non-Null Count   Dtype  \n",
      "---  ------                     --------------   -----  \n",
      " 0   item_name                  440716 non-null  object \n",
      " 1   category_name              440716 non-null  object \n",
      " 2   date                       440716 non-null  object \n",
      " 3   time                       440716 non-null  int64  \n",
      " 4   item_code                  440716 non-null  int64  \n",
      " 5   quantity_sold_kg           440716 non-null  float64\n",
      " 6   unit_selling_price_rmb/kg  440716 non-null  float64\n",
      "dtypes: float64(2), int64(2), object(3)\n",
      "memory usage: 26.9+ MB\n"
     ]
    }
   ],
   "source": [
    "# drop rows where quantity sold is 0\n",
    "filt_sold_0 = (dff['quantity_sold_kg'] == 0)\n",
    "dff = dff.loc[~filt_sold_0]\n",
    "dff.info()"
   ],
   "metadata": {
    "collapsed": false,
    "ExecuteTime": {
     "end_time": "2024-03-31T14:53:53.770068Z",
     "start_time": "2024-03-31T14:53:53.716099Z"
    }
   },
   "id": "e11b011676eb6893",
   "execution_count": 28
  },
  {
   "cell_type": "code",
   "outputs": [
    {
     "data": {
      "text/plain": "count    440716.000000\nmean          0.481376\nstd           0.330404\nmin           0.100000\n25%           0.300000\n50%           0.400000\n75%           0.600000\nmax          25.000000\nName: quantity_sold_kg, dtype: float64"
     },
     "execution_count": 29,
     "metadata": {},
     "output_type": "execute_result"
    }
   ],
   "source": [
    "dff['quantity_sold_kg'].describe()"
   ],
   "metadata": {
    "collapsed": false,
    "ExecuteTime": {
     "end_time": "2024-03-31T14:53:53.792613Z",
     "start_time": "2024-03-31T14:53:53.772368Z"
    }
   },
   "id": "989056c9354227fd",
   "execution_count": 29
  },
  {
   "cell_type": "code",
   "execution_count": 30,
   "outputs": [],
   "source": [
    "# save built dataset\n",
    "dff.to_csv('../datasets/built_dataset.csv', index=False)"
   ],
   "metadata": {
    "collapsed": false,
    "ExecuteTime": {
     "end_time": "2024-03-31T14:53:54.958727Z",
     "start_time": "2024-03-31T14:53:53.794895Z"
    }
   },
   "id": "d1aeb15737715773"
  }
 ],
 "metadata": {
  "kernelspec": {
   "display_name": "Python 3",
   "language": "python",
   "name": "python3"
  },
  "language_info": {
   "codemirror_mode": {
    "name": "ipython",
    "version": 2
   },
   "file_extension": ".py",
   "mimetype": "text/x-python",
   "name": "python",
   "nbconvert_exporter": "python",
   "pygments_lexer": "ipython2",
   "version": "2.7.6"
  }
 },
 "nbformat": 4,
 "nbformat_minor": 5
}
