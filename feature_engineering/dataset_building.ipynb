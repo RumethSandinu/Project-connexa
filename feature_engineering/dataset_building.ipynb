{
 "cells": [
  {
   "cell_type": "code",
   "execution_count": 1,
   "id": "initial_id",
   "metadata": {
    "collapsed": true,
    "ExecuteTime": {
     "end_time": "2024-02-01T14:31:53.713387Z",
     "start_time": "2024-02-01T14:31:53.263197Z"
    }
   },
   "outputs": [],
   "source": [
    "import pandas as pd"
   ]
  },
  {
   "cell_type": "code",
   "execution_count": 2,
   "outputs": [
    {
     "data": {
      "text/plain": "         Item Code              Item Name  Category Code  \\\n0  102900005115168       Niushou Shengcai     1011010101   \n1  102900005115199      Sichuan Red Cedar     1011010101   \n2  102900005115625  Local Xiaomao Cabbage     1011010101   \n\n            Category Name  \n0  Flower/Leaf Vegetables  \n1  Flower/Leaf Vegetables  \n2  Flower/Leaf Vegetables  ",
      "text/html": "<div>\n<style scoped>\n    .dataframe tbody tr th:only-of-type {\n        vertical-align: middle;\n    }\n\n    .dataframe tbody tr th {\n        vertical-align: top;\n    }\n\n    .dataframe thead th {\n        text-align: right;\n    }\n</style>\n<table border=\"1\" class=\"dataframe\">\n  <thead>\n    <tr style=\"text-align: right;\">\n      <th></th>\n      <th>Item Code</th>\n      <th>Item Name</th>\n      <th>Category Code</th>\n      <th>Category Name</th>\n    </tr>\n  </thead>\n  <tbody>\n    <tr>\n      <th>0</th>\n      <td>102900005115168</td>\n      <td>Niushou Shengcai</td>\n      <td>1011010101</td>\n      <td>Flower/Leaf Vegetables</td>\n    </tr>\n    <tr>\n      <th>1</th>\n      <td>102900005115199</td>\n      <td>Sichuan Red Cedar</td>\n      <td>1011010101</td>\n      <td>Flower/Leaf Vegetables</td>\n    </tr>\n    <tr>\n      <th>2</th>\n      <td>102900005115625</td>\n      <td>Local Xiaomao Cabbage</td>\n      <td>1011010101</td>\n      <td>Flower/Leaf Vegetables</td>\n    </tr>\n  </tbody>\n</table>\n</div>"
     },
     "execution_count": 2,
     "metadata": {},
     "output_type": "execute_result"
    }
   ],
   "source": [
    "# read item.csv\n",
    "df1 = pd.read_csv('../../datasets/annex/item.csv')\n",
    "df1.head(3)"
   ],
   "metadata": {
    "collapsed": false,
    "ExecuteTime": {
     "end_time": "2024-02-01T14:31:53.723902Z",
     "start_time": "2024-02-01T14:31:53.713980Z"
    }
   },
   "id": "8e4f9211ddae87b6"
  },
  {
   "cell_type": "code",
   "execution_count": 3,
   "outputs": [
    {
     "name": "stdout",
     "output_type": "stream",
     "text": [
      "<class 'pandas.core.frame.DataFrame'>\n",
      "RangeIndex: 251 entries, 0 to 250\n",
      "Data columns (total 4 columns):\n",
      " #   Column         Non-Null Count  Dtype \n",
      "---  ------         --------------  ----- \n",
      " 0   Item Code      251 non-null    int64 \n",
      " 1   Item Name      251 non-null    object\n",
      " 2   Category Code  251 non-null    int64 \n",
      " 3   Category Name  251 non-null    object\n",
      "dtypes: int64(2), object(2)\n",
      "memory usage: 8.0+ KB\n"
     ]
    }
   ],
   "source": [
    "# check data types, shape and null values\n",
    "df1.info()"
   ],
   "metadata": {
    "collapsed": false,
    "ExecuteTime": {
     "end_time": "2024-02-01T14:31:53.727374Z",
     "start_time": "2024-02-01T14:31:53.724420Z"
    }
   },
   "id": "78ed671b18013277"
  },
  {
   "cell_type": "code",
   "execution_count": 4,
   "outputs": [
    {
     "data": {
      "text/plain": "Item Code\nFalse    251\nName: count, dtype: int64"
     },
     "execution_count": 4,
     "metadata": {},
     "output_type": "execute_result"
    }
   ],
   "source": [
    "# check if item code duplicates\n",
    "df1['Item Code'].duplicated().value_counts()"
   ],
   "metadata": {
    "collapsed": false,
    "ExecuteTime": {
     "end_time": "2024-02-01T14:31:53.932776Z",
     "start_time": "2024-02-01T14:31:53.928729Z"
    }
   },
   "id": "34b9ca94737f53fb"
  },
  {
   "cell_type": "code",
   "execution_count": 5,
   "outputs": [
    {
     "data": {
      "text/plain": "           Item Code               Item Name  Category Code  \\\n250  106973990980123  Hfyg Haixian Mushroom      1011010801   \n187  102900005119944       Haixian Mushroom      1011010801   \n81   102900011033920            Huangxincai      1011010101   \n\n              Category Name  \n250         Edible Mushroom  \n187         Edible Mushroom  \n81   Flower/Leaf Vegetables  ",
      "text/html": "<div>\n<style scoped>\n    .dataframe tbody tr th:only-of-type {\n        vertical-align: middle;\n    }\n\n    .dataframe tbody tr th {\n        vertical-align: top;\n    }\n\n    .dataframe thead th {\n        text-align: right;\n    }\n</style>\n<table border=\"1\" class=\"dataframe\">\n  <thead>\n    <tr style=\"text-align: right;\">\n      <th></th>\n      <th>Item Code</th>\n      <th>Item Name</th>\n      <th>Category Code</th>\n      <th>Category Name</th>\n    </tr>\n  </thead>\n  <tbody>\n    <tr>\n      <th>250</th>\n      <td>106973990980123</td>\n      <td>Hfyg Haixian Mushroom</td>\n      <td>1011010801</td>\n      <td>Edible Mushroom</td>\n    </tr>\n    <tr>\n      <th>187</th>\n      <td>102900005119944</td>\n      <td>Haixian Mushroom</td>\n      <td>1011010801</td>\n      <td>Edible Mushroom</td>\n    </tr>\n    <tr>\n      <th>81</th>\n      <td>102900011033920</td>\n      <td>Huangxincai</td>\n      <td>1011010101</td>\n      <td>Flower/Leaf Vegetables</td>\n    </tr>\n  </tbody>\n</table>\n</div>"
     },
     "execution_count": 5,
     "metadata": {},
     "output_type": "execute_result"
    }
   ],
   "source": [
    "\"\"\"there are items in the dataset which have the same name upto certain point but different item code for example some item available as a powder and leaves. for the ease of the implementation, drop the duplicated item names and keep only first value assuming the item is available in the market as a single type.\"\"\"\n",
    "\n",
    "# split item names where duplication name starts\n",
    "df1['Item Name'] = df1['Item Name'].apply(lambda x : x.split('(')[0])\n",
    "df1.sample(3)"
   ],
   "metadata": {
    "collapsed": false,
    "ExecuteTime": {
     "end_time": "2024-02-01T14:31:54.363362Z",
     "start_time": "2024-02-01T14:31:54.359170Z"
    }
   },
   "id": "d5acee1e3f03d6a"
  },
  {
   "cell_type": "code",
   "execution_count": 6,
   "outputs": [
    {
     "data": {
      "text/plain": "Item Name\nFalse    194\nTrue      57\nName: count, dtype: int64"
     },
     "execution_count": 6,
     "metadata": {},
     "output_type": "execute_result"
    }
   ],
   "source": [
    "# check for duplicated names\n",
    "df1['Item Name'].duplicated().value_counts()"
   ],
   "metadata": {
    "collapsed": false,
    "ExecuteTime": {
     "end_time": "2024-02-01T14:31:54.606783Z",
     "start_time": "2024-02-01T14:31:54.603299Z"
    }
   },
   "id": "956218b5c7fc9825"
  },
  {
   "cell_type": "code",
   "execution_count": 7,
   "outputs": [
    {
     "data": {
      "text/plain": "(194, 4)"
     },
     "execution_count": 7,
     "metadata": {},
     "output_type": "execute_result"
    }
   ],
   "source": [
    "# drop the duplicates keeping only first value\n",
    "df1 = df1.drop_duplicates(subset=['Item Name'], keep='first')\n",
    "df1.shape"
   ],
   "metadata": {
    "collapsed": false,
    "ExecuteTime": {
     "end_time": "2024-02-01T14:31:54.803556Z",
     "start_time": "2024-02-01T14:31:54.800437Z"
    }
   },
   "id": "3175a0cf2d606740"
  },
  {
   "cell_type": "code",
   "execution_count": 8,
   "outputs": [
    {
     "data": {
      "text/plain": "Category Name\nFlower/Leaf Vegetables         94\nEdible Mushroom                41\nCapsicum                       35\nAquatic Tuberous Vegetables    14\nSolanum                         7\nCabbage                         3\nName: count, dtype: int64"
     },
     "execution_count": 8,
     "metadata": {},
     "output_type": "execute_result"
    }
   ],
   "source": [
    "# check the frequency of categories\n",
    "df1['Category Name'].value_counts()"
   ],
   "metadata": {
    "collapsed": false,
    "ExecuteTime": {
     "end_time": "2024-02-01T14:31:55.375627Z",
     "start_time": "2024-02-01T14:31:55.368987Z"
    }
   },
   "id": "b1ca6678c24298fd"
  },
  {
   "cell_type": "code",
   "execution_count": 9,
   "outputs": [
    {
     "data": {
      "text/plain": "Category Name\nFlower      94\nMushroom    41\nCapsicum    35\nAquatic     14\nSolanum      7\nCabbage      3\nName: count, dtype: int64"
     },
     "execution_count": 9,
     "metadata": {},
     "output_type": "execute_result"
    }
   ],
   "source": [
    "def rename_category(data):\n",
    "    if data == 'Flower/Leaf Vegetables':\n",
    "        return 'Flower'\n",
    "    if data == 'Edible Mushroom':\n",
    "        return 'Mushroom'\n",
    "    if data == 'Aquatic Tuberous Vegetables':\n",
    "        return 'Aquatic'\n",
    "    return data\n",
    "\n",
    "\n",
    "# rename all categories to readable value\n",
    "df1['Category Name'] = df1['Category Name'].apply(rename_category)\n",
    "df1['Category Name'].value_counts()"
   ],
   "metadata": {
    "collapsed": false,
    "ExecuteTime": {
     "end_time": "2024-02-01T14:31:55.639656Z",
     "start_time": "2024-02-01T14:31:55.636801Z"
    }
   },
   "id": "e8123fbaed77245a"
  },
  {
   "cell_type": "code",
   "outputs": [
    {
     "data": {
      "text/plain": "          Item Code             Item Name  Category Code Category Name\n30  102900011000571  suizhou bubble green     1011010101        flower\n29  102900011000175               kuaicai     1011010101        flower\n53  102900011027462        naibai caimiao     1011010101        flower",
      "text/html": "<div>\n<style scoped>\n    .dataframe tbody tr th:only-of-type {\n        vertical-align: middle;\n    }\n\n    .dataframe tbody tr th {\n        vertical-align: top;\n    }\n\n    .dataframe thead th {\n        text-align: right;\n    }\n</style>\n<table border=\"1\" class=\"dataframe\">\n  <thead>\n    <tr style=\"text-align: right;\">\n      <th></th>\n      <th>Item Code</th>\n      <th>Item Name</th>\n      <th>Category Code</th>\n      <th>Category Name</th>\n    </tr>\n  </thead>\n  <tbody>\n    <tr>\n      <th>30</th>\n      <td>102900011000571</td>\n      <td>suizhou bubble green</td>\n      <td>1011010101</td>\n      <td>flower</td>\n    </tr>\n    <tr>\n      <th>29</th>\n      <td>102900011000175</td>\n      <td>kuaicai</td>\n      <td>1011010101</td>\n      <td>flower</td>\n    </tr>\n    <tr>\n      <th>53</th>\n      <td>102900011027462</td>\n      <td>naibai caimiao</td>\n      <td>1011010101</td>\n      <td>flower</td>\n    </tr>\n  </tbody>\n</table>\n</div>"
     },
     "execution_count": 10,
     "metadata": {},
     "output_type": "execute_result"
    }
   ],
   "source": [
    "# lowercases all item names and category names\n",
    "df1['Item Name'] = df1['Item Name'].str.lower()\n",
    "df1['Category Name'] = df1['Category Name'].str.lower()\n",
    "df1.sample(3)"
   ],
   "metadata": {
    "collapsed": false,
    "ExecuteTime": {
     "end_time": "2024-02-01T14:31:55.871696Z",
     "start_time": "2024-02-01T14:31:55.867002Z"
    }
   },
   "id": "e144b120c12e774f",
   "execution_count": 10
  },
  {
   "cell_type": "code",
   "execution_count": 11,
   "outputs": [
    {
     "data": {
      "text/plain": "         Date          Time        Item Code  Quantity Sold (kilo)  \\\n0  2020-07-01  09:15:07.924  102900005117056                 0.396   \n1  2020-07-01  09:17:27.295  102900005115960                 0.849   \n2  2020-07-01  09:17:33.905  102900005117056                 0.409   \n\n   Unit Selling Price (RMB/kg) Sale or Return Discount (Yes/No)  \n0                          7.6           sale                No  \n1                          3.2           sale                No  \n2                          7.6           sale                No  ",
      "text/html": "<div>\n<style scoped>\n    .dataframe tbody tr th:only-of-type {\n        vertical-align: middle;\n    }\n\n    .dataframe tbody tr th {\n        vertical-align: top;\n    }\n\n    .dataframe thead th {\n        text-align: right;\n    }\n</style>\n<table border=\"1\" class=\"dataframe\">\n  <thead>\n    <tr style=\"text-align: right;\">\n      <th></th>\n      <th>Date</th>\n      <th>Time</th>\n      <th>Item Code</th>\n      <th>Quantity Sold (kilo)</th>\n      <th>Unit Selling Price (RMB/kg)</th>\n      <th>Sale or Return</th>\n      <th>Discount (Yes/No)</th>\n    </tr>\n  </thead>\n  <tbody>\n    <tr>\n      <th>0</th>\n      <td>2020-07-01</td>\n      <td>09:15:07.924</td>\n      <td>102900005117056</td>\n      <td>0.396</td>\n      <td>7.6</td>\n      <td>sale</td>\n      <td>No</td>\n    </tr>\n    <tr>\n      <th>1</th>\n      <td>2020-07-01</td>\n      <td>09:17:27.295</td>\n      <td>102900005115960</td>\n      <td>0.849</td>\n      <td>3.2</td>\n      <td>sale</td>\n      <td>No</td>\n    </tr>\n    <tr>\n      <th>2</th>\n      <td>2020-07-01</td>\n      <td>09:17:33.905</td>\n      <td>102900005117056</td>\n      <td>0.409</td>\n      <td>7.6</td>\n      <td>sale</td>\n      <td>No</td>\n    </tr>\n  </tbody>\n</table>\n</div>"
     },
     "execution_count": 11,
     "metadata": {},
     "output_type": "execute_result"
    }
   ],
   "source": [
    "# read sale.csv\n",
    "df2 = pd.read_csv('../../datasets/annex/sale.csv')\n",
    "df2.head(3)"
   ],
   "metadata": {
    "collapsed": false,
    "ExecuteTime": {
     "end_time": "2024-02-01T14:31:56.689157Z",
     "start_time": "2024-02-01T14:31:56.182840Z"
    }
   },
   "id": "e91032627b07ee8c"
  },
  {
   "cell_type": "code",
   "execution_count": 12,
   "outputs": [
    {
     "name": "stdout",
     "output_type": "stream",
     "text": [
      "<class 'pandas.core.frame.DataFrame'>\n",
      "RangeIndex: 878503 entries, 0 to 878502\n",
      "Data columns (total 7 columns):\n",
      " #   Column                       Non-Null Count   Dtype  \n",
      "---  ------                       --------------   -----  \n",
      " 0   Date                         878503 non-null  object \n",
      " 1   Time                         878503 non-null  object \n",
      " 2   Item Code                    878503 non-null  int64  \n",
      " 3   Quantity Sold (kilo)         878503 non-null  float64\n",
      " 4   Unit Selling Price (RMB/kg)  878503 non-null  float64\n",
      " 5   Sale or Return               878503 non-null  object \n",
      " 6   Discount (Yes/No)            878503 non-null  object \n",
      "dtypes: float64(2), int64(1), object(4)\n",
      "memory usage: 46.9+ MB\n"
     ]
    }
   ],
   "source": [
    "# check data types, shape and null values\n",
    "df2.info()"
   ],
   "metadata": {
    "collapsed": false,
    "ExecuteTime": {
     "end_time": "2024-02-01T14:31:56.756109Z",
     "start_time": "2024-02-01T14:31:56.685383Z"
    }
   },
   "id": "cbba1e17241ebd7e"
  },
  {
   "cell_type": "code",
   "execution_count": 13,
   "outputs": [
    {
     "data": {
      "text/plain": "(191, 4)"
     },
     "execution_count": 13,
     "metadata": {},
     "output_type": "execute_result"
    }
   ],
   "source": [
    "# get item codes in df1 which present in df3\n",
    "filt = df1['Item Code'].isin(df2['Item Code'])\n",
    "df1 = df1.loc[filt]\n",
    "df1.shape"
   ],
   "metadata": {
    "collapsed": false,
    "ExecuteTime": {
     "end_time": "2024-02-01T14:31:56.870893Z",
     "start_time": "2024-02-01T14:31:56.862636Z"
    }
   },
   "id": "36f13c005a0065f0"
  },
  {
   "cell_type": "code",
   "execution_count": 14,
   "outputs": [
    {
     "data": {
      "text/plain": "(737337, 7)"
     },
     "execution_count": 14,
     "metadata": {},
     "output_type": "execute_result"
    }
   ],
   "source": [
    "# get item codes in df3 which present in df1\n",
    "filt = df2['Item Code'].isin(df1['Item Code'])\n",
    "df2 = df2.loc[filt]\n",
    "df2.shape"
   ],
   "metadata": {
    "collapsed": false,
    "ExecuteTime": {
     "end_time": "2024-02-01T14:31:57.139430Z",
     "start_time": "2024-02-01T14:31:57.093454Z"
    }
   },
   "id": "6589b5cecc2993c"
  },
  {
   "cell_type": "code",
   "execution_count": 15,
   "outputs": [
    {
     "name": "stdout",
     "output_type": "stream",
     "text": [
      "<class 'pandas.core.frame.DataFrame'>\n",
      "RangeIndex: 737337 entries, 0 to 737336\n",
      "Data columns (total 7 columns):\n",
      " #   Column                       Non-Null Count   Dtype  \n",
      "---  ------                       --------------   -----  \n",
      " 0   Date                         737337 non-null  object \n",
      " 1   Time                         737337 non-null  object \n",
      " 2   Item Code                    737337 non-null  int64  \n",
      " 3   Quantity Sold (kilo)         737337 non-null  float64\n",
      " 4   Unit Selling Price (RMB/kg)  737337 non-null  float64\n",
      " 5   Sale or Return               737337 non-null  object \n",
      " 6   Discount (Yes/No)            737337 non-null  object \n",
      "dtypes: float64(2), int64(1), object(4)\n",
      "memory usage: 39.4+ MB\n"
     ]
    }
   ],
   "source": [
    "# getting a copy of df3 and assigning it to dff\n",
    "dff = df2.copy().reset_index(drop=True)\n",
    "dff.info()"
   ],
   "metadata": {
    "collapsed": false,
    "ExecuteTime": {
     "end_time": "2024-02-01T14:31:57.592270Z",
     "start_time": "2024-02-01T14:31:57.495291Z"
    }
   },
   "id": "70e418d00022cc43"
  },
  {
   "cell_type": "code",
   "execution_count": 16,
   "outputs": [
    {
     "name": "stdout",
     "output_type": "stream",
     "text": [
      "<class 'pandas.core.frame.DataFrame'>\n",
      "RangeIndex: 737337 entries, 0 to 737336\n",
      "Data columns (total 9 columns):\n",
      " #   Column                       Non-Null Count   Dtype  \n",
      "---  ------                       --------------   -----  \n",
      " 0   Date                         737337 non-null  object \n",
      " 1   Time                         737337 non-null  object \n",
      " 2   Item Code                    737337 non-null  int64  \n",
      " 3   Quantity Sold (kilo)         737337 non-null  float64\n",
      " 4   Unit Selling Price (RMB/kg)  737337 non-null  float64\n",
      " 5   Sale or Return               737337 non-null  object \n",
      " 6   Discount (Yes/No)            737337 non-null  object \n",
      " 7   Item Name                    737337 non-null  object \n",
      " 8   Category Name                737337 non-null  object \n",
      "dtypes: float64(2), int64(1), object(6)\n",
      "memory usage: 50.6+ MB\n"
     ]
    }
   ],
   "source": [
    "# merge df3 with df1 (item name, category name)\n",
    "for i in range(dff.shape[0]):\n",
    "    for j in range(df1.shape[0]):\n",
    "        if dff['Item Code'].values[i] == df1['Item Code'].values[j]:\n",
    "            dff.at[i, 'Item Name'] = df1['Item Name'].values[j]\n",
    "            dff.at[i, 'Category Name'] = df1['Category Name'].values[j]\n",
    "            break\n",
    "\n",
    "# check data types, shape and null values\n",
    "dff.info()"
   ],
   "metadata": {
    "collapsed": false,
    "ExecuteTime": {
     "end_time": "2024-02-01T14:36:02.419210Z",
     "start_time": "2024-02-01T14:31:58.096095Z"
    }
   },
   "id": "f7fb01539b2247e3"
  },
  {
   "cell_type": "code",
   "outputs": [
    {
     "data": {
      "text/plain": "191"
     },
     "execution_count": 17,
     "metadata": {},
     "output_type": "execute_result"
    }
   ],
   "source": [
    "# check unique items\n",
    "dff['Item Name'].unique().shape[0]"
   ],
   "metadata": {
    "collapsed": false,
    "ExecuteTime": {
     "end_time": "2024-02-01T14:36:08.118687Z",
     "start_time": "2024-02-01T14:36:08.100598Z"
    }
   },
   "id": "13613a7db1080e38",
   "execution_count": 17
  },
  {
   "cell_type": "code",
   "execution_count": 18,
   "outputs": [
    {
     "data": {
      "text/plain": "                Item Name Category Name        Date          Time  \\\n352006  green line pepper      capsicum  2021-08-31  09:29:49.848   \n376321    yunnan lettuces        flower  2021-10-02  17:17:46.083   \n693994            wawacai        flower  2023-04-04   19:06:11.64   \n\n              Item Code  Quantity Sold (kilo)  Unit Selling Price (RMB/kg)  \\\n352006  102900051004294                 0.050                          8.0   \n376321  102900005115984                 0.445                          6.0   \n693994  102900005118831                 1.000                          6.0   \n\n       Sale or Return Discount (Yes/No)  \n352006           sale                No  \n376321           sale               Yes  \n693994           sale                No  ",
      "text/html": "<div>\n<style scoped>\n    .dataframe tbody tr th:only-of-type {\n        vertical-align: middle;\n    }\n\n    .dataframe tbody tr th {\n        vertical-align: top;\n    }\n\n    .dataframe thead th {\n        text-align: right;\n    }\n</style>\n<table border=\"1\" class=\"dataframe\">\n  <thead>\n    <tr style=\"text-align: right;\">\n      <th></th>\n      <th>Item Name</th>\n      <th>Category Name</th>\n      <th>Date</th>\n      <th>Time</th>\n      <th>Item Code</th>\n      <th>Quantity Sold (kilo)</th>\n      <th>Unit Selling Price (RMB/kg)</th>\n      <th>Sale or Return</th>\n      <th>Discount (Yes/No)</th>\n    </tr>\n  </thead>\n  <tbody>\n    <tr>\n      <th>352006</th>\n      <td>green line pepper</td>\n      <td>capsicum</td>\n      <td>2021-08-31</td>\n      <td>09:29:49.848</td>\n      <td>102900051004294</td>\n      <td>0.050</td>\n      <td>8.0</td>\n      <td>sale</td>\n      <td>No</td>\n    </tr>\n    <tr>\n      <th>376321</th>\n      <td>yunnan lettuces</td>\n      <td>flower</td>\n      <td>2021-10-02</td>\n      <td>17:17:46.083</td>\n      <td>102900005115984</td>\n      <td>0.445</td>\n      <td>6.0</td>\n      <td>sale</td>\n      <td>Yes</td>\n    </tr>\n    <tr>\n      <th>693994</th>\n      <td>wawacai</td>\n      <td>flower</td>\n      <td>2023-04-04</td>\n      <td>19:06:11.64</td>\n      <td>102900005118831</td>\n      <td>1.000</td>\n      <td>6.0</td>\n      <td>sale</td>\n      <td>No</td>\n    </tr>\n  </tbody>\n</table>\n</div>"
     },
     "execution_count": 18,
     "metadata": {},
     "output_type": "execute_result"
    }
   ],
   "source": [
    "# Get the column names to lists\n",
    "\n",
    "first_columns = dff.columns[:-2].tolist()\n",
    "last_two_columns = dff.columns[-2:].tolist()\n",
    "\n",
    "# Rearrange the columns\n",
    "\n",
    "order = last_two_columns + first_columns\n",
    "dff = dff[order]\n",
    "\n",
    "# check all the operations successful\n",
    "dff.sample(3)"
   ],
   "metadata": {
    "collapsed": false,
    "ExecuteTime": {
     "end_time": "2024-02-01T14:36:08.894697Z",
     "start_time": "2024-02-01T14:36:08.826270Z"
    }
   },
   "id": "3befb7395baaec6"
  },
  {
   "cell_type": "code",
   "outputs": [
    {
     "data": {
      "text/plain": "Index(['item_name', 'category_name', 'date', 'time', 'item_code',\n       'quantity_sold_kg', 'unit_selling_price_rmb/kg', 'sale_or_return',\n       'discount'],\n      dtype='object')"
     },
     "execution_count": 19,
     "metadata": {},
     "output_type": "execute_result"
    }
   ],
   "source": [
    "\"\"\"to follow a one standard in implementation, change all the column names to snake case\"\"\"\n",
    "\n",
    "dff.rename(columns={'Quantity Sold (kilo)': 'Quantity Sold Kg', \n",
    "                    'Unit Selling Price (RMB/kg)': 'Unit Selling Price RMB/Kg', \n",
    "                    'Discount (Yes/No)': 'Discount'}, inplace=True)\n",
    "\n",
    "dff.rename(str.lower, axis='columns', inplace=True)\n",
    "\n",
    "dff.rename(lambda x: x.replace(\" \", \"_\"), axis='columns', inplace=True)\n",
    "dff.columns"
   ],
   "metadata": {
    "collapsed": false,
    "ExecuteTime": {
     "end_time": "2024-02-01T14:36:10.171025Z",
     "start_time": "2024-02-01T14:36:10.162738Z"
    }
   },
   "id": "fd546103421314ec",
   "execution_count": 19
  },
  {
   "cell_type": "code",
   "outputs": [
    {
     "data": {
      "text/plain": "('2020-07-01', '2023-06-30')"
     },
     "execution_count": 21,
     "metadata": {},
     "output_type": "execute_result"
    }
   ],
   "source": [
    "# check date range\n",
    "dff['date'].min(), dff['date'].max()"
   ],
   "metadata": {
    "collapsed": false,
    "ExecuteTime": {
     "end_time": "2024-02-01T14:36:33.421172Z",
     "start_time": "2024-02-01T14:36:33.389388Z"
    }
   },
   "id": "7bfaa8dba0d2c4e2",
   "execution_count": 21
  },
  {
   "cell_type": "code",
   "outputs": [
    {
     "data": {
      "text/plain": "(475428, 9)"
     },
     "execution_count": 22,
     "metadata": {},
     "output_type": "execute_result"
    }
   ],
   "source": [
    "# select 2 year range of data\n",
    "filt = (dff['date'] >= '2021-01-01') & (dff['date'] <= '2022-12-31')\n",
    "dff = dff.loc[filt]\n",
    "dff.shape"
   ],
   "metadata": {
    "collapsed": false,
    "ExecuteTime": {
     "end_time": "2024-02-01T14:36:35.409715Z",
     "start_time": "2024-02-01T14:36:35.356024Z"
    }
   },
   "id": "681bcaece6ddae5a",
   "execution_count": 22
  },
  {
   "cell_type": "code",
   "execution_count": 23,
   "outputs": [],
   "source": [
    "# save built dataset\n",
    "dff.to_csv('../../datasets/built_dataset.csv', index=False)"
   ],
   "metadata": {
    "collapsed": false,
    "ExecuteTime": {
     "end_time": "2024-02-01T14:36:38.156008Z",
     "start_time": "2024-02-01T14:36:37.154200Z"
    }
   },
   "id": "d1aeb15737715773"
  }
 ],
 "metadata": {
  "kernelspec": {
   "display_name": "Python 3",
   "language": "python",
   "name": "python3"
  },
  "language_info": {
   "codemirror_mode": {
    "name": "ipython",
    "version": 2
   },
   "file_extension": ".py",
   "mimetype": "text/x-python",
   "name": "python",
   "nbconvert_exporter": "python",
   "pygments_lexer": "ipython2",
   "version": "2.7.6"
  }
 },
 "nbformat": 4,
 "nbformat_minor": 5
}
