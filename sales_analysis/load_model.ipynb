{
 "cells": [
  {
   "cell_type": "code",
   "execution_count": 1,
   "id": "initial_id",
   "metadata": {
    "collapsed": true,
    "ExecuteTime": {
     "end_time": "2024-03-23T13:49:27.134918Z",
     "start_time": "2024-03-23T13:49:23.052182Z"
    }
   },
   "outputs": [
    {
     "name": "stderr",
     "output_type": "stream",
     "text": [
      "/Users/rumethsandinu/Library/Python/3.9/lib/python/site-packages/urllib3/__init__.py:35: NotOpenSSLWarning: urllib3 v2 only supports OpenSSL 1.1.1+, currently the 'ssl' module is compiled with 'LibreSSL 2.8.3'. See: https://github.com/urllib3/urllib3/issues/3020\n",
      "  warnings.warn(\n"
     ]
    }
   ],
   "source": [
    "import tf_keras as tf"
   ]
  },
  {
   "cell_type": "code",
   "execution_count": 2,
   "outputs": [
    {
     "name": "stderr",
     "output_type": "stream",
     "text": [
      "2024-03-23 19:19:27.157979: I metal_plugin/src/device/metal_device.cc:1154] Metal device set to: Apple M2\n",
      "2024-03-23 19:19:27.158009: I metal_plugin/src/device/metal_device.cc:296] systemMemory: 8.00 GB\n",
      "2024-03-23 19:19:27.158019: I metal_plugin/src/device/metal_device.cc:313] maxCacheSize: 2.67 GB\n",
      "2024-03-23 19:19:27.158216: I tensorflow/core/common_runtime/pluggable_device/pluggable_device_factory.cc:305] Could not identify NUMA node of platform GPU ID 0, defaulting to 0. Your kernel may not have been built with NUMA support.\n",
      "2024-03-23 19:19:27.158244: I tensorflow/core/common_runtime/pluggable_device/pluggable_device_factory.cc:271] Created TensorFlow device (/job:localhost/replica:0/task:0/device:GPU:0 with 0 MB memory) -> physical PluggableDevice (device: 0, name: METAL, pci bus id: <undefined>)\n"
     ]
    },
    {
     "name": "stdout",
     "output_type": "stream",
     "text": [
      "Model: \"sequential_1\"\n",
      "_________________________________________________________________\n",
      " Layer (type)                Output Shape              Param #   \n",
      "=================================================================\n",
      " dense_4 (Dense)             (None, 155)               24180     \n",
      "                                                                 \n",
      " reshape_2 (Reshape)         (None, 1, 155)            0         \n",
      "                                                                 \n",
      " lstm_2 (LSTM)               (None, 128)               145408    \n",
      "                                                                 \n",
      " dense_5 (Dense)             (None, 64)                8256      \n",
      "                                                                 \n",
      " reshape_3 (Reshape)         (None, 1, 64)             0         \n",
      "                                                                 \n",
      " lstm_3 (LSTM)               (None, 16)                5184      \n",
      "                                                                 \n",
      " dense_6 (Dense)             (None, 4)                 68        \n",
      "                                                                 \n",
      " dense_7 (Dense)             (None, 1)                 5         \n",
      "                                                                 \n",
      "=================================================================\n",
      "Total params: 183101 (715.24 KB)\n",
      "Trainable params: 183101 (715.24 KB)\n",
      "Non-trainable params: 0 (0.00 Byte)\n",
      "_________________________________________________________________\n"
     ]
    }
   ],
   "source": [
    "model = tf.models.load_model('sales_prediction_model')\n",
    "model.summary()"
   ],
   "metadata": {
    "collapsed": false,
    "ExecuteTime": {
     "end_time": "2024-03-23T13:49:28.637422Z",
     "start_time": "2024-03-23T13:49:27.136405Z"
    }
   },
   "id": "71792d808fc96d81"
  },
  {
   "cell_type": "code",
   "outputs": [],
   "source": [
    "import pandas as pd"
   ],
   "metadata": {
    "collapsed": false
   },
   "id": "9c5fd9e595914994",
   "execution_count": 3
  },
  {
   "cell_type": "code",
   "outputs": [
    {
     "data": {
      "text/plain": "   Unnamed: 0  quantity_sold_kg  unit_selling_price_rmb/kg  \\\n0           0            1.0000                   6.900000   \n1           1            0.4258                   5.000000   \n2           2            1.0000                   3.942857   \n3           3            0.6660                  12.000000   \n4           4            0.0030                  33.600000   \n\n   item_name_7 colour pepper   item_name_agaricus bisporus   item_name_aihao  \\\n0                       False                         False            False   \n1                       False                         False            False   \n2                       False                         False            False   \n3                       False                         False            False   \n4                       False                         False            False   \n\n   item_name_amaranth   item_name_apricot bao mushroom   item_name_basil   \\\n0                False                            False             False   \n1                False                            False             False   \n2                False                            False             False   \n3                False                            False             False   \n4                False                            False             False   \n\n   item_name_bell pepper   ...  item_name_yuxingcao   \\\n0                   False  ...                 False   \n1                   False  ...                 False   \n2                   False  ...                 False   \n3                   False  ...                 False   \n4                   False  ...                 False   \n\n   item_name_zhijiang red bolt   item_name_zhimaxiancai  item_name_zhuyecai   \\\n0                         False                   False                False   \n1                         False                   False                False   \n2                         False                   False                False   \n3                         False                   False                False   \n4                         False                   False                False   \n\n   category_name_aquatic  category_name_cabbage  category_name_capsicum  \\\n0                  False                  False                    True   \n1                  False                  False                   False   \n2                  False                  False                   False   \n3                  False                  False                   False   \n4                  False                  False                   False   \n\n   category_name_flower  category_name_mushroom  category_name_solanum  \n0                 False                   False                  False  \n1                  True                   False                  False  \n2                  True                   False                  False  \n3                 False                   False                   True  \n4                  True                   False                  False  \n\n[5 rows x 157 columns]",
      "text/html": "<div>\n<style scoped>\n    .dataframe tbody tr th:only-of-type {\n        vertical-align: middle;\n    }\n\n    .dataframe tbody tr th {\n        vertical-align: top;\n    }\n\n    .dataframe thead th {\n        text-align: right;\n    }\n</style>\n<table border=\"1\" class=\"dataframe\">\n  <thead>\n    <tr style=\"text-align: right;\">\n      <th></th>\n      <th>Unnamed: 0</th>\n      <th>quantity_sold_kg</th>\n      <th>unit_selling_price_rmb/kg</th>\n      <th>item_name_7 colour pepper</th>\n      <th>item_name_agaricus bisporus</th>\n      <th>item_name_aihao</th>\n      <th>item_name_amaranth</th>\n      <th>item_name_apricot bao mushroom</th>\n      <th>item_name_basil</th>\n      <th>item_name_bell pepper</th>\n      <th>...</th>\n      <th>item_name_yuxingcao</th>\n      <th>item_name_zhijiang red bolt</th>\n      <th>item_name_zhimaxiancai</th>\n      <th>item_name_zhuyecai</th>\n      <th>category_name_aquatic</th>\n      <th>category_name_cabbage</th>\n      <th>category_name_capsicum</th>\n      <th>category_name_flower</th>\n      <th>category_name_mushroom</th>\n      <th>category_name_solanum</th>\n    </tr>\n  </thead>\n  <tbody>\n    <tr>\n      <th>0</th>\n      <td>0</td>\n      <td>1.0000</td>\n      <td>6.900000</td>\n      <td>False</td>\n      <td>False</td>\n      <td>False</td>\n      <td>False</td>\n      <td>False</td>\n      <td>False</td>\n      <td>False</td>\n      <td>...</td>\n      <td>False</td>\n      <td>False</td>\n      <td>False</td>\n      <td>False</td>\n      <td>False</td>\n      <td>False</td>\n      <td>True</td>\n      <td>False</td>\n      <td>False</td>\n      <td>False</td>\n    </tr>\n    <tr>\n      <th>1</th>\n      <td>1</td>\n      <td>0.4258</td>\n      <td>5.000000</td>\n      <td>False</td>\n      <td>False</td>\n      <td>False</td>\n      <td>False</td>\n      <td>False</td>\n      <td>False</td>\n      <td>False</td>\n      <td>...</td>\n      <td>False</td>\n      <td>False</td>\n      <td>False</td>\n      <td>False</td>\n      <td>False</td>\n      <td>False</td>\n      <td>False</td>\n      <td>True</td>\n      <td>False</td>\n      <td>False</td>\n    </tr>\n    <tr>\n      <th>2</th>\n      <td>2</td>\n      <td>1.0000</td>\n      <td>3.942857</td>\n      <td>False</td>\n      <td>False</td>\n      <td>False</td>\n      <td>False</td>\n      <td>False</td>\n      <td>False</td>\n      <td>False</td>\n      <td>...</td>\n      <td>False</td>\n      <td>False</td>\n      <td>False</td>\n      <td>False</td>\n      <td>False</td>\n      <td>False</td>\n      <td>False</td>\n      <td>True</td>\n      <td>False</td>\n      <td>False</td>\n    </tr>\n    <tr>\n      <th>3</th>\n      <td>3</td>\n      <td>0.6660</td>\n      <td>12.000000</td>\n      <td>False</td>\n      <td>False</td>\n      <td>False</td>\n      <td>False</td>\n      <td>False</td>\n      <td>False</td>\n      <td>False</td>\n      <td>...</td>\n      <td>False</td>\n      <td>False</td>\n      <td>False</td>\n      <td>False</td>\n      <td>False</td>\n      <td>False</td>\n      <td>False</td>\n      <td>False</td>\n      <td>False</td>\n      <td>True</td>\n    </tr>\n    <tr>\n      <th>4</th>\n      <td>4</td>\n      <td>0.0030</td>\n      <td>33.600000</td>\n      <td>False</td>\n      <td>False</td>\n      <td>False</td>\n      <td>False</td>\n      <td>False</td>\n      <td>False</td>\n      <td>False</td>\n      <td>...</td>\n      <td>False</td>\n      <td>False</td>\n      <td>False</td>\n      <td>False</td>\n      <td>False</td>\n      <td>False</td>\n      <td>False</td>\n      <td>True</td>\n      <td>False</td>\n      <td>False</td>\n    </tr>\n  </tbody>\n</table>\n<p>5 rows × 157 columns</p>\n</div>"
     },
     "execution_count": 4,
     "metadata": {},
     "output_type": "execute_result"
    }
   ],
   "source": [
    "test = pd.read_csv('../../datasets/testing_dataset.csv')\n",
    "test.head()"
   ],
   "metadata": {
    "collapsed": false,
    "ExecuteTime": {
     "end_time": "2024-03-23T13:49:28.716669Z",
     "start_time": "2024-03-23T13:49:28.656367Z"
    }
   },
   "id": "d6bd38fcb07d876a",
   "execution_count": 4
  },
  {
   "cell_type": "code",
   "outputs": [
    {
     "data": {
      "text/plain": "                           0\n0                 Unnamed: 0\n1           quantity_sold_kg\n2  unit_selling_price_rmb/kg",
      "text/html": "<div>\n<style scoped>\n    .dataframe tbody tr th:only-of-type {\n        vertical-align: middle;\n    }\n\n    .dataframe tbody tr th {\n        vertical-align: top;\n    }\n\n    .dataframe thead th {\n        text-align: right;\n    }\n</style>\n<table border=\"1\" class=\"dataframe\">\n  <thead>\n    <tr style=\"text-align: right;\">\n      <th></th>\n      <th>0</th>\n    </tr>\n  </thead>\n  <tbody>\n    <tr>\n      <th>0</th>\n      <td>Unnamed: 0</td>\n    </tr>\n    <tr>\n      <th>1</th>\n      <td>quantity_sold_kg</td>\n    </tr>\n    <tr>\n      <th>2</th>\n      <td>unit_selling_price_rmb/kg</td>\n    </tr>\n  </tbody>\n</table>\n</div>"
     },
     "execution_count": 5,
     "metadata": {},
     "output_type": "execute_result"
    }
   ],
   "source": [
    "col = pd.DataFrame(test.columns)\n",
    "col.head(3)"
   ],
   "metadata": {
    "collapsed": false,
    "ExecuteTime": {
     "end_time": "2024-03-23T13:49:28.723692Z",
     "start_time": "2024-03-23T13:49:28.718230Z"
    }
   },
   "id": "a99a67612a6f4c97",
   "execution_count": 5
  },
  {
   "cell_type": "code",
   "outputs": [
    {
     "data": {
      "text/plain": "                              0\n2     unit_selling_price_rmb/kg\n3    item_name_7 colour pepper \n4  item_name_agaricus bisporus ",
      "text/html": "<div>\n<style scoped>\n    .dataframe tbody tr th:only-of-type {\n        vertical-align: middle;\n    }\n\n    .dataframe tbody tr th {\n        vertical-align: top;\n    }\n\n    .dataframe thead th {\n        text-align: right;\n    }\n</style>\n<table border=\"1\" class=\"dataframe\">\n  <thead>\n    <tr style=\"text-align: right;\">\n      <th></th>\n      <th>0</th>\n    </tr>\n  </thead>\n  <tbody>\n    <tr>\n      <th>2</th>\n      <td>unit_selling_price_rmb/kg</td>\n    </tr>\n    <tr>\n      <th>3</th>\n      <td>item_name_7 colour pepper</td>\n    </tr>\n    <tr>\n      <th>4</th>\n      <td>item_name_agaricus bisporus</td>\n    </tr>\n  </tbody>\n</table>\n</div>"
     },
     "execution_count": 6,
     "metadata": {},
     "output_type": "execute_result"
    }
   ],
   "source": [
    "col = col.iloc[2:]\n",
    "col.head(3)"
   ],
   "metadata": {
    "collapsed": false,
    "ExecuteTime": {
     "end_time": "2024-03-23T13:49:28.733653Z",
     "start_time": "2024-03-23T13:49:28.725798Z"
    }
   },
   "id": "5f89ddcaff1862c8",
   "execution_count": 6
  },
  {
   "cell_type": "code",
   "outputs": [],
   "source": [
    "col.to_csv('column_names', index=False)"
   ],
   "metadata": {
    "collapsed": false,
    "ExecuteTime": {
     "end_time": "2024-03-23T13:49:28.748013Z",
     "start_time": "2024-03-23T13:49:28.736875Z"
    }
   },
   "id": "f5c6db268ffa328c",
   "execution_count": 7
  }
 ],
 "metadata": {
  "kernelspec": {
   "display_name": "Python 3",
   "language": "python",
   "name": "python3"
  },
  "language_info": {
   "codemirror_mode": {
    "name": "ipython",
    "version": 2
   },
   "file_extension": ".py",
   "mimetype": "text/x-python",
   "name": "python",
   "nbconvert_exporter": "python",
   "pygments_lexer": "ipython2",
   "version": "2.7.6"
  }
 },
 "nbformat": 4,
 "nbformat_minor": 5
}
