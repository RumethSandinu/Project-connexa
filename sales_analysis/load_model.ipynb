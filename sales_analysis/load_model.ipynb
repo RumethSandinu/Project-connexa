{
 "cells": [
  {
   "cell_type": "code",
   "execution_count": 25,
   "id": "initial_id",
   "metadata": {
    "collapsed": true,
    "ExecuteTime": {
     "end_time": "2024-02-23T08:58:02.984302Z",
     "start_time": "2024-02-23T08:58:02.714966Z"
    }
   },
   "outputs": [],
   "source": [
    "import tensorflow as tf"
   ]
  },
  {
   "cell_type": "code",
   "execution_count": 26,
   "outputs": [
    {
     "name": "stdout",
     "output_type": "stream",
     "text": [
      "Model: \"sequential_1\"\n",
      "_________________________________________________________________\n",
      " Layer (type)                Output Shape              Param #   \n",
      "=================================================================\n",
      " dense_4 (Dense)             (None, 155)               24180     \n",
      "                                                                 \n",
      " reshape_2 (Reshape)         (None, 1, 155)            0         \n",
      "                                                                 \n",
      " lstm_2 (LSTM)               (None, 128)               145408    \n",
      "                                                                 \n",
      " dense_5 (Dense)             (None, 64)                8256      \n",
      "                                                                 \n",
      " reshape_3 (Reshape)         (None, 1, 64)             0         \n",
      "                                                                 \n",
      " lstm_3 (LSTM)               (None, 16)                5184      \n",
      "                                                                 \n",
      " dense_6 (Dense)             (None, 4)                 68        \n",
      "                                                                 \n",
      " dense_7 (Dense)             (None, 1)                 5         \n",
      "                                                                 \n",
      "=================================================================\n",
      "Total params: 183101 (715.24 KB)\n",
      "Trainable params: 183101 (715.24 KB)\n",
      "Non-trainable params: 0 (0.00 Byte)\n",
      "_________________________________________________________________\n"
     ]
    }
   ],
   "source": [
    "model = tf.keras.models.load_model('sales_prediction_model')\n",
    "model.summary()"
   ],
   "metadata": {
    "collapsed": false,
    "ExecuteTime": {
     "end_time": "2024-02-23T08:58:04.295528Z",
     "start_time": "2024-02-23T08:58:02.740848Z"
    }
   },
   "id": "71792d808fc96d81"
  },
  {
   "cell_type": "code",
   "outputs": [],
   "source": [
    "import pandas as pd"
   ],
   "metadata": {
    "collapsed": false,
    "ExecuteTime": {
     "start_time": "2024-02-23T08:58:04.301175Z"
    }
   },
   "id": "9c5fd9e595914994",
   "execution_count": 27
  },
  {
   "cell_type": "code",
   "outputs": [
    {
     "data": {
      "text/plain": "   Unnamed: 0  quantity_sold_kg  unit_selling_price_rmb/kg  \\\n0           0            1.0000                   6.900000   \n1           1            0.4258                   5.000000   \n2           2            1.0000                   3.942857   \n3           3            0.6660                  12.000000   \n4           4            0.0030                  33.600000   \n\n   item_name_7 colour pepper   item_name_agaricus bisporus   item_name_aihao  \\\n0                       False                         False            False   \n1                       False                         False            False   \n2                       False                         False            False   \n3                       False                         False            False   \n4                       False                         False            False   \n\n   item_name_amaranth   item_name_apricot bao mushroom   item_name_basil   \\\n0                False                            False             False   \n1                False                            False             False   \n2                False                            False             False   \n3                False                            False             False   \n4                False                            False             False   \n\n   item_name_bell pepper   ...  item_name_yuxingcao   \\\n0                   False  ...                 False   \n1                   False  ...                 False   \n2                   False  ...                 False   \n3                   False  ...                 False   \n4                   False  ...                 False   \n\n   item_name_zhijiang red bolt   item_name_zhimaxiancai  item_name_zhuyecai   \\\n0                         False                   False                False   \n1                         False                   False                False   \n2                         False                   False                False   \n3                         False                   False                False   \n4                         False                   False                False   \n\n   category_name_aquatic  category_name_cabbage  category_name_capsicum  \\\n0                  False                  False                    True   \n1                  False                  False                   False   \n2                  False                  False                   False   \n3                  False                  False                   False   \n4                  False                  False                   False   \n\n   category_name_flower  category_name_mushroom  category_name_solanum  \n0                 False                   False                  False  \n1                  True                   False                  False  \n2                  True                   False                  False  \n3                 False                   False                   True  \n4                  True                   False                  False  \n\n[5 rows x 157 columns]",
      "text/html": "<div>\n<style scoped>\n    .dataframe tbody tr th:only-of-type {\n        vertical-align: middle;\n    }\n\n    .dataframe tbody tr th {\n        vertical-align: top;\n    }\n\n    .dataframe thead th {\n        text-align: right;\n    }\n</style>\n<table border=\"1\" class=\"dataframe\">\n  <thead>\n    <tr style=\"text-align: right;\">\n      <th></th>\n      <th>Unnamed: 0</th>\n      <th>quantity_sold_kg</th>\n      <th>unit_selling_price_rmb/kg</th>\n      <th>item_name_7 colour pepper</th>\n      <th>item_name_agaricus bisporus</th>\n      <th>item_name_aihao</th>\n      <th>item_name_amaranth</th>\n      <th>item_name_apricot bao mushroom</th>\n      <th>item_name_basil</th>\n      <th>item_name_bell pepper</th>\n      <th>...</th>\n      <th>item_name_yuxingcao</th>\n      <th>item_name_zhijiang red bolt</th>\n      <th>item_name_zhimaxiancai</th>\n      <th>item_name_zhuyecai</th>\n      <th>category_name_aquatic</th>\n      <th>category_name_cabbage</th>\n      <th>category_name_capsicum</th>\n      <th>category_name_flower</th>\n      <th>category_name_mushroom</th>\n      <th>category_name_solanum</th>\n    </tr>\n  </thead>\n  <tbody>\n    <tr>\n      <th>0</th>\n      <td>0</td>\n      <td>1.0000</td>\n      <td>6.900000</td>\n      <td>False</td>\n      <td>False</td>\n      <td>False</td>\n      <td>False</td>\n      <td>False</td>\n      <td>False</td>\n      <td>False</td>\n      <td>...</td>\n      <td>False</td>\n      <td>False</td>\n      <td>False</td>\n      <td>False</td>\n      <td>False</td>\n      <td>False</td>\n      <td>True</td>\n      <td>False</td>\n      <td>False</td>\n      <td>False</td>\n    </tr>\n    <tr>\n      <th>1</th>\n      <td>1</td>\n      <td>0.4258</td>\n      <td>5.000000</td>\n      <td>False</td>\n      <td>False</td>\n      <td>False</td>\n      <td>False</td>\n      <td>False</td>\n      <td>False</td>\n      <td>False</td>\n      <td>...</td>\n      <td>False</td>\n      <td>False</td>\n      <td>False</td>\n      <td>False</td>\n      <td>False</td>\n      <td>False</td>\n      <td>False</td>\n      <td>True</td>\n      <td>False</td>\n      <td>False</td>\n    </tr>\n    <tr>\n      <th>2</th>\n      <td>2</td>\n      <td>1.0000</td>\n      <td>3.942857</td>\n      <td>False</td>\n      <td>False</td>\n      <td>False</td>\n      <td>False</td>\n      <td>False</td>\n      <td>False</td>\n      <td>False</td>\n      <td>...</td>\n      <td>False</td>\n      <td>False</td>\n      <td>False</td>\n      <td>False</td>\n      <td>False</td>\n      <td>False</td>\n      <td>False</td>\n      <td>True</td>\n      <td>False</td>\n      <td>False</td>\n    </tr>\n    <tr>\n      <th>3</th>\n      <td>3</td>\n      <td>0.6660</td>\n      <td>12.000000</td>\n      <td>False</td>\n      <td>False</td>\n      <td>False</td>\n      <td>False</td>\n      <td>False</td>\n      <td>False</td>\n      <td>False</td>\n      <td>...</td>\n      <td>False</td>\n      <td>False</td>\n      <td>False</td>\n      <td>False</td>\n      <td>False</td>\n      <td>False</td>\n      <td>False</td>\n      <td>False</td>\n      <td>False</td>\n      <td>True</td>\n    </tr>\n    <tr>\n      <th>4</th>\n      <td>4</td>\n      <td>0.0030</td>\n      <td>33.600000</td>\n      <td>False</td>\n      <td>False</td>\n      <td>False</td>\n      <td>False</td>\n      <td>False</td>\n      <td>False</td>\n      <td>False</td>\n      <td>...</td>\n      <td>False</td>\n      <td>False</td>\n      <td>False</td>\n      <td>False</td>\n      <td>False</td>\n      <td>False</td>\n      <td>False</td>\n      <td>True</td>\n      <td>False</td>\n      <td>False</td>\n    </tr>\n  </tbody>\n</table>\n<p>5 rows × 157 columns</p>\n</div>"
     },
     "execution_count": 28,
     "metadata": {},
     "output_type": "execute_result"
    }
   ],
   "source": [
    "test = pd.read_csv('/Users/rumethsandinu/Documents/Assessments/Year 2/DSGP/datasets/testing_dataset.csv')\n",
    "test.head()"
   ],
   "metadata": {
    "collapsed": false,
    "ExecuteTime": {
     "end_time": "2024-02-23T08:58:04.351618Z",
     "start_time": "2024-02-23T08:58:04.303117Z"
    }
   },
   "id": "d6bd38fcb07d876a",
   "execution_count": 28
  },
  {
   "cell_type": "code",
   "outputs": [
    {
     "data": {
      "text/plain": "                                0\n0                      Unnamed: 0\n1                quantity_sold_kg\n2       unit_selling_price_rmb/kg\n3      item_name_7 colour pepper \n4    item_name_agaricus bisporus \n..                            ...\n152         category_name_cabbage\n153        category_name_capsicum\n154          category_name_flower\n155        category_name_mushroom\n156         category_name_solanum\n\n[157 rows x 1 columns]",
      "text/html": "<div>\n<style scoped>\n    .dataframe tbody tr th:only-of-type {\n        vertical-align: middle;\n    }\n\n    .dataframe tbody tr th {\n        vertical-align: top;\n    }\n\n    .dataframe thead th {\n        text-align: right;\n    }\n</style>\n<table border=\"1\" class=\"dataframe\">\n  <thead>\n    <tr style=\"text-align: right;\">\n      <th></th>\n      <th>0</th>\n    </tr>\n  </thead>\n  <tbody>\n    <tr>\n      <th>0</th>\n      <td>Unnamed: 0</td>\n    </tr>\n    <tr>\n      <th>1</th>\n      <td>quantity_sold_kg</td>\n    </tr>\n    <tr>\n      <th>2</th>\n      <td>unit_selling_price_rmb/kg</td>\n    </tr>\n    <tr>\n      <th>3</th>\n      <td>item_name_7 colour pepper</td>\n    </tr>\n    <tr>\n      <th>4</th>\n      <td>item_name_agaricus bisporus</td>\n    </tr>\n    <tr>\n      <th>...</th>\n      <td>...</td>\n    </tr>\n    <tr>\n      <th>152</th>\n      <td>category_name_cabbage</td>\n    </tr>\n    <tr>\n      <th>153</th>\n      <td>category_name_capsicum</td>\n    </tr>\n    <tr>\n      <th>154</th>\n      <td>category_name_flower</td>\n    </tr>\n    <tr>\n      <th>155</th>\n      <td>category_name_mushroom</td>\n    </tr>\n    <tr>\n      <th>156</th>\n      <td>category_name_solanum</td>\n    </tr>\n  </tbody>\n</table>\n<p>157 rows × 1 columns</p>\n</div>"
     },
     "execution_count": 29,
     "metadata": {},
     "output_type": "execute_result"
    }
   ],
   "source": [
    "col = pd.DataFrame(test.columns)\n",
    "col"
   ],
   "metadata": {
    "collapsed": false,
    "ExecuteTime": {
     "end_time": "2024-02-23T08:58:04.352061Z",
     "start_time": "2024-02-23T08:58:04.330196Z"
    }
   },
   "id": "a99a67612a6f4c97",
   "execution_count": 29
  },
  {
   "cell_type": "code",
   "outputs": [
    {
     "data": {
      "text/plain": "                                0\n2       unit_selling_price_rmb/kg\n3      item_name_7 colour pepper \n4    item_name_agaricus bisporus \n5                 item_name_aihao\n6             item_name_amaranth \n..                            ...\n152         category_name_cabbage\n153        category_name_capsicum\n154          category_name_flower\n155        category_name_mushroom\n156         category_name_solanum\n\n[155 rows x 1 columns]",
      "text/html": "<div>\n<style scoped>\n    .dataframe tbody tr th:only-of-type {\n        vertical-align: middle;\n    }\n\n    .dataframe tbody tr th {\n        vertical-align: top;\n    }\n\n    .dataframe thead th {\n        text-align: right;\n    }\n</style>\n<table border=\"1\" class=\"dataframe\">\n  <thead>\n    <tr style=\"text-align: right;\">\n      <th></th>\n      <th>0</th>\n    </tr>\n  </thead>\n  <tbody>\n    <tr>\n      <th>2</th>\n      <td>unit_selling_price_rmb/kg</td>\n    </tr>\n    <tr>\n      <th>3</th>\n      <td>item_name_7 colour pepper</td>\n    </tr>\n    <tr>\n      <th>4</th>\n      <td>item_name_agaricus bisporus</td>\n    </tr>\n    <tr>\n      <th>5</th>\n      <td>item_name_aihao</td>\n    </tr>\n    <tr>\n      <th>6</th>\n      <td>item_name_amaranth</td>\n    </tr>\n    <tr>\n      <th>...</th>\n      <td>...</td>\n    </tr>\n    <tr>\n      <th>152</th>\n      <td>category_name_cabbage</td>\n    </tr>\n    <tr>\n      <th>153</th>\n      <td>category_name_capsicum</td>\n    </tr>\n    <tr>\n      <th>154</th>\n      <td>category_name_flower</td>\n    </tr>\n    <tr>\n      <th>155</th>\n      <td>category_name_mushroom</td>\n    </tr>\n    <tr>\n      <th>156</th>\n      <td>category_name_solanum</td>\n    </tr>\n  </tbody>\n</table>\n<p>155 rows × 1 columns</p>\n</div>"
     },
     "execution_count": 30,
     "metadata": {},
     "output_type": "execute_result"
    }
   ],
   "source": [
    "col = col.iloc[2:]\n",
    "col"
   ],
   "metadata": {
    "collapsed": false,
    "ExecuteTime": {
     "end_time": "2024-02-23T08:58:04.352551Z",
     "start_time": "2024-02-23T08:58:04.340810Z"
    }
   },
   "id": "5f89ddcaff1862c8",
   "execution_count": 30
  },
  {
   "cell_type": "code",
   "outputs": [],
   "source": [
    "col.to_csv('column_names', index=False)"
   ],
   "metadata": {
    "collapsed": false,
    "ExecuteTime": {
     "end_time": "2024-02-23T08:58:04.352880Z",
     "start_time": "2024-02-23T08:58:04.344858Z"
    }
   },
   "id": "f5c6db268ffa328c",
   "execution_count": 31
  },
  {
   "cell_type": "code",
   "outputs": [],
   "source": [],
   "metadata": {
    "collapsed": false,
    "ExecuteTime": {
     "end_time": "2024-02-23T08:58:04.361756Z",
     "start_time": "2024-02-23T08:58:04.349849Z"
    }
   },
   "id": "2a0c7140efd298c",
   "execution_count": 31
  }
 ],
 "metadata": {
  "kernelspec": {
   "display_name": "Python 3",
   "language": "python",
   "name": "python3"
  },
  "language_info": {
   "codemirror_mode": {
    "name": "ipython",
    "version": 2
   },
   "file_extension": ".py",
   "mimetype": "text/x-python",
   "name": "python",
   "nbconvert_exporter": "python",
   "pygments_lexer": "ipython2",
   "version": "2.7.6"
  }
 },
 "nbformat": 4,
 "nbformat_minor": 5
}
