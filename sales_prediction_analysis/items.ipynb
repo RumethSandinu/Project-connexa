{
 "cells": [
  {
   "cell_type": "code",
   "execution_count": 1,
   "id": "initial_id",
   "metadata": {
    "collapsed": true,
    "ExecuteTime": {
     "end_time": "2024-01-23T03:10:38.858607Z",
     "start_time": "2024-01-23T03:10:38.280619Z"
    }
   },
   "outputs": [],
   "source": [
    "import pandas as pd"
   ]
  },
  {
   "cell_type": "code",
   "outputs": [
    {
     "data": {
      "text/plain": "           Item Name Category Name        Date          Time        Item Code  \\\n0  green hot peppers      capsicum  2021-01-01  09:14:26.212  102900005116226   \n1  green hot peppers      capsicum  2021-01-01  09:14:26.324  102900005116226   \n2    yunnan lettuces        flower  2021-01-01  09:16:20.074  102900005115984   \n3    xixia mushroom       mushroom  2021-01-01  09:18:49.451  102900005116530   \n4        paopaojiao       capsicum  2021-01-01  09:19:14.842  102900005117056   \n\n   Quantity Sold (kilo)  Unit Selling Price (RMB/kg) Sale or Return  \\\n0                 1.132                         25.8           sale   \n1                 0.593                         25.8           sale   \n2                 0.468                          6.0           sale   \n3                 0.389                         18.0           sale   \n4                 0.606                         18.0           sale   \n\n  Discount (Yes/No)  \n0                No  \n1                No  \n2                No  \n3                No  \n4                No  ",
      "text/html": "<div>\n<style scoped>\n    .dataframe tbody tr th:only-of-type {\n        vertical-align: middle;\n    }\n\n    .dataframe tbody tr th {\n        vertical-align: top;\n    }\n\n    .dataframe thead th {\n        text-align: right;\n    }\n</style>\n<table border=\"1\" class=\"dataframe\">\n  <thead>\n    <tr style=\"text-align: right;\">\n      <th></th>\n      <th>Item Name</th>\n      <th>Category Name</th>\n      <th>Date</th>\n      <th>Time</th>\n      <th>Item Code</th>\n      <th>Quantity Sold (kilo)</th>\n      <th>Unit Selling Price (RMB/kg)</th>\n      <th>Sale or Return</th>\n      <th>Discount (Yes/No)</th>\n    </tr>\n  </thead>\n  <tbody>\n    <tr>\n      <th>0</th>\n      <td>green hot peppers</td>\n      <td>capsicum</td>\n      <td>2021-01-01</td>\n      <td>09:14:26.212</td>\n      <td>102900005116226</td>\n      <td>1.132</td>\n      <td>25.8</td>\n      <td>sale</td>\n      <td>No</td>\n    </tr>\n    <tr>\n      <th>1</th>\n      <td>green hot peppers</td>\n      <td>capsicum</td>\n      <td>2021-01-01</td>\n      <td>09:14:26.324</td>\n      <td>102900005116226</td>\n      <td>0.593</td>\n      <td>25.8</td>\n      <td>sale</td>\n      <td>No</td>\n    </tr>\n    <tr>\n      <th>2</th>\n      <td>yunnan lettuces</td>\n      <td>flower</td>\n      <td>2021-01-01</td>\n      <td>09:16:20.074</td>\n      <td>102900005115984</td>\n      <td>0.468</td>\n      <td>6.0</td>\n      <td>sale</td>\n      <td>No</td>\n    </tr>\n    <tr>\n      <th>3</th>\n      <td>xixia mushroom</td>\n      <td>mushroom</td>\n      <td>2021-01-01</td>\n      <td>09:18:49.451</td>\n      <td>102900005116530</td>\n      <td>0.389</td>\n      <td>18.0</td>\n      <td>sale</td>\n      <td>No</td>\n    </tr>\n    <tr>\n      <th>4</th>\n      <td>paopaojiao</td>\n      <td>capsicum</td>\n      <td>2021-01-01</td>\n      <td>09:19:14.842</td>\n      <td>102900005117056</td>\n      <td>0.606</td>\n      <td>18.0</td>\n      <td>sale</td>\n      <td>No</td>\n    </tr>\n  </tbody>\n</table>\n</div>"
     },
     "execution_count": 2,
     "metadata": {},
     "output_type": "execute_result"
    }
   ],
   "source": [
    "df = pd.read_csv('../../datasets/built_dataset.csv')\n",
    "df.head()"
   ],
   "metadata": {
    "collapsed": false,
    "ExecuteTime": {
     "end_time": "2024-01-23T03:10:53.378329Z",
     "start_time": "2024-01-23T03:10:52.975099Z"
    }
   },
   "id": "eac6742dec82e234",
   "execution_count": 2
  },
  {
   "cell_type": "code",
   "outputs": [
    {
     "data": {
      "text/plain": "array(['luosi pepper ', 'basil ', 'malan head', 'wandoujian', 'zhuyecai ',\n       'fresh sea ', 'xixia xianggu mushroom ',\n       'ginger and xiaomijiao mix ', 'chuncai', 'hongshujian ',\n       'caidian quinoa artemisia ', 'red oak leaf', 'green butter',\n       'red coral ', 'powcan mountain chinese cabbage ', 'amaranth ',\n       'sophora japonica', 'cabbage stem ', 'huangxincai ',\n       'chinese cabbage ', 'embroidered aureus ', 'red lotus root zone',\n       'zhimaxiancai', 'xianzongye', 'xianzongye ', 'aihao',\n       'purple screw pepper', 'zhijiang qinggengsanhua',\n       'fresh edible fungus ', 'hfyg haixian mushroom ', 'honghu lotus ',\n       'green and red hang pepper mix ', 'black porcini', 'yuxingcao ',\n       'round eggplant ', 'foreign garland chrysanthemum  ',\n       'local xiaomao cabbage', 'yellow baicai ', 'longyacai',\n       'tea tree mushroom ', 'ice grass ', 'mushroom and leaf mix '],\n      dtype=object)"
     },
     "execution_count": 10,
     "metadata": {},
     "output_type": "execute_result"
    }
   ],
   "source": [
    "df['Item Name'].unique()[135:]"
   ],
   "metadata": {
    "collapsed": false,
    "ExecuteTime": {
     "end_time": "2024-01-23T03:38:50.314596Z",
     "start_time": "2024-01-23T03:38:50.287745Z"
    }
   },
   "id": "d065fdb80bc19c31",
   "execution_count": 10
  },
  {
   "cell_type": "code",
   "outputs": [],
   "source": [],
   "metadata": {
    "collapsed": false
   },
   "id": "1a04bef9c6e908c"
  }
 ],
 "metadata": {
  "kernelspec": {
   "display_name": "Python 3",
   "language": "python",
   "name": "python3"
  },
  "language_info": {
   "codemirror_mode": {
    "name": "ipython",
    "version": 2
   },
   "file_extension": ".py",
   "mimetype": "text/x-python",
   "name": "python",
   "nbconvert_exporter": "python",
   "pygments_lexer": "ipython2",
   "version": "2.7.6"
  }
 },
 "nbformat": 4,
 "nbformat_minor": 5
}
