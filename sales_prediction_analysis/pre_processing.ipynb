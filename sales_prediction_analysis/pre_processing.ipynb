{
 "cells": [
  {
   "cell_type": "code",
   "execution_count": 1,
   "id": "initial_id",
   "metadata": {
    "collapsed": true,
    "ExecuteTime": {
     "end_time": "2024-01-11T13:03:02.293403Z",
     "start_time": "2024-01-11T13:03:02.025321Z"
    }
   },
   "outputs": [],
   "source": [
    "import pandas as pd"
   ]
  },
  {
   "cell_type": "code",
   "execution_count": 2,
   "outputs": [
    {
     "name": "stdout",
     "output_type": "stream",
     "text": [
      "<class 'pandas.core.frame.DataFrame'>\n",
      "RangeIndex: 737337 entries, 0 to 737336\n",
      "Data columns (total 9 columns):\n",
      " #   Column                       Non-Null Count   Dtype  \n",
      "---  ------                       --------------   -----  \n",
      " 0   Item Name                    737337 non-null  object \n",
      " 1   Category Name                737337 non-null  object \n",
      " 2   Date                         737337 non-null  object \n",
      " 3   Time                         737337 non-null  object \n",
      " 4   Item Code                    737337 non-null  int64  \n",
      " 5   Quantity Sold (kilo)         737337 non-null  float64\n",
      " 6   Unit Selling Price (RMB/kg)  737337 non-null  float64\n",
      " 7   Sale or Return               737337 non-null  object \n",
      " 8   Discount (Yes/No)            737337 non-null  object \n",
      "dtypes: float64(2), int64(1), object(6)\n",
      "memory usage: 50.6+ MB\n"
     ]
    }
   ],
   "source": [
    "# get the filtered dataset\n",
    "df = pd.read_csv('../../datasets/built_dataset.csv')\n",
    "df.info()"
   ],
   "metadata": {
    "collapsed": false,
    "ExecuteTime": {
     "end_time": "2024-01-11T13:03:02.984385Z",
     "start_time": "2024-01-11T13:03:02.296764Z"
    }
   },
   "id": "e41d64e95fe0ae04"
  },
  {
   "cell_type": "code",
   "outputs": [
    {
     "data": {
      "text/plain": "                        Item Name Category Name        Date  \\\n710873      xixia black mushroom       mushroom  2023-05-08   \n604816  honghu lotus root powder        aquatic  2022-11-10   \n\n        Quantity Sold (kilo)  Unit Selling Price (RMB/kg) Sale or Return  \n710873                 0.176                         21.6           sale  \n604816                 1.000                          6.5           sale  ",
      "text/html": "<div>\n<style scoped>\n    .dataframe tbody tr th:only-of-type {\n        vertical-align: middle;\n    }\n\n    .dataframe tbody tr th {\n        vertical-align: top;\n    }\n\n    .dataframe thead th {\n        text-align: right;\n    }\n</style>\n<table border=\"1\" class=\"dataframe\">\n  <thead>\n    <tr style=\"text-align: right;\">\n      <th></th>\n      <th>Item Name</th>\n      <th>Category Name</th>\n      <th>Date</th>\n      <th>Quantity Sold (kilo)</th>\n      <th>Unit Selling Price (RMB/kg)</th>\n      <th>Sale or Return</th>\n    </tr>\n  </thead>\n  <tbody>\n    <tr>\n      <th>710873</th>\n      <td>xixia black mushroom</td>\n      <td>mushroom</td>\n      <td>2023-05-08</td>\n      <td>0.176</td>\n      <td>21.6</td>\n      <td>sale</td>\n    </tr>\n    <tr>\n      <th>604816</th>\n      <td>honghu lotus root powder</td>\n      <td>aquatic</td>\n      <td>2022-11-10</td>\n      <td>1.000</td>\n      <td>6.5</td>\n      <td>sale</td>\n    </tr>\n  </tbody>\n</table>\n</div>"
     },
     "execution_count": 3,
     "metadata": {},
     "output_type": "execute_result"
    }
   ],
   "source": [
    "df = df.drop(columns=['Item Code', 'Time', 'Discount (Yes/No)'])\n",
    "df.sample(2)"
   ],
   "metadata": {
    "collapsed": false,
    "ExecuteTime": {
     "end_time": "2024-01-11T13:03:03.033947Z",
     "start_time": "2024-01-11T13:03:02.981184Z"
    }
   },
   "id": "a93be59adc845928",
   "execution_count": 3
  },
  {
   "cell_type": "code",
   "execution_count": 4,
   "outputs": [],
   "source": [
    "import numpy as np"
   ],
   "metadata": {
    "collapsed": false,
    "ExecuteTime": {
     "end_time": "2024-01-11T13:03:03.038086Z",
     "start_time": "2024-01-11T13:03:03.034253Z"
    }
   },
   "id": "84f8dec7c7ec20e9"
  },
  {
   "cell_type": "code",
   "execution_count": 5,
   "outputs": [
    {
     "data": {
      "text/plain": "3860.4031413612565"
     },
     "execution_count": 5,
     "metadata": {},
     "output_type": "execute_result"
    }
   ],
   "source": [
    "# average frequecy of selling item\n",
    "np.average(df['Item Name'].value_counts())"
   ],
   "metadata": {
    "collapsed": false,
    "ExecuteTime": {
     "end_time": "2024-01-11T13:03:03.119175Z",
     "start_time": "2024-01-11T13:03:03.065939Z"
    }
   },
   "id": "264f8705566cfaca"
  },
  {
   "cell_type": "code",
   "execution_count": 6,
   "outputs": [],
   "source": [
    "import matplotlib.pyplot as plt"
   ],
   "metadata": {
    "collapsed": false,
    "ExecuteTime": {
     "end_time": "2024-01-11T13:03:03.417824Z",
     "start_time": "2024-01-11T13:03:03.070920Z"
    }
   },
   "id": "8c22268907a1c428"
  },
  {
   "cell_type": "code",
   "execution_count": 7,
   "outputs": [
    {
     "data": {
      "text/plain": "{'whiskers': [<matplotlib.lines.Line2D at 0x11e46ec70>,\n  <matplotlib.lines.Line2D at 0x11e46ef10>],\n 'caps': [<matplotlib.lines.Line2D at 0x11e4ce1f0>,\n  <matplotlib.lines.Line2D at 0x11e4ce490>],\n 'boxes': [<matplotlib.lines.Line2D at 0x11e46e9d0>],\n 'medians': [<matplotlib.lines.Line2D at 0x11e4ce730>],\n 'fliers': [<matplotlib.lines.Line2D at 0x11e4ce9d0>],\n 'means': []}"
     },
     "execution_count": 7,
     "metadata": {},
     "output_type": "execute_result"
    },
    {
     "data": {
      "text/plain": "<Figure size 640x480 with 1 Axes>",
      "image/png": "[encoded data removed]"
     },
     "metadata": {},
     "output_type": "display_data"
    }
   ],
   "source": [
    "# visualise frequecy of selling item\n",
    "plt.boxplot(df['Item Name'].value_counts())"
   ],
   "metadata": {
    "collapsed": false,
    "ExecuteTime": {
     "end_time": "2024-01-11T13:03:03.530751Z",
     "start_time": "2024-01-11T13:03:03.446965Z"
    }
   },
   "id": "9bf61da1d11fc886"
  },
  {
   "cell_type": "code",
   "execution_count": 8,
   "outputs": [
    {
     "data": {
      "text/plain": "122889.5"
     },
     "execution_count": 8,
     "metadata": {},
     "output_type": "execute_result"
    }
   ],
   "source": [
    "# average frequency of selling category\n",
    "np.average(df['Category Name'].value_counts())"
   ],
   "metadata": {
    "collapsed": false,
    "ExecuteTime": {
     "end_time": "2024-01-11T13:03:03.625647Z",
     "start_time": "2024-01-11T13:03:03.554115Z"
    }
   },
   "id": "ddc1c501c2e9d82e"
  },
  {
   "cell_type": "code",
   "execution_count": 9,
   "outputs": [
    {
     "data": {
      "text/plain": "{'whiskers': [<matplotlib.lines.Line2D at 0x11e5a0070>,\n  <matplotlib.lines.Line2D at 0x11e5a0310>],\n 'caps': [<matplotlib.lines.Line2D at 0x11e5a05b0>,\n  <matplotlib.lines.Line2D at 0x11e5a0850>],\n 'boxes': [<matplotlib.lines.Line2D at 0x11e592d90>],\n 'medians': [<matplotlib.lines.Line2D at 0x11e5a0af0>],\n 'fliers': [<matplotlib.lines.Line2D at 0x11e5a0d90>],\n 'means': []}"
     },
     "execution_count": 9,
     "metadata": {},
     "output_type": "execute_result"
    },
    {
     "data": {
      "text/plain": "<Figure size 640x480 with 1 Axes>",
      "image/png": "[encoded data removed]"
     },
     "metadata": {},
     "output_type": "display_data"
    }
   ],
   "source": [
    "# visualise frequency of selling category\n",
    "plt.boxplot(df['Category Name'].value_counts())"
   ],
   "metadata": {
    "collapsed": false,
    "ExecuteTime": {
     "end_time": "2024-01-11T13:03:03.656859Z",
     "start_time": "2024-01-11T13:03:03.614398Z"
    }
   },
   "id": "43281ceff9693e7c"
  },
  {
   "cell_type": "code",
   "execution_count": 10,
   "outputs": [
    {
     "data": {
      "text/plain": "{'whiskers': [<matplotlib.lines.Line2D at 0x11e60a610>,\n  <matplotlib.lines.Line2D at 0x11e60a8b0>],\n 'caps': [<matplotlib.lines.Line2D at 0x11e60ab50>,\n  <matplotlib.lines.Line2D at 0x11e60adf0>],\n 'boxes': [<matplotlib.lines.Line2D at 0x11e60a370>],\n 'medians': [<matplotlib.lines.Line2D at 0x11e61d0d0>],\n 'fliers': [<matplotlib.lines.Line2D at 0x11e61d370>],\n 'means': []}"
     },
     "execution_count": 10,
     "metadata": {},
     "output_type": "execute_result"
    },
    {
     "data": {
      "text/plain": "<Figure size 640x480 with 1 Axes>",
      "image/png": "[encoded data removed]"
     },
     "metadata": {},
     "output_type": "display_data"
    }
   ],
   "source": [
    "# check for outliers\n",
    "plt.boxplot(df['Quantity Sold (kilo)'])"
   ],
   "metadata": {
    "collapsed": false,
    "ExecuteTime": {
     "end_time": "2024-01-11T13:03:03.739970Z",
     "start_time": "2024-01-11T13:03:03.665734Z"
    }
   },
   "id": "b444363ca8321163"
  },
  {
   "cell_type": "code",
   "execution_count": 11,
   "outputs": [
    {
     "data": {
      "text/plain": "True"
     },
     "execution_count": 11,
     "metadata": {},
     "output_type": "execute_result"
    }
   ],
   "source": [
    "# check the - values of sold amount are returned values\n",
    "(df['Quantity Sold (kilo)'] < 0).sum() == (df['Sale or Return'] == 'return').sum()"
   ],
   "metadata": {
    "collapsed": false,
    "ExecuteTime": {
     "end_time": "2024-01-11T13:03:03.781246Z",
     "start_time": "2024-01-11T13:03:03.740756Z"
    }
   },
   "id": "42a066f23ea24a77"
  },
  {
   "cell_type": "code",
   "execution_count": 12,
   "outputs": [
    {
     "name": "stdout",
     "output_type": "stream",
     "text": [
      "<class 'pandas.core.frame.DataFrame'>\n",
      "Index: 736947 entries, 0 to 737336\n",
      "Data columns (total 5 columns):\n",
      " #   Column                       Non-Null Count   Dtype  \n",
      "---  ------                       --------------   -----  \n",
      " 0   Item Name                    736947 non-null  object \n",
      " 1   Category Name                736947 non-null  object \n",
      " 2   Date                         736947 non-null  object \n",
      " 3   Quantity Sold (kilo)         736947 non-null  float64\n",
      " 4   Unit Selling Price (RMB/kg)  736947 non-null  float64\n",
      "dtypes: float64(2), object(3)\n",
      "memory usage: 33.7+ MB\n"
     ]
    }
   ],
   "source": [
    "# remove non-dependent values for the prediction\n",
    "df = df[~(df['Sale or Return'] == 'return')]\n",
    "df = df.drop(columns=['Sale or Return'])\n",
    "df.info()"
   ],
   "metadata": {
    "collapsed": false,
    "ExecuteTime": {
     "end_time": "2024-01-11T13:03:03.886970Z",
     "start_time": "2024-01-11T13:03:03.788100Z"
    }
   },
   "id": "65d3e52541ebdaae"
  },
  {
   "cell_type": "code",
   "execution_count": 13,
   "outputs": [
    {
     "data": {
      "text/plain": "0.5004181643998823"
     },
     "execution_count": 13,
     "metadata": {},
     "output_type": "execute_result"
    }
   ],
   "source": [
    "np.mean(df['Quantity Sold (kilo)'])"
   ],
   "metadata": {
    "collapsed": false,
    "ExecuteTime": {
     "end_time": "2024-01-11T13:03:03.897241Z",
     "start_time": "2024-01-11T13:03:03.884756Z"
    }
   },
   "id": "aaa3ae7d78f649f0"
  },
  {
   "cell_type": "code",
   "execution_count": 14,
   "outputs": [],
   "source": [
    "# round up sold amount to first decimal place\n",
    "df['Quantity Sold (kilo)'] = round(df['Quantity Sold (kilo)'], 1)"
   ],
   "metadata": {
    "collapsed": false,
    "ExecuteTime": {
     "end_time": "2024-01-11T13:03:03.898085Z",
     "start_time": "2024-01-11T13:03:03.890079Z"
    }
   },
   "id": "e6e29411b08234be"
  },
  {
   "cell_type": "code",
   "execution_count": 15,
   "outputs": [
    {
     "data": {
      "text/plain": "0.5024228336637506"
     },
     "execution_count": 15,
     "metadata": {},
     "output_type": "execute_result"
    }
   ],
   "source": [
    "# check the change of mean\n",
    "np.mean(df['Quantity Sold (kilo)'])"
   ],
   "metadata": {
    "collapsed": false,
    "ExecuteTime": {
     "end_time": "2024-01-11T13:03:03.900547Z",
     "start_time": "2024-01-11T13:03:03.895608Z"
    }
   },
   "id": "dc223e88042bb16f"
  },
  {
   "cell_type": "code",
   "execution_count": 16,
   "outputs": [
    {
     "data": {
      "text/plain": "      Item Name Category Name        Date  Quantity Sold (kilo)  \\\n0   paopaojiao       capsicum  2020-07-01                   0.4   \n1   paopaojiao       capsicum  2020-07-01                   0.4   \n2  shanghaiqing        flower  2020-07-01                   0.4   \n3        caixin        flower  2020-07-01                   0.5   \n4   paopaojiao       capsicum  2020-07-01                   0.3   \n\n   Unit Selling Price (RMB/kg)  \n0                          7.6  \n1                          7.6  \n2                         10.0  \n3                          8.0  \n4                          7.6  ",
      "text/html": "<div>\n<style scoped>\n    .dataframe tbody tr th:only-of-type {\n        vertical-align: middle;\n    }\n\n    .dataframe tbody tr th {\n        vertical-align: top;\n    }\n\n    .dataframe thead th {\n        text-align: right;\n    }\n</style>\n<table border=\"1\" class=\"dataframe\">\n  <thead>\n    <tr style=\"text-align: right;\">\n      <th></th>\n      <th>Item Name</th>\n      <th>Category Name</th>\n      <th>Date</th>\n      <th>Quantity Sold (kilo)</th>\n      <th>Unit Selling Price (RMB/kg)</th>\n    </tr>\n  </thead>\n  <tbody>\n    <tr>\n      <th>0</th>\n      <td>paopaojiao</td>\n      <td>capsicum</td>\n      <td>2020-07-01</td>\n      <td>0.4</td>\n      <td>7.6</td>\n    </tr>\n    <tr>\n      <th>1</th>\n      <td>paopaojiao</td>\n      <td>capsicum</td>\n      <td>2020-07-01</td>\n      <td>0.4</td>\n      <td>7.6</td>\n    </tr>\n    <tr>\n      <th>2</th>\n      <td>shanghaiqing</td>\n      <td>flower</td>\n      <td>2020-07-01</td>\n      <td>0.4</td>\n      <td>10.0</td>\n    </tr>\n    <tr>\n      <th>3</th>\n      <td>caixin</td>\n      <td>flower</td>\n      <td>2020-07-01</td>\n      <td>0.5</td>\n      <td>8.0</td>\n    </tr>\n    <tr>\n      <th>4</th>\n      <td>paopaojiao</td>\n      <td>capsicum</td>\n      <td>2020-07-01</td>\n      <td>0.3</td>\n      <td>7.6</td>\n    </tr>\n  </tbody>\n</table>\n</div>"
     },
     "execution_count": 16,
     "metadata": {},
     "output_type": "execute_result"
    }
   ],
   "source": [
    "df.head()"
   ],
   "metadata": {
    "collapsed": false,
    "ExecuteTime": {
     "end_time": "2024-01-11T13:03:03.924373Z",
     "start_time": "2024-01-11T13:03:03.903289Z"
    }
   },
   "id": "d27c3789deeadd6f"
  },
  {
   "cell_type": "code",
   "execution_count": 17,
   "outputs": [
    {
     "data": {
      "text/plain": "{'whiskers': [<matplotlib.lines.Line2D at 0x11e695040>,\n  <matplotlib.lines.Line2D at 0x11e6952e0>],\n 'caps': [<matplotlib.lines.Line2D at 0x11e695580>,\n  <matplotlib.lines.Line2D at 0x11e695820>],\n 'boxes': [<matplotlib.lines.Line2D at 0x11e686e80>],\n 'medians': [<matplotlib.lines.Line2D at 0x11e695ac0>],\n 'fliers': [<matplotlib.lines.Line2D at 0x11e695d60>],\n 'means': []}"
     },
     "execution_count": 17,
     "metadata": {},
     "output_type": "execute_result"
    },
    {
     "data": {
      "text/plain": "<Figure size 640x480 with 1 Axes>",
      "image/png": "[encoded data removed]"
     },
     "metadata": {},
     "output_type": "display_data"
    }
   ],
   "source": [
    "# check for sold amount outliers\n",
    "plt.boxplot(df['Quantity Sold (kilo)'])"
   ],
   "metadata": {
    "collapsed": false,
    "ExecuteTime": {
     "end_time": "2024-01-11T13:03:04.009509Z",
     "start_time": "2024-01-11T13:03:03.907681Z"
    }
   },
   "id": "20300c0025e2d34f"
  },
  {
   "cell_type": "code",
   "execution_count": 18,
   "outputs": [
    {
     "data": {
      "text/plain": "(2, 0)"
     },
     "execution_count": 18,
     "metadata": {},
     "output_type": "execute_result"
    }
   ],
   "source": [
    "(df['Quantity Sold (kilo)'] > 20).sum(), (df['Quantity Sold (kilo)'] < 0).sum()"
   ],
   "metadata": {
    "collapsed": false,
    "ExecuteTime": {
     "end_time": "2024-01-11T13:03:04.017642Z",
     "start_time": "2024-01-11T13:03:04.010411Z"
    }
   },
   "id": "757cf7f1321f7a3f"
  },
  {
   "cell_type": "code",
   "execution_count": 19,
   "outputs": [
    {
     "data": {
      "text/plain": "0.5024228336637506"
     },
     "execution_count": 19,
     "metadata": {},
     "output_type": "execute_result"
    }
   ],
   "source": [
    "np.mean(df['Quantity Sold (kilo)'])"
   ],
   "metadata": {
    "collapsed": false,
    "ExecuteTime": {
     "end_time": "2024-01-11T13:03:04.021388Z",
     "start_time": "2024-01-11T13:03:04.017854Z"
    }
   },
   "id": "4048cb90c60510a8"
  },
  {
   "cell_type": "code",
   "execution_count": 20,
   "outputs": [
    {
     "data": {
      "text/plain": "(0.5021731614969154, 20.0)"
     },
     "execution_count": 20,
     "metadata": {},
     "output_type": "execute_result"
    }
   ],
   "source": [
    "# handle outliers with mean values\n",
    "df['Quantity Sold (kilo)'] = np.where(df['Quantity Sold (kilo)'] > 20, np.mean(df['Quantity Sold (kilo)']), df['Quantity Sold (kilo)'])\n",
    "np.mean(df['Quantity Sold (kilo)']), df['Quantity Sold (kilo)'].max()"
   ],
   "metadata": {
    "collapsed": false,
    "ExecuteTime": {
     "end_time": "2024-01-11T13:03:04.092249Z",
     "start_time": "2024-01-11T13:03:04.023074Z"
    }
   },
   "id": "cc1cb06ec5ec4912"
  },
  {
   "cell_type": "code",
   "execution_count": 21,
   "outputs": [
    {
     "data": {
      "text/plain": "{'whiskers': [<matplotlib.lines.Line2D at 0x11e751070>,\n  <matplotlib.lines.Line2D at 0x11e751310>],\n 'caps': [<matplotlib.lines.Line2D at 0x11e7515b0>,\n  <matplotlib.lines.Line2D at 0x11e751850>],\n 'boxes': [<matplotlib.lines.Line2D at 0x11e743d90>],\n 'medians': [<matplotlib.lines.Line2D at 0x11e751af0>],\n 'fliers': [<matplotlib.lines.Line2D at 0x11e751d90>],\n 'means': []}"
     },
     "execution_count": 21,
     "metadata": {},
     "output_type": "execute_result"
    },
    {
     "data": {
      "text/plain": "<Figure size 640x480 with 1 Axes>",
      "image/png": "[encoded data removed]"
     },
     "metadata": {},
     "output_type": "display_data"
    }
   ],
   "source": [
    "# visualise processed sold amount\n",
    "plt.boxplot(df['Quantity Sold (kilo)'])"
   ],
   "metadata": {
    "collapsed": false,
    "ExecuteTime": {
     "end_time": "2024-01-11T13:03:04.151665Z",
     "start_time": "2024-01-11T13:03:04.037989Z"
    }
   },
   "id": "fe9bf999d2642111"
  },
  {
   "cell_type": "code",
   "outputs": [
    {
     "data": {
      "text/plain": "          Item Name Category Name        Date  Quantity Sold (kilo)  \\\n0  7 colour pepper       capsicum  2020-07-01                 0.380   \n1  7 colour pepper       capsicum  2020-07-02                 0.340   \n2  7 colour pepper       capsicum  2020-07-03                 0.425   \n3  7 colour pepper       capsicum  2020-07-04                 0.350   \n4  7 colour pepper       capsicum  2020-07-05                 0.280   \n\n   Unit Selling Price (RMB/kg)  \n0                         16.0  \n1                         14.0  \n2                         14.0  \n3                         14.0  \n4                         14.0  ",
      "text/html": "<div>\n<style scoped>\n    .dataframe tbody tr th:only-of-type {\n        vertical-align: middle;\n    }\n\n    .dataframe tbody tr th {\n        vertical-align: top;\n    }\n\n    .dataframe thead th {\n        text-align: right;\n    }\n</style>\n<table border=\"1\" class=\"dataframe\">\n  <thead>\n    <tr style=\"text-align: right;\">\n      <th></th>\n      <th>Item Name</th>\n      <th>Category Name</th>\n      <th>Date</th>\n      <th>Quantity Sold (kilo)</th>\n      <th>Unit Selling Price (RMB/kg)</th>\n    </tr>\n  </thead>\n  <tbody>\n    <tr>\n      <th>0</th>\n      <td>7 colour pepper</td>\n      <td>capsicum</td>\n      <td>2020-07-01</td>\n      <td>0.380</td>\n      <td>16.0</td>\n    </tr>\n    <tr>\n      <th>1</th>\n      <td>7 colour pepper</td>\n      <td>capsicum</td>\n      <td>2020-07-02</td>\n      <td>0.340</td>\n      <td>14.0</td>\n    </tr>\n    <tr>\n      <th>2</th>\n      <td>7 colour pepper</td>\n      <td>capsicum</td>\n      <td>2020-07-03</td>\n      <td>0.425</td>\n      <td>14.0</td>\n    </tr>\n    <tr>\n      <th>3</th>\n      <td>7 colour pepper</td>\n      <td>capsicum</td>\n      <td>2020-07-04</td>\n      <td>0.350</td>\n      <td>14.0</td>\n    </tr>\n    <tr>\n      <th>4</th>\n      <td>7 colour pepper</td>\n      <td>capsicum</td>\n      <td>2020-07-05</td>\n      <td>0.280</td>\n      <td>14.0</td>\n    </tr>\n  </tbody>\n</table>\n</div>"
     },
     "execution_count": 22,
     "metadata": {},
     "output_type": "execute_result"
    }
   ],
   "source": [
    "# group dataset by item name, category and date\n",
    "df = df.groupby(['Item Name', 'Category Name', 'Date']).mean().reset_index()\n",
    "df.head()"
   ],
   "metadata": {
    "collapsed": false,
    "ExecuteTime": {
     "end_time": "2024-01-11T13:03:04.280334Z",
     "start_time": "2024-01-11T13:03:04.151295Z"
    }
   },
   "id": "67d2d966cc0edb6d",
   "execution_count": 22
  },
  {
   "cell_type": "code",
   "outputs": [
    {
     "data": {
      "text/plain": "{'whiskers': [<matplotlib.lines.Line2D at 0x11e7d0700>,\n  <matplotlib.lines.Line2D at 0x11e7d09a0>],\n 'caps': [<matplotlib.lines.Line2D at 0x11e7d0c40>,\n  <matplotlib.lines.Line2D at 0x11e778610>],\n 'boxes': [<matplotlib.lines.Line2D at 0x11e7c3910>],\n 'medians': [<matplotlib.lines.Line2D at 0x11e736ee0>],\n 'fliers': [<matplotlib.lines.Line2D at 0x11e7d0f10>],\n 'means': []}"
     },
     "execution_count": 23,
     "metadata": {},
     "output_type": "execute_result"
    },
    {
     "data": {
      "text/plain": "<Figure size 640x480 with 1 Axes>",
      "image/png": "[encoded data removed]"
     },
     "metadata": {},
     "output_type": "display_data"
    }
   ],
   "source": [
    "# visualise processed sold amount\n",
    "plt.boxplot(df['Quantity Sold (kilo)'])"
   ],
   "metadata": {
    "collapsed": false,
    "ExecuteTime": {
     "end_time": "2024-01-11T13:03:04.366762Z",
     "start_time": "2024-01-11T13:03:04.290622Z"
    }
   },
   "id": "402ca0284113a274",
   "execution_count": 23
  },
  {
   "cell_type": "code",
   "execution_count": 24,
   "outputs": [
    {
     "data": {
      "text/plain": "{'whiskers': [<matplotlib.lines.Line2D at 0x11e8433a0>,\n  <matplotlib.lines.Line2D at 0x11e843640>],\n 'caps': [<matplotlib.lines.Line2D at 0x11e8438e0>,\n  <matplotlib.lines.Line2D at 0x11e843b80>],\n 'boxes': [<matplotlib.lines.Line2D at 0x11e843100>],\n 'medians': [<matplotlib.lines.Line2D at 0x11e843e20>],\n 'fliers': [<matplotlib.lines.Line2D at 0x11e853100>],\n 'means': []}"
     },
     "execution_count": 24,
     "metadata": {},
     "output_type": "execute_result"
    },
    {
     "data": {
      "text/plain": "<Figure size 640x480 with 1 Axes>",
      "image/png": "[encoded data removed]"
     },
     "metadata": {},
     "output_type": "display_data"
    }
   ],
   "source": [
    "plt.boxplot(df['Unit Selling Price (RMB/kg)'])"
   ],
   "metadata": {
    "collapsed": false,
    "ExecuteTime": {
     "end_time": "2024-01-11T13:03:04.444947Z",
     "start_time": "2024-01-11T13:03:04.363644Z"
    }
   },
   "id": "a5776594d650c2a4"
  },
  {
   "cell_type": "code",
   "execution_count": 25,
   "outputs": [
    {
     "data": {
      "text/plain": "             Item Name Category Name        Date  Quantity Sold (kilo)  \\\n20422  net lotus root        aquatic  2023-02-07              0.600000   \n16530    luosi pepper       capsicum  2023-05-08              1.000000   \n2321            caixin        flower  2020-07-02              0.414286   \n\n       Unit Selling Price (RMB/kg)  \n20422                          4.8  \n16530                          7.5  \n2321                           8.0  ",
      "text/html": "<div>\n<style scoped>\n    .dataframe tbody tr th:only-of-type {\n        vertical-align: middle;\n    }\n\n    .dataframe tbody tr th {\n        vertical-align: top;\n    }\n\n    .dataframe thead th {\n        text-align: right;\n    }\n</style>\n<table border=\"1\" class=\"dataframe\">\n  <thead>\n    <tr style=\"text-align: right;\">\n      <th></th>\n      <th>Item Name</th>\n      <th>Category Name</th>\n      <th>Date</th>\n      <th>Quantity Sold (kilo)</th>\n      <th>Unit Selling Price (RMB/kg)</th>\n    </tr>\n  </thead>\n  <tbody>\n    <tr>\n      <th>20422</th>\n      <td>net lotus root</td>\n      <td>aquatic</td>\n      <td>2023-02-07</td>\n      <td>0.600000</td>\n      <td>4.8</td>\n    </tr>\n    <tr>\n      <th>16530</th>\n      <td>luosi pepper</td>\n      <td>capsicum</td>\n      <td>2023-05-08</td>\n      <td>1.000000</td>\n      <td>7.5</td>\n    </tr>\n    <tr>\n      <th>2321</th>\n      <td>caixin</td>\n      <td>flower</td>\n      <td>2020-07-02</td>\n      <td>0.414286</td>\n      <td>8.0</td>\n    </tr>\n  </tbody>\n</table>\n</div>"
     },
     "execution_count": 25,
     "metadata": {},
     "output_type": "execute_result"
    }
   ],
   "source": [
    "df.sample(3)"
   ],
   "metadata": {
    "collapsed": false,
    "ExecuteTime": {
     "end_time": "2024-01-11T13:03:04.469063Z",
     "start_time": "2024-01-11T13:03:04.450644Z"
    }
   },
   "id": "98226327bf9b4d04"
  },
  {
   "cell_type": "code",
   "execution_count": 26,
   "outputs": [],
   "source": [
    "# drop non-dependent columns\n",
    "df = df.drop(columns='Date')"
   ],
   "metadata": {
    "collapsed": false,
    "ExecuteTime": {
     "end_time": "2024-01-11T13:03:04.469802Z",
     "start_time": "2024-01-11T13:03:04.456111Z"
    }
   },
   "id": "8e0fd0c9de3aded9"
  },
  {
   "cell_type": "code",
   "execution_count": 27,
   "outputs": [
    {
     "data": {
      "text/plain": "                             Quantity Sold (kilo)  Unit Selling Price (RMB/kg)\nQuantity Sold (kilo)                     1.000000                    -0.435721\nUnit Selling Price (RMB/kg)             -0.435721                     1.000000",
      "text/html": "<div>\n<style scoped>\n    .dataframe tbody tr th:only-of-type {\n        vertical-align: middle;\n    }\n\n    .dataframe tbody tr th {\n        vertical-align: top;\n    }\n\n    .dataframe thead th {\n        text-align: right;\n    }\n</style>\n<table border=\"1\" class=\"dataframe\">\n  <thead>\n    <tr style=\"text-align: right;\">\n      <th></th>\n      <th>Quantity Sold (kilo)</th>\n      <th>Unit Selling Price (RMB/kg)</th>\n    </tr>\n  </thead>\n  <tbody>\n    <tr>\n      <th>Quantity Sold (kilo)</th>\n      <td>1.000000</td>\n      <td>-0.435721</td>\n    </tr>\n    <tr>\n      <th>Unit Selling Price (RMB/kg)</th>\n      <td>-0.435721</td>\n      <td>1.000000</td>\n    </tr>\n  </tbody>\n</table>\n</div>"
     },
     "execution_count": 27,
     "metadata": {},
     "output_type": "execute_result"
    }
   ],
   "source": [
    "# view co-relation between price and sold amount\n",
    "df.iloc[:,[2, 3]].corr()"
   ],
   "metadata": {
    "collapsed": false,
    "ExecuteTime": {
     "end_time": "2024-01-11T13:03:04.602773Z",
     "start_time": "2024-01-11T13:03:04.464785Z"
    }
   },
   "id": "6e35fe96e66f4f61"
  },
  {
   "cell_type": "code",
   "execution_count": 28,
   "outputs": [
    {
     "data": {
      "text/plain": "(37978, 199)"
     },
     "execution_count": 28,
     "metadata": {},
     "output_type": "execute_result"
    }
   ],
   "source": [
    "# one hot encoding\n",
    "df = pd.get_dummies(df)\n",
    "df.shape"
   ],
   "metadata": {
    "collapsed": false,
    "ExecuteTime": {
     "end_time": "2024-01-11T13:03:04.611132Z",
     "start_time": "2024-01-11T13:03:04.557107Z"
    }
   },
   "id": "15273275e4ecaf43"
  },
  {
   "cell_type": "code",
   "execution_count": 29,
   "outputs": [
    {
     "data": {
      "text/plain": "       Quantity Sold (kilo)  Unit Selling Price (RMB/kg)  \\\n1251               0.330000                          8.0   \n406                0.362500                          8.0   \n25609              0.511111                          6.0   \n30191              0.300000                         10.0   \n8424               0.300000                          9.0   \n\n       Item Name_7 colour pepper   Item Name_agaricus bisporus   \\\n1251                        False                         False   \n406                         False                         False   \n25609                       False                         False   \n30191                       False                         False   \n8424                        False                         False   \n\n       Item Name_aihao  Item Name_amaranth  Item Name_amaranth   \\\n1251             False               False                False   \n406              False                True                False   \n25609            False               False                False   \n30191            False               False                False   \n8424             False               False                False   \n\n       Item Name_apricot bao mushroom   Item Name_artemisia stelleriana  \\\n1251                              True                            False   \n406                              False                            False   \n25609                            False                            False   \n30191                            False                            False   \n8424                             False                            False   \n\n       Item Name_basil   ...  Item Name_zhijiang red bolt   \\\n1251              False  ...                         False   \n406               False  ...                         False   \n25609             False  ...                         False   \n30191             False  ...                         False   \n8424              False  ...                         False   \n\n       Item Name_zhimaxiancai  Item Name_zhuyecai  Item Name_zhuyecai   \\\n1251                    False               False                False   \n406                     False               False                False   \n25609                   False               False                False   \n30191                   False               False                False   \n8424                    False               False                False   \n\n       Category Name_aquatic  Category Name_cabbage  Category Name_capsicum  \\\n1251                   False                  False                   False   \n406                    False                  False                   False   \n25609                  False                  False                   False   \n30191                   True                  False                   False   \n8424                   False                  False                   False   \n\n       Category Name_flower  Category Name_mushroom  Category Name_solanum  \n1251                  False                    True                  False  \n406                    True                   False                  False  \n25609                  True                   False                  False  \n30191                 False                   False                  False  \n8424                  False                   False                   True  \n\n[5 rows x 199 columns]",
      "text/html": "<div>\n<style scoped>\n    .dataframe tbody tr th:only-of-type {\n        vertical-align: middle;\n    }\n\n    .dataframe tbody tr th {\n        vertical-align: top;\n    }\n\n    .dataframe thead th {\n        text-align: right;\n    }\n</style>\n<table border=\"1\" class=\"dataframe\">\n  <thead>\n    <tr style=\"text-align: right;\">\n      <th></th>\n      <th>Quantity Sold (kilo)</th>\n      <th>Unit Selling Price (RMB/kg)</th>\n      <th>Item Name_7 colour pepper</th>\n      <th>Item Name_agaricus bisporus</th>\n      <th>Item Name_aihao</th>\n      <th>Item Name_amaranth</th>\n      <th>Item Name_amaranth</th>\n      <th>Item Name_apricot bao mushroom</th>\n      <th>Item Name_artemisia stelleriana</th>\n      <th>Item Name_basil</th>\n      <th>...</th>\n      <th>Item Name_zhijiang red bolt</th>\n      <th>Item Name_zhimaxiancai</th>\n      <th>Item Name_zhuyecai</th>\n      <th>Item Name_zhuyecai</th>\n      <th>Category Name_aquatic</th>\n      <th>Category Name_cabbage</th>\n      <th>Category Name_capsicum</th>\n      <th>Category Name_flower</th>\n      <th>Category Name_mushroom</th>\n      <th>Category Name_solanum</th>\n    </tr>\n  </thead>\n  <tbody>\n    <tr>\n      <th>1251</th>\n      <td>0.330000</td>\n      <td>8.0</td>\n      <td>False</td>\n      <td>False</td>\n      <td>False</td>\n      <td>False</td>\n      <td>False</td>\n      <td>True</td>\n      <td>False</td>\n      <td>False</td>\n      <td>...</td>\n      <td>False</td>\n      <td>False</td>\n      <td>False</td>\n      <td>False</td>\n      <td>False</td>\n      <td>False</td>\n      <td>False</td>\n      <td>False</td>\n      <td>True</td>\n      <td>False</td>\n    </tr>\n    <tr>\n      <th>406</th>\n      <td>0.362500</td>\n      <td>8.0</td>\n      <td>False</td>\n      <td>False</td>\n      <td>False</td>\n      <td>True</td>\n      <td>False</td>\n      <td>False</td>\n      <td>False</td>\n      <td>False</td>\n      <td>...</td>\n      <td>False</td>\n      <td>False</td>\n      <td>False</td>\n      <td>False</td>\n      <td>False</td>\n      <td>False</td>\n      <td>False</td>\n      <td>True</td>\n      <td>False</td>\n      <td>False</td>\n    </tr>\n    <tr>\n      <th>25609</th>\n      <td>0.511111</td>\n      <td>6.0</td>\n      <td>False</td>\n      <td>False</td>\n      <td>False</td>\n      <td>False</td>\n      <td>False</td>\n      <td>False</td>\n      <td>False</td>\n      <td>False</td>\n      <td>...</td>\n      <td>False</td>\n      <td>False</td>\n      <td>False</td>\n      <td>False</td>\n      <td>False</td>\n      <td>False</td>\n      <td>False</td>\n      <td>True</td>\n      <td>False</td>\n      <td>False</td>\n    </tr>\n    <tr>\n      <th>30191</th>\n      <td>0.300000</td>\n      <td>10.0</td>\n      <td>False</td>\n      <td>False</td>\n      <td>False</td>\n      <td>False</td>\n      <td>False</td>\n      <td>False</td>\n      <td>False</td>\n      <td>False</td>\n      <td>...</td>\n      <td>False</td>\n      <td>False</td>\n      <td>False</td>\n      <td>False</td>\n      <td>True</td>\n      <td>False</td>\n      <td>False</td>\n      <td>False</td>\n      <td>False</td>\n      <td>False</td>\n    </tr>\n    <tr>\n      <th>8424</th>\n      <td>0.300000</td>\n      <td>9.0</td>\n      <td>False</td>\n      <td>False</td>\n      <td>False</td>\n      <td>False</td>\n      <td>False</td>\n      <td>False</td>\n      <td>False</td>\n      <td>False</td>\n      <td>...</td>\n      <td>False</td>\n      <td>False</td>\n      <td>False</td>\n      <td>False</td>\n      <td>False</td>\n      <td>False</td>\n      <td>False</td>\n      <td>False</td>\n      <td>False</td>\n      <td>True</td>\n    </tr>\n  </tbody>\n</table>\n<p>5 rows × 199 columns</p>\n</div>"
     },
     "execution_count": 29,
     "metadata": {},
     "output_type": "execute_result"
    }
   ],
   "source": [
    "df.sample(5)"
   ],
   "metadata": {
    "collapsed": false,
    "ExecuteTime": {
     "end_time": "2024-01-11T13:03:04.611887Z",
     "start_time": "2024-01-11T13:03:04.557316Z"
    }
   },
   "id": "962f3677d7a76cc8"
  },
  {
   "cell_type": "code",
   "outputs": [],
   "source": [
    "# save pre-processed dataset\n",
    "df.to_csv('../../datasets/pre_processed_dataset.csv', index=False)"
   ],
   "metadata": {
    "collapsed": false,
    "ExecuteTime": {
     "end_time": "2024-01-11T13:03:05.462439Z",
     "start_time": "2024-01-11T13:03:04.561555Z"
    }
   },
   "id": "f319078b1df017a3",
   "execution_count": 30
  }
 ],
 "metadata": {
  "kernelspec": {
   "display_name": "Python 3",
   "language": "python",
   "name": "python3"
  },
  "language_info": {
   "codemirror_mode": {
    "name": "ipython",
    "version": 2
   },
   "file_extension": ".py",
   "mimetype": "text/x-python",
   "name": "python",
   "nbconvert_exporter": "python",
   "pygments_lexer": "ipython2",
   "version": "2.7.6"
  }
 },
 "nbformat": 4,
 "nbformat_minor": 5
}
