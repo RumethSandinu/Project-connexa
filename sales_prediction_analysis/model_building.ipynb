{
 "cells": [
  {
   "cell_type": "code",
   "execution_count": 1,
   "id": "initial_id",
   "metadata": {
    "collapsed": true,
    "ExecuteTime": {
     "end_time": "2024-01-22T05:45:13.350404Z",
     "start_time": "2024-01-22T05:45:13.028669Z"
    }
   },
   "outputs": [],
   "source": [
    "import pandas as pd"
   ]
  },
  {
   "cell_type": "code",
   "execution_count": 2,
   "outputs": [
    {
     "data": {
      "text/plain": "       Quantity Sold (kilo)  Unit Selling Price (RMB/kg)  Item Name_Other  \\\n4312               0.449952                          8.0            False   \n5016               0.358500                          8.0            False   \n15610              1.000000                          1.9            False   \n\n       Item Name_amaranth  Item Name_apricot bao mushroom   \\\n4312                False                            False   \n5016                False                            False   \n15610               False                            False   \n\n       Item Name_cabbage stem   Item Name_caidian quinoa artemisia  \\\n4312                     False                               False   \n5016                     False                               False   \n15610                    False                               False   \n\n       Item Name_caixin  Item Name_caixin   Item Name_changxianqie  ...  \\\n4312              False              False                   False  ...   \n5016              False              False                   False  ...   \n15610             False              False                   False  ...   \n\n       Item Name_zhijiang qinggengsanhua  Item Name_zhijiang red bolt  \\\n4312                               False                        False   \n5016                               False                        False   \n15610                              False                        False   \n\n       Item Name_zhuyecai  Item Name_zhuyecai   Category Name_aquatic  \\\n4312                 True                False                  False   \n5016                False                False                  False   \n15610               False                False                  False   \n\n       Category Name_cabbage  Category Name_capsicum  Category Name_flower  \\\n4312                   False                   False                  True   \n5016                   False                   False                  True   \n15610                  False                   False                  True   \n\n       Category Name_mushroom  Category Name_solanum  \n4312                    False                  False  \n5016                    False                  False  \n15610                   False                  False  \n\n[3 rows x 91 columns]",
      "text/html": "<div>\n<style scoped>\n    .dataframe tbody tr th:only-of-type {\n        vertical-align: middle;\n    }\n\n    .dataframe tbody tr th {\n        vertical-align: top;\n    }\n\n    .dataframe thead th {\n        text-align: right;\n    }\n</style>\n<table border=\"1\" class=\"dataframe\">\n  <thead>\n    <tr style=\"text-align: right;\">\n      <th></th>\n      <th>Quantity Sold (kilo)</th>\n      <th>Unit Selling Price (RMB/kg)</th>\n      <th>Item Name_Other</th>\n      <th>Item Name_amaranth</th>\n      <th>Item Name_apricot bao mushroom</th>\n      <th>Item Name_cabbage stem</th>\n      <th>Item Name_caidian quinoa artemisia</th>\n      <th>Item Name_caixin</th>\n      <th>Item Name_caixin</th>\n      <th>Item Name_changxianqie</th>\n      <th>...</th>\n      <th>Item Name_zhijiang qinggengsanhua</th>\n      <th>Item Name_zhijiang red bolt</th>\n      <th>Item Name_zhuyecai</th>\n      <th>Item Name_zhuyecai</th>\n      <th>Category Name_aquatic</th>\n      <th>Category Name_cabbage</th>\n      <th>Category Name_capsicum</th>\n      <th>Category Name_flower</th>\n      <th>Category Name_mushroom</th>\n      <th>Category Name_solanum</th>\n    </tr>\n  </thead>\n  <tbody>\n    <tr>\n      <th>4312</th>\n      <td>0.449952</td>\n      <td>8.0</td>\n      <td>False</td>\n      <td>False</td>\n      <td>False</td>\n      <td>False</td>\n      <td>False</td>\n      <td>False</td>\n      <td>False</td>\n      <td>False</td>\n      <td>...</td>\n      <td>False</td>\n      <td>False</td>\n      <td>True</td>\n      <td>False</td>\n      <td>False</td>\n      <td>False</td>\n      <td>False</td>\n      <td>True</td>\n      <td>False</td>\n      <td>False</td>\n    </tr>\n    <tr>\n      <th>5016</th>\n      <td>0.358500</td>\n      <td>8.0</td>\n      <td>False</td>\n      <td>False</td>\n      <td>False</td>\n      <td>False</td>\n      <td>False</td>\n      <td>False</td>\n      <td>False</td>\n      <td>False</td>\n      <td>...</td>\n      <td>False</td>\n      <td>False</td>\n      <td>False</td>\n      <td>False</td>\n      <td>False</td>\n      <td>False</td>\n      <td>False</td>\n      <td>True</td>\n      <td>False</td>\n      <td>False</td>\n    </tr>\n    <tr>\n      <th>15610</th>\n      <td>1.000000</td>\n      <td>1.9</td>\n      <td>False</td>\n      <td>False</td>\n      <td>False</td>\n      <td>False</td>\n      <td>False</td>\n      <td>False</td>\n      <td>False</td>\n      <td>False</td>\n      <td>...</td>\n      <td>False</td>\n      <td>False</td>\n      <td>False</td>\n      <td>False</td>\n      <td>False</td>\n      <td>False</td>\n      <td>False</td>\n      <td>True</td>\n      <td>False</td>\n      <td>False</td>\n    </tr>\n  </tbody>\n</table>\n<p>3 rows × 91 columns</p>\n</div>"
     },
     "execution_count": 2,
     "metadata": {},
     "output_type": "execute_result"
    }
   ],
   "source": [
    "# load pre-processed dataset\n",
    "df = pd.read_csv('../../datasets/pre_processed_dataset.csv')\n",
    "df.sample(3)"
   ],
   "metadata": {
    "collapsed": false,
    "ExecuteTime": {
     "end_time": "2024-01-22T05:45:13.501720Z",
     "start_time": "2024-01-22T05:45:13.409720Z"
    }
   },
   "id": "f6a76d43f2da9e88"
  },
  {
   "cell_type": "code",
   "execution_count": 3,
   "outputs": [
    {
     "name": "stderr",
     "output_type": "stream",
     "text": [
      "/Users/rumethsandinu/Library/Python/3.9/lib/python/site-packages/urllib3/__init__.py:34: NotOpenSSLWarning: urllib3 v2 only supports OpenSSL 1.1.1+, currently the 'ssl' module is compiled with 'LibreSSL 2.8.3'. See: https://github.com/urllib3/urllib3/issues/3020\n",
      "  warnings.warn(\n"
     ]
    }
   ],
   "source": [
    "from sklearn.model_selection import train_test_split\n",
    "import tensorflow as tf"
   ],
   "metadata": {
    "collapsed": false,
    "ExecuteTime": {
     "end_time": "2024-01-22T05:45:17.678027Z",
     "start_time": "2024-01-22T05:45:13.768711Z"
    }
   },
   "id": "278bdc9d61ee98ad"
  },
  {
   "cell_type": "code",
   "execution_count": 4,
   "outputs": [
    {
     "name": "stderr",
     "output_type": "stream",
     "text": [
      "2024-01-22 11:15:17.687665: I metal_plugin/src/device/metal_device.cc:1154] Metal device set to: Apple M2\n",
      "2024-01-22 11:15:17.687682: I metal_plugin/src/device/metal_device.cc:296] systemMemory: 8.00 GB\n",
      "2024-01-22 11:15:17.687687: I metal_plugin/src/device/metal_device.cc:313] maxCacheSize: 2.67 GB\n",
      "2024-01-22 11:15:17.687975: I tensorflow/core/common_runtime/pluggable_device/pluggable_device_factory.cc:306] Could not identify NUMA node of platform GPU ID 0, defaulting to 0. Your kernel may not have been built with NUMA support.\n",
      "2024-01-22 11:15:17.688243: I tensorflow/core/common_runtime/pluggable_device/pluggable_device_factory.cc:272] Created TensorFlow device (/job:localhost/replica:0/task:0/device:GPU:0 with 0 MB memory) -> physical PluggableDevice (device: 0, name: METAL, pci bus id: <undefined>)\n"
     ]
    },
    {
     "data": {
      "text/plain": "(TensorShape([17228, 90]), TensorShape([5168, 90]), (2216, 90))"
     },
     "execution_count": 4,
     "metadata": {},
     "output_type": "execute_result"
    }
   ],
   "source": [
    "# define dependent and non dependent variables\n",
    "y = df['Quantity Sold (kilo)']\n",
    "x = df.drop(columns=['Quantity Sold (kilo)'], axis=1)\n",
    "\n",
    "# split the dataset 0.8, 0.2, 0.1\n",
    "x_train, x_temp, y_train, y_temp = train_test_split(x, y, test_size=0.3, random_state=42)\n",
    "x_eval, x_test, y_eval, y_test = train_test_split(x_temp, y_temp, test_size=0.3, random_state=42)\n",
    "\n",
    "# convert to tensor arrays\n",
    "x_train_tensor = tf.constant(x_train, dtype=tf.float32)\n",
    "y_train_tensor = tf.constant(y_train, dtype=tf.float32)\n",
    "x_eval_tensor = tf.constant(x_eval, dtype=tf.float32)\n",
    "y_eval_tensor = tf.constant(y_eval, dtype=tf.float32)\n",
    "\n",
    "x_train_tensor.shape, x_eval_tensor.shape, x_test.shape"
   ],
   "metadata": {
    "collapsed": false,
    "ExecuteTime": {
     "end_time": "2024-01-22T05:45:17.793121Z",
     "start_time": "2024-01-22T05:45:17.680292Z"
    }
   },
   "id": "87771c7557fd3e35"
  },
  {
   "cell_type": "code",
   "execution_count": 5,
   "outputs": [
    {
     "data": {
      "text/plain": "      Quantity Sold (kilo)  Unit Selling Price (RMB/kg)  Item Name_Other  \\\n144               0.472111                          6.0            False   \n1403              0.692300                          8.0            False   \n1538              0.111923                         16.0            False   \n\n      Item Name_amaranth  Item Name_apricot bao mushroom   \\\n144                False                            False   \n1403               False                            False   \n1538               False                            False   \n\n      Item Name_cabbage stem   Item Name_caidian quinoa artemisia  \\\n144                     False                               False   \n1403                    False                               False   \n1538                    False                               False   \n\n      Item Name_caixin  Item Name_caixin   Item Name_changxianqie  ...  \\\n144              False              False                   False  ...   \n1403             False              False                   False  ...   \n1538             False              False                   False  ...   \n\n      Item Name_zhijiang qinggengsanhua  Item Name_zhijiang red bolt  \\\n144                               False                        False   \n1403                              False                        False   \n1538                              False                        False   \n\n      Item Name_zhuyecai  Item Name_zhuyecai   Category Name_aquatic  \\\n144                False                False                  False   \n1403               False                False                  False   \n1538               False                False                  False   \n\n      Category Name_cabbage  Category Name_capsicum  Category Name_flower  \\\n144                   False                   False                  True   \n1403                  False                   False                  True   \n1538                  False                    True                 False   \n\n      Category Name_mushroom  Category Name_solanum  \n144                    False                  False  \n1403                   False                  False  \n1538                   False                  False  \n\n[3 rows x 91 columns]",
      "text/html": "<div>\n<style scoped>\n    .dataframe tbody tr th:only-of-type {\n        vertical-align: middle;\n    }\n\n    .dataframe tbody tr th {\n        vertical-align: top;\n    }\n\n    .dataframe thead th {\n        text-align: right;\n    }\n</style>\n<table border=\"1\" class=\"dataframe\">\n  <thead>\n    <tr style=\"text-align: right;\">\n      <th></th>\n      <th>Quantity Sold (kilo)</th>\n      <th>Unit Selling Price (RMB/kg)</th>\n      <th>Item Name_Other</th>\n      <th>Item Name_amaranth</th>\n      <th>Item Name_apricot bao mushroom</th>\n      <th>Item Name_cabbage stem</th>\n      <th>Item Name_caidian quinoa artemisia</th>\n      <th>Item Name_caixin</th>\n      <th>Item Name_caixin</th>\n      <th>Item Name_changxianqie</th>\n      <th>...</th>\n      <th>Item Name_zhijiang qinggengsanhua</th>\n      <th>Item Name_zhijiang red bolt</th>\n      <th>Item Name_zhuyecai</th>\n      <th>Item Name_zhuyecai</th>\n      <th>Category Name_aquatic</th>\n      <th>Category Name_cabbage</th>\n      <th>Category Name_capsicum</th>\n      <th>Category Name_flower</th>\n      <th>Category Name_mushroom</th>\n      <th>Category Name_solanum</th>\n    </tr>\n  </thead>\n  <tbody>\n    <tr>\n      <th>144</th>\n      <td>0.472111</td>\n      <td>6.0</td>\n      <td>False</td>\n      <td>False</td>\n      <td>False</td>\n      <td>False</td>\n      <td>False</td>\n      <td>False</td>\n      <td>False</td>\n      <td>False</td>\n      <td>...</td>\n      <td>False</td>\n      <td>False</td>\n      <td>False</td>\n      <td>False</td>\n      <td>False</td>\n      <td>False</td>\n      <td>False</td>\n      <td>True</td>\n      <td>False</td>\n      <td>False</td>\n    </tr>\n    <tr>\n      <th>1403</th>\n      <td>0.692300</td>\n      <td>8.0</td>\n      <td>False</td>\n      <td>False</td>\n      <td>False</td>\n      <td>False</td>\n      <td>False</td>\n      <td>False</td>\n      <td>False</td>\n      <td>False</td>\n      <td>...</td>\n      <td>False</td>\n      <td>False</td>\n      <td>False</td>\n      <td>False</td>\n      <td>False</td>\n      <td>False</td>\n      <td>False</td>\n      <td>True</td>\n      <td>False</td>\n      <td>False</td>\n    </tr>\n    <tr>\n      <th>1538</th>\n      <td>0.111923</td>\n      <td>16.0</td>\n      <td>False</td>\n      <td>False</td>\n      <td>False</td>\n      <td>False</td>\n      <td>False</td>\n      <td>False</td>\n      <td>False</td>\n      <td>False</td>\n      <td>...</td>\n      <td>False</td>\n      <td>False</td>\n      <td>False</td>\n      <td>False</td>\n      <td>False</td>\n      <td>False</td>\n      <td>True</td>\n      <td>False</td>\n      <td>False</td>\n      <td>False</td>\n    </tr>\n  </tbody>\n</table>\n<p>3 rows × 91 columns</p>\n</div>"
     },
     "execution_count": 5,
     "metadata": {},
     "output_type": "execute_result"
    }
   ],
   "source": [
    "# save testing dataset\n",
    "df_test = pd.concat([y_test.reset_index(drop=True), x_test.reset_index(drop=True)], axis=1)\n",
    "df_test.to_csv('../../datasets/testing_dataset.csv')\n",
    "df_test.sample(3)"
   ],
   "metadata": {
    "collapsed": false,
    "ExecuteTime": {
     "end_time": "2024-01-22T05:45:20.492751Z",
     "start_time": "2024-01-22T05:45:20.446253Z"
    }
   },
   "id": "f2ad927015ae9653"
  },
  {
   "cell_type": "code",
   "execution_count": 6,
   "outputs": [],
   "source": [
    "# convert to tensor arrays\n",
    "x_test_tensor = tf.constant(x_test, dtype=tf.float32)\n",
    "y_test_tensor = tf.constant(y_test, dtype=tf.float32)"
   ],
   "metadata": {
    "collapsed": false,
    "ExecuteTime": {
     "end_time": "2024-01-22T05:45:22.142225Z",
     "start_time": "2024-01-22T05:45:22.125479Z"
    }
   },
   "id": "d4f2882c044068f4"
  },
  {
   "cell_type": "code",
   "execution_count": 7,
   "outputs": [
    {
     "name": "stdout",
     "output_type": "stream",
     "text": [
      "Epoch 1/50\n"
     ]
    },
    {
     "name": "stderr",
     "output_type": "stream",
     "text": [
      "2024-01-22 11:15:29.962867: I tensorflow/core/grappler/optimizers/custom_graph_optimizer_registry.cc:117] Plugin optimizer for device_type GPU is enabled.\n"
     ]
    },
    {
     "name": "stdout",
     "output_type": "stream",
     "text": [
      "539/539 [==============================] - 10s 16ms/step - loss: 0.3737 - mae: 0.3737 - val_loss: 0.3086 - val_mae: 0.3086\n",
      "Epoch 2/50\n",
      "539/539 [==============================] - 8s 15ms/step - loss: 0.2815 - mae: 0.2815 - val_loss: 0.2407 - val_mae: 0.2407\n",
      "Epoch 3/50\n",
      "539/539 [==============================] - 8s 15ms/step - loss: 0.2328 - mae: 0.2328 - val_loss: 0.2083 - val_mae: 0.2083\n",
      "Epoch 4/50\n",
      "539/539 [==============================] - 8s 15ms/step - loss: 0.2114 - mae: 0.2114 - val_loss: 0.1956 - val_mae: 0.1956\n",
      "Epoch 5/50\n",
      "539/539 [==============================] - 9s 16ms/step - loss: 0.2017 - mae: 0.2017 - val_loss: 0.1885 - val_mae: 0.1885\n",
      "Epoch 6/50\n",
      "539/539 [==============================] - 8s 15ms/step - loss: 0.1952 - mae: 0.1952 - val_loss: 0.1827 - val_mae: 0.1827\n",
      "Epoch 7/50\n",
      "539/539 [==============================] - 8s 15ms/step - loss: 0.1890 - mae: 0.1890 - val_loss: 0.1767 - val_mae: 0.1767\n",
      "Epoch 8/50\n",
      "539/539 [==============================] - 8s 14ms/step - loss: 0.1822 - mae: 0.1822 - val_loss: 0.1710 - val_mae: 0.1710\n",
      "Epoch 9/50\n",
      "539/539 [==============================] - 8s 15ms/step - loss: 0.1758 - mae: 0.1758 - val_loss: 0.1654 - val_mae: 0.1654\n",
      "Epoch 10/50\n",
      "539/539 [==============================] - 8s 15ms/step - loss: 0.1697 - mae: 0.1697 - val_loss: 0.1601 - val_mae: 0.1601\n",
      "Epoch 11/50\n",
      "539/539 [==============================] - 8s 15ms/step - loss: 0.1636 - mae: 0.1636 - val_loss: 0.1547 - val_mae: 0.1547\n",
      "Epoch 12/50\n",
      "539/539 [==============================] - 8s 14ms/step - loss: 0.1572 - mae: 0.1572 - val_loss: 0.1489 - val_mae: 0.1489\n",
      "Epoch 13/50\n",
      "539/539 [==============================] - 7s 14ms/step - loss: 0.1501 - mae: 0.1501 - val_loss: 0.1421 - val_mae: 0.1421\n",
      "Epoch 14/50\n",
      "539/539 [==============================] - 8s 15ms/step - loss: 0.1422 - mae: 0.1422 - val_loss: 0.1348 - val_mae: 0.1348\n",
      "Epoch 15/50\n",
      "539/539 [==============================] - 8s 14ms/step - loss: 0.1357 - mae: 0.1357 - val_loss: 0.1292 - val_mae: 0.1292\n",
      "Epoch 16/50\n",
      "539/539 [==============================] - 8s 14ms/step - loss: 0.1304 - mae: 0.1304 - val_loss: 0.1241 - val_mae: 0.1241\n",
      "Epoch 17/50\n",
      "539/539 [==============================] - 7s 14ms/step - loss: 0.1255 - mae: 0.1255 - val_loss: 0.1193 - val_mae: 0.1193\n",
      "Epoch 18/50\n",
      "539/539 [==============================] - 7s 14ms/step - loss: 0.1209 - mae: 0.1209 - val_loss: 0.1147 - val_mae: 0.1147\n",
      "Epoch 19/50\n",
      "539/539 [==============================] - 7s 13ms/step - loss: 0.1165 - mae: 0.1165 - val_loss: 0.1102 - val_mae: 0.1102\n",
      "Epoch 20/50\n",
      "539/539 [==============================] - 8s 14ms/step - loss: 0.1120 - mae: 0.1120 - val_loss: 0.1057 - val_mae: 0.1057\n",
      "Epoch 21/50\n",
      "539/539 [==============================] - 7s 14ms/step - loss: 0.1075 - mae: 0.1075 - val_loss: 0.1014 - val_mae: 0.1014\n",
      "Epoch 22/50\n",
      "539/539 [==============================] - 7s 13ms/step - loss: 0.1032 - mae: 0.1032 - val_loss: 0.0971 - val_mae: 0.0971\n",
      "Epoch 23/50\n",
      "539/539 [==============================] - 8s 14ms/step - loss: 0.0991 - mae: 0.0991 - val_loss: 0.0933 - val_mae: 0.0933\n",
      "Epoch 24/50\n",
      "539/539 [==============================] - 8s 15ms/step - loss: 0.0955 - mae: 0.0955 - val_loss: 0.0900 - val_mae: 0.0900\n",
      "Epoch 25/50\n",
      "539/539 [==============================] - 8s 15ms/step - loss: 0.0921 - mae: 0.0921 - val_loss: 0.0866 - val_mae: 0.0866\n",
      "Epoch 26/50\n",
      "539/539 [==============================] - 8s 14ms/step - loss: 0.0893 - mae: 0.0893 - val_loss: 0.0839 - val_mae: 0.0839\n",
      "Epoch 27/50\n",
      "539/539 [==============================] - 8s 14ms/step - loss: 0.0870 - mae: 0.0870 - val_loss: 0.0821 - val_mae: 0.0821\n",
      "Epoch 28/50\n",
      "539/539 [==============================] - 7s 14ms/step - loss: 0.0853 - mae: 0.0853 - val_loss: 0.0805 - val_mae: 0.0805\n",
      "Epoch 29/50\n",
      "539/539 [==============================] - 7s 14ms/step - loss: 0.0837 - mae: 0.0837 - val_loss: 0.0791 - val_mae: 0.0791\n",
      "Epoch 30/50\n",
      "539/539 [==============================] - 8s 15ms/step - loss: 0.0823 - mae: 0.0823 - val_loss: 0.0779 - val_mae: 0.0779\n",
      "Epoch 31/50\n",
      "539/539 [==============================] - 7s 13ms/step - loss: 0.0812 - mae: 0.0812 - val_loss: 0.0774 - val_mae: 0.0774\n",
      "Epoch 32/50\n",
      "539/539 [==============================] - 7s 14ms/step - loss: 0.0803 - mae: 0.0803 - val_loss: 0.0766 - val_mae: 0.0766\n",
      "Epoch 33/50\n",
      "539/539 [==============================] - 8s 14ms/step - loss: 0.0792 - mae: 0.0792 - val_loss: 0.0753 - val_mae: 0.0753\n",
      "Epoch 34/50\n",
      "539/539 [==============================] - 8s 14ms/step - loss: 0.0783 - mae: 0.0783 - val_loss: 0.0746 - val_mae: 0.0746\n",
      "Epoch 35/50\n",
      "539/539 [==============================] - 8s 15ms/step - loss: 0.0775 - mae: 0.0775 - val_loss: 0.0737 - val_mae: 0.0737\n",
      "Epoch 36/50\n",
      "539/539 [==============================] - 7s 14ms/step - loss: 0.0767 - mae: 0.0767 - val_loss: 0.0731 - val_mae: 0.0731\n",
      "Epoch 37/50\n",
      "539/539 [==============================] - 7s 14ms/step - loss: 0.0759 - mae: 0.0759 - val_loss: 0.0730 - val_mae: 0.0730\n",
      "Epoch 38/50\n",
      "539/539 [==============================] - 8s 14ms/step - loss: 0.0752 - mae: 0.0752 - val_loss: 0.0716 - val_mae: 0.0716\n",
      "Epoch 39/50\n",
      "539/539 [==============================] - 8s 14ms/step - loss: 0.0743 - mae: 0.0743 - val_loss: 0.0710 - val_mae: 0.0710\n",
      "Epoch 40/50\n",
      "539/539 [==============================] - 7s 13ms/step - loss: 0.0736 - mae: 0.0736 - val_loss: 0.0701 - val_mae: 0.0701\n",
      "Epoch 41/50\n",
      "539/539 [==============================] - 7s 14ms/step - loss: 0.0729 - mae: 0.0729 - val_loss: 0.0696 - val_mae: 0.0696\n",
      "Epoch 42/50\n",
      "539/539 [==============================] - 8s 14ms/step - loss: 0.0723 - mae: 0.0723 - val_loss: 0.0694 - val_mae: 0.0694\n",
      "Epoch 43/50\n",
      "539/539 [==============================] - 8s 14ms/step - loss: 0.0718 - mae: 0.0718 - val_loss: 0.0688 - val_mae: 0.0688\n",
      "Epoch 44/50\n",
      "539/539 [==============================] - 8s 14ms/step - loss: 0.0714 - mae: 0.0714 - val_loss: 0.0683 - val_mae: 0.0683\n",
      "Epoch 45/50\n",
      "539/539 [==============================] - 7s 14ms/step - loss: 0.0710 - mae: 0.0710 - val_loss: 0.0678 - val_mae: 0.0678\n",
      "Epoch 46/50\n",
      "539/539 [==============================] - 8s 14ms/step - loss: 0.0706 - mae: 0.0706 - val_loss: 0.0674 - val_mae: 0.0674\n",
      "Epoch 47/50\n",
      "539/539 [==============================] - 8s 14ms/step - loss: 0.0702 - mae: 0.0702 - val_loss: 0.0671 - val_mae: 0.0671\n",
      "Epoch 48/50\n",
      "539/539 [==============================] - 8s 14ms/step - loss: 0.0700 - mae: 0.0700 - val_loss: 0.0668 - val_mae: 0.0668\n",
      "Epoch 49/50\n",
      "539/539 [==============================] - 8s 15ms/step - loss: 0.0696 - mae: 0.0696 - val_loss: 0.0666 - val_mae: 0.0666\n",
      "Epoch 50/50\n",
      "539/539 [==============================] - 8s 15ms/step - loss: 0.0693 - mae: 0.0693 - val_loss: 0.0665 - val_mae: 0.0665\n"
     ]
    }
   ],
   "source": [
    "# model\n",
    "model = tf.keras.Sequential()\n",
    "model.add(tf.keras.layers.Dense(90, activation='relu', input_shape=(x_train_tensor.shape[1],)))\n",
    "model.add(tf.keras.layers.Reshape((1, 90))) \n",
    "model.add(tf.keras.layers.LSTM(64, return_sequences=True))\n",
    "model.add(tf.keras.layers.Dense(64, activation='relu'))\n",
    "model.add(tf.keras.layers.LSTM(16))\n",
    "model.add(tf.keras.layers.Dense(1, activation='linear'))\n",
    "\n",
    "# compile model\n",
    "model.compile(optimizer=tf.keras.optimizers.legacy.Adam(learning_rate=1e-5), loss='mae', metrics=['mae'])\n",
    "\n",
    "epoch_number = 50\n",
    "\n",
    "# train model and get history\n",
    "history = model.fit(x_train_tensor, y_train_tensor, epochs=epoch_number, validation_data=(x_eval_tensor, y_eval_tensor))"
   ],
   "metadata": {
    "collapsed": false,
    "ExecuteTime": {
     "end_time": "2024-01-22T05:51:54.681122Z",
     "start_time": "2024-01-22T05:45:28.609254Z"
    }
   },
   "id": "8b436d40b14f1f96"
  },
  {
   "cell_type": "code",
   "execution_count": 8,
   "outputs": [],
   "source": [
    "import matplotlib.pyplot as plt"
   ],
   "metadata": {
    "collapsed": false,
    "ExecuteTime": {
     "end_time": "2024-01-22T05:51:54.932525Z",
     "start_time": "2024-01-22T05:51:54.684844Z"
    }
   },
   "id": "6463930abb54b395"
  },
  {
   "cell_type": "code",
   "execution_count": 9,
   "outputs": [
    {
     "data": {
      "text/plain": "<Figure size 640x480 with 1 Axes>",
      "image/png": "[encoded data removed]"
     },
     "metadata": {},
     "output_type": "display_data"
    }
   ],
   "source": [
    "# plot loss with respect to epoch number\n",
    "x_range = range(1, epoch_number + 1)\n",
    "loss = history.history['loss']\n",
    "val_loss = history.history['val_loss']\n",
    "plt.plot(x_range, loss, label='Training loss')\n",
    "plt.plot(x_range, val_loss, label='Validation loss')\n",
    "plt.xlabel('epoch')\n",
    "plt.ylabel('loss')\n",
    "plt.legend()\n",
    "plt.grid(True, linewidth = 0.5, color = 'y', linestyle = '--')"
   ],
   "metadata": {
    "collapsed": false,
    "ExecuteTime": {
     "end_time": "2024-01-22T05:51:55.084488Z",
     "start_time": "2024-01-22T05:51:54.933990Z"
    }
   },
   "id": "edd889b97d10a84"
  },
  {
   "cell_type": "code",
   "execution_count": 10,
   "outputs": [
    {
     "name": "stdout",
     "output_type": "stream",
     "text": [
      "Epoch 1/40\n",
      "539/539 [==============================] - 10s 16ms/step - loss: 0.4532 - mae: 0.4532 - val_loss: 0.3565 - val_mae: 0.3565\n",
      "Epoch 2/40\n",
      "539/539 [==============================] - 8s 15ms/step - loss: 0.3183 - mae: 0.3183 - val_loss: 0.2699 - val_mae: 0.2699\n",
      "Epoch 3/40\n",
      "539/539 [==============================] - 8s 15ms/step - loss: 0.2528 - mae: 0.2528 - val_loss: 0.2215 - val_mae: 0.2215\n",
      "Epoch 4/40\n",
      "539/539 [==============================] - 8s 15ms/step - loss: 0.2214 - mae: 0.2214 - val_loss: 0.2032 - val_mae: 0.2032\n",
      "Epoch 5/40\n",
      "539/539 [==============================] - 8s 15ms/step - loss: 0.2086 - mae: 0.2086 - val_loss: 0.1943 - val_mae: 0.1943\n",
      "Epoch 6/40\n",
      "539/539 [==============================] - 8s 15ms/step - loss: 0.2010 - mae: 0.2010 - val_loss: 0.1880 - val_mae: 0.1880\n",
      "Epoch 7/40\n",
      "539/539 [==============================] - 8s 15ms/step - loss: 0.1952 - mae: 0.1952 - val_loss: 0.1831 - val_mae: 0.1831\n",
      "Epoch 8/40\n",
      "539/539 [==============================] - 8s 15ms/step - loss: 0.1898 - mae: 0.1898 - val_loss: 0.1782 - val_mae: 0.1782\n",
      "Epoch 9/40\n",
      "539/539 [==============================] - 8s 14ms/step - loss: 0.1844 - mae: 0.1844 - val_loss: 0.1737 - val_mae: 0.1737\n",
      "Epoch 10/40\n",
      "539/539 [==============================] - 8s 14ms/step - loss: 0.1788 - mae: 0.1788 - val_loss: 0.1682 - val_mae: 0.1682\n",
      "Epoch 11/40\n",
      "539/539 [==============================] - 8s 14ms/step - loss: 0.1730 - mae: 0.1730 - val_loss: 0.1630 - val_mae: 0.1630\n",
      "Epoch 12/40\n",
      "539/539 [==============================] - 8s 14ms/step - loss: 0.1669 - mae: 0.1669 - val_loss: 0.1572 - val_mae: 0.1572\n",
      "Epoch 13/40\n",
      "539/539 [==============================] - 8s 14ms/step - loss: 0.1604 - mae: 0.1604 - val_loss: 0.1511 - val_mae: 0.1511\n",
      "Epoch 14/40\n",
      "539/539 [==============================] - 8s 15ms/step - loss: 0.1534 - mae: 0.1534 - val_loss: 0.1444 - val_mae: 0.1444\n",
      "Epoch 15/40\n",
      "539/539 [==============================] - 8s 14ms/step - loss: 0.1456 - mae: 0.1456 - val_loss: 0.1371 - val_mae: 0.1371\n",
      "Epoch 16/40\n",
      "539/539 [==============================] - 8s 15ms/step - loss: 0.1387 - mae: 0.1387 - val_loss: 0.1314 - val_mae: 0.1314\n",
      "Epoch 17/40\n",
      "539/539 [==============================] - 8s 16ms/step - loss: 0.1329 - mae: 0.1329 - val_loss: 0.1257 - val_mae: 0.1257\n",
      "Epoch 18/40\n",
      "539/539 [==============================] - 8s 15ms/step - loss: 0.1277 - mae: 0.1277 - val_loss: 0.1208 - val_mae: 0.1208\n",
      "Epoch 19/40\n",
      "539/539 [==============================] - 7s 14ms/step - loss: 0.1227 - mae: 0.1227 - val_loss: 0.1158 - val_mae: 0.1158\n",
      "Epoch 20/40\n",
      "539/539 [==============================] - 7s 14ms/step - loss: 0.1179 - mae: 0.1179 - val_loss: 0.1110 - val_mae: 0.1110\n",
      "Epoch 21/40\n",
      "539/539 [==============================] - 8s 15ms/step - loss: 0.1131 - mae: 0.1131 - val_loss: 0.1068 - val_mae: 0.1068\n",
      "Epoch 22/40\n",
      "539/539 [==============================] - 8s 14ms/step - loss: 0.1087 - mae: 0.1087 - val_loss: 0.1027 - val_mae: 0.1027\n",
      "Epoch 23/40\n",
      "539/539 [==============================] - 8s 14ms/step - loss: 0.1043 - mae: 0.1043 - val_loss: 0.0980 - val_mae: 0.0980\n",
      "Epoch 24/40\n",
      "539/539 [==============================] - 8s 14ms/step - loss: 0.1001 - mae: 0.1001 - val_loss: 0.0941 - val_mae: 0.0941\n",
      "Epoch 25/40\n",
      "539/539 [==============================] - 7s 13ms/step - loss: 0.0962 - mae: 0.0962 - val_loss: 0.0906 - val_mae: 0.0906\n",
      "Epoch 26/40\n",
      "539/539 [==============================] - 7s 14ms/step - loss: 0.0928 - mae: 0.0928 - val_loss: 0.0877 - val_mae: 0.0877\n",
      "Epoch 27/40\n",
      "539/539 [==============================] - 7s 13ms/step - loss: 0.0900 - mae: 0.0900 - val_loss: 0.0852 - val_mae: 0.0852\n",
      "Epoch 28/40\n",
      "539/539 [==============================] - 8s 14ms/step - loss: 0.0876 - mae: 0.0876 - val_loss: 0.0830 - val_mae: 0.0830\n",
      "Epoch 29/40\n",
      "539/539 [==============================] - 8s 15ms/step - loss: 0.0858 - mae: 0.0858 - val_loss: 0.0812 - val_mae: 0.0812\n",
      "Epoch 30/40\n",
      "539/539 [==============================] - 8s 15ms/step - loss: 0.0841 - mae: 0.0841 - val_loss: 0.0797 - val_mae: 0.0797\n",
      "Epoch 31/40\n",
      "539/539 [==============================] - 9s 16ms/step - loss: 0.0825 - mae: 0.0825 - val_loss: 0.0783 - val_mae: 0.0783\n",
      "Epoch 32/40\n",
      "539/539 [==============================] - 8s 15ms/step - loss: 0.0811 - mae: 0.0811 - val_loss: 0.0772 - val_mae: 0.0772\n",
      "Epoch 33/40\n",
      "539/539 [==============================] - 8s 14ms/step - loss: 0.0799 - mae: 0.0799 - val_loss: 0.0759 - val_mae: 0.0759\n",
      "Epoch 34/40\n",
      "539/539 [==============================] - 8s 14ms/step - loss: 0.0786 - mae: 0.0786 - val_loss: 0.0748 - val_mae: 0.0748\n",
      "Epoch 35/40\n",
      "539/539 [==============================] - 8s 15ms/step - loss: 0.0776 - mae: 0.0776 - val_loss: 0.0739 - val_mae: 0.0739\n",
      "Epoch 36/40\n",
      "539/539 [==============================] - 8s 15ms/step - loss: 0.0765 - mae: 0.0765 - val_loss: 0.0730 - val_mae: 0.0730\n",
      "Epoch 37/40\n",
      "539/539 [==============================] - 8s 15ms/step - loss: 0.0755 - mae: 0.0755 - val_loss: 0.0720 - val_mae: 0.0720\n",
      "Epoch 38/40\n",
      "539/539 [==============================] - 8s 15ms/step - loss: 0.0744 - mae: 0.0744 - val_loss: 0.0712 - val_mae: 0.0712\n",
      "Epoch 39/40\n",
      "539/539 [==============================] - 8s 15ms/step - loss: 0.0736 - mae: 0.0736 - val_loss: 0.0705 - val_mae: 0.0705\n",
      "Epoch 40/40\n",
      "539/539 [==============================] - 8s 15ms/step - loss: 0.0727 - mae: 0.0727 - val_loss: 0.0699 - val_mae: 0.0699\n"
     ]
    }
   ],
   "source": [
    "# final_model\n",
    "final_model = tf.keras.Sequential()\n",
    "final_model.add(tf.keras.layers.Dense(90, activation='relu', input_shape=(x_train_tensor.shape[1],)))\n",
    "final_model.add(tf.keras.layers.Reshape((1, 90))) \n",
    "final_model.add(tf.keras.layers.LSTM(64, return_sequences=True))\n",
    "final_model.add(tf.keras.layers.Dense(64, activation='relu'))\n",
    "final_model.add(tf.keras.layers.LSTM(16))\n",
    "final_model.add(tf.keras.layers.Dense(1, activation='linear'))\n",
    "\n",
    "# compile model\n",
    "final_model.compile(optimizer=tf.keras.optimizers.legacy.Adam(learning_rate=1e-5), loss='mae', metrics=['mae'])\n",
    "\n",
    "epoch_number = 40\n",
    "\n",
    "# train model and get history\n",
    "history = final_model.fit(x_train_tensor, y_train_tensor, epochs=epoch_number, validation_data=(x_eval_tensor, y_eval_tensor))"
   ],
   "metadata": {
    "collapsed": false,
    "ExecuteTime": {
     "end_time": "2024-01-22T05:57:51.081716Z",
     "start_time": "2024-01-22T05:52:34.253899Z"
    }
   },
   "id": "8b01720110040e7f"
  },
  {
   "cell_type": "code",
   "execution_count": 11,
   "outputs": [
    {
     "name": "stdout",
     "output_type": "stream",
     "text": [
      "Model: \"sequential_1\"\n",
      "_________________________________________________________________\n",
      " Layer (type)                Output Shape              Param #   \n",
      "=================================================================\n",
      " dense_3 (Dense)             (None, 90)                8190      \n",
      "                                                                 \n",
      " reshape_1 (Reshape)         (None, 1, 90)             0         \n",
      "                                                                 \n",
      " lstm_2 (LSTM)               (None, 1, 64)             39680     \n",
      "                                                                 \n",
      " dense_4 (Dense)             (None, 1, 64)             4160      \n",
      "                                                                 \n",
      " lstm_3 (LSTM)               (None, 16)                5184      \n",
      "                                                                 \n",
      " dense_5 (Dense)             (None, 1)                 17        \n",
      "                                                                 \n",
      "=================================================================\n",
      "Total params: 57231 (223.56 KB)\n",
      "Trainable params: 57231 (223.56 KB)\n",
      "Non-trainable params: 0 (0.00 Byte)\n",
      "_________________________________________________________________\n"
     ]
    }
   ],
   "source": [
    "final_model.summary()"
   ],
   "metadata": {
    "collapsed": false,
    "ExecuteTime": {
     "end_time": "2024-01-22T05:57:51.090296Z",
     "start_time": "2024-01-22T05:57:51.083758Z"
    }
   },
   "id": "e343e8db0446aeb0"
  },
  {
   "cell_type": "code",
   "execution_count": 12,
   "outputs": [
    {
     "name": "stdout",
     "output_type": "stream",
     "text": [
      "70/70 [==============================] - 0s 7ms/step - loss: 0.0738 - mae: 0.0738\n"
     ]
    },
    {
     "data": {
      "text/plain": "[0.07375426590442657, 0.07375426590442657]"
     },
     "execution_count": 12,
     "metadata": {},
     "output_type": "execute_result"
    }
   ],
   "source": [
    "# view loss for testing values\n",
    "final_model.evaluate(x_test_tensor, y_test_tensor)"
   ],
   "metadata": {
    "collapsed": false,
    "ExecuteTime": {
     "end_time": "2024-01-22T05:57:51.600994Z",
     "start_time": "2024-01-22T05:57:51.093794Z"
    }
   },
   "id": "69956a15af34e265"
  },
  {
   "cell_type": "code",
   "execution_count": 13,
   "outputs": [
    {
     "name": "stdout",
     "output_type": "stream",
     "text": [
      "70/70 [==============================] - 1s 5ms/step\n"
     ]
    },
    {
     "data": {
      "text/plain": "array([[0.9869199 ],\n       [0.21697824],\n       [0.41806328],\n       [0.18883885],\n       [0.45642403],\n       [0.39909342],\n       [0.4934417 ],\n       [0.29771116],\n       [0.17828467],\n       [0.27142707]], dtype=float32)"
     },
     "execution_count": 13,
     "metadata": {},
     "output_type": "execute_result"
    }
   ],
   "source": [
    "# predict sample value set\n",
    "y_predictions = final_model.predict(x_test_tensor)\n",
    "y_predictions[:10]"
   ],
   "metadata": {
    "collapsed": false,
    "ExecuteTime": {
     "end_time": "2024-01-22T05:57:52.316224Z",
     "start_time": "2024-01-22T05:57:51.601882Z"
    }
   },
   "id": "af247d91cef66b79"
  },
  {
   "cell_type": "code",
   "execution_count": 14,
   "outputs": [
    {
     "data": {
      "text/plain": "<tf.Tensor: shape=(10,), dtype=float32, numpy=\narray([1.        , 0.167     , 0.54485714, 0.1935    , 0.8912    ,\n       0.37516665, 0.41234782, 0.37771428, 0.219     , 0.25066668],\n      dtype=float32)>"
     },
     "execution_count": 14,
     "metadata": {},
     "output_type": "execute_result"
    }
   ],
   "source": [
    "# view actual values\n",
    "y_test_tensor[:10]"
   ],
   "metadata": {
    "collapsed": false,
    "ExecuteTime": {
     "end_time": "2024-01-22T05:57:52.324348Z",
     "start_time": "2024-01-22T05:57:52.315939Z"
    }
   },
   "id": "363d820b101a1bb6"
  },
  {
   "cell_type": "code",
   "execution_count": 15,
   "outputs": [
    {
     "name": "stdout",
     "output_type": "stream",
     "text": [
      "INFO:tensorflow:Assets written to: sales_prediction_model/assets\n"
     ]
    },
    {
     "name": "stderr",
     "output_type": "stream",
     "text": [
      "INFO:tensorflow:Assets written to: sales_prediction_model/assets\n"
     ]
    }
   ],
   "source": [
    "# save final model\n",
    "final_model.save('sales_prediction_model')"
   ],
   "metadata": {
    "collapsed": false,
    "ExecuteTime": {
     "end_time": "2024-01-22T05:57:54.167380Z",
     "start_time": "2024-01-22T05:57:52.325781Z"
    }
   },
   "id": "46f2cd66a29e1bc7"
  }
 ],
 "metadata": {
  "kernelspec": {
   "display_name": "Python 3",
   "language": "python",
   "name": "python3"
  },
  "language_info": {
   "codemirror_mode": {
    "name": "ipython",
    "version": 2
   },
   "file_extension": ".py",
   "mimetype": "text/x-python",
   "name": "python",
   "nbconvert_exporter": "python",
   "pygments_lexer": "ipython2",
   "version": "2.7.6"
  }
 },
 "nbformat": 4,
 "nbformat_minor": 5
}
