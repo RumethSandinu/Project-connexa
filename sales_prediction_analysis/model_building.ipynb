{
 "cells": [
  {
   "cell_type": "code",
   "execution_count": 1,
   "id": "initial_id",
   "metadata": {
    "collapsed": true,
    "ExecuteTime": {
     "end_time": "2024-01-23T16:00:21.744429Z",
     "start_time": "2024-01-23T16:00:21.155783Z"
    }
   },
   "outputs": [],
   "source": [
    "import pandas as pd"
   ]
  },
  {
   "cell_type": "code",
   "execution_count": 2,
   "outputs": [
    {
     "data": {
      "text/plain": "      Quantity Sold (kilo)  Unit Selling Price (RMB/kg)  \\\n6869              1.000000                     3.375000   \n365               0.371941                     6.000000   \n6039              1.000000                     2.710526   \n\n      Item Name_7 colour pepper   Item Name_agaricus bisporus   \\\n6869                       False                         False   \n365                        False                         False   \n6039                       False                         False   \n\n      Item Name_aihao  Item Name_amaranth   Item Name_apricot bao mushroom   \\\n6869            False                False                            False   \n365             False                False                            False   \n6039            False                False                            False   \n\n      Item Name_basil   Item Name_bell pepper   Item Name_big broccoli  ...  \\\n6869             False                   False                   False  ...   \n365              False                   False                   False  ...   \n6039             False                   False                   False  ...   \n\n      Item Name_yuxingcao   Item Name_zhijiang red bolt   \\\n6869                 False                         False   \n365                  False                         False   \n6039                 False                         False   \n\n      Item Name_zhimaxiancai  Item Name_zhuyecai   Category Name_aquatic  \\\n6869                   False                False                  False   \n365                    False                False                  False   \n6039                   False                False                  False   \n\n      Category Name_cabbage  Category Name_capsicum  Category Name_flower  \\\n6869                  False                    True                 False   \n365                   False                   False                  True   \n6039                  False                   False                  True   \n\n      Category Name_mushroom  Category Name_solanum  \n6869                   False                  False  \n365                    False                  False  \n6039                   False                  False  \n\n[3 rows x 151 columns]",
      "text/html": "<div>\n<style scoped>\n    .dataframe tbody tr th:only-of-type {\n        vertical-align: middle;\n    }\n\n    .dataframe tbody tr th {\n        vertical-align: top;\n    }\n\n    .dataframe thead th {\n        text-align: right;\n    }\n</style>\n<table border=\"1\" class=\"dataframe\">\n  <thead>\n    <tr style=\"text-align: right;\">\n      <th></th>\n      <th>Quantity Sold (kilo)</th>\n      <th>Unit Selling Price (RMB/kg)</th>\n      <th>Item Name_7 colour pepper</th>\n      <th>Item Name_agaricus bisporus</th>\n      <th>Item Name_aihao</th>\n      <th>Item Name_amaranth</th>\n      <th>Item Name_apricot bao mushroom</th>\n      <th>Item Name_basil</th>\n      <th>Item Name_bell pepper</th>\n      <th>Item Name_big broccoli</th>\n      <th>...</th>\n      <th>Item Name_yuxingcao</th>\n      <th>Item Name_zhijiang red bolt</th>\n      <th>Item Name_zhimaxiancai</th>\n      <th>Item Name_zhuyecai</th>\n      <th>Category Name_aquatic</th>\n      <th>Category Name_cabbage</th>\n      <th>Category Name_capsicum</th>\n      <th>Category Name_flower</th>\n      <th>Category Name_mushroom</th>\n      <th>Category Name_solanum</th>\n    </tr>\n  </thead>\n  <tbody>\n    <tr>\n      <th>6869</th>\n      <td>1.000000</td>\n      <td>3.375000</td>\n      <td>False</td>\n      <td>False</td>\n      <td>False</td>\n      <td>False</td>\n      <td>False</td>\n      <td>False</td>\n      <td>False</td>\n      <td>False</td>\n      <td>...</td>\n      <td>False</td>\n      <td>False</td>\n      <td>False</td>\n      <td>False</td>\n      <td>False</td>\n      <td>False</td>\n      <td>True</td>\n      <td>False</td>\n      <td>False</td>\n      <td>False</td>\n    </tr>\n    <tr>\n      <th>365</th>\n      <td>0.371941</td>\n      <td>6.000000</td>\n      <td>False</td>\n      <td>False</td>\n      <td>False</td>\n      <td>False</td>\n      <td>False</td>\n      <td>False</td>\n      <td>False</td>\n      <td>False</td>\n      <td>...</td>\n      <td>False</td>\n      <td>False</td>\n      <td>False</td>\n      <td>False</td>\n      <td>False</td>\n      <td>False</td>\n      <td>False</td>\n      <td>True</td>\n      <td>False</td>\n      <td>False</td>\n    </tr>\n    <tr>\n      <th>6039</th>\n      <td>1.000000</td>\n      <td>2.710526</td>\n      <td>False</td>\n      <td>False</td>\n      <td>False</td>\n      <td>False</td>\n      <td>False</td>\n      <td>False</td>\n      <td>False</td>\n      <td>False</td>\n      <td>...</td>\n      <td>False</td>\n      <td>False</td>\n      <td>False</td>\n      <td>False</td>\n      <td>False</td>\n      <td>False</td>\n      <td>False</td>\n      <td>True</td>\n      <td>False</td>\n      <td>False</td>\n    </tr>\n  </tbody>\n</table>\n<p>3 rows × 151 columns</p>\n</div>"
     },
     "execution_count": 2,
     "metadata": {},
     "output_type": "execute_result"
    }
   ],
   "source": [
    "# load pre-processed dataset\n",
    "df = pd.read_csv('../../datasets/pre_processed_dataset.csv')\n",
    "df.sample(3)"
   ],
   "metadata": {
    "collapsed": false,
    "ExecuteTime": {
     "end_time": "2024-01-23T16:00:22.697182Z",
     "start_time": "2024-01-23T16:00:22.608916Z"
    }
   },
   "id": "f6a76d43f2da9e88"
  },
  {
   "cell_type": "code",
   "execution_count": 3,
   "outputs": [
    {
     "name": "stderr",
     "output_type": "stream",
     "text": [
      "/Users/rumethsandinu/Library/Python/3.9/lib/python/site-packages/urllib3/__init__.py:34: NotOpenSSLWarning: urllib3 v2 only supports OpenSSL 1.1.1+, currently the 'ssl' module is compiled with 'LibreSSL 2.8.3'. See: https://github.com/urllib3/urllib3/issues/3020\n",
      "  warnings.warn(\n"
     ]
    }
   ],
   "source": [
    "from sklearn.model_selection import train_test_split\n",
    "import tensorflow as tf"
   ],
   "metadata": {
    "collapsed": false,
    "ExecuteTime": {
     "end_time": "2024-01-23T16:00:27.808038Z",
     "start_time": "2024-01-23T16:00:24.329494Z"
    }
   },
   "id": "278bdc9d61ee98ad"
  },
  {
   "cell_type": "code",
   "execution_count": 4,
   "outputs": [
    {
     "name": "stderr",
     "output_type": "stream",
     "text": [
      "2024-01-23 21:30:27.814505: I metal_plugin/src/device/metal_device.cc:1154] Metal device set to: Apple M2\n",
      "2024-01-23 21:30:27.814533: I metal_plugin/src/device/metal_device.cc:296] systemMemory: 8.00 GB\n",
      "2024-01-23 21:30:27.814541: I metal_plugin/src/device/metal_device.cc:313] maxCacheSize: 2.67 GB\n",
      "2024-01-23 21:30:27.814577: I tensorflow/core/common_runtime/pluggable_device/pluggable_device_factory.cc:306] Could not identify NUMA node of platform GPU ID 0, defaulting to 0. Your kernel may not have been built with NUMA support.\n",
      "2024-01-23 21:30:27.814599: I tensorflow/core/common_runtime/pluggable_device/pluggable_device_factory.cc:272] Created TensorFlow device (/job:localhost/replica:0/task:0/device:GPU:0 with 0 MB memory) -> physical PluggableDevice (device: 0, name: METAL, pci bus id: <undefined>)\n"
     ]
    },
    {
     "data": {
      "text/plain": "(TensorShape([8278, 150]), TensorShape([2483, 150]), (1065, 150))"
     },
     "execution_count": 4,
     "metadata": {},
     "output_type": "execute_result"
    }
   ],
   "source": [
    "# define dependent and non dependent variables\n",
    "y = df['Quantity Sold (kilo)']\n",
    "x = df.drop(columns=['Quantity Sold (kilo)'], axis=1)\n",
    "\n",
    "# split the dataset 0.7, 0.2, 0.1\n",
    "x_train, x_temp, y_train, y_temp = train_test_split(x, y, test_size=0.3, random_state=42)\n",
    "x_eval, x_test, y_eval, y_test = train_test_split(x_temp, y_temp, test_size=0.3, random_state=42)\n",
    "\n",
    "# convert to tensor arrays\n",
    "x_train_tensor = tf.constant(x_train, dtype=tf.float32)\n",
    "y_train_tensor = tf.constant(y_train, dtype=tf.float32)\n",
    "x_eval_tensor = tf.constant(x_eval, dtype=tf.float32)\n",
    "y_eval_tensor = tf.constant(y_eval, dtype=tf.float32)\n",
    "\n",
    "x_train_tensor.shape, x_eval_tensor.shape, x_test.shape"
   ],
   "metadata": {
    "collapsed": false,
    "ExecuteTime": {
     "end_time": "2024-01-23T16:00:27.889300Z",
     "start_time": "2024-01-23T16:00:27.810957Z"
    }
   },
   "id": "87771c7557fd3e35"
  },
  {
   "cell_type": "code",
   "execution_count": 5,
   "outputs": [
    {
     "data": {
      "text/plain": "     Quantity Sold (kilo)  Unit Selling Price (RMB/kg)  \\\n832              1.000000                         2.90   \n932              0.257667                        10.00   \n29               0.544083                         7.35   \n\n     Item Name_7 colour pepper   Item Name_agaricus bisporus   \\\n832                       False                         False   \n932                       False                         False   \n29                        False                         False   \n\n     Item Name_aihao  Item Name_amaranth   Item Name_apricot bao mushroom   \\\n832            False                False                            False   \n932            False                False                            False   \n29             False                False                            False   \n\n     Item Name_basil   Item Name_bell pepper   Item Name_big broccoli  ...  \\\n832             False                   False                   False  ...   \n932             False                   False                   False  ...   \n29              False                   False                   False  ...   \n\n     Item Name_yuxingcao   Item Name_zhijiang red bolt   \\\n832                 False                         False   \n932                 False                         False   \n29                  False                         False   \n\n     Item Name_zhimaxiancai  Item Name_zhuyecai   Category Name_aquatic  \\\n832                   False                False                  False   \n932                   False                False                  False   \n29                    False                False                  False   \n\n     Category Name_cabbage  Category Name_capsicum  Category Name_flower  \\\n832                  False                   False                  True   \n932                  False                    True                 False   \n29                   False                   False                  True   \n\n     Category Name_mushroom  Category Name_solanum  \n832                   False                  False  \n932                   False                  False  \n29                    False                  False  \n\n[3 rows x 151 columns]",
      "text/html": "<div>\n<style scoped>\n    .dataframe tbody tr th:only-of-type {\n        vertical-align: middle;\n    }\n\n    .dataframe tbody tr th {\n        vertical-align: top;\n    }\n\n    .dataframe thead th {\n        text-align: right;\n    }\n</style>\n<table border=\"1\" class=\"dataframe\">\n  <thead>\n    <tr style=\"text-align: right;\">\n      <th></th>\n      <th>Quantity Sold (kilo)</th>\n      <th>Unit Selling Price (RMB/kg)</th>\n      <th>Item Name_7 colour pepper</th>\n      <th>Item Name_agaricus bisporus</th>\n      <th>Item Name_aihao</th>\n      <th>Item Name_amaranth</th>\n      <th>Item Name_apricot bao mushroom</th>\n      <th>Item Name_basil</th>\n      <th>Item Name_bell pepper</th>\n      <th>Item Name_big broccoli</th>\n      <th>...</th>\n      <th>Item Name_yuxingcao</th>\n      <th>Item Name_zhijiang red bolt</th>\n      <th>Item Name_zhimaxiancai</th>\n      <th>Item Name_zhuyecai</th>\n      <th>Category Name_aquatic</th>\n      <th>Category Name_cabbage</th>\n      <th>Category Name_capsicum</th>\n      <th>Category Name_flower</th>\n      <th>Category Name_mushroom</th>\n      <th>Category Name_solanum</th>\n    </tr>\n  </thead>\n  <tbody>\n    <tr>\n      <th>832</th>\n      <td>1.000000</td>\n      <td>2.90</td>\n      <td>False</td>\n      <td>False</td>\n      <td>False</td>\n      <td>False</td>\n      <td>False</td>\n      <td>False</td>\n      <td>False</td>\n      <td>False</td>\n      <td>...</td>\n      <td>False</td>\n      <td>False</td>\n      <td>False</td>\n      <td>False</td>\n      <td>False</td>\n      <td>False</td>\n      <td>False</td>\n      <td>True</td>\n      <td>False</td>\n      <td>False</td>\n    </tr>\n    <tr>\n      <th>932</th>\n      <td>0.257667</td>\n      <td>10.00</td>\n      <td>False</td>\n      <td>False</td>\n      <td>False</td>\n      <td>False</td>\n      <td>False</td>\n      <td>False</td>\n      <td>False</td>\n      <td>False</td>\n      <td>...</td>\n      <td>False</td>\n      <td>False</td>\n      <td>False</td>\n      <td>False</td>\n      <td>False</td>\n      <td>False</td>\n      <td>True</td>\n      <td>False</td>\n      <td>False</td>\n      <td>False</td>\n    </tr>\n    <tr>\n      <th>29</th>\n      <td>0.544083</td>\n      <td>7.35</td>\n      <td>False</td>\n      <td>False</td>\n      <td>False</td>\n      <td>False</td>\n      <td>False</td>\n      <td>False</td>\n      <td>False</td>\n      <td>False</td>\n      <td>...</td>\n      <td>False</td>\n      <td>False</td>\n      <td>False</td>\n      <td>False</td>\n      <td>False</td>\n      <td>False</td>\n      <td>False</td>\n      <td>True</td>\n      <td>False</td>\n      <td>False</td>\n    </tr>\n  </tbody>\n</table>\n<p>3 rows × 151 columns</p>\n</div>"
     },
     "execution_count": 5,
     "metadata": {},
     "output_type": "execute_result"
    }
   ],
   "source": [
    "# save testing dataset\n",
    "df_test = pd.concat([y_test.reset_index(drop=True), x_test.reset_index(drop=True)], axis=1)\n",
    "df_test.to_csv('../../datasets/testing_dataset.csv')\n",
    "df_test.sample(3)"
   ],
   "metadata": {
    "collapsed": false,
    "ExecuteTime": {
     "end_time": "2024-01-23T16:00:30.001002Z",
     "start_time": "2024-01-23T16:00:29.958672Z"
    }
   },
   "id": "f2ad927015ae9653"
  },
  {
   "cell_type": "code",
   "execution_count": 6,
   "outputs": [],
   "source": [
    "# convert to tensor arrays\n",
    "x_test_tensor = tf.constant(x_test, dtype=tf.float32)\n",
    "y_test_tensor = tf.constant(y_test, dtype=tf.float32)"
   ],
   "metadata": {
    "collapsed": false,
    "ExecuteTime": {
     "end_time": "2024-01-23T16:00:31.857772Z",
     "start_time": "2024-01-23T16:00:31.841174Z"
    }
   },
   "id": "d4f2882c044068f4"
  },
  {
   "cell_type": "code",
   "execution_count": 7,
   "outputs": [
    {
     "name": "stdout",
     "output_type": "stream",
     "text": [
      "Epoch 1/80\n"
     ]
    },
    {
     "name": "stderr",
     "output_type": "stream",
     "text": [
      "2024-01-23 21:30:36.987480: I tensorflow/core/grappler/optimizers/custom_graph_optimizer_registry.cc:117] Plugin optimizer for device_type GPU is enabled.\n"
     ]
    },
    {
     "name": "stdout",
     "output_type": "stream",
     "text": [
      "259/259 [==============================] - 6s 19ms/step - loss: 0.6425 - mae: 0.6425 - val_loss: 0.6504 - val_mae: 0.6504\n",
      "Epoch 2/80\n",
      "259/259 [==============================] - 4s 17ms/step - loss: 0.6347 - mae: 0.6347 - val_loss: 0.6425 - val_mae: 0.6425\n",
      "Epoch 3/80\n",
      "259/259 [==============================] - 4s 17ms/step - loss: 0.5298 - mae: 0.5298 - val_loss: 0.4583 - val_mae: 0.4583\n",
      "Epoch 4/80\n",
      "259/259 [==============================] - 4s 16ms/step - loss: 0.4134 - mae: 0.4134 - val_loss: 0.3901 - val_mae: 0.3901\n",
      "Epoch 5/80\n",
      "259/259 [==============================] - 4s 17ms/step - loss: 0.3562 - mae: 0.3562 - val_loss: 0.3407 - val_mae: 0.3407\n",
      "Epoch 6/80\n",
      "259/259 [==============================] - 4s 16ms/step - loss: 0.3140 - mae: 0.3140 - val_loss: 0.3036 - val_mae: 0.3036\n",
      "Epoch 7/80\n",
      "259/259 [==============================] - 4s 16ms/step - loss: 0.2836 - mae: 0.2836 - val_loss: 0.2769 - val_mae: 0.2769\n",
      "Epoch 8/80\n",
      "259/259 [==============================] - 4s 16ms/step - loss: 0.2604 - mae: 0.2604 - val_loss: 0.2545 - val_mae: 0.2545\n",
      "Epoch 9/80\n",
      "259/259 [==============================] - 4s 16ms/step - loss: 0.2403 - mae: 0.2403 - val_loss: 0.2331 - val_mae: 0.2331\n",
      "Epoch 10/80\n",
      "259/259 [==============================] - 4s 16ms/step - loss: 0.2201 - mae: 0.2201 - val_loss: 0.2110 - val_mae: 0.2110\n",
      "Epoch 11/80\n",
      "259/259 [==============================] - 4s 16ms/step - loss: 0.1993 - mae: 0.1993 - val_loss: 0.1922 - val_mae: 0.1922\n",
      "Epoch 12/80\n",
      "259/259 [==============================] - 4s 16ms/step - loss: 0.1879 - mae: 0.1879 - val_loss: 0.1883 - val_mae: 0.1883\n",
      "Epoch 13/80\n",
      "259/259 [==============================] - 4s 17ms/step - loss: 0.1842 - mae: 0.1842 - val_loss: 0.1856 - val_mae: 0.1856\n",
      "Epoch 14/80\n",
      "259/259 [==============================] - 4s 16ms/step - loss: 0.1817 - mae: 0.1817 - val_loss: 0.1837 - val_mae: 0.1837\n",
      "Epoch 15/80\n",
      "259/259 [==============================] - 4s 16ms/step - loss: 0.1795 - mae: 0.1795 - val_loss: 0.1816 - val_mae: 0.1816\n",
      "Epoch 16/80\n",
      "259/259 [==============================] - 4s 16ms/step - loss: 0.1776 - mae: 0.1776 - val_loss: 0.1799 - val_mae: 0.1799\n",
      "Epoch 17/80\n",
      "259/259 [==============================] - 4s 16ms/step - loss: 0.1755 - mae: 0.1755 - val_loss: 0.1777 - val_mae: 0.1777\n",
      "Epoch 18/80\n",
      "259/259 [==============================] - 4s 16ms/step - loss: 0.1735 - mae: 0.1735 - val_loss: 0.1759 - val_mae: 0.1759\n",
      "Epoch 19/80\n",
      "259/259 [==============================] - 4s 16ms/step - loss: 0.1712 - mae: 0.1712 - val_loss: 0.1731 - val_mae: 0.1731\n",
      "Epoch 20/80\n",
      "259/259 [==============================] - 4s 16ms/step - loss: 0.1688 - mae: 0.1688 - val_loss: 0.1713 - val_mae: 0.1713\n",
      "Epoch 21/80\n",
      "259/259 [==============================] - 4s 17ms/step - loss: 0.1660 - mae: 0.1660 - val_loss: 0.1678 - val_mae: 0.1678\n",
      "Epoch 22/80\n",
      "259/259 [==============================] - 4s 16ms/step - loss: 0.1630 - mae: 0.1630 - val_loss: 0.1648 - val_mae: 0.1648\n",
      "Epoch 23/80\n",
      "259/259 [==============================] - 4s 16ms/step - loss: 0.1597 - mae: 0.1597 - val_loss: 0.1613 - val_mae: 0.1613\n",
      "Epoch 24/80\n",
      "259/259 [==============================] - 4s 16ms/step - loss: 0.1561 - mae: 0.1561 - val_loss: 0.1581 - val_mae: 0.1581\n",
      "Epoch 25/80\n",
      "259/259 [==============================] - 4s 16ms/step - loss: 0.1522 - mae: 0.1522 - val_loss: 0.1535 - val_mae: 0.1535\n",
      "Epoch 26/80\n",
      "259/259 [==============================] - 4s 16ms/step - loss: 0.1478 - mae: 0.1478 - val_loss: 0.1490 - val_mae: 0.1490\n",
      "Epoch 27/80\n",
      "259/259 [==============================] - 4s 16ms/step - loss: 0.1432 - mae: 0.1432 - val_loss: 0.1435 - val_mae: 0.1435\n",
      "Epoch 28/80\n",
      "259/259 [==============================] - 4s 17ms/step - loss: 0.1381 - mae: 0.1381 - val_loss: 0.1381 - val_mae: 0.1381\n",
      "Epoch 29/80\n",
      "259/259 [==============================] - 4s 16ms/step - loss: 0.1326 - mae: 0.1326 - val_loss: 0.1327 - val_mae: 0.1327\n",
      "Epoch 30/80\n",
      "259/259 [==============================] - 4s 16ms/step - loss: 0.1270 - mae: 0.1270 - val_loss: 0.1269 - val_mae: 0.1269\n",
      "Epoch 31/80\n",
      "259/259 [==============================] - 4s 16ms/step - loss: 0.1224 - mae: 0.1224 - val_loss: 0.1227 - val_mae: 0.1227\n",
      "Epoch 32/80\n",
      "259/259 [==============================] - 4s 16ms/step - loss: 0.1184 - mae: 0.1184 - val_loss: 0.1190 - val_mae: 0.1190\n",
      "Epoch 33/80\n",
      "259/259 [==============================] - 4s 16ms/step - loss: 0.1153 - mae: 0.1153 - val_loss: 0.1168 - val_mae: 0.1168\n",
      "Epoch 34/80\n",
      "259/259 [==============================] - 4s 16ms/step - loss: 0.1127 - mae: 0.1127 - val_loss: 0.1147 - val_mae: 0.1147\n",
      "Epoch 35/80\n",
      "259/259 [==============================] - 4s 16ms/step - loss: 0.1104 - mae: 0.1104 - val_loss: 0.1120 - val_mae: 0.1120\n",
      "Epoch 36/80\n",
      "259/259 [==============================] - 4s 16ms/step - loss: 0.1085 - mae: 0.1085 - val_loss: 0.1097 - val_mae: 0.1097\n",
      "Epoch 37/80\n",
      "259/259 [==============================] - 4s 16ms/step - loss: 0.1068 - mae: 0.1068 - val_loss: 0.1080 - val_mae: 0.1080\n",
      "Epoch 38/80\n",
      "259/259 [==============================] - 4s 16ms/step - loss: 0.1051 - mae: 0.1051 - val_loss: 0.1071 - val_mae: 0.1071\n",
      "Epoch 39/80\n",
      "259/259 [==============================] - 4s 16ms/step - loss: 0.1035 - mae: 0.1035 - val_loss: 0.1054 - val_mae: 0.1054\n",
      "Epoch 40/80\n",
      "259/259 [==============================] - 4s 16ms/step - loss: 0.1021 - mae: 0.1021 - val_loss: 0.1038 - val_mae: 0.1038\n",
      "Epoch 41/80\n",
      "259/259 [==============================] - 4s 16ms/step - loss: 0.1007 - mae: 0.1007 - val_loss: 0.1025 - val_mae: 0.1025\n",
      "Epoch 42/80\n",
      "259/259 [==============================] - 4s 16ms/step - loss: 0.0992 - mae: 0.0992 - val_loss: 0.1010 - val_mae: 0.1010\n",
      "Epoch 43/80\n",
      "259/259 [==============================] - 4s 16ms/step - loss: 0.0979 - mae: 0.0979 - val_loss: 0.0994 - val_mae: 0.0994\n",
      "Epoch 44/80\n",
      "259/259 [==============================] - 4s 16ms/step - loss: 0.0964 - mae: 0.0964 - val_loss: 0.0980 - val_mae: 0.0980\n",
      "Epoch 45/80\n",
      "259/259 [==============================] - 4s 16ms/step - loss: 0.0948 - mae: 0.0948 - val_loss: 0.0971 - val_mae: 0.0971\n",
      "Epoch 46/80\n",
      "259/259 [==============================] - 4s 16ms/step - loss: 0.0932 - mae: 0.0932 - val_loss: 0.0948 - val_mae: 0.0948\n",
      "Epoch 47/80\n",
      "259/259 [==============================] - 4s 16ms/step - loss: 0.0918 - mae: 0.0918 - val_loss: 0.0941 - val_mae: 0.0941\n",
      "Epoch 48/80\n",
      "259/259 [==============================] - 4s 16ms/step - loss: 0.0904 - mae: 0.0904 - val_loss: 0.0920 - val_mae: 0.0920\n",
      "Epoch 49/80\n",
      "259/259 [==============================] - 4s 16ms/step - loss: 0.0891 - mae: 0.0891 - val_loss: 0.0906 - val_mae: 0.0906\n",
      "Epoch 50/80\n",
      "259/259 [==============================] - 4s 16ms/step - loss: 0.0880 - mae: 0.0880 - val_loss: 0.0898 - val_mae: 0.0898\n",
      "Epoch 51/80\n",
      "259/259 [==============================] - 4s 16ms/step - loss: 0.0873 - mae: 0.0873 - val_loss: 0.0892 - val_mae: 0.0892\n",
      "Epoch 52/80\n",
      "259/259 [==============================] - 4s 16ms/step - loss: 0.0864 - mae: 0.0864 - val_loss: 0.0883 - val_mae: 0.0883\n",
      "Epoch 53/80\n",
      "259/259 [==============================] - 4s 16ms/step - loss: 0.0857 - mae: 0.0857 - val_loss: 0.0879 - val_mae: 0.0879\n",
      "Epoch 54/80\n",
      "259/259 [==============================] - 4s 16ms/step - loss: 0.0853 - mae: 0.0853 - val_loss: 0.0872 - val_mae: 0.0872\n",
      "Epoch 55/80\n",
      "259/259 [==============================] - 4s 16ms/step - loss: 0.0848 - mae: 0.0848 - val_loss: 0.0875 - val_mae: 0.0875\n",
      "Epoch 56/80\n",
      "259/259 [==============================] - 4s 16ms/step - loss: 0.0839 - mae: 0.0839 - val_loss: 0.0861 - val_mae: 0.0861\n",
      "Epoch 57/80\n",
      "259/259 [==============================] - 4s 16ms/step - loss: 0.0834 - mae: 0.0834 - val_loss: 0.0858 - val_mae: 0.0858\n",
      "Epoch 58/80\n",
      "259/259 [==============================] - 4s 16ms/step - loss: 0.0829 - mae: 0.0829 - val_loss: 0.0860 - val_mae: 0.0860\n",
      "Epoch 59/80\n",
      "259/259 [==============================] - 4s 16ms/step - loss: 0.0826 - mae: 0.0826 - val_loss: 0.0848 - val_mae: 0.0848\n",
      "Epoch 60/80\n",
      "259/259 [==============================] - 4s 16ms/step - loss: 0.0821 - mae: 0.0821 - val_loss: 0.0844 - val_mae: 0.0844\n",
      "Epoch 61/80\n",
      "259/259 [==============================] - 4s 17ms/step - loss: 0.0815 - mae: 0.0815 - val_loss: 0.0841 - val_mae: 0.0841\n",
      "Epoch 62/80\n",
      "259/259 [==============================] - 4s 17ms/step - loss: 0.0812 - mae: 0.0812 - val_loss: 0.0840 - val_mae: 0.0840\n",
      "Epoch 63/80\n",
      "259/259 [==============================] - 4s 17ms/step - loss: 0.0808 - mae: 0.0808 - val_loss: 0.0833 - val_mae: 0.0833\n",
      "Epoch 64/80\n",
      "259/259 [==============================] - 4s 16ms/step - loss: 0.0804 - mae: 0.0804 - val_loss: 0.0828 - val_mae: 0.0828\n",
      "Epoch 65/80\n",
      "259/259 [==============================] - 4s 16ms/step - loss: 0.0801 - mae: 0.0801 - val_loss: 0.0828 - val_mae: 0.0828\n",
      "Epoch 66/80\n",
      "259/259 [==============================] - 4s 16ms/step - loss: 0.0799 - mae: 0.0799 - val_loss: 0.0823 - val_mae: 0.0823\n",
      "Epoch 67/80\n",
      "259/259 [==============================] - 4s 16ms/step - loss: 0.0795 - mae: 0.0795 - val_loss: 0.0818 - val_mae: 0.0818\n",
      "Epoch 68/80\n",
      "259/259 [==============================] - 4s 17ms/step - loss: 0.0792 - mae: 0.0792 - val_loss: 0.0821 - val_mae: 0.0821\n",
      "Epoch 69/80\n",
      "259/259 [==============================] - 4s 16ms/step - loss: 0.0788 - mae: 0.0788 - val_loss: 0.0818 - val_mae: 0.0818\n",
      "Epoch 70/80\n",
      "259/259 [==============================] - 4s 16ms/step - loss: 0.0785 - mae: 0.0785 - val_loss: 0.0813 - val_mae: 0.0813\n",
      "Epoch 71/80\n",
      "259/259 [==============================] - 4s 16ms/step - loss: 0.0782 - mae: 0.0782 - val_loss: 0.0806 - val_mae: 0.0806\n",
      "Epoch 72/80\n",
      "259/259 [==============================] - 4s 16ms/step - loss: 0.0779 - mae: 0.0779 - val_loss: 0.0829 - val_mae: 0.0829\n",
      "Epoch 73/80\n",
      "259/259 [==============================] - 4s 16ms/step - loss: 0.0778 - mae: 0.0778 - val_loss: 0.0801 - val_mae: 0.0801\n",
      "Epoch 74/80\n",
      "259/259 [==============================] - 4s 16ms/step - loss: 0.0775 - mae: 0.0775 - val_loss: 0.0799 - val_mae: 0.0799\n",
      "Epoch 75/80\n",
      "259/259 [==============================] - 4s 17ms/step - loss: 0.0772 - mae: 0.0772 - val_loss: 0.0797 - val_mae: 0.0797\n",
      "Epoch 76/80\n",
      "259/259 [==============================] - 4s 17ms/step - loss: 0.0770 - mae: 0.0770 - val_loss: 0.0793 - val_mae: 0.0793\n",
      "Epoch 77/80\n",
      "259/259 [==============================] - 4s 16ms/step - loss: 0.0766 - mae: 0.0766 - val_loss: 0.0790 - val_mae: 0.0790\n",
      "Epoch 78/80\n",
      "259/259 [==============================] - 4s 16ms/step - loss: 0.0765 - mae: 0.0765 - val_loss: 0.0795 - val_mae: 0.0795\n",
      "Epoch 79/80\n",
      "259/259 [==============================] - 4s 16ms/step - loss: 0.0764 - mae: 0.0764 - val_loss: 0.0786 - val_mae: 0.0786\n",
      "Epoch 80/80\n",
      "259/259 [==============================] - 4s 16ms/step - loss: 0.0761 - mae: 0.0761 - val_loss: 0.0786 - val_mae: 0.0786\n"
     ]
    }
   ],
   "source": [
    "# model\n",
    "model = tf.keras.Sequential()\n",
    "model.add(tf.keras.layers.Dense(150, activation='relu', input_shape=(x_train_tensor.shape[1],)))\n",
    "model.add(tf.keras.layers.Reshape((1, 150))) \n",
    "model.add(tf.keras.layers.LSTM(128, return_sequences=True))\n",
    "model.add(tf.keras.layers.Dense(64, activation='relu'))\n",
    "model.add(tf.keras.layers.Dense(32, activation='relu'))\n",
    "model.add(tf.keras.layers.LSTM(16))\n",
    "model.add(tf.keras.layers.Dense(4, activation='relu'))\n",
    "model.add(tf.keras.layers.Dense(1, activation='linear'))\n",
    "\n",
    "# compile model\n",
    "model.compile(optimizer=tf.keras.optimizers.legacy.Adam(learning_rate=1e-5), loss='mae', metrics=['mae'])\n",
    "\n",
    "epoch_number = 80\n",
    "\n",
    "# train model and get history\n",
    "history = model.fit(x_train_tensor, y_train_tensor, epochs=epoch_number, validation_data=(x_eval_tensor, y_eval_tensor))"
   ],
   "metadata": {
    "collapsed": false,
    "ExecuteTime": {
     "end_time": "2024-01-23T16:06:14.527770Z",
     "start_time": "2024-01-23T16:00:35.645071Z"
    }
   },
   "id": "8b436d40b14f1f96"
  },
  {
   "cell_type": "code",
   "execution_count": 8,
   "outputs": [],
   "source": [
    "import matplotlib.pyplot as plt"
   ],
   "metadata": {
    "collapsed": false,
    "ExecuteTime": {
     "end_time": "2024-01-23T16:06:14.724489Z",
     "start_time": "2024-01-23T16:06:14.529804Z"
    }
   },
   "id": "6463930abb54b395"
  },
  {
   "cell_type": "code",
   "execution_count": 9,
   "outputs": [
    {
     "data": {
      "text/plain": "<Figure size 640x480 with 1 Axes>",
      "image/png": "[encoded data removed]"
     },
     "metadata": {},
     "output_type": "display_data"
    }
   ],
   "source": [
    "# plot loss with respect to epoch number\n",
    "x_range = range(1, epoch_number + 1)\n",
    "loss = history.history['loss']\n",
    "val_loss = history.history['val_loss']\n",
    "plt.plot(x_range, loss, label='Training loss')\n",
    "plt.plot(x_range, val_loss, label='Validation loss')\n",
    "plt.xlabel('epoch')\n",
    "plt.ylabel('loss')\n",
    "plt.legend()\n",
    "plt.grid(True, linewidth = 0.5, color = 'y', linestyle = '--')"
   ],
   "metadata": {
    "collapsed": false,
    "ExecuteTime": {
     "end_time": "2024-01-23T16:06:14.879872Z",
     "start_time": "2024-01-23T16:06:14.726022Z"
    }
   },
   "id": "edd889b97d10a84"
  },
  {
   "cell_type": "code",
   "execution_count": 10,
   "outputs": [
    {
     "name": "stdout",
     "output_type": "stream",
     "text": [
      "Epoch 1/35\n",
      "259/259 [==============================] - 6s 19ms/step - loss: 0.5441 - mae: 0.5441 - val_loss: 0.5021 - val_mae: 0.5021\n",
      "Epoch 2/35\n",
      "259/259 [==============================] - 4s 17ms/step - loss: 0.4579 - mae: 0.4579 - val_loss: 0.4398 - val_mae: 0.4398\n",
      "Epoch 3/35\n",
      "259/259 [==============================] - 4s 16ms/step - loss: 0.4037 - mae: 0.4037 - val_loss: 0.3868 - val_mae: 0.3868\n",
      "Epoch 4/35\n",
      "259/259 [==============================] - 4s 17ms/step - loss: 0.3569 - mae: 0.3569 - val_loss: 0.3451 - val_mae: 0.3451\n",
      "Epoch 5/35\n",
      "259/259 [==============================] - 4s 17ms/step - loss: 0.3201 - mae: 0.3201 - val_loss: 0.3121 - val_mae: 0.3121\n",
      "Epoch 6/35\n",
      "259/259 [==============================] - 4s 16ms/step - loss: 0.2918 - mae: 0.2918 - val_loss: 0.2860 - val_mae: 0.2860\n",
      "Epoch 7/35\n",
      "259/259 [==============================] - 5s 18ms/step - loss: 0.2691 - mae: 0.2691 - val_loss: 0.2642 - val_mae: 0.2642\n",
      "Epoch 8/35\n",
      "259/259 [==============================] - 4s 16ms/step - loss: 0.2499 - mae: 0.2499 - val_loss: 0.2448 - val_mae: 0.2448\n",
      "Epoch 9/35\n",
      "259/259 [==============================] - 4s 17ms/step - loss: 0.2321 - mae: 0.2321 - val_loss: 0.2264 - val_mae: 0.2264\n",
      "Epoch 10/35\n",
      "259/259 [==============================] - 4s 17ms/step - loss: 0.2145 - mae: 0.2145 - val_loss: 0.2081 - val_mae: 0.2081\n",
      "Epoch 11/35\n",
      "259/259 [==============================] - 4s 16ms/step - loss: 0.1966 - mae: 0.1966 - val_loss: 0.1896 - val_mae: 0.1896\n",
      "Epoch 12/35\n",
      "259/259 [==============================] - 4s 16ms/step - loss: 0.1855 - mae: 0.1855 - val_loss: 0.1858 - val_mae: 0.1858\n",
      "Epoch 13/35\n",
      "259/259 [==============================] - 4s 16ms/step - loss: 0.1814 - mae: 0.1814 - val_loss: 0.1826 - val_mae: 0.1826\n",
      "Epoch 14/35\n",
      "259/259 [==============================] - 4s 17ms/step - loss: 0.1786 - mae: 0.1786 - val_loss: 0.1814 - val_mae: 0.1814\n",
      "Epoch 15/35\n",
      "259/259 [==============================] - 5s 18ms/step - loss: 0.1764 - mae: 0.1764 - val_loss: 0.1786 - val_mae: 0.1786\n",
      "Epoch 16/35\n",
      "259/259 [==============================] - 4s 17ms/step - loss: 0.1741 - mae: 0.1741 - val_loss: 0.1764 - val_mae: 0.1764\n",
      "Epoch 17/35\n",
      "259/259 [==============================] - 4s 16ms/step - loss: 0.1718 - mae: 0.1718 - val_loss: 0.1743 - val_mae: 0.1743\n",
      "Epoch 18/35\n",
      "259/259 [==============================] - 4s 17ms/step - loss: 0.1693 - mae: 0.1693 - val_loss: 0.1716 - val_mae: 0.1716\n",
      "Epoch 19/35\n",
      "259/259 [==============================] - 4s 17ms/step - loss: 0.1669 - mae: 0.1669 - val_loss: 0.1692 - val_mae: 0.1692\n",
      "Epoch 20/35\n",
      "259/259 [==============================] - 4s 17ms/step - loss: 0.1638 - mae: 0.1638 - val_loss: 0.1665 - val_mae: 0.1665\n",
      "Epoch 21/35\n",
      "259/259 [==============================] - 5s 18ms/step - loss: 0.1607 - mae: 0.1607 - val_loss: 0.1631 - val_mae: 0.1631\n",
      "Epoch 22/35\n",
      "259/259 [==============================] - 4s 17ms/step - loss: 0.1573 - mae: 0.1573 - val_loss: 0.1588 - val_mae: 0.1588\n",
      "Epoch 23/35\n",
      "259/259 [==============================] - 5s 17ms/step - loss: 0.1530 - mae: 0.1530 - val_loss: 0.1550 - val_mae: 0.1550\n",
      "Epoch 24/35\n",
      "259/259 [==============================] - 4s 17ms/step - loss: 0.1488 - mae: 0.1488 - val_loss: 0.1505 - val_mae: 0.1505\n",
      "Epoch 25/35\n",
      "259/259 [==============================] - 5s 19ms/step - loss: 0.1442 - mae: 0.1442 - val_loss: 0.1459 - val_mae: 0.1459\n",
      "Epoch 26/35\n",
      "259/259 [==============================] - 4s 17ms/step - loss: 0.1396 - mae: 0.1396 - val_loss: 0.1417 - val_mae: 0.1417\n",
      "Epoch 27/35\n",
      "259/259 [==============================] - 4s 16ms/step - loss: 0.1347 - mae: 0.1347 - val_loss: 0.1368 - val_mae: 0.1368\n",
      "Epoch 28/35\n",
      "259/259 [==============================] - 4s 17ms/step - loss: 0.1303 - mae: 0.1303 - val_loss: 0.1326 - val_mae: 0.1326\n",
      "Epoch 29/35\n",
      "259/259 [==============================] - 4s 16ms/step - loss: 0.1260 - mae: 0.1260 - val_loss: 0.1281 - val_mae: 0.1281\n",
      "Epoch 30/35\n",
      "259/259 [==============================] - 4s 16ms/step - loss: 0.1219 - mae: 0.1219 - val_loss: 0.1245 - val_mae: 0.1245\n",
      "Epoch 31/35\n",
      "259/259 [==============================] - 5s 17ms/step - loss: 0.1185 - mae: 0.1185 - val_loss: 0.1220 - val_mae: 0.1220\n",
      "Epoch 32/35\n",
      "259/259 [==============================] - 5s 17ms/step - loss: 0.1156 - mae: 0.1156 - val_loss: 0.1188 - val_mae: 0.1188\n",
      "Epoch 33/35\n",
      "259/259 [==============================] - 4s 16ms/step - loss: 0.1134 - mae: 0.1134 - val_loss: 0.1169 - val_mae: 0.1169\n",
      "Epoch 34/35\n",
      "259/259 [==============================] - 4s 16ms/step - loss: 0.1117 - mae: 0.1117 - val_loss: 0.1154 - val_mae: 0.1154\n",
      "Epoch 35/35\n",
      "259/259 [==============================] - 4s 16ms/step - loss: 0.1101 - mae: 0.1101 - val_loss: 0.1136 - val_mae: 0.1136\n"
     ]
    }
   ],
   "source": [
    "# final_model\n",
    "final_model = tf.keras.Sequential()\n",
    "final_model.add(tf.keras.layers.Dense(150, activation='relu', input_shape=(x_train_tensor.shape[1],)))\n",
    "final_model.add(tf.keras.layers.Reshape((1, 150))) \n",
    "final_model.add(tf.keras.layers.LSTM(128, return_sequences=True))\n",
    "final_model.add(tf.keras.layers.Dense(64, activation='relu'))\n",
    "final_model.add(tf.keras.layers.Dense(32, activation='relu'))\n",
    "final_model.add(tf.keras.layers.LSTM(16))\n",
    "final_model.add(tf.keras.layers.Dense(4, activation='relu'))\n",
    "final_model.add(tf.keras.layers.Dense(1, activation='linear'))\n",
    "\n",
    "# compile model\n",
    "final_model.compile(optimizer=tf.keras.optimizers.legacy.Adam(learning_rate=1e-5), loss='mae', metrics=['mae'])\n",
    "\n",
    "epoch_number = 35\n",
    "\n",
    "# train model and get history\n",
    "history = final_model.fit(x_train_tensor, y_train_tensor, epochs=epoch_number, validation_data=(x_eval_tensor, y_eval_tensor))"
   ],
   "metadata": {
    "collapsed": false,
    "ExecuteTime": {
     "end_time": "2024-01-23T16:11:10.471690Z",
     "start_time": "2024-01-23T16:08:36.462504Z"
    }
   },
   "id": "8b01720110040e7f"
  },
  {
   "cell_type": "code",
   "execution_count": 11,
   "outputs": [
    {
     "name": "stdout",
     "output_type": "stream",
     "text": [
      "Model: \"sequential_1\"\n",
      "_________________________________________________________________\n",
      " Layer (type)                Output Shape              Param #   \n",
      "=================================================================\n",
      " dense_5 (Dense)             (None, 150)               22650     \n",
      "                                                                 \n",
      " reshape_1 (Reshape)         (None, 1, 150)            0         \n",
      "                                                                 \n",
      " lstm_2 (LSTM)               (None, 1, 128)            142848    \n",
      "                                                                 \n",
      " dense_6 (Dense)             (None, 1, 64)             8256      \n",
      "                                                                 \n",
      " dense_7 (Dense)             (None, 1, 32)             2080      \n",
      "                                                                 \n",
      " lstm_3 (LSTM)               (None, 16)                3136      \n",
      "                                                                 \n",
      " dense_8 (Dense)             (None, 4)                 68        \n",
      "                                                                 \n",
      " dense_9 (Dense)             (None, 1)                 5         \n",
      "                                                                 \n",
      "=================================================================\n",
      "Total params: 179043 (699.39 KB)\n",
      "Trainable params: 179043 (699.39 KB)\n",
      "Non-trainable params: 0 (0.00 Byte)\n",
      "_________________________________________________________________\n"
     ]
    }
   ],
   "source": [
    "final_model.summary()"
   ],
   "metadata": {
    "collapsed": false,
    "ExecuteTime": {
     "end_time": "2024-01-23T16:11:15.200550Z",
     "start_time": "2024-01-23T16:11:15.188792Z"
    }
   },
   "id": "e343e8db0446aeb0"
  },
  {
   "cell_type": "code",
   "execution_count": 12,
   "outputs": [
    {
     "name": "stdout",
     "output_type": "stream",
     "text": [
      "34/34 [==============================] - 0s 11ms/step - loss: 0.1251 - mae: 0.1251\n"
     ]
    },
    {
     "data": {
      "text/plain": "[0.12511077523231506, 0.12511077523231506]"
     },
     "execution_count": 12,
     "metadata": {},
     "output_type": "execute_result"
    }
   ],
   "source": [
    "# view loss for testing values\n",
    "final_model.evaluate(x_test_tensor, y_test_tensor)"
   ],
   "metadata": {
    "collapsed": false,
    "ExecuteTime": {
     "end_time": "2024-01-23T16:11:17.992547Z",
     "start_time": "2024-01-23T16:11:17.537884Z"
    }
   },
   "id": "69956a15af34e265"
  },
  {
   "cell_type": "code",
   "execution_count": 14,
   "outputs": [
    {
     "name": "stdout",
     "output_type": "stream",
     "text": [
      "34/34 [==============================] - 0s 6ms/step\n"
     ]
    },
    {
     "data": {
      "text/plain": "array([[0.6242338 ],\n       [0.28580225],\n       [0.47407618],\n       [0.5468744 ],\n       [1.0014416 ]], dtype=float32)"
     },
     "execution_count": 14,
     "metadata": {},
     "output_type": "execute_result"
    }
   ],
   "source": [
    "# predict sample value set\n",
    "y_predictions = final_model.predict(x_test_tensor)\n",
    "y_predictions[:5]"
   ],
   "metadata": {
    "collapsed": false,
    "ExecuteTime": {
     "end_time": "2024-01-23T16:11:37.713356Z",
     "start_time": "2024-01-23T16:11:37.415124Z"
    }
   },
   "id": "af247d91cef66b79"
  },
  {
   "cell_type": "code",
   "execution_count": 15,
   "outputs": [
    {
     "data": {
      "text/plain": "<tf.Tensor: shape=(5,), dtype=float32, numpy=\narray([0.4876    , 0.3757857 , 0.6545    , 0.30585715, 1.        ],\n      dtype=float32)>"
     },
     "execution_count": 15,
     "metadata": {},
     "output_type": "execute_result"
    }
   ],
   "source": [
    "# view actual values\n",
    "y_test_tensor[:5]"
   ],
   "metadata": {
    "collapsed": false,
    "ExecuteTime": {
     "end_time": "2024-01-23T16:11:41.582944Z",
     "start_time": "2024-01-23T16:11:41.553089Z"
    }
   },
   "id": "363d820b101a1bb6"
  },
  {
   "cell_type": "code",
   "outputs": [],
   "source": [
    "from sklearn.metrics import mean_squared_error"
   ],
   "metadata": {
    "collapsed": false,
    "ExecuteTime": {
     "end_time": "2024-01-23T16:13:53.632318Z",
     "start_time": "2024-01-23T16:13:53.627974Z"
    }
   },
   "id": "c99e404f9acbd47f",
   "execution_count": 18
  },
  {
   "cell_type": "code",
   "outputs": [
    {
     "data": {
      "text/plain": "0.20181537"
     },
     "execution_count": 19,
     "metadata": {},
     "output_type": "execute_result"
    }
   ],
   "source": [
    "mean_squared_error(y_test_tensor, y_predictions)"
   ],
   "metadata": {
    "collapsed": false,
    "ExecuteTime": {
     "end_time": "2024-01-23T16:14:12.450442Z",
     "start_time": "2024-01-23T16:14:12.446141Z"
    }
   },
   "id": "d4c605fb82a851e4",
   "execution_count": 19
  },
  {
   "cell_type": "code",
   "outputs": [
    {
     "data": {
      "text/plain": "[<matplotlib.lines.Line2D at 0x1259acf10>]"
     },
     "execution_count": 16,
     "metadata": {},
     "output_type": "execute_result"
    },
    {
     "data": {
      "text/plain": "<Figure size 640x480 with 1 Axes>",
      "image/png": "[encoded data removed]"
     },
     "metadata": {},
     "output_type": "display_data"
    }
   ],
   "source": [
    "x = [0 , 1.2]\n",
    "y = x\n",
    "\n",
    "plt.scatter(y_test_tensor, y_predictions)\n",
    "plt.plot(x, y, color='black')"
   ],
   "metadata": {
    "collapsed": false,
    "ExecuteTime": {
     "end_time": "2024-01-23T16:11:49.700210Z",
     "start_time": "2024-01-23T16:11:49.586240Z"
    }
   },
   "id": "2a3ad49da8c46cf1",
   "execution_count": 16
  },
  {
   "cell_type": "code",
   "execution_count": 17,
   "outputs": [
    {
     "name": "stdout",
     "output_type": "stream",
     "text": [
      "INFO:tensorflow:Assets written to: sales_prediction_model/assets\n"
     ]
    },
    {
     "name": "stderr",
     "output_type": "stream",
     "text": [
      "INFO:tensorflow:Assets written to: sales_prediction_model/assets\n"
     ]
    }
   ],
   "source": [
    "# save final model\n",
    "final_model.save('sales_prediction_model')"
   ],
   "metadata": {
    "collapsed": false,
    "ExecuteTime": {
     "end_time": "2024-01-23T16:12:02.006270Z",
     "start_time": "2024-01-23T16:11:59.896407Z"
    }
   },
   "id": "46f2cd66a29e1bc7"
  }
 ],
 "metadata": {
  "kernelspec": {
   "display_name": "Python 3",
   "language": "python",
   "name": "python3"
  },
  "language_info": {
   "codemirror_mode": {
    "name": "ipython",
    "version": 2
   },
   "file_extension": ".py",
   "mimetype": "text/x-python",
   "name": "python",
   "nbconvert_exporter": "python",
   "pygments_lexer": "ipython2",
   "version": "2.7.6"
  }
 },
 "nbformat": 4,
 "nbformat_minor": 5
}
