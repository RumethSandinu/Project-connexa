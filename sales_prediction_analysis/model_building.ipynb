{
 "cells": [
  {
   "cell_type": "code",
   "execution_count": 1,
   "id": "initial_id",
   "metadata": {
    "collapsed": true,
    "ExecuteTime": {
     "end_time": "2024-01-11T13:03:46.378461Z",
     "start_time": "2024-01-11T13:03:46.145931Z"
    }
   },
   "outputs": [],
   "source": [
    "import pandas as pd"
   ]
  },
  {
   "cell_type": "code",
   "execution_count": 2,
   "outputs": [
    {
     "name": "stdout",
     "output_type": "stream",
     "text": [
      "<class 'pandas.core.frame.DataFrame'>\n",
      "RangeIndex: 37978 entries, 0 to 37977\n",
      "Columns: 199 entries, Quantity Sold (kilo) to Category Name_solanum\n",
      "dtypes: bool(197), float64(2)\n",
      "memory usage: 7.7 MB\n"
     ]
    }
   ],
   "source": [
    "# load pre-processed dataset\n",
    "df = pd.read_csv('../../datasets/pre_processed_dataset.csv')\n",
    "df.info()"
   ],
   "metadata": {
    "collapsed": false,
    "ExecuteTime": {
     "end_time": "2024-01-11T13:03:47.729849Z",
     "start_time": "2024-01-11T13:03:47.488271Z"
    }
   },
   "id": "f6a76d43f2da9e88"
  },
  {
   "cell_type": "code",
   "execution_count": 3,
   "outputs": [
    {
     "data": {
      "text/plain": "       Quantity Sold (kilo)  Unit Selling Price (RMB/kg)  \\\n17146              0.105556                    17.838889   \n8707               0.400000                    14.000000   \n3604               0.411111                    14.000000   \n\n       Item Name_7 colour pepper   Item Name_agaricus bisporus   \\\n17146                       False                         False   \n8707                        False                         False   \n3604                        False                         False   \n\n       Item Name_aihao  Item Name_amaranth  Item Name_amaranth   \\\n17146            False               False                False   \n8707             False               False                False   \n3604             False               False                False   \n\n       Item Name_apricot bao mushroom   Item Name_artemisia stelleriana  \\\n17146                            False                            False   \n8707                             False                            False   \n3604                             False                            False   \n\n       Item Name_basil   ...  Item Name_zhijiang red bolt   \\\n17146             False  ...                         False   \n8707              False  ...                         False   \n3604              False  ...                         False   \n\n       Item Name_zhimaxiancai  Item Name_zhuyecai  Item Name_zhuyecai   \\\n17146                   False               False                False   \n8707                    False               False                False   \n3604                    False               False                False   \n\n       Category Name_aquatic  Category Name_cabbage  Category Name_capsicum  \\\n17146                  False                  False                    True   \n8707                   False                  False                   False   \n3604                   False                  False                   False   \n\n       Category Name_flower  Category Name_mushroom  Category Name_solanum  \n17146                 False                   False                  False  \n8707                  False                   False                   True  \n3604                  False                   False                   True  \n\n[3 rows x 199 columns]",
      "text/html": "<div>\n<style scoped>\n    .dataframe tbody tr th:only-of-type {\n        vertical-align: middle;\n    }\n\n    .dataframe tbody tr th {\n        vertical-align: top;\n    }\n\n    .dataframe thead th {\n        text-align: right;\n    }\n</style>\n<table border=\"1\" class=\"dataframe\">\n  <thead>\n    <tr style=\"text-align: right;\">\n      <th></th>\n      <th>Quantity Sold (kilo)</th>\n      <th>Unit Selling Price (RMB/kg)</th>\n      <th>Item Name_7 colour pepper</th>\n      <th>Item Name_agaricus bisporus</th>\n      <th>Item Name_aihao</th>\n      <th>Item Name_amaranth</th>\n      <th>Item Name_amaranth</th>\n      <th>Item Name_apricot bao mushroom</th>\n      <th>Item Name_artemisia stelleriana</th>\n      <th>Item Name_basil</th>\n      <th>...</th>\n      <th>Item Name_zhijiang red bolt</th>\n      <th>Item Name_zhimaxiancai</th>\n      <th>Item Name_zhuyecai</th>\n      <th>Item Name_zhuyecai</th>\n      <th>Category Name_aquatic</th>\n      <th>Category Name_cabbage</th>\n      <th>Category Name_capsicum</th>\n      <th>Category Name_flower</th>\n      <th>Category Name_mushroom</th>\n      <th>Category Name_solanum</th>\n    </tr>\n  </thead>\n  <tbody>\n    <tr>\n      <th>17146</th>\n      <td>0.105556</td>\n      <td>17.838889</td>\n      <td>False</td>\n      <td>False</td>\n      <td>False</td>\n      <td>False</td>\n      <td>False</td>\n      <td>False</td>\n      <td>False</td>\n      <td>False</td>\n      <td>...</td>\n      <td>False</td>\n      <td>False</td>\n      <td>False</td>\n      <td>False</td>\n      <td>False</td>\n      <td>False</td>\n      <td>True</td>\n      <td>False</td>\n      <td>False</td>\n      <td>False</td>\n    </tr>\n    <tr>\n      <th>8707</th>\n      <td>0.400000</td>\n      <td>14.000000</td>\n      <td>False</td>\n      <td>False</td>\n      <td>False</td>\n      <td>False</td>\n      <td>False</td>\n      <td>False</td>\n      <td>False</td>\n      <td>False</td>\n      <td>...</td>\n      <td>False</td>\n      <td>False</td>\n      <td>False</td>\n      <td>False</td>\n      <td>False</td>\n      <td>False</td>\n      <td>False</td>\n      <td>False</td>\n      <td>False</td>\n      <td>True</td>\n    </tr>\n    <tr>\n      <th>3604</th>\n      <td>0.411111</td>\n      <td>14.000000</td>\n      <td>False</td>\n      <td>False</td>\n      <td>False</td>\n      <td>False</td>\n      <td>False</td>\n      <td>False</td>\n      <td>False</td>\n      <td>False</td>\n      <td>...</td>\n      <td>False</td>\n      <td>False</td>\n      <td>False</td>\n      <td>False</td>\n      <td>False</td>\n      <td>False</td>\n      <td>False</td>\n      <td>False</td>\n      <td>False</td>\n      <td>True</td>\n    </tr>\n  </tbody>\n</table>\n<p>3 rows × 199 columns</p>\n</div>"
     },
     "execution_count": 3,
     "metadata": {},
     "output_type": "execute_result"
    }
   ],
   "source": [
    "df.sample(3)"
   ],
   "metadata": {
    "collapsed": false,
    "ExecuteTime": {
     "end_time": "2024-01-11T13:03:48.146257Z",
     "start_time": "2024-01-11T13:03:48.140253Z"
    }
   },
   "id": "51cd436875161ac6"
  },
  {
   "cell_type": "code",
   "execution_count": 4,
   "outputs": [
    {
     "name": "stderr",
     "output_type": "stream",
     "text": [
      "/Users/rumethsandinu/Library/Python/3.9/lib/python/site-packages/urllib3/__init__.py:34: NotOpenSSLWarning: urllib3 v2 only supports OpenSSL 1.1.1+, currently the 'ssl' module is compiled with 'LibreSSL 2.8.3'. See: https://github.com/urllib3/urllib3/issues/3020\n",
      "  warnings.warn(\n"
     ]
    }
   ],
   "source": [
    "from sklearn.model_selection import train_test_split\n",
    "import tensorflow as tf"
   ],
   "metadata": {
    "collapsed": false,
    "ExecuteTime": {
     "end_time": "2024-01-11T13:04:03.961247Z",
     "start_time": "2024-01-11T13:04:00.603504Z"
    }
   },
   "id": "278bdc9d61ee98ad"
  },
  {
   "cell_type": "code",
   "execution_count": 5,
   "outputs": [
    {
     "name": "stderr",
     "output_type": "stream",
     "text": [
      "2024-01-11 18:34:04.958754: I metal_plugin/src/device/metal_device.cc:1154] Metal device set to: Apple M2\n",
      "2024-01-11 18:34:04.958787: I metal_plugin/src/device/metal_device.cc:296] systemMemory: 8.00 GB\n",
      "2024-01-11 18:34:04.958797: I metal_plugin/src/device/metal_device.cc:313] maxCacheSize: 2.67 GB\n",
      "2024-01-11 18:34:04.959147: I tensorflow/core/common_runtime/pluggable_device/pluggable_device_factory.cc:306] Could not identify NUMA node of platform GPU ID 0, defaulting to 0. Your kernel may not have been built with NUMA support.\n",
      "2024-01-11 18:34:04.959423: I tensorflow/core/common_runtime/pluggable_device/pluggable_device_factory.cc:272] Created TensorFlow device (/job:localhost/replica:0/task:0/device:GPU:0 with 0 MB memory) -> physical PluggableDevice (device: 0, name: METAL, pci bus id: <undefined>)\n"
     ]
    },
    {
     "data": {
      "text/plain": "(TensorShape([30382, 198]), TensorShape([3798, 198]), (3798, 198))"
     },
     "execution_count": 5,
     "metadata": {},
     "output_type": "execute_result"
    }
   ],
   "source": [
    "# define dependent and non dependent variables\n",
    "y = df['Quantity Sold (kilo)']\n",
    "x = df.drop(columns=['Quantity Sold (kilo)'], axis=1)\n",
    "\n",
    "# split the dataset 0.8, 0.1, 0.1\n",
    "x_train, x_temp, y_train, y_temp = train_test_split(x, y, test_size=0.2, random_state=42)\n",
    "x_eval, x_test, y_eval, y_test = train_test_split(x_temp, y_temp, test_size=0.5, random_state=42)\n",
    "\n",
    "# convert to tensor arrays\n",
    "x_train_tensor = tf.constant(x_train, dtype=tf.float32)\n",
    "y_train_tensor = tf.constant(y_train, dtype=tf.float32)\n",
    "x_eval_tensor = tf.constant(x_eval, dtype=tf.float32)\n",
    "y_eval_tensor = tf.constant(y_eval, dtype=tf.float32)\n",
    "\n",
    "x_train_tensor.shape, x_eval_tensor.shape, x_test.shape"
   ],
   "metadata": {
    "collapsed": false,
    "ExecuteTime": {
     "end_time": "2024-01-11T13:04:05.245143Z",
     "start_time": "2024-01-11T13:04:04.937914Z"
    }
   },
   "id": "87771c7557fd3e35"
  },
  {
   "cell_type": "code",
   "execution_count": 6,
   "outputs": [
    {
     "data": {
      "text/plain": "      Quantity Sold (kilo)  Unit Selling Price (RMB/kg)  \\\n3204              1.000000                          4.9   \n321               0.357143                          5.0   \n\n      Item Name_7 colour pepper   Item Name_agaricus bisporus   \\\n3204                       False                         False   \n321                        False                         False   \n\n      Item Name_aihao  Item Name_amaranth  Item Name_amaranth   \\\n3204            False               False                False   \n321             False               False                False   \n\n      Item Name_apricot bao mushroom   Item Name_artemisia stelleriana  \\\n3204                            False                            False   \n321                             False                            False   \n\n      Item Name_basil   ...  Item Name_zhijiang red bolt   \\\n3204             False  ...                         False   \n321              False  ...                         False   \n\n      Item Name_zhimaxiancai  Item Name_zhuyecai  Item Name_zhuyecai   \\\n3204                   False               False                False   \n321                    False               False                False   \n\n      Category Name_aquatic  Category Name_cabbage  Category Name_capsicum  \\\n3204                  False                  False                    True   \n321                   False                  False                   False   \n\n      Category Name_flower  Category Name_mushroom  Category Name_solanum  \n3204                 False                   False                  False  \n321                   True                   False                  False  \n\n[2 rows x 199 columns]",
      "text/html": "<div>\n<style scoped>\n    .dataframe tbody tr th:only-of-type {\n        vertical-align: middle;\n    }\n\n    .dataframe tbody tr th {\n        vertical-align: top;\n    }\n\n    .dataframe thead th {\n        text-align: right;\n    }\n</style>\n<table border=\"1\" class=\"dataframe\">\n  <thead>\n    <tr style=\"text-align: right;\">\n      <th></th>\n      <th>Quantity Sold (kilo)</th>\n      <th>Unit Selling Price (RMB/kg)</th>\n      <th>Item Name_7 colour pepper</th>\n      <th>Item Name_agaricus bisporus</th>\n      <th>Item Name_aihao</th>\n      <th>Item Name_amaranth</th>\n      <th>Item Name_amaranth</th>\n      <th>Item Name_apricot bao mushroom</th>\n      <th>Item Name_artemisia stelleriana</th>\n      <th>Item Name_basil</th>\n      <th>...</th>\n      <th>Item Name_zhijiang red bolt</th>\n      <th>Item Name_zhimaxiancai</th>\n      <th>Item Name_zhuyecai</th>\n      <th>Item Name_zhuyecai</th>\n      <th>Category Name_aquatic</th>\n      <th>Category Name_cabbage</th>\n      <th>Category Name_capsicum</th>\n      <th>Category Name_flower</th>\n      <th>Category Name_mushroom</th>\n      <th>Category Name_solanum</th>\n    </tr>\n  </thead>\n  <tbody>\n    <tr>\n      <th>3204</th>\n      <td>1.000000</td>\n      <td>4.9</td>\n      <td>False</td>\n      <td>False</td>\n      <td>False</td>\n      <td>False</td>\n      <td>False</td>\n      <td>False</td>\n      <td>False</td>\n      <td>False</td>\n      <td>...</td>\n      <td>False</td>\n      <td>False</td>\n      <td>False</td>\n      <td>False</td>\n      <td>False</td>\n      <td>False</td>\n      <td>True</td>\n      <td>False</td>\n      <td>False</td>\n      <td>False</td>\n    </tr>\n    <tr>\n      <th>321</th>\n      <td>0.357143</td>\n      <td>5.0</td>\n      <td>False</td>\n      <td>False</td>\n      <td>False</td>\n      <td>False</td>\n      <td>False</td>\n      <td>False</td>\n      <td>False</td>\n      <td>False</td>\n      <td>...</td>\n      <td>False</td>\n      <td>False</td>\n      <td>False</td>\n      <td>False</td>\n      <td>False</td>\n      <td>False</td>\n      <td>False</td>\n      <td>True</td>\n      <td>False</td>\n      <td>False</td>\n    </tr>\n  </tbody>\n</table>\n<p>2 rows × 199 columns</p>\n</div>"
     },
     "execution_count": 6,
     "metadata": {},
     "output_type": "execute_result"
    }
   ],
   "source": [
    "# save testing dataset\n",
    "df_test = pd.concat([y_test.reset_index(drop=True), x_test.reset_index(drop=True)], axis=1)\n",
    "df_test.to_csv('../../datasets/testing_dataset.csv')\n",
    "df_test.sample(2)"
   ],
   "metadata": {
    "collapsed": false,
    "ExecuteTime": {
     "end_time": "2024-01-11T13:04:07.284517Z",
     "start_time": "2024-01-11T13:04:07.185682Z"
    }
   },
   "id": "f2ad927015ae9653"
  },
  {
   "cell_type": "code",
   "execution_count": 7,
   "outputs": [],
   "source": [
    "# convert to tensor arrays\n",
    "x_test_tensor = tf.constant(x_test, dtype=tf.float32)\n",
    "y_test_tensor = tf.constant(y_test, dtype=tf.float32)"
   ],
   "metadata": {
    "collapsed": false,
    "ExecuteTime": {
     "end_time": "2024-01-11T13:04:09.327940Z",
     "start_time": "2024-01-11T13:04:09.284204Z"
    }
   },
   "id": "d4f2882c044068f4"
  },
  {
   "cell_type": "code",
   "execution_count": 8,
   "outputs": [
    {
     "name": "stdout",
     "output_type": "stream",
     "text": [
      "Epoch 1/15\n"
     ]
    },
    {
     "name": "stderr",
     "output_type": "stream",
     "text": [
      "2024-01-11 18:34:12.672180: I tensorflow/core/grappler/optimizers/custom_graph_optimizer_registry.cc:117] Plugin optimizer for device_type GPU is enabled.\n"
     ]
    },
    {
     "name": "stdout",
     "output_type": "stream",
     "text": [
      "950/950 [==============================] - 17s 16ms/step - loss: 0.3211 - mae: 0.3211 - val_loss: 0.2204 - val_mae: 0.2204\n",
      "Epoch 2/15\n",
      "950/950 [==============================] - 15s 16ms/step - loss: 0.2037 - mae: 0.2037 - val_loss: 0.1927 - val_mae: 0.1927\n",
      "Epoch 3/15\n",
      "950/950 [==============================] - 15s 16ms/step - loss: 0.1829 - mae: 0.1829 - val_loss: 0.1740 - val_mae: 0.1740\n",
      "Epoch 4/15\n",
      "950/950 [==============================] - 14s 15ms/step - loss: 0.1617 - mae: 0.1617 - val_loss: 0.1509 - val_mae: 0.1509\n",
      "Epoch 5/15\n",
      "950/950 [==============================] - 14s 15ms/step - loss: 0.1364 - mae: 0.1364 - val_loss: 0.1275 - val_mae: 0.1275\n",
      "Epoch 6/15\n",
      "950/950 [==============================] - 15s 16ms/step - loss: 0.1160 - mae: 0.1160 - val_loss: 0.1093 - val_mae: 0.1093\n",
      "Epoch 7/15\n",
      "950/950 [==============================] - 15s 16ms/step - loss: 0.1001 - mae: 0.1001 - val_loss: 0.0968 - val_mae: 0.0968\n",
      "Epoch 8/15\n",
      "950/950 [==============================] - 15s 16ms/step - loss: 0.0905 - mae: 0.0905 - val_loss: 0.0893 - val_mae: 0.0893\n",
      "Epoch 9/15\n",
      "950/950 [==============================] - 15s 15ms/step - loss: 0.0838 - mae: 0.0838 - val_loss: 0.0830 - val_mae: 0.0830\n",
      "Epoch 10/15\n",
      "950/950 [==============================] - 16s 16ms/step - loss: 0.0780 - mae: 0.0780 - val_loss: 0.0796 - val_mae: 0.0796\n",
      "Epoch 11/15\n",
      "950/950 [==============================] - 14s 15ms/step - loss: 0.0736 - mae: 0.0736 - val_loss: 0.0735 - val_mae: 0.0735\n",
      "Epoch 12/15\n",
      "950/950 [==============================] - 14s 15ms/step - loss: 0.0703 - mae: 0.0703 - val_loss: 0.0703 - val_mae: 0.0703\n",
      "Epoch 13/15\n",
      "950/950 [==============================] - 14s 15ms/step - loss: 0.0675 - mae: 0.0675 - val_loss: 0.0684 - val_mae: 0.0684\n",
      "Epoch 14/15\n",
      "950/950 [==============================] - 14s 15ms/step - loss: 0.0657 - mae: 0.0657 - val_loss: 0.0664 - val_mae: 0.0664\n",
      "Epoch 15/15\n",
      "950/950 [==============================] - 14s 15ms/step - loss: 0.0647 - mae: 0.0647 - val_loss: 0.0661 - val_mae: 0.0661\n"
     ]
    }
   ],
   "source": [
    "# model\n",
    "model = tf.keras.Sequential()\n",
    "model.add(tf.keras.layers.Dense(198, activation='relu', input_shape=(x_train_tensor.shape[1],)))\n",
    "model.add(tf.keras.layers.Reshape((1, 198))) \n",
    "model.add(tf.keras.layers.LSTM(128, return_sequences=True))\n",
    "model.add(tf.keras.layers.Dense(128, activation='relu'))\n",
    "model.add(tf.keras.layers.Dense(64, activation='relu'))\n",
    "model.add(tf.keras.layers.LSTM(32))\n",
    "model.add(tf.keras.layers.Dense(1, activation='linear'))\n",
    "\n",
    "# compile model\n",
    "model.compile(optimizer=tf.keras.optimizers.legacy.Adam(learning_rate=1e-5), loss='mae', metrics=['mae'])\n",
    "\n",
    "epoch_number = 15\n",
    "\n",
    "# train model and get history\n",
    "history = model.fit(x_train_tensor, y_train_tensor, epochs=epoch_number, validation_data=(x_eval_tensor, y_eval_tensor))"
   ],
   "metadata": {
    "collapsed": false,
    "ExecuteTime": {
     "end_time": "2024-01-11T13:07:54.311855Z",
     "start_time": "2024-01-11T13:04:11.086012Z"
    }
   },
   "id": "8b436d40b14f1f96"
  },
  {
   "cell_type": "code",
   "execution_count": 9,
   "outputs": [],
   "source": [
    "import matplotlib.pyplot as plt"
   ],
   "metadata": {
    "collapsed": false,
    "ExecuteTime": {
     "end_time": "2024-01-11T13:07:54.595008Z",
     "start_time": "2024-01-11T13:07:54.319242Z"
    }
   },
   "id": "6463930abb54b395"
  },
  {
   "cell_type": "code",
   "execution_count": 10,
   "outputs": [
    {
     "data": {
      "text/plain": "<Figure size 640x480 with 1 Axes>",
      "image/png": "[encoded data removed]"
     },
     "metadata": {},
     "output_type": "display_data"
    }
   ],
   "source": [
    "# plot loss with respect to epoch number\n",
    "x_range = range(1, epoch_number + 1)\n",
    "loss = history.history['loss']\n",
    "val_loss = history.history['val_loss']\n",
    "plt.plot(x_range, loss, label='Training loss')\n",
    "plt.plot(x_range, val_loss, label='Validation loss')\n",
    "plt.xlabel('epoch')\n",
    "plt.ylabel('loss')\n",
    "plt.xticks(x_range) \n",
    "plt.legend()\n",
    "plt.grid(True, linewidth = 0.5, color = 'y', linestyle = '--')"
   ],
   "metadata": {
    "collapsed": false,
    "ExecuteTime": {
     "end_time": "2024-01-11T13:07:54.784464Z",
     "start_time": "2024-01-11T13:07:54.596869Z"
    }
   },
   "id": "edd889b97d10a84"
  },
  {
   "cell_type": "code",
   "execution_count": 11,
   "outputs": [
    {
     "name": "stdout",
     "output_type": "stream",
     "text": [
      "Epoch 1/8\n",
      "950/950 [==============================] - 17s 16ms/step - loss: 0.3183 - mae: 0.3183 - val_loss: 0.2230 - val_mae: 0.2230\n",
      "Epoch 2/8\n",
      "950/950 [==============================] - 15s 16ms/step - loss: 0.2064 - mae: 0.2064 - val_loss: 0.1961 - val_mae: 0.1961\n",
      "Epoch 3/8\n",
      "950/950 [==============================] - 15s 15ms/step - loss: 0.1870 - mae: 0.1870 - val_loss: 0.1794 - val_mae: 0.1794\n",
      "Epoch 4/8\n",
      "950/950 [==============================] - 15s 16ms/step - loss: 0.1667 - mae: 0.1667 - val_loss: 0.1555 - val_mae: 0.1555\n",
      "Epoch 5/8\n",
      "950/950 [==============================] - 15s 15ms/step - loss: 0.1390 - mae: 0.1390 - val_loss: 0.1314 - val_mae: 0.1314\n",
      "Epoch 6/8\n",
      "950/950 [==============================] - 15s 16ms/step - loss: 0.1189 - mae: 0.1189 - val_loss: 0.1123 - val_mae: 0.1123\n",
      "Epoch 7/8\n",
      "950/950 [==============================] - 15s 16ms/step - loss: 0.1025 - mae: 0.1025 - val_loss: 0.0997 - val_mae: 0.0997\n",
      "Epoch 8/8\n",
      "950/950 [==============================] - 14s 15ms/step - loss: 0.0932 - mae: 0.0932 - val_loss: 0.0928 - val_mae: 0.0928\n"
     ]
    }
   ],
   "source": [
    "# final_model\n",
    "final_model = tf.keras.Sequential()\n",
    "final_model.add(tf.keras.layers.Dense(198, activation='relu', input_shape=(x_train_tensor.shape[1],)))\n",
    "final_model.add(tf.keras.layers.Reshape((1, 198))) \n",
    "final_model.add(tf.keras.layers.LSTM(128, return_sequences=True))\n",
    "final_model.add(tf.keras.layers.Dense(128, activation='relu'))\n",
    "final_model.add(tf.keras.layers.Dense(64, activation='relu'))\n",
    "final_model.add(tf.keras.layers.LSTM(32))\n",
    "final_model.add(tf.keras.layers.Dense(1, activation='linear'))\n",
    "\n",
    "# compile model\n",
    "final_model.compile(optimizer=tf.keras.optimizers.legacy.Adam(learning_rate=1e-5), loss='mae', metrics=['mae'])\n",
    "\n",
    "epoch_number = 8\n",
    "\n",
    "history = final_model.fit(x_train_tensor, y_train_tensor, epochs=epoch_number, validation_data=(x_eval_tensor, y_eval_tensor))"
   ],
   "metadata": {
    "collapsed": false,
    "ExecuteTime": {
     "end_time": "2024-01-11T13:10:32.479013Z",
     "start_time": "2024-01-11T13:08:31.157814Z"
    }
   },
   "id": "8b01720110040e7f"
  },
  {
   "cell_type": "code",
   "execution_count": 12,
   "outputs": [
    {
     "name": "stdout",
     "output_type": "stream",
     "text": [
      "Model: \"sequential_1\"\n",
      "_________________________________________________________________\n",
      " Layer (type)                Output Shape              Param #   \n",
      "=================================================================\n",
      " dense_4 (Dense)             (None, 198)               39402     \n",
      "                                                                 \n",
      " reshape_1 (Reshape)         (None, 1, 198)            0         \n",
      "                                                                 \n",
      " lstm_2 (LSTM)               (None, 1, 128)            167424    \n",
      "                                                                 \n",
      " dense_5 (Dense)             (None, 1, 128)            16512     \n",
      "                                                                 \n",
      " dense_6 (Dense)             (None, 1, 64)             8256      \n",
      "                                                                 \n",
      " lstm_3 (LSTM)               (None, 32)                12416     \n",
      "                                                                 \n",
      " dense_7 (Dense)             (None, 1)                 33        \n",
      "                                                                 \n",
      "=================================================================\n",
      "Total params: 244043 (953.29 KB)\n",
      "Trainable params: 244043 (953.29 KB)\n",
      "Non-trainable params: 0 (0.00 Byte)\n",
      "_________________________________________________________________\n"
     ]
    }
   ],
   "source": [
    "final_model.summary()"
   ],
   "metadata": {
    "collapsed": false,
    "ExecuteTime": {
     "end_time": "2024-01-11T13:10:32.495418Z",
     "start_time": "2024-01-11T13:10:32.481738Z"
    }
   },
   "id": "e343e8db0446aeb0"
  },
  {
   "cell_type": "code",
   "execution_count": 13,
   "outputs": [
    {
     "name": "stdout",
     "output_type": "stream",
     "text": [
      "119/119 [==============================] - 1s 7ms/step - loss: 0.0853 - mae: 0.0853\n"
     ]
    },
    {
     "data": {
      "text/plain": "[0.08525385707616806, 0.08525385707616806]"
     },
     "execution_count": 13,
     "metadata": {},
     "output_type": "execute_result"
    }
   ],
   "source": [
    "# view loss for testing values\n",
    "final_model.evaluate(x_test_tensor, y_test_tensor)"
   ],
   "metadata": {
    "collapsed": false,
    "ExecuteTime": {
     "end_time": "2024-01-11T13:10:33.376069Z",
     "start_time": "2024-01-11T13:10:32.495245Z"
    }
   },
   "id": "69956a15af34e265"
  },
  {
   "cell_type": "code",
   "execution_count": 14,
   "outputs": [
    {
     "name": "stdout",
     "output_type": "stream",
     "text": [
      "119/119 [==============================] - 1s 6ms/step\n"
     ]
    },
    {
     "data": {
      "text/plain": "array([[0.9616153 ],\n       [0.19059497],\n       [0.99988925],\n       [0.3249798 ],\n       [0.3676355 ]], dtype=float32)"
     },
     "execution_count": 14,
     "metadata": {},
     "output_type": "execute_result"
    }
   ],
   "source": [
    "# predict sample value set\n",
    "y_predictions = final_model.predict(x_test_tensor)\n",
    "y_predictions[:5]"
   ],
   "metadata": {
    "collapsed": false,
    "ExecuteTime": {
     "end_time": "2024-01-11T13:10:34.518522Z",
     "start_time": "2024-01-11T13:10:33.377721Z"
    }
   },
   "id": "af247d91cef66b79"
  },
  {
   "cell_type": "code",
   "execution_count": 15,
   "outputs": [
    {
     "data": {
      "text/plain": "<tf.Tensor: shape=(5,), dtype=float32, numpy=\narray([1.        , 0.26666668, 1.        , 0.23333333, 0.35      ],\n      dtype=float32)>"
     },
     "execution_count": 15,
     "metadata": {},
     "output_type": "execute_result"
    }
   ],
   "source": [
    "# view actual values\n",
    "y_test_tensor[:5]"
   ],
   "metadata": {
    "collapsed": false,
    "ExecuteTime": {
     "end_time": "2024-01-11T13:10:34.528584Z",
     "start_time": "2024-01-11T13:10:34.518149Z"
    }
   },
   "id": "363d820b101a1bb6"
  },
  {
   "cell_type": "code",
   "execution_count": 18,
   "outputs": [
    {
     "name": "stdout",
     "output_type": "stream",
     "text": [
      "INFO:tensorflow:Assets written to: final_sold_amount_model/assets\n"
     ]
    },
    {
     "name": "stderr",
     "output_type": "stream",
     "text": [
      "INFO:tensorflow:Assets written to: final_sold_amount_model/assets\n"
     ]
    }
   ],
   "source": [
    "# save final model\n",
    "final_model.save('sales_prediction_model')"
   ],
   "metadata": {
    "collapsed": false,
    "ExecuteTime": {
     "end_time": "2024-01-11T13:10:36.354702Z",
     "start_time": "2024-01-11T13:10:34.535914Z"
    }
   },
   "id": "46f2cd66a29e1bc7"
  }
 ],
 "metadata": {
  "kernelspec": {
   "display_name": "Python 3",
   "language": "python",
   "name": "python3"
  },
  "language_info": {
   "codemirror_mode": {
    "name": "ipython",
    "version": 2
   },
   "file_extension": ".py",
   "mimetype": "text/x-python",
   "name": "python",
   "nbconvert_exporter": "python",
   "pygments_lexer": "ipython2",
   "version": "2.7.6"
  }
 },
 "nbformat": 4,
 "nbformat_minor": 5
}
