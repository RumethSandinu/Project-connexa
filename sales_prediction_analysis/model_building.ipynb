{
 "cells": [
  {
   "cell_type": "code",
   "execution_count": 1,
   "id": "initial_id",
   "metadata": {
    "collapsed": true,
    "ExecuteTime": {
     "end_time": "2024-01-28T16:20:57.316759Z",
     "start_time": "2024-01-28T16:20:57.048756Z"
    }
   },
   "outputs": [],
   "source": [
    "import pandas as pd"
   ]
  },
  {
   "cell_type": "code",
   "execution_count": 2,
   "outputs": [
    {
     "data": {
      "text/plain": "      Quantity Sold (kilo)  Unit Selling Price (RMB/kg)  \\\n546               0.238909                         19.8   \n6420              0.612000                          2.0   \n8644              0.327333                         29.6   \n\n      Item Name_7 colour pepper   Item Name_agaricus bisporus   \\\n546                        False                         False   \n6420                       False                         False   \n8644                       False                         False   \n\n      Item Name_aihao  Item Name_amaranth   Item Name_apricot bao mushroom   \\\n546             False                False                            False   \n6420            False                False                            False   \n8644            False                False                            False   \n\n      Item Name_basil   Item Name_bell pepper   Item Name_big broccoli  ...  \\\n546              False                   False                   False  ...   \n6420             False                   False                   False  ...   \n8644             False                   False                   False  ...   \n\n      Item Name_yuxingcao   Item Name_zhijiang red bolt   \\\n546                  False                         False   \n6420                 False                         False   \n8644                 False                         False   \n\n      Item Name_zhimaxiancai  Item Name_zhuyecai   Category Name_aquatic  \\\n546                    False                False                  False   \n6420                   False                False                  False   \n8644                   False                False                   True   \n\n      Category Name_cabbage  Category Name_capsicum  Category Name_flower  \\\n546                   False                   False                 False   \n6420                  False                   False                  True   \n8644                  False                   False                 False   \n\n      Category Name_mushroom  Category Name_solanum  \n546                     True                  False  \n6420                   False                  False  \n8644                   False                  False  \n\n[3 rows x 151 columns]",
      "text/html": "<div>\n<style scoped>\n    .dataframe tbody tr th:only-of-type {\n        vertical-align: middle;\n    }\n\n    .dataframe tbody tr th {\n        vertical-align: top;\n    }\n\n    .dataframe thead th {\n        text-align: right;\n    }\n</style>\n<table border=\"1\" class=\"dataframe\">\n  <thead>\n    <tr style=\"text-align: right;\">\n      <th></th>\n      <th>Quantity Sold (kilo)</th>\n      <th>Unit Selling Price (RMB/kg)</th>\n      <th>Item Name_7 colour pepper</th>\n      <th>Item Name_agaricus bisporus</th>\n      <th>Item Name_aihao</th>\n      <th>Item Name_amaranth</th>\n      <th>Item Name_apricot bao mushroom</th>\n      <th>Item Name_basil</th>\n      <th>Item Name_bell pepper</th>\n      <th>Item Name_big broccoli</th>\n      <th>...</th>\n      <th>Item Name_yuxingcao</th>\n      <th>Item Name_zhijiang red bolt</th>\n      <th>Item Name_zhimaxiancai</th>\n      <th>Item Name_zhuyecai</th>\n      <th>Category Name_aquatic</th>\n      <th>Category Name_cabbage</th>\n      <th>Category Name_capsicum</th>\n      <th>Category Name_flower</th>\n      <th>Category Name_mushroom</th>\n      <th>Category Name_solanum</th>\n    </tr>\n  </thead>\n  <tbody>\n    <tr>\n      <th>546</th>\n      <td>0.238909</td>\n      <td>19.8</td>\n      <td>False</td>\n      <td>False</td>\n      <td>False</td>\n      <td>False</td>\n      <td>False</td>\n      <td>False</td>\n      <td>False</td>\n      <td>False</td>\n      <td>...</td>\n      <td>False</td>\n      <td>False</td>\n      <td>False</td>\n      <td>False</td>\n      <td>False</td>\n      <td>False</td>\n      <td>False</td>\n      <td>False</td>\n      <td>True</td>\n      <td>False</td>\n    </tr>\n    <tr>\n      <th>6420</th>\n      <td>0.612000</td>\n      <td>2.0</td>\n      <td>False</td>\n      <td>False</td>\n      <td>False</td>\n      <td>False</td>\n      <td>False</td>\n      <td>False</td>\n      <td>False</td>\n      <td>False</td>\n      <td>...</td>\n      <td>False</td>\n      <td>False</td>\n      <td>False</td>\n      <td>False</td>\n      <td>False</td>\n      <td>False</td>\n      <td>False</td>\n      <td>True</td>\n      <td>False</td>\n      <td>False</td>\n    </tr>\n    <tr>\n      <th>8644</th>\n      <td>0.327333</td>\n      <td>29.6</td>\n      <td>False</td>\n      <td>False</td>\n      <td>False</td>\n      <td>False</td>\n      <td>False</td>\n      <td>False</td>\n      <td>False</td>\n      <td>False</td>\n      <td>...</td>\n      <td>False</td>\n      <td>False</td>\n      <td>False</td>\n      <td>False</td>\n      <td>True</td>\n      <td>False</td>\n      <td>False</td>\n      <td>False</td>\n      <td>False</td>\n      <td>False</td>\n    </tr>\n  </tbody>\n</table>\n<p>3 rows × 151 columns</p>\n</div>"
     },
     "execution_count": 2,
     "metadata": {},
     "output_type": "execute_result"
    }
   ],
   "source": [
    "# load pre-processed dataset\n",
    "df = pd.read_csv('../../datasets/pre_processed_dataset.csv')\n",
    "df.sample(3)"
   ],
   "metadata": {
    "collapsed": false,
    "ExecuteTime": {
     "end_time": "2024-01-28T16:20:57.392791Z",
     "start_time": "2024-01-28T16:20:57.319888Z"
    }
   },
   "id": "f6a76d43f2da9e88"
  },
  {
   "cell_type": "code",
   "execution_count": 3,
   "outputs": [
    {
     "name": "stderr",
     "output_type": "stream",
     "text": [
      "/Users/rumethsandinu/Library/Python/3.9/lib/python/site-packages/urllib3/__init__.py:34: NotOpenSSLWarning: urllib3 v2 only supports OpenSSL 1.1.1+, currently the 'ssl' module is compiled with 'LibreSSL 2.8.3'. See: https://github.com/urllib3/urllib3/issues/3020\n",
      "  warnings.warn(\n"
     ]
    }
   ],
   "source": [
    "from sklearn.model_selection import train_test_split\n",
    "import tensorflow as tf"
   ],
   "metadata": {
    "collapsed": false,
    "ExecuteTime": {
     "end_time": "2024-01-28T16:21:00.511946Z",
     "start_time": "2024-01-28T16:20:57.409790Z"
    }
   },
   "id": "278bdc9d61ee98ad"
  },
  {
   "cell_type": "code",
   "execution_count": 4,
   "outputs": [
    {
     "name": "stderr",
     "output_type": "stream",
     "text": [
      "2024-01-28 21:51:00.543571: I metal_plugin/src/device/metal_device.cc:1154] Metal device set to: Apple M2\n",
      "2024-01-28 21:51:00.543590: I metal_plugin/src/device/metal_device.cc:296] systemMemory: 8.00 GB\n",
      "2024-01-28 21:51:00.543595: I metal_plugin/src/device/metal_device.cc:313] maxCacheSize: 2.67 GB\n",
      "2024-01-28 21:51:00.543621: I tensorflow/core/common_runtime/pluggable_device/pluggable_device_factory.cc:306] Could not identify NUMA node of platform GPU ID 0, defaulting to 0. Your kernel may not have been built with NUMA support.\n",
      "2024-01-28 21:51:00.543635: I tensorflow/core/common_runtime/pluggable_device/pluggable_device_factory.cc:272] Created TensorFlow device (/job:localhost/replica:0/task:0/device:GPU:0 with 0 MB memory) -> physical PluggableDevice (device: 0, name: METAL, pci bus id: <undefined>)\n"
     ]
    },
    {
     "data": {
      "text/plain": "(TensorShape([9460, 150]), TensorShape([1183, 150]), (1183, 150))"
     },
     "execution_count": 4,
     "metadata": {},
     "output_type": "execute_result"
    }
   ],
   "source": [
    "# define dependent and non dependent variables\n",
    "y = df['Quantity Sold (kilo)']\n",
    "x = df.drop(columns=['Quantity Sold (kilo)'], axis=1)\n",
    "\n",
    "# split the dataset 0.7, 0.2, 0.1\n",
    "x_train, x_temp, y_train, y_temp = train_test_split(x, y, test_size=0.2, random_state=42)\n",
    "x_eval, x_test, y_eval, y_test = train_test_split(x_temp, y_temp, test_size=0.5, random_state=42)\n",
    "\n",
    "# convert to tensor arrays\n",
    "x_train_tensor = tf.constant(x_train, dtype=tf.float32)\n",
    "y_train_tensor = tf.constant(y_train, dtype=tf.float32)\n",
    "x_eval_tensor = tf.constant(x_eval, dtype=tf.float32)\n",
    "y_eval_tensor = tf.constant(y_eval, dtype=tf.float32)\n",
    "\n",
    "x_train_tensor.shape, x_eval_tensor.shape, x_test.shape"
   ],
   "metadata": {
    "collapsed": false,
    "ExecuteTime": {
     "end_time": "2024-01-28T16:21:00.621585Z",
     "start_time": "2024-01-28T16:21:00.540270Z"
    }
   },
   "id": "87771c7557fd3e35"
  },
  {
   "cell_type": "code",
   "execution_count": 5,
   "outputs": [
    {
     "data": {
      "text/plain": "     Quantity Sold (kilo)  Unit Selling Price (RMB/kg)  \\\n524                0.5852                     7.720000   \n282                1.0000                     4.366667   \n584                1.0000                     4.900000   \n\n     Item Name_7 colour pepper   Item Name_agaricus bisporus   \\\n524                       False                         False   \n282                       False                         False   \n584                       False                         False   \n\n     Item Name_aihao  Item Name_amaranth   Item Name_apricot bao mushroom   \\\n524            False                False                            False   \n282            False                False                            False   \n584            False                False                            False   \n\n     Item Name_basil   Item Name_bell pepper   Item Name_big broccoli  ...  \\\n524             False                   False                   False  ...   \n282             False                   False                   False  ...   \n584             False                   False                   False  ...   \n\n     Item Name_yuxingcao   Item Name_zhijiang red bolt   \\\n524                 False                         False   \n282                  True                         False   \n584                  True                         False   \n\n     Item Name_zhimaxiancai  Item Name_zhuyecai   Category Name_aquatic  \\\n524                   False                False                  False   \n282                   False                False                  False   \n584                   False                False                  False   \n\n     Category Name_cabbage  Category Name_capsicum  Category Name_flower  \\\n524                  False                   False                  True   \n282                  False                   False                  True   \n584                  False                   False                  True   \n\n     Category Name_mushroom  Category Name_solanum  \n524                   False                  False  \n282                   False                  False  \n584                   False                  False  \n\n[3 rows x 151 columns]",
      "text/html": "<div>\n<style scoped>\n    .dataframe tbody tr th:only-of-type {\n        vertical-align: middle;\n    }\n\n    .dataframe tbody tr th {\n        vertical-align: top;\n    }\n\n    .dataframe thead th {\n        text-align: right;\n    }\n</style>\n<table border=\"1\" class=\"dataframe\">\n  <thead>\n    <tr style=\"text-align: right;\">\n      <th></th>\n      <th>Quantity Sold (kilo)</th>\n      <th>Unit Selling Price (RMB/kg)</th>\n      <th>Item Name_7 colour pepper</th>\n      <th>Item Name_agaricus bisporus</th>\n      <th>Item Name_aihao</th>\n      <th>Item Name_amaranth</th>\n      <th>Item Name_apricot bao mushroom</th>\n      <th>Item Name_basil</th>\n      <th>Item Name_bell pepper</th>\n      <th>Item Name_big broccoli</th>\n      <th>...</th>\n      <th>Item Name_yuxingcao</th>\n      <th>Item Name_zhijiang red bolt</th>\n      <th>Item Name_zhimaxiancai</th>\n      <th>Item Name_zhuyecai</th>\n      <th>Category Name_aquatic</th>\n      <th>Category Name_cabbage</th>\n      <th>Category Name_capsicum</th>\n      <th>Category Name_flower</th>\n      <th>Category Name_mushroom</th>\n      <th>Category Name_solanum</th>\n    </tr>\n  </thead>\n  <tbody>\n    <tr>\n      <th>524</th>\n      <td>0.5852</td>\n      <td>7.720000</td>\n      <td>False</td>\n      <td>False</td>\n      <td>False</td>\n      <td>False</td>\n      <td>False</td>\n      <td>False</td>\n      <td>False</td>\n      <td>False</td>\n      <td>...</td>\n      <td>False</td>\n      <td>False</td>\n      <td>False</td>\n      <td>False</td>\n      <td>False</td>\n      <td>False</td>\n      <td>False</td>\n      <td>True</td>\n      <td>False</td>\n      <td>False</td>\n    </tr>\n    <tr>\n      <th>282</th>\n      <td>1.0000</td>\n      <td>4.366667</td>\n      <td>False</td>\n      <td>False</td>\n      <td>False</td>\n      <td>False</td>\n      <td>False</td>\n      <td>False</td>\n      <td>False</td>\n      <td>False</td>\n      <td>...</td>\n      <td>True</td>\n      <td>False</td>\n      <td>False</td>\n      <td>False</td>\n      <td>False</td>\n      <td>False</td>\n      <td>False</td>\n      <td>True</td>\n      <td>False</td>\n      <td>False</td>\n    </tr>\n    <tr>\n      <th>584</th>\n      <td>1.0000</td>\n      <td>4.900000</td>\n      <td>False</td>\n      <td>False</td>\n      <td>False</td>\n      <td>False</td>\n      <td>False</td>\n      <td>False</td>\n      <td>False</td>\n      <td>False</td>\n      <td>...</td>\n      <td>True</td>\n      <td>False</td>\n      <td>False</td>\n      <td>False</td>\n      <td>False</td>\n      <td>False</td>\n      <td>False</td>\n      <td>True</td>\n      <td>False</td>\n      <td>False</td>\n    </tr>\n  </tbody>\n</table>\n<p>3 rows × 151 columns</p>\n</div>"
     },
     "execution_count": 5,
     "metadata": {},
     "output_type": "execute_result"
    }
   ],
   "source": [
    "# save testing dataset\n",
    "df_test = pd.concat([y_test.reset_index(drop=True), x_test.reset_index(drop=True)], axis=1)\n",
    "df_test.to_csv('../../datasets/testing_dataset.csv')\n",
    "df_test.sample(3)"
   ],
   "metadata": {
    "collapsed": false,
    "ExecuteTime": {
     "end_time": "2024-01-28T16:21:00.655785Z",
     "start_time": "2024-01-28T16:21:00.621008Z"
    }
   },
   "id": "f2ad927015ae9653"
  },
  {
   "cell_type": "code",
   "execution_count": 6,
   "outputs": [],
   "source": [
    "# convert to tensor arrays\n",
    "x_test_tensor = tf.constant(x_test, dtype=tf.float32)\n",
    "y_test_tensor = tf.constant(y_test, dtype=tf.float32)"
   ],
   "metadata": {
    "collapsed": false,
    "ExecuteTime": {
     "end_time": "2024-01-28T16:21:00.664946Z",
     "start_time": "2024-01-28T16:21:00.654013Z"
    }
   },
   "id": "d4f2882c044068f4"
  },
  {
   "cell_type": "code",
   "execution_count": 7,
   "outputs": [
    {
     "name": "stdout",
     "output_type": "stream",
     "text": [
      "Epoch 1/20\n"
     ]
    },
    {
     "name": "stderr",
     "output_type": "stream",
     "text": [
      "2024-01-28 21:51:06.532754: I tensorflow/core/grappler/optimizers/custom_graph_optimizer_registry.cc:117] Plugin optimizer for device_type GPU is enabled.\n"
     ]
    },
    {
     "name": "stdout",
     "output_type": "stream",
     "text": [
      "296/296 [==============================] - 7s 18ms/step - loss: 0.4480 - mae: 0.4480 - val_loss: 0.3106 - val_mae: 0.3106\n",
      "Epoch 2/20\n",
      "296/296 [==============================] - 5s 16ms/step - loss: 0.2626 - mae: 0.2626 - val_loss: 0.1994 - val_mae: 0.1994\n",
      "Epoch 3/20\n",
      "296/296 [==============================] - 5s 16ms/step - loss: 0.1891 - mae: 0.1891 - val_loss: 0.1669 - val_mae: 0.1669\n",
      "Epoch 4/20\n",
      "296/296 [==============================] - 5s 15ms/step - loss: 0.1739 - mae: 0.1739 - val_loss: 0.1553 - val_mae: 0.1553\n",
      "Epoch 5/20\n",
      "296/296 [==============================] - 4s 15ms/step - loss: 0.1587 - mae: 0.1587 - val_loss: 0.1366 - val_mae: 0.1366\n",
      "Epoch 6/20\n",
      "296/296 [==============================] - 4s 15ms/step - loss: 0.1375 - mae: 0.1375 - val_loss: 0.1186 - val_mae: 0.1186\n",
      "Epoch 7/20\n",
      "296/296 [==============================] - 4s 15ms/step - loss: 0.1196 - mae: 0.1196 - val_loss: 0.1060 - val_mae: 0.1060\n",
      "Epoch 8/20\n",
      "296/296 [==============================] - 4s 15ms/step - loss: 0.1118 - mae: 0.1118 - val_loss: 0.0985 - val_mae: 0.0985\n",
      "Epoch 9/20\n",
      "296/296 [==============================] - 4s 15ms/step - loss: 0.1061 - mae: 0.1061 - val_loss: 0.0953 - val_mae: 0.0953\n",
      "Epoch 10/20\n",
      "296/296 [==============================] - 4s 15ms/step - loss: 0.1012 - mae: 0.1012 - val_loss: 0.0899 - val_mae: 0.0899\n",
      "Epoch 11/20\n",
      "296/296 [==============================] - 5s 15ms/step - loss: 0.0964 - mae: 0.0964 - val_loss: 0.0872 - val_mae: 0.0872\n",
      "Epoch 12/20\n",
      "296/296 [==============================] - 4s 15ms/step - loss: 0.0914 - mae: 0.0914 - val_loss: 0.0820 - val_mae: 0.0820\n",
      "Epoch 13/20\n",
      "296/296 [==============================] - 4s 15ms/step - loss: 0.0882 - mae: 0.0882 - val_loss: 0.0779 - val_mae: 0.0779\n",
      "Epoch 14/20\n",
      "296/296 [==============================] - 4s 15ms/step - loss: 0.0836 - mae: 0.0836 - val_loss: 0.0755 - val_mae: 0.0755\n",
      "Epoch 15/20\n",
      "296/296 [==============================] - 4s 15ms/step - loss: 0.0814 - mae: 0.0814 - val_loss: 0.0746 - val_mae: 0.0746\n",
      "Epoch 16/20\n",
      "296/296 [==============================] - 4s 15ms/step - loss: 0.0798 - mae: 0.0798 - val_loss: 0.0755 - val_mae: 0.0755\n",
      "Epoch 17/20\n",
      "296/296 [==============================] - 4s 15ms/step - loss: 0.0786 - mae: 0.0786 - val_loss: 0.0706 - val_mae: 0.0706\n",
      "Epoch 18/20\n",
      "296/296 [==============================] - 4s 15ms/step - loss: 0.0765 - mae: 0.0765 - val_loss: 0.0695 - val_mae: 0.0695\n",
      "Epoch 19/20\n",
      "296/296 [==============================] - 5s 15ms/step - loss: 0.0758 - mae: 0.0758 - val_loss: 0.0689 - val_mae: 0.0689\n",
      "Epoch 20/20\n",
      "296/296 [==============================] - 4s 15ms/step - loss: 0.0757 - mae: 0.0757 - val_loss: 0.0743 - val_mae: 0.0743\n"
     ]
    }
   ],
   "source": [
    "# model\n",
    "model = tf.keras.Sequential()\n",
    "model.add(tf.keras.layers.Dense(150, activation='relu', input_shape=(x_train_tensor.shape[1],)))\n",
    "model.add(tf.keras.layers.Reshape((1, 150))) \n",
    "model.add(tf.keras.layers.LSTM(128, return_sequences=True))\n",
    "model.add(tf.keras.layers.Dense(64, activation='relu'))\n",
    "model.add(tf.keras.layers.Dense(32, activation='relu'))\n",
    "model.add(tf.keras.layers.LSTM(16))\n",
    "model.add(tf.keras.layers.Dense(4, activation='relu'))\n",
    "model.add(tf.keras.layers.Dense(1, activation='linear'))\n",
    "\n",
    "# compile model\n",
    "model.compile(optimizer=tf.keras.optimizers.legacy.Adam(learning_rate=5e-5), loss='mae', metrics=['mae'])\n",
    "\n",
    "epoch_number = 20\n",
    "\n",
    "# train model and get history\n",
    "history = model.fit(x_train_tensor, y_train_tensor, epochs=epoch_number, validation_data=(x_eval_tensor, y_eval_tensor))"
   ],
   "metadata": {
    "collapsed": false,
    "ExecuteTime": {
     "end_time": "2024-01-28T16:22:37.244638Z",
     "start_time": "2024-01-28T16:21:05.213720Z"
    }
   },
   "id": "8b436d40b14f1f96"
  },
  {
   "cell_type": "code",
   "execution_count": 8,
   "outputs": [],
   "source": [
    "import matplotlib.pyplot as plt"
   ],
   "metadata": {
    "collapsed": false,
    "ExecuteTime": {
     "end_time": "2024-01-28T16:22:39.933616Z",
     "start_time": "2024-01-28T16:22:39.720131Z"
    }
   },
   "id": "6463930abb54b395"
  },
  {
   "cell_type": "code",
   "execution_count": 9,
   "outputs": [
    {
     "data": {
      "text/plain": "<Figure size 640x480 with 1 Axes>",
      "image/png": "[encoded data removed]"
     },
     "metadata": {},
     "output_type": "display_data"
    }
   ],
   "source": [
    "# plot loss with respect to epoch number\n",
    "x_range = range(1, epoch_number + 1)\n",
    "loss = history.history['loss']\n",
    "val_loss = history.history['val_loss']\n",
    "plt.plot(x_range, loss, label='Training loss')\n",
    "plt.plot(x_range, val_loss, label='Validation loss')\n",
    "plt.xlabel('epoch')\n",
    "plt.ylabel('loss')\n",
    "plt.legend()\n",
    "plt.grid(True, linewidth = 0.5, color = 'y', linestyle = '--')"
   ],
   "metadata": {
    "collapsed": false,
    "ExecuteTime": {
     "end_time": "2024-01-28T16:22:40.584750Z",
     "start_time": "2024-01-28T16:22:40.418686Z"
    }
   },
   "id": "edd889b97d10a84"
  },
  {
   "cell_type": "code",
   "execution_count": 11,
   "outputs": [
    {
     "name": "stdout",
     "output_type": "stream",
     "text": [
      "Epoch 1/12\n",
      "296/296 [==============================] - 6s 17ms/step - loss: 0.4324 - mae: 0.4324 - val_loss: 0.2950 - val_mae: 0.2950\n",
      "Epoch 2/12\n",
      "296/296 [==============================] - 5s 15ms/step - loss: 0.2489 - mae: 0.2489 - val_loss: 0.1825 - val_mae: 0.1825\n",
      "Epoch 3/12\n",
      "296/296 [==============================] - 4s 15ms/step - loss: 0.1813 - mae: 0.1813 - val_loss: 0.1608 - val_mae: 0.1608\n",
      "Epoch 4/12\n",
      "296/296 [==============================] - 4s 15ms/step - loss: 0.1626 - mae: 0.1626 - val_loss: 0.1397 - val_mae: 0.1397\n",
      "Epoch 5/12\n",
      "296/296 [==============================] - 4s 15ms/step - loss: 0.1363 - mae: 0.1363 - val_loss: 0.1137 - val_mae: 0.1137\n",
      "Epoch 6/12\n",
      "296/296 [==============================] - 5s 16ms/step - loss: 0.1153 - mae: 0.1153 - val_loss: 0.0988 - val_mae: 0.0988\n",
      "Epoch 7/12\n",
      "296/296 [==============================] - 4s 15ms/step - loss: 0.1012 - mae: 0.1012 - val_loss: 0.0911 - val_mae: 0.0911\n",
      "Epoch 8/12\n",
      "296/296 [==============================] - 4s 15ms/step - loss: 0.0919 - mae: 0.0919 - val_loss: 0.0829 - val_mae: 0.0829\n",
      "Epoch 9/12\n",
      "296/296 [==============================] - 4s 15ms/step - loss: 0.0879 - mae: 0.0879 - val_loss: 0.0783 - val_mae: 0.0783\n",
      "Epoch 10/12\n",
      "296/296 [==============================] - 4s 15ms/step - loss: 0.0847 - mae: 0.0847 - val_loss: 0.0769 - val_mae: 0.0769\n",
      "Epoch 11/12\n",
      "296/296 [==============================] - 4s 15ms/step - loss: 0.0826 - mae: 0.0826 - val_loss: 0.0765 - val_mae: 0.0765\n",
      "Epoch 12/12\n",
      "296/296 [==============================] - 4s 15ms/step - loss: 0.0806 - mae: 0.0806 - val_loss: 0.0730 - val_mae: 0.0730\n"
     ]
    }
   ],
   "source": [
    "# final_model\n",
    "final_model = tf.keras.Sequential()\n",
    "final_model.add(tf.keras.layers.Dense(150, activation='relu', input_shape=(x_train_tensor.shape[1],)))\n",
    "final_model.add(tf.keras.layers.Reshape((1, 150))) \n",
    "final_model.add(tf.keras.layers.LSTM(128, return_sequences=True))\n",
    "final_model.add(tf.keras.layers.Dense(64, activation='relu'))\n",
    "final_model.add(tf.keras.layers.Dense(32, activation='relu'))\n",
    "final_model.add(tf.keras.layers.LSTM(16))\n",
    "final_model.add(tf.keras.layers.Dense(4, activation='relu'))\n",
    "final_model.add(tf.keras.layers.Dense(1, activation='linear'))\n",
    "\n",
    "# compile model\n",
    "final_model.compile(optimizer=tf.keras.optimizers.legacy.Adam(learning_rate=5e-5), loss='mae', metrics=['mae'])\n",
    "\n",
    "epoch_number = 12\n",
    "\n",
    "# train model and get history\n",
    "history = final_model.fit(x_train_tensor, y_train_tensor, epochs=epoch_number, validation_data=(x_eval_tensor, y_eval_tensor))"
   ],
   "metadata": {
    "collapsed": false,
    "ExecuteTime": {
     "end_time": "2024-01-28T16:25:03.090437Z",
     "start_time": "2024-01-28T16:24:07.173505Z"
    }
   },
   "id": "8b01720110040e7f"
  },
  {
   "cell_type": "code",
   "execution_count": 12,
   "outputs": [
    {
     "name": "stdout",
     "output_type": "stream",
     "text": [
      "Model: \"sequential_2\"\n",
      "_________________________________________________________________\n",
      " Layer (type)                Output Shape              Param #   \n",
      "=================================================================\n",
      " dense_10 (Dense)            (None, 150)               22650     \n",
      "                                                                 \n",
      " reshape_2 (Reshape)         (None, 1, 150)            0         \n",
      "                                                                 \n",
      " lstm_4 (LSTM)               (None, 1, 128)            142848    \n",
      "                                                                 \n",
      " dense_11 (Dense)            (None, 1, 64)             8256      \n",
      "                                                                 \n",
      " dense_12 (Dense)            (None, 1, 32)             2080      \n",
      "                                                                 \n",
      " lstm_5 (LSTM)               (None, 16)                3136      \n",
      "                                                                 \n",
      " dense_13 (Dense)            (None, 4)                 68        \n",
      "                                                                 \n",
      " dense_14 (Dense)            (None, 1)                 5         \n",
      "                                                                 \n",
      "=================================================================\n",
      "Total params: 179043 (699.39 KB)\n",
      "Trainable params: 179043 (699.39 KB)\n",
      "Non-trainable params: 0 (0.00 Byte)\n",
      "_________________________________________________________________\n"
     ]
    }
   ],
   "source": [
    "final_model.summary()"
   ],
   "metadata": {
    "collapsed": false,
    "ExecuteTime": {
     "end_time": "2024-01-28T16:25:05.199700Z",
     "start_time": "2024-01-28T16:25:05.188467Z"
    }
   },
   "id": "e343e8db0446aeb0"
  },
  {
   "cell_type": "code",
   "execution_count": 13,
   "outputs": [
    {
     "name": "stdout",
     "output_type": "stream",
     "text": [
      "37/37 [==============================] - 0s 8ms/step - loss: 0.0904 - mae: 0.0904\n"
     ]
    },
    {
     "data": {
      "text/plain": "[0.0903690978884697, 0.0903690978884697]"
     },
     "execution_count": 13,
     "metadata": {},
     "output_type": "execute_result"
    }
   ],
   "source": [
    "# view loss for testing values\n",
    "final_model.evaluate(x_test_tensor, y_test_tensor)"
   ],
   "metadata": {
    "collapsed": false,
    "ExecuteTime": {
     "end_time": "2024-01-28T16:25:06.341370Z",
     "start_time": "2024-01-28T16:25:05.949820Z"
    }
   },
   "id": "69956a15af34e265"
  },
  {
   "cell_type": "code",
   "execution_count": 14,
   "outputs": [
    {
     "name": "stdout",
     "output_type": "stream",
     "text": [
      "37/37 [==============================] - 1s 7ms/step\n"
     ]
    },
    {
     "data": {
      "text/plain": "array([[0.17497046],\n       [0.26375017],\n       [0.3980878 ],\n       [0.37304384],\n       [0.31077904]], dtype=float32)"
     },
     "execution_count": 14,
     "metadata": {},
     "output_type": "execute_result"
    }
   ],
   "source": [
    "# predict sample value set\n",
    "y_predictions = final_model.predict(x_test_tensor)\n",
    "y_predictions[:5]"
   ],
   "metadata": {
    "collapsed": false,
    "ExecuteTime": {
     "end_time": "2024-01-28T16:25:14.420797Z",
     "start_time": "2024-01-28T16:25:13.623219Z"
    }
   },
   "id": "af247d91cef66b79"
  },
  {
   "cell_type": "code",
   "execution_count": 15,
   "outputs": [
    {
     "data": {
      "text/plain": "<tf.Tensor: shape=(5,), dtype=float32, numpy=\narray([0.2404    , 0.2775    , 0.43416667, 0.36781818, 0.259     ],\n      dtype=float32)>"
     },
     "execution_count": 15,
     "metadata": {},
     "output_type": "execute_result"
    }
   ],
   "source": [
    "# view actual values\n",
    "y_test_tensor[:5]"
   ],
   "metadata": {
    "collapsed": false,
    "ExecuteTime": {
     "end_time": "2024-01-28T16:25:15.307916Z",
     "start_time": "2024-01-28T16:25:15.299685Z"
    }
   },
   "id": "363d820b101a1bb6"
  },
  {
   "cell_type": "code",
   "outputs": [],
   "source": [
    "from sklearn.metrics import mean_squared_error"
   ],
   "metadata": {
    "collapsed": false,
    "ExecuteTime": {
     "end_time": "2024-01-28T16:25:22.912541Z",
     "start_time": "2024-01-28T16:25:22.908409Z"
    }
   },
   "id": "c99e404f9acbd47f",
   "execution_count": 16
  },
  {
   "cell_type": "code",
   "outputs": [
    {
     "data": {
      "text/plain": "0.18970135"
     },
     "execution_count": 17,
     "metadata": {},
     "output_type": "execute_result"
    }
   ],
   "source": [
    "mean_squared_error(y_test_tensor, y_predictions)"
   ],
   "metadata": {
    "collapsed": false,
    "ExecuteTime": {
     "end_time": "2024-01-28T16:25:23.841384Z",
     "start_time": "2024-01-28T16:25:23.838866Z"
    }
   },
   "id": "d4c605fb82a851e4",
   "execution_count": 17
  },
  {
   "cell_type": "code",
   "outputs": [
    {
     "data": {
      "text/plain": "[<matplotlib.lines.Line2D at 0x2a513e280>]"
     },
     "execution_count": 18,
     "metadata": {},
     "output_type": "execute_result"
    },
    {
     "data": {
      "text/plain": "<Figure size 640x480 with 1 Axes>",
      "image/png": "[encoded data removed]"
     },
     "metadata": {},
     "output_type": "display_data"
    }
   ],
   "source": [
    "x = [0 , 1.2]\n",
    "y = x\n",
    "\n",
    "plt.scatter(y_test_tensor, y_predictions)\n",
    "plt.plot(x, y, color='black')"
   ],
   "metadata": {
    "collapsed": false,
    "ExecuteTime": {
     "end_time": "2024-01-28T16:25:31.997554Z",
     "start_time": "2024-01-28T16:25:31.712880Z"
    }
   },
   "id": "2a3ad49da8c46cf1",
   "execution_count": 18
  },
  {
   "cell_type": "code",
   "execution_count": 19,
   "outputs": [
    {
     "name": "stdout",
     "output_type": "stream",
     "text": [
      "INFO:tensorflow:Assets written to: sales_prediction_model/assets\n"
     ]
    },
    {
     "name": "stderr",
     "output_type": "stream",
     "text": [
      "INFO:tensorflow:Assets written to: sales_prediction_model/assets\n"
     ]
    }
   ],
   "source": [
    "# save final model\n",
    "final_model.save('sales_prediction_model')"
   ],
   "metadata": {
    "collapsed": false,
    "ExecuteTime": {
     "end_time": "2024-01-28T16:25:39.657987Z",
     "start_time": "2024-01-28T16:25:37.400514Z"
    }
   },
   "id": "46f2cd66a29e1bc7"
  }
 ],
 "metadata": {
  "kernelspec": {
   "display_name": "Python 3",
   "language": "python",
   "name": "python3"
  },
  "language_info": {
   "codemirror_mode": {
    "name": "ipython",
    "version": 2
   },
   "file_extension": ".py",
   "mimetype": "text/x-python",
   "name": "python",
   "nbconvert_exporter": "python",
   "pygments_lexer": "ipython2",
   "version": "2.7.6"
  }
 },
 "nbformat": 4,
 "nbformat_minor": 5
}
