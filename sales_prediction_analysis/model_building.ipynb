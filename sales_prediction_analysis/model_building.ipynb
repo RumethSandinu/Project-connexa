{
 "cells": [
  {
   "cell_type": "code",
   "execution_count": 1,
   "id": "initial_id",
   "metadata": {
    "collapsed": true,
    "ExecuteTime": {
     "end_time": "2024-01-22T14:19:50.663137Z",
     "start_time": "2024-01-22T14:19:50.206197Z"
    }
   },
   "outputs": [],
   "source": [
    "import pandas as pd"
   ]
  },
  {
   "cell_type": "code",
   "execution_count": 2,
   "outputs": [
    {
     "data": {
      "text/plain": "       Quantity Sold (kilo)  Unit Selling Price (RMB/kg)  \\\n3812               0.191000                         29.6   \n976                0.394364                          3.4   \n10722              1.000000                          4.5   \n\n       Item Name_7 colour pepper   Item Name_agaricus bisporus   \\\n3812                        False                         False   \n976                         False                         False   \n10722                       False                         False   \n\n       Item Name_aihao  Item Name_amaranth   Item Name_apricot bao mushroom   \\\n3812             False                False                            False   \n976              False                False                            False   \n10722            False                False                            False   \n\n       Item Name_basil   Item Name_bell pepper   Item Name_big broccoli  ...  \\\n3812              False                   False                   False  ...   \n976               False                   False                   False  ...   \n10722             False                   False                   False  ...   \n\n       Item Name_yuxingcao   Item Name_zhijiang red bolt   \\\n3812                  False                         False   \n976                   False                         False   \n10722                 False                         False   \n\n       Item Name_zhimaxiancai  Item Name_zhuyecai   Category Name_aquatic  \\\n3812                    False                False                  False   \n976                     False                False                  False   \n10722                   False                False                  False   \n\n       Category Name_cabbage  Category Name_capsicum  Category Name_flower  \\\n3812                   False                   False                 False   \n976                    False                   False                  True   \n10722                  False                    True                 False   \n\n       Category Name_mushroom  Category Name_solanum  \n3812                     True                  False  \n976                     False                  False  \n10722                   False                  False  \n\n[3 rows x 151 columns]",
      "text/html": "<div>\n<style scoped>\n    .dataframe tbody tr th:only-of-type {\n        vertical-align: middle;\n    }\n\n    .dataframe tbody tr th {\n        vertical-align: top;\n    }\n\n    .dataframe thead th {\n        text-align: right;\n    }\n</style>\n<table border=\"1\" class=\"dataframe\">\n  <thead>\n    <tr style=\"text-align: right;\">\n      <th></th>\n      <th>Quantity Sold (kilo)</th>\n      <th>Unit Selling Price (RMB/kg)</th>\n      <th>Item Name_7 colour pepper</th>\n      <th>Item Name_agaricus bisporus</th>\n      <th>Item Name_aihao</th>\n      <th>Item Name_amaranth</th>\n      <th>Item Name_apricot bao mushroom</th>\n      <th>Item Name_basil</th>\n      <th>Item Name_bell pepper</th>\n      <th>Item Name_big broccoli</th>\n      <th>...</th>\n      <th>Item Name_yuxingcao</th>\n      <th>Item Name_zhijiang red bolt</th>\n      <th>Item Name_zhimaxiancai</th>\n      <th>Item Name_zhuyecai</th>\n      <th>Category Name_aquatic</th>\n      <th>Category Name_cabbage</th>\n      <th>Category Name_capsicum</th>\n      <th>Category Name_flower</th>\n      <th>Category Name_mushroom</th>\n      <th>Category Name_solanum</th>\n    </tr>\n  </thead>\n  <tbody>\n    <tr>\n      <th>3812</th>\n      <td>0.191000</td>\n      <td>29.6</td>\n      <td>False</td>\n      <td>False</td>\n      <td>False</td>\n      <td>False</td>\n      <td>False</td>\n      <td>False</td>\n      <td>False</td>\n      <td>False</td>\n      <td>...</td>\n      <td>False</td>\n      <td>False</td>\n      <td>False</td>\n      <td>False</td>\n      <td>False</td>\n      <td>False</td>\n      <td>False</td>\n      <td>False</td>\n      <td>True</td>\n      <td>False</td>\n    </tr>\n    <tr>\n      <th>976</th>\n      <td>0.394364</td>\n      <td>3.4</td>\n      <td>False</td>\n      <td>False</td>\n      <td>False</td>\n      <td>False</td>\n      <td>False</td>\n      <td>False</td>\n      <td>False</td>\n      <td>False</td>\n      <td>...</td>\n      <td>False</td>\n      <td>False</td>\n      <td>False</td>\n      <td>False</td>\n      <td>False</td>\n      <td>False</td>\n      <td>False</td>\n      <td>True</td>\n      <td>False</td>\n      <td>False</td>\n    </tr>\n    <tr>\n      <th>10722</th>\n      <td>1.000000</td>\n      <td>4.5</td>\n      <td>False</td>\n      <td>False</td>\n      <td>False</td>\n      <td>False</td>\n      <td>False</td>\n      <td>False</td>\n      <td>False</td>\n      <td>False</td>\n      <td>...</td>\n      <td>False</td>\n      <td>False</td>\n      <td>False</td>\n      <td>False</td>\n      <td>False</td>\n      <td>False</td>\n      <td>True</td>\n      <td>False</td>\n      <td>False</td>\n      <td>False</td>\n    </tr>\n  </tbody>\n</table>\n<p>3 rows × 151 columns</p>\n</div>"
     },
     "execution_count": 2,
     "metadata": {},
     "output_type": "execute_result"
    }
   ],
   "source": [
    "# load pre-processed dataset\n",
    "df = pd.read_csv('../../datasets/pre_processed_dataset.csv')\n",
    "df.sample(3)"
   ],
   "metadata": {
    "collapsed": false,
    "ExecuteTime": {
     "end_time": "2024-01-22T14:19:50.952973Z",
     "start_time": "2024-01-22T14:19:50.876119Z"
    }
   },
   "id": "f6a76d43f2da9e88"
  },
  {
   "cell_type": "code",
   "execution_count": 3,
   "outputs": [
    {
     "name": "stderr",
     "output_type": "stream",
     "text": [
      "/Users/rumethsandinu/Library/Python/3.9/lib/python/site-packages/urllib3/__init__.py:34: NotOpenSSLWarning: urllib3 v2 only supports OpenSSL 1.1.1+, currently the 'ssl' module is compiled with 'LibreSSL 2.8.3'. See: https://github.com/urllib3/urllib3/issues/3020\n",
      "  warnings.warn(\n"
     ]
    }
   ],
   "source": [
    "from sklearn.model_selection import train_test_split\n",
    "import tensorflow as tf"
   ],
   "metadata": {
    "collapsed": false,
    "ExecuteTime": {
     "end_time": "2024-01-22T14:19:55.377384Z",
     "start_time": "2024-01-22T14:19:51.685684Z"
    }
   },
   "id": "278bdc9d61ee98ad"
  },
  {
   "cell_type": "code",
   "execution_count": 4,
   "outputs": [
    {
     "name": "stderr",
     "output_type": "stream",
     "text": [
      "2024-01-22 19:49:55.382988: I metal_plugin/src/device/metal_device.cc:1154] Metal device set to: Apple M2\n",
      "2024-01-22 19:49:55.383006: I metal_plugin/src/device/metal_device.cc:296] systemMemory: 8.00 GB\n",
      "2024-01-22 19:49:55.383011: I metal_plugin/src/device/metal_device.cc:313] maxCacheSize: 2.67 GB\n",
      "2024-01-22 19:49:55.383039: I tensorflow/core/common_runtime/pluggable_device/pluggable_device_factory.cc:306] Could not identify NUMA node of platform GPU ID 0, defaulting to 0. Your kernel may not have been built with NUMA support.\n",
      "2024-01-22 19:49:55.383051: I tensorflow/core/common_runtime/pluggable_device/pluggable_device_factory.cc:272] Created TensorFlow device (/job:localhost/replica:0/task:0/device:GPU:0 with 0 MB memory) -> physical PluggableDevice (device: 0, name: METAL, pci bus id: <undefined>)\n"
     ]
    },
    {
     "data": {
      "text/plain": "(TensorShape([9460, 150]), TensorShape([1183, 150]), (1183, 150))"
     },
     "execution_count": 4,
     "metadata": {},
     "output_type": "execute_result"
    }
   ],
   "source": [
    "# define dependent and non dependent variables\n",
    "y = df['Quantity Sold (kilo)']\n",
    "x = df.drop(columns=['Quantity Sold (kilo)'], axis=1)\n",
    "\n",
    "# split the dataset 0.8, 0.2, 0.1\n",
    "x_train, x_temp, y_train, y_temp = train_test_split(x, y, test_size=0.2, random_state=42)\n",
    "x_eval, x_test, y_eval, y_test = train_test_split(x_temp, y_temp, test_size=0.5, random_state=42)\n",
    "\n",
    "# convert to tensor arrays\n",
    "x_train_tensor = tf.constant(x_train, dtype=tf.float32)\n",
    "y_train_tensor = tf.constant(y_train, dtype=tf.float32)\n",
    "x_eval_tensor = tf.constant(x_eval, dtype=tf.float32)\n",
    "y_eval_tensor = tf.constant(y_eval, dtype=tf.float32)\n",
    "\n",
    "x_train_tensor.shape, x_eval_tensor.shape, x_test.shape"
   ],
   "metadata": {
    "collapsed": false,
    "ExecuteTime": {
     "end_time": "2024-01-22T14:19:55.457447Z",
     "start_time": "2024-01-22T14:19:55.380070Z"
    }
   },
   "id": "87771c7557fd3e35"
  },
  {
   "cell_type": "code",
   "execution_count": 5,
   "outputs": [
    {
     "data": {
      "text/plain": "      Quantity Sold (kilo)  Unit Selling Price (RMB/kg)  \\\n884               0.610079                          4.0   \n1087              0.462000                          4.8   \n284               1.000000                          1.5   \n\n      Item Name_7 colour pepper   Item Name_agaricus bisporus   \\\n884                        False                         False   \n1087                       False                         False   \n284                        False                         False   \n\n      Item Name_aihao  Item Name_amaranth   Item Name_apricot bao mushroom   \\\n884             False                False                            False   \n1087            False                False                            False   \n284             False                False                            False   \n\n      Item Name_basil   Item Name_bell pepper   Item Name_big broccoli  ...  \\\n884              False                   False                   False  ...   \n1087             False                   False                   False  ...   \n284              False                   False                   False  ...   \n\n      Item Name_yuxingcao   Item Name_zhijiang red bolt   \\\n884                  False                         False   \n1087                 False                         False   \n284                  False                         False   \n\n      Item Name_zhimaxiancai  Item Name_zhuyecai   Category Name_aquatic  \\\n884                    False                False                  False   \n1087                   False                False                  False   \n284                    False                False                  False   \n\n      Category Name_cabbage  Category Name_capsicum  Category Name_flower  \\\n884                   False                   False                  True   \n1087                  False                   False                  True   \n284                   False                   False                  True   \n\n      Category Name_mushroom  Category Name_solanum  \n884                    False                  False  \n1087                   False                  False  \n284                    False                  False  \n\n[3 rows x 151 columns]",
      "text/html": "<div>\n<style scoped>\n    .dataframe tbody tr th:only-of-type {\n        vertical-align: middle;\n    }\n\n    .dataframe tbody tr th {\n        vertical-align: top;\n    }\n\n    .dataframe thead th {\n        text-align: right;\n    }\n</style>\n<table border=\"1\" class=\"dataframe\">\n  <thead>\n    <tr style=\"text-align: right;\">\n      <th></th>\n      <th>Quantity Sold (kilo)</th>\n      <th>Unit Selling Price (RMB/kg)</th>\n      <th>Item Name_7 colour pepper</th>\n      <th>Item Name_agaricus bisporus</th>\n      <th>Item Name_aihao</th>\n      <th>Item Name_amaranth</th>\n      <th>Item Name_apricot bao mushroom</th>\n      <th>Item Name_basil</th>\n      <th>Item Name_bell pepper</th>\n      <th>Item Name_big broccoli</th>\n      <th>...</th>\n      <th>Item Name_yuxingcao</th>\n      <th>Item Name_zhijiang red bolt</th>\n      <th>Item Name_zhimaxiancai</th>\n      <th>Item Name_zhuyecai</th>\n      <th>Category Name_aquatic</th>\n      <th>Category Name_cabbage</th>\n      <th>Category Name_capsicum</th>\n      <th>Category Name_flower</th>\n      <th>Category Name_mushroom</th>\n      <th>Category Name_solanum</th>\n    </tr>\n  </thead>\n  <tbody>\n    <tr>\n      <th>884</th>\n      <td>0.610079</td>\n      <td>4.0</td>\n      <td>False</td>\n      <td>False</td>\n      <td>False</td>\n      <td>False</td>\n      <td>False</td>\n      <td>False</td>\n      <td>False</td>\n      <td>False</td>\n      <td>...</td>\n      <td>False</td>\n      <td>False</td>\n      <td>False</td>\n      <td>False</td>\n      <td>False</td>\n      <td>False</td>\n      <td>False</td>\n      <td>True</td>\n      <td>False</td>\n      <td>False</td>\n    </tr>\n    <tr>\n      <th>1087</th>\n      <td>0.462000</td>\n      <td>4.8</td>\n      <td>False</td>\n      <td>False</td>\n      <td>False</td>\n      <td>False</td>\n      <td>False</td>\n      <td>False</td>\n      <td>False</td>\n      <td>False</td>\n      <td>...</td>\n      <td>False</td>\n      <td>False</td>\n      <td>False</td>\n      <td>False</td>\n      <td>False</td>\n      <td>False</td>\n      <td>False</td>\n      <td>True</td>\n      <td>False</td>\n      <td>False</td>\n    </tr>\n    <tr>\n      <th>284</th>\n      <td>1.000000</td>\n      <td>1.5</td>\n      <td>False</td>\n      <td>False</td>\n      <td>False</td>\n      <td>False</td>\n      <td>False</td>\n      <td>False</td>\n      <td>False</td>\n      <td>False</td>\n      <td>...</td>\n      <td>False</td>\n      <td>False</td>\n      <td>False</td>\n      <td>False</td>\n      <td>False</td>\n      <td>False</td>\n      <td>False</td>\n      <td>True</td>\n      <td>False</td>\n      <td>False</td>\n    </tr>\n  </tbody>\n</table>\n<p>3 rows × 151 columns</p>\n</div>"
     },
     "execution_count": 5,
     "metadata": {},
     "output_type": "execute_result"
    }
   ],
   "source": [
    "# save testing dataset\n",
    "df_test = pd.concat([y_test.reset_index(drop=True), x_test.reset_index(drop=True)], axis=1)\n",
    "df_test.to_csv('../../datasets/testing_dataset.csv')\n",
    "df_test.sample(3)"
   ],
   "metadata": {
    "collapsed": false,
    "ExecuteTime": {
     "end_time": "2024-01-22T14:19:55.490807Z",
     "start_time": "2024-01-22T14:19:55.455964Z"
    }
   },
   "id": "f2ad927015ae9653"
  },
  {
   "cell_type": "code",
   "execution_count": 6,
   "outputs": [],
   "source": [
    "# convert to tensor arrays\n",
    "x_test_tensor = tf.constant(x_test, dtype=tf.float32)\n",
    "y_test_tensor = tf.constant(y_test, dtype=tf.float32)"
   ],
   "metadata": {
    "collapsed": false,
    "ExecuteTime": {
     "end_time": "2024-01-22T14:19:56.370597Z",
     "start_time": "2024-01-22T14:19:56.353380Z"
    }
   },
   "id": "d4f2882c044068f4"
  },
  {
   "cell_type": "code",
   "execution_count": 7,
   "outputs": [
    {
     "name": "stdout",
     "output_type": "stream",
     "text": [
      "Epoch 1/60\n"
     ]
    },
    {
     "name": "stderr",
     "output_type": "stream",
     "text": [
      "2024-01-22 19:49:59.234844: I tensorflow/core/grappler/optimizers/custom_graph_optimizer_registry.cc:117] Plugin optimizer for device_type GPU is enabled.\n"
     ]
    },
    {
     "name": "stdout",
     "output_type": "stream",
     "text": [
      "296/296 [==============================] - 7s 18ms/step - loss: 0.6136 - mae: 0.6136 - val_loss: 0.5885 - val_mae: 0.5885\n",
      "Epoch 2/60\n",
      "296/296 [==============================] - 5s 16ms/step - loss: 0.5791 - mae: 0.5791 - val_loss: 0.5341 - val_mae: 0.5341\n",
      "Epoch 3/60\n",
      "296/296 [==============================] - 5s 15ms/step - loss: 0.5116 - mae: 0.5116 - val_loss: 0.4600 - val_mae: 0.4600\n",
      "Epoch 4/60\n",
      "296/296 [==============================] - 5s 15ms/step - loss: 0.4501 - mae: 0.4501 - val_loss: 0.4104 - val_mae: 0.4104\n",
      "Epoch 5/60\n",
      "296/296 [==============================] - 5s 17ms/step - loss: 0.4076 - mae: 0.4076 - val_loss: 0.3737 - val_mae: 0.3737\n",
      "Epoch 6/60\n",
      "296/296 [==============================] - 5s 16ms/step - loss: 0.3738 - mae: 0.3738 - val_loss: 0.3437 - val_mae: 0.3437\n",
      "Epoch 7/60\n",
      "296/296 [==============================] - 5s 16ms/step - loss: 0.3454 - mae: 0.3454 - val_loss: 0.3185 - val_mae: 0.3185\n",
      "Epoch 8/60\n",
      "296/296 [==============================] - 5s 18ms/step - loss: 0.3218 - mae: 0.3218 - val_loss: 0.2986 - val_mae: 0.2986\n",
      "Epoch 9/60\n",
      "296/296 [==============================] - 5s 17ms/step - loss: 0.3031 - mae: 0.3031 - val_loss: 0.2826 - val_mae: 0.2826\n",
      "Epoch 10/60\n",
      "296/296 [==============================] - 5s 16ms/step - loss: 0.2880 - mae: 0.2880 - val_loss: 0.2693 - val_mae: 0.2693\n",
      "Epoch 11/60\n",
      "296/296 [==============================] - 5s 16ms/step - loss: 0.2760 - mae: 0.2760 - val_loss: 0.2581 - val_mae: 0.2581\n",
      "Epoch 12/60\n",
      "296/296 [==============================] - 5s 16ms/step - loss: 0.2657 - mae: 0.2657 - val_loss: 0.2479 - val_mae: 0.2479\n",
      "Epoch 13/60\n",
      "296/296 [==============================] - 5s 16ms/step - loss: 0.2566 - mae: 0.2566 - val_loss: 0.2393 - val_mae: 0.2393\n",
      "Epoch 14/60\n",
      "296/296 [==============================] - 5s 16ms/step - loss: 0.2488 - mae: 0.2488 - val_loss: 0.2313 - val_mae: 0.2313\n",
      "Epoch 15/60\n",
      "296/296 [==============================] - 5s 15ms/step - loss: 0.2416 - mae: 0.2416 - val_loss: 0.2245 - val_mae: 0.2245\n",
      "Epoch 16/60\n",
      "296/296 [==============================] - 5s 16ms/step - loss: 0.2349 - mae: 0.2349 - val_loss: 0.2180 - val_mae: 0.2180\n",
      "Epoch 17/60\n",
      "296/296 [==============================] - 5s 16ms/step - loss: 0.2283 - mae: 0.2283 - val_loss: 0.2116 - val_mae: 0.2116\n",
      "Epoch 18/60\n",
      "296/296 [==============================] - 4s 15ms/step - loss: 0.2219 - mae: 0.2219 - val_loss: 0.2044 - val_mae: 0.2044\n",
      "Epoch 19/60\n",
      "296/296 [==============================] - 4s 15ms/step - loss: 0.2150 - mae: 0.2150 - val_loss: 0.1981 - val_mae: 0.1981\n",
      "Epoch 20/60\n",
      "296/296 [==============================] - 5s 16ms/step - loss: 0.2083 - mae: 0.2083 - val_loss: 0.1904 - val_mae: 0.1904\n",
      "Epoch 21/60\n",
      "296/296 [==============================] - 5s 16ms/step - loss: 0.2009 - mae: 0.2009 - val_loss: 0.1829 - val_mae: 0.1829\n",
      "Epoch 22/60\n",
      "296/296 [==============================] - 5s 15ms/step - loss: 0.1931 - mae: 0.1931 - val_loss: 0.1746 - val_mae: 0.1746\n",
      "Epoch 23/60\n",
      "296/296 [==============================] - 5s 16ms/step - loss: 0.1846 - mae: 0.1846 - val_loss: 0.1663 - val_mae: 0.1663\n",
      "Epoch 24/60\n",
      "296/296 [==============================] - 5s 15ms/step - loss: 0.1775 - mae: 0.1775 - val_loss: 0.1615 - val_mae: 0.1615\n",
      "Epoch 25/60\n",
      "296/296 [==============================] - 5s 16ms/step - loss: 0.1741 - mae: 0.1741 - val_loss: 0.1599 - val_mae: 0.1599\n",
      "Epoch 26/60\n",
      "296/296 [==============================] - 4s 15ms/step - loss: 0.1717 - mae: 0.1717 - val_loss: 0.1568 - val_mae: 0.1568\n",
      "Epoch 27/60\n",
      "296/296 [==============================] - 5s 15ms/step - loss: 0.1692 - mae: 0.1692 - val_loss: 0.1544 - val_mae: 0.1544\n",
      "Epoch 28/60\n",
      "296/296 [==============================] - 4s 15ms/step - loss: 0.1664 - mae: 0.1664 - val_loss: 0.1519 - val_mae: 0.1519\n",
      "Epoch 29/60\n",
      "296/296 [==============================] - 4s 15ms/step - loss: 0.1636 - mae: 0.1636 - val_loss: 0.1493 - val_mae: 0.1493\n",
      "Epoch 30/60\n",
      "296/296 [==============================] - 4s 15ms/step - loss: 0.1606 - mae: 0.1606 - val_loss: 0.1467 - val_mae: 0.1467\n",
      "Epoch 31/60\n",
      "296/296 [==============================] - 4s 14ms/step - loss: 0.1575 - mae: 0.1575 - val_loss: 0.1436 - val_mae: 0.1436\n",
      "Epoch 32/60\n",
      "296/296 [==============================] - 4s 14ms/step - loss: 0.1541 - mae: 0.1541 - val_loss: 0.1405 - val_mae: 0.1405\n",
      "Epoch 33/60\n",
      "296/296 [==============================] - 4s 15ms/step - loss: 0.1502 - mae: 0.1502 - val_loss: 0.1368 - val_mae: 0.1368\n",
      "Epoch 34/60\n",
      "296/296 [==============================] - 5s 15ms/step - loss: 0.1462 - mae: 0.1462 - val_loss: 0.1333 - val_mae: 0.1333\n",
      "Epoch 35/60\n",
      "296/296 [==============================] - 4s 15ms/step - loss: 0.1422 - mae: 0.1422 - val_loss: 0.1291 - val_mae: 0.1291\n",
      "Epoch 36/60\n",
      "296/296 [==============================] - 4s 15ms/step - loss: 0.1380 - mae: 0.1380 - val_loss: 0.1257 - val_mae: 0.1257\n",
      "Epoch 37/60\n",
      "296/296 [==============================] - 4s 15ms/step - loss: 0.1343 - mae: 0.1343 - val_loss: 0.1227 - val_mae: 0.1227\n",
      "Epoch 38/60\n",
      "296/296 [==============================] - 4s 15ms/step - loss: 0.1309 - mae: 0.1309 - val_loss: 0.1198 - val_mae: 0.1198\n",
      "Epoch 39/60\n",
      "296/296 [==============================] - 4s 15ms/step - loss: 0.1277 - mae: 0.1277 - val_loss: 0.1168 - val_mae: 0.1168\n",
      "Epoch 40/60\n",
      "296/296 [==============================] - 5s 16ms/step - loss: 0.1248 - mae: 0.1248 - val_loss: 0.1143 - val_mae: 0.1143\n",
      "Epoch 41/60\n",
      "296/296 [==============================] - 5s 16ms/step - loss: 0.1222 - mae: 0.1222 - val_loss: 0.1128 - val_mae: 0.1128\n",
      "Epoch 42/60\n",
      "296/296 [==============================] - 5s 15ms/step - loss: 0.1198 - mae: 0.1198 - val_loss: 0.1102 - val_mae: 0.1102\n",
      "Epoch 43/60\n",
      "296/296 [==============================] - 5s 17ms/step - loss: 0.1177 - mae: 0.1177 - val_loss: 0.1086 - val_mae: 0.1086\n",
      "Epoch 44/60\n",
      "296/296 [==============================] - 5s 16ms/step - loss: 0.1159 - mae: 0.1159 - val_loss: 0.1071 - val_mae: 0.1071\n",
      "Epoch 45/60\n",
      "296/296 [==============================] - 4s 15ms/step - loss: 0.1140 - mae: 0.1140 - val_loss: 0.1052 - val_mae: 0.1052\n",
      "Epoch 46/60\n",
      "296/296 [==============================] - 5s 15ms/step - loss: 0.1120 - mae: 0.1120 - val_loss: 0.1039 - val_mae: 0.1039\n",
      "Epoch 47/60\n",
      "296/296 [==============================] - 4s 15ms/step - loss: 0.1106 - mae: 0.1106 - val_loss: 0.1022 - val_mae: 0.1022\n",
      "Epoch 48/60\n",
      "296/296 [==============================] - 4s 15ms/step - loss: 0.1088 - mae: 0.1088 - val_loss: 0.1007 - val_mae: 0.1007\n",
      "Epoch 49/60\n",
      "296/296 [==============================] - 5s 16ms/step - loss: 0.1071 - mae: 0.1071 - val_loss: 0.0989 - val_mae: 0.0989\n",
      "Epoch 50/60\n",
      "296/296 [==============================] - 4s 15ms/step - loss: 0.1053 - mae: 0.1053 - val_loss: 0.0970 - val_mae: 0.0970\n",
      "Epoch 51/60\n",
      "296/296 [==============================] - 4s 15ms/step - loss: 0.1037 - mae: 0.1037 - val_loss: 0.0958 - val_mae: 0.0958\n",
      "Epoch 52/60\n",
      "296/296 [==============================] - 4s 15ms/step - loss: 0.1024 - mae: 0.1024 - val_loss: 0.0944 - val_mae: 0.0944\n",
      "Epoch 53/60\n",
      "296/296 [==============================] - 4s 15ms/step - loss: 0.1015 - mae: 0.1015 - val_loss: 0.0945 - val_mae: 0.0945\n",
      "Epoch 54/60\n",
      "296/296 [==============================] - 4s 15ms/step - loss: 0.1007 - mae: 0.1007 - val_loss: 0.0928 - val_mae: 0.0928\n",
      "Epoch 55/60\n",
      "296/296 [==============================] - 4s 15ms/step - loss: 0.0998 - mae: 0.0998 - val_loss: 0.0924 - val_mae: 0.0924\n",
      "Epoch 56/60\n",
      "296/296 [==============================] - 4s 15ms/step - loss: 0.0993 - mae: 0.0993 - val_loss: 0.0924 - val_mae: 0.0924\n",
      "Epoch 57/60\n",
      "296/296 [==============================] - 4s 15ms/step - loss: 0.0988 - mae: 0.0988 - val_loss: 0.0914 - val_mae: 0.0914\n",
      "Epoch 58/60\n",
      "296/296 [==============================] - 5s 16ms/step - loss: 0.0987 - mae: 0.0987 - val_loss: 0.0912 - val_mae: 0.0912\n",
      "Epoch 59/60\n",
      "296/296 [==============================] - 4s 15ms/step - loss: 0.0986 - mae: 0.0986 - val_loss: 0.0913 - val_mae: 0.0913\n",
      "Epoch 60/60\n",
      "296/296 [==============================] - 4s 15ms/step - loss: 0.0984 - mae: 0.0984 - val_loss: 0.0915 - val_mae: 0.0915\n"
     ]
    }
   ],
   "source": [
    "# model\n",
    "model = tf.keras.Sequential()\n",
    "model.add(tf.keras.layers.Dense(150, activation='relu', input_shape=(x_train_tensor.shape[1],)))\n",
    "model.add(tf.keras.layers.Reshape((1, 150))) \n",
    "model.add(tf.keras.layers.LSTM(128, return_sequences=True))\n",
    "model.add(tf.keras.layers.Dense(64, activation='relu'))\n",
    "model.add(tf.keras.layers.Dense(32, activation='relu'))\n",
    "model.add(tf.keras.layers.LSTM(16))\n",
    "model.add(tf.keras.layers.Dense(4, activation='relu'))\n",
    "model.add(tf.keras.layers.Dense(1, activation='linear'))\n",
    "\n",
    "# compile model\n",
    "model.compile(optimizer=tf.keras.optimizers.legacy.Adam(learning_rate=1e-5), loss='mae', metrics=['mae'])\n",
    "\n",
    "epoch_number = 60\n",
    "\n",
    "# train model and get history\n",
    "history = model.fit(x_train_tensor, y_train_tensor, epochs=epoch_number, validation_data=(x_eval_tensor, y_eval_tensor))"
   ],
   "metadata": {
    "collapsed": false,
    "ExecuteTime": {
     "end_time": "2024-01-22T14:24:34.962931Z",
     "start_time": "2024-01-22T14:19:57.717980Z"
    }
   },
   "id": "8b436d40b14f1f96"
  },
  {
   "cell_type": "code",
   "execution_count": 8,
   "outputs": [],
   "source": [
    "import matplotlib.pyplot as plt"
   ],
   "metadata": {
    "collapsed": false,
    "ExecuteTime": {
     "end_time": "2024-01-22T14:24:35.236650Z",
     "start_time": "2024-01-22T14:24:34.968577Z"
    }
   },
   "id": "6463930abb54b395"
  },
  {
   "cell_type": "code",
   "execution_count": 9,
   "outputs": [
    {
     "data": {
      "text/plain": "<Figure size 640x480 with 1 Axes>",
      "image/png": "[encoded data removed]"
     },
     "metadata": {},
     "output_type": "display_data"
    }
   ],
   "source": [
    "# plot loss with respect to epoch number\n",
    "x_range = range(1, epoch_number + 1)\n",
    "loss = history.history['loss']\n",
    "val_loss = history.history['val_loss']\n",
    "plt.plot(x_range, loss, label='Training loss')\n",
    "plt.plot(x_range, val_loss, label='Validation loss')\n",
    "plt.xlabel('epoch')\n",
    "plt.ylabel('loss')\n",
    "plt.legend()\n",
    "plt.grid(True, linewidth = 0.5, color = 'y', linestyle = '--')"
   ],
   "metadata": {
    "collapsed": false,
    "ExecuteTime": {
     "end_time": "2024-01-22T14:24:35.411363Z",
     "start_time": "2024-01-22T14:24:35.237950Z"
    }
   },
   "id": "edd889b97d10a84"
  },
  {
   "cell_type": "code",
   "execution_count": 10,
   "outputs": [
    {
     "name": "stdout",
     "output_type": "stream",
     "text": [
      "Epoch 1/50\n",
      "296/296 [==============================] - 7s 18ms/step - loss: 0.5372 - mae: 0.5372 - val_loss: 0.4615 - val_mae: 0.4615\n",
      "Epoch 2/50\n",
      "296/296 [==============================] - 5s 17ms/step - loss: 0.4451 - mae: 0.4451 - val_loss: 0.4003 - val_mae: 0.4003\n",
      "Epoch 3/50\n",
      "296/296 [==============================] - 5s 15ms/step - loss: 0.3919 - mae: 0.3919 - val_loss: 0.3525 - val_mae: 0.3525\n",
      "Epoch 4/50\n",
      "296/296 [==============================] - 4s 15ms/step - loss: 0.3470 - mae: 0.3470 - val_loss: 0.3151 - val_mae: 0.3151\n",
      "Epoch 5/50\n",
      "296/296 [==============================] - 5s 15ms/step - loss: 0.3133 - mae: 0.3133 - val_loss: 0.2867 - val_mae: 0.2867\n",
      "Epoch 6/50\n",
      "296/296 [==============================] - 4s 15ms/step - loss: 0.2883 - mae: 0.2883 - val_loss: 0.2655 - val_mae: 0.2655\n",
      "Epoch 7/50\n",
      "296/296 [==============================] - 4s 15ms/step - loss: 0.2693 - mae: 0.2693 - val_loss: 0.2484 - val_mae: 0.2484\n",
      "Epoch 8/50\n",
      "296/296 [==============================] - 4s 15ms/step - loss: 0.2536 - mae: 0.2536 - val_loss: 0.2328 - val_mae: 0.2328\n",
      "Epoch 9/50\n",
      "296/296 [==============================] - 4s 15ms/step - loss: 0.2395 - mae: 0.2395 - val_loss: 0.2187 - val_mae: 0.2187\n",
      "Epoch 10/50\n",
      "296/296 [==============================] - 4s 15ms/step - loss: 0.2263 - mae: 0.2263 - val_loss: 0.2056 - val_mae: 0.2056\n",
      "Epoch 11/50\n",
      "296/296 [==============================] - 5s 16ms/step - loss: 0.2131 - mae: 0.2131 - val_loss: 0.1918 - val_mae: 0.1918\n",
      "Epoch 12/50\n",
      "296/296 [==============================] - 4s 15ms/step - loss: 0.1994 - mae: 0.1994 - val_loss: 0.1769 - val_mae: 0.1769\n",
      "Epoch 13/50\n",
      "296/296 [==============================] - 4s 15ms/step - loss: 0.1868 - mae: 0.1868 - val_loss: 0.1700 - val_mae: 0.1700\n",
      "Epoch 14/50\n",
      "296/296 [==============================] - 4s 15ms/step - loss: 0.1824 - mae: 0.1824 - val_loss: 0.1673 - val_mae: 0.1673\n",
      "Epoch 15/50\n",
      "296/296 [==============================] - 4s 15ms/step - loss: 0.1797 - mae: 0.1797 - val_loss: 0.1650 - val_mae: 0.1650\n",
      "Epoch 16/50\n",
      "296/296 [==============================] - 4s 14ms/step - loss: 0.1773 - mae: 0.1773 - val_loss: 0.1626 - val_mae: 0.1626\n",
      "Epoch 17/50\n",
      "296/296 [==============================] - 4s 15ms/step - loss: 0.1748 - mae: 0.1748 - val_loss: 0.1598 - val_mae: 0.1598\n",
      "Epoch 18/50\n",
      "296/296 [==============================] - 4s 15ms/step - loss: 0.1720 - mae: 0.1720 - val_loss: 0.1574 - val_mae: 0.1574\n",
      "Epoch 19/50\n",
      "296/296 [==============================] - 5s 16ms/step - loss: 0.1691 - mae: 0.1691 - val_loss: 0.1541 - val_mae: 0.1541\n",
      "Epoch 20/50\n",
      "296/296 [==============================] - 5s 15ms/step - loss: 0.1659 - mae: 0.1659 - val_loss: 0.1509 - val_mae: 0.1509\n",
      "Epoch 21/50\n",
      "296/296 [==============================] - 5s 16ms/step - loss: 0.1622 - mae: 0.1622 - val_loss: 0.1474 - val_mae: 0.1474\n",
      "Epoch 22/50\n",
      "296/296 [==============================] - 5s 15ms/step - loss: 0.1583 - mae: 0.1583 - val_loss: 0.1433 - val_mae: 0.1433\n",
      "Epoch 23/50\n",
      "296/296 [==============================] - 5s 15ms/step - loss: 0.1537 - mae: 0.1537 - val_loss: 0.1389 - val_mae: 0.1389\n",
      "Epoch 24/50\n",
      "296/296 [==============================] - 5s 16ms/step - loss: 0.1487 - mae: 0.1487 - val_loss: 0.1339 - val_mae: 0.1339\n",
      "Epoch 25/50\n",
      "296/296 [==============================] - 4s 15ms/step - loss: 0.1431 - mae: 0.1431 - val_loss: 0.1286 - val_mae: 0.1286\n",
      "Epoch 26/50\n",
      "296/296 [==============================] - 5s 15ms/step - loss: 0.1372 - mae: 0.1372 - val_loss: 0.1231 - val_mae: 0.1231\n",
      "Epoch 27/50\n",
      "296/296 [==============================] - 5s 15ms/step - loss: 0.1313 - mae: 0.1313 - val_loss: 0.1178 - val_mae: 0.1178\n",
      "Epoch 28/50\n",
      "296/296 [==============================] - 5s 15ms/step - loss: 0.1259 - mae: 0.1259 - val_loss: 0.1128 - val_mae: 0.1128\n",
      "Epoch 29/50\n",
      "296/296 [==============================] - 5s 17ms/step - loss: 0.1208 - mae: 0.1208 - val_loss: 0.1086 - val_mae: 0.1086\n",
      "Epoch 30/50\n",
      "296/296 [==============================] - 5s 17ms/step - loss: 0.1168 - mae: 0.1168 - val_loss: 0.1061 - val_mae: 0.1061\n",
      "Epoch 31/50\n",
      "296/296 [==============================] - 5s 15ms/step - loss: 0.1128 - mae: 0.1128 - val_loss: 0.1017 - val_mae: 0.1017\n",
      "Epoch 32/50\n",
      "296/296 [==============================] - 5s 16ms/step - loss: 0.1094 - mae: 0.1094 - val_loss: 0.0996 - val_mae: 0.0996\n",
      "Epoch 33/50\n",
      "296/296 [==============================] - 5s 16ms/step - loss: 0.1062 - mae: 0.1062 - val_loss: 0.0969 - val_mae: 0.0969\n",
      "Epoch 34/50\n",
      "296/296 [==============================] - 5s 16ms/step - loss: 0.1039 - mae: 0.1039 - val_loss: 0.0960 - val_mae: 0.0960\n",
      "Epoch 35/50\n",
      "296/296 [==============================] - 5s 15ms/step - loss: 0.1017 - mae: 0.1017 - val_loss: 0.0927 - val_mae: 0.0927\n",
      "Epoch 36/50\n",
      "296/296 [==============================] - 5s 15ms/step - loss: 0.1000 - mae: 0.1000 - val_loss: 0.0916 - val_mae: 0.0916\n",
      "Epoch 37/50\n",
      "296/296 [==============================] - 5s 16ms/step - loss: 0.0983 - mae: 0.0983 - val_loss: 0.0898 - val_mae: 0.0898\n",
      "Epoch 38/50\n",
      "296/296 [==============================] - 5s 16ms/step - loss: 0.0971 - mae: 0.0971 - val_loss: 0.0888 - val_mae: 0.0888\n",
      "Epoch 39/50\n",
      "296/296 [==============================] - 5s 16ms/step - loss: 0.0957 - mae: 0.0957 - val_loss: 0.0876 - val_mae: 0.0876\n",
      "Epoch 40/50\n",
      "296/296 [==============================] - 5s 16ms/step - loss: 0.0948 - mae: 0.0948 - val_loss: 0.0868 - val_mae: 0.0868\n",
      "Epoch 41/50\n",
      "296/296 [==============================] - 5s 16ms/step - loss: 0.0940 - mae: 0.0940 - val_loss: 0.0857 - val_mae: 0.0857\n",
      "Epoch 42/50\n",
      "296/296 [==============================] - 5s 15ms/step - loss: 0.0930 - mae: 0.0930 - val_loss: 0.0855 - val_mae: 0.0855\n",
      "Epoch 43/50\n",
      "296/296 [==============================] - 5s 15ms/step - loss: 0.0922 - mae: 0.0922 - val_loss: 0.0845 - val_mae: 0.0845\n",
      "Epoch 44/50\n",
      "296/296 [==============================] - 5s 15ms/step - loss: 0.0915 - mae: 0.0915 - val_loss: 0.0833 - val_mae: 0.0833\n",
      "Epoch 45/50\n",
      "296/296 [==============================] - 5s 15ms/step - loss: 0.0906 - mae: 0.0906 - val_loss: 0.0827 - val_mae: 0.0827\n",
      "Epoch 46/50\n",
      "296/296 [==============================] - 5s 16ms/step - loss: 0.0900 - mae: 0.0900 - val_loss: 0.0818 - val_mae: 0.0818\n",
      "Epoch 47/50\n",
      "296/296 [==============================] - 5s 15ms/step - loss: 0.0893 - mae: 0.0893 - val_loss: 0.0815 - val_mae: 0.0815\n",
      "Epoch 48/50\n",
      "296/296 [==============================] - 5s 15ms/step - loss: 0.0885 - mae: 0.0885 - val_loss: 0.0804 - val_mae: 0.0804\n",
      "Epoch 49/50\n",
      "296/296 [==============================] - 5s 16ms/step - loss: 0.0878 - mae: 0.0878 - val_loss: 0.0797 - val_mae: 0.0797\n",
      "Epoch 50/50\n",
      "296/296 [==============================] - 5s 16ms/step - loss: 0.0871 - mae: 0.0871 - val_loss: 0.0791 - val_mae: 0.0791\n"
     ]
    }
   ],
   "source": [
    "# final_model\n",
    "final_model = tf.keras.Sequential()\n",
    "final_model.add(tf.keras.layers.Dense(150, activation='relu', input_shape=(x_train_tensor.shape[1],)))\n",
    "final_model.add(tf.keras.layers.Reshape((1, 150))) \n",
    "final_model.add(tf.keras.layers.LSTM(128, return_sequences=True))\n",
    "final_model.add(tf.keras.layers.Dense(64, activation='relu'))\n",
    "final_model.add(tf.keras.layers.Dense(32, activation='relu'))\n",
    "final_model.add(tf.keras.layers.LSTM(16))\n",
    "final_model.add(tf.keras.layers.Dense(4, activation='relu'))\n",
    "final_model.add(tf.keras.layers.Dense(1, activation='linear'))\n",
    "\n",
    "# compile model\n",
    "final_model.compile(optimizer=tf.keras.optimizers.legacy.Adam(learning_rate=1e-5), loss='mae', metrics=['mae'])\n",
    "\n",
    "epoch_number = 50\n",
    "\n",
    "# train model and get history\n",
    "history = final_model.fit(x_train_tensor, y_train_tensor, epochs=epoch_number, validation_data=(x_eval_tensor, y_eval_tensor))"
   ],
   "metadata": {
    "collapsed": false,
    "ExecuteTime": {
     "end_time": "2024-01-22T14:29:27.615983Z",
     "start_time": "2024-01-22T14:25:36.364428Z"
    }
   },
   "id": "8b01720110040e7f"
  },
  {
   "cell_type": "code",
   "execution_count": 11,
   "outputs": [
    {
     "name": "stdout",
     "output_type": "stream",
     "text": [
      "Model: \"sequential_1\"\n",
      "_________________________________________________________________\n",
      " Layer (type)                Output Shape              Param #   \n",
      "=================================================================\n",
      " dense_5 (Dense)             (None, 150)               22650     \n",
      "                                                                 \n",
      " reshape_1 (Reshape)         (None, 1, 150)            0         \n",
      "                                                                 \n",
      " lstm_2 (LSTM)               (None, 1, 128)            142848    \n",
      "                                                                 \n",
      " dense_6 (Dense)             (None, 1, 64)             8256      \n",
      "                                                                 \n",
      " dense_7 (Dense)             (None, 1, 32)             2080      \n",
      "                                                                 \n",
      " lstm_3 (LSTM)               (None, 16)                3136      \n",
      "                                                                 \n",
      " dense_8 (Dense)             (None, 4)                 68        \n",
      "                                                                 \n",
      " dense_9 (Dense)             (None, 1)                 5         \n",
      "                                                                 \n",
      "=================================================================\n",
      "Total params: 179043 (699.39 KB)\n",
      "Trainable params: 179043 (699.39 KB)\n",
      "Non-trainable params: 0 (0.00 Byte)\n",
      "_________________________________________________________________\n"
     ]
    }
   ],
   "source": [
    "final_model.summary()"
   ],
   "metadata": {
    "collapsed": false,
    "ExecuteTime": {
     "end_time": "2024-01-22T14:29:27.631219Z",
     "start_time": "2024-01-22T14:29:27.621275Z"
    }
   },
   "id": "e343e8db0446aeb0"
  },
  {
   "cell_type": "code",
   "execution_count": 12,
   "outputs": [
    {
     "name": "stdout",
     "output_type": "stream",
     "text": [
      "37/37 [==============================] - 0s 8ms/step - loss: 0.0971 - mae: 0.0971\n"
     ]
    },
    {
     "data": {
      "text/plain": "[0.0970710813999176, 0.0970710813999176]"
     },
     "execution_count": 12,
     "metadata": {},
     "output_type": "execute_result"
    }
   ],
   "source": [
    "# view loss for testing values\n",
    "final_model.evaluate(x_test_tensor, y_test_tensor)"
   ],
   "metadata": {
    "collapsed": false,
    "ExecuteTime": {
     "end_time": "2024-01-22T14:29:27.988988Z",
     "start_time": "2024-01-22T14:29:27.634998Z"
    }
   },
   "id": "69956a15af34e265"
  },
  {
   "cell_type": "code",
   "execution_count": 13,
   "outputs": [
    {
     "name": "stdout",
     "output_type": "stream",
     "text": [
      "37/37 [==============================] - 1s 9ms/step\n"
     ]
    },
    {
     "data": {
      "text/plain": "array([[0.21550518],\n       [0.26958367],\n       [0.40937173],\n       [0.37265182],\n       [0.37259167],\n       [1.0143572 ],\n       [0.29347795],\n       [0.94906956],\n       [0.13966233],\n       [0.3080641 ]], dtype=float32)"
     },
     "execution_count": 13,
     "metadata": {},
     "output_type": "execute_result"
    }
   ],
   "source": [
    "# predict sample value set\n",
    "y_predictions = final_model.predict(x_test_tensor)\n",
    "y_predictions[:10]"
   ],
   "metadata": {
    "collapsed": false,
    "ExecuteTime": {
     "end_time": "2024-01-22T14:29:28.974207Z",
     "start_time": "2024-01-22T14:29:27.985768Z"
    }
   },
   "id": "af247d91cef66b79"
  },
  {
   "cell_type": "code",
   "execution_count": 14,
   "outputs": [
    {
     "data": {
      "text/plain": "<tf.Tensor: shape=(10,), dtype=float32, numpy=\narray([0.2404    , 0.2775    , 0.43416667, 0.36781818, 0.259     ,\n       1.        , 0.3315294 , 1.        , 0.1       , 0.38275   ],\n      dtype=float32)>"
     },
     "execution_count": 14,
     "metadata": {},
     "output_type": "execute_result"
    }
   ],
   "source": [
    "# view actual values\n",
    "y_test_tensor[:10]"
   ],
   "metadata": {
    "collapsed": false,
    "ExecuteTime": {
     "end_time": "2024-01-22T14:29:28.989247Z",
     "start_time": "2024-01-22T14:29:28.973552Z"
    }
   },
   "id": "363d820b101a1bb6"
  },
  {
   "cell_type": "code",
   "execution_count": 15,
   "outputs": [
    {
     "name": "stdout",
     "output_type": "stream",
     "text": [
      "INFO:tensorflow:Assets written to: sales_prediction_model/assets\n"
     ]
    },
    {
     "name": "stderr",
     "output_type": "stream",
     "text": [
      "INFO:tensorflow:Assets written to: sales_prediction_model/assets\n"
     ]
    }
   ],
   "source": [
    "# save final model\n",
    "final_model.save('sales_prediction_model')"
   ],
   "metadata": {
    "collapsed": false,
    "ExecuteTime": {
     "end_time": "2024-01-22T14:30:16.086106Z",
     "start_time": "2024-01-22T14:30:13.749224Z"
    }
   },
   "id": "46f2cd66a29e1bc7"
  }
 ],
 "metadata": {
  "kernelspec": {
   "display_name": "Python 3",
   "language": "python",
   "name": "python3"
  },
  "language_info": {
   "codemirror_mode": {
    "name": "ipython",
    "version": 2
   },
   "file_extension": ".py",
   "mimetype": "text/x-python",
   "name": "python",
   "nbconvert_exporter": "python",
   "pygments_lexer": "ipython2",
   "version": "2.7.6"
  }
 },
 "nbformat": 4,
 "nbformat_minor": 5
}
