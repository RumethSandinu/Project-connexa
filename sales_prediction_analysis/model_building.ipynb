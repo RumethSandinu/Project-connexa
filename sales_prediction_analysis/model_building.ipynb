{
 "cells": [
  {
   "cell_type": "code",
   "execution_count": 1,
   "id": "initial_id",
   "metadata": {
    "collapsed": true,
    "ExecuteTime": {
     "end_time": "2024-02-01T14:59:06.026709Z",
     "start_time": "2024-02-01T14:59:05.501167Z"
    }
   },
   "outputs": [],
   "source": [
    "import pandas as pd"
   ]
  },
  {
   "cell_type": "code",
   "execution_count": 2,
   "outputs": [
    {
     "data": {
      "text/plain": "       quantity_sold_kg  unit_selling_price_rmb/kg  \\\n10838          1.000000                        5.8   \n4670           0.866286                        7.0   \n2355           0.310600                       12.0   \n\n       item_name_7 colour pepper   item_name_agaricus bisporus   \\\n10838                       False                         False   \n4670                        False                         False   \n2355                        False                         False   \n\n       item_name_aihao  item_name_amaranth   item_name_apricot bao mushroom   \\\n10838            False                False                            False   \n4670             False                False                            False   \n2355             False                False                            False   \n\n       item_name_basil   item_name_bell pepper   item_name_big broccoli  ...  \\\n10838             False                   False                   False  ...   \n4670              False                   False                   False  ...   \n2355              False                   False                   False  ...   \n\n       item_name_yuxingcao   item_name_zhijiang red bolt   \\\n10838                 False                         False   \n4670                  False                         False   \n2355                  False                         False   \n\n       item_name_zhimaxiancai  item_name_zhuyecai   category_name_aquatic  \\\n10838                   False                False                  False   \n4670                    False                False                  False   \n2355                    False                False                   True   \n\n       category_name_cabbage  category_name_capsicum  category_name_flower  \\\n10838                  False                    True                 False   \n4670                   False                   False                  True   \n2355                   False                   False                 False   \n\n       category_name_mushroom  category_name_solanum  \n10838                   False                  False  \n4670                    False                  False  \n2355                    False                  False  \n\n[3 rows x 156 columns]",
      "text/html": "<div>\n<style scoped>\n    .dataframe tbody tr th:only-of-type {\n        vertical-align: middle;\n    }\n\n    .dataframe tbody tr th {\n        vertical-align: top;\n    }\n\n    .dataframe thead th {\n        text-align: right;\n    }\n</style>\n<table border=\"1\" class=\"dataframe\">\n  <thead>\n    <tr style=\"text-align: right;\">\n      <th></th>\n      <th>quantity_sold_kg</th>\n      <th>unit_selling_price_rmb/kg</th>\n      <th>item_name_7 colour pepper</th>\n      <th>item_name_agaricus bisporus</th>\n      <th>item_name_aihao</th>\n      <th>item_name_amaranth</th>\n      <th>item_name_apricot bao mushroom</th>\n      <th>item_name_basil</th>\n      <th>item_name_bell pepper</th>\n      <th>item_name_big broccoli</th>\n      <th>...</th>\n      <th>item_name_yuxingcao</th>\n      <th>item_name_zhijiang red bolt</th>\n      <th>item_name_zhimaxiancai</th>\n      <th>item_name_zhuyecai</th>\n      <th>category_name_aquatic</th>\n      <th>category_name_cabbage</th>\n      <th>category_name_capsicum</th>\n      <th>category_name_flower</th>\n      <th>category_name_mushroom</th>\n      <th>category_name_solanum</th>\n    </tr>\n  </thead>\n  <tbody>\n    <tr>\n      <th>10838</th>\n      <td>1.000000</td>\n      <td>5.8</td>\n      <td>False</td>\n      <td>False</td>\n      <td>False</td>\n      <td>False</td>\n      <td>False</td>\n      <td>False</td>\n      <td>False</td>\n      <td>False</td>\n      <td>...</td>\n      <td>False</td>\n      <td>False</td>\n      <td>False</td>\n      <td>False</td>\n      <td>False</td>\n      <td>False</td>\n      <td>True</td>\n      <td>False</td>\n      <td>False</td>\n      <td>False</td>\n    </tr>\n    <tr>\n      <th>4670</th>\n      <td>0.866286</td>\n      <td>7.0</td>\n      <td>False</td>\n      <td>False</td>\n      <td>False</td>\n      <td>False</td>\n      <td>False</td>\n      <td>False</td>\n      <td>False</td>\n      <td>False</td>\n      <td>...</td>\n      <td>False</td>\n      <td>False</td>\n      <td>False</td>\n      <td>False</td>\n      <td>False</td>\n      <td>False</td>\n      <td>False</td>\n      <td>True</td>\n      <td>False</td>\n      <td>False</td>\n    </tr>\n    <tr>\n      <th>2355</th>\n      <td>0.310600</td>\n      <td>12.0</td>\n      <td>False</td>\n      <td>False</td>\n      <td>False</td>\n      <td>False</td>\n      <td>False</td>\n      <td>False</td>\n      <td>False</td>\n      <td>False</td>\n      <td>...</td>\n      <td>False</td>\n      <td>False</td>\n      <td>False</td>\n      <td>False</td>\n      <td>True</td>\n      <td>False</td>\n      <td>False</td>\n      <td>False</td>\n      <td>False</td>\n      <td>False</td>\n    </tr>\n  </tbody>\n</table>\n<p>3 rows × 156 columns</p>\n</div>"
     },
     "execution_count": 2,
     "metadata": {},
     "output_type": "execute_result"
    }
   ],
   "source": [
    "# load pre-processed dataset\n",
    "df = pd.read_csv('../../datasets/pre_processed_dataset.csv')\n",
    "df.sample(3)"
   ],
   "metadata": {
    "collapsed": false,
    "ExecuteTime": {
     "end_time": "2024-02-01T14:59:06.105268Z",
     "start_time": "2024-02-01T14:59:06.027414Z"
    }
   },
   "id": "f6a76d43f2da9e88"
  },
  {
   "cell_type": "code",
   "execution_count": 3,
   "outputs": [
    {
     "name": "stderr",
     "output_type": "stream",
     "text": [
      "/Users/rumethsandinu/Library/Python/3.9/lib/python/site-packages/urllib3/__init__.py:35: NotOpenSSLWarning: urllib3 v2 only supports OpenSSL 1.1.1+, currently the 'ssl' module is compiled with 'LibreSSL 2.8.3'. See: https://github.com/urllib3/urllib3/issues/3020\n",
      "  warnings.warn(\n"
     ]
    }
   ],
   "source": [
    "from sklearn.model_selection import train_test_split\n",
    "import tensorflow as tf"
   ],
   "metadata": {
    "collapsed": false,
    "ExecuteTime": {
     "end_time": "2024-02-01T14:59:10.500106Z",
     "start_time": "2024-02-01T14:59:06.844788Z"
    }
   },
   "id": "278bdc9d61ee98ad"
  },
  {
   "cell_type": "code",
   "execution_count": 4,
   "outputs": [
    {
     "name": "stderr",
     "output_type": "stream",
     "text": [
      "2024-02-01 20:29:12.336872: I metal_plugin/src/device/metal_device.cc:1154] Metal device set to: Apple M2\n",
      "2024-02-01 20:29:12.336935: I metal_plugin/src/device/metal_device.cc:296] systemMemory: 8.00 GB\n",
      "2024-02-01 20:29:12.336947: I metal_plugin/src/device/metal_device.cc:313] maxCacheSize: 2.67 GB\n",
      "2024-02-01 20:29:12.337311: I tensorflow/core/common_runtime/pluggable_device/pluggable_device_factory.cc:306] Could not identify NUMA node of platform GPU ID 0, defaulting to 0. Your kernel may not have been built with NUMA support.\n",
      "2024-02-01 20:29:12.337582: I tensorflow/core/common_runtime/pluggable_device/pluggable_device_factory.cc:272] Created TensorFlow device (/job:localhost/replica:0/task:0/device:GPU:0 with 0 MB memory) -> physical PluggableDevice (device: 0, name: METAL, pci bus id: <undefined>)\n"
     ]
    },
    {
     "data": {
      "text/plain": "(TensorShape([10288, 155]), TensorShape([1286, 155]), (1286, 155))"
     },
     "execution_count": 4,
     "metadata": {},
     "output_type": "execute_result"
    }
   ],
   "source": [
    "# define dependent and non dependent variables\n",
    "y = df['quantity_sold_kg']\n",
    "x = df.drop(columns=['quantity_sold_kg'], axis=1)\n",
    "\n",
    "# split the dataset 0.7, 0.2, 0.1\n",
    "x_train, x_temp, y_train, y_temp = train_test_split(x, y, test_size=0.2, random_state=42)\n",
    "x_eval, x_test, y_eval, y_test = train_test_split(x_temp, y_temp, test_size=0.5, random_state=42)\n",
    "\n",
    "\"\"\"use float32 data type for numerical values to reduce memory usage and improve performance\"\"\"\n",
    "\n",
    "# convert to tensor arrays\n",
    "x_train_tensor = tf.constant(x_train, dtype=tf.float32)\n",
    "y_train_tensor = tf.constant(y_train, dtype=tf.float32)\n",
    "x_eval_tensor = tf.constant(x_eval, dtype=tf.float32)\n",
    "y_eval_tensor = tf.constant(y_eval, dtype=tf.float32)\n",
    "\n",
    "x_train_tensor.shape, x_eval_tensor.shape, x_test.shape"
   ],
   "metadata": {
    "collapsed": false,
    "ExecuteTime": {
     "end_time": "2024-02-01T14:59:12.442946Z",
     "start_time": "2024-02-01T14:59:12.328936Z"
    }
   },
   "id": "87771c7557fd3e35"
  },
  {
   "cell_type": "code",
   "execution_count": 5,
   "outputs": [
    {
     "data": {
      "text/plain": "      quantity_sold_kg  unit_selling_price_rmb/kg  item_name_7 colour pepper   \\\n974           0.544333                        8.0                       False   \n471           0.195167                       12.0                       False   \n1279          0.393286                       19.6                       False   \n\n      item_name_agaricus bisporus   item_name_aihao  item_name_amaranth   \\\n974                          False            False                False   \n471                          False            False                False   \n1279                         False            False                False   \n\n      item_name_apricot bao mushroom   item_name_basil   \\\n974                             False             False   \n471                             False             False   \n1279                            False             False   \n\n      item_name_bell pepper   item_name_big broccoli  ...  \\\n974                    False                   False  ...   \n471                    False                   False  ...   \n1279                   False                   False  ...   \n\n      item_name_yuxingcao   item_name_zhijiang red bolt   \\\n974                  False                         False   \n471                  False                         False   \n1279                 False                         False   \n\n      item_name_zhimaxiancai  item_name_zhuyecai   category_name_aquatic  \\\n974                    False                False                  False   \n471                    False                False                  False   \n1279                   False                False                  False   \n\n      category_name_cabbage  category_name_capsicum  category_name_flower  \\\n974                   False                   False                  True   \n471                   False                    True                 False   \n1279                  False                   False                  True   \n\n      category_name_mushroom  category_name_solanum  \n974                    False                  False  \n471                    False                  False  \n1279                   False                  False  \n\n[3 rows x 156 columns]",
      "text/html": "<div>\n<style scoped>\n    .dataframe tbody tr th:only-of-type {\n        vertical-align: middle;\n    }\n\n    .dataframe tbody tr th {\n        vertical-align: top;\n    }\n\n    .dataframe thead th {\n        text-align: right;\n    }\n</style>\n<table border=\"1\" class=\"dataframe\">\n  <thead>\n    <tr style=\"text-align: right;\">\n      <th></th>\n      <th>quantity_sold_kg</th>\n      <th>unit_selling_price_rmb/kg</th>\n      <th>item_name_7 colour pepper</th>\n      <th>item_name_agaricus bisporus</th>\n      <th>item_name_aihao</th>\n      <th>item_name_amaranth</th>\n      <th>item_name_apricot bao mushroom</th>\n      <th>item_name_basil</th>\n      <th>item_name_bell pepper</th>\n      <th>item_name_big broccoli</th>\n      <th>...</th>\n      <th>item_name_yuxingcao</th>\n      <th>item_name_zhijiang red bolt</th>\n      <th>item_name_zhimaxiancai</th>\n      <th>item_name_zhuyecai</th>\n      <th>category_name_aquatic</th>\n      <th>category_name_cabbage</th>\n      <th>category_name_capsicum</th>\n      <th>category_name_flower</th>\n      <th>category_name_mushroom</th>\n      <th>category_name_solanum</th>\n    </tr>\n  </thead>\n  <tbody>\n    <tr>\n      <th>974</th>\n      <td>0.544333</td>\n      <td>8.0</td>\n      <td>False</td>\n      <td>False</td>\n      <td>False</td>\n      <td>False</td>\n      <td>False</td>\n      <td>False</td>\n      <td>False</td>\n      <td>False</td>\n      <td>...</td>\n      <td>False</td>\n      <td>False</td>\n      <td>False</td>\n      <td>False</td>\n      <td>False</td>\n      <td>False</td>\n      <td>False</td>\n      <td>True</td>\n      <td>False</td>\n      <td>False</td>\n    </tr>\n    <tr>\n      <th>471</th>\n      <td>0.195167</td>\n      <td>12.0</td>\n      <td>False</td>\n      <td>False</td>\n      <td>False</td>\n      <td>False</td>\n      <td>False</td>\n      <td>False</td>\n      <td>False</td>\n      <td>False</td>\n      <td>...</td>\n      <td>False</td>\n      <td>False</td>\n      <td>False</td>\n      <td>False</td>\n      <td>False</td>\n      <td>False</td>\n      <td>True</td>\n      <td>False</td>\n      <td>False</td>\n      <td>False</td>\n    </tr>\n    <tr>\n      <th>1279</th>\n      <td>0.393286</td>\n      <td>19.6</td>\n      <td>False</td>\n      <td>False</td>\n      <td>False</td>\n      <td>False</td>\n      <td>False</td>\n      <td>False</td>\n      <td>False</td>\n      <td>False</td>\n      <td>...</td>\n      <td>False</td>\n      <td>False</td>\n      <td>False</td>\n      <td>False</td>\n      <td>False</td>\n      <td>False</td>\n      <td>False</td>\n      <td>True</td>\n      <td>False</td>\n      <td>False</td>\n    </tr>\n  </tbody>\n</table>\n<p>3 rows × 156 columns</p>\n</div>"
     },
     "execution_count": 5,
     "metadata": {},
     "output_type": "execute_result"
    }
   ],
   "source": [
    "# save testing dataset\n",
    "df_test = pd.concat([y_test.reset_index(drop=True), x_test.reset_index(drop=True)], axis=1)\n",
    "df_test.to_csv('../../datasets/testing_dataset.csv')\n",
    "df_test.sample(3)"
   ],
   "metadata": {
    "collapsed": false,
    "ExecuteTime": {
     "end_time": "2024-02-01T14:59:21.318081Z",
     "start_time": "2024-02-01T14:59:21.269762Z"
    }
   },
   "id": "f2ad927015ae9653"
  },
  {
   "cell_type": "code",
   "execution_count": 6,
   "outputs": [],
   "source": [
    "# convert to tensor arrays\n",
    "x_test_tensor = tf.constant(x_test, dtype=tf.float32)\n",
    "y_test_tensor = tf.constant(y_test, dtype=tf.float32)"
   ],
   "metadata": {
    "collapsed": false,
    "ExecuteTime": {
     "end_time": "2024-02-01T14:59:22.207158Z",
     "start_time": "2024-02-01T14:59:22.187432Z"
    }
   },
   "id": "d4f2882c044068f4"
  },
  {
   "cell_type": "code",
   "execution_count": 7,
   "outputs": [
    {
     "name": "stdout",
     "output_type": "stream",
     "text": [
      "Epoch 1/60\n"
     ]
    },
    {
     "name": "stderr",
     "output_type": "stream",
     "text": [
      "2024-02-01 20:29:25.746015: I tensorflow/core/grappler/optimizers/custom_graph_optimizer_registry.cc:117] Plugin optimizer for device_type GPU is enabled.\n"
     ]
    },
    {
     "name": "stdout",
     "output_type": "stream",
     "text": [
      "322/322 [==============================] - 7s 17ms/step - loss: 0.4725 - mae: 0.4725 - val_loss: 0.3683 - val_mae: 0.3683\n",
      "Epoch 2/60\n",
      "322/322 [==============================] - 5s 16ms/step - loss: 0.3665 - mae: 0.3665 - val_loss: 0.3307 - val_mae: 0.3307\n",
      "Epoch 3/60\n",
      "322/322 [==============================] - 5s 16ms/step - loss: 0.3283 - mae: 0.3283 - val_loss: 0.2950 - val_mae: 0.2950\n",
      "Epoch 4/60\n",
      "322/322 [==============================] - 5s 16ms/step - loss: 0.2912 - mae: 0.2912 - val_loss: 0.2630 - val_mae: 0.2630\n",
      "Epoch 5/60\n",
      "322/322 [==============================] - 5s 16ms/step - loss: 0.2593 - mae: 0.2593 - val_loss: 0.2398 - val_mae: 0.2398\n",
      "Epoch 6/60\n",
      "322/322 [==============================] - 5s 15ms/step - loss: 0.2349 - mae: 0.2349 - val_loss: 0.2241 - val_mae: 0.2241\n",
      "Epoch 7/60\n",
      "322/322 [==============================] - 5s 15ms/step - loss: 0.2162 - mae: 0.2162 - val_loss: 0.2101 - val_mae: 0.2101\n",
      "Epoch 8/60\n",
      "322/322 [==============================] - 5s 15ms/step - loss: 0.1992 - mae: 0.1992 - val_loss: 0.1963 - val_mae: 0.1963\n",
      "Epoch 9/60\n",
      "322/322 [==============================] - 5s 15ms/step - loss: 0.1810 - mae: 0.1810 - val_loss: 0.1805 - val_mae: 0.1805\n",
      "Epoch 10/60\n",
      "322/322 [==============================] - 5s 15ms/step - loss: 0.1652 - mae: 0.1652 - val_loss: 0.1697 - val_mae: 0.1697\n",
      "Epoch 11/60\n",
      "322/322 [==============================] - 5s 15ms/step - loss: 0.1576 - mae: 0.1576 - val_loss: 0.1630 - val_mae: 0.1630\n",
      "Epoch 12/60\n",
      "322/322 [==============================] - 5s 15ms/step - loss: 0.1518 - mae: 0.1518 - val_loss: 0.1568 - val_mae: 0.1568\n",
      "Epoch 13/60\n",
      "322/322 [==============================] - 5s 15ms/step - loss: 0.1453 - mae: 0.1453 - val_loss: 0.1490 - val_mae: 0.1490\n",
      "Epoch 14/60\n",
      "322/322 [==============================] - 5s 15ms/step - loss: 0.1377 - mae: 0.1377 - val_loss: 0.1401 - val_mae: 0.1401\n",
      "Epoch 15/60\n",
      "322/322 [==============================] - 5s 15ms/step - loss: 0.1284 - mae: 0.1284 - val_loss: 0.1294 - val_mae: 0.1294\n",
      "Epoch 16/60\n",
      "322/322 [==============================] - 5s 15ms/step - loss: 0.1177 - mae: 0.1177 - val_loss: 0.1169 - val_mae: 0.1169\n",
      "Epoch 17/60\n",
      "322/322 [==============================] - 5s 15ms/step - loss: 0.1065 - mae: 0.1065 - val_loss: 0.1047 - val_mae: 0.1047\n",
      "Epoch 18/60\n",
      "322/322 [==============================] - 5s 15ms/step - loss: 0.0975 - mae: 0.0975 - val_loss: 0.0963 - val_mae: 0.0963\n",
      "Epoch 19/60\n",
      "322/322 [==============================] - 5s 15ms/step - loss: 0.0906 - mae: 0.0906 - val_loss: 0.0914 - val_mae: 0.0914\n",
      "Epoch 20/60\n",
      "322/322 [==============================] - 5s 15ms/step - loss: 0.0858 - mae: 0.0858 - val_loss: 0.0862 - val_mae: 0.0862\n",
      "Epoch 21/60\n",
      "322/322 [==============================] - 5s 15ms/step - loss: 0.0823 - mae: 0.0823 - val_loss: 0.0831 - val_mae: 0.0831\n",
      "Epoch 22/60\n",
      "322/322 [==============================] - 5s 15ms/step - loss: 0.0797 - mae: 0.0797 - val_loss: 0.0821 - val_mae: 0.0821\n",
      "Epoch 23/60\n",
      "322/322 [==============================] - 5s 15ms/step - loss: 0.0777 - mae: 0.0777 - val_loss: 0.0786 - val_mae: 0.0786\n",
      "Epoch 24/60\n",
      "322/322 [==============================] - 5s 15ms/step - loss: 0.0759 - mae: 0.0759 - val_loss: 0.0766 - val_mae: 0.0766\n",
      "Epoch 25/60\n",
      "322/322 [==============================] - 5s 15ms/step - loss: 0.0741 - mae: 0.0741 - val_loss: 0.0760 - val_mae: 0.0760\n",
      "Epoch 26/60\n",
      "322/322 [==============================] - 5s 15ms/step - loss: 0.0726 - mae: 0.0726 - val_loss: 0.0735 - val_mae: 0.0735\n",
      "Epoch 27/60\n",
      "322/322 [==============================] - 5s 15ms/step - loss: 0.0712 - mae: 0.0712 - val_loss: 0.0723 - val_mae: 0.0723\n",
      "Epoch 28/60\n",
      "322/322 [==============================] - 5s 15ms/step - loss: 0.0698 - mae: 0.0698 - val_loss: 0.0708 - val_mae: 0.0708\n",
      "Epoch 29/60\n",
      "322/322 [==============================] - 5s 15ms/step - loss: 0.0688 - mae: 0.0688 - val_loss: 0.0699 - val_mae: 0.0699\n",
      "Epoch 30/60\n",
      "322/322 [==============================] - 5s 15ms/step - loss: 0.0676 - mae: 0.0676 - val_loss: 0.0688 - val_mae: 0.0688\n",
      "Epoch 31/60\n",
      "322/322 [==============================] - 5s 15ms/step - loss: 0.0665 - mae: 0.0665 - val_loss: 0.0676 - val_mae: 0.0676\n",
      "Epoch 32/60\n",
      "322/322 [==============================] - 5s 15ms/step - loss: 0.0655 - mae: 0.0655 - val_loss: 0.0682 - val_mae: 0.0682\n",
      "Epoch 33/60\n",
      "322/322 [==============================] - 5s 15ms/step - loss: 0.0646 - mae: 0.0646 - val_loss: 0.0659 - val_mae: 0.0659\n",
      "Epoch 34/60\n",
      "322/322 [==============================] - 5s 15ms/step - loss: 0.0637 - mae: 0.0637 - val_loss: 0.0648 - val_mae: 0.0648\n",
      "Epoch 35/60\n",
      "322/322 [==============================] - 5s 16ms/step - loss: 0.0627 - mae: 0.0627 - val_loss: 0.0639 - val_mae: 0.0639\n",
      "Epoch 36/60\n",
      "322/322 [==============================] - 5s 15ms/step - loss: 0.0619 - mae: 0.0619 - val_loss: 0.0647 - val_mae: 0.0647\n",
      "Epoch 37/60\n",
      "322/322 [==============================] - 5s 15ms/step - loss: 0.0612 - mae: 0.0612 - val_loss: 0.0623 - val_mae: 0.0623\n",
      "Epoch 38/60\n",
      "322/322 [==============================] - 5s 15ms/step - loss: 0.0604 - mae: 0.0604 - val_loss: 0.0627 - val_mae: 0.0627\n",
      "Epoch 39/60\n",
      "322/322 [==============================] - 5s 15ms/step - loss: 0.0601 - mae: 0.0601 - val_loss: 0.0617 - val_mae: 0.0617\n",
      "Epoch 40/60\n",
      "322/322 [==============================] - 5s 15ms/step - loss: 0.0595 - mae: 0.0595 - val_loss: 0.0612 - val_mae: 0.0612\n",
      "Epoch 41/60\n",
      "322/322 [==============================] - 5s 15ms/step - loss: 0.0591 - mae: 0.0591 - val_loss: 0.0616 - val_mae: 0.0616\n",
      "Epoch 42/60\n",
      "322/322 [==============================] - 5s 15ms/step - loss: 0.0590 - mae: 0.0590 - val_loss: 0.0604 - val_mae: 0.0604\n",
      "Epoch 43/60\n",
      "322/322 [==============================] - 5s 15ms/step - loss: 0.0584 - mae: 0.0584 - val_loss: 0.0608 - val_mae: 0.0608\n",
      "Epoch 44/60\n",
      "322/322 [==============================] - 5s 15ms/step - loss: 0.0583 - mae: 0.0583 - val_loss: 0.0600 - val_mae: 0.0600\n",
      "Epoch 45/60\n",
      "322/322 [==============================] - 5s 15ms/step - loss: 0.0577 - mae: 0.0577 - val_loss: 0.0596 - val_mae: 0.0596\n",
      "Epoch 46/60\n",
      "322/322 [==============================] - 5s 15ms/step - loss: 0.0573 - mae: 0.0573 - val_loss: 0.0597 - val_mae: 0.0597\n",
      "Epoch 47/60\n",
      "322/322 [==============================] - 5s 15ms/step - loss: 0.0571 - mae: 0.0571 - val_loss: 0.0593 - val_mae: 0.0593\n",
      "Epoch 48/60\n",
      "322/322 [==============================] - 5s 15ms/step - loss: 0.0568 - mae: 0.0568 - val_loss: 0.0589 - val_mae: 0.0589\n",
      "Epoch 49/60\n",
      "322/322 [==============================] - 5s 15ms/step - loss: 0.0564 - mae: 0.0564 - val_loss: 0.0589 - val_mae: 0.0589\n",
      "Epoch 50/60\n",
      "322/322 [==============================] - 5s 15ms/step - loss: 0.0563 - mae: 0.0563 - val_loss: 0.0589 - val_mae: 0.0589\n",
      "Epoch 51/60\n",
      "322/322 [==============================] - 5s 15ms/step - loss: 0.0560 - mae: 0.0560 - val_loss: 0.0600 - val_mae: 0.0600\n",
      "Epoch 52/60\n",
      "322/322 [==============================] - 5s 15ms/step - loss: 0.0558 - mae: 0.0558 - val_loss: 0.0583 - val_mae: 0.0583\n",
      "Epoch 53/60\n",
      "322/322 [==============================] - 5s 15ms/step - loss: 0.0553 - mae: 0.0553 - val_loss: 0.0577 - val_mae: 0.0577\n",
      "Epoch 54/60\n",
      "322/322 [==============================] - 5s 15ms/step - loss: 0.0551 - mae: 0.0551 - val_loss: 0.0573 - val_mae: 0.0573\n",
      "Epoch 55/60\n",
      "322/322 [==============================] - 5s 15ms/step - loss: 0.0548 - mae: 0.0548 - val_loss: 0.0573 - val_mae: 0.0573\n",
      "Epoch 56/60\n",
      "322/322 [==============================] - 5s 15ms/step - loss: 0.0546 - mae: 0.0546 - val_loss: 0.0572 - val_mae: 0.0572\n",
      "Epoch 57/60\n",
      "322/322 [==============================] - 5s 15ms/step - loss: 0.0544 - mae: 0.0544 - val_loss: 0.0567 - val_mae: 0.0567\n",
      "Epoch 58/60\n",
      "322/322 [==============================] - 5s 15ms/step - loss: 0.0542 - mae: 0.0542 - val_loss: 0.0566 - val_mae: 0.0566\n",
      "Epoch 59/60\n",
      "322/322 [==============================] - 5s 15ms/step - loss: 0.0541 - mae: 0.0541 - val_loss: 0.0564 - val_mae: 0.0564\n",
      "Epoch 60/60\n",
      "322/322 [==============================] - 5s 15ms/step - loss: 0.0539 - mae: 0.0539 - val_loss: 0.0562 - val_mae: 0.0562\n"
     ]
    }
   ],
   "source": [
    "# model\n",
    "model = tf.keras.Sequential()\n",
    "model.add(tf.keras.layers.Dense(x_train_tensor.shape[1], activation='tanh', input_shape=(x_train_tensor.shape[1],)))\n",
    "model.add(tf.keras.layers.Reshape((1, x_train_tensor.shape[1]))) \n",
    "model.add(tf.keras.layers.LSTM(128, return_sequences=True))\n",
    "model.add(tf.keras.layers.Dense(64, activation='tanh'))\n",
    "model.add(tf.keras.layers.Dense(32, activation='tanh'))\n",
    "model.add(tf.keras.layers.LSTM(16))\n",
    "model.add(tf.keras.layers.Dense(4, activation='tanh'))\n",
    "model.add(tf.keras.layers.Dense(1, activation='linear'))\n",
    "\n",
    "# compile model\n",
    "model.compile(optimizer=tf.keras.optimizers.legacy.Adam(learning_rate=1e-5), loss='mae', metrics=['mae'])\n",
    "\n",
    "epoch_number = 60\n",
    "\n",
    "# train model and get history\n",
    "history = model.fit(x_train_tensor, y_train_tensor, epochs=epoch_number, validation_data=(x_eval_tensor, y_eval_tensor))"
   ],
   "metadata": {
    "collapsed": false,
    "ExecuteTime": {
     "end_time": "2024-02-01T15:04:18.118788Z",
     "start_time": "2024-02-01T14:59:24.448217Z"
    }
   },
   "id": "8b436d40b14f1f96"
  },
  {
   "cell_type": "code",
   "execution_count": 8,
   "outputs": [],
   "source": [
    "import matplotlib.pyplot as plt"
   ],
   "metadata": {
    "collapsed": false,
    "ExecuteTime": {
     "end_time": "2024-02-01T15:04:35.995507Z",
     "start_time": "2024-02-01T15:04:35.805065Z"
    }
   },
   "id": "6463930abb54b395"
  },
  {
   "cell_type": "code",
   "execution_count": 9,
   "outputs": [
    {
     "data": {
      "text/plain": "<Figure size 640x480 with 1 Axes>",
      "image/png": "[encoded data removed]"
     },
     "metadata": {},
     "output_type": "display_data"
    }
   ],
   "source": [
    "# plot loss with respect to epoch number\n",
    "x_range = range(1, epoch_number + 1)\n",
    "loss = history.history['loss']\n",
    "val_loss = history.history['val_loss']\n",
    "plt.plot(x_range, loss, label='Training loss')\n",
    "plt.plot(x_range, val_loss, label='Validation loss')\n",
    "plt.xlabel('epoch')\n",
    "plt.ylabel('loss')\n",
    "plt.legend()\n",
    "plt.grid(True, linewidth = 0.5, color = 'y', linestyle = '--')"
   ],
   "metadata": {
    "collapsed": false,
    "ExecuteTime": {
     "end_time": "2024-02-01T15:04:36.769987Z",
     "start_time": "2024-02-01T15:04:36.630669Z"
    }
   },
   "id": "edd889b97d10a84"
  },
  {
   "cell_type": "code",
   "execution_count": 10,
   "outputs": [
    {
     "name": "stdout",
     "output_type": "stream",
     "text": [
      "Epoch 1/28\n",
      "322/322 [==============================] - 7s 17ms/step - loss: 0.5011 - mae: 0.5011 - val_loss: 0.3947 - val_mae: 0.3947\n",
      "Epoch 2/28\n",
      "322/322 [==============================] - 5s 15ms/step - loss: 0.3791 - mae: 0.3791 - val_loss: 0.3366 - val_mae: 0.3366\n",
      "Epoch 3/28\n",
      "322/322 [==============================] - 5s 15ms/step - loss: 0.3360 - mae: 0.3360 - val_loss: 0.3048 - val_mae: 0.3048\n",
      "Epoch 4/28\n",
      "322/322 [==============================] - 5s 15ms/step - loss: 0.3046 - mae: 0.3046 - val_loss: 0.2779 - val_mae: 0.2779\n",
      "Epoch 5/28\n",
      "322/322 [==============================] - 5s 15ms/step - loss: 0.2775 - mae: 0.2775 - val_loss: 0.2558 - val_mae: 0.2558\n",
      "Epoch 6/28\n",
      "322/322 [==============================] - 5s 15ms/step - loss: 0.2540 - mae: 0.2540 - val_loss: 0.2388 - val_mae: 0.2388\n",
      "Epoch 7/28\n",
      "322/322 [==============================] - 5s 15ms/step - loss: 0.2354 - mae: 0.2354 - val_loss: 0.2261 - val_mae: 0.2261\n",
      "Epoch 8/28\n",
      "322/322 [==============================] - 5s 15ms/step - loss: 0.2210 - mae: 0.2210 - val_loss: 0.2162 - val_mae: 0.2162\n",
      "Epoch 9/28\n",
      "322/322 [==============================] - 5s 15ms/step - loss: 0.2095 - mae: 0.2095 - val_loss: 0.2072 - val_mae: 0.2072\n",
      "Epoch 10/28\n",
      "322/322 [==============================] - 5s 15ms/step - loss: 0.1990 - mae: 0.1990 - val_loss: 0.1987 - val_mae: 0.1987\n",
      "Epoch 11/28\n",
      "322/322 [==============================] - 5s 16ms/step - loss: 0.1888 - mae: 0.1888 - val_loss: 0.1903 - val_mae: 0.1903\n",
      "Epoch 12/28\n",
      "322/322 [==============================] - 5s 15ms/step - loss: 0.1787 - mae: 0.1787 - val_loss: 0.1809 - val_mae: 0.1809\n",
      "Epoch 13/28\n",
      "322/322 [==============================] - 5s 16ms/step - loss: 0.1683 - mae: 0.1683 - val_loss: 0.1714 - val_mae: 0.1714\n",
      "Epoch 14/28\n",
      "322/322 [==============================] - 5s 15ms/step - loss: 0.1588 - mae: 0.1588 - val_loss: 0.1646 - val_mae: 0.1646\n",
      "Epoch 15/28\n",
      "322/322 [==============================] - 5s 15ms/step - loss: 0.1539 - mae: 0.1539 - val_loss: 0.1589 - val_mae: 0.1589\n",
      "Epoch 16/28\n",
      "322/322 [==============================] - 5s 15ms/step - loss: 0.1491 - mae: 0.1491 - val_loss: 0.1544 - val_mae: 0.1544\n",
      "Epoch 17/28\n",
      "322/322 [==============================] - 5s 15ms/step - loss: 0.1437 - mae: 0.1437 - val_loss: 0.1468 - val_mae: 0.1468\n",
      "Epoch 18/28\n",
      "322/322 [==============================] - 5s 15ms/step - loss: 0.1368 - mae: 0.1368 - val_loss: 0.1385 - val_mae: 0.1385\n",
      "Epoch 19/28\n",
      "322/322 [==============================] - 5s 15ms/step - loss: 0.1282 - mae: 0.1282 - val_loss: 0.1283 - val_mae: 0.1283\n",
      "Epoch 20/28\n",
      "322/322 [==============================] - 5s 15ms/step - loss: 0.1181 - mae: 0.1181 - val_loss: 0.1166 - val_mae: 0.1166\n",
      "Epoch 21/28\n",
      "322/322 [==============================] - 5s 15ms/step - loss: 0.1076 - mae: 0.1076 - val_loss: 0.1055 - val_mae: 0.1055\n",
      "Epoch 22/28\n",
      "322/322 [==============================] - 5s 15ms/step - loss: 0.0985 - mae: 0.0985 - val_loss: 0.0977 - val_mae: 0.0977\n",
      "Epoch 23/28\n",
      "322/322 [==============================] - 5s 15ms/step - loss: 0.0919 - mae: 0.0919 - val_loss: 0.0936 - val_mae: 0.0936\n",
      "Epoch 24/28\n",
      "322/322 [==============================] - 5s 15ms/step - loss: 0.0871 - mae: 0.0871 - val_loss: 0.0876 - val_mae: 0.0876\n",
      "Epoch 25/28\n",
      "322/322 [==============================] - 5s 15ms/step - loss: 0.0833 - mae: 0.0833 - val_loss: 0.0847 - val_mae: 0.0847\n",
      "Epoch 26/28\n",
      "322/322 [==============================] - 5s 15ms/step - loss: 0.0803 - mae: 0.0803 - val_loss: 0.0812 - val_mae: 0.0812\n",
      "Epoch 27/28\n",
      "322/322 [==============================] - 5s 15ms/step - loss: 0.0777 - mae: 0.0777 - val_loss: 0.0789 - val_mae: 0.0789\n",
      "Epoch 28/28\n",
      "322/322 [==============================] - 5s 15ms/step - loss: 0.0755 - mae: 0.0755 - val_loss: 0.0770 - val_mae: 0.0770\n"
     ]
    }
   ],
   "source": [
    "# final_model\n",
    "final_model = tf.keras.Sequential()\n",
    "final_model.add(tf.keras.layers.Dense(x_train_tensor.shape[1], activation='tanh', input_shape=(x_train_tensor.shape[1],)))\n",
    "final_model.add(tf.keras.layers.Reshape((1, x_train_tensor.shape[1]))) \n",
    "final_model.add(tf.keras.layers.LSTM(128, return_sequences=True))\n",
    "final_model.add(tf.keras.layers.Dense(64, activation='tanh'))\n",
    "final_model.add(tf.keras.layers.Dense(32, activation='tanh'))\n",
    "final_model.add(tf.keras.layers.LSTM(16))\n",
    "final_model.add(tf.keras.layers.Dense(4, activation='tanh'))\n",
    "final_model.add(tf.keras.layers.Dense(1, activation='linear'))\n",
    "\n",
    "# compile model\n",
    "final_model.compile(optimizer=tf.keras.optimizers.legacy.Adam(learning_rate=1e-5), loss='mae', metrics=['mae'])\n",
    "\n",
    "epoch_number = 28\n",
    "\n",
    "# train model and get history\n",
    "history = final_model.fit(x_train_tensor, y_train_tensor, epochs=epoch_number, validation_data=(x_eval_tensor, y_eval_tensor))"
   ],
   "metadata": {
    "collapsed": false,
    "ExecuteTime": {
     "end_time": "2024-02-01T15:07:59.146657Z",
     "start_time": "2024-02-01T15:05:40.995990Z"
    }
   },
   "id": "8b01720110040e7f"
  },
  {
   "cell_type": "code",
   "execution_count": 11,
   "outputs": [
    {
     "name": "stdout",
     "output_type": "stream",
     "text": [
      "Model: \"sequential_1\"\n",
      "_________________________________________________________________\n",
      " Layer (type)                Output Shape              Param #   \n",
      "=================================================================\n",
      " dense_5 (Dense)             (None, 155)               24180     \n",
      "                                                                 \n",
      " reshape_1 (Reshape)         (None, 1, 155)            0         \n",
      "                                                                 \n",
      " lstm_2 (LSTM)               (None, 1, 128)            145408    \n",
      "                                                                 \n",
      " dense_6 (Dense)             (None, 1, 64)             8256      \n",
      "                                                                 \n",
      " dense_7 (Dense)             (None, 1, 32)             2080      \n",
      "                                                                 \n",
      " lstm_3 (LSTM)               (None, 16)                3136      \n",
      "                                                                 \n",
      " dense_8 (Dense)             (None, 4)                 68        \n",
      "                                                                 \n",
      " dense_9 (Dense)             (None, 1)                 5         \n",
      "                                                                 \n",
      "=================================================================\n",
      "Total params: 183133 (715.36 KB)\n",
      "Trainable params: 183133 (715.36 KB)\n",
      "Non-trainable params: 0 (0.00 Byte)\n",
      "_________________________________________________________________\n"
     ]
    }
   ],
   "source": [
    "final_model.summary()"
   ],
   "metadata": {
    "collapsed": false,
    "ExecuteTime": {
     "end_time": "2024-02-01T15:08:03.168987Z",
     "start_time": "2024-02-01T15:08:03.134487Z"
    }
   },
   "id": "e343e8db0446aeb0"
  },
  {
   "cell_type": "code",
   "execution_count": 12,
   "outputs": [
    {
     "name": "stdout",
     "output_type": "stream",
     "text": [
      "41/41 [==============================] - 0s 8ms/step - loss: 0.0728 - mae: 0.0728\n"
     ]
    },
    {
     "data": {
      "text/plain": "[0.07276178151369095, 0.07276178151369095]"
     },
     "execution_count": 12,
     "metadata": {},
     "output_type": "execute_result"
    }
   ],
   "source": [
    "# view loss for testing values\n",
    "final_model.evaluate(x_test_tensor, y_test_tensor)"
   ],
   "metadata": {
    "collapsed": false,
    "ExecuteTime": {
     "end_time": "2024-02-01T15:08:04.848060Z",
     "start_time": "2024-02-01T15:08:04.489812Z"
    }
   },
   "id": "69956a15af34e265"
  },
  {
   "cell_type": "code",
   "execution_count": 13,
   "outputs": [
    {
     "name": "stdout",
     "output_type": "stream",
     "text": [
      "41/41 [==============================] - 1s 7ms/step\n"
     ]
    },
    {
     "data": {
      "text/plain": "array([[0.9739575 ],\n       [0.42569357],\n       [0.9948593 ],\n       [0.43987465],\n       [0.21147166]], dtype=float32)"
     },
     "execution_count": 13,
     "metadata": {},
     "output_type": "execute_result"
    }
   ],
   "source": [
    "# predict sample value set\n",
    "y_predictions = final_model.predict(x_test_tensor)\n",
    "y_predictions[:5]"
   ],
   "metadata": {
    "collapsed": false,
    "ExecuteTime": {
     "end_time": "2024-02-01T15:08:15.710806Z",
     "start_time": "2024-02-01T15:08:14.999143Z"
    }
   },
   "id": "af247d91cef66b79"
  },
  {
   "cell_type": "code",
   "execution_count": 14,
   "outputs": [
    {
     "data": {
      "text/plain": "<tf.Tensor: shape=(5,), dtype=float32, numpy=array([1.    , 0.4258, 1.    , 0.666 , 0.003 ], dtype=float32)>"
     },
     "execution_count": 14,
     "metadata": {},
     "output_type": "execute_result"
    }
   ],
   "source": [
    "# view actual values\n",
    "y_test_tensor[:5]"
   ],
   "metadata": {
    "collapsed": false,
    "ExecuteTime": {
     "end_time": "2024-02-01T15:08:15.716481Z",
     "start_time": "2024-02-01T15:08:15.705609Z"
    }
   },
   "id": "363d820b101a1bb6"
  },
  {
   "cell_type": "code",
   "outputs": [],
   "source": [
    "from sklearn.metrics import mean_squared_error"
   ],
   "metadata": {
    "collapsed": false,
    "ExecuteTime": {
     "end_time": "2024-02-01T15:08:30.080397Z",
     "start_time": "2024-02-01T15:08:30.074159Z"
    }
   },
   "id": "c99e404f9acbd47f",
   "execution_count": 15
  },
  {
   "cell_type": "code",
   "outputs": [
    {
     "data": {
      "text/plain": "0.015791936"
     },
     "execution_count": 16,
     "metadata": {},
     "output_type": "execute_result"
    }
   ],
   "source": [
    "mean_squared_error(y_test_tensor, y_predictions)"
   ],
   "metadata": {
    "collapsed": false,
    "ExecuteTime": {
     "end_time": "2024-02-01T15:08:43.478293Z",
     "start_time": "2024-02-01T15:08:43.471417Z"
    }
   },
   "id": "d4c605fb82a851e4",
   "execution_count": 16
  },
  {
   "cell_type": "code",
   "outputs": [
    {
     "data": {
      "text/plain": "[<matplotlib.lines.Line2D at 0x11f4e00a0>]"
     },
     "execution_count": 17,
     "metadata": {},
     "output_type": "execute_result"
    },
    {
     "data": {
      "text/plain": "<Figure size 640x480 with 1 Axes>",
      "image/png": "[encoded data removed]"
     },
     "metadata": {},
     "output_type": "display_data"
    }
   ],
   "source": [
    "x = [0 , 1.2]\n",
    "y = x\n",
    "\n",
    "plt.scatter(y_test_tensor, y_predictions)\n",
    "plt.plot(x, y, color='black')"
   ],
   "metadata": {
    "collapsed": false,
    "ExecuteTime": {
     "end_time": "2024-02-01T15:08:46.405661Z",
     "start_time": "2024-02-01T15:08:46.296805Z"
    }
   },
   "id": "2a3ad49da8c46cf1",
   "execution_count": 17
  },
  {
   "cell_type": "code",
   "execution_count": 19,
   "outputs": [
    {
     "name": "stdout",
     "output_type": "stream",
     "text": [
      "INFO:tensorflow:Assets written to: sales_prediction_model/assets\n"
     ]
    },
    {
     "name": "stderr",
     "output_type": "stream",
     "text": [
      "INFO:tensorflow:Assets written to: sales_prediction_model/assets\n"
     ]
    }
   ],
   "source": [
    "# save final model\n",
    "final_model.save('sales_prediction_model')"
   ],
   "metadata": {
    "collapsed": false,
    "ExecuteTime": {
     "end_time": "2024-02-01T15:09:19.533858Z",
     "start_time": "2024-02-01T15:09:17.723259Z"
    }
   },
   "id": "46f2cd66a29e1bc7"
  }
 ],
 "metadata": {
  "kernelspec": {
   "display_name": "Python 3",
   "language": "python",
   "name": "python3"
  },
  "language_info": {
   "codemirror_mode": {
    "name": "ipython",
    "version": 2
   },
   "file_extension": ".py",
   "mimetype": "text/x-python",
   "name": "python",
   "nbconvert_exporter": "python",
   "pygments_lexer": "ipython2",
   "version": "2.7.6"
  }
 },
 "nbformat": 4,
 "nbformat_minor": 5
}
