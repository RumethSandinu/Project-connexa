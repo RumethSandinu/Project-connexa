{
 "cells": [
  {
   "cell_type": "code",
   "execution_count": 1,
   "id": "initial_id",
   "metadata": {
    "collapsed": true,
    "ExecuteTime": {
     "end_time": "2024-01-16T16:03:07.685519Z",
     "start_time": "2024-01-16T16:03:07.457684Z"
    }
   },
   "outputs": [],
   "source": [
    "import pandas as pd"
   ]
  },
  {
   "cell_type": "code",
   "execution_count": 2,
   "outputs": [
    {
     "data": {
      "text/plain": "       Quantity Sold (kilo)  Unit Selling Price (RMB/kg)  Item Name_Other  \\\n2228               1.000000                        13.90            False   \n24062              1.000000                         3.45            False   \n12705              0.332571                         7.00            False   \n\n       Item Name_amaranth  Item Name_apricot bao mushroom   \\\n2228                False                            False   \n24062               False                            False   \n12705               False                            False   \n\n       Item Name_cabbage stem   Item Name_caidian quinoa artemisia  \\\n2228                     False                               False   \n24062                    False                               False   \n12705                    False                               False   \n\n       Item Name_caixin  Item Name_caixin   Item Name_changxianqie  ...  \\\n2228              False              False                   False  ...   \n24062             False              False                   False  ...   \n12705             False              False                   False  ...   \n\n       Item Name_zhijiang qinggengsanhua  Item Name_zhijiang red bolt  \\\n2228                               False                        False   \n24062                              False                        False   \n12705                              False                        False   \n\n       Item Name_zhuyecai  Item Name_zhuyecai   Category Name_aquatic  \\\n2228                False                False                  False   \n24062               False                False                  False   \n12705               False                False                  False   \n\n       Category Name_cabbage  Category Name_capsicum  Category Name_flower  \\\n2228                   False                    True                 False   \n24062                  False                   False                  True   \n12705                  False                   False                  True   \n\n       Category Name_mushroom  Category Name_solanum  \n2228                    False                  False  \n24062                   False                  False  \n12705                   False                  False  \n\n[3 rows x 91 columns]",
      "text/html": "<div>\n<style scoped>\n    .dataframe tbody tr th:only-of-type {\n        vertical-align: middle;\n    }\n\n    .dataframe tbody tr th {\n        vertical-align: top;\n    }\n\n    .dataframe thead th {\n        text-align: right;\n    }\n</style>\n<table border=\"1\" class=\"dataframe\">\n  <thead>\n    <tr style=\"text-align: right;\">\n      <th></th>\n      <th>Quantity Sold (kilo)</th>\n      <th>Unit Selling Price (RMB/kg)</th>\n      <th>Item Name_Other</th>\n      <th>Item Name_amaranth</th>\n      <th>Item Name_apricot bao mushroom</th>\n      <th>Item Name_cabbage stem</th>\n      <th>Item Name_caidian quinoa artemisia</th>\n      <th>Item Name_caixin</th>\n      <th>Item Name_caixin</th>\n      <th>Item Name_changxianqie</th>\n      <th>...</th>\n      <th>Item Name_zhijiang qinggengsanhua</th>\n      <th>Item Name_zhijiang red bolt</th>\n      <th>Item Name_zhuyecai</th>\n      <th>Item Name_zhuyecai</th>\n      <th>Category Name_aquatic</th>\n      <th>Category Name_cabbage</th>\n      <th>Category Name_capsicum</th>\n      <th>Category Name_flower</th>\n      <th>Category Name_mushroom</th>\n      <th>Category Name_solanum</th>\n    </tr>\n  </thead>\n  <tbody>\n    <tr>\n      <th>2228</th>\n      <td>1.000000</td>\n      <td>13.90</td>\n      <td>False</td>\n      <td>False</td>\n      <td>False</td>\n      <td>False</td>\n      <td>False</td>\n      <td>False</td>\n      <td>False</td>\n      <td>False</td>\n      <td>...</td>\n      <td>False</td>\n      <td>False</td>\n      <td>False</td>\n      <td>False</td>\n      <td>False</td>\n      <td>False</td>\n      <td>True</td>\n      <td>False</td>\n      <td>False</td>\n      <td>False</td>\n    </tr>\n    <tr>\n      <th>24062</th>\n      <td>1.000000</td>\n      <td>3.45</td>\n      <td>False</td>\n      <td>False</td>\n      <td>False</td>\n      <td>False</td>\n      <td>False</td>\n      <td>False</td>\n      <td>False</td>\n      <td>False</td>\n      <td>...</td>\n      <td>False</td>\n      <td>False</td>\n      <td>False</td>\n      <td>False</td>\n      <td>False</td>\n      <td>False</td>\n      <td>False</td>\n      <td>True</td>\n      <td>False</td>\n      <td>False</td>\n    </tr>\n    <tr>\n      <th>12705</th>\n      <td>0.332571</td>\n      <td>7.00</td>\n      <td>False</td>\n      <td>False</td>\n      <td>False</td>\n      <td>False</td>\n      <td>False</td>\n      <td>False</td>\n      <td>False</td>\n      <td>False</td>\n      <td>...</td>\n      <td>False</td>\n      <td>False</td>\n      <td>False</td>\n      <td>False</td>\n      <td>False</td>\n      <td>False</td>\n      <td>False</td>\n      <td>True</td>\n      <td>False</td>\n      <td>False</td>\n    </tr>\n  </tbody>\n</table>\n<p>3 rows × 91 columns</p>\n</div>"
     },
     "execution_count": 2,
     "metadata": {},
     "output_type": "execute_result"
    }
   ],
   "source": [
    "# load pre-processed dataset\n",
    "df = pd.read_csv('../../datasets/pre_processed_dataset.csv')\n",
    "df.sample(3)"
   ],
   "metadata": {
    "collapsed": false,
    "ExecuteTime": {
     "end_time": "2024-01-16T16:03:07.995930Z",
     "start_time": "2024-01-16T16:03:07.907060Z"
    }
   },
   "id": "f6a76d43f2da9e88"
  },
  {
   "cell_type": "code",
   "execution_count": 3,
   "outputs": [
    {
     "name": "stderr",
     "output_type": "stream",
     "text": [
      "/Users/rumethsandinu/Library/Python/3.9/lib/python/site-packages/urllib3/__init__.py:34: NotOpenSSLWarning: urllib3 v2 only supports OpenSSL 1.1.1+, currently the 'ssl' module is compiled with 'LibreSSL 2.8.3'. See: https://github.com/urllib3/urllib3/issues/3020\n",
      "  warnings.warn(\n"
     ]
    }
   ],
   "source": [
    "from sklearn.model_selection import train_test_split\n",
    "import tensorflow as tf"
   ],
   "metadata": {
    "collapsed": false,
    "ExecuteTime": {
     "end_time": "2024-01-16T16:03:11.305449Z",
     "start_time": "2024-01-16T16:03:08.772175Z"
    }
   },
   "id": "278bdc9d61ee98ad"
  },
  {
   "cell_type": "code",
   "execution_count": 4,
   "outputs": [
    {
     "name": "stderr",
     "output_type": "stream",
     "text": [
      "2024-01-16 21:33:11.311898: I metal_plugin/src/device/metal_device.cc:1154] Metal device set to: Apple M2\n",
      "2024-01-16 21:33:11.311914: I metal_plugin/src/device/metal_device.cc:296] systemMemory: 8.00 GB\n",
      "2024-01-16 21:33:11.311918: I metal_plugin/src/device/metal_device.cc:313] maxCacheSize: 2.67 GB\n",
      "2024-01-16 21:33:11.311943: I tensorflow/core/common_runtime/pluggable_device/pluggable_device_factory.cc:306] Could not identify NUMA node of platform GPU ID 0, defaulting to 0. Your kernel may not have been built with NUMA support.\n",
      "2024-01-16 21:33:11.311954: I tensorflow/core/common_runtime/pluggable_device/pluggable_device_factory.cc:272] Created TensorFlow device (/job:localhost/replica:0/task:0/device:GPU:0 with 0 MB memory) -> physical PluggableDevice (device: 0, name: METAL, pci bus id: <undefined>)\n"
     ]
    },
    {
     "data": {
      "text/plain": "(TensorShape([17228, 90]), TensorShape([5168, 90]), (2216, 90))"
     },
     "execution_count": 4,
     "metadata": {},
     "output_type": "execute_result"
    }
   ],
   "source": [
    "# define dependent and non dependent variables\n",
    "y = df['Quantity Sold (kilo)']\n",
    "x = df.drop(columns=['Quantity Sold (kilo)'], axis=1)\n",
    "\n",
    "# split the dataset 0.8, 0.1, 0.1\n",
    "x_train, x_temp, y_train, y_temp = train_test_split(x, y, test_size=0.3, random_state=42)\n",
    "x_eval, x_test, y_eval, y_test = train_test_split(x_temp, y_temp, test_size=0.3, random_state=42)\n",
    "\n",
    "# convert to tensor arrays\n",
    "x_train_tensor = tf.constant(x_train, dtype=tf.float32)\n",
    "y_train_tensor = tf.constant(y_train, dtype=tf.float32)\n",
    "x_eval_tensor = tf.constant(x_eval, dtype=tf.float32)\n",
    "y_eval_tensor = tf.constant(y_eval, dtype=tf.float32)\n",
    "\n",
    "x_train_tensor.shape, x_eval_tensor.shape, x_test.shape"
   ],
   "metadata": {
    "collapsed": false,
    "ExecuteTime": {
     "end_time": "2024-01-16T16:03:11.399185Z",
     "start_time": "2024-01-16T16:03:11.307500Z"
    }
   },
   "id": "87771c7557fd3e35"
  },
  {
   "cell_type": "code",
   "execution_count": 5,
   "outputs": [
    {
     "data": {
      "text/plain": "      Quantity Sold (kilo)  Unit Selling Price (RMB/kg)  Item Name_Other  \\\n1412              1.000000                          3.9            False   \n1445              0.428542                          6.0            False   \n517               1.000000                         13.9            False   \n\n      Item Name_amaranth  Item Name_apricot bao mushroom   \\\n1412               False                            False   \n1445               False                            False   \n517                False                            False   \n\n      Item Name_cabbage stem   Item Name_caidian quinoa artemisia  \\\n1412                    False                               False   \n1445                    False                               False   \n517                     False                               False   \n\n      Item Name_caixin  Item Name_caixin   Item Name_changxianqie  ...  \\\n1412             False              False                   False  ...   \n1445             False              False                   False  ...   \n517              False              False                   False  ...   \n\n      Item Name_zhijiang qinggengsanhua  Item Name_zhijiang red bolt  \\\n1412                              False                        False   \n1445                              False                        False   \n517                               False                        False   \n\n      Item Name_zhuyecai  Item Name_zhuyecai   Category Name_aquatic  \\\n1412               False                False                  False   \n1445               False                False                  False   \n517                False                False                  False   \n\n      Category Name_cabbage  Category Name_capsicum  Category Name_flower  \\\n1412                  False                    True                 False   \n1445                  False                   False                  True   \n517                   False                    True                 False   \n\n      Category Name_mushroom  Category Name_solanum  \n1412                   False                  False  \n1445                   False                  False  \n517                    False                  False  \n\n[3 rows x 91 columns]",
      "text/html": "<div>\n<style scoped>\n    .dataframe tbody tr th:only-of-type {\n        vertical-align: middle;\n    }\n\n    .dataframe tbody tr th {\n        vertical-align: top;\n    }\n\n    .dataframe thead th {\n        text-align: right;\n    }\n</style>\n<table border=\"1\" class=\"dataframe\">\n  <thead>\n    <tr style=\"text-align: right;\">\n      <th></th>\n      <th>Quantity Sold (kilo)</th>\n      <th>Unit Selling Price (RMB/kg)</th>\n      <th>Item Name_Other</th>\n      <th>Item Name_amaranth</th>\n      <th>Item Name_apricot bao mushroom</th>\n      <th>Item Name_cabbage stem</th>\n      <th>Item Name_caidian quinoa artemisia</th>\n      <th>Item Name_caixin</th>\n      <th>Item Name_caixin</th>\n      <th>Item Name_changxianqie</th>\n      <th>...</th>\n      <th>Item Name_zhijiang qinggengsanhua</th>\n      <th>Item Name_zhijiang red bolt</th>\n      <th>Item Name_zhuyecai</th>\n      <th>Item Name_zhuyecai</th>\n      <th>Category Name_aquatic</th>\n      <th>Category Name_cabbage</th>\n      <th>Category Name_capsicum</th>\n      <th>Category Name_flower</th>\n      <th>Category Name_mushroom</th>\n      <th>Category Name_solanum</th>\n    </tr>\n  </thead>\n  <tbody>\n    <tr>\n      <th>1412</th>\n      <td>1.000000</td>\n      <td>3.9</td>\n      <td>False</td>\n      <td>False</td>\n      <td>False</td>\n      <td>False</td>\n      <td>False</td>\n      <td>False</td>\n      <td>False</td>\n      <td>False</td>\n      <td>...</td>\n      <td>False</td>\n      <td>False</td>\n      <td>False</td>\n      <td>False</td>\n      <td>False</td>\n      <td>False</td>\n      <td>True</td>\n      <td>False</td>\n      <td>False</td>\n      <td>False</td>\n    </tr>\n    <tr>\n      <th>1445</th>\n      <td>0.428542</td>\n      <td>6.0</td>\n      <td>False</td>\n      <td>False</td>\n      <td>False</td>\n      <td>False</td>\n      <td>False</td>\n      <td>False</td>\n      <td>False</td>\n      <td>False</td>\n      <td>...</td>\n      <td>False</td>\n      <td>False</td>\n      <td>False</td>\n      <td>False</td>\n      <td>False</td>\n      <td>False</td>\n      <td>False</td>\n      <td>True</td>\n      <td>False</td>\n      <td>False</td>\n    </tr>\n    <tr>\n      <th>517</th>\n      <td>1.000000</td>\n      <td>13.9</td>\n      <td>False</td>\n      <td>False</td>\n      <td>False</td>\n      <td>False</td>\n      <td>False</td>\n      <td>False</td>\n      <td>False</td>\n      <td>False</td>\n      <td>...</td>\n      <td>False</td>\n      <td>False</td>\n      <td>False</td>\n      <td>False</td>\n      <td>False</td>\n      <td>False</td>\n      <td>True</td>\n      <td>False</td>\n      <td>False</td>\n      <td>False</td>\n    </tr>\n  </tbody>\n</table>\n<p>3 rows × 91 columns</p>\n</div>"
     },
     "execution_count": 5,
     "metadata": {},
     "output_type": "execute_result"
    }
   ],
   "source": [
    "# save testing dataset\n",
    "df_test = pd.concat([y_test.reset_index(drop=True), x_test.reset_index(drop=True)], axis=1)\n",
    "df_test.to_csv('../../datasets/testing_dataset.csv')\n",
    "df_test.sample(3)"
   ],
   "metadata": {
    "collapsed": false,
    "ExecuteTime": {
     "end_time": "2024-01-16T16:03:11.429825Z",
     "start_time": "2024-01-16T16:03:11.398507Z"
    }
   },
   "id": "f2ad927015ae9653"
  },
  {
   "cell_type": "code",
   "execution_count": 6,
   "outputs": [],
   "source": [
    "# convert to tensor arrays\n",
    "x_test_tensor = tf.constant(x_test, dtype=tf.float32)\n",
    "y_test_tensor = tf.constant(y_test, dtype=tf.float32)"
   ],
   "metadata": {
    "collapsed": false,
    "ExecuteTime": {
     "end_time": "2024-01-16T16:03:12.028656Z",
     "start_time": "2024-01-16T16:03:12.019539Z"
    }
   },
   "id": "d4f2882c044068f4"
  },
  {
   "cell_type": "code",
   "execution_count": 7,
   "outputs": [
    {
     "name": "stdout",
     "output_type": "stream",
     "text": [
      "Epoch 1/50\n"
     ]
    },
    {
     "name": "stderr",
     "output_type": "stream",
     "text": [
      "2024-01-16 21:33:24.555851: I tensorflow/core/grappler/optimizers/custom_graph_optimizer_registry.cc:117] Plugin optimizer for device_type GPU is enabled.\n"
     ]
    },
    {
     "name": "stdout",
     "output_type": "stream",
     "text": [
      "539/539 [==============================] - 9s 15ms/step - loss: 0.4421 - mae: 0.4421 - val_loss: 0.3258 - val_mae: 0.3258\n",
      "Epoch 2/50\n",
      "539/539 [==============================] - 8s 14ms/step - loss: 0.2854 - mae: 0.2854 - val_loss: 0.2371 - val_mae: 0.2371\n",
      "Epoch 3/50\n",
      "539/539 [==============================] - 8s 14ms/step - loss: 0.2298 - mae: 0.2298 - val_loss: 0.2080 - val_mae: 0.2080\n",
      "Epoch 4/50\n",
      "539/539 [==============================] - 8s 14ms/step - loss: 0.2124 - mae: 0.2124 - val_loss: 0.1977 - val_mae: 0.1977\n",
      "Epoch 5/50\n",
      "539/539 [==============================] - 7s 14ms/step - loss: 0.2045 - mae: 0.2045 - val_loss: 0.1917 - val_mae: 0.1917\n",
      "Epoch 6/50\n",
      "539/539 [==============================] - 7s 14ms/step - loss: 0.1989 - mae: 0.1989 - val_loss: 0.1866 - val_mae: 0.1866\n",
      "Epoch 7/50\n",
      "539/539 [==============================] - 7s 14ms/step - loss: 0.1938 - mae: 0.1938 - val_loss: 0.1820 - val_mae: 0.1820\n",
      "Epoch 8/50\n",
      "539/539 [==============================] - 7s 14ms/step - loss: 0.1886 - mae: 0.1886 - val_loss: 0.1769 - val_mae: 0.1769\n",
      "Epoch 9/50\n",
      "539/539 [==============================] - 7s 14ms/step - loss: 0.1826 - mae: 0.1826 - val_loss: 0.1712 - val_mae: 0.1712\n",
      "Epoch 10/50\n",
      "539/539 [==============================] - 7s 14ms/step - loss: 0.1758 - mae: 0.1758 - val_loss: 0.1645 - val_mae: 0.1645\n",
      "Epoch 11/50\n",
      "539/539 [==============================] - 7s 14ms/step - loss: 0.1680 - mae: 0.1680 - val_loss: 0.1566 - val_mae: 0.1566\n",
      "Epoch 12/50\n",
      "539/539 [==============================] - 7s 14ms/step - loss: 0.1588 - mae: 0.1588 - val_loss: 0.1475 - val_mae: 0.1475\n",
      "Epoch 13/50\n",
      "539/539 [==============================] - 7s 14ms/step - loss: 0.1479 - mae: 0.1479 - val_loss: 0.1369 - val_mae: 0.1369\n",
      "Epoch 14/50\n",
      "539/539 [==============================] - 7s 14ms/step - loss: 0.1374 - mae: 0.1374 - val_loss: 0.1285 - val_mae: 0.1285\n",
      "Epoch 15/50\n",
      "539/539 [==============================] - 7s 14ms/step - loss: 0.1298 - mae: 0.1298 - val_loss: 0.1221 - val_mae: 0.1221\n",
      "Epoch 16/50\n",
      "539/539 [==============================] - 7s 14ms/step - loss: 0.1234 - mae: 0.1234 - val_loss: 0.1161 - val_mae: 0.1161\n",
      "Epoch 17/50\n",
      "539/539 [==============================] - 7s 14ms/step - loss: 0.1179 - mae: 0.1179 - val_loss: 0.1109 - val_mae: 0.1109\n",
      "Epoch 18/50\n",
      "539/539 [==============================] - 7s 14ms/step - loss: 0.1129 - mae: 0.1129 - val_loss: 0.1061 - val_mae: 0.1061\n",
      "Epoch 19/50\n",
      "539/539 [==============================] - 7s 14ms/step - loss: 0.1084 - mae: 0.1084 - val_loss: 0.1021 - val_mae: 0.1021\n",
      "Epoch 20/50\n",
      "539/539 [==============================] - 7s 14ms/step - loss: 0.1043 - mae: 0.1043 - val_loss: 0.0988 - val_mae: 0.0988\n",
      "Epoch 21/50\n",
      "539/539 [==============================] - 7s 14ms/step - loss: 0.1008 - mae: 0.1008 - val_loss: 0.0955 - val_mae: 0.0955\n",
      "Epoch 22/50\n",
      "539/539 [==============================] - 8s 14ms/step - loss: 0.0977 - mae: 0.0977 - val_loss: 0.0927 - val_mae: 0.0927\n",
      "Epoch 23/50\n",
      "539/539 [==============================] - 7s 14ms/step - loss: 0.0950 - mae: 0.0950 - val_loss: 0.0899 - val_mae: 0.0899\n",
      "Epoch 24/50\n",
      "539/539 [==============================] - 7s 14ms/step - loss: 0.0924 - mae: 0.0924 - val_loss: 0.0878 - val_mae: 0.0878\n",
      "Epoch 25/50\n",
      "539/539 [==============================] - 7s 14ms/step - loss: 0.0903 - mae: 0.0903 - val_loss: 0.0856 - val_mae: 0.0856\n",
      "Epoch 26/50\n",
      "539/539 [==============================] - 7s 14ms/step - loss: 0.0884 - mae: 0.0884 - val_loss: 0.0840 - val_mae: 0.0840\n",
      "Epoch 27/50\n",
      "539/539 [==============================] - 7s 14ms/step - loss: 0.0866 - mae: 0.0866 - val_loss: 0.0823 - val_mae: 0.0823\n",
      "Epoch 28/50\n",
      "539/539 [==============================] - 7s 14ms/step - loss: 0.0849 - mae: 0.0849 - val_loss: 0.0804 - val_mae: 0.0804\n",
      "Epoch 29/50\n",
      "539/539 [==============================] - 7s 14ms/step - loss: 0.0833 - mae: 0.0833 - val_loss: 0.0791 - val_mae: 0.0791\n",
      "Epoch 30/50\n",
      "539/539 [==============================] - 7s 14ms/step - loss: 0.0819 - mae: 0.0819 - val_loss: 0.0778 - val_mae: 0.0778\n",
      "Epoch 31/50\n",
      "539/539 [==============================] - 7s 14ms/step - loss: 0.0805 - mae: 0.0805 - val_loss: 0.0765 - val_mae: 0.0765\n",
      "Epoch 32/50\n",
      "539/539 [==============================] - 7s 14ms/step - loss: 0.0792 - mae: 0.0792 - val_loss: 0.0754 - val_mae: 0.0754\n",
      "Epoch 33/50\n",
      "539/539 [==============================] - 7s 14ms/step - loss: 0.0781 - mae: 0.0781 - val_loss: 0.0748 - val_mae: 0.0748\n",
      "Epoch 34/50\n",
      "539/539 [==============================] - 7s 14ms/step - loss: 0.0770 - mae: 0.0770 - val_loss: 0.0735 - val_mae: 0.0735\n",
      "Epoch 35/50\n",
      "539/539 [==============================] - 7s 14ms/step - loss: 0.0760 - mae: 0.0760 - val_loss: 0.0731 - val_mae: 0.0731\n",
      "Epoch 36/50\n",
      "539/539 [==============================] - 7s 14ms/step - loss: 0.0751 - mae: 0.0751 - val_loss: 0.0717 - val_mae: 0.0717\n",
      "Epoch 37/50\n",
      "539/539 [==============================] - 8s 14ms/step - loss: 0.0742 - mae: 0.0742 - val_loss: 0.0709 - val_mae: 0.0709\n",
      "Epoch 38/50\n",
      "539/539 [==============================] - 7s 14ms/step - loss: 0.0737 - mae: 0.0737 - val_loss: 0.0704 - val_mae: 0.0704\n",
      "Epoch 39/50\n",
      "539/539 [==============================] - 7s 14ms/step - loss: 0.0731 - mae: 0.0731 - val_loss: 0.0699 - val_mae: 0.0699\n",
      "Epoch 40/50\n",
      "539/539 [==============================] - 7s 14ms/step - loss: 0.0727 - mae: 0.0727 - val_loss: 0.0695 - val_mae: 0.0695\n",
      "Epoch 41/50\n",
      "539/539 [==============================] - 7s 14ms/step - loss: 0.0722 - mae: 0.0722 - val_loss: 0.0689 - val_mae: 0.0689\n",
      "Epoch 42/50\n",
      "539/539 [==============================] - 7s 14ms/step - loss: 0.0716 - mae: 0.0716 - val_loss: 0.0687 - val_mae: 0.0687\n",
      "Epoch 43/50\n",
      "539/539 [==============================] - 7s 14ms/step - loss: 0.0712 - mae: 0.0712 - val_loss: 0.0684 - val_mae: 0.0684\n",
      "Epoch 44/50\n",
      "539/539 [==============================] - 8s 14ms/step - loss: 0.0707 - mae: 0.0707 - val_loss: 0.0677 - val_mae: 0.0677\n",
      "Epoch 45/50\n",
      "539/539 [==============================] - 7s 14ms/step - loss: 0.0703 - mae: 0.0703 - val_loss: 0.0672 - val_mae: 0.0672\n",
      "Epoch 46/50\n",
      "539/539 [==============================] - 7s 14ms/step - loss: 0.0699 - mae: 0.0699 - val_loss: 0.0668 - val_mae: 0.0668\n",
      "Epoch 47/50\n",
      "539/539 [==============================] - 7s 14ms/step - loss: 0.0694 - mae: 0.0694 - val_loss: 0.0669 - val_mae: 0.0669\n",
      "Epoch 48/50\n",
      "539/539 [==============================] - 7s 14ms/step - loss: 0.0691 - mae: 0.0691 - val_loss: 0.0661 - val_mae: 0.0661\n",
      "Epoch 49/50\n",
      "539/539 [==============================] - 7s 14ms/step - loss: 0.0688 - mae: 0.0688 - val_loss: 0.0661 - val_mae: 0.0661\n",
      "Epoch 50/50\n",
      "539/539 [==============================] - 7s 14ms/step - loss: 0.0685 - mae: 0.0685 - val_loss: 0.0657 - val_mae: 0.0657\n"
     ]
    }
   ],
   "source": [
    "# model\n",
    "model = tf.keras.Sequential()\n",
    "model.add(tf.keras.layers.Dense(90, activation='relu', input_shape=(x_train_tensor.shape[1],)))\n",
    "model.add(tf.keras.layers.Reshape((1, 90))) \n",
    "model.add(tf.keras.layers.LSTM(64, return_sequences=True))\n",
    "model.add(tf.keras.layers.Dense(64, activation='relu'))\n",
    "model.add(tf.keras.layers.LSTM(16))\n",
    "model.add(tf.keras.layers.Dense(1, activation='linear'))\n",
    "\n",
    "# compile model\n",
    "model.compile(optimizer=tf.keras.optimizers.legacy.Adam(learning_rate=1e-5), loss='mae', metrics=['mae'])\n",
    "\n",
    "epoch_number = 50\n",
    "\n",
    "# train model and get history\n",
    "history = model.fit(x_train_tensor, y_train_tensor, epochs=epoch_number, validation_data=(x_eval_tensor, y_eval_tensor))"
   ],
   "metadata": {
    "collapsed": false,
    "ExecuteTime": {
     "end_time": "2024-01-16T16:09:38.188383Z",
     "start_time": "2024-01-16T16:03:23.405316Z"
    }
   },
   "id": "8b436d40b14f1f96"
  },
  {
   "cell_type": "code",
   "execution_count": 8,
   "outputs": [],
   "source": [
    "import matplotlib.pyplot as plt"
   ],
   "metadata": {
    "collapsed": false,
    "ExecuteTime": {
     "end_time": "2024-01-16T16:09:38.376990Z",
     "start_time": "2024-01-16T16:09:38.189992Z"
    }
   },
   "id": "6463930abb54b395"
  },
  {
   "cell_type": "code",
   "execution_count": 9,
   "outputs": [
    {
     "data": {
      "text/plain": "<Figure size 640x480 with 1 Axes>",
      "image/png": "[encoded data removed]"
     },
     "metadata": {},
     "output_type": "display_data"
    }
   ],
   "source": [
    "# plot loss with respect to epoch number\n",
    "x_range = range(1, epoch_number + 1)\n",
    "loss = history.history['loss']\n",
    "val_loss = history.history['val_loss']\n",
    "plt.plot(x_range, loss, label='Training loss')\n",
    "plt.plot(x_range, val_loss, label='Validation loss')\n",
    "plt.xlabel('epoch')\n",
    "plt.ylabel('loss')\n",
    "plt.legend()\n",
    "plt.grid(True, linewidth = 0.5, color = 'y', linestyle = '--')"
   ],
   "metadata": {
    "collapsed": false,
    "ExecuteTime": {
     "end_time": "2024-01-16T16:09:38.520357Z",
     "start_time": "2024-01-16T16:09:38.378176Z"
    }
   },
   "id": "edd889b97d10a84"
  },
  {
   "cell_type": "code",
   "execution_count": 16,
   "outputs": [
    {
     "name": "stdout",
     "output_type": "stream",
     "text": [
      "Epoch 1/30\n",
      "539/539 [==============================] - 10s 16ms/step - loss: 0.4474 - mae: 0.4474 - val_loss: 0.3538 - val_mae: 0.3538\n",
      "Epoch 2/30\n",
      "539/539 [==============================] - 8s 15ms/step - loss: 0.3147 - mae: 0.3147 - val_loss: 0.2659 - val_mae: 0.2659\n",
      "Epoch 3/30\n",
      "539/539 [==============================] - 8s 16ms/step - loss: 0.2498 - mae: 0.2498 - val_loss: 0.2198 - val_mae: 0.2198\n",
      "Epoch 4/30\n",
      "539/539 [==============================] - 8s 15ms/step - loss: 0.2201 - mae: 0.2201 - val_loss: 0.2027 - val_mae: 0.2027\n",
      "Epoch 5/30\n",
      "539/539 [==============================] - 8s 15ms/step - loss: 0.2087 - mae: 0.2087 - val_loss: 0.1950 - val_mae: 0.1950\n",
      "Epoch 6/30\n",
      "539/539 [==============================] - 8s 15ms/step - loss: 0.2022 - mae: 0.2022 - val_loss: 0.1895 - val_mae: 0.1895\n",
      "Epoch 7/30\n",
      "539/539 [==============================] - 8s 15ms/step - loss: 0.1970 - mae: 0.1970 - val_loss: 0.1852 - val_mae: 0.1852\n",
      "Epoch 8/30\n",
      "539/539 [==============================] - 8s 15ms/step - loss: 0.1927 - mae: 0.1927 - val_loss: 0.1815 - val_mae: 0.1815\n",
      "Epoch 9/30\n",
      "539/539 [==============================] - 8s 14ms/step - loss: 0.1884 - mae: 0.1884 - val_loss: 0.1779 - val_mae: 0.1779\n",
      "Epoch 10/30\n",
      "539/539 [==============================] - 8s 15ms/step - loss: 0.1843 - mae: 0.1843 - val_loss: 0.1740 - val_mae: 0.1740\n",
      "Epoch 11/30\n",
      "539/539 [==============================] - 8s 14ms/step - loss: 0.1798 - mae: 0.1798 - val_loss: 0.1696 - val_mae: 0.1696\n",
      "Epoch 12/30\n",
      "539/539 [==============================] - 8s 14ms/step - loss: 0.1748 - mae: 0.1748 - val_loss: 0.1650 - val_mae: 0.1650\n",
      "Epoch 13/30\n",
      "539/539 [==============================] - 8s 15ms/step - loss: 0.1694 - mae: 0.1694 - val_loss: 0.1597 - val_mae: 0.1597\n",
      "Epoch 14/30\n",
      "539/539 [==============================] - 8s 14ms/step - loss: 0.1631 - mae: 0.1631 - val_loss: 0.1536 - val_mae: 0.1536\n",
      "Epoch 15/30\n",
      "539/539 [==============================] - 8s 15ms/step - loss: 0.1562 - mae: 0.1562 - val_loss: 0.1470 - val_mae: 0.1470\n",
      "Epoch 16/30\n",
      "539/539 [==============================] - 8s 14ms/step - loss: 0.1485 - mae: 0.1485 - val_loss: 0.1397 - val_mae: 0.1397\n",
      "Epoch 17/30\n",
      "539/539 [==============================] - 8s 15ms/step - loss: 0.1407 - mae: 0.1407 - val_loss: 0.1333 - val_mae: 0.1333\n",
      "Epoch 18/30\n",
      "539/539 [==============================] - 8s 15ms/step - loss: 0.1346 - mae: 0.1346 - val_loss: 0.1278 - val_mae: 0.1278\n",
      "Epoch 19/30\n",
      "539/539 [==============================] - 8s 15ms/step - loss: 0.1294 - mae: 0.1294 - val_loss: 0.1228 - val_mae: 0.1228\n",
      "Epoch 20/30\n",
      "539/539 [==============================] - 8s 14ms/step - loss: 0.1245 - mae: 0.1245 - val_loss: 0.1181 - val_mae: 0.1181\n",
      "Epoch 21/30\n",
      "539/539 [==============================] - 8s 15ms/step - loss: 0.1197 - mae: 0.1197 - val_loss: 0.1133 - val_mae: 0.1133\n",
      "Epoch 22/30\n",
      "539/539 [==============================] - 8s 15ms/step - loss: 0.1149 - mae: 0.1149 - val_loss: 0.1087 - val_mae: 0.1087\n",
      "Epoch 23/30\n",
      "539/539 [==============================] - 8s 15ms/step - loss: 0.1102 - mae: 0.1102 - val_loss: 0.1043 - val_mae: 0.1043\n",
      "Epoch 24/30\n",
      "539/539 [==============================] - 8s 14ms/step - loss: 0.1061 - mae: 0.1061 - val_loss: 0.1006 - val_mae: 0.1006\n",
      "Epoch 25/30\n",
      "539/539 [==============================] - 8s 14ms/step - loss: 0.1025 - mae: 0.1025 - val_loss: 0.0974 - val_mae: 0.0974\n",
      "Epoch 26/30\n",
      "539/539 [==============================] - 8s 15ms/step - loss: 0.0993 - mae: 0.0993 - val_loss: 0.0943 - val_mae: 0.0943\n",
      "Epoch 27/30\n",
      "539/539 [==============================] - 8s 15ms/step - loss: 0.0962 - mae: 0.0962 - val_loss: 0.0913 - val_mae: 0.0913\n",
      "Epoch 28/30\n",
      "539/539 [==============================] - 8s 14ms/step - loss: 0.0935 - mae: 0.0935 - val_loss: 0.0885 - val_mae: 0.0885\n",
      "Epoch 29/30\n",
      "539/539 [==============================] - 8s 14ms/step - loss: 0.0909 - mae: 0.0909 - val_loss: 0.0863 - val_mae: 0.0863\n",
      "Epoch 30/30\n",
      "539/539 [==============================] - 8s 14ms/step - loss: 0.0887 - mae: 0.0887 - val_loss: 0.0841 - val_mae: 0.0841\n"
     ]
    }
   ],
   "source": [
    "# final_model\n",
    "final_model = tf.keras.Sequential()\n",
    "final_model.add(tf.keras.layers.Dense(90, activation='relu', input_shape=(x_train_tensor.shape[1],)))\n",
    "final_model.add(tf.keras.layers.Reshape((1, 90))) \n",
    "final_model.add(tf.keras.layers.LSTM(64, return_sequences=True))\n",
    "final_model.add(tf.keras.layers.Dense(64, activation='relu'))\n",
    "final_model.add(tf.keras.layers.LSTM(16))\n",
    "final_model.add(tf.keras.layers.Dense(1, activation='linear'))\n",
    "\n",
    "# compile model\n",
    "final_model.compile(optimizer=tf.keras.optimizers.legacy.Adam(learning_rate=1e-5), loss='mae', metrics=['mae'])\n",
    "\n",
    "epoch_number = 30\n",
    "\n",
    "# train model and get history\n",
    "history = final_model.fit(x_train_tensor, y_train_tensor, epochs=epoch_number, validation_data=(x_eval_tensor, y_eval_tensor))"
   ],
   "metadata": {
    "collapsed": false,
    "ExecuteTime": {
     "end_time": "2024-01-16T16:19:47.051656Z",
     "start_time": "2024-01-16T16:15:46.738856Z"
    }
   },
   "id": "8b01720110040e7f"
  },
  {
   "cell_type": "code",
   "execution_count": 17,
   "outputs": [
    {
     "name": "stdout",
     "output_type": "stream",
     "text": [
      "Model: \"sequential_2\"\n",
      "_________________________________________________________________\n",
      " Layer (type)                Output Shape              Param #   \n",
      "=================================================================\n",
      " dense_6 (Dense)             (None, 90)                8190      \n",
      "                                                                 \n",
      " reshape_2 (Reshape)         (None, 1, 90)             0         \n",
      "                                                                 \n",
      " lstm_4 (LSTM)               (None, 1, 64)             39680     \n",
      "                                                                 \n",
      " dense_7 (Dense)             (None, 1, 64)             4160      \n",
      "                                                                 \n",
      " lstm_5 (LSTM)               (None, 16)                5184      \n",
      "                                                                 \n",
      " dense_8 (Dense)             (None, 1)                 17        \n",
      "                                                                 \n",
      "=================================================================\n",
      "Total params: 57231 (223.56 KB)\n",
      "Trainable params: 57231 (223.56 KB)\n",
      "Non-trainable params: 0 (0.00 Byte)\n",
      "_________________________________________________________________\n"
     ]
    }
   ],
   "source": [
    "final_model.summary()"
   ],
   "metadata": {
    "collapsed": false,
    "ExecuteTime": {
     "end_time": "2024-01-16T16:19:47.064271Z",
     "start_time": "2024-01-16T16:19:47.055893Z"
    }
   },
   "id": "e343e8db0446aeb0"
  },
  {
   "cell_type": "code",
   "execution_count": 18,
   "outputs": [
    {
     "name": "stdout",
     "output_type": "stream",
     "text": [
      "70/70 [==============================] - 0s 7ms/step - loss: 0.0896 - mae: 0.0896\n"
     ]
    },
    {
     "data": {
      "text/plain": "[0.08959148079156876, 0.08959148079156876]"
     },
     "execution_count": 18,
     "metadata": {},
     "output_type": "execute_result"
    }
   ],
   "source": [
    "# view loss for testing values\n",
    "final_model.evaluate(x_test_tensor, y_test_tensor)"
   ],
   "metadata": {
    "collapsed": false,
    "ExecuteTime": {
     "end_time": "2024-01-16T16:19:47.593326Z",
     "start_time": "2024-01-16T16:19:47.065393Z"
    }
   },
   "id": "69956a15af34e265"
  },
  {
   "cell_type": "code",
   "execution_count": 19,
   "outputs": [
    {
     "name": "stdout",
     "output_type": "stream",
     "text": [
      "70/70 [==============================] - 1s 5ms/step\n"
     ]
    },
    {
     "data": {
      "text/plain": "array([[0.84368974],\n       [0.20654385],\n       [0.40435717],\n       [0.20942755],\n       [0.61023587]], dtype=float32)"
     },
     "execution_count": 19,
     "metadata": {},
     "output_type": "execute_result"
    }
   ],
   "source": [
    "# predict sample value set\n",
    "y_predictions = final_model.predict(x_test_tensor)\n",
    "y_predictions[:5]"
   ],
   "metadata": {
    "collapsed": false,
    "ExecuteTime": {
     "end_time": "2024-01-16T16:19:48.306697Z",
     "start_time": "2024-01-16T16:19:47.594394Z"
    }
   },
   "id": "af247d91cef66b79"
  },
  {
   "cell_type": "code",
   "execution_count": 20,
   "outputs": [
    {
     "data": {
      "text/plain": "<tf.Tensor: shape=(5,), dtype=float32, numpy=\narray([1.        , 0.167     , 0.54485714, 0.1935    , 0.8912    ],\n      dtype=float32)>"
     },
     "execution_count": 20,
     "metadata": {},
     "output_type": "execute_result"
    }
   ],
   "source": [
    "# view actual values\n",
    "y_test_tensor[:5]"
   ],
   "metadata": {
    "collapsed": false,
    "ExecuteTime": {
     "end_time": "2024-01-16T16:19:48.309301Z",
     "start_time": "2024-01-16T16:19:48.305279Z"
    }
   },
   "id": "363d820b101a1bb6"
  },
  {
   "cell_type": "code",
   "execution_count": 21,
   "outputs": [
    {
     "name": "stdout",
     "output_type": "stream",
     "text": [
      "INFO:tensorflow:Assets written to: sales_prediction_model/assets\n"
     ]
    },
    {
     "name": "stderr",
     "output_type": "stream",
     "text": [
      "INFO:tensorflow:Assets written to: sales_prediction_model/assets\n"
     ]
    }
   ],
   "source": [
    "# save final model\n",
    "final_model.save('sales_prediction_model')"
   ],
   "metadata": {
    "collapsed": false,
    "ExecuteTime": {
     "end_time": "2024-01-16T16:19:49.936285Z",
     "start_time": "2024-01-16T16:19:48.311688Z"
    }
   },
   "id": "46f2cd66a29e1bc7"
  }
 ],
 "metadata": {
  "kernelspec": {
   "display_name": "Python 3",
   "language": "python",
   "name": "python3"
  },
  "language_info": {
   "codemirror_mode": {
    "name": "ipython",
    "version": 2
   },
   "file_extension": ".py",
   "mimetype": "text/x-python",
   "name": "python",
   "nbconvert_exporter": "python",
   "pygments_lexer": "ipython2",
   "version": "2.7.6"
  }
 },
 "nbformat": 4,
 "nbformat_minor": 5
}
