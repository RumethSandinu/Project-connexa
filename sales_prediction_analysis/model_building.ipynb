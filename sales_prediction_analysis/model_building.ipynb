{
 "cells": [
  {
   "cell_type": "code",
   "execution_count": 1,
   "id": "initial_id",
   "metadata": {
    "collapsed": true,
    "ExecuteTime": {
     "end_time": "2024-02-05T12:03:19.809684Z",
     "start_time": "2024-02-05T12:03:19.268440Z"
    }
   },
   "outputs": [],
   "source": [
    "import pandas as pd"
   ]
  },
  {
   "cell_type": "code",
   "execution_count": 2,
   "outputs": [
    {
     "data": {
      "text/plain": "      quantity_sold_kg  unit_selling_price_rmb/kg  item_name_7 colour pepper   \\\n731           0.406538                       21.8                       False   \n1554          0.217333                       14.0                       False   \n9070          0.387000                       31.6                       False   \n\n      item_name_agaricus bisporus   item_name_aihao  item_name_amaranth   \\\n731                          False            False                False   \n1554                         False            False                False   \n9070                         False            False                False   \n\n      item_name_apricot bao mushroom   item_name_basil   \\\n731                             False             False   \n1554                            False             False   \n9070                            False             False   \n\n      item_name_bell pepper   item_name_big broccoli  ...  \\\n731                    False                   False  ...   \n1554                   False                   False  ...   \n9070                   False                   False  ...   \n\n      item_name_yuxingcao   item_name_zhijiang red bolt   \\\n731                  False                         False   \n1554                 False                         False   \n9070                 False                         False   \n\n      item_name_zhimaxiancai  item_name_zhuyecai   category_name_aquatic  \\\n731                    False                False                  False   \n1554                   False                False                  False   \n9070                   False                False                   True   \n\n      category_name_cabbage  category_name_capsicum  category_name_flower  \\\n731                   False                    True                 False   \n1554                  False                   False                 False   \n9070                  False                   False                 False   \n\n      category_name_mushroom  category_name_solanum  \n731                    False                  False  \n1554                    True                  False  \n9070                   False                  False  \n\n[3 rows x 156 columns]",
      "text/html": "<div>\n<style scoped>\n    .dataframe tbody tr th:only-of-type {\n        vertical-align: middle;\n    }\n\n    .dataframe tbody tr th {\n        vertical-align: top;\n    }\n\n    .dataframe thead th {\n        text-align: right;\n    }\n</style>\n<table border=\"1\" class=\"dataframe\">\n  <thead>\n    <tr style=\"text-align: right;\">\n      <th></th>\n      <th>quantity_sold_kg</th>\n      <th>unit_selling_price_rmb/kg</th>\n      <th>item_name_7 colour pepper</th>\n      <th>item_name_agaricus bisporus</th>\n      <th>item_name_aihao</th>\n      <th>item_name_amaranth</th>\n      <th>item_name_apricot bao mushroom</th>\n      <th>item_name_basil</th>\n      <th>item_name_bell pepper</th>\n      <th>item_name_big broccoli</th>\n      <th>...</th>\n      <th>item_name_yuxingcao</th>\n      <th>item_name_zhijiang red bolt</th>\n      <th>item_name_zhimaxiancai</th>\n      <th>item_name_zhuyecai</th>\n      <th>category_name_aquatic</th>\n      <th>category_name_cabbage</th>\n      <th>category_name_capsicum</th>\n      <th>category_name_flower</th>\n      <th>category_name_mushroom</th>\n      <th>category_name_solanum</th>\n    </tr>\n  </thead>\n  <tbody>\n    <tr>\n      <th>731</th>\n      <td>0.406538</td>\n      <td>21.8</td>\n      <td>False</td>\n      <td>False</td>\n      <td>False</td>\n      <td>False</td>\n      <td>False</td>\n      <td>False</td>\n      <td>False</td>\n      <td>False</td>\n      <td>...</td>\n      <td>False</td>\n      <td>False</td>\n      <td>False</td>\n      <td>False</td>\n      <td>False</td>\n      <td>False</td>\n      <td>True</td>\n      <td>False</td>\n      <td>False</td>\n      <td>False</td>\n    </tr>\n    <tr>\n      <th>1554</th>\n      <td>0.217333</td>\n      <td>14.0</td>\n      <td>False</td>\n      <td>False</td>\n      <td>False</td>\n      <td>False</td>\n      <td>False</td>\n      <td>False</td>\n      <td>False</td>\n      <td>False</td>\n      <td>...</td>\n      <td>False</td>\n      <td>False</td>\n      <td>False</td>\n      <td>False</td>\n      <td>False</td>\n      <td>False</td>\n      <td>False</td>\n      <td>False</td>\n      <td>True</td>\n      <td>False</td>\n    </tr>\n    <tr>\n      <th>9070</th>\n      <td>0.387000</td>\n      <td>31.6</td>\n      <td>False</td>\n      <td>False</td>\n      <td>False</td>\n      <td>False</td>\n      <td>False</td>\n      <td>False</td>\n      <td>False</td>\n      <td>False</td>\n      <td>...</td>\n      <td>False</td>\n      <td>False</td>\n      <td>False</td>\n      <td>False</td>\n      <td>True</td>\n      <td>False</td>\n      <td>False</td>\n      <td>False</td>\n      <td>False</td>\n      <td>False</td>\n    </tr>\n  </tbody>\n</table>\n<p>3 rows × 156 columns</p>\n</div>"
     },
     "execution_count": 2,
     "metadata": {},
     "output_type": "execute_result"
    }
   ],
   "source": [
    "# load pre-processed dataset\n",
    "df = pd.read_csv('../../datasets/pre_processed_dataset.csv')\n",
    "df.sample(3)"
   ],
   "metadata": {
    "collapsed": false,
    "ExecuteTime": {
     "end_time": "2024-02-05T12:03:19.891123Z",
     "start_time": "2024-02-05T12:03:19.810742Z"
    }
   },
   "id": "f6a76d43f2da9e88"
  },
  {
   "cell_type": "code",
   "execution_count": 3,
   "outputs": [
    {
     "name": "stderr",
     "output_type": "stream",
     "text": [
      "/Users/rumethsandinu/Library/Python/3.9/lib/python/site-packages/urllib3/__init__.py:35: NotOpenSSLWarning: urllib3 v2 only supports OpenSSL 1.1.1+, currently the 'ssl' module is compiled with 'LibreSSL 2.8.3'. See: https://github.com/urllib3/urllib3/issues/3020\n",
      "  warnings.warn(\n"
     ]
    }
   ],
   "source": [
    "from sklearn.model_selection import train_test_split\n",
    "import tensorflow as tf"
   ],
   "metadata": {
    "collapsed": false,
    "ExecuteTime": {
     "end_time": "2024-02-05T12:03:24.744510Z",
     "start_time": "2024-02-05T12:03:20.562802Z"
    }
   },
   "id": "278bdc9d61ee98ad"
  },
  {
   "cell_type": "code",
   "execution_count": 4,
   "outputs": [
    {
     "name": "stderr",
     "output_type": "stream",
     "text": [
      "2024-02-05 17:33:24.739162: I metal_plugin/src/device/metal_device.cc:1154] Metal device set to: Apple M2\n",
      "2024-02-05 17:33:24.739187: I metal_plugin/src/device/metal_device.cc:296] systemMemory: 8.00 GB\n",
      "2024-02-05 17:33:24.739193: I metal_plugin/src/device/metal_device.cc:313] maxCacheSize: 2.67 GB\n",
      "2024-02-05 17:33:24.739405: I tensorflow/core/common_runtime/pluggable_device/pluggable_device_factory.cc:306] Could not identify NUMA node of platform GPU ID 0, defaulting to 0. Your kernel may not have been built with NUMA support.\n",
      "2024-02-05 17:33:24.739799: I tensorflow/core/common_runtime/pluggable_device/pluggable_device_factory.cc:272] Created TensorFlow device (/job:localhost/replica:0/task:0/device:GPU:0 with 0 MB memory) -> physical PluggableDevice (device: 0, name: METAL, pci bus id: <undefined>)\n"
     ]
    },
    {
     "data": {
      "text/plain": "(TensorShape([10288, 155]), TensorShape([1286, 155]), (1286, 155))"
     },
     "execution_count": 4,
     "metadata": {},
     "output_type": "execute_result"
    }
   ],
   "source": [
    "# define dependent and non dependent variables\n",
    "y = df['quantity_sold_kg']\n",
    "x = df.drop(columns=['quantity_sold_kg'], axis=1)\n",
    "\n",
    "# split the dataset 0.7, 0.2, 0.1\n",
    "x_train, x_temp, y_train, y_temp = train_test_split(x, y, test_size=0.2, random_state=42)\n",
    "x_eval, x_test, y_eval, y_test = train_test_split(x_temp, y_temp, test_size=0.5, random_state=42)\n",
    "\n",
    "\"\"\"use float32 data type for numerical values to reduce memory usage and improve performance\"\"\"\n",
    "\n",
    "# convert to tensor arrays\n",
    "x_train_tensor = tf.constant(x_train, dtype=tf.float32)\n",
    "y_train_tensor = tf.constant(y_train, dtype=tf.float32)\n",
    "x_eval_tensor = tf.constant(x_eval, dtype=tf.float32)\n",
    "y_eval_tensor = tf.constant(y_eval, dtype=tf.float32)\n",
    "\n",
    "x_train_tensor.shape, x_eval_tensor.shape, x_test.shape"
   ],
   "metadata": {
    "collapsed": false,
    "ExecuteTime": {
     "end_time": "2024-02-05T12:03:24.827463Z",
     "start_time": "2024-02-05T12:03:24.729676Z"
    }
   },
   "id": "87771c7557fd3e35"
  },
  {
   "cell_type": "code",
   "execution_count": 5,
   "outputs": [
    {
     "data": {
      "text/plain": "     quantity_sold_kg  unit_selling_price_rmb/kg  item_name_7 colour pepper   \\\n249          0.465000                       19.8                       False   \n421          0.772875                        8.0                       False   \n813          0.757429                        7.0                       False   \n\n     item_name_agaricus bisporus   item_name_aihao  item_name_amaranth   \\\n249                         False            False                False   \n421                         False            False                False   \n813                         False            False                False   \n\n     item_name_apricot bao mushroom   item_name_basil   \\\n249                            False             False   \n421                            False             False   \n813                            False             False   \n\n     item_name_bell pepper   item_name_big broccoli  ...  \\\n249                   False                   False  ...   \n421                   False                   False  ...   \n813                   False                   False  ...   \n\n     item_name_yuxingcao   item_name_zhijiang red bolt   \\\n249                 False                         False   \n421                 False                         False   \n813                 False                         False   \n\n     item_name_zhimaxiancai  item_name_zhuyecai   category_name_aquatic  \\\n249                   False                False                   True   \n421                   False                False                  False   \n813                   False                False                  False   \n\n     category_name_cabbage  category_name_capsicum  category_name_flower  \\\n249                  False                   False                 False   \n421                  False                   False                  True   \n813                  False                   False                  True   \n\n     category_name_mushroom  category_name_solanum  \n249                   False                  False  \n421                   False                  False  \n813                   False                  False  \n\n[3 rows x 156 columns]",
      "text/html": "<div>\n<style scoped>\n    .dataframe tbody tr th:only-of-type {\n        vertical-align: middle;\n    }\n\n    .dataframe tbody tr th {\n        vertical-align: top;\n    }\n\n    .dataframe thead th {\n        text-align: right;\n    }\n</style>\n<table border=\"1\" class=\"dataframe\">\n  <thead>\n    <tr style=\"text-align: right;\">\n      <th></th>\n      <th>quantity_sold_kg</th>\n      <th>unit_selling_price_rmb/kg</th>\n      <th>item_name_7 colour pepper</th>\n      <th>item_name_agaricus bisporus</th>\n      <th>item_name_aihao</th>\n      <th>item_name_amaranth</th>\n      <th>item_name_apricot bao mushroom</th>\n      <th>item_name_basil</th>\n      <th>item_name_bell pepper</th>\n      <th>item_name_big broccoli</th>\n      <th>...</th>\n      <th>item_name_yuxingcao</th>\n      <th>item_name_zhijiang red bolt</th>\n      <th>item_name_zhimaxiancai</th>\n      <th>item_name_zhuyecai</th>\n      <th>category_name_aquatic</th>\n      <th>category_name_cabbage</th>\n      <th>category_name_capsicum</th>\n      <th>category_name_flower</th>\n      <th>category_name_mushroom</th>\n      <th>category_name_solanum</th>\n    </tr>\n  </thead>\n  <tbody>\n    <tr>\n      <th>249</th>\n      <td>0.465000</td>\n      <td>19.8</td>\n      <td>False</td>\n      <td>False</td>\n      <td>False</td>\n      <td>False</td>\n      <td>False</td>\n      <td>False</td>\n      <td>False</td>\n      <td>False</td>\n      <td>...</td>\n      <td>False</td>\n      <td>False</td>\n      <td>False</td>\n      <td>False</td>\n      <td>True</td>\n      <td>False</td>\n      <td>False</td>\n      <td>False</td>\n      <td>False</td>\n      <td>False</td>\n    </tr>\n    <tr>\n      <th>421</th>\n      <td>0.772875</td>\n      <td>8.0</td>\n      <td>False</td>\n      <td>False</td>\n      <td>False</td>\n      <td>False</td>\n      <td>False</td>\n      <td>False</td>\n      <td>False</td>\n      <td>False</td>\n      <td>...</td>\n      <td>False</td>\n      <td>False</td>\n      <td>False</td>\n      <td>False</td>\n      <td>False</td>\n      <td>False</td>\n      <td>False</td>\n      <td>True</td>\n      <td>False</td>\n      <td>False</td>\n    </tr>\n    <tr>\n      <th>813</th>\n      <td>0.757429</td>\n      <td>7.0</td>\n      <td>False</td>\n      <td>False</td>\n      <td>False</td>\n      <td>False</td>\n      <td>False</td>\n      <td>False</td>\n      <td>False</td>\n      <td>False</td>\n      <td>...</td>\n      <td>False</td>\n      <td>False</td>\n      <td>False</td>\n      <td>False</td>\n      <td>False</td>\n      <td>False</td>\n      <td>False</td>\n      <td>True</td>\n      <td>False</td>\n      <td>False</td>\n    </tr>\n  </tbody>\n</table>\n<p>3 rows × 156 columns</p>\n</div>"
     },
     "execution_count": 5,
     "metadata": {},
     "output_type": "execute_result"
    }
   ],
   "source": [
    "# save testing dataset\n",
    "df_test = pd.concat([y_test.reset_index(drop=True), x_test.reset_index(drop=True)], axis=1)\n",
    "df_test.to_csv('../../datasets/testing_dataset.csv')\n",
    "df_test.sample(3)"
   ],
   "metadata": {
    "collapsed": false,
    "ExecuteTime": {
     "end_time": "2024-02-05T12:03:24.868184Z",
     "start_time": "2024-02-05T12:03:24.828392Z"
    }
   },
   "id": "f2ad927015ae9653"
  },
  {
   "cell_type": "code",
   "execution_count": 6,
   "outputs": [],
   "source": [
    "# convert to tensor arrays\n",
    "x_test_tensor = tf.constant(x_test, dtype=tf.float32)\n",
    "y_test_tensor = tf.constant(y_test, dtype=tf.float32)"
   ],
   "metadata": {
    "collapsed": false,
    "ExecuteTime": {
     "end_time": "2024-02-05T12:03:24.876163Z",
     "start_time": "2024-02-05T12:03:24.864405Z"
    }
   },
   "id": "d4f2882c044068f4"
  },
  {
   "cell_type": "code",
   "outputs": [],
   "source": [
    "from sklearn.tree import DecisionTreeRegressor"
   ],
   "metadata": {
    "collapsed": false,
    "ExecuteTime": {
     "end_time": "2024-02-05T12:03:24.979268Z",
     "start_time": "2024-02-05T12:03:24.874880Z"
    }
   },
   "id": "21cb3d90871cbe0b",
   "execution_count": 7
  },
  {
   "cell_type": "code",
   "outputs": [],
   "source": [
    "model = DecisionTreeRegressor()\n",
    "model.fit(x_train, y_train)\n",
    "pred = model.predict(x_test)"
   ],
   "metadata": {
    "collapsed": false,
    "ExecuteTime": {
     "end_time": "2024-02-05T12:03:26.541845Z",
     "start_time": "2024-02-05T12:03:26.498294Z"
    }
   },
   "id": "622022bcb18778e5",
   "execution_count": 8
  },
  {
   "cell_type": "code",
   "outputs": [],
   "source": [
    "from sklearn.metrics import mean_absolute_error"
   ],
   "metadata": {
    "collapsed": false,
    "ExecuteTime": {
     "end_time": "2024-02-05T12:03:26.880254Z",
     "start_time": "2024-02-05T12:03:26.875221Z"
    }
   },
   "id": "a0244aadb7dff21f",
   "execution_count": 9
  },
  {
   "cell_type": "code",
   "outputs": [
    {
     "name": "stdout",
     "output_type": "stream",
     "text": [
      "Training Error: 0.04320740355615276\n",
      "Testing Error: 0.05029777666405695\n"
     ]
    }
   ],
   "source": [
    "# Training set\n",
    "train_pred = model.predict(x_train)\n",
    "train_error = mean_absolute_error(y_train, train_pred)\n",
    "\n",
    "# Testing set\n",
    "test_pred = model.predict(x_test)\n",
    "test_error = mean_absolute_error(y_test, test_pred)\n",
    "\n",
    "print(f'Training Error: {train_error}')\n",
    "print(f'Testing Error: {test_error}')"
   ],
   "metadata": {
    "collapsed": false,
    "ExecuteTime": {
     "end_time": "2024-02-05T12:03:27.557555Z",
     "start_time": "2024-02-05T12:03:27.527667Z"
    }
   },
   "id": "cd0490ce101688d8",
   "execution_count": 10
  },
  {
   "cell_type": "code",
   "outputs": [],
   "source": [
    "from sklearn.ensemble import RandomForestRegressor\n",
    "import matplotlib.pyplot as plt"
   ],
   "metadata": {
    "collapsed": false,
    "ExecuteTime": {
     "end_time": "2024-02-05T12:03:36.912136Z",
     "start_time": "2024-02-05T12:03:36.696843Z"
    }
   },
   "id": "86e4e2bfcd67c0df",
   "execution_count": 11
  },
  {
   "cell_type": "code",
   "outputs": [
    {
     "data": {
      "text/plain": "<matplotlib.legend.Legend at 0x290858dc0>"
     },
     "execution_count": 12,
     "metadata": {},
     "output_type": "execute_result"
    },
    {
     "data": {
      "text/plain": "<Figure size 640x480 with 1 Axes>",
      "image/png": "[encoded data removed]"
     },
     "metadata": {},
     "output_type": "display_data"
    }
   ],
   "source": [
    "train_errors = []\n",
    "test_errors = []\n",
    "\n",
    "for i in range(2, 101):\n",
    "    model = RandomForestRegressor(n_estimators=i, random_state=42)\n",
    "    model.fit(x_train, y_train)\n",
    "    \n",
    "    # Training set\n",
    "    train_pred = model.predict(x_train)\n",
    "    train_error = mean_absolute_error(y_train, train_pred)\n",
    "    train_errors.append(train_error)\n",
    "\n",
    "    # Testing set\n",
    "    test_pred = model.predict(x_test)\n",
    "    test_error = mean_absolute_error(y_test, test_pred)\n",
    "    test_errors.append(test_error)\n",
    "\n",
    "# Plotting the results\n",
    "plt.plot(range(2, 101), train_errors, label='Training Error')\n",
    "plt.plot(range(2, 101), test_errors, label='Testing Error')\n",
    "plt.title('Random Forest Regression - Training vs Testing Error')\n",
    "plt.xlabel('Number of Estimators')\n",
    "plt.ylabel('Mean absolute Error')\n",
    "plt.legend(loc='upper right')"
   ],
   "metadata": {
    "collapsed": false,
    "ExecuteTime": {
     "end_time": "2024-02-05T12:05:17.208367Z",
     "start_time": "2024-02-05T12:03:39.660109Z"
    }
   },
   "id": "19faee18bfa634c3",
   "execution_count": 12
  },
  {
   "cell_type": "code",
   "outputs": [
    {
     "name": "stdout",
     "output_type": "stream",
     "text": [
      "Epoch 1/150\n"
     ]
    },
    {
     "name": "stderr",
     "output_type": "stream",
     "text": [
      "2024-02-05 17:37:00.066474: I tensorflow/core/grappler/optimizers/custom_graph_optimizer_registry.cc:117] Plugin optimizer for device_type GPU is enabled.\n"
     ]
    },
    {
     "name": "stdout",
     "output_type": "stream",
     "text": [
      "322/322 [==============================] - 7s 18ms/step - loss: 0.4966 - mae: 0.4966 - val_loss: 0.4016 - val_mae: 0.4016\n",
      "Epoch 2/150\n",
      "322/322 [==============================] - 5s 16ms/step - loss: 0.3839 - mae: 0.3839 - val_loss: 0.3399 - val_mae: 0.3399\n",
      "Epoch 3/150\n",
      "322/322 [==============================] - 5s 16ms/step - loss: 0.3384 - mae: 0.3384 - val_loss: 0.3055 - val_mae: 0.3055\n",
      "Epoch 4/150\n",
      "322/322 [==============================] - 5s 15ms/step - loss: 0.3047 - mae: 0.3047 - val_loss: 0.2781 - val_mae: 0.2781\n",
      "Epoch 5/150\n",
      "322/322 [==============================] - 5s 15ms/step - loss: 0.2785 - mae: 0.2785 - val_loss: 0.2576 - val_mae: 0.2576\n",
      "Epoch 6/150\n",
      "322/322 [==============================] - 5s 15ms/step - loss: 0.2568 - mae: 0.2568 - val_loss: 0.2419 - val_mae: 0.2419\n",
      "Epoch 7/150\n",
      "322/322 [==============================] - 5s 15ms/step - loss: 0.2387 - mae: 0.2387 - val_loss: 0.2279 - val_mae: 0.2279\n",
      "Epoch 8/150\n",
      "322/322 [==============================] - 5s 15ms/step - loss: 0.2239 - mae: 0.2239 - val_loss: 0.2184 - val_mae: 0.2184\n",
      "Epoch 9/150\n",
      "322/322 [==============================] - 5s 15ms/step - loss: 0.2126 - mae: 0.2126 - val_loss: 0.2096 - val_mae: 0.2096\n",
      "Epoch 10/150\n",
      "322/322 [==============================] - 5s 16ms/step - loss: 0.2030 - mae: 0.2030 - val_loss: 0.2018 - val_mae: 0.2018\n",
      "Epoch 11/150\n",
      "322/322 [==============================] - 5s 15ms/step - loss: 0.1940 - mae: 0.1940 - val_loss: 0.1940 - val_mae: 0.1940\n",
      "Epoch 12/150\n",
      "322/322 [==============================] - 5s 15ms/step - loss: 0.1851 - mae: 0.1851 - val_loss: 0.1862 - val_mae: 0.1862\n",
      "Epoch 13/150\n",
      "322/322 [==============================] - 5s 15ms/step - loss: 0.1759 - mae: 0.1759 - val_loss: 0.1780 - val_mae: 0.1780\n",
      "Epoch 14/150\n",
      "322/322 [==============================] - 5s 15ms/step - loss: 0.1663 - mae: 0.1663 - val_loss: 0.1682 - val_mae: 0.1682\n",
      "Epoch 15/150\n",
      "322/322 [==============================] - 5s 15ms/step - loss: 0.1560 - mae: 0.1560 - val_loss: 0.1585 - val_mae: 0.1585\n",
      "Epoch 16/150\n",
      "322/322 [==============================] - 5s 15ms/step - loss: 0.1459 - mae: 0.1459 - val_loss: 0.1489 - val_mae: 0.1489\n",
      "Epoch 17/150\n",
      "322/322 [==============================] - 5s 15ms/step - loss: 0.1385 - mae: 0.1385 - val_loss: 0.1411 - val_mae: 0.1411\n",
      "Epoch 18/150\n",
      "322/322 [==============================] - 5s 15ms/step - loss: 0.1311 - mae: 0.1311 - val_loss: 0.1323 - val_mae: 0.1323\n",
      "Epoch 19/150\n",
      "322/322 [==============================] - 5s 15ms/step - loss: 0.1226 - mae: 0.1226 - val_loss: 0.1233 - val_mae: 0.1233\n",
      "Epoch 20/150\n",
      "322/322 [==============================] - 5s 16ms/step - loss: 0.1132 - mae: 0.1132 - val_loss: 0.1120 - val_mae: 0.1120\n",
      "Epoch 21/150\n",
      "322/322 [==============================] - 5s 15ms/step - loss: 0.1039 - mae: 0.1039 - val_loss: 0.1035 - val_mae: 0.1035\n",
      "Epoch 22/150\n",
      "322/322 [==============================] - 5s 15ms/step - loss: 0.0968 - mae: 0.0968 - val_loss: 0.0990 - val_mae: 0.0990\n",
      "Epoch 23/150\n",
      "322/322 [==============================] - 5s 15ms/step - loss: 0.0919 - mae: 0.0919 - val_loss: 0.0933 - val_mae: 0.0933\n",
      "Epoch 24/150\n",
      "322/322 [==============================] - 5s 15ms/step - loss: 0.0876 - mae: 0.0876 - val_loss: 0.0902 - val_mae: 0.0902\n",
      "Epoch 25/150\n",
      "322/322 [==============================] - 5s 15ms/step - loss: 0.0841 - mae: 0.0841 - val_loss: 0.0866 - val_mae: 0.0866\n",
      "Epoch 26/150\n",
      "322/322 [==============================] - 5s 15ms/step - loss: 0.0812 - mae: 0.0812 - val_loss: 0.0834 - val_mae: 0.0834\n",
      "Epoch 27/150\n",
      "322/322 [==============================] - 5s 15ms/step - loss: 0.0786 - mae: 0.0786 - val_loss: 0.0816 - val_mae: 0.0816\n",
      "Epoch 28/150\n",
      "322/322 [==============================] - 5s 16ms/step - loss: 0.0767 - mae: 0.0767 - val_loss: 0.0791 - val_mae: 0.0791\n",
      "Epoch 29/150\n",
      "322/322 [==============================] - 5s 15ms/step - loss: 0.0747 - mae: 0.0747 - val_loss: 0.0780 - val_mae: 0.0780\n",
      "Epoch 30/150\n",
      "322/322 [==============================] - 5s 15ms/step - loss: 0.0731 - mae: 0.0731 - val_loss: 0.0758 - val_mae: 0.0758\n",
      "Epoch 31/150\n",
      "322/322 [==============================] - 5s 15ms/step - loss: 0.0717 - mae: 0.0717 - val_loss: 0.0744 - val_mae: 0.0744\n",
      "Epoch 32/150\n",
      "322/322 [==============================] - 5s 16ms/step - loss: 0.0703 - mae: 0.0703 - val_loss: 0.0727 - val_mae: 0.0727\n",
      "Epoch 33/150\n",
      "322/322 [==============================] - 5s 16ms/step - loss: 0.0691 - mae: 0.0691 - val_loss: 0.0715 - val_mae: 0.0715\n",
      "Epoch 34/150\n",
      "322/322 [==============================] - 5s 15ms/step - loss: 0.0679 - mae: 0.0679 - val_loss: 0.0706 - val_mae: 0.0706\n",
      "Epoch 35/150\n",
      "322/322 [==============================] - 5s 15ms/step - loss: 0.0669 - mae: 0.0669 - val_loss: 0.0694 - val_mae: 0.0694\n",
      "Epoch 36/150\n",
      "322/322 [==============================] - 5s 15ms/step - loss: 0.0660 - mae: 0.0660 - val_loss: 0.0684 - val_mae: 0.0684\n",
      "Epoch 37/150\n",
      "322/322 [==============================] - 5s 15ms/step - loss: 0.0650 - mae: 0.0650 - val_loss: 0.0682 - val_mae: 0.0682\n",
      "Epoch 38/150\n",
      "322/322 [==============================] - 5s 15ms/step - loss: 0.0643 - mae: 0.0643 - val_loss: 0.0667 - val_mae: 0.0667\n",
      "Epoch 39/150\n",
      "322/322 [==============================] - 5s 15ms/step - loss: 0.0635 - mae: 0.0635 - val_loss: 0.0657 - val_mae: 0.0657\n",
      "Epoch 40/150\n",
      "322/322 [==============================] - 5s 16ms/step - loss: 0.0629 - mae: 0.0629 - val_loss: 0.0657 - val_mae: 0.0657\n",
      "Epoch 41/150\n",
      "322/322 [==============================] - 5s 15ms/step - loss: 0.0622 - mae: 0.0622 - val_loss: 0.0641 - val_mae: 0.0641\n",
      "Epoch 42/150\n",
      "322/322 [==============================] - 5s 15ms/step - loss: 0.0615 - mae: 0.0615 - val_loss: 0.0642 - val_mae: 0.0642\n",
      "Epoch 43/150\n",
      "322/322 [==============================] - 5s 15ms/step - loss: 0.0609 - mae: 0.0609 - val_loss: 0.0630 - val_mae: 0.0630\n",
      "Epoch 44/150\n",
      "322/322 [==============================] - 5s 15ms/step - loss: 0.0604 - mae: 0.0604 - val_loss: 0.0625 - val_mae: 0.0625\n",
      "Epoch 45/150\n",
      "322/322 [==============================] - 5s 15ms/step - loss: 0.0599 - mae: 0.0599 - val_loss: 0.0621 - val_mae: 0.0621\n",
      "Epoch 46/150\n",
      "322/322 [==============================] - 5s 15ms/step - loss: 0.0596 - mae: 0.0596 - val_loss: 0.0618 - val_mae: 0.0618\n",
      "Epoch 47/150\n",
      "322/322 [==============================] - 5s 16ms/step - loss: 0.0592 - mae: 0.0592 - val_loss: 0.0612 - val_mae: 0.0612\n",
      "Epoch 48/150\n",
      "322/322 [==============================] - 5s 16ms/step - loss: 0.0589 - mae: 0.0589 - val_loss: 0.0609 - val_mae: 0.0609\n",
      "Epoch 49/150\n",
      "322/322 [==============================] - 5s 16ms/step - loss: 0.0585 - mae: 0.0585 - val_loss: 0.0608 - val_mae: 0.0608\n",
      "Epoch 50/150\n",
      "322/322 [==============================] - 5s 15ms/step - loss: 0.0582 - mae: 0.0582 - val_loss: 0.0607 - val_mae: 0.0607\n",
      "Epoch 51/150\n",
      "322/322 [==============================] - 5s 15ms/step - loss: 0.0580 - mae: 0.0580 - val_loss: 0.0606 - val_mae: 0.0606\n",
      "Epoch 52/150\n",
      "322/322 [==============================] - 5s 16ms/step - loss: 0.0577 - mae: 0.0577 - val_loss: 0.0597 - val_mae: 0.0597\n",
      "Epoch 53/150\n",
      "322/322 [==============================] - 5s 15ms/step - loss: 0.0574 - mae: 0.0574 - val_loss: 0.0599 - val_mae: 0.0599\n",
      "Epoch 54/150\n",
      "322/322 [==============================] - 5s 15ms/step - loss: 0.0571 - mae: 0.0571 - val_loss: 0.0598 - val_mae: 0.0598\n",
      "Epoch 55/150\n",
      "322/322 [==============================] - 5s 15ms/step - loss: 0.0568 - mae: 0.0568 - val_loss: 0.0588 - val_mae: 0.0588\n",
      "Epoch 56/150\n",
      "322/322 [==============================] - 5s 15ms/step - loss: 0.0567 - mae: 0.0567 - val_loss: 0.0586 - val_mae: 0.0586\n",
      "Epoch 57/150\n",
      "322/322 [==============================] - 5s 15ms/step - loss: 0.0564 - mae: 0.0564 - val_loss: 0.0584 - val_mae: 0.0584\n",
      "Epoch 58/150\n",
      "322/322 [==============================] - 5s 15ms/step - loss: 0.0562 - mae: 0.0562 - val_loss: 0.0581 - val_mae: 0.0581\n",
      "Epoch 59/150\n",
      "322/322 [==============================] - 5s 15ms/step - loss: 0.0559 - mae: 0.0559 - val_loss: 0.0579 - val_mae: 0.0579\n",
      "Epoch 60/150\n",
      "322/322 [==============================] - 5s 15ms/step - loss: 0.0558 - mae: 0.0558 - val_loss: 0.0586 - val_mae: 0.0586\n",
      "Epoch 61/150\n",
      "322/322 [==============================] - 5s 15ms/step - loss: 0.0555 - mae: 0.0555 - val_loss: 0.0581 - val_mae: 0.0581\n",
      "Epoch 62/150\n",
      "322/322 [==============================] - 5s 15ms/step - loss: 0.0553 - mae: 0.0553 - val_loss: 0.0575 - val_mae: 0.0575\n",
      "Epoch 63/150\n",
      "322/322 [==============================] - 5s 15ms/step - loss: 0.0552 - mae: 0.0552 - val_loss: 0.0572 - val_mae: 0.0572\n",
      "Epoch 64/150\n",
      "322/322 [==============================] - 5s 15ms/step - loss: 0.0550 - mae: 0.0550 - val_loss: 0.0576 - val_mae: 0.0576\n",
      "Epoch 65/150\n",
      "322/322 [==============================] - 5s 15ms/step - loss: 0.0548 - mae: 0.0548 - val_loss: 0.0571 - val_mae: 0.0571\n",
      "Epoch 66/150\n",
      "322/322 [==============================] - 5s 15ms/step - loss: 0.0547 - mae: 0.0547 - val_loss: 0.0573 - val_mae: 0.0573\n",
      "Epoch 67/150\n",
      "322/322 [==============================] - 5s 15ms/step - loss: 0.0545 - mae: 0.0545 - val_loss: 0.0576 - val_mae: 0.0576\n",
      "Epoch 68/150\n",
      "322/322 [==============================] - 5s 15ms/step - loss: 0.0543 - mae: 0.0543 - val_loss: 0.0565 - val_mae: 0.0565\n",
      "Epoch 69/150\n",
      "322/322 [==============================] - 5s 15ms/step - loss: 0.0542 - mae: 0.0542 - val_loss: 0.0569 - val_mae: 0.0569\n",
      "Epoch 70/150\n",
      "322/322 [==============================] - 5s 15ms/step - loss: 0.0541 - mae: 0.0541 - val_loss: 0.0564 - val_mae: 0.0564\n",
      "Epoch 71/150\n",
      "322/322 [==============================] - 5s 15ms/step - loss: 0.0538 - mae: 0.0538 - val_loss: 0.0562 - val_mae: 0.0562\n",
      "Epoch 72/150\n",
      "322/322 [==============================] - 5s 15ms/step - loss: 0.0538 - mae: 0.0538 - val_loss: 0.0566 - val_mae: 0.0566\n",
      "Epoch 73/150\n",
      "322/322 [==============================] - 5s 16ms/step - loss: 0.0536 - mae: 0.0536 - val_loss: 0.0559 - val_mae: 0.0559\n",
      "Epoch 74/150\n",
      "322/322 [==============================] - 5s 16ms/step - loss: 0.0535 - mae: 0.0535 - val_loss: 0.0564 - val_mae: 0.0564\n",
      "Epoch 75/150\n",
      "322/322 [==============================] - 5s 15ms/step - loss: 0.0533 - mae: 0.0533 - val_loss: 0.0572 - val_mae: 0.0572\n",
      "Epoch 76/150\n",
      "322/322 [==============================] - 5s 15ms/step - loss: 0.0532 - mae: 0.0532 - val_loss: 0.0558 - val_mae: 0.0558\n",
      "Epoch 77/150\n",
      "322/322 [==============================] - 5s 15ms/step - loss: 0.0531 - mae: 0.0531 - val_loss: 0.0556 - val_mae: 0.0556\n",
      "Epoch 78/150\n",
      "322/322 [==============================] - 5s 16ms/step - loss: 0.0530 - mae: 0.0530 - val_loss: 0.0563 - val_mae: 0.0563\n",
      "Epoch 79/150\n",
      "322/322 [==============================] - 5s 15ms/step - loss: 0.0529 - mae: 0.0529 - val_loss: 0.0562 - val_mae: 0.0562\n",
      "Epoch 80/150\n",
      "322/322 [==============================] - 5s 15ms/step - loss: 0.0528 - mae: 0.0528 - val_loss: 0.0552 - val_mae: 0.0552\n",
      "Epoch 81/150\n",
      "322/322 [==============================] - 5s 15ms/step - loss: 0.0527 - mae: 0.0527 - val_loss: 0.0556 - val_mae: 0.0556\n",
      "Epoch 82/150\n",
      "322/322 [==============================] - 5s 16ms/step - loss: 0.0526 - mae: 0.0526 - val_loss: 0.0550 - val_mae: 0.0550\n",
      "Epoch 83/150\n",
      "322/322 [==============================] - 5s 15ms/step - loss: 0.0525 - mae: 0.0525 - val_loss: 0.0549 - val_mae: 0.0549\n",
      "Epoch 84/150\n",
      "322/322 [==============================] - 7s 20ms/step - loss: 0.0523 - mae: 0.0523 - val_loss: 0.0554 - val_mae: 0.0554\n",
      "Epoch 85/150\n",
      "322/322 [==============================] - 6s 20ms/step - loss: 0.0524 - mae: 0.0524 - val_loss: 0.0548 - val_mae: 0.0548\n",
      "Epoch 86/150\n",
      "322/322 [==============================] - 5s 16ms/step - loss: 0.0523 - mae: 0.0523 - val_loss: 0.0554 - val_mae: 0.0554\n",
      "Epoch 87/150\n",
      "322/322 [==============================] - 5s 16ms/step - loss: 0.0522 - mae: 0.0522 - val_loss: 0.0548 - val_mae: 0.0548\n",
      "Epoch 88/150\n",
      "322/322 [==============================] - 5s 17ms/step - loss: 0.0522 - mae: 0.0522 - val_loss: 0.0547 - val_mae: 0.0547\n",
      "Epoch 89/150\n",
      "322/322 [==============================] - 5s 16ms/step - loss: 0.0521 - mae: 0.0521 - val_loss: 0.0546 - val_mae: 0.0546\n",
      "Epoch 90/150\n",
      "322/322 [==============================] - 5s 15ms/step - loss: 0.0520 - mae: 0.0520 - val_loss: 0.0550 - val_mae: 0.0550\n",
      "Epoch 91/150\n",
      "322/322 [==============================] - 5s 16ms/step - loss: 0.0519 - mae: 0.0519 - val_loss: 0.0545 - val_mae: 0.0545\n",
      "Epoch 92/150\n",
      "322/322 [==============================] - 5s 16ms/step - loss: 0.0519 - mae: 0.0519 - val_loss: 0.0557 - val_mae: 0.0557\n",
      "Epoch 93/150\n",
      "322/322 [==============================] - 5s 15ms/step - loss: 0.0518 - mae: 0.0518 - val_loss: 0.0544 - val_mae: 0.0544\n",
      "Epoch 94/150\n",
      "322/322 [==============================] - 5s 15ms/step - loss: 0.0517 - mae: 0.0517 - val_loss: 0.0546 - val_mae: 0.0546\n",
      "Epoch 95/150\n",
      "322/322 [==============================] - 5s 15ms/step - loss: 0.0517 - mae: 0.0517 - val_loss: 0.0546 - val_mae: 0.0546\n",
      "Epoch 96/150\n",
      "322/322 [==============================] - 5s 16ms/step - loss: 0.0517 - mae: 0.0517 - val_loss: 0.0552 - val_mae: 0.0552\n",
      "Epoch 97/150\n",
      "322/322 [==============================] - 5s 15ms/step - loss: 0.0515 - mae: 0.0515 - val_loss: 0.0543 - val_mae: 0.0543\n",
      "Epoch 98/150\n",
      "322/322 [==============================] - 5s 15ms/step - loss: 0.0515 - mae: 0.0515 - val_loss: 0.0541 - val_mae: 0.0541\n",
      "Epoch 99/150\n",
      "322/322 [==============================] - 5s 15ms/step - loss: 0.0515 - mae: 0.0515 - val_loss: 0.0542 - val_mae: 0.0542\n",
      "Epoch 100/150\n",
      "322/322 [==============================] - 5s 17ms/step - loss: 0.0514 - mae: 0.0514 - val_loss: 0.0540 - val_mae: 0.0540\n",
      "Epoch 101/150\n",
      "322/322 [==============================] - 6s 18ms/step - loss: 0.0514 - mae: 0.0514 - val_loss: 0.0541 - val_mae: 0.0541\n",
      "Epoch 102/150\n",
      "322/322 [==============================] - 5s 16ms/step - loss: 0.0513 - mae: 0.0513 - val_loss: 0.0544 - val_mae: 0.0544\n",
      "Epoch 103/150\n",
      "322/322 [==============================] - 5s 16ms/step - loss: 0.0512 - mae: 0.0512 - val_loss: 0.0544 - val_mae: 0.0544\n",
      "Epoch 104/150\n",
      "322/322 [==============================] - 5s 16ms/step - loss: 0.0512 - mae: 0.0512 - val_loss: 0.0539 - val_mae: 0.0539\n",
      "Epoch 105/150\n",
      "322/322 [==============================] - 5s 16ms/step - loss: 0.0512 - mae: 0.0512 - val_loss: 0.0545 - val_mae: 0.0545\n",
      "Epoch 106/150\n",
      "322/322 [==============================] - 5s 16ms/step - loss: 0.0511 - mae: 0.0511 - val_loss: 0.0538 - val_mae: 0.0538\n",
      "Epoch 107/150\n",
      "322/322 [==============================] - 5s 15ms/step - loss: 0.0511 - mae: 0.0511 - val_loss: 0.0537 - val_mae: 0.0537\n",
      "Epoch 108/150\n",
      "322/322 [==============================] - 5s 16ms/step - loss: 0.0511 - mae: 0.0511 - val_loss: 0.0537 - val_mae: 0.0537\n",
      "Epoch 109/150\n",
      "322/322 [==============================] - 5s 15ms/step - loss: 0.0510 - mae: 0.0510 - val_loss: 0.0539 - val_mae: 0.0539\n",
      "Epoch 110/150\n",
      "322/322 [==============================] - 5s 15ms/step - loss: 0.0510 - mae: 0.0510 - val_loss: 0.0535 - val_mae: 0.0535\n",
      "Epoch 111/150\n",
      "322/322 [==============================] - 5s 16ms/step - loss: 0.0510 - mae: 0.0510 - val_loss: 0.0534 - val_mae: 0.0534\n",
      "Epoch 112/150\n",
      "322/322 [==============================] - 5s 15ms/step - loss: 0.0509 - mae: 0.0509 - val_loss: 0.0536 - val_mae: 0.0536\n",
      "Epoch 113/150\n",
      "322/322 [==============================] - 5s 15ms/step - loss: 0.0508 - mae: 0.0508 - val_loss: 0.0535 - val_mae: 0.0535\n",
      "Epoch 114/150\n",
      "322/322 [==============================] - 5s 15ms/step - loss: 0.0508 - mae: 0.0508 - val_loss: 0.0541 - val_mae: 0.0541\n",
      "Epoch 115/150\n",
      "322/322 [==============================] - 5s 15ms/step - loss: 0.0508 - mae: 0.0508 - val_loss: 0.0535 - val_mae: 0.0535\n",
      "Epoch 116/150\n",
      "322/322 [==============================] - 5s 15ms/step - loss: 0.0507 - mae: 0.0507 - val_loss: 0.0536 - val_mae: 0.0536\n",
      "Epoch 117/150\n",
      "322/322 [==============================] - 5s 15ms/step - loss: 0.0508 - mae: 0.0508 - val_loss: 0.0541 - val_mae: 0.0541\n",
      "Epoch 118/150\n",
      "322/322 [==============================] - 5s 15ms/step - loss: 0.0507 - mae: 0.0507 - val_loss: 0.0532 - val_mae: 0.0532\n",
      "Epoch 119/150\n",
      "322/322 [==============================] - 5s 15ms/step - loss: 0.0506 - mae: 0.0506 - val_loss: 0.0533 - val_mae: 0.0533\n",
      "Epoch 120/150\n",
      "322/322 [==============================] - 5s 15ms/step - loss: 0.0507 - mae: 0.0507 - val_loss: 0.0533 - val_mae: 0.0533\n",
      "Epoch 121/150\n",
      "322/322 [==============================] - 5s 15ms/step - loss: 0.0506 - mae: 0.0506 - val_loss: 0.0531 - val_mae: 0.0531\n",
      "Epoch 122/150\n",
      "322/322 [==============================] - 5s 15ms/step - loss: 0.0506 - mae: 0.0506 - val_loss: 0.0531 - val_mae: 0.0531\n",
      "Epoch 123/150\n",
      "322/322 [==============================] - 5s 16ms/step - loss: 0.0505 - mae: 0.0505 - val_loss: 0.0533 - val_mae: 0.0533\n",
      "Epoch 124/150\n",
      "322/322 [==============================] - 5s 15ms/step - loss: 0.0506 - mae: 0.0506 - val_loss: 0.0529 - val_mae: 0.0529\n",
      "Epoch 125/150\n",
      "322/322 [==============================] - 5s 15ms/step - loss: 0.0505 - mae: 0.0505 - val_loss: 0.0533 - val_mae: 0.0533\n",
      "Epoch 126/150\n",
      "322/322 [==============================] - 5s 15ms/step - loss: 0.0504 - mae: 0.0504 - val_loss: 0.0534 - val_mae: 0.0534\n",
      "Epoch 127/150\n",
      "322/322 [==============================] - 5s 15ms/step - loss: 0.0506 - mae: 0.0506 - val_loss: 0.0530 - val_mae: 0.0530\n",
      "Epoch 128/150\n",
      "322/322 [==============================] - 5s 15ms/step - loss: 0.0504 - mae: 0.0504 - val_loss: 0.0529 - val_mae: 0.0529\n",
      "Epoch 129/150\n",
      "322/322 [==============================] - 5s 15ms/step - loss: 0.0504 - mae: 0.0504 - val_loss: 0.0532 - val_mae: 0.0532\n",
      "Epoch 130/150\n",
      "322/322 [==============================] - 5s 15ms/step - loss: 0.0504 - mae: 0.0504 - val_loss: 0.0529 - val_mae: 0.0529\n",
      "Epoch 131/150\n",
      "322/322 [==============================] - 5s 15ms/step - loss: 0.0504 - mae: 0.0504 - val_loss: 0.0529 - val_mae: 0.0529\n",
      "Epoch 132/150\n",
      "322/322 [==============================] - 5s 15ms/step - loss: 0.0504 - mae: 0.0504 - val_loss: 0.0539 - val_mae: 0.0539\n",
      "Epoch 133/150\n",
      "322/322 [==============================] - 5s 15ms/step - loss: 0.0503 - mae: 0.0503 - val_loss: 0.0529 - val_mae: 0.0529\n",
      "Epoch 134/150\n",
      "322/322 [==============================] - 5s 15ms/step - loss: 0.0502 - mae: 0.0502 - val_loss: 0.0528 - val_mae: 0.0528\n",
      "Epoch 135/150\n",
      "322/322 [==============================] - 5s 15ms/step - loss: 0.0502 - mae: 0.0502 - val_loss: 0.0527 - val_mae: 0.0527\n",
      "Epoch 136/150\n",
      "322/322 [==============================] - 5s 15ms/step - loss: 0.0502 - mae: 0.0502 - val_loss: 0.0527 - val_mae: 0.0527\n",
      "Epoch 137/150\n",
      "322/322 [==============================] - 5s 15ms/step - loss: 0.0502 - mae: 0.0502 - val_loss: 0.0537 - val_mae: 0.0537\n",
      "Epoch 138/150\n",
      "322/322 [==============================] - 5s 15ms/step - loss: 0.0501 - mae: 0.0501 - val_loss: 0.0531 - val_mae: 0.0531\n",
      "Epoch 139/150\n",
      "322/322 [==============================] - 5s 15ms/step - loss: 0.0501 - mae: 0.0501 - val_loss: 0.0531 - val_mae: 0.0531\n",
      "Epoch 140/150\n",
      "322/322 [==============================] - 5s 15ms/step - loss: 0.0501 - mae: 0.0501 - val_loss: 0.0535 - val_mae: 0.0535\n",
      "Epoch 141/150\n",
      "322/322 [==============================] - 5s 15ms/step - loss: 0.0502 - mae: 0.0502 - val_loss: 0.0531 - val_mae: 0.0531\n",
      "Epoch 142/150\n",
      "322/322 [==============================] - 5s 15ms/step - loss: 0.0501 - mae: 0.0501 - val_loss: 0.0531 - val_mae: 0.0531\n",
      "Epoch 143/150\n",
      "322/322 [==============================] - 5s 15ms/step - loss: 0.0500 - mae: 0.0500 - val_loss: 0.0536 - val_mae: 0.0536\n",
      "Epoch 144/150\n",
      "322/322 [==============================] - 5s 15ms/step - loss: 0.0501 - mae: 0.0501 - val_loss: 0.0526 - val_mae: 0.0526\n",
      "Epoch 145/150\n",
      "322/322 [==============================] - 5s 15ms/step - loss: 0.0500 - mae: 0.0500 - val_loss: 0.0534 - val_mae: 0.0534\n",
      "Epoch 146/150\n",
      "322/322 [==============================] - 5s 15ms/step - loss: 0.0499 - mae: 0.0499 - val_loss: 0.0528 - val_mae: 0.0528\n",
      "Epoch 147/150\n",
      "322/322 [==============================] - 5s 15ms/step - loss: 0.0501 - mae: 0.0501 - val_loss: 0.0527 - val_mae: 0.0527\n",
      "Epoch 148/150\n",
      "322/322 [==============================] - 5s 15ms/step - loss: 0.0499 - mae: 0.0499 - val_loss: 0.0528 - val_mae: 0.0528\n",
      "Epoch 149/150\n",
      "322/322 [==============================] - 5s 15ms/step - loss: 0.0499 - mae: 0.0499 - val_loss: 0.0527 - val_mae: 0.0527\n",
      "Epoch 150/150\n",
      "322/322 [==============================] - 5s 15ms/step - loss: 0.0499 - mae: 0.0499 - val_loss: 0.0528 - val_mae: 0.0528\n"
     ]
    }
   ],
   "source": [
    "# model\n",
    "model = tf.keras.Sequential()\n",
    "model.add(tf.keras.layers.Dense(x_train_tensor.shape[1], activation='tanh', input_shape=(x_train_tensor.shape[1],)))\n",
    "model.add(tf.keras.layers.Reshape((1, x_train_tensor.shape[1]))) \n",
    "model.add(tf.keras.layers.LSTM(128, return_sequences=True))\n",
    "model.add(tf.keras.layers.Dense(64, activation='tanh'))\n",
    "model.add(tf.keras.layers.Dense(32, activation='tanh'))\n",
    "model.add(tf.keras.layers.LSTM(16))\n",
    "model.add(tf.keras.layers.Dense(4, activation='tanh'))\n",
    "model.add(tf.keras.layers.Dense(1, activation='linear'))\n",
    "\n",
    "# compile model\n",
    "model.compile(optimizer=tf.keras.optimizers.legacy.Adam(learning_rate=1e-5), loss='mae', metrics=['mae'])\n",
    "\n",
    "epoch_number = 150\n",
    "\n",
    "# train model and get history\n",
    "history = model.fit(x_train_tensor, y_train_tensor, epochs=epoch_number, validation_data=(x_eval_tensor, y_eval_tensor))"
   ],
   "metadata": {
    "collapsed": false,
    "ExecuteTime": {
     "end_time": "2024-02-05T12:19:24.788427Z",
     "start_time": "2024-02-05T12:06:58.644683Z"
    }
   },
   "id": "8b436d40b14f1f96",
   "execution_count": 13
  },
  {
   "cell_type": "code",
   "outputs": [
    {
     "data": {
      "text/plain": "<Figure size 640x480 with 1 Axes>",
      "image/png": "[encoded data removed]"
     },
     "metadata": {},
     "output_type": "display_data"
    }
   ],
   "source": [
    "# plot loss with respect to epoch number\n",
    "x_range = range(1, epoch_number + 1)\n",
    "loss = history.history['loss']\n",
    "val_loss = history.history['val_loss']\n",
    "plt.plot(x_range, loss, label='Training Loss')\n",
    "plt.plot(x_range, val_loss, label='Validation Loss')\n",
    "plt.xlabel('Epochs')\n",
    "plt.ylabel('Mean Absolute Error')\n",
    "plt.legend(loc='upper right')\n",
    "plt.grid(True, linewidth = 0.5, color = 'y', linestyle = '--')"
   ],
   "metadata": {
    "collapsed": false,
    "ExecuteTime": {
     "end_time": "2024-02-05T12:19:24.909892Z",
     "start_time": "2024-02-05T12:19:24.814113Z"
    }
   },
   "id": "edd889b97d10a84",
   "execution_count": 14
  },
  {
   "cell_type": "code",
   "execution_count": 15,
   "outputs": [
    {
     "name": "stdout",
     "output_type": "stream",
     "text": [
      "Epoch 1/40\n",
      "322/322 [==============================] - 7s 17ms/step - loss: 0.5127 - mae: 0.5127 - val_loss: 0.3719 - val_mae: 0.3719\n",
      "Epoch 2/40\n",
      "322/322 [==============================] - 5s 15ms/step - loss: 0.3626 - mae: 0.3626 - val_loss: 0.3232 - val_mae: 0.3232\n",
      "Epoch 3/40\n",
      "322/322 [==============================] - 5s 15ms/step - loss: 0.3195 - mae: 0.3195 - val_loss: 0.2860 - val_mae: 0.2860\n",
      "Epoch 4/40\n",
      "322/322 [==============================] - 5s 15ms/step - loss: 0.2821 - mae: 0.2821 - val_loss: 0.2562 - val_mae: 0.2562\n",
      "Epoch 5/40\n",
      "322/322 [==============================] - 5s 15ms/step - loss: 0.2509 - mae: 0.2509 - val_loss: 0.2348 - val_mae: 0.2348\n",
      "Epoch 6/40\n",
      "322/322 [==============================] - 5s 16ms/step - loss: 0.2270 - mae: 0.2270 - val_loss: 0.2196 - val_mae: 0.2196\n",
      "Epoch 7/40\n",
      "322/322 [==============================] - 5s 15ms/step - loss: 0.2083 - mae: 0.2083 - val_loss: 0.2060 - val_mae: 0.2060\n",
      "Epoch 8/40\n",
      "322/322 [==============================] - 5s 15ms/step - loss: 0.1906 - mae: 0.1906 - val_loss: 0.1919 - val_mae: 0.1919\n",
      "Epoch 9/40\n",
      "322/322 [==============================] - 5s 15ms/step - loss: 0.1745 - mae: 0.1745 - val_loss: 0.1811 - val_mae: 0.1811\n",
      "Epoch 10/40\n",
      "322/322 [==============================] - 5s 15ms/step - loss: 0.1668 - mae: 0.1668 - val_loss: 0.1740 - val_mae: 0.1740\n",
      "Epoch 11/40\n",
      "322/322 [==============================] - 5s 15ms/step - loss: 0.1610 - mae: 0.1610 - val_loss: 0.1679 - val_mae: 0.1679\n",
      "Epoch 12/40\n",
      "322/322 [==============================] - 5s 15ms/step - loss: 0.1558 - mae: 0.1558 - val_loss: 0.1618 - val_mae: 0.1618\n",
      "Epoch 13/40\n",
      "322/322 [==============================] - 5s 15ms/step - loss: 0.1499 - mae: 0.1499 - val_loss: 0.1556 - val_mae: 0.1556\n",
      "Epoch 14/40\n",
      "322/322 [==============================] - 5s 15ms/step - loss: 0.1429 - mae: 0.1429 - val_loss: 0.1469 - val_mae: 0.1469\n",
      "Epoch 15/40\n",
      "322/322 [==============================] - 5s 15ms/step - loss: 0.1342 - mae: 0.1342 - val_loss: 0.1370 - val_mae: 0.1370\n",
      "Epoch 16/40\n",
      "322/322 [==============================] - 5s 15ms/step - loss: 0.1237 - mae: 0.1237 - val_loss: 0.1237 - val_mae: 0.1237\n",
      "Epoch 17/40\n",
      "322/322 [==============================] - 5s 15ms/step - loss: 0.1115 - mae: 0.1115 - val_loss: 0.1104 - val_mae: 0.1104\n",
      "Epoch 18/40\n",
      "322/322 [==============================] - 5s 15ms/step - loss: 0.1008 - mae: 0.1008 - val_loss: 0.1003 - val_mae: 0.1003\n",
      "Epoch 19/40\n",
      "322/322 [==============================] - 5s 15ms/step - loss: 0.0932 - mae: 0.0932 - val_loss: 0.0939 - val_mae: 0.0939\n",
      "Epoch 20/40\n",
      "322/322 [==============================] - 5s 15ms/step - loss: 0.0882 - mae: 0.0882 - val_loss: 0.0896 - val_mae: 0.0896\n",
      "Epoch 21/40\n",
      "322/322 [==============================] - 5s 15ms/step - loss: 0.0844 - mae: 0.0844 - val_loss: 0.0853 - val_mae: 0.0853\n",
      "Epoch 22/40\n",
      "322/322 [==============================] - 5s 15ms/step - loss: 0.0814 - mae: 0.0814 - val_loss: 0.0828 - val_mae: 0.0828\n",
      "Epoch 23/40\n",
      "322/322 [==============================] - 5s 16ms/step - loss: 0.0790 - mae: 0.0790 - val_loss: 0.0806 - val_mae: 0.0806\n",
      "Epoch 24/40\n",
      "322/322 [==============================] - 5s 15ms/step - loss: 0.0768 - mae: 0.0768 - val_loss: 0.0786 - val_mae: 0.0786\n",
      "Epoch 25/40\n",
      "322/322 [==============================] - 5s 15ms/step - loss: 0.0747 - mae: 0.0747 - val_loss: 0.0765 - val_mae: 0.0765\n",
      "Epoch 26/40\n",
      "322/322 [==============================] - 5s 15ms/step - loss: 0.0729 - mae: 0.0729 - val_loss: 0.0752 - val_mae: 0.0752\n",
      "Epoch 27/40\n",
      "322/322 [==============================] - 5s 16ms/step - loss: 0.0713 - mae: 0.0713 - val_loss: 0.0732 - val_mae: 0.0732\n",
      "Epoch 28/40\n",
      "322/322 [==============================] - 5s 15ms/step - loss: 0.0696 - mae: 0.0696 - val_loss: 0.0715 - val_mae: 0.0715\n",
      "Epoch 29/40\n",
      "322/322 [==============================] - 5s 15ms/step - loss: 0.0681 - mae: 0.0681 - val_loss: 0.0706 - val_mae: 0.0706\n",
      "Epoch 30/40\n",
      "322/322 [==============================] - 5s 15ms/step - loss: 0.0671 - mae: 0.0671 - val_loss: 0.0693 - val_mae: 0.0693\n",
      "Epoch 31/40\n",
      "322/322 [==============================] - 5s 15ms/step - loss: 0.0662 - mae: 0.0662 - val_loss: 0.0688 - val_mae: 0.0688\n",
      "Epoch 32/40\n",
      "322/322 [==============================] - 5s 15ms/step - loss: 0.0653 - mae: 0.0653 - val_loss: 0.0677 - val_mae: 0.0677\n",
      "Epoch 33/40\n",
      "322/322 [==============================] - 5s 15ms/step - loss: 0.0645 - mae: 0.0645 - val_loss: 0.0674 - val_mae: 0.0674\n",
      "Epoch 34/40\n",
      "322/322 [==============================] - 5s 15ms/step - loss: 0.0639 - mae: 0.0639 - val_loss: 0.0663 - val_mae: 0.0663\n",
      "Epoch 35/40\n",
      "322/322 [==============================] - 5s 15ms/step - loss: 0.0633 - mae: 0.0633 - val_loss: 0.0657 - val_mae: 0.0657\n",
      "Epoch 36/40\n",
      "322/322 [==============================] - 5s 15ms/step - loss: 0.0629 - mae: 0.0629 - val_loss: 0.0653 - val_mae: 0.0653\n",
      "Epoch 37/40\n",
      "322/322 [==============================] - 5s 15ms/step - loss: 0.0622 - mae: 0.0622 - val_loss: 0.0650 - val_mae: 0.0650\n",
      "Epoch 38/40\n",
      "322/322 [==============================] - 5s 15ms/step - loss: 0.0618 - mae: 0.0618 - val_loss: 0.0644 - val_mae: 0.0644\n",
      "Epoch 39/40\n",
      "322/322 [==============================] - 5s 15ms/step - loss: 0.0612 - mae: 0.0612 - val_loss: 0.0638 - val_mae: 0.0638\n",
      "Epoch 40/40\n",
      "322/322 [==============================] - 5s 15ms/step - loss: 0.0607 - mae: 0.0607 - val_loss: 0.0636 - val_mae: 0.0636\n"
     ]
    }
   ],
   "source": [
    "# final_model\n",
    "final_model = tf.keras.Sequential()\n",
    "final_model.add(tf.keras.layers.Dense(x_train_tensor.shape[1], activation='tanh', input_shape=(x_train_tensor.shape[1],)))\n",
    "final_model.add(tf.keras.layers.Reshape((1, x_train_tensor.shape[1]))) \n",
    "final_model.add(tf.keras.layers.LSTM(128, return_sequences=True))\n",
    "final_model.add(tf.keras.layers.Dense(64, activation='tanh'))\n",
    "final_model.add(tf.keras.layers.Dense(32, activation='tanh'))\n",
    "final_model.add(tf.keras.layers.LSTM(16))\n",
    "final_model.add(tf.keras.layers.Dense(4, activation='tanh'))\n",
    "final_model.add(tf.keras.layers.Dense(1, activation='linear'))\n",
    "\n",
    "# compile final_model\n",
    "final_model.compile(optimizer=tf.keras.optimizers.legacy.Adam(learning_rate=1e-5), loss='mae', metrics=['mae'])\n",
    "\n",
    "epoch_number = 40\n",
    "\n",
    "# train final_model and get history\n",
    "history = final_model.fit(x_train_tensor, y_train_tensor, epochs=epoch_number, validation_data=(x_eval_tensor, y_eval_tensor))"
   ],
   "metadata": {
    "collapsed": false,
    "ExecuteTime": {
     "end_time": "2024-02-05T12:24:11.919069Z",
     "start_time": "2024-02-05T12:20:53.630802Z"
    }
   },
   "id": "8b01720110040e7f"
  },
  {
   "cell_type": "code",
   "execution_count": 16,
   "outputs": [
    {
     "name": "stdout",
     "output_type": "stream",
     "text": [
      "Model: \"sequential_1\"\n",
      "_________________________________________________________________\n",
      " Layer (type)                Output Shape              Param #   \n",
      "=================================================================\n",
      " dense_5 (Dense)             (None, 155)               24180     \n",
      "                                                                 \n",
      " reshape_1 (Reshape)         (None, 1, 155)            0         \n",
      "                                                                 \n",
      " lstm_2 (LSTM)               (None, 1, 128)            145408    \n",
      "                                                                 \n",
      " dense_6 (Dense)             (None, 1, 64)             8256      \n",
      "                                                                 \n",
      " dense_7 (Dense)             (None, 1, 32)             2080      \n",
      "                                                                 \n",
      " lstm_3 (LSTM)               (None, 16)                3136      \n",
      "                                                                 \n",
      " dense_8 (Dense)             (None, 4)                 68        \n",
      "                                                                 \n",
      " dense_9 (Dense)             (None, 1)                 5         \n",
      "                                                                 \n",
      "=================================================================\n",
      "Total params: 183133 (715.36 KB)\n",
      "Trainable params: 183133 (715.36 KB)\n",
      "Non-trainable params: 0 (0.00 Byte)\n",
      "_________________________________________________________________\n"
     ]
    }
   ],
   "source": [
    "final_model.summary()"
   ],
   "metadata": {
    "collapsed": false,
    "ExecuteTime": {
     "end_time": "2024-02-05T12:24:15.365761Z",
     "start_time": "2024-02-05T12:24:15.332601Z"
    }
   },
   "id": "e343e8db0446aeb0"
  },
  {
   "cell_type": "code",
   "execution_count": 17,
   "outputs": [
    {
     "name": "stdout",
     "output_type": "stream",
     "text": [
      "41/41 [==============================] - 0s 8ms/step - loss: 0.0601 - mae: 0.0601\n"
     ]
    },
    {
     "data": {
      "text/plain": "[0.06012817844748497, 0.06012817844748497]"
     },
     "execution_count": 17,
     "metadata": {},
     "output_type": "execute_result"
    }
   ],
   "source": [
    "# view loss for testing values\n",
    "final_model.evaluate(x_test_tensor, y_test_tensor)"
   ],
   "metadata": {
    "collapsed": false,
    "ExecuteTime": {
     "end_time": "2024-02-05T12:24:16.352261Z",
     "start_time": "2024-02-05T12:24:15.967890Z"
    }
   },
   "id": "69956a15af34e265"
  },
  {
   "cell_type": "code",
   "execution_count": 18,
   "outputs": [
    {
     "name": "stdout",
     "output_type": "stream",
     "text": [
      "41/41 [==============================] - 1s 7ms/step\n"
     ]
    },
    {
     "data": {
      "text/plain": "array([[0.9670533],\n       [0.4378879],\n       [0.9972371],\n       [0.5041924],\n       [0.2154023]], dtype=float32)"
     },
     "execution_count": 18,
     "metadata": {},
     "output_type": "execute_result"
    }
   ],
   "source": [
    "# predict sample value set\n",
    "y_predictions = final_model.predict(x_test_tensor)\n",
    "y_predictions[:5]"
   ],
   "metadata": {
    "collapsed": false,
    "ExecuteTime": {
     "end_time": "2024-02-05T12:24:26.895970Z",
     "start_time": "2024-02-05T12:24:26.191306Z"
    }
   },
   "id": "af247d91cef66b79"
  },
  {
   "cell_type": "code",
   "execution_count": 19,
   "outputs": [
    {
     "data": {
      "text/plain": "<tf.Tensor: shape=(5,), dtype=float32, numpy=array([1.    , 0.4258, 1.    , 0.666 , 0.003 ], dtype=float32)>"
     },
     "execution_count": 19,
     "metadata": {},
     "output_type": "execute_result"
    }
   ],
   "source": [
    "# view actual values\n",
    "y_test_tensor[:5]"
   ],
   "metadata": {
    "collapsed": false,
    "ExecuteTime": {
     "end_time": "2024-02-05T12:24:30.406697Z",
     "start_time": "2024-02-05T12:24:30.388143Z"
    }
   },
   "id": "363d820b101a1bb6"
  },
  {
   "cell_type": "code",
   "outputs": [],
   "source": [
    "from sklearn.metrics import mean_squared_error"
   ],
   "metadata": {
    "collapsed": false,
    "ExecuteTime": {
     "end_time": "2024-02-05T12:24:37.432103Z",
     "start_time": "2024-02-05T12:24:37.428411Z"
    }
   },
   "id": "c99e404f9acbd47f",
   "execution_count": 20
  },
  {
   "cell_type": "code",
   "outputs": [
    {
     "data": {
      "text/plain": "0.013129625"
     },
     "execution_count": 21,
     "metadata": {},
     "output_type": "execute_result"
    }
   ],
   "source": [
    "mean_squared_error(y_test_tensor, y_predictions)"
   ],
   "metadata": {
    "collapsed": false,
    "ExecuteTime": {
     "end_time": "2024-02-05T12:24:44.046169Z",
     "start_time": "2024-02-05T12:24:44.037222Z"
    }
   },
   "id": "d4c605fb82a851e4",
   "execution_count": 21
  },
  {
   "cell_type": "code",
   "outputs": [
    {
     "data": {
      "text/plain": "[<matplotlib.lines.Line2D at 0x292b7d0a0>]"
     },
     "execution_count": 22,
     "metadata": {},
     "output_type": "execute_result"
    },
    {
     "data": {
      "text/plain": "<Figure size 640x480 with 1 Axes>",
      "image/png": "[encoded data removed]"
     },
     "metadata": {},
     "output_type": "display_data"
    }
   ],
   "source": [
    "x = [0 , 1.2]\n",
    "y = x\n",
    "\n",
    "plt.scatter(y_test_tensor, y_predictions)\n",
    "plt.plot(x, y, color='black')"
   ],
   "metadata": {
    "collapsed": false,
    "ExecuteTime": {
     "end_time": "2024-02-05T12:24:45.615617Z",
     "start_time": "2024-02-05T12:24:45.504252Z"
    }
   },
   "id": "2a3ad49da8c46cf1",
   "execution_count": 22
  },
  {
   "cell_type": "code",
   "execution_count": 23,
   "outputs": [
    {
     "name": "stdout",
     "output_type": "stream",
     "text": [
      "INFO:tensorflow:Assets written to: sales_prediction_model/assets\n"
     ]
    },
    {
     "name": "stderr",
     "output_type": "stream",
     "text": [
      "INFO:tensorflow:Assets written to: sales_prediction_model/assets\n"
     ]
    }
   ],
   "source": [
    "# save final model\n",
    "final_model.save('sales_prediction_model')"
   ],
   "metadata": {
    "collapsed": false,
    "ExecuteTime": {
     "end_time": "2024-02-05T12:24:50.190583Z",
     "start_time": "2024-02-05T12:24:47.879582Z"
    }
   },
   "id": "46f2cd66a29e1bc7"
  }
 ],
 "metadata": {
  "kernelspec": {
   "display_name": "Python 3",
   "language": "python",
   "name": "python3"
  },
  "language_info": {
   "codemirror_mode": {
    "name": "ipython",
    "version": 2
   },
   "file_extension": ".py",
   "mimetype": "text/x-python",
   "name": "python",
   "nbconvert_exporter": "python",
   "pygments_lexer": "ipython2",
   "version": "2.7.6"
  }
 },
 "nbformat": 4,
 "nbformat_minor": 5
}
