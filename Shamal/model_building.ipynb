{
 "cells": [
  {
   "cell_type": "code",
   "execution_count": 60,
   "id": "initial_id",
   "metadata": {
    "collapsed": true,
    "ExecuteTime": {
     "end_time": "2023-12-10T03:16:03.730369300Z",
     "start_time": "2023-12-10T03:16:03.552699800Z"
    }
   },
   "outputs": [],
   "source": [
    "import pandas as pd\n",
    "import matplotlib.pyplot as plt\n",
    "import seaborn as sns"
   ]
  },
  {
   "cell_type": "code",
   "execution_count": 3,
   "outputs": [],
   "source": [
    "a = pd.read_csv(\"F:\\\\IIT Platforms\\\\Second Year\\\\Data Science Group Project\\\\annex\\\\annex1.csv\")"
   ],
   "metadata": {
    "collapsed": false,
    "ExecuteTime": {
     "end_time": "2023-12-10T03:00:23.146062300Z",
     "start_time": "2023-12-10T03:00:22.149726400Z"
    }
   },
   "id": "6b6a4004f1d30fdc"
  },
  {
   "cell_type": "code",
   "execution_count": 4,
   "outputs": [
    {
     "data": {
      "text/plain": "(251, 4)"
     },
     "execution_count": 4,
     "metadata": {},
     "output_type": "execute_result"
    }
   ],
   "source": [
    "a.shape"
   ],
   "metadata": {
    "collapsed": false,
    "ExecuteTime": {
     "end_time": "2023-12-10T03:00:23.156035300Z",
     "start_time": "2023-12-10T03:00:22.274391800Z"
    }
   },
   "id": "60d0f74aff26a17d"
  },
  {
   "cell_type": "code",
   "execution_count": 5,
   "outputs": [
    {
     "data": {
      "text/plain": "           Item Code                                     Item Name  \\\n0    102900005115168                              Niushou Shengcai   \n1    102900005115199                             Sichuan Red Cedar   \n2    102900005115625                         Local Xiaomao Cabbage   \n3    102900005115748                                  White Caitai   \n4    102900005115762                                      Amaranth   \n..               ...                                           ...   \n246  106958851400125                    Haixian Mushroom (Bag) (4)   \n247  106971533450003                      Haixian Mushroom (Bunch)   \n248  106971533455008                    Haixian Mushroom (Bag) (3)   \n249  106973223300667  Chinese Caterpillar Fungus Flowers (Box) (2)   \n250  106973990980123                 Hfyg Haixian Mushroom (Bunch)   \n\n     Category Code           Category Name  \n0       1011010101  Flower/Leaf Vegetables  \n1       1011010101  Flower/Leaf Vegetables  \n2       1011010101  Flower/Leaf Vegetables  \n3       1011010101  Flower/Leaf Vegetables  \n4       1011010101  Flower/Leaf Vegetables  \n..             ...                     ...  \n246     1011010801         Edible Mushroom  \n247     1011010801         Edible Mushroom  \n248     1011010801         Edible Mushroom  \n249     1011010801         Edible Mushroom  \n250     1011010801         Edible Mushroom  \n\n[251 rows x 4 columns]",
      "text/html": "<div>\n<style scoped>\n    .dataframe tbody tr th:only-of-type {\n        vertical-align: middle;\n    }\n\n    .dataframe tbody tr th {\n        vertical-align: top;\n    }\n\n    .dataframe thead th {\n        text-align: right;\n    }\n</style>\n<table border=\"1\" class=\"dataframe\">\n  <thead>\n    <tr style=\"text-align: right;\">\n      <th></th>\n      <th>Item Code</th>\n      <th>Item Name</th>\n      <th>Category Code</th>\n      <th>Category Name</th>\n    </tr>\n  </thead>\n  <tbody>\n    <tr>\n      <th>0</th>\n      <td>102900005115168</td>\n      <td>Niushou Shengcai</td>\n      <td>1011010101</td>\n      <td>Flower/Leaf Vegetables</td>\n    </tr>\n    <tr>\n      <th>1</th>\n      <td>102900005115199</td>\n      <td>Sichuan Red Cedar</td>\n      <td>1011010101</td>\n      <td>Flower/Leaf Vegetables</td>\n    </tr>\n    <tr>\n      <th>2</th>\n      <td>102900005115625</td>\n      <td>Local Xiaomao Cabbage</td>\n      <td>1011010101</td>\n      <td>Flower/Leaf Vegetables</td>\n    </tr>\n    <tr>\n      <th>3</th>\n      <td>102900005115748</td>\n      <td>White Caitai</td>\n      <td>1011010101</td>\n      <td>Flower/Leaf Vegetables</td>\n    </tr>\n    <tr>\n      <th>4</th>\n      <td>102900005115762</td>\n      <td>Amaranth</td>\n      <td>1011010101</td>\n      <td>Flower/Leaf Vegetables</td>\n    </tr>\n    <tr>\n      <th>...</th>\n      <td>...</td>\n      <td>...</td>\n      <td>...</td>\n      <td>...</td>\n    </tr>\n    <tr>\n      <th>246</th>\n      <td>106958851400125</td>\n      <td>Haixian Mushroom (Bag) (4)</td>\n      <td>1011010801</td>\n      <td>Edible Mushroom</td>\n    </tr>\n    <tr>\n      <th>247</th>\n      <td>106971533450003</td>\n      <td>Haixian Mushroom (Bunch)</td>\n      <td>1011010801</td>\n      <td>Edible Mushroom</td>\n    </tr>\n    <tr>\n      <th>248</th>\n      <td>106971533455008</td>\n      <td>Haixian Mushroom (Bag) (3)</td>\n      <td>1011010801</td>\n      <td>Edible Mushroom</td>\n    </tr>\n    <tr>\n      <th>249</th>\n      <td>106973223300667</td>\n      <td>Chinese Caterpillar Fungus Flowers (Box) (2)</td>\n      <td>1011010801</td>\n      <td>Edible Mushroom</td>\n    </tr>\n    <tr>\n      <th>250</th>\n      <td>106973990980123</td>\n      <td>Hfyg Haixian Mushroom (Bunch)</td>\n      <td>1011010801</td>\n      <td>Edible Mushroom</td>\n    </tr>\n  </tbody>\n</table>\n<p>251 rows × 4 columns</p>\n</div>"
     },
     "execution_count": 5,
     "metadata": {},
     "output_type": "execute_result"
    }
   ],
   "source": [
    "a.head(1000)"
   ],
   "metadata": {
    "collapsed": false,
    "ExecuteTime": {
     "end_time": "2023-12-10T03:00:23.867459Z",
     "start_time": "2023-12-10T03:00:22.305309900Z"
    }
   },
   "id": "b4d96728674b2f2"
  },
  {
   "cell_type": "code",
   "execution_count": 6,
   "outputs": [
    {
     "data": {
      "text/plain": "         Date          Time        Item Code  Quantity Sold (kilo)  \\\n0  2020-07-01  09:15:07.924  102900005117056                 0.396   \n1  2020-07-01  09:17:27.295  102900005115960                 0.849   \n2  2020-07-01  09:17:33.905  102900005117056                 0.409   \n3  2020-07-01  09:19:45.450  102900005115823                 0.421   \n4  2020-07-01  09:20:23.686  102900005115908                 0.539   \n\n   Unit Selling Price (RMB/kg) Sale or Return Discount (Yes/No)  \n0                          7.6           sale                No  \n1                          3.2           sale                No  \n2                          7.6           sale                No  \n3                         10.0           sale                No  \n4                          8.0           sale                No  ",
      "text/html": "<div>\n<style scoped>\n    .dataframe tbody tr th:only-of-type {\n        vertical-align: middle;\n    }\n\n    .dataframe tbody tr th {\n        vertical-align: top;\n    }\n\n    .dataframe thead th {\n        text-align: right;\n    }\n</style>\n<table border=\"1\" class=\"dataframe\">\n  <thead>\n    <tr style=\"text-align: right;\">\n      <th></th>\n      <th>Date</th>\n      <th>Time</th>\n      <th>Item Code</th>\n      <th>Quantity Sold (kilo)</th>\n      <th>Unit Selling Price (RMB/kg)</th>\n      <th>Sale or Return</th>\n      <th>Discount (Yes/No)</th>\n    </tr>\n  </thead>\n  <tbody>\n    <tr>\n      <th>0</th>\n      <td>2020-07-01</td>\n      <td>09:15:07.924</td>\n      <td>102900005117056</td>\n      <td>0.396</td>\n      <td>7.6</td>\n      <td>sale</td>\n      <td>No</td>\n    </tr>\n    <tr>\n      <th>1</th>\n      <td>2020-07-01</td>\n      <td>09:17:27.295</td>\n      <td>102900005115960</td>\n      <td>0.849</td>\n      <td>3.2</td>\n      <td>sale</td>\n      <td>No</td>\n    </tr>\n    <tr>\n      <th>2</th>\n      <td>2020-07-01</td>\n      <td>09:17:33.905</td>\n      <td>102900005117056</td>\n      <td>0.409</td>\n      <td>7.6</td>\n      <td>sale</td>\n      <td>No</td>\n    </tr>\n    <tr>\n      <th>3</th>\n      <td>2020-07-01</td>\n      <td>09:19:45.450</td>\n      <td>102900005115823</td>\n      <td>0.421</td>\n      <td>10.0</td>\n      <td>sale</td>\n      <td>No</td>\n    </tr>\n    <tr>\n      <th>4</th>\n      <td>2020-07-01</td>\n      <td>09:20:23.686</td>\n      <td>102900005115908</td>\n      <td>0.539</td>\n      <td>8.0</td>\n      <td>sale</td>\n      <td>No</td>\n    </tr>\n  </tbody>\n</table>\n</div>"
     },
     "execution_count": 6,
     "metadata": {},
     "output_type": "execute_result"
    }
   ],
   "source": [
    "b = pd.read_csv(\"F:\\\\IIT Platforms\\\\Second Year\\\\Data Science Group Project\\\\annex\\\\annex2.csv\")\n",
    "b.head()"
   ],
   "metadata": {
    "collapsed": false,
    "ExecuteTime": {
     "end_time": "2023-12-10T03:00:24.796975800Z",
     "start_time": "2023-12-10T03:00:22.368141Z"
    }
   },
   "id": "40d8a52e34a1ba07"
  },
  {
   "cell_type": "code",
   "execution_count": 7,
   "outputs": [
    {
     "data": {
      "text/plain": "(878503, 7)"
     },
     "execution_count": 7,
     "metadata": {},
     "output_type": "execute_result"
    }
   ],
   "source": [
    "b.shape"
   ],
   "metadata": {
    "collapsed": false,
    "ExecuteTime": {
     "end_time": "2023-12-10T03:00:24.798970200Z",
     "start_time": "2023-12-10T03:00:24.510741100Z"
    }
   },
   "id": "ec4dc2193d924ddf"
  },
  {
   "cell_type": "code",
   "execution_count": 8,
   "outputs": [
    {
     "data": {
      "text/plain": "         Date        Item Code  Wholesale Price (RMB/kg)\n0  2020-07-01  102900005115762                      3.88\n1  2020-07-01  102900005115779                      6.72\n2  2020-07-01  102900005115786                      3.19\n3  2020-07-01  102900005115793                      9.24\n4  2020-07-01  102900005115823                      7.03",
      "text/html": "<div>\n<style scoped>\n    .dataframe tbody tr th:only-of-type {\n        vertical-align: middle;\n    }\n\n    .dataframe tbody tr th {\n        vertical-align: top;\n    }\n\n    .dataframe thead th {\n        text-align: right;\n    }\n</style>\n<table border=\"1\" class=\"dataframe\">\n  <thead>\n    <tr style=\"text-align: right;\">\n      <th></th>\n      <th>Date</th>\n      <th>Item Code</th>\n      <th>Wholesale Price (RMB/kg)</th>\n    </tr>\n  </thead>\n  <tbody>\n    <tr>\n      <th>0</th>\n      <td>2020-07-01</td>\n      <td>102900005115762</td>\n      <td>3.88</td>\n    </tr>\n    <tr>\n      <th>1</th>\n      <td>2020-07-01</td>\n      <td>102900005115779</td>\n      <td>6.72</td>\n    </tr>\n    <tr>\n      <th>2</th>\n      <td>2020-07-01</td>\n      <td>102900005115786</td>\n      <td>3.19</td>\n    </tr>\n    <tr>\n      <th>3</th>\n      <td>2020-07-01</td>\n      <td>102900005115793</td>\n      <td>9.24</td>\n    </tr>\n    <tr>\n      <th>4</th>\n      <td>2020-07-01</td>\n      <td>102900005115823</td>\n      <td>7.03</td>\n    </tr>\n  </tbody>\n</table>\n</div>"
     },
     "execution_count": 8,
     "metadata": {},
     "output_type": "execute_result"
    }
   ],
   "source": [
    "c = pd.read_csv(\"F:\\\\IIT Platforms\\\\Second Year\\\\Data Science Group Project\\\\annex\\\\annex3.csv\")\n",
    "c.head()"
   ],
   "metadata": {
    "collapsed": false,
    "ExecuteTime": {
     "end_time": "2023-12-10T03:00:24.885738600Z",
     "start_time": "2023-12-10T03:00:24.524703300Z"
    }
   },
   "id": "d075637de77d0ec2"
  },
  {
   "cell_type": "code",
   "execution_count": 9,
   "outputs": [
    {
     "data": {
      "text/plain": "(55982, 3)"
     },
     "execution_count": 9,
     "metadata": {},
     "output_type": "execute_result"
    }
   ],
   "source": [
    "c.shape"
   ],
   "metadata": {
    "collapsed": false,
    "ExecuteTime": {
     "end_time": "2023-12-10T03:00:24.887732900Z",
     "start_time": "2023-12-10T03:00:24.619449300Z"
    }
   },
   "id": "bd1c38041c9ad3d7"
  },
  {
   "cell_type": "code",
   "execution_count": 10,
   "outputs": [
    {
     "data": {
      "text/plain": "         Item Code                 Item Name  Loss Rate (%)\n0  102900005115168          Niushou Shengcai           4.39\n1  102900005115199         Sichuan Red Cedar          10.46\n2  102900005115250  Xixia Black Mushroom (1)          10.80\n3  102900005115625     Local Xiaomao Cabbage           0.18\n4  102900005115748              White Caitai           8.78",
      "text/html": "<div>\n<style scoped>\n    .dataframe tbody tr th:only-of-type {\n        vertical-align: middle;\n    }\n\n    .dataframe tbody tr th {\n        vertical-align: top;\n    }\n\n    .dataframe thead th {\n        text-align: right;\n    }\n</style>\n<table border=\"1\" class=\"dataframe\">\n  <thead>\n    <tr style=\"text-align: right;\">\n      <th></th>\n      <th>Item Code</th>\n      <th>Item Name</th>\n      <th>Loss Rate (%)</th>\n    </tr>\n  </thead>\n  <tbody>\n    <tr>\n      <th>0</th>\n      <td>102900005115168</td>\n      <td>Niushou Shengcai</td>\n      <td>4.39</td>\n    </tr>\n    <tr>\n      <th>1</th>\n      <td>102900005115199</td>\n      <td>Sichuan Red Cedar</td>\n      <td>10.46</td>\n    </tr>\n    <tr>\n      <th>2</th>\n      <td>102900005115250</td>\n      <td>Xixia Black Mushroom (1)</td>\n      <td>10.80</td>\n    </tr>\n    <tr>\n      <th>3</th>\n      <td>102900005115625</td>\n      <td>Local Xiaomao Cabbage</td>\n      <td>0.18</td>\n    </tr>\n    <tr>\n      <th>4</th>\n      <td>102900005115748</td>\n      <td>White Caitai</td>\n      <td>8.78</td>\n    </tr>\n  </tbody>\n</table>\n</div>"
     },
     "execution_count": 10,
     "metadata": {},
     "output_type": "execute_result"
    }
   ],
   "source": [
    "d = pd.read_csv(\"F:\\\\IIT Platforms\\\\Second Year\\\\Data Science Group Project\\\\annex\\\\annex4.csv\")\n",
    "(d.head())"
   ],
   "metadata": {
    "collapsed": false,
    "ExecuteTime": {
     "end_time": "2023-12-10T03:00:25.354487300Z",
     "start_time": "2023-12-10T03:00:24.633412600Z"
    }
   },
   "id": "c71364fba76a445b"
  },
  {
   "cell_type": "code",
   "execution_count": 11,
   "outputs": [
    {
     "data": {
      "text/plain": "(251, 3)"
     },
     "execution_count": 11,
     "metadata": {},
     "output_type": "execute_result"
    }
   ],
   "source": [
    "d.shape"
   ],
   "metadata": {
    "collapsed": false,
    "ExecuteTime": {
     "end_time": "2023-12-10T03:00:25.356480900Z",
     "start_time": "2023-12-10T03:00:24.679291400Z"
    }
   },
   "id": "9dc4ce64cff6d573"
  },
  {
   "cell_type": "code",
   "execution_count": 12,
   "outputs": [
    {
     "data": {
      "text/plain": "              Date          Time        Item Code  Quantity Sold (kilo)  \\\n0       2020-07-01  09:15:07.924  102900005117056                 0.396   \n1       2020-07-01  09:17:27.295  102900005115960                 0.849   \n2       2020-07-01  09:17:33.905  102900005117056                 0.409   \n3       2020-07-01  09:19:45.450  102900005115823                 0.421   \n4       2020-07-01  09:20:23.686  102900005115908                 0.539   \n...            ...           ...              ...                   ...   \n878498  2023-06-30  21:35:13.264  102900005115250                 0.284   \n878499  2023-06-30  21:35:14.358  102900011022764                 0.669   \n878500  2023-06-30  21:35:20.264  102900005115250                 0.125   \n878501  2023-06-30  21:35:21.509  102900011016701                 0.252   \n878502  2023-06-30  21:40:48.248  102900011022764                 0.803   \n\n        Unit Selling Price (RMB/kg) Sale or Return Discount (Yes/No)  \n0                               7.6           sale                No  \n1                               3.2           sale                No  \n2                               7.6           sale                No  \n3                              10.0           sale                No  \n4                               8.0           sale                No  \n...                             ...            ...               ...  \n878498                         24.0           sale                No  \n878499                         12.0           sale                No  \n878500                         24.0           sale                No  \n878501                          5.2           sale                No  \n878502                         12.0           sale                No  \n\n[878503 rows x 7 columns]",
      "text/html": "<div>\n<style scoped>\n    .dataframe tbody tr th:only-of-type {\n        vertical-align: middle;\n    }\n\n    .dataframe tbody tr th {\n        vertical-align: top;\n    }\n\n    .dataframe thead th {\n        text-align: right;\n    }\n</style>\n<table border=\"1\" class=\"dataframe\">\n  <thead>\n    <tr style=\"text-align: right;\">\n      <th></th>\n      <th>Date</th>\n      <th>Time</th>\n      <th>Item Code</th>\n      <th>Quantity Sold (kilo)</th>\n      <th>Unit Selling Price (RMB/kg)</th>\n      <th>Sale or Return</th>\n      <th>Discount (Yes/No)</th>\n    </tr>\n  </thead>\n  <tbody>\n    <tr>\n      <th>0</th>\n      <td>2020-07-01</td>\n      <td>09:15:07.924</td>\n      <td>102900005117056</td>\n      <td>0.396</td>\n      <td>7.6</td>\n      <td>sale</td>\n      <td>No</td>\n    </tr>\n    <tr>\n      <th>1</th>\n      <td>2020-07-01</td>\n      <td>09:17:27.295</td>\n      <td>102900005115960</td>\n      <td>0.849</td>\n      <td>3.2</td>\n      <td>sale</td>\n      <td>No</td>\n    </tr>\n    <tr>\n      <th>2</th>\n      <td>2020-07-01</td>\n      <td>09:17:33.905</td>\n      <td>102900005117056</td>\n      <td>0.409</td>\n      <td>7.6</td>\n      <td>sale</td>\n      <td>No</td>\n    </tr>\n    <tr>\n      <th>3</th>\n      <td>2020-07-01</td>\n      <td>09:19:45.450</td>\n      <td>102900005115823</td>\n      <td>0.421</td>\n      <td>10.0</td>\n      <td>sale</td>\n      <td>No</td>\n    </tr>\n    <tr>\n      <th>4</th>\n      <td>2020-07-01</td>\n      <td>09:20:23.686</td>\n      <td>102900005115908</td>\n      <td>0.539</td>\n      <td>8.0</td>\n      <td>sale</td>\n      <td>No</td>\n    </tr>\n    <tr>\n      <th>...</th>\n      <td>...</td>\n      <td>...</td>\n      <td>...</td>\n      <td>...</td>\n      <td>...</td>\n      <td>...</td>\n      <td>...</td>\n    </tr>\n    <tr>\n      <th>878498</th>\n      <td>2023-06-30</td>\n      <td>21:35:13.264</td>\n      <td>102900005115250</td>\n      <td>0.284</td>\n      <td>24.0</td>\n      <td>sale</td>\n      <td>No</td>\n    </tr>\n    <tr>\n      <th>878499</th>\n      <td>2023-06-30</td>\n      <td>21:35:14.358</td>\n      <td>102900011022764</td>\n      <td>0.669</td>\n      <td>12.0</td>\n      <td>sale</td>\n      <td>No</td>\n    </tr>\n    <tr>\n      <th>878500</th>\n      <td>2023-06-30</td>\n      <td>21:35:20.264</td>\n      <td>102900005115250</td>\n      <td>0.125</td>\n      <td>24.0</td>\n      <td>sale</td>\n      <td>No</td>\n    </tr>\n    <tr>\n      <th>878501</th>\n      <td>2023-06-30</td>\n      <td>21:35:21.509</td>\n      <td>102900011016701</td>\n      <td>0.252</td>\n      <td>5.2</td>\n      <td>sale</td>\n      <td>No</td>\n    </tr>\n    <tr>\n      <th>878502</th>\n      <td>2023-06-30</td>\n      <td>21:40:48.248</td>\n      <td>102900011022764</td>\n      <td>0.803</td>\n      <td>12.0</td>\n      <td>sale</td>\n      <td>No</td>\n    </tr>\n  </tbody>\n</table>\n<p>878503 rows × 7 columns</p>\n</div>"
     },
     "execution_count": 12,
     "metadata": {},
     "output_type": "execute_result"
    }
   ],
   "source": [
    "b = b.drop_duplicates()\n",
    "b"
   ],
   "metadata": {
    "collapsed": false,
    "ExecuteTime": {
     "end_time": "2023-12-10T03:00:26.105477900Z",
     "start_time": "2023-12-10T03:00:24.697243Z"
    }
   },
   "id": "f8bb33410dd285e1"
  },
  {
   "cell_type": "code",
   "execution_count": 13,
   "outputs": [
    {
     "data": {
      "text/plain": "('2020-07-01', '2023-06-30')"
     },
     "execution_count": 13,
     "metadata": {},
     "output_type": "execute_result"
    }
   ],
   "source": [
    "b['Date'].min(), b['Date'].max()"
   ],
   "metadata": {
    "collapsed": false,
    "ExecuteTime": {
     "end_time": "2023-12-10T03:00:26.694903300Z",
     "start_time": "2023-12-10T03:00:25.700563300Z"
    }
   },
   "id": "9e7eab7a9a43736f"
  },
  {
   "cell_type": "code",
   "execution_count": 14,
   "outputs": [
    {
     "data": {
      "text/plain": "           Item Code                                     Item Name  \\\n0    102900005115168                              Niushou Shengcai   \n1    102900005115199                             Sichuan Red Cedar   \n2    102900005115625                         Local Xiaomao Cabbage   \n3    102900005115748                                  White Caitai   \n4    102900005115762                                      Amaranth   \n..               ...                                           ...   \n246  106958851400125                    Haixian Mushroom (Bag) (4)   \n247  106971533450003                      Haixian Mushroom (Bunch)   \n248  106971533455008                    Haixian Mushroom (Bag) (3)   \n249  106973223300667  Chinese Caterpillar Fungus Flowers (Box) (2)   \n250  106973990980123                 Hfyg Haixian Mushroom (Bunch)   \n\n     Category Code           Category Name  \n0       1011010101  Flower/Leaf Vegetables  \n1       1011010101  Flower/Leaf Vegetables  \n2       1011010101  Flower/Leaf Vegetables  \n3       1011010101  Flower/Leaf Vegetables  \n4       1011010101  Flower/Leaf Vegetables  \n..             ...                     ...  \n246     1011010801         Edible Mushroom  \n247     1011010801         Edible Mushroom  \n248     1011010801         Edible Mushroom  \n249     1011010801         Edible Mushroom  \n250     1011010801         Edible Mushroom  \n\n[251 rows x 4 columns]",
      "text/html": "<div>\n<style scoped>\n    .dataframe tbody tr th:only-of-type {\n        vertical-align: middle;\n    }\n\n    .dataframe tbody tr th {\n        vertical-align: top;\n    }\n\n    .dataframe thead th {\n        text-align: right;\n    }\n</style>\n<table border=\"1\" class=\"dataframe\">\n  <thead>\n    <tr style=\"text-align: right;\">\n      <th></th>\n      <th>Item Code</th>\n      <th>Item Name</th>\n      <th>Category Code</th>\n      <th>Category Name</th>\n    </tr>\n  </thead>\n  <tbody>\n    <tr>\n      <th>0</th>\n      <td>102900005115168</td>\n      <td>Niushou Shengcai</td>\n      <td>1011010101</td>\n      <td>Flower/Leaf Vegetables</td>\n    </tr>\n    <tr>\n      <th>1</th>\n      <td>102900005115199</td>\n      <td>Sichuan Red Cedar</td>\n      <td>1011010101</td>\n      <td>Flower/Leaf Vegetables</td>\n    </tr>\n    <tr>\n      <th>2</th>\n      <td>102900005115625</td>\n      <td>Local Xiaomao Cabbage</td>\n      <td>1011010101</td>\n      <td>Flower/Leaf Vegetables</td>\n    </tr>\n    <tr>\n      <th>3</th>\n      <td>102900005115748</td>\n      <td>White Caitai</td>\n      <td>1011010101</td>\n      <td>Flower/Leaf Vegetables</td>\n    </tr>\n    <tr>\n      <th>4</th>\n      <td>102900005115762</td>\n      <td>Amaranth</td>\n      <td>1011010101</td>\n      <td>Flower/Leaf Vegetables</td>\n    </tr>\n    <tr>\n      <th>...</th>\n      <td>...</td>\n      <td>...</td>\n      <td>...</td>\n      <td>...</td>\n    </tr>\n    <tr>\n      <th>246</th>\n      <td>106958851400125</td>\n      <td>Haixian Mushroom (Bag) (4)</td>\n      <td>1011010801</td>\n      <td>Edible Mushroom</td>\n    </tr>\n    <tr>\n      <th>247</th>\n      <td>106971533450003</td>\n      <td>Haixian Mushroom (Bunch)</td>\n      <td>1011010801</td>\n      <td>Edible Mushroom</td>\n    </tr>\n    <tr>\n      <th>248</th>\n      <td>106971533455008</td>\n      <td>Haixian Mushroom (Bag) (3)</td>\n      <td>1011010801</td>\n      <td>Edible Mushroom</td>\n    </tr>\n    <tr>\n      <th>249</th>\n      <td>106973223300667</td>\n      <td>Chinese Caterpillar Fungus Flowers (Box) (2)</td>\n      <td>1011010801</td>\n      <td>Edible Mushroom</td>\n    </tr>\n    <tr>\n      <th>250</th>\n      <td>106973990980123</td>\n      <td>Hfyg Haixian Mushroom (Bunch)</td>\n      <td>1011010801</td>\n      <td>Edible Mushroom</td>\n    </tr>\n  </tbody>\n</table>\n<p>251 rows × 4 columns</p>\n</div>"
     },
     "execution_count": 14,
     "metadata": {},
     "output_type": "execute_result"
    }
   ],
   "source": [
    "a = a.drop_duplicates()\n",
    "a"
   ],
   "metadata": {
    "collapsed": false,
    "ExecuteTime": {
     "end_time": "2023-12-10T03:00:26.924290200Z",
     "start_time": "2023-12-10T03:00:26.312923700Z"
    }
   },
   "id": "f63b282e9774d046"
  },
  {
   "cell_type": "code",
   "execution_count": 15,
   "outputs": [
    {
     "data": {
      "text/plain": "             Date        Item Code  Wholesale Price (RMB/kg)\n0      2020-07-01  102900005115762                      3.88\n1      2020-07-01  102900005115779                      6.72\n2      2020-07-01  102900005115786                      3.19\n3      2020-07-01  102900005115793                      9.24\n4      2020-07-01  102900005115823                      7.03\n...           ...              ...                       ...\n55977  2023-06-30  102900051000944                     18.00\n55978  2023-06-30  102900051004294                      6.45\n55979  2023-06-30  102900051010455                      4.48\n55980  2023-06-30  106949711300259                      1.45\n55981  2023-06-30  106971533450003                      1.95\n\n[55982 rows x 3 columns]",
      "text/html": "<div>\n<style scoped>\n    .dataframe tbody tr th:only-of-type {\n        vertical-align: middle;\n    }\n\n    .dataframe tbody tr th {\n        vertical-align: top;\n    }\n\n    .dataframe thead th {\n        text-align: right;\n    }\n</style>\n<table border=\"1\" class=\"dataframe\">\n  <thead>\n    <tr style=\"text-align: right;\">\n      <th></th>\n      <th>Date</th>\n      <th>Item Code</th>\n      <th>Wholesale Price (RMB/kg)</th>\n    </tr>\n  </thead>\n  <tbody>\n    <tr>\n      <th>0</th>\n      <td>2020-07-01</td>\n      <td>102900005115762</td>\n      <td>3.88</td>\n    </tr>\n    <tr>\n      <th>1</th>\n      <td>2020-07-01</td>\n      <td>102900005115779</td>\n      <td>6.72</td>\n    </tr>\n    <tr>\n      <th>2</th>\n      <td>2020-07-01</td>\n      <td>102900005115786</td>\n      <td>3.19</td>\n    </tr>\n    <tr>\n      <th>3</th>\n      <td>2020-07-01</td>\n      <td>102900005115793</td>\n      <td>9.24</td>\n    </tr>\n    <tr>\n      <th>4</th>\n      <td>2020-07-01</td>\n      <td>102900005115823</td>\n      <td>7.03</td>\n    </tr>\n    <tr>\n      <th>...</th>\n      <td>...</td>\n      <td>...</td>\n      <td>...</td>\n    </tr>\n    <tr>\n      <th>55977</th>\n      <td>2023-06-30</td>\n      <td>102900051000944</td>\n      <td>18.00</td>\n    </tr>\n    <tr>\n      <th>55978</th>\n      <td>2023-06-30</td>\n      <td>102900051004294</td>\n      <td>6.45</td>\n    </tr>\n    <tr>\n      <th>55979</th>\n      <td>2023-06-30</td>\n      <td>102900051010455</td>\n      <td>4.48</td>\n    </tr>\n    <tr>\n      <th>55980</th>\n      <td>2023-06-30</td>\n      <td>106949711300259</td>\n      <td>1.45</td>\n    </tr>\n    <tr>\n      <th>55981</th>\n      <td>2023-06-30</td>\n      <td>106971533450003</td>\n      <td>1.95</td>\n    </tr>\n  </tbody>\n</table>\n<p>55982 rows × 3 columns</p>\n</div>"
     },
     "execution_count": 15,
     "metadata": {},
     "output_type": "execute_result"
    }
   ],
   "source": [
    "c = c.drop_duplicates()\n",
    "c"
   ],
   "metadata": {
    "collapsed": false,
    "ExecuteTime": {
     "end_time": "2023-12-10T03:00:26.954209400Z",
     "start_time": "2023-12-10T03:00:26.482470600Z"
    }
   },
   "id": "255e3537214b54c2"
  },
  {
   "cell_type": "code",
   "execution_count": 16,
   "outputs": [
    {
     "data": {
      "text/plain": "           Item Code                                     Item Name  \\\n0    102900005115168                              Niushou Shengcai   \n1    102900005115199                             Sichuan Red Cedar   \n2    102900005115250                      Xixia Black Mushroom (1)   \n3    102900005115625                         Local Xiaomao Cabbage   \n4    102900005115748                                  White Caitai   \n..               ...                                           ...   \n246  106971533455008                    Haixian Mushroom (Bag) (3)   \n247  106971563780002                          Xianzongye (Bag) (2)   \n248  106972776821582                          Xianzongye (Bag) (3)   \n249  106973223300667  Chinese Caterpillar Fungus Flowers (Box) (2)   \n250  106973990980123                 Hfyg Haixian Mushroom (Bunch)   \n\n     Loss Rate (%)  \n0             4.39  \n1            10.46  \n2            10.80  \n3             0.18  \n4             8.78  \n..             ...  \n246           1.30  \n247           0.00  \n248           9.43  \n249          11.13  \n250           0.12  \n\n[251 rows x 3 columns]",
      "text/html": "<div>\n<style scoped>\n    .dataframe tbody tr th:only-of-type {\n        vertical-align: middle;\n    }\n\n    .dataframe tbody tr th {\n        vertical-align: top;\n    }\n\n    .dataframe thead th {\n        text-align: right;\n    }\n</style>\n<table border=\"1\" class=\"dataframe\">\n  <thead>\n    <tr style=\"text-align: right;\">\n      <th></th>\n      <th>Item Code</th>\n      <th>Item Name</th>\n      <th>Loss Rate (%)</th>\n    </tr>\n  </thead>\n  <tbody>\n    <tr>\n      <th>0</th>\n      <td>102900005115168</td>\n      <td>Niushou Shengcai</td>\n      <td>4.39</td>\n    </tr>\n    <tr>\n      <th>1</th>\n      <td>102900005115199</td>\n      <td>Sichuan Red Cedar</td>\n      <td>10.46</td>\n    </tr>\n    <tr>\n      <th>2</th>\n      <td>102900005115250</td>\n      <td>Xixia Black Mushroom (1)</td>\n      <td>10.80</td>\n    </tr>\n    <tr>\n      <th>3</th>\n      <td>102900005115625</td>\n      <td>Local Xiaomao Cabbage</td>\n      <td>0.18</td>\n    </tr>\n    <tr>\n      <th>4</th>\n      <td>102900005115748</td>\n      <td>White Caitai</td>\n      <td>8.78</td>\n    </tr>\n    <tr>\n      <th>...</th>\n      <td>...</td>\n      <td>...</td>\n      <td>...</td>\n    </tr>\n    <tr>\n      <th>246</th>\n      <td>106971533455008</td>\n      <td>Haixian Mushroom (Bag) (3)</td>\n      <td>1.30</td>\n    </tr>\n    <tr>\n      <th>247</th>\n      <td>106971563780002</td>\n      <td>Xianzongye (Bag) (2)</td>\n      <td>0.00</td>\n    </tr>\n    <tr>\n      <th>248</th>\n      <td>106972776821582</td>\n      <td>Xianzongye (Bag) (3)</td>\n      <td>9.43</td>\n    </tr>\n    <tr>\n      <th>249</th>\n      <td>106973223300667</td>\n      <td>Chinese Caterpillar Fungus Flowers (Box) (2)</td>\n      <td>11.13</td>\n    </tr>\n    <tr>\n      <th>250</th>\n      <td>106973990980123</td>\n      <td>Hfyg Haixian Mushroom (Bunch)</td>\n      <td>0.12</td>\n    </tr>\n  </tbody>\n</table>\n<p>251 rows × 3 columns</p>\n</div>"
     },
     "execution_count": 16,
     "metadata": {},
     "output_type": "execute_result"
    }
   ],
   "source": [
    "d = d.drop_duplicates()\n",
    "d"
   ],
   "metadata": {
    "collapsed": false,
    "ExecuteTime": {
     "end_time": "2023-12-10T03:00:26.969169800Z",
     "start_time": "2023-12-10T03:00:26.576219800Z"
    }
   },
   "id": "bf5d88d74a9909f3"
  },
  {
   "cell_type": "code",
   "execution_count": 17,
   "outputs": [
    {
     "data": {
      "text/plain": "('2020-07-01', '2023-06-30')"
     },
     "execution_count": 17,
     "metadata": {},
     "output_type": "execute_result"
    }
   ],
   "source": [
    "c['Date'].min(), c['Date'].max()"
   ],
   "metadata": {
    "collapsed": false,
    "ExecuteTime": {
     "end_time": "2023-12-10T03:00:26.972164100Z",
     "start_time": "2023-12-10T03:00:26.632070500Z"
    }
   },
   "id": "1633865eab599a21"
  },
  {
   "cell_type": "code",
   "execution_count": 18,
   "outputs": [
    {
     "name": "stdout",
     "output_type": "stream",
     "text": [
      "<class 'pandas.core.frame.DataFrame'>\n",
      "RangeIndex: 251 entries, 0 to 250\n",
      "Data columns (total 3 columns):\n",
      " #   Column         Non-Null Count  Dtype  \n",
      "---  ------         --------------  -----  \n",
      " 0   Item Code      251 non-null    int64  \n",
      " 1   Item Name      251 non-null    object \n",
      " 2   Loss Rate (%)  251 non-null    float64\n",
      "dtypes: float64(1), int64(1), object(1)\n",
      "memory usage: 6.0+ KB\n"
     ]
    }
   ],
   "source": [
    "d.info()"
   ],
   "metadata": {
    "collapsed": false,
    "ExecuteTime": {
     "end_time": "2023-12-10T03:00:27.406005900Z",
     "start_time": "2023-12-10T03:00:26.664982900Z"
    }
   },
   "id": "66e212a361f3339"
  },
  {
   "cell_type": "code",
   "execution_count": 19,
   "outputs": [
    {
     "name": "stdout",
     "output_type": "stream",
     "text": [
      "<class 'pandas.core.frame.DataFrame'>\n",
      "RangeIndex: 251 entries, 0 to 250\n",
      "Data columns (total 4 columns):\n",
      " #   Column         Non-Null Count  Dtype \n",
      "---  ------         --------------  ----- \n",
      " 0   Item Code      251 non-null    int64 \n",
      " 1   Item Name      251 non-null    object\n",
      " 2   Category Code  251 non-null    int64 \n",
      " 3   Category Name  251 non-null    object\n",
      "dtypes: int64(2), object(2)\n",
      "memory usage: 8.0+ KB\n"
     ]
    }
   ],
   "source": [
    "a.info()"
   ],
   "metadata": {
    "collapsed": false,
    "ExecuteTime": {
     "end_time": "2023-12-10T03:00:27.466838700Z",
     "start_time": "2023-12-10T03:00:26.743772300Z"
    }
   },
   "id": "cd42d4f99ab995b0"
  },
  {
   "cell_type": "code",
   "execution_count": 20,
   "outputs": [
    {
     "name": "stdout",
     "output_type": "stream",
     "text": [
      "<class 'pandas.core.frame.DataFrame'>\n",
      "RangeIndex: 878503 entries, 0 to 878502\n",
      "Data columns (total 7 columns):\n",
      " #   Column                       Non-Null Count   Dtype  \n",
      "---  ------                       --------------   -----  \n",
      " 0   Date                         878503 non-null  object \n",
      " 1   Time                         878503 non-null  object \n",
      " 2   Item Code                    878503 non-null  int64  \n",
      " 3   Quantity Sold (kilo)         878503 non-null  float64\n",
      " 4   Unit Selling Price (RMB/kg)  878503 non-null  float64\n",
      " 5   Sale or Return               878503 non-null  object \n",
      " 6   Discount (Yes/No)            878503 non-null  object \n",
      "dtypes: float64(2), int64(1), object(4)\n",
      "memory usage: 46.9+ MB\n"
     ]
    }
   ],
   "source": [
    "b.info()"
   ],
   "metadata": {
    "collapsed": false,
    "ExecuteTime": {
     "end_time": "2023-12-10T03:00:27.778007200Z",
     "start_time": "2023-12-10T03:00:26.821564700Z"
    }
   },
   "id": "8c7914c562040f42"
  },
  {
   "cell_type": "code",
   "execution_count": 21,
   "outputs": [
    {
     "name": "stdout",
     "output_type": "stream",
     "text": [
      "<class 'pandas.core.frame.DataFrame'>\n",
      "RangeIndex: 55982 entries, 0 to 55981\n",
      "Data columns (total 3 columns):\n",
      " #   Column                    Non-Null Count  Dtype  \n",
      "---  ------                    --------------  -----  \n",
      " 0   Date                      55982 non-null  object \n",
      " 1   Item Code                 55982 non-null  int64  \n",
      " 2   Wholesale Price (RMB/kg)  55982 non-null  float64\n",
      "dtypes: float64(1), int64(1), object(1)\n",
      "memory usage: 1.3+ MB\n"
     ]
    }
   ],
   "source": [
    "c.info()"
   ],
   "metadata": {
    "collapsed": false,
    "ExecuteTime": {
     "end_time": "2023-12-10T03:00:27.779005Z",
     "start_time": "2023-12-10T03:00:27.118769600Z"
    }
   },
   "id": "abe30ad90e9cd140"
  },
  {
   "cell_type": "code",
   "execution_count": 22,
   "outputs": [
    {
     "data": {
      "text/plain": "     Item Code  Item Name  Category Code  Category Name\n0        False      False          False          False\n1        False      False          False          False\n2        False      False          False          False\n3        False      False          False          False\n4        False      False          False          False\n..         ...        ...            ...            ...\n246      False      False          False          False\n247      False      False          False          False\n248      False      False          False          False\n249      False      False          False          False\n250      False      False          False          False\n\n[251 rows x 4 columns]",
      "text/html": "<div>\n<style scoped>\n    .dataframe tbody tr th:only-of-type {\n        vertical-align: middle;\n    }\n\n    .dataframe tbody tr th {\n        vertical-align: top;\n    }\n\n    .dataframe thead th {\n        text-align: right;\n    }\n</style>\n<table border=\"1\" class=\"dataframe\">\n  <thead>\n    <tr style=\"text-align: right;\">\n      <th></th>\n      <th>Item Code</th>\n      <th>Item Name</th>\n      <th>Category Code</th>\n      <th>Category Name</th>\n    </tr>\n  </thead>\n  <tbody>\n    <tr>\n      <th>0</th>\n      <td>False</td>\n      <td>False</td>\n      <td>False</td>\n      <td>False</td>\n    </tr>\n    <tr>\n      <th>1</th>\n      <td>False</td>\n      <td>False</td>\n      <td>False</td>\n      <td>False</td>\n    </tr>\n    <tr>\n      <th>2</th>\n      <td>False</td>\n      <td>False</td>\n      <td>False</td>\n      <td>False</td>\n    </tr>\n    <tr>\n      <th>3</th>\n      <td>False</td>\n      <td>False</td>\n      <td>False</td>\n      <td>False</td>\n    </tr>\n    <tr>\n      <th>4</th>\n      <td>False</td>\n      <td>False</td>\n      <td>False</td>\n      <td>False</td>\n    </tr>\n    <tr>\n      <th>...</th>\n      <td>...</td>\n      <td>...</td>\n      <td>...</td>\n      <td>...</td>\n    </tr>\n    <tr>\n      <th>246</th>\n      <td>False</td>\n      <td>False</td>\n      <td>False</td>\n      <td>False</td>\n    </tr>\n    <tr>\n      <th>247</th>\n      <td>False</td>\n      <td>False</td>\n      <td>False</td>\n      <td>False</td>\n    </tr>\n    <tr>\n      <th>248</th>\n      <td>False</td>\n      <td>False</td>\n      <td>False</td>\n      <td>False</td>\n    </tr>\n    <tr>\n      <th>249</th>\n      <td>False</td>\n      <td>False</td>\n      <td>False</td>\n      <td>False</td>\n    </tr>\n    <tr>\n      <th>250</th>\n      <td>False</td>\n      <td>False</td>\n      <td>False</td>\n      <td>False</td>\n    </tr>\n  </tbody>\n</table>\n<p>251 rows × 4 columns</p>\n</div>"
     },
     "execution_count": 22,
     "metadata": {},
     "output_type": "execute_result"
    }
   ],
   "source": [
    "a.isnull()"
   ],
   "metadata": {
    "collapsed": false,
    "ExecuteTime": {
     "end_time": "2023-12-10T03:00:27.782994600Z",
     "start_time": "2023-12-10T03:00:27.148689700Z"
    }
   },
   "id": "1424d27c0fd5efd4"
  },
  {
   "cell_type": "code",
   "execution_count": 23,
   "outputs": [
    {
     "data": {
      "text/plain": "         Date   Time  Item Code  Quantity Sold (kilo)  \\\n0       False  False      False                 False   \n1       False  False      False                 False   \n2       False  False      False                 False   \n3       False  False      False                 False   \n4       False  False      False                 False   \n...       ...    ...        ...                   ...   \n878498  False  False      False                 False   \n878499  False  False      False                 False   \n878500  False  False      False                 False   \n878501  False  False      False                 False   \n878502  False  False      False                 False   \n\n        Unit Selling Price (RMB/kg)  Sale or Return  Discount (Yes/No)  \n0                             False           False              False  \n1                             False           False              False  \n2                             False           False              False  \n3                             False           False              False  \n4                             False           False              False  \n...                             ...             ...                ...  \n878498                        False           False              False  \n878499                        False           False              False  \n878500                        False           False              False  \n878501                        False           False              False  \n878502                        False           False              False  \n\n[878503 rows x 7 columns]",
      "text/html": "<div>\n<style scoped>\n    .dataframe tbody tr th:only-of-type {\n        vertical-align: middle;\n    }\n\n    .dataframe tbody tr th {\n        vertical-align: top;\n    }\n\n    .dataframe thead th {\n        text-align: right;\n    }\n</style>\n<table border=\"1\" class=\"dataframe\">\n  <thead>\n    <tr style=\"text-align: right;\">\n      <th></th>\n      <th>Date</th>\n      <th>Time</th>\n      <th>Item Code</th>\n      <th>Quantity Sold (kilo)</th>\n      <th>Unit Selling Price (RMB/kg)</th>\n      <th>Sale or Return</th>\n      <th>Discount (Yes/No)</th>\n    </tr>\n  </thead>\n  <tbody>\n    <tr>\n      <th>0</th>\n      <td>False</td>\n      <td>False</td>\n      <td>False</td>\n      <td>False</td>\n      <td>False</td>\n      <td>False</td>\n      <td>False</td>\n    </tr>\n    <tr>\n      <th>1</th>\n      <td>False</td>\n      <td>False</td>\n      <td>False</td>\n      <td>False</td>\n      <td>False</td>\n      <td>False</td>\n      <td>False</td>\n    </tr>\n    <tr>\n      <th>2</th>\n      <td>False</td>\n      <td>False</td>\n      <td>False</td>\n      <td>False</td>\n      <td>False</td>\n      <td>False</td>\n      <td>False</td>\n    </tr>\n    <tr>\n      <th>3</th>\n      <td>False</td>\n      <td>False</td>\n      <td>False</td>\n      <td>False</td>\n      <td>False</td>\n      <td>False</td>\n      <td>False</td>\n    </tr>\n    <tr>\n      <th>4</th>\n      <td>False</td>\n      <td>False</td>\n      <td>False</td>\n      <td>False</td>\n      <td>False</td>\n      <td>False</td>\n      <td>False</td>\n    </tr>\n    <tr>\n      <th>...</th>\n      <td>...</td>\n      <td>...</td>\n      <td>...</td>\n      <td>...</td>\n      <td>...</td>\n      <td>...</td>\n      <td>...</td>\n    </tr>\n    <tr>\n      <th>878498</th>\n      <td>False</td>\n      <td>False</td>\n      <td>False</td>\n      <td>False</td>\n      <td>False</td>\n      <td>False</td>\n      <td>False</td>\n    </tr>\n    <tr>\n      <th>878499</th>\n      <td>False</td>\n      <td>False</td>\n      <td>False</td>\n      <td>False</td>\n      <td>False</td>\n      <td>False</td>\n      <td>False</td>\n    </tr>\n    <tr>\n      <th>878500</th>\n      <td>False</td>\n      <td>False</td>\n      <td>False</td>\n      <td>False</td>\n      <td>False</td>\n      <td>False</td>\n      <td>False</td>\n    </tr>\n    <tr>\n      <th>878501</th>\n      <td>False</td>\n      <td>False</td>\n      <td>False</td>\n      <td>False</td>\n      <td>False</td>\n      <td>False</td>\n      <td>False</td>\n    </tr>\n    <tr>\n      <th>878502</th>\n      <td>False</td>\n      <td>False</td>\n      <td>False</td>\n      <td>False</td>\n      <td>False</td>\n      <td>False</td>\n      <td>False</td>\n    </tr>\n  </tbody>\n</table>\n<p>878503 rows × 7 columns</p>\n</div>"
     },
     "execution_count": 23,
     "metadata": {},
     "output_type": "execute_result"
    }
   ],
   "source": [
    "b.isnull()"
   ],
   "metadata": {
    "collapsed": false,
    "ExecuteTime": {
     "end_time": "2023-12-10T03:00:28.060252900Z",
     "start_time": "2023-12-10T03:00:27.180604300Z"
    }
   },
   "id": "5f150365b6f519c6"
  },
  {
   "cell_type": "code",
   "execution_count": 24,
   "outputs": [
    {
     "data": {
      "text/plain": "        Date  Item Code  Wholesale Price (RMB/kg)\n0      False      False                     False\n1      False      False                     False\n2      False      False                     False\n3      False      False                     False\n4      False      False                     False\n...      ...        ...                       ...\n55977  False      False                     False\n55978  False      False                     False\n55979  False      False                     False\n55980  False      False                     False\n55981  False      False                     False\n\n[55982 rows x 3 columns]",
      "text/html": "<div>\n<style scoped>\n    .dataframe tbody tr th:only-of-type {\n        vertical-align: middle;\n    }\n\n    .dataframe tbody tr th {\n        vertical-align: top;\n    }\n\n    .dataframe thead th {\n        text-align: right;\n    }\n</style>\n<table border=\"1\" class=\"dataframe\">\n  <thead>\n    <tr style=\"text-align: right;\">\n      <th></th>\n      <th>Date</th>\n      <th>Item Code</th>\n      <th>Wholesale Price (RMB/kg)</th>\n    </tr>\n  </thead>\n  <tbody>\n    <tr>\n      <th>0</th>\n      <td>False</td>\n      <td>False</td>\n      <td>False</td>\n    </tr>\n    <tr>\n      <th>1</th>\n      <td>False</td>\n      <td>False</td>\n      <td>False</td>\n    </tr>\n    <tr>\n      <th>2</th>\n      <td>False</td>\n      <td>False</td>\n      <td>False</td>\n    </tr>\n    <tr>\n      <th>3</th>\n      <td>False</td>\n      <td>False</td>\n      <td>False</td>\n    </tr>\n    <tr>\n      <th>4</th>\n      <td>False</td>\n      <td>False</td>\n      <td>False</td>\n    </tr>\n    <tr>\n      <th>...</th>\n      <td>...</td>\n      <td>...</td>\n      <td>...</td>\n    </tr>\n    <tr>\n      <th>55977</th>\n      <td>False</td>\n      <td>False</td>\n      <td>False</td>\n    </tr>\n    <tr>\n      <th>55978</th>\n      <td>False</td>\n      <td>False</td>\n      <td>False</td>\n    </tr>\n    <tr>\n      <th>55979</th>\n      <td>False</td>\n      <td>False</td>\n      <td>False</td>\n    </tr>\n    <tr>\n      <th>55980</th>\n      <td>False</td>\n      <td>False</td>\n      <td>False</td>\n    </tr>\n    <tr>\n      <th>55981</th>\n      <td>False</td>\n      <td>False</td>\n      <td>False</td>\n    </tr>\n  </tbody>\n</table>\n<p>55982 rows × 3 columns</p>\n</div>"
     },
     "execution_count": 24,
     "metadata": {},
     "output_type": "execute_result"
    }
   ],
   "source": [
    "c.isnull()"
   ],
   "metadata": {
    "collapsed": false,
    "ExecuteTime": {
     "end_time": "2023-12-10T03:00:28.064243200Z",
     "start_time": "2023-12-10T03:00:27.518701500Z"
    }
   },
   "id": "e57150d72a19df8f"
  },
  {
   "cell_type": "code",
   "execution_count": 25,
   "outputs": [
    {
     "data": {
      "text/plain": "     Item Code  Item Name  Loss Rate (%)\n0        False      False          False\n1        False      False          False\n2        False      False          False\n3        False      False          False\n4        False      False          False\n..         ...        ...            ...\n246      False      False          False\n247      False      False          False\n248      False      False          False\n249      False      False          False\n250      False      False          False\n\n[251 rows x 3 columns]",
      "text/html": "<div>\n<style scoped>\n    .dataframe tbody tr th:only-of-type {\n        vertical-align: middle;\n    }\n\n    .dataframe tbody tr th {\n        vertical-align: top;\n    }\n\n    .dataframe thead th {\n        text-align: right;\n    }\n</style>\n<table border=\"1\" class=\"dataframe\">\n  <thead>\n    <tr style=\"text-align: right;\">\n      <th></th>\n      <th>Item Code</th>\n      <th>Item Name</th>\n      <th>Loss Rate (%)</th>\n    </tr>\n  </thead>\n  <tbody>\n    <tr>\n      <th>0</th>\n      <td>False</td>\n      <td>False</td>\n      <td>False</td>\n    </tr>\n    <tr>\n      <th>1</th>\n      <td>False</td>\n      <td>False</td>\n      <td>False</td>\n    </tr>\n    <tr>\n      <th>2</th>\n      <td>False</td>\n      <td>False</td>\n      <td>False</td>\n    </tr>\n    <tr>\n      <th>3</th>\n      <td>False</td>\n      <td>False</td>\n      <td>False</td>\n    </tr>\n    <tr>\n      <th>4</th>\n      <td>False</td>\n      <td>False</td>\n      <td>False</td>\n    </tr>\n    <tr>\n      <th>...</th>\n      <td>...</td>\n      <td>...</td>\n      <td>...</td>\n    </tr>\n    <tr>\n      <th>246</th>\n      <td>False</td>\n      <td>False</td>\n      <td>False</td>\n    </tr>\n    <tr>\n      <th>247</th>\n      <td>False</td>\n      <td>False</td>\n      <td>False</td>\n    </tr>\n    <tr>\n      <th>248</th>\n      <td>False</td>\n      <td>False</td>\n      <td>False</td>\n    </tr>\n    <tr>\n      <th>249</th>\n      <td>False</td>\n      <td>False</td>\n      <td>False</td>\n    </tr>\n    <tr>\n      <th>250</th>\n      <td>False</td>\n      <td>False</td>\n      <td>False</td>\n    </tr>\n  </tbody>\n</table>\n<p>251 rows × 3 columns</p>\n</div>"
     },
     "execution_count": 25,
     "metadata": {},
     "output_type": "execute_result"
    }
   ],
   "source": [
    "d.isnull()"
   ],
   "metadata": {
    "collapsed": false,
    "ExecuteTime": {
     "end_time": "2023-12-10T03:00:28.124082900Z",
     "start_time": "2023-12-10T03:00:27.567570300Z"
    }
   },
   "id": "57ba74b102dbfac4"
  },
  {
   "cell_type": "code",
   "execution_count": 26,
   "outputs": [
    {
     "data": {
      "text/plain": "Item Code        0\nItem Name        0\nCategory Code    0\nCategory Name    0\ndtype: int64"
     },
     "execution_count": 26,
     "metadata": {},
     "output_type": "execute_result"
    }
   ],
   "source": [
    "a.isnull().sum()"
   ],
   "metadata": {
    "collapsed": false,
    "ExecuteTime": {
     "end_time": "2023-12-10T03:00:28.176941300Z",
     "start_time": "2023-12-10T03:00:27.616440700Z"
    }
   },
   "id": "c192d526bdfb68a2"
  },
  {
   "cell_type": "code",
   "execution_count": 27,
   "outputs": [
    {
     "data": {
      "text/plain": "Date                           0\nTime                           0\nItem Code                      0\nQuantity Sold (kilo)           0\nUnit Selling Price (RMB/kg)    0\nSale or Return                 0\nDiscount (Yes/No)              0\ndtype: int64"
     },
     "execution_count": 27,
     "metadata": {},
     "output_type": "execute_result"
    }
   ],
   "source": [
    "b.isnull().sum()"
   ],
   "metadata": {
    "collapsed": false,
    "ExecuteTime": {
     "end_time": "2023-12-10T03:00:28.494094500Z",
     "start_time": "2023-12-10T03:00:27.656332400Z"
    }
   },
   "id": "6ee29c4ad6738784"
  },
  {
   "cell_type": "code",
   "execution_count": 28,
   "outputs": [
    {
     "data": {
      "text/plain": "Date                        0\nItem Code                   0\nWholesale Price (RMB/kg)    0\ndtype: int64"
     },
     "execution_count": 28,
     "metadata": {},
     "output_type": "execute_result"
    }
   ],
   "source": [
    "c.isnull().sum()"
   ],
   "metadata": {
    "collapsed": false,
    "ExecuteTime": {
     "end_time": "2023-12-10T03:00:28.496089700Z",
     "start_time": "2023-12-10T03:00:28.002407600Z"
    }
   },
   "id": "5fb25225e45feb0"
  },
  {
   "cell_type": "code",
   "execution_count": 29,
   "outputs": [
    {
     "data": {
      "text/plain": "Item Code        0\nItem Name        0\nLoss Rate (%)    0\ndtype: int64"
     },
     "execution_count": 29,
     "metadata": {},
     "output_type": "execute_result"
    }
   ],
   "source": [
    "d.isnull().sum()"
   ],
   "metadata": {
    "collapsed": false,
    "ExecuteTime": {
     "end_time": "2023-12-10T03:00:28.605795700Z",
     "start_time": "2023-12-10T03:00:28.042302300Z"
    }
   },
   "id": "c5ccab5875f0caa9"
  },
  {
   "cell_type": "code",
   "execution_count": 30,
   "outputs": [
    {
     "data": {
      "text/plain": "<BarContainer object of 6 artists>"
     },
     "execution_count": 30,
     "metadata": {},
     "output_type": "execute_result"
    },
    {
     "data": {
      "text/plain": "<Figure size 640x480 with 1 Axes>",
      "image/png": "[encoded data removed]"
     },
     "metadata": {},
     "output_type": "display_data"
    }
   ],
   "source": [
    "plt.bar(a['Category Name'].unique(), a['Category Name'].value_counts())"
   ],
   "metadata": {
    "collapsed": false,
    "ExecuteTime": {
     "end_time": "2023-12-10T03:00:29.338835600Z",
     "start_time": "2023-12-10T03:00:28.067234200Z"
    }
   },
   "id": "327f5907e090c0b8"
  },
  {
   "cell_type": "code",
   "execution_count": 31,
   "outputs": [
    {
     "data": {
      "text/plain": "Item Name\nChinese Caterpillar Fungus Flowers (Bag)    2\nBroccoli                                    2\nApricot Bao Mushroom (Bag)                  2\nChinese Cabbage                             2\nFruit Pepper (Bag)                          1\n                                           ..\nXianzongye (Bag) (1)                        1\nForeign Garland Chrysanthemum  (Bag)        1\nLongyacai                                   1\nYellow Baicai (1)                           1\nHfyg Haixian Mushroom (Bunch)               1\nName: count, Length: 247, dtype: int64"
     },
     "execution_count": 31,
     "metadata": {},
     "output_type": "execute_result"
    }
   ],
   "source": [
    "a['Item Name'].value_counts()"
   ],
   "metadata": {
    "collapsed": false,
    "ExecuteTime": {
     "end_time": "2023-12-10T03:00:29.339833100Z",
     "start_time": "2023-12-10T03:00:28.744424700Z"
    }
   },
   "id": "9238e8db067d60bb"
  },
  {
   "cell_type": "code",
   "execution_count": 32,
   "outputs": [
    {
     "data": {
      "text/plain": "Category Name\nFlower/Leaf Vegetables         100\nEdible Mushroom                 72\nCapsicum                        45\nAquatic Tuberous Vegetables     19\nSolanum                         10\nCabbage                          5\nName: count, dtype: int64"
     },
     "execution_count": 32,
     "metadata": {},
     "output_type": "execute_result"
    }
   ],
   "source": [
    "a['Category Name'].value_counts()"
   ],
   "metadata": {
    "collapsed": false,
    "ExecuteTime": {
     "end_time": "2023-12-10T03:00:29.403662300Z",
     "start_time": "2023-12-10T03:00:28.783320700Z"
    }
   },
   "id": "bc662f7d8e852729"
  },
  {
   "cell_type": "code",
   "execution_count": 33,
   "outputs": [
    {
     "data": {
      "text/plain": "Item Name\nApricot Bao Mushroom (Bag)                  2\nBroccoli                                    2\nChinese Caterpillar Fungus Flowers (Bag)    2\nChinese Cabbage                             2\nGreen Hang Pepper (Bag)                     1\n                                           ..\nChicken Fir Bacteria                        1\nWild Lotus Root (1)                         1\nBlack Porcini                               1\nHaixian Mushroom (Bag) (1)                  1\nHfyg Haixian Mushroom (Bunch)               1\nName: count, Length: 247, dtype: int64"
     },
     "execution_count": 33,
     "metadata": {},
     "output_type": "execute_result"
    }
   ],
   "source": [
    "d['Item Name'].value_counts()"
   ],
   "metadata": {
    "collapsed": false,
    "ExecuteTime": {
     "end_time": "2023-12-10T03:00:29.781651900Z",
     "start_time": "2023-12-10T03:00:28.844158200Z"
    }
   },
   "id": "5549a4033fb41367"
  },
  {
   "cell_type": "code",
   "execution_count": 34,
   "outputs": [
    {
     "data": {
      "text/plain": "Loss Rate (%)\n9.43     85\n0.00     22\n11.13     7\n10.94     5\n11.93     3\n         ..\n2.48      1\n29.25     1\n18.51     1\n11.99     1\n0.12      1\nName: count, Length: 126, dtype: int64"
     },
     "execution_count": 34,
     "metadata": {},
     "output_type": "execute_result"
    }
   ],
   "source": [
    "d['Loss Rate (%)'].value_counts()"
   ],
   "metadata": {
    "collapsed": false,
    "ExecuteTime": {
     "end_time": "2023-12-10T03:00:29.876398500Z",
     "start_time": "2023-12-10T03:00:28.958851500Z"
    }
   },
   "id": "c130332fd04f72f0"
  },
  {
   "cell_type": "code",
   "execution_count": 35,
   "outputs": [
    {
     "data": {
      "text/plain": "<Axes: >"
     },
     "execution_count": 35,
     "metadata": {},
     "output_type": "execute_result"
    },
    {
     "data": {
      "text/plain": "<Figure size 640x480 with 1 Axes>",
      "image/png": "[encoded data removed]"
     },
     "metadata": {},
     "output_type": "display_data"
    }
   ],
   "source": [
    "d.plot()"
   ],
   "metadata": {
    "collapsed": false,
    "ExecuteTime": {
     "end_time": "2023-12-10T03:00:30.155652400Z",
     "start_time": "2023-12-10T03:00:29.029663100Z"
    }
   },
   "id": "88d0bc57aba4cdf7"
  },
  {
   "cell_type": "code",
   "execution_count": 36,
   "outputs": [
    {
     "data": {
      "text/plain": "         Item_Code              Item_Name  Category_Code  \\\n0  102900005115168       Niushou Shengcai     1011010101   \n1  102900005115199      Sichuan Red Cedar     1011010101   \n2  102900005115625  Local Xiaomao Cabbage     1011010101   \n3  102900005115748           White Caitai     1011010101   \n4  102900005115762               Amaranth     1011010101   \n\n            Category_Name  \n0  Flower/Leaf Vegetables  \n1  Flower/Leaf Vegetables  \n2  Flower/Leaf Vegetables  \n3  Flower/Leaf Vegetables  \n4  Flower/Leaf Vegetables  ",
      "text/html": "<div>\n<style scoped>\n    .dataframe tbody tr th:only-of-type {\n        vertical-align: middle;\n    }\n\n    .dataframe tbody tr th {\n        vertical-align: top;\n    }\n\n    .dataframe thead th {\n        text-align: right;\n    }\n</style>\n<table border=\"1\" class=\"dataframe\">\n  <thead>\n    <tr style=\"text-align: right;\">\n      <th></th>\n      <th>Item_Code</th>\n      <th>Item_Name</th>\n      <th>Category_Code</th>\n      <th>Category_Name</th>\n    </tr>\n  </thead>\n  <tbody>\n    <tr>\n      <th>0</th>\n      <td>102900005115168</td>\n      <td>Niushou Shengcai</td>\n      <td>1011010101</td>\n      <td>Flower/Leaf Vegetables</td>\n    </tr>\n    <tr>\n      <th>1</th>\n      <td>102900005115199</td>\n      <td>Sichuan Red Cedar</td>\n      <td>1011010101</td>\n      <td>Flower/Leaf Vegetables</td>\n    </tr>\n    <tr>\n      <th>2</th>\n      <td>102900005115625</td>\n      <td>Local Xiaomao Cabbage</td>\n      <td>1011010101</td>\n      <td>Flower/Leaf Vegetables</td>\n    </tr>\n    <tr>\n      <th>3</th>\n      <td>102900005115748</td>\n      <td>White Caitai</td>\n      <td>1011010101</td>\n      <td>Flower/Leaf Vegetables</td>\n    </tr>\n    <tr>\n      <th>4</th>\n      <td>102900005115762</td>\n      <td>Amaranth</td>\n      <td>1011010101</td>\n      <td>Flower/Leaf Vegetables</td>\n    </tr>\n  </tbody>\n</table>\n</div>"
     },
     "execution_count": 36,
     "metadata": {},
     "output_type": "execute_result"
    }
   ],
   "source": [
    "a.columns = a.columns.str.replace(\" \", \"_\")\n",
    "a.head()"
   ],
   "metadata": {
    "collapsed": false,
    "ExecuteTime": {
     "end_time": "2023-12-10T03:00:30.163630900Z",
     "start_time": "2023-12-10T03:00:29.712835700Z"
    }
   },
   "id": "42e30734980d23f9"
  },
  {
   "cell_type": "code",
   "execution_count": 37,
   "outputs": [
    {
     "data": {
      "text/plain": "         Date          Time        Item_Code  Quantity_Sold_(kilo)  \\\n0  2020-07-01  09:15:07.924  102900005117056                 0.396   \n1  2020-07-01  09:17:27.295  102900005115960                 0.849   \n2  2020-07-01  09:17:33.905  102900005117056                 0.409   \n3  2020-07-01  09:19:45.450  102900005115823                 0.421   \n4  2020-07-01  09:20:23.686  102900005115908                 0.539   \n\n   Unit_Selling_Price_(RMB/kg) Sale_or_Return Discount_(Yes/No)  \n0                          7.6           sale                No  \n1                          3.2           sale                No  \n2                          7.6           sale                No  \n3                         10.0           sale                No  \n4                          8.0           sale                No  ",
      "text/html": "<div>\n<style scoped>\n    .dataframe tbody tr th:only-of-type {\n        vertical-align: middle;\n    }\n\n    .dataframe tbody tr th {\n        vertical-align: top;\n    }\n\n    .dataframe thead th {\n        text-align: right;\n    }\n</style>\n<table border=\"1\" class=\"dataframe\">\n  <thead>\n    <tr style=\"text-align: right;\">\n      <th></th>\n      <th>Date</th>\n      <th>Time</th>\n      <th>Item_Code</th>\n      <th>Quantity_Sold_(kilo)</th>\n      <th>Unit_Selling_Price_(RMB/kg)</th>\n      <th>Sale_or_Return</th>\n      <th>Discount_(Yes/No)</th>\n    </tr>\n  </thead>\n  <tbody>\n    <tr>\n      <th>0</th>\n      <td>2020-07-01</td>\n      <td>09:15:07.924</td>\n      <td>102900005117056</td>\n      <td>0.396</td>\n      <td>7.6</td>\n      <td>sale</td>\n      <td>No</td>\n    </tr>\n    <tr>\n      <th>1</th>\n      <td>2020-07-01</td>\n      <td>09:17:27.295</td>\n      <td>102900005115960</td>\n      <td>0.849</td>\n      <td>3.2</td>\n      <td>sale</td>\n      <td>No</td>\n    </tr>\n    <tr>\n      <th>2</th>\n      <td>2020-07-01</td>\n      <td>09:17:33.905</td>\n      <td>102900005117056</td>\n      <td>0.409</td>\n      <td>7.6</td>\n      <td>sale</td>\n      <td>No</td>\n    </tr>\n    <tr>\n      <th>3</th>\n      <td>2020-07-01</td>\n      <td>09:19:45.450</td>\n      <td>102900005115823</td>\n      <td>0.421</td>\n      <td>10.0</td>\n      <td>sale</td>\n      <td>No</td>\n    </tr>\n    <tr>\n      <th>4</th>\n      <td>2020-07-01</td>\n      <td>09:20:23.686</td>\n      <td>102900005115908</td>\n      <td>0.539</td>\n      <td>8.0</td>\n      <td>sale</td>\n      <td>No</td>\n    </tr>\n  </tbody>\n</table>\n</div>"
     },
     "execution_count": 37,
     "metadata": {},
     "output_type": "execute_result"
    }
   ],
   "source": [
    "b.columns = b.columns.str.replace(\" \", \"_\")\n",
    "b.head()"
   ],
   "metadata": {
    "collapsed": false,
    "ExecuteTime": {
     "end_time": "2023-12-10T03:00:30.506713900Z",
     "start_time": "2023-12-10T03:00:29.741771300Z"
    }
   },
   "id": "918b261729d342ca"
  },
  {
   "cell_type": "code",
   "execution_count": 38,
   "outputs": [
    {
     "data": {
      "text/plain": "         Date        Item_Code  Wholesale_Price_(RMB/kg)\n0  2020-07-01  102900005115762                      3.88\n1  2020-07-01  102900005115779                      6.72\n2  2020-07-01  102900005115786                      3.19\n3  2020-07-01  102900005115793                      9.24\n4  2020-07-01  102900005115823                      7.03",
      "text/html": "<div>\n<style scoped>\n    .dataframe tbody tr th:only-of-type {\n        vertical-align: middle;\n    }\n\n    .dataframe tbody tr th {\n        vertical-align: top;\n    }\n\n    .dataframe thead th {\n        text-align: right;\n    }\n</style>\n<table border=\"1\" class=\"dataframe\">\n  <thead>\n    <tr style=\"text-align: right;\">\n      <th></th>\n      <th>Date</th>\n      <th>Item_Code</th>\n      <th>Wholesale_Price_(RMB/kg)</th>\n    </tr>\n  </thead>\n  <tbody>\n    <tr>\n      <th>0</th>\n      <td>2020-07-01</td>\n      <td>102900005115762</td>\n      <td>3.88</td>\n    </tr>\n    <tr>\n      <th>1</th>\n      <td>2020-07-01</td>\n      <td>102900005115779</td>\n      <td>6.72</td>\n    </tr>\n    <tr>\n      <th>2</th>\n      <td>2020-07-01</td>\n      <td>102900005115786</td>\n      <td>3.19</td>\n    </tr>\n    <tr>\n      <th>3</th>\n      <td>2020-07-01</td>\n      <td>102900005115793</td>\n      <td>9.24</td>\n    </tr>\n    <tr>\n      <th>4</th>\n      <td>2020-07-01</td>\n      <td>102900005115823</td>\n      <td>7.03</td>\n    </tr>\n  </tbody>\n</table>\n</div>"
     },
     "execution_count": 38,
     "metadata": {},
     "output_type": "execute_result"
    }
   ],
   "source": [
    "c.columns = c.columns.str.replace(\" \", \"_\")\n",
    "c.head()"
   ],
   "metadata": {
    "collapsed": false,
    "ExecuteTime": {
     "end_time": "2023-12-10T03:00:30.612433900Z",
     "start_time": "2023-12-10T03:00:29.828527900Z"
    }
   },
   "id": "7f614f7600a0543e"
  },
  {
   "cell_type": "code",
   "execution_count": 39,
   "outputs": [
    {
     "data": {
      "text/plain": "         Item_Code                 Item_Name  Loss_Rate_(%)\n0  102900005115168          Niushou Shengcai           4.39\n1  102900005115199         Sichuan Red Cedar          10.46\n2  102900005115250  Xixia Black Mushroom (1)          10.80\n3  102900005115625     Local Xiaomao Cabbage           0.18\n4  102900005115748              White Caitai           8.78",
      "text/html": "<div>\n<style scoped>\n    .dataframe tbody tr th:only-of-type {\n        vertical-align: middle;\n    }\n\n    .dataframe tbody tr th {\n        vertical-align: top;\n    }\n\n    .dataframe thead th {\n        text-align: right;\n    }\n</style>\n<table border=\"1\" class=\"dataframe\">\n  <thead>\n    <tr style=\"text-align: right;\">\n      <th></th>\n      <th>Item_Code</th>\n      <th>Item_Name</th>\n      <th>Loss_Rate_(%)</th>\n    </tr>\n  </thead>\n  <tbody>\n    <tr>\n      <th>0</th>\n      <td>102900005115168</td>\n      <td>Niushou Shengcai</td>\n      <td>4.39</td>\n    </tr>\n    <tr>\n      <th>1</th>\n      <td>102900005115199</td>\n      <td>Sichuan Red Cedar</td>\n      <td>10.46</td>\n    </tr>\n    <tr>\n      <th>2</th>\n      <td>102900005115250</td>\n      <td>Xixia Black Mushroom (1)</td>\n      <td>10.80</td>\n    </tr>\n    <tr>\n      <th>3</th>\n      <td>102900005115625</td>\n      <td>Local Xiaomao Cabbage</td>\n      <td>0.18</td>\n    </tr>\n    <tr>\n      <th>4</th>\n      <td>102900005115748</td>\n      <td>White Caitai</td>\n      <td>8.78</td>\n    </tr>\n  </tbody>\n</table>\n</div>"
     },
     "execution_count": 39,
     "metadata": {},
     "output_type": "execute_result"
    }
   ],
   "source": [
    "d.columns = d.columns.str.replace(\" \", \"_\")\n",
    "d.head()"
   ],
   "metadata": {
    "collapsed": false,
    "ExecuteTime": {
     "end_time": "2023-12-10T03:00:30.615423800Z",
     "start_time": "2023-12-10T03:00:29.899338900Z"
    }
   },
   "id": "e34aa151b6ee9cd1"
  },
  {
   "cell_type": "code",
   "execution_count": 40,
   "outputs": [
    {
     "data": {
      "text/plain": "Item_Code         int64\nItem_Name        object\nCategory_Code     int64\nCategory_Name    object\ndtype: object"
     },
     "execution_count": 40,
     "metadata": {},
     "output_type": "execute_result"
    }
   ],
   "source": [
    "a.dtypes"
   ],
   "metadata": {
    "collapsed": false,
    "ExecuteTime": {
     "end_time": "2023-12-10T03:00:30.630383100Z",
     "start_time": "2023-12-10T03:00:29.925268100Z"
    }
   },
   "id": "b9690c8c2bb99b29"
  },
  {
   "cell_type": "code",
   "execution_count": 41,
   "outputs": [
    {
     "data": {
      "text/plain": "Date                            object\nTime                            object\nItem_Code                        int64\nQuantity_Sold_(kilo)           float64\nUnit_Selling_Price_(RMB/kg)    float64\nSale_or_Return                  object\nDiscount_(Yes/No)               object\ndtype: object"
     },
     "execution_count": 41,
     "metadata": {},
     "output_type": "execute_result"
    }
   ],
   "source": [
    "b.dtypes"
   ],
   "metadata": {
    "collapsed": false,
    "ExecuteTime": {
     "end_time": "2023-12-10T03:00:30.631381200Z",
     "start_time": "2023-12-10T03:00:29.977129800Z"
    }
   },
   "id": "b7d8233a63f9e026"
  },
  {
   "cell_type": "code",
   "execution_count": 42,
   "outputs": [],
   "source": [
    "## changing datetime object\n",
    "b['Date'] = pd.to_datetime(b['Date'])"
   ],
   "metadata": {
    "collapsed": false,
    "ExecuteTime": {
     "end_time": "2023-12-10T03:00:30.708189500Z",
     "start_time": "2023-12-10T03:00:30.015028500Z"
    }
   },
   "id": "70a5ca2b499d0ab1"
  },
  {
   "cell_type": "code",
   "execution_count": 43,
   "outputs": [
    {
     "data": {
      "text/plain": "        Date          Time        Item_Code  Quantity_Sold_(kilo)  \\\n0 2020-07-01  09:15:07.924  102900005117056                 0.396   \n1 2020-07-01  09:17:27.295  102900005115960                 0.849   \n2 2020-07-01  09:17:33.905  102900005117056                 0.409   \n3 2020-07-01  09:19:45.450  102900005115823                 0.421   \n4 2020-07-01  09:20:23.686  102900005115908                 0.539   \n\n   Unit_Selling_Price_(RMB/kg) Sale_or_Return Discount_(Yes/No)  \n0                          7.6           sale                No  \n1                          3.2           sale                No  \n2                          7.6           sale                No  \n3                         10.0           sale                No  \n4                          8.0           sale                No  ",
      "text/html": "<div>\n<style scoped>\n    .dataframe tbody tr th:only-of-type {\n        vertical-align: middle;\n    }\n\n    .dataframe tbody tr th {\n        vertical-align: top;\n    }\n\n    .dataframe thead th {\n        text-align: right;\n    }\n</style>\n<table border=\"1\" class=\"dataframe\">\n  <thead>\n    <tr style=\"text-align: right;\">\n      <th></th>\n      <th>Date</th>\n      <th>Time</th>\n      <th>Item_Code</th>\n      <th>Quantity_Sold_(kilo)</th>\n      <th>Unit_Selling_Price_(RMB/kg)</th>\n      <th>Sale_or_Return</th>\n      <th>Discount_(Yes/No)</th>\n    </tr>\n  </thead>\n  <tbody>\n    <tr>\n      <th>0</th>\n      <td>2020-07-01</td>\n      <td>09:15:07.924</td>\n      <td>102900005117056</td>\n      <td>0.396</td>\n      <td>7.6</td>\n      <td>sale</td>\n      <td>No</td>\n    </tr>\n    <tr>\n      <th>1</th>\n      <td>2020-07-01</td>\n      <td>09:17:27.295</td>\n      <td>102900005115960</td>\n      <td>0.849</td>\n      <td>3.2</td>\n      <td>sale</td>\n      <td>No</td>\n    </tr>\n    <tr>\n      <th>2</th>\n      <td>2020-07-01</td>\n      <td>09:17:33.905</td>\n      <td>102900005117056</td>\n      <td>0.409</td>\n      <td>7.6</td>\n      <td>sale</td>\n      <td>No</td>\n    </tr>\n    <tr>\n      <th>3</th>\n      <td>2020-07-01</td>\n      <td>09:19:45.450</td>\n      <td>102900005115823</td>\n      <td>0.421</td>\n      <td>10.0</td>\n      <td>sale</td>\n      <td>No</td>\n    </tr>\n    <tr>\n      <th>4</th>\n      <td>2020-07-01</td>\n      <td>09:20:23.686</td>\n      <td>102900005115908</td>\n      <td>0.539</td>\n      <td>8.0</td>\n      <td>sale</td>\n      <td>No</td>\n    </tr>\n  </tbody>\n</table>\n</div>"
     },
     "execution_count": 43,
     "metadata": {},
     "output_type": "execute_result"
    }
   ],
   "source": [
    "b.head()"
   ],
   "metadata": {
    "collapsed": false,
    "ExecuteTime": {
     "end_time": "2023-12-10T03:00:30.722137400Z",
     "start_time": "2023-12-10T03:00:30.278325100Z"
    }
   },
   "id": "9a6b9d51ba294702"
  },
  {
   "cell_type": "code",
   "execution_count": 44,
   "outputs": [
    {
     "data": {
      "text/plain": "Date                         object\nItem_Code                     int64\nWholesale_Price_(RMB/kg)    float64\ndtype: object"
     },
     "execution_count": 44,
     "metadata": {},
     "output_type": "execute_result"
    }
   ],
   "source": [
    "c.dtypes"
   ],
   "metadata": {
    "collapsed": false,
    "ExecuteTime": {
     "end_time": "2023-12-10T03:00:30.748068Z",
     "start_time": "2023-12-10T03:00:30.329189900Z"
    }
   },
   "id": "bad3ba11e0f0dc3d"
  },
  {
   "cell_type": "code",
   "execution_count": 45,
   "outputs": [],
   "source": [
    "c['Date'] = pd.to_datetime(c['Date'], format = \"%Y-%m-%d\")"
   ],
   "metadata": {
    "collapsed": false,
    "ExecuteTime": {
     "end_time": "2023-12-10T03:00:30.748068Z",
     "start_time": "2023-12-10T03:00:30.376061900Z"
    }
   },
   "id": "99d89d4f98db7651"
  },
  {
   "cell_type": "code",
   "execution_count": 46,
   "outputs": [
    {
     "data": {
      "text/plain": "Item_Code          int64\nItem_Name         object\nLoss_Rate_(%)    float64\ndtype: object"
     },
     "execution_count": 46,
     "metadata": {},
     "output_type": "execute_result"
    }
   ],
   "source": [
    "d.dtypes"
   ],
   "metadata": {
    "collapsed": false,
    "ExecuteTime": {
     "end_time": "2023-12-10T03:00:30.922603100Z",
     "start_time": "2023-12-10T03:00:30.464826600Z"
    }
   },
   "id": "5dda66778f5e86fc"
  },
  {
   "cell_type": "code",
   "execution_count": 48,
   "outputs": [
    {
     "name": "stdout",
     "output_type": "stream",
     "text": [
      "2020-07-01 00:00:00 2023-06-30 00:00:00\n",
      "2020-07-01 00:00:00 2023-06-30 00:00:00\n"
     ]
    }
   ],
   "source": [
    "print(b['Date'].min(), b['Date'].max())\n",
    "print(c['Date'].min(), c['Date'].max())"
   ],
   "metadata": {
    "collapsed": false,
    "ExecuteTime": {
     "end_time": "2023-12-10T03:02:34.406646700Z",
     "start_time": "2023-12-10T03:02:34.103260400Z"
    }
   },
   "id": "fc1ec27d402c3f55"
  },
  {
   "cell_type": "code",
   "execution_count": 49,
   "outputs": [
    {
     "data": {
      "text/plain": "        Date          Time        Item_Code  Quantity_Sold_(kilo)  \\\n0 2020-07-01  09:15:07.924  102900005117056                 0.396   \n1 2020-07-01  09:17:27.295  102900005115960                 0.849   \n2 2020-07-01  09:17:33.905  102900005117056                 0.409   \n3 2020-07-01  09:19:45.450  102900005115823                 0.421   \n4 2020-07-01  09:20:23.686  102900005115908                 0.539   \n\n   Unit_Selling_Price_(RMB/kg) Sale_or_Return Discount_(Yes/No)  \\\n0                          7.6           sale                No   \n1                          3.2           sale                No   \n2                          7.6           sale                No   \n3                         10.0           sale                No   \n4                          8.0           sale                No   \n\n   Wholesale_Price_(RMB/kg)  \n0                      4.32  \n1                      2.10  \n2                      4.32  \n3                      7.03  \n4                      4.60  ",
      "text/html": "<div>\n<style scoped>\n    .dataframe tbody tr th:only-of-type {\n        vertical-align: middle;\n    }\n\n    .dataframe tbody tr th {\n        vertical-align: top;\n    }\n\n    .dataframe thead th {\n        text-align: right;\n    }\n</style>\n<table border=\"1\" class=\"dataframe\">\n  <thead>\n    <tr style=\"text-align: right;\">\n      <th></th>\n      <th>Date</th>\n      <th>Time</th>\n      <th>Item_Code</th>\n      <th>Quantity_Sold_(kilo)</th>\n      <th>Unit_Selling_Price_(RMB/kg)</th>\n      <th>Sale_or_Return</th>\n      <th>Discount_(Yes/No)</th>\n      <th>Wholesale_Price_(RMB/kg)</th>\n    </tr>\n  </thead>\n  <tbody>\n    <tr>\n      <th>0</th>\n      <td>2020-07-01</td>\n      <td>09:15:07.924</td>\n      <td>102900005117056</td>\n      <td>0.396</td>\n      <td>7.6</td>\n      <td>sale</td>\n      <td>No</td>\n      <td>4.32</td>\n    </tr>\n    <tr>\n      <th>1</th>\n      <td>2020-07-01</td>\n      <td>09:17:27.295</td>\n      <td>102900005115960</td>\n      <td>0.849</td>\n      <td>3.2</td>\n      <td>sale</td>\n      <td>No</td>\n      <td>2.10</td>\n    </tr>\n    <tr>\n      <th>2</th>\n      <td>2020-07-01</td>\n      <td>09:17:33.905</td>\n      <td>102900005117056</td>\n      <td>0.409</td>\n      <td>7.6</td>\n      <td>sale</td>\n      <td>No</td>\n      <td>4.32</td>\n    </tr>\n    <tr>\n      <th>3</th>\n      <td>2020-07-01</td>\n      <td>09:19:45.450</td>\n      <td>102900005115823</td>\n      <td>0.421</td>\n      <td>10.0</td>\n      <td>sale</td>\n      <td>No</td>\n      <td>7.03</td>\n    </tr>\n    <tr>\n      <th>4</th>\n      <td>2020-07-01</td>\n      <td>09:20:23.686</td>\n      <td>102900005115908</td>\n      <td>0.539</td>\n      <td>8.0</td>\n      <td>sale</td>\n      <td>No</td>\n      <td>4.60</td>\n    </tr>\n  </tbody>\n</table>\n</div>"
     },
     "execution_count": 49,
     "metadata": {},
     "output_type": "execute_result"
    }
   ],
   "source": [
    "sales_wholesale_df = pd.merge(b, c, how = 'left', on = ['Item_Code', \"Date\"])\n",
    "sales_wholesale_df.head()"
   ],
   "metadata": {
    "collapsed": false,
    "ExecuteTime": {
     "end_time": "2023-12-10T03:03:35.497417700Z",
     "start_time": "2023-12-10T03:03:35.248082200Z"
    }
   },
   "id": "f3f1ea24fbed8e"
  },
  {
   "cell_type": "code",
   "execution_count": 50,
   "outputs": [
    {
     "data": {
      "text/plain": "Date                           0\nTime                           0\nItem_Code                      0\nQuantity_Sold_(kilo)           0\nUnit_Selling_Price_(RMB/kg)    0\nSale_or_Return                 0\nDiscount_(Yes/No)              0\nWholesale_Price_(RMB/kg)       0\ndtype: int64"
     },
     "execution_count": 50,
     "metadata": {},
     "output_type": "execute_result"
    }
   ],
   "source": [
    "sales_wholesale_df.isnull().sum()"
   ],
   "metadata": {
    "collapsed": false,
    "ExecuteTime": {
     "end_time": "2023-12-10T03:03:52.188853400Z",
     "start_time": "2023-12-10T03:03:52.046233800Z"
    }
   },
   "id": "f0fc999c60789677"
  },
  {
   "cell_type": "code",
   "execution_count": 51,
   "outputs": [
    {
     "data": {
      "text/plain": "        Date          Time        Item_Code  Quantity_Sold_(kilo)  \\\n0 2020-07-01  09:15:07.924  102900005117056                 0.396   \n1 2020-07-01  09:17:27.295  102900005115960                 0.849   \n2 2020-07-01  09:17:33.905  102900005117056                 0.409   \n3 2020-07-01  09:19:45.450  102900005115823                 0.421   \n4 2020-07-01  09:20:23.686  102900005115908                 0.539   \n\n   Unit_Selling_Price_(RMB/kg) Sale_or_Return Discount_(Yes/No)  \\\n0                          7.6           sale                No   \n1                          3.2           sale                No   \n2                          7.6           sale                No   \n3                         10.0           sale                No   \n4                          8.0           sale                No   \n\n   Wholesale_Price_(RMB/kg)             Item_Name  Category_Code  \\\n0                      4.32  Paopaojiao (Jingpin)     1011010504   \n1                      2.10       Chinese Cabbage     1011010101   \n2                      4.32  Paopaojiao (Jingpin)     1011010504   \n3                      7.03          Shanghaiqing     1011010101   \n4                      4.60                Caixin     1011010101   \n\n            Category_Name  \n0                Capsicum  \n1  Flower/Leaf Vegetables  \n2                Capsicum  \n3  Flower/Leaf Vegetables  \n4  Flower/Leaf Vegetables  ",
      "text/html": "<div>\n<style scoped>\n    .dataframe tbody tr th:only-of-type {\n        vertical-align: middle;\n    }\n\n    .dataframe tbody tr th {\n        vertical-align: top;\n    }\n\n    .dataframe thead th {\n        text-align: right;\n    }\n</style>\n<table border=\"1\" class=\"dataframe\">\n  <thead>\n    <tr style=\"text-align: right;\">\n      <th></th>\n      <th>Date</th>\n      <th>Time</th>\n      <th>Item_Code</th>\n      <th>Quantity_Sold_(kilo)</th>\n      <th>Unit_Selling_Price_(RMB/kg)</th>\n      <th>Sale_or_Return</th>\n      <th>Discount_(Yes/No)</th>\n      <th>Wholesale_Price_(RMB/kg)</th>\n      <th>Item_Name</th>\n      <th>Category_Code</th>\n      <th>Category_Name</th>\n    </tr>\n  </thead>\n  <tbody>\n    <tr>\n      <th>0</th>\n      <td>2020-07-01</td>\n      <td>09:15:07.924</td>\n      <td>102900005117056</td>\n      <td>0.396</td>\n      <td>7.6</td>\n      <td>sale</td>\n      <td>No</td>\n      <td>4.32</td>\n      <td>Paopaojiao (Jingpin)</td>\n      <td>1011010504</td>\n      <td>Capsicum</td>\n    </tr>\n    <tr>\n      <th>1</th>\n      <td>2020-07-01</td>\n      <td>09:17:27.295</td>\n      <td>102900005115960</td>\n      <td>0.849</td>\n      <td>3.2</td>\n      <td>sale</td>\n      <td>No</td>\n      <td>2.10</td>\n      <td>Chinese Cabbage</td>\n      <td>1011010101</td>\n      <td>Flower/Leaf Vegetables</td>\n    </tr>\n    <tr>\n      <th>2</th>\n      <td>2020-07-01</td>\n      <td>09:17:33.905</td>\n      <td>102900005117056</td>\n      <td>0.409</td>\n      <td>7.6</td>\n      <td>sale</td>\n      <td>No</td>\n      <td>4.32</td>\n      <td>Paopaojiao (Jingpin)</td>\n      <td>1011010504</td>\n      <td>Capsicum</td>\n    </tr>\n    <tr>\n      <th>3</th>\n      <td>2020-07-01</td>\n      <td>09:19:45.450</td>\n      <td>102900005115823</td>\n      <td>0.421</td>\n      <td>10.0</td>\n      <td>sale</td>\n      <td>No</td>\n      <td>7.03</td>\n      <td>Shanghaiqing</td>\n      <td>1011010101</td>\n      <td>Flower/Leaf Vegetables</td>\n    </tr>\n    <tr>\n      <th>4</th>\n      <td>2020-07-01</td>\n      <td>09:20:23.686</td>\n      <td>102900005115908</td>\n      <td>0.539</td>\n      <td>8.0</td>\n      <td>sale</td>\n      <td>No</td>\n      <td>4.60</td>\n      <td>Caixin</td>\n      <td>1011010101</td>\n      <td>Flower/Leaf Vegetables</td>\n    </tr>\n  </tbody>\n</table>\n</div>"
     },
     "execution_count": 51,
     "metadata": {},
     "output_type": "execute_result"
    }
   ],
   "source": [
    "sales_wholesale_cat_df = pd.merge(sales_wholesale_df, a, how = 'left', on = ['Item_Code'])\n",
    "sales_wholesale_cat_df.head()"
   ],
   "metadata": {
    "collapsed": false,
    "ExecuteTime": {
     "end_time": "2023-12-10T03:04:45.751493500Z",
     "start_time": "2023-12-10T03:04:45.496175800Z"
    }
   },
   "id": "c04b7a6af67041ec"
  },
  {
   "cell_type": "code",
   "execution_count": 52,
   "outputs": [
    {
     "data": {
      "text/plain": "        Date          Time        Item_Code  Quantity_Sold_(kilo)  \\\n0 2020-07-01  09:15:07.924  102900005117056                 0.396   \n1 2020-07-01  09:17:27.295  102900005115960                 0.849   \n2 2020-07-01  09:17:33.905  102900005117056                 0.409   \n3 2020-07-01  09:19:45.450  102900005115823                 0.421   \n4 2020-07-01  09:20:23.686  102900005115908                 0.539   \n\n   Unit_Selling_Price_(RMB/kg) Sale_or_Return Discount_(Yes/No)  \\\n0                          7.6           sale                No   \n1                          3.2           sale                No   \n2                          7.6           sale                No   \n3                         10.0           sale                No   \n4                          8.0           sale                No   \n\n   Wholesale_Price_(RMB/kg)             Item_Name  Category_Code  \\\n0                      4.32  Paopaojiao (Jingpin)     1011010504   \n1                      2.10       Chinese Cabbage     1011010101   \n2                      4.32  Paopaojiao (Jingpin)     1011010504   \n3                      7.03          Shanghaiqing     1011010101   \n4                      4.60                Caixin     1011010101   \n\n            Category_Name  Loss_Rate_(%)  \n0                Capsicum           7.08  \n1  Flower/Leaf Vegetables          22.27  \n2                Capsicum           7.08  \n3  Flower/Leaf Vegetables          14.43  \n4  Flower/Leaf Vegetables          13.70  ",
      "text/html": "<div>\n<style scoped>\n    .dataframe tbody tr th:only-of-type {\n        vertical-align: middle;\n    }\n\n    .dataframe tbody tr th {\n        vertical-align: top;\n    }\n\n    .dataframe thead th {\n        text-align: right;\n    }\n</style>\n<table border=\"1\" class=\"dataframe\">\n  <thead>\n    <tr style=\"text-align: right;\">\n      <th></th>\n      <th>Date</th>\n      <th>Time</th>\n      <th>Item_Code</th>\n      <th>Quantity_Sold_(kilo)</th>\n      <th>Unit_Selling_Price_(RMB/kg)</th>\n      <th>Sale_or_Return</th>\n      <th>Discount_(Yes/No)</th>\n      <th>Wholesale_Price_(RMB/kg)</th>\n      <th>Item_Name</th>\n      <th>Category_Code</th>\n      <th>Category_Name</th>\n      <th>Loss_Rate_(%)</th>\n    </tr>\n  </thead>\n  <tbody>\n    <tr>\n      <th>0</th>\n      <td>2020-07-01</td>\n      <td>09:15:07.924</td>\n      <td>102900005117056</td>\n      <td>0.396</td>\n      <td>7.6</td>\n      <td>sale</td>\n      <td>No</td>\n      <td>4.32</td>\n      <td>Paopaojiao (Jingpin)</td>\n      <td>1011010504</td>\n      <td>Capsicum</td>\n      <td>7.08</td>\n    </tr>\n    <tr>\n      <th>1</th>\n      <td>2020-07-01</td>\n      <td>09:17:27.295</td>\n      <td>102900005115960</td>\n      <td>0.849</td>\n      <td>3.2</td>\n      <td>sale</td>\n      <td>No</td>\n      <td>2.10</td>\n      <td>Chinese Cabbage</td>\n      <td>1011010101</td>\n      <td>Flower/Leaf Vegetables</td>\n      <td>22.27</td>\n    </tr>\n    <tr>\n      <th>2</th>\n      <td>2020-07-01</td>\n      <td>09:17:33.905</td>\n      <td>102900005117056</td>\n      <td>0.409</td>\n      <td>7.6</td>\n      <td>sale</td>\n      <td>No</td>\n      <td>4.32</td>\n      <td>Paopaojiao (Jingpin)</td>\n      <td>1011010504</td>\n      <td>Capsicum</td>\n      <td>7.08</td>\n    </tr>\n    <tr>\n      <th>3</th>\n      <td>2020-07-01</td>\n      <td>09:19:45.450</td>\n      <td>102900005115823</td>\n      <td>0.421</td>\n      <td>10.0</td>\n      <td>sale</td>\n      <td>No</td>\n      <td>7.03</td>\n      <td>Shanghaiqing</td>\n      <td>1011010101</td>\n      <td>Flower/Leaf Vegetables</td>\n      <td>14.43</td>\n    </tr>\n    <tr>\n      <th>4</th>\n      <td>2020-07-01</td>\n      <td>09:20:23.686</td>\n      <td>102900005115908</td>\n      <td>0.539</td>\n      <td>8.0</td>\n      <td>sale</td>\n      <td>No</td>\n      <td>4.60</td>\n      <td>Caixin</td>\n      <td>1011010101</td>\n      <td>Flower/Leaf Vegetables</td>\n      <td>13.70</td>\n    </tr>\n  </tbody>\n</table>\n</div>"
     },
     "execution_count": 52,
     "metadata": {},
     "output_type": "execute_result"
    }
   ],
   "source": [
    "data = pd.merge(sales_wholesale_cat_df, d, how = 'left', on = ['Item_Code', 'Item_Name'])\n",
    "data.head()"
   ],
   "metadata": {
    "collapsed": false,
    "ExecuteTime": {
     "end_time": "2023-12-10T03:05:43.103259400Z",
     "start_time": "2023-12-10T03:05:42.769630Z"
    }
   },
   "id": "c8d8334dfef96f37"
  },
  {
   "cell_type": "code",
   "execution_count": 53,
   "outputs": [
    {
     "data": {
      "text/plain": "Date                           0\nTime                           0\nItem_Code                      0\nQuantity_Sold_(kilo)           0\nUnit_Selling_Price_(RMB/kg)    0\nSale_or_Return                 0\nDiscount_(Yes/No)              0\nWholesale_Price_(RMB/kg)       0\nItem_Name                      0\nCategory_Code                  0\nCategory_Name                  0\nLoss_Rate_(%)                  0\ndtype: int64"
     },
     "execution_count": 53,
     "metadata": {},
     "output_type": "execute_result"
    }
   ],
   "source": [
    "data.isnull().sum()"
   ],
   "metadata": {
    "collapsed": false,
    "ExecuteTime": {
     "end_time": "2023-12-10T03:06:25.257682800Z",
     "start_time": "2023-12-10T03:06:25.058214500Z"
    }
   },
   "id": "866fd5677b969f72"
  },
  {
   "cell_type": "code",
   "execution_count": 54,
   "outputs": [
    {
     "data": {
      "text/plain": "             Date          Time        Item_Code  Quantity_Sold_(kilo)  \\\n0      2020-07-01  09:15:07.924  102900005117056                 0.396   \n1      2020-07-01  09:17:27.295  102900005115960                 0.849   \n2      2020-07-01  09:17:33.905  102900005117056                 0.409   \n3      2020-07-01  09:19:45.450  102900005115823                 0.421   \n4      2020-07-01  09:20:23.686  102900005115908                 0.539   \n...           ...           ...              ...                   ...   \n878498 2023-06-30  21:35:13.264  102900005115250                 0.284   \n878499 2023-06-30  21:35:14.358  102900011022764                 0.669   \n878500 2023-06-30  21:35:20.264  102900005115250                 0.125   \n878501 2023-06-30  21:35:21.509  102900011016701                 0.252   \n878502 2023-06-30  21:40:48.248  102900011022764                 0.803   \n\n        Unit_Selling_Price_(RMB/kg) Sale_or_Return Discount_(Yes/No)  \\\n0                               7.6           sale                No   \n1                               3.2           sale                No   \n2                               7.6           sale                No   \n3                              10.0           sale                No   \n4                               8.0           sale                No   \n...                             ...            ...               ...   \n878498                         24.0           sale                No   \n878499                         12.0           sale                No   \n878500                         24.0           sale                No   \n878501                          5.2           sale                No   \n878502                         12.0           sale                No   \n\n        Wholesale_Price_(RMB/kg)                 Item_Name  Category_Code  \\\n0                           4.32      Paopaojiao (Jingpin)     1011010504   \n1                           2.10           Chinese Cabbage     1011010101   \n2                           4.32      Paopaojiao (Jingpin)     1011010504   \n3                           7.03              Shanghaiqing     1011010101   \n4                           4.60                    Caixin     1011010101   \n...                          ...                       ...            ...   \n878498                     15.60  Xixia Black Mushroom (1)     1011010801   \n878499                      7.00              Changxianqie     1011010501   \n878500                     15.60  Xixia Black Mushroom (1)     1011010801   \n878501                      3.63     Wuhu Green Pepper (1)     1011010504   \n878502                      7.00              Changxianqie     1011010501   \n\n                 Category_Name  Loss_Rate_(%)  \n0                     Capsicum           7.08  \n1       Flower/Leaf Vegetables          22.27  \n2                     Capsicum           7.08  \n3       Flower/Leaf Vegetables          14.43  \n4       Flower/Leaf Vegetables          13.70  \n...                        ...            ...  \n878498         Edible Mushroom          10.80  \n878499                 Solanum           6.90  \n878500         Edible Mushroom          10.80  \n878501                Capsicum           5.70  \n878502                 Solanum           6.90  \n\n[878503 rows x 12 columns]",
      "text/html": "<div>\n<style scoped>\n    .dataframe tbody tr th:only-of-type {\n        vertical-align: middle;\n    }\n\n    .dataframe tbody tr th {\n        vertical-align: top;\n    }\n\n    .dataframe thead th {\n        text-align: right;\n    }\n</style>\n<table border=\"1\" class=\"dataframe\">\n  <thead>\n    <tr style=\"text-align: right;\">\n      <th></th>\n      <th>Date</th>\n      <th>Time</th>\n      <th>Item_Code</th>\n      <th>Quantity_Sold_(kilo)</th>\n      <th>Unit_Selling_Price_(RMB/kg)</th>\n      <th>Sale_or_Return</th>\n      <th>Discount_(Yes/No)</th>\n      <th>Wholesale_Price_(RMB/kg)</th>\n      <th>Item_Name</th>\n      <th>Category_Code</th>\n      <th>Category_Name</th>\n      <th>Loss_Rate_(%)</th>\n    </tr>\n  </thead>\n  <tbody>\n    <tr>\n      <th>0</th>\n      <td>2020-07-01</td>\n      <td>09:15:07.924</td>\n      <td>102900005117056</td>\n      <td>0.396</td>\n      <td>7.6</td>\n      <td>sale</td>\n      <td>No</td>\n      <td>4.32</td>\n      <td>Paopaojiao (Jingpin)</td>\n      <td>1011010504</td>\n      <td>Capsicum</td>\n      <td>7.08</td>\n    </tr>\n    <tr>\n      <th>1</th>\n      <td>2020-07-01</td>\n      <td>09:17:27.295</td>\n      <td>102900005115960</td>\n      <td>0.849</td>\n      <td>3.2</td>\n      <td>sale</td>\n      <td>No</td>\n      <td>2.10</td>\n      <td>Chinese Cabbage</td>\n      <td>1011010101</td>\n      <td>Flower/Leaf Vegetables</td>\n      <td>22.27</td>\n    </tr>\n    <tr>\n      <th>2</th>\n      <td>2020-07-01</td>\n      <td>09:17:33.905</td>\n      <td>102900005117056</td>\n      <td>0.409</td>\n      <td>7.6</td>\n      <td>sale</td>\n      <td>No</td>\n      <td>4.32</td>\n      <td>Paopaojiao (Jingpin)</td>\n      <td>1011010504</td>\n      <td>Capsicum</td>\n      <td>7.08</td>\n    </tr>\n    <tr>\n      <th>3</th>\n      <td>2020-07-01</td>\n      <td>09:19:45.450</td>\n      <td>102900005115823</td>\n      <td>0.421</td>\n      <td>10.0</td>\n      <td>sale</td>\n      <td>No</td>\n      <td>7.03</td>\n      <td>Shanghaiqing</td>\n      <td>1011010101</td>\n      <td>Flower/Leaf Vegetables</td>\n      <td>14.43</td>\n    </tr>\n    <tr>\n      <th>4</th>\n      <td>2020-07-01</td>\n      <td>09:20:23.686</td>\n      <td>102900005115908</td>\n      <td>0.539</td>\n      <td>8.0</td>\n      <td>sale</td>\n      <td>No</td>\n      <td>4.60</td>\n      <td>Caixin</td>\n      <td>1011010101</td>\n      <td>Flower/Leaf Vegetables</td>\n      <td>13.70</td>\n    </tr>\n    <tr>\n      <th>...</th>\n      <td>...</td>\n      <td>...</td>\n      <td>...</td>\n      <td>...</td>\n      <td>...</td>\n      <td>...</td>\n      <td>...</td>\n      <td>...</td>\n      <td>...</td>\n      <td>...</td>\n      <td>...</td>\n      <td>...</td>\n    </tr>\n    <tr>\n      <th>878498</th>\n      <td>2023-06-30</td>\n      <td>21:35:13.264</td>\n      <td>102900005115250</td>\n      <td>0.284</td>\n      <td>24.0</td>\n      <td>sale</td>\n      <td>No</td>\n      <td>15.60</td>\n      <td>Xixia Black Mushroom (1)</td>\n      <td>1011010801</td>\n      <td>Edible Mushroom</td>\n      <td>10.80</td>\n    </tr>\n    <tr>\n      <th>878499</th>\n      <td>2023-06-30</td>\n      <td>21:35:14.358</td>\n      <td>102900011022764</td>\n      <td>0.669</td>\n      <td>12.0</td>\n      <td>sale</td>\n      <td>No</td>\n      <td>7.00</td>\n      <td>Changxianqie</td>\n      <td>1011010501</td>\n      <td>Solanum</td>\n      <td>6.90</td>\n    </tr>\n    <tr>\n      <th>878500</th>\n      <td>2023-06-30</td>\n      <td>21:35:20.264</td>\n      <td>102900005115250</td>\n      <td>0.125</td>\n      <td>24.0</td>\n      <td>sale</td>\n      <td>No</td>\n      <td>15.60</td>\n      <td>Xixia Black Mushroom (1)</td>\n      <td>1011010801</td>\n      <td>Edible Mushroom</td>\n      <td>10.80</td>\n    </tr>\n    <tr>\n      <th>878501</th>\n      <td>2023-06-30</td>\n      <td>21:35:21.509</td>\n      <td>102900011016701</td>\n      <td>0.252</td>\n      <td>5.2</td>\n      <td>sale</td>\n      <td>No</td>\n      <td>3.63</td>\n      <td>Wuhu Green Pepper (1)</td>\n      <td>1011010504</td>\n      <td>Capsicum</td>\n      <td>5.70</td>\n    </tr>\n    <tr>\n      <th>878502</th>\n      <td>2023-06-30</td>\n      <td>21:40:48.248</td>\n      <td>102900011022764</td>\n      <td>0.803</td>\n      <td>12.0</td>\n      <td>sale</td>\n      <td>No</td>\n      <td>7.00</td>\n      <td>Changxianqie</td>\n      <td>1011010501</td>\n      <td>Solanum</td>\n      <td>6.90</td>\n    </tr>\n  </tbody>\n</table>\n<p>878503 rows × 12 columns</p>\n</div>"
     },
     "execution_count": 54,
     "metadata": {},
     "output_type": "execute_result"
    }
   ],
   "source": [
    "data = data.drop_duplicates()\n",
    "data"
   ],
   "metadata": {
    "collapsed": false,
    "ExecuteTime": {
     "end_time": "2023-12-10T03:07:36.791181900Z",
     "start_time": "2023-12-10T03:07:35.553371400Z"
    }
   },
   "id": "ea61be125805b595"
  },
  {
   "cell_type": "code",
   "execution_count": 55,
   "outputs": [
    {
     "data": {
      "text/plain": "Discount_(Yes/No)\nNo     831137\nYes     47366\nName: count, dtype: int64"
     },
     "execution_count": 55,
     "metadata": {},
     "output_type": "execute_result"
    }
   ],
   "source": [
    "data['Discount_(Yes/No)'].value_counts()"
   ],
   "metadata": {
    "collapsed": false,
    "ExecuteTime": {
     "end_time": "2023-12-10T03:08:23.541973100Z",
     "start_time": "2023-12-10T03:08:23.451215200Z"
    }
   },
   "id": "644807043265f9ec"
  },
  {
   "cell_type": "code",
   "execution_count": 56,
   "outputs": [
    {
     "data": {
      "text/plain": "Discount_(Yes/No)\nFalse    831137\nTrue      47366\nName: count, dtype: int64"
     },
     "execution_count": 56,
     "metadata": {},
     "output_type": "execute_result"
    }
   ],
   "source": [
    "data['Discount_(Yes/No)'] = data['Discount_(Yes/No)'].map({'No' : False, \"Yes\":True})\n",
    "data['Discount_(Yes/No)'].value_counts()"
   ],
   "metadata": {
    "collapsed": false,
    "ExecuteTime": {
     "end_time": "2023-12-10T03:11:08.242728700Z",
     "start_time": "2023-12-10T03:11:08.124097600Z"
    }
   },
   "id": "e840ea14980fbb32"
  },
  {
   "cell_type": "code",
   "execution_count": 57,
   "outputs": [
    {
     "data": {
      "text/plain": "        Date          Time        Item_Code  Quantity_Sold_(kilo)  \\\n0 2020-07-01  09:15:07.924  102900005117056                 0.396   \n1 2020-07-01  09:17:27.295  102900005115960                 0.849   \n2 2020-07-01  09:17:33.905  102900005117056                 0.409   \n3 2020-07-01  09:19:45.450  102900005115823                 0.421   \n4 2020-07-01  09:20:23.686  102900005115908                 0.539   \n\n   Unit_Selling_Price_(RMB/kg) Sale_or_Return  Discount_(Yes/No)  \\\n0                          7.6           sale              False   \n1                          3.2           sale              False   \n2                          7.6           sale              False   \n3                         10.0           sale              False   \n4                          8.0           sale              False   \n\n   Wholesale_Price_(RMB/kg)             Item_Name  Category_Code  \\\n0                      4.32  Paopaojiao (Jingpin)     1011010504   \n1                      2.10       Chinese Cabbage     1011010101   \n2                      4.32  Paopaojiao (Jingpin)     1011010504   \n3                      7.03          Shanghaiqing     1011010101   \n4                      4.60                Caixin     1011010101   \n\n            Category_Name  Loss_Rate_(%)  total_sales  \n0                Capsicum           7.08       3.0096  \n1  Flower/Leaf Vegetables          22.27       2.7168  \n2                Capsicum           7.08       3.1084  \n3  Flower/Leaf Vegetables          14.43       4.2100  \n4  Flower/Leaf Vegetables          13.70       4.3120  ",
      "text/html": "<div>\n<style scoped>\n    .dataframe tbody tr th:only-of-type {\n        vertical-align: middle;\n    }\n\n    .dataframe tbody tr th {\n        vertical-align: top;\n    }\n\n    .dataframe thead th {\n        text-align: right;\n    }\n</style>\n<table border=\"1\" class=\"dataframe\">\n  <thead>\n    <tr style=\"text-align: right;\">\n      <th></th>\n      <th>Date</th>\n      <th>Time</th>\n      <th>Item_Code</th>\n      <th>Quantity_Sold_(kilo)</th>\n      <th>Unit_Selling_Price_(RMB/kg)</th>\n      <th>Sale_or_Return</th>\n      <th>Discount_(Yes/No)</th>\n      <th>Wholesale_Price_(RMB/kg)</th>\n      <th>Item_Name</th>\n      <th>Category_Code</th>\n      <th>Category_Name</th>\n      <th>Loss_Rate_(%)</th>\n      <th>total_sales</th>\n    </tr>\n  </thead>\n  <tbody>\n    <tr>\n      <th>0</th>\n      <td>2020-07-01</td>\n      <td>09:15:07.924</td>\n      <td>102900005117056</td>\n      <td>0.396</td>\n      <td>7.6</td>\n      <td>sale</td>\n      <td>False</td>\n      <td>4.32</td>\n      <td>Paopaojiao (Jingpin)</td>\n      <td>1011010504</td>\n      <td>Capsicum</td>\n      <td>7.08</td>\n      <td>3.0096</td>\n    </tr>\n    <tr>\n      <th>1</th>\n      <td>2020-07-01</td>\n      <td>09:17:27.295</td>\n      <td>102900005115960</td>\n      <td>0.849</td>\n      <td>3.2</td>\n      <td>sale</td>\n      <td>False</td>\n      <td>2.10</td>\n      <td>Chinese Cabbage</td>\n      <td>1011010101</td>\n      <td>Flower/Leaf Vegetables</td>\n      <td>22.27</td>\n      <td>2.7168</td>\n    </tr>\n    <tr>\n      <th>2</th>\n      <td>2020-07-01</td>\n      <td>09:17:33.905</td>\n      <td>102900005117056</td>\n      <td>0.409</td>\n      <td>7.6</td>\n      <td>sale</td>\n      <td>False</td>\n      <td>4.32</td>\n      <td>Paopaojiao (Jingpin)</td>\n      <td>1011010504</td>\n      <td>Capsicum</td>\n      <td>7.08</td>\n      <td>3.1084</td>\n    </tr>\n    <tr>\n      <th>3</th>\n      <td>2020-07-01</td>\n      <td>09:19:45.450</td>\n      <td>102900005115823</td>\n      <td>0.421</td>\n      <td>10.0</td>\n      <td>sale</td>\n      <td>False</td>\n      <td>7.03</td>\n      <td>Shanghaiqing</td>\n      <td>1011010101</td>\n      <td>Flower/Leaf Vegetables</td>\n      <td>14.43</td>\n      <td>4.2100</td>\n    </tr>\n    <tr>\n      <th>4</th>\n      <td>2020-07-01</td>\n      <td>09:20:23.686</td>\n      <td>102900005115908</td>\n      <td>0.539</td>\n      <td>8.0</td>\n      <td>sale</td>\n      <td>False</td>\n      <td>4.60</td>\n      <td>Caixin</td>\n      <td>1011010101</td>\n      <td>Flower/Leaf Vegetables</td>\n      <td>13.70</td>\n      <td>4.3120</td>\n    </tr>\n  </tbody>\n</table>\n</div>"
     },
     "execution_count": 57,
     "metadata": {},
     "output_type": "execute_result"
    }
   ],
   "source": [
    "#All Sales\n",
    "\n",
    "data = data.assign(total_sales = data['Quantity_Sold_(kilo)'] * data['Unit_Selling_Price_(RMB/kg)'])\n",
    "data.head()"
   ],
   "metadata": {
    "collapsed": false,
    "ExecuteTime": {
     "end_time": "2023-12-10T03:12:03.671902700Z",
     "start_time": "2023-12-10T03:12:03.484404Z"
    }
   },
   "id": "ff9c0ffdda45108"
  },
  {
   "cell_type": "code",
   "execution_count": 58,
   "outputs": [
    {
     "data": {
      "text/plain": "           Date  total_sales\n0    2020-07-01    3472.0136\n1    2020-07-02    3456.5429\n2    2020-07-03    3384.7701\n3    2020-07-04    4394.8624\n4    2020-07-05    4471.5748\n...         ...          ...\n1080 2023-06-26    1507.4716\n1081 2023-06-27    1760.2499\n1082 2023-06-28    1823.0318\n1083 2023-06-29    2198.9108\n1084 2023-06-30    2231.3479\n\n[1085 rows x 2 columns]",
      "text/html": "<div>\n<style scoped>\n    .dataframe tbody tr th:only-of-type {\n        vertical-align: middle;\n    }\n\n    .dataframe tbody tr th {\n        vertical-align: top;\n    }\n\n    .dataframe thead th {\n        text-align: right;\n    }\n</style>\n<table border=\"1\" class=\"dataframe\">\n  <thead>\n    <tr style=\"text-align: right;\">\n      <th></th>\n      <th>Date</th>\n      <th>total_sales</th>\n    </tr>\n  </thead>\n  <tbody>\n    <tr>\n      <th>0</th>\n      <td>2020-07-01</td>\n      <td>3472.0136</td>\n    </tr>\n    <tr>\n      <th>1</th>\n      <td>2020-07-02</td>\n      <td>3456.5429</td>\n    </tr>\n    <tr>\n      <th>2</th>\n      <td>2020-07-03</td>\n      <td>3384.7701</td>\n    </tr>\n    <tr>\n      <th>3</th>\n      <td>2020-07-04</td>\n      <td>4394.8624</td>\n    </tr>\n    <tr>\n      <th>4</th>\n      <td>2020-07-05</td>\n      <td>4471.5748</td>\n    </tr>\n    <tr>\n      <th>...</th>\n      <td>...</td>\n      <td>...</td>\n    </tr>\n    <tr>\n      <th>1080</th>\n      <td>2023-06-26</td>\n      <td>1507.4716</td>\n    </tr>\n    <tr>\n      <th>1081</th>\n      <td>2023-06-27</td>\n      <td>1760.2499</td>\n    </tr>\n    <tr>\n      <th>1082</th>\n      <td>2023-06-28</td>\n      <td>1823.0318</td>\n    </tr>\n    <tr>\n      <th>1083</th>\n      <td>2023-06-29</td>\n      <td>2198.9108</td>\n    </tr>\n    <tr>\n      <th>1084</th>\n      <td>2023-06-30</td>\n      <td>2231.3479</td>\n    </tr>\n  </tbody>\n</table>\n<p>1085 rows × 2 columns</p>\n</div>"
     },
     "execution_count": 58,
     "metadata": {},
     "output_type": "execute_result"
    }
   ],
   "source": [
    "## total sales per day\n",
    "\n",
    "total_sales_per_day = data.groupby(['Date'])['total_sales'].sum().reset_index()\n",
    "total_sales_per_day"
   ],
   "metadata": {
    "collapsed": false,
    "ExecuteTime": {
     "end_time": "2023-12-10T03:12:37.499667100Z",
     "start_time": "2023-12-10T03:12:37.397113800Z"
    }
   },
   "id": "ec1a2c0645306025"
  },
  {
   "cell_type": "code",
   "execution_count": 61,
   "outputs": [
    {
     "data": {
      "text/plain": "<Figure size 1200x800 with 1 Axes>",
      "image/png": "[encoded data removed]"
     },
     "metadata": {},
     "output_type": "display_data"
    }
   ],
   "source": [
    "## plotting the sales data result\n",
    "\n",
    "plt.figure(figsize = (12,8))\n",
    "sns.lineplot(x= total_sales_per_day['Date'], y = total_sales_per_day['total_sales'])\n",
    "plt.title(\"Sales Variation Per Day\", size = 12)\n",
    "plt.xlabel(\"Date\", size = 8)\n",
    "plt.xticks(rotation = 45)\n",
    "plt.ylabel(\"Total Sales\", size = 8)\n",
    "plt.show()"
   ],
   "metadata": {
    "collapsed": false,
    "ExecuteTime": {
     "end_time": "2023-12-10T03:16:10.658782400Z",
     "start_time": "2023-12-10T03:16:10.220301100Z"
    }
   },
   "id": "4cc3a621eb1f46a"
  },
  {
   "cell_type": "code",
   "execution_count": 62,
   "outputs": [
    {
     "data": {
      "text/plain": "242"
     },
     "execution_count": 62,
     "metadata": {},
     "output_type": "execute_result"
    }
   ],
   "source": [
    "data['Item_Name'].nunique()"
   ],
   "metadata": {
    "collapsed": false,
    "ExecuteTime": {
     "end_time": "2023-12-10T03:16:58.793818500Z",
     "start_time": "2023-12-10T03:16:58.642223800Z"
    }
   },
   "id": "9572971016c7d044"
  },
  {
   "cell_type": "code",
   "execution_count": 63,
   "outputs": [
    {
     "data": {
      "text/plain": "                   Item_Name  Avg_Selling_Price\n0        7 Colour Pepper (1)          21.258420\n1        7 Colour Pepper (2)          24.036767\n2      7 Colour Pepper (Bag)           5.055556\n3    Agaricus Bisporus (Bag)           7.980000\n4    Agaricus Bisporus (Box)           5.346078\n..                       ...                ...\n237        Zhijiang Red Bolt           6.389384\n238  Zhijiang Red Bolt (Bag)           2.177636\n239             Zhimaxiancai           6.000000\n240                 Zhuyecai           5.474429\n241           Zhuyecai (Bag)           2.115506\n\n[242 rows x 2 columns]",
      "text/html": "<div>\n<style scoped>\n    .dataframe tbody tr th:only-of-type {\n        vertical-align: middle;\n    }\n\n    .dataframe tbody tr th {\n        vertical-align: top;\n    }\n\n    .dataframe thead th {\n        text-align: right;\n    }\n</style>\n<table border=\"1\" class=\"dataframe\">\n  <thead>\n    <tr style=\"text-align: right;\">\n      <th></th>\n      <th>Item_Name</th>\n      <th>Avg_Selling_Price</th>\n    </tr>\n  </thead>\n  <tbody>\n    <tr>\n      <th>0</th>\n      <td>7 Colour Pepper (1)</td>\n      <td>21.258420</td>\n    </tr>\n    <tr>\n      <th>1</th>\n      <td>7 Colour Pepper (2)</td>\n      <td>24.036767</td>\n    </tr>\n    <tr>\n      <th>2</th>\n      <td>7 Colour Pepper (Bag)</td>\n      <td>5.055556</td>\n    </tr>\n    <tr>\n      <th>3</th>\n      <td>Agaricus Bisporus (Bag)</td>\n      <td>7.980000</td>\n    </tr>\n    <tr>\n      <th>4</th>\n      <td>Agaricus Bisporus (Box)</td>\n      <td>5.346078</td>\n    </tr>\n    <tr>\n      <th>...</th>\n      <td>...</td>\n      <td>...</td>\n    </tr>\n    <tr>\n      <th>237</th>\n      <td>Zhijiang Red Bolt</td>\n      <td>6.389384</td>\n    </tr>\n    <tr>\n      <th>238</th>\n      <td>Zhijiang Red Bolt (Bag)</td>\n      <td>2.177636</td>\n    </tr>\n    <tr>\n      <th>239</th>\n      <td>Zhimaxiancai</td>\n      <td>6.000000</td>\n    </tr>\n    <tr>\n      <th>240</th>\n      <td>Zhuyecai</td>\n      <td>5.474429</td>\n    </tr>\n    <tr>\n      <th>241</th>\n      <td>Zhuyecai (Bag)</td>\n      <td>2.115506</td>\n    </tr>\n  </tbody>\n</table>\n<p>242 rows × 2 columns</p>\n</div>"
     },
     "execution_count": 63,
     "metadata": {},
     "output_type": "execute_result"
    }
   ],
   "source": [
    "avg_selling_price_each_item = data.groupby(['Item_Name'])['Unit_Selling_Price_(RMB/kg)'].mean().reset_index().rename(columns = {\"Unit_Selling_Price_(RMB/kg)\" : \"Avg_Selling_Price\"})\n",
    "avg_selling_price_each_item"
   ],
   "metadata": {
    "collapsed": false,
    "ExecuteTime": {
     "end_time": "2023-12-10T03:17:15.033550Z",
     "start_time": "2023-12-10T03:17:14.929748800Z"
    }
   },
   "id": "403cfbf37d3383ec"
  },
  {
   "cell_type": "code",
   "execution_count": 64,
   "outputs": [
    {
     "data": {
      "text/plain": "                 Category_Name  Avg_Selling_Price\n0  Aquatic Tuberous Vegetables           9.689851\n1                      Cabbage           9.138538\n2                     Capsicum          10.578216\n3              Edible Mushroom          12.036941\n4       Flower/Leaf Vegetables           6.317257\n5                      Solanum           8.695459",
      "text/html": "<div>\n<style scoped>\n    .dataframe tbody tr th:only-of-type {\n        vertical-align: middle;\n    }\n\n    .dataframe tbody tr th {\n        vertical-align: top;\n    }\n\n    .dataframe thead th {\n        text-align: right;\n    }\n</style>\n<table border=\"1\" class=\"dataframe\">\n  <thead>\n    <tr style=\"text-align: right;\">\n      <th></th>\n      <th>Category_Name</th>\n      <th>Avg_Selling_Price</th>\n    </tr>\n  </thead>\n  <tbody>\n    <tr>\n      <th>0</th>\n      <td>Aquatic Tuberous Vegetables</td>\n      <td>9.689851</td>\n    </tr>\n    <tr>\n      <th>1</th>\n      <td>Cabbage</td>\n      <td>9.138538</td>\n    </tr>\n    <tr>\n      <th>2</th>\n      <td>Capsicum</td>\n      <td>10.578216</td>\n    </tr>\n    <tr>\n      <th>3</th>\n      <td>Edible Mushroom</td>\n      <td>12.036941</td>\n    </tr>\n    <tr>\n      <th>4</th>\n      <td>Flower/Leaf Vegetables</td>\n      <td>6.317257</td>\n    </tr>\n    <tr>\n      <th>5</th>\n      <td>Solanum</td>\n      <td>8.695459</td>\n    </tr>\n  </tbody>\n</table>\n</div>"
     },
     "execution_count": 64,
     "metadata": {},
     "output_type": "execute_result"
    }
   ],
   "source": [
    "## average selling price for each item and each category\n",
    "\n",
    "avg_selling_price_each_category = data.groupby(['Category_Name'])['Unit_Selling_Price_(RMB/kg)'].mean().reset_index().rename(columns = {\"Unit_Selling_Price_(RMB/kg)\" : \"Avg_Selling_Price\"})\n",
    "avg_selling_price_each_category"
   ],
   "metadata": {
    "collapsed": false,
    "ExecuteTime": {
     "end_time": "2023-12-10T03:17:43.779992400Z",
     "start_time": "2023-12-10T03:17:43.620418600Z"
    }
   },
   "id": "bc848e2ae068604e"
  },
  {
   "cell_type": "code",
   "execution_count": 65,
   "outputs": [
    {
     "data": {
      "text/plain": "                  Item_Name  Avg_Selling_Price\n18  Black Chicken  Mushroom         104.891429",
      "text/html": "<div>\n<style scoped>\n    .dataframe tbody tr th:only-of-type {\n        vertical-align: middle;\n    }\n\n    .dataframe tbody tr th {\n        vertical-align: top;\n    }\n\n    .dataframe thead th {\n        text-align: right;\n    }\n</style>\n<table border=\"1\" class=\"dataframe\">\n  <thead>\n    <tr style=\"text-align: right;\">\n      <th></th>\n      <th>Item_Name</th>\n      <th>Avg_Selling_Price</th>\n    </tr>\n  </thead>\n  <tbody>\n    <tr>\n      <th>18</th>\n      <td>Black Chicken  Mushroom</td>\n      <td>104.891429</td>\n    </tr>\n  </tbody>\n</table>\n</div>"
     },
     "execution_count": 65,
     "metadata": {},
     "output_type": "execute_result"
    }
   ],
   "source": [
    "top_selling_item = avg_selling_price_each_item.nlargest(1, 'Avg_Selling_Price')\n",
    "top_selling_item"
   ],
   "metadata": {
    "collapsed": false,
    "ExecuteTime": {
     "end_time": "2023-12-10T03:17:56.698091800Z",
     "start_time": "2023-12-10T03:17:56.637254100Z"
    }
   },
   "id": "8e5c9fd61e0b5aa7"
  },
  {
   "cell_type": "code",
   "execution_count": 66,
   "outputs": [
    {
     "data": {
      "text/plain": "        Date          Time  Quantity_Sold_(kilo)  Unit_Selling_Price_(RMB/kg)  \\\n0 2020-07-01  09:15:07.924                 0.396                          7.6   \n1 2020-07-01  09:17:27.295                 0.849                          3.2   \n2 2020-07-01  09:17:33.905                 0.409                          7.6   \n3 2020-07-01  09:19:45.450                 0.421                         10.0   \n4 2020-07-01  09:20:23.686                 0.539                          8.0   \n\n  Sale_or_Return  Discount_(Yes/No)  Wholesale_Price_(RMB/kg)  \\\n0           sale              False                      4.32   \n1           sale              False                      2.10   \n2           sale              False                      4.32   \n3           sale              False                      7.03   \n4           sale              False                      4.60   \n\n              Item_Name           Category_Name  Loss_Rate_(%)  total_sales  \n0  Paopaojiao (Jingpin)                Capsicum           7.08       3.0096  \n1       Chinese Cabbage  Flower/Leaf Vegetables          22.27       2.7168  \n2  Paopaojiao (Jingpin)                Capsicum           7.08       3.1084  \n3          Shanghaiqing  Flower/Leaf Vegetables          14.43       4.2100  \n4                Caixin  Flower/Leaf Vegetables          13.70       4.3120  ",
      "text/html": "<div>\n<style scoped>\n    .dataframe tbody tr th:only-of-type {\n        vertical-align: middle;\n    }\n\n    .dataframe tbody tr th {\n        vertical-align: top;\n    }\n\n    .dataframe thead th {\n        text-align: right;\n    }\n</style>\n<table border=\"1\" class=\"dataframe\">\n  <thead>\n    <tr style=\"text-align: right;\">\n      <th></th>\n      <th>Date</th>\n      <th>Time</th>\n      <th>Quantity_Sold_(kilo)</th>\n      <th>Unit_Selling_Price_(RMB/kg)</th>\n      <th>Sale_or_Return</th>\n      <th>Discount_(Yes/No)</th>\n      <th>Wholesale_Price_(RMB/kg)</th>\n      <th>Item_Name</th>\n      <th>Category_Name</th>\n      <th>Loss_Rate_(%)</th>\n      <th>total_sales</th>\n    </tr>\n  </thead>\n  <tbody>\n    <tr>\n      <th>0</th>\n      <td>2020-07-01</td>\n      <td>09:15:07.924</td>\n      <td>0.396</td>\n      <td>7.6</td>\n      <td>sale</td>\n      <td>False</td>\n      <td>4.32</td>\n      <td>Paopaojiao (Jingpin)</td>\n      <td>Capsicum</td>\n      <td>7.08</td>\n      <td>3.0096</td>\n    </tr>\n    <tr>\n      <th>1</th>\n      <td>2020-07-01</td>\n      <td>09:17:27.295</td>\n      <td>0.849</td>\n      <td>3.2</td>\n      <td>sale</td>\n      <td>False</td>\n      <td>2.10</td>\n      <td>Chinese Cabbage</td>\n      <td>Flower/Leaf Vegetables</td>\n      <td>22.27</td>\n      <td>2.7168</td>\n    </tr>\n    <tr>\n      <th>2</th>\n      <td>2020-07-01</td>\n      <td>09:17:33.905</td>\n      <td>0.409</td>\n      <td>7.6</td>\n      <td>sale</td>\n      <td>False</td>\n      <td>4.32</td>\n      <td>Paopaojiao (Jingpin)</td>\n      <td>Capsicum</td>\n      <td>7.08</td>\n      <td>3.1084</td>\n    </tr>\n    <tr>\n      <th>3</th>\n      <td>2020-07-01</td>\n      <td>09:19:45.450</td>\n      <td>0.421</td>\n      <td>10.0</td>\n      <td>sale</td>\n      <td>False</td>\n      <td>7.03</td>\n      <td>Shanghaiqing</td>\n      <td>Flower/Leaf Vegetables</td>\n      <td>14.43</td>\n      <td>4.2100</td>\n    </tr>\n    <tr>\n      <th>4</th>\n      <td>2020-07-01</td>\n      <td>09:20:23.686</td>\n      <td>0.539</td>\n      <td>8.0</td>\n      <td>sale</td>\n      <td>False</td>\n      <td>4.60</td>\n      <td>Caixin</td>\n      <td>Flower/Leaf Vegetables</td>\n      <td>13.70</td>\n      <td>4.3120</td>\n    </tr>\n  </tbody>\n</table>\n</div>"
     },
     "execution_count": 66,
     "metadata": {},
     "output_type": "execute_result"
    }
   ],
   "source": [
    "# Drop unnecessary columns (if any)\n",
    "columns_to_drop = ['Item_Code', 'Category_Code']\n",
    "data = data.drop(columns=columns_to_drop)\n",
    "data.head()"
   ],
   "metadata": {
    "collapsed": false,
    "ExecuteTime": {
     "end_time": "2023-12-10T04:06:06.703081400Z",
     "start_time": "2023-12-10T04:06:06.316117300Z"
    }
   },
   "id": "64e6fe157e4db10d"
  },
  {
   "cell_type": "code",
   "execution_count": null,
   "outputs": [],
   "source": [],
   "metadata": {
    "collapsed": false
   },
   "id": "ca44eb7981c33109"
  }
 ],
 "metadata": {
  "kernelspec": {
   "display_name": "Python 3",
   "language": "python",
   "name": "python3"
  },
  "language_info": {
   "codemirror_mode": {
    "name": "ipython",
    "version": 2
   },
   "file_extension": ".py",
   "mimetype": "text/x-python",
   "name": "python",
   "nbconvert_exporter": "python",
   "pygments_lexer": "ipython2",
   "version": "2.7.6"
  }
 },
 "nbformat": 4,
 "nbformat_minor": 5
}
