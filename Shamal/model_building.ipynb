{
 "cells": [
  {
   "cell_type": "code",
   "execution_count": 2,
   "id": "initial_id",
   "metadata": {
    "collapsed": true,
    "ExecuteTime": {
     "end_time": "2023-11-06T05:37:00.825392600Z",
     "start_time": "2023-11-06T05:36:56.383436500Z"
    }
   },
   "outputs": [],
   "source": [
    "import pandas as pd"
   ]
  },
  {
   "cell_type": "code",
   "execution_count": 3,
   "outputs": [],
   "source": [
    "a = pd.read_csv(\"F:\\\\IIT Platforms\\\\Second Year\\\\Data Science Group Project\\\\annex\\\\annex1.csv\")"
   ],
   "metadata": {
    "collapsed": false,
    "ExecuteTime": {
     "end_time": "2023-11-06T05:37:00.919142500Z",
     "start_time": "2023-11-06T05:37:00.826391100Z"
    }
   },
   "id": "6b6a4004f1d30fdc"
  },
  {
   "cell_type": "code",
   "execution_count": 4,
   "outputs": [
    {
     "data": {
      "text/plain": "(251, 4)"
     },
     "execution_count": 4,
     "metadata": {},
     "output_type": "execute_result"
    }
   ],
   "source": [
    "a.shape"
   ],
   "metadata": {
    "collapsed": false,
    "ExecuteTime": {
     "end_time": "2023-11-06T05:37:01.034833600Z",
     "start_time": "2023-11-06T05:37:00.924135200Z"
    }
   },
   "id": "60d0f74aff26a17d"
  },
  {
   "cell_type": "code",
   "execution_count": 5,
   "outputs": [
    {
     "data": {
      "text/plain": "           Item Code                                     Item Name  \\\n0    102900005115168                              Niushou Shengcai   \n1    102900005115199                             Sichuan Red Cedar   \n2    102900005115625                         Local Xiaomao Cabbage   \n3    102900005115748                                  White Caitai   \n4    102900005115762                                      Amaranth   \n..               ...                                           ...   \n246  106958851400125                    Haixian Mushroom (Bag) (4)   \n247  106971533450003                      Haixian Mushroom (Bunch)   \n248  106971533455008                    Haixian Mushroom (Bag) (3)   \n249  106973223300667  Chinese Caterpillar Fungus Flowers (Box) (2)   \n250  106973990980123                 Hfyg Haixian Mushroom (Bunch)   \n\n     Category Code           Category Name  \n0       1011010101  Flower/Leaf Vegetables  \n1       1011010101  Flower/Leaf Vegetables  \n2       1011010101  Flower/Leaf Vegetables  \n3       1011010101  Flower/Leaf Vegetables  \n4       1011010101  Flower/Leaf Vegetables  \n..             ...                     ...  \n246     1011010801         Edible Mushroom  \n247     1011010801         Edible Mushroom  \n248     1011010801         Edible Mushroom  \n249     1011010801         Edible Mushroom  \n250     1011010801         Edible Mushroom  \n\n[251 rows x 4 columns]",
      "text/html": "<div>\n<style scoped>\n    .dataframe tbody tr th:only-of-type {\n        vertical-align: middle;\n    }\n\n    .dataframe tbody tr th {\n        vertical-align: top;\n    }\n\n    .dataframe thead th {\n        text-align: right;\n    }\n</style>\n<table border=\"1\" class=\"dataframe\">\n  <thead>\n    <tr style=\"text-align: right;\">\n      <th></th>\n      <th>Item Code</th>\n      <th>Item Name</th>\n      <th>Category Code</th>\n      <th>Category Name</th>\n    </tr>\n  </thead>\n  <tbody>\n    <tr>\n      <th>0</th>\n      <td>102900005115168</td>\n      <td>Niushou Shengcai</td>\n      <td>1011010101</td>\n      <td>Flower/Leaf Vegetables</td>\n    </tr>\n    <tr>\n      <th>1</th>\n      <td>102900005115199</td>\n      <td>Sichuan Red Cedar</td>\n      <td>1011010101</td>\n      <td>Flower/Leaf Vegetables</td>\n    </tr>\n    <tr>\n      <th>2</th>\n      <td>102900005115625</td>\n      <td>Local Xiaomao Cabbage</td>\n      <td>1011010101</td>\n      <td>Flower/Leaf Vegetables</td>\n    </tr>\n    <tr>\n      <th>3</th>\n      <td>102900005115748</td>\n      <td>White Caitai</td>\n      <td>1011010101</td>\n      <td>Flower/Leaf Vegetables</td>\n    </tr>\n    <tr>\n      <th>4</th>\n      <td>102900005115762</td>\n      <td>Amaranth</td>\n      <td>1011010101</td>\n      <td>Flower/Leaf Vegetables</td>\n    </tr>\n    <tr>\n      <th>...</th>\n      <td>...</td>\n      <td>...</td>\n      <td>...</td>\n      <td>...</td>\n    </tr>\n    <tr>\n      <th>246</th>\n      <td>106958851400125</td>\n      <td>Haixian Mushroom (Bag) (4)</td>\n      <td>1011010801</td>\n      <td>Edible Mushroom</td>\n    </tr>\n    <tr>\n      <th>247</th>\n      <td>106971533450003</td>\n      <td>Haixian Mushroom (Bunch)</td>\n      <td>1011010801</td>\n      <td>Edible Mushroom</td>\n    </tr>\n    <tr>\n      <th>248</th>\n      <td>106971533455008</td>\n      <td>Haixian Mushroom (Bag) (3)</td>\n      <td>1011010801</td>\n      <td>Edible Mushroom</td>\n    </tr>\n    <tr>\n      <th>249</th>\n      <td>106973223300667</td>\n      <td>Chinese Caterpillar Fungus Flowers (Box) (2)</td>\n      <td>1011010801</td>\n      <td>Edible Mushroom</td>\n    </tr>\n    <tr>\n      <th>250</th>\n      <td>106973990980123</td>\n      <td>Hfyg Haixian Mushroom (Bunch)</td>\n      <td>1011010801</td>\n      <td>Edible Mushroom</td>\n    </tr>\n  </tbody>\n</table>\n<p>251 rows × 4 columns</p>\n</div>"
     },
     "execution_count": 5,
     "metadata": {},
     "output_type": "execute_result"
    }
   ],
   "source": [
    "a.head(1000)"
   ],
   "metadata": {
    "collapsed": false,
    "ExecuteTime": {
     "end_time": "2023-11-06T05:37:01.091684400Z",
     "start_time": "2023-11-06T05:37:00.957041400Z"
    }
   },
   "id": "b4d96728674b2f2"
  },
  {
   "cell_type": "code",
   "execution_count": 6,
   "outputs": [
    {
     "data": {
      "text/plain": "         Date          Time        Item Code  Quantity Sold (kilo)  \\\n0  2020-07-01  09:15:07.924  102900005117056                 0.396   \n1  2020-07-01  09:17:27.295  102900005115960                 0.849   \n2  2020-07-01  09:17:33.905  102900005117056                 0.409   \n3  2020-07-01  09:19:45.450  102900005115823                 0.421   \n4  2020-07-01  09:20:23.686  102900005115908                 0.539   \n\n   Unit Selling Price (RMB/kg) Sale or Return Discount (Yes/No)  \n0                          7.6           sale                No  \n1                          3.2           sale                No  \n2                          7.6           sale                No  \n3                         10.0           sale                No  \n4                          8.0           sale                No  ",
      "text/html": "<div>\n<style scoped>\n    .dataframe tbody tr th:only-of-type {\n        vertical-align: middle;\n    }\n\n    .dataframe tbody tr th {\n        vertical-align: top;\n    }\n\n    .dataframe thead th {\n        text-align: right;\n    }\n</style>\n<table border=\"1\" class=\"dataframe\">\n  <thead>\n    <tr style=\"text-align: right;\">\n      <th></th>\n      <th>Date</th>\n      <th>Time</th>\n      <th>Item Code</th>\n      <th>Quantity Sold (kilo)</th>\n      <th>Unit Selling Price (RMB/kg)</th>\n      <th>Sale or Return</th>\n      <th>Discount (Yes/No)</th>\n    </tr>\n  </thead>\n  <tbody>\n    <tr>\n      <th>0</th>\n      <td>2020-07-01</td>\n      <td>09:15:07.924</td>\n      <td>102900005117056</td>\n      <td>0.396</td>\n      <td>7.6</td>\n      <td>sale</td>\n      <td>No</td>\n    </tr>\n    <tr>\n      <th>1</th>\n      <td>2020-07-01</td>\n      <td>09:17:27.295</td>\n      <td>102900005115960</td>\n      <td>0.849</td>\n      <td>3.2</td>\n      <td>sale</td>\n      <td>No</td>\n    </tr>\n    <tr>\n      <th>2</th>\n      <td>2020-07-01</td>\n      <td>09:17:33.905</td>\n      <td>102900005117056</td>\n      <td>0.409</td>\n      <td>7.6</td>\n      <td>sale</td>\n      <td>No</td>\n    </tr>\n    <tr>\n      <th>3</th>\n      <td>2020-07-01</td>\n      <td>09:19:45.450</td>\n      <td>102900005115823</td>\n      <td>0.421</td>\n      <td>10.0</td>\n      <td>sale</td>\n      <td>No</td>\n    </tr>\n    <tr>\n      <th>4</th>\n      <td>2020-07-01</td>\n      <td>09:20:23.686</td>\n      <td>102900005115908</td>\n      <td>0.539</td>\n      <td>8.0</td>\n      <td>sale</td>\n      <td>No</td>\n    </tr>\n  </tbody>\n</table>\n</div>"
     },
     "execution_count": 6,
     "metadata": {},
     "output_type": "execute_result"
    }
   ],
   "source": [
    "b = pd.read_csv(\"F:\\\\IIT Platforms\\\\Second Year\\\\Data Science Group Project\\\\annex\\\\annex2.csv\")\n",
    "b.head()"
   ],
   "metadata": {
    "collapsed": false,
    "ExecuteTime": {
     "end_time": "2023-11-06T05:37:05.847061Z",
     "start_time": "2023-11-06T05:37:01.075724500Z"
    }
   },
   "id": "40d8a52e34a1ba07"
  },
  {
   "cell_type": "code",
   "execution_count": 7,
   "outputs": [
    {
     "data": {
      "text/plain": "(878503, 7)"
     },
     "execution_count": 7,
     "metadata": {},
     "output_type": "execute_result"
    }
   ],
   "source": [
    "b.shape"
   ],
   "metadata": {
    "collapsed": false,
    "ExecuteTime": {
     "end_time": "2023-11-06T05:37:05.963749500Z",
     "start_time": "2023-11-06T05:37:05.847061Z"
    }
   },
   "id": "ec4dc2193d924ddf"
  },
  {
   "cell_type": "code",
   "execution_count": 8,
   "outputs": [
    {
     "data": {
      "text/plain": "         Date        Item Code  Wholesale Price (RMB/kg)\n0  2020-07-01  102900005115762                      3.88\n1  2020-07-01  102900005115779                      6.72\n2  2020-07-01  102900005115786                      3.19\n3  2020-07-01  102900005115793                      9.24\n4  2020-07-01  102900005115823                      7.03",
      "text/html": "<div>\n<style scoped>\n    .dataframe tbody tr th:only-of-type {\n        vertical-align: middle;\n    }\n\n    .dataframe tbody tr th {\n        vertical-align: top;\n    }\n\n    .dataframe thead th {\n        text-align: right;\n    }\n</style>\n<table border=\"1\" class=\"dataframe\">\n  <thead>\n    <tr style=\"text-align: right;\">\n      <th></th>\n      <th>Date</th>\n      <th>Item Code</th>\n      <th>Wholesale Price (RMB/kg)</th>\n    </tr>\n  </thead>\n  <tbody>\n    <tr>\n      <th>0</th>\n      <td>2020-07-01</td>\n      <td>102900005115762</td>\n      <td>3.88</td>\n    </tr>\n    <tr>\n      <th>1</th>\n      <td>2020-07-01</td>\n      <td>102900005115779</td>\n      <td>6.72</td>\n    </tr>\n    <tr>\n      <th>2</th>\n      <td>2020-07-01</td>\n      <td>102900005115786</td>\n      <td>3.19</td>\n    </tr>\n    <tr>\n      <th>3</th>\n      <td>2020-07-01</td>\n      <td>102900005115793</td>\n      <td>9.24</td>\n    </tr>\n    <tr>\n      <th>4</th>\n      <td>2020-07-01</td>\n      <td>102900005115823</td>\n      <td>7.03</td>\n    </tr>\n  </tbody>\n</table>\n</div>"
     },
     "execution_count": 8,
     "metadata": {},
     "output_type": "execute_result"
    }
   ],
   "source": [
    "c = pd.read_csv(\"F:\\\\IIT Platforms\\\\Second Year\\\\Data Science Group Project\\\\annex\\\\annex3.csv\")\n",
    "c.head()"
   ],
   "metadata": {
    "collapsed": false,
    "ExecuteTime": {
     "end_time": "2023-11-06T05:37:06.174186100Z",
     "start_time": "2023-11-06T05:37:05.899919100Z"
    }
   },
   "id": "d075637de77d0ec2"
  },
  {
   "cell_type": "code",
   "execution_count": 9,
   "outputs": [
    {
     "data": {
      "text/plain": "(55982, 3)"
     },
     "execution_count": 9,
     "metadata": {},
     "output_type": "execute_result"
    }
   ],
   "source": [
    "c.shape"
   ],
   "metadata": {
    "collapsed": false,
    "ExecuteTime": {
     "end_time": "2023-11-06T05:37:06.176181600Z",
     "start_time": "2023-11-06T05:37:06.097391300Z"
    }
   },
   "id": "bd1c38041c9ad3d7"
  },
  {
   "cell_type": "code",
   "execution_count": 10,
   "outputs": [
    {
     "data": {
      "text/plain": "         Item Code                 Item Name  Loss Rate (%)\n0  102900005115168          Niushou Shengcai           4.39\n1  102900005115199         Sichuan Red Cedar          10.46\n2  102900005115250  Xixia Black Mushroom (1)          10.80\n3  102900005115625     Local Xiaomao Cabbage           0.18\n4  102900005115748              White Caitai           8.78",
      "text/html": "<div>\n<style scoped>\n    .dataframe tbody tr th:only-of-type {\n        vertical-align: middle;\n    }\n\n    .dataframe tbody tr th {\n        vertical-align: top;\n    }\n\n    .dataframe thead th {\n        text-align: right;\n    }\n</style>\n<table border=\"1\" class=\"dataframe\">\n  <thead>\n    <tr style=\"text-align: right;\">\n      <th></th>\n      <th>Item Code</th>\n      <th>Item Name</th>\n      <th>Loss Rate (%)</th>\n    </tr>\n  </thead>\n  <tbody>\n    <tr>\n      <th>0</th>\n      <td>102900005115168</td>\n      <td>Niushou Shengcai</td>\n      <td>4.39</td>\n    </tr>\n    <tr>\n      <th>1</th>\n      <td>102900005115199</td>\n      <td>Sichuan Red Cedar</td>\n      <td>10.46</td>\n    </tr>\n    <tr>\n      <th>2</th>\n      <td>102900005115250</td>\n      <td>Xixia Black Mushroom (1)</td>\n      <td>10.80</td>\n    </tr>\n    <tr>\n      <th>3</th>\n      <td>102900005115625</td>\n      <td>Local Xiaomao Cabbage</td>\n      <td>0.18</td>\n    </tr>\n    <tr>\n      <th>4</th>\n      <td>102900005115748</td>\n      <td>White Caitai</td>\n      <td>8.78</td>\n    </tr>\n  </tbody>\n</table>\n</div>"
     },
     "execution_count": 10,
     "metadata": {},
     "output_type": "execute_result"
    }
   ],
   "source": [
    "d = pd.read_csv(\"F:\\\\IIT Platforms\\\\Second Year\\\\Data Science Group Project\\\\annex\\\\annex4.csv\")\n",
    "(d.head())"
   ],
   "metadata": {
    "collapsed": false,
    "ExecuteTime": {
     "end_time": "2023-11-06T05:37:06.292868300Z",
     "start_time": "2023-11-06T05:37:06.135289700Z"
    }
   },
   "id": "c71364fba76a445b"
  },
  {
   "cell_type": "code",
   "execution_count": 11,
   "outputs": [
    {
     "data": {
      "text/plain": "(251, 3)"
     },
     "execution_count": 11,
     "metadata": {},
     "output_type": "execute_result"
    }
   ],
   "source": [
    "d.shape"
   ],
   "metadata": {
    "collapsed": false,
    "ExecuteTime": {
     "end_time": "2023-11-06T05:37:06.398585200Z",
     "start_time": "2023-11-06T05:37:06.233028700Z"
    }
   },
   "id": "9dc4ce64cff6d573"
  },
  {
   "cell_type": "code",
   "execution_count": 12,
   "outputs": [
    {
     "data": {
      "text/plain": "              Date          Time        Item Code  Quantity Sold (kilo)  \\\n0       2020-07-01  09:15:07.924  102900005117056                 0.396   \n1       2020-07-01  09:17:27.295  102900005115960                 0.849   \n2       2020-07-01  09:17:33.905  102900005117056                 0.409   \n3       2020-07-01  09:19:45.450  102900005115823                 0.421   \n4       2020-07-01  09:20:23.686  102900005115908                 0.539   \n...            ...           ...              ...                   ...   \n878498  2023-06-30  21:35:13.264  102900005115250                 0.284   \n878499  2023-06-30  21:35:14.358  102900011022764                 0.669   \n878500  2023-06-30  21:35:20.264  102900005115250                 0.125   \n878501  2023-06-30  21:35:21.509  102900011016701                 0.252   \n878502  2023-06-30  21:40:48.248  102900011022764                 0.803   \n\n        Unit Selling Price (RMB/kg) Sale or Return Discount (Yes/No)  \n0                               7.6           sale                No  \n1                               3.2           sale                No  \n2                               7.6           sale                No  \n3                              10.0           sale                No  \n4                               8.0           sale                No  \n...                             ...            ...               ...  \n878498                         24.0           sale                No  \n878499                         12.0           sale                No  \n878500                         24.0           sale                No  \n878501                          5.2           sale                No  \n878502                         12.0           sale                No  \n\n[878503 rows x 7 columns]",
      "text/html": "<div>\n<style scoped>\n    .dataframe tbody tr th:only-of-type {\n        vertical-align: middle;\n    }\n\n    .dataframe tbody tr th {\n        vertical-align: top;\n    }\n\n    .dataframe thead th {\n        text-align: right;\n    }\n</style>\n<table border=\"1\" class=\"dataframe\">\n  <thead>\n    <tr style=\"text-align: right;\">\n      <th></th>\n      <th>Date</th>\n      <th>Time</th>\n      <th>Item Code</th>\n      <th>Quantity Sold (kilo)</th>\n      <th>Unit Selling Price (RMB/kg)</th>\n      <th>Sale or Return</th>\n      <th>Discount (Yes/No)</th>\n    </tr>\n  </thead>\n  <tbody>\n    <tr>\n      <th>0</th>\n      <td>2020-07-01</td>\n      <td>09:15:07.924</td>\n      <td>102900005117056</td>\n      <td>0.396</td>\n      <td>7.6</td>\n      <td>sale</td>\n      <td>No</td>\n    </tr>\n    <tr>\n      <th>1</th>\n      <td>2020-07-01</td>\n      <td>09:17:27.295</td>\n      <td>102900005115960</td>\n      <td>0.849</td>\n      <td>3.2</td>\n      <td>sale</td>\n      <td>No</td>\n    </tr>\n    <tr>\n      <th>2</th>\n      <td>2020-07-01</td>\n      <td>09:17:33.905</td>\n      <td>102900005117056</td>\n      <td>0.409</td>\n      <td>7.6</td>\n      <td>sale</td>\n      <td>No</td>\n    </tr>\n    <tr>\n      <th>3</th>\n      <td>2020-07-01</td>\n      <td>09:19:45.450</td>\n      <td>102900005115823</td>\n      <td>0.421</td>\n      <td>10.0</td>\n      <td>sale</td>\n      <td>No</td>\n    </tr>\n    <tr>\n      <th>4</th>\n      <td>2020-07-01</td>\n      <td>09:20:23.686</td>\n      <td>102900005115908</td>\n      <td>0.539</td>\n      <td>8.0</td>\n      <td>sale</td>\n      <td>No</td>\n    </tr>\n    <tr>\n      <th>...</th>\n      <td>...</td>\n      <td>...</td>\n      <td>...</td>\n      <td>...</td>\n      <td>...</td>\n      <td>...</td>\n      <td>...</td>\n    </tr>\n    <tr>\n      <th>878498</th>\n      <td>2023-06-30</td>\n      <td>21:35:13.264</td>\n      <td>102900005115250</td>\n      <td>0.284</td>\n      <td>24.0</td>\n      <td>sale</td>\n      <td>No</td>\n    </tr>\n    <tr>\n      <th>878499</th>\n      <td>2023-06-30</td>\n      <td>21:35:14.358</td>\n      <td>102900011022764</td>\n      <td>0.669</td>\n      <td>12.0</td>\n      <td>sale</td>\n      <td>No</td>\n    </tr>\n    <tr>\n      <th>878500</th>\n      <td>2023-06-30</td>\n      <td>21:35:20.264</td>\n      <td>102900005115250</td>\n      <td>0.125</td>\n      <td>24.0</td>\n      <td>sale</td>\n      <td>No</td>\n    </tr>\n    <tr>\n      <th>878501</th>\n      <td>2023-06-30</td>\n      <td>21:35:21.509</td>\n      <td>102900011016701</td>\n      <td>0.252</td>\n      <td>5.2</td>\n      <td>sale</td>\n      <td>No</td>\n    </tr>\n    <tr>\n      <th>878502</th>\n      <td>2023-06-30</td>\n      <td>21:40:48.248</td>\n      <td>102900011022764</td>\n      <td>0.803</td>\n      <td>12.0</td>\n      <td>sale</td>\n      <td>No</td>\n    </tr>\n  </tbody>\n</table>\n<p>878503 rows × 7 columns</p>\n</div>"
     },
     "execution_count": 12,
     "metadata": {},
     "output_type": "execute_result"
    }
   ],
   "source": [
    "b = b.drop_duplicates()\n",
    "b"
   ],
   "metadata": {
    "collapsed": false,
    "ExecuteTime": {
     "end_time": "2023-11-06T05:37:09.829237300Z",
     "start_time": "2023-11-06T05:37:06.263944900Z"
    }
   },
   "id": "f8bb33410dd285e1"
  },
  {
   "cell_type": "code",
   "execution_count": 13,
   "outputs": [
    {
     "data": {
      "text/plain": "('2020-07-01', '2023-06-30')"
     },
     "execution_count": 13,
     "metadata": {},
     "output_type": "execute_result"
    }
   ],
   "source": [
    "b['Date'].min(), b['Date'].max()"
   ],
   "metadata": {
    "collapsed": false,
    "ExecuteTime": {
     "end_time": "2023-11-06T05:37:10.284559300Z",
     "start_time": "2023-11-06T05:37:09.831231700Z"
    }
   },
   "id": "9e7eab7a9a43736f"
  }
 ],
 "metadata": {
  "kernelspec": {
   "display_name": "Python 3",
   "language": "python",
   "name": "python3"
  },
  "language_info": {
   "codemirror_mode": {
    "name": "ipython",
    "version": 2
   },
   "file_extension": ".py",
   "mimetype": "text/x-python",
   "name": "python",
   "nbconvert_exporter": "python",
   "pygments_lexer": "ipython2",
   "version": "2.7.6"
  }
 },
 "nbformat": 4,
 "nbformat_minor": 5
}
