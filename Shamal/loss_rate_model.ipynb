{
 "cells": [
  {
   "cell_type": "code",
   "execution_count": 26,
   "id": "initial_id",
   "metadata": {
    "collapsed": true,
    "ExecuteTime": {
     "end_time": "2024-01-15T03:37:40.881368400Z",
     "start_time": "2024-01-15T03:37:38.776413500Z"
    }
   },
   "outputs": [
    {
     "data": {
      "text/plain": "         Date  Year  Month          Time Category Name          Item Name  \\\n0  2021-01-01  2021      1  09:14:26.212      capsicum  Green Hot Peppers   \n1  2021-01-01  2021      1  09:14:26.324      capsicum  Green Hot Peppers   \n2  2021-01-01  2021      1  16:38:10.054      capsicum  Green Hot Peppers   \n3  2021-01-01  2021      1  17:31:18.233      capsicum  Green Hot Peppers   \n4  2021-01-01  2021      1  19:57:07.847      capsicum  Green Hot Peppers   \n\n   Quantity Sold (kilo)  Unit Selling Price (RMB/kg)  \\\n0              0.501651                      9.14143   \n1              0.600000                      9.14143   \n2              0.200000                      9.14143   \n3              0.300000                      9.14143   \n4              0.300000                      9.14143   \n\n   Wholesale Price (RMB/kg)  Loss Rate (%)  total_sales Sale or Return  \\\n0                  5.818314           6.72      3.75346           sale   \n1                  5.818314           6.72      3.75346           sale   \n2                  5.818314           6.72      5.16000           sale   \n3                  5.818314           6.72      7.74000           sale   \n4                  5.818314           6.72      7.74000           sale   \n\n   Discount (Yes/No)  \n0              False  \n1              False  \n2              False  \n3              False  \n4              False  ",
      "text/html": "<div>\n<style scoped>\n    .dataframe tbody tr th:only-of-type {\n        vertical-align: middle;\n    }\n\n    .dataframe tbody tr th {\n        vertical-align: top;\n    }\n\n    .dataframe thead th {\n        text-align: right;\n    }\n</style>\n<table border=\"1\" class=\"dataframe\">\n  <thead>\n    <tr style=\"text-align: right;\">\n      <th></th>\n      <th>Date</th>\n      <th>Year</th>\n      <th>Month</th>\n      <th>Time</th>\n      <th>Category Name</th>\n      <th>Item Name</th>\n      <th>Quantity Sold (kilo)</th>\n      <th>Unit Selling Price (RMB/kg)</th>\n      <th>Wholesale Price (RMB/kg)</th>\n      <th>Loss Rate (%)</th>\n      <th>total_sales</th>\n      <th>Sale or Return</th>\n      <th>Discount (Yes/No)</th>\n    </tr>\n  </thead>\n  <tbody>\n    <tr>\n      <th>0</th>\n      <td>2021-01-01</td>\n      <td>2021</td>\n      <td>1</td>\n      <td>09:14:26.212</td>\n      <td>capsicum</td>\n      <td>Green Hot Peppers</td>\n      <td>0.501651</td>\n      <td>9.14143</td>\n      <td>5.818314</td>\n      <td>6.72</td>\n      <td>3.75346</td>\n      <td>sale</td>\n      <td>False</td>\n    </tr>\n    <tr>\n      <th>1</th>\n      <td>2021-01-01</td>\n      <td>2021</td>\n      <td>1</td>\n      <td>09:14:26.324</td>\n      <td>capsicum</td>\n      <td>Green Hot Peppers</td>\n      <td>0.600000</td>\n      <td>9.14143</td>\n      <td>5.818314</td>\n      <td>6.72</td>\n      <td>3.75346</td>\n      <td>sale</td>\n      <td>False</td>\n    </tr>\n    <tr>\n      <th>2</th>\n      <td>2021-01-01</td>\n      <td>2021</td>\n      <td>1</td>\n      <td>16:38:10.054</td>\n      <td>capsicum</td>\n      <td>Green Hot Peppers</td>\n      <td>0.200000</td>\n      <td>9.14143</td>\n      <td>5.818314</td>\n      <td>6.72</td>\n      <td>5.16000</td>\n      <td>sale</td>\n      <td>False</td>\n    </tr>\n    <tr>\n      <th>3</th>\n      <td>2021-01-01</td>\n      <td>2021</td>\n      <td>1</td>\n      <td>17:31:18.233</td>\n      <td>capsicum</td>\n      <td>Green Hot Peppers</td>\n      <td>0.300000</td>\n      <td>9.14143</td>\n      <td>5.818314</td>\n      <td>6.72</td>\n      <td>7.74000</td>\n      <td>sale</td>\n      <td>False</td>\n    </tr>\n    <tr>\n      <th>4</th>\n      <td>2021-01-01</td>\n      <td>2021</td>\n      <td>1</td>\n      <td>19:57:07.847</td>\n      <td>capsicum</td>\n      <td>Green Hot Peppers</td>\n      <td>0.300000</td>\n      <td>9.14143</td>\n      <td>5.818314</td>\n      <td>6.72</td>\n      <td>7.74000</td>\n      <td>sale</td>\n      <td>False</td>\n    </tr>\n  </tbody>\n</table>\n</div>"
     },
     "execution_count": 26,
     "metadata": {},
     "output_type": "execute_result"
    }
   ],
   "source": [
    "import pandas as pd\n",
    "# Read a CSV file\n",
    "data = pd.read_csv('../../datasets/cleaned_loss_rate_dataset.csv')\n",
    "# Display the dataframe\n",
    "data.head()"
   ]
  },
  {
   "cell_type": "code",
   "execution_count": 27,
   "outputs": [
    {
     "data": {
      "text/plain": "Date                           0\nYear                           0\nMonth                          0\nTime                           0\nCategory Name                  0\nItem Name                      0\nQuantity Sold (kilo)           0\nUnit Selling Price (RMB/kg)    0\nWholesale Price (RMB/kg)       0\nLoss Rate (%)                  0\ntotal_sales                    0\nSale or Return                 0\nDiscount (Yes/No)              0\ndtype: int64"
     },
     "execution_count": 27,
     "metadata": {},
     "output_type": "execute_result"
    }
   ],
   "source": [
    "data.isnull().sum()"
   ],
   "metadata": {
    "collapsed": false,
    "ExecuteTime": {
     "end_time": "2024-01-15T03:37:41.270327300Z",
     "start_time": "2024-01-15T03:37:40.881368400Z"
    }
   },
   "id": "123ddc3adaba1bbb"
  },
  {
   "cell_type": "code",
   "execution_count": 28,
   "outputs": [],
   "source": [
    "# Handle missing values if any\n",
    "data.dropna(inplace=True)\n",
    "# Convert Date column to datetime format\n",
    "data['Date'] = pd.to_datetime(data['Date'])"
   ],
   "metadata": {
    "collapsed": false,
    "ExecuteTime": {
     "end_time": "2024-01-15T03:37:42.129029Z",
     "start_time": "2024-01-15T03:37:41.265344500Z"
    }
   },
   "id": "3c4445d26870e225"
  },
  {
   "cell_type": "code",
   "execution_count": 29,
   "outputs": [],
   "source": [
    "# Extract relevant features and target variable\n",
    "X = data[['Year', 'Month', 'Quantity Sold (kilo)', 'Unit Selling Price (RMB/kg)', 'Wholesale Price (RMB/kg)', 'total_sales']]\n",
    "y = data['Loss Rate (%)']"
   ],
   "metadata": {
    "collapsed": false,
    "ExecuteTime": {
     "end_time": "2024-01-15T03:37:42.131024700Z",
     "start_time": "2024-01-15T03:37:42.080160600Z"
    }
   },
   "id": "f9e274cb2c752b19"
  },
  {
   "cell_type": "code",
   "execution_count": 30,
   "outputs": [],
   "source": [
    "from sklearn.model_selection import train_test_split\n",
    "\n",
    "# Split the data into training and test sets\n",
    "X_train, X_test, y_train, y_test = train_test_split(X, y, test_size=0.2, random_state=42)"
   ],
   "metadata": {
    "collapsed": false,
    "ExecuteTime": {
     "end_time": "2024-01-15T03:37:42.357418900Z",
     "start_time": "2024-01-15T03:37:42.126037Z"
    }
   },
   "id": "13a1b0a77323b8af"
  },
  {
   "cell_type": "code",
   "execution_count": 31,
   "outputs": [
    {
     "name": "stdout",
     "output_type": "stream",
     "text": [
      "Model Score: 0.015822182256863715\n"
     ]
    }
   ],
   "source": [
    "from sklearn.linear_model import LinearRegression\n",
    "\n",
    "# Initialize and train the linear regression model\n",
    "model = LinearRegression()\n",
    "model.fit(X_train, y_train)\n",
    "\n",
    "# Predict loss rate on the test set\n",
    "y_pred = model.predict(X_test)\n",
    "\n",
    "# Evaluate the model using R^2 score\n",
    "model_score = model.score(X_test, y_test)\n",
    "print(f'Model Score: {model_score}')"
   ],
   "metadata": {
    "collapsed": false,
    "ExecuteTime": {
     "end_time": "2024-01-15T03:37:42.735407600Z",
     "start_time": "2024-01-15T03:37:42.358416800Z"
    }
   },
   "id": "38745e3fc75c07ae"
  },
  {
   "cell_type": "code",
   "execution_count": 32,
   "outputs": [
    {
     "name": "stdout",
     "output_type": "stream",
     "text": [
      "Mean Absolute Error: 3.2977607333289423\n"
     ]
    }
   ],
   "source": [
    "from sklearn.metrics import mean_absolute_error\n",
    "\n",
    "# Calculate Mean Absolute Error (MAE)\n",
    "mae = mean_absolute_error(y_test, y_pred)\n",
    "print(f'Mean Absolute Error: {mae}')\n"
   ],
   "metadata": {
    "collapsed": false,
    "ExecuteTime": {
     "end_time": "2024-01-15T03:37:42.748373500Z",
     "start_time": "2024-01-15T03:37:42.669585100Z"
    }
   },
   "id": "12f6945020ea97e1"
  },
  {
   "cell_type": "code",
   "execution_count": 32,
   "outputs": [],
   "source": [],
   "metadata": {
    "collapsed": false,
    "ExecuteTime": {
     "end_time": "2024-01-15T03:37:42.749371600Z",
     "start_time": "2024-01-15T03:37:42.697510Z"
    }
   },
   "id": "9c14173491916b2d"
  }
 ],
 "metadata": {
  "kernelspec": {
   "display_name": "Python 3",
   "language": "python",
   "name": "python3"
  },
  "language_info": {
   "codemirror_mode": {
    "name": "ipython",
    "version": 2
   },
   "file_extension": ".py",
   "mimetype": "text/x-python",
   "name": "python",
   "nbconvert_exporter": "python",
   "pygments_lexer": "ipython2",
   "version": "2.7.6"
  }
 },
 "nbformat": 4,
 "nbformat_minor": 5
}
