{
 "cells": [
  {
   "cell_type": "code",
   "execution_count": 50,
   "id": "initial_id",
   "metadata": {
    "collapsed": true,
    "ExecuteTime": {
     "end_time": "2024-01-24T17:38:57.621719300Z",
     "start_time": "2024-01-24T17:38:55.975121800Z"
    }
   },
   "outputs": [
    {
     "data": {
      "text/plain": "   Month Category Name          Item Name  Quantity Sold (kilo)  \\\n0      1      capsicum  Green Hot Peppers              0.475929   \n1      1      capsicum  Green Hot Peppers              0.600000   \n2      1      capsicum  Green Hot Peppers              0.200000   \n3      1      capsicum  Green Hot Peppers              0.300000   \n4      1      capsicum  Green Hot Peppers              0.300000   \n\n   Unit Selling Price (RMB/kg)  Wholesale Price (RMB/kg)  Loss Rate (%)  \\\n0                     8.287794                  5.049097           6.72   \n1                     8.287794                  5.049097           6.72   \n2                     8.287794                  5.049097           6.72   \n3                     8.287794                  5.049097           6.72   \n4                     8.287794                  5.049097           6.72   \n\n   total_sales Sale or Return  Discount (Yes/No)  \n0        28.38           sale              False  \n1        15.48           sale              False  \n2         5.16           sale              False  \n3         7.74           sale              False  \n4         7.74           sale              False  ",
      "text/html": "<div>\n<style scoped>\n    .dataframe tbody tr th:only-of-type {\n        vertical-align: middle;\n    }\n\n    .dataframe tbody tr th {\n        vertical-align: top;\n    }\n\n    .dataframe thead th {\n        text-align: right;\n    }\n</style>\n<table border=\"1\" class=\"dataframe\">\n  <thead>\n    <tr style=\"text-align: right;\">\n      <th></th>\n      <th>Month</th>\n      <th>Category Name</th>\n      <th>Item Name</th>\n      <th>Quantity Sold (kilo)</th>\n      <th>Unit Selling Price (RMB/kg)</th>\n      <th>Wholesale Price (RMB/kg)</th>\n      <th>Loss Rate (%)</th>\n      <th>total_sales</th>\n      <th>Sale or Return</th>\n      <th>Discount (Yes/No)</th>\n    </tr>\n  </thead>\n  <tbody>\n    <tr>\n      <th>0</th>\n      <td>1</td>\n      <td>capsicum</td>\n      <td>Green Hot Peppers</td>\n      <td>0.475929</td>\n      <td>8.287794</td>\n      <td>5.049097</td>\n      <td>6.72</td>\n      <td>28.38</td>\n      <td>sale</td>\n      <td>False</td>\n    </tr>\n    <tr>\n      <th>1</th>\n      <td>1</td>\n      <td>capsicum</td>\n      <td>Green Hot Peppers</td>\n      <td>0.600000</td>\n      <td>8.287794</td>\n      <td>5.049097</td>\n      <td>6.72</td>\n      <td>15.48</td>\n      <td>sale</td>\n      <td>False</td>\n    </tr>\n    <tr>\n      <th>2</th>\n      <td>1</td>\n      <td>capsicum</td>\n      <td>Green Hot Peppers</td>\n      <td>0.200000</td>\n      <td>8.287794</td>\n      <td>5.049097</td>\n      <td>6.72</td>\n      <td>5.16</td>\n      <td>sale</td>\n      <td>False</td>\n    </tr>\n    <tr>\n      <th>3</th>\n      <td>1</td>\n      <td>capsicum</td>\n      <td>Green Hot Peppers</td>\n      <td>0.300000</td>\n      <td>8.287794</td>\n      <td>5.049097</td>\n      <td>6.72</td>\n      <td>7.74</td>\n      <td>sale</td>\n      <td>False</td>\n    </tr>\n    <tr>\n      <th>4</th>\n      <td>1</td>\n      <td>capsicum</td>\n      <td>Green Hot Peppers</td>\n      <td>0.300000</td>\n      <td>8.287794</td>\n      <td>5.049097</td>\n      <td>6.72</td>\n      <td>7.74</td>\n      <td>sale</td>\n      <td>False</td>\n    </tr>\n  </tbody>\n</table>\n</div>"
     },
     "execution_count": 50,
     "metadata": {},
     "output_type": "execute_result"
    }
   ],
   "source": [
    "import pandas as pd\n",
    "# Read a CSV file\n",
    "data = pd.read_csv('../../datasets/cleaned_loss_rate_dataset.csv')\n",
    "# Display the dataframe\n",
    "data.head()"
   ]
  },
  {
   "cell_type": "code",
   "execution_count": 51,
   "outputs": [
    {
     "data": {
      "text/plain": "(475428, 10)"
     },
     "execution_count": 51,
     "metadata": {},
     "output_type": "execute_result"
    }
   ],
   "source": [
    "data.shape"
   ],
   "metadata": {
    "collapsed": false,
    "ExecuteTime": {
     "end_time": "2024-01-24T17:38:57.690533900Z",
     "start_time": "2024-01-24T17:38:57.620720400Z"
    }
   },
   "id": "e285e14e6304d008"
  },
  {
   "cell_type": "code",
   "execution_count": 52,
   "outputs": [],
   "source": [
    "import pandas as pd\n",
    "from sklearn.model_selection import train_test_split\n",
    "from sklearn.linear_model import LinearRegression\n",
    "from sklearn.metrics import mean_squared_error\n",
    "\n",
    "# Assuming 'Loss Rate (%)' is the target variable\n",
    "y = data['Loss Rate (%)']\n",
    "\n",
    "# Select features for model training\n",
    "numerical_columns = ['Month', 'Quantity Sold (kilo)', 'Unit Selling Price (RMB/kg)', 'Wholesale Price (RMB/kg)', 'total_sales']\n",
    "categorical_columns = ['Category Name', 'Item Name', 'Sale or Return', 'Discount (Yes/No)']\n",
    "\n",
    "# Extract numerical features\n",
    "X_numerical = data[numerical_columns]\n",
    "\n",
    "# Extract categorical features\n",
    "X_categorical = data[categorical_columns]\n",
    "\n",
    "# Apply one-hot encoding using pd.get_dummies for categorical variables\n",
    "X_categorical_encoded = pd.get_dummies(X_categorical, columns=categorical_columns, drop_first=True)\n",
    "\n",
    "# Concatenate numerical and encoded categorical features\n",
    "X = pd.concat([X_numerical, X_categorical_encoded], axis=1)"
   ],
   "metadata": {
    "collapsed": false,
    "ExecuteTime": {
     "end_time": "2024-01-24T17:38:59.126693300Z",
     "start_time": "2024-01-24T17:38:57.655627400Z"
    }
   },
   "id": "716981fc2701083"
  },
  {
   "cell_type": "code",
   "execution_count": 53,
   "outputs": [],
   "source": [
    "# Split data into training and test sets (75% training, 25% testing)\n",
    "X_train, X_test, y_train, y_test = train_test_split(X, y, test_size=0.25, random_state=42)"
   ],
   "metadata": {
    "collapsed": false,
    "ExecuteTime": {
     "end_time": "2024-01-24T17:38:59.969439Z",
     "start_time": "2024-01-24T17:38:59.054887500Z"
    }
   },
   "id": "13a1b0a77323b8af"
  },
  {
   "cell_type": "code",
   "execution_count": 54,
   "outputs": [],
   "source": [
    "# Initialize and train a linear regression model\n",
    "model = LinearRegression()\n",
    "model.fit(X_train, y_train)\n",
    "# Make predictions\n",
    "y_pred = model.predict(X_test)"
   ],
   "metadata": {
    "collapsed": false,
    "ExecuteTime": {
     "end_time": "2024-01-24T17:39:09.693436300Z",
     "start_time": "2024-01-24T17:38:59.954479600Z"
    }
   },
   "id": "38745e3fc75c07ae"
  },
  {
   "cell_type": "code",
   "execution_count": 55,
   "outputs": [
    {
     "name": "stdout",
     "output_type": "stream",
     "text": [
      "Mean Squared Error: 0.0004425320828728834\n"
     ]
    }
   ],
   "source": [
    "# Evaluate the model\n",
    "mse = mean_squared_error(y_test, y_pred)\n",
    "print(f\"Mean Squared Error: {mse}\")"
   ],
   "metadata": {
    "collapsed": false,
    "ExecuteTime": {
     "end_time": "2024-01-24T17:39:09.694434900Z",
     "start_time": "2024-01-24T17:39:09.621629600Z"
    }
   },
   "id": "12f6945020ea97e1"
  },
  {
   "cell_type": "code",
   "execution_count": 56,
   "outputs": [
    {
     "name": "stdout",
     "output_type": "stream",
     "text": [
      "Variance of y_pred: 20.99007474218773\n"
     ]
    }
   ],
   "source": [
    "import numpy as np\n",
    "# Calculate the variance of y_pred\n",
    "variance_y_pred = np.var(y_pred)\n",
    "print(f\"Variance of y_pred: {variance_y_pred}\")"
   ],
   "metadata": {
    "collapsed": false,
    "ExecuteTime": {
     "end_time": "2024-01-24T17:39:09.695431600Z",
     "start_time": "2024-01-24T17:39:09.649554400Z"
    }
   },
   "id": "5224ed4cb553076f"
  },
  {
   "cell_type": "code",
   "execution_count": 57,
   "outputs": [
    {
     "name": "stdout",
     "output_type": "stream",
     "text": [
      "Root Mean Squared Error (RMSE): 0.021036446536259003\n"
     ]
    }
   ],
   "source": [
    "# Calculate the Root Mean Squared Error (RMSE)\n",
    "rmse = np.sqrt(mse)\n",
    "print(f\"Root Mean Squared Error (RMSE): {rmse}\")"
   ],
   "metadata": {
    "collapsed": false,
    "ExecuteTime": {
     "end_time": "2024-01-24T17:39:09.695431600Z",
     "start_time": "2024-01-24T17:39:09.665512Z"
    }
   },
   "id": "f447ef8353b74ea8"
  },
  {
   "cell_type": "code",
   "execution_count": 58,
   "outputs": [
    {
     "name": "stdout",
     "output_type": "stream",
     "text": [
      "Mean Absolute Error (MAE): 0.0001\n"
     ]
    }
   ],
   "source": [
    "from sklearn.metrics import mean_absolute_error\n",
    "# Calculate the Mean Absolute Error (MAE)\n",
    "mae = mean_absolute_error(y_test, y_pred)\n",
    "\n",
    "# Round the MAE to 4 decimal places\n",
    "rounded_mae = round(mae, 4)\n",
    "\n",
    "print(f\"Mean Absolute Error (MAE): {rounded_mae}\")"
   ],
   "metadata": {
    "collapsed": false,
    "ExecuteTime": {
     "end_time": "2024-01-24T17:39:09.718371300Z",
     "start_time": "2024-01-24T17:39:09.680472500Z"
    }
   },
   "id": "470464895875a002"
  },
  {
   "cell_type": "code",
   "execution_count": 59,
   "outputs": [
    {
     "data": {
      "text/plain": "        Month  Predicted Loss Rate (%)\n33771       2                    10.80\n11108       1                    13.82\n317832      4                     5.70\n371715      7                    24.05\n256082     12                     5.54",
      "text/html": "<div>\n<style scoped>\n    .dataframe tbody tr th:only-of-type {\n        vertical-align: middle;\n    }\n\n    .dataframe tbody tr th {\n        vertical-align: top;\n    }\n\n    .dataframe thead th {\n        text-align: right;\n    }\n</style>\n<table border=\"1\" class=\"dataframe\">\n  <thead>\n    <tr style=\"text-align: right;\">\n      <th></th>\n      <th>Month</th>\n      <th>Predicted Loss Rate (%)</th>\n    </tr>\n  </thead>\n  <tbody>\n    <tr>\n      <th>33771</th>\n      <td>2</td>\n      <td>10.80</td>\n    </tr>\n    <tr>\n      <th>11108</th>\n      <td>1</td>\n      <td>13.82</td>\n    </tr>\n    <tr>\n      <th>317832</th>\n      <td>4</td>\n      <td>5.70</td>\n    </tr>\n    <tr>\n      <th>371715</th>\n      <td>7</td>\n      <td>24.05</td>\n    </tr>\n    <tr>\n      <th>256082</th>\n      <td>12</td>\n      <td>5.54</td>\n    </tr>\n  </tbody>\n</table>\n</div>"
     },
     "execution_count": 59,
     "metadata": {},
     "output_type": "execute_result"
    }
   ],
   "source": [
    "# Predict Loss Rate for the first 5 values in the test data\n",
    "X_test_subset = X_test.head()\n",
    "predictions = model.predict(X_test_subset)\n",
    "\n",
    "# Display the results along with Month, Item Name, Category Name, and Discount information\n",
    "result_df = pd.DataFrame({\n",
    "    'Month': data.loc[X_test_subset.index, 'Month'],  # Assuming 'Month' is the original month numbers\n",
    "    'Predicted Loss Rate (%)': predictions\n",
    "})\n",
    "result_df.head()"
   ],
   "metadata": {
    "collapsed": false,
    "ExecuteTime": {
     "end_time": "2024-01-24T17:39:09.844035Z",
     "start_time": "2024-01-24T17:39:09.714381800Z"
    }
   },
   "id": "84db0584ad13d787"
  },
  {
   "cell_type": "code",
   "execution_count": 60,
   "outputs": [
    {
     "data": {
      "text/plain": "33771     10.80\n11108     13.82\n317832     5.70\n371715    24.05\n256082     5.54\nName: Loss Rate (%), dtype: float64"
     },
     "execution_count": 60,
     "metadata": {},
     "output_type": "execute_result"
    }
   ],
   "source": [
    "y_test[:5]"
   ],
   "metadata": {
    "collapsed": false,
    "ExecuteTime": {
     "end_time": "2024-01-24T17:39:09.847031500Z",
     "start_time": "2024-01-24T17:39:09.758275300Z"
    }
   },
   "id": "13b8b7c0169333b7"
  },
  {
   "cell_type": "code",
   "execution_count": 61,
   "outputs": [
    {
     "data": {
      "text/plain": "array([10.8 , 13.82,  5.7 , 24.05,  5.54])"
     },
     "execution_count": 61,
     "metadata": {},
     "output_type": "execute_result"
    }
   ],
   "source": [
    "predictions[:5]"
   ],
   "metadata": {
    "collapsed": false,
    "ExecuteTime": {
     "end_time": "2024-01-24T17:39:09.853011100Z",
     "start_time": "2024-01-24T17:39:09.805139200Z"
    }
   },
   "id": "d817db02b460467a"
  },
  {
   "cell_type": "code",
   "execution_count": 62,
   "outputs": [
    {
     "data": {
      "text/plain": "118857"
     },
     "execution_count": 62,
     "metadata": {},
     "output_type": "execute_result"
    }
   ],
   "source": [
    "y_test.shape[0]"
   ],
   "metadata": {
    "collapsed": false,
    "ExecuteTime": {
     "end_time": "2024-01-24T17:39:09.871960500Z",
     "start_time": "2024-01-24T17:39:09.836059500Z"
    }
   },
   "id": "9b66eea35a217205"
  },
  {
   "cell_type": "code",
   "execution_count": 63,
   "outputs": [],
   "source": [
    "import pickle\n",
    "\n",
    "# save model\n",
    "with open('lossRatemodel.pickle', 'wb') as file:\n",
    "    pickle.dump(model, file)"
   ],
   "metadata": {
    "collapsed": false,
    "ExecuteTime": {
     "end_time": "2024-01-24T17:39:10.028540400Z",
     "start_time": "2024-01-24T17:39:09.853011100Z"
    }
   },
   "id": "6f0f611eaf1c594a"
  },
  {
   "cell_type": "code",
   "execution_count": 63,
   "outputs": [],
   "source": [],
   "metadata": {
    "collapsed": false,
    "ExecuteTime": {
     "end_time": "2024-01-24T17:39:10.055469700Z",
     "start_time": "2024-01-24T17:39:09.896893600Z"
    }
   },
   "id": "a8f72f8174739d2d"
  }
 ],
 "metadata": {
  "kernelspec": {
   "display_name": "Python 3",
   "language": "python",
   "name": "python3"
  },
  "language_info": {
   "codemirror_mode": {
    "name": "ipython",
    "version": 2
   },
   "file_extension": ".py",
   "mimetype": "text/x-python",
   "name": "python",
   "nbconvert_exporter": "python",
   "pygments_lexer": "ipython2",
   "version": "2.7.6"
  }
 },
 "nbformat": 4,
 "nbformat_minor": 5
}
