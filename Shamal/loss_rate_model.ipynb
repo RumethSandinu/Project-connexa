{
 "cells": [
  {
   "cell_type": "code",
   "execution_count": 1,
   "id": "initial_id",
   "metadata": {
    "collapsed": true,
    "ExecuteTime": {
     "end_time": "2024-01-18T15:52:26.267485300Z",
     "start_time": "2024-01-18T15:52:25.282530100Z"
    }
   },
   "outputs": [
    {
     "data": {
      "text/plain": "   Month Category Name          Item Name  Quantity Sold (kilo)  \\\n0      1      capsicum  Green Hot Peppers              0.501651   \n1      1      capsicum  Green Hot Peppers              0.600000   \n2      1      capsicum  Green Hot Peppers              0.200000   \n3      1      capsicum  Green Hot Peppers              0.300000   \n4      1      capsicum  Green Hot Peppers              0.300000   \n\n   Unit Selling Price (RMB/kg)  Wholesale Price (RMB/kg)  Loss Rate (%)  \\\n0                      9.14143                  5.818314           6.72   \n1                      9.14143                  5.818314           6.72   \n2                      9.14143                  5.818314           6.72   \n3                      9.14143                  5.818314           6.72   \n4                      9.14143                  5.818314           6.72   \n\n   total_sales Sale or Return  Discount (Yes/No)  \n0        28.38           sale              False  \n1        15.48           sale              False  \n2         5.16           sale              False  \n3         7.74           sale              False  \n4         7.74           sale              False  ",
      "text/html": "<div>\n<style scoped>\n    .dataframe tbody tr th:only-of-type {\n        vertical-align: middle;\n    }\n\n    .dataframe tbody tr th {\n        vertical-align: top;\n    }\n\n    .dataframe thead th {\n        text-align: right;\n    }\n</style>\n<table border=\"1\" class=\"dataframe\">\n  <thead>\n    <tr style=\"text-align: right;\">\n      <th></th>\n      <th>Month</th>\n      <th>Category Name</th>\n      <th>Item Name</th>\n      <th>Quantity Sold (kilo)</th>\n      <th>Unit Selling Price (RMB/kg)</th>\n      <th>Wholesale Price (RMB/kg)</th>\n      <th>Loss Rate (%)</th>\n      <th>total_sales</th>\n      <th>Sale or Return</th>\n      <th>Discount (Yes/No)</th>\n    </tr>\n  </thead>\n  <tbody>\n    <tr>\n      <th>0</th>\n      <td>1</td>\n      <td>capsicum</td>\n      <td>Green Hot Peppers</td>\n      <td>0.501651</td>\n      <td>9.14143</td>\n      <td>5.818314</td>\n      <td>6.72</td>\n      <td>28.38</td>\n      <td>sale</td>\n      <td>False</td>\n    </tr>\n    <tr>\n      <th>1</th>\n      <td>1</td>\n      <td>capsicum</td>\n      <td>Green Hot Peppers</td>\n      <td>0.600000</td>\n      <td>9.14143</td>\n      <td>5.818314</td>\n      <td>6.72</td>\n      <td>15.48</td>\n      <td>sale</td>\n      <td>False</td>\n    </tr>\n    <tr>\n      <th>2</th>\n      <td>1</td>\n      <td>capsicum</td>\n      <td>Green Hot Peppers</td>\n      <td>0.200000</td>\n      <td>9.14143</td>\n      <td>5.818314</td>\n      <td>6.72</td>\n      <td>5.16</td>\n      <td>sale</td>\n      <td>False</td>\n    </tr>\n    <tr>\n      <th>3</th>\n      <td>1</td>\n      <td>capsicum</td>\n      <td>Green Hot Peppers</td>\n      <td>0.300000</td>\n      <td>9.14143</td>\n      <td>5.818314</td>\n      <td>6.72</td>\n      <td>7.74</td>\n      <td>sale</td>\n      <td>False</td>\n    </tr>\n    <tr>\n      <th>4</th>\n      <td>1</td>\n      <td>capsicum</td>\n      <td>Green Hot Peppers</td>\n      <td>0.300000</td>\n      <td>9.14143</td>\n      <td>5.818314</td>\n      <td>6.72</td>\n      <td>7.74</td>\n      <td>sale</td>\n      <td>False</td>\n    </tr>\n  </tbody>\n</table>\n</div>"
     },
     "execution_count": 1,
     "metadata": {},
     "output_type": "execute_result"
    }
   ],
   "source": [
    "import pandas as pd\n",
    "# Read a CSV file\n",
    "data = pd.read_csv('../../datasets/cleaned_loss_rate_dataset.csv')\n",
    "# Display the dataframe\n",
    "data.head()"
   ]
  },
  {
   "cell_type": "code",
   "execution_count": 2,
   "outputs": [
    {
     "data": {
      "text/plain": "(475428, 10)"
     },
     "execution_count": 2,
     "metadata": {},
     "output_type": "execute_result"
    }
   ],
   "source": [
    "data.shape"
   ],
   "metadata": {
    "collapsed": false,
    "ExecuteTime": {
     "end_time": "2024-01-18T15:52:26.325330200Z",
     "start_time": "2024-01-18T15:52:26.264493300Z"
    }
   },
   "id": "e285e14e6304d008"
  },
  {
   "cell_type": "code",
   "execution_count": 3,
   "outputs": [],
   "source": [
    "import pandas as pd\n",
    "from sklearn.model_selection import train_test_split\n",
    "from sklearn.linear_model import LinearRegression\n",
    "from sklearn.metrics import mean_squared_error\n",
    "from sklearn.preprocessing import StandardScaler, OneHotEncoder\n",
    "\n",
    "# Assuming 'Loss Rate (%)' is the target variable\n",
    "y = data['Loss Rate (%)']\n",
    "\n",
    "# Select features for model training\n",
    "numerical_columns = ['Month', 'Quantity Sold (kilo)', 'Unit Selling Price (RMB/kg)', 'Wholesale Price (RMB/kg)', 'total_sales']\n",
    "categorical_columns = ['Category Name', 'Item Name', 'Sale or Return', 'Discount (Yes/No)']\n",
    "\n",
    "# Extract numerical features\n",
    "X_numerical = data[numerical_columns]\n",
    "\n",
    "# Extract categorical features\n",
    "X_categorical = data[categorical_columns]"
   ],
   "metadata": {
    "collapsed": false,
    "ExecuteTime": {
     "end_time": "2024-01-18T15:52:27.588760800Z",
     "start_time": "2024-01-18T15:52:26.290423400Z"
    }
   },
   "id": "716981fc2701083"
  },
  {
   "cell_type": "code",
   "execution_count": 4,
   "outputs": [],
   "source": [
    "# Apply numerical transformations\n",
    "scaler = StandardScaler()\n",
    "X_numerical = pd.DataFrame(scaler.fit_transform(X_numerical), columns=numerical_columns)"
   ],
   "metadata": {
    "collapsed": false,
    "ExecuteTime": {
     "end_time": "2024-01-18T15:52:27.678520800Z",
     "start_time": "2024-01-18T15:52:27.526926400Z"
    }
   },
   "id": "123ddc3adaba1bbb"
  },
  {
   "cell_type": "code",
   "execution_count": 5,
   "outputs": [],
   "source": [
    "# Apply one-hot encoding for categorical variables\n",
    "encoder = OneHotEncoder(drop='first', sparse_output=False)  # Updated to use sparse_output\n",
    "X_categorical_encoded = encoder.fit_transform(X_categorical)\n",
    "X_categorical_encoded = pd.DataFrame(X_categorical_encoded, columns=encoder.get_feature_names_out(categorical_columns))"
   ],
   "metadata": {
    "collapsed": false,
    "ExecuteTime": {
     "end_time": "2024-01-18T15:52:33.762856100Z",
     "start_time": "2024-01-18T15:52:27.680515200Z"
    }
   },
   "id": "f9e274cb2c752b19"
  },
  {
   "cell_type": "code",
   "execution_count": 6,
   "outputs": [],
   "source": [
    "# Concatenate numerical and encoded categorical features\n",
    "X = pd.concat([X_numerical, X_categorical_encoded], axis=1)\n",
    "\n",
    "# Split data into training and test sets (75% training, 25% testing)\n",
    "X_train, X_test, y_train, y_test = train_test_split(X, y, test_size=0.25, random_state=42)"
   ],
   "metadata": {
    "collapsed": false,
    "ExecuteTime": {
     "end_time": "2024-01-18T15:52:50.294032100Z",
     "start_time": "2024-01-18T15:52:33.766845Z"
    }
   },
   "id": "13a1b0a77323b8af"
  },
  {
   "cell_type": "code",
   "execution_count": 7,
   "outputs": [],
   "source": [
    "# Initialize and train a linear regression model\n",
    "model = LinearRegression()\n",
    "model.fit(X_train, y_train)\n",
    "# Make predictions\n",
    "y_pred = model.predict(X_test)"
   ],
   "metadata": {
    "collapsed": false,
    "ExecuteTime": {
     "end_time": "2024-01-18T15:53:01.444884700Z",
     "start_time": "2024-01-18T15:52:50.324949600Z"
    }
   },
   "id": "38745e3fc75c07ae"
  },
  {
   "cell_type": "code",
   "execution_count": 8,
   "outputs": [
    {
     "name": "stdout",
     "output_type": "stream",
     "text": [
      "Mean Squared Error: 0.00027907690494534236\n"
     ]
    }
   ],
   "source": [
    "# Evaluate the model\n",
    "mse = mean_squared_error(y_test, y_pred)\n",
    "print(f\"Mean Squared Error: {mse}\")"
   ],
   "metadata": {
    "collapsed": false,
    "ExecuteTime": {
     "end_time": "2024-01-18T15:53:01.703135900Z",
     "start_time": "2024-01-18T15:53:01.537690800Z"
    }
   },
   "id": "12f6945020ea97e1"
  },
  {
   "cell_type": "code",
   "execution_count": 9,
   "outputs": [
    {
     "name": "stdout",
     "output_type": "stream",
     "text": [
      "Variance of y_pred: 20.990196900882484\n"
     ]
    }
   ],
   "source": [
    "import numpy as np\n",
    "# Calculate the variance of y_pred\n",
    "variance_y_pred = np.var(y_pred)\n",
    "print(f\"Variance of y_pred: {variance_y_pred}\")"
   ],
   "metadata": {
    "collapsed": false,
    "ExecuteTime": {
     "end_time": "2024-01-18T15:53:01.791899Z",
     "start_time": "2024-01-18T15:53:01.703135900Z"
    }
   },
   "id": "5224ed4cb553076f"
  },
  {
   "cell_type": "code",
   "execution_count": 10,
   "outputs": [
    {
     "name": "stdout",
     "output_type": "stream",
     "text": [
      "Root Mean Squared Error (RMSE): 0.016705595019194688\n"
     ]
    }
   ],
   "source": [
    "# Calculate the Root Mean Squared Error (RMSE)\n",
    "rmse = np.sqrt(mse)\n",
    "print(f\"Root Mean Squared Error (RMSE): {rmse}\")"
   ],
   "metadata": {
    "collapsed": false,
    "ExecuteTime": {
     "end_time": "2024-01-18T15:53:01.824810700Z",
     "start_time": "2024-01-18T15:53:01.766966400Z"
    }
   },
   "id": "f447ef8353b74ea8"
  },
  {
   "cell_type": "code",
   "execution_count": 12,
   "outputs": [
    {
     "name": "stdout",
     "output_type": "stream",
     "text": [
      "Mean Absolute Error (MAE): 0.0001\n"
     ]
    }
   ],
   "source": [
    "from sklearn.metrics import mean_absolute_error\n",
    "# Calculate the Mean Absolute Error (MAE)\n",
    "mae = mean_absolute_error(y_test, y_pred)\n",
    "\n",
    "# Round the MAE to 4 decimal places\n",
    "rounded_mae = round(mae, 4)\n",
    "\n",
    "print(f\"Mean Absolute Error (MAE): {rounded_mae}\")"
   ],
   "metadata": {
    "collapsed": false,
    "ExecuteTime": {
     "end_time": "2024-01-18T16:03:21.923134800Z",
     "start_time": "2024-01-18T16:03:21.692750Z"
    }
   },
   "id": "470464895875a002"
  },
  {
   "cell_type": "code",
   "execution_count": null,
   "outputs": [],
   "source": [],
   "metadata": {
    "collapsed": false
   },
   "id": "84db0584ad13d787"
  }
 ],
 "metadata": {
  "kernelspec": {
   "display_name": "Python 3",
   "language": "python",
   "name": "python3"
  },
  "language_info": {
   "codemirror_mode": {
    "name": "ipython",
    "version": 2
   },
   "file_extension": ".py",
   "mimetype": "text/x-python",
   "name": "python",
   "nbconvert_exporter": "python",
   "pygments_lexer": "ipython2",
   "version": "2.7.6"
  }
 },
 "nbformat": 4,
 "nbformat_minor": 5
}
