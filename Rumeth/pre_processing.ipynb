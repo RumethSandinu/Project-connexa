{
 "cells": [
  {
   "cell_type": "code",
   "execution_count": 1,
   "id": "initial_id",
   "metadata": {
    "collapsed": true,
    "ExecuteTime": {
     "end_time": "2023-12-09T09:14:03.838295Z",
     "start_time": "2023-12-09T09:14:03.407833Z"
    }
   },
   "outputs": [],
   "source": [
    "import pandas as pd"
   ]
  },
  {
   "cell_type": "code",
   "execution_count": 2,
   "outputs": [
    {
     "data": {
      "text/plain": "             Item Name           Category Name        Date  \\\n443602  Niushou Youcai  Flower/Leaf Vegetables  2022-02-03   \n307218       Naibaicai  Flower/Leaf Vegetables  2021-07-10   \n498364       Eggplant                  Solanum  2022-05-28   \n\n        Quantity Sold (kilo)  Unit Selling Price (RMB/kg) Sale or Return  \\\n443602                 0.530                          4.0           sale   \n307218                 0.553                          4.0           sale   \n498364                 0.319                          6.0           sale   \n\n       Discount (Yes/No)  \n443602                No  \n307218                No  \n498364                No  ",
      "text/html": "<div>\n<style scoped>\n    .dataframe tbody tr th:only-of-type {\n        vertical-align: middle;\n    }\n\n    .dataframe tbody tr th {\n        vertical-align: top;\n    }\n\n    .dataframe thead th {\n        text-align: right;\n    }\n</style>\n<table border=\"1\" class=\"dataframe\">\n  <thead>\n    <tr style=\"text-align: right;\">\n      <th></th>\n      <th>Item Name</th>\n      <th>Category Name</th>\n      <th>Date</th>\n      <th>Quantity Sold (kilo)</th>\n      <th>Unit Selling Price (RMB/kg)</th>\n      <th>Sale or Return</th>\n      <th>Discount (Yes/No)</th>\n    </tr>\n  </thead>\n  <tbody>\n    <tr>\n      <th>443602</th>\n      <td>Niushou Youcai</td>\n      <td>Flower/Leaf Vegetables</td>\n      <td>2022-02-03</td>\n      <td>0.530</td>\n      <td>4.0</td>\n      <td>sale</td>\n      <td>No</td>\n    </tr>\n    <tr>\n      <th>307218</th>\n      <td>Naibaicai</td>\n      <td>Flower/Leaf Vegetables</td>\n      <td>2021-07-10</td>\n      <td>0.553</td>\n      <td>4.0</td>\n      <td>sale</td>\n      <td>No</td>\n    </tr>\n    <tr>\n      <th>498364</th>\n      <td>Eggplant</td>\n      <td>Solanum</td>\n      <td>2022-05-28</td>\n      <td>0.319</td>\n      <td>6.0</td>\n      <td>sale</td>\n      <td>No</td>\n    </tr>\n  </tbody>\n</table>\n</div>"
     },
     "execution_count": 2,
     "metadata": {},
     "output_type": "execute_result"
    }
   ],
   "source": [
    "# get the filtered dataset\n",
    "df = pd.read_csv('/Users/rumethsandinu/Study/Assessments/Year 2/DSGP/Datasets/built_dataset.csv')\n",
    "df.sample(3)"
   ],
   "metadata": {
    "collapsed": false,
    "ExecuteTime": {
     "end_time": "2023-12-09T09:14:04.232957Z",
     "start_time": "2023-12-09T09:14:03.839503Z"
    }
   },
   "id": "e41d64e95fe0ae04"
  },
  {
   "cell_type": "code",
   "execution_count": 3,
   "outputs": [
    {
     "name": "stdout",
     "output_type": "stream",
     "text": [
      "<class 'pandas.core.frame.DataFrame'>\n",
      "RangeIndex: 737337 entries, 0 to 737336\n",
      "Data columns (total 7 columns):\n",
      " #   Column                       Non-Null Count   Dtype  \n",
      "---  ------                       --------------   -----  \n",
      " 0   Item Name                    737337 non-null  object \n",
      " 1   Category Name                737337 non-null  object \n",
      " 2   Date                         737337 non-null  object \n",
      " 3   Quantity Sold (kilo)         737337 non-null  float64\n",
      " 4   Unit Selling Price (RMB/kg)  737337 non-null  float64\n",
      " 5   Sale or Return               737337 non-null  object \n",
      " 6   Discount (Yes/No)            737337 non-null  object \n",
      "dtypes: float64(2), object(5)\n",
      "memory usage: 39.4+ MB\n"
     ]
    }
   ],
   "source": [
    "df.info()"
   ],
   "metadata": {
    "collapsed": false,
    "ExecuteTime": {
     "end_time": "2023-12-09T09:14:04.295584Z",
     "start_time": "2023-12-09T09:14:04.217102Z"
    }
   },
   "id": "f87731553be14d33"
  },
  {
   "cell_type": "code",
   "execution_count": 4,
   "outputs": [],
   "source": [
    "import numpy as np"
   ],
   "metadata": {
    "collapsed": false,
    "ExecuteTime": {
     "end_time": "2023-12-09T09:14:04.295647Z",
     "start_time": "2023-12-09T09:14:04.286338Z"
    }
   },
   "id": "84f8dec7c7ec20e9"
  },
  {
   "cell_type": "code",
   "execution_count": 5,
   "outputs": [
    {
     "data": {
      "text/plain": "3860.4031413612565"
     },
     "execution_count": 5,
     "metadata": {},
     "output_type": "execute_result"
    }
   ],
   "source": [
    "# average frequecy of selling item\n",
    "np.average(df['Item Name'].value_counts())"
   ],
   "metadata": {
    "collapsed": false,
    "ExecuteTime": {
     "end_time": "2023-12-09T09:14:04.339217Z",
     "start_time": "2023-12-09T09:14:04.289587Z"
    }
   },
   "id": "264f8705566cfaca"
  },
  {
   "cell_type": "code",
   "execution_count": 6,
   "outputs": [],
   "source": [
    "import matplotlib.pyplot as plt"
   ],
   "metadata": {
    "collapsed": false,
    "ExecuteTime": {
     "end_time": "2023-12-09T09:14:04.548670Z",
     "start_time": "2023-12-09T09:14:04.322489Z"
    }
   },
   "id": "8c22268907a1c428"
  },
  {
   "cell_type": "code",
   "execution_count": 7,
   "outputs": [
    {
     "data": {
      "text/plain": "{'whiskers': [<matplotlib.lines.Line2D at 0x168b62fd0>,\n  <matplotlib.lines.Line2D at 0x168b822b0>],\n 'caps': [<matplotlib.lines.Line2D at 0x168b82550>,\n  <matplotlib.lines.Line2D at 0x168b827f0>],\n 'boxes': [<matplotlib.lines.Line2D at 0x168b62d30>],\n 'medians': [<matplotlib.lines.Line2D at 0x168b82a90>],\n 'fliers': [<matplotlib.lines.Line2D at 0x168b82d30>],\n 'means': []}"
     },
     "execution_count": 7,
     "metadata": {},
     "output_type": "execute_result"
    },
    {
     "data": {
      "text/plain": "<Figure size 640x480 with 1 Axes>",
      "image/png": "[encoded data removed]"
     },
     "metadata": {},
     "output_type": "display_data"
    }
   ],
   "source": [
    "# visualise frequecy of selling item\n",
    "plt.boxplot(df['Item Name'].value_counts())"
   ],
   "metadata": {
    "collapsed": false,
    "ExecuteTime": {
     "end_time": "2023-12-09T09:14:04.646459Z",
     "start_time": "2023-12-09T09:14:04.571848Z"
    }
   },
   "id": "9bf61da1d11fc886"
  },
  {
   "cell_type": "code",
   "execution_count": 8,
   "outputs": [
    {
     "data": {
      "text/plain": "122889.5"
     },
     "execution_count": 8,
     "metadata": {},
     "output_type": "execute_result"
    }
   ],
   "source": [
    "# average frequency of selling category\n",
    "np.average(df['Category Name'].value_counts())"
   ],
   "metadata": {
    "collapsed": false,
    "ExecuteTime": {
     "end_time": "2023-12-09T09:14:04.693781Z",
     "start_time": "2023-12-09T09:14:04.668857Z"
    }
   },
   "id": "ddc1c501c2e9d82e"
  },
  {
   "cell_type": "code",
   "execution_count": 9,
   "outputs": [
    {
     "data": {
      "text/plain": "{'whiskers': [<matplotlib.lines.Line2D at 0x168c40e80>,\n  <matplotlib.lines.Line2D at 0x168c50160>],\n 'caps': [<matplotlib.lines.Line2D at 0x168c50400>,\n  <matplotlib.lines.Line2D at 0x168c506a0>],\n 'boxes': [<matplotlib.lines.Line2D at 0x168c40be0>],\n 'medians': [<matplotlib.lines.Line2D at 0x168c50940>],\n 'fliers': [<matplotlib.lines.Line2D at 0x168c50be0>],\n 'means': []}"
     },
     "execution_count": 9,
     "metadata": {},
     "output_type": "execute_result"
    },
    {
     "data": {
      "text/plain": "<Figure size 640x480 with 1 Axes>",
      "image/png": "[encoded data removed]"
     },
     "metadata": {},
     "output_type": "display_data"
    }
   ],
   "source": [
    "# visualise frequency of selling category\n",
    "plt.boxplot(df['Category Name'].value_counts())"
   ],
   "metadata": {
    "collapsed": false,
    "ExecuteTime": {
     "end_time": "2023-12-09T09:14:04.760591Z",
     "start_time": "2023-12-09T09:14:04.701102Z"
    }
   },
   "id": "43281ceff9693e7c"
  },
  {
   "cell_type": "code",
   "execution_count": 10,
   "outputs": [
    {
     "data": {
      "text/plain": "      Item Name           Category Name        Date  Quantity Sold (kilo)  \\\n0   Paopaojiao                 Capsicum  2020-07-01                 0.396   \n1   Paopaojiao                 Capsicum  2020-07-01                 0.409   \n2  Shanghaiqing  Flower/Leaf Vegetables  2020-07-01                 0.421   \n3        Caixin  Flower/Leaf Vegetables  2020-07-01                 0.539   \n4   Paopaojiao                 Capsicum  2020-07-01                 0.277   \n\n   Unit Selling Price (RMB/kg) Sale or Return Discount (Yes/No)  \n0                          7.6           sale                No  \n1                          7.6           sale                No  \n2                         10.0           sale                No  \n3                          8.0           sale                No  \n4                          7.6           sale                No  ",
      "text/html": "<div>\n<style scoped>\n    .dataframe tbody tr th:only-of-type {\n        vertical-align: middle;\n    }\n\n    .dataframe tbody tr th {\n        vertical-align: top;\n    }\n\n    .dataframe thead th {\n        text-align: right;\n    }\n</style>\n<table border=\"1\" class=\"dataframe\">\n  <thead>\n    <tr style=\"text-align: right;\">\n      <th></th>\n      <th>Item Name</th>\n      <th>Category Name</th>\n      <th>Date</th>\n      <th>Quantity Sold (kilo)</th>\n      <th>Unit Selling Price (RMB/kg)</th>\n      <th>Sale or Return</th>\n      <th>Discount (Yes/No)</th>\n    </tr>\n  </thead>\n  <tbody>\n    <tr>\n      <th>0</th>\n      <td>Paopaojiao</td>\n      <td>Capsicum</td>\n      <td>2020-07-01</td>\n      <td>0.396</td>\n      <td>7.6</td>\n      <td>sale</td>\n      <td>No</td>\n    </tr>\n    <tr>\n      <th>1</th>\n      <td>Paopaojiao</td>\n      <td>Capsicum</td>\n      <td>2020-07-01</td>\n      <td>0.409</td>\n      <td>7.6</td>\n      <td>sale</td>\n      <td>No</td>\n    </tr>\n    <tr>\n      <th>2</th>\n      <td>Shanghaiqing</td>\n      <td>Flower/Leaf Vegetables</td>\n      <td>2020-07-01</td>\n      <td>0.421</td>\n      <td>10.0</td>\n      <td>sale</td>\n      <td>No</td>\n    </tr>\n    <tr>\n      <th>3</th>\n      <td>Caixin</td>\n      <td>Flower/Leaf Vegetables</td>\n      <td>2020-07-01</td>\n      <td>0.539</td>\n      <td>8.0</td>\n      <td>sale</td>\n      <td>No</td>\n    </tr>\n    <tr>\n      <th>4</th>\n      <td>Paopaojiao</td>\n      <td>Capsicum</td>\n      <td>2020-07-01</td>\n      <td>0.277</td>\n      <td>7.6</td>\n      <td>sale</td>\n      <td>No</td>\n    </tr>\n  </tbody>\n</table>\n</div>"
     },
     "execution_count": 10,
     "metadata": {},
     "output_type": "execute_result"
    }
   ],
   "source": [
    "df.head()"
   ],
   "metadata": {
    "collapsed": false,
    "ExecuteTime": {
     "end_time": "2023-12-09T09:14:04.765363Z",
     "start_time": "2023-12-09T09:14:04.759067Z"
    }
   },
   "id": "eb29a284355624ba"
  },
  {
   "cell_type": "code",
   "execution_count": 11,
   "outputs": [
    {
     "data": {
      "text/plain": "{'whiskers': [<matplotlib.lines.Line2D at 0x168cacb20>,\n  <matplotlib.lines.Line2D at 0x168cacdc0>],\n 'caps': [<matplotlib.lines.Line2D at 0x168cbe0a0>,\n  <matplotlib.lines.Line2D at 0x168cbe340>],\n 'boxes': [<matplotlib.lines.Line2D at 0x168cac880>],\n 'medians': [<matplotlib.lines.Line2D at 0x168cbe5e0>],\n 'fliers': [<matplotlib.lines.Line2D at 0x168cbe880>],\n 'means': []}"
     },
     "execution_count": 11,
     "metadata": {},
     "output_type": "execute_result"
    },
    {
     "data": {
      "text/plain": "<Figure size 640x480 with 1 Axes>",
      "image/png": "[encoded data removed]"
     },
     "metadata": {},
     "output_type": "display_data"
    }
   ],
   "source": [
    "# check for outliers\n",
    "plt.boxplot(df['Quantity Sold (kilo)'])"
   ],
   "metadata": {
    "collapsed": false,
    "ExecuteTime": {
     "end_time": "2023-12-09T09:14:04.886063Z",
     "start_time": "2023-12-09T09:14:04.772527Z"
    }
   },
   "id": "b444363ca8321163"
  },
  {
   "cell_type": "code",
   "execution_count": 12,
   "outputs": [
    {
     "data": {
      "text/plain": "True"
     },
     "execution_count": 12,
     "metadata": {},
     "output_type": "execute_result"
    }
   ],
   "source": [
    "# check the - values of sold amount are returned values\n",
    "(df['Quantity Sold (kilo)'] < 0).sum() == (df['Sale or Return'] == 'return').sum()"
   ],
   "metadata": {
    "collapsed": false,
    "ExecuteTime": {
     "end_time": "2023-12-09T09:14:04.898101Z",
     "start_time": "2023-12-09T09:14:04.857706Z"
    }
   },
   "id": "42a066f23ea24a77"
  },
  {
   "cell_type": "code",
   "execution_count": 13,
   "outputs": [
    {
     "name": "stdout",
     "output_type": "stream",
     "text": [
      "<class 'pandas.core.frame.DataFrame'>\n",
      "Index: 736947 entries, 0 to 737336\n",
      "Data columns (total 5 columns):\n",
      " #   Column                       Non-Null Count   Dtype  \n",
      "---  ------                       --------------   -----  \n",
      " 0   Item Name                    736947 non-null  object \n",
      " 1   Category Name                736947 non-null  object \n",
      " 2   Date                         736947 non-null  object \n",
      " 3   Quantity Sold (kilo)         736947 non-null  float64\n",
      " 4   Unit Selling Price (RMB/kg)  736947 non-null  float64\n",
      "dtypes: float64(2), object(3)\n",
      "memory usage: 33.7+ MB\n"
     ]
    }
   ],
   "source": [
    "# remove non-dependent values for the prediction\n",
    "df = df[~(df['Sale or Return'] == 'return')]\n",
    "df = df.drop(columns=['Sale or Return', 'Discount (Yes/No)'])\n",
    "df.info()"
   ],
   "metadata": {
    "collapsed": false,
    "ExecuteTime": {
     "end_time": "2023-12-09T09:14:05.008677Z",
     "start_time": "2023-12-09T09:14:04.912936Z"
    }
   },
   "id": "65d3e52541ebdaae"
  },
  {
   "cell_type": "code",
   "execution_count": 14,
   "outputs": [
    {
     "data": {
      "text/plain": "0.5004181643998823"
     },
     "execution_count": 14,
     "metadata": {},
     "output_type": "execute_result"
    }
   ],
   "source": [
    "np.mean(df['Quantity Sold (kilo)'])"
   ],
   "metadata": {
    "collapsed": false,
    "ExecuteTime": {
     "end_time": "2023-12-09T09:14:05.017891Z",
     "start_time": "2023-12-09T09:14:05.010991Z"
    }
   },
   "id": "aaa3ae7d78f649f0"
  },
  {
   "cell_type": "code",
   "execution_count": 15,
   "outputs": [],
   "source": [
    "# round up sold amount to first decimal place\n",
    "df['Quantity Sold (kilo)'] = round(df['Quantity Sold (kilo)'], 1)"
   ],
   "metadata": {
    "collapsed": false,
    "ExecuteTime": {
     "end_time": "2023-12-09T09:14:05.022808Z",
     "start_time": "2023-12-09T09:14:05.016339Z"
    }
   },
   "id": "e6e29411b08234be"
  },
  {
   "cell_type": "code",
   "execution_count": 16,
   "outputs": [
    {
     "data": {
      "text/plain": "0.5024228336637506"
     },
     "execution_count": 16,
     "metadata": {},
     "output_type": "execute_result"
    }
   ],
   "source": [
    "# check the change of mean\n",
    "np.mean(df['Quantity Sold (kilo)'])"
   ],
   "metadata": {
    "collapsed": false,
    "ExecuteTime": {
     "end_time": "2023-12-09T09:14:05.055170Z",
     "start_time": "2023-12-09T09:14:05.022898Z"
    }
   },
   "id": "dc223e88042bb16f"
  },
  {
   "cell_type": "code",
   "execution_count": 17,
   "outputs": [
    {
     "data": {
      "text/plain": "('2020-07-01', '2023-06-30')"
     },
     "execution_count": 17,
     "metadata": {},
     "output_type": "execute_result"
    }
   ],
   "source": [
    "# check date range\n",
    "df['Date'].min(), df['Date'].max()"
   ],
   "metadata": {
    "collapsed": false,
    "ExecuteTime": {
     "end_time": "2023-12-09T09:14:05.083659Z",
     "start_time": "2023-12-09T09:14:05.029270Z"
    }
   },
   "id": "43c63ea454cc17d4"
  },
  {
   "cell_type": "code",
   "execution_count": 18,
   "outputs": [
    {
     "data": {
      "text/plain": "(475174, 5)"
     },
     "execution_count": 18,
     "metadata": {},
     "output_type": "execute_result"
    }
   ],
   "source": [
    "# select 2 year range of data\n",
    "df = df[(df['Date'] >= '2021-01-01') & (df['Date'] <= '2022-12-31')]\n",
    "df.shape"
   ],
   "metadata": {
    "collapsed": false,
    "ExecuteTime": {
     "end_time": "2023-12-09T09:14:05.128498Z",
     "start_time": "2023-12-09T09:14:05.107748Z"
    }
   },
   "id": "8550f27cab44a7fa"
  },
  {
   "cell_type": "code",
   "execution_count": 19,
   "outputs": [
    {
     "data": {
      "text/plain": "                Item Name           Category Name        Date  \\\n159706  Green Hot Peppers                Capsicum  2021-01-01   \n159707  Green Hot Peppers                Capsicum  2021-01-01   \n159708    Yunnan Lettuces  Flower/Leaf Vegetables  2021-01-01   \n159709    Xixia Mushroom          Edible Mushroom  2021-01-01   \n159710        Paopaojiao                 Capsicum  2021-01-01   \n\n        Quantity Sold (kilo)  Unit Selling Price (RMB/kg)  \n159706                   1.1                         25.8  \n159707                   0.6                         25.8  \n159708                   0.5                          6.0  \n159709                   0.4                         18.0  \n159710                   0.6                         18.0  ",
      "text/html": "<div>\n<style scoped>\n    .dataframe tbody tr th:only-of-type {\n        vertical-align: middle;\n    }\n\n    .dataframe tbody tr th {\n        vertical-align: top;\n    }\n\n    .dataframe thead th {\n        text-align: right;\n    }\n</style>\n<table border=\"1\" class=\"dataframe\">\n  <thead>\n    <tr style=\"text-align: right;\">\n      <th></th>\n      <th>Item Name</th>\n      <th>Category Name</th>\n      <th>Date</th>\n      <th>Quantity Sold (kilo)</th>\n      <th>Unit Selling Price (RMB/kg)</th>\n    </tr>\n  </thead>\n  <tbody>\n    <tr>\n      <th>159706</th>\n      <td>Green Hot Peppers</td>\n      <td>Capsicum</td>\n      <td>2021-01-01</td>\n      <td>1.1</td>\n      <td>25.8</td>\n    </tr>\n    <tr>\n      <th>159707</th>\n      <td>Green Hot Peppers</td>\n      <td>Capsicum</td>\n      <td>2021-01-01</td>\n      <td>0.6</td>\n      <td>25.8</td>\n    </tr>\n    <tr>\n      <th>159708</th>\n      <td>Yunnan Lettuces</td>\n      <td>Flower/Leaf Vegetables</td>\n      <td>2021-01-01</td>\n      <td>0.5</td>\n      <td>6.0</td>\n    </tr>\n    <tr>\n      <th>159709</th>\n      <td>Xixia Mushroom</td>\n      <td>Edible Mushroom</td>\n      <td>2021-01-01</td>\n      <td>0.4</td>\n      <td>18.0</td>\n    </tr>\n    <tr>\n      <th>159710</th>\n      <td>Paopaojiao</td>\n      <td>Capsicum</td>\n      <td>2021-01-01</td>\n      <td>0.6</td>\n      <td>18.0</td>\n    </tr>\n  </tbody>\n</table>\n</div>"
     },
     "execution_count": 19,
     "metadata": {},
     "output_type": "execute_result"
    }
   ],
   "source": [
    "df.head()"
   ],
   "metadata": {
    "collapsed": false,
    "ExecuteTime": {
     "end_time": "2023-12-09T09:14:05.132818Z",
     "start_time": "2023-12-09T09:14:05.129600Z"
    }
   },
   "id": "d27c3789deeadd6f"
  },
  {
   "cell_type": "code",
   "execution_count": 20,
   "outputs": [
    {
     "data": {
      "text/plain": "          Item Name Category Name        Date  Quantity Sold (kilo)  \\\n0  7 Colour Pepper       Capsicum  2021-01-01                0.3875   \n1  7 Colour Pepper       Capsicum  2021-01-02                0.4250   \n2  7 Colour Pepper       Capsicum  2021-01-03                0.5000   \n3  7 Colour Pepper       Capsicum  2021-01-04                0.5000   \n4  7 Colour Pepper       Capsicum  2021-01-05                0.3500   \n\n   Unit Selling Price (RMB/kg)  \n0                         18.0  \n1                         19.8  \n2                         19.8  \n3                         19.8  \n4                         19.8  ",
      "text/html": "<div>\n<style scoped>\n    .dataframe tbody tr th:only-of-type {\n        vertical-align: middle;\n    }\n\n    .dataframe tbody tr th {\n        vertical-align: top;\n    }\n\n    .dataframe thead th {\n        text-align: right;\n    }\n</style>\n<table border=\"1\" class=\"dataframe\">\n  <thead>\n    <tr style=\"text-align: right;\">\n      <th></th>\n      <th>Item Name</th>\n      <th>Category Name</th>\n      <th>Date</th>\n      <th>Quantity Sold (kilo)</th>\n      <th>Unit Selling Price (RMB/kg)</th>\n    </tr>\n  </thead>\n  <tbody>\n    <tr>\n      <th>0</th>\n      <td>7 Colour Pepper</td>\n      <td>Capsicum</td>\n      <td>2021-01-01</td>\n      <td>0.3875</td>\n      <td>18.0</td>\n    </tr>\n    <tr>\n      <th>1</th>\n      <td>7 Colour Pepper</td>\n      <td>Capsicum</td>\n      <td>2021-01-02</td>\n      <td>0.4250</td>\n      <td>19.8</td>\n    </tr>\n    <tr>\n      <th>2</th>\n      <td>7 Colour Pepper</td>\n      <td>Capsicum</td>\n      <td>2021-01-03</td>\n      <td>0.5000</td>\n      <td>19.8</td>\n    </tr>\n    <tr>\n      <th>3</th>\n      <td>7 Colour Pepper</td>\n      <td>Capsicum</td>\n      <td>2021-01-04</td>\n      <td>0.5000</td>\n      <td>19.8</td>\n    </tr>\n    <tr>\n      <th>4</th>\n      <td>7 Colour Pepper</td>\n      <td>Capsicum</td>\n      <td>2021-01-05</td>\n      <td>0.3500</td>\n      <td>19.8</td>\n    </tr>\n  </tbody>\n</table>\n</div>"
     },
     "execution_count": 20,
     "metadata": {},
     "output_type": "execute_result"
    }
   ],
   "source": [
    "# group dataset by item name, category and date\n",
    "df = df.groupby(['Item Name', 'Category Name', 'Date']).mean().reset_index()\n",
    "df.head()"
   ],
   "metadata": {
    "collapsed": false,
    "ExecuteTime": {
     "end_time": "2023-12-09T09:14:05.205270Z",
     "start_time": "2023-12-09T09:14:05.134878Z"
    }
   },
   "id": "67d2d966cc0edb6d"
  },
  {
   "cell_type": "code",
   "execution_count": 21,
   "outputs": [
    {
     "data": {
      "text/plain": "{'whiskers': [<matplotlib.lines.Line2D at 0x168d4e2b0>,\n  <matplotlib.lines.Line2D at 0x168d4e550>],\n 'caps': [<matplotlib.lines.Line2D at 0x168d4e7f0>,\n  <matplotlib.lines.Line2D at 0x168d4ea90>],\n 'boxes': [<matplotlib.lines.Line2D at 0x168d3efd0>],\n 'medians': [<matplotlib.lines.Line2D at 0x168d4ed30>],\n 'fliers': [<matplotlib.lines.Line2D at 0x168d4efd0>],\n 'means': []}"
     },
     "execution_count": 21,
     "metadata": {},
     "output_type": "execute_result"
    },
    {
     "data": {
      "text/plain": "<Figure size 640x480 with 1 Axes>",
      "image/png": "[encoded data removed]"
     },
     "metadata": {},
     "output_type": "display_data"
    }
   ],
   "source": [
    "# check for sold amount outliers\n",
    "plt.boxplot(df['Quantity Sold (kilo)'])"
   ],
   "metadata": {
    "collapsed": false,
    "ExecuteTime": {
     "end_time": "2023-12-09T09:14:05.280126Z",
     "start_time": "2023-12-09T09:14:05.215615Z"
    }
   },
   "id": "20300c0025e2d34f"
  },
  {
   "cell_type": "code",
   "execution_count": 22,
   "outputs": [
    {
     "data": {
      "text/plain": "(1, 0)"
     },
     "execution_count": 22,
     "metadata": {},
     "output_type": "execute_result"
    }
   ],
   "source": [
    "(df['Quantity Sold (kilo)'] > 20).sum(), (df['Quantity Sold (kilo)'] < 0).sum()"
   ],
   "metadata": {
    "collapsed": false,
    "ExecuteTime": {
     "end_time": "2023-12-09T09:14:05.282528Z",
     "start_time": "2023-12-09T09:14:05.273255Z"
    }
   },
   "id": "757cf7f1321f7a3f"
  },
  {
   "cell_type": "code",
   "execution_count": 23,
   "outputs": [
    {
     "data": {
      "text/plain": "0.5431013179613663"
     },
     "execution_count": 23,
     "metadata": {},
     "output_type": "execute_result"
    }
   ],
   "source": [
    "np.mean(df['Quantity Sold (kilo)'])"
   ],
   "metadata": {
    "collapsed": false,
    "ExecuteTime": {
     "end_time": "2023-12-09T09:14:05.291400Z",
     "start_time": "2023-12-09T09:14:05.283185Z"
    }
   },
   "id": "4048cb90c60510a8"
  },
  {
   "cell_type": "code",
   "execution_count": 24,
   "outputs": [
    {
     "data": {
      "text/plain": "(0.5368647371305606, 9.6)"
     },
     "execution_count": 24,
     "metadata": {},
     "output_type": "execute_result"
    }
   ],
   "source": [
    "# handle outliers with mean values\n",
    "df['Quantity Sold (kilo)'] = np.where(df['Quantity Sold (kilo)'] > 20, np.mean(df['Quantity Sold (kilo)']), df['Quantity Sold (kilo)'])\n",
    "np.mean(df['Quantity Sold (kilo)']), df['Quantity Sold (kilo)'].max()"
   ],
   "metadata": {
    "collapsed": false,
    "ExecuteTime": {
     "end_time": "2023-12-09T09:14:05.297295Z",
     "start_time": "2023-12-09T09:14:05.291486Z"
    }
   },
   "id": "cc1cb06ec5ec4912"
  },
  {
   "cell_type": "code",
   "execution_count": 25,
   "outputs": [
    {
     "data": {
      "text/plain": "{'whiskers': [<matplotlib.lines.Line2D at 0x168dc8220>,\n  <matplotlib.lines.Line2D at 0x168dc84c0>],\n 'caps': [<matplotlib.lines.Line2D at 0x168dc8760>,\n  <matplotlib.lines.Line2D at 0x168dc8a00>],\n 'boxes': [<matplotlib.lines.Line2D at 0x128d79af0>],\n 'medians': [<matplotlib.lines.Line2D at 0x168dc8ca0>],\n 'fliers': [<matplotlib.lines.Line2D at 0x168dc8f40>],\n 'means': []}"
     },
     "execution_count": 25,
     "metadata": {},
     "output_type": "execute_result"
    },
    {
     "data": {
      "text/plain": "<Figure size 640x480 with 1 Axes>",
      "image/png": "[encoded data removed]"
     },
     "metadata": {},
     "output_type": "display_data"
    }
   ],
   "source": [
    "# visualise processed sold amount\n",
    "plt.boxplot(df['Quantity Sold (kilo)'])"
   ],
   "metadata": {
    "collapsed": false,
    "ExecuteTime": {
     "end_time": "2023-12-09T09:14:05.357288Z",
     "start_time": "2023-12-09T09:14:05.303113Z"
    }
   },
   "id": "fe9bf999d2642111"
  },
  {
   "cell_type": "code",
   "execution_count": 26,
   "outputs": [
    {
     "data": {
      "text/plain": "{'whiskers': [<matplotlib.lines.Line2D at 0x168e36550>,\n  <matplotlib.lines.Line2D at 0x168e367f0>],\n 'caps': [<matplotlib.lines.Line2D at 0x168e36a90>,\n  <matplotlib.lines.Line2D at 0x168e36d30>],\n 'boxes': [<matplotlib.lines.Line2D at 0x168e362b0>],\n 'medians': [<matplotlib.lines.Line2D at 0x168e36fd0>],\n 'fliers': [<matplotlib.lines.Line2D at 0x168e442b0>],\n 'means': []}"
     },
     "execution_count": 26,
     "metadata": {},
     "output_type": "execute_result"
    },
    {
     "data": {
      "text/plain": "<Figure size 640x480 with 1 Axes>",
      "image/png": "[encoded data removed]"
     },
     "metadata": {},
     "output_type": "display_data"
    }
   ],
   "source": [
    "plt.boxplot(df['Unit Selling Price (RMB/kg)'])"
   ],
   "metadata": {
    "collapsed": false,
    "ExecuteTime": {
     "end_time": "2023-12-09T09:14:05.412039Z",
     "start_time": "2023-12-09T09:14:05.357924Z"
    }
   },
   "id": "a5776594d650c2a4"
  },
  {
   "cell_type": "code",
   "execution_count": 27,
   "outputs": [
    {
     "data": {
      "text/plain": "                Item Name Category Name        Date  Quantity Sold (kilo)  \\\n16758         Red Pepper       Capsicum  2021-10-09                 0.225   \n6899    Green Line Pepper      Capsicum  2021-07-20                 0.120   \n5949   Green Hang Pepper       Capsicum  2022-07-27                 1.000   \n\n       Unit Selling Price (RMB/kg)  \n16758                         12.0  \n6899                           6.0  \n5949                           2.9  ",
      "text/html": "<div>\n<style scoped>\n    .dataframe tbody tr th:only-of-type {\n        vertical-align: middle;\n    }\n\n    .dataframe tbody tr th {\n        vertical-align: top;\n    }\n\n    .dataframe thead th {\n        text-align: right;\n    }\n</style>\n<table border=\"1\" class=\"dataframe\">\n  <thead>\n    <tr style=\"text-align: right;\">\n      <th></th>\n      <th>Item Name</th>\n      <th>Category Name</th>\n      <th>Date</th>\n      <th>Quantity Sold (kilo)</th>\n      <th>Unit Selling Price (RMB/kg)</th>\n    </tr>\n  </thead>\n  <tbody>\n    <tr>\n      <th>16758</th>\n      <td>Red Pepper</td>\n      <td>Capsicum</td>\n      <td>2021-10-09</td>\n      <td>0.225</td>\n      <td>12.0</td>\n    </tr>\n    <tr>\n      <th>6899</th>\n      <td>Green Line Pepper</td>\n      <td>Capsicum</td>\n      <td>2021-07-20</td>\n      <td>0.120</td>\n      <td>6.0</td>\n    </tr>\n    <tr>\n      <th>5949</th>\n      <td>Green Hang Pepper</td>\n      <td>Capsicum</td>\n      <td>2022-07-27</td>\n      <td>1.000</td>\n      <td>2.9</td>\n    </tr>\n  </tbody>\n</table>\n</div>"
     },
     "execution_count": 27,
     "metadata": {},
     "output_type": "execute_result"
    }
   ],
   "source": [
    "df.sample(3)"
   ],
   "metadata": {
    "collapsed": false,
    "ExecuteTime": {
     "end_time": "2023-12-09T09:14:05.419641Z",
     "start_time": "2023-12-09T09:14:05.411093Z"
    }
   },
   "id": "98226327bf9b4d04"
  },
  {
   "cell_type": "code",
   "execution_count": 28,
   "outputs": [],
   "source": [
    "# drop non-dependent columns\n",
    "df = df.drop(columns='Date')"
   ],
   "metadata": {
    "collapsed": false,
    "ExecuteTime": {
     "end_time": "2023-12-09T09:14:05.419764Z",
     "start_time": "2023-12-09T09:14:05.416860Z"
    }
   },
   "id": "8e0fd0c9de3aded9"
  },
  {
   "cell_type": "code",
   "execution_count": 29,
   "outputs": [
    {
     "data": {
      "text/plain": "                             Quantity Sold (kilo)  Unit Selling Price (RMB/kg)\nQuantity Sold (kilo)                     1.000000                    -0.414973\nUnit Selling Price (RMB/kg)             -0.414973                     1.000000",
      "text/html": "<div>\n<style scoped>\n    .dataframe tbody tr th:only-of-type {\n        vertical-align: middle;\n    }\n\n    .dataframe tbody tr th {\n        vertical-align: top;\n    }\n\n    .dataframe thead th {\n        text-align: right;\n    }\n</style>\n<table border=\"1\" class=\"dataframe\">\n  <thead>\n    <tr style=\"text-align: right;\">\n      <th></th>\n      <th>Quantity Sold (kilo)</th>\n      <th>Unit Selling Price (RMB/kg)</th>\n    </tr>\n  </thead>\n  <tbody>\n    <tr>\n      <th>Quantity Sold (kilo)</th>\n      <td>1.000000</td>\n      <td>-0.414973</td>\n    </tr>\n    <tr>\n      <th>Unit Selling Price (RMB/kg)</th>\n      <td>-0.414973</td>\n      <td>1.000000</td>\n    </tr>\n  </tbody>\n</table>\n</div>"
     },
     "execution_count": 29,
     "metadata": {},
     "output_type": "execute_result"
    }
   ],
   "source": [
    "# view co-relation between price and sold amount\n",
    "df.iloc[:,[2, 3]].corr()"
   ],
   "metadata": {
    "collapsed": false,
    "ExecuteTime": {
     "end_time": "2023-12-09T09:14:05.472026Z",
     "start_time": "2023-12-09T09:14:05.421369Z"
    }
   },
   "id": "6e35fe96e66f4f61"
  },
  {
   "cell_type": "code",
   "execution_count": 30,
   "outputs": [
    {
     "data": {
      "text/plain": "(25568, 185)"
     },
     "execution_count": 30,
     "metadata": {},
     "output_type": "execute_result"
    }
   ],
   "source": [
    "# one hot encoding\n",
    "df = pd.get_dummies(df)\n",
    "df.shape"
   ],
   "metadata": {
    "collapsed": false,
    "ExecuteTime": {
     "end_time": "2023-12-09T09:14:05.472408Z",
     "start_time": "2023-12-09T09:14:05.428541Z"
    }
   },
   "id": "15273275e4ecaf43"
  },
  {
   "cell_type": "code",
   "execution_count": 31,
   "outputs": [
    {
     "data": {
      "text/plain": "       Quantity Sold (kilo)  Unit Selling Price (RMB/kg)  \\\n24318              0.510870                          6.0   \n21305              0.377778                          4.0   \n623                0.390909                         12.0   \n14741              1.276471                          3.0   \n5825               0.925000                          3.0   \n\n       Item Name_7 Colour Pepper   Item Name_Agaricus Bisporus   \\\n24318                       False                         False   \n21305                       False                         False   \n623                         False                         False   \n14741                       False                         False   \n5825                        False                         False   \n\n       Item Name_Aihao  Item Name_Amaranth  Item Name_Amaranth   \\\n24318            False               False                False   \n21305            False               False                False   \n623              False               False                False   \n14741            False               False                False   \n5825             False               False                False   \n\n       Item Name_Apricot Bao Mushroom   Item Name_Basil   \\\n24318                            False             False   \n21305                            False             False   \n623                               True             False   \n14741                            False             False   \n5825                             False             False   \n\n       Item Name_Bell Pepper   ...  Item Name_Zhijiang Red Bolt   \\\n24318                   False  ...                         False   \n21305                   False  ...                         False   \n623                     False  ...                         False   \n14741                   False  ...                         False   \n5825                    False  ...                         False   \n\n       Item Name_Zhimaxiancai  Item Name_Zhuyecai  Item Name_Zhuyecai   \\\n24318                   False               False                False   \n21305                   False               False                False   \n623                     False               False                False   \n14741                   False               False                False   \n5825                    False               False                False   \n\n       Category Name_Aquatic Tuberous Vegetables  Category Name_Cabbage  \\\n24318                                      False                  False   \n21305                                      False                  False   \n623                                        False                  False   \n14741                                      False                  False   \n5825                                       False                  False   \n\n       Category Name_Capsicum  Category Name_Edible Mushroom  \\\n24318                   False                          False   \n21305                   False                          False   \n623                     False                           True   \n14741                   False                          False   \n5825                    False                          False   \n\n       Category Name_Flower/Leaf Vegetables  Category Name_Solanum  \n24318                                  True                  False  \n21305                                  True                  False  \n623                                   False                  False  \n14741                                  True                  False  \n5825                                  False                   True  \n\n[5 rows x 185 columns]",
      "text/html": "<div>\n<style scoped>\n    .dataframe tbody tr th:only-of-type {\n        vertical-align: middle;\n    }\n\n    .dataframe tbody tr th {\n        vertical-align: top;\n    }\n\n    .dataframe thead th {\n        text-align: right;\n    }\n</style>\n<table border=\"1\" class=\"dataframe\">\n  <thead>\n    <tr style=\"text-align: right;\">\n      <th></th>\n      <th>Quantity Sold (kilo)</th>\n      <th>Unit Selling Price (RMB/kg)</th>\n      <th>Item Name_7 Colour Pepper</th>\n      <th>Item Name_Agaricus Bisporus</th>\n      <th>Item Name_Aihao</th>\n      <th>Item Name_Amaranth</th>\n      <th>Item Name_Amaranth</th>\n      <th>Item Name_Apricot Bao Mushroom</th>\n      <th>Item Name_Basil</th>\n      <th>Item Name_Bell Pepper</th>\n      <th>...</th>\n      <th>Item Name_Zhijiang Red Bolt</th>\n      <th>Item Name_Zhimaxiancai</th>\n      <th>Item Name_Zhuyecai</th>\n      <th>Item Name_Zhuyecai</th>\n      <th>Category Name_Aquatic Tuberous Vegetables</th>\n      <th>Category Name_Cabbage</th>\n      <th>Category Name_Capsicum</th>\n      <th>Category Name_Edible Mushroom</th>\n      <th>Category Name_Flower/Leaf Vegetables</th>\n      <th>Category Name_Solanum</th>\n    </tr>\n  </thead>\n  <tbody>\n    <tr>\n      <th>24318</th>\n      <td>0.510870</td>\n      <td>6.0</td>\n      <td>False</td>\n      <td>False</td>\n      <td>False</td>\n      <td>False</td>\n      <td>False</td>\n      <td>False</td>\n      <td>False</td>\n      <td>False</td>\n      <td>...</td>\n      <td>False</td>\n      <td>False</td>\n      <td>False</td>\n      <td>False</td>\n      <td>False</td>\n      <td>False</td>\n      <td>False</td>\n      <td>False</td>\n      <td>True</td>\n      <td>False</td>\n    </tr>\n    <tr>\n      <th>21305</th>\n      <td>0.377778</td>\n      <td>4.0</td>\n      <td>False</td>\n      <td>False</td>\n      <td>False</td>\n      <td>False</td>\n      <td>False</td>\n      <td>False</td>\n      <td>False</td>\n      <td>False</td>\n      <td>...</td>\n      <td>False</td>\n      <td>False</td>\n      <td>False</td>\n      <td>False</td>\n      <td>False</td>\n      <td>False</td>\n      <td>False</td>\n      <td>False</td>\n      <td>True</td>\n      <td>False</td>\n    </tr>\n    <tr>\n      <th>623</th>\n      <td>0.390909</td>\n      <td>12.0</td>\n      <td>False</td>\n      <td>False</td>\n      <td>False</td>\n      <td>False</td>\n      <td>False</td>\n      <td>True</td>\n      <td>False</td>\n      <td>False</td>\n      <td>...</td>\n      <td>False</td>\n      <td>False</td>\n      <td>False</td>\n      <td>False</td>\n      <td>False</td>\n      <td>False</td>\n      <td>False</td>\n      <td>True</td>\n      <td>False</td>\n      <td>False</td>\n    </tr>\n    <tr>\n      <th>14741</th>\n      <td>1.276471</td>\n      <td>3.0</td>\n      <td>False</td>\n      <td>False</td>\n      <td>False</td>\n      <td>False</td>\n      <td>False</td>\n      <td>False</td>\n      <td>False</td>\n      <td>False</td>\n      <td>...</td>\n      <td>False</td>\n      <td>False</td>\n      <td>False</td>\n      <td>False</td>\n      <td>False</td>\n      <td>False</td>\n      <td>False</td>\n      <td>False</td>\n      <td>True</td>\n      <td>False</td>\n    </tr>\n    <tr>\n      <th>5825</th>\n      <td>0.925000</td>\n      <td>3.0</td>\n      <td>False</td>\n      <td>False</td>\n      <td>False</td>\n      <td>False</td>\n      <td>False</td>\n      <td>False</td>\n      <td>False</td>\n      <td>False</td>\n      <td>...</td>\n      <td>False</td>\n      <td>False</td>\n      <td>False</td>\n      <td>False</td>\n      <td>False</td>\n      <td>False</td>\n      <td>False</td>\n      <td>False</td>\n      <td>False</td>\n      <td>True</td>\n    </tr>\n  </tbody>\n</table>\n<p>5 rows × 185 columns</p>\n</div>"
     },
     "execution_count": 31,
     "metadata": {},
     "output_type": "execute_result"
    }
   ],
   "source": [
    "df.sample(5)"
   ],
   "metadata": {
    "collapsed": false,
    "ExecuteTime": {
     "end_time": "2023-12-09T09:14:05.499158Z",
     "start_time": "2023-12-09T09:14:05.453275Z"
    }
   },
   "id": "962f3677d7a76cc8"
  },
  {
   "cell_type": "code",
   "execution_count": 32,
   "outputs": [],
   "source": [
    "# save pre-processed dataset\n",
    "df.to_csv(\"/Users/rumethsandinu/Study/Assessments/Year 2/DSGP/Datasets/pre_processed_dataset.csv\", index=False)"
   ],
   "metadata": {
    "collapsed": false,
    "ExecuteTime": {
     "end_time": "2023-12-09T09:14:06.062372Z",
     "start_time": "2023-12-09T09:14:05.456242Z"
    }
   },
   "id": "f319078b1df017a3"
  }
 ],
 "metadata": {
  "kernelspec": {
   "display_name": "Python 3",
   "language": "python",
   "name": "python3"
  },
  "language_info": {
   "codemirror_mode": {
    "name": "ipython",
    "version": 2
   },
   "file_extension": ".py",
   "mimetype": "text/x-python",
   "name": "python",
   "nbconvert_exporter": "python",
   "pygments_lexer": "ipython2",
   "version": "2.7.6"
  }
 },
 "nbformat": 4,
 "nbformat_minor": 5
}
