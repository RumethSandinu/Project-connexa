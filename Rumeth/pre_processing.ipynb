{
 "cells": [
  {
   "cell_type": "code",
   "execution_count": 1,
   "id": "initial_id",
   "metadata": {
    "collapsed": true,
    "ExecuteTime": {
     "end_time": "2023-12-03T15:51:43.084479Z",
     "start_time": "2023-12-03T15:51:42.538144Z"
    }
   },
   "outputs": [],
   "source": [
    "import pandas as pd\n",
    "import matplotlib.pyplot as plt\n",
    "import numpy as np"
   ]
  },
  {
   "cell_type": "code",
   "execution_count": 2,
   "outputs": [
    {
     "data": {
      "text/plain": "                 Item Name           Category Name  Quantity Sold (kilo)  \\\n560925     Xixia Mushroom          Edible Mushroom                 0.335   \n433808             Spinach  Flower/Leaf Vegetables                 0.226   \n676917  Wuhu Green Pepper                 Capsicum                 0.332   \n277384  Wuhu Green Pepper                 Capsicum                 0.360   \n122539         Paopaojiao                 Capsicum                 0.535   \n\n        Unit Selling Price (RMB/kg) Sale or Return Discount (Yes/No)  \n560925                         23.6           sale                No  \n433808                          8.0           sale                No  \n676917                         16.0           sale                No  \n277384                          2.8           sale                No  \n122539                          6.0           sale                No  ",
      "text/html": "<div>\n<style scoped>\n    .dataframe tbody tr th:only-of-type {\n        vertical-align: middle;\n    }\n\n    .dataframe tbody tr th {\n        vertical-align: top;\n    }\n\n    .dataframe thead th {\n        text-align: right;\n    }\n</style>\n<table border=\"1\" class=\"dataframe\">\n  <thead>\n    <tr style=\"text-align: right;\">\n      <th></th>\n      <th>Item Name</th>\n      <th>Category Name</th>\n      <th>Quantity Sold (kilo)</th>\n      <th>Unit Selling Price (RMB/kg)</th>\n      <th>Sale or Return</th>\n      <th>Discount (Yes/No)</th>\n    </tr>\n  </thead>\n  <tbody>\n    <tr>\n      <th>560925</th>\n      <td>Xixia Mushroom</td>\n      <td>Edible Mushroom</td>\n      <td>0.335</td>\n      <td>23.6</td>\n      <td>sale</td>\n      <td>No</td>\n    </tr>\n    <tr>\n      <th>433808</th>\n      <td>Spinach</td>\n      <td>Flower/Leaf Vegetables</td>\n      <td>0.226</td>\n      <td>8.0</td>\n      <td>sale</td>\n      <td>No</td>\n    </tr>\n    <tr>\n      <th>676917</th>\n      <td>Wuhu Green Pepper</td>\n      <td>Capsicum</td>\n      <td>0.332</td>\n      <td>16.0</td>\n      <td>sale</td>\n      <td>No</td>\n    </tr>\n    <tr>\n      <th>277384</th>\n      <td>Wuhu Green Pepper</td>\n      <td>Capsicum</td>\n      <td>0.360</td>\n      <td>2.8</td>\n      <td>sale</td>\n      <td>No</td>\n    </tr>\n    <tr>\n      <th>122539</th>\n      <td>Paopaojiao</td>\n      <td>Capsicum</td>\n      <td>0.535</td>\n      <td>6.0</td>\n      <td>sale</td>\n      <td>No</td>\n    </tr>\n  </tbody>\n</table>\n</div>"
     },
     "execution_count": 2,
     "metadata": {},
     "output_type": "execute_result"
    }
   ],
   "source": [
    "df = pd.read_csv('/Users/rumethsandinu/Study/Assessments/Year 2/DSGP/Datasets/built_dataset.csv')\n",
    "df.sample(5)"
   ],
   "metadata": {
    "collapsed": false,
    "ExecuteTime": {
     "end_time": "2023-12-03T15:51:43.403498Z",
     "start_time": "2023-12-03T15:51:43.086245Z"
    }
   },
   "id": "e41d64e95fe0ae04"
  },
  {
   "cell_type": "code",
   "execution_count": 3,
   "outputs": [
    {
     "name": "stdout",
     "output_type": "stream",
     "text": [
      "<class 'pandas.core.frame.DataFrame'>\n",
      "RangeIndex: 737337 entries, 0 to 737336\n",
      "Data columns (total 6 columns):\n",
      " #   Column                       Non-Null Count   Dtype  \n",
      "---  ------                       --------------   -----  \n",
      " 0   Item Name                    737337 non-null  object \n",
      " 1   Category Name                737337 non-null  object \n",
      " 2   Quantity Sold (kilo)         737337 non-null  float64\n",
      " 3   Unit Selling Price (RMB/kg)  737337 non-null  float64\n",
      " 4   Sale or Return               737337 non-null  object \n",
      " 5   Discount (Yes/No)            737337 non-null  object \n",
      "dtypes: float64(2), object(4)\n",
      "memory usage: 33.8+ MB\n"
     ]
    }
   ],
   "source": [
    "df.info()"
   ],
   "metadata": {
    "collapsed": false,
    "ExecuteTime": {
     "end_time": "2023-12-03T15:51:43.487672Z",
     "start_time": "2023-12-03T15:51:43.402003Z"
    }
   },
   "id": "f87731553be14d33"
  },
  {
   "cell_type": "code",
   "execution_count": 4,
   "outputs": [
    {
     "data": {
      "text/plain": "3860.4031413612565"
     },
     "execution_count": 4,
     "metadata": {},
     "output_type": "execute_result"
    }
   ],
   "source": [
    "np.average(df['Item Name'].value_counts())"
   ],
   "metadata": {
    "collapsed": false,
    "ExecuteTime": {
     "end_time": "2023-12-03T15:51:43.525759Z",
     "start_time": "2023-12-03T15:51:43.506031Z"
    }
   },
   "id": "264f8705566cfaca"
  },
  {
   "cell_type": "code",
   "execution_count": 5,
   "outputs": [
    {
     "data": {
      "text/plain": "{'whiskers': [<matplotlib.lines.Line2D at 0x10fa13820>,\n  <matplotlib.lines.Line2D at 0x10fa13ac0>],\n 'caps': [<matplotlib.lines.Line2D at 0x10fa13d60>,\n  <matplotlib.lines.Line2D at 0x10fa33040>],\n 'boxes': [<matplotlib.lines.Line2D at 0x10fa13580>],\n 'medians': [<matplotlib.lines.Line2D at 0x10fa332e0>],\n 'fliers': [<matplotlib.lines.Line2D at 0x10fa33580>],\n 'means': []}"
     },
     "execution_count": 5,
     "metadata": {},
     "output_type": "execute_result"
    },
    {
     "data": {
      "text/plain": "<Figure size 640x480 with 1 Axes>",
      "image/png": "[encoded data removed]"
     },
     "metadata": {},
     "output_type": "display_data"
    }
   ],
   "source": [
    "plt.boxplot(df['Item Name'].value_counts())"
   ],
   "metadata": {
    "collapsed": false,
    "ExecuteTime": {
     "end_time": "2023-12-03T15:51:43.605433Z",
     "start_time": "2023-12-03T15:51:43.536091Z"
    }
   },
   "id": "9bf61da1d11fc886"
  },
  {
   "cell_type": "code",
   "execution_count": 6,
   "outputs": [
    {
     "data": {
      "text/plain": "122889.5"
     },
     "execution_count": 6,
     "metadata": {},
     "output_type": "execute_result"
    }
   ],
   "source": [
    "np.average(df['Category Name'].value_counts())"
   ],
   "metadata": {
    "collapsed": false,
    "ExecuteTime": {
     "end_time": "2023-12-03T15:51:43.653358Z",
     "start_time": "2023-12-03T15:51:43.630716Z"
    }
   },
   "id": "ddc1c501c2e9d82e"
  },
  {
   "cell_type": "code",
   "execution_count": 7,
   "outputs": [
    {
     "data": {
      "text/plain": "{'whiskers': [<matplotlib.lines.Line2D at 0x10faf84f0>,\n  <matplotlib.lines.Line2D at 0x10faf87c0>],\n 'caps': [<matplotlib.lines.Line2D at 0x10faf8a60>,\n  <matplotlib.lines.Line2D at 0x10faf8d00>],\n 'boxes': [<matplotlib.lines.Line2D at 0x10faf8250>],\n 'medians': [<matplotlib.lines.Line2D at 0x10faf8fa0>],\n 'fliers': [<matplotlib.lines.Line2D at 0x10fc05280>],\n 'means': []}"
     },
     "execution_count": 7,
     "metadata": {},
     "output_type": "execute_result"
    },
    {
     "data": {
      "text/plain": "<Figure size 640x480 with 1 Axes>",
      "image/png": "[encoded data removed]"
     },
     "metadata": {},
     "output_type": "display_data"
    }
   ],
   "source": [
    "plt.boxplot(df['Category Name'].value_counts())"
   ],
   "metadata": {
    "collapsed": false,
    "ExecuteTime": {
     "end_time": "2023-12-03T15:51:43.774929Z",
     "start_time": "2023-12-03T15:51:43.638171Z"
    }
   },
   "id": "43281ceff9693e7c"
  },
  {
   "cell_type": "code",
   "execution_count": 8,
   "outputs": [
    {
     "data": {
      "text/plain": "{'whiskers': [<matplotlib.lines.Line2D at 0x10fc65220>,\n  <matplotlib.lines.Line2D at 0x10fc654c0>],\n 'caps': [<matplotlib.lines.Line2D at 0x10fc65760>,\n  <matplotlib.lines.Line2D at 0x10fc65a00>],\n 'boxes': [<matplotlib.lines.Line2D at 0x10fc57f40>],\n 'medians': [<matplotlib.lines.Line2D at 0x10fc65ca0>],\n 'fliers': [<matplotlib.lines.Line2D at 0x10fc65f40>],\n 'means': []}"
     },
     "execution_count": 8,
     "metadata": {},
     "output_type": "execute_result"
    },
    {
     "data": {
      "text/plain": "<Figure size 640x480 with 1 Axes>",
      "image/png": "[encoded data removed]"
     },
     "metadata": {},
     "output_type": "display_data"
    }
   ],
   "source": [
    "plt.boxplot(df['Quantity Sold (kilo)'])"
   ],
   "metadata": {
    "collapsed": false,
    "ExecuteTime": {
     "end_time": "2023-12-03T15:51:43.918079Z",
     "start_time": "2023-12-03T15:51:43.771418Z"
    }
   },
   "id": "b444363ca8321163"
  },
  {
   "cell_type": "code",
   "execution_count": 9,
   "outputs": [
    {
     "data": {
      "text/plain": "1"
     },
     "execution_count": 9,
     "metadata": {},
     "output_type": "execute_result"
    }
   ],
   "source": [
    "(df['Quantity Sold (kilo)'] > 50).sum()"
   ],
   "metadata": {
    "collapsed": false,
    "ExecuteTime": {
     "end_time": "2023-12-03T15:51:43.918545Z",
     "start_time": "2023-12-03T15:51:43.894539Z"
    }
   },
   "id": "757cf7f1321f7a3f"
  },
  {
   "cell_type": "code",
   "execution_count": 10,
   "outputs": [
    {
     "data": {
      "text/plain": "0.999471069538081"
     },
     "execution_count": 10,
     "metadata": {},
     "output_type": "execute_result"
    }
   ],
   "source": [
    "np.mean(df['Quantity Sold (kilo)'] > 0)"
   ],
   "metadata": {
    "collapsed": false,
    "ExecuteTime": {
     "end_time": "2023-12-03T15:51:43.918685Z",
     "start_time": "2023-12-03T15:51:43.905590Z"
    }
   },
   "id": "4048cb90c60510a8"
  },
  {
   "cell_type": "code",
   "execution_count": 11,
   "outputs": [
    {
     "data": {
      "text/plain": "(0.999471069538081, 17.0)"
     },
     "execution_count": 11,
     "metadata": {},
     "output_type": "execute_result"
    }
   ],
   "source": [
    "# condition, x, y\n",
    "df['Quantity Sold (kilo)'] = np.where(df['Quantity Sold (kilo)'] > 18, np.mean(df['Quantity Sold (kilo)'] > 0), df['Quantity Sold (kilo)'])\n",
    "np.mean(df['Quantity Sold (kilo)'] > 0), df['Quantity Sold (kilo)'].max()"
   ],
   "metadata": {
    "collapsed": false,
    "ExecuteTime": {
     "end_time": "2023-12-03T15:51:43.925462Z",
     "start_time": "2023-12-03T15:51:43.911005Z"
    }
   },
   "id": "cc1cb06ec5ec4912"
  },
  {
   "cell_type": "code",
   "execution_count": 12,
   "outputs": [
    {
     "data": {
      "text/plain": "{'whiskers': [<matplotlib.lines.Line2D at 0x10fcd3d90>,\n  <matplotlib.lines.Line2D at 0x10fce2070>],\n 'caps': [<matplotlib.lines.Line2D at 0x10fce2310>,\n  <matplotlib.lines.Line2D at 0x10fce25b0>],\n 'boxes': [<matplotlib.lines.Line2D at 0x10fcd3af0>],\n 'medians': [<matplotlib.lines.Line2D at 0x10fce2850>],\n 'fliers': [<matplotlib.lines.Line2D at 0x10fce2af0>],\n 'means': []}"
     },
     "execution_count": 12,
     "metadata": {},
     "output_type": "execute_result"
    },
    {
     "data": {
      "text/plain": "<Figure size 640x480 with 1 Axes>",
      "image/png": "[encoded data removed]"
     },
     "metadata": {},
     "output_type": "display_data"
    }
   ],
   "source": [
    "plt.boxplot(df['Quantity Sold (kilo)'])"
   ],
   "metadata": {
    "collapsed": false,
    "ExecuteTime": {
     "end_time": "2023-12-03T15:51:44.021Z",
     "start_time": "2023-12-03T15:51:43.931688Z"
    }
   },
   "id": "fe9bf999d2642111"
  },
  {
   "cell_type": "code",
   "execution_count": 13,
   "outputs": [
    {
     "data": {
      "text/plain": "{'whiskers': [<matplotlib.lines.Line2D at 0x10fd3ec70>,\n  <matplotlib.lines.Line2D at 0x10fd3ef10>],\n 'caps': [<matplotlib.lines.Line2D at 0x10fd511f0>,\n  <matplotlib.lines.Line2D at 0x10fd51490>],\n 'boxes': [<matplotlib.lines.Line2D at 0x10fd3e9a0>],\n 'medians': [<matplotlib.lines.Line2D at 0x10fd51730>],\n 'fliers': [<matplotlib.lines.Line2D at 0x10fd519d0>],\n 'means': []}"
     },
     "execution_count": 13,
     "metadata": {},
     "output_type": "execute_result"
    },
    {
     "data": {
      "text/plain": "<Figure size 640x480 with 1 Axes>",
      "image/png": "[encoded data removed]"
     },
     "metadata": {},
     "output_type": "display_data"
    }
   ],
   "source": [
    "plt.boxplot(df['Unit Selling Price (RMB/kg)'])"
   ],
   "metadata": {
    "collapsed": false,
    "ExecuteTime": {
     "end_time": "2023-12-03T15:51:44.116972Z",
     "start_time": "2023-12-03T15:51:44.026667Z"
    }
   },
   "id": "a5776594d650c2a4"
  },
  {
   "cell_type": "code",
   "execution_count": 14,
   "outputs": [
    {
     "data": {
      "text/plain": "True"
     },
     "execution_count": 14,
     "metadata": {},
     "output_type": "execute_result"
    }
   ],
   "source": [
    "(df['Quantity Sold (kilo)']  < 0 ).sum() == (df['Sale or Return'] == 'return').sum()"
   ],
   "metadata": {
    "collapsed": false,
    "ExecuteTime": {
     "end_time": "2023-12-03T15:51:44.159433Z",
     "start_time": "2023-12-03T15:51:44.122655Z"
    }
   },
   "id": "7d2b0f84581c0683"
  },
  {
   "cell_type": "code",
   "execution_count": 15,
   "outputs": [],
   "source": [
    "df['Discount (Yes/No)'] = df['Discount (Yes/No)'].apply(lambda x: True if x == 'Yes' else False)"
   ],
   "metadata": {
    "collapsed": false,
    "ExecuteTime": {
     "end_time": "2023-12-03T15:51:44.204702Z",
     "start_time": "2023-12-03T15:51:44.146963Z"
    }
   },
   "id": "2f7926290390272"
  },
  {
   "cell_type": "code",
   "execution_count": 16,
   "outputs": [
    {
     "name": "stdout",
     "output_type": "stream",
     "text": [
      "<class 'pandas.core.frame.DataFrame'>\n",
      "Index: 736947 entries, 0 to 737336\n",
      "Data columns (total 6 columns):\n",
      " #   Column                       Non-Null Count   Dtype  \n",
      "---  ------                       --------------   -----  \n",
      " 0   Item Name                    736947 non-null  object \n",
      " 1   Category Name                736947 non-null  object \n",
      " 2   Quantity Sold (kilo)         736947 non-null  float64\n",
      " 3   Unit Selling Price (RMB/kg)  736947 non-null  float64\n",
      " 4   Sale or Return               736947 non-null  object \n",
      " 5   Discount (Yes/No)            736947 non-null  bool   \n",
      "dtypes: bool(1), float64(2), object(3)\n",
      "memory usage: 34.4+ MB\n"
     ]
    }
   ],
   "source": [
    "df = df[~(df['Sale or Return'] == 'return')]\n",
    "df.info()"
   ],
   "metadata": {
    "collapsed": false,
    "ExecuteTime": {
     "end_time": "2023-12-03T15:51:44.298735Z",
     "start_time": "2023-12-03T15:51:44.228060Z"
    }
   },
   "id": "5ca47268832469ab"
  },
  {
   "cell_type": "code",
   "execution_count": 17,
   "outputs": [
    {
     "data": {
      "text/plain": "Discount (Yes/No)\nFalse    699942\nTrue      37005\nName: count, dtype: int64"
     },
     "execution_count": 17,
     "metadata": {},
     "output_type": "execute_result"
    }
   ],
   "source": [
    "df['Discount (Yes/No)'].value_counts()"
   ],
   "metadata": {
    "collapsed": false,
    "ExecuteTime": {
     "end_time": "2023-12-03T15:51:44.305331Z",
     "start_time": "2023-12-03T15:51:44.302057Z"
    }
   },
   "id": "cc5b3366d13d6f96"
  },
  {
   "cell_type": "code",
   "execution_count": 18,
   "outputs": [
    {
     "data": {
      "text/plain": "(699942, 6)"
     },
     "execution_count": 18,
     "metadata": {},
     "output_type": "execute_result"
    }
   ],
   "source": [
    "df = df[~(df['Discount (Yes/No)'] == True)]\n",
    "df.shape"
   ],
   "metadata": {
    "collapsed": false,
    "ExecuteTime": {
     "end_time": "2023-12-03T15:51:44.346751Z",
     "start_time": "2023-12-03T15:51:44.304444Z"
    }
   },
   "id": "d83efe2c885d22dd"
  },
  {
   "cell_type": "code",
   "execution_count": 19,
   "outputs": [],
   "source": [
    "df = df.drop(columns='Discount (Yes/No)')"
   ],
   "metadata": {
    "collapsed": false,
    "ExecuteTime": {
     "end_time": "2023-12-03T15:51:44.350261Z",
     "start_time": "2023-12-03T15:51:44.333149Z"
    }
   },
   "id": "8e0fd0c9de3aded9"
  },
  {
   "cell_type": "code",
   "execution_count": 20,
   "outputs": [
    {
     "data": {
      "text/plain": "                    Item Name                Category Name  \\\n559572        Net Lotus Root   Aquatic Tuberous Vegetables   \n686143     Wuhu Green Pepper                      Capsicum   \n262702  Apricot Bao Mushroom               Edible Mushroom   \n72188         Xixia Mushroom               Edible Mushroom   \n200897              Eggplant                       Solanum   \n\n        Quantity Sold (kilo)  Unit Selling Price (RMB/kg) Sale or Return  \n559572                 0.307                          7.2           sale  \n686143                 0.321                          7.2           sale  \n262702                 0.276                          8.0           sale  \n72188                  0.222                         19.8           sale  \n200897                 0.551                         12.0           sale  ",
      "text/html": "<div>\n<style scoped>\n    .dataframe tbody tr th:only-of-type {\n        vertical-align: middle;\n    }\n\n    .dataframe tbody tr th {\n        vertical-align: top;\n    }\n\n    .dataframe thead th {\n        text-align: right;\n    }\n</style>\n<table border=\"1\" class=\"dataframe\">\n  <thead>\n    <tr style=\"text-align: right;\">\n      <th></th>\n      <th>Item Name</th>\n      <th>Category Name</th>\n      <th>Quantity Sold (kilo)</th>\n      <th>Unit Selling Price (RMB/kg)</th>\n      <th>Sale or Return</th>\n    </tr>\n  </thead>\n  <tbody>\n    <tr>\n      <th>559572</th>\n      <td>Net Lotus Root</td>\n      <td>Aquatic Tuberous Vegetables</td>\n      <td>0.307</td>\n      <td>7.2</td>\n      <td>sale</td>\n    </tr>\n    <tr>\n      <th>686143</th>\n      <td>Wuhu Green Pepper</td>\n      <td>Capsicum</td>\n      <td>0.321</td>\n      <td>7.2</td>\n      <td>sale</td>\n    </tr>\n    <tr>\n      <th>262702</th>\n      <td>Apricot Bao Mushroom</td>\n      <td>Edible Mushroom</td>\n      <td>0.276</td>\n      <td>8.0</td>\n      <td>sale</td>\n    </tr>\n    <tr>\n      <th>72188</th>\n      <td>Xixia Mushroom</td>\n      <td>Edible Mushroom</td>\n      <td>0.222</td>\n      <td>19.8</td>\n      <td>sale</td>\n    </tr>\n    <tr>\n      <th>200897</th>\n      <td>Eggplant</td>\n      <td>Solanum</td>\n      <td>0.551</td>\n      <td>12.0</td>\n      <td>sale</td>\n    </tr>\n  </tbody>\n</table>\n</div>"
     },
     "execution_count": 20,
     "metadata": {},
     "output_type": "execute_result"
    }
   ],
   "source": [
    "df.sample(5)"
   ],
   "metadata": {
    "collapsed": false,
    "ExecuteTime": {
     "end_time": "2023-12-03T15:51:44.379887Z",
     "start_time": "2023-12-03T15:51:44.350871Z"
    }
   },
   "id": "98226327bf9b4d04"
  },
  {
   "cell_type": "code",
   "execution_count": 21,
   "outputs": [
    {
     "data": {
      "text/plain": "                             Quantity Sold (kilo)  Unit Selling Price (RMB/kg)\nQuantity Sold (kilo)                      1.00000                     -0.36273\nUnit Selling Price (RMB/kg)              -0.36273                      1.00000",
      "text/html": "<div>\n<style scoped>\n    .dataframe tbody tr th:only-of-type {\n        vertical-align: middle;\n    }\n\n    .dataframe tbody tr th {\n        vertical-align: top;\n    }\n\n    .dataframe thead th {\n        text-align: right;\n    }\n</style>\n<table border=\"1\" class=\"dataframe\">\n  <thead>\n    <tr style=\"text-align: right;\">\n      <th></th>\n      <th>Quantity Sold (kilo)</th>\n      <th>Unit Selling Price (RMB/kg)</th>\n    </tr>\n  </thead>\n  <tbody>\n    <tr>\n      <th>Quantity Sold (kilo)</th>\n      <td>1.00000</td>\n      <td>-0.36273</td>\n    </tr>\n    <tr>\n      <th>Unit Selling Price (RMB/kg)</th>\n      <td>-0.36273</td>\n      <td>1.00000</td>\n    </tr>\n  </tbody>\n</table>\n</div>"
     },
     "execution_count": 21,
     "metadata": {},
     "output_type": "execute_result"
    }
   ],
   "source": [
    "df.iloc[:,[2, 3]].corr()"
   ],
   "metadata": {
    "collapsed": false,
    "ExecuteTime": {
     "end_time": "2023-12-03T15:51:44.412015Z",
     "start_time": "2023-12-03T15:51:44.368809Z"
    }
   },
   "id": "6e35fe96e66f4f61"
  },
  {
   "cell_type": "code",
   "execution_count": 22,
   "outputs": [
    {
     "data": {
      "text/plain": "(699942, 198)"
     },
     "execution_count": 22,
     "metadata": {},
     "output_type": "execute_result"
    }
   ],
   "source": [
    "df = pd.get_dummies(df)\n",
    "df.shape"
   ],
   "metadata": {
    "collapsed": false,
    "ExecuteTime": {
     "end_time": "2023-12-03T15:51:44.788553Z",
     "start_time": "2023-12-03T15:51:44.382454Z"
    }
   },
   "id": "15273275e4ecaf43"
  },
  {
   "cell_type": "code",
   "execution_count": 24,
   "outputs": [
    {
     "data": {
      "text/plain": "        Quantity Sold (kilo)  Unit Selling Price (RMB/kg)  \\\n495555                 0.446                          5.2   \n35011                  0.323                          9.0   \n289886                 0.050                          6.0   \n288607                 0.836                          6.0   \n239178                 0.098                         35.8   \n\n        Item Name_7 Colour Pepper   Item Name_Agaricus Bisporus   \\\n495555                       False                         False   \n35011                        False                         False   \n289886                       False                         False   \n288607                       False                         False   \n239178                       False                         False   \n\n        Item Name_Aihao  Item Name_Amaranth  Item Name_Amaranth   \\\n495555            False               False                False   \n35011             False               False                False   \n289886            False               False                False   \n288607            False               False                False   \n239178            False               False                False   \n\n        Item Name_Apricot Bao Mushroom   Item Name_Artemisia Stelleriana  \\\n495555                            False                            False   \n35011                             False                            False   \n289886                            False                            False   \n288607                            False                            False   \n239178                            False                            False   \n\n        Item Name_Basil   ...  Item Name_Zhimaxiancai  Item Name_Zhuyecai  \\\n495555             False  ...                   False               False   \n35011              False  ...                   False               False   \n289886             False  ...                   False               False   \n288607             False  ...                   False               False   \n239178             False  ...                   False               False   \n\n        Item Name_Zhuyecai   Category Name_Aquatic Tuberous Vegetables  \\\n495555                False                                      False   \n35011                 False                                      False   \n289886                False                                      False   \n288607                False                                      False   \n239178                False                                      False   \n\n        Category Name_Cabbage  Category Name_Capsicum  \\\n495555                  False                    True   \n35011                   False                    True   \n289886                  False                    True   \n288607                   True                   False   \n239178                  False                    True   \n\n        Category Name_Edible Mushroom  Category Name_Flower/Leaf Vegetables  \\\n495555                          False                                 False   \n35011                           False                                 False   \n289886                          False                                 False   \n288607                          False                                 False   \n239178                          False                                 False   \n\n        Category Name_Solanum  Sale or Return_sale  \n495555                  False                 True  \n35011                   False                 True  \n289886                  False                 True  \n288607                  False                 True  \n239178                  False                 True  \n\n[5 rows x 198 columns]",
      "text/html": "<div>\n<style scoped>\n    .dataframe tbody tr th:only-of-type {\n        vertical-align: middle;\n    }\n\n    .dataframe tbody tr th {\n        vertical-align: top;\n    }\n\n    .dataframe thead th {\n        text-align: right;\n    }\n</style>\n<table border=\"1\" class=\"dataframe\">\n  <thead>\n    <tr style=\"text-align: right;\">\n      <th></th>\n      <th>Quantity Sold (kilo)</th>\n      <th>Unit Selling Price (RMB/kg)</th>\n      <th>Item Name_7 Colour Pepper</th>\n      <th>Item Name_Agaricus Bisporus</th>\n      <th>Item Name_Aihao</th>\n      <th>Item Name_Amaranth</th>\n      <th>Item Name_Amaranth</th>\n      <th>Item Name_Apricot Bao Mushroom</th>\n      <th>Item Name_Artemisia Stelleriana</th>\n      <th>Item Name_Basil</th>\n      <th>...</th>\n      <th>Item Name_Zhimaxiancai</th>\n      <th>Item Name_Zhuyecai</th>\n      <th>Item Name_Zhuyecai</th>\n      <th>Category Name_Aquatic Tuberous Vegetables</th>\n      <th>Category Name_Cabbage</th>\n      <th>Category Name_Capsicum</th>\n      <th>Category Name_Edible Mushroom</th>\n      <th>Category Name_Flower/Leaf Vegetables</th>\n      <th>Category Name_Solanum</th>\n      <th>Sale or Return_sale</th>\n    </tr>\n  </thead>\n  <tbody>\n    <tr>\n      <th>495555</th>\n      <td>0.446</td>\n      <td>5.2</td>\n      <td>False</td>\n      <td>False</td>\n      <td>False</td>\n      <td>False</td>\n      <td>False</td>\n      <td>False</td>\n      <td>False</td>\n      <td>False</td>\n      <td>...</td>\n      <td>False</td>\n      <td>False</td>\n      <td>False</td>\n      <td>False</td>\n      <td>False</td>\n      <td>True</td>\n      <td>False</td>\n      <td>False</td>\n      <td>False</td>\n      <td>True</td>\n    </tr>\n    <tr>\n      <th>35011</th>\n      <td>0.323</td>\n      <td>9.0</td>\n      <td>False</td>\n      <td>False</td>\n      <td>False</td>\n      <td>False</td>\n      <td>False</td>\n      <td>False</td>\n      <td>False</td>\n      <td>False</td>\n      <td>...</td>\n      <td>False</td>\n      <td>False</td>\n      <td>False</td>\n      <td>False</td>\n      <td>False</td>\n      <td>True</td>\n      <td>False</td>\n      <td>False</td>\n      <td>False</td>\n      <td>True</td>\n    </tr>\n    <tr>\n      <th>289886</th>\n      <td>0.050</td>\n      <td>6.0</td>\n      <td>False</td>\n      <td>False</td>\n      <td>False</td>\n      <td>False</td>\n      <td>False</td>\n      <td>False</td>\n      <td>False</td>\n      <td>False</td>\n      <td>...</td>\n      <td>False</td>\n      <td>False</td>\n      <td>False</td>\n      <td>False</td>\n      <td>False</td>\n      <td>True</td>\n      <td>False</td>\n      <td>False</td>\n      <td>False</td>\n      <td>True</td>\n    </tr>\n    <tr>\n      <th>288607</th>\n      <td>0.836</td>\n      <td>6.0</td>\n      <td>False</td>\n      <td>False</td>\n      <td>False</td>\n      <td>False</td>\n      <td>False</td>\n      <td>False</td>\n      <td>False</td>\n      <td>False</td>\n      <td>...</td>\n      <td>False</td>\n      <td>False</td>\n      <td>False</td>\n      <td>False</td>\n      <td>True</td>\n      <td>False</td>\n      <td>False</td>\n      <td>False</td>\n      <td>False</td>\n      <td>True</td>\n    </tr>\n    <tr>\n      <th>239178</th>\n      <td>0.098</td>\n      <td>35.8</td>\n      <td>False</td>\n      <td>False</td>\n      <td>False</td>\n      <td>False</td>\n      <td>False</td>\n      <td>False</td>\n      <td>False</td>\n      <td>False</td>\n      <td>...</td>\n      <td>False</td>\n      <td>False</td>\n      <td>False</td>\n      <td>False</td>\n      <td>False</td>\n      <td>True</td>\n      <td>False</td>\n      <td>False</td>\n      <td>False</td>\n      <td>True</td>\n    </tr>\n  </tbody>\n</table>\n<p>5 rows × 198 columns</p>\n</div>"
     },
     "execution_count": 24,
     "metadata": {},
     "output_type": "execute_result"
    }
   ],
   "source": [
    "df.sample(5)"
   ],
   "metadata": {
    "collapsed": false,
    "ExecuteTime": {
     "end_time": "2023-12-03T17:16:56.618920Z",
     "start_time": "2023-12-03T17:16:56.494351Z"
    }
   },
   "id": "962f3677d7a76cc8"
  },
  {
   "cell_type": "code",
   "execution_count": 23,
   "outputs": [],
   "source": [
    "df.to_csv(\"/Users/rumethsandinu/Study/Assessments/Year 2/DSGP/Datasets/pre_processed_dataset.csv\", index=False)"
   ],
   "metadata": {
    "collapsed": false,
    "ExecuteTime": {
     "end_time": "2023-12-03T15:51:58.457527Z",
     "start_time": "2023-12-03T15:51:44.788296Z"
    }
   },
   "id": "f319078b1df017a3"
  }
 ],
 "metadata": {
  "kernelspec": {
   "display_name": "Python 3",
   "language": "python",
   "name": "python3"
  },
  "language_info": {
   "codemirror_mode": {
    "name": "ipython",
    "version": 2
   },
   "file_extension": ".py",
   "mimetype": "text/x-python",
   "name": "python",
   "nbconvert_exporter": "python",
   "pygments_lexer": "ipython2",
   "version": "2.7.6"
  }
 },
 "nbformat": 4,
 "nbformat_minor": 5
}
