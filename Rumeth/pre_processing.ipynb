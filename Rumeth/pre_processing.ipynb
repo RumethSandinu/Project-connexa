{
 "cells": [
  {
   "cell_type": "code",
   "execution_count": 113,
   "id": "initial_id",
   "metadata": {
    "collapsed": true,
    "ExecuteTime": {
     "end_time": "2023-12-06T13:18:32.244614Z",
     "start_time": "2023-12-06T13:18:32.190009Z"
    }
   },
   "outputs": [],
   "source": [
    "# import libraries needed\n",
    "import pandas as pd\n",
    "import matplotlib.pyplot as plt\n",
    "import numpy as np"
   ]
  },
  {
   "cell_type": "code",
   "execution_count": 114,
   "outputs": [
    {
     "data": {
      "text/plain": "                 Item Name                Category Name  Quantity Sold (kilo)  \\\n228355     Net Lotus Root   Aquatic Tuberous Vegetables                 0.220   \n375796     Yunnan Shengcai       Flower/Leaf Vegetables                 0.415   \n612075  Wuhu Green Pepper                      Capsicum                 0.506   \n\n        Unit Selling Price (RMB/kg) Sale or Return Discount (Yes/No)  \n228355                         10.0           sale                No  \n375796                          8.0           sale                No  \n612075                          3.6           sale                No  ",
      "text/html": "<div>\n<style scoped>\n    .dataframe tbody tr th:only-of-type {\n        vertical-align: middle;\n    }\n\n    .dataframe tbody tr th {\n        vertical-align: top;\n    }\n\n    .dataframe thead th {\n        text-align: right;\n    }\n</style>\n<table border=\"1\" class=\"dataframe\">\n  <thead>\n    <tr style=\"text-align: right;\">\n      <th></th>\n      <th>Item Name</th>\n      <th>Category Name</th>\n      <th>Quantity Sold (kilo)</th>\n      <th>Unit Selling Price (RMB/kg)</th>\n      <th>Sale or Return</th>\n      <th>Discount (Yes/No)</th>\n    </tr>\n  </thead>\n  <tbody>\n    <tr>\n      <th>228355</th>\n      <td>Net Lotus Root</td>\n      <td>Aquatic Tuberous Vegetables</td>\n      <td>0.220</td>\n      <td>10.0</td>\n      <td>sale</td>\n      <td>No</td>\n    </tr>\n    <tr>\n      <th>375796</th>\n      <td>Yunnan Shengcai</td>\n      <td>Flower/Leaf Vegetables</td>\n      <td>0.415</td>\n      <td>8.0</td>\n      <td>sale</td>\n      <td>No</td>\n    </tr>\n    <tr>\n      <th>612075</th>\n      <td>Wuhu Green Pepper</td>\n      <td>Capsicum</td>\n      <td>0.506</td>\n      <td>3.6</td>\n      <td>sale</td>\n      <td>No</td>\n    </tr>\n  </tbody>\n</table>\n</div>"
     },
     "execution_count": 114,
     "metadata": {},
     "output_type": "execute_result"
    }
   ],
   "source": [
    "# get the filtered dataset\n",
    "df = pd.read_csv('/Users/rumethsandinu/Study/Assessments/Year 2/DSGP/Datasets/built_dataset.csv')\n",
    "df.sample(3)"
   ],
   "metadata": {
    "collapsed": false,
    "ExecuteTime": {
     "end_time": "2023-12-06T13:18:32.485406Z",
     "start_time": "2023-12-06T13:18:32.193100Z"
    }
   },
   "id": "e41d64e95fe0ae04"
  },
  {
   "cell_type": "code",
   "execution_count": 115,
   "outputs": [
    {
     "name": "stdout",
     "output_type": "stream",
     "text": [
      "<class 'pandas.core.frame.DataFrame'>\n",
      "RangeIndex: 737337 entries, 0 to 737336\n",
      "Data columns (total 6 columns):\n",
      " #   Column                       Non-Null Count   Dtype  \n",
      "---  ------                       --------------   -----  \n",
      " 0   Item Name                    737337 non-null  object \n",
      " 1   Category Name                737337 non-null  object \n",
      " 2   Quantity Sold (kilo)         737337 non-null  float64\n",
      " 3   Unit Selling Price (RMB/kg)  737337 non-null  float64\n",
      " 4   Sale or Return               737337 non-null  object \n",
      " 5   Discount (Yes/No)            737337 non-null  object \n",
      "dtypes: float64(2), object(4)\n",
      "memory usage: 33.8+ MB\n"
     ]
    }
   ],
   "source": [
    "df.info()"
   ],
   "metadata": {
    "collapsed": false,
    "ExecuteTime": {
     "end_time": "2023-12-06T13:18:32.538962Z",
     "start_time": "2023-12-06T13:18:32.484180Z"
    }
   },
   "id": "f87731553be14d33"
  },
  {
   "cell_type": "code",
   "execution_count": 116,
   "outputs": [
    {
     "data": {
      "text/plain": "3860.4031413612565"
     },
     "execution_count": 116,
     "metadata": {},
     "output_type": "execute_result"
    }
   ],
   "source": [
    "# average frequecy of selling item\n",
    "np.average(df['Item Name'].value_counts())"
   ],
   "metadata": {
    "collapsed": false,
    "ExecuteTime": {
     "end_time": "2023-12-06T13:18:32.568746Z",
     "start_time": "2023-12-06T13:18:32.562874Z"
    }
   },
   "id": "264f8705566cfaca"
  },
  {
   "cell_type": "code",
   "execution_count": 117,
   "outputs": [
    {
     "data": {
      "text/plain": "{'whiskers': [<matplotlib.lines.Line2D at 0x15ffb88e0>,\n  <matplotlib.lines.Line2D at 0x15ffb8b80>],\n 'caps': [<matplotlib.lines.Line2D at 0x15ffb8e20>,\n  <matplotlib.lines.Line2D at 0x15ffc5100>],\n 'boxes': [<matplotlib.lines.Line2D at 0x15ffb8640>],\n 'medians': [<matplotlib.lines.Line2D at 0x15ffc53a0>],\n 'fliers': [<matplotlib.lines.Line2D at 0x15ffc5640>],\n 'means': []}"
     },
     "execution_count": 117,
     "metadata": {},
     "output_type": "execute_result"
    },
    {
     "data": {
      "text/plain": "<Figure size 640x480 with 1 Axes>",
      "image/png": "[encoded data removed]"
     },
     "metadata": {},
     "output_type": "display_data"
    }
   ],
   "source": [
    "# visualise frequecy of selling item\n",
    "plt.boxplot(df['Item Name'].value_counts())"
   ],
   "metadata": {
    "collapsed": false,
    "ExecuteTime": {
     "end_time": "2023-12-06T13:18:32.658014Z",
     "start_time": "2023-12-06T13:18:32.595107Z"
    }
   },
   "id": "9bf61da1d11fc886"
  },
  {
   "cell_type": "code",
   "execution_count": 118,
   "outputs": [
    {
     "data": {
      "text/plain": "122889.5"
     },
     "execution_count": 118,
     "metadata": {},
     "output_type": "execute_result"
    }
   ],
   "source": [
    "# average frequency of selling category\n",
    "np.average(df['Category Name'].value_counts())"
   ],
   "metadata": {
    "collapsed": false,
    "ExecuteTime": {
     "end_time": "2023-12-06T13:18:32.706512Z",
     "start_time": "2023-12-06T13:18:32.681419Z"
    }
   },
   "id": "ddc1c501c2e9d82e"
  },
  {
   "cell_type": "code",
   "execution_count": 119,
   "outputs": [
    {
     "data": {
      "text/plain": "{'whiskers': [<matplotlib.lines.Line2D at 0x16a20e100>,\n  <matplotlib.lines.Line2D at 0x16a20e3a0>],\n 'caps': [<matplotlib.lines.Line2D at 0x16a20e640>,\n  <matplotlib.lines.Line2D at 0x16a20e8e0>],\n 'boxes': [<matplotlib.lines.Line2D at 0x16a1ffe20>],\n 'medians': [<matplotlib.lines.Line2D at 0x16a20eaf0>],\n 'fliers': [<matplotlib.lines.Line2D at 0x16a20ed90>],\n 'means': []}"
     },
     "execution_count": 119,
     "metadata": {},
     "output_type": "execute_result"
    },
    {
     "data": {
      "text/plain": "<Figure size 640x480 with 1 Axes>",
      "image/png": "[encoded data removed]"
     },
     "metadata": {},
     "output_type": "display_data"
    }
   ],
   "source": [
    "# visualise frequency of selling category\n",
    "plt.boxplot(df['Category Name'].value_counts())"
   ],
   "metadata": {
    "collapsed": false,
    "ExecuteTime": {
     "end_time": "2023-12-06T13:18:32.765805Z",
     "start_time": "2023-12-06T13:18:32.712664Z"
    }
   },
   "id": "43281ceff9693e7c"
  },
  {
   "cell_type": "code",
   "execution_count": 120,
   "outputs": [
    {
     "data": {
      "text/plain": "{'whiskers': [<matplotlib.lines.Line2D at 0x16a26ba90>,\n  <matplotlib.lines.Line2D at 0x16a26bd30>],\n 'caps': [<matplotlib.lines.Line2D at 0x16a26bfd0>,\n  <matplotlib.lines.Line2D at 0x16a27c2b0>],\n 'boxes': [<matplotlib.lines.Line2D at 0x16a26b7f0>],\n 'medians': [<matplotlib.lines.Line2D at 0x16a27c550>],\n 'fliers': [<matplotlib.lines.Line2D at 0x16a27c7f0>],\n 'means': []}"
     },
     "execution_count": 120,
     "metadata": {},
     "output_type": "execute_result"
    },
    {
     "data": {
      "text/plain": "<Figure size 640x480 with 1 Axes>",
      "image/png": "[encoded data removed]"
     },
     "metadata": {},
     "output_type": "display_data"
    }
   ],
   "source": [
    "# check for outliers\n",
    "plt.boxplot(df['Quantity Sold (kilo)'])"
   ],
   "metadata": {
    "collapsed": false,
    "ExecuteTime": {
     "end_time": "2023-12-06T13:18:32.857519Z",
     "start_time": "2023-12-06T13:18:32.771951Z"
    }
   },
   "id": "b444363ca8321163"
  },
  {
   "cell_type": "code",
   "execution_count": 121,
   "outputs": [
    {
     "data": {
      "text/plain": "True"
     },
     "execution_count": 121,
     "metadata": {},
     "output_type": "execute_result"
    }
   ],
   "source": [
    "(df['Quantity Sold (kilo)'] < 0).sum() == (df['Sale or Return'] == 'return').sum()"
   ],
   "metadata": {
    "collapsed": false,
    "ExecuteTime": {
     "end_time": "2023-12-06T13:18:32.869745Z",
     "start_time": "2023-12-06T13:18:32.844755Z"
    }
   },
   "id": "42a066f23ea24a77"
  },
  {
   "cell_type": "code",
   "execution_count": 122,
   "outputs": [
    {
     "data": {
      "text/plain": "390"
     },
     "execution_count": 122,
     "metadata": {},
     "output_type": "execute_result"
    }
   ],
   "source": [
    "(df['Sale or Return'] == 'return').sum()"
   ],
   "metadata": {
    "collapsed": false,
    "ExecuteTime": {
     "end_time": "2023-12-06T13:18:32.918630Z",
     "start_time": "2023-12-06T13:18:32.890542Z"
    }
   },
   "id": "ca821d2100a08b73"
  },
  {
   "cell_type": "code",
   "execution_count": 123,
   "outputs": [
    {
     "name": "stdout",
     "output_type": "stream",
     "text": [
      "<class 'pandas.core.frame.DataFrame'>\n",
      "Index: 736947 entries, 0 to 737336\n",
      "Data columns (total 5 columns):\n",
      " #   Column                       Non-Null Count   Dtype  \n",
      "---  ------                       --------------   -----  \n",
      " 0   Item Name                    736947 non-null  object \n",
      " 1   Category Name                736947 non-null  object \n",
      " 2   Quantity Sold (kilo)         736947 non-null  float64\n",
      " 3   Unit Selling Price (RMB/kg)  736947 non-null  float64\n",
      " 4   Discount (Yes/No)            736947 non-null  object \n",
      "dtypes: float64(2), object(3)\n",
      "memory usage: 33.7+ MB\n"
     ]
    }
   ],
   "source": [
    "# remove non-dependent values for the prediction\n",
    "df = df[~(df['Sale or Return'] == 'return')]\n",
    "df = df.drop(columns='Sale or Return')\n",
    "df.info()"
   ],
   "metadata": {
    "collapsed": false,
    "ExecuteTime": {
     "end_time": "2023-12-06T13:18:33.002042Z",
     "start_time": "2023-12-06T13:18:32.914853Z"
    }
   },
   "id": "65d3e52541ebdaae"
  },
  {
   "cell_type": "code",
   "execution_count": 124,
   "outputs": [
    {
     "data": {
      "text/plain": "3"
     },
     "execution_count": 124,
     "metadata": {},
     "output_type": "execute_result"
    }
   ],
   "source": [
    "(df['Quantity Sold (kilo)'] > 18).sum()"
   ],
   "metadata": {
    "collapsed": false,
    "ExecuteTime": {
     "end_time": "2023-12-06T13:18:33.007871Z",
     "start_time": "2023-12-06T13:18:33.001580Z"
    }
   },
   "id": "757cf7f1321f7a3f"
  },
  {
   "cell_type": "code",
   "execution_count": 125,
   "outputs": [
    {
     "data": {
      "text/plain": "1.0"
     },
     "execution_count": 125,
     "metadata": {},
     "output_type": "execute_result"
    }
   ],
   "source": [
    "np.mean(df['Quantity Sold (kilo)'] > 0)"
   ],
   "metadata": {
    "collapsed": false,
    "ExecuteTime": {
     "end_time": "2023-12-06T13:18:33.012707Z",
     "start_time": "2023-12-06T13:18:33.006305Z"
    }
   },
   "id": "4048cb90c60510a8"
  },
  {
   "cell_type": "code",
   "execution_count": 126,
   "outputs": [
    {
     "data": {
      "text/plain": "(1.0, 17.0)"
     },
     "execution_count": 126,
     "metadata": {},
     "output_type": "execute_result"
    }
   ],
   "source": [
    "# handle outliers with mean values\n",
    "df['Quantity Sold (kilo)'] = np.where(df['Quantity Sold (kilo)'] > 18, np.mean(df['Quantity Sold (kilo)'] > 0), df['Quantity Sold (kilo)'])\n",
    "np.mean(df['Quantity Sold (kilo)'] > 0), df['Quantity Sold (kilo)'].max()"
   ],
   "metadata": {
    "collapsed": false,
    "ExecuteTime": {
     "end_time": "2023-12-06T13:18:33.036901Z",
     "start_time": "2023-12-06T13:18:33.017814Z"
    }
   },
   "id": "cc1cb06ec5ec4912"
  },
  {
   "cell_type": "code",
   "execution_count": 127,
   "outputs": [
    {
     "data": {
      "text/plain": "{'whiskers': [<matplotlib.lines.Line2D at 0x16a2e27c0>,\n  <matplotlib.lines.Line2D at 0x16a2e2a60>],\n 'caps': [<matplotlib.lines.Line2D at 0x16a2e2d00>,\n  <matplotlib.lines.Line2D at 0x16a2e2fa0>],\n 'boxes': [<matplotlib.lines.Line2D at 0x16a2e2520>],\n 'medians': [<matplotlib.lines.Line2D at 0x16a2f2280>],\n 'fliers': [<matplotlib.lines.Line2D at 0x16a2f2520>],\n 'means': []}"
     },
     "execution_count": 127,
     "metadata": {},
     "output_type": "execute_result"
    },
    {
     "data": {
      "text/plain": "<Figure size 640x480 with 1 Axes>",
      "image/png": "[encoded data removed]"
     },
     "metadata": {},
     "output_type": "display_data"
    }
   ],
   "source": [
    "# visualise processed sold amount\n",
    "plt.boxplot(df['Quantity Sold (kilo)'])"
   ],
   "metadata": {
    "collapsed": false,
    "ExecuteTime": {
     "end_time": "2023-12-06T13:18:33.105757Z",
     "start_time": "2023-12-06T13:18:33.028992Z"
    }
   },
   "id": "fe9bf999d2642111"
  },
  {
   "cell_type": "code",
   "execution_count": 128,
   "outputs": [
    {
     "data": {
      "text/plain": "{'whiskers': [<matplotlib.lines.Line2D at 0x16a356820>,\n  <matplotlib.lines.Line2D at 0x16a356ac0>],\n 'caps': [<matplotlib.lines.Line2D at 0x16a356d60>,\n  <matplotlib.lines.Line2D at 0x16a364040>],\n 'boxes': [<matplotlib.lines.Line2D at 0x16a356460>],\n 'medians': [<matplotlib.lines.Line2D at 0x16a3642e0>],\n 'fliers': [<matplotlib.lines.Line2D at 0x16a364580>],\n 'means': []}"
     },
     "execution_count": 128,
     "metadata": {},
     "output_type": "execute_result"
    },
    {
     "data": {
      "text/plain": "<Figure size 640x480 with 1 Axes>",
      "image/png": "[encoded data removed]"
     },
     "metadata": {},
     "output_type": "display_data"
    }
   ],
   "source": [
    "plt.boxplot(df['Unit Selling Price (RMB/kg)'])"
   ],
   "metadata": {
    "collapsed": false,
    "ExecuteTime": {
     "end_time": "2023-12-06T13:18:33.199750Z",
     "start_time": "2023-12-06T13:18:33.112522Z"
    }
   },
   "id": "a5776594d650c2a4"
  },
  {
   "cell_type": "code",
   "execution_count": 129,
   "outputs": [
    {
     "data": {
      "text/plain": "Discount (Yes/No)\nNo     699942\nYes     37005\nName: count, dtype: int64"
     },
     "execution_count": 129,
     "metadata": {},
     "output_type": "execute_result"
    }
   ],
   "source": [
    "df['Discount (Yes/No)'].value_counts()"
   ],
   "metadata": {
    "collapsed": false,
    "ExecuteTime": {
     "end_time": "2023-12-06T13:18:33.245224Z",
     "start_time": "2023-12-06T13:18:33.222125Z"
    }
   },
   "id": "cc5b3366d13d6f96"
  },
  {
   "cell_type": "code",
   "execution_count": 130,
   "outputs": [],
   "source": [
    "# remove non-dependent features\n",
    "df = df.drop(columns='Discount (Yes/No)')"
   ],
   "metadata": {
    "collapsed": false,
    "ExecuteTime": {
     "end_time": "2023-12-06T13:18:33.245416Z",
     "start_time": "2023-12-06T13:18:33.225436Z"
    }
   },
   "id": "8e0fd0c9de3aded9"
  },
  {
   "cell_type": "code",
   "execution_count": 131,
   "outputs": [
    {
     "data": {
      "text/plain": "              Item Name    Category Name  Quantity Sold (kilo)  \\\n292230  Red Hang Pepper         Capsicum                 0.415   \n536976  Xixia Mushroom   Edible Mushroom                 0.114   \n336144     Luosi Pepper         Capsicum                 0.661   \n\n        Unit Selling Price (RMB/kg)  \n292230                         14.0  \n536976                         23.6  \n336144                          7.0  ",
      "text/html": "<div>\n<style scoped>\n    .dataframe tbody tr th:only-of-type {\n        vertical-align: middle;\n    }\n\n    .dataframe tbody tr th {\n        vertical-align: top;\n    }\n\n    .dataframe thead th {\n        text-align: right;\n    }\n</style>\n<table border=\"1\" class=\"dataframe\">\n  <thead>\n    <tr style=\"text-align: right;\">\n      <th></th>\n      <th>Item Name</th>\n      <th>Category Name</th>\n      <th>Quantity Sold (kilo)</th>\n      <th>Unit Selling Price (RMB/kg)</th>\n    </tr>\n  </thead>\n  <tbody>\n    <tr>\n      <th>292230</th>\n      <td>Red Hang Pepper</td>\n      <td>Capsicum</td>\n      <td>0.415</td>\n      <td>14.0</td>\n    </tr>\n    <tr>\n      <th>536976</th>\n      <td>Xixia Mushroom</td>\n      <td>Edible Mushroom</td>\n      <td>0.114</td>\n      <td>23.6</td>\n    </tr>\n    <tr>\n      <th>336144</th>\n      <td>Luosi Pepper</td>\n      <td>Capsicum</td>\n      <td>0.661</td>\n      <td>7.0</td>\n    </tr>\n  </tbody>\n</table>\n</div>"
     },
     "execution_count": 131,
     "metadata": {},
     "output_type": "execute_result"
    }
   ],
   "source": [
    "df.sample(3)"
   ],
   "metadata": {
    "collapsed": false,
    "ExecuteTime": {
     "end_time": "2023-12-06T13:18:33.257934Z",
     "start_time": "2023-12-06T13:18:33.241316Z"
    }
   },
   "id": "98226327bf9b4d04"
  },
  {
   "cell_type": "code",
   "execution_count": 132,
   "outputs": [
    {
     "data": {
      "text/plain": "0.5001440605633785"
     },
     "execution_count": 132,
     "metadata": {},
     "output_type": "execute_result"
    }
   ],
   "source": [
    "np.mean(df['Quantity Sold (kilo)'])"
   ],
   "metadata": {
    "collapsed": false,
    "ExecuteTime": {
     "end_time": "2023-12-06T13:18:33.261980Z",
     "start_time": "2023-12-06T13:18:33.257275Z"
    }
   },
   "id": "41a7dad6a6ea49e2"
  },
  {
   "cell_type": "code",
   "execution_count": 133,
   "outputs": [
    {
     "data": {
      "text/plain": "                        Item Name                Category Name  \\\n634893  Honghu Lotus Root Powder   Aquatic Tuberous Vegetables   \n37652                Huangbaicai        Flower/Leaf Vegetables   \n236541           Needle Mushroom               Edible Mushroom   \n\n        Quantity Sold (kilo)  Unit Selling Price (RMB/kg)  \n634893                   1.0                         10.8  \n37652                    0.9                          9.0  \n236541                   0.5                          5.0  ",
      "text/html": "<div>\n<style scoped>\n    .dataframe tbody tr th:only-of-type {\n        vertical-align: middle;\n    }\n\n    .dataframe tbody tr th {\n        vertical-align: top;\n    }\n\n    .dataframe thead th {\n        text-align: right;\n    }\n</style>\n<table border=\"1\" class=\"dataframe\">\n  <thead>\n    <tr style=\"text-align: right;\">\n      <th></th>\n      <th>Item Name</th>\n      <th>Category Name</th>\n      <th>Quantity Sold (kilo)</th>\n      <th>Unit Selling Price (RMB/kg)</th>\n    </tr>\n  </thead>\n  <tbody>\n    <tr>\n      <th>634893</th>\n      <td>Honghu Lotus Root Powder</td>\n      <td>Aquatic Tuberous Vegetables</td>\n      <td>1.0</td>\n      <td>10.8</td>\n    </tr>\n    <tr>\n      <th>37652</th>\n      <td>Huangbaicai</td>\n      <td>Flower/Leaf Vegetables</td>\n      <td>0.9</td>\n      <td>9.0</td>\n    </tr>\n    <tr>\n      <th>236541</th>\n      <td>Needle Mushroom</td>\n      <td>Edible Mushroom</td>\n      <td>0.5</td>\n      <td>5.0</td>\n    </tr>\n  </tbody>\n</table>\n</div>"
     },
     "execution_count": 133,
     "metadata": {},
     "output_type": "execute_result"
    }
   ],
   "source": [
    "# round up sold amount to first decimal place\n",
    "df['Quantity Sold (kilo)'] = round(df['Quantity Sold (kilo)'], 1)\n",
    "df.sample(3)"
   ],
   "metadata": {
    "collapsed": false,
    "ExecuteTime": {
     "end_time": "2023-12-06T13:18:33.303642Z",
     "start_time": "2023-12-06T13:18:33.262370Z"
    }
   },
   "id": "848d37d9440da71f"
  },
  {
   "cell_type": "code",
   "execution_count": 134,
   "outputs": [
    {
     "data": {
      "text/plain": "0.5021487298272468"
     },
     "execution_count": 134,
     "metadata": {},
     "output_type": "execute_result"
    }
   ],
   "source": [
    "# check the change of mean\n",
    "np.mean(df['Quantity Sold (kilo)'])"
   ],
   "metadata": {
    "collapsed": false,
    "ExecuteTime": {
     "end_time": "2023-12-06T13:18:33.307141Z",
     "start_time": "2023-12-06T13:18:33.281248Z"
    }
   },
   "id": "b6c9c90f65a846cd"
  },
  {
   "cell_type": "code",
   "execution_count": 135,
   "outputs": [
    {
     "data": {
      "text/plain": "                             Quantity Sold (kilo)  Unit Selling Price (RMB/kg)\nQuantity Sold (kilo)                     1.000000                    -0.382101\nUnit Selling Price (RMB/kg)             -0.382101                     1.000000",
      "text/html": "<div>\n<style scoped>\n    .dataframe tbody tr th:only-of-type {\n        vertical-align: middle;\n    }\n\n    .dataframe tbody tr th {\n        vertical-align: top;\n    }\n\n    .dataframe thead th {\n        text-align: right;\n    }\n</style>\n<table border=\"1\" class=\"dataframe\">\n  <thead>\n    <tr style=\"text-align: right;\">\n      <th></th>\n      <th>Quantity Sold (kilo)</th>\n      <th>Unit Selling Price (RMB/kg)</th>\n    </tr>\n  </thead>\n  <tbody>\n    <tr>\n      <th>Quantity Sold (kilo)</th>\n      <td>1.000000</td>\n      <td>-0.382101</td>\n    </tr>\n    <tr>\n      <th>Unit Selling Price (RMB/kg)</th>\n      <td>-0.382101</td>\n      <td>1.000000</td>\n    </tr>\n  </tbody>\n</table>\n</div>"
     },
     "execution_count": 135,
     "metadata": {},
     "output_type": "execute_result"
    }
   ],
   "source": [
    "# view co-relation between price and sold amount\n",
    "df.iloc[:,[2, 3]].corr()"
   ],
   "metadata": {
    "collapsed": false,
    "ExecuteTime": {
     "end_time": "2023-12-06T13:18:33.307371Z",
     "start_time": "2023-12-06T13:18:33.289363Z"
    }
   },
   "id": "6e35fe96e66f4f61"
  },
  {
   "cell_type": "code",
   "execution_count": 136,
   "outputs": [
    {
     "data": {
      "text/plain": "(736947, 199)"
     },
     "execution_count": 136,
     "metadata": {},
     "output_type": "execute_result"
    }
   ],
   "source": [
    "# one hot encoding\n",
    "df = pd.get_dummies(df)\n",
    "df.shape"
   ],
   "metadata": {
    "collapsed": false,
    "ExecuteTime": {
     "end_time": "2023-12-06T13:18:33.715986Z",
     "start_time": "2023-12-06T13:18:33.304855Z"
    }
   },
   "id": "15273275e4ecaf43"
  },
  {
   "cell_type": "code",
   "execution_count": 137,
   "outputs": [
    {
     "data": {
      "text/plain": "        Quantity Sold (kilo)  Unit Selling Price (RMB/kg)  \\\n461179                   0.3                         14.0   \n246948                   0.6                          7.0   \n21168                    0.8                          7.0   \n434492                   0.2                          7.0   \n183917                   0.3                         10.0   \n\n        Item Name_7 Colour Pepper   Item Name_Agaricus Bisporus   \\\n461179                       False                         False   \n246948                       False                         False   \n21168                        False                         False   \n434492                       False                         False   \n183917                       False                         False   \n\n        Item Name_Aihao  Item Name_Amaranth  Item Name_Amaranth   \\\n461179            False               False                False   \n246948            False               False                False   \n21168             False               False                False   \n434492            False               False                False   \n183917            False               False                False   \n\n        Item Name_Apricot Bao Mushroom   Item Name_Artemisia Stelleriana  \\\n461179                            False                            False   \n246948                            False                            False   \n21168                             False                            False   \n434492                            False                            False   \n183917                            False                            False   \n\n        Item Name_Basil   ...  Item Name_Zhijiang Red Bolt   \\\n461179             False  ...                         False   \n246948             False  ...                         False   \n21168              False  ...                         False   \n434492             False  ...                         False   \n183917             False  ...                         False   \n\n        Item Name_Zhimaxiancai  Item Name_Zhuyecai  Item Name_Zhuyecai   \\\n461179                   False               False                False   \n246948                   False               False                False   \n21168                    False               False                False   \n434492                   False               False                False   \n183917                   False               False                False   \n\n        Category Name_Aquatic Tuberous Vegetables  Category Name_Cabbage  \\\n461179                                      False                  False   \n246948                                      False                  False   \n21168                                       False                  False   \n434492                                      False                  False   \n183917                                      False                  False   \n\n        Category Name_Capsicum  Category Name_Edible Mushroom  \\\n461179                    True                          False   \n246948                   False                          False   \n21168                    False                          False   \n434492                   False                          False   \n183917                   False                          False   \n\n        Category Name_Flower/Leaf Vegetables  Category Name_Solanum  \n461179                                 False                  False  \n246948                                  True                  False  \n21168                                   True                  False  \n434492                                  True                  False  \n183917                                  True                  False  \n\n[5 rows x 199 columns]",
      "text/html": "<div>\n<style scoped>\n    .dataframe tbody tr th:only-of-type {\n        vertical-align: middle;\n    }\n\n    .dataframe tbody tr th {\n        vertical-align: top;\n    }\n\n    .dataframe thead th {\n        text-align: right;\n    }\n</style>\n<table border=\"1\" class=\"dataframe\">\n  <thead>\n    <tr style=\"text-align: right;\">\n      <th></th>\n      <th>Quantity Sold (kilo)</th>\n      <th>Unit Selling Price (RMB/kg)</th>\n      <th>Item Name_7 Colour Pepper</th>\n      <th>Item Name_Agaricus Bisporus</th>\n      <th>Item Name_Aihao</th>\n      <th>Item Name_Amaranth</th>\n      <th>Item Name_Amaranth</th>\n      <th>Item Name_Apricot Bao Mushroom</th>\n      <th>Item Name_Artemisia Stelleriana</th>\n      <th>Item Name_Basil</th>\n      <th>...</th>\n      <th>Item Name_Zhijiang Red Bolt</th>\n      <th>Item Name_Zhimaxiancai</th>\n      <th>Item Name_Zhuyecai</th>\n      <th>Item Name_Zhuyecai</th>\n      <th>Category Name_Aquatic Tuberous Vegetables</th>\n      <th>Category Name_Cabbage</th>\n      <th>Category Name_Capsicum</th>\n      <th>Category Name_Edible Mushroom</th>\n      <th>Category Name_Flower/Leaf Vegetables</th>\n      <th>Category Name_Solanum</th>\n    </tr>\n  </thead>\n  <tbody>\n    <tr>\n      <th>461179</th>\n      <td>0.3</td>\n      <td>14.0</td>\n      <td>False</td>\n      <td>False</td>\n      <td>False</td>\n      <td>False</td>\n      <td>False</td>\n      <td>False</td>\n      <td>False</td>\n      <td>False</td>\n      <td>...</td>\n      <td>False</td>\n      <td>False</td>\n      <td>False</td>\n      <td>False</td>\n      <td>False</td>\n      <td>False</td>\n      <td>True</td>\n      <td>False</td>\n      <td>False</td>\n      <td>False</td>\n    </tr>\n    <tr>\n      <th>246948</th>\n      <td>0.6</td>\n      <td>7.0</td>\n      <td>False</td>\n      <td>False</td>\n      <td>False</td>\n      <td>False</td>\n      <td>False</td>\n      <td>False</td>\n      <td>False</td>\n      <td>False</td>\n      <td>...</td>\n      <td>False</td>\n      <td>False</td>\n      <td>False</td>\n      <td>False</td>\n      <td>False</td>\n      <td>False</td>\n      <td>False</td>\n      <td>False</td>\n      <td>True</td>\n      <td>False</td>\n    </tr>\n    <tr>\n      <th>21168</th>\n      <td>0.8</td>\n      <td>7.0</td>\n      <td>False</td>\n      <td>False</td>\n      <td>False</td>\n      <td>False</td>\n      <td>False</td>\n      <td>False</td>\n      <td>False</td>\n      <td>False</td>\n      <td>...</td>\n      <td>False</td>\n      <td>False</td>\n      <td>False</td>\n      <td>False</td>\n      <td>False</td>\n      <td>False</td>\n      <td>False</td>\n      <td>False</td>\n      <td>True</td>\n      <td>False</td>\n    </tr>\n    <tr>\n      <th>434492</th>\n      <td>0.2</td>\n      <td>7.0</td>\n      <td>False</td>\n      <td>False</td>\n      <td>False</td>\n      <td>False</td>\n      <td>False</td>\n      <td>False</td>\n      <td>False</td>\n      <td>False</td>\n      <td>...</td>\n      <td>False</td>\n      <td>False</td>\n      <td>False</td>\n      <td>False</td>\n      <td>False</td>\n      <td>False</td>\n      <td>False</td>\n      <td>False</td>\n      <td>True</td>\n      <td>False</td>\n    </tr>\n    <tr>\n      <th>183917</th>\n      <td>0.3</td>\n      <td>10.0</td>\n      <td>False</td>\n      <td>False</td>\n      <td>False</td>\n      <td>False</td>\n      <td>False</td>\n      <td>False</td>\n      <td>False</td>\n      <td>False</td>\n      <td>...</td>\n      <td>False</td>\n      <td>False</td>\n      <td>False</td>\n      <td>False</td>\n      <td>False</td>\n      <td>False</td>\n      <td>False</td>\n      <td>False</td>\n      <td>True</td>\n      <td>False</td>\n    </tr>\n  </tbody>\n</table>\n<p>5 rows × 199 columns</p>\n</div>"
     },
     "execution_count": 137,
     "metadata": {},
     "output_type": "execute_result"
    }
   ],
   "source": [
    "df.sample(5)"
   ],
   "metadata": {
    "collapsed": false,
    "ExecuteTime": {
     "end_time": "2023-12-06T13:18:33.730693Z",
     "start_time": "2023-12-06T13:18:33.726752Z"
    }
   },
   "id": "962f3677d7a76cc8"
  },
  {
   "cell_type": "code",
   "execution_count": 138,
   "outputs": [],
   "source": [
    "df.to_csv(\"/Users/rumethsandinu/Study/Assessments/Year 2/DSGP/Datasets/pre_processed_dataset.csv\", index=False)"
   ],
   "metadata": {
    "collapsed": false,
    "ExecuteTime": {
     "end_time": "2023-12-06T13:18:48.223342Z",
     "start_time": "2023-12-06T13:18:33.799757Z"
    }
   },
   "id": "f319078b1df017a3"
  }
 ],
 "metadata": {
  "kernelspec": {
   "display_name": "Python 3",
   "language": "python",
   "name": "python3"
  },
  "language_info": {
   "codemirror_mode": {
    "name": "ipython",
    "version": 2
   },
   "file_extension": ".py",
   "mimetype": "text/x-python",
   "name": "python",
   "nbconvert_exporter": "python",
   "pygments_lexer": "ipython2",
   "version": "2.7.6"
  }
 },
 "nbformat": 4,
 "nbformat_minor": 5
}
