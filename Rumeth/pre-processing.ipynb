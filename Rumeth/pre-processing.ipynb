{
 "cells": [
  {
   "cell_type": "code",
   "execution_count": 1,
   "id": "initial_id",
   "metadata": {
    "collapsed": true,
    "ExecuteTime": {
     "end_time": "2023-11-23T08:38:02.528309Z",
     "start_time": "2023-11-23T08:38:01.613095Z"
    }
   },
   "outputs": [],
   "source": [
    "import pandas as pd\n",
    "from sklearn.preprocessing import StandardScaler\n",
    "import matplotlib.pyplot as plt\n",
    "from sklearn.cluster import KMeans"
   ]
  },
  {
   "cell_type": "code",
   "execution_count": 2,
   "outputs": [
    {
     "data": {
      "text/plain": "                    Item Name Category Name  Quantity Sold (kilo)  \\\n859011            Hongshujian        Flower                 0.440   \n309132  Wuhu Green Pepper (1)      Capsicum                 0.678   \n424217  Wuhu Green Pepper (1)      Capsicum                 0.251   \n601010               Broccoli       Cabbage                 0.465   \n519146         Red Pepper (1)      Capsicum                 0.169   \n\n        Unit Selling Price (RMB/kg) Sale or Return Discount (Yes/No)  \n859011                          8.0           sale                No  \n309132                          4.0           sale                No  \n424217                          8.0           sale                No  \n601010                          8.0           sale                No  \n519146                         16.0           sale                No  ",
      "text/html": "<div>\n<style scoped>\n    .dataframe tbody tr th:only-of-type {\n        vertical-align: middle;\n    }\n\n    .dataframe tbody tr th {\n        vertical-align: top;\n    }\n\n    .dataframe thead th {\n        text-align: right;\n    }\n</style>\n<table border=\"1\" class=\"dataframe\">\n  <thead>\n    <tr style=\"text-align: right;\">\n      <th></th>\n      <th>Item Name</th>\n      <th>Category Name</th>\n      <th>Quantity Sold (kilo)</th>\n      <th>Unit Selling Price (RMB/kg)</th>\n      <th>Sale or Return</th>\n      <th>Discount (Yes/No)</th>\n    </tr>\n  </thead>\n  <tbody>\n    <tr>\n      <th>859011</th>\n      <td>Hongshujian</td>\n      <td>Flower</td>\n      <td>0.440</td>\n      <td>8.0</td>\n      <td>sale</td>\n      <td>No</td>\n    </tr>\n    <tr>\n      <th>309132</th>\n      <td>Wuhu Green Pepper (1)</td>\n      <td>Capsicum</td>\n      <td>0.678</td>\n      <td>4.0</td>\n      <td>sale</td>\n      <td>No</td>\n    </tr>\n    <tr>\n      <th>424217</th>\n      <td>Wuhu Green Pepper (1)</td>\n      <td>Capsicum</td>\n      <td>0.251</td>\n      <td>8.0</td>\n      <td>sale</td>\n      <td>No</td>\n    </tr>\n    <tr>\n      <th>601010</th>\n      <td>Broccoli</td>\n      <td>Cabbage</td>\n      <td>0.465</td>\n      <td>8.0</td>\n      <td>sale</td>\n      <td>No</td>\n    </tr>\n    <tr>\n      <th>519146</th>\n      <td>Red Pepper (1)</td>\n      <td>Capsicum</td>\n      <td>0.169</td>\n      <td>16.0</td>\n      <td>sale</td>\n      <td>No</td>\n    </tr>\n  </tbody>\n</table>\n</div>"
     },
     "execution_count": 2,
     "metadata": {},
     "output_type": "execute_result"
    }
   ],
   "source": [
    "df = pd.read_csv('/Users/rumethsandinu/Study/Assessments/Year 2/DSGP/Datasets/final_cleaned_dataset/cleaned_annex.csv')\n",
    "df.sample(5)"
   ],
   "metadata": {
    "collapsed": false,
    "ExecuteTime": {
     "end_time": "2023-11-23T08:38:02.866154Z",
     "start_time": "2023-11-23T08:38:02.529193Z"
    }
   },
   "id": "8313a95613700d05"
  },
  {
   "cell_type": "code",
   "execution_count": 3,
   "outputs": [
    {
     "data": {
      "text/plain": "Sale or Return\nsale      878042\nreturn       461\nName: count, dtype: int64"
     },
     "execution_count": 3,
     "metadata": {},
     "output_type": "execute_result"
    }
   ],
   "source": [
    "df['Sale or Return'].value_counts()"
   ],
   "metadata": {
    "collapsed": false,
    "ExecuteTime": {
     "end_time": "2023-11-23T08:38:02.927440Z",
     "start_time": "2023-11-23T08:38:02.891616Z"
    }
   },
   "id": "b0482c9be872fd06"
  },
  {
   "cell_type": "code",
   "execution_count": 4,
   "outputs": [
    {
     "name": "stdout",
     "output_type": "stream",
     "text": [
      "<class 'pandas.core.frame.DataFrame'>\n",
      "RangeIndex: 878503 entries, 0 to 878502\n",
      "Data columns (total 6 columns):\n",
      " #   Column                       Non-Null Count   Dtype  \n",
      "---  ------                       --------------   -----  \n",
      " 0   Item Name                    878503 non-null  object \n",
      " 1   Category Name                878503 non-null  object \n",
      " 2   Quantity Sold (kilo)         878503 non-null  float64\n",
      " 3   Unit Selling Price (RMB/kg)  878503 non-null  float64\n",
      " 4   Sale or Return               878503 non-null  object \n",
      " 5   Discount (Yes/No)            878503 non-null  object \n",
      "dtypes: float64(2), object(4)\n",
      "memory usage: 40.2+ MB\n"
     ]
    }
   ],
   "source": [
    "df.info()"
   ],
   "metadata": {
    "collapsed": false,
    "ExecuteTime": {
     "end_time": "2023-11-23T08:38:02.962676Z",
     "start_time": "2023-11-23T08:38:02.895195Z"
    }
   },
   "id": "dac1c49b59693fcd"
  },
  {
   "cell_type": "code",
   "execution_count": 5,
   "outputs": [
    {
     "data": {
      "text/plain": "Discount (Yes/No)\nNo     831137\nYes     47366\nName: count, dtype: int64"
     },
     "execution_count": 5,
     "metadata": {},
     "output_type": "execute_result"
    }
   ],
   "source": [
    "df['Discount (Yes/No)'].value_counts()"
   ],
   "metadata": {
    "collapsed": false,
    "ExecuteTime": {
     "end_time": "2023-11-23T08:38:02.996874Z",
     "start_time": "2023-11-23T08:38:02.992768Z"
    }
   },
   "id": "c851d1885bf2cf9f"
  },
  {
   "cell_type": "code",
   "execution_count": 6,
   "outputs": [],
   "source": [
    "scaler = StandardScaler()\n",
    "df.iloc[:,[2, 3]] = scaler.fit_transform(df.iloc[:,[2, 3]])"
   ],
   "metadata": {
    "collapsed": false,
    "ExecuteTime": {
     "end_time": "2023-11-23T08:38:03.008140Z",
     "start_time": "2023-11-23T08:38:02.994481Z"
    }
   },
   "id": "ae570d44d4b2d4c1"
  },
  {
   "cell_type": "code",
   "execution_count": 7,
   "outputs": [
    {
     "data": {
      "text/plain": "(-1.397049336052622, 17.584892414875554)"
     },
     "execution_count": 7,
     "metadata": {},
     "output_type": "execute_result"
    }
   ],
   "source": [
    "df['Unit Selling Price (RMB/kg)'].min(), df['Unit Selling Price (RMB/kg)'].max()"
   ],
   "metadata": {
    "collapsed": false,
    "ExecuteTime": {
     "end_time": "2023-11-23T08:38:03.012582Z",
     "start_time": "2023-11-23T08:38:03.008952Z"
    }
   },
   "id": "71823ffce4ea06d6"
  },
  {
   "cell_type": "code",
   "execution_count": 8,
   "outputs": [
    {
     "data": {
      "text/plain": "                             Quantity Sold (kilo)  Unit Selling Price (RMB/kg)\nQuantity Sold (kilo)                     1.000000                    -0.374163\nUnit Selling Price (RMB/kg)             -0.374163                     1.000000",
      "text/html": "<div>\n<style scoped>\n    .dataframe tbody tr th:only-of-type {\n        vertical-align: middle;\n    }\n\n    .dataframe tbody tr th {\n        vertical-align: top;\n    }\n\n    .dataframe thead th {\n        text-align: right;\n    }\n</style>\n<table border=\"1\" class=\"dataframe\">\n  <thead>\n    <tr style=\"text-align: right;\">\n      <th></th>\n      <th>Quantity Sold (kilo)</th>\n      <th>Unit Selling Price (RMB/kg)</th>\n    </tr>\n  </thead>\n  <tbody>\n    <tr>\n      <th>Quantity Sold (kilo)</th>\n      <td>1.000000</td>\n      <td>-0.374163</td>\n    </tr>\n    <tr>\n      <th>Unit Selling Price (RMB/kg)</th>\n      <td>-0.374163</td>\n      <td>1.000000</td>\n    </tr>\n  </tbody>\n</table>\n</div>"
     },
     "execution_count": 8,
     "metadata": {},
     "output_type": "execute_result"
    }
   ],
   "source": [
    "df.iloc[:,[2, 3]].corr()"
   ],
   "metadata": {
    "collapsed": false,
    "ExecuteTime": {
     "end_time": "2023-11-23T08:38:03.208713Z",
     "start_time": "2023-11-23T08:38:03.187281Z"
    }
   },
   "id": "962c9c03464f3443"
  },
  {
   "cell_type": "code",
   "execution_count": 9,
   "outputs": [
    {
     "data": {
      "text/plain": "(878503, 254)"
     },
     "execution_count": 9,
     "metadata": {},
     "output_type": "execute_result"
    }
   ],
   "source": [
    "df = pd.get_dummies(df)\n",
    "df.shape"
   ],
   "metadata": {
    "collapsed": false,
    "ExecuteTime": {
     "end_time": "2023-11-23T08:38:04.608608Z",
     "start_time": "2023-11-23T08:38:03.882795Z"
    }
   },
   "id": "61320d2411114576"
  },
  {
   "cell_type": "code",
   "execution_count": 10,
   "outputs": [
    {
     "data": {
      "text/plain": "        Quantity Sold (kilo)  Unit Selling Price (RMB/kg)  \\\n56858              -0.212733                    -0.145319   \n829744             -0.125252                     2.009560   \n735697             -0.227730                    -0.303766   \n410346             -0.310212                     0.171575   \n327105              0.087201                    -0.937553   \n\n        Item Name_7 Colour Pepper (1)  Item Name_7 Colour Pepper (2)  \\\n56858                           False                          False   \n829744                          False                          False   \n735697                          False                          False   \n410346                          False                          False   \n327105                          False                          False   \n\n        Item Name_7 Colour Pepper (Bag)  Item Name_Agaricus Bisporus (Bag)  \\\n56858                             False                              False   \n829744                            False                              False   \n735697                            False                              False   \n410346                            False                              False   \n327105                            False                              False   \n\n        Item Name_Agaricus Bisporus (Box)  Item Name_Aihao  \\\n56858                               False            False   \n829744                              False            False   \n735697                              False            False   \n410346                              False            False   \n327105                              False            False   \n\n        Item Name_Amaranth  Item Name_Amaranth (Bag)  ...  \\\n56858                False                     False  ...   \n829744               False                     False  ...   \n735697               False                     False  ...   \n410346               False                     False  ...   \n327105               False                     False  ...   \n\n        Category Name_Aquatic Tuberous Vegetables  Category Name_Cabbage  \\\n56858                                       False                  False   \n829744                                      False                  False   \n735697                                      False                  False   \n410346                                      False                  False   \n327105                                      False                  False   \n\n        Category Name_Capsicum  Category Name_Edible Mushroom  \\\n56858                     True                          False   \n829744                   False                           True   \n735697                   False                          False   \n410346                   False                          False   \n327105                    True                          False   \n\n        Category Name_Flower  Category Name_Solanum  Sale or Return_return  \\\n56858                  False                  False                  False   \n829744                 False                  False                  False   \n735697                  True                  False                  False   \n410346                  True                  False                  False   \n327105                 False                  False                  False   \n\n        Sale or Return_sale  Discount (Yes/No)_No  Discount (Yes/No)_Yes  \n56858                  True                  True                  False  \n829744                 True                  True                  False  \n735697                 True                  True                  False  \n410346                 True                  True                  False  \n327105                 True                  True                  False  \n\n[5 rows x 254 columns]",
      "text/html": "<div>\n<style scoped>\n    .dataframe tbody tr th:only-of-type {\n        vertical-align: middle;\n    }\n\n    .dataframe tbody tr th {\n        vertical-align: top;\n    }\n\n    .dataframe thead th {\n        text-align: right;\n    }\n</style>\n<table border=\"1\" class=\"dataframe\">\n  <thead>\n    <tr style=\"text-align: right;\">\n      <th></th>\n      <th>Quantity Sold (kilo)</th>\n      <th>Unit Selling Price (RMB/kg)</th>\n      <th>Item Name_7 Colour Pepper (1)</th>\n      <th>Item Name_7 Colour Pepper (2)</th>\n      <th>Item Name_7 Colour Pepper (Bag)</th>\n      <th>Item Name_Agaricus Bisporus (Bag)</th>\n      <th>Item Name_Agaricus Bisporus (Box)</th>\n      <th>Item Name_Aihao</th>\n      <th>Item Name_Amaranth</th>\n      <th>Item Name_Amaranth (Bag)</th>\n      <th>...</th>\n      <th>Category Name_Aquatic Tuberous Vegetables</th>\n      <th>Category Name_Cabbage</th>\n      <th>Category Name_Capsicum</th>\n      <th>Category Name_Edible Mushroom</th>\n      <th>Category Name_Flower</th>\n      <th>Category Name_Solanum</th>\n      <th>Sale or Return_return</th>\n      <th>Sale or Return_sale</th>\n      <th>Discount (Yes/No)_No</th>\n      <th>Discount (Yes/No)_Yes</th>\n    </tr>\n  </thead>\n  <tbody>\n    <tr>\n      <th>56858</th>\n      <td>-0.212733</td>\n      <td>-0.145319</td>\n      <td>False</td>\n      <td>False</td>\n      <td>False</td>\n      <td>False</td>\n      <td>False</td>\n      <td>False</td>\n      <td>False</td>\n      <td>False</td>\n      <td>...</td>\n      <td>False</td>\n      <td>False</td>\n      <td>True</td>\n      <td>False</td>\n      <td>False</td>\n      <td>False</td>\n      <td>False</td>\n      <td>True</td>\n      <td>True</td>\n      <td>False</td>\n    </tr>\n    <tr>\n      <th>829744</th>\n      <td>-0.125252</td>\n      <td>2.009560</td>\n      <td>False</td>\n      <td>False</td>\n      <td>False</td>\n      <td>False</td>\n      <td>False</td>\n      <td>False</td>\n      <td>False</td>\n      <td>False</td>\n      <td>...</td>\n      <td>False</td>\n      <td>False</td>\n      <td>False</td>\n      <td>True</td>\n      <td>False</td>\n      <td>False</td>\n      <td>False</td>\n      <td>True</td>\n      <td>True</td>\n      <td>False</td>\n    </tr>\n    <tr>\n      <th>735697</th>\n      <td>-0.227730</td>\n      <td>-0.303766</td>\n      <td>False</td>\n      <td>False</td>\n      <td>False</td>\n      <td>False</td>\n      <td>False</td>\n      <td>False</td>\n      <td>False</td>\n      <td>False</td>\n      <td>...</td>\n      <td>False</td>\n      <td>False</td>\n      <td>False</td>\n      <td>False</td>\n      <td>True</td>\n      <td>False</td>\n      <td>False</td>\n      <td>True</td>\n      <td>True</td>\n      <td>False</td>\n    </tr>\n    <tr>\n      <th>410346</th>\n      <td>-0.310212</td>\n      <td>0.171575</td>\n      <td>False</td>\n      <td>False</td>\n      <td>False</td>\n      <td>False</td>\n      <td>False</td>\n      <td>False</td>\n      <td>False</td>\n      <td>False</td>\n      <td>...</td>\n      <td>False</td>\n      <td>False</td>\n      <td>False</td>\n      <td>False</td>\n      <td>True</td>\n      <td>False</td>\n      <td>False</td>\n      <td>True</td>\n      <td>True</td>\n      <td>False</td>\n    </tr>\n    <tr>\n      <th>327105</th>\n      <td>0.087201</td>\n      <td>-0.937553</td>\n      <td>False</td>\n      <td>False</td>\n      <td>False</td>\n      <td>False</td>\n      <td>False</td>\n      <td>False</td>\n      <td>False</td>\n      <td>False</td>\n      <td>...</td>\n      <td>False</td>\n      <td>False</td>\n      <td>True</td>\n      <td>False</td>\n      <td>False</td>\n      <td>False</td>\n      <td>False</td>\n      <td>True</td>\n      <td>True</td>\n      <td>False</td>\n    </tr>\n  </tbody>\n</table>\n<p>5 rows × 254 columns</p>\n</div>"
     },
     "execution_count": 10,
     "metadata": {},
     "output_type": "execute_result"
    }
   ],
   "source": [
    "df.sample(5)"
   ],
   "metadata": {
    "collapsed": false,
    "ExecuteTime": {
     "end_time": "2023-11-23T08:38:04.629777Z",
     "start_time": "2023-11-23T08:38:04.609871Z"
    }
   },
   "id": "859e7a8200e5c83f"
  },
  {
   "cell_type": "code",
   "execution_count": null,
   "outputs": [],
   "source": [
    "k_values = range(2,21)\n",
    "\n",
    "wcss_values = []\n",
    "\n",
    "for k in k_values:\n",
    "    print(f'Training : {k}')\n",
    "    kmeans = KMeans(n_clusters=k, random_state=42)\n",
    "    kmeans.fit(df)\n",
    "    wcss_values.append(kmeans.inertia_)\n",
    "    print(f'Clusters --> \\u001B[34m{k}\\u001B[39m    WCSS --> \\u001B[31m{wcss_values[-1]}\\u001B[39m')"
   ],
   "metadata": {
    "collapsed": false
   },
   "id": "4ba586ebe25af939"
  },
  {
   "cell_type": "code",
   "execution_count": null,
   "outputs": [],
   "source": [
    "# Plot the results\n",
    "plt.plot(k_values, wcss_values, marker='o')\n",
    "plt.title('Randomly Sampled WCSS for Different K Values')\n",
    "plt.xlabel('Number of Clusters (K)')\n",
    "plt.ylabel('WCSS')\n",
    "plt.show()"
   ],
   "metadata": {
    "collapsed": false
   },
   "id": "fa04aad0c78f3b10"
  },
  {
   "cell_type": "code",
   "execution_count": 11,
   "outputs": [
    {
     "name": "stderr",
     "output_type": "stream",
     "text": [
      "/Users/rumethsandinu/Library/Python/3.9/lib/python/site-packages/sklearn/cluster/_kmeans.py:1416: FutureWarning: The default value of `n_init` will change from 10 to 'auto' in 1.4. Set the value of `n_init` explicitly to suppress the warning\n",
      "  super()._check_params_vs_input(X, default_n_init=10)\n"
     ]
    }
   ],
   "source": [
    "model = KMeans(n_clusters=13)\n",
    "pred = model.fit_predict(df)"
   ],
   "metadata": {
    "collapsed": false,
    "ExecuteTime": {
     "end_time": "2023-11-23T08:39:18.110396Z",
     "start_time": "2023-11-23T08:38:09.612621Z"
    }
   },
   "id": "60a54a0c3bb06ca9"
  },
  {
   "cell_type": "code",
   "execution_count": 12,
   "outputs": [
    {
     "data": {
      "text/plain": "array([8, 6, 8, ..., 3, 2, 8], dtype=int32)"
     },
     "execution_count": 12,
     "metadata": {},
     "output_type": "execute_result"
    }
   ],
   "source": [
    "pred"
   ],
   "metadata": {
    "collapsed": false,
    "ExecuteTime": {
     "end_time": "2023-11-23T08:39:18.116678Z",
     "start_time": "2023-11-23T08:39:18.113652Z"
    }
   },
   "id": "2fbf183c1adb5db6"
  },
  {
   "cell_type": "code",
   "execution_count": 13,
   "outputs": [
    {
     "data": {
      "text/plain": "   Quantity Sold (kilo)  Unit Selling Price (RMB/kg)  \\\n0             -0.350203                    -0.208697   \n1              0.782050                    -0.905864   \n2             -0.317710                    -0.208697   \n3             -0.287717                     0.171575   \n4              0.007219                    -0.145319   \n\n   Item Name_7 Colour Pepper (1)  Item Name_7 Colour Pepper (2)  \\\n0                          False                          False   \n1                          False                          False   \n2                          False                          False   \n3                          False                          False   \n4                          False                          False   \n\n   Item Name_7 Colour Pepper (Bag)  Item Name_Agaricus Bisporus (Bag)  \\\n0                            False                              False   \n1                            False                              False   \n2                            False                              False   \n3                            False                              False   \n4                            False                              False   \n\n   Item Name_Agaricus Bisporus (Box)  Item Name_Aihao  Item Name_Amaranth  \\\n0                              False            False               False   \n1                              False            False               False   \n2                              False            False               False   \n3                              False            False               False   \n4                              False            False               False   \n\n   Item Name_Amaranth (Bag)  ...  Category Name_Cabbage  \\\n0                     False  ...                  False   \n1                     False  ...                  False   \n2                     False  ...                  False   \n3                     False  ...                  False   \n4                     False  ...                  False   \n\n   Category Name_Capsicum  Category Name_Edible Mushroom  \\\n0                    True                          False   \n1                   False                          False   \n2                    True                          False   \n3                   False                          False   \n4                   False                          False   \n\n   Category Name_Flower  Category Name_Solanum  Sale or Return_return  \\\n0                 False                  False                  False   \n1                  True                  False                  False   \n2                 False                  False                  False   \n3                  True                  False                  False   \n4                  True                  False                  False   \n\n   Sale or Return_sale  Discount (Yes/No)_No  Discount (Yes/No)_Yes  cluster  \n0                 True                  True                  False        8  \n1                 True                  True                  False        6  \n2                 True                  True                  False        8  \n3                 True                  True                  False        1  \n4                 True                  True                  False        1  \n\n[5 rows x 255 columns]",
      "text/html": "<div>\n<style scoped>\n    .dataframe tbody tr th:only-of-type {\n        vertical-align: middle;\n    }\n\n    .dataframe tbody tr th {\n        vertical-align: top;\n    }\n\n    .dataframe thead th {\n        text-align: right;\n    }\n</style>\n<table border=\"1\" class=\"dataframe\">\n  <thead>\n    <tr style=\"text-align: right;\">\n      <th></th>\n      <th>Quantity Sold (kilo)</th>\n      <th>Unit Selling Price (RMB/kg)</th>\n      <th>Item Name_7 Colour Pepper (1)</th>\n      <th>Item Name_7 Colour Pepper (2)</th>\n      <th>Item Name_7 Colour Pepper (Bag)</th>\n      <th>Item Name_Agaricus Bisporus (Bag)</th>\n      <th>Item Name_Agaricus Bisporus (Box)</th>\n      <th>Item Name_Aihao</th>\n      <th>Item Name_Amaranth</th>\n      <th>Item Name_Amaranth (Bag)</th>\n      <th>...</th>\n      <th>Category Name_Cabbage</th>\n      <th>Category Name_Capsicum</th>\n      <th>Category Name_Edible Mushroom</th>\n      <th>Category Name_Flower</th>\n      <th>Category Name_Solanum</th>\n      <th>Sale or Return_return</th>\n      <th>Sale or Return_sale</th>\n      <th>Discount (Yes/No)_No</th>\n      <th>Discount (Yes/No)_Yes</th>\n      <th>cluster</th>\n    </tr>\n  </thead>\n  <tbody>\n    <tr>\n      <th>0</th>\n      <td>-0.350203</td>\n      <td>-0.208697</td>\n      <td>False</td>\n      <td>False</td>\n      <td>False</td>\n      <td>False</td>\n      <td>False</td>\n      <td>False</td>\n      <td>False</td>\n      <td>False</td>\n      <td>...</td>\n      <td>False</td>\n      <td>True</td>\n      <td>False</td>\n      <td>False</td>\n      <td>False</td>\n      <td>False</td>\n      <td>True</td>\n      <td>True</td>\n      <td>False</td>\n      <td>8</td>\n    </tr>\n    <tr>\n      <th>1</th>\n      <td>0.782050</td>\n      <td>-0.905864</td>\n      <td>False</td>\n      <td>False</td>\n      <td>False</td>\n      <td>False</td>\n      <td>False</td>\n      <td>False</td>\n      <td>False</td>\n      <td>False</td>\n      <td>...</td>\n      <td>False</td>\n      <td>False</td>\n      <td>False</td>\n      <td>True</td>\n      <td>False</td>\n      <td>False</td>\n      <td>True</td>\n      <td>True</td>\n      <td>False</td>\n      <td>6</td>\n    </tr>\n    <tr>\n      <th>2</th>\n      <td>-0.317710</td>\n      <td>-0.208697</td>\n      <td>False</td>\n      <td>False</td>\n      <td>False</td>\n      <td>False</td>\n      <td>False</td>\n      <td>False</td>\n      <td>False</td>\n      <td>False</td>\n      <td>...</td>\n      <td>False</td>\n      <td>True</td>\n      <td>False</td>\n      <td>False</td>\n      <td>False</td>\n      <td>False</td>\n      <td>True</td>\n      <td>True</td>\n      <td>False</td>\n      <td>8</td>\n    </tr>\n    <tr>\n      <th>3</th>\n      <td>-0.287717</td>\n      <td>0.171575</td>\n      <td>False</td>\n      <td>False</td>\n      <td>False</td>\n      <td>False</td>\n      <td>False</td>\n      <td>False</td>\n      <td>False</td>\n      <td>False</td>\n      <td>...</td>\n      <td>False</td>\n      <td>False</td>\n      <td>False</td>\n      <td>True</td>\n      <td>False</td>\n      <td>False</td>\n      <td>True</td>\n      <td>True</td>\n      <td>False</td>\n      <td>1</td>\n    </tr>\n    <tr>\n      <th>4</th>\n      <td>0.007219</td>\n      <td>-0.145319</td>\n      <td>False</td>\n      <td>False</td>\n      <td>False</td>\n      <td>False</td>\n      <td>False</td>\n      <td>False</td>\n      <td>False</td>\n      <td>False</td>\n      <td>...</td>\n      <td>False</td>\n      <td>False</td>\n      <td>False</td>\n      <td>True</td>\n      <td>False</td>\n      <td>False</td>\n      <td>True</td>\n      <td>True</td>\n      <td>False</td>\n      <td>1</td>\n    </tr>\n  </tbody>\n</table>\n<p>5 rows × 255 columns</p>\n</div>"
     },
     "execution_count": 13,
     "metadata": {},
     "output_type": "execute_result"
    }
   ],
   "source": [
    "df['cluster'] = pred\n",
    "df.head(5)"
   ],
   "metadata": {
    "collapsed": false,
    "ExecuteTime": {
     "end_time": "2023-11-23T08:39:18.154264Z",
     "start_time": "2023-11-23T08:39:18.122139Z"
    }
   },
   "id": "bf3eb4d6251dbc2e"
  },
  {
   "cell_type": "code",
   "execution_count": 14,
   "outputs": [],
   "source": [
    "c1 = df[df['cluster'] == 0]\n",
    "c2 = df[df['cluster'] == 1]\n",
    "c3 = df[df['cluster'] == 2]\n",
    "c4 = df[df['cluster'] == 3]\n",
    "c5 = df[df['cluster'] == 4]\n",
    "c6 = df[df['cluster'] == 5]\n",
    "c7 = df[df['cluster'] == 6]\n",
    "c8 = df[df['cluster'] == 7]\n",
    "c9 = df[df['cluster'] == 8]\n",
    "c10 = df[df['cluster'] == 9]\n",
    "c11 = df[df['cluster'] == 10]\n",
    "c12 = df[df['cluster'] == 11]\n",
    "c13 = df[df['cluster'] == 12]"
   ],
   "metadata": {
    "collapsed": false,
    "ExecuteTime": {
     "end_time": "2023-11-23T08:39:18.406740Z",
     "start_time": "2023-11-23T08:39:18.148320Z"
    }
   },
   "id": "cc21e03dc648a572"
  },
  {
   "cell_type": "code",
   "execution_count": 15,
   "outputs": [
    {
     "data": {
      "text/plain": "<matplotlib.collections.PathCollection at 0x169e93340>"
     },
     "execution_count": 15,
     "metadata": {},
     "output_type": "execute_result"
    },
    {
     "data": {
      "text/plain": "<Figure size 640x480 with 1 Axes>",
      "image/png": "[encoded data removed]"
     },
     "metadata": {},
     "output_type": "display_data"
    }
   ],
   "source": [
    "plt.scatter(c1['Unit Selling Price (RMB/kg)'], c1['Quantity Sold (kilo)'])\n",
    "plt.scatter(c2['Unit Selling Price (RMB/kg)'], c2['Quantity Sold (kilo)'])\n",
    "plt.scatter(c3['Unit Selling Price (RMB/kg)'], c3['Quantity Sold (kilo)'])\n",
    "plt.scatter(c4['Unit Selling Price (RMB/kg)'], c4['Quantity Sold (kilo)'])\n",
    "plt.scatter(c5['Unit Selling Price (RMB/kg)'], c5['Quantity Sold (kilo)'])\n",
    "plt.scatter(c6['Unit Selling Price (RMB/kg)'], c6['Quantity Sold (kilo)'])\n",
    "plt.scatter(c7['Unit Selling Price (RMB/kg)'], c7['Quantity Sold (kilo)'])\n",
    "plt.scatter(c8['Unit Selling Price (RMB/kg)'], c8['Quantity Sold (kilo)'])\n",
    "plt.scatter(c9['Unit Selling Price (RMB/kg)'], c9['Quantity Sold (kilo)'])\n",
    "plt.scatter(c10['Unit Selling Price (RMB/kg)'], c10['Quantity Sold (kilo)'])\n",
    "plt.scatter(c11['Unit Selling Price (RMB/kg)'], c11['Quantity Sold (kilo)'])\n",
    "plt.scatter(c12['Unit Selling Price (RMB/kg)'], c12['Quantity Sold (kilo)'])\n",
    "plt.scatter(c13['Unit Selling Price (RMB/kg)'], c13['Quantity Sold (kilo)'])"
   ],
   "metadata": {
    "collapsed": false,
    "ExecuteTime": {
     "end_time": "2023-11-23T08:39:19.475769Z",
     "start_time": "2023-11-23T08:39:18.412818Z"
    }
   },
   "id": "3a92020fce495345"
  },
  {
   "cell_type": "code",
   "execution_count": null,
   "outputs": [],
   "source": [],
   "metadata": {
    "collapsed": false
   },
   "id": "8c08928dac04ec6a"
  }
 ],
 "metadata": {
  "kernelspec": {
   "display_name": "Python 3",
   "language": "python",
   "name": "python3"
  },
  "language_info": {
   "codemirror_mode": {
    "name": "ipython",
    "version": 2
   },
   "file_extension": ".py",
   "mimetype": "text/x-python",
   "name": "python",
   "nbconvert_exporter": "python",
   "pygments_lexer": "ipython2",
   "version": "2.7.6"
  }
 },
 "nbformat": 4,
 "nbformat_minor": 5
}
