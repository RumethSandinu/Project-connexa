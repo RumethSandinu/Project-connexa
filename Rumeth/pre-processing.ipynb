{
 "cells": [
  {
   "cell_type": "code",
   "execution_count": 1,
   "id": "initial_id",
   "metadata": {
    "collapsed": true,
    "ExecuteTime": {
     "end_time": "2023-11-23T02:48:07.578369Z",
     "start_time": "2023-11-23T02:48:06.603450Z"
    }
   },
   "outputs": [],
   "source": [
    "import pandas as pd\n",
    "from sklearn.preprocessing import StandardScaler"
   ]
  },
  {
   "cell_type": "code",
   "execution_count": 2,
   "outputs": [
    {
     "data": {
      "text/plain": "                     Item Name    Category Name  Quantity Sold (kilo)  \\\n581994   Wuhu Green Pepper (1)         Capsicum                 0.348   \n780179            Shanghaiqing           Flower                 0.645   \n269510  Fresh Black Fungus (1)  Edible Mushroom                 0.315   \n296526   Wuhu Green Pepper (1)         Capsicum                 0.502   \n231024            Luosi Pepper         Capsicum                 0.265   \n\n        Unit Selling Price (RMB/kg) Sale or Return Discount (Yes/No)  \n581994                          3.2           sale                No  \n780179                         16.0           sale                No  \n269510                         14.0           sale                No  \n296526                          6.0           sale                No  \n231024                         23.8           sale                No  ",
      "text/html": "<div>\n<style scoped>\n    .dataframe tbody tr th:only-of-type {\n        vertical-align: middle;\n    }\n\n    .dataframe tbody tr th {\n        vertical-align: top;\n    }\n\n    .dataframe thead th {\n        text-align: right;\n    }\n</style>\n<table border=\"1\" class=\"dataframe\">\n  <thead>\n    <tr style=\"text-align: right;\">\n      <th></th>\n      <th>Item Name</th>\n      <th>Category Name</th>\n      <th>Quantity Sold (kilo)</th>\n      <th>Unit Selling Price (RMB/kg)</th>\n      <th>Sale or Return</th>\n      <th>Discount (Yes/No)</th>\n    </tr>\n  </thead>\n  <tbody>\n    <tr>\n      <th>581994</th>\n      <td>Wuhu Green Pepper (1)</td>\n      <td>Capsicum</td>\n      <td>0.348</td>\n      <td>3.2</td>\n      <td>sale</td>\n      <td>No</td>\n    </tr>\n    <tr>\n      <th>780179</th>\n      <td>Shanghaiqing</td>\n      <td>Flower</td>\n      <td>0.645</td>\n      <td>16.0</td>\n      <td>sale</td>\n      <td>No</td>\n    </tr>\n    <tr>\n      <th>269510</th>\n      <td>Fresh Black Fungus (1)</td>\n      <td>Edible Mushroom</td>\n      <td>0.315</td>\n      <td>14.0</td>\n      <td>sale</td>\n      <td>No</td>\n    </tr>\n    <tr>\n      <th>296526</th>\n      <td>Wuhu Green Pepper (1)</td>\n      <td>Capsicum</td>\n      <td>0.502</td>\n      <td>6.0</td>\n      <td>sale</td>\n      <td>No</td>\n    </tr>\n    <tr>\n      <th>231024</th>\n      <td>Luosi Pepper</td>\n      <td>Capsicum</td>\n      <td>0.265</td>\n      <td>23.8</td>\n      <td>sale</td>\n      <td>No</td>\n    </tr>\n  </tbody>\n</table>\n</div>"
     },
     "execution_count": 2,
     "metadata": {},
     "output_type": "execute_result"
    }
   ],
   "source": [
    "df = pd.read_csv('/Users/rumethsandinu/Study/Assessments/Year 2/DSGP/Datasets/final_cleaned_dataset/cleaned_annex.csv')\n",
    "df.sample(5)"
   ],
   "metadata": {
    "collapsed": false,
    "ExecuteTime": {
     "end_time": "2023-11-23T02:48:07.879861Z",
     "start_time": "2023-11-23T02:48:07.582285Z"
    }
   },
   "id": "8313a95613700d05"
  },
  {
   "cell_type": "code",
   "execution_count": 3,
   "outputs": [
    {
     "data": {
      "text/plain": "Sale or Return\nsale      878042\nreturn       461\nName: count, dtype: int64"
     },
     "execution_count": 3,
     "metadata": {},
     "output_type": "execute_result"
    }
   ],
   "source": [
    "df['Sale or Return'].value_counts()"
   ],
   "metadata": {
    "collapsed": false,
    "ExecuteTime": {
     "end_time": "2023-11-23T02:48:09.644188Z",
     "start_time": "2023-11-23T02:48:09.638547Z"
    }
   },
   "id": "b0482c9be872fd06"
  },
  {
   "cell_type": "code",
   "execution_count": 4,
   "outputs": [
    {
     "name": "stdout",
     "output_type": "stream",
     "text": [
      "<class 'pandas.core.frame.DataFrame'>\n",
      "RangeIndex: 878503 entries, 0 to 878502\n",
      "Data columns (total 6 columns):\n",
      " #   Column                       Non-Null Count   Dtype  \n",
      "---  ------                       --------------   -----  \n",
      " 0   Item Name                    878503 non-null  object \n",
      " 1   Category Name                878503 non-null  object \n",
      " 2   Quantity Sold (kilo)         878503 non-null  float64\n",
      " 3   Unit Selling Price (RMB/kg)  878503 non-null  float64\n",
      " 4   Sale or Return               878503 non-null  object \n",
      " 5   Discount (Yes/No)            878503 non-null  object \n",
      "dtypes: float64(2), object(4)\n",
      "memory usage: 40.2+ MB\n"
     ]
    }
   ],
   "source": [
    "df.info()"
   ],
   "metadata": {
    "collapsed": false,
    "ExecuteTime": {
     "end_time": "2023-11-23T02:48:10.922626Z",
     "start_time": "2023-11-23T02:48:10.826758Z"
    }
   },
   "id": "dac1c49b59693fcd"
  },
  {
   "cell_type": "code",
   "execution_count": 5,
   "outputs": [
    {
     "data": {
      "text/plain": "Discount (Yes/No)\nNo     831137\nYes     47366\nName: count, dtype: int64"
     },
     "execution_count": 5,
     "metadata": {},
     "output_type": "execute_result"
    }
   ],
   "source": [
    "df['Discount (Yes/No)'].value_counts()"
   ],
   "metadata": {
    "collapsed": false,
    "ExecuteTime": {
     "end_time": "2023-11-23T02:48:12.989120Z",
     "start_time": "2023-11-23T02:48:12.982717Z"
    }
   },
   "id": "c851d1885bf2cf9f"
  },
  {
   "cell_type": "code",
   "execution_count": 6,
   "outputs": [],
   "source": [
    "scaler = StandardScaler()\n",
    "df.iloc[:,[2, 3]] = scaler.fit_transform(df.iloc[:,[2, 3]])"
   ],
   "metadata": {
    "collapsed": false,
    "ExecuteTime": {
     "end_time": "2023-11-23T02:48:14.105524Z",
     "start_time": "2023-11-23T02:48:14.080389Z"
    }
   },
   "id": "ae570d44d4b2d4c1"
  },
  {
   "cell_type": "code",
   "execution_count": 8,
   "outputs": [
    {
     "data": {
      "text/plain": "(-1.397049336052622, 17.584892414875554)"
     },
     "execution_count": 8,
     "metadata": {},
     "output_type": "execute_result"
    }
   ],
   "source": [
    "df['Unit Selling Price (RMB/kg)'].min(), df['Unit Selling Price (RMB/kg)'].max()"
   ],
   "metadata": {
    "collapsed": false,
    "ExecuteTime": {
     "end_time": "2023-11-23T02:48:35.832511Z",
     "start_time": "2023-11-23T02:48:35.826994Z"
    }
   },
   "id": "71823ffce4ea06d6"
  },
  {
   "cell_type": "code",
   "execution_count": 9,
   "outputs": [
    {
     "data": {
      "text/plain": "                             Quantity Sold (kilo)  Unit Selling Price (RMB/kg)\nQuantity Sold (kilo)                     1.000000                    -0.374163\nUnit Selling Price (RMB/kg)             -0.374163                     1.000000",
      "text/html": "<div>\n<style scoped>\n    .dataframe tbody tr th:only-of-type {\n        vertical-align: middle;\n    }\n\n    .dataframe tbody tr th {\n        vertical-align: top;\n    }\n\n    .dataframe thead th {\n        text-align: right;\n    }\n</style>\n<table border=\"1\" class=\"dataframe\">\n  <thead>\n    <tr style=\"text-align: right;\">\n      <th></th>\n      <th>Quantity Sold (kilo)</th>\n      <th>Unit Selling Price (RMB/kg)</th>\n    </tr>\n  </thead>\n  <tbody>\n    <tr>\n      <th>Quantity Sold (kilo)</th>\n      <td>1.000000</td>\n      <td>-0.374163</td>\n    </tr>\n    <tr>\n      <th>Unit Selling Price (RMB/kg)</th>\n      <td>-0.374163</td>\n      <td>1.000000</td>\n    </tr>\n  </tbody>\n</table>\n</div>"
     },
     "execution_count": 9,
     "metadata": {},
     "output_type": "execute_result"
    }
   ],
   "source": [
    "df.iloc[:,[2, 3]].corr()"
   ],
   "metadata": {
    "collapsed": false,
    "ExecuteTime": {
     "end_time": "2023-11-23T02:48:48.523016Z",
     "start_time": "2023-11-23T02:48:48.496695Z"
    }
   },
   "id": "962c9c03464f3443"
  },
  {
   "cell_type": "code",
   "execution_count": 10,
   "outputs": [
    {
     "data": {
      "text/plain": "(878503, 254)"
     },
     "execution_count": 10,
     "metadata": {},
     "output_type": "execute_result"
    }
   ],
   "source": [
    "df = pd.get_dummies(df)\n",
    "df.shape"
   ],
   "metadata": {
    "collapsed": false,
    "ExecuteTime": {
     "end_time": "2023-11-23T02:48:51.983771Z",
     "start_time": "2023-11-23T02:48:51.317555Z"
    }
   },
   "id": "61320d2411114576"
  },
  {
   "cell_type": "code",
   "execution_count": 11,
   "outputs": [
    {
     "data": {
      "text/plain": "        Quantity Sold (kilo)  Unit Selling Price (RMB/kg)  \\\n679223              1.159467                    -0.794951   \n502208              0.442124                     0.171575   \n485205             -0.965069                     0.805363   \n570457             -0.667634                    -0.462212   \n293531             -0.620145                    -0.145319   \n\n        Item Name_7 Colour Pepper (1)  Item Name_7 Colour Pepper (2)  \\\n679223                          False                          False   \n502208                          False                          False   \n485205                          False                          False   \n570457                          False                          False   \n293531                          False                          False   \n\n        Item Name_7 Colour Pepper (Bag)  Item Name_Agaricus Bisporus (Bag)  \\\n679223                            False                              False   \n502208                            False                              False   \n485205                            False                              False   \n570457                            False                              False   \n293531                            False                              False   \n\n        Item Name_Agaricus Bisporus (Box)  Item Name_Aihao  \\\n679223                              False            False   \n502208                              False            False   \n485205                              False            False   \n570457                              False            False   \n293531                              False            False   \n\n        Item Name_Amaranth  Item Name_Amaranth (Bag)  ...  \\\n679223               False                     False  ...   \n502208               False                     False  ...   \n485205               False                     False  ...   \n570457               False                     False  ...   \n293531               False                     False  ...   \n\n        Category Name_Aquatic Tuberous Vegetables  Category Name_Cabbage  \\\n679223                                      False                  False   \n502208                                      False                  False   \n485205                                      False                  False   \n570457                                      False                  False   \n293531                                      False                  False   \n\n        Category Name_Capsicum  Category Name_Edible Mushroom  \\\n679223                   False                           True   \n502208                   False                          False   \n485205                   False                           True   \n570457                   False                          False   \n293531                   False                          False   \n\n        Category Name_Flower  Category Name_Solanum  Sale or Return_return  \\\n679223                 False                  False                  False   \n502208                  True                  False                  False   \n485205                 False                  False                  False   \n570457                  True                  False                  False   \n293531                  True                  False                  False   \n\n        Sale or Return_sale  Discount (Yes/No)_No  Discount (Yes/No)_Yes  \n679223                 True                  True                  False  \n502208                 True                  True                  False  \n485205                 True                  True                  False  \n570457                 True                  True                  False  \n293531                 True                  True                  False  \n\n[5 rows x 254 columns]",
      "text/html": "<div>\n<style scoped>\n    .dataframe tbody tr th:only-of-type {\n        vertical-align: middle;\n    }\n\n    .dataframe tbody tr th {\n        vertical-align: top;\n    }\n\n    .dataframe thead th {\n        text-align: right;\n    }\n</style>\n<table border=\"1\" class=\"dataframe\">\n  <thead>\n    <tr style=\"text-align: right;\">\n      <th></th>\n      <th>Quantity Sold (kilo)</th>\n      <th>Unit Selling Price (RMB/kg)</th>\n      <th>Item Name_7 Colour Pepper (1)</th>\n      <th>Item Name_7 Colour Pepper (2)</th>\n      <th>Item Name_7 Colour Pepper (Bag)</th>\n      <th>Item Name_Agaricus Bisporus (Bag)</th>\n      <th>Item Name_Agaricus Bisporus (Box)</th>\n      <th>Item Name_Aihao</th>\n      <th>Item Name_Amaranth</th>\n      <th>Item Name_Amaranth (Bag)</th>\n      <th>...</th>\n      <th>Category Name_Aquatic Tuberous Vegetables</th>\n      <th>Category Name_Cabbage</th>\n      <th>Category Name_Capsicum</th>\n      <th>Category Name_Edible Mushroom</th>\n      <th>Category Name_Flower</th>\n      <th>Category Name_Solanum</th>\n      <th>Sale or Return_return</th>\n      <th>Sale or Return_sale</th>\n      <th>Discount (Yes/No)_No</th>\n      <th>Discount (Yes/No)_Yes</th>\n    </tr>\n  </thead>\n  <tbody>\n    <tr>\n      <th>679223</th>\n      <td>1.159467</td>\n      <td>-0.794951</td>\n      <td>False</td>\n      <td>False</td>\n      <td>False</td>\n      <td>False</td>\n      <td>False</td>\n      <td>False</td>\n      <td>False</td>\n      <td>False</td>\n      <td>...</td>\n      <td>False</td>\n      <td>False</td>\n      <td>False</td>\n      <td>True</td>\n      <td>False</td>\n      <td>False</td>\n      <td>False</td>\n      <td>True</td>\n      <td>True</td>\n      <td>False</td>\n    </tr>\n    <tr>\n      <th>502208</th>\n      <td>0.442124</td>\n      <td>0.171575</td>\n      <td>False</td>\n      <td>False</td>\n      <td>False</td>\n      <td>False</td>\n      <td>False</td>\n      <td>False</td>\n      <td>False</td>\n      <td>False</td>\n      <td>...</td>\n      <td>False</td>\n      <td>False</td>\n      <td>False</td>\n      <td>False</td>\n      <td>True</td>\n      <td>False</td>\n      <td>False</td>\n      <td>True</td>\n      <td>True</td>\n      <td>False</td>\n    </tr>\n    <tr>\n      <th>485205</th>\n      <td>-0.965069</td>\n      <td>0.805363</td>\n      <td>False</td>\n      <td>False</td>\n      <td>False</td>\n      <td>False</td>\n      <td>False</td>\n      <td>False</td>\n      <td>False</td>\n      <td>False</td>\n      <td>...</td>\n      <td>False</td>\n      <td>False</td>\n      <td>False</td>\n      <td>True</td>\n      <td>False</td>\n      <td>False</td>\n      <td>False</td>\n      <td>True</td>\n      <td>True</td>\n      <td>False</td>\n    </tr>\n    <tr>\n      <th>570457</th>\n      <td>-0.667634</td>\n      <td>-0.462212</td>\n      <td>False</td>\n      <td>False</td>\n      <td>False</td>\n      <td>False</td>\n      <td>False</td>\n      <td>False</td>\n      <td>False</td>\n      <td>False</td>\n      <td>...</td>\n      <td>False</td>\n      <td>False</td>\n      <td>False</td>\n      <td>False</td>\n      <td>True</td>\n      <td>False</td>\n      <td>False</td>\n      <td>True</td>\n      <td>True</td>\n      <td>False</td>\n    </tr>\n    <tr>\n      <th>293531</th>\n      <td>-0.620145</td>\n      <td>-0.145319</td>\n      <td>False</td>\n      <td>False</td>\n      <td>False</td>\n      <td>False</td>\n      <td>False</td>\n      <td>False</td>\n      <td>False</td>\n      <td>False</td>\n      <td>...</td>\n      <td>False</td>\n      <td>False</td>\n      <td>False</td>\n      <td>False</td>\n      <td>True</td>\n      <td>False</td>\n      <td>False</td>\n      <td>True</td>\n      <td>True</td>\n      <td>False</td>\n    </tr>\n  </tbody>\n</table>\n<p>5 rows × 254 columns</p>\n</div>"
     },
     "execution_count": 11,
     "metadata": {},
     "output_type": "execute_result"
    }
   ],
   "source": [
    "df.sample(5)"
   ],
   "metadata": {
    "collapsed": false,
    "ExecuteTime": {
     "end_time": "2023-11-23T02:48:53.908210Z",
     "start_time": "2023-11-23T02:48:53.876114Z"
    }
   },
   "id": "859e7a8200e5c83f"
  },
  {
   "cell_type": "code",
   "execution_count": null,
   "outputs": [],
   "source": [],
   "metadata": {
    "collapsed": false
   },
   "id": "4ba586ebe25af939"
  }
 ],
 "metadata": {
  "kernelspec": {
   "display_name": "Python 3",
   "language": "python",
   "name": "python3"
  },
  "language_info": {
   "codemirror_mode": {
    "name": "ipython",
    "version": 2
   },
   "file_extension": ".py",
   "mimetype": "text/x-python",
   "name": "python",
   "nbconvert_exporter": "python",
   "pygments_lexer": "ipython2",
   "version": "2.7.6"
  }
 },
 "nbformat": 4,
 "nbformat_minor": 5
}
