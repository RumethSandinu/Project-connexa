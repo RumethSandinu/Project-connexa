{
 "cells": [
  {
   "cell_type": "code",
   "execution_count": 1,
   "id": "initial_id",
   "metadata": {
    "collapsed": true,
    "ExecuteTime": {
     "end_time": "2023-11-23T02:48:07.578369Z",
     "start_time": "2023-11-23T02:48:06.603450Z"
    }
   },
   "outputs": [],
   "source": [
    "import pandas as pd\n",
    "from sklearn.preprocessing import StandardScaler"
   ]
  },
  {
   "cell_type": "code",
   "execution_count": 2,
   "outputs": [
    {
     "data": {
      "text/plain": "                     Item Name    Category Name  Quantity Sold (kilo)  \\\n581994   Wuhu Green Pepper (1)         Capsicum                 0.348   \n780179            Shanghaiqing           Flower                 0.645   \n269510  Fresh Black Fungus (1)  Edible Mushroom                 0.315   \n296526   Wuhu Green Pepper (1)         Capsicum                 0.502   \n231024            Luosi Pepper         Capsicum                 0.265   \n\n        Unit Selling Price (RMB/kg) Sale or Return Discount (Yes/No)  \n581994                          3.2           sale                No  \n780179                         16.0           sale                No  \n269510                         14.0           sale                No  \n296526                          6.0           sale                No  \n231024                         23.8           sale                No  ",
      "text/html": "<div>\n<style scoped>\n    .dataframe tbody tr th:only-of-type {\n        vertical-align: middle;\n    }\n\n    .dataframe tbody tr th {\n        vertical-align: top;\n    }\n\n    .dataframe thead th {\n        text-align: right;\n    }\n</style>\n<table border=\"1\" class=\"dataframe\">\n  <thead>\n    <tr style=\"text-align: right;\">\n      <th></th>\n      <th>Item Name</th>\n      <th>Category Name</th>\n      <th>Quantity Sold (kilo)</th>\n      <th>Unit Selling Price (RMB/kg)</th>\n      <th>Sale or Return</th>\n      <th>Discount (Yes/No)</th>\n    </tr>\n  </thead>\n  <tbody>\n    <tr>\n      <th>581994</th>\n      <td>Wuhu Green Pepper (1)</td>\n      <td>Capsicum</td>\n      <td>0.348</td>\n      <td>3.2</td>\n      <td>sale</td>\n      <td>No</td>\n    </tr>\n    <tr>\n      <th>780179</th>\n      <td>Shanghaiqing</td>\n      <td>Flower</td>\n      <td>0.645</td>\n      <td>16.0</td>\n      <td>sale</td>\n      <td>No</td>\n    </tr>\n    <tr>\n      <th>269510</th>\n      <td>Fresh Black Fungus (1)</td>\n      <td>Edible Mushroom</td>\n      <td>0.315</td>\n      <td>14.0</td>\n      <td>sale</td>\n      <td>No</td>\n    </tr>\n    <tr>\n      <th>296526</th>\n      <td>Wuhu Green Pepper (1)</td>\n      <td>Capsicum</td>\n      <td>0.502</td>\n      <td>6.0</td>\n      <td>sale</td>\n      <td>No</td>\n    </tr>\n    <tr>\n      <th>231024</th>\n      <td>Luosi Pepper</td>\n      <td>Capsicum</td>\n      <td>0.265</td>\n      <td>23.8</td>\n      <td>sale</td>\n      <td>No</td>\n    </tr>\n  </tbody>\n</table>\n</div>"
     },
     "execution_count": 2,
     "metadata": {},
     "output_type": "execute_result"
    }
   ],
   "source": [
    "df = pd.read_csv('/Users/rumethsandinu/Study/Assessments/Year 2/DSGP/Datasets/final_cleaned_dataset/cleaned_annex.csv')\n",
    "df.sample(5)"
   ],
   "metadata": {
    "collapsed": false,
    "ExecuteTime": {
     "end_time": "2023-11-23T02:48:07.879861Z",
     "start_time": "2023-11-23T02:48:07.582285Z"
    }
   },
   "id": "8313a95613700d05"
  },
  {
   "cell_type": "code",
   "execution_count": 3,
   "outputs": [
    {
     "data": {
      "text/plain": "Sale or Return\nsale      878042\nreturn       461\nName: count, dtype: int64"
     },
     "execution_count": 3,
     "metadata": {},
     "output_type": "execute_result"
    }
   ],
   "source": [
    "df['Sale or Return'].value_counts()"
   ],
   "metadata": {
    "collapsed": false,
    "ExecuteTime": {
     "end_time": "2023-11-23T02:48:09.644188Z",
     "start_time": "2023-11-23T02:48:09.638547Z"
    }
   },
   "id": "b0482c9be872fd06"
  },
  {
   "cell_type": "code",
   "execution_count": 4,
   "outputs": [
    {
     "name": "stdout",
     "output_type": "stream",
     "text": [
      "<class 'pandas.core.frame.DataFrame'>\n",
      "RangeIndex: 878503 entries, 0 to 878502\n",
      "Data columns (total 6 columns):\n",
      " #   Column                       Non-Null Count   Dtype  \n",
      "---  ------                       --------------   -----  \n",
      " 0   Item Name                    878503 non-null  object \n",
      " 1   Category Name                878503 non-null  object \n",
      " 2   Quantity Sold (kilo)         878503 non-null  float64\n",
      " 3   Unit Selling Price (RMB/kg)  878503 non-null  float64\n",
      " 4   Sale or Return               878503 non-null  object \n",
      " 5   Discount (Yes/No)            878503 non-null  object \n",
      "dtypes: float64(2), object(4)\n",
      "memory usage: 40.2+ MB\n"
     ]
    }
   ],
   "source": [
    "df.info()"
   ],
   "metadata": {
    "collapsed": false,
    "ExecuteTime": {
     "end_time": "2023-11-23T02:48:10.922626Z",
     "start_time": "2023-11-23T02:48:10.826758Z"
    }
   },
   "id": "dac1c49b59693fcd"
  },
  {
   "cell_type": "code",
   "execution_count": 5,
   "outputs": [
    {
     "data": {
      "text/plain": "Discount (Yes/No)\nNo     831137\nYes     47366\nName: count, dtype: int64"
     },
     "execution_count": 5,
     "metadata": {},
     "output_type": "execute_result"
    }
   ],
   "source": [
    "df['Discount (Yes/No)'].value_counts()"
   ],
   "metadata": {
    "collapsed": false,
    "ExecuteTime": {
     "end_time": "2023-11-23T02:48:12.989120Z",
     "start_time": "2023-11-23T02:48:12.982717Z"
    }
   },
   "id": "c851d1885bf2cf9f"
  },
  {
   "cell_type": "code",
   "execution_count": 6,
   "outputs": [],
   "source": [
    "scaler = StandardScaler()\n",
    "df.iloc[:,[2, 3]] = scaler.fit_transform(df.iloc[:,[2, 3]])"
   ],
   "metadata": {
    "collapsed": false,
    "ExecuteTime": {
     "end_time": "2023-11-23T02:48:14.105524Z",
     "start_time": "2023-11-23T02:48:14.080389Z"
    }
   },
   "id": "ae570d44d4b2d4c1"
  },
  {
   "cell_type": "code",
   "execution_count": 8,
   "outputs": [
    {
     "data": {
      "text/plain": "(-1.397049336052622, 17.584892414875554)"
     },
     "execution_count": 8,
     "metadata": {},
     "output_type": "execute_result"
    }
   ],
   "source": [
    "df['Unit Selling Price (RMB/kg)'].min(), df['Unit Selling Price (RMB/kg)'].max()"
   ],
   "metadata": {
    "collapsed": false,
    "ExecuteTime": {
     "end_time": "2023-11-23T02:48:35.832511Z",
     "start_time": "2023-11-23T02:48:35.826994Z"
    }
   },
   "id": "71823ffce4ea06d6"
  },
  {
   "cell_type": "code",
   "execution_count": 9,
   "outputs": [
    {
     "data": {
      "text/plain": "                             Quantity Sold (kilo)  Unit Selling Price (RMB/kg)\nQuantity Sold (kilo)                     1.000000                    -0.374163\nUnit Selling Price (RMB/kg)             -0.374163                     1.000000",
      "text/html": "<div>\n<style scoped>\n    .dataframe tbody tr th:only-of-type {\n        vertical-align: middle;\n    }\n\n    .dataframe tbody tr th {\n        vertical-align: top;\n    }\n\n    .dataframe thead th {\n        text-align: right;\n    }\n</style>\n<table border=\"1\" class=\"dataframe\">\n  <thead>\n    <tr style=\"text-align: right;\">\n      <th></th>\n      <th>Quantity Sold (kilo)</th>\n      <th>Unit Selling Price (RMB/kg)</th>\n    </tr>\n  </thead>\n  <tbody>\n    <tr>\n      <th>Quantity Sold (kilo)</th>\n      <td>1.000000</td>\n      <td>-0.374163</td>\n    </tr>\n    <tr>\n      <th>Unit Selling Price (RMB/kg)</th>\n      <td>-0.374163</td>\n      <td>1.000000</td>\n    </tr>\n  </tbody>\n</table>\n</div>"
     },
     "execution_count": 9,
     "metadata": {},
     "output_type": "execute_result"
    }
   ],
   "source": [
    "df.iloc[:,[2, 3]].corr()"
   ],
   "metadata": {
    "collapsed": false,
    "ExecuteTime": {
     "end_time": "2023-11-23T02:48:48.523016Z",
     "start_time": "2023-11-23T02:48:48.496695Z"
    }
   },
   "id": "962c9c03464f3443"
  },
  {
   "cell_type": "code",
   "execution_count": 10,
   "outputs": [
    {
     "data": {
      "text/plain": "(878503, 254)"
     },
     "execution_count": 10,
     "metadata": {},
     "output_type": "execute_result"
    }
   ],
   "source": [
    "df = pd.get_dummies(df)\n",
    "df.shape"
   ],
   "metadata": {
    "collapsed": false,
    "ExecuteTime": {
     "end_time": "2023-11-23T02:48:51.983771Z",
     "start_time": "2023-11-23T02:48:51.317555Z"
    }
   },
   "id": "61320d2411114576"
  },
  {
   "cell_type": "code",
   "execution_count": 11,
   "outputs": [
    {
     "data": {
      "text/plain": "        Quantity Sold (kilo)  Unit Selling Price (RMB/kg)  \\\n679223              1.159467                    -0.794951   \n502208              0.442124                     0.171575   \n485205             -0.965069                     0.805363   \n570457             -0.667634                    -0.462212   \n293531             -0.620145                    -0.145319   \n\n        Item Name_7 Colour Pepper (1)  Item Name_7 Colour Pepper (2)  \\\n679223                          False                          False   \n502208                          False                          False   \n485205                          False                          False   \n570457                          False                          False   \n293531                          False                          False   \n\n        Item Name_7 Colour Pepper (Bag)  Item Name_Agaricus Bisporus (Bag)  \\\n679223                            False                              False   \n502208                            False                              False   \n485205                            False                              False   \n570457                            False                              False   \n293531                            False                              False   \n\n        Item Name_Agaricus Bisporus (Box)  Item Name_Aihao  \\\n679223                              False            False   \n502208                              False            False   \n485205                              False            False   \n570457                              False            False   \n293531                              False            False   \n\n        Item Name_Amaranth  Item Name_Amaranth (Bag)  ...  \\\n679223               False                     False  ...   \n502208               False                     False  ...   \n485205               False                     False  ...   \n570457               False                     False  ...   \n293531               False                     False  ...   \n\n        Category Name_Aquatic Tuberous Vegetables  Category Name_Cabbage  \\\n679223                                      False                  False   \n502208                                      False                  False   \n485205                                      False                  False   \n570457                                      False                  False   \n293531                                      False                  False   \n\n        Category Name_Capsicum  Category Name_Edible Mushroom  \\\n679223                   False                           True   \n502208                   False                          False   \n485205                   False                           True   \n570457                   False                          False   \n293531                   False                          False   \n\n        Category Name_Flower  Category Name_Solanum  Sale or Return_return  \\\n679223                 False                  False                  False   \n502208                  True                  False                  False   \n485205                 False                  False                  False   \n570457                  True                  False                  False   \n293531                  True                  False                  False   \n\n        Sale or Return_sale  Discount (Yes/No)_No  Discount (Yes/No)_Yes  \n679223                 True                  True                  False  \n502208                 True                  True                  False  \n485205                 True                  True                  False  \n570457                 True                  True                  False  \n293531                 True                  True                  False  \n\n[5 rows x 254 columns]",
      "text/html": "<div>\n<style scoped>\n    .dataframe tbody tr th:only-of-type {\n        vertical-align: middle;\n    }\n\n    .dataframe tbody tr th {\n        vertical-align: top;\n    }\n\n    .dataframe thead th {\n        text-align: right;\n    }\n</style>\n<table border=\"1\" class=\"dataframe\">\n  <thead>\n    <tr style=\"text-align: right;\">\n      <th></th>\n      <th>Quantity Sold (kilo)</th>\n      <th>Unit Selling Price (RMB/kg)</th>\n      <th>Item Name_7 Colour Pepper (1)</th>\n      <th>Item Name_7 Colour Pepper (2)</th>\n      <th>Item Name_7 Colour Pepper (Bag)</th>\n      <th>Item Name_Agaricus Bisporus (Bag)</th>\n      <th>Item Name_Agaricus Bisporus (Box)</th>\n      <th>Item Name_Aihao</th>\n      <th>Item Name_Amaranth</th>\n      <th>Item Name_Amaranth (Bag)</th>\n      <th>...</th>\n      <th>Category Name_Aquatic Tuberous Vegetables</th>\n      <th>Category Name_Cabbage</th>\n      <th>Category Name_Capsicum</th>\n      <th>Category Name_Edible Mushroom</th>\n      <th>Category Name_Flower</th>\n      <th>Category Name_Solanum</th>\n      <th>Sale or Return_return</th>\n      <th>Sale or Return_sale</th>\n      <th>Discount (Yes/No)_No</th>\n      <th>Discount (Yes/No)_Yes</th>\n    </tr>\n  </thead>\n  <tbody>\n    <tr>\n      <th>679223</th>\n      <td>1.159467</td>\n      <td>-0.794951</td>\n      <td>False</td>\n      <td>False</td>\n      <td>False</td>\n      <td>False</td>\n      <td>False</td>\n      <td>False</td>\n      <td>False</td>\n      <td>False</td>\n      <td>...</td>\n      <td>False</td>\n      <td>False</td>\n      <td>False</td>\n      <td>True</td>\n      <td>False</td>\n      <td>False</td>\n      <td>False</td>\n      <td>True</td>\n      <td>True</td>\n      <td>False</td>\n    </tr>\n    <tr>\n      <th>502208</th>\n      <td>0.442124</td>\n      <td>0.171575</td>\n      <td>False</td>\n      <td>False</td>\n      <td>False</td>\n      <td>False</td>\n      <td>False</td>\n      <td>False</td>\n      <td>False</td>\n      <td>False</td>\n      <td>...</td>\n      <td>False</td>\n      <td>False</td>\n      <td>False</td>\n      <td>False</td>\n      <td>True</td>\n      <td>False</td>\n      <td>False</td>\n      <td>True</td>\n      <td>True</td>\n      <td>False</td>\n    </tr>\n    <tr>\n      <th>485205</th>\n      <td>-0.965069</td>\n      <td>0.805363</td>\n      <td>False</td>\n      <td>False</td>\n      <td>False</td>\n      <td>False</td>\n      <td>False</td>\n      <td>False</td>\n      <td>False</td>\n      <td>False</td>\n      <td>...</td>\n      <td>False</td>\n      <td>False</td>\n      <td>False</td>\n      <td>True</td>\n      <td>False</td>\n      <td>False</td>\n      <td>False</td>\n      <td>True</td>\n      <td>True</td>\n      <td>False</td>\n    </tr>\n    <tr>\n      <th>570457</th>\n      <td>-0.667634</td>\n      <td>-0.462212</td>\n      <td>False</td>\n      <td>False</td>\n      <td>False</td>\n      <td>False</td>\n      <td>False</td>\n      <td>False</td>\n      <td>False</td>\n      <td>False</td>\n      <td>...</td>\n      <td>False</td>\n      <td>False</td>\n      <td>False</td>\n      <td>False</td>\n      <td>True</td>\n      <td>False</td>\n      <td>False</td>\n      <td>True</td>\n      <td>True</td>\n      <td>False</td>\n    </tr>\n    <tr>\n      <th>293531</th>\n      <td>-0.620145</td>\n      <td>-0.145319</td>\n      <td>False</td>\n      <td>False</td>\n      <td>False</td>\n      <td>False</td>\n      <td>False</td>\n      <td>False</td>\n      <td>False</td>\n      <td>False</td>\n      <td>...</td>\n      <td>False</td>\n      <td>False</td>\n      <td>False</td>\n      <td>False</td>\n      <td>True</td>\n      <td>False</td>\n      <td>False</td>\n      <td>True</td>\n      <td>True</td>\n      <td>False</td>\n    </tr>\n  </tbody>\n</table>\n<p>5 rows × 254 columns</p>\n</div>"
     },
     "execution_count": 11,
     "metadata": {},
     "output_type": "execute_result"
    }
   ],
   "source": [
    "df.sample(5)"
   ],
   "metadata": {
    "collapsed": false,
    "ExecuteTime": {
     "end_time": "2023-11-23T02:48:53.908210Z",
     "start_time": "2023-11-23T02:48:53.876114Z"
    }
   },
   "id": "859e7a8200e5c83f"
  },
  {
   "cell_type": "code",
   "execution_count": 12,
   "outputs": [
    {
     "name": "stdout",
     "output_type": "stream",
     "text": [
      "Training : 10\n"
     ]
    },
    {
     "name": "stderr",
     "output_type": "stream",
     "text": [
      "/Users/rumethsandinu/Library/Python/3.9/lib/python/site-packages/sklearn/cluster/_kmeans.py:1416: FutureWarning: The default value of `n_init` will change from 10 to 'auto' in 1.4. Set the value of `n_init` explicitly to suppress the warning\n",
      "  super()._check_params_vs_input(X, default_n_init=10)\n"
     ]
    },
    {
     "name": "stdout",
     "output_type": "stream",
     "text": [
      "Clusters --> \u001B[34m10\u001B[39m    WCSS --> \u001B[31m1429204.0171912797\u001B[39m\n",
      "Training : 100\n"
     ]
    },
    {
     "name": "stderr",
     "output_type": "stream",
     "text": [
      "/Users/rumethsandinu/Library/Python/3.9/lib/python/site-packages/sklearn/cluster/_kmeans.py:1416: FutureWarning: The default value of `n_init` will change from 10 to 'auto' in 1.4. Set the value of `n_init` explicitly to suppress the warning\n",
      "  super()._check_params_vs_input(X, default_n_init=10)\n"
     ]
    },
    {
     "name": "stdout",
     "output_type": "stream",
     "text": [
      "Clusters --> \u001B[34m100\u001B[39m    WCSS --> \u001B[31m361721.79455940996\u001B[39m\n",
      "Training : 1000\n"
     ]
    },
    {
     "name": "stderr",
     "output_type": "stream",
     "text": [
      "/Users/rumethsandinu/Library/Python/3.9/lib/python/site-packages/sklearn/cluster/_kmeans.py:1416: FutureWarning: The default value of `n_init` will change from 10 to 'auto' in 1.4. Set the value of `n_init` explicitly to suppress the warning\n",
      "  super()._check_params_vs_input(X, default_n_init=10)\n"
     ]
    },
    {
     "ename": "KeyboardInterrupt",
     "evalue": "",
     "output_type": "error",
     "traceback": [
      "\u001B[0;31m---------------------------------------------------------------------------\u001B[0m",
      "\u001B[0;31mKeyboardInterrupt\u001B[0m                         Traceback (most recent call last)",
      "Cell \u001B[0;32mIn[12], line 11\u001B[0m\n\u001B[1;32m      9\u001B[0m \u001B[38;5;28mprint\u001B[39m(\u001B[38;5;124mf\u001B[39m\u001B[38;5;124m'\u001B[39m\u001B[38;5;124mTraining : \u001B[39m\u001B[38;5;132;01m{\u001B[39;00mk\u001B[38;5;132;01m}\u001B[39;00m\u001B[38;5;124m'\u001B[39m)\n\u001B[1;32m     10\u001B[0m kmeans \u001B[38;5;241m=\u001B[39m KMeans(n_clusters\u001B[38;5;241m=\u001B[39mk, random_state\u001B[38;5;241m=\u001B[39m\u001B[38;5;241m42\u001B[39m)\n\u001B[0;32m---> 11\u001B[0m \u001B[43mkmeans\u001B[49m\u001B[38;5;241;43m.\u001B[39;49m\u001B[43mfit\u001B[49m\u001B[43m(\u001B[49m\u001B[43mdf\u001B[49m\u001B[43m)\u001B[49m\n\u001B[1;32m     12\u001B[0m wcss_values\u001B[38;5;241m.\u001B[39mappend(kmeans\u001B[38;5;241m.\u001B[39minertia_)\n\u001B[1;32m     13\u001B[0m \u001B[38;5;28mprint\u001B[39m(\u001B[38;5;124mf\u001B[39m\u001B[38;5;124m'\u001B[39m\u001B[38;5;124mClusters --> \u001B[39m\u001B[38;5;130;01m\\u001B\u001B[39;00m\u001B[38;5;124m[34m\u001B[39m\u001B[38;5;132;01m{\u001B[39;00mk\u001B[38;5;132;01m}\u001B[39;00m\u001B[38;5;130;01m\\u001B\u001B[39;00m\u001B[38;5;124m[39m    WCSS --> \u001B[39m\u001B[38;5;130;01m\\u001B\u001B[39;00m\u001B[38;5;124m[31m\u001B[39m\u001B[38;5;132;01m{\u001B[39;00mwcss_values[\u001B[38;5;241m-\u001B[39m\u001B[38;5;241m1\u001B[39m]\u001B[38;5;132;01m}\u001B[39;00m\u001B[38;5;130;01m\\u001B\u001B[39;00m\u001B[38;5;124m[39m\u001B[39m\u001B[38;5;124m'\u001B[39m)\n",
      "File \u001B[0;32m~/Library/Python/3.9/lib/python/site-packages/sklearn/base.py:1152\u001B[0m, in \u001B[0;36m_fit_context.<locals>.decorator.<locals>.wrapper\u001B[0;34m(estimator, *args, **kwargs)\u001B[0m\n\u001B[1;32m   1145\u001B[0m     estimator\u001B[38;5;241m.\u001B[39m_validate_params()\n\u001B[1;32m   1147\u001B[0m \u001B[38;5;28;01mwith\u001B[39;00m config_context(\n\u001B[1;32m   1148\u001B[0m     skip_parameter_validation\u001B[38;5;241m=\u001B[39m(\n\u001B[1;32m   1149\u001B[0m         prefer_skip_nested_validation \u001B[38;5;129;01mor\u001B[39;00m global_skip_validation\n\u001B[1;32m   1150\u001B[0m     )\n\u001B[1;32m   1151\u001B[0m ):\n\u001B[0;32m-> 1152\u001B[0m     \u001B[38;5;28;01mreturn\u001B[39;00m \u001B[43mfit_method\u001B[49m\u001B[43m(\u001B[49m\u001B[43mestimator\u001B[49m\u001B[43m,\u001B[49m\u001B[43m \u001B[49m\u001B[38;5;241;43m*\u001B[39;49m\u001B[43margs\u001B[49m\u001B[43m,\u001B[49m\u001B[43m \u001B[49m\u001B[38;5;241;43m*\u001B[39;49m\u001B[38;5;241;43m*\u001B[39;49m\u001B[43mkwargs\u001B[49m\u001B[43m)\u001B[49m\n",
      "File \u001B[0;32m~/Library/Python/3.9/lib/python/site-packages/sklearn/cluster/_kmeans.py:1519\u001B[0m, in \u001B[0;36mKMeans.fit\u001B[0;34m(self, X, y, sample_weight)\u001B[0m\n\u001B[1;32m   1515\u001B[0m best_inertia, best_labels \u001B[38;5;241m=\u001B[39m \u001B[38;5;28;01mNone\u001B[39;00m, \u001B[38;5;28;01mNone\u001B[39;00m\n\u001B[1;32m   1517\u001B[0m \u001B[38;5;28;01mfor\u001B[39;00m i \u001B[38;5;129;01min\u001B[39;00m \u001B[38;5;28mrange\u001B[39m(\u001B[38;5;28mself\u001B[39m\u001B[38;5;241m.\u001B[39m_n_init):\n\u001B[1;32m   1518\u001B[0m     \u001B[38;5;66;03m# Initialize centers\u001B[39;00m\n\u001B[0;32m-> 1519\u001B[0m     centers_init \u001B[38;5;241m=\u001B[39m \u001B[38;5;28;43mself\u001B[39;49m\u001B[38;5;241;43m.\u001B[39;49m\u001B[43m_init_centroids\u001B[49m\u001B[43m(\u001B[49m\n\u001B[1;32m   1520\u001B[0m \u001B[43m        \u001B[49m\u001B[43mX\u001B[49m\u001B[43m,\u001B[49m\n\u001B[1;32m   1521\u001B[0m \u001B[43m        \u001B[49m\u001B[43mx_squared_norms\u001B[49m\u001B[38;5;241;43m=\u001B[39;49m\u001B[43mx_squared_norms\u001B[49m\u001B[43m,\u001B[49m\n\u001B[1;32m   1522\u001B[0m \u001B[43m        \u001B[49m\u001B[43minit\u001B[49m\u001B[38;5;241;43m=\u001B[39;49m\u001B[43minit\u001B[49m\u001B[43m,\u001B[49m\n\u001B[1;32m   1523\u001B[0m \u001B[43m        \u001B[49m\u001B[43mrandom_state\u001B[49m\u001B[38;5;241;43m=\u001B[39;49m\u001B[43mrandom_state\u001B[49m\u001B[43m,\u001B[49m\n\u001B[1;32m   1524\u001B[0m \u001B[43m        \u001B[49m\u001B[43msample_weight\u001B[49m\u001B[38;5;241;43m=\u001B[39;49m\u001B[43msample_weight\u001B[49m\u001B[43m,\u001B[49m\n\u001B[1;32m   1525\u001B[0m \u001B[43m    \u001B[49m\u001B[43m)\u001B[49m\n\u001B[1;32m   1526\u001B[0m     \u001B[38;5;28;01mif\u001B[39;00m \u001B[38;5;28mself\u001B[39m\u001B[38;5;241m.\u001B[39mverbose:\n\u001B[1;32m   1527\u001B[0m         \u001B[38;5;28mprint\u001B[39m(\u001B[38;5;124m\"\u001B[39m\u001B[38;5;124mInitialization complete\u001B[39m\u001B[38;5;124m\"\u001B[39m)\n",
      "File \u001B[0;32m~/Library/Python/3.9/lib/python/site-packages/sklearn/cluster/_kmeans.py:1019\u001B[0m, in \u001B[0;36m_BaseKMeans._init_centroids\u001B[0;34m(self, X, x_squared_norms, init, random_state, sample_weight, init_size, n_centroids)\u001B[0m\n\u001B[1;32m   1016\u001B[0m     sample_weight \u001B[38;5;241m=\u001B[39m sample_weight[init_indices]\n\u001B[1;32m   1018\u001B[0m \u001B[38;5;28;01mif\u001B[39;00m \u001B[38;5;28misinstance\u001B[39m(init, \u001B[38;5;28mstr\u001B[39m) \u001B[38;5;129;01mand\u001B[39;00m init \u001B[38;5;241m==\u001B[39m \u001B[38;5;124m\"\u001B[39m\u001B[38;5;124mk-means++\u001B[39m\u001B[38;5;124m\"\u001B[39m:\n\u001B[0;32m-> 1019\u001B[0m     centers, _ \u001B[38;5;241m=\u001B[39m \u001B[43m_kmeans_plusplus\u001B[49m\u001B[43m(\u001B[49m\n\u001B[1;32m   1020\u001B[0m \u001B[43m        \u001B[49m\u001B[43mX\u001B[49m\u001B[43m,\u001B[49m\n\u001B[1;32m   1021\u001B[0m \u001B[43m        \u001B[49m\u001B[43mn_clusters\u001B[49m\u001B[43m,\u001B[49m\n\u001B[1;32m   1022\u001B[0m \u001B[43m        \u001B[49m\u001B[43mrandom_state\u001B[49m\u001B[38;5;241;43m=\u001B[39;49m\u001B[43mrandom_state\u001B[49m\u001B[43m,\u001B[49m\n\u001B[1;32m   1023\u001B[0m \u001B[43m        \u001B[49m\u001B[43mx_squared_norms\u001B[49m\u001B[38;5;241;43m=\u001B[39;49m\u001B[43mx_squared_norms\u001B[49m\u001B[43m,\u001B[49m\n\u001B[1;32m   1024\u001B[0m \u001B[43m        \u001B[49m\u001B[43msample_weight\u001B[49m\u001B[38;5;241;43m=\u001B[39;49m\u001B[43msample_weight\u001B[49m\u001B[43m,\u001B[49m\n\u001B[1;32m   1025\u001B[0m \u001B[43m    \u001B[49m\u001B[43m)\u001B[49m\n\u001B[1;32m   1026\u001B[0m \u001B[38;5;28;01melif\u001B[39;00m \u001B[38;5;28misinstance\u001B[39m(init, \u001B[38;5;28mstr\u001B[39m) \u001B[38;5;129;01mand\u001B[39;00m init \u001B[38;5;241m==\u001B[39m \u001B[38;5;124m\"\u001B[39m\u001B[38;5;124mrandom\u001B[39m\u001B[38;5;124m\"\u001B[39m:\n\u001B[1;32m   1027\u001B[0m     seeds \u001B[38;5;241m=\u001B[39m random_state\u001B[38;5;241m.\u001B[39mchoice(\n\u001B[1;32m   1028\u001B[0m         n_samples,\n\u001B[1;32m   1029\u001B[0m         size\u001B[38;5;241m=\u001B[39mn_clusters,\n\u001B[1;32m   1030\u001B[0m         replace\u001B[38;5;241m=\u001B[39m\u001B[38;5;28;01mFalse\u001B[39;00m,\n\u001B[1;32m   1031\u001B[0m         p\u001B[38;5;241m=\u001B[39msample_weight \u001B[38;5;241m/\u001B[39m sample_weight\u001B[38;5;241m.\u001B[39msum(),\n\u001B[1;32m   1032\u001B[0m     )\n",
      "File \u001B[0;32m~/Library/Python/3.9/lib/python/site-packages/sklearn/cluster/_kmeans.py:255\u001B[0m, in \u001B[0;36m_kmeans_plusplus\u001B[0;34m(X, n_clusters, x_squared_norms, sample_weight, random_state, n_local_trials)\u001B[0m\n\u001B[1;32m    252\u001B[0m np\u001B[38;5;241m.\u001B[39mclip(candidate_ids, \u001B[38;5;28;01mNone\u001B[39;00m, closest_dist_sq\u001B[38;5;241m.\u001B[39msize \u001B[38;5;241m-\u001B[39m \u001B[38;5;241m1\u001B[39m, out\u001B[38;5;241m=\u001B[39mcandidate_ids)\n\u001B[1;32m    254\u001B[0m \u001B[38;5;66;03m# Compute distances to center candidates\u001B[39;00m\n\u001B[0;32m--> 255\u001B[0m distance_to_candidates \u001B[38;5;241m=\u001B[39m \u001B[43m_euclidean_distances\u001B[49m\u001B[43m(\u001B[49m\n\u001B[1;32m    256\u001B[0m \u001B[43m    \u001B[49m\u001B[43mX\u001B[49m\u001B[43m[\u001B[49m\u001B[43mcandidate_ids\u001B[49m\u001B[43m]\u001B[49m\u001B[43m,\u001B[49m\u001B[43m \u001B[49m\u001B[43mX\u001B[49m\u001B[43m,\u001B[49m\u001B[43m \u001B[49m\u001B[43mY_norm_squared\u001B[49m\u001B[38;5;241;43m=\u001B[39;49m\u001B[43mx_squared_norms\u001B[49m\u001B[43m,\u001B[49m\u001B[43m \u001B[49m\u001B[43msquared\u001B[49m\u001B[38;5;241;43m=\u001B[39;49m\u001B[38;5;28;43;01mTrue\u001B[39;49;00m\n\u001B[1;32m    257\u001B[0m \u001B[43m\u001B[49m\u001B[43m)\u001B[49m\n\u001B[1;32m    259\u001B[0m \u001B[38;5;66;03m# update closest distances squared and potential for each candidate\u001B[39;00m\n\u001B[1;32m    260\u001B[0m np\u001B[38;5;241m.\u001B[39mminimum(closest_dist_sq, distance_to_candidates, out\u001B[38;5;241m=\u001B[39mdistance_to_candidates)\n",
      "File \u001B[0;32m~/Library/Python/3.9/lib/python/site-packages/sklearn/metrics/pairwise.py:379\u001B[0m, in \u001B[0;36m_euclidean_distances\u001B[0;34m(X, Y, X_norm_squared, Y_norm_squared, squared)\u001B[0m\n\u001B[1;32m    376\u001B[0m     distances \u001B[38;5;241m=\u001B[39m _euclidean_distances_upcast(X, XX, Y, YY)\n\u001B[1;32m    377\u001B[0m \u001B[38;5;28;01melse\u001B[39;00m:\n\u001B[1;32m    378\u001B[0m     \u001B[38;5;66;03m# if dtype is already float64, no need to chunk and upcast\u001B[39;00m\n\u001B[0;32m--> 379\u001B[0m     distances \u001B[38;5;241m=\u001B[39m \u001B[38;5;241m-\u001B[39m\u001B[38;5;241m2\u001B[39m \u001B[38;5;241m*\u001B[39m \u001B[43msafe_sparse_dot\u001B[49m\u001B[43m(\u001B[49m\u001B[43mX\u001B[49m\u001B[43m,\u001B[49m\u001B[43m \u001B[49m\u001B[43mY\u001B[49m\u001B[38;5;241;43m.\u001B[39;49m\u001B[43mT\u001B[49m\u001B[43m,\u001B[49m\u001B[43m \u001B[49m\u001B[43mdense_output\u001B[49m\u001B[38;5;241;43m=\u001B[39;49m\u001B[38;5;28;43;01mTrue\u001B[39;49;00m\u001B[43m)\u001B[49m\n\u001B[1;32m    380\u001B[0m     distances \u001B[38;5;241m+\u001B[39m\u001B[38;5;241m=\u001B[39m XX\n\u001B[1;32m    381\u001B[0m     distances \u001B[38;5;241m+\u001B[39m\u001B[38;5;241m=\u001B[39m YY\n",
      "File \u001B[0;32m~/Library/Python/3.9/lib/python/site-packages/sklearn/utils/extmath.py:192\u001B[0m, in \u001B[0;36msafe_sparse_dot\u001B[0;34m(a, b, dense_output)\u001B[0m\n\u001B[1;32m    190\u001B[0m         ret \u001B[38;5;241m=\u001B[39m np\u001B[38;5;241m.\u001B[39mdot(a, b)\n\u001B[1;32m    191\u001B[0m \u001B[38;5;28;01melse\u001B[39;00m:\n\u001B[0;32m--> 192\u001B[0m     ret \u001B[38;5;241m=\u001B[39m \u001B[43ma\u001B[49m\u001B[43m \u001B[49m\u001B[38;5;241;43m@\u001B[39;49m\u001B[43m \u001B[49m\u001B[43mb\u001B[49m\n\u001B[1;32m    194\u001B[0m \u001B[38;5;28;01mif\u001B[39;00m (\n\u001B[1;32m    195\u001B[0m     sparse\u001B[38;5;241m.\u001B[39missparse(a)\n\u001B[1;32m    196\u001B[0m     \u001B[38;5;129;01mand\u001B[39;00m sparse\u001B[38;5;241m.\u001B[39missparse(b)\n\u001B[1;32m    197\u001B[0m     \u001B[38;5;129;01mand\u001B[39;00m dense_output\n\u001B[1;32m    198\u001B[0m     \u001B[38;5;129;01mand\u001B[39;00m \u001B[38;5;28mhasattr\u001B[39m(ret, \u001B[38;5;124m\"\u001B[39m\u001B[38;5;124mtoarray\u001B[39m\u001B[38;5;124m\"\u001B[39m)\n\u001B[1;32m    199\u001B[0m ):\n\u001B[1;32m    200\u001B[0m     \u001B[38;5;28;01mreturn\u001B[39;00m ret\u001B[38;5;241m.\u001B[39mtoarray()\n",
      "\u001B[0;31mKeyboardInterrupt\u001B[0m: "
     ]
    }
   ],
   "source": [
    "import matplotlib.pyplot as plt\n",
    "from sklearn.cluster import KMeans\n",
    "\n",
    "k_values = [10, 100, 1000 , 10000]\n",
    "\n",
    "wcss_values = []\n",
    "\n",
    "for k in k_values:\n",
    "    print(f'Training : {k}')\n",
    "    kmeans = KMeans(n_clusters=k, random_state=42)\n",
    "    kmeans.fit(df)\n",
    "    wcss_values.append(kmeans.inertia_)\n",
    "    print(f'Clusters --> \\u001B[34m{k}\\u001B[39m    WCSS --> \\u001B[31m{wcss_values[-1]}\\u001B[39m')"
   ],
   "metadata": {
    "collapsed": false,
    "ExecuteTime": {
     "end_time": "2023-11-23T03:06:49.600310Z",
     "start_time": "2023-11-23T02:52:35.564230Z"
    }
   },
   "id": "4ba586ebe25af939"
  },
  {
   "cell_type": "code",
   "execution_count": null,
   "outputs": [],
   "source": [
    "# Plot the results\n",
    "plt.plot(k_values, wcss_values, marker='o')\n",
    "plt.title('Randomly Sampled WCSS for Different K Values')\n",
    "plt.xlabel('Number of Clusters (K)')\n",
    "plt.ylabel('WCSS')\n",
    "plt.show()"
   ],
   "metadata": {
    "collapsed": false,
    "ExecuteTime": {
     "start_time": "2023-11-23T03:06:49.574079Z"
    }
   },
   "id": "fa04aad0c78f3b10"
  },
  {
   "cell_type": "code",
   "execution_count": null,
   "outputs": [],
   "source": [],
   "metadata": {
    "collapsed": false
   },
   "id": "58f24c74403e2b4e"
  }
 ],
 "metadata": {
  "kernelspec": {
   "display_name": "Python 3",
   "language": "python",
   "name": "python3"
  },
  "language_info": {
   "codemirror_mode": {
    "name": "ipython",
    "version": 2
   },
   "file_extension": ".py",
   "mimetype": "text/x-python",
   "name": "python",
   "nbconvert_exporter": "python",
   "pygments_lexer": "ipython2",
   "version": "2.7.6"
  }
 },
 "nbformat": 4,
 "nbformat_minor": 5
}
