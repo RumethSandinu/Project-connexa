{
 "cells": [
  {
   "cell_type": "code",
   "execution_count": 1,
   "id": "initial_id",
   "metadata": {
    "collapsed": true,
    "ExecuteTime": {
     "end_time": "2023-11-23T08:42:21.549743Z",
     "start_time": "2023-11-23T08:42:20.529823Z"
    }
   },
   "outputs": [],
   "source": [
    "import pandas as pd\n",
    "from sklearn.preprocessing import StandardScaler\n",
    "import matplotlib.pyplot as plt\n",
    "from sklearn.cluster import KMeans"
   ]
  },
  {
   "cell_type": "code",
   "execution_count": 2,
   "outputs": [
    {
     "data": {
      "text/plain": "                    Item Name    Category Name  Quantity Sold (kilo)  \\\n795423  Needle Mushroom (Box)  Edible Mushroom                 1.000   \n547505  Wuhu Green Pepper (1)         Capsicum                 0.221   \n507948     Xixia Mushroom (1)  Edible Mushroom                 0.551   \n652581     Cabbage Stem (Bag)           Flower                 1.000   \n567583           Luosi Pepper         Capsicum                 0.766   \n\n        Unit Selling Price (RMB/kg) Sale or Return Discount (Yes/No)  \n795423                          4.9           sale                No  \n547505                         10.0           sale                No  \n507948                         21.6           sale                No  \n652581                          5.9           sale                No  \n567583                          8.0           sale                No  ",
      "text/html": "<div>\n<style scoped>\n    .dataframe tbody tr th:only-of-type {\n        vertical-align: middle;\n    }\n\n    .dataframe tbody tr th {\n        vertical-align: top;\n    }\n\n    .dataframe thead th {\n        text-align: right;\n    }\n</style>\n<table border=\"1\" class=\"dataframe\">\n  <thead>\n    <tr style=\"text-align: right;\">\n      <th></th>\n      <th>Item Name</th>\n      <th>Category Name</th>\n      <th>Quantity Sold (kilo)</th>\n      <th>Unit Selling Price (RMB/kg)</th>\n      <th>Sale or Return</th>\n      <th>Discount (Yes/No)</th>\n    </tr>\n  </thead>\n  <tbody>\n    <tr>\n      <th>795423</th>\n      <td>Needle Mushroom (Box)</td>\n      <td>Edible Mushroom</td>\n      <td>1.000</td>\n      <td>4.9</td>\n      <td>sale</td>\n      <td>No</td>\n    </tr>\n    <tr>\n      <th>547505</th>\n      <td>Wuhu Green Pepper (1)</td>\n      <td>Capsicum</td>\n      <td>0.221</td>\n      <td>10.0</td>\n      <td>sale</td>\n      <td>No</td>\n    </tr>\n    <tr>\n      <th>507948</th>\n      <td>Xixia Mushroom (1)</td>\n      <td>Edible Mushroom</td>\n      <td>0.551</td>\n      <td>21.6</td>\n      <td>sale</td>\n      <td>No</td>\n    </tr>\n    <tr>\n      <th>652581</th>\n      <td>Cabbage Stem (Bag)</td>\n      <td>Flower</td>\n      <td>1.000</td>\n      <td>5.9</td>\n      <td>sale</td>\n      <td>No</td>\n    </tr>\n    <tr>\n      <th>567583</th>\n      <td>Luosi Pepper</td>\n      <td>Capsicum</td>\n      <td>0.766</td>\n      <td>8.0</td>\n      <td>sale</td>\n      <td>No</td>\n    </tr>\n  </tbody>\n</table>\n</div>"
     },
     "execution_count": 2,
     "metadata": {},
     "output_type": "execute_result"
    }
   ],
   "source": [
    "df = pd.read_csv('/Users/rumethsandinu/Study/Assessments/Year 2/DSGP/Datasets/final_cleaned_dataset/cleaned_annex.csv')\n",
    "df.sample(5)"
   ],
   "metadata": {
    "collapsed": false,
    "ExecuteTime": {
     "end_time": "2023-11-23T08:42:21.920161Z",
     "start_time": "2023-11-23T08:42:21.555026Z"
    }
   },
   "id": "8313a95613700d05"
  },
  {
   "cell_type": "code",
   "execution_count": 3,
   "outputs": [
    {
     "data": {
      "text/plain": "Sale or Return\nsale      878042\nreturn       461\nName: count, dtype: int64"
     },
     "execution_count": 3,
     "metadata": {},
     "output_type": "execute_result"
    }
   ],
   "source": [
    "df['Sale or Return'].value_counts()"
   ],
   "metadata": {
    "collapsed": false,
    "ExecuteTime": {
     "end_time": "2023-11-23T08:42:21.957233Z",
     "start_time": "2023-11-23T08:42:21.944493Z"
    }
   },
   "id": "b0482c9be872fd06"
  },
  {
   "cell_type": "code",
   "execution_count": 4,
   "outputs": [
    {
     "name": "stdout",
     "output_type": "stream",
     "text": [
      "<class 'pandas.core.frame.DataFrame'>\n",
      "RangeIndex: 878503 entries, 0 to 878502\n",
      "Data columns (total 6 columns):\n",
      " #   Column                       Non-Null Count   Dtype  \n",
      "---  ------                       --------------   -----  \n",
      " 0   Item Name                    878503 non-null  object \n",
      " 1   Category Name                878503 non-null  object \n",
      " 2   Quantity Sold (kilo)         878503 non-null  float64\n",
      " 3   Unit Selling Price (RMB/kg)  878503 non-null  float64\n",
      " 4   Sale or Return               878503 non-null  object \n",
      " 5   Discount (Yes/No)            878503 non-null  object \n",
      "dtypes: float64(2), object(4)\n",
      "memory usage: 40.2+ MB\n"
     ]
    }
   ],
   "source": [
    "df.info()"
   ],
   "metadata": {
    "collapsed": false,
    "ExecuteTime": {
     "end_time": "2023-11-23T08:42:22.035511Z",
     "start_time": "2023-11-23T08:42:21.950338Z"
    }
   },
   "id": "dac1c49b59693fcd"
  },
  {
   "cell_type": "code",
   "execution_count": 5,
   "outputs": [
    {
     "data": {
      "text/plain": "Discount (Yes/No)\nNo     831137\nYes     47366\nName: count, dtype: int64"
     },
     "execution_count": 5,
     "metadata": {},
     "output_type": "execute_result"
    }
   ],
   "source": [
    "df['Discount (Yes/No)'].value_counts()"
   ],
   "metadata": {
    "collapsed": false,
    "ExecuteTime": {
     "end_time": "2023-11-23T08:42:22.078335Z",
     "start_time": "2023-11-23T08:42:22.026511Z"
    }
   },
   "id": "c851d1885bf2cf9f"
  },
  {
   "cell_type": "code",
   "execution_count": 6,
   "outputs": [],
   "source": [
    "scaler = StandardScaler()\n",
    "df.iloc[:,[2, 3]] = scaler.fit_transform(df.iloc[:,[2, 3]])"
   ],
   "metadata": {
    "collapsed": false,
    "ExecuteTime": {
     "end_time": "2023-11-23T08:42:22.078953Z",
     "start_time": "2023-11-23T08:42:22.063088Z"
    }
   },
   "id": "ae570d44d4b2d4c1"
  },
  {
   "cell_type": "code",
   "execution_count": 7,
   "outputs": [
    {
     "data": {
      "text/plain": "(-1.397049336052622, 17.584892414875554)"
     },
     "execution_count": 7,
     "metadata": {},
     "output_type": "execute_result"
    }
   ],
   "source": [
    "df['Unit Selling Price (RMB/kg)'].min(), df['Unit Selling Price (RMB/kg)'].max()"
   ],
   "metadata": {
    "collapsed": false,
    "ExecuteTime": {
     "end_time": "2023-11-23T08:42:22.086703Z",
     "start_time": "2023-11-23T08:42:22.077137Z"
    }
   },
   "id": "71823ffce4ea06d6"
  },
  {
   "cell_type": "code",
   "execution_count": 8,
   "outputs": [
    {
     "data": {
      "text/plain": "                             Quantity Sold (kilo)  Unit Selling Price (RMB/kg)\nQuantity Sold (kilo)                     1.000000                    -0.374163\nUnit Selling Price (RMB/kg)             -0.374163                     1.000000",
      "text/html": "<div>\n<style scoped>\n    .dataframe tbody tr th:only-of-type {\n        vertical-align: middle;\n    }\n\n    .dataframe tbody tr th {\n        vertical-align: top;\n    }\n\n    .dataframe thead th {\n        text-align: right;\n    }\n</style>\n<table border=\"1\" class=\"dataframe\">\n  <thead>\n    <tr style=\"text-align: right;\">\n      <th></th>\n      <th>Quantity Sold (kilo)</th>\n      <th>Unit Selling Price (RMB/kg)</th>\n    </tr>\n  </thead>\n  <tbody>\n    <tr>\n      <th>Quantity Sold (kilo)</th>\n      <td>1.000000</td>\n      <td>-0.374163</td>\n    </tr>\n    <tr>\n      <th>Unit Selling Price (RMB/kg)</th>\n      <td>-0.374163</td>\n      <td>1.000000</td>\n    </tr>\n  </tbody>\n</table>\n</div>"
     },
     "execution_count": 8,
     "metadata": {},
     "output_type": "execute_result"
    }
   ],
   "source": [
    "df.iloc[:,[2, 3]].corr()"
   ],
   "metadata": {
    "collapsed": false,
    "ExecuteTime": {
     "end_time": "2023-11-23T08:42:22.119025Z",
     "start_time": "2023-11-23T08:42:22.085486Z"
    }
   },
   "id": "962c9c03464f3443"
  },
  {
   "cell_type": "code",
   "execution_count": 9,
   "outputs": [
    {
     "data": {
      "text/plain": "(878503, 254)"
     },
     "execution_count": 9,
     "metadata": {},
     "output_type": "execute_result"
    }
   ],
   "source": [
    "df = pd.get_dummies(df)\n",
    "df.shape"
   ],
   "metadata": {
    "collapsed": false,
    "ExecuteTime": {
     "end_time": "2023-11-23T08:42:22.839705Z",
     "start_time": "2023-11-23T08:42:22.105329Z"
    }
   },
   "id": "61320d2411114576"
  },
  {
   "cell_type": "code",
   "execution_count": 10,
   "outputs": [
    {
     "data": {
      "text/plain": "        Quantity Sold (kilo)  Unit Selling Price (RMB/kg)  \\\n446188             -0.397693                    -0.145319   \n629409             -0.335207                    -0.303766   \n735146              1.159467                    -0.858330   \n152211              0.037212                    -0.145319   \n416994              0.947014                    -0.367144   \n\n        Item Name_7 Colour Pepper (1)  Item Name_7 Colour Pepper (2)  \\\n446188                          False                          False   \n629409                          False                          False   \n735146                          False                          False   \n152211                          False                          False   \n416994                          False                          False   \n\n        Item Name_7 Colour Pepper (Bag)  Item Name_Agaricus Bisporus (Bag)  \\\n446188                            False                              False   \n629409                            False                              False   \n735146                            False                              False   \n152211                            False                              False   \n416994                            False                              False   \n\n        Item Name_Agaricus Bisporus (Box)  Item Name_Aihao  \\\n446188                              False            False   \n629409                              False            False   \n735146                              False            False   \n152211                              False            False   \n416994                              False            False   \n\n        Item Name_Amaranth  Item Name_Amaranth (Bag)  ...  \\\n446188               False                     False  ...   \n629409               False                     False  ...   \n735146               False                     False  ...   \n152211               False                     False  ...   \n416994               False                     False  ...   \n\n        Category Name_Aquatic Tuberous Vegetables  Category Name_Cabbage  \\\n446188                                      False                  False   \n629409                                      False                   True   \n735146                                      False                  False   \n152211                                       True                  False   \n416994                                       True                  False   \n\n        Category Name_Capsicum  Category Name_Edible Mushroom  \\\n446188                   False                          False   \n629409                   False                          False   \n735146                    True                          False   \n152211                   False                          False   \n416994                   False                          False   \n\n        Category Name_Flower  Category Name_Solanum  Sale or Return_return  \\\n446188                  True                  False                  False   \n629409                 False                  False                  False   \n735146                 False                  False                  False   \n152211                 False                  False                  False   \n416994                 False                  False                  False   \n\n        Sale or Return_sale  Discount (Yes/No)_No  Discount (Yes/No)_Yes  \n446188                 True                  True                  False  \n629409                 True                  True                  False  \n735146                 True                  True                  False  \n152211                 True                  True                  False  \n416994                 True                  True                  False  \n\n[5 rows x 254 columns]",
      "text/html": "<div>\n<style scoped>\n    .dataframe tbody tr th:only-of-type {\n        vertical-align: middle;\n    }\n\n    .dataframe tbody tr th {\n        vertical-align: top;\n    }\n\n    .dataframe thead th {\n        text-align: right;\n    }\n</style>\n<table border=\"1\" class=\"dataframe\">\n  <thead>\n    <tr style=\"text-align: right;\">\n      <th></th>\n      <th>Quantity Sold (kilo)</th>\n      <th>Unit Selling Price (RMB/kg)</th>\n      <th>Item Name_7 Colour Pepper (1)</th>\n      <th>Item Name_7 Colour Pepper (2)</th>\n      <th>Item Name_7 Colour Pepper (Bag)</th>\n      <th>Item Name_Agaricus Bisporus (Bag)</th>\n      <th>Item Name_Agaricus Bisporus (Box)</th>\n      <th>Item Name_Aihao</th>\n      <th>Item Name_Amaranth</th>\n      <th>Item Name_Amaranth (Bag)</th>\n      <th>...</th>\n      <th>Category Name_Aquatic Tuberous Vegetables</th>\n      <th>Category Name_Cabbage</th>\n      <th>Category Name_Capsicum</th>\n      <th>Category Name_Edible Mushroom</th>\n      <th>Category Name_Flower</th>\n      <th>Category Name_Solanum</th>\n      <th>Sale or Return_return</th>\n      <th>Sale or Return_sale</th>\n      <th>Discount (Yes/No)_No</th>\n      <th>Discount (Yes/No)_Yes</th>\n    </tr>\n  </thead>\n  <tbody>\n    <tr>\n      <th>446188</th>\n      <td>-0.397693</td>\n      <td>-0.145319</td>\n      <td>False</td>\n      <td>False</td>\n      <td>False</td>\n      <td>False</td>\n      <td>False</td>\n      <td>False</td>\n      <td>False</td>\n      <td>False</td>\n      <td>...</td>\n      <td>False</td>\n      <td>False</td>\n      <td>False</td>\n      <td>False</td>\n      <td>True</td>\n      <td>False</td>\n      <td>False</td>\n      <td>True</td>\n      <td>True</td>\n      <td>False</td>\n    </tr>\n    <tr>\n      <th>629409</th>\n      <td>-0.335207</td>\n      <td>-0.303766</td>\n      <td>False</td>\n      <td>False</td>\n      <td>False</td>\n      <td>False</td>\n      <td>False</td>\n      <td>False</td>\n      <td>False</td>\n      <td>False</td>\n      <td>...</td>\n      <td>False</td>\n      <td>True</td>\n      <td>False</td>\n      <td>False</td>\n      <td>False</td>\n      <td>False</td>\n      <td>False</td>\n      <td>True</td>\n      <td>True</td>\n      <td>False</td>\n    </tr>\n    <tr>\n      <th>735146</th>\n      <td>1.159467</td>\n      <td>-0.858330</td>\n      <td>False</td>\n      <td>False</td>\n      <td>False</td>\n      <td>False</td>\n      <td>False</td>\n      <td>False</td>\n      <td>False</td>\n      <td>False</td>\n      <td>...</td>\n      <td>False</td>\n      <td>False</td>\n      <td>True</td>\n      <td>False</td>\n      <td>False</td>\n      <td>False</td>\n      <td>False</td>\n      <td>True</td>\n      <td>True</td>\n      <td>False</td>\n    </tr>\n    <tr>\n      <th>152211</th>\n      <td>0.037212</td>\n      <td>-0.145319</td>\n      <td>False</td>\n      <td>False</td>\n      <td>False</td>\n      <td>False</td>\n      <td>False</td>\n      <td>False</td>\n      <td>False</td>\n      <td>False</td>\n      <td>...</td>\n      <td>True</td>\n      <td>False</td>\n      <td>False</td>\n      <td>False</td>\n      <td>False</td>\n      <td>False</td>\n      <td>False</td>\n      <td>True</td>\n      <td>True</td>\n      <td>False</td>\n    </tr>\n    <tr>\n      <th>416994</th>\n      <td>0.947014</td>\n      <td>-0.367144</td>\n      <td>False</td>\n      <td>False</td>\n      <td>False</td>\n      <td>False</td>\n      <td>False</td>\n      <td>False</td>\n      <td>False</td>\n      <td>False</td>\n      <td>...</td>\n      <td>True</td>\n      <td>False</td>\n      <td>False</td>\n      <td>False</td>\n      <td>False</td>\n      <td>False</td>\n      <td>False</td>\n      <td>True</td>\n      <td>True</td>\n      <td>False</td>\n    </tr>\n  </tbody>\n</table>\n<p>5 rows × 254 columns</p>\n</div>"
     },
     "execution_count": 10,
     "metadata": {},
     "output_type": "execute_result"
    }
   ],
   "source": [
    "df.sample(5)"
   ],
   "metadata": {
    "collapsed": false,
    "ExecuteTime": {
     "end_time": "2023-11-23T08:42:22.861195Z",
     "start_time": "2023-11-23T08:42:22.838076Z"
    }
   },
   "id": "859e7a8200e5c83f"
  },
  {
   "cell_type": "code",
   "execution_count": 11,
   "outputs": [
    {
     "name": "stdout",
     "output_type": "stream",
     "text": [
      "Training : 2\n"
     ]
    },
    {
     "name": "stderr",
     "output_type": "stream",
     "text": [
      "/Users/rumethsandinu/Library/Python/3.9/lib/python/site-packages/sklearn/cluster/_kmeans.py:1416: FutureWarning: The default value of `n_init` will change from 10 to 'auto' in 1.4. Set the value of `n_init` explicitly to suppress the warning\n",
      "  super()._check_params_vs_input(X, default_n_init=10)\n"
     ]
    },
    {
     "name": "stdout",
     "output_type": "stream",
     "text": [
      "Clusters --> \u001B[34m2\u001B[39m    WCSS --> \u001B[31m2713156.0003566714\u001B[39m\n",
      "Training : 3\n"
     ]
    },
    {
     "name": "stderr",
     "output_type": "stream",
     "text": [
      "/Users/rumethsandinu/Library/Python/3.9/lib/python/site-packages/sklearn/cluster/_kmeans.py:1416: FutureWarning: The default value of `n_init` will change from 10 to 'auto' in 1.4. Set the value of `n_init` explicitly to suppress the warning\n",
      "  super()._check_params_vs_input(X, default_n_init=10)\n"
     ]
    },
    {
     "name": "stdout",
     "output_type": "stream",
     "text": [
      "Clusters --> \u001B[34m3\u001B[39m    WCSS --> \u001B[31m2293601.0114290677\u001B[39m\n",
      "Training : 4\n"
     ]
    },
    {
     "name": "stderr",
     "output_type": "stream",
     "text": [
      "/Users/rumethsandinu/Library/Python/3.9/lib/python/site-packages/sklearn/cluster/_kmeans.py:1416: FutureWarning: The default value of `n_init` will change from 10 to 'auto' in 1.4. Set the value of `n_init` explicitly to suppress the warning\n",
      "  super()._check_params_vs_input(X, default_n_init=10)\n"
     ]
    },
    {
     "name": "stdout",
     "output_type": "stream",
     "text": [
      "Clusters --> \u001B[34m4\u001B[39m    WCSS --> \u001B[31m2090975.3234514354\u001B[39m\n",
      "Training : 5\n"
     ]
    },
    {
     "name": "stderr",
     "output_type": "stream",
     "text": [
      "/Users/rumethsandinu/Library/Python/3.9/lib/python/site-packages/sklearn/cluster/_kmeans.py:1416: FutureWarning: The default value of `n_init` will change from 10 to 'auto' in 1.4. Set the value of `n_init` explicitly to suppress the warning\n",
      "  super()._check_params_vs_input(X, default_n_init=10)\n"
     ]
    },
    {
     "name": "stdout",
     "output_type": "stream",
     "text": [
      "Clusters --> \u001B[34m5\u001B[39m    WCSS --> \u001B[31m1946769.4895578413\u001B[39m\n",
      "Training : 6\n"
     ]
    },
    {
     "name": "stderr",
     "output_type": "stream",
     "text": [
      "/Users/rumethsandinu/Library/Python/3.9/lib/python/site-packages/sklearn/cluster/_kmeans.py:1416: FutureWarning: The default value of `n_init` will change from 10 to 'auto' in 1.4. Set the value of `n_init` explicitly to suppress the warning\n",
      "  super()._check_params_vs_input(X, default_n_init=10)\n"
     ]
    },
    {
     "name": "stdout",
     "output_type": "stream",
     "text": [
      "Clusters --> \u001B[34m6\u001B[39m    WCSS --> \u001B[31m1788940.392514795\u001B[39m\n",
      "Training : 7\n"
     ]
    },
    {
     "name": "stderr",
     "output_type": "stream",
     "text": [
      "/Users/rumethsandinu/Library/Python/3.9/lib/python/site-packages/sklearn/cluster/_kmeans.py:1416: FutureWarning: The default value of `n_init` will change from 10 to 'auto' in 1.4. Set the value of `n_init` explicitly to suppress the warning\n",
      "  super()._check_params_vs_input(X, default_n_init=10)\n"
     ]
    },
    {
     "name": "stdout",
     "output_type": "stream",
     "text": [
      "Clusters --> \u001B[34m7\u001B[39m    WCSS --> \u001B[31m1689280.6848168238\u001B[39m\n",
      "Training : 8\n"
     ]
    },
    {
     "name": "stderr",
     "output_type": "stream",
     "text": [
      "/Users/rumethsandinu/Library/Python/3.9/lib/python/site-packages/sklearn/cluster/_kmeans.py:1416: FutureWarning: The default value of `n_init` will change from 10 to 'auto' in 1.4. Set the value of `n_init` explicitly to suppress the warning\n",
      "  super()._check_params_vs_input(X, default_n_init=10)\n"
     ]
    },
    {
     "name": "stdout",
     "output_type": "stream",
     "text": [
      "Clusters --> \u001B[34m8\u001B[39m    WCSS --> \u001B[31m1584228.7388012754\u001B[39m\n",
      "Training : 9\n"
     ]
    },
    {
     "name": "stderr",
     "output_type": "stream",
     "text": [
      "/Users/rumethsandinu/Library/Python/3.9/lib/python/site-packages/sklearn/cluster/_kmeans.py:1416: FutureWarning: The default value of `n_init` will change from 10 to 'auto' in 1.4. Set the value of `n_init` explicitly to suppress the warning\n",
      "  super()._check_params_vs_input(X, default_n_init=10)\n"
     ]
    },
    {
     "name": "stdout",
     "output_type": "stream",
     "text": [
      "Clusters --> \u001B[34m9\u001B[39m    WCSS --> \u001B[31m1507178.64637117\u001B[39m\n",
      "Training : 10\n"
     ]
    },
    {
     "name": "stderr",
     "output_type": "stream",
     "text": [
      "/Users/rumethsandinu/Library/Python/3.9/lib/python/site-packages/sklearn/cluster/_kmeans.py:1416: FutureWarning: The default value of `n_init` will change from 10 to 'auto' in 1.4. Set the value of `n_init` explicitly to suppress the warning\n",
      "  super()._check_params_vs_input(X, default_n_init=10)\n"
     ]
    },
    {
     "name": "stdout",
     "output_type": "stream",
     "text": [
      "Clusters --> \u001B[34m10\u001B[39m    WCSS --> \u001B[31m1429204.0171912797\u001B[39m\n",
      "Training : 11\n"
     ]
    },
    {
     "name": "stderr",
     "output_type": "stream",
     "text": [
      "/Users/rumethsandinu/Library/Python/3.9/lib/python/site-packages/sklearn/cluster/_kmeans.py:1416: FutureWarning: The default value of `n_init` will change from 10 to 'auto' in 1.4. Set the value of `n_init` explicitly to suppress the warning\n",
      "  super()._check_params_vs_input(X, default_n_init=10)\n"
     ]
    },
    {
     "name": "stdout",
     "output_type": "stream",
     "text": [
      "Clusters --> \u001B[34m11\u001B[39m    WCSS --> \u001B[31m1372109.1599055296\u001B[39m\n",
      "Training : 12\n"
     ]
    },
    {
     "name": "stderr",
     "output_type": "stream",
     "text": [
      "/Users/rumethsandinu/Library/Python/3.9/lib/python/site-packages/sklearn/cluster/_kmeans.py:1416: FutureWarning: The default value of `n_init` will change from 10 to 'auto' in 1.4. Set the value of `n_init` explicitly to suppress the warning\n",
      "  super()._check_params_vs_input(X, default_n_init=10)\n"
     ]
    },
    {
     "name": "stdout",
     "output_type": "stream",
     "text": [
      "Clusters --> \u001B[34m12\u001B[39m    WCSS --> \u001B[31m1318918.2229447344\u001B[39m\n",
      "Training : 13\n"
     ]
    },
    {
     "name": "stderr",
     "output_type": "stream",
     "text": [
      "/Users/rumethsandinu/Library/Python/3.9/lib/python/site-packages/sklearn/cluster/_kmeans.py:1416: FutureWarning: The default value of `n_init` will change from 10 to 'auto' in 1.4. Set the value of `n_init` explicitly to suppress the warning\n",
      "  super()._check_params_vs_input(X, default_n_init=10)\n"
     ]
    },
    {
     "name": "stdout",
     "output_type": "stream",
     "text": [
      "Clusters --> \u001B[34m13\u001B[39m    WCSS --> \u001B[31m1248294.8418087685\u001B[39m\n",
      "Training : 14\n"
     ]
    },
    {
     "name": "stderr",
     "output_type": "stream",
     "text": [
      "/Users/rumethsandinu/Library/Python/3.9/lib/python/site-packages/sklearn/cluster/_kmeans.py:1416: FutureWarning: The default value of `n_init` will change from 10 to 'auto' in 1.4. Set the value of `n_init` explicitly to suppress the warning\n",
      "  super()._check_params_vs_input(X, default_n_init=10)\n"
     ]
    },
    {
     "name": "stdout",
     "output_type": "stream",
     "text": [
      "Clusters --> \u001B[34m14\u001B[39m    WCSS --> \u001B[31m1222783.8525779473\u001B[39m\n",
      "Training : 15\n"
     ]
    },
    {
     "name": "stderr",
     "output_type": "stream",
     "text": [
      "/Users/rumethsandinu/Library/Python/3.9/lib/python/site-packages/sklearn/cluster/_kmeans.py:1416: FutureWarning: The default value of `n_init` will change from 10 to 'auto' in 1.4. Set the value of `n_init` explicitly to suppress the warning\n",
      "  super()._check_params_vs_input(X, default_n_init=10)\n"
     ]
    },
    {
     "name": "stdout",
     "output_type": "stream",
     "text": [
      "Clusters --> \u001B[34m15\u001B[39m    WCSS --> \u001B[31m1156176.4515114184\u001B[39m\n",
      "Training : 16\n"
     ]
    },
    {
     "name": "stderr",
     "output_type": "stream",
     "text": [
      "/Users/rumethsandinu/Library/Python/3.9/lib/python/site-packages/sklearn/cluster/_kmeans.py:1416: FutureWarning: The default value of `n_init` will change from 10 to 'auto' in 1.4. Set the value of `n_init` explicitly to suppress the warning\n",
      "  super()._check_params_vs_input(X, default_n_init=10)\n"
     ]
    },
    {
     "name": "stdout",
     "output_type": "stream",
     "text": [
      "Clusters --> \u001B[34m16\u001B[39m    WCSS --> \u001B[31m1110673.7907303928\u001B[39m\n",
      "Training : 17\n"
     ]
    },
    {
     "name": "stderr",
     "output_type": "stream",
     "text": [
      "/Users/rumethsandinu/Library/Python/3.9/lib/python/site-packages/sklearn/cluster/_kmeans.py:1416: FutureWarning: The default value of `n_init` will change from 10 to 'auto' in 1.4. Set the value of `n_init` explicitly to suppress the warning\n",
      "  super()._check_params_vs_input(X, default_n_init=10)\n"
     ]
    },
    {
     "name": "stdout",
     "output_type": "stream",
     "text": [
      "Clusters --> \u001B[34m17\u001B[39m    WCSS --> \u001B[31m1089927.0425405735\u001B[39m\n",
      "Training : 18\n"
     ]
    },
    {
     "name": "stderr",
     "output_type": "stream",
     "text": [
      "/Users/rumethsandinu/Library/Python/3.9/lib/python/site-packages/sklearn/cluster/_kmeans.py:1416: FutureWarning: The default value of `n_init` will change from 10 to 'auto' in 1.4. Set the value of `n_init` explicitly to suppress the warning\n",
      "  super()._check_params_vs_input(X, default_n_init=10)\n"
     ]
    },
    {
     "name": "stdout",
     "output_type": "stream",
     "text": [
      "Clusters --> \u001B[34m18\u001B[39m    WCSS --> \u001B[31m1038040.9822288102\u001B[39m\n",
      "Training : 19\n"
     ]
    },
    {
     "name": "stderr",
     "output_type": "stream",
     "text": [
      "/Users/rumethsandinu/Library/Python/3.9/lib/python/site-packages/sklearn/cluster/_kmeans.py:1416: FutureWarning: The default value of `n_init` will change from 10 to 'auto' in 1.4. Set the value of `n_init` explicitly to suppress the warning\n",
      "  super()._check_params_vs_input(X, default_n_init=10)\n"
     ]
    },
    {
     "name": "stdout",
     "output_type": "stream",
     "text": [
      "Clusters --> \u001B[34m19\u001B[39m    WCSS --> \u001B[31m1007013.5803576065\u001B[39m\n",
      "Training : 20\n"
     ]
    },
    {
     "name": "stderr",
     "output_type": "stream",
     "text": [
      "/Users/rumethsandinu/Library/Python/3.9/lib/python/site-packages/sklearn/cluster/_kmeans.py:1416: FutureWarning: The default value of `n_init` will change from 10 to 'auto' in 1.4. Set the value of `n_init` explicitly to suppress the warning\n",
      "  super()._check_params_vs_input(X, default_n_init=10)\n"
     ]
    },
    {
     "name": "stdout",
     "output_type": "stream",
     "text": [
      "Clusters --> \u001B[34m20\u001B[39m    WCSS --> \u001B[31m980056.5244496007\u001B[39m\n"
     ]
    }
   ],
   "source": [
    "k_values = range(2,21)\n",
    "\n",
    "wcss_values = []\n",
    "\n",
    "for k in k_values:\n",
    "    print(f'Training : {k}')\n",
    "    kmeans = KMeans(n_clusters=k, random_state=42)\n",
    "    kmeans.fit(df)\n",
    "    wcss_values.append(kmeans.inertia_)\n",
    "    print(f'Clusters --> \\u001B[34m{k}\\u001B[39m    WCSS --> \\u001B[31m{wcss_values[-1]}\\u001B[39m')"
   ],
   "metadata": {
    "collapsed": false,
    "ExecuteTime": {
     "end_time": "2023-11-23T08:56:08.976934Z",
     "start_time": "2023-11-23T08:42:22.861547Z"
    }
   },
   "id": "4ba586ebe25af939"
  },
  {
   "cell_type": "code",
   "execution_count": 12,
   "outputs": [
    {
     "data": {
      "text/plain": "<Figure size 640x480 with 1 Axes>",
      "image/png": "[encoded data removed]"
     },
     "metadata": {},
     "output_type": "display_data"
    }
   ],
   "source": [
    "# Plot the results\n",
    "plt.plot(k_values, wcss_values, marker='o')\n",
    "plt.title('Randomly Sampled WCSS for Different K Values')\n",
    "plt.xlabel('Number of Clusters (K)')\n",
    "plt.ylabel('WCSS')\n",
    "plt.show()"
   ],
   "metadata": {
    "collapsed": false,
    "ExecuteTime": {
     "end_time": "2023-11-23T08:56:09.277268Z",
     "start_time": "2023-11-23T08:56:09.001143Z"
    }
   },
   "id": "fa04aad0c78f3b10"
  },
  {
   "cell_type": "code",
   "execution_count": 13,
   "outputs": [
    {
     "name": "stderr",
     "output_type": "stream",
     "text": [
      "/Users/rumethsandinu/Library/Python/3.9/lib/python/site-packages/sklearn/cluster/_kmeans.py:1416: FutureWarning: The default value of `n_init` will change from 10 to 'auto' in 1.4. Set the value of `n_init` explicitly to suppress the warning\n",
      "  super()._check_params_vs_input(X, default_n_init=10)\n"
     ]
    }
   ],
   "source": [
    "model = KMeans(n_clusters=13)\n",
    "pred = model.fit_predict(df)"
   ],
   "metadata": {
    "collapsed": false,
    "ExecuteTime": {
     "end_time": "2023-11-23T08:56:50.854312Z",
     "start_time": "2023-11-23T08:56:09.275489Z"
    }
   },
   "id": "60a54a0c3bb06ca9"
  },
  {
   "cell_type": "code",
   "execution_count": 14,
   "outputs": [
    {
     "data": {
      "text/plain": "array([ 0,  1,  0, ...,  2,  0, 12], dtype=int32)"
     },
     "execution_count": 14,
     "metadata": {},
     "output_type": "execute_result"
    }
   ],
   "source": [
    "pred"
   ],
   "metadata": {
    "collapsed": false,
    "ExecuteTime": {
     "end_time": "2023-11-23T08:56:50.866334Z",
     "start_time": "2023-11-23T08:56:50.861745Z"
    }
   },
   "id": "2fbf183c1adb5db6"
  },
  {
   "cell_type": "code",
   "execution_count": 15,
   "outputs": [
    {
     "data": {
      "text/plain": "   Quantity Sold (kilo)  Unit Selling Price (RMB/kg)  \\\n0             -0.350203                    -0.208697   \n1              0.782050                    -0.905864   \n2             -0.317710                    -0.208697   \n3             -0.287717                     0.171575   \n4              0.007219                    -0.145319   \n\n   Item Name_7 Colour Pepper (1)  Item Name_7 Colour Pepper (2)  \\\n0                          False                          False   \n1                          False                          False   \n2                          False                          False   \n3                          False                          False   \n4                          False                          False   \n\n   Item Name_7 Colour Pepper (Bag)  Item Name_Agaricus Bisporus (Bag)  \\\n0                            False                              False   \n1                            False                              False   \n2                            False                              False   \n3                            False                              False   \n4                            False                              False   \n\n   Item Name_Agaricus Bisporus (Box)  Item Name_Aihao  Item Name_Amaranth  \\\n0                              False            False               False   \n1                              False            False               False   \n2                              False            False               False   \n3                              False            False               False   \n4                              False            False               False   \n\n   Item Name_Amaranth (Bag)  ...  Category Name_Cabbage  \\\n0                     False  ...                  False   \n1                     False  ...                  False   \n2                     False  ...                  False   \n3                     False  ...                  False   \n4                     False  ...                  False   \n\n   Category Name_Capsicum  Category Name_Edible Mushroom  \\\n0                    True                          False   \n1                   False                          False   \n2                    True                          False   \n3                   False                          False   \n4                   False                          False   \n\n   Category Name_Flower  Category Name_Solanum  Sale or Return_return  \\\n0                 False                  False                  False   \n1                  True                  False                  False   \n2                 False                  False                  False   \n3                  True                  False                  False   \n4                  True                  False                  False   \n\n   Sale or Return_sale  Discount (Yes/No)_No  Discount (Yes/No)_Yes  cluster  \n0                 True                  True                  False        0  \n1                 True                  True                  False        1  \n2                 True                  True                  False        0  \n3                 True                  True                  False        4  \n4                 True                  True                  False        4  \n\n[5 rows x 255 columns]",
      "text/html": "<div>\n<style scoped>\n    .dataframe tbody tr th:only-of-type {\n        vertical-align: middle;\n    }\n\n    .dataframe tbody tr th {\n        vertical-align: top;\n    }\n\n    .dataframe thead th {\n        text-align: right;\n    }\n</style>\n<table border=\"1\" class=\"dataframe\">\n  <thead>\n    <tr style=\"text-align: right;\">\n      <th></th>\n      <th>Quantity Sold (kilo)</th>\n      <th>Unit Selling Price (RMB/kg)</th>\n      <th>Item Name_7 Colour Pepper (1)</th>\n      <th>Item Name_7 Colour Pepper (2)</th>\n      <th>Item Name_7 Colour Pepper (Bag)</th>\n      <th>Item Name_Agaricus Bisporus (Bag)</th>\n      <th>Item Name_Agaricus Bisporus (Box)</th>\n      <th>Item Name_Aihao</th>\n      <th>Item Name_Amaranth</th>\n      <th>Item Name_Amaranth (Bag)</th>\n      <th>...</th>\n      <th>Category Name_Cabbage</th>\n      <th>Category Name_Capsicum</th>\n      <th>Category Name_Edible Mushroom</th>\n      <th>Category Name_Flower</th>\n      <th>Category Name_Solanum</th>\n      <th>Sale or Return_return</th>\n      <th>Sale or Return_sale</th>\n      <th>Discount (Yes/No)_No</th>\n      <th>Discount (Yes/No)_Yes</th>\n      <th>cluster</th>\n    </tr>\n  </thead>\n  <tbody>\n    <tr>\n      <th>0</th>\n      <td>-0.350203</td>\n      <td>-0.208697</td>\n      <td>False</td>\n      <td>False</td>\n      <td>False</td>\n      <td>False</td>\n      <td>False</td>\n      <td>False</td>\n      <td>False</td>\n      <td>False</td>\n      <td>...</td>\n      <td>False</td>\n      <td>True</td>\n      <td>False</td>\n      <td>False</td>\n      <td>False</td>\n      <td>False</td>\n      <td>True</td>\n      <td>True</td>\n      <td>False</td>\n      <td>0</td>\n    </tr>\n    <tr>\n      <th>1</th>\n      <td>0.782050</td>\n      <td>-0.905864</td>\n      <td>False</td>\n      <td>False</td>\n      <td>False</td>\n      <td>False</td>\n      <td>False</td>\n      <td>False</td>\n      <td>False</td>\n      <td>False</td>\n      <td>...</td>\n      <td>False</td>\n      <td>False</td>\n      <td>False</td>\n      <td>True</td>\n      <td>False</td>\n      <td>False</td>\n      <td>True</td>\n      <td>True</td>\n      <td>False</td>\n      <td>1</td>\n    </tr>\n    <tr>\n      <th>2</th>\n      <td>-0.317710</td>\n      <td>-0.208697</td>\n      <td>False</td>\n      <td>False</td>\n      <td>False</td>\n      <td>False</td>\n      <td>False</td>\n      <td>False</td>\n      <td>False</td>\n      <td>False</td>\n      <td>...</td>\n      <td>False</td>\n      <td>True</td>\n      <td>False</td>\n      <td>False</td>\n      <td>False</td>\n      <td>False</td>\n      <td>True</td>\n      <td>True</td>\n      <td>False</td>\n      <td>0</td>\n    </tr>\n    <tr>\n      <th>3</th>\n      <td>-0.287717</td>\n      <td>0.171575</td>\n      <td>False</td>\n      <td>False</td>\n      <td>False</td>\n      <td>False</td>\n      <td>False</td>\n      <td>False</td>\n      <td>False</td>\n      <td>False</td>\n      <td>...</td>\n      <td>False</td>\n      <td>False</td>\n      <td>False</td>\n      <td>True</td>\n      <td>False</td>\n      <td>False</td>\n      <td>True</td>\n      <td>True</td>\n      <td>False</td>\n      <td>4</td>\n    </tr>\n    <tr>\n      <th>4</th>\n      <td>0.007219</td>\n      <td>-0.145319</td>\n      <td>False</td>\n      <td>False</td>\n      <td>False</td>\n      <td>False</td>\n      <td>False</td>\n      <td>False</td>\n      <td>False</td>\n      <td>False</td>\n      <td>...</td>\n      <td>False</td>\n      <td>False</td>\n      <td>False</td>\n      <td>True</td>\n      <td>False</td>\n      <td>False</td>\n      <td>True</td>\n      <td>True</td>\n      <td>False</td>\n      <td>4</td>\n    </tr>\n  </tbody>\n</table>\n<p>5 rows × 255 columns</p>\n</div>"
     },
     "execution_count": 15,
     "metadata": {},
     "output_type": "execute_result"
    }
   ],
   "source": [
    "df['cluster'] = pred\n",
    "df.head(5)"
   ],
   "metadata": {
    "collapsed": false,
    "ExecuteTime": {
     "end_time": "2023-11-23T08:56:50.891225Z",
     "start_time": "2023-11-23T08:56:50.864684Z"
    }
   },
   "id": "bf3eb4d6251dbc2e"
  },
  {
   "cell_type": "code",
   "execution_count": 16,
   "outputs": [],
   "source": [
    "c1 = df[df['cluster'] == 0]\n",
    "c2 = df[df['cluster'] == 1]\n",
    "c3 = df[df['cluster'] == 2]\n",
    "c4 = df[df['cluster'] == 3]\n",
    "c5 = df[df['cluster'] == 4]\n",
    "c6 = df[df['cluster'] == 5]\n",
    "c7 = df[df['cluster'] == 6]\n",
    "c8 = df[df['cluster'] == 7]\n",
    "c9 = df[df['cluster'] == 8]\n",
    "c10 = df[df['cluster'] == 9]\n",
    "c11 = df[df['cluster'] == 10]\n",
    "c12 = df[df['cluster'] == 11]\n",
    "c13 = df[df['cluster'] == 12]"
   ],
   "metadata": {
    "collapsed": false,
    "ExecuteTime": {
     "end_time": "2023-11-23T08:56:51.100505Z",
     "start_time": "2023-11-23T08:56:50.894932Z"
    }
   },
   "id": "cc21e03dc648a572"
  },
  {
   "cell_type": "code",
   "execution_count": 17,
   "outputs": [
    {
     "data": {
      "text/plain": "<matplotlib.collections.PathCollection at 0x29fed1250>"
     },
     "execution_count": 17,
     "metadata": {},
     "output_type": "execute_result"
    },
    {
     "data": {
      "text/plain": "<Figure size 640x480 with 1 Axes>",
      "image/png": "[encoded data removed]"
     },
     "metadata": {},
     "output_type": "display_data"
    }
   ],
   "source": [
    "plt.scatter(c1['Unit Selling Price (RMB/kg)'], c1['Quantity Sold (kilo)'])\n",
    "plt.scatter(c2['Unit Selling Price (RMB/kg)'], c2['Quantity Sold (kilo)'])\n",
    "plt.scatter(c3['Unit Selling Price (RMB/kg)'], c3['Quantity Sold (kilo)'])\n",
    "plt.scatter(c4['Unit Selling Price (RMB/kg)'], c4['Quantity Sold (kilo)'])\n",
    "plt.scatter(c5['Unit Selling Price (RMB/kg)'], c5['Quantity Sold (kilo)'])\n",
    "plt.scatter(c6['Unit Selling Price (RMB/kg)'], c6['Quantity Sold (kilo)'])\n",
    "plt.scatter(c7['Unit Selling Price (RMB/kg)'], c7['Quantity Sold (kilo)'])\n",
    "plt.scatter(c8['Unit Selling Price (RMB/kg)'], c8['Quantity Sold (kilo)'])\n",
    "plt.scatter(c9['Unit Selling Price (RMB/kg)'], c9['Quantity Sold (kilo)'])\n",
    "plt.scatter(c10['Unit Selling Price (RMB/kg)'], c10['Quantity Sold (kilo)'])\n",
    "plt.scatter(c11['Unit Selling Price (RMB/kg)'], c11['Quantity Sold (kilo)'])\n",
    "plt.scatter(c12['Unit Selling Price (RMB/kg)'], c12['Quantity Sold (kilo)'])\n",
    "plt.scatter(c13['Unit Selling Price (RMB/kg)'], c13['Quantity Sold (kilo)'])"
   ],
   "metadata": {
    "collapsed": false,
    "ExecuteTime": {
     "end_time": "2023-11-23T08:56:52.201754Z",
     "start_time": "2023-11-23T08:56:51.112479Z"
    }
   },
   "id": "3a92020fce495345"
  },
  {
   "cell_type": "code",
   "execution_count": 17,
   "outputs": [],
   "source": [],
   "metadata": {
    "collapsed": false,
    "ExecuteTime": {
     "end_time": "2023-11-23T08:56:52.203989Z",
     "start_time": "2023-11-23T08:56:52.199646Z"
    }
   },
   "id": "8c08928dac04ec6a"
  }
 ],
 "metadata": {
  "kernelspec": {
   "display_name": "Python 3",
   "language": "python",
   "name": "python3"
  },
  "language_info": {
   "codemirror_mode": {
    "name": "ipython",
    "version": 2
   },
   "file_extension": ".py",
   "mimetype": "text/x-python",
   "name": "python",
   "nbconvert_exporter": "python",
   "pygments_lexer": "ipython2",
   "version": "2.7.6"
  }
 },
 "nbformat": 4,
 "nbformat_minor": 5
}
