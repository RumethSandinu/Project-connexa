{
 "cells": [
  {
   "cell_type": "code",
   "execution_count": 1,
   "id": "initial_id",
   "metadata": {
    "collapsed": true,
    "ExecuteTime": {
     "end_time": "2023-11-22T18:00:38.868130Z",
     "start_time": "2023-11-22T18:00:38.570202Z"
    }
   },
   "outputs": [],
   "source": [
    "import pandas as pd"
   ]
  },
  {
   "cell_type": "code",
   "execution_count": 2,
   "outputs": [
    {
     "data": {
      "text/plain": "                    Item Name Category Name  Quantity Sold (g)  \\\n95109         Huangbaicai (2)        Flower              251.0   \n325160        Yunnan Shengcai        Flower              602.0   \n334278        Yunnan Shengcai        Flower              363.0   \n846138  Wuhu Green Pepper (1)      Capsicum              489.0   \n379084             Xiaozhoupi      Capsicum              251.0   \n\n        Unit Selling Price (RMB/g) Sale or Return Discount (Yes/No)  \n95109                         8000           sale                No  \n325160                        6000           sale                No  \n334278                        8000           sale                No  \n846138                        7200           sale                No  \n379084                       10000           sale                No  ",
      "text/html": "<div>\n<style scoped>\n    .dataframe tbody tr th:only-of-type {\n        vertical-align: middle;\n    }\n\n    .dataframe tbody tr th {\n        vertical-align: top;\n    }\n\n    .dataframe thead th {\n        text-align: right;\n    }\n</style>\n<table border=\"1\" class=\"dataframe\">\n  <thead>\n    <tr style=\"text-align: right;\">\n      <th></th>\n      <th>Item Name</th>\n      <th>Category Name</th>\n      <th>Quantity Sold (g)</th>\n      <th>Unit Selling Price (RMB/g)</th>\n      <th>Sale or Return</th>\n      <th>Discount (Yes/No)</th>\n    </tr>\n  </thead>\n  <tbody>\n    <tr>\n      <th>95109</th>\n      <td>Huangbaicai (2)</td>\n      <td>Flower</td>\n      <td>251.0</td>\n      <td>8000</td>\n      <td>sale</td>\n      <td>No</td>\n    </tr>\n    <tr>\n      <th>325160</th>\n      <td>Yunnan Shengcai</td>\n      <td>Flower</td>\n      <td>602.0</td>\n      <td>6000</td>\n      <td>sale</td>\n      <td>No</td>\n    </tr>\n    <tr>\n      <th>334278</th>\n      <td>Yunnan Shengcai</td>\n      <td>Flower</td>\n      <td>363.0</td>\n      <td>8000</td>\n      <td>sale</td>\n      <td>No</td>\n    </tr>\n    <tr>\n      <th>846138</th>\n      <td>Wuhu Green Pepper (1)</td>\n      <td>Capsicum</td>\n      <td>489.0</td>\n      <td>7200</td>\n      <td>sale</td>\n      <td>No</td>\n    </tr>\n    <tr>\n      <th>379084</th>\n      <td>Xiaozhoupi</td>\n      <td>Capsicum</td>\n      <td>251.0</td>\n      <td>10000</td>\n      <td>sale</td>\n      <td>No</td>\n    </tr>\n  </tbody>\n</table>\n</div>"
     },
     "execution_count": 2,
     "metadata": {},
     "output_type": "execute_result"
    }
   ],
   "source": [
    "df = pd.read_csv('/Users/rumethsandinu/Study/Assessments/Year 2/DSGP/Datasets/final_cleaned_dataset/cleaned_annex.csv')\n",
    "df.sample(5)"
   ],
   "metadata": {
    "collapsed": false,
    "ExecuteTime": {
     "end_time": "2023-11-22T18:00:39.193588Z",
     "start_time": "2023-11-22T18:00:38.867814Z"
    }
   },
   "id": "8313a95613700d05"
  },
  {
   "cell_type": "code",
   "execution_count": 3,
   "outputs": [],
   "source": [
    "df['Quantity Sold (g)'] = df['Quantity Sold (g)'].astype(str).str[:-2]"
   ],
   "metadata": {
    "collapsed": false,
    "ExecuteTime": {
     "end_time": "2023-11-22T18:00:39.463760Z",
     "start_time": "2023-11-22T18:00:39.189550Z"
    }
   },
   "id": "86ee1cca0ea408d6"
  },
  {
   "cell_type": "code",
   "execution_count": 4,
   "outputs": [
    {
     "data": {
      "text/plain": "Sale or Return\nsale      878042\nreturn       461\nName: count, dtype: int64"
     },
     "execution_count": 4,
     "metadata": {},
     "output_type": "execute_result"
    }
   ],
   "source": [
    "df['Sale or Return'].value_counts()"
   ],
   "metadata": {
    "collapsed": false,
    "ExecuteTime": {
     "end_time": "2023-11-22T18:00:39.491842Z",
     "start_time": "2023-11-22T18:00:39.489705Z"
    }
   },
   "id": "b0482c9be872fd06"
  },
  {
   "cell_type": "code",
   "execution_count": 5,
   "outputs": [
    {
     "name": "stdout",
     "output_type": "stream",
     "text": [
      "<class 'pandas.core.frame.DataFrame'>\n",
      "RangeIndex: 878503 entries, 0 to 878502\n",
      "Data columns (total 6 columns):\n",
      " #   Column                      Non-Null Count   Dtype \n",
      "---  ------                      --------------   ----- \n",
      " 0   Item Name                   878503 non-null  object\n",
      " 1   Category Name               878503 non-null  object\n",
      " 2   Quantity Sold (g)           878503 non-null  object\n",
      " 3   Unit Selling Price (RMB/g)  878503 non-null  int64 \n",
      " 4   Sale or Return              878503 non-null  object\n",
      " 5   Discount (Yes/No)           878503 non-null  object\n",
      "dtypes: int64(1), object(5)\n",
      "memory usage: 40.2+ MB\n"
     ]
    }
   ],
   "source": [
    "df.info()"
   ],
   "metadata": {
    "collapsed": false,
    "ExecuteTime": {
     "end_time": "2023-11-22T18:00:39.588290Z",
     "start_time": "2023-11-22T18:00:39.574706Z"
    }
   },
   "id": "dac1c49b59693fcd"
  },
  {
   "cell_type": "code",
   "execution_count": 6,
   "outputs": [],
   "source": [
    "df['Quantity Sold (g)'] = df['Quantity Sold (g)'].astype(float)\n",
    "df['Quantity Sold (g)'] = df['Quantity Sold (g)'].astype(int)\n",
    "df['Unit Selling Price (RMB/g)'] = df['Unit Selling Price (RMB/g)'].astype(int)"
   ],
   "metadata": {
    "collapsed": false,
    "ExecuteTime": {
     "end_time": "2023-11-22T18:00:39.639494Z",
     "start_time": "2023-11-22T18:00:39.627744Z"
    }
   },
   "id": "a134e822fb8d41fd"
  },
  {
   "cell_type": "code",
   "execution_count": 7,
   "outputs": [
    {
     "data": {
      "text/plain": "                  Item Name    Category Name  Quantity Sold (g)  \\\n607157             Broccoli          Cabbage                492   \n45606    Xixia Mushroom (1)  Edible Mushroom                202   \n775908            Naibaicai           Flower                432   \n869306      Xiaoqingcai (1)           Flower                218   \n118002  Needle Mushroom (1)  Edible Mushroom                426   \n\n        Unit Selling Price (RMB/g) Sale or Return  Discount (Yes/No)  \n607157                       10000           sale              False  \n45606                        19800           sale              False  \n775908                       10000           sale              False  \n869306                        6000           sale              False  \n118002                        8000           sale              False  ",
      "text/html": "<div>\n<style scoped>\n    .dataframe tbody tr th:only-of-type {\n        vertical-align: middle;\n    }\n\n    .dataframe tbody tr th {\n        vertical-align: top;\n    }\n\n    .dataframe thead th {\n        text-align: right;\n    }\n</style>\n<table border=\"1\" class=\"dataframe\">\n  <thead>\n    <tr style=\"text-align: right;\">\n      <th></th>\n      <th>Item Name</th>\n      <th>Category Name</th>\n      <th>Quantity Sold (g)</th>\n      <th>Unit Selling Price (RMB/g)</th>\n      <th>Sale or Return</th>\n      <th>Discount (Yes/No)</th>\n    </tr>\n  </thead>\n  <tbody>\n    <tr>\n      <th>607157</th>\n      <td>Broccoli</td>\n      <td>Cabbage</td>\n      <td>492</td>\n      <td>10000</td>\n      <td>sale</td>\n      <td>False</td>\n    </tr>\n    <tr>\n      <th>45606</th>\n      <td>Xixia Mushroom (1)</td>\n      <td>Edible Mushroom</td>\n      <td>202</td>\n      <td>19800</td>\n      <td>sale</td>\n      <td>False</td>\n    </tr>\n    <tr>\n      <th>775908</th>\n      <td>Naibaicai</td>\n      <td>Flower</td>\n      <td>432</td>\n      <td>10000</td>\n      <td>sale</td>\n      <td>False</td>\n    </tr>\n    <tr>\n      <th>869306</th>\n      <td>Xiaoqingcai (1)</td>\n      <td>Flower</td>\n      <td>218</td>\n      <td>6000</td>\n      <td>sale</td>\n      <td>False</td>\n    </tr>\n    <tr>\n      <th>118002</th>\n      <td>Needle Mushroom (1)</td>\n      <td>Edible Mushroom</td>\n      <td>426</td>\n      <td>8000</td>\n      <td>sale</td>\n      <td>False</td>\n    </tr>\n  </tbody>\n</table>\n</div>"
     },
     "execution_count": 7,
     "metadata": {},
     "output_type": "execute_result"
    }
   ],
   "source": [
    "for i in range(df.shape[0]):\n",
    "    if df['Discount (Yes/No)'].values[i] == 'Yes':\n",
    "        df['Discount (Yes/No)'].values[i] = True\n",
    "    else:\n",
    "        df['Discount (Yes/No)'].values[i] = False\n",
    "        \n",
    "df['Discount (Yes/No)'] = df['Discount (Yes/No)'].astype(bool)\n",
    "df.sample(5)  "
   ],
   "metadata": {
    "collapsed": false,
    "ExecuteTime": {
     "end_time": "2023-11-22T18:00:42.685548Z",
     "start_time": "2023-11-22T18:00:39.701131Z"
    }
   },
   "id": "5b0298bd2e87808"
  },
  {
   "cell_type": "code",
   "execution_count": 8,
   "outputs": [
    {
     "name": "stdout",
     "output_type": "stream",
     "text": [
      "<class 'pandas.core.frame.DataFrame'>\n",
      "RangeIndex: 878503 entries, 0 to 878502\n",
      "Data columns (total 6 columns):\n",
      " #   Column                      Non-Null Count   Dtype \n",
      "---  ------                      --------------   ----- \n",
      " 0   Item Name                   878503 non-null  object\n",
      " 1   Category Name               878503 non-null  object\n",
      " 2   Quantity Sold (g)           878503 non-null  int64 \n",
      " 3   Unit Selling Price (RMB/g)  878503 non-null  int64 \n",
      " 4   Sale or Return              878503 non-null  object\n",
      " 5   Discount (Yes/No)           878503 non-null  bool  \n",
      "dtypes: bool(1), int64(2), object(3)\n",
      "memory usage: 34.4+ MB\n"
     ]
    }
   ],
   "source": [
    "df.info()"
   ],
   "metadata": {
    "collapsed": false,
    "ExecuteTime": {
     "end_time": "2023-11-22T18:00:42.766384Z",
     "start_time": "2023-11-22T18:00:42.686957Z"
    }
   },
   "id": "f73e65ad1df3272b"
  },
  {
   "cell_type": "code",
   "execution_count": 9,
   "outputs": [
    {
     "data": {
      "text/plain": "Discount (Yes/No)\nFalse    831137\nTrue      47366\nName: count, dtype: int64"
     },
     "execution_count": 9,
     "metadata": {},
     "output_type": "execute_result"
    }
   ],
   "source": [
    "df['Discount (Yes/No)'].value_counts()"
   ],
   "metadata": {
    "collapsed": false,
    "ExecuteTime": {
     "end_time": "2023-11-22T18:00:42.766770Z",
     "start_time": "2023-11-22T18:00:42.744153Z"
    }
   },
   "id": "c851d1885bf2cf9f"
  },
  {
   "cell_type": "code",
   "execution_count": 10,
   "outputs": [
    {
     "data": {
      "text/plain": "                            Quantity Sold (g)  Unit Selling Price (RMB/g)  \\\nQuantity Sold (g)                    1.000000                   -0.374163   \nUnit Selling Price (RMB/g)          -0.374163                    1.000000   \nDiscount (Yes/No)                    0.080099                   -0.072037   \n\n                            Discount (Yes/No)  \nQuantity Sold (g)                    0.080099  \nUnit Selling Price (RMB/g)          -0.072037  \nDiscount (Yes/No)                    1.000000  ",
      "text/html": "<div>\n<style scoped>\n    .dataframe tbody tr th:only-of-type {\n        vertical-align: middle;\n    }\n\n    .dataframe tbody tr th {\n        vertical-align: top;\n    }\n\n    .dataframe thead th {\n        text-align: right;\n    }\n</style>\n<table border=\"1\" class=\"dataframe\">\n  <thead>\n    <tr style=\"text-align: right;\">\n      <th></th>\n      <th>Quantity Sold (g)</th>\n      <th>Unit Selling Price (RMB/g)</th>\n      <th>Discount (Yes/No)</th>\n    </tr>\n  </thead>\n  <tbody>\n    <tr>\n      <th>Quantity Sold (g)</th>\n      <td>1.000000</td>\n      <td>-0.374163</td>\n      <td>0.080099</td>\n    </tr>\n    <tr>\n      <th>Unit Selling Price (RMB/g)</th>\n      <td>-0.374163</td>\n      <td>1.000000</td>\n      <td>-0.072037</td>\n    </tr>\n    <tr>\n      <th>Discount (Yes/No)</th>\n      <td>0.080099</td>\n      <td>-0.072037</td>\n      <td>1.000000</td>\n    </tr>\n  </tbody>\n</table>\n</div>"
     },
     "execution_count": 10,
     "metadata": {},
     "output_type": "execute_result"
    }
   ],
   "source": [
    "df.iloc[:,[2, 3, 5]].corr()"
   ],
   "metadata": {
    "collapsed": false,
    "ExecuteTime": {
     "end_time": "2023-11-22T18:00:42.814212Z",
     "start_time": "2023-11-22T18:00:42.764757Z"
    }
   },
   "id": "962c9c03464f3443"
  },
  {
   "cell_type": "code",
   "execution_count": 11,
   "outputs": [
    {
     "data": {
      "text/plain": "(100, 119900)"
     },
     "execution_count": 11,
     "metadata": {},
     "output_type": "execute_result"
    }
   ],
   "source": [
    "df['Unit Selling Price (RMB/g)'].min(), df['Unit Selling Price (RMB/g)'].max()"
   ],
   "metadata": {
    "collapsed": false,
    "ExecuteTime": {
     "end_time": "2023-11-22T18:00:42.814487Z",
     "start_time": "2023-11-22T18:00:42.795596Z"
    }
   },
   "id": "71823ffce4ea06d6"
  },
  {
   "cell_type": "code",
   "execution_count": 12,
   "outputs": [
    {
     "data": {
      "text/plain": "(878503, 253)"
     },
     "execution_count": 12,
     "metadata": {},
     "output_type": "execute_result"
    }
   ],
   "source": [
    "df = pd.get_dummies(df)\n",
    "df.shape"
   ],
   "metadata": {
    "collapsed": false,
    "ExecuteTime": {
     "end_time": "2023-11-22T18:00:43.457981Z",
     "start_time": "2023-11-22T18:00:42.799211Z"
    }
   },
   "id": "61320d2411114576"
  },
  {
   "cell_type": "code",
   "execution_count": 13,
   "outputs": [
    {
     "data": {
      "text/plain": "        Quantity Sold (g)  Unit Selling Price (RMB/g)  Discount (Yes/No)  \\\n554508                704                        8000              False   \n248854                464                        8000              False   \n688234                399                        4800              False   \n256243                318                        6000              False   \n784880                301                       12000              False   \n\n        Item Name_7 Colour Pepper (1)  Item Name_7 Colour Pepper (2)  \\\n554508                          False                          False   \n248854                          False                          False   \n688234                          False                          False   \n256243                          False                          False   \n784880                          False                          False   \n\n        Item Name_7 Colour Pepper (Bag)  Item Name_Agaricus Bisporus (Bag)  \\\n554508                            False                              False   \n248854                            False                              False   \n688234                            False                              False   \n256243                            False                              False   \n784880                            False                              False   \n\n        Item Name_Agaricus Bisporus (Box)  Item Name_Aihao  \\\n554508                              False            False   \n248854                              False            False   \n688234                              False            False   \n256243                              False            False   \n784880                              False            False   \n\n        Item Name_Amaranth  ...  Item Name_Zhuyecai  Item Name_Zhuyecai (Bag)  \\\n554508               False  ...                True                     False   \n248854               False  ...               False                     False   \n688234               False  ...               False                     False   \n256243               False  ...               False                     False   \n784880               False  ...               False                     False   \n\n        Category Name_Aquatic Tuberous Vegetables  Category Name_Cabbage  \\\n554508                                      False                  False   \n248854                                      False                  False   \n688234                                      False                  False   \n256243                                      False                  False   \n784880                                      False                  False   \n\n        Category Name_Capsicum  Category Name_Edible Mushroom  \\\n554508                   False                          False   \n248854                   False                           True   \n688234                   False                          False   \n256243                   False                          False   \n784880                    True                          False   \n\n        Category Name_Flower  Category Name_Solanum  Sale or Return_return  \\\n554508                  True                  False                  False   \n248854                 False                  False                  False   \n688234                  True                  False                  False   \n256243                  True                  False                  False   \n784880                 False                  False                  False   \n\n        Sale or Return_sale  \n554508                 True  \n248854                 True  \n688234                 True  \n256243                 True  \n784880                 True  \n\n[5 rows x 253 columns]",
      "text/html": "<div>\n<style scoped>\n    .dataframe tbody tr th:only-of-type {\n        vertical-align: middle;\n    }\n\n    .dataframe tbody tr th {\n        vertical-align: top;\n    }\n\n    .dataframe thead th {\n        text-align: right;\n    }\n</style>\n<table border=\"1\" class=\"dataframe\">\n  <thead>\n    <tr style=\"text-align: right;\">\n      <th></th>\n      <th>Quantity Sold (g)</th>\n      <th>Unit Selling Price (RMB/g)</th>\n      <th>Discount (Yes/No)</th>\n      <th>Item Name_7 Colour Pepper (1)</th>\n      <th>Item Name_7 Colour Pepper (2)</th>\n      <th>Item Name_7 Colour Pepper (Bag)</th>\n      <th>Item Name_Agaricus Bisporus (Bag)</th>\n      <th>Item Name_Agaricus Bisporus (Box)</th>\n      <th>Item Name_Aihao</th>\n      <th>Item Name_Amaranth</th>\n      <th>...</th>\n      <th>Item Name_Zhuyecai</th>\n      <th>Item Name_Zhuyecai (Bag)</th>\n      <th>Category Name_Aquatic Tuberous Vegetables</th>\n      <th>Category Name_Cabbage</th>\n      <th>Category Name_Capsicum</th>\n      <th>Category Name_Edible Mushroom</th>\n      <th>Category Name_Flower</th>\n      <th>Category Name_Solanum</th>\n      <th>Sale or Return_return</th>\n      <th>Sale or Return_sale</th>\n    </tr>\n  </thead>\n  <tbody>\n    <tr>\n      <th>554508</th>\n      <td>704</td>\n      <td>8000</td>\n      <td>False</td>\n      <td>False</td>\n      <td>False</td>\n      <td>False</td>\n      <td>False</td>\n      <td>False</td>\n      <td>False</td>\n      <td>False</td>\n      <td>...</td>\n      <td>True</td>\n      <td>False</td>\n      <td>False</td>\n      <td>False</td>\n      <td>False</td>\n      <td>False</td>\n      <td>True</td>\n      <td>False</td>\n      <td>False</td>\n      <td>True</td>\n    </tr>\n    <tr>\n      <th>248854</th>\n      <td>464</td>\n      <td>8000</td>\n      <td>False</td>\n      <td>False</td>\n      <td>False</td>\n      <td>False</td>\n      <td>False</td>\n      <td>False</td>\n      <td>False</td>\n      <td>False</td>\n      <td>...</td>\n      <td>False</td>\n      <td>False</td>\n      <td>False</td>\n      <td>False</td>\n      <td>False</td>\n      <td>True</td>\n      <td>False</td>\n      <td>False</td>\n      <td>False</td>\n      <td>True</td>\n    </tr>\n    <tr>\n      <th>688234</th>\n      <td>399</td>\n      <td>4800</td>\n      <td>False</td>\n      <td>False</td>\n      <td>False</td>\n      <td>False</td>\n      <td>False</td>\n      <td>False</td>\n      <td>False</td>\n      <td>False</td>\n      <td>...</td>\n      <td>False</td>\n      <td>False</td>\n      <td>False</td>\n      <td>False</td>\n      <td>False</td>\n      <td>False</td>\n      <td>True</td>\n      <td>False</td>\n      <td>False</td>\n      <td>True</td>\n    </tr>\n    <tr>\n      <th>256243</th>\n      <td>318</td>\n      <td>6000</td>\n      <td>False</td>\n      <td>False</td>\n      <td>False</td>\n      <td>False</td>\n      <td>False</td>\n      <td>False</td>\n      <td>False</td>\n      <td>False</td>\n      <td>...</td>\n      <td>False</td>\n      <td>False</td>\n      <td>False</td>\n      <td>False</td>\n      <td>False</td>\n      <td>False</td>\n      <td>True</td>\n      <td>False</td>\n      <td>False</td>\n      <td>True</td>\n    </tr>\n    <tr>\n      <th>784880</th>\n      <td>301</td>\n      <td>12000</td>\n      <td>False</td>\n      <td>False</td>\n      <td>False</td>\n      <td>False</td>\n      <td>False</td>\n      <td>False</td>\n      <td>False</td>\n      <td>False</td>\n      <td>...</td>\n      <td>False</td>\n      <td>False</td>\n      <td>False</td>\n      <td>False</td>\n      <td>True</td>\n      <td>False</td>\n      <td>False</td>\n      <td>False</td>\n      <td>False</td>\n      <td>True</td>\n    </tr>\n  </tbody>\n</table>\n<p>5 rows × 253 columns</p>\n</div>"
     },
     "execution_count": 13,
     "metadata": {},
     "output_type": "execute_result"
    }
   ],
   "source": [
    "df.sample(5)"
   ],
   "metadata": {
    "collapsed": false,
    "ExecuteTime": {
     "end_time": "2023-11-22T18:00:43.477341Z",
     "start_time": "2023-11-22T18:00:43.458626Z"
    }
   },
   "id": "859e7a8200e5c83f"
  },
  {
   "cell_type": "code",
   "execution_count": 14,
   "outputs": [],
   "source": [
    "from sklearn.cluster import KMeans"
   ],
   "metadata": {
    "collapsed": false,
    "ExecuteTime": {
     "end_time": "2023-11-22T18:01:00.072674Z",
     "start_time": "2023-11-22T18:00:43.480420Z"
    }
   },
   "id": "94920688553a4a18"
  },
  {
   "cell_type": "code",
   "execution_count": 15,
   "outputs": [
    {
     "name": "stderr",
     "output_type": "stream",
     "text": [
      "/Users/rumethsandinu/Library/Python/3.9/lib/python/site-packages/sklearn/cluster/_kmeans.py:1416: FutureWarning: The default value of `n_init` will change from 10 to 'auto' in 1.4. Set the value of `n_init` explicitly to suppress the warning\n",
      "  super()._check_params_vs_input(X, default_n_init=10)\n"
     ]
    }
   ],
   "source": [
    "wcss_error = []\n",
    "model = KMeans(n_clusters= 100)\n",
    "model.fit(df)\n",
    "wcss_error.append(model.inertia_)"
   ],
   "metadata": {
    "collapsed": false,
    "ExecuteTime": {
     "end_time": "2023-11-22T18:05:26.125314Z",
     "start_time": "2023-11-22T18:01:00.072057Z"
    }
   },
   "id": "ad31a0ea12f6ee01"
  },
  {
   "cell_type": "code",
   "execution_count": 16,
   "outputs": [
    {
     "data": {
      "text/plain": "[15520641902.611841]"
     },
     "execution_count": 16,
     "metadata": {},
     "output_type": "execute_result"
    }
   ],
   "source": [
    "wcss_error"
   ],
   "metadata": {
    "collapsed": false,
    "ExecuteTime": {
     "end_time": "2023-11-22T18:05:26.148670Z",
     "start_time": "2023-11-22T18:05:26.117265Z"
    }
   },
   "id": "2738b8d4f6a54a61"
  }
 ],
 "metadata": {
  "kernelspec": {
   "display_name": "Python 3",
   "language": "python",
   "name": "python3"
  },
  "language_info": {
   "codemirror_mode": {
    "name": "ipython",
    "version": 2
   },
   "file_extension": ".py",
   "mimetype": "text/x-python",
   "name": "python",
   "nbconvert_exporter": "python",
   "pygments_lexer": "ipython2",
   "version": "2.7.6"
  }
 },
 "nbformat": 4,
 "nbformat_minor": 5
}
