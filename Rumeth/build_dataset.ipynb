{
 "cells": [
  {
   "cell_type": "code",
   "execution_count": 43,
   "id": "initial_id",
   "metadata": {
    "collapsed": true,
    "ExecuteTime": {
     "end_time": "2023-12-05T12:49:01.300035Z",
     "start_time": "2023-12-05T12:49:01.247525Z"
    }
   },
   "outputs": [],
   "source": [
    "# import libraries\n",
    "import pandas as pd"
   ]
  },
  {
   "cell_type": "code",
   "execution_count": 44,
   "outputs": [
    {
     "data": {
      "text/plain": "         Item Code              Item Name  Category Code  \\\n0  102900005115168       Niushou Shengcai     1011010101   \n1  102900005115199      Sichuan Red Cedar     1011010101   \n2  102900005115625  Local Xiaomao Cabbage     1011010101   \n3  102900005115748           White Caitai     1011010101   \n4  102900005115762               Amaranth     1011010101   \n\n            Category Name  \n0  Flower/Leaf Vegetables  \n1  Flower/Leaf Vegetables  \n2  Flower/Leaf Vegetables  \n3  Flower/Leaf Vegetables  \n4  Flower/Leaf Vegetables  ",
      "text/html": "<div>\n<style scoped>\n    .dataframe tbody tr th:only-of-type {\n        vertical-align: middle;\n    }\n\n    .dataframe tbody tr th {\n        vertical-align: top;\n    }\n\n    .dataframe thead th {\n        text-align: right;\n    }\n</style>\n<table border=\"1\" class=\"dataframe\">\n  <thead>\n    <tr style=\"text-align: right;\">\n      <th></th>\n      <th>Item Code</th>\n      <th>Item Name</th>\n      <th>Category Code</th>\n      <th>Category Name</th>\n    </tr>\n  </thead>\n  <tbody>\n    <tr>\n      <th>0</th>\n      <td>102900005115168</td>\n      <td>Niushou Shengcai</td>\n      <td>1011010101</td>\n      <td>Flower/Leaf Vegetables</td>\n    </tr>\n    <tr>\n      <th>1</th>\n      <td>102900005115199</td>\n      <td>Sichuan Red Cedar</td>\n      <td>1011010101</td>\n      <td>Flower/Leaf Vegetables</td>\n    </tr>\n    <tr>\n      <th>2</th>\n      <td>102900005115625</td>\n      <td>Local Xiaomao Cabbage</td>\n      <td>1011010101</td>\n      <td>Flower/Leaf Vegetables</td>\n    </tr>\n    <tr>\n      <th>3</th>\n      <td>102900005115748</td>\n      <td>White Caitai</td>\n      <td>1011010101</td>\n      <td>Flower/Leaf Vegetables</td>\n    </tr>\n    <tr>\n      <th>4</th>\n      <td>102900005115762</td>\n      <td>Amaranth</td>\n      <td>1011010101</td>\n      <td>Flower/Leaf Vegetables</td>\n    </tr>\n  </tbody>\n</table>\n</div>"
     },
     "execution_count": 44,
     "metadata": {},
     "output_type": "execute_result"
    }
   ],
   "source": [
    "# load item.csv\n",
    "df1 = pd.read_csv('/Users/rumethsandinu/Study/Assessments/Year 2/DSGP/Datasets/annex/item.csv')\n",
    "df1.head()"
   ],
   "metadata": {
    "collapsed": false,
    "ExecuteTime": {
     "end_time": "2023-12-05T12:49:01.327734Z",
     "start_time": "2023-12-05T12:49:01.250504Z"
    }
   },
   "id": "8e4f9211ddae87b6"
  },
  {
   "cell_type": "code",
   "execution_count": 45,
   "outputs": [
    {
     "name": "stdout",
     "output_type": "stream",
     "text": [
      "<class 'pandas.core.frame.DataFrame'>\n",
      "RangeIndex: 251 entries, 0 to 250\n",
      "Data columns (total 4 columns):\n",
      " #   Column         Non-Null Count  Dtype \n",
      "---  ------         --------------  ----- \n",
      " 0   Item Code      251 non-null    int64 \n",
      " 1   Item Name      251 non-null    object\n",
      " 2   Category Code  251 non-null    int64 \n",
      " 3   Category Name  251 non-null    object\n",
      "dtypes: int64(2), object(2)\n",
      "memory usage: 8.0+ KB\n"
     ]
    }
   ],
   "source": [
    "df1.info()"
   ],
   "metadata": {
    "collapsed": false,
    "ExecuteTime": {
     "end_time": "2023-12-05T12:49:01.328008Z",
     "start_time": "2023-12-05T12:49:01.272265Z"
    }
   },
   "id": "78ed671b18013277"
  },
  {
   "cell_type": "code",
   "execution_count": 46,
   "outputs": [
    {
     "data": {
      "text/plain": "Item Code\nFalse    251\nName: count, dtype: int64"
     },
     "execution_count": 46,
     "metadata": {},
     "output_type": "execute_result"
    }
   ],
   "source": [
    "# check if item code duplicates\n",
    "df1['Item Code'].duplicated().value_counts()"
   ],
   "metadata": {
    "collapsed": false,
    "ExecuteTime": {
     "end_time": "2023-12-05T12:49:01.328235Z",
     "start_time": "2023-12-05T12:49:01.276742Z"
    }
   },
   "id": "34b9ca94737f53fb"
  },
  {
   "cell_type": "code",
   "execution_count": 47,
   "outputs": [],
   "source": [
    "# convert item code to object type to protect from type conversion\n",
    "df1['Item Code'] = df1['Item Code'].astype(str)"
   ],
   "metadata": {
    "collapsed": false,
    "ExecuteTime": {
     "end_time": "2023-12-05T12:49:01.328304Z",
     "start_time": "2023-12-05T12:49:01.281696Z"
    }
   },
   "id": "26be13da9c092411"
  },
  {
   "cell_type": "code",
   "execution_count": 48,
   "outputs": [
    {
     "data": {
      "text/plain": "           Item Code                Item Name  Category Code  \\\n69   102900011032282     Xiangtianhongcaitai      1011010101   \n44   102900011008676                    Jicai     1011010101   \n193  102900011009246      Fresh Black Fungus      1011010801   \n227  102900011034330       Agaricus Bisporus      1011010801   \n233  102900011036266  Velvet Antler Mushroom      1011010801   \n\n              Category Name  \n69   Flower/Leaf Vegetables  \n44   Flower/Leaf Vegetables  \n193         Edible Mushroom  \n227         Edible Mushroom  \n233         Edible Mushroom  ",
      "text/html": "<div>\n<style scoped>\n    .dataframe tbody tr th:only-of-type {\n        vertical-align: middle;\n    }\n\n    .dataframe tbody tr th {\n        vertical-align: top;\n    }\n\n    .dataframe thead th {\n        text-align: right;\n    }\n</style>\n<table border=\"1\" class=\"dataframe\">\n  <thead>\n    <tr style=\"text-align: right;\">\n      <th></th>\n      <th>Item Code</th>\n      <th>Item Name</th>\n      <th>Category Code</th>\n      <th>Category Name</th>\n    </tr>\n  </thead>\n  <tbody>\n    <tr>\n      <th>69</th>\n      <td>102900011032282</td>\n      <td>Xiangtianhongcaitai</td>\n      <td>1011010101</td>\n      <td>Flower/Leaf Vegetables</td>\n    </tr>\n    <tr>\n      <th>44</th>\n      <td>102900011008676</td>\n      <td>Jicai</td>\n      <td>1011010101</td>\n      <td>Flower/Leaf Vegetables</td>\n    </tr>\n    <tr>\n      <th>193</th>\n      <td>102900011009246</td>\n      <td>Fresh Black Fungus</td>\n      <td>1011010801</td>\n      <td>Edible Mushroom</td>\n    </tr>\n    <tr>\n      <th>227</th>\n      <td>102900011034330</td>\n      <td>Agaricus Bisporus</td>\n      <td>1011010801</td>\n      <td>Edible Mushroom</td>\n    </tr>\n    <tr>\n      <th>233</th>\n      <td>102900011036266</td>\n      <td>Velvet Antler Mushroom</td>\n      <td>1011010801</td>\n      <td>Edible Mushroom</td>\n    </tr>\n  </tbody>\n</table>\n</div>"
     },
     "execution_count": 48,
     "metadata": {},
     "output_type": "execute_result"
    }
   ],
   "source": [
    "# split item names where duplication name starts\n",
    "df1['Item Name'] = df1['Item Name'].apply(lambda x : x.split('(')[0])\n",
    "df1.sample(5)"
   ],
   "metadata": {
    "collapsed": false,
    "ExecuteTime": {
     "end_time": "2023-12-05T12:49:01.328791Z",
     "start_time": "2023-12-05T12:49:01.286701Z"
    }
   },
   "id": "d5acee1e3f03d6a"
  },
  {
   "cell_type": "code",
   "execution_count": 49,
   "outputs": [
    {
     "data": {
      "text/plain": "Item Name\nFalse    194\nTrue      57\nName: count, dtype: int64"
     },
     "execution_count": 49,
     "metadata": {},
     "output_type": "execute_result"
    }
   ],
   "source": [
    "# check for duplications names\n",
    "df1['Item Name'].duplicated().value_counts()"
   ],
   "metadata": {
    "collapsed": false,
    "ExecuteTime": {
     "end_time": "2023-12-05T12:49:01.328974Z",
     "start_time": "2023-12-05T12:49:01.290239Z"
    }
   },
   "id": "956218b5c7fc9825"
  },
  {
   "cell_type": "code",
   "execution_count": 50,
   "outputs": [
    {
     "data": {
      "text/plain": "0      False\n1      False\n2      False\n3      False\n4      False\n       ...  \n246     True\n247     True\n248     True\n249     True\n250    False\nName: Item Name, Length: 251, dtype: bool"
     },
     "execution_count": 50,
     "metadata": {},
     "output_type": "execute_result"
    }
   ],
   "source": [
    "# for future testing if the duplication removal process successfull\n",
    "df1['Item Name'].duplicated()"
   ],
   "metadata": {
    "collapsed": false,
    "ExecuteTime": {
     "end_time": "2023-12-05T12:49:01.329295Z",
     "start_time": "2023-12-05T12:49:01.293813Z"
    }
   },
   "id": "45c5b1ebc49e1df3"
  },
  {
   "cell_type": "code",
   "execution_count": 51,
   "outputs": [
    {
     "data": {
      "text/plain": "(194, 4)"
     },
     "execution_count": 51,
     "metadata": {},
     "output_type": "execute_result"
    }
   ],
   "source": [
    "# drop the duplicates keeping only first value\n",
    "df1 = df1.drop_duplicates(subset=['Item Name'], keep='first')\n",
    "df1.shape"
   ],
   "metadata": {
    "collapsed": false,
    "ExecuteTime": {
     "end_time": "2023-12-05T12:49:01.329583Z",
     "start_time": "2023-12-05T12:49:01.296768Z"
    }
   },
   "id": "3175a0cf2d606740"
  },
  {
   "cell_type": "code",
   "execution_count": 52,
   "outputs": [
    {
     "data": {
      "text/plain": "         Item Code        Item Name  Category Code           Category Name\n7  102900005115793  Chinese Cabbage     1011010101  Flower/Leaf Vegetables",
      "text/html": "<div>\n<style scoped>\n    .dataframe tbody tr th:only-of-type {\n        vertical-align: middle;\n    }\n\n    .dataframe tbody tr th {\n        vertical-align: top;\n    }\n\n    .dataframe thead th {\n        text-align: right;\n    }\n</style>\n<table border=\"1\" class=\"dataframe\">\n  <thead>\n    <tr style=\"text-align: right;\">\n      <th></th>\n      <th>Item Code</th>\n      <th>Item Name</th>\n      <th>Category Code</th>\n      <th>Category Name</th>\n    </tr>\n  </thead>\n  <tbody>\n    <tr>\n      <th>7</th>\n      <td>102900005115793</td>\n      <td>Chinese Cabbage</td>\n      <td>1011010101</td>\n      <td>Flower/Leaf Vegetables</td>\n    </tr>\n  </tbody>\n</table>\n</div>"
     },
     "execution_count": 52,
     "metadata": {},
     "output_type": "execute_result"
    }
   ],
   "source": [
    "# check if the duplication removal process successfull\n",
    "df1[df1['Item Name'] == 'Chinese Cabbage']"
   ],
   "metadata": {
    "collapsed": false,
    "ExecuteTime": {
     "end_time": "2023-12-05T12:49:01.330614Z",
     "start_time": "2023-12-05T12:49:01.301166Z"
    }
   },
   "id": "3da517b9fc4c143d"
  },
  {
   "cell_type": "code",
   "execution_count": 53,
   "outputs": [
    {
     "data": {
      "text/plain": "Category Name\nFlower/Leaf Vegetables         94\nEdible Mushroom                41\nCapsicum                       35\nAquatic Tuberous Vegetables    14\nSolanum                         7\nCabbage                         3\nName: count, dtype: int64"
     },
     "execution_count": 53,
     "metadata": {},
     "output_type": "execute_result"
    }
   ],
   "source": [
    "# check the frequency of each catgory name\n",
    "\n",
    "df1['Category Name'].value_counts()"
   ],
   "metadata": {
    "collapsed": false,
    "ExecuteTime": {
     "end_time": "2023-12-05T12:49:01.330882Z",
     "start_time": "2023-12-05T12:49:01.304258Z"
    }
   },
   "id": "b1ca6678c24298fd"
  },
  {
   "cell_type": "code",
   "execution_count": 54,
   "outputs": [
    {
     "data": {
      "text/plain": "Category Name\nFlower/Leaf Vegetables         94\nEdible Mushroom                41\nCapsicum                       35\nAquatic Tuberous Vegetables    14\nSolanum                         7\nCabbage                         3\nName: count, dtype: int64"
     },
     "execution_count": 54,
     "metadata": {},
     "output_type": "execute_result"
    }
   ],
   "source": [
    "def rename_category(data):\n",
    "    if data == 'Flower/Leaf Vegetables':\n",
    "        return 'Flower/Leaf Vegetables'\n",
    "    return data\n",
    "\n",
    "# rename all Flower/Leaf Vegetables values to readable value\n",
    "df1['Category Name'] = df1['Category Name'].apply(rename_category)\n",
    "df1['Category Name'].value_counts()"
   ],
   "metadata": {
    "collapsed": false,
    "ExecuteTime": {
     "end_time": "2023-12-05T12:49:01.331332Z",
     "start_time": "2023-12-05T12:49:01.308138Z"
    }
   },
   "id": "e8123fbaed77245a"
  },
  {
   "cell_type": "code",
   "execution_count": 55,
   "outputs": [
    {
     "data": {
      "text/plain": "         Date          Time        Item Code  Quantity Sold (kilo)  \\\n0  2020-07-01  09:15:07.924  102900005117056                 0.396   \n1  2020-07-01  09:17:27.295  102900005115960                 0.849   \n2  2020-07-01  09:17:33.905  102900005117056                 0.409   \n3  2020-07-01  09:19:45.450  102900005115823                 0.421   \n4  2020-07-01  09:20:23.686  102900005115908                 0.539   \n\n   Unit Selling Price (RMB/kg) Sale or Return Discount (Yes/No)  \n0                          7.6           sale                No  \n1                          3.2           sale                No  \n2                          7.6           sale                No  \n3                         10.0           sale                No  \n4                          8.0           sale                No  ",
      "text/html": "<div>\n<style scoped>\n    .dataframe tbody tr th:only-of-type {\n        vertical-align: middle;\n    }\n\n    .dataframe tbody tr th {\n        vertical-align: top;\n    }\n\n    .dataframe thead th {\n        text-align: right;\n    }\n</style>\n<table border=\"1\" class=\"dataframe\">\n  <thead>\n    <tr style=\"text-align: right;\">\n      <th></th>\n      <th>Date</th>\n      <th>Time</th>\n      <th>Item Code</th>\n      <th>Quantity Sold (kilo)</th>\n      <th>Unit Selling Price (RMB/kg)</th>\n      <th>Sale or Return</th>\n      <th>Discount (Yes/No)</th>\n    </tr>\n  </thead>\n  <tbody>\n    <tr>\n      <th>0</th>\n      <td>2020-07-01</td>\n      <td>09:15:07.924</td>\n      <td>102900005117056</td>\n      <td>0.396</td>\n      <td>7.6</td>\n      <td>sale</td>\n      <td>No</td>\n    </tr>\n    <tr>\n      <th>1</th>\n      <td>2020-07-01</td>\n      <td>09:17:27.295</td>\n      <td>102900005115960</td>\n      <td>0.849</td>\n      <td>3.2</td>\n      <td>sale</td>\n      <td>No</td>\n    </tr>\n    <tr>\n      <th>2</th>\n      <td>2020-07-01</td>\n      <td>09:17:33.905</td>\n      <td>102900005117056</td>\n      <td>0.409</td>\n      <td>7.6</td>\n      <td>sale</td>\n      <td>No</td>\n    </tr>\n    <tr>\n      <th>3</th>\n      <td>2020-07-01</td>\n      <td>09:19:45.450</td>\n      <td>102900005115823</td>\n      <td>0.421</td>\n      <td>10.0</td>\n      <td>sale</td>\n      <td>No</td>\n    </tr>\n    <tr>\n      <th>4</th>\n      <td>2020-07-01</td>\n      <td>09:20:23.686</td>\n      <td>102900005115908</td>\n      <td>0.539</td>\n      <td>8.0</td>\n      <td>sale</td>\n      <td>No</td>\n    </tr>\n  </tbody>\n</table>\n</div>"
     },
     "execution_count": 55,
     "metadata": {},
     "output_type": "execute_result"
    }
   ],
   "source": [
    "# load the sale.csv dataset\n",
    "\n",
    "df3 = pd.read_csv('/Users/rumethsandinu/Study/Assessments/Year 2/DSGP/Datasets/annex/sale.csv')\n",
    "df3.head()"
   ],
   "metadata": {
    "collapsed": false,
    "ExecuteTime": {
     "end_time": "2023-12-05T12:49:01.966125Z",
     "start_time": "2023-12-05T12:49:01.310719Z"
    }
   },
   "id": "e91032627b07ee8c"
  },
  {
   "cell_type": "code",
   "execution_count": 56,
   "outputs": [],
   "source": [
    "# drop non-dependent columns\n",
    "df3 = df3.drop(columns=['Date', 'Time'], axis=1)"
   ],
   "metadata": {
    "collapsed": false,
    "ExecuteTime": {
     "end_time": "2023-12-05T12:49:01.967697Z",
     "start_time": "2023-12-05T12:49:01.932697Z"
    }
   },
   "id": "fff148316fd62059"
  },
  {
   "cell_type": "code",
   "execution_count": 57,
   "outputs": [
    {
     "name": "stdout",
     "output_type": "stream",
     "text": [
      "<class 'pandas.core.frame.DataFrame'>\n",
      "RangeIndex: 878503 entries, 0 to 878502\n",
      "Data columns (total 5 columns):\n",
      " #   Column                       Non-Null Count   Dtype  \n",
      "---  ------                       --------------   -----  \n",
      " 0   Item Code                    878503 non-null  int64  \n",
      " 1   Quantity Sold (kilo)         878503 non-null  float64\n",
      " 2   Unit Selling Price (RMB/kg)  878503 non-null  float64\n",
      " 3   Sale or Return               878503 non-null  object \n",
      " 4   Discount (Yes/No)            878503 non-null  object \n",
      "dtypes: float64(2), int64(1), object(2)\n",
      "memory usage: 33.5+ MB\n"
     ]
    }
   ],
   "source": [
    "df3.info()"
   ],
   "metadata": {
    "collapsed": false,
    "ExecuteTime": {
     "end_time": "2023-12-05T12:49:02.043047Z",
     "start_time": "2023-12-05T12:49:01.961298Z"
    }
   },
   "id": "cbba1e17241ebd7e"
  },
  {
   "cell_type": "code",
   "execution_count": 58,
   "outputs": [],
   "source": [
    "# convert item code to object type to protect from type conversion\n",
    "df3['Item Code'] = df3['Item Code'].astype(str)"
   ],
   "metadata": {
    "collapsed": false,
    "ExecuteTime": {
     "end_time": "2023-12-05T12:49:02.190843Z",
     "start_time": "2023-12-05T12:49:01.998399Z"
    }
   },
   "id": "516950ee36b32e26"
  },
  {
   "cell_type": "code",
   "execution_count": 59,
   "outputs": [
    {
     "data": {
      "text/plain": "(191, 4)"
     },
     "execution_count": 59,
     "metadata": {},
     "output_type": "execute_result"
    }
   ],
   "source": [
    "# get item codes in df1 which present in df3\n",
    "df1 = df1[df1['Item Code'].isin(df3['Item Code'])]\n",
    "df1.shape"
   ],
   "metadata": {
    "collapsed": false,
    "ExecuteTime": {
     "end_time": "2023-12-05T12:49:02.221808Z",
     "start_time": "2023-12-05T12:49:02.219377Z"
    }
   },
   "id": "36f13c005a0065f0"
  },
  {
   "cell_type": "code",
   "execution_count": 60,
   "outputs": [
    {
     "data": {
      "text/plain": "(737337, 5)"
     },
     "execution_count": 60,
     "metadata": {},
     "output_type": "execute_result"
    }
   ],
   "source": [
    "# get item codes in df3 which present in df1\n",
    "df3 = df3[df3['Item Code'].isin(df1['Item Code'])]\n",
    "\n",
    "df3.shape"
   ],
   "metadata": {
    "collapsed": false,
    "ExecuteTime": {
     "end_time": "2023-12-05T12:49:02.289209Z",
     "start_time": "2023-12-05T12:49:02.252511Z"
    }
   },
   "id": "6589b5cecc2993c"
  },
  {
   "cell_type": "code",
   "execution_count": 61,
   "outputs": [
    {
     "name": "stdout",
     "output_type": "stream",
     "text": [
      "<class 'pandas.core.frame.DataFrame'>\n",
      "RangeIndex: 737337 entries, 0 to 737336\n",
      "Data columns (total 5 columns):\n",
      " #   Column                       Non-Null Count   Dtype  \n",
      "---  ------                       --------------   -----  \n",
      " 0   Item Code                    737337 non-null  object \n",
      " 1   Quantity Sold (kilo)         737337 non-null  float64\n",
      " 2   Unit Selling Price (RMB/kg)  737337 non-null  float64\n",
      " 3   Sale or Return               737337 non-null  object \n",
      " 4   Discount (Yes/No)            737337 non-null  object \n",
      "dtypes: float64(2), object(3)\n",
      "memory usage: 28.1+ MB\n"
     ]
    }
   ],
   "source": [
    "# getting a copy of df3 and assigning it to dff\n",
    "\n",
    "dff = df3.copy().reset_index(drop=True)\n",
    "dff.info()"
   ],
   "metadata": {
    "collapsed": false,
    "ExecuteTime": {
     "end_time": "2023-12-05T12:49:02.402050Z",
     "start_time": "2023-12-05T12:49:02.290559Z"
    }
   },
   "id": "70e418d00022cc43"
  },
  {
   "cell_type": "code",
   "execution_count": 62,
   "outputs": [
    {
     "data": {
      "text/plain": "         Item Code  Quantity Sold (kilo)  Unit Selling Price (RMB/kg)  \\\n0  102900005117056                 0.396                          7.6   \n1  102900005117056                 0.409                          7.6   \n2  102900005115823                 0.421                         10.0   \n3  102900005115908                 0.539                          8.0   \n4  102900005117056                 0.277                          7.6   \n\n  Sale or Return Discount (Yes/No)  \n0           sale                No  \n1           sale                No  \n2           sale                No  \n3           sale                No  \n4           sale                No  ",
      "text/html": "<div>\n<style scoped>\n    .dataframe tbody tr th:only-of-type {\n        vertical-align: middle;\n    }\n\n    .dataframe tbody tr th {\n        vertical-align: top;\n    }\n\n    .dataframe thead th {\n        text-align: right;\n    }\n</style>\n<table border=\"1\" class=\"dataframe\">\n  <thead>\n    <tr style=\"text-align: right;\">\n      <th></th>\n      <th>Item Code</th>\n      <th>Quantity Sold (kilo)</th>\n      <th>Unit Selling Price (RMB/kg)</th>\n      <th>Sale or Return</th>\n      <th>Discount (Yes/No)</th>\n    </tr>\n  </thead>\n  <tbody>\n    <tr>\n      <th>0</th>\n      <td>102900005117056</td>\n      <td>0.396</td>\n      <td>7.6</td>\n      <td>sale</td>\n      <td>No</td>\n    </tr>\n    <tr>\n      <th>1</th>\n      <td>102900005117056</td>\n      <td>0.409</td>\n      <td>7.6</td>\n      <td>sale</td>\n      <td>No</td>\n    </tr>\n    <tr>\n      <th>2</th>\n      <td>102900005115823</td>\n      <td>0.421</td>\n      <td>10.0</td>\n      <td>sale</td>\n      <td>No</td>\n    </tr>\n    <tr>\n      <th>3</th>\n      <td>102900005115908</td>\n      <td>0.539</td>\n      <td>8.0</td>\n      <td>sale</td>\n      <td>No</td>\n    </tr>\n    <tr>\n      <th>4</th>\n      <td>102900005117056</td>\n      <td>0.277</td>\n      <td>7.6</td>\n      <td>sale</td>\n      <td>No</td>\n    </tr>\n  </tbody>\n</table>\n</div>"
     },
     "execution_count": 62,
     "metadata": {},
     "output_type": "execute_result"
    }
   ],
   "source": [
    "# check all the operations successful\n",
    "dff.head()"
   ],
   "metadata": {
    "collapsed": false,
    "ExecuteTime": {
     "end_time": "2023-12-05T12:49:02.406701Z",
     "start_time": "2023-12-05T12:49:02.403294Z"
    }
   },
   "id": "a3979005a61b79c0"
  },
  {
   "cell_type": "code",
   "execution_count": 63,
   "outputs": [
    {
     "data": {
      "text/plain": "(737337, 5)"
     },
     "execution_count": 63,
     "metadata": {},
     "output_type": "execute_result"
    }
   ],
   "source": [
    "dff.shape"
   ],
   "metadata": {
    "collapsed": false,
    "ExecuteTime": {
     "end_time": "2023-12-05T12:49:02.410741Z",
     "start_time": "2023-12-05T12:49:02.407814Z"
    }
   },
   "id": "f395a41de9a6022d"
  },
  {
   "cell_type": "code",
   "execution_count": 64,
   "outputs": [],
   "source": [
    "# merge df3 with df1 (item name, category name)\n",
    "for i in range(dff.shape[0]):\n",
    "    for j in range(df1.shape[0]):\n",
    "        if dff['Item Code'].values[i] == df1['Item Code'].values[j]:\n",
    "            dff.at[i, 'Item Name'] = df1['Item Name'].values[j]\n",
    "            dff.at[i, 'Category Name'] = df1['Category Name'].values[j]\n",
    "            break"
   ],
   "metadata": {
    "collapsed": false,
    "ExecuteTime": {
     "end_time": "2023-12-05T12:53:02.365001Z",
     "start_time": "2023-12-05T12:49:02.414344Z"
    }
   },
   "id": "f7fb01539b2247e3"
  },
  {
   "cell_type": "code",
   "execution_count": 65,
   "outputs": [
    {
     "data": {
      "text/plain": "   Quantity Sold (kilo)  Unit Selling Price (RMB/kg) Sale or Return  \\\n0                 0.396                          7.6           sale   \n1                 0.409                          7.6           sale   \n2                 0.421                         10.0           sale   \n3                 0.539                          8.0           sale   \n4                 0.277                          7.6           sale   \n\n  Discount (Yes/No)     Item Name           Category Name  \n0                No   Paopaojiao                 Capsicum  \n1                No   Paopaojiao                 Capsicum  \n2                No  Shanghaiqing  Flower/Leaf Vegetables  \n3                No        Caixin  Flower/Leaf Vegetables  \n4                No   Paopaojiao                 Capsicum  ",
      "text/html": "<div>\n<style scoped>\n    .dataframe tbody tr th:only-of-type {\n        vertical-align: middle;\n    }\n\n    .dataframe tbody tr th {\n        vertical-align: top;\n    }\n\n    .dataframe thead th {\n        text-align: right;\n    }\n</style>\n<table border=\"1\" class=\"dataframe\">\n  <thead>\n    <tr style=\"text-align: right;\">\n      <th></th>\n      <th>Quantity Sold (kilo)</th>\n      <th>Unit Selling Price (RMB/kg)</th>\n      <th>Sale or Return</th>\n      <th>Discount (Yes/No)</th>\n      <th>Item Name</th>\n      <th>Category Name</th>\n    </tr>\n  </thead>\n  <tbody>\n    <tr>\n      <th>0</th>\n      <td>0.396</td>\n      <td>7.6</td>\n      <td>sale</td>\n      <td>No</td>\n      <td>Paopaojiao</td>\n      <td>Capsicum</td>\n    </tr>\n    <tr>\n      <th>1</th>\n      <td>0.409</td>\n      <td>7.6</td>\n      <td>sale</td>\n      <td>No</td>\n      <td>Paopaojiao</td>\n      <td>Capsicum</td>\n    </tr>\n    <tr>\n      <th>2</th>\n      <td>0.421</td>\n      <td>10.0</td>\n      <td>sale</td>\n      <td>No</td>\n      <td>Shanghaiqing</td>\n      <td>Flower/Leaf Vegetables</td>\n    </tr>\n    <tr>\n      <th>3</th>\n      <td>0.539</td>\n      <td>8.0</td>\n      <td>sale</td>\n      <td>No</td>\n      <td>Caixin</td>\n      <td>Flower/Leaf Vegetables</td>\n    </tr>\n    <tr>\n      <th>4</th>\n      <td>0.277</td>\n      <td>7.6</td>\n      <td>sale</td>\n      <td>No</td>\n      <td>Paopaojiao</td>\n      <td>Capsicum</td>\n    </tr>\n  </tbody>\n</table>\n</div>"
     },
     "execution_count": 65,
     "metadata": {},
     "output_type": "execute_result"
    }
   ],
   "source": [
    "# drop non-dependant feature\n",
    "dff = dff.drop(columns=['Item Code'], axis=1)\n",
    "dff.head()"
   ],
   "metadata": {
    "collapsed": false,
    "ExecuteTime": {
     "end_time": "2023-12-05T12:53:02.407004Z",
     "start_time": "2023-12-05T12:53:02.374968Z"
    }
   },
   "id": "673e33afbbb0faa0"
  },
  {
   "cell_type": "code",
   "execution_count": 66,
   "outputs": [
    {
     "name": "stdout",
     "output_type": "stream",
     "text": [
      "<class 'pandas.core.frame.DataFrame'>\n",
      "RangeIndex: 737337 entries, 0 to 737336\n",
      "Data columns (total 6 columns):\n",
      " #   Column                       Non-Null Count   Dtype  \n",
      "---  ------                       --------------   -----  \n",
      " 0   Quantity Sold (kilo)         737337 non-null  float64\n",
      " 1   Unit Selling Price (RMB/kg)  737337 non-null  float64\n",
      " 2   Sale or Return               737337 non-null  object \n",
      " 3   Discount (Yes/No)            737337 non-null  object \n",
      " 4   Item Name                    737337 non-null  object \n",
      " 5   Category Name                737337 non-null  object \n",
      "dtypes: float64(2), object(4)\n",
      "memory usage: 33.8+ MB\n"
     ]
    }
   ],
   "source": [
    "dff.info()"
   ],
   "metadata": {
    "collapsed": false,
    "ExecuteTime": {
     "end_time": "2023-12-05T12:53:02.513470Z",
     "start_time": "2023-12-05T12:53:02.406285Z"
    }
   },
   "id": "90d28e83f455d9ca"
  },
  {
   "cell_type": "code",
   "execution_count": 67,
   "outputs": [
    {
     "data": {
      "text/plain": "                      Item Name           Category Name  Quantity Sold (kilo)  \\\n298594              Red Pepper                 Capsicum                 0.088   \n45976               Hongshujian  Flower/Leaf Vegetables                 0.240   \n556124       Wuhu Green Pepper                 Capsicum                 0.571   \n594305  Zhijiang Qinggengsanhua                 Cabbage                 0.284   \n312929          Yunnan Shengcai  Flower/Leaf Vegetables                 0.338   \n\n        Unit Selling Price (RMB/kg) Sale or Return Discount (Yes/No)  \n298594                          8.0           sale                No  \n45976                           4.6           sale                No  \n556124                          6.0           sale                No  \n594305                          9.2           sale                No  \n312929                          8.0           sale                No  ",
      "text/html": "<div>\n<style scoped>\n    .dataframe tbody tr th:only-of-type {\n        vertical-align: middle;\n    }\n\n    .dataframe tbody tr th {\n        vertical-align: top;\n    }\n\n    .dataframe thead th {\n        text-align: right;\n    }\n</style>\n<table border=\"1\" class=\"dataframe\">\n  <thead>\n    <tr style=\"text-align: right;\">\n      <th></th>\n      <th>Item Name</th>\n      <th>Category Name</th>\n      <th>Quantity Sold (kilo)</th>\n      <th>Unit Selling Price (RMB/kg)</th>\n      <th>Sale or Return</th>\n      <th>Discount (Yes/No)</th>\n    </tr>\n  </thead>\n  <tbody>\n    <tr>\n      <th>298594</th>\n      <td>Red Pepper</td>\n      <td>Capsicum</td>\n      <td>0.088</td>\n      <td>8.0</td>\n      <td>sale</td>\n      <td>No</td>\n    </tr>\n    <tr>\n      <th>45976</th>\n      <td>Hongshujian</td>\n      <td>Flower/Leaf Vegetables</td>\n      <td>0.240</td>\n      <td>4.6</td>\n      <td>sale</td>\n      <td>No</td>\n    </tr>\n    <tr>\n      <th>556124</th>\n      <td>Wuhu Green Pepper</td>\n      <td>Capsicum</td>\n      <td>0.571</td>\n      <td>6.0</td>\n      <td>sale</td>\n      <td>No</td>\n    </tr>\n    <tr>\n      <th>594305</th>\n      <td>Zhijiang Qinggengsanhua</td>\n      <td>Cabbage</td>\n      <td>0.284</td>\n      <td>9.2</td>\n      <td>sale</td>\n      <td>No</td>\n    </tr>\n    <tr>\n      <th>312929</th>\n      <td>Yunnan Shengcai</td>\n      <td>Flower/Leaf Vegetables</td>\n      <td>0.338</td>\n      <td>8.0</td>\n      <td>sale</td>\n      <td>No</td>\n    </tr>\n  </tbody>\n</table>\n</div>"
     },
     "execution_count": 67,
     "metadata": {},
     "output_type": "execute_result"
    }
   ],
   "source": [
    "# Get the column names to lists\n",
    "\n",
    "first_columns = dff.columns[:-2].tolist()\n",
    "last_two_columns = dff.columns[-2:].tolist()\n",
    "\n",
    "# Rearrange the columns\n",
    "\n",
    "order = last_two_columns + first_columns\n",
    "dff = dff[order]\n",
    "\n",
    "# check all the operations successful\n",
    "dff.sample(5)"
   ],
   "metadata": {
    "collapsed": false,
    "ExecuteTime": {
     "end_time": "2023-12-05T12:53:02.514372Z",
     "start_time": "2023-12-05T12:53:02.471344Z"
    }
   },
   "id": "3befb7395baaec6"
  },
  {
   "cell_type": "code",
   "execution_count": 68,
   "outputs": [
    {
     "data": {
      "text/plain": "Item Name                      0\nCategory Name                  0\nQuantity Sold (kilo)           0\nUnit Selling Price (RMB/kg)    0\nSale or Return                 0\nDiscount (Yes/No)              0\ndtype: int64"
     },
     "execution_count": 68,
     "metadata": {},
     "output_type": "execute_result"
    }
   ],
   "source": [
    "dff.isnull().sum()"
   ],
   "metadata": {
    "collapsed": false,
    "ExecuteTime": {
     "end_time": "2023-12-05T12:53:02.568829Z",
     "start_time": "2023-12-05T12:53:02.505201Z"
    }
   },
   "id": "e6ef21dccbb07362"
  },
  {
   "cell_type": "code",
   "execution_count": 69,
   "outputs": [],
   "source": [
    "dff.to_csv(\"/Users/rumethsandinu/Study/Assessments/Year 2/DSGP/Datasets/built_dataset.csv\", index=False)"
   ],
   "metadata": {
    "collapsed": false,
    "ExecuteTime": {
     "end_time": "2023-12-05T12:53:03.820145Z",
     "start_time": "2023-12-05T12:53:02.563098Z"
    }
   },
   "id": "d1aeb15737715773"
  }
 ],
 "metadata": {
  "kernelspec": {
   "display_name": "Python 3",
   "language": "python",
   "name": "python3"
  },
  "language_info": {
   "codemirror_mode": {
    "name": "ipython",
    "version": 2
   },
   "file_extension": ".py",
   "mimetype": "text/x-python",
   "name": "python",
   "nbconvert_exporter": "python",
   "pygments_lexer": "ipython2",
   "version": "2.7.6"
  }
 },
 "nbformat": 4,
 "nbformat_minor": 5
}
