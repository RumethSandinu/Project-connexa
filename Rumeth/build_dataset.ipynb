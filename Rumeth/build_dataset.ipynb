{
 "cells": [
  {
   "cell_type": "code",
   "execution_count": 1,
   "id": "initial_id",
   "metadata": {
    "collapsed": true,
    "ExecuteTime": {
     "end_time": "2023-12-02T07:54:27.026220Z",
     "start_time": "2023-12-02T07:54:26.245284Z"
    }
   },
   "outputs": [],
   "source": [
    "# import libraries\n",
    "\n",
    "import pandas as pd\n",
    "import matplotlib.pyplot as plt"
   ]
  },
  {
   "cell_type": "code",
   "execution_count": 2,
   "outputs": [
    {
     "data": {
      "text/plain": "         Item Code              Item Name  Category Code  \\\n0  102900005115168       Niushou Shengcai     1011010101   \n1  102900005115199      Sichuan Red Cedar     1011010101   \n2  102900005115625  Local Xiaomao Cabbage     1011010101   \n3  102900005115748           White Caitai     1011010101   \n4  102900005115762               Amaranth     1011010101   \n\n            Category Name  \n0  Flower/Leaf Vegetables  \n1  Flower/Leaf Vegetables  \n2  Flower/Leaf Vegetables  \n3  Flower/Leaf Vegetables  \n4  Flower/Leaf Vegetables  ",
      "text/html": "<div>\n<style scoped>\n    .dataframe tbody tr th:only-of-type {\n        vertical-align: middle;\n    }\n\n    .dataframe tbody tr th {\n        vertical-align: top;\n    }\n\n    .dataframe thead th {\n        text-align: right;\n    }\n</style>\n<table border=\"1\" class=\"dataframe\">\n  <thead>\n    <tr style=\"text-align: right;\">\n      <th></th>\n      <th>Item Code</th>\n      <th>Item Name</th>\n      <th>Category Code</th>\n      <th>Category Name</th>\n    </tr>\n  </thead>\n  <tbody>\n    <tr>\n      <th>0</th>\n      <td>102900005115168</td>\n      <td>Niushou Shengcai</td>\n      <td>1011010101</td>\n      <td>Flower/Leaf Vegetables</td>\n    </tr>\n    <tr>\n      <th>1</th>\n      <td>102900005115199</td>\n      <td>Sichuan Red Cedar</td>\n      <td>1011010101</td>\n      <td>Flower/Leaf Vegetables</td>\n    </tr>\n    <tr>\n      <th>2</th>\n      <td>102900005115625</td>\n      <td>Local Xiaomao Cabbage</td>\n      <td>1011010101</td>\n      <td>Flower/Leaf Vegetables</td>\n    </tr>\n    <tr>\n      <th>3</th>\n      <td>102900005115748</td>\n      <td>White Caitai</td>\n      <td>1011010101</td>\n      <td>Flower/Leaf Vegetables</td>\n    </tr>\n    <tr>\n      <th>4</th>\n      <td>102900005115762</td>\n      <td>Amaranth</td>\n      <td>1011010101</td>\n      <td>Flower/Leaf Vegetables</td>\n    </tr>\n  </tbody>\n</table>\n</div>"
     },
     "execution_count": 2,
     "metadata": {},
     "output_type": "execute_result"
    }
   ],
   "source": [
    "# load item.csv\n",
    "\n",
    "df1 = pd.read_csv('/Users/rumethsandinu/Study/Assessments/Year 2/DSGP/Datasets/annex/item.csv')\n",
    "df1.head()"
   ],
   "metadata": {
    "collapsed": false,
    "ExecuteTime": {
     "end_time": "2023-12-02T07:54:27.041945Z",
     "start_time": "2023-12-02T07:54:27.027148Z"
    }
   },
   "id": "8e4f9211ddae87b6"
  },
  {
   "cell_type": "code",
   "execution_count": 3,
   "outputs": [
    {
     "data": {
      "text/plain": "(251, 4)"
     },
     "execution_count": 3,
     "metadata": {},
     "output_type": "execute_result"
    }
   ],
   "source": [
    "df1.shape"
   ],
   "metadata": {
    "collapsed": false,
    "ExecuteTime": {
     "end_time": "2023-12-02T07:54:27.046654Z",
     "start_time": "2023-12-02T07:54:27.039816Z"
    }
   },
   "id": "9888f829560a6955"
  },
  {
   "cell_type": "code",
   "execution_count": 4,
   "outputs": [
    {
     "name": "stdout",
     "output_type": "stream",
     "text": [
      "<class 'pandas.core.frame.DataFrame'>\n",
      "RangeIndex: 251 entries, 0 to 250\n",
      "Data columns (total 4 columns):\n",
      " #   Column         Non-Null Count  Dtype \n",
      "---  ------         --------------  ----- \n",
      " 0   Item Code      251 non-null    int64 \n",
      " 1   Item Name      251 non-null    object\n",
      " 2   Category Code  251 non-null    int64 \n",
      " 3   Category Name  251 non-null    object\n",
      "dtypes: int64(2), object(2)\n",
      "memory usage: 8.0+ KB\n"
     ]
    }
   ],
   "source": [
    "df1.info()"
   ],
   "metadata": {
    "collapsed": false,
    "ExecuteTime": {
     "end_time": "2023-12-02T07:54:27.093705Z",
     "start_time": "2023-12-02T07:54:27.045146Z"
    }
   },
   "id": "78ed671b18013277"
  },
  {
   "cell_type": "code",
   "execution_count": 5,
   "outputs": [],
   "source": [
    "# change the Item Code data type to string\n",
    "\n",
    "df1['Item Code'] = df1['Item Code'].astype(str)"
   ],
   "metadata": {
    "collapsed": false,
    "ExecuteTime": {
     "end_time": "2023-12-02T07:54:27.124275Z",
     "start_time": "2023-12-02T07:54:27.060472Z"
    }
   },
   "id": "49a7d1f979950611"
  },
  {
   "cell_type": "code",
   "execution_count": 6,
   "outputs": [
    {
     "data": {
      "text/plain": "Item Code        0\nItem Name        0\nCategory Code    0\nCategory Name    0\ndtype: int64"
     },
     "execution_count": 6,
     "metadata": {},
     "output_type": "execute_result"
    }
   ],
   "source": [
    "# check if there is any null values in the table\n",
    "\n",
    "df1.isnull().sum()"
   ],
   "metadata": {
    "collapsed": false,
    "ExecuteTime": {
     "end_time": "2023-12-02T07:54:27.153418Z",
     "start_time": "2023-12-02T07:54:27.065087Z"
    }
   },
   "id": "e581c3f5ca07d7e5"
  },
  {
   "cell_type": "code",
   "execution_count": 7,
   "outputs": [
    {
     "data": {
      "text/plain": "Category Name\nFlower/Leaf Vegetables         100\nEdible Mushroom                 72\nCapsicum                        45\nAquatic Tuberous Vegetables     19\nSolanum                         10\nCabbage                          5\nName: count, dtype: int64"
     },
     "execution_count": 7,
     "metadata": {},
     "output_type": "execute_result"
    }
   ],
   "source": [
    "# check the frequency of each catgory name\n",
    "\n",
    "df1['Category Name'].value_counts()"
   ],
   "metadata": {
    "collapsed": false,
    "ExecuteTime": {
     "end_time": "2023-12-02T07:54:27.153845Z",
     "start_time": "2023-12-02T07:54:27.075086Z"
    }
   },
   "id": "b1ca6678c24298fd"
  },
  {
   "cell_type": "code",
   "execution_count": 8,
   "outputs": [
    {
     "data": {
      "text/plain": "Category Name\nFlower                         100\nEdible Mushroom                 72\nCapsicum                        45\nAquatic Tuberous Vegetables     19\nSolanum                         10\nCabbage                          5\nName: count, dtype: int64"
     },
     "execution_count": 8,
     "metadata": {},
     "output_type": "execute_result"
    }
   ],
   "source": [
    "def rename_category(data):\n",
    "    if data == 'Flower/Leaf Vegetables':\n",
    "        return 'Flower'\n",
    "    return data\n",
    "\n",
    "# rename all Flower/Leaf Vegetables values to  Flower using rename_category function\n",
    "\n",
    "df1['Category Name'] = df1['Category Name'].apply(rename_category)\n",
    "df1['Category Name'].value_counts()"
   ],
   "metadata": {
    "collapsed": false,
    "ExecuteTime": {
     "end_time": "2023-12-02T07:54:27.155374Z",
     "start_time": "2023-12-02T07:54:27.086963Z"
    }
   },
   "id": "e8123fbaed77245a"
  },
  {
   "cell_type": "code",
   "execution_count": 9,
   "outputs": [
    {
     "data": {
      "text/plain": "         Date          Time        Item Code  Quantity Sold (kilo)  \\\n0  2020-07-01  09:15:07.924  102900005117056                 0.396   \n1  2020-07-01  09:17:27.295  102900005115960                 0.849   \n2  2020-07-01  09:17:33.905  102900005117056                 0.409   \n3  2020-07-01  09:19:45.450  102900005115823                 0.421   \n4  2020-07-01  09:20:23.686  102900005115908                 0.539   \n\n   Unit Selling Price (RMB/kg) Sale or Return Discount (Yes/No)  \n0                          7.6           sale                No  \n1                          3.2           sale                No  \n2                          7.6           sale                No  \n3                         10.0           sale                No  \n4                          8.0           sale                No  ",
      "text/html": "<div>\n<style scoped>\n    .dataframe tbody tr th:only-of-type {\n        vertical-align: middle;\n    }\n\n    .dataframe tbody tr th {\n        vertical-align: top;\n    }\n\n    .dataframe thead th {\n        text-align: right;\n    }\n</style>\n<table border=\"1\" class=\"dataframe\">\n  <thead>\n    <tr style=\"text-align: right;\">\n      <th></th>\n      <th>Date</th>\n      <th>Time</th>\n      <th>Item Code</th>\n      <th>Quantity Sold (kilo)</th>\n      <th>Unit Selling Price (RMB/kg)</th>\n      <th>Sale or Return</th>\n      <th>Discount (Yes/No)</th>\n    </tr>\n  </thead>\n  <tbody>\n    <tr>\n      <th>0</th>\n      <td>2020-07-01</td>\n      <td>09:15:07.924</td>\n      <td>102900005117056</td>\n      <td>0.396</td>\n      <td>7.6</td>\n      <td>sale</td>\n      <td>No</td>\n    </tr>\n    <tr>\n      <th>1</th>\n      <td>2020-07-01</td>\n      <td>09:17:27.295</td>\n      <td>102900005115960</td>\n      <td>0.849</td>\n      <td>3.2</td>\n      <td>sale</td>\n      <td>No</td>\n    </tr>\n    <tr>\n      <th>2</th>\n      <td>2020-07-01</td>\n      <td>09:17:33.905</td>\n      <td>102900005117056</td>\n      <td>0.409</td>\n      <td>7.6</td>\n      <td>sale</td>\n      <td>No</td>\n    </tr>\n    <tr>\n      <th>3</th>\n      <td>2020-07-01</td>\n      <td>09:19:45.450</td>\n      <td>102900005115823</td>\n      <td>0.421</td>\n      <td>10.0</td>\n      <td>sale</td>\n      <td>No</td>\n    </tr>\n    <tr>\n      <th>4</th>\n      <td>2020-07-01</td>\n      <td>09:20:23.686</td>\n      <td>102900005115908</td>\n      <td>0.539</td>\n      <td>8.0</td>\n      <td>sale</td>\n      <td>No</td>\n    </tr>\n  </tbody>\n</table>\n</div>"
     },
     "execution_count": 9,
     "metadata": {},
     "output_type": "execute_result"
    }
   ],
   "source": [
    "# load the sale.csv dataset\n",
    "\n",
    "df3 = pd.read_csv('/Users/rumethsandinu/Study/Assessments/Year 2/DSGP/Datasets/annex/sale.csv')\n",
    "df3.head()"
   ],
   "metadata": {
    "collapsed": false,
    "ExecuteTime": {
     "end_time": "2023-12-02T07:54:28.252323Z",
     "start_time": "2023-12-02T07:54:27.099297Z"
    }
   },
   "id": "e91032627b07ee8c"
  },
  {
   "cell_type": "code",
   "execution_count": 10,
   "outputs": [],
   "source": [
    "df3 = df3.drop(columns=['Date', 'Time'], axis=1)"
   ],
   "metadata": {
    "collapsed": false,
    "ExecuteTime": {
     "end_time": "2023-12-02T07:54:28.253350Z",
     "start_time": "2023-12-02T07:54:27.992309Z"
    }
   },
   "id": "fff148316fd62059"
  },
  {
   "cell_type": "code",
   "execution_count": 11,
   "outputs": [
    {
     "data": {
      "text/plain": "{'whiskers': [<matplotlib.lines.Line2D at 0x137c9dca0>,\n  <matplotlib.lines.Line2D at 0x137c9df40>],\n 'caps': [<matplotlib.lines.Line2D at 0x137cbe220>,\n  <matplotlib.lines.Line2D at 0x137cbe4c0>],\n 'boxes': [<matplotlib.lines.Line2D at 0x137c9da00>],\n 'medians': [<matplotlib.lines.Line2D at 0x137cbe760>],\n 'fliers': [<matplotlib.lines.Line2D at 0x137cbea00>],\n 'means': []}"
     },
     "execution_count": 11,
     "metadata": {},
     "output_type": "execute_result"
    },
    {
     "data": {
      "text/plain": "<Figure size 640x480 with 1 Axes>",
      "image/png": "[encoded data removed]"
     },
     "metadata": {},
     "output_type": "display_data"
    }
   ],
   "source": [
    "plt.boxplot(df3['Quantity Sold (kilo)'])"
   ],
   "metadata": {
    "collapsed": false,
    "ExecuteTime": {
     "end_time": "2023-12-02T07:54:28.636880Z",
     "start_time": "2023-12-02T07:54:28.177537Z"
    }
   },
   "id": "5cc71815911a8039"
  },
  {
   "cell_type": "code",
   "execution_count": 12,
   "outputs": [
    {
     "data": {
      "text/plain": "              Item Code  Quantity Sold (kilo)  Unit Selling Price (RMB/kg)  \\\n579907  102900011034354                 160.0                          5.9   \n\n       Sale or Return Discount (Yes/No)  \n579907           sale                No  ",
      "text/html": "<div>\n<style scoped>\n    .dataframe tbody tr th:only-of-type {\n        vertical-align: middle;\n    }\n\n    .dataframe tbody tr th {\n        vertical-align: top;\n    }\n\n    .dataframe thead th {\n        text-align: right;\n    }\n</style>\n<table border=\"1\" class=\"dataframe\">\n  <thead>\n    <tr style=\"text-align: right;\">\n      <th></th>\n      <th>Item Code</th>\n      <th>Quantity Sold (kilo)</th>\n      <th>Unit Selling Price (RMB/kg)</th>\n      <th>Sale or Return</th>\n      <th>Discount (Yes/No)</th>\n    </tr>\n  </thead>\n  <tbody>\n    <tr>\n      <th>579907</th>\n      <td>102900011034354</td>\n      <td>160.0</td>\n      <td>5.9</td>\n      <td>sale</td>\n      <td>No</td>\n    </tr>\n  </tbody>\n</table>\n</div>"
     },
     "execution_count": 12,
     "metadata": {},
     "output_type": "execute_result"
    }
   ],
   "source": [
    "df3[df3['Quantity Sold (kilo)'] > 150]"
   ],
   "metadata": {
    "collapsed": false,
    "ExecuteTime": {
     "end_time": "2023-12-02T07:54:28.637388Z",
     "start_time": "2023-12-02T07:54:28.520087Z"
    }
   },
   "id": "3deffd8a9bc1f993"
  },
  {
   "cell_type": "code",
   "execution_count": 13,
   "outputs": [],
   "source": [
    "df3['Quantity Sold (kilo)'] = df3['Quantity Sold (kilo)'].replace(160, 0)"
   ],
   "metadata": {
    "collapsed": false,
    "ExecuteTime": {
     "end_time": "2023-12-02T07:54:28.703318Z",
     "start_time": "2023-12-02T07:54:28.636999Z"
    }
   },
   "id": "5fab4c22840b2dfe"
  },
  {
   "cell_type": "code",
   "execution_count": 14,
   "outputs": [
    {
     "data": {
      "text/plain": "1"
     },
     "execution_count": 14,
     "metadata": {},
     "output_type": "execute_result"
    }
   ],
   "source": [
    "(df3['Quantity Sold (kilo)'] == 0).sum()"
   ],
   "metadata": {
    "collapsed": false,
    "ExecuteTime": {
     "end_time": "2023-12-02T07:54:28.704014Z",
     "start_time": "2023-12-02T07:54:28.674687Z"
    }
   },
   "id": "58295bcc888644bd"
  },
  {
   "cell_type": "code",
   "execution_count": 15,
   "outputs": [
    {
     "data": {
      "text/plain": "30.0"
     },
     "execution_count": 15,
     "metadata": {},
     "output_type": "execute_result"
    }
   ],
   "source": [
    "max(df3['Quantity Sold (kilo)'])"
   ],
   "metadata": {
    "collapsed": false,
    "ExecuteTime": {
     "end_time": "2023-12-02T07:54:28.849858Z",
     "start_time": "2023-12-02T07:54:28.800903Z"
    }
   },
   "id": "561dafbe888d531f"
  },
  {
   "cell_type": "code",
   "execution_count": 16,
   "outputs": [],
   "source": [
    "df3['Quantity Sold (kilo)'] = df3['Quantity Sold (kilo)'].replace(160, max(df3['Quantity Sold (kilo)']))"
   ],
   "metadata": {
    "collapsed": false,
    "ExecuteTime": {
     "end_time": "2023-12-02T07:54:28.967662Z",
     "start_time": "2023-12-02T07:54:28.938540Z"
    }
   },
   "id": "f3dfb6f75d935406"
  },
  {
   "cell_type": "code",
   "execution_count": 17,
   "outputs": [
    {
     "data": {
      "text/plain": "True"
     },
     "execution_count": 17,
     "metadata": {},
     "output_type": "execute_result"
    }
   ],
   "source": [
    "# check all the Quantity Sold (kilo) values are positive integers\n",
    "\n",
    "((df3['Quantity Sold (kilo)'] < 0).sum()) == ((df3['Sale or Return'] == 'return').sum())"
   ],
   "metadata": {
    "collapsed": false,
    "ExecuteTime": {
     "end_time": "2023-12-02T07:54:29.032957Z",
     "start_time": "2023-12-02T07:54:28.969432Z"
    }
   },
   "id": "2f87f005b51492fc"
  },
  {
   "cell_type": "code",
   "execution_count": 18,
   "outputs": [
    {
     "name": "stdout",
     "output_type": "stream",
     "text": [
      "<class 'pandas.core.frame.DataFrame'>\n",
      "RangeIndex: 878503 entries, 0 to 878502\n",
      "Data columns (total 5 columns):\n",
      " #   Column                       Non-Null Count   Dtype  \n",
      "---  ------                       --------------   -----  \n",
      " 0   Item Code                    878503 non-null  int64  \n",
      " 1   Quantity Sold (kilo)         878503 non-null  float64\n",
      " 2   Unit Selling Price (RMB/kg)  878503 non-null  float64\n",
      " 3   Sale or Return               878503 non-null  object \n",
      " 4   Discount (Yes/No)            878503 non-null  object \n",
      "dtypes: float64(2), int64(1), object(2)\n",
      "memory usage: 33.5+ MB\n"
     ]
    }
   ],
   "source": [
    "df3.info()"
   ],
   "metadata": {
    "collapsed": false,
    "ExecuteTime": {
     "end_time": "2023-12-02T07:54:29.116100Z",
     "start_time": "2023-12-02T07:54:29.033816Z"
    }
   },
   "id": "cbba1e17241ebd7e"
  },
  {
   "cell_type": "code",
   "execution_count": 19,
   "outputs": [
    {
     "data": {
      "text/plain": "(878503, 5)"
     },
     "execution_count": 19,
     "metadata": {},
     "output_type": "execute_result"
    }
   ],
   "source": [
    "df3.shape"
   ],
   "metadata": {
    "collapsed": false,
    "ExecuteTime": {
     "end_time": "2023-12-02T07:54:29.136163Z",
     "start_time": "2023-12-02T07:54:29.117073Z"
    }
   },
   "id": "2d97a3546430efc5"
  },
  {
   "cell_type": "code",
   "execution_count": 20,
   "outputs": [
    {
     "data": {
      "text/plain": "Item Code                      0\nQuantity Sold (kilo)           0\nUnit Selling Price (RMB/kg)    0\nSale or Return                 0\nDiscount (Yes/No)              0\ndtype: int64"
     },
     "execution_count": 20,
     "metadata": {},
     "output_type": "execute_result"
    }
   ],
   "source": [
    "# check if there are any null values in the table\n",
    "\n",
    "df3.isnull().sum()"
   ],
   "metadata": {
    "collapsed": false,
    "ExecuteTime": {
     "end_time": "2023-12-02T07:54:29.494057Z",
     "start_time": "2023-12-02T07:54:29.124795Z"
    }
   },
   "id": "348e4de0e0520bf8"
  },
  {
   "cell_type": "code",
   "execution_count": 21,
   "outputs": [
    {
     "data": {
      "text/plain": "{'whiskers': [<matplotlib.lines.Line2D at 0x137d95490>,\n  <matplotlib.lines.Line2D at 0x137d95730>],\n 'caps': [<matplotlib.lines.Line2D at 0x137d959d0>,\n  <matplotlib.lines.Line2D at 0x137d95c70>],\n 'boxes': [<matplotlib.lines.Line2D at 0x137d95310>],\n 'medians': [<matplotlib.lines.Line2D at 0x137d95f10>],\n 'fliers': [<matplotlib.lines.Line2D at 0x137da51f0>],\n 'means': []}"
     },
     "execution_count": 21,
     "metadata": {},
     "output_type": "execute_result"
    },
    {
     "data": {
      "text/plain": "<Figure size 640x480 with 1 Axes>",
      "image/png": "[encoded data removed]"
     },
     "metadata": {},
     "output_type": "display_data"
    }
   ],
   "source": [
    "plt.boxplot(df3['Item Code'].value_counts())"
   ],
   "metadata": {
    "collapsed": false,
    "ExecuteTime": {
     "end_time": "2023-12-02T07:54:29.593723Z",
     "start_time": "2023-12-02T07:54:29.405186Z"
    }
   },
   "id": "fd9626e0d5683959"
  },
  {
   "cell_type": "code",
   "execution_count": 22,
   "outputs": [
    {
     "data": {
      "text/plain": "present\nTrue    246\nName: count, dtype: int64"
     },
     "execution_count": 22,
     "metadata": {},
     "output_type": "execute_result"
    }
   ],
   "source": [
    "data = {'present': [False] * df3['Item Code'].unique().shape[0]}\n",
    "present = pd.DataFrame(data)\n",
    "\n",
    "# check if all the df3 Item Code data available in df1\n",
    "\n",
    "for i in range(df3['Item Code'].unique().shape[0]):\n",
    "    for j in range(df1['Item Code'].shape[0]):\n",
    "        if df3['Item Code'].values[i] == int(df1['Item Code'].values[j]):\n",
    "            present.at[i, 'present'] = True\n",
    "            break\n",
    "                 \n",
    "present['present'].value_counts()"
   ],
   "metadata": {
    "collapsed": false,
    "ExecuteTime": {
     "end_time": "2023-12-02T07:54:29.819258Z",
     "start_time": "2023-12-02T07:54:29.593123Z"
    }
   },
   "id": "2d1ecfede796df63"
  },
  {
   "cell_type": "code",
   "execution_count": 23,
   "outputs": [
    {
     "data": {
      "text/plain": "{'whiskers': [<matplotlib.lines.Line2D at 0x137e09d30>,\n  <matplotlib.lines.Line2D at 0x137e09fd0>],\n 'caps': [<matplotlib.lines.Line2D at 0x137e182b0>,\n  <matplotlib.lines.Line2D at 0x137e18550>],\n 'boxes': [<matplotlib.lines.Line2D at 0x137e09a90>],\n 'medians': [<matplotlib.lines.Line2D at 0x137e187f0>],\n 'fliers': [<matplotlib.lines.Line2D at 0x137e18a90>],\n 'means': []}"
     },
     "execution_count": 23,
     "metadata": {},
     "output_type": "execute_result"
    },
    {
     "data": {
      "text/plain": "<Figure size 640x480 with 1 Axes>",
      "image/png": "[encoded data removed]"
     },
     "metadata": {},
     "output_type": "display_data"
    }
   ],
   "source": [
    "plt.boxplot(df3['Unit Selling Price (RMB/kg)'])"
   ],
   "metadata": {
    "collapsed": false,
    "ExecuteTime": {
     "end_time": "2023-12-02T07:54:30.098098Z",
     "start_time": "2023-12-02T07:54:29.823225Z"
    }
   },
   "id": "e0c761b8000d54b7"
  },
  {
   "cell_type": "code",
   "execution_count": 24,
   "outputs": [
    {
     "data": {
      "text/plain": "         Item Code  Quantity Sold (kilo)  Unit Selling Price (RMB/kg)  \\\n0  102900005117056                 0.396                          7.6   \n1  102900005115960                 0.849                          3.2   \n2  102900005117056                 0.409                          7.6   \n3  102900005115823                 0.421                         10.0   \n4  102900005115908                 0.539                          8.0   \n\n  Sale or Return Discount (Yes/No)  \n0           sale                No  \n1           sale                No  \n2           sale                No  \n3           sale                No  \n4           sale                No  ",
      "text/html": "<div>\n<style scoped>\n    .dataframe tbody tr th:only-of-type {\n        vertical-align: middle;\n    }\n\n    .dataframe tbody tr th {\n        vertical-align: top;\n    }\n\n    .dataframe thead th {\n        text-align: right;\n    }\n</style>\n<table border=\"1\" class=\"dataframe\">\n  <thead>\n    <tr style=\"text-align: right;\">\n      <th></th>\n      <th>Item Code</th>\n      <th>Quantity Sold (kilo)</th>\n      <th>Unit Selling Price (RMB/kg)</th>\n      <th>Sale or Return</th>\n      <th>Discount (Yes/No)</th>\n    </tr>\n  </thead>\n  <tbody>\n    <tr>\n      <th>0</th>\n      <td>102900005117056</td>\n      <td>0.396</td>\n      <td>7.6</td>\n      <td>sale</td>\n      <td>No</td>\n    </tr>\n    <tr>\n      <th>1</th>\n      <td>102900005115960</td>\n      <td>0.849</td>\n      <td>3.2</td>\n      <td>sale</td>\n      <td>No</td>\n    </tr>\n    <tr>\n      <th>2</th>\n      <td>102900005117056</td>\n      <td>0.409</td>\n      <td>7.6</td>\n      <td>sale</td>\n      <td>No</td>\n    </tr>\n    <tr>\n      <th>3</th>\n      <td>102900005115823</td>\n      <td>0.421</td>\n      <td>10.0</td>\n      <td>sale</td>\n      <td>No</td>\n    </tr>\n    <tr>\n      <th>4</th>\n      <td>102900005115908</td>\n      <td>0.539</td>\n      <td>8.0</td>\n      <td>sale</td>\n      <td>No</td>\n    </tr>\n  </tbody>\n</table>\n</div>"
     },
     "execution_count": 24,
     "metadata": {},
     "output_type": "execute_result"
    }
   ],
   "source": [
    "df3.head()"
   ],
   "metadata": {
    "collapsed": false,
    "ExecuteTime": {
     "end_time": "2023-12-02T07:54:30.111315Z",
     "start_time": "2023-12-02T07:54:30.099013Z"
    }
   },
   "id": "1d51bd339a4b89c2"
  },
  {
   "cell_type": "code",
   "execution_count": 25,
   "outputs": [
    {
     "data": {
      "text/plain": "              Item Code Quantity Sold (kilo) Unit Selling Price (RMB/kg)  \\\n519470  106957634300010                  1.0                         2.9   \n865490  102900005116714                0.495                        15.2   \n521740  102900005116530                0.173                        18.0   \n189905  102900005116530                0.207                        16.0   \n481848  102900011022764                0.423                        14.0   \n\n       Sale or Return Discount (Yes/No)  \n519470           sale                No  \n865490           sale                No  \n521740           sale                No  \n189905           sale                No  \n481848           sale                No  ",
      "text/html": "<div>\n<style scoped>\n    .dataframe tbody tr th:only-of-type {\n        vertical-align: middle;\n    }\n\n    .dataframe tbody tr th {\n        vertical-align: top;\n    }\n\n    .dataframe thead th {\n        text-align: right;\n    }\n</style>\n<table border=\"1\" class=\"dataframe\">\n  <thead>\n    <tr style=\"text-align: right;\">\n      <th></th>\n      <th>Item Code</th>\n      <th>Quantity Sold (kilo)</th>\n      <th>Unit Selling Price (RMB/kg)</th>\n      <th>Sale or Return</th>\n      <th>Discount (Yes/No)</th>\n    </tr>\n  </thead>\n  <tbody>\n    <tr>\n      <th>519470</th>\n      <td>106957634300010</td>\n      <td>1.0</td>\n      <td>2.9</td>\n      <td>sale</td>\n      <td>No</td>\n    </tr>\n    <tr>\n      <th>865490</th>\n      <td>102900005116714</td>\n      <td>0.495</td>\n      <td>15.2</td>\n      <td>sale</td>\n      <td>No</td>\n    </tr>\n    <tr>\n      <th>521740</th>\n      <td>102900005116530</td>\n      <td>0.173</td>\n      <td>18.0</td>\n      <td>sale</td>\n      <td>No</td>\n    </tr>\n    <tr>\n      <th>189905</th>\n      <td>102900005116530</td>\n      <td>0.207</td>\n      <td>16.0</td>\n      <td>sale</td>\n      <td>No</td>\n    </tr>\n    <tr>\n      <th>481848</th>\n      <td>102900011022764</td>\n      <td>0.423</td>\n      <td>14.0</td>\n      <td>sale</td>\n      <td>No</td>\n    </tr>\n  </tbody>\n</table>\n</div>"
     },
     "execution_count": 25,
     "metadata": {},
     "output_type": "execute_result"
    }
   ],
   "source": [
    "# getting a copy of df3 and asigning it to dff\n",
    "\n",
    "dff = df3.copy()\n",
    "\n",
    "# chaning value tipes to string in Item Code, Quantity Sold (kilo) and Unit Selling Price (RMB/kg)\n",
    "\n",
    "dff['Item Code'] = dff['Item Code'].astype(str)\n",
    "dff['Quantity Sold (kilo)'] = dff['Quantity Sold (kilo)'].astype(str)\n",
    "dff['Unit Selling Price (RMB/kg)'] = dff['Unit Selling Price (RMB/kg)'].astype(str)\n",
    "dff.sample(5)"
   ],
   "metadata": {
    "collapsed": false,
    "ExecuteTime": {
     "end_time": "2023-12-02T07:54:31.472364Z",
     "start_time": "2023-12-02T07:54:30.110631Z"
    }
   },
   "id": "70e418d00022cc43"
  },
  {
   "cell_type": "code",
   "execution_count": 26,
   "outputs": [
    {
     "name": "stdout",
     "output_type": "stream",
     "text": [
      "<class 'pandas.core.frame.DataFrame'>\n",
      "RangeIndex: 878503 entries, 0 to 878502\n",
      "Data columns (total 5 columns):\n",
      " #   Column                       Non-Null Count   Dtype \n",
      "---  ------                       --------------   ----- \n",
      " 0   Item Code                    878503 non-null  object\n",
      " 1   Quantity Sold (kilo)         878503 non-null  object\n",
      " 2   Unit Selling Price (RMB/kg)  878503 non-null  object\n",
      " 3   Sale or Return               878503 non-null  object\n",
      " 4   Discount (Yes/No)            878503 non-null  object\n",
      "dtypes: object(5)\n",
      "memory usage: 33.5+ MB\n"
     ]
    }
   ],
   "source": [
    "dff.info()"
   ],
   "metadata": {
    "collapsed": false,
    "ExecuteTime": {
     "end_time": "2023-12-02T07:54:31.680472Z",
     "start_time": "2023-12-02T07:54:31.463421Z"
    }
   },
   "id": "a104c4c2758988a6"
  },
  {
   "cell_type": "code",
   "execution_count": 27,
   "outputs": [
    {
     "name": "stdout",
     "output_type": "stream",
     "text": [
      "<class 'pandas.core.frame.DataFrame'>\n",
      "RangeIndex: 251 entries, 0 to 250\n",
      "Data columns (total 4 columns):\n",
      " #   Column         Non-Null Count  Dtype \n",
      "---  ------         --------------  ----- \n",
      " 0   Item Code      251 non-null    object\n",
      " 1   Item Name      251 non-null    object\n",
      " 2   Category Code  251 non-null    int64 \n",
      " 3   Category Name  251 non-null    object\n",
      "dtypes: int64(1), object(3)\n",
      "memory usage: 8.0+ KB\n"
     ]
    }
   ],
   "source": [
    "df1.info()"
   ],
   "metadata": {
    "collapsed": false,
    "ExecuteTime": {
     "end_time": "2023-12-02T07:54:32.535303Z",
     "start_time": "2023-12-02T07:54:31.684563Z"
    }
   },
   "id": "1d07b7b8216a551e"
  },
  {
   "cell_type": "code",
   "execution_count": 28,
   "outputs": [
    {
     "data": {
      "text/plain": "(878503, 5)"
     },
     "execution_count": 28,
     "metadata": {},
     "output_type": "execute_result"
    }
   ],
   "source": [
    "dff.shape"
   ],
   "metadata": {
    "collapsed": false,
    "ExecuteTime": {
     "end_time": "2023-12-02T07:54:32.538678Z",
     "start_time": "2023-12-02T07:54:31.689395Z"
    }
   },
   "id": "8f39a672410818fe"
  },
  {
   "cell_type": "code",
   "execution_count": 29,
   "outputs": [
    {
     "data": {
      "text/plain": "              Item Code Quantity Sold (kilo) Unit Selling Price (RMB/kg)  \\\n709431  102900005115878                0.328                         4.0   \n621058  102900011030059                  1.0                         3.9   \n41804   102900005115762                 0.33                         7.0   \n623287  102900005116714                0.374                         7.0   \n315478  102900005116714                0.389                         8.0   \n\n       Sale or Return Discount (Yes/No)             Item Name Category Name  \n709431           sale                No  Garden Chrysanthemum        Flower  \n621058           sale                No  Yunnan Lettuce (Bag)        Flower  \n41804            sale                No              Amaranth        Flower  \n623287           sale                No              Broccoli       Cabbage  \n315478           sale                No              Broccoli       Cabbage  ",
      "text/html": "<div>\n<style scoped>\n    .dataframe tbody tr th:only-of-type {\n        vertical-align: middle;\n    }\n\n    .dataframe tbody tr th {\n        vertical-align: top;\n    }\n\n    .dataframe thead th {\n        text-align: right;\n    }\n</style>\n<table border=\"1\" class=\"dataframe\">\n  <thead>\n    <tr style=\"text-align: right;\">\n      <th></th>\n      <th>Item Code</th>\n      <th>Quantity Sold (kilo)</th>\n      <th>Unit Selling Price (RMB/kg)</th>\n      <th>Sale or Return</th>\n      <th>Discount (Yes/No)</th>\n      <th>Item Name</th>\n      <th>Category Name</th>\n    </tr>\n  </thead>\n  <tbody>\n    <tr>\n      <th>709431</th>\n      <td>102900005115878</td>\n      <td>0.328</td>\n      <td>4.0</td>\n      <td>sale</td>\n      <td>No</td>\n      <td>Garden Chrysanthemum</td>\n      <td>Flower</td>\n    </tr>\n    <tr>\n      <th>621058</th>\n      <td>102900011030059</td>\n      <td>1.0</td>\n      <td>3.9</td>\n      <td>sale</td>\n      <td>No</td>\n      <td>Yunnan Lettuce (Bag)</td>\n      <td>Flower</td>\n    </tr>\n    <tr>\n      <th>41804</th>\n      <td>102900005115762</td>\n      <td>0.33</td>\n      <td>7.0</td>\n      <td>sale</td>\n      <td>No</td>\n      <td>Amaranth</td>\n      <td>Flower</td>\n    </tr>\n    <tr>\n      <th>623287</th>\n      <td>102900005116714</td>\n      <td>0.374</td>\n      <td>7.0</td>\n      <td>sale</td>\n      <td>No</td>\n      <td>Broccoli</td>\n      <td>Cabbage</td>\n    </tr>\n    <tr>\n      <th>315478</th>\n      <td>102900005116714</td>\n      <td>0.389</td>\n      <td>8.0</td>\n      <td>sale</td>\n      <td>No</td>\n      <td>Broccoli</td>\n      <td>Cabbage</td>\n    </tr>\n  </tbody>\n</table>\n</div>"
     },
     "execution_count": 29,
     "metadata": {},
     "output_type": "execute_result"
    }
   ],
   "source": [
    "# select the item code from df1 respective to dff item code and extracting its data\n",
    "\n",
    "for i in range(dff.shape[0]):\n",
    "    for j in range(df1.shape[0]):\n",
    "        if dff['Item Code'].values[i] == df1['Item Code'].values[j]:\n",
    "            dff.at[i, 'Item Name'] = df1['Item Name'].values[j]\n",
    "            dff.at[i, 'Category Name'] = df1['Category Name'].values[j]\n",
    "            break\n",
    "dff.sample(5)"
   ],
   "metadata": {
    "collapsed": false,
    "ExecuteTime": {
     "end_time": "2023-12-02T08:04:35.283328Z",
     "start_time": "2023-12-02T07:54:31.700169Z"
    }
   },
   "id": "f7fb01539b2247e3"
  },
  {
   "cell_type": "code",
   "execution_count": 30,
   "outputs": [
    {
     "data": {
      "text/plain": "Item Code                      0\nQuantity Sold (kilo)           0\nUnit Selling Price (RMB/kg)    0\nSale or Return                 0\nDiscount (Yes/No)              0\nItem Name                      0\nCategory Name                  0\ndtype: int64"
     },
     "execution_count": 30,
     "metadata": {},
     "output_type": "execute_result"
    }
   ],
   "source": [
    "dff.isnull().sum()"
   ],
   "metadata": {
    "collapsed": false,
    "ExecuteTime": {
     "end_time": "2023-12-02T08:04:36.498146Z",
     "start_time": "2023-12-02T08:04:36.296138Z"
    }
   },
   "id": "90d28e83f455d9ca"
  },
  {
   "cell_type": "code",
   "execution_count": 31,
   "outputs": [
    {
     "data": {
      "text/plain": "  Quantity Sold (kilo) Unit Selling Price (RMB/kg) Sale or Return  \\\n0                0.396                         7.6           sale   \n1                0.849                         3.2           sale   \n2                0.409                         7.6           sale   \n3                0.421                        10.0           sale   \n4                0.539                         8.0           sale   \n\n  Discount (Yes/No)             Item Name Category Name  \n0                No  Paopaojiao (Jingpin)      Capsicum  \n1                No       Chinese Cabbage        Flower  \n2                No  Paopaojiao (Jingpin)      Capsicum  \n3                No          Shanghaiqing        Flower  \n4                No                Caixin        Flower  ",
      "text/html": "<div>\n<style scoped>\n    .dataframe tbody tr th:only-of-type {\n        vertical-align: middle;\n    }\n\n    .dataframe tbody tr th {\n        vertical-align: top;\n    }\n\n    .dataframe thead th {\n        text-align: right;\n    }\n</style>\n<table border=\"1\" class=\"dataframe\">\n  <thead>\n    <tr style=\"text-align: right;\">\n      <th></th>\n      <th>Quantity Sold (kilo)</th>\n      <th>Unit Selling Price (RMB/kg)</th>\n      <th>Sale or Return</th>\n      <th>Discount (Yes/No)</th>\n      <th>Item Name</th>\n      <th>Category Name</th>\n    </tr>\n  </thead>\n  <tbody>\n    <tr>\n      <th>0</th>\n      <td>0.396</td>\n      <td>7.6</td>\n      <td>sale</td>\n      <td>No</td>\n      <td>Paopaojiao (Jingpin)</td>\n      <td>Capsicum</td>\n    </tr>\n    <tr>\n      <th>1</th>\n      <td>0.849</td>\n      <td>3.2</td>\n      <td>sale</td>\n      <td>No</td>\n      <td>Chinese Cabbage</td>\n      <td>Flower</td>\n    </tr>\n    <tr>\n      <th>2</th>\n      <td>0.409</td>\n      <td>7.6</td>\n      <td>sale</td>\n      <td>No</td>\n      <td>Paopaojiao (Jingpin)</td>\n      <td>Capsicum</td>\n    </tr>\n    <tr>\n      <th>3</th>\n      <td>0.421</td>\n      <td>10.0</td>\n      <td>sale</td>\n      <td>No</td>\n      <td>Shanghaiqing</td>\n      <td>Flower</td>\n    </tr>\n    <tr>\n      <th>4</th>\n      <td>0.539</td>\n      <td>8.0</td>\n      <td>sale</td>\n      <td>No</td>\n      <td>Caixin</td>\n      <td>Flower</td>\n    </tr>\n  </tbody>\n</table>\n</div>"
     },
     "execution_count": 31,
     "metadata": {},
     "output_type": "execute_result"
    }
   ],
   "source": [
    "dff = dff.drop(columns=['Item Code'], axis=1)\n",
    "dff.head()"
   ],
   "metadata": {
    "collapsed": false,
    "ExecuteTime": {
     "end_time": "2023-12-02T08:04:36.642135Z",
     "start_time": "2023-12-02T08:04:36.308755Z"
    }
   },
   "id": "673e33afbbb0faa0"
  },
  {
   "cell_type": "code",
   "execution_count": 32,
   "outputs": [
    {
     "data": {
      "text/plain": "                            Item Name    Category Name Quantity Sold (kilo)  \\\n614042  Hfyg Haixian Mushroom (Bunch)  Edible Mushroom                  1.0   \n572415                      Naibaicai           Flower                0.298   \n731355          Wuhu Green Pepper (1)         Capsicum                0.696   \n619001        Zhijiang Qinggengsanhua          Cabbage                0.382   \n59985                  Red Pepper (1)         Capsicum                 0.21   \n\n       Unit Selling Price (RMB/kg) Sale or Return Discount (Yes/No)  \n614042                         1.5           sale               Yes  \n572415                         3.4           sale                No  \n731355                         3.2           sale                No  \n619001                        10.0           sale                No  \n59985                         10.0           sale                No  ",
      "text/html": "<div>\n<style scoped>\n    .dataframe tbody tr th:only-of-type {\n        vertical-align: middle;\n    }\n\n    .dataframe tbody tr th {\n        vertical-align: top;\n    }\n\n    .dataframe thead th {\n        text-align: right;\n    }\n</style>\n<table border=\"1\" class=\"dataframe\">\n  <thead>\n    <tr style=\"text-align: right;\">\n      <th></th>\n      <th>Item Name</th>\n      <th>Category Name</th>\n      <th>Quantity Sold (kilo)</th>\n      <th>Unit Selling Price (RMB/kg)</th>\n      <th>Sale or Return</th>\n      <th>Discount (Yes/No)</th>\n    </tr>\n  </thead>\n  <tbody>\n    <tr>\n      <th>614042</th>\n      <td>Hfyg Haixian Mushroom (Bunch)</td>\n      <td>Edible Mushroom</td>\n      <td>1.0</td>\n      <td>1.5</td>\n      <td>sale</td>\n      <td>Yes</td>\n    </tr>\n    <tr>\n      <th>572415</th>\n      <td>Naibaicai</td>\n      <td>Flower</td>\n      <td>0.298</td>\n      <td>3.4</td>\n      <td>sale</td>\n      <td>No</td>\n    </tr>\n    <tr>\n      <th>731355</th>\n      <td>Wuhu Green Pepper (1)</td>\n      <td>Capsicum</td>\n      <td>0.696</td>\n      <td>3.2</td>\n      <td>sale</td>\n      <td>No</td>\n    </tr>\n    <tr>\n      <th>619001</th>\n      <td>Zhijiang Qinggengsanhua</td>\n      <td>Cabbage</td>\n      <td>0.382</td>\n      <td>10.0</td>\n      <td>sale</td>\n      <td>No</td>\n    </tr>\n    <tr>\n      <th>59985</th>\n      <td>Red Pepper (1)</td>\n      <td>Capsicum</td>\n      <td>0.21</td>\n      <td>10.0</td>\n      <td>sale</td>\n      <td>No</td>\n    </tr>\n  </tbody>\n</table>\n</div>"
     },
     "execution_count": 32,
     "metadata": {},
     "output_type": "execute_result"
    }
   ],
   "source": [
    "# Get the column names to lists\n",
    "\n",
    "first_columns = dff.columns[:-2].tolist()\n",
    "last_two_columns = dff.columns[-2:].tolist()\n",
    "\n",
    "# Rearrange the columns\n",
    "\n",
    "order = last_two_columns + first_columns\n",
    "dff = dff[order]\n",
    "\n",
    "dff.sample(5)"
   ],
   "metadata": {
    "collapsed": false,
    "ExecuteTime": {
     "end_time": "2023-12-02T08:04:36.664762Z",
     "start_time": "2023-12-02T08:04:36.380841Z"
    }
   },
   "id": "3befb7395baaec6"
  },
  {
   "cell_type": "code",
   "execution_count": 33,
   "outputs": [
    {
     "data": {
      "text/plain": "(878503, 6)"
     },
     "execution_count": 33,
     "metadata": {},
     "output_type": "execute_result"
    }
   ],
   "source": [
    "dff.shape"
   ],
   "metadata": {
    "collapsed": false,
    "ExecuteTime": {
     "end_time": "2023-12-02T08:04:36.665351Z",
     "start_time": "2023-12-02T08:04:36.436211Z"
    }
   },
   "id": "554ca13893a48ae0"
  },
  {
   "cell_type": "code",
   "execution_count": 34,
   "outputs": [],
   "source": [
    "dff.to_csv(\"/Users/rumethsandinu/Study/Assessments/Year 2/DSGP/Datasets/final_cleaned_dataset/cleaned_annex.csv\", index=False)"
   ],
   "metadata": {
    "collapsed": false,
    "ExecuteTime": {
     "end_time": "2023-12-02T08:04:38.715117Z",
     "start_time": "2023-12-02T08:04:36.452354Z"
    }
   },
   "id": "d1aeb15737715773"
  }
 ],
 "metadata": {
  "kernelspec": {
   "display_name": "Python 3",
   "language": "python",
   "name": "python3"
  },
  "language_info": {
   "codemirror_mode": {
    "name": "ipython",
    "version": 2
   },
   "file_extension": ".py",
   "mimetype": "text/x-python",
   "name": "python",
   "nbconvert_exporter": "python",
   "pygments_lexer": "ipython2",
   "version": "2.7.6"
  }
 },
 "nbformat": 4,
 "nbformat_minor": 5
}
