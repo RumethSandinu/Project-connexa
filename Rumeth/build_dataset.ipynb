{
 "cells": [
  {
   "cell_type": "code",
   "execution_count": 1,
   "id": "initial_id",
   "metadata": {
    "collapsed": true,
    "ExecuteTime": {
     "end_time": "2023-12-06T12:57:53.905692Z",
     "start_time": "2023-12-06T12:57:53.565527Z"
    }
   },
   "outputs": [],
   "source": [
    "# import libraries\n",
    "import pandas as pd"
   ]
  },
  {
   "cell_type": "code",
   "execution_count": 2,
   "outputs": [
    {
     "data": {
      "text/plain": "         Item Code              Item Name  Category Code  \\\n0  102900005115168       Niushou Shengcai     1011010101   \n1  102900005115199      Sichuan Red Cedar     1011010101   \n2  102900005115625  Local Xiaomao Cabbage     1011010101   \n3  102900005115748           White Caitai     1011010101   \n4  102900005115762               Amaranth     1011010101   \n\n            Category Name  \n0  Flower/Leaf Vegetables  \n1  Flower/Leaf Vegetables  \n2  Flower/Leaf Vegetables  \n3  Flower/Leaf Vegetables  \n4  Flower/Leaf Vegetables  ",
      "text/html": "<div>\n<style scoped>\n    .dataframe tbody tr th:only-of-type {\n        vertical-align: middle;\n    }\n\n    .dataframe tbody tr th {\n        vertical-align: top;\n    }\n\n    .dataframe thead th {\n        text-align: right;\n    }\n</style>\n<table border=\"1\" class=\"dataframe\">\n  <thead>\n    <tr style=\"text-align: right;\">\n      <th></th>\n      <th>Item Code</th>\n      <th>Item Name</th>\n      <th>Category Code</th>\n      <th>Category Name</th>\n    </tr>\n  </thead>\n  <tbody>\n    <tr>\n      <th>0</th>\n      <td>102900005115168</td>\n      <td>Niushou Shengcai</td>\n      <td>1011010101</td>\n      <td>Flower/Leaf Vegetables</td>\n    </tr>\n    <tr>\n      <th>1</th>\n      <td>102900005115199</td>\n      <td>Sichuan Red Cedar</td>\n      <td>1011010101</td>\n      <td>Flower/Leaf Vegetables</td>\n    </tr>\n    <tr>\n      <th>2</th>\n      <td>102900005115625</td>\n      <td>Local Xiaomao Cabbage</td>\n      <td>1011010101</td>\n      <td>Flower/Leaf Vegetables</td>\n    </tr>\n    <tr>\n      <th>3</th>\n      <td>102900005115748</td>\n      <td>White Caitai</td>\n      <td>1011010101</td>\n      <td>Flower/Leaf Vegetables</td>\n    </tr>\n    <tr>\n      <th>4</th>\n      <td>102900005115762</td>\n      <td>Amaranth</td>\n      <td>1011010101</td>\n      <td>Flower/Leaf Vegetables</td>\n    </tr>\n  </tbody>\n</table>\n</div>"
     },
     "execution_count": 2,
     "metadata": {},
     "output_type": "execute_result"
    }
   ],
   "source": [
    "# load item.csv\n",
    "df1 = pd.read_csv('/Users/rumethsandinu/Study/Assessments/Year 2/DSGP/Datasets/annex/item.csv')\n",
    "df1.head()"
   ],
   "metadata": {
    "collapsed": false,
    "ExecuteTime": {
     "end_time": "2023-12-06T12:57:53.919294Z",
     "start_time": "2023-12-06T12:57:53.907270Z"
    }
   },
   "id": "8e4f9211ddae87b6"
  },
  {
   "cell_type": "code",
   "execution_count": 3,
   "outputs": [
    {
     "name": "stdout",
     "output_type": "stream",
     "text": [
      "<class 'pandas.core.frame.DataFrame'>\n",
      "RangeIndex: 251 entries, 0 to 250\n",
      "Data columns (total 4 columns):\n",
      " #   Column         Non-Null Count  Dtype \n",
      "---  ------         --------------  ----- \n",
      " 0   Item Code      251 non-null    int64 \n",
      " 1   Item Name      251 non-null    object\n",
      " 2   Category Code  251 non-null    int64 \n",
      " 3   Category Name  251 non-null    object\n",
      "dtypes: int64(2), object(2)\n",
      "memory usage: 8.0+ KB\n"
     ]
    }
   ],
   "source": [
    "df1.info()"
   ],
   "metadata": {
    "collapsed": false,
    "ExecuteTime": {
     "end_time": "2023-12-06T12:57:53.937270Z",
     "start_time": "2023-12-06T12:57:53.924150Z"
    }
   },
   "id": "78ed671b18013277"
  },
  {
   "cell_type": "code",
   "execution_count": 4,
   "outputs": [
    {
     "data": {
      "text/plain": "Item Code\nFalse    251\nName: count, dtype: int64"
     },
     "execution_count": 4,
     "metadata": {},
     "output_type": "execute_result"
    }
   ],
   "source": [
    "# check if item code duplicates\n",
    "df1['Item Code'].duplicated().value_counts()"
   ],
   "metadata": {
    "collapsed": false,
    "ExecuteTime": {
     "end_time": "2023-12-06T12:57:53.965731Z",
     "start_time": "2023-12-06T12:57:53.928973Z"
    }
   },
   "id": "34b9ca94737f53fb"
  },
  {
   "cell_type": "code",
   "execution_count": 5,
   "outputs": [],
   "source": [
    "# convert item code to object type to protect from type conversion\n",
    "df1['Item Code'] = df1['Item Code'].astype(str)"
   ],
   "metadata": {
    "collapsed": false,
    "ExecuteTime": {
     "end_time": "2023-12-06T12:57:53.969723Z",
     "start_time": "2023-12-06T12:57:53.938817Z"
    }
   },
   "id": "26be13da9c092411"
  },
  {
   "cell_type": "code",
   "execution_count": 6,
   "outputs": [
    {
     "data": {
      "text/plain": "           Item Code                  Item Name  Category Code  \\\n186  102900005119104  The Crab Flavor Mushroom      1011010801   \n117  102900011032114            Water Chestnut      1011010402   \n109  102900011001691            Water Chestnut      1011010402   \n168  102900011032244           Red Hot Peppers      1011010504   \n59   102900011030103      Garden Chrysanthemum      1011010101   \n\n                   Category Name  \n186              Edible Mushroom  \n117  Aquatic Tuberous Vegetables  \n109  Aquatic Tuberous Vegetables  \n168                     Capsicum  \n59        Flower/Leaf Vegetables  ",
      "text/html": "<div>\n<style scoped>\n    .dataframe tbody tr th:only-of-type {\n        vertical-align: middle;\n    }\n\n    .dataframe tbody tr th {\n        vertical-align: top;\n    }\n\n    .dataframe thead th {\n        text-align: right;\n    }\n</style>\n<table border=\"1\" class=\"dataframe\">\n  <thead>\n    <tr style=\"text-align: right;\">\n      <th></th>\n      <th>Item Code</th>\n      <th>Item Name</th>\n      <th>Category Code</th>\n      <th>Category Name</th>\n    </tr>\n  </thead>\n  <tbody>\n    <tr>\n      <th>186</th>\n      <td>102900005119104</td>\n      <td>The Crab Flavor Mushroom</td>\n      <td>1011010801</td>\n      <td>Edible Mushroom</td>\n    </tr>\n    <tr>\n      <th>117</th>\n      <td>102900011032114</td>\n      <td>Water Chestnut</td>\n      <td>1011010402</td>\n      <td>Aquatic Tuberous Vegetables</td>\n    </tr>\n    <tr>\n      <th>109</th>\n      <td>102900011001691</td>\n      <td>Water Chestnut</td>\n      <td>1011010402</td>\n      <td>Aquatic Tuberous Vegetables</td>\n    </tr>\n    <tr>\n      <th>168</th>\n      <td>102900011032244</td>\n      <td>Red Hot Peppers</td>\n      <td>1011010504</td>\n      <td>Capsicum</td>\n    </tr>\n    <tr>\n      <th>59</th>\n      <td>102900011030103</td>\n      <td>Garden Chrysanthemum</td>\n      <td>1011010101</td>\n      <td>Flower/Leaf Vegetables</td>\n    </tr>\n  </tbody>\n</table>\n</div>"
     },
     "execution_count": 6,
     "metadata": {},
     "output_type": "execute_result"
    }
   ],
   "source": [
    "# split item names where duplication name starts\n",
    "df1['Item Name'] = df1['Item Name'].apply(lambda x : x.split('(')[0])\n",
    "df1.sample(5)"
   ],
   "metadata": {
    "collapsed": false,
    "ExecuteTime": {
     "end_time": "2023-12-06T12:57:53.977298Z",
     "start_time": "2023-12-06T12:57:53.945415Z"
    }
   },
   "id": "d5acee1e3f03d6a"
  },
  {
   "cell_type": "code",
   "execution_count": 7,
   "outputs": [
    {
     "data": {
      "text/plain": "Item Name\nFalse    194\nTrue      57\nName: count, dtype: int64"
     },
     "execution_count": 7,
     "metadata": {},
     "output_type": "execute_result"
    }
   ],
   "source": [
    "# check for duplications names\n",
    "df1['Item Name'].duplicated().value_counts()"
   ],
   "metadata": {
    "collapsed": false,
    "ExecuteTime": {
     "end_time": "2023-12-06T12:57:53.977453Z",
     "start_time": "2023-12-06T12:57:53.950356Z"
    }
   },
   "id": "956218b5c7fc9825"
  },
  {
   "cell_type": "code",
   "execution_count": 8,
   "outputs": [
    {
     "data": {
      "text/plain": "0      False\n1      False\n2      False\n3      False\n4      False\n       ...  \n246     True\n247     True\n248     True\n249     True\n250    False\nName: Item Name, Length: 251, dtype: bool"
     },
     "execution_count": 8,
     "metadata": {},
     "output_type": "execute_result"
    }
   ],
   "source": [
    "# for future testing if the duplication removal process successfull\n",
    "df1['Item Name'].duplicated()"
   ],
   "metadata": {
    "collapsed": false,
    "ExecuteTime": {
     "end_time": "2023-12-06T12:57:53.977537Z",
     "start_time": "2023-12-06T12:57:53.953897Z"
    }
   },
   "id": "45c5b1ebc49e1df3"
  },
  {
   "cell_type": "code",
   "execution_count": 9,
   "outputs": [
    {
     "data": {
      "text/plain": "(194, 4)"
     },
     "execution_count": 9,
     "metadata": {},
     "output_type": "execute_result"
    }
   ],
   "source": [
    "# drop the duplicates keeping only first value\n",
    "df1 = df1.drop_duplicates(subset=['Item Name'], keep='first')\n",
    "df1.shape"
   ],
   "metadata": {
    "collapsed": false,
    "ExecuteTime": {
     "end_time": "2023-12-06T12:57:53.987748Z",
     "start_time": "2023-12-06T12:57:53.956970Z"
    }
   },
   "id": "3175a0cf2d606740"
  },
  {
   "cell_type": "code",
   "execution_count": 10,
   "outputs": [
    {
     "data": {
      "text/plain": "         Item Code        Item Name  Category Code           Category Name\n7  102900005115793  Chinese Cabbage     1011010101  Flower/Leaf Vegetables",
      "text/html": "<div>\n<style scoped>\n    .dataframe tbody tr th:only-of-type {\n        vertical-align: middle;\n    }\n\n    .dataframe tbody tr th {\n        vertical-align: top;\n    }\n\n    .dataframe thead th {\n        text-align: right;\n    }\n</style>\n<table border=\"1\" class=\"dataframe\">\n  <thead>\n    <tr style=\"text-align: right;\">\n      <th></th>\n      <th>Item Code</th>\n      <th>Item Name</th>\n      <th>Category Code</th>\n      <th>Category Name</th>\n    </tr>\n  </thead>\n  <tbody>\n    <tr>\n      <th>7</th>\n      <td>102900005115793</td>\n      <td>Chinese Cabbage</td>\n      <td>1011010101</td>\n      <td>Flower/Leaf Vegetables</td>\n    </tr>\n  </tbody>\n</table>\n</div>"
     },
     "execution_count": 10,
     "metadata": {},
     "output_type": "execute_result"
    }
   ],
   "source": [
    "# check if the duplication removal process successfull\n",
    "df1[df1['Item Name'] == 'Chinese Cabbage']"
   ],
   "metadata": {
    "collapsed": false,
    "ExecuteTime": {
     "end_time": "2023-12-06T12:57:53.987985Z",
     "start_time": "2023-12-06T12:57:53.962348Z"
    }
   },
   "id": "3da517b9fc4c143d"
  },
  {
   "cell_type": "code",
   "execution_count": 11,
   "outputs": [
    {
     "data": {
      "text/plain": "Category Name\nFlower/Leaf Vegetables         94\nEdible Mushroom                41\nCapsicum                       35\nAquatic Tuberous Vegetables    14\nSolanum                         7\nCabbage                         3\nName: count, dtype: int64"
     },
     "execution_count": 11,
     "metadata": {},
     "output_type": "execute_result"
    }
   ],
   "source": [
    "# check the frequency of each catgory name\n",
    "\n",
    "df1['Category Name'].value_counts()"
   ],
   "metadata": {
    "collapsed": false,
    "ExecuteTime": {
     "end_time": "2023-12-06T12:57:53.989014Z",
     "start_time": "2023-12-06T12:57:53.966642Z"
    }
   },
   "id": "b1ca6678c24298fd"
  },
  {
   "cell_type": "code",
   "execution_count": 12,
   "outputs": [
    {
     "data": {
      "text/plain": "Category Name\nFlower/Leaf Vegetables         94\nEdible Mushroom                41\nCapsicum                       35\nAquatic Tuberous Vegetables    14\nSolanum                         7\nCabbage                         3\nName: count, dtype: int64"
     },
     "execution_count": 12,
     "metadata": {},
     "output_type": "execute_result"
    }
   ],
   "source": [
    "def rename_category(data):\n",
    "    if data == 'Flower/Leaf Vegetables':\n",
    "        return 'Flower/Leaf Vegetables'\n",
    "    return data\n",
    "\n",
    "# rename all Flower/Leaf Vegetables values to readable value\n",
    "df1['Category Name'] = df1['Category Name'].apply(rename_category)\n",
    "df1['Category Name'].value_counts()"
   ],
   "metadata": {
    "collapsed": false,
    "ExecuteTime": {
     "end_time": "2023-12-06T12:57:53.989755Z",
     "start_time": "2023-12-06T12:57:53.971090Z"
    }
   },
   "id": "e8123fbaed77245a"
  },
  {
   "cell_type": "code",
   "execution_count": 13,
   "outputs": [
    {
     "data": {
      "text/plain": "         Date          Time        Item Code  Quantity Sold (kilo)  \\\n0  2020-07-01  09:15:07.924  102900005117056                 0.396   \n1  2020-07-01  09:17:27.295  102900005115960                 0.849   \n2  2020-07-01  09:17:33.905  102900005117056                 0.409   \n3  2020-07-01  09:19:45.450  102900005115823                 0.421   \n4  2020-07-01  09:20:23.686  102900005115908                 0.539   \n\n   Unit Selling Price (RMB/kg) Sale or Return Discount (Yes/No)  \n0                          7.6           sale                No  \n1                          3.2           sale                No  \n2                          7.6           sale                No  \n3                         10.0           sale                No  \n4                          8.0           sale                No  ",
      "text/html": "<div>\n<style scoped>\n    .dataframe tbody tr th:only-of-type {\n        vertical-align: middle;\n    }\n\n    .dataframe tbody tr th {\n        vertical-align: top;\n    }\n\n    .dataframe thead th {\n        text-align: right;\n    }\n</style>\n<table border=\"1\" class=\"dataframe\">\n  <thead>\n    <tr style=\"text-align: right;\">\n      <th></th>\n      <th>Date</th>\n      <th>Time</th>\n      <th>Item Code</th>\n      <th>Quantity Sold (kilo)</th>\n      <th>Unit Selling Price (RMB/kg)</th>\n      <th>Sale or Return</th>\n      <th>Discount (Yes/No)</th>\n    </tr>\n  </thead>\n  <tbody>\n    <tr>\n      <th>0</th>\n      <td>2020-07-01</td>\n      <td>09:15:07.924</td>\n      <td>102900005117056</td>\n      <td>0.396</td>\n      <td>7.6</td>\n      <td>sale</td>\n      <td>No</td>\n    </tr>\n    <tr>\n      <th>1</th>\n      <td>2020-07-01</td>\n      <td>09:17:27.295</td>\n      <td>102900005115960</td>\n      <td>0.849</td>\n      <td>3.2</td>\n      <td>sale</td>\n      <td>No</td>\n    </tr>\n    <tr>\n      <th>2</th>\n      <td>2020-07-01</td>\n      <td>09:17:33.905</td>\n      <td>102900005117056</td>\n      <td>0.409</td>\n      <td>7.6</td>\n      <td>sale</td>\n      <td>No</td>\n    </tr>\n    <tr>\n      <th>3</th>\n      <td>2020-07-01</td>\n      <td>09:19:45.450</td>\n      <td>102900005115823</td>\n      <td>0.421</td>\n      <td>10.0</td>\n      <td>sale</td>\n      <td>No</td>\n    </tr>\n    <tr>\n      <th>4</th>\n      <td>2020-07-01</td>\n      <td>09:20:23.686</td>\n      <td>102900005115908</td>\n      <td>0.539</td>\n      <td>8.0</td>\n      <td>sale</td>\n      <td>No</td>\n    </tr>\n  </tbody>\n</table>\n</div>"
     },
     "execution_count": 13,
     "metadata": {},
     "output_type": "execute_result"
    }
   ],
   "source": [
    "# load the sale.csv dataset\n",
    "\n",
    "df3 = pd.read_csv('/Users/rumethsandinu/Study/Assessments/Year 2/DSGP/Datasets/annex/sale.csv')\n",
    "df3.head()"
   ],
   "metadata": {
    "collapsed": false,
    "ExecuteTime": {
     "end_time": "2023-12-06T12:57:54.484028Z",
     "start_time": "2023-12-06T12:57:53.974209Z"
    }
   },
   "id": "e91032627b07ee8c"
  },
  {
   "cell_type": "code",
   "execution_count": 14,
   "outputs": [],
   "source": [
    "# drop non-dependent columns\n",
    "df3 = df3.drop(columns=['Date', 'Time'], axis=1)"
   ],
   "metadata": {
    "collapsed": false,
    "ExecuteTime": {
     "end_time": "2023-12-06T12:57:54.484994Z",
     "start_time": "2023-12-06T12:57:54.465595Z"
    }
   },
   "id": "fff148316fd62059"
  },
  {
   "cell_type": "code",
   "execution_count": 15,
   "outputs": [
    {
     "name": "stdout",
     "output_type": "stream",
     "text": [
      "<class 'pandas.core.frame.DataFrame'>\n",
      "RangeIndex: 878503 entries, 0 to 878502\n",
      "Data columns (total 5 columns):\n",
      " #   Column                       Non-Null Count   Dtype  \n",
      "---  ------                       --------------   -----  \n",
      " 0   Item Code                    878503 non-null  int64  \n",
      " 1   Quantity Sold (kilo)         878503 non-null  float64\n",
      " 2   Unit Selling Price (RMB/kg)  878503 non-null  float64\n",
      " 3   Sale or Return               878503 non-null  object \n",
      " 4   Discount (Yes/No)            878503 non-null  object \n",
      "dtypes: float64(2), int64(1), object(2)\n",
      "memory usage: 33.5+ MB\n"
     ]
    }
   ],
   "source": [
    "df3.info()"
   ],
   "metadata": {
    "collapsed": false,
    "ExecuteTime": {
     "end_time": "2023-12-06T12:57:54.530592Z",
     "start_time": "2023-12-06T12:57:54.482779Z"
    }
   },
   "id": "cbba1e17241ebd7e"
  },
  {
   "cell_type": "code",
   "execution_count": 16,
   "outputs": [],
   "source": [
    "# convert item code to object type to protect from type conversion\n",
    "df3['Item Code'] = df3['Item Code'].astype(str)"
   ],
   "metadata": {
    "collapsed": false,
    "ExecuteTime": {
     "end_time": "2023-12-06T12:57:54.700190Z",
     "start_time": "2023-12-06T12:57:54.515997Z"
    }
   },
   "id": "516950ee36b32e26"
  },
  {
   "cell_type": "code",
   "execution_count": 17,
   "outputs": [
    {
     "data": {
      "text/plain": "(191, 4)"
     },
     "execution_count": 17,
     "metadata": {},
     "output_type": "execute_result"
    }
   ],
   "source": [
    "# get item codes in df1 which present in df3\n",
    "df1 = df1[df1['Item Code'].isin(df3['Item Code'])]\n",
    "df1.shape"
   ],
   "metadata": {
    "collapsed": false,
    "ExecuteTime": {
     "end_time": "2023-12-06T12:57:54.730530Z",
     "start_time": "2023-12-06T12:57:54.727750Z"
    }
   },
   "id": "36f13c005a0065f0"
  },
  {
   "cell_type": "code",
   "execution_count": 18,
   "outputs": [
    {
     "data": {
      "text/plain": "(737337, 5)"
     },
     "execution_count": 18,
     "metadata": {},
     "output_type": "execute_result"
    }
   ],
   "source": [
    "# get item codes in df3 which present in df1\n",
    "df3 = df3[df3['Item Code'].isin(df1['Item Code'])]\n",
    "\n",
    "df3.shape"
   ],
   "metadata": {
    "collapsed": false,
    "ExecuteTime": {
     "end_time": "2023-12-06T12:57:54.801726Z",
     "start_time": "2023-12-06T12:57:54.770701Z"
    }
   },
   "id": "6589b5cecc2993c"
  },
  {
   "cell_type": "code",
   "execution_count": 19,
   "outputs": [
    {
     "name": "stdout",
     "output_type": "stream",
     "text": [
      "<class 'pandas.core.frame.DataFrame'>\n",
      "RangeIndex: 737337 entries, 0 to 737336\n",
      "Data columns (total 5 columns):\n",
      " #   Column                       Non-Null Count   Dtype  \n",
      "---  ------                       --------------   -----  \n",
      " 0   Item Code                    737337 non-null  object \n",
      " 1   Quantity Sold (kilo)         737337 non-null  float64\n",
      " 2   Unit Selling Price (RMB/kg)  737337 non-null  float64\n",
      " 3   Sale or Return               737337 non-null  object \n",
      " 4   Discount (Yes/No)            737337 non-null  object \n",
      "dtypes: float64(2), object(3)\n",
      "memory usage: 28.1+ MB\n"
     ]
    }
   ],
   "source": [
    "# getting a copy of df3 and assigning it to dff\n",
    "\n",
    "dff = df3.copy().reset_index(drop=True)\n",
    "dff.info()"
   ],
   "metadata": {
    "collapsed": false,
    "ExecuteTime": {
     "end_time": "2023-12-06T12:57:54.889207Z",
     "start_time": "2023-12-06T12:57:54.798267Z"
    }
   },
   "id": "70e418d00022cc43"
  },
  {
   "cell_type": "code",
   "execution_count": 20,
   "outputs": [
    {
     "data": {
      "text/plain": "         Item Code  Quantity Sold (kilo)  Unit Selling Price (RMB/kg)  \\\n0  102900005117056                 0.396                          7.6   \n1  102900005117056                 0.409                          7.6   \n2  102900005115823                 0.421                         10.0   \n3  102900005115908                 0.539                          8.0   \n4  102900005117056                 0.277                          7.6   \n\n  Sale or Return Discount (Yes/No)  \n0           sale                No  \n1           sale                No  \n2           sale                No  \n3           sale                No  \n4           sale                No  ",
      "text/html": "<div>\n<style scoped>\n    .dataframe tbody tr th:only-of-type {\n        vertical-align: middle;\n    }\n\n    .dataframe tbody tr th {\n        vertical-align: top;\n    }\n\n    .dataframe thead th {\n        text-align: right;\n    }\n</style>\n<table border=\"1\" class=\"dataframe\">\n  <thead>\n    <tr style=\"text-align: right;\">\n      <th></th>\n      <th>Item Code</th>\n      <th>Quantity Sold (kilo)</th>\n      <th>Unit Selling Price (RMB/kg)</th>\n      <th>Sale or Return</th>\n      <th>Discount (Yes/No)</th>\n    </tr>\n  </thead>\n  <tbody>\n    <tr>\n      <th>0</th>\n      <td>102900005117056</td>\n      <td>0.396</td>\n      <td>7.6</td>\n      <td>sale</td>\n      <td>No</td>\n    </tr>\n    <tr>\n      <th>1</th>\n      <td>102900005117056</td>\n      <td>0.409</td>\n      <td>7.6</td>\n      <td>sale</td>\n      <td>No</td>\n    </tr>\n    <tr>\n      <th>2</th>\n      <td>102900005115823</td>\n      <td>0.421</td>\n      <td>10.0</td>\n      <td>sale</td>\n      <td>No</td>\n    </tr>\n    <tr>\n      <th>3</th>\n      <td>102900005115908</td>\n      <td>0.539</td>\n      <td>8.0</td>\n      <td>sale</td>\n      <td>No</td>\n    </tr>\n    <tr>\n      <th>4</th>\n      <td>102900005117056</td>\n      <td>0.277</td>\n      <td>7.6</td>\n      <td>sale</td>\n      <td>No</td>\n    </tr>\n  </tbody>\n</table>\n</div>"
     },
     "execution_count": 20,
     "metadata": {},
     "output_type": "execute_result"
    }
   ],
   "source": [
    "# check all the operations successful\n",
    "dff.head()"
   ],
   "metadata": {
    "collapsed": false,
    "ExecuteTime": {
     "end_time": "2023-12-06T12:57:54.891143Z",
     "start_time": "2023-12-06T12:57:54.888600Z"
    }
   },
   "id": "a3979005a61b79c0"
  },
  {
   "cell_type": "code",
   "execution_count": 21,
   "outputs": [
    {
     "data": {
      "text/plain": "(737337, 5)"
     },
     "execution_count": 21,
     "metadata": {},
     "output_type": "execute_result"
    }
   ],
   "source": [
    "dff.shape"
   ],
   "metadata": {
    "collapsed": false,
    "ExecuteTime": {
     "end_time": "2023-12-06T12:57:54.895507Z",
     "start_time": "2023-12-06T12:57:54.891236Z"
    }
   },
   "id": "f395a41de9a6022d"
  },
  {
   "cell_type": "code",
   "execution_count": 22,
   "outputs": [],
   "source": [
    "# merge df3 with df1 (item name, category name)\n",
    "for i in range(dff.shape[0]):\n",
    "    for j in range(df1.shape[0]):\n",
    "        if dff['Item Code'].values[i] == df1['Item Code'].values[j]:\n",
    "            dff.at[i, 'Item Name'] = df1['Item Name'].values[j]\n",
    "            dff.at[i, 'Category Name'] = df1['Category Name'].values[j]\n",
    "            break"
   ],
   "metadata": {
    "collapsed": false,
    "ExecuteTime": {
     "end_time": "2023-12-06T13:01:46.339863Z",
     "start_time": "2023-12-06T12:57:54.895363Z"
    }
   },
   "id": "f7fb01539b2247e3"
  },
  {
   "cell_type": "code",
   "execution_count": 23,
   "outputs": [
    {
     "data": {
      "text/plain": "   Quantity Sold (kilo)  Unit Selling Price (RMB/kg) Sale or Return  \\\n0                 0.396                          7.6           sale   \n1                 0.409                          7.6           sale   \n2                 0.421                         10.0           sale   \n3                 0.539                          8.0           sale   \n4                 0.277                          7.6           sale   \n\n  Discount (Yes/No)     Item Name           Category Name  \n0                No   Paopaojiao                 Capsicum  \n1                No   Paopaojiao                 Capsicum  \n2                No  Shanghaiqing  Flower/Leaf Vegetables  \n3                No        Caixin  Flower/Leaf Vegetables  \n4                No   Paopaojiao                 Capsicum  ",
      "text/html": "<div>\n<style scoped>\n    .dataframe tbody tr th:only-of-type {\n        vertical-align: middle;\n    }\n\n    .dataframe tbody tr th {\n        vertical-align: top;\n    }\n\n    .dataframe thead th {\n        text-align: right;\n    }\n</style>\n<table border=\"1\" class=\"dataframe\">\n  <thead>\n    <tr style=\"text-align: right;\">\n      <th></th>\n      <th>Quantity Sold (kilo)</th>\n      <th>Unit Selling Price (RMB/kg)</th>\n      <th>Sale or Return</th>\n      <th>Discount (Yes/No)</th>\n      <th>Item Name</th>\n      <th>Category Name</th>\n    </tr>\n  </thead>\n  <tbody>\n    <tr>\n      <th>0</th>\n      <td>0.396</td>\n      <td>7.6</td>\n      <td>sale</td>\n      <td>No</td>\n      <td>Paopaojiao</td>\n      <td>Capsicum</td>\n    </tr>\n    <tr>\n      <th>1</th>\n      <td>0.409</td>\n      <td>7.6</td>\n      <td>sale</td>\n      <td>No</td>\n      <td>Paopaojiao</td>\n      <td>Capsicum</td>\n    </tr>\n    <tr>\n      <th>2</th>\n      <td>0.421</td>\n      <td>10.0</td>\n      <td>sale</td>\n      <td>No</td>\n      <td>Shanghaiqing</td>\n      <td>Flower/Leaf Vegetables</td>\n    </tr>\n    <tr>\n      <th>3</th>\n      <td>0.539</td>\n      <td>8.0</td>\n      <td>sale</td>\n      <td>No</td>\n      <td>Caixin</td>\n      <td>Flower/Leaf Vegetables</td>\n    </tr>\n    <tr>\n      <th>4</th>\n      <td>0.277</td>\n      <td>7.6</td>\n      <td>sale</td>\n      <td>No</td>\n      <td>Paopaojiao</td>\n      <td>Capsicum</td>\n    </tr>\n  </tbody>\n</table>\n</div>"
     },
     "execution_count": 23,
     "metadata": {},
     "output_type": "execute_result"
    }
   ],
   "source": [
    "# drop non-dependant feature\n",
    "dff = dff.drop(columns=['Item Code'], axis=1)\n",
    "dff.head()"
   ],
   "metadata": {
    "collapsed": false,
    "ExecuteTime": {
     "end_time": "2023-12-06T13:01:46.379729Z",
     "start_time": "2023-12-06T13:01:46.341616Z"
    }
   },
   "id": "673e33afbbb0faa0"
  },
  {
   "cell_type": "code",
   "execution_count": 24,
   "outputs": [
    {
     "name": "stdout",
     "output_type": "stream",
     "text": [
      "<class 'pandas.core.frame.DataFrame'>\n",
      "RangeIndex: 737337 entries, 0 to 737336\n",
      "Data columns (total 6 columns):\n",
      " #   Column                       Non-Null Count   Dtype  \n",
      "---  ------                       --------------   -----  \n",
      " 0   Quantity Sold (kilo)         737337 non-null  float64\n",
      " 1   Unit Selling Price (RMB/kg)  737337 non-null  float64\n",
      " 2   Sale or Return               737337 non-null  object \n",
      " 3   Discount (Yes/No)            737337 non-null  object \n",
      " 4   Item Name                    737337 non-null  object \n",
      " 5   Category Name                737337 non-null  object \n",
      "dtypes: float64(2), object(4)\n",
      "memory usage: 33.8+ MB\n"
     ]
    }
   ],
   "source": [
    "dff.info()"
   ],
   "metadata": {
    "collapsed": false,
    "ExecuteTime": {
     "end_time": "2023-12-06T13:01:46.449678Z",
     "start_time": "2023-12-06T13:01:46.380614Z"
    }
   },
   "id": "90d28e83f455d9ca"
  },
  {
   "cell_type": "code",
   "execution_count": 25,
   "outputs": [
    {
     "data": {
      "text/plain": "                 Item Name                Category Name  Quantity Sold (kilo)  \\\n564399     Net Lotus Root   Aquatic Tuberous Vegetables                 2.053   \n352414  Wuhu Green Pepper                      Capsicum                 0.328   \n319705     Yunnan Shengcai       Flower/Leaf Vegetables                 0.489   \n238063     Net Lotus Root   Aquatic Tuberous Vegetables                 0.376   \n579813     Yunnan Lettuce        Flower/Leaf Vegetables                 1.000   \n\n        Unit Selling Price (RMB/kg) Sale or Return Discount (Yes/No)  \n564399                          7.2           sale                No  \n352414                          4.0           sale                No  \n319705                          7.6           sale                No  \n238063                          8.0           sale                No  \n579813                          4.5           sale                No  ",
      "text/html": "<div>\n<style scoped>\n    .dataframe tbody tr th:only-of-type {\n        vertical-align: middle;\n    }\n\n    .dataframe tbody tr th {\n        vertical-align: top;\n    }\n\n    .dataframe thead th {\n        text-align: right;\n    }\n</style>\n<table border=\"1\" class=\"dataframe\">\n  <thead>\n    <tr style=\"text-align: right;\">\n      <th></th>\n      <th>Item Name</th>\n      <th>Category Name</th>\n      <th>Quantity Sold (kilo)</th>\n      <th>Unit Selling Price (RMB/kg)</th>\n      <th>Sale or Return</th>\n      <th>Discount (Yes/No)</th>\n    </tr>\n  </thead>\n  <tbody>\n    <tr>\n      <th>564399</th>\n      <td>Net Lotus Root</td>\n      <td>Aquatic Tuberous Vegetables</td>\n      <td>2.053</td>\n      <td>7.2</td>\n      <td>sale</td>\n      <td>No</td>\n    </tr>\n    <tr>\n      <th>352414</th>\n      <td>Wuhu Green Pepper</td>\n      <td>Capsicum</td>\n      <td>0.328</td>\n      <td>4.0</td>\n      <td>sale</td>\n      <td>No</td>\n    </tr>\n    <tr>\n      <th>319705</th>\n      <td>Yunnan Shengcai</td>\n      <td>Flower/Leaf Vegetables</td>\n      <td>0.489</td>\n      <td>7.6</td>\n      <td>sale</td>\n      <td>No</td>\n    </tr>\n    <tr>\n      <th>238063</th>\n      <td>Net Lotus Root</td>\n      <td>Aquatic Tuberous Vegetables</td>\n      <td>0.376</td>\n      <td>8.0</td>\n      <td>sale</td>\n      <td>No</td>\n    </tr>\n    <tr>\n      <th>579813</th>\n      <td>Yunnan Lettuce</td>\n      <td>Flower/Leaf Vegetables</td>\n      <td>1.000</td>\n      <td>4.5</td>\n      <td>sale</td>\n      <td>No</td>\n    </tr>\n  </tbody>\n</table>\n</div>"
     },
     "execution_count": 25,
     "metadata": {},
     "output_type": "execute_result"
    }
   ],
   "source": [
    "# Get the column names to lists\n",
    "\n",
    "first_columns = dff.columns[:-2].tolist()\n",
    "last_two_columns = dff.columns[-2:].tolist()\n",
    "\n",
    "# Rearrange the columns\n",
    "\n",
    "order = last_two_columns + first_columns\n",
    "dff = dff[order]\n",
    "\n",
    "# check all the operations successful\n",
    "dff.sample(5)"
   ],
   "metadata": {
    "collapsed": false,
    "ExecuteTime": {
     "end_time": "2023-12-06T13:01:46.478056Z",
     "start_time": "2023-12-06T13:01:46.437758Z"
    }
   },
   "id": "3befb7395baaec6"
  },
  {
   "cell_type": "code",
   "execution_count": 26,
   "outputs": [
    {
     "data": {
      "text/plain": "Item Name                      0\nCategory Name                  0\nQuantity Sold (kilo)           0\nUnit Selling Price (RMB/kg)    0\nSale or Return                 0\nDiscount (Yes/No)              0\ndtype: int64"
     },
     "execution_count": 26,
     "metadata": {},
     "output_type": "execute_result"
    }
   ],
   "source": [
    "dff.isnull().sum()"
   ],
   "metadata": {
    "collapsed": false,
    "ExecuteTime": {
     "end_time": "2023-12-06T13:01:46.533109Z",
     "start_time": "2023-12-06T13:01:46.500773Z"
    }
   },
   "id": "e6ef21dccbb07362"
  },
  {
   "cell_type": "code",
   "execution_count": 27,
   "outputs": [],
   "source": [
    "dff.to_csv(\"/Users/rumethsandinu/Study/Assessments/Year 2/DSGP/Datasets/built_dataset.csv\", index=False)"
   ],
   "metadata": {
    "collapsed": false,
    "ExecuteTime": {
     "end_time": "2023-12-06T13:01:47.508433Z",
     "start_time": "2023-12-06T13:01:46.532075Z"
    }
   },
   "id": "d1aeb15737715773"
  }
 ],
 "metadata": {
  "kernelspec": {
   "display_name": "Python 3",
   "language": "python",
   "name": "python3"
  },
  "language_info": {
   "codemirror_mode": {
    "name": "ipython",
    "version": 2
   },
   "file_extension": ".py",
   "mimetype": "text/x-python",
   "name": "python",
   "nbconvert_exporter": "python",
   "pygments_lexer": "ipython2",
   "version": "2.7.6"
  }
 },
 "nbformat": 4,
 "nbformat_minor": 5
}
