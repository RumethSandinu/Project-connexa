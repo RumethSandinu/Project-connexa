{
 "cells": [
  {
   "cell_type": "code",
   "execution_count": 33,
   "id": "initial_id",
   "metadata": {
    "collapsed": true,
    "ExecuteTime": {
     "end_time": "2023-11-20T06:03:06.915946Z",
     "start_time": "2023-11-20T06:03:06.909739Z"
    }
   },
   "outputs": [],
   "source": [
    "import pandas as pd\n",
    "import matplotlib.pyplot as plt\n",
    "import random\n",
    "import numpy as np"
   ]
  },
  {
   "cell_type": "code",
   "execution_count": 34,
   "outputs": [
    {
     "data": {
      "text/plain": "         Item Code              Item Name  Category Code  \\\n0  102900005115168       Niushou Shengcai     1011010101   \n1  102900005115199      Sichuan Red Cedar     1011010101   \n2  102900005115625  Local Xiaomao Cabbage     1011010101   \n3  102900005115748           White Caitai     1011010101   \n4  102900005115762               Amaranth     1011010101   \n\n            Category Name  \n0  Flower/Leaf Vegetables  \n1  Flower/Leaf Vegetables  \n2  Flower/Leaf Vegetables  \n3  Flower/Leaf Vegetables  \n4  Flower/Leaf Vegetables  ",
      "text/html": "<div>\n<style scoped>\n    .dataframe tbody tr th:only-of-type {\n        vertical-align: middle;\n    }\n\n    .dataframe tbody tr th {\n        vertical-align: top;\n    }\n\n    .dataframe thead th {\n        text-align: right;\n    }\n</style>\n<table border=\"1\" class=\"dataframe\">\n  <thead>\n    <tr style=\"text-align: right;\">\n      <th></th>\n      <th>Item Code</th>\n      <th>Item Name</th>\n      <th>Category Code</th>\n      <th>Category Name</th>\n    </tr>\n  </thead>\n  <tbody>\n    <tr>\n      <th>0</th>\n      <td>102900005115168</td>\n      <td>Niushou Shengcai</td>\n      <td>1011010101</td>\n      <td>Flower/Leaf Vegetables</td>\n    </tr>\n    <tr>\n      <th>1</th>\n      <td>102900005115199</td>\n      <td>Sichuan Red Cedar</td>\n      <td>1011010101</td>\n      <td>Flower/Leaf Vegetables</td>\n    </tr>\n    <tr>\n      <th>2</th>\n      <td>102900005115625</td>\n      <td>Local Xiaomao Cabbage</td>\n      <td>1011010101</td>\n      <td>Flower/Leaf Vegetables</td>\n    </tr>\n    <tr>\n      <th>3</th>\n      <td>102900005115748</td>\n      <td>White Caitai</td>\n      <td>1011010101</td>\n      <td>Flower/Leaf Vegetables</td>\n    </tr>\n    <tr>\n      <th>4</th>\n      <td>102900005115762</td>\n      <td>Amaranth</td>\n      <td>1011010101</td>\n      <td>Flower/Leaf Vegetables</td>\n    </tr>\n  </tbody>\n</table>\n</div>"
     },
     "execution_count": 34,
     "metadata": {},
     "output_type": "execute_result"
    }
   ],
   "source": [
    "df1 = pd.read_csv('/Users/rumethsandinu/Study/Assessments/Year 2/DSGP/Datasets/annex/item.csv')\n",
    "df1.head()"
   ],
   "metadata": {
    "collapsed": false,
    "ExecuteTime": {
     "end_time": "2023-11-20T06:03:07.094150Z",
     "start_time": "2023-11-20T06:03:07.086165Z"
    }
   },
   "id": "8e4f9211ddae87b6"
  },
  {
   "cell_type": "code",
   "execution_count": 35,
   "outputs": [
    {
     "data": {
      "text/plain": "(251, 4)"
     },
     "execution_count": 35,
     "metadata": {},
     "output_type": "execute_result"
    }
   ],
   "source": [
    "df1.shape"
   ],
   "metadata": {
    "collapsed": false,
    "ExecuteTime": {
     "end_time": "2023-11-20T06:03:07.257533Z",
     "start_time": "2023-11-20T06:03:07.244335Z"
    }
   },
   "id": "9888f829560a6955"
  },
  {
   "cell_type": "code",
   "execution_count": 36,
   "outputs": [
    {
     "name": "stdout",
     "output_type": "stream",
     "text": [
      "<class 'pandas.core.frame.DataFrame'>\n",
      "RangeIndex: 251 entries, 0 to 250\n",
      "Data columns (total 4 columns):\n",
      " #   Column         Non-Null Count  Dtype \n",
      "---  ------         --------------  ----- \n",
      " 0   Item Code      251 non-null    int64 \n",
      " 1   Item Name      251 non-null    object\n",
      " 2   Category Code  251 non-null    int64 \n",
      " 3   Category Name  251 non-null    object\n",
      "dtypes: int64(2), object(2)\n",
      "memory usage: 8.0+ KB\n"
     ]
    }
   ],
   "source": [
    "df1.info()"
   ],
   "metadata": {
    "collapsed": false,
    "ExecuteTime": {
     "end_time": "2023-11-20T06:03:07.481616Z",
     "start_time": "2023-11-20T06:03:07.478193Z"
    }
   },
   "id": "78ed671b18013277"
  },
  {
   "cell_type": "code",
   "execution_count": 37,
   "outputs": [],
   "source": [
    "df1['Item Code'] = df1['Item Code'].astype(str)"
   ],
   "metadata": {
    "collapsed": false,
    "ExecuteTime": {
     "end_time": "2023-11-20T06:03:07.642957Z",
     "start_time": "2023-11-20T06:03:07.638288Z"
    }
   },
   "id": "49a7d1f979950611"
  },
  {
   "cell_type": "code",
   "execution_count": 38,
   "outputs": [
    {
     "data": {
      "text/plain": "Item Code        0\nItem Name        0\nCategory Code    0\nCategory Name    0\ndtype: int64"
     },
     "execution_count": 38,
     "metadata": {},
     "output_type": "execute_result"
    }
   ],
   "source": [
    "df1.isnull().sum()"
   ],
   "metadata": {
    "collapsed": false,
    "ExecuteTime": {
     "end_time": "2023-11-20T06:03:07.811620Z",
     "start_time": "2023-11-20T06:03:07.800846Z"
    }
   },
   "id": "e581c3f5ca07d7e5"
  },
  {
   "cell_type": "code",
   "execution_count": 39,
   "outputs": [
    {
     "data": {
      "text/plain": "Category Name\nFlower/Leaf Vegetables         100\nEdible Mushroom                 72\nCapsicum                        45\nAquatic Tuberous Vegetables     19\nSolanum                         10\nCabbage                          5\nName: count, dtype: int64"
     },
     "execution_count": 39,
     "metadata": {},
     "output_type": "execute_result"
    }
   ],
   "source": [
    "df1['Category Name'].value_counts()"
   ],
   "metadata": {
    "collapsed": false,
    "ExecuteTime": {
     "end_time": "2023-11-20T06:03:08.146134Z",
     "start_time": "2023-11-20T06:03:08.133200Z"
    }
   },
   "id": "b1ca6678c24298fd"
  },
  {
   "cell_type": "code",
   "execution_count": 40,
   "outputs": [
    {
     "data": {
      "text/plain": "Category Name\nFlower                         100\nEdible Mushroom                 72\nCapsicum                        45\nAquatic Tuberous Vegetables     19\nSolanum                         10\nCabbage                          5\nName: count, dtype: int64"
     },
     "execution_count": 40,
     "metadata": {},
     "output_type": "execute_result"
    }
   ],
   "source": [
    "def rename_category(data):\n",
    "    if data == 'Flower/Leaf Vegetables':\n",
    "        return 'Flower'\n",
    "    return data\n",
    "\n",
    "df1['Category Name'] = df1['Category Name'].apply(rename_category)\n",
    "df1['Category Name'].value_counts()"
   ],
   "metadata": {
    "collapsed": false,
    "ExecuteTime": {
     "end_time": "2023-11-20T06:03:08.385936Z",
     "start_time": "2023-11-20T06:03:08.376204Z"
    }
   },
   "id": "e8123fbaed77245a"
  },
  {
   "cell_type": "code",
   "execution_count": 41,
   "outputs": [
    {
     "data": {
      "text/plain": "         Item Code                 Item Name  Loss Rate (%)\n0  102900005115168          Niushou Shengcai           4.39\n1  102900005115199         Sichuan Red Cedar          10.46\n2  102900005115250  Xixia Black Mushroom (1)          10.80\n3  102900005115625     Local Xiaomao Cabbage           0.18\n4  102900005115748              White Caitai           8.78",
      "text/html": "<div>\n<style scoped>\n    .dataframe tbody tr th:only-of-type {\n        vertical-align: middle;\n    }\n\n    .dataframe tbody tr th {\n        vertical-align: top;\n    }\n\n    .dataframe thead th {\n        text-align: right;\n    }\n</style>\n<table border=\"1\" class=\"dataframe\">\n  <thead>\n    <tr style=\"text-align: right;\">\n      <th></th>\n      <th>Item Code</th>\n      <th>Item Name</th>\n      <th>Loss Rate (%)</th>\n    </tr>\n  </thead>\n  <tbody>\n    <tr>\n      <th>0</th>\n      <td>102900005115168</td>\n      <td>Niushou Shengcai</td>\n      <td>4.39</td>\n    </tr>\n    <tr>\n      <th>1</th>\n      <td>102900005115199</td>\n      <td>Sichuan Red Cedar</td>\n      <td>10.46</td>\n    </tr>\n    <tr>\n      <th>2</th>\n      <td>102900005115250</td>\n      <td>Xixia Black Mushroom (1)</td>\n      <td>10.80</td>\n    </tr>\n    <tr>\n      <th>3</th>\n      <td>102900005115625</td>\n      <td>Local Xiaomao Cabbage</td>\n      <td>0.18</td>\n    </tr>\n    <tr>\n      <th>4</th>\n      <td>102900005115748</td>\n      <td>White Caitai</td>\n      <td>8.78</td>\n    </tr>\n  </tbody>\n</table>\n</div>"
     },
     "execution_count": 41,
     "metadata": {},
     "output_type": "execute_result"
    }
   ],
   "source": [
    "df2 = pd.read_csv('/Users/rumethsandinu/Study/Assessments/Year 2/DSGP/Datasets/annex/loss rate.csv')\n",
    "df2.head()"
   ],
   "metadata": {
    "collapsed": false,
    "ExecuteTime": {
     "end_time": "2023-11-20T06:03:08.695522Z",
     "start_time": "2023-11-20T06:03:08.682503Z"
    }
   },
   "id": "5e560fc3bd28ca8a"
  },
  {
   "cell_type": "code",
   "execution_count": 42,
   "outputs": [
    {
     "data": {
      "text/plain": "(251, 3)"
     },
     "execution_count": 42,
     "metadata": {},
     "output_type": "execute_result"
    }
   ],
   "source": [
    "df2.shape"
   ],
   "metadata": {
    "collapsed": false,
    "ExecuteTime": {
     "end_time": "2023-11-20T06:03:08.919457Z",
     "start_time": "2023-11-20T06:03:08.915382Z"
    }
   },
   "id": "8d02010e034e93"
  },
  {
   "cell_type": "code",
   "execution_count": 43,
   "outputs": [
    {
     "name": "stdout",
     "output_type": "stream",
     "text": [
      "<class 'pandas.core.frame.DataFrame'>\n",
      "RangeIndex: 251 entries, 0 to 250\n",
      "Data columns (total 3 columns):\n",
      " #   Column         Non-Null Count  Dtype  \n",
      "---  ------         --------------  -----  \n",
      " 0   Item Code      251 non-null    int64  \n",
      " 1   Item Name      251 non-null    object \n",
      " 2   Loss Rate (%)  251 non-null    float64\n",
      "dtypes: float64(1), int64(1), object(1)\n",
      "memory usage: 6.0+ KB\n"
     ]
    }
   ],
   "source": [
    "df2.info()"
   ],
   "metadata": {
    "collapsed": false,
    "ExecuteTime": {
     "end_time": "2023-11-20T06:03:09.348481Z",
     "start_time": "2023-11-20T06:03:09.264953Z"
    }
   },
   "id": "d63106315adaf430"
  },
  {
   "cell_type": "code",
   "execution_count": 44,
   "outputs": [],
   "source": [
    "df2['Item Code'] = df2['Item Code'].astype(str)"
   ],
   "metadata": {
    "collapsed": false,
    "ExecuteTime": {
     "end_time": "2023-11-20T06:03:09.348947Z",
     "start_time": "2023-11-20T06:03:09.272636Z"
    }
   },
   "id": "b0d470a4023ca542"
  },
  {
   "cell_type": "code",
   "execution_count": 45,
   "outputs": [
    {
     "data": {
      "text/plain": "Item Code        0\nItem Name        0\nLoss Rate (%)    0\ndtype: int64"
     },
     "execution_count": 45,
     "metadata": {},
     "output_type": "execute_result"
    }
   ],
   "source": [
    "df2.isnull().sum()"
   ],
   "metadata": {
    "collapsed": false,
    "ExecuteTime": {
     "end_time": "2023-11-20T06:03:09.475118Z",
     "start_time": "2023-11-20T06:03:09.463078Z"
    }
   },
   "id": "4afe23697c7e2d68"
  },
  {
   "cell_type": "code",
   "execution_count": 46,
   "outputs": [
    {
     "data": {
      "text/plain": "{'whiskers': [<matplotlib.lines.Line2D at 0x28b1eaa30>,\n  <matplotlib.lines.Line2D at 0x28b1eacd0>],\n 'caps': [<matplotlib.lines.Line2D at 0x28b1eaf70>,\n  <matplotlib.lines.Line2D at 0x28b1f7250>],\n 'boxes': [<matplotlib.lines.Line2D at 0x28b1ea790>],\n 'medians': [<matplotlib.lines.Line2D at 0x28b1f74f0>],\n 'fliers': [<matplotlib.lines.Line2D at 0x28b1f7640>],\n 'means': []}"
     },
     "execution_count": 46,
     "metadata": {},
     "output_type": "execute_result"
    },
    {
     "data": {
      "text/plain": "<Figure size 640x480 with 1 Axes>",
      "image/png": "[encoded data removed]"
     },
     "metadata": {},
     "output_type": "display_data"
    }
   ],
   "source": [
    "plt.boxplot(df2['Loss Rate (%)'])"
   ],
   "metadata": {
    "collapsed": false,
    "ExecuteTime": {
     "end_time": "2023-11-20T06:03:09.703423Z",
     "start_time": "2023-11-20T06:03:09.642372Z"
    }
   },
   "id": "40b1d22ceae2054f"
  },
  {
   "cell_type": "code",
   "execution_count": 47,
   "outputs": [
    {
     "data": {
      "text/plain": "0"
     },
     "execution_count": 47,
     "metadata": {},
     "output_type": "execute_result"
    }
   ],
   "source": [
    "(df2['Loss Rate (%)'] < 0).sum()"
   ],
   "metadata": {
    "collapsed": false,
    "ExecuteTime": {
     "end_time": "2023-11-20T06:03:09.872355Z",
     "start_time": "2023-11-20T06:03:09.836235Z"
    }
   },
   "id": "ab89fa5cf041c3f7"
  },
  {
   "cell_type": "code",
   "execution_count": 48,
   "outputs": [
    {
     "data": {
      "text/plain": "         Date          Time        Item Code  Quantity Sold (kilo)  \\\n0  2020-07-01  09:15:07.924  102900005117056                 0.396   \n1  2020-07-01  09:17:27.295  102900005115960                 0.849   \n2  2020-07-01  09:17:33.905  102900005117056                 0.409   \n3  2020-07-01  09:19:45.450  102900005115823                 0.421   \n4  2020-07-01  09:20:23.686  102900005115908                 0.539   \n\n   Unit Selling Price (RMB/kg) Sale or Return Discount (Yes/No)  \n0                          7.6           sale                No  \n1                          3.2           sale                No  \n2                          7.6           sale                No  \n3                         10.0           sale                No  \n4                          8.0           sale                No  ",
      "text/html": "<div>\n<style scoped>\n    .dataframe tbody tr th:only-of-type {\n        vertical-align: middle;\n    }\n\n    .dataframe tbody tr th {\n        vertical-align: top;\n    }\n\n    .dataframe thead th {\n        text-align: right;\n    }\n</style>\n<table border=\"1\" class=\"dataframe\">\n  <thead>\n    <tr style=\"text-align: right;\">\n      <th></th>\n      <th>Date</th>\n      <th>Time</th>\n      <th>Item Code</th>\n      <th>Quantity Sold (kilo)</th>\n      <th>Unit Selling Price (RMB/kg)</th>\n      <th>Sale or Return</th>\n      <th>Discount (Yes/No)</th>\n    </tr>\n  </thead>\n  <tbody>\n    <tr>\n      <th>0</th>\n      <td>2020-07-01</td>\n      <td>09:15:07.924</td>\n      <td>102900005117056</td>\n      <td>0.396</td>\n      <td>7.6</td>\n      <td>sale</td>\n      <td>No</td>\n    </tr>\n    <tr>\n      <th>1</th>\n      <td>2020-07-01</td>\n      <td>09:17:27.295</td>\n      <td>102900005115960</td>\n      <td>0.849</td>\n      <td>3.2</td>\n      <td>sale</td>\n      <td>No</td>\n    </tr>\n    <tr>\n      <th>2</th>\n      <td>2020-07-01</td>\n      <td>09:17:33.905</td>\n      <td>102900005117056</td>\n      <td>0.409</td>\n      <td>7.6</td>\n      <td>sale</td>\n      <td>No</td>\n    </tr>\n    <tr>\n      <th>3</th>\n      <td>2020-07-01</td>\n      <td>09:19:45.450</td>\n      <td>102900005115823</td>\n      <td>0.421</td>\n      <td>10.0</td>\n      <td>sale</td>\n      <td>No</td>\n    </tr>\n    <tr>\n      <th>4</th>\n      <td>2020-07-01</td>\n      <td>09:20:23.686</td>\n      <td>102900005115908</td>\n      <td>0.539</td>\n      <td>8.0</td>\n      <td>sale</td>\n      <td>No</td>\n    </tr>\n  </tbody>\n</table>\n</div>"
     },
     "execution_count": 48,
     "metadata": {},
     "output_type": "execute_result"
    }
   ],
   "source": [
    "df3 = pd.read_csv('/Users/rumethsandinu/Study/Assessments/Year 2/DSGP/Datasets/annex/sale.csv')\n",
    "df3.head()"
   ],
   "metadata": {
    "collapsed": false,
    "ExecuteTime": {
     "end_time": "2023-11-20T06:03:10.846518Z",
     "start_time": "2023-11-20T06:03:10.092620Z"
    }
   },
   "id": "e91032627b07ee8c"
  },
  {
   "cell_type": "code",
   "execution_count": 49,
   "outputs": [
    {
     "data": {
      "text/plain": "{'whiskers': [<matplotlib.lines.Line2D at 0x29036d160>,\n  <matplotlib.lines.Line2D at 0x29036d400>],\n 'caps': [<matplotlib.lines.Line2D at 0x29036d6a0>,\n  <matplotlib.lines.Line2D at 0x29036d940>],\n 'boxes': [<matplotlib.lines.Line2D at 0x29035de80>],\n 'medians': [<matplotlib.lines.Line2D at 0x29036dbe0>],\n 'fliers': [<matplotlib.lines.Line2D at 0x29036de80>],\n 'means': []}"
     },
     "execution_count": 49,
     "metadata": {},
     "output_type": "execute_result"
    },
    {
     "data": {
      "text/plain": "<Figure size 640x480 with 1 Axes>",
      "image/png": "[encoded data removed]"
     },
     "metadata": {},
     "output_type": "display_data"
    }
   ],
   "source": [
    "plt.boxplot(df3['Quantity Sold (kilo)'])"
   ],
   "metadata": {
    "collapsed": false,
    "ExecuteTime": {
     "end_time": "2023-11-20T06:03:10.987581Z",
     "start_time": "2023-11-20T06:03:10.855523Z"
    }
   },
   "id": "5cc71815911a8039"
  },
  {
   "cell_type": "code",
   "execution_count": 50,
   "outputs": [
    {
     "data": {
      "text/plain": "True"
     },
     "execution_count": 50,
     "metadata": {},
     "output_type": "execute_result"
    }
   ],
   "source": [
    "(df3['Quantity Sold (kilo)'] < 0).sum() == (df3['Sale or Return'] == 'return').sum()"
   ],
   "metadata": {
    "collapsed": false,
    "ExecuteTime": {
     "end_time": "2023-11-20T06:03:11.148975Z",
     "start_time": "2023-11-20T06:03:11.041349Z"
    }
   },
   "id": "2f87f005b51492fc"
  },
  {
   "cell_type": "code",
   "execution_count": 51,
   "outputs": [
    {
     "name": "stdout",
     "output_type": "stream",
     "text": [
      "<class 'pandas.core.frame.DataFrame'>\n",
      "RangeIndex: 878503 entries, 0 to 878502\n",
      "Data columns (total 7 columns):\n",
      " #   Column                       Non-Null Count   Dtype  \n",
      "---  ------                       --------------   -----  \n",
      " 0   Date                         878503 non-null  object \n",
      " 1   Time                         878503 non-null  object \n",
      " 2   Item Code                    878503 non-null  int64  \n",
      " 3   Quantity Sold (kilo)         878503 non-null  float64\n",
      " 4   Unit Selling Price (RMB/kg)  878503 non-null  float64\n",
      " 5   Sale or Return               878503 non-null  object \n",
      " 6   Discount (Yes/No)            878503 non-null  object \n",
      "dtypes: float64(2), int64(1), object(4)\n",
      "memory usage: 46.9+ MB\n"
     ]
    }
   ],
   "source": [
    "df3.info()"
   ],
   "metadata": {
    "collapsed": false,
    "ExecuteTime": {
     "end_time": "2023-11-20T06:03:11.827748Z",
     "start_time": "2023-11-20T06:03:11.735803Z"
    }
   },
   "id": "cbba1e17241ebd7e"
  },
  {
   "cell_type": "code",
   "execution_count": 52,
   "outputs": [
    {
     "data": {
      "text/plain": "(878503, 7)"
     },
     "execution_count": 52,
     "metadata": {},
     "output_type": "execute_result"
    }
   ],
   "source": [
    "df3.shape"
   ],
   "metadata": {
    "collapsed": false,
    "ExecuteTime": {
     "end_time": "2023-11-20T06:03:12.290764Z",
     "start_time": "2023-11-20T06:03:12.278965Z"
    }
   },
   "id": "2d97a3546430efc5"
  },
  {
   "cell_type": "code",
   "execution_count": 53,
   "outputs": [
    {
     "data": {
      "text/plain": "Date                           0\nTime                           0\nItem Code                      0\nQuantity Sold (kilo)           0\nUnit Selling Price (RMB/kg)    0\nSale or Return                 0\nDiscount (Yes/No)              0\ndtype: int64"
     },
     "execution_count": 53,
     "metadata": {},
     "output_type": "execute_result"
    }
   ],
   "source": [
    "df3.isnull().sum()"
   ],
   "metadata": {
    "collapsed": false,
    "ExecuteTime": {
     "end_time": "2023-11-20T06:03:13.215129Z",
     "start_time": "2023-11-20T06:03:13.111518Z"
    }
   },
   "id": "348e4de0e0520bf8"
  },
  {
   "cell_type": "code",
   "execution_count": 54,
   "outputs": [
    {
     "data": {
      "text/plain": "27452"
     },
     "execution_count": 54,
     "metadata": {},
     "output_type": "execute_result"
    }
   ],
   "source": [
    "(df3['Time'].value_counts() > 1).sum()"
   ],
   "metadata": {
    "collapsed": false,
    "ExecuteTime": {
     "end_time": "2023-11-20T06:03:13.906223Z",
     "start_time": "2023-11-20T06:03:13.825210Z"
    }
   },
   "id": "eae37bd901b99973"
  },
  {
   "cell_type": "code",
   "execution_count": 55,
   "outputs": [
    {
     "data": {
      "text/plain": "849632"
     },
     "execution_count": 55,
     "metadata": {},
     "output_type": "execute_result"
    }
   ],
   "source": [
    "df3['Time'].nunique()"
   ],
   "metadata": {
    "collapsed": false,
    "ExecuteTime": {
     "end_time": "2023-11-20T06:03:14.094093Z",
     "start_time": "2023-11-20T06:03:13.988995Z"
    }
   },
   "id": "9652bc0423fcdd08"
  },
  {
   "cell_type": "code",
   "execution_count": 56,
   "outputs": [
    {
     "data": {
      "text/plain": "19.050265640247208"
     },
     "execution_count": 56,
     "metadata": {},
     "output_type": "execute_result"
    }
   ],
   "source": [
    "def change_time_format(data):\n",
    "    return data.split('.')[0]\n",
    "\n",
    "df3['Time'] = df3['Time'].apply(change_time_format)\n",
    "np.average(df3['Time'].value_counts())"
   ],
   "metadata": {
    "collapsed": false,
    "ExecuteTime": {
     "end_time": "2023-11-20T06:03:14.595013Z",
     "start_time": "2023-11-20T06:03:14.396877Z"
    }
   },
   "id": "e4c17b8d42cccd65"
  },
  {
   "cell_type": "code",
   "execution_count": 57,
   "outputs": [
    {
     "data": {
      "text/plain": "2.9726027397260273"
     },
     "execution_count": 57,
     "metadata": {},
     "output_type": "execute_result"
    }
   ],
   "source": [
    "df3['Date'].nunique() / 365"
   ],
   "metadata": {
    "collapsed": false,
    "ExecuteTime": {
     "end_time": "2023-11-20T06:03:15.469939Z",
     "start_time": "2023-11-20T06:03:15.450981Z"
    }
   },
   "id": "acb5e86a448b7a8f"
  },
  {
   "cell_type": "code",
   "execution_count": 58,
   "outputs": [
    {
     "data": {
      "text/plain": "CustomerId\n65384.0     15\n192114.0    15\n111350.0    14\n133298.0    14\n72815.0     14\n            ..\n5328.0       1\n129917.0     1\n216831.0     1\n43210.0      1\n141243.0     1\nName: count, Length: 215568, dtype: int64"
     },
     "execution_count": 58,
     "metadata": {},
     "output_type": "execute_result"
    }
   ],
   "source": [
    "df3['CustomerId'] = np.NAN\n",
    "\n",
    "for i in range(df3.shape[0]):\n",
    "    df3['CustomerId'].values[i] = random.randint(1,df3.shape[0] // 4)\n",
    "df3['CustomerId'].value_counts()"
   ],
   "metadata": {
    "collapsed": false,
    "ExecuteTime": {
     "end_time": "2023-11-20T06:03:18.145009Z",
     "start_time": "2023-11-20T06:03:15.636622Z"
    }
   },
   "id": "ce5b93ddedf8411c"
  },
  {
   "cell_type": "code",
   "execution_count": 59,
   "outputs": [],
   "source": [
    "for i in range(df3.shape[0] - 1):\n",
    "    i += 1\n",
    "    if df3['Date'].values[i] == df3['Date'].values[i - 1] and df3['Time'].values[i] == df3['Time'].values[i - 1]:\n",
    "        df3['CustomerId'].values[i] = df3['CustomerId'].values[i - 1]"
   ],
   "metadata": {
    "collapsed": false,
    "ExecuteTime": {
     "end_time": "2023-11-20T06:03:25.138867Z",
     "start_time": "2023-11-20T06:03:18.188445Z"
    }
   },
   "id": "a921434f307c90c1"
  },
  {
   "cell_type": "code",
   "execution_count": 60,
   "outputs": [],
   "source": [
    "df3['InvoiceID'] = df3['CustomerId']"
   ],
   "metadata": {
    "collapsed": false,
    "ExecuteTime": {
     "end_time": "2023-11-20T06:03:25.149528Z",
     "start_time": "2023-11-20T06:03:25.139160Z"
    }
   },
   "id": "43498bac1a79aa7e"
  },
  {
   "cell_type": "code",
   "execution_count": null,
   "outputs": [],
   "source": [],
   "metadata": {
    "collapsed": false
   },
   "id": "f975c072d45e5960"
  },
  {
   "cell_type": "code",
   "execution_count": 65,
   "outputs": [
    {
     "data": {
      "text/plain": "212591"
     },
     "execution_count": 65,
     "metadata": {},
     "output_type": "execute_result"
    }
   ],
   "source": [
    "(df3['InvoiceID'].value_counts() > 1).count()"
   ],
   "metadata": {
    "collapsed": false,
    "ExecuteTime": {
     "end_time": "2023-11-20T06:06:12.210523Z",
     "start_time": "2023-11-20T06:06:12.197530Z"
    }
   },
   "id": "faf5679eb030795f"
  },
  {
   "cell_type": "code",
   "execution_count": 61,
   "outputs": [
    {
     "data": {
      "text/plain": "4.132362141388864"
     },
     "execution_count": 61,
     "metadata": {},
     "output_type": "execute_result"
    }
   ],
   "source": [
    "np.average(df3['InvoiceID'].value_counts())"
   ],
   "metadata": {
    "collapsed": false,
    "ExecuteTime": {
     "end_time": "2023-11-20T06:03:25.185111Z",
     "start_time": "2023-11-20T06:03:25.175423Z"
    }
   },
   "id": "90310fe1870a18a"
  },
  {
   "cell_type": "code",
   "execution_count": 31,
   "outputs": [
    {
     "data": {
      "text/plain": "Item Code\n102900011016701    69945\n102900005116714    58905\n102900005116530    47509\n102900005115779    39887\n102900005116899    39285\n                   ...  \n102900051000890        1\n102900011023075        1\n102900011009772        1\n102900011031858        1\n106973223300667        1\nName: count, Length: 246, dtype: int64"
     },
     "execution_count": 31,
     "metadata": {},
     "output_type": "execute_result"
    }
   ],
   "source": [
    "df3['Item Code'].value_counts()"
   ],
   "metadata": {
    "collapsed": false,
    "ExecuteTime": {
     "end_time": "2023-11-19T14:37:28.372409Z",
     "start_time": "2023-11-19T14:37:28.369119Z"
    }
   },
   "id": "315339c59cf08da1"
  },
  {
   "cell_type": "code",
   "execution_count": 32,
   "outputs": [
    {
     "data": {
      "text/plain": "{'whiskers': [<matplotlib.lines.Line2D at 0x16cd63fd0>,\n  <matplotlib.lines.Line2D at 0x16cd722b0>],\n 'caps': [<matplotlib.lines.Line2D at 0x16cd72550>,\n  <matplotlib.lines.Line2D at 0x16cd72790>],\n 'boxes': [<matplotlib.lines.Line2D at 0x16cd63d30>],\n 'medians': [<matplotlib.lines.Line2D at 0x16cd729d0>],\n 'fliers': [<matplotlib.lines.Line2D at 0x16cd72c70>],\n 'means': []}"
     },
     "execution_count": 32,
     "metadata": {},
     "output_type": "execute_result"
    },
    {
     "data": {
      "text/plain": "<Figure size 640x480 with 1 Axes>",
      "image/png": "[encoded data removed]"
     },
     "metadata": {},
     "output_type": "display_data"
    }
   ],
   "source": [
    "plt.boxplot(df3['Item Code'].value_counts())"
   ],
   "metadata": {
    "collapsed": false,
    "ExecuteTime": {
     "end_time": "2023-11-19T14:37:28.436206Z",
     "start_time": "2023-11-19T14:37:28.382762Z"
    }
   },
   "id": "fd9626e0d5683959"
  },
  {
   "cell_type": "code",
   "execution_count": 33,
   "outputs": [
    {
     "data": {
      "text/plain": "present\nTrue    246\nName: count, dtype: int64"
     },
     "execution_count": 33,
     "metadata": {},
     "output_type": "execute_result"
    }
   ],
   "source": [
    "data = {'present': [False] * df3['Item Code'].unique().shape[0]}\n",
    "present = pd.DataFrame(data)\n",
    "\n",
    "for i in range(df3['Item Code'].unique().shape[0]):\n",
    "    for j in range(df1['Item Code'].shape[0]):\n",
    "        if df3['Item Code'].values[i] == int(df1['Item Code'].values[j]):\n",
    "            present.at[i, 'present'] = True\n",
    "            break\n",
    "            \n",
    "present['present'].value_counts()"
   ],
   "metadata": {
    "collapsed": false,
    "ExecuteTime": {
     "end_time": "2023-11-19T14:37:28.529366Z",
     "start_time": "2023-11-19T14:37:28.435001Z"
    }
   },
   "id": "2d1ecfede796df63"
  },
  {
   "cell_type": "code",
   "execution_count": 34,
   "outputs": [
    {
     "data": {
      "text/plain": "{'whiskers': [<matplotlib.lines.Line2D at 0x16cd26220>,\n  <matplotlib.lines.Line2D at 0x16cde0970>],\n 'caps': [<matplotlib.lines.Line2D at 0x16cde0c10>,\n  <matplotlib.lines.Line2D at 0x16cde0eb0>],\n 'boxes': [<matplotlib.lines.Line2D at 0x16cd93160>],\n 'medians': [<matplotlib.lines.Line2D at 0x16cdf7190>],\n 'fliers': [<matplotlib.lines.Line2D at 0x16cdf7430>],\n 'means': []}"
     },
     "execution_count": 34,
     "metadata": {},
     "output_type": "execute_result"
    },
    {
     "data": {
      "text/plain": "<Figure size 640x480 with 1 Axes>",
      "image/png": "[encoded data removed]"
     },
     "metadata": {},
     "output_type": "display_data"
    }
   ],
   "source": [
    "plt.boxplot(df3['Quantity Sold (kilo)'])"
   ],
   "metadata": {
    "collapsed": false,
    "ExecuteTime": {
     "end_time": "2023-11-19T14:37:28.615113Z",
     "start_time": "2023-11-19T14:37:28.533062Z"
    }
   },
   "id": "7ce8aae532feca7a"
  },
  {
   "cell_type": "code",
   "execution_count": 35,
   "outputs": [
    {
     "data": {
      "text/plain": "1"
     },
     "execution_count": 35,
     "metadata": {},
     "output_type": "execute_result"
    }
   ],
   "source": [
    "(df3['Quantity Sold (kilo)'] > 75).sum()"
   ],
   "metadata": {
    "collapsed": false,
    "ExecuteTime": {
     "end_time": "2023-11-19T14:37:28.621171Z",
     "start_time": "2023-11-19T14:37:28.613404Z"
    }
   },
   "id": "71b76a0ccfea3102"
  },
  {
   "cell_type": "code",
   "execution_count": 36,
   "outputs": [],
   "source": [
    "df3 = df3[~(df3['Quantity Sold (kilo)'] > 75)]"
   ],
   "metadata": {
    "collapsed": false,
    "ExecuteTime": {
     "end_time": "2023-11-19T14:37:28.682017Z",
     "start_time": "2023-11-19T14:37:28.621547Z"
    }
   },
   "id": "8f20dda894941d5"
  },
  {
   "cell_type": "code",
   "execution_count": 37,
   "outputs": [
    {
     "data": {
      "text/plain": "True"
     },
     "execution_count": 37,
     "metadata": {},
     "output_type": "execute_result"
    }
   ],
   "source": [
    "((df3['Quantity Sold (kilo)'] < 0).sum()) == ((df3['Sale or Return'] == 'return').sum())"
   ],
   "metadata": {
    "collapsed": false,
    "ExecuteTime": {
     "end_time": "2023-11-19T14:37:28.706695Z",
     "start_time": "2023-11-19T14:37:28.666961Z"
    }
   },
   "id": "e186dca3ff3a2bf0"
  },
  {
   "cell_type": "code",
   "execution_count": 38,
   "outputs": [
    {
     "data": {
      "text/plain": "{'whiskers': [<matplotlib.lines.Line2D at 0x16ce586a0>,\n  <matplotlib.lines.Line2D at 0x16ce58940>],\n 'caps': [<matplotlib.lines.Line2D at 0x16ce58be0>,\n  <matplotlib.lines.Line2D at 0x16ce58e80>],\n 'boxes': [<matplotlib.lines.Line2D at 0x16ce58520>],\n 'medians': [<matplotlib.lines.Line2D at 0x16ce6a160>],\n 'fliers': [<matplotlib.lines.Line2D at 0x16ce6a400>],\n 'means': []}"
     },
     "execution_count": 38,
     "metadata": {},
     "output_type": "execute_result"
    },
    {
     "data": {
      "text/plain": "<Figure size 640x480 with 1 Axes>",
      "image/png": "[encoded data removed]"
     },
     "metadata": {},
     "output_type": "display_data"
    }
   ],
   "source": [
    "plt.boxplot(df3['Unit Selling Price (RMB/kg)'])"
   ],
   "metadata": {
    "collapsed": false,
    "ExecuteTime": {
     "end_time": "2023-11-19T14:37:28.823480Z",
     "start_time": "2023-11-19T14:37:28.706239Z"
    }
   },
   "id": "e0c761b8000d54b7"
  },
  {
   "cell_type": "code",
   "execution_count": 39,
   "outputs": [
    {
     "data": {
      "text/plain": "         Date      Time        Item Code  Quantity Sold (kilo)  \\\n0  2020-07-01  09:15:07  102900005117056                 0.396   \n1  2020-07-01  09:17:27  102900005115960                 0.849   \n2  2020-07-01  09:17:33  102900005117056                 0.409   \n3  2020-07-01  09:19:45  102900005115823                 0.421   \n4  2020-07-01  09:20:23  102900005115908                 0.539   \n\n   Unit Selling Price (RMB/kg) Sale or Return Discount (Yes/No)  CustomerId  \n0                          7.6           sale                No    462465.0  \n1                          3.2           sale                No    412943.0  \n2                          7.6           sale                No    528592.0  \n3                         10.0           sale                No    827685.0  \n4                          8.0           sale                No    159829.0  ",
      "text/html": "<div>\n<style scoped>\n    .dataframe tbody tr th:only-of-type {\n        vertical-align: middle;\n    }\n\n    .dataframe tbody tr th {\n        vertical-align: top;\n    }\n\n    .dataframe thead th {\n        text-align: right;\n    }\n</style>\n<table border=\"1\" class=\"dataframe\">\n  <thead>\n    <tr style=\"text-align: right;\">\n      <th></th>\n      <th>Date</th>\n      <th>Time</th>\n      <th>Item Code</th>\n      <th>Quantity Sold (kilo)</th>\n      <th>Unit Selling Price (RMB/kg)</th>\n      <th>Sale or Return</th>\n      <th>Discount (Yes/No)</th>\n      <th>CustomerId</th>\n    </tr>\n  </thead>\n  <tbody>\n    <tr>\n      <th>0</th>\n      <td>2020-07-01</td>\n      <td>09:15:07</td>\n      <td>102900005117056</td>\n      <td>0.396</td>\n      <td>7.6</td>\n      <td>sale</td>\n      <td>No</td>\n      <td>462465.0</td>\n    </tr>\n    <tr>\n      <th>1</th>\n      <td>2020-07-01</td>\n      <td>09:17:27</td>\n      <td>102900005115960</td>\n      <td>0.849</td>\n      <td>3.2</td>\n      <td>sale</td>\n      <td>No</td>\n      <td>412943.0</td>\n    </tr>\n    <tr>\n      <th>2</th>\n      <td>2020-07-01</td>\n      <td>09:17:33</td>\n      <td>102900005117056</td>\n      <td>0.409</td>\n      <td>7.6</td>\n      <td>sale</td>\n      <td>No</td>\n      <td>528592.0</td>\n    </tr>\n    <tr>\n      <th>3</th>\n      <td>2020-07-01</td>\n      <td>09:19:45</td>\n      <td>102900005115823</td>\n      <td>0.421</td>\n      <td>10.0</td>\n      <td>sale</td>\n      <td>No</td>\n      <td>827685.0</td>\n    </tr>\n    <tr>\n      <th>4</th>\n      <td>2020-07-01</td>\n      <td>09:20:23</td>\n      <td>102900005115908</td>\n      <td>0.539</td>\n      <td>8.0</td>\n      <td>sale</td>\n      <td>No</td>\n      <td>159829.0</td>\n    </tr>\n  </tbody>\n</table>\n</div>"
     },
     "execution_count": 39,
     "metadata": {},
     "output_type": "execute_result"
    }
   ],
   "source": [
    "df3.head()"
   ],
   "metadata": {
    "collapsed": false,
    "ExecuteTime": {
     "end_time": "2023-11-19T14:37:28.829412Z",
     "start_time": "2023-11-19T14:37:28.824074Z"
    }
   },
   "id": "1d51bd339a4b89c2"
  },
  {
   "cell_type": "code",
   "execution_count": 40,
   "outputs": [
    {
     "data": {
      "text/plain": "              Date      Time        Item Code Quantity Sold (kilo)  \\\n438435  2021-10-10  12:43:16  106949711300167                  1.0   \n197601  2021-01-14  11:26:14  102900005125808                 0.15   \n138158  2020-11-09  16:24:41  102900005122654                0.602   \n719422  2022-11-19  18:40:56  102900005115977                0.138   \n348057  2021-07-02  09:40:13  102900005116219                0.439   \n\n       Unit Selling Price (RMB/kg) Sale or Return Discount (Yes/No) CustomerId  \n438435                         2.9           sale                No   592043.0  \n197601                        69.8           sale                No   714545.0  \n138158                         8.0           sale                No   434301.0  \n719422                        16.0           sale                No   418706.0  \n348057                         8.0           sale                No   591199.0  ",
      "text/html": "<div>\n<style scoped>\n    .dataframe tbody tr th:only-of-type {\n        vertical-align: middle;\n    }\n\n    .dataframe tbody tr th {\n        vertical-align: top;\n    }\n\n    .dataframe thead th {\n        text-align: right;\n    }\n</style>\n<table border=\"1\" class=\"dataframe\">\n  <thead>\n    <tr style=\"text-align: right;\">\n      <th></th>\n      <th>Date</th>\n      <th>Time</th>\n      <th>Item Code</th>\n      <th>Quantity Sold (kilo)</th>\n      <th>Unit Selling Price (RMB/kg)</th>\n      <th>Sale or Return</th>\n      <th>Discount (Yes/No)</th>\n      <th>CustomerId</th>\n    </tr>\n  </thead>\n  <tbody>\n    <tr>\n      <th>438435</th>\n      <td>2021-10-10</td>\n      <td>12:43:16</td>\n      <td>106949711300167</td>\n      <td>1.0</td>\n      <td>2.9</td>\n      <td>sale</td>\n      <td>No</td>\n      <td>592043.0</td>\n    </tr>\n    <tr>\n      <th>197601</th>\n      <td>2021-01-14</td>\n      <td>11:26:14</td>\n      <td>102900005125808</td>\n      <td>0.15</td>\n      <td>69.8</td>\n      <td>sale</td>\n      <td>No</td>\n      <td>714545.0</td>\n    </tr>\n    <tr>\n      <th>138158</th>\n      <td>2020-11-09</td>\n      <td>16:24:41</td>\n      <td>102900005122654</td>\n      <td>0.602</td>\n      <td>8.0</td>\n      <td>sale</td>\n      <td>No</td>\n      <td>434301.0</td>\n    </tr>\n    <tr>\n      <th>719422</th>\n      <td>2022-11-19</td>\n      <td>18:40:56</td>\n      <td>102900005115977</td>\n      <td>0.138</td>\n      <td>16.0</td>\n      <td>sale</td>\n      <td>No</td>\n      <td>418706.0</td>\n    </tr>\n    <tr>\n      <th>348057</th>\n      <td>2021-07-02</td>\n      <td>09:40:13</td>\n      <td>102900005116219</td>\n      <td>0.439</td>\n      <td>8.0</td>\n      <td>sale</td>\n      <td>No</td>\n      <td>591199.0</td>\n    </tr>\n  </tbody>\n</table>\n</div>"
     },
     "execution_count": 40,
     "metadata": {},
     "output_type": "execute_result"
    }
   ],
   "source": [
    "dff = df3.copy()\n",
    "dff['Item Code'] = dff['Item Code'].astype(str)\n",
    "dff['Quantity Sold (kilo)'] = dff['Quantity Sold (kilo)'].astype(str)\n",
    "dff['Unit Selling Price (RMB/kg)'] = dff['Unit Selling Price (RMB/kg)'].astype(str)\n",
    "dff['InvoiceID'] = dff['InvoiceID'].astype(str)\n",
    "dff.sample(5)"
   ],
   "metadata": {
    "collapsed": false,
    "ExecuteTime": {
     "end_time": "2023-11-19T14:37:29.765153Z",
     "start_time": "2023-11-19T14:37:28.829127Z"
    }
   },
   "id": "70e418d00022cc43"
  },
  {
   "cell_type": "code",
   "execution_count": 41,
   "outputs": [
    {
     "name": "stdout",
     "output_type": "stream",
     "text": [
      "<class 'pandas.core.frame.DataFrame'>\n",
      "Index: 878502 entries, 0 to 878502\n",
      "Data columns (total 8 columns):\n",
      " #   Column                       Non-Null Count   Dtype \n",
      "---  ------                       --------------   ----- \n",
      " 0   Date                         878502 non-null  object\n",
      " 1   Time                         878502 non-null  object\n",
      " 2   Item Code                    878502 non-null  object\n",
      " 3   Quantity Sold (kilo)         878502 non-null  object\n",
      " 4   Unit Selling Price (RMB/kg)  878502 non-null  object\n",
      " 5   Sale or Return               878502 non-null  object\n",
      " 6   Discount (Yes/No)            878502 non-null  object\n",
      " 7   CustomerId                   878502 non-null  object\n",
      "dtypes: object(8)\n",
      "memory usage: 60.3+ MB\n"
     ]
    }
   ],
   "source": [
    "dff.info()"
   ],
   "metadata": {
    "collapsed": false,
    "ExecuteTime": {
     "end_time": "2023-11-19T14:37:29.924461Z",
     "start_time": "2023-11-19T14:37:29.917234Z"
    }
   },
   "id": "a104c4c2758988a6"
  },
  {
   "cell_type": "code",
   "execution_count": 42,
   "outputs": [
    {
     "name": "stdout",
     "output_type": "stream",
     "text": [
      "<class 'pandas.core.frame.DataFrame'>\n",
      "RangeIndex: 251 entries, 0 to 250\n",
      "Data columns (total 3 columns):\n",
      " #   Column         Non-Null Count  Dtype \n",
      "---  ------         --------------  ----- \n",
      " 0   Item Code      251 non-null    object\n",
      " 1   Item Name      251 non-null    object\n",
      " 2   Loss Rate (%)  251 non-null    object\n",
      "dtypes: object(3)\n",
      "memory usage: 6.0+ KB\n"
     ]
    }
   ],
   "source": [
    "df2['Loss Rate (%)'] = df2['Loss Rate (%)'].astype(str)\n",
    "df2.info()"
   ],
   "metadata": {
    "collapsed": false,
    "ExecuteTime": {
     "end_time": "2023-11-19T14:37:29.929242Z",
     "start_time": "2023-11-19T14:37:29.926049Z"
    }
   },
   "id": "436c1fe0df0346d"
  },
  {
   "cell_type": "code",
   "execution_count": 43,
   "outputs": [
    {
     "name": "stdout",
     "output_type": "stream",
     "text": [
      "<class 'pandas.core.frame.DataFrame'>\n",
      "RangeIndex: 251 entries, 0 to 250\n",
      "Data columns (total 4 columns):\n",
      " #   Column         Non-Null Count  Dtype \n",
      "---  ------         --------------  ----- \n",
      " 0   Item Code      251 non-null    object\n",
      " 1   Item Name      251 non-null    object\n",
      " 2   Category Code  251 non-null    int64 \n",
      " 3   Category Name  251 non-null    object\n",
      "dtypes: int64(1), object(3)\n",
      "memory usage: 8.0+ KB\n"
     ]
    }
   ],
   "source": [
    "df1.info()"
   ],
   "metadata": {
    "collapsed": false,
    "ExecuteTime": {
     "end_time": "2023-11-19T14:37:29.932551Z",
     "start_time": "2023-11-19T14:37:29.929885Z"
    }
   },
   "id": "1d07b7b8216a551e"
  },
  {
   "cell_type": "code",
   "execution_count": 44,
   "outputs": [
    {
     "data": {
      "text/plain": "(878502, 8)"
     },
     "execution_count": 44,
     "metadata": {},
     "output_type": "execute_result"
    }
   ],
   "source": [
    "dff.shape"
   ],
   "metadata": {
    "collapsed": false,
    "ExecuteTime": {
     "end_time": "2023-11-19T14:37:29.935023Z",
     "start_time": "2023-11-19T14:37:29.932455Z"
    }
   },
   "id": "8f39a672410818fe"
  },
  {
   "cell_type": "code",
   "execution_count": 45,
   "outputs": [
    {
     "name": "stderr",
     "output_type": "stream",
     "text": [
      "/var/folders/qv/2cgrx72x07s_x1_dr8tbjgxw0000gn/T/ipykernel_6745/3348089552.py:4: FutureWarning: Setting an item of incompatible dtype is deprecated and will raise in a future error of pandas. Value 'Paopaojiao (Jingpin)' has dtype incompatible with float64, please explicitly cast to a compatible dtype first.\n",
      "  dff.at[i, 'Item Name'] = df1['Item Name'].values[j]\n",
      "/var/folders/qv/2cgrx72x07s_x1_dr8tbjgxw0000gn/T/ipykernel_6745/3348089552.py:5: FutureWarning: Setting an item of incompatible dtype is deprecated and will raise in a future error of pandas. Value 'Capsicum' has dtype incompatible with float64, please explicitly cast to a compatible dtype first.\n",
      "  dff.at[i, 'Category Name'] = df1['Category Name'].values[j]\n"
     ]
    },
    {
     "data": {
      "text/plain": "              Date      Time        Item Code Quantity Sold (kilo)  \\\n279730  2021-04-07  10:11:28  102900005118831                  1.0   \n622756  2022-08-05  10:56:52  102900011016701                 0.48   \n846909  2023-05-09  19:27:27  102900005116257                0.214   \n137508  2020-11-08  17:52:14  102900011009970                0.503   \n750286  2023-01-02  17:02:56  102900011033906                1.026   \n\n       Unit Selling Price (RMB/kg) Sale or Return Discount (Yes/No)  \\\n279730                         5.9           sale                No   \n622756                         4.0           sale                No   \n846909                         8.0           sale                No   \n137508                         4.0           sale                No   \n750286                         1.6           sale                No   \n\n       CustomerId           Item Name    Category Name  \n279730   633109.0             Wawacai           Flower  \n622756   371889.0            Broccoli          Cabbage  \n846909   629816.0  Cabbage Stem (Bag)           Flower  \n137508    14322.0      Qinggengsanhua          Cabbage  \n750286   718284.0  Xixia Mushroom (1)  Edible Mushroom  ",
      "text/html": "<div>\n<style scoped>\n    .dataframe tbody tr th:only-of-type {\n        vertical-align: middle;\n    }\n\n    .dataframe tbody tr th {\n        vertical-align: top;\n    }\n\n    .dataframe thead th {\n        text-align: right;\n    }\n</style>\n<table border=\"1\" class=\"dataframe\">\n  <thead>\n    <tr style=\"text-align: right;\">\n      <th></th>\n      <th>Date</th>\n      <th>Time</th>\n      <th>Item Code</th>\n      <th>Quantity Sold (kilo)</th>\n      <th>Unit Selling Price (RMB/kg)</th>\n      <th>Sale or Return</th>\n      <th>Discount (Yes/No)</th>\n      <th>CustomerId</th>\n      <th>Item Name</th>\n      <th>Category Name</th>\n    </tr>\n  </thead>\n  <tbody>\n    <tr>\n      <th>279730</th>\n      <td>2021-04-07</td>\n      <td>10:11:28</td>\n      <td>102900005118831</td>\n      <td>1.0</td>\n      <td>5.9</td>\n      <td>sale</td>\n      <td>No</td>\n      <td>633109.0</td>\n      <td>Wawacai</td>\n      <td>Flower</td>\n    </tr>\n    <tr>\n      <th>622756</th>\n      <td>2022-08-05</td>\n      <td>10:56:52</td>\n      <td>102900011016701</td>\n      <td>0.48</td>\n      <td>4.0</td>\n      <td>sale</td>\n      <td>No</td>\n      <td>371889.0</td>\n      <td>Broccoli</td>\n      <td>Cabbage</td>\n    </tr>\n    <tr>\n      <th>846909</th>\n      <td>2023-05-09</td>\n      <td>19:27:27</td>\n      <td>102900005116257</td>\n      <td>0.214</td>\n      <td>8.0</td>\n      <td>sale</td>\n      <td>No</td>\n      <td>629816.0</td>\n      <td>Cabbage Stem (Bag)</td>\n      <td>Flower</td>\n    </tr>\n    <tr>\n      <th>137508</th>\n      <td>2020-11-08</td>\n      <td>17:52:14</td>\n      <td>102900011009970</td>\n      <td>0.503</td>\n      <td>4.0</td>\n      <td>sale</td>\n      <td>No</td>\n      <td>14322.0</td>\n      <td>Qinggengsanhua</td>\n      <td>Cabbage</td>\n    </tr>\n    <tr>\n      <th>750286</th>\n      <td>2023-01-02</td>\n      <td>17:02:56</td>\n      <td>102900011033906</td>\n      <td>1.026</td>\n      <td>1.6</td>\n      <td>sale</td>\n      <td>No</td>\n      <td>718284.0</td>\n      <td>Xixia Mushroom (1)</td>\n      <td>Edible Mushroom</td>\n    </tr>\n  </tbody>\n</table>\n</div>"
     },
     "execution_count": 45,
     "metadata": {},
     "output_type": "execute_result"
    }
   ],
   "source": [
    "for i in range(dff.shape[0]):\n",
    "    for j in range(df1.shape[0]):\n",
    "        if dff['Item Code'].values[i] == df1['Item Code'].values[j]:\n",
    "            dff.at[i, 'Item Name'] = df1['Item Name'].values[j]\n",
    "            dff.at[i, 'Category Name'] = df1['Category Name'].values[j]\n",
    "            break\n",
    "dff.sample(5)"
   ],
   "metadata": {
    "collapsed": false,
    "ExecuteTime": {
     "end_time": "2023-11-19T14:43:10.510540Z",
     "start_time": "2023-11-19T14:37:29.936181Z"
    }
   },
   "id": "f7fb01539b2247e3"
  },
  {
   "cell_type": "code",
   "execution_count": 46,
   "outputs": [
    {
     "name": "stderr",
     "output_type": "stream",
     "text": [
      "/var/folders/qv/2cgrx72x07s_x1_dr8tbjgxw0000gn/T/ipykernel_6745/2070982995.py:4: FutureWarning: Setting an item of incompatible dtype is deprecated and will raise in a future error of pandas. Value '7.08' has dtype incompatible with float64, please explicitly cast to a compatible dtype first.\n",
      "  dff.at[i, 'Loss Rate'] = df2['Loss Rate (%)'].values[j]\n"
     ]
    },
    {
     "data": {
      "text/plain": "              Date      Time        Item Code Quantity Sold (kilo)  \\\n380278  2021-08-06  18:55:10  102900005115779                0.188   \n752038  2023-01-05  14:00:57  102900005118831                  1.0   \n549026  2022-04-13  16:12:54  102900005115762                0.357   \n637773  2022-08-18  20:41:51  102900005116714                0.431   \n860315  2023-05-31  10:58:43  102900005115786                0.352   \n\n       Unit Selling Price (RMB/kg) Sale or Return Discount (Yes/No)  \\\n380278                         8.0           sale                No   \n752038                         3.5           sale                No   \n549026                         2.0           sale                No   \n637773                         7.0           sale                No   \n860315                         6.0           sale                No   \n\n       CustomerId                              Item Name  \\\n380278   124109.0                        Yunnan Shengcai   \n752038   445265.0                         High Melon (2)   \n549026   310395.0                               Amaranth   \n637773   215021.0                    Needle Mushroom (2)   \n860315   365652.0  Ginger And Xiaomijiao Mix (Small Bag)   \n\n                      Category Name Loss Rate  \n380278                       Flower     15.25  \n752038  Aquatic Tuberous Vegetables      9.43  \n549026                       Flower     18.52  \n637773              Edible Mushroom      9.43  \n860315                     Capsicum      9.43  ",
      "text/html": "<div>\n<style scoped>\n    .dataframe tbody tr th:only-of-type {\n        vertical-align: middle;\n    }\n\n    .dataframe tbody tr th {\n        vertical-align: top;\n    }\n\n    .dataframe thead th {\n        text-align: right;\n    }\n</style>\n<table border=\"1\" class=\"dataframe\">\n  <thead>\n    <tr style=\"text-align: right;\">\n      <th></th>\n      <th>Date</th>\n      <th>Time</th>\n      <th>Item Code</th>\n      <th>Quantity Sold (kilo)</th>\n      <th>Unit Selling Price (RMB/kg)</th>\n      <th>Sale or Return</th>\n      <th>Discount (Yes/No)</th>\n      <th>CustomerId</th>\n      <th>Item Name</th>\n      <th>Category Name</th>\n      <th>Loss Rate</th>\n    </tr>\n  </thead>\n  <tbody>\n    <tr>\n      <th>380278</th>\n      <td>2021-08-06</td>\n      <td>18:55:10</td>\n      <td>102900005115779</td>\n      <td>0.188</td>\n      <td>8.0</td>\n      <td>sale</td>\n      <td>No</td>\n      <td>124109.0</td>\n      <td>Yunnan Shengcai</td>\n      <td>Flower</td>\n      <td>15.25</td>\n    </tr>\n    <tr>\n      <th>752038</th>\n      <td>2023-01-05</td>\n      <td>14:00:57</td>\n      <td>102900005118831</td>\n      <td>1.0</td>\n      <td>3.5</td>\n      <td>sale</td>\n      <td>No</td>\n      <td>445265.0</td>\n      <td>High Melon (2)</td>\n      <td>Aquatic Tuberous Vegetables</td>\n      <td>9.43</td>\n    </tr>\n    <tr>\n      <th>549026</th>\n      <td>2022-04-13</td>\n      <td>16:12:54</td>\n      <td>102900005115762</td>\n      <td>0.357</td>\n      <td>2.0</td>\n      <td>sale</td>\n      <td>No</td>\n      <td>310395.0</td>\n      <td>Amaranth</td>\n      <td>Flower</td>\n      <td>18.52</td>\n    </tr>\n    <tr>\n      <th>637773</th>\n      <td>2022-08-18</td>\n      <td>20:41:51</td>\n      <td>102900005116714</td>\n      <td>0.431</td>\n      <td>7.0</td>\n      <td>sale</td>\n      <td>No</td>\n      <td>215021.0</td>\n      <td>Needle Mushroom (2)</td>\n      <td>Edible Mushroom</td>\n      <td>9.43</td>\n    </tr>\n    <tr>\n      <th>860315</th>\n      <td>2023-05-31</td>\n      <td>10:58:43</td>\n      <td>102900005115786</td>\n      <td>0.352</td>\n      <td>6.0</td>\n      <td>sale</td>\n      <td>No</td>\n      <td>365652.0</td>\n      <td>Ginger And Xiaomijiao Mix (Small Bag)</td>\n      <td>Capsicum</td>\n      <td>9.43</td>\n    </tr>\n  </tbody>\n</table>\n</div>"
     },
     "execution_count": 46,
     "metadata": {},
     "output_type": "execute_result"
    }
   ],
   "source": [
    "for i in range(dff.shape[0]):\n",
    "    for j in range(df2.shape[0]):\n",
    "        if dff['Item Code'].values[i] == df2['Item Code'].values[j]:\n",
    "            dff.at[i, 'Loss Rate'] = df2['Loss Rate (%)'].values[j]\n",
    "            break\n",
    "dff.sample(5)"
   ],
   "metadata": {
    "collapsed": false,
    "ExecuteTime": {
     "end_time": "2023-11-19T14:47:10.402640Z",
     "start_time": "2023-11-19T14:43:10.493309Z"
    }
   },
   "id": "aa613c5388232cc4"
  },
  {
   "cell_type": "code",
   "execution_count": 47,
   "outputs": [
    {
     "data": {
      "text/plain": "Date                           1\nTime                           1\nItem Code                      1\nQuantity Sold (kilo)           1\nUnit Selling Price (RMB/kg)    1\nSale or Return                 1\nDiscount (Yes/No)              1\nCustomerId                     1\nItem Name                      1\nCategory Name                  1\nLoss Rate                      1\ndtype: int64"
     },
     "execution_count": 47,
     "metadata": {},
     "output_type": "execute_result"
    }
   ],
   "source": [
    "dff.isnull().sum()"
   ],
   "metadata": {
    "collapsed": false,
    "ExecuteTime": {
     "end_time": "2023-11-19T14:47:10.796340Z",
     "start_time": "2023-11-19T14:47:10.398282Z"
    }
   },
   "id": "90d28e83f455d9ca"
  },
  {
   "cell_type": "code",
   "execution_count": 48,
   "outputs": [
    {
     "data": {
      "text/plain": "              Date      Time        Item Code Quantity Sold (kilo)  \\\n53787   2020-08-18  14:44:03  102900005115762                0.482   \n351408  2021-07-05  16:27:07  102900051000463                0.401   \n688101  2022-10-15  11:42:09  106949711300259                  1.0   \n65593   2020-08-28  15:13:13  102900011009970                0.414   \n811395  2023-03-18  11:39:27  102900011034026                0.411   \n\n       Unit Selling Price (RMB/kg) Sale or Return Discount (Yes/No)  \\\n53787                          5.0           sale                No   \n351408                         6.0           sale                No   \n688101                         3.5           sale                No   \n65593                          8.0           sale                No   \n811395                         8.8           sale                No   \n\n       CustomerId           Item Name Category Name Loss Rate  \n53787    150081.0            Amaranth        Flower     18.52  \n351408   854766.0  Round Eggplant (2)       Solanum      6.71  \n688101    43570.0  Cabbage Stem (Bag)        Flower      9.43  \n65593    235122.0      Qinggengsanhua       Cabbage     17.06  \n811395   349488.0  Green Eggplant (1)       Solanum      5.01  ",
      "text/html": "<div>\n<style scoped>\n    .dataframe tbody tr th:only-of-type {\n        vertical-align: middle;\n    }\n\n    .dataframe tbody tr th {\n        vertical-align: top;\n    }\n\n    .dataframe thead th {\n        text-align: right;\n    }\n</style>\n<table border=\"1\" class=\"dataframe\">\n  <thead>\n    <tr style=\"text-align: right;\">\n      <th></th>\n      <th>Date</th>\n      <th>Time</th>\n      <th>Item Code</th>\n      <th>Quantity Sold (kilo)</th>\n      <th>Unit Selling Price (RMB/kg)</th>\n      <th>Sale or Return</th>\n      <th>Discount (Yes/No)</th>\n      <th>CustomerId</th>\n      <th>Item Name</th>\n      <th>Category Name</th>\n      <th>Loss Rate</th>\n    </tr>\n  </thead>\n  <tbody>\n    <tr>\n      <th>53787</th>\n      <td>2020-08-18</td>\n      <td>14:44:03</td>\n      <td>102900005115762</td>\n      <td>0.482</td>\n      <td>5.0</td>\n      <td>sale</td>\n      <td>No</td>\n      <td>150081.0</td>\n      <td>Amaranth</td>\n      <td>Flower</td>\n      <td>18.52</td>\n    </tr>\n    <tr>\n      <th>351408</th>\n      <td>2021-07-05</td>\n      <td>16:27:07</td>\n      <td>102900051000463</td>\n      <td>0.401</td>\n      <td>6.0</td>\n      <td>sale</td>\n      <td>No</td>\n      <td>854766.0</td>\n      <td>Round Eggplant (2)</td>\n      <td>Solanum</td>\n      <td>6.71</td>\n    </tr>\n    <tr>\n      <th>688101</th>\n      <td>2022-10-15</td>\n      <td>11:42:09</td>\n      <td>106949711300259</td>\n      <td>1.0</td>\n      <td>3.5</td>\n      <td>sale</td>\n      <td>No</td>\n      <td>43570.0</td>\n      <td>Cabbage Stem (Bag)</td>\n      <td>Flower</td>\n      <td>9.43</td>\n    </tr>\n    <tr>\n      <th>65593</th>\n      <td>2020-08-28</td>\n      <td>15:13:13</td>\n      <td>102900011009970</td>\n      <td>0.414</td>\n      <td>8.0</td>\n      <td>sale</td>\n      <td>No</td>\n      <td>235122.0</td>\n      <td>Qinggengsanhua</td>\n      <td>Cabbage</td>\n      <td>17.06</td>\n    </tr>\n    <tr>\n      <th>811395</th>\n      <td>2023-03-18</td>\n      <td>11:39:27</td>\n      <td>102900011034026</td>\n      <td>0.411</td>\n      <td>8.8</td>\n      <td>sale</td>\n      <td>No</td>\n      <td>349488.0</td>\n      <td>Green Eggplant (1)</td>\n      <td>Solanum</td>\n      <td>5.01</td>\n    </tr>\n  </tbody>\n</table>\n</div>"
     },
     "execution_count": 48,
     "metadata": {},
     "output_type": "execute_result"
    }
   ],
   "source": [
    "dff = dff.dropna()\n",
    "dff.sample(5)"
   ],
   "metadata": {
    "collapsed": false,
    "ExecuteTime": {
     "end_time": "2023-11-19T14:47:11.060667Z",
     "start_time": "2023-11-19T14:47:10.943470Z"
    }
   },
   "id": "15c7dba4132f1306"
  },
  {
   "cell_type": "code",
   "execution_count": 49,
   "outputs": [],
   "source": [
    "dff['Date'] = pd.to_datetime(dff['Date'])\n",
    "dff['Time'] = pd.to_timedelta(dff['Time'])\n",
    "\n",
    "\n",
    "dff['Year'] = dff['Date'].dt.year\n",
    "dff['Month'] = dff['Date'].dt.month\n",
    "dff['Day'] = dff['Date'].dt.day\n",
    "dff['Hour'] = dff['Time'].dt.components['hours']\n",
    "dff['Minute'] = dff['Time'].dt.components['minutes']\n",
    "dff['Second'] = dff['Time'].dt.components['seconds']\n",
    "\n",
    "dff = dff.drop(['Date', 'Time'], axis = 1)"
   ],
   "metadata": {
    "collapsed": false,
    "ExecuteTime": {
     "end_time": "2023-11-19T14:47:19.455329Z",
     "start_time": "2023-11-19T14:47:11.083316Z"
    }
   },
   "id": "6b0b2a52b20861d6"
  },
  {
   "cell_type": "code",
   "execution_count": 51,
   "outputs": [],
   "source": [
    "dff['Quantity Sold (kilo)'] = dff['Quantity Sold (kilo)'].astype(float) * 1000\n",
    "dff['Unit Selling Price (RMB/kg)'] = dff['Unit Selling Price (RMB/kg)'].astype(float) * 1000\n",
    "dff['Loss Rate'] = dff['Loss Rate'].astype(float) * 100"
   ],
   "metadata": {
    "collapsed": false,
    "ExecuteTime": {
     "end_time": "2023-11-19T14:48:11.201790Z",
     "start_time": "2023-11-19T14:48:11.090414Z"
    }
   },
   "id": "a8291414f9cf1193"
  },
  {
   "cell_type": "code",
   "execution_count": 52,
   "outputs": [],
   "source": [
    "dff['Quantity Sold (kilo)'] = dff['Quantity Sold (kilo)'].astype(str).str[:-2]\n",
    "dff['Unit Selling Price (RMB/kg)'] = dff['Unit Selling Price (RMB/kg)'].astype(str).str[:-2]\n",
    "dff['Loss Rate'] = dff['Loss Rate'].astype(str).str[:-2]\n",
    "dff['InvoiceID'] = dff['InvoiceID'].str[:-2]"
   ],
   "metadata": {
    "collapsed": false,
    "ExecuteTime": {
     "end_time": "2023-11-19T14:48:14.024085Z",
     "start_time": "2023-11-19T14:48:12.734818Z"
    }
   },
   "id": "b3d15002544c9672"
  },
  {
   "cell_type": "code",
   "execution_count": 53,
   "outputs": [
    {
     "data": {
      "text/plain": "         Item Code Quantity Sold (kilo) Unit Selling Price (RMB/kg)  \\\n0  102900005117056                  396                        7600   \n1  102900005115960                  849                        3200   \n2  102900005117056                  409                        7600   \n3  102900005115823                  421                       10000   \n4  102900005115908                  539                        8000   \n\n  Sale or Return Discount (Yes/No) CustomerId             Item Name  \\\n0           sale                No     462465  Paopaojiao (Jingpin)   \n1           sale                No     412943       Chinese Cabbage   \n2           sale                No     528592  Paopaojiao (Jingpin)   \n3           sale                No     827685          Shanghaiqing   \n4           sale                No     159829                Caixin   \n\n  Category Name Loss Rate  Year  Month  Day  Hour  Minute  Second  \n0      Capsicum       708  2020      7    1     9      15       7  \n1        Flower      2227  2020      7    1     9      17      27  \n2      Capsicum       708  2020      7    1     9      17      33  \n3        Flower      1443  2020      7    1     9      19      45  \n4        Flower      1370  2020      7    1     9      20      23  ",
      "text/html": "<div>\n<style scoped>\n    .dataframe tbody tr th:only-of-type {\n        vertical-align: middle;\n    }\n\n    .dataframe tbody tr th {\n        vertical-align: top;\n    }\n\n    .dataframe thead th {\n        text-align: right;\n    }\n</style>\n<table border=\"1\" class=\"dataframe\">\n  <thead>\n    <tr style=\"text-align: right;\">\n      <th></th>\n      <th>Item Code</th>\n      <th>Quantity Sold (kilo)</th>\n      <th>Unit Selling Price (RMB/kg)</th>\n      <th>Sale or Return</th>\n      <th>Discount (Yes/No)</th>\n      <th>CustomerId</th>\n      <th>Item Name</th>\n      <th>Category Name</th>\n      <th>Loss Rate</th>\n      <th>Year</th>\n      <th>Month</th>\n      <th>Day</th>\n      <th>Hour</th>\n      <th>Minute</th>\n      <th>Second</th>\n    </tr>\n  </thead>\n  <tbody>\n    <tr>\n      <th>0</th>\n      <td>102900005117056</td>\n      <td>396</td>\n      <td>7600</td>\n      <td>sale</td>\n      <td>No</td>\n      <td>462465</td>\n      <td>Paopaojiao (Jingpin)</td>\n      <td>Capsicum</td>\n      <td>708</td>\n      <td>2020</td>\n      <td>7</td>\n      <td>1</td>\n      <td>9</td>\n      <td>15</td>\n      <td>7</td>\n    </tr>\n    <tr>\n      <th>1</th>\n      <td>102900005115960</td>\n      <td>849</td>\n      <td>3200</td>\n      <td>sale</td>\n      <td>No</td>\n      <td>412943</td>\n      <td>Chinese Cabbage</td>\n      <td>Flower</td>\n      <td>2227</td>\n      <td>2020</td>\n      <td>7</td>\n      <td>1</td>\n      <td>9</td>\n      <td>17</td>\n      <td>27</td>\n    </tr>\n    <tr>\n      <th>2</th>\n      <td>102900005117056</td>\n      <td>409</td>\n      <td>7600</td>\n      <td>sale</td>\n      <td>No</td>\n      <td>528592</td>\n      <td>Paopaojiao (Jingpin)</td>\n      <td>Capsicum</td>\n      <td>708</td>\n      <td>2020</td>\n      <td>7</td>\n      <td>1</td>\n      <td>9</td>\n      <td>17</td>\n      <td>33</td>\n    </tr>\n    <tr>\n      <th>3</th>\n      <td>102900005115823</td>\n      <td>421</td>\n      <td>10000</td>\n      <td>sale</td>\n      <td>No</td>\n      <td>827685</td>\n      <td>Shanghaiqing</td>\n      <td>Flower</td>\n      <td>1443</td>\n      <td>2020</td>\n      <td>7</td>\n      <td>1</td>\n      <td>9</td>\n      <td>19</td>\n      <td>45</td>\n    </tr>\n    <tr>\n      <th>4</th>\n      <td>102900005115908</td>\n      <td>539</td>\n      <td>8000</td>\n      <td>sale</td>\n      <td>No</td>\n      <td>159829</td>\n      <td>Caixin</td>\n      <td>Flower</td>\n      <td>1370</td>\n      <td>2020</td>\n      <td>7</td>\n      <td>1</td>\n      <td>9</td>\n      <td>20</td>\n      <td>23</td>\n    </tr>\n  </tbody>\n</table>\n</div>"
     },
     "execution_count": 53,
     "metadata": {},
     "output_type": "execute_result"
    }
   ],
   "source": [
    "dff = dff.rename(columns={'Quantity Sold (kilo)': 'Quantity Sold (g)', 'Unit Selling Price (RMB/kg)': 'Unit Selling Price (RMB/g)'})\n",
    "dff.head()"
   ],
   "metadata": {
    "collapsed": false,
    "ExecuteTime": {
     "end_time": "2023-11-19T14:48:15.596221Z",
     "start_time": "2023-11-19T14:48:15.583964Z"
    }
   },
   "id": "673e33afbbb0faa0"
  },
  {
   "cell_type": "code",
   "execution_count": 54,
   "outputs": [
    {
     "data": {
      "text/plain": "(878501, 15)"
     },
     "execution_count": 54,
     "metadata": {},
     "output_type": "execute_result"
    }
   ],
   "source": [
    "dff.shape"
   ],
   "metadata": {
    "collapsed": false,
    "ExecuteTime": {
     "end_time": "2023-11-19T14:48:25.849034Z",
     "start_time": "2023-11-19T14:48:25.835324Z"
    }
   },
   "id": "554ca13893a48ae0"
  },
  {
   "cell_type": "code",
   "execution_count": 55,
   "outputs": [
    {
     "data": {
      "text/plain": "(102900005115168, 106973990980123)"
     },
     "execution_count": 55,
     "metadata": {},
     "output_type": "execute_result"
    }
   ],
   "source": [
    "item_codes = dff['Item Code'].astype(int)\n",
    "item_codes.min(), item_codes.max()"
   ],
   "metadata": {
    "collapsed": false,
    "ExecuteTime": {
     "end_time": "2023-11-19T14:48:26.929634Z",
     "start_time": "2023-11-19T14:48:26.926685Z"
    }
   },
   "id": "77c540d2788c045f"
  },
  {
   "cell_type": "code",
   "execution_count": null,
   "outputs": [],
   "source": [
    "# dff.to_csv(\"/Users/rumethsandinu/Study/Assessments/Year 2/DSGP/Datasets/final_cleaned_dataset/cleaned_annex.csv\", index=False)"
   ],
   "metadata": {
    "collapsed": false,
    "ExecuteTime": {
     "start_time": "2023-11-19T14:47:19.977950Z"
    }
   },
   "id": "d1aeb15737715773"
  }
 ],
 "metadata": {
  "kernelspec": {
   "display_name": "Python 3",
   "language": "python",
   "name": "python3"
  },
  "language_info": {
   "codemirror_mode": {
    "name": "ipython",
    "version": 2
   },
   "file_extension": ".py",
   "mimetype": "text/x-python",
   "name": "python",
   "nbconvert_exporter": "python",
   "pygments_lexer": "ipython2",
   "version": "2.7.6"
  }
 },
 "nbformat": 4,
 "nbformat_minor": 5
}
