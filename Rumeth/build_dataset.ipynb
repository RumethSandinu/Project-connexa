{
 "cells": [
  {
   "cell_type": "code",
   "execution_count": 1,
   "id": "initial_id",
   "metadata": {
    "collapsed": true,
    "ExecuteTime": {
     "end_time": "2023-11-22T17:45:17.713982Z",
     "start_time": "2023-11-22T17:45:17.643756Z"
    }
   },
   "outputs": [],
   "source": [
    "# import libraries\n",
    "\n",
    "import pandas as pd\n",
    "import matplotlib.pyplot as plt"
   ]
  },
  {
   "cell_type": "code",
   "execution_count": 2,
   "outputs": [
    {
     "data": {
      "text/plain": "         Item Code              Item Name  Category Code  \\\n0  102900005115168       Niushou Shengcai     1011010101   \n1  102900005115199      Sichuan Red Cedar     1011010101   \n2  102900005115625  Local Xiaomao Cabbage     1011010101   \n3  102900005115748           White Caitai     1011010101   \n4  102900005115762               Amaranth     1011010101   \n\n            Category Name  \n0  Flower/Leaf Vegetables  \n1  Flower/Leaf Vegetables  \n2  Flower/Leaf Vegetables  \n3  Flower/Leaf Vegetables  \n4  Flower/Leaf Vegetables  ",
      "text/html": "<div>\n<style scoped>\n    .dataframe tbody tr th:only-of-type {\n        vertical-align: middle;\n    }\n\n    .dataframe tbody tr th {\n        vertical-align: top;\n    }\n\n    .dataframe thead th {\n        text-align: right;\n    }\n</style>\n<table border=\"1\" class=\"dataframe\">\n  <thead>\n    <tr style=\"text-align: right;\">\n      <th></th>\n      <th>Item Code</th>\n      <th>Item Name</th>\n      <th>Category Code</th>\n      <th>Category Name</th>\n    </tr>\n  </thead>\n  <tbody>\n    <tr>\n      <th>0</th>\n      <td>102900005115168</td>\n      <td>Niushou Shengcai</td>\n      <td>1011010101</td>\n      <td>Flower/Leaf Vegetables</td>\n    </tr>\n    <tr>\n      <th>1</th>\n      <td>102900005115199</td>\n      <td>Sichuan Red Cedar</td>\n      <td>1011010101</td>\n      <td>Flower/Leaf Vegetables</td>\n    </tr>\n    <tr>\n      <th>2</th>\n      <td>102900005115625</td>\n      <td>Local Xiaomao Cabbage</td>\n      <td>1011010101</td>\n      <td>Flower/Leaf Vegetables</td>\n    </tr>\n    <tr>\n      <th>3</th>\n      <td>102900005115748</td>\n      <td>White Caitai</td>\n      <td>1011010101</td>\n      <td>Flower/Leaf Vegetables</td>\n    </tr>\n    <tr>\n      <th>4</th>\n      <td>102900005115762</td>\n      <td>Amaranth</td>\n      <td>1011010101</td>\n      <td>Flower/Leaf Vegetables</td>\n    </tr>\n  </tbody>\n</table>\n</div>"
     },
     "execution_count": 2,
     "metadata": {},
     "output_type": "execute_result"
    }
   ],
   "source": [
    "# load item.csv\n",
    "\n",
    "df1 = pd.read_csv('/Users/rumethsandinu/Study/Assessments/Year 2/DSGP/Datasets/annex/item.csv')\n",
    "df1.head()"
   ],
   "metadata": {
    "collapsed": false,
    "ExecuteTime": {
     "end_time": "2023-11-22T17:45:17.721919Z",
     "start_time": "2023-11-22T17:45:17.645220Z"
    }
   },
   "id": "8e4f9211ddae87b6"
  },
  {
   "cell_type": "code",
   "execution_count": 3,
   "outputs": [
    {
     "data": {
      "text/plain": "(251, 4)"
     },
     "execution_count": 3,
     "metadata": {},
     "output_type": "execute_result"
    }
   ],
   "source": [
    "df1.shape"
   ],
   "metadata": {
    "collapsed": false,
    "ExecuteTime": {
     "end_time": "2023-11-22T17:45:17.722101Z",
     "start_time": "2023-11-22T17:45:17.652238Z"
    }
   },
   "id": "9888f829560a6955"
  },
  {
   "cell_type": "code",
   "execution_count": 4,
   "outputs": [
    {
     "name": "stdout",
     "output_type": "stream",
     "text": [
      "<class 'pandas.core.frame.DataFrame'>\n",
      "RangeIndex: 251 entries, 0 to 250\n",
      "Data columns (total 4 columns):\n",
      " #   Column         Non-Null Count  Dtype \n",
      "---  ------         --------------  ----- \n",
      " 0   Item Code      251 non-null    int64 \n",
      " 1   Item Name      251 non-null    object\n",
      " 2   Category Code  251 non-null    int64 \n",
      " 3   Category Name  251 non-null    object\n",
      "dtypes: int64(2), object(2)\n",
      "memory usage: 8.0+ KB\n"
     ]
    }
   ],
   "source": [
    "df1.info()"
   ],
   "metadata": {
    "collapsed": false,
    "ExecuteTime": {
     "end_time": "2023-11-22T17:45:17.744607Z",
     "start_time": "2023-11-22T17:45:17.657683Z"
    }
   },
   "id": "78ed671b18013277"
  },
  {
   "cell_type": "code",
   "execution_count": 5,
   "outputs": [],
   "source": [
    "# change the Item Code data type to string\n",
    "\n",
    "df1['Item Code'] = df1['Item Code'].astype(str)"
   ],
   "metadata": {
    "collapsed": false,
    "ExecuteTime": {
     "end_time": "2023-11-22T17:45:17.744760Z",
     "start_time": "2023-11-22T17:45:17.661169Z"
    }
   },
   "id": "49a7d1f979950611"
  },
  {
   "cell_type": "code",
   "execution_count": 6,
   "outputs": [
    {
     "data": {
      "text/plain": "Item Code        0\nItem Name        0\nCategory Code    0\nCategory Name    0\ndtype: int64"
     },
     "execution_count": 6,
     "metadata": {},
     "output_type": "execute_result"
    }
   ],
   "source": [
    "# check if there is any null values in the table\n",
    "\n",
    "df1.isnull().sum()"
   ],
   "metadata": {
    "collapsed": false,
    "ExecuteTime": {
     "end_time": "2023-11-22T17:45:17.744885Z",
     "start_time": "2023-11-22T17:45:17.663792Z"
    }
   },
   "id": "e581c3f5ca07d7e5"
  },
  {
   "cell_type": "code",
   "execution_count": 7,
   "outputs": [
    {
     "data": {
      "text/plain": "Category Name\nFlower/Leaf Vegetables         100\nEdible Mushroom                 72\nCapsicum                        45\nAquatic Tuberous Vegetables     19\nSolanum                         10\nCabbage                          5\nName: count, dtype: int64"
     },
     "execution_count": 7,
     "metadata": {},
     "output_type": "execute_result"
    }
   ],
   "source": [
    "# check the frequency of each catgory name\n",
    "\n",
    "df1['Category Name'].value_counts()"
   ],
   "metadata": {
    "collapsed": false,
    "ExecuteTime": {
     "end_time": "2023-11-22T17:45:17.744979Z",
     "start_time": "2023-11-22T17:45:17.666724Z"
    }
   },
   "id": "b1ca6678c24298fd"
  },
  {
   "cell_type": "code",
   "execution_count": 8,
   "outputs": [
    {
     "data": {
      "text/plain": "Category Name\nFlower                         100\nEdible Mushroom                 72\nCapsicum                        45\nAquatic Tuberous Vegetables     19\nSolanum                         10\nCabbage                          5\nName: count, dtype: int64"
     },
     "execution_count": 8,
     "metadata": {},
     "output_type": "execute_result"
    }
   ],
   "source": [
    "def rename_category(data):\n",
    "    if data == 'Flower/Leaf Vegetables':\n",
    "        return 'Flower'\n",
    "    return data\n",
    "\n",
    "# rename all Flower/Leaf Vegetables values to  Flower using rename_category function\n",
    "\n",
    "df1['Category Name'] = df1['Category Name'].apply(rename_category)\n",
    "df1['Category Name'].value_counts()"
   ],
   "metadata": {
    "collapsed": false,
    "ExecuteTime": {
     "end_time": "2023-11-22T17:45:17.745087Z",
     "start_time": "2023-11-22T17:45:17.670675Z"
    }
   },
   "id": "e8123fbaed77245a"
  },
  {
   "cell_type": "code",
   "execution_count": 9,
   "outputs": [
    {
     "data": {
      "text/plain": "         Date          Time        Item Code  Quantity Sold (kilo)  \\\n0  2020-07-01  09:15:07.924  102900005117056                 0.396   \n1  2020-07-01  09:17:27.295  102900005115960                 0.849   \n2  2020-07-01  09:17:33.905  102900005117056                 0.409   \n3  2020-07-01  09:19:45.450  102900005115823                 0.421   \n4  2020-07-01  09:20:23.686  102900005115908                 0.539   \n\n   Unit Selling Price (RMB/kg) Sale or Return Discount (Yes/No)  \n0                          7.6           sale                No  \n1                          3.2           sale                No  \n2                          7.6           sale                No  \n3                         10.0           sale                No  \n4                          8.0           sale                No  ",
      "text/html": "<div>\n<style scoped>\n    .dataframe tbody tr th:only-of-type {\n        vertical-align: middle;\n    }\n\n    .dataframe tbody tr th {\n        vertical-align: top;\n    }\n\n    .dataframe thead th {\n        text-align: right;\n    }\n</style>\n<table border=\"1\" class=\"dataframe\">\n  <thead>\n    <tr style=\"text-align: right;\">\n      <th></th>\n      <th>Date</th>\n      <th>Time</th>\n      <th>Item Code</th>\n      <th>Quantity Sold (kilo)</th>\n      <th>Unit Selling Price (RMB/kg)</th>\n      <th>Sale or Return</th>\n      <th>Discount (Yes/No)</th>\n    </tr>\n  </thead>\n  <tbody>\n    <tr>\n      <th>0</th>\n      <td>2020-07-01</td>\n      <td>09:15:07.924</td>\n      <td>102900005117056</td>\n      <td>0.396</td>\n      <td>7.6</td>\n      <td>sale</td>\n      <td>No</td>\n    </tr>\n    <tr>\n      <th>1</th>\n      <td>2020-07-01</td>\n      <td>09:17:27.295</td>\n      <td>102900005115960</td>\n      <td>0.849</td>\n      <td>3.2</td>\n      <td>sale</td>\n      <td>No</td>\n    </tr>\n    <tr>\n      <th>2</th>\n      <td>2020-07-01</td>\n      <td>09:17:33.905</td>\n      <td>102900005117056</td>\n      <td>0.409</td>\n      <td>7.6</td>\n      <td>sale</td>\n      <td>No</td>\n    </tr>\n    <tr>\n      <th>3</th>\n      <td>2020-07-01</td>\n      <td>09:19:45.450</td>\n      <td>102900005115823</td>\n      <td>0.421</td>\n      <td>10.0</td>\n      <td>sale</td>\n      <td>No</td>\n    </tr>\n    <tr>\n      <th>4</th>\n      <td>2020-07-01</td>\n      <td>09:20:23.686</td>\n      <td>102900005115908</td>\n      <td>0.539</td>\n      <td>8.0</td>\n      <td>sale</td>\n      <td>No</td>\n    </tr>\n  </tbody>\n</table>\n</div>"
     },
     "execution_count": 9,
     "metadata": {},
     "output_type": "execute_result"
    }
   ],
   "source": [
    "# load the sale.csv dataset\n",
    "\n",
    "df3 = pd.read_csv('/Users/rumethsandinu/Study/Assessments/Year 2/DSGP/Datasets/annex/sale.csv')\n",
    "df3.head()"
   ],
   "metadata": {
    "collapsed": false,
    "ExecuteTime": {
     "end_time": "2023-11-22T17:45:18.215146Z",
     "start_time": "2023-11-22T17:45:17.673494Z"
    }
   },
   "id": "e91032627b07ee8c"
  },
  {
   "cell_type": "code",
   "execution_count": 10,
   "outputs": [],
   "source": [
    "df3 = df3.drop(columns=['Date', 'Time'], axis=1)"
   ],
   "metadata": {
    "collapsed": false,
    "ExecuteTime": {
     "end_time": "2023-11-22T17:45:18.233622Z",
     "start_time": "2023-11-22T17:45:18.218159Z"
    }
   },
   "id": "fff148316fd62059"
  },
  {
   "cell_type": "code",
   "execution_count": 11,
   "outputs": [
    {
     "data": {
      "text/plain": "{'whiskers': [<matplotlib.lines.Line2D at 0x16b9639d0>,\n  <matplotlib.lines.Line2D at 0x16b963c70>],\n 'caps': [<matplotlib.lines.Line2D at 0x16b963f10>,\n  <matplotlib.lines.Line2D at 0x16b9801f0>],\n 'boxes': [<matplotlib.lines.Line2D at 0x16b963730>],\n 'medians': [<matplotlib.lines.Line2D at 0x16b980490>],\n 'fliers': [<matplotlib.lines.Line2D at 0x16b980730>],\n 'means': []}"
     },
     "execution_count": 11,
     "metadata": {},
     "output_type": "execute_result"
    },
    {
     "data": {
      "text/plain": "<Figure size 640x480 with 1 Axes>",
      "image/png": "[encoded data removed]"
     },
     "metadata": {},
     "output_type": "display_data"
    }
   ],
   "source": [
    "plt.boxplot(df3['Quantity Sold (kilo)'])"
   ],
   "metadata": {
    "collapsed": false,
    "ExecuteTime": {
     "end_time": "2023-11-22T17:45:18.383610Z",
     "start_time": "2023-11-22T17:45:18.235239Z"
    }
   },
   "id": "5cc71815911a8039"
  },
  {
   "cell_type": "code",
   "execution_count": 12,
   "outputs": [
    {
     "data": {
      "text/plain": "True"
     },
     "execution_count": 12,
     "metadata": {},
     "output_type": "execute_result"
    }
   ],
   "source": [
    "# check all the Quantity Sold (kilo) values are positive integers\n",
    "\n",
    "(df3['Quantity Sold (kilo)'] < 0).sum() == (df3['Sale or Return'] == 'return').sum()"
   ],
   "metadata": {
    "collapsed": false,
    "ExecuteTime": {
     "end_time": "2023-11-22T17:45:18.429627Z",
     "start_time": "2023-11-22T17:45:18.383789Z"
    }
   },
   "id": "2f87f005b51492fc"
  },
  {
   "cell_type": "code",
   "execution_count": 13,
   "outputs": [
    {
     "name": "stdout",
     "output_type": "stream",
     "text": [
      "<class 'pandas.core.frame.DataFrame'>\n",
      "RangeIndex: 878503 entries, 0 to 878502\n",
      "Data columns (total 5 columns):\n",
      " #   Column                       Non-Null Count   Dtype  \n",
      "---  ------                       --------------   -----  \n",
      " 0   Item Code                    878503 non-null  int64  \n",
      " 1   Quantity Sold (kilo)         878503 non-null  float64\n",
      " 2   Unit Selling Price (RMB/kg)  878503 non-null  float64\n",
      " 3   Sale or Return               878503 non-null  object \n",
      " 4   Discount (Yes/No)            878503 non-null  object \n",
      "dtypes: float64(2), int64(1), object(2)\n",
      "memory usage: 33.5+ MB\n"
     ]
    }
   ],
   "source": [
    "df3.info()"
   ],
   "metadata": {
    "collapsed": false,
    "ExecuteTime": {
     "end_time": "2023-11-22T17:45:18.494209Z",
     "start_time": "2023-11-22T17:45:18.417093Z"
    }
   },
   "id": "cbba1e17241ebd7e"
  },
  {
   "cell_type": "code",
   "execution_count": 14,
   "outputs": [
    {
     "data": {
      "text/plain": "(878503, 5)"
     },
     "execution_count": 14,
     "metadata": {},
     "output_type": "execute_result"
    }
   ],
   "source": [
    "df3.shape"
   ],
   "metadata": {
    "collapsed": false,
    "ExecuteTime": {
     "end_time": "2023-11-22T17:45:18.496329Z",
     "start_time": "2023-11-22T17:45:18.485746Z"
    }
   },
   "id": "2d97a3546430efc5"
  },
  {
   "cell_type": "code",
   "execution_count": 15,
   "outputs": [
    {
     "data": {
      "text/plain": "Item Code                      0\nQuantity Sold (kilo)           0\nUnit Selling Price (RMB/kg)    0\nSale or Return                 0\nDiscount (Yes/No)              0\ndtype: int64"
     },
     "execution_count": 15,
     "metadata": {},
     "output_type": "execute_result"
    }
   ],
   "source": [
    "# check if there are any null values in the table\n",
    "\n",
    "df3.isnull().sum()"
   ],
   "metadata": {
    "collapsed": false,
    "ExecuteTime": {
     "end_time": "2023-11-22T17:45:18.569576Z",
     "start_time": "2023-11-22T17:45:18.538727Z"
    }
   },
   "id": "348e4de0e0520bf8"
  },
  {
   "cell_type": "code",
   "execution_count": 16,
   "outputs": [
    {
     "data": {
      "text/plain": "Item Code\n102900011016701    69945\n102900005116714    58905\n102900005116530    47509\n102900005115779    39887\n102900005116899    39285\n                   ...  \n102900051000890        1\n102900011023075        1\n102900011009772        1\n102900011031858        1\n106973223300667        1\nName: count, Length: 246, dtype: int64"
     },
     "execution_count": 16,
     "metadata": {},
     "output_type": "execute_result"
    }
   ],
   "source": [
    "df3['Item Code'].value_counts()"
   ],
   "metadata": {
    "collapsed": false,
    "ExecuteTime": {
     "end_time": "2023-11-22T17:45:18.569783Z",
     "start_time": "2023-11-22T17:45:18.561130Z"
    }
   },
   "id": "315339c59cf08da1"
  },
  {
   "cell_type": "code",
   "execution_count": 17,
   "outputs": [
    {
     "data": {
      "text/plain": "{'whiskers': [<matplotlib.lines.Line2D at 0x16ba83640>,\n  <matplotlib.lines.Line2D at 0x16ba838e0>],\n 'caps': [<matplotlib.lines.Line2D at 0x16ba83b80>,\n  <matplotlib.lines.Line2D at 0x16ba83e20>],\n 'boxes': [<matplotlib.lines.Line2D at 0x16ba833a0>],\n 'medians': [<matplotlib.lines.Line2D at 0x16ba94100>],\n 'fliers': [<matplotlib.lines.Line2D at 0x16ba943a0>],\n 'means': []}"
     },
     "execution_count": 17,
     "metadata": {},
     "output_type": "execute_result"
    },
    {
     "data": {
      "text/plain": "<Figure size 640x480 with 1 Axes>",
      "image/png": "[encoded data removed]"
     },
     "metadata": {},
     "output_type": "display_data"
    }
   ],
   "source": [
    "plt.boxplot(df3['Item Code'].value_counts())"
   ],
   "metadata": {
    "collapsed": false,
    "ExecuteTime": {
     "end_time": "2023-11-22T17:45:18.631497Z",
     "start_time": "2023-11-22T17:45:18.565993Z"
    }
   },
   "id": "fd9626e0d5683959"
  },
  {
   "cell_type": "code",
   "execution_count": 18,
   "outputs": [
    {
     "data": {
      "text/plain": "present\nTrue    246\nName: count, dtype: int64"
     },
     "execution_count": 18,
     "metadata": {},
     "output_type": "execute_result"
    }
   ],
   "source": [
    "data = {'present': [False] * df3['Item Code'].unique().shape[0]}\n",
    "present = pd.DataFrame(data)\n",
    "\n",
    "# check if all the df3 Item Code data available in df1\n",
    "\n",
    "for i in range(df3['Item Code'].unique().shape[0]):\n",
    "    for j in range(df1['Item Code'].shape[0]):\n",
    "        if df3['Item Code'].values[i] == int(df1['Item Code'].values[j]):\n",
    "            present.at[i, 'present'] = True\n",
    "            break\n",
    "                 \n",
    "present['present'].value_counts()"
   ],
   "metadata": {
    "collapsed": false,
    "ExecuteTime": {
     "end_time": "2023-11-22T17:45:18.730372Z",
     "start_time": "2023-11-22T17:45:18.633978Z"
    }
   },
   "id": "2d1ecfede796df63"
  },
  {
   "cell_type": "code",
   "execution_count": 19,
   "outputs": [
    {
     "data": {
      "text/plain": "{'whiskers': [<matplotlib.lines.Line2D at 0x16bc11e20>,\n  <matplotlib.lines.Line2D at 0x16bc23100>],\n 'caps': [<matplotlib.lines.Line2D at 0x16bc233a0>,\n  <matplotlib.lines.Line2D at 0x16bc23640>],\n 'boxes': [<matplotlib.lines.Line2D at 0x16baa9040>],\n 'medians': [<matplotlib.lines.Line2D at 0x16bc238e0>],\n 'fliers': [<matplotlib.lines.Line2D at 0x16bc23b80>],\n 'means': []}"
     },
     "execution_count": 19,
     "metadata": {},
     "output_type": "execute_result"
    },
    {
     "data": {
      "text/plain": "<Figure size 640x480 with 1 Axes>",
      "image/png": "[encoded data removed]"
     },
     "metadata": {},
     "output_type": "display_data"
    }
   ],
   "source": [
    "plt.boxplot(df3['Quantity Sold (kilo)'])"
   ],
   "metadata": {
    "collapsed": false,
    "ExecuteTime": {
     "end_time": "2023-11-22T17:45:18.863341Z",
     "start_time": "2023-11-22T17:45:18.736008Z"
    }
   },
   "id": "7ce8aae532feca7a"
  },
  {
   "cell_type": "code",
   "execution_count": 20,
   "outputs": [
    {
     "data": {
      "text/plain": "True"
     },
     "execution_count": 20,
     "metadata": {},
     "output_type": "execute_result"
    }
   ],
   "source": [
    "# check all the return values defined correctly in the Quantity Sold (kilo) column as negative values\n",
    "\n",
    "((df3['Quantity Sold (kilo)'] < 0).sum()) == ((df3['Sale or Return'] == 'return').sum())"
   ],
   "metadata": {
    "collapsed": false,
    "ExecuteTime": {
     "end_time": "2023-11-22T17:45:18.917908Z",
     "start_time": "2023-11-22T17:45:18.862820Z"
    }
   },
   "id": "e186dca3ff3a2bf0"
  },
  {
   "cell_type": "code",
   "execution_count": 21,
   "outputs": [
    {
     "data": {
      "text/plain": "{'whiskers': [<matplotlib.lines.Line2D at 0x16bc5deb0>,\n  <matplotlib.lines.Line2D at 0x16bc6e190>],\n 'caps': [<matplotlib.lines.Line2D at 0x16bc6e430>,\n  <matplotlib.lines.Line2D at 0x16bc6e6d0>],\n 'boxes': [<matplotlib.lines.Line2D at 0x16bc4e7c0>],\n 'medians': [<matplotlib.lines.Line2D at 0x16bc6e970>],\n 'fliers': [<matplotlib.lines.Line2D at 0x16bc6ec10>],\n 'means': []}"
     },
     "execution_count": 21,
     "metadata": {},
     "output_type": "execute_result"
    },
    {
     "data": {
      "text/plain": "<Figure size 640x480 with 1 Axes>",
      "image/png": "[encoded data removed]"
     },
     "metadata": {},
     "output_type": "display_data"
    }
   ],
   "source": [
    "plt.boxplot(df3['Unit Selling Price (RMB/kg)'])"
   ],
   "metadata": {
    "collapsed": false,
    "ExecuteTime": {
     "end_time": "2023-11-22T17:45:19.013815Z",
     "start_time": "2023-11-22T17:45:18.900478Z"
    }
   },
   "id": "e0c761b8000d54b7"
  },
  {
   "cell_type": "code",
   "execution_count": 22,
   "outputs": [
    {
     "data": {
      "text/plain": "         Item Code  Quantity Sold (kilo)  Unit Selling Price (RMB/kg)  \\\n0  102900005117056                 0.396                          7.6   \n1  102900005115960                 0.849                          3.2   \n2  102900005117056                 0.409                          7.6   \n3  102900005115823                 0.421                         10.0   \n4  102900005115908                 0.539                          8.0   \n\n  Sale or Return Discount (Yes/No)  \n0           sale                No  \n1           sale                No  \n2           sale                No  \n3           sale                No  \n4           sale                No  ",
      "text/html": "<div>\n<style scoped>\n    .dataframe tbody tr th:only-of-type {\n        vertical-align: middle;\n    }\n\n    .dataframe tbody tr th {\n        vertical-align: top;\n    }\n\n    .dataframe thead th {\n        text-align: right;\n    }\n</style>\n<table border=\"1\" class=\"dataframe\">\n  <thead>\n    <tr style=\"text-align: right;\">\n      <th></th>\n      <th>Item Code</th>\n      <th>Quantity Sold (kilo)</th>\n      <th>Unit Selling Price (RMB/kg)</th>\n      <th>Sale or Return</th>\n      <th>Discount (Yes/No)</th>\n    </tr>\n  </thead>\n  <tbody>\n    <tr>\n      <th>0</th>\n      <td>102900005117056</td>\n      <td>0.396</td>\n      <td>7.6</td>\n      <td>sale</td>\n      <td>No</td>\n    </tr>\n    <tr>\n      <th>1</th>\n      <td>102900005115960</td>\n      <td>0.849</td>\n      <td>3.2</td>\n      <td>sale</td>\n      <td>No</td>\n    </tr>\n    <tr>\n      <th>2</th>\n      <td>102900005117056</td>\n      <td>0.409</td>\n      <td>7.6</td>\n      <td>sale</td>\n      <td>No</td>\n    </tr>\n    <tr>\n      <th>3</th>\n      <td>102900005115823</td>\n      <td>0.421</td>\n      <td>10.0</td>\n      <td>sale</td>\n      <td>No</td>\n    </tr>\n    <tr>\n      <th>4</th>\n      <td>102900005115908</td>\n      <td>0.539</td>\n      <td>8.0</td>\n      <td>sale</td>\n      <td>No</td>\n    </tr>\n  </tbody>\n</table>\n</div>"
     },
     "execution_count": 22,
     "metadata": {},
     "output_type": "execute_result"
    }
   ],
   "source": [
    "df3.head()"
   ],
   "metadata": {
    "collapsed": false,
    "ExecuteTime": {
     "end_time": "2023-11-22T17:45:19.019277Z",
     "start_time": "2023-11-22T17:45:19.016019Z"
    }
   },
   "id": "1d51bd339a4b89c2"
  },
  {
   "cell_type": "code",
   "execution_count": 23,
   "outputs": [
    {
     "data": {
      "text/plain": "              Item Code Quantity Sold (kilo) Unit Selling Price (RMB/kg)  \\\n164538  102900005117056                0.241                        10.0   \n632694  102900051000944                0.324                        29.6   \n422460  102900005115779                0.234                         8.0   \n94943   102900005116790                 0.84                         8.0   \n506547  102900005116219                0.424                        19.8   \n\n       Sale or Return Discount (Yes/No)  \n164538           sale                No  \n632694           sale                No  \n422460           sale               Yes  \n94943            sale                No  \n506547           sale                No  ",
      "text/html": "<div>\n<style scoped>\n    .dataframe tbody tr th:only-of-type {\n        vertical-align: middle;\n    }\n\n    .dataframe tbody tr th {\n        vertical-align: top;\n    }\n\n    .dataframe thead th {\n        text-align: right;\n    }\n</style>\n<table border=\"1\" class=\"dataframe\">\n  <thead>\n    <tr style=\"text-align: right;\">\n      <th></th>\n      <th>Item Code</th>\n      <th>Quantity Sold (kilo)</th>\n      <th>Unit Selling Price (RMB/kg)</th>\n      <th>Sale or Return</th>\n      <th>Discount (Yes/No)</th>\n    </tr>\n  </thead>\n  <tbody>\n    <tr>\n      <th>164538</th>\n      <td>102900005117056</td>\n      <td>0.241</td>\n      <td>10.0</td>\n      <td>sale</td>\n      <td>No</td>\n    </tr>\n    <tr>\n      <th>632694</th>\n      <td>102900051000944</td>\n      <td>0.324</td>\n      <td>29.6</td>\n      <td>sale</td>\n      <td>No</td>\n    </tr>\n    <tr>\n      <th>422460</th>\n      <td>102900005115779</td>\n      <td>0.234</td>\n      <td>8.0</td>\n      <td>sale</td>\n      <td>Yes</td>\n    </tr>\n    <tr>\n      <th>94943</th>\n      <td>102900005116790</td>\n      <td>0.84</td>\n      <td>8.0</td>\n      <td>sale</td>\n      <td>No</td>\n    </tr>\n    <tr>\n      <th>506547</th>\n      <td>102900005116219</td>\n      <td>0.424</td>\n      <td>19.8</td>\n      <td>sale</td>\n      <td>No</td>\n    </tr>\n  </tbody>\n</table>\n</div>"
     },
     "execution_count": 23,
     "metadata": {},
     "output_type": "execute_result"
    }
   ],
   "source": [
    "# getting a copy of df3 and asigning it to dff\n",
    "\n",
    "dff = df3.copy()\n",
    "\n",
    "# chaning value tipes to string in Item Code, Quantity Sold (kilo) and Unit Selling Price (RMB/kg)\n",
    "\n",
    "dff['Item Code'] = dff['Item Code'].astype(str)\n",
    "dff['Quantity Sold (kilo)'] = dff['Quantity Sold (kilo)'].astype(str)\n",
    "dff['Unit Selling Price (RMB/kg)'] = dff['Unit Selling Price (RMB/kg)'].astype(str)\n",
    "dff.sample(5)"
   ],
   "metadata": {
    "collapsed": false,
    "ExecuteTime": {
     "end_time": "2023-11-22T17:45:19.725647Z",
     "start_time": "2023-11-22T17:45:19.020741Z"
    }
   },
   "id": "70e418d00022cc43"
  },
  {
   "cell_type": "code",
   "execution_count": 24,
   "outputs": [
    {
     "name": "stdout",
     "output_type": "stream",
     "text": [
      "<class 'pandas.core.frame.DataFrame'>\n",
      "RangeIndex: 878503 entries, 0 to 878502\n",
      "Data columns (total 5 columns):\n",
      " #   Column                       Non-Null Count   Dtype \n",
      "---  ------                       --------------   ----- \n",
      " 0   Item Code                    878503 non-null  object\n",
      " 1   Quantity Sold (kilo)         878503 non-null  object\n",
      " 2   Unit Selling Price (RMB/kg)  878503 non-null  object\n",
      " 3   Sale or Return               878503 non-null  object\n",
      " 4   Discount (Yes/No)            878503 non-null  object\n",
      "dtypes: object(5)\n",
      "memory usage: 33.5+ MB\n"
     ]
    }
   ],
   "source": [
    "dff.info()"
   ],
   "metadata": {
    "collapsed": false,
    "ExecuteTime": {
     "end_time": "2023-11-22T17:45:19.820391Z",
     "start_time": "2023-11-22T17:45:19.809195Z"
    }
   },
   "id": "a104c4c2758988a6"
  },
  {
   "cell_type": "code",
   "execution_count": 25,
   "outputs": [
    {
     "name": "stdout",
     "output_type": "stream",
     "text": [
      "<class 'pandas.core.frame.DataFrame'>\n",
      "RangeIndex: 251 entries, 0 to 250\n",
      "Data columns (total 4 columns):\n",
      " #   Column         Non-Null Count  Dtype \n",
      "---  ------         --------------  ----- \n",
      " 0   Item Code      251 non-null    object\n",
      " 1   Item Name      251 non-null    object\n",
      " 2   Category Code  251 non-null    int64 \n",
      " 3   Category Name  251 non-null    object\n",
      "dtypes: int64(1), object(3)\n",
      "memory usage: 8.0+ KB\n"
     ]
    }
   ],
   "source": [
    "df1.info()"
   ],
   "metadata": {
    "collapsed": false,
    "ExecuteTime": {
     "end_time": "2023-11-22T17:45:19.821345Z",
     "start_time": "2023-11-22T17:45:19.817264Z"
    }
   },
   "id": "1d07b7b8216a551e"
  },
  {
   "cell_type": "code",
   "execution_count": 26,
   "outputs": [
    {
     "data": {
      "text/plain": "(878503, 5)"
     },
     "execution_count": 26,
     "metadata": {},
     "output_type": "execute_result"
    }
   ],
   "source": [
    "dff.shape"
   ],
   "metadata": {
    "collapsed": false,
    "ExecuteTime": {
     "end_time": "2023-11-22T17:45:19.823912Z",
     "start_time": "2023-11-22T17:45:19.821779Z"
    }
   },
   "id": "8f39a672410818fe"
  },
  {
   "cell_type": "code",
   "execution_count": 27,
   "outputs": [
    {
     "data": {
      "text/plain": "              Item Code Quantity Sold (kilo) Unit Selling Price (RMB/kg)  \\\n689584  102900011030059                  1.0                         4.5   \n63340   102900005119975                0.226                         4.0   \n262175  102900011016701                0.377                         4.0   \n140886  102900005117056                0.418                         6.0   \n51563   102900005115793                0.694                        14.0   \n\n       Sale or Return Discount (Yes/No)              Item Name Category Name  \n689584           sale                No   Yunnan Lettuce (Bag)        Flower  \n63340            sale                No            Hongshujian        Flower  \n262175           sale                No  Wuhu Green Pepper (1)      Capsicum  \n140886           sale                No   Paopaojiao (Jingpin)      Capsicum  \n51563            sale                No        Chinese Cabbage        Flower  ",
      "text/html": "<div>\n<style scoped>\n    .dataframe tbody tr th:only-of-type {\n        vertical-align: middle;\n    }\n\n    .dataframe tbody tr th {\n        vertical-align: top;\n    }\n\n    .dataframe thead th {\n        text-align: right;\n    }\n</style>\n<table border=\"1\" class=\"dataframe\">\n  <thead>\n    <tr style=\"text-align: right;\">\n      <th></th>\n      <th>Item Code</th>\n      <th>Quantity Sold (kilo)</th>\n      <th>Unit Selling Price (RMB/kg)</th>\n      <th>Sale or Return</th>\n      <th>Discount (Yes/No)</th>\n      <th>Item Name</th>\n      <th>Category Name</th>\n    </tr>\n  </thead>\n  <tbody>\n    <tr>\n      <th>689584</th>\n      <td>102900011030059</td>\n      <td>1.0</td>\n      <td>4.5</td>\n      <td>sale</td>\n      <td>No</td>\n      <td>Yunnan Lettuce (Bag)</td>\n      <td>Flower</td>\n    </tr>\n    <tr>\n      <th>63340</th>\n      <td>102900005119975</td>\n      <td>0.226</td>\n      <td>4.0</td>\n      <td>sale</td>\n      <td>No</td>\n      <td>Hongshujian</td>\n      <td>Flower</td>\n    </tr>\n    <tr>\n      <th>262175</th>\n      <td>102900011016701</td>\n      <td>0.377</td>\n      <td>4.0</td>\n      <td>sale</td>\n      <td>No</td>\n      <td>Wuhu Green Pepper (1)</td>\n      <td>Capsicum</td>\n    </tr>\n    <tr>\n      <th>140886</th>\n      <td>102900005117056</td>\n      <td>0.418</td>\n      <td>6.0</td>\n      <td>sale</td>\n      <td>No</td>\n      <td>Paopaojiao (Jingpin)</td>\n      <td>Capsicum</td>\n    </tr>\n    <tr>\n      <th>51563</th>\n      <td>102900005115793</td>\n      <td>0.694</td>\n      <td>14.0</td>\n      <td>sale</td>\n      <td>No</td>\n      <td>Chinese Cabbage</td>\n      <td>Flower</td>\n    </tr>\n  </tbody>\n</table>\n</div>"
     },
     "execution_count": 27,
     "metadata": {},
     "output_type": "execute_result"
    }
   ],
   "source": [
    "# select the item code from df1 respective to dff item code and extracting its data\n",
    "\n",
    "for i in range(dff.shape[0]):\n",
    "    for j in range(df1.shape[0]):\n",
    "        if dff['Item Code'].values[i] == df1['Item Code'].values[j]:\n",
    "            dff.at[i, 'Item Name'] = df1['Item Name'].values[j]\n",
    "            dff.at[i, 'Category Name'] = df1['Category Name'].values[j]\n",
    "            break\n",
    "dff.sample(5)"
   ],
   "metadata": {
    "collapsed": false,
    "ExecuteTime": {
     "end_time": "2023-11-22T17:50:53.622454Z",
     "start_time": "2023-11-22T17:45:19.826219Z"
    }
   },
   "id": "f7fb01539b2247e3"
  },
  {
   "cell_type": "code",
   "execution_count": 28,
   "outputs": [
    {
     "data": {
      "text/plain": "Item Code                      0\nQuantity Sold (kilo)           0\nUnit Selling Price (RMB/kg)    0\nSale or Return                 0\nDiscount (Yes/No)              0\nItem Name                      0\nCategory Name                  0\ndtype: int64"
     },
     "execution_count": 28,
     "metadata": {},
     "output_type": "execute_result"
    }
   ],
   "source": [
    "dff.isnull().sum()"
   ],
   "metadata": {
    "collapsed": false,
    "ExecuteTime": {
     "end_time": "2023-11-22T17:50:53.906242Z",
     "start_time": "2023-11-22T17:50:53.663651Z"
    }
   },
   "id": "90d28e83f455d9ca"
  },
  {
   "cell_type": "code",
   "execution_count": 30,
   "outputs": [],
   "source": [
    "# remove floating points\n",
    "\n",
    "dff['Quantity Sold (kilo)'] = dff['Quantity Sold (kilo)'].astype(float) * 1000\n",
    "dff['Unit Selling Price (RMB/kg)'] = dff['Unit Selling Price (RMB/kg)'].astype(float) * 1000"
   ],
   "metadata": {
    "collapsed": false,
    "ExecuteTime": {
     "end_time": "2023-11-22T17:50:54.232168Z",
     "start_time": "2023-11-22T17:50:54.162729Z"
    }
   },
   "id": "a8291414f9cf1193"
  },
  {
   "cell_type": "code",
   "execution_count": 31,
   "outputs": [],
   "source": [
    "# remove .0  and converting values to strings\n",
    "\n",
    "dff['Quantity Sold (kilo)'] = dff['Quantity Sold (kilo)'].astype(str).str[:-2]\n",
    "dff['Unit Selling Price (RMB/kg)'] = dff['Unit Selling Price (RMB/kg)'].astype(str).str[:-2]"
   ],
   "metadata": {
    "collapsed": false,
    "ExecuteTime": {
     "end_time": "2023-11-22T17:50:55.333162Z",
     "start_time": "2023-11-22T17:50:54.227773Z"
    }
   },
   "id": "b3d15002544c9672"
  },
  {
   "cell_type": "code",
   "execution_count": 32,
   "outputs": [
    {
     "data": {
      "text/plain": "  Quantity Sold (g) Unit Selling Price (RMB/g) Sale or Return  \\\n0               396                       7600           sale   \n1               849                       3200           sale   \n2               409                       7600           sale   \n3               421                      10000           sale   \n4               539                       8000           sale   \n\n  Discount (Yes/No)             Item Name Category Name  \n0                No  Paopaojiao (Jingpin)      Capsicum  \n1                No       Chinese Cabbage        Flower  \n2                No  Paopaojiao (Jingpin)      Capsicum  \n3                No          Shanghaiqing        Flower  \n4                No                Caixin        Flower  ",
      "text/html": "<div>\n<style scoped>\n    .dataframe tbody tr th:only-of-type {\n        vertical-align: middle;\n    }\n\n    .dataframe tbody tr th {\n        vertical-align: top;\n    }\n\n    .dataframe thead th {\n        text-align: right;\n    }\n</style>\n<table border=\"1\" class=\"dataframe\">\n  <thead>\n    <tr style=\"text-align: right;\">\n      <th></th>\n      <th>Quantity Sold (g)</th>\n      <th>Unit Selling Price (RMB/g)</th>\n      <th>Sale or Return</th>\n      <th>Discount (Yes/No)</th>\n      <th>Item Name</th>\n      <th>Category Name</th>\n    </tr>\n  </thead>\n  <tbody>\n    <tr>\n      <th>0</th>\n      <td>396</td>\n      <td>7600</td>\n      <td>sale</td>\n      <td>No</td>\n      <td>Paopaojiao (Jingpin)</td>\n      <td>Capsicum</td>\n    </tr>\n    <tr>\n      <th>1</th>\n      <td>849</td>\n      <td>3200</td>\n      <td>sale</td>\n      <td>No</td>\n      <td>Chinese Cabbage</td>\n      <td>Flower</td>\n    </tr>\n    <tr>\n      <th>2</th>\n      <td>409</td>\n      <td>7600</td>\n      <td>sale</td>\n      <td>No</td>\n      <td>Paopaojiao (Jingpin)</td>\n      <td>Capsicum</td>\n    </tr>\n    <tr>\n      <th>3</th>\n      <td>421</td>\n      <td>10000</td>\n      <td>sale</td>\n      <td>No</td>\n      <td>Shanghaiqing</td>\n      <td>Flower</td>\n    </tr>\n    <tr>\n      <th>4</th>\n      <td>539</td>\n      <td>8000</td>\n      <td>sale</td>\n      <td>No</td>\n      <td>Caixin</td>\n      <td>Flower</td>\n    </tr>\n  </tbody>\n</table>\n</div>"
     },
     "execution_count": 32,
     "metadata": {},
     "output_type": "execute_result"
    }
   ],
   "source": [
    "# renaming columns\n",
    "\n",
    "dff = dff.rename(columns={'Quantity Sold (kilo)': 'Quantity Sold (g)', 'Unit Selling Price (RMB/kg)': 'Unit Selling Price (RMB/g)'})\n",
    "\n",
    "dff = dff.drop(columns=['Item Code'], axis=1)\n",
    "dff.head()"
   ],
   "metadata": {
    "collapsed": false,
    "ExecuteTime": {
     "end_time": "2023-11-22T17:50:55.767159Z",
     "start_time": "2023-11-22T17:50:55.323416Z"
    }
   },
   "id": "673e33afbbb0faa0"
  },
  {
   "cell_type": "code",
   "execution_count": 33,
   "outputs": [
    {
     "data": {
      "text/plain": "                                       Item Name    Category Name  \\\n254224  Chinese Caterpillar Fungus Flowers (Bag)  Edible Mushroom   \n575764                              Eggplant (2)          Solanum   \n821002                             Spinach (Bag)           Flower   \n412217                           Yunnan Shengcai           Flower   \n429441                     Wuhu Green Pepper (1)         Capsicum   \n\n       Quantity Sold (g) Unit Selling Price (RMB/g) Sale or Return  \\\n254224              1000                       5900           sale   \n575764               352                       6000           sale   \n821002              1000                       2500           sale   \n412217               201                      10000           sale   \n429441               470                       6000           sale   \n\n       Discount (Yes/No)  \n254224                No  \n575764                No  \n821002               Yes  \n412217                No  \n429441                No  ",
      "text/html": "<div>\n<style scoped>\n    .dataframe tbody tr th:only-of-type {\n        vertical-align: middle;\n    }\n\n    .dataframe tbody tr th {\n        vertical-align: top;\n    }\n\n    .dataframe thead th {\n        text-align: right;\n    }\n</style>\n<table border=\"1\" class=\"dataframe\">\n  <thead>\n    <tr style=\"text-align: right;\">\n      <th></th>\n      <th>Item Name</th>\n      <th>Category Name</th>\n      <th>Quantity Sold (g)</th>\n      <th>Unit Selling Price (RMB/g)</th>\n      <th>Sale or Return</th>\n      <th>Discount (Yes/No)</th>\n    </tr>\n  </thead>\n  <tbody>\n    <tr>\n      <th>254224</th>\n      <td>Chinese Caterpillar Fungus Flowers (Bag)</td>\n      <td>Edible Mushroom</td>\n      <td>1000</td>\n      <td>5900</td>\n      <td>sale</td>\n      <td>No</td>\n    </tr>\n    <tr>\n      <th>575764</th>\n      <td>Eggplant (2)</td>\n      <td>Solanum</td>\n      <td>352</td>\n      <td>6000</td>\n      <td>sale</td>\n      <td>No</td>\n    </tr>\n    <tr>\n      <th>821002</th>\n      <td>Spinach (Bag)</td>\n      <td>Flower</td>\n      <td>1000</td>\n      <td>2500</td>\n      <td>sale</td>\n      <td>Yes</td>\n    </tr>\n    <tr>\n      <th>412217</th>\n      <td>Yunnan Shengcai</td>\n      <td>Flower</td>\n      <td>201</td>\n      <td>10000</td>\n      <td>sale</td>\n      <td>No</td>\n    </tr>\n    <tr>\n      <th>429441</th>\n      <td>Wuhu Green Pepper (1)</td>\n      <td>Capsicum</td>\n      <td>470</td>\n      <td>6000</td>\n      <td>sale</td>\n      <td>No</td>\n    </tr>\n  </tbody>\n</table>\n</div>"
     },
     "execution_count": 33,
     "metadata": {},
     "output_type": "execute_result"
    }
   ],
   "source": [
    "# Get the column names to lists\n",
    "\n",
    "first_columns = dff.columns[:-2].tolist()\n",
    "last_two_columns = dff.columns[-2:].tolist()\n",
    "\n",
    "# Rearrange the columns\n",
    "\n",
    "order = last_two_columns + first_columns\n",
    "dff = dff[order]\n",
    "\n",
    "dff.sample(5)"
   ],
   "metadata": {
    "collapsed": false,
    "ExecuteTime": {
     "end_time": "2023-11-22T17:50:55.849064Z",
     "start_time": "2023-11-22T17:50:55.767834Z"
    }
   },
   "id": "3befb7395baaec6"
  },
  {
   "cell_type": "code",
   "execution_count": 34,
   "outputs": [
    {
     "data": {
      "text/plain": "(878503, 6)"
     },
     "execution_count": 34,
     "metadata": {},
     "output_type": "execute_result"
    }
   ],
   "source": [
    "dff.shape"
   ],
   "metadata": {
    "collapsed": false,
    "ExecuteTime": {
     "end_time": "2023-11-22T17:50:55.860998Z",
     "start_time": "2023-11-22T17:50:55.813435Z"
    }
   },
   "id": "554ca13893a48ae0"
  },
  {
   "cell_type": "code",
   "execution_count": 36,
   "outputs": [],
   "source": [
    "dff.to_csv(\"/Users/rumethsandinu/Study/Assessments/Year 2/DSGP/Datasets/final_cleaned_dataset/cleaned_annex.csv\", index=False)"
   ],
   "metadata": {
    "collapsed": false,
    "ExecuteTime": {
     "end_time": "2023-11-22T17:51:29.116487Z",
     "start_time": "2023-11-22T17:51:28.181578Z"
    }
   },
   "id": "d1aeb15737715773"
  }
 ],
 "metadata": {
  "kernelspec": {
   "display_name": "Python 3",
   "language": "python",
   "name": "python3"
  },
  "language_info": {
   "codemirror_mode": {
    "name": "ipython",
    "version": 2
   },
   "file_extension": ".py",
   "mimetype": "text/x-python",
   "name": "python",
   "nbconvert_exporter": "python",
   "pygments_lexer": "ipython2",
   "version": "2.7.6"
  }
 },
 "nbformat": 4,
 "nbformat_minor": 5
}
