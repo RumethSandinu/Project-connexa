{
 "cells": [
  {
   "cell_type": "code",
   "execution_count": 1,
   "id": "initial_id",
   "metadata": {
    "collapsed": true,
    "ExecuteTime": {
     "end_time": "2023-12-02T08:06:36.658491Z",
     "start_time": "2023-12-02T08:06:35.404722Z"
    }
   },
   "outputs": [],
   "source": [
    "import pandas as pd\n",
    "from sklearn.preprocessing import MinMaxScaler\n",
    "import matplotlib.pyplot as plt\n",
    "from sklearn.cluster import KMeans\n",
    "import pickle"
   ]
  },
  {
   "cell_type": "code",
   "execution_count": 2,
   "outputs": [
    {
     "data": {
      "text/plain": "                            Item Name    Category Name  Quantity Sold (kilo)  \\\n305                   Yunnan Shengcai           Flower                 0.689   \n606925  Hfyg Haixian Mushroom (Bunch)  Edible Mushroom                 1.000   \n204157                       Broccoli          Cabbage                 0.334   \n286225                   Luosi Pepper         Capsicum                 0.602   \n635427            7 Colour Pepper (2)         Capsicum                 0.531   \n\n        Unit Selling Price (RMB/kg) Sale or Return Discount (Yes/No)  \n305                             8.0           sale                No  \n606925                          1.5           sale               Yes  \n204157                         12.0           sale                No  \n286225                          6.0           sale                No  \n635427                         25.8           sale                No  ",
      "text/html": "<div>\n<style scoped>\n    .dataframe tbody tr th:only-of-type {\n        vertical-align: middle;\n    }\n\n    .dataframe tbody tr th {\n        vertical-align: top;\n    }\n\n    .dataframe thead th {\n        text-align: right;\n    }\n</style>\n<table border=\"1\" class=\"dataframe\">\n  <thead>\n    <tr style=\"text-align: right;\">\n      <th></th>\n      <th>Item Name</th>\n      <th>Category Name</th>\n      <th>Quantity Sold (kilo)</th>\n      <th>Unit Selling Price (RMB/kg)</th>\n      <th>Sale or Return</th>\n      <th>Discount (Yes/No)</th>\n    </tr>\n  </thead>\n  <tbody>\n    <tr>\n      <th>305</th>\n      <td>Yunnan Shengcai</td>\n      <td>Flower</td>\n      <td>0.689</td>\n      <td>8.0</td>\n      <td>sale</td>\n      <td>No</td>\n    </tr>\n    <tr>\n      <th>606925</th>\n      <td>Hfyg Haixian Mushroom (Bunch)</td>\n      <td>Edible Mushroom</td>\n      <td>1.000</td>\n      <td>1.5</td>\n      <td>sale</td>\n      <td>Yes</td>\n    </tr>\n    <tr>\n      <th>204157</th>\n      <td>Broccoli</td>\n      <td>Cabbage</td>\n      <td>0.334</td>\n      <td>12.0</td>\n      <td>sale</td>\n      <td>No</td>\n    </tr>\n    <tr>\n      <th>286225</th>\n      <td>Luosi Pepper</td>\n      <td>Capsicum</td>\n      <td>0.602</td>\n      <td>6.0</td>\n      <td>sale</td>\n      <td>No</td>\n    </tr>\n    <tr>\n      <th>635427</th>\n      <td>7 Colour Pepper (2)</td>\n      <td>Capsicum</td>\n      <td>0.531</td>\n      <td>25.8</td>\n      <td>sale</td>\n      <td>No</td>\n    </tr>\n  </tbody>\n</table>\n</div>"
     },
     "execution_count": 2,
     "metadata": {},
     "output_type": "execute_result"
    }
   ],
   "source": [
    "df = pd.read_csv('/Users/rumethsandinu/Study/Assessments/Year 2/DSGP/Datasets/final_cleaned_dataset/cleaned_annex.csv')\n",
    "df.sample(5)"
   ],
   "metadata": {
    "collapsed": false,
    "ExecuteTime": {
     "end_time": "2023-12-02T08:06:36.964867Z",
     "start_time": "2023-12-02T08:06:36.659427Z"
    }
   },
   "id": "8313a95613700d05"
  },
  {
   "cell_type": "code",
   "execution_count": 3,
   "outputs": [
    {
     "data": {
      "text/plain": "Empty DataFrame\nColumns: [Item Name, Category Name, Quantity Sold (kilo), Unit Selling Price (RMB/kg), Sale or Return, Discount (Yes/No)]\nIndex: []",
      "text/html": "<div>\n<style scoped>\n    .dataframe tbody tr th:only-of-type {\n        vertical-align: middle;\n    }\n\n    .dataframe tbody tr th {\n        vertical-align: top;\n    }\n\n    .dataframe thead th {\n        text-align: right;\n    }\n</style>\n<table border=\"1\" class=\"dataframe\">\n  <thead>\n    <tr style=\"text-align: right;\">\n      <th></th>\n      <th>Item Name</th>\n      <th>Category Name</th>\n      <th>Quantity Sold (kilo)</th>\n      <th>Unit Selling Price (RMB/kg)</th>\n      <th>Sale or Return</th>\n      <th>Discount (Yes/No)</th>\n    </tr>\n  </thead>\n  <tbody>\n  </tbody>\n</table>\n</div>"
     },
     "execution_count": 3,
     "metadata": {},
     "output_type": "execute_result"
    }
   ],
   "source": [
    "df[df['Quantity Sold (kilo)'] > 150]"
   ],
   "metadata": {
    "collapsed": false,
    "ExecuteTime": {
     "end_time": "2023-12-02T08:06:37.020397Z",
     "start_time": "2023-12-02T08:06:36.966229Z"
    }
   },
   "id": "4c64c0388369e555"
  },
  {
   "cell_type": "code",
   "execution_count": 4,
   "outputs": [
    {
     "data": {
      "text/plain": "Sale or Return\nsale      878042\nreturn       461\nName: count, dtype: int64"
     },
     "execution_count": 4,
     "metadata": {},
     "output_type": "execute_result"
    }
   ],
   "source": [
    "df['Sale or Return'].value_counts()"
   ],
   "metadata": {
    "collapsed": false,
    "ExecuteTime": {
     "end_time": "2023-12-02T08:06:37.832389Z",
     "start_time": "2023-12-02T08:06:37.754854Z"
    }
   },
   "id": "b0482c9be872fd06"
  },
  {
   "cell_type": "code",
   "execution_count": 5,
   "outputs": [
    {
     "name": "stdout",
     "output_type": "stream",
     "text": [
      "<class 'pandas.core.frame.DataFrame'>\n",
      "RangeIndex: 878503 entries, 0 to 878502\n",
      "Data columns (total 6 columns):\n",
      " #   Column                       Non-Null Count   Dtype  \n",
      "---  ------                       --------------   -----  \n",
      " 0   Item Name                    878503 non-null  object \n",
      " 1   Category Name                878503 non-null  object \n",
      " 2   Quantity Sold (kilo)         878503 non-null  float64\n",
      " 3   Unit Selling Price (RMB/kg)  878503 non-null  float64\n",
      " 4   Sale or Return               878503 non-null  object \n",
      " 5   Discount (Yes/No)            878503 non-null  object \n",
      "dtypes: float64(2), object(4)\n",
      "memory usage: 40.2+ MB\n"
     ]
    }
   ],
   "source": [
    "df.info()"
   ],
   "metadata": {
    "collapsed": false,
    "ExecuteTime": {
     "end_time": "2023-12-02T08:06:38.355979Z",
     "start_time": "2023-12-02T08:06:38.278429Z"
    }
   },
   "id": "dac1c49b59693fcd"
  },
  {
   "cell_type": "code",
   "execution_count": 6,
   "outputs": [
    {
     "data": {
      "text/plain": "Discount (Yes/No)\nNo     831137\nYes     47366\nName: count, dtype: int64"
     },
     "execution_count": 6,
     "metadata": {},
     "output_type": "execute_result"
    }
   ],
   "source": [
    "df['Discount (Yes/No)'].value_counts()"
   ],
   "metadata": {
    "collapsed": false,
    "ExecuteTime": {
     "end_time": "2023-12-02T08:06:38.619442Z",
     "start_time": "2023-12-02T08:06:38.617473Z"
    }
   },
   "id": "c851d1885bf2cf9f"
  },
  {
   "cell_type": "code",
   "execution_count": 7,
   "outputs": [
    {
     "data": {
      "text/plain": "              Item Name Category Name  Quantity Sold (kilo)  \\\n0  Paopaojiao (Jingpin)      Capsicum              0.242516   \n1       Chinese Cabbage        Flower              0.254107   \n2  Paopaojiao (Jingpin)      Capsicum              0.242848   \n3          Shanghaiqing        Flower              0.243155   \n4                Caixin        Flower              0.246175   \n\n   Unit Selling Price (RMB/kg) Sale or Return Discount (Yes/No)  \n0                     0.062604           sale                No  \n1                     0.025876           sale                No  \n2                     0.062604           sale                No  \n3                     0.082638           sale                No  \n4                     0.065943           sale                No  ",
      "text/html": "<div>\n<style scoped>\n    .dataframe tbody tr th:only-of-type {\n        vertical-align: middle;\n    }\n\n    .dataframe tbody tr th {\n        vertical-align: top;\n    }\n\n    .dataframe thead th {\n        text-align: right;\n    }\n</style>\n<table border=\"1\" class=\"dataframe\">\n  <thead>\n    <tr style=\"text-align: right;\">\n      <th></th>\n      <th>Item Name</th>\n      <th>Category Name</th>\n      <th>Quantity Sold (kilo)</th>\n      <th>Unit Selling Price (RMB/kg)</th>\n      <th>Sale or Return</th>\n      <th>Discount (Yes/No)</th>\n    </tr>\n  </thead>\n  <tbody>\n    <tr>\n      <th>0</th>\n      <td>Paopaojiao (Jingpin)</td>\n      <td>Capsicum</td>\n      <td>0.242516</td>\n      <td>0.062604</td>\n      <td>sale</td>\n      <td>No</td>\n    </tr>\n    <tr>\n      <th>1</th>\n      <td>Chinese Cabbage</td>\n      <td>Flower</td>\n      <td>0.254107</td>\n      <td>0.025876</td>\n      <td>sale</td>\n      <td>No</td>\n    </tr>\n    <tr>\n      <th>2</th>\n      <td>Paopaojiao (Jingpin)</td>\n      <td>Capsicum</td>\n      <td>0.242848</td>\n      <td>0.062604</td>\n      <td>sale</td>\n      <td>No</td>\n    </tr>\n    <tr>\n      <th>3</th>\n      <td>Shanghaiqing</td>\n      <td>Flower</td>\n      <td>0.243155</td>\n      <td>0.082638</td>\n      <td>sale</td>\n      <td>No</td>\n    </tr>\n    <tr>\n      <th>4</th>\n      <td>Caixin</td>\n      <td>Flower</td>\n      <td>0.246175</td>\n      <td>0.065943</td>\n      <td>sale</td>\n      <td>No</td>\n    </tr>\n  </tbody>\n</table>\n</div>"
     },
     "execution_count": 7,
     "metadata": {},
     "output_type": "execute_result"
    }
   ],
   "source": [
    "scaler = MinMaxScaler()\n",
    "df.iloc[:,[2, 3]] = scaler.fit_transform(df.iloc[:,[2, 3]])\n",
    "df.head()"
   ],
   "metadata": {
    "collapsed": false,
    "ExecuteTime": {
     "end_time": "2023-12-02T08:06:38.837903Z",
     "start_time": "2023-12-02T08:06:38.823388Z"
    }
   },
   "id": "ae570d44d4b2d4c1"
  },
  {
   "cell_type": "code",
   "execution_count": 8,
   "outputs": [
    {
     "data": {
      "text/plain": "(0.0, 1.0)"
     },
     "execution_count": 8,
     "metadata": {},
     "output_type": "execute_result"
    }
   ],
   "source": [
    "df['Unit Selling Price (RMB/kg)'].min(), df['Unit Selling Price (RMB/kg)'].max()"
   ],
   "metadata": {
    "collapsed": false,
    "ExecuteTime": {
     "end_time": "2023-12-02T08:06:39.179517Z",
     "start_time": "2023-12-02T08:06:39.169545Z"
    }
   },
   "id": "71823ffce4ea06d6"
  },
  {
   "cell_type": "code",
   "execution_count": 9,
   "outputs": [
    {
     "data": {
      "text/plain": "(0.0, 1.0)"
     },
     "execution_count": 9,
     "metadata": {},
     "output_type": "execute_result"
    }
   ],
   "source": [
    "df['Quantity Sold (kilo)'].min(), df['Quantity Sold (kilo)'].max()"
   ],
   "metadata": {
    "collapsed": false,
    "ExecuteTime": {
     "end_time": "2023-12-02T08:06:39.523973Z",
     "start_time": "2023-12-02T08:06:39.517058Z"
    }
   },
   "id": "a36ffe3ee643fcda"
  },
  {
   "cell_type": "code",
   "execution_count": 10,
   "outputs": [
    {
     "data": {
      "text/plain": "                             Quantity Sold (kilo)  Unit Selling Price (RMB/kg)\nQuantity Sold (kilo)                     1.000000                    -0.413162\nUnit Selling Price (RMB/kg)             -0.413162                     1.000000",
      "text/html": "<div>\n<style scoped>\n    .dataframe tbody tr th:only-of-type {\n        vertical-align: middle;\n    }\n\n    .dataframe tbody tr th {\n        vertical-align: top;\n    }\n\n    .dataframe thead th {\n        text-align: right;\n    }\n</style>\n<table border=\"1\" class=\"dataframe\">\n  <thead>\n    <tr style=\"text-align: right;\">\n      <th></th>\n      <th>Quantity Sold (kilo)</th>\n      <th>Unit Selling Price (RMB/kg)</th>\n    </tr>\n  </thead>\n  <tbody>\n    <tr>\n      <th>Quantity Sold (kilo)</th>\n      <td>1.000000</td>\n      <td>-0.413162</td>\n    </tr>\n    <tr>\n      <th>Unit Selling Price (RMB/kg)</th>\n      <td>-0.413162</td>\n      <td>1.000000</td>\n    </tr>\n  </tbody>\n</table>\n</div>"
     },
     "execution_count": 10,
     "metadata": {},
     "output_type": "execute_result"
    }
   ],
   "source": [
    "df.iloc[:,[2, 3]].corr()"
   ],
   "metadata": {
    "collapsed": false,
    "ExecuteTime": {
     "end_time": "2023-12-02T08:06:39.827557Z",
     "start_time": "2023-12-02T08:06:39.805034Z"
    }
   },
   "id": "962c9c03464f3443"
  },
  {
   "cell_type": "code",
   "execution_count": 11,
   "outputs": [
    {
     "data": {
      "text/plain": "(878503, 254)"
     },
     "execution_count": 11,
     "metadata": {},
     "output_type": "execute_result"
    }
   ],
   "source": [
    "df = pd.get_dummies(df)\n",
    "df.shape"
   ],
   "metadata": {
    "collapsed": false,
    "ExecuteTime": {
     "end_time": "2023-12-02T08:06:40.735791Z",
     "start_time": "2023-12-02T08:06:40.045622Z"
    }
   },
   "id": "61320d2411114576"
  },
  {
   "cell_type": "code",
   "execution_count": 12,
   "outputs": [
    {
     "data": {
      "text/plain": "        Quantity Sold (kilo)  Unit Selling Price (RMB/kg)  \\\n232882              0.246814                     0.065943   \n276972              0.241108                     0.082638   \n753630              0.236656                     0.149416   \n701493              0.241083                     0.149416   \n319917              0.240929                     0.049249   \n\n        Item Name_7 Colour Pepper (1)  Item Name_7 Colour Pepper (2)  \\\n232882                          False                          False   \n276972                          False                          False   \n753630                          False                          False   \n701493                          False                          False   \n319917                          False                          False   \n\n        Item Name_7 Colour Pepper (Bag)  Item Name_Agaricus Bisporus (Bag)  \\\n232882                            False                              False   \n276972                            False                              False   \n753630                            False                              False   \n701493                            False                              False   \n319917                            False                              False   \n\n        Item Name_Agaricus Bisporus (Box)  Item Name_Aihao  \\\n232882                              False            False   \n276972                              False            False   \n753630                              False            False   \n701493                              False            False   \n319917                              False            False   \n\n        Item Name_Amaranth  Item Name_Amaranth (Bag)  ...  \\\n232882               False                     False  ...   \n276972               False                     False  ...   \n753630               False                     False  ...   \n701493               False                     False  ...   \n319917               False                     False  ...   \n\n        Category Name_Aquatic Tuberous Vegetables  Category Name_Cabbage  \\\n232882                                      False                  False   \n276972                                      False                   True   \n753630                                      False                  False   \n701493                                      False                  False   \n319917                                      False                  False   \n\n        Category Name_Capsicum  Category Name_Edible Mushroom  \\\n232882                   False                          False   \n276972                   False                          False   \n753630                   False                           True   \n701493                   False                           True   \n319917                   False                          False   \n\n        Category Name_Flower  Category Name_Solanum  Sale or Return_return  \\\n232882                  True                  False                  False   \n276972                 False                  False                  False   \n753630                 False                  False                  False   \n701493                 False                  False                  False   \n319917                  True                  False                  False   \n\n        Sale or Return_sale  Discount (Yes/No)_No  Discount (Yes/No)_Yes  \n232882                 True                  True                  False  \n276972                 True                  True                  False  \n753630                 True                  True                  False  \n701493                 True                  True                  False  \n319917                 True                  True                  False  \n\n[5 rows x 254 columns]",
      "text/html": "<div>\n<style scoped>\n    .dataframe tbody tr th:only-of-type {\n        vertical-align: middle;\n    }\n\n    .dataframe tbody tr th {\n        vertical-align: top;\n    }\n\n    .dataframe thead th {\n        text-align: right;\n    }\n</style>\n<table border=\"1\" class=\"dataframe\">\n  <thead>\n    <tr style=\"text-align: right;\">\n      <th></th>\n      <th>Quantity Sold (kilo)</th>\n      <th>Unit Selling Price (RMB/kg)</th>\n      <th>Item Name_7 Colour Pepper (1)</th>\n      <th>Item Name_7 Colour Pepper (2)</th>\n      <th>Item Name_7 Colour Pepper (Bag)</th>\n      <th>Item Name_Agaricus Bisporus (Bag)</th>\n      <th>Item Name_Agaricus Bisporus (Box)</th>\n      <th>Item Name_Aihao</th>\n      <th>Item Name_Amaranth</th>\n      <th>Item Name_Amaranth (Bag)</th>\n      <th>...</th>\n      <th>Category Name_Aquatic Tuberous Vegetables</th>\n      <th>Category Name_Cabbage</th>\n      <th>Category Name_Capsicum</th>\n      <th>Category Name_Edible Mushroom</th>\n      <th>Category Name_Flower</th>\n      <th>Category Name_Solanum</th>\n      <th>Sale or Return_return</th>\n      <th>Sale or Return_sale</th>\n      <th>Discount (Yes/No)_No</th>\n      <th>Discount (Yes/No)_Yes</th>\n    </tr>\n  </thead>\n  <tbody>\n    <tr>\n      <th>232882</th>\n      <td>0.246814</td>\n      <td>0.065943</td>\n      <td>False</td>\n      <td>False</td>\n      <td>False</td>\n      <td>False</td>\n      <td>False</td>\n      <td>False</td>\n      <td>False</td>\n      <td>False</td>\n      <td>...</td>\n      <td>False</td>\n      <td>False</td>\n      <td>False</td>\n      <td>False</td>\n      <td>True</td>\n      <td>False</td>\n      <td>False</td>\n      <td>True</td>\n      <td>True</td>\n      <td>False</td>\n    </tr>\n    <tr>\n      <th>276972</th>\n      <td>0.241108</td>\n      <td>0.082638</td>\n      <td>False</td>\n      <td>False</td>\n      <td>False</td>\n      <td>False</td>\n      <td>False</td>\n      <td>False</td>\n      <td>False</td>\n      <td>False</td>\n      <td>...</td>\n      <td>False</td>\n      <td>True</td>\n      <td>False</td>\n      <td>False</td>\n      <td>False</td>\n      <td>False</td>\n      <td>False</td>\n      <td>True</td>\n      <td>True</td>\n      <td>False</td>\n    </tr>\n    <tr>\n      <th>753630</th>\n      <td>0.236656</td>\n      <td>0.149416</td>\n      <td>False</td>\n      <td>False</td>\n      <td>False</td>\n      <td>False</td>\n      <td>False</td>\n      <td>False</td>\n      <td>False</td>\n      <td>False</td>\n      <td>...</td>\n      <td>False</td>\n      <td>False</td>\n      <td>False</td>\n      <td>True</td>\n      <td>False</td>\n      <td>False</td>\n      <td>False</td>\n      <td>True</td>\n      <td>True</td>\n      <td>False</td>\n    </tr>\n    <tr>\n      <th>701493</th>\n      <td>0.241083</td>\n      <td>0.149416</td>\n      <td>False</td>\n      <td>False</td>\n      <td>False</td>\n      <td>False</td>\n      <td>False</td>\n      <td>False</td>\n      <td>False</td>\n      <td>False</td>\n      <td>...</td>\n      <td>False</td>\n      <td>False</td>\n      <td>False</td>\n      <td>True</td>\n      <td>False</td>\n      <td>False</td>\n      <td>False</td>\n      <td>True</td>\n      <td>True</td>\n      <td>False</td>\n    </tr>\n    <tr>\n      <th>319917</th>\n      <td>0.240929</td>\n      <td>0.049249</td>\n      <td>False</td>\n      <td>False</td>\n      <td>False</td>\n      <td>False</td>\n      <td>False</td>\n      <td>False</td>\n      <td>False</td>\n      <td>False</td>\n      <td>...</td>\n      <td>False</td>\n      <td>False</td>\n      <td>False</td>\n      <td>False</td>\n      <td>True</td>\n      <td>False</td>\n      <td>False</td>\n      <td>True</td>\n      <td>True</td>\n      <td>False</td>\n    </tr>\n  </tbody>\n</table>\n<p>5 rows × 254 columns</p>\n</div>"
     },
     "execution_count": 12,
     "metadata": {},
     "output_type": "execute_result"
    }
   ],
   "source": [
    "df.sample(5)"
   ],
   "metadata": {
    "collapsed": false,
    "ExecuteTime": {
     "end_time": "2023-12-02T08:06:40.755337Z",
     "start_time": "2023-12-02T08:06:40.736455Z"
    }
   },
   "id": "859e7a8200e5c83f"
  },
  {
   "cell_type": "code",
   "execution_count": 16,
   "outputs": [
    {
     "name": "stdout",
     "output_type": "stream",
     "text": [
      "Training : 5\n"
     ]
    },
    {
     "name": "stderr",
     "output_type": "stream",
     "text": [
      "/Users/rumethsandinu/Library/Python/3.9/lib/python/site-packages/sklearn/cluster/_kmeans.py:1416: FutureWarning: The default value of `n_init` will change from 10 to 'auto' in 1.4. Set the value of `n_init` explicitly to suppress the warning\n",
      "  super()._check_params_vs_input(X, default_n_init=10)\n"
     ]
    },
    {
     "name": "stdout",
     "output_type": "stream",
     "text": [
      "Clusters --> \u001B[34m5\u001B[39m    WCSS --> \u001B[31m886009.0077551659\u001B[39m\n",
      "Training : 6\n"
     ]
    },
    {
     "name": "stderr",
     "output_type": "stream",
     "text": [
      "/Users/rumethsandinu/Library/Python/3.9/lib/python/site-packages/sklearn/cluster/_kmeans.py:1416: FutureWarning: The default value of `n_init` will change from 10 to 'auto' in 1.4. Set the value of `n_init` explicitly to suppress the warning\n",
      "  super()._check_params_vs_input(X, default_n_init=10)\n"
     ]
    },
    {
     "name": "stdout",
     "output_type": "stream",
     "text": [
      "Clusters --> \u001B[34m6\u001B[39m    WCSS --> \u001B[31m812449.6923537735\u001B[39m\n",
      "Training : 7\n"
     ]
    },
    {
     "name": "stderr",
     "output_type": "stream",
     "text": [
      "/Users/rumethsandinu/Library/Python/3.9/lib/python/site-packages/sklearn/cluster/_kmeans.py:1416: FutureWarning: The default value of `n_init` will change from 10 to 'auto' in 1.4. Set the value of `n_init` explicitly to suppress the warning\n",
      "  super()._check_params_vs_input(X, default_n_init=10)\n"
     ]
    },
    {
     "name": "stdout",
     "output_type": "stream",
     "text": [
      "Clusters --> \u001B[34m7\u001B[39m    WCSS --> \u001B[31m765410.6516004695\u001B[39m\n",
      "Training : 8\n"
     ]
    },
    {
     "name": "stderr",
     "output_type": "stream",
     "text": [
      "/Users/rumethsandinu/Library/Python/3.9/lib/python/site-packages/sklearn/cluster/_kmeans.py:1416: FutureWarning: The default value of `n_init` will change from 10 to 'auto' in 1.4. Set the value of `n_init` explicitly to suppress the warning\n",
      "  super()._check_params_vs_input(X, default_n_init=10)\n"
     ]
    },
    {
     "name": "stdout",
     "output_type": "stream",
     "text": [
      "Clusters --> \u001B[34m8\u001B[39m    WCSS --> \u001B[31m715538.2564226727\u001B[39m\n",
      "Training : 9\n"
     ]
    },
    {
     "name": "stderr",
     "output_type": "stream",
     "text": [
      "/Users/rumethsandinu/Library/Python/3.9/lib/python/site-packages/sklearn/cluster/_kmeans.py:1416: FutureWarning: The default value of `n_init` will change from 10 to 'auto' in 1.4. Set the value of `n_init` explicitly to suppress the warning\n",
      "  super()._check_params_vs_input(X, default_n_init=10)\n"
     ]
    },
    {
     "name": "stdout",
     "output_type": "stream",
     "text": [
      "Clusters --> \u001B[34m9\u001B[39m    WCSS --> \u001B[31m704020.4651160446\u001B[39m\n",
      "Training : 10\n"
     ]
    },
    {
     "name": "stderr",
     "output_type": "stream",
     "text": [
      "/Users/rumethsandinu/Library/Python/3.9/lib/python/site-packages/sklearn/cluster/_kmeans.py:1416: FutureWarning: The default value of `n_init` will change from 10 to 'auto' in 1.4. Set the value of `n_init` explicitly to suppress the warning\n",
      "  super()._check_params_vs_input(X, default_n_init=10)\n"
     ]
    },
    {
     "name": "stdout",
     "output_type": "stream",
     "text": [
      "Clusters --> \u001B[34m10\u001B[39m    WCSS --> \u001B[31m670878.360961041\u001B[39m\n",
      "Training : 11\n"
     ]
    },
    {
     "name": "stderr",
     "output_type": "stream",
     "text": [
      "/Users/rumethsandinu/Library/Python/3.9/lib/python/site-packages/sklearn/cluster/_kmeans.py:1416: FutureWarning: The default value of `n_init` will change from 10 to 'auto' in 1.4. Set the value of `n_init` explicitly to suppress the warning\n",
      "  super()._check_params_vs_input(X, default_n_init=10)\n"
     ]
    },
    {
     "name": "stdout",
     "output_type": "stream",
     "text": [
      "Clusters --> \u001B[34m11\u001B[39m    WCSS --> \u001B[31m635669.3300951966\u001B[39m\n",
      "Training : 12\n"
     ]
    },
    {
     "name": "stderr",
     "output_type": "stream",
     "text": [
      "/Users/rumethsandinu/Library/Python/3.9/lib/python/site-packages/sklearn/cluster/_kmeans.py:1416: FutureWarning: The default value of `n_init` will change from 10 to 'auto' in 1.4. Set the value of `n_init` explicitly to suppress the warning\n",
      "  super()._check_params_vs_input(X, default_n_init=10)\n"
     ]
    },
    {
     "name": "stdout",
     "output_type": "stream",
     "text": [
      "Clusters --> \u001B[34m12\u001B[39m    WCSS --> \u001B[31m620898.3653789582\u001B[39m\n",
      "Training : 13\n"
     ]
    },
    {
     "name": "stderr",
     "output_type": "stream",
     "text": [
      "/Users/rumethsandinu/Library/Python/3.9/lib/python/site-packages/sklearn/cluster/_kmeans.py:1416: FutureWarning: The default value of `n_init` will change from 10 to 'auto' in 1.4. Set the value of `n_init` explicitly to suppress the warning\n",
      "  super()._check_params_vs_input(X, default_n_init=10)\n"
     ]
    },
    {
     "name": "stdout",
     "output_type": "stream",
     "text": [
      "Clusters --> \u001B[34m13\u001B[39m    WCSS --> \u001B[31m593040.9369365929\u001B[39m\n"
     ]
    }
   ],
   "source": [
    "k_values_lower = 5\n",
    "k_values_upper = 14\n",
    "\n",
    "k_values = range(k_values_lower, k_values_upper)\n",
    "\n",
    "wcss_values = []\n",
    "\n",
    "for k in k_values:\n",
    "    print(f'Training : {k}')\n",
    "    kmeans = KMeans(n_clusters=k, random_state=42)\n",
    "    kmeans.fit(df)\n",
    "    wcss_values.append(kmeans.inertia_)\n",
    "    print(f'Clusters --> \\u001B[34m{k}\\u001B[39m    WCSS --> \\u001B[31m{wcss_values[-1]}\\u001B[39m')"
   ],
   "metadata": {
    "collapsed": false,
    "ExecuteTime": {
     "end_time": "2023-12-02T08:18:46.964872Z",
     "start_time": "2023-12-02T08:15:13.193954Z"
    }
   },
   "id": "4ba586ebe25af939"
  },
  {
   "cell_type": "code",
   "execution_count": 17,
   "outputs": [
    {
     "data": {
      "text/plain": "<Figure size 640x480 with 1 Axes>",
      "image/png": "[encoded data removed]"
     },
     "metadata": {},
     "output_type": "display_data"
    }
   ],
   "source": [
    "# Plot the results\n",
    "plt.plot(k_values, wcss_values, marker='o')\n",
    "plt.title('WCSS for different k values')\n",
    "plt.xlabel('Number of clusters (k_value)')\n",
    "plt.ylabel('WCSS')\n",
    "plt.show()"
   ],
   "metadata": {
    "collapsed": false,
    "ExecuteTime": {
     "end_time": "2023-12-02T08:18:47.104783Z",
     "start_time": "2023-12-02T08:18:47.014440Z"
    }
   },
   "id": "fa04aad0c78f3b10"
  },
  {
   "cell_type": "code",
   "execution_count": 18,
   "outputs": [
    {
     "name": "stderr",
     "output_type": "stream",
     "text": [
      "/Users/rumethsandinu/Library/Python/3.9/lib/python/site-packages/sklearn/cluster/_kmeans.py:1416: FutureWarning: The default value of `n_init` will change from 10 to 'auto' in 1.4. Set the value of `n_init` explicitly to suppress the warning\n",
      "  super()._check_params_vs_input(X, default_n_init=10)\n"
     ]
    }
   ],
   "source": [
    "model = KMeans(n_clusters=8)\n",
    "pred = model.fit_predict(df)"
   ],
   "metadata": {
    "collapsed": false,
    "ExecuteTime": {
     "end_time": "2023-12-02T08:20:01.722517Z",
     "start_time": "2023-12-02T08:19:38.559199Z"
    }
   },
   "id": "60a54a0c3bb06ca9"
  },
  {
   "cell_type": "code",
   "execution_count": 19,
   "outputs": [
    {
     "data": {
      "text/plain": "array([4, 6, 4, ..., 3, 2, 0], dtype=int32)"
     },
     "execution_count": 19,
     "metadata": {},
     "output_type": "execute_result"
    }
   ],
   "source": [
    "pred"
   ],
   "metadata": {
    "collapsed": false,
    "ExecuteTime": {
     "end_time": "2023-12-02T08:20:01.731340Z",
     "start_time": "2023-12-02T08:20:01.728548Z"
    }
   },
   "id": "2fbf183c1adb5db6"
  },
  {
   "cell_type": "code",
   "execution_count": 20,
   "outputs": [],
   "source": [
    "df['Amount'] = df['Quantity Sold (kilo)'] * df['Unit Selling Price (RMB/kg)']"
   ],
   "metadata": {
    "collapsed": false,
    "ExecuteTime": {
     "end_time": "2023-12-02T08:20:01.754574Z",
     "start_time": "2023-12-02T08:20:01.740050Z"
    }
   },
   "id": "eafd41f070ef7d05"
  },
  {
   "cell_type": "code",
   "execution_count": 21,
   "outputs": [
    {
     "data": {
      "text/plain": "   Quantity Sold (kilo)  Unit Selling Price (RMB/kg)  \\\n0              0.242516                     0.062604   \n1              0.254107                     0.025876   \n2              0.242848                     0.062604   \n3              0.243155                     0.082638   \n4              0.246175                     0.065943   \n\n   Item Name_7 Colour Pepper (1)  Item Name_7 Colour Pepper (2)  \\\n0                          False                          False   \n1                          False                          False   \n2                          False                          False   \n3                          False                          False   \n4                          False                          False   \n\n   Item Name_7 Colour Pepper (Bag)  Item Name_Agaricus Bisporus (Bag)  \\\n0                            False                              False   \n1                            False                              False   \n2                            False                              False   \n3                            False                              False   \n4                            False                              False   \n\n   Item Name_Agaricus Bisporus (Box)  Item Name_Aihao  Item Name_Amaranth  \\\n0                              False            False               False   \n1                              False            False               False   \n2                              False            False               False   \n3                              False            False               False   \n4                              False            False               False   \n\n   Item Name_Amaranth (Bag)  ...  Category Name_Capsicum  \\\n0                     False  ...                    True   \n1                     False  ...                   False   \n2                     False  ...                    True   \n3                     False  ...                   False   \n4                     False  ...                   False   \n\n   Category Name_Edible Mushroom  Category Name_Flower  Category Name_Solanum  \\\n0                          False                 False                  False   \n1                          False                  True                  False   \n2                          False                 False                  False   \n3                          False                  True                  False   \n4                          False                  True                  False   \n\n   Sale or Return_return  Sale or Return_sale  Discount (Yes/No)_No  \\\n0                  False                 True                  True   \n1                  False                 True                  True   \n2                  False                 True                  True   \n3                  False                 True                  True   \n4                  False                 True                  True   \n\n   Discount (Yes/No)_Yes    Amount  cluster  \n0                  False  0.015183        4  \n1                  False  0.006575        6  \n2                  False  0.015203        4  \n3                  False  0.020094        6  \n4                  False  0.016234        6  \n\n[5 rows x 256 columns]",
      "text/html": "<div>\n<style scoped>\n    .dataframe tbody tr th:only-of-type {\n        vertical-align: middle;\n    }\n\n    .dataframe tbody tr th {\n        vertical-align: top;\n    }\n\n    .dataframe thead th {\n        text-align: right;\n    }\n</style>\n<table border=\"1\" class=\"dataframe\">\n  <thead>\n    <tr style=\"text-align: right;\">\n      <th></th>\n      <th>Quantity Sold (kilo)</th>\n      <th>Unit Selling Price (RMB/kg)</th>\n      <th>Item Name_7 Colour Pepper (1)</th>\n      <th>Item Name_7 Colour Pepper (2)</th>\n      <th>Item Name_7 Colour Pepper (Bag)</th>\n      <th>Item Name_Agaricus Bisporus (Bag)</th>\n      <th>Item Name_Agaricus Bisporus (Box)</th>\n      <th>Item Name_Aihao</th>\n      <th>Item Name_Amaranth</th>\n      <th>Item Name_Amaranth (Bag)</th>\n      <th>...</th>\n      <th>Category Name_Capsicum</th>\n      <th>Category Name_Edible Mushroom</th>\n      <th>Category Name_Flower</th>\n      <th>Category Name_Solanum</th>\n      <th>Sale or Return_return</th>\n      <th>Sale or Return_sale</th>\n      <th>Discount (Yes/No)_No</th>\n      <th>Discount (Yes/No)_Yes</th>\n      <th>Amount</th>\n      <th>cluster</th>\n    </tr>\n  </thead>\n  <tbody>\n    <tr>\n      <th>0</th>\n      <td>0.242516</td>\n      <td>0.062604</td>\n      <td>False</td>\n      <td>False</td>\n      <td>False</td>\n      <td>False</td>\n      <td>False</td>\n      <td>False</td>\n      <td>False</td>\n      <td>False</td>\n      <td>...</td>\n      <td>True</td>\n      <td>False</td>\n      <td>False</td>\n      <td>False</td>\n      <td>False</td>\n      <td>True</td>\n      <td>True</td>\n      <td>False</td>\n      <td>0.015183</td>\n      <td>4</td>\n    </tr>\n    <tr>\n      <th>1</th>\n      <td>0.254107</td>\n      <td>0.025876</td>\n      <td>False</td>\n      <td>False</td>\n      <td>False</td>\n      <td>False</td>\n      <td>False</td>\n      <td>False</td>\n      <td>False</td>\n      <td>False</td>\n      <td>...</td>\n      <td>False</td>\n      <td>False</td>\n      <td>True</td>\n      <td>False</td>\n      <td>False</td>\n      <td>True</td>\n      <td>True</td>\n      <td>False</td>\n      <td>0.006575</td>\n      <td>6</td>\n    </tr>\n    <tr>\n      <th>2</th>\n      <td>0.242848</td>\n      <td>0.062604</td>\n      <td>False</td>\n      <td>False</td>\n      <td>False</td>\n      <td>False</td>\n      <td>False</td>\n      <td>False</td>\n      <td>False</td>\n      <td>False</td>\n      <td>...</td>\n      <td>True</td>\n      <td>False</td>\n      <td>False</td>\n      <td>False</td>\n      <td>False</td>\n      <td>True</td>\n      <td>True</td>\n      <td>False</td>\n      <td>0.015203</td>\n      <td>4</td>\n    </tr>\n    <tr>\n      <th>3</th>\n      <td>0.243155</td>\n      <td>0.082638</td>\n      <td>False</td>\n      <td>False</td>\n      <td>False</td>\n      <td>False</td>\n      <td>False</td>\n      <td>False</td>\n      <td>False</td>\n      <td>False</td>\n      <td>...</td>\n      <td>False</td>\n      <td>False</td>\n      <td>True</td>\n      <td>False</td>\n      <td>False</td>\n      <td>True</td>\n      <td>True</td>\n      <td>False</td>\n      <td>0.020094</td>\n      <td>6</td>\n    </tr>\n    <tr>\n      <th>4</th>\n      <td>0.246175</td>\n      <td>0.065943</td>\n      <td>False</td>\n      <td>False</td>\n      <td>False</td>\n      <td>False</td>\n      <td>False</td>\n      <td>False</td>\n      <td>False</td>\n      <td>False</td>\n      <td>...</td>\n      <td>False</td>\n      <td>False</td>\n      <td>True</td>\n      <td>False</td>\n      <td>False</td>\n      <td>True</td>\n      <td>True</td>\n      <td>False</td>\n      <td>0.016234</td>\n      <td>6</td>\n    </tr>\n  </tbody>\n</table>\n<p>5 rows × 256 columns</p>\n</div>"
     },
     "execution_count": 21,
     "metadata": {},
     "output_type": "execute_result"
    }
   ],
   "source": [
    "df['cluster'] = pred\n",
    "df.head(5)"
   ],
   "metadata": {
    "collapsed": false,
    "ExecuteTime": {
     "end_time": "2023-12-02T08:20:01.781996Z",
     "start_time": "2023-12-02T08:20:01.757132Z"
    }
   },
   "id": "bf3eb4d6251dbc2e"
  },
  {
   "cell_type": "code",
   "execution_count": 22,
   "outputs": [],
   "source": [
    "c1 = df[df['cluster'] == 0]\n",
    "c2 = df[df['cluster'] == 1]\n",
    "c3 = df[df['cluster'] == 2]\n",
    "c4 = df[df['cluster'] == 3]\n",
    "c5 = df[df['cluster'] == 4]\n",
    "c6 = df[df['cluster'] == 5]\n",
    "c7 = df[df['cluster'] == 6]\n",
    "c8 = df[df['cluster'] == 7]"
   ],
   "metadata": {
    "collapsed": false,
    "ExecuteTime": {
     "end_time": "2023-12-02T08:20:01.969468Z",
     "start_time": "2023-12-02T08:20:01.783882Z"
    }
   },
   "id": "cc21e03dc648a572"
  },
  {
   "cell_type": "code",
   "execution_count": 23,
   "outputs": [
    {
     "data": {
      "text/plain": "<matplotlib.collections.PathCollection at 0x318690610>"
     },
     "execution_count": 23,
     "metadata": {},
     "output_type": "execute_result"
    },
    {
     "data": {
      "text/plain": "<Figure size 640x480 with 1 Axes>",
      "image/png": "[encoded data removed]"
     },
     "metadata": {},
     "output_type": "display_data"
    }
   ],
   "source": [
    "plt.scatter(c1['Unit Selling Price (RMB/kg)'], c1['Quantity Sold (kilo)'])\n",
    "plt.scatter(c2['Unit Selling Price (RMB/kg)'], c2['Quantity Sold (kilo)'])\n",
    "plt.scatter(c3['Unit Selling Price (RMB/kg)'], c3['Quantity Sold (kilo)'])\n",
    "plt.scatter(c4['Unit Selling Price (RMB/kg)'], c4['Quantity Sold (kilo)'])\n",
    "plt.scatter(c5['Unit Selling Price (RMB/kg)'], c5['Quantity Sold (kilo)'])\n",
    "plt.scatter(c6['Unit Selling Price (RMB/kg)'], c6['Quantity Sold (kilo)'])\n",
    "plt.scatter(c7['Unit Selling Price (RMB/kg)'], c7['Quantity Sold (kilo)'])\n",
    "plt.scatter(c8['Unit Selling Price (RMB/kg)'], c8['Quantity Sold (kilo)'])"
   ],
   "metadata": {
    "collapsed": false,
    "ExecuteTime": {
     "end_time": "2023-12-02T08:20:02.945467Z",
     "start_time": "2023-12-02T08:20:01.983190Z"
    }
   },
   "id": "3a92020fce495345"
  },
  {
   "cell_type": "code",
   "execution_count": 24,
   "outputs": [
    {
     "data": {
      "text/plain": "<matplotlib.collections.PathCollection at 0x318515190>"
     },
     "execution_count": 24,
     "metadata": {},
     "output_type": "execute_result"
    },
    {
     "data": {
      "text/plain": "<Figure size 640x480 with 1 Axes>",
      "image/png": "[encoded data removed]"
     },
     "metadata": {},
     "output_type": "display_data"
    }
   ],
   "source": [
    "plt.scatter(c1['Amount'], [0] * len(c1['Amount']))\n",
    "plt.scatter(c2['Amount'], [1] * len(c2['Amount']))\n",
    "plt.scatter(c3['Amount'], [2] * len(c3['Amount']))\n",
    "plt.scatter(c4['Amount'], [3] * len(c4['Amount']))\n",
    "plt.scatter(c5['Amount'], [4] * len(c5['Amount']))\n",
    "plt.scatter(c6['Amount'], [5] * len(c6['Amount']))\n",
    "plt.scatter(c7['Amount'], [6] * len(c7['Amount']))\n",
    "plt.scatter(c8['Amount'], [7] * len(c8['Amount']))"
   ],
   "metadata": {
    "collapsed": false,
    "ExecuteTime": {
     "end_time": "2023-12-02T08:20:04.786492Z",
     "start_time": "2023-12-02T08:20:03.006356Z"
    }
   },
   "id": "350c744027d3e012"
  },
  {
   "cell_type": "code",
   "execution_count": 25,
   "outputs": [
    {
     "data": {
      "text/plain": "(44741, 84346, 69945, 136728, 131957, 56994, 315286, 38506)"
     },
     "execution_count": 25,
     "metadata": {},
     "output_type": "execute_result"
    }
   ],
   "source": [
    "c1.shape[0] , c2.shape[0], c3.shape[0], c4.shape[0], c5.shape[0], c6.shape[0], c7.shape[0], c8.shape[0]"
   ],
   "metadata": {
    "collapsed": false,
    "ExecuteTime": {
     "end_time": "2023-12-02T08:20:04.789531Z",
     "start_time": "2023-12-02T08:20:04.786644Z"
    }
   },
   "id": "328ecd5848c0925a"
  },
  {
   "cell_type": "code",
   "execution_count": 26,
   "outputs": [],
   "source": [
    "# save model\n",
    "with open ('/Users/rumethsandinu/Study/Assessments/Year 2/DSGP/Project-connexa/Rumeth/saved model/model.pickle', 'wb') as file:\n",
    "    pickle.dump(model, file)"
   ],
   "metadata": {
    "collapsed": false,
    "ExecuteTime": {
     "end_time": "2023-12-02T08:20:04.796723Z",
     "start_time": "2023-12-02T08:20:04.790724Z"
    }
   },
   "id": "3e3c9b3fe356ed34"
  }
 ],
 "metadata": {
  "kernelspec": {
   "display_name": "Python 3",
   "language": "python",
   "name": "python3"
  },
  "language_info": {
   "codemirror_mode": {
    "name": "ipython",
    "version": 2
   },
   "file_extension": ".py",
   "mimetype": "text/x-python",
   "name": "python",
   "nbconvert_exporter": "python",
   "pygments_lexer": "ipython2",
   "version": "2.7.6"
  }
 },
 "nbformat": 4,
 "nbformat_minor": 5
}
