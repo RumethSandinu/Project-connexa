{
 "cells": [
  {
   "cell_type": "code",
   "execution_count": 1,
   "id": "initial_id",
   "metadata": {
    "collapsed": true,
    "ExecuteTime": {
     "end_time": "2023-11-30T18:47:24.560668Z",
     "start_time": "2023-11-30T18:47:23.657357Z"
    }
   },
   "outputs": [],
   "source": [
    "import pandas as pd\n",
    "from sklearn.preprocessing import StandardScaler\n",
    "import matplotlib.pyplot as plt\n",
    "from sklearn.cluster import KMeans"
   ]
  },
  {
   "cell_type": "code",
   "execution_count": 2,
   "outputs": [
    {
     "data": {
      "text/plain": "                        Item Name                Category Name  \\\n465309         Net Lotus Root (1)  Aquatic Tuberous Vegetables   \n623020         Net Lotus Root (1)  Aquatic Tuberous Vegetables   \n815082    Zhijiang Qinggengsanhua                      Cabbage   \n350605  Green Hangzhou Pepper (2)                     Capsicum   \n45652        Paopaojiao (Jingpin)                     Capsicum   \n\n        Quantity Sold (kilo)  Unit Selling Price (RMB/kg) Sale or Return  \\\n465309                 0.474                          6.0           sale   \n623020                 1.508                          8.0           sale   \n815082                 0.455                         10.8           sale   \n350605                 0.100                          8.0           sale   \n45652                  0.220                         10.0           sale   \n\n       Discount (Yes/No)  \n465309               Yes  \n623020                No  \n815082                No  \n350605                No  \n45652                 No  ",
      "text/html": "<div>\n<style scoped>\n    .dataframe tbody tr th:only-of-type {\n        vertical-align: middle;\n    }\n\n    .dataframe tbody tr th {\n        vertical-align: top;\n    }\n\n    .dataframe thead th {\n        text-align: right;\n    }\n</style>\n<table border=\"1\" class=\"dataframe\">\n  <thead>\n    <tr style=\"text-align: right;\">\n      <th></th>\n      <th>Item Name</th>\n      <th>Category Name</th>\n      <th>Quantity Sold (kilo)</th>\n      <th>Unit Selling Price (RMB/kg)</th>\n      <th>Sale or Return</th>\n      <th>Discount (Yes/No)</th>\n    </tr>\n  </thead>\n  <tbody>\n    <tr>\n      <th>465309</th>\n      <td>Net Lotus Root (1)</td>\n      <td>Aquatic Tuberous Vegetables</td>\n      <td>0.474</td>\n      <td>6.0</td>\n      <td>sale</td>\n      <td>Yes</td>\n    </tr>\n    <tr>\n      <th>623020</th>\n      <td>Net Lotus Root (1)</td>\n      <td>Aquatic Tuberous Vegetables</td>\n      <td>1.508</td>\n      <td>8.0</td>\n      <td>sale</td>\n      <td>No</td>\n    </tr>\n    <tr>\n      <th>815082</th>\n      <td>Zhijiang Qinggengsanhua</td>\n      <td>Cabbage</td>\n      <td>0.455</td>\n      <td>10.8</td>\n      <td>sale</td>\n      <td>No</td>\n    </tr>\n    <tr>\n      <th>350605</th>\n      <td>Green Hangzhou Pepper (2)</td>\n      <td>Capsicum</td>\n      <td>0.100</td>\n      <td>8.0</td>\n      <td>sale</td>\n      <td>No</td>\n    </tr>\n    <tr>\n      <th>45652</th>\n      <td>Paopaojiao (Jingpin)</td>\n      <td>Capsicum</td>\n      <td>0.220</td>\n      <td>10.0</td>\n      <td>sale</td>\n      <td>No</td>\n    </tr>\n  </tbody>\n</table>\n</div>"
     },
     "execution_count": 2,
     "metadata": {},
     "output_type": "execute_result"
    }
   ],
   "source": [
    "df = pd.read_csv('/Users/rumethsandinu/Study/Assessments/Year 2/DSGP/Datasets/final_cleaned_dataset/cleaned_annex.csv')\n",
    "df.sample(5)"
   ],
   "metadata": {
    "collapsed": false,
    "ExecuteTime": {
     "end_time": "2023-11-30T18:47:24.875788Z",
     "start_time": "2023-11-30T18:47:24.563559Z"
    }
   },
   "id": "8313a95613700d05"
  },
  {
   "cell_type": "code",
   "execution_count": 3,
   "outputs": [
    {
     "data": {
      "text/plain": "Sale or Return\nsale      878042\nreturn       461\nName: count, dtype: int64"
     },
     "execution_count": 3,
     "metadata": {},
     "output_type": "execute_result"
    }
   ],
   "source": [
    "df['Sale or Return'].value_counts()"
   ],
   "metadata": {
    "collapsed": false,
    "ExecuteTime": {
     "end_time": "2023-11-30T18:47:24.923484Z",
     "start_time": "2023-11-30T18:47:24.897629Z"
    }
   },
   "id": "b0482c9be872fd06"
  },
  {
   "cell_type": "code",
   "execution_count": 4,
   "outputs": [
    {
     "name": "stdout",
     "output_type": "stream",
     "text": [
      "<class 'pandas.core.frame.DataFrame'>\n",
      "RangeIndex: 878503 entries, 0 to 878502\n",
      "Data columns (total 6 columns):\n",
      " #   Column                       Non-Null Count   Dtype  \n",
      "---  ------                       --------------   -----  \n",
      " 0   Item Name                    878503 non-null  object \n",
      " 1   Category Name                878503 non-null  object \n",
      " 2   Quantity Sold (kilo)         878503 non-null  float64\n",
      " 3   Unit Selling Price (RMB/kg)  878503 non-null  float64\n",
      " 4   Sale or Return               878503 non-null  object \n",
      " 5   Discount (Yes/No)            878503 non-null  object \n",
      "dtypes: float64(2), object(4)\n",
      "memory usage: 40.2+ MB\n"
     ]
    }
   ],
   "source": [
    "df.info()"
   ],
   "metadata": {
    "collapsed": false,
    "ExecuteTime": {
     "end_time": "2023-11-30T18:47:24.965218Z",
     "start_time": "2023-11-30T18:47:24.900627Z"
    }
   },
   "id": "dac1c49b59693fcd"
  },
  {
   "cell_type": "code",
   "execution_count": 5,
   "outputs": [
    {
     "data": {
      "text/plain": "Discount (Yes/No)\nNo     831137\nYes     47366\nName: count, dtype: int64"
     },
     "execution_count": 5,
     "metadata": {},
     "output_type": "execute_result"
    }
   ],
   "source": [
    "df['Discount (Yes/No)'].value_counts()"
   ],
   "metadata": {
    "collapsed": false,
    "ExecuteTime": {
     "end_time": "2023-11-30T18:47:25.008289Z",
     "start_time": "2023-11-30T18:47:24.989315Z"
    }
   },
   "id": "c851d1885bf2cf9f"
  },
  {
   "cell_type": "code",
   "execution_count": 6,
   "outputs": [],
   "source": [
    "scaler = StandardScaler()\n",
    "df.iloc[:,[2, 3]] = scaler.fit_transform(df.iloc[:,[2, 3]])"
   ],
   "metadata": {
    "collapsed": false,
    "ExecuteTime": {
     "end_time": "2023-11-30T18:47:25.009104Z",
     "start_time": "2023-11-30T18:47:24.993534Z"
    }
   },
   "id": "ae570d44d4b2d4c1"
  },
  {
   "cell_type": "code",
   "execution_count": 7,
   "outputs": [
    {
     "data": {
      "text/plain": "(-1.397049336052622, 17.584892414875554)"
     },
     "execution_count": 7,
     "metadata": {},
     "output_type": "execute_result"
    }
   ],
   "source": [
    "df['Unit Selling Price (RMB/kg)'].min(), df['Unit Selling Price (RMB/kg)'].max()"
   ],
   "metadata": {
    "collapsed": false,
    "ExecuteTime": {
     "end_time": "2023-11-30T18:47:25.009788Z",
     "start_time": "2023-11-30T18:47:25.005987Z"
    }
   },
   "id": "71823ffce4ea06d6"
  },
  {
   "cell_type": "code",
   "execution_count": 8,
   "outputs": [
    {
     "data": {
      "text/plain": "                             Quantity Sold (kilo)  Unit Selling Price (RMB/kg)\nQuantity Sold (kilo)                     1.000000                    -0.374163\nUnit Selling Price (RMB/kg)             -0.374163                     1.000000",
      "text/html": "<div>\n<style scoped>\n    .dataframe tbody tr th:only-of-type {\n        vertical-align: middle;\n    }\n\n    .dataframe tbody tr th {\n        vertical-align: top;\n    }\n\n    .dataframe thead th {\n        text-align: right;\n    }\n</style>\n<table border=\"1\" class=\"dataframe\">\n  <thead>\n    <tr style=\"text-align: right;\">\n      <th></th>\n      <th>Quantity Sold (kilo)</th>\n      <th>Unit Selling Price (RMB/kg)</th>\n    </tr>\n  </thead>\n  <tbody>\n    <tr>\n      <th>Quantity Sold (kilo)</th>\n      <td>1.000000</td>\n      <td>-0.374163</td>\n    </tr>\n    <tr>\n      <th>Unit Selling Price (RMB/kg)</th>\n      <td>-0.374163</td>\n      <td>1.000000</td>\n    </tr>\n  </tbody>\n</table>\n</div>"
     },
     "execution_count": 8,
     "metadata": {},
     "output_type": "execute_result"
    }
   ],
   "source": [
    "df.iloc[:,[2, 3]].corr()"
   ],
   "metadata": {
    "collapsed": false,
    "ExecuteTime": {
     "end_time": "2023-11-30T18:47:25.028369Z",
     "start_time": "2023-11-30T18:47:25.010496Z"
    }
   },
   "id": "962c9c03464f3443"
  },
  {
   "cell_type": "code",
   "execution_count": 9,
   "outputs": [
    {
     "data": {
      "text/plain": "(878503, 254)"
     },
     "execution_count": 9,
     "metadata": {},
     "output_type": "execute_result"
    }
   ],
   "source": [
    "df = pd.get_dummies(df)\n",
    "df.shape"
   ],
   "metadata": {
    "collapsed": false,
    "ExecuteTime": {
     "end_time": "2023-11-30T18:47:25.665892Z",
     "start_time": "2023-11-30T18:47:25.026609Z"
    }
   },
   "id": "61320d2411114576"
  },
  {
   "cell_type": "code",
   "execution_count": 10,
   "outputs": [
    {
     "data": {
      "text/plain": "        Quantity Sold (kilo)  Unit Selling Price (RMB/kg)  \\\n54489               0.132191                    -0.145319   \n283327             -0.045270                    -0.462212   \n519972             -0.700127                     1.439151   \n649816              1.159467                    -0.763262   \n91813              -1.102539                     1.439151   \n\n        Item Name_7 Colour Pepper (1)  Item Name_7 Colour Pepper (2)  \\\n54489                           False                          False   \n283327                          False                          False   \n519972                          False                          False   \n649816                          False                          False   \n91813                           False                          False   \n\n        Item Name_7 Colour Pepper (Bag)  Item Name_Agaricus Bisporus (Bag)  \\\n54489                             False                              False   \n283327                            False                              False   \n519972                            False                              False   \n649816                            False                              False   \n91813                             False                              False   \n\n        Item Name_Agaricus Bisporus (Box)  Item Name_Aihao  \\\n54489                               False            False   \n283327                              False            False   \n519972                              False            False   \n649816                              False            False   \n91813                               False            False   \n\n        Item Name_Amaranth  Item Name_Amaranth (Bag)  ...  \\\n54489                False                     False  ...   \n283327               False                     False  ...   \n519972               False                     False  ...   \n649816               False                     False  ...   \n91813                False                     False  ...   \n\n        Category Name_Aquatic Tuberous Vegetables  Category Name_Cabbage  \\\n54489                                       False                  False   \n283327                                      False                  False   \n519972                                      False                  False   \n649816                                      False                  False   \n91813                                       False                  False   \n\n        Category Name_Capsicum  Category Name_Edible Mushroom  \\\n54489                     True                          False   \n283327                    True                          False   \n519972                   False                           True   \n649816                    True                          False   \n91813                    False                           True   \n\n        Category Name_Flower  Category Name_Solanum  Sale or Return_return  \\\n54489                  False                  False                  False   \n283327                 False                  False                  False   \n519972                 False                  False                  False   \n649816                 False                  False                  False   \n91813                  False                  False                  False   \n\n        Sale or Return_sale  Discount (Yes/No)_No  Discount (Yes/No)_Yes  \n54489                  True                  True                  False  \n283327                 True                  True                  False  \n519972                 True                  True                  False  \n649816                 True                 False                   True  \n91813                  True                  True                  False  \n\n[5 rows x 254 columns]",
      "text/html": "<div>\n<style scoped>\n    .dataframe tbody tr th:only-of-type {\n        vertical-align: middle;\n    }\n\n    .dataframe tbody tr th {\n        vertical-align: top;\n    }\n\n    .dataframe thead th {\n        text-align: right;\n    }\n</style>\n<table border=\"1\" class=\"dataframe\">\n  <thead>\n    <tr style=\"text-align: right;\">\n      <th></th>\n      <th>Quantity Sold (kilo)</th>\n      <th>Unit Selling Price (RMB/kg)</th>\n      <th>Item Name_7 Colour Pepper (1)</th>\n      <th>Item Name_7 Colour Pepper (2)</th>\n      <th>Item Name_7 Colour Pepper (Bag)</th>\n      <th>Item Name_Agaricus Bisporus (Bag)</th>\n      <th>Item Name_Agaricus Bisporus (Box)</th>\n      <th>Item Name_Aihao</th>\n      <th>Item Name_Amaranth</th>\n      <th>Item Name_Amaranth (Bag)</th>\n      <th>...</th>\n      <th>Category Name_Aquatic Tuberous Vegetables</th>\n      <th>Category Name_Cabbage</th>\n      <th>Category Name_Capsicum</th>\n      <th>Category Name_Edible Mushroom</th>\n      <th>Category Name_Flower</th>\n      <th>Category Name_Solanum</th>\n      <th>Sale or Return_return</th>\n      <th>Sale or Return_sale</th>\n      <th>Discount (Yes/No)_No</th>\n      <th>Discount (Yes/No)_Yes</th>\n    </tr>\n  </thead>\n  <tbody>\n    <tr>\n      <th>54489</th>\n      <td>0.132191</td>\n      <td>-0.145319</td>\n      <td>False</td>\n      <td>False</td>\n      <td>False</td>\n      <td>False</td>\n      <td>False</td>\n      <td>False</td>\n      <td>False</td>\n      <td>False</td>\n      <td>...</td>\n      <td>False</td>\n      <td>False</td>\n      <td>True</td>\n      <td>False</td>\n      <td>False</td>\n      <td>False</td>\n      <td>False</td>\n      <td>True</td>\n      <td>True</td>\n      <td>False</td>\n    </tr>\n    <tr>\n      <th>283327</th>\n      <td>-0.045270</td>\n      <td>-0.462212</td>\n      <td>False</td>\n      <td>False</td>\n      <td>False</td>\n      <td>False</td>\n      <td>False</td>\n      <td>False</td>\n      <td>False</td>\n      <td>False</td>\n      <td>...</td>\n      <td>False</td>\n      <td>False</td>\n      <td>True</td>\n      <td>False</td>\n      <td>False</td>\n      <td>False</td>\n      <td>False</td>\n      <td>True</td>\n      <td>True</td>\n      <td>False</td>\n    </tr>\n    <tr>\n      <th>519972</th>\n      <td>-0.700127</td>\n      <td>1.439151</td>\n      <td>False</td>\n      <td>False</td>\n      <td>False</td>\n      <td>False</td>\n      <td>False</td>\n      <td>False</td>\n      <td>False</td>\n      <td>False</td>\n      <td>...</td>\n      <td>False</td>\n      <td>False</td>\n      <td>False</td>\n      <td>True</td>\n      <td>False</td>\n      <td>False</td>\n      <td>False</td>\n      <td>True</td>\n      <td>True</td>\n      <td>False</td>\n    </tr>\n    <tr>\n      <th>649816</th>\n      <td>1.159467</td>\n      <td>-0.763262</td>\n      <td>False</td>\n      <td>False</td>\n      <td>False</td>\n      <td>False</td>\n      <td>False</td>\n      <td>False</td>\n      <td>False</td>\n      <td>False</td>\n      <td>...</td>\n      <td>False</td>\n      <td>False</td>\n      <td>True</td>\n      <td>False</td>\n      <td>False</td>\n      <td>False</td>\n      <td>False</td>\n      <td>True</td>\n      <td>False</td>\n      <td>True</td>\n    </tr>\n    <tr>\n      <th>91813</th>\n      <td>-1.102539</td>\n      <td>1.439151</td>\n      <td>False</td>\n      <td>False</td>\n      <td>False</td>\n      <td>False</td>\n      <td>False</td>\n      <td>False</td>\n      <td>False</td>\n      <td>False</td>\n      <td>...</td>\n      <td>False</td>\n      <td>False</td>\n      <td>False</td>\n      <td>True</td>\n      <td>False</td>\n      <td>False</td>\n      <td>False</td>\n      <td>True</td>\n      <td>True</td>\n      <td>False</td>\n    </tr>\n  </tbody>\n</table>\n<p>5 rows × 254 columns</p>\n</div>"
     },
     "execution_count": 10,
     "metadata": {},
     "output_type": "execute_result"
    }
   ],
   "source": [
    "df.sample(5)"
   ],
   "metadata": {
    "collapsed": false,
    "ExecuteTime": {
     "end_time": "2023-11-30T18:47:25.700213Z",
     "start_time": "2023-11-30T18:47:25.664176Z"
    }
   },
   "id": "859e7a8200e5c83f"
  },
  {
   "cell_type": "code",
   "execution_count": 11,
   "outputs": [],
   "source": [
    "# k_values = range(2,21)\n",
    "# \n",
    "# wcss_values = []\n",
    "# \n",
    "# for k in k_values:\n",
    "#     print(f'Training : {k}')\n",
    "#     kmeans = KMeans(n_clusters=k, random_state=42)\n",
    "#     kmeans.fit(df)\n",
    "#     wcss_values.append(kmeans.inertia_)\n",
    "#     print(f'Clusters --> \\u001B[34m{k}\\u001B[39m    WCSS --> \\u001B[31m{wcss_values[-1]}\\u001B[39m')"
   ],
   "metadata": {
    "collapsed": false,
    "ExecuteTime": {
     "end_time": "2023-11-30T18:47:25.700379Z",
     "start_time": "2023-11-30T18:47:25.692495Z"
    }
   },
   "id": "4ba586ebe25af939"
  },
  {
   "cell_type": "code",
   "execution_count": 12,
   "outputs": [],
   "source": [
    "# # Plot the results\n",
    "# plt.plot(k_values, wcss_values, marker='o')\n",
    "# plt.title('Randomly Sampled WCSS for Different K Values')\n",
    "# plt.xlabel('Number of Clusters (K)')\n",
    "# plt.ylabel('WCSS')\n",
    "# plt.show()"
   ],
   "metadata": {
    "collapsed": false,
    "ExecuteTime": {
     "end_time": "2023-11-30T18:47:25.700459Z",
     "start_time": "2023-11-30T18:47:25.695807Z"
    }
   },
   "id": "fa04aad0c78f3b10"
  },
  {
   "cell_type": "code",
   "execution_count": 13,
   "outputs": [
    {
     "name": "stderr",
     "output_type": "stream",
     "text": [
      "/Users/rumethsandinu/Library/Python/3.9/lib/python/site-packages/sklearn/cluster/_kmeans.py:1416: FutureWarning: The default value of `n_init` will change from 10 to 'auto' in 1.4. Set the value of `n_init` explicitly to suppress the warning\n",
      "  super()._check_params_vs_input(X, default_n_init=10)\n"
     ]
    }
   ],
   "source": [
    "model = KMeans(n_clusters=13)\n",
    "pred = model.fit_predict(df)"
   ],
   "metadata": {
    "collapsed": false,
    "ExecuteTime": {
     "end_time": "2023-11-30T18:48:10.444263Z",
     "start_time": "2023-11-30T18:47:25.701502Z"
    }
   },
   "id": "60a54a0c3bb06ca9"
  },
  {
   "cell_type": "code",
   "execution_count": 14,
   "outputs": [
    {
     "data": {
      "text/plain": "array([ 6,  9,  6, ...,  4, 12,  3], dtype=int32)"
     },
     "execution_count": 14,
     "metadata": {},
     "output_type": "execute_result"
    }
   ],
   "source": [
    "pred"
   ],
   "metadata": {
    "collapsed": false,
    "ExecuteTime": {
     "end_time": "2023-11-30T18:48:10.450782Z",
     "start_time": "2023-11-30T18:48:10.448358Z"
    }
   },
   "id": "2fbf183c1adb5db6"
  },
  {
   "cell_type": "code",
   "execution_count": 15,
   "outputs": [],
   "source": [
    "df['Amount'] = df['Quantity Sold (kilo)'] * df['Unit Selling Price (RMB/kg)']"
   ],
   "metadata": {
    "collapsed": false,
    "ExecuteTime": {
     "end_time": "2023-11-30T18:48:10.461902Z",
     "start_time": "2023-11-30T18:48:10.455128Z"
    }
   },
   "id": "eafd41f070ef7d05"
  },
  {
   "cell_type": "code",
   "execution_count": 16,
   "outputs": [
    {
     "data": {
      "text/plain": "   Quantity Sold (kilo)  Unit Selling Price (RMB/kg)  \\\n0             -0.350203                    -0.208697   \n1              0.782050                    -0.905864   \n2             -0.317710                    -0.208697   \n3             -0.287717                     0.171575   \n4              0.007219                    -0.145319   \n\n   Item Name_7 Colour Pepper (1)  Item Name_7 Colour Pepper (2)  \\\n0                          False                          False   \n1                          False                          False   \n2                          False                          False   \n3                          False                          False   \n4                          False                          False   \n\n   Item Name_7 Colour Pepper (Bag)  Item Name_Agaricus Bisporus (Bag)  \\\n0                            False                              False   \n1                            False                              False   \n2                            False                              False   \n3                            False                              False   \n4                            False                              False   \n\n   Item Name_Agaricus Bisporus (Box)  Item Name_Aihao  Item Name_Amaranth  \\\n0                              False            False               False   \n1                              False            False               False   \n2                              False            False               False   \n3                              False            False               False   \n4                              False            False               False   \n\n   Item Name_Amaranth (Bag)  ...  Category Name_Capsicum  \\\n0                     False  ...                    True   \n1                     False  ...                   False   \n2                     False  ...                    True   \n3                     False  ...                   False   \n4                     False  ...                   False   \n\n   Category Name_Edible Mushroom  Category Name_Flower  Category Name_Solanum  \\\n0                          False                 False                  False   \n1                          False                  True                  False   \n2                          False                 False                  False   \n3                          False                  True                  False   \n4                          False                  True                  False   \n\n   Sale or Return_return  Sale or Return_sale  Discount (Yes/No)_No  \\\n0                  False                 True                  True   \n1                  False                 True                  True   \n2                  False                 True                  True   \n3                  False                 True                  True   \n4                  False                 True                  True   \n\n   Discount (Yes/No)_Yes    Amount  cluster  \n0                  False  0.073087        6  \n1                  False -0.708431        9  \n2                  False  0.066305        6  \n3                  False -0.049365        1  \n4                  False -0.001049        1  \n\n[5 rows x 256 columns]",
      "text/html": "<div>\n<style scoped>\n    .dataframe tbody tr th:only-of-type {\n        vertical-align: middle;\n    }\n\n    .dataframe tbody tr th {\n        vertical-align: top;\n    }\n\n    .dataframe thead th {\n        text-align: right;\n    }\n</style>\n<table border=\"1\" class=\"dataframe\">\n  <thead>\n    <tr style=\"text-align: right;\">\n      <th></th>\n      <th>Quantity Sold (kilo)</th>\n      <th>Unit Selling Price (RMB/kg)</th>\n      <th>Item Name_7 Colour Pepper (1)</th>\n      <th>Item Name_7 Colour Pepper (2)</th>\n      <th>Item Name_7 Colour Pepper (Bag)</th>\n      <th>Item Name_Agaricus Bisporus (Bag)</th>\n      <th>Item Name_Agaricus Bisporus (Box)</th>\n      <th>Item Name_Aihao</th>\n      <th>Item Name_Amaranth</th>\n      <th>Item Name_Amaranth (Bag)</th>\n      <th>...</th>\n      <th>Category Name_Capsicum</th>\n      <th>Category Name_Edible Mushroom</th>\n      <th>Category Name_Flower</th>\n      <th>Category Name_Solanum</th>\n      <th>Sale or Return_return</th>\n      <th>Sale or Return_sale</th>\n      <th>Discount (Yes/No)_No</th>\n      <th>Discount (Yes/No)_Yes</th>\n      <th>Amount</th>\n      <th>cluster</th>\n    </tr>\n  </thead>\n  <tbody>\n    <tr>\n      <th>0</th>\n      <td>-0.350203</td>\n      <td>-0.208697</td>\n      <td>False</td>\n      <td>False</td>\n      <td>False</td>\n      <td>False</td>\n      <td>False</td>\n      <td>False</td>\n      <td>False</td>\n      <td>False</td>\n      <td>...</td>\n      <td>True</td>\n      <td>False</td>\n      <td>False</td>\n      <td>False</td>\n      <td>False</td>\n      <td>True</td>\n      <td>True</td>\n      <td>False</td>\n      <td>0.073087</td>\n      <td>6</td>\n    </tr>\n    <tr>\n      <th>1</th>\n      <td>0.782050</td>\n      <td>-0.905864</td>\n      <td>False</td>\n      <td>False</td>\n      <td>False</td>\n      <td>False</td>\n      <td>False</td>\n      <td>False</td>\n      <td>False</td>\n      <td>False</td>\n      <td>...</td>\n      <td>False</td>\n      <td>False</td>\n      <td>True</td>\n      <td>False</td>\n      <td>False</td>\n      <td>True</td>\n      <td>True</td>\n      <td>False</td>\n      <td>-0.708431</td>\n      <td>9</td>\n    </tr>\n    <tr>\n      <th>2</th>\n      <td>-0.317710</td>\n      <td>-0.208697</td>\n      <td>False</td>\n      <td>False</td>\n      <td>False</td>\n      <td>False</td>\n      <td>False</td>\n      <td>False</td>\n      <td>False</td>\n      <td>False</td>\n      <td>...</td>\n      <td>True</td>\n      <td>False</td>\n      <td>False</td>\n      <td>False</td>\n      <td>False</td>\n      <td>True</td>\n      <td>True</td>\n      <td>False</td>\n      <td>0.066305</td>\n      <td>6</td>\n    </tr>\n    <tr>\n      <th>3</th>\n      <td>-0.287717</td>\n      <td>0.171575</td>\n      <td>False</td>\n      <td>False</td>\n      <td>False</td>\n      <td>False</td>\n      <td>False</td>\n      <td>False</td>\n      <td>False</td>\n      <td>False</td>\n      <td>...</td>\n      <td>False</td>\n      <td>False</td>\n      <td>True</td>\n      <td>False</td>\n      <td>False</td>\n      <td>True</td>\n      <td>True</td>\n      <td>False</td>\n      <td>-0.049365</td>\n      <td>1</td>\n    </tr>\n    <tr>\n      <th>4</th>\n      <td>0.007219</td>\n      <td>-0.145319</td>\n      <td>False</td>\n      <td>False</td>\n      <td>False</td>\n      <td>False</td>\n      <td>False</td>\n      <td>False</td>\n      <td>False</td>\n      <td>False</td>\n      <td>...</td>\n      <td>False</td>\n      <td>False</td>\n      <td>True</td>\n      <td>False</td>\n      <td>False</td>\n      <td>True</td>\n      <td>True</td>\n      <td>False</td>\n      <td>-0.001049</td>\n      <td>1</td>\n    </tr>\n  </tbody>\n</table>\n<p>5 rows × 256 columns</p>\n</div>"
     },
     "execution_count": 16,
     "metadata": {},
     "output_type": "execute_result"
    }
   ],
   "source": [
    "df['cluster'] = pred\n",
    "df.head(5)"
   ],
   "metadata": {
    "collapsed": false,
    "ExecuteTime": {
     "end_time": "2023-11-30T18:48:10.476866Z",
     "start_time": "2023-11-30T18:48:10.463067Z"
    }
   },
   "id": "bf3eb4d6251dbc2e"
  },
  {
   "cell_type": "code",
   "execution_count": 17,
   "outputs": [],
   "source": [
    "c1 = df[df['cluster'] == 0]\n",
    "c2 = df[df['cluster'] == 1]\n",
    "c3 = df[df['cluster'] == 2]\n",
    "c4 = df[df['cluster'] == 3]\n",
    "c5 = df[df['cluster'] == 4]\n",
    "c6 = df[df['cluster'] == 5]\n",
    "c7 = df[df['cluster'] == 6]\n",
    "c8 = df[df['cluster'] == 7]\n",
    "c9 = df[df['cluster'] == 8]\n",
    "c10 = df[df['cluster'] == 9]\n",
    "c11 = df[df['cluster'] == 10]\n",
    "c12 = df[df['cluster'] == 11]\n",
    "c13 = df[df['cluster'] == 12]"
   ],
   "metadata": {
    "collapsed": false,
    "ExecuteTime": {
     "end_time": "2023-11-30T18:48:10.677554Z",
     "start_time": "2023-11-30T18:48:10.475664Z"
    }
   },
   "id": "cc21e03dc648a572"
  },
  {
   "cell_type": "code",
   "execution_count": 18,
   "outputs": [
    {
     "data": {
      "text/plain": "<matplotlib.collections.PathCollection at 0x16ecac220>"
     },
     "execution_count": 18,
     "metadata": {},
     "output_type": "execute_result"
    },
    {
     "data": {
      "text/plain": "<Figure size 640x480 with 1 Axes>",
      "image/png": "[encoded data removed]"
     },
     "metadata": {},
     "output_type": "display_data"
    }
   ],
   "source": [
    "plt.scatter(c1['Unit Selling Price (RMB/kg)'], c1['Quantity Sold (kilo)'])\n",
    "plt.scatter(c2['Unit Selling Price (RMB/kg)'], c2['Quantity Sold (kilo)'])\n",
    "plt.scatter(c3['Unit Selling Price (RMB/kg)'], c3['Quantity Sold (kilo)'])\n",
    "plt.scatter(c4['Unit Selling Price (RMB/kg)'], c4['Quantity Sold (kilo)'])\n",
    "plt.scatter(c5['Unit Selling Price (RMB/kg)'], c5['Quantity Sold (kilo)'])\n",
    "plt.scatter(c6['Unit Selling Price (RMB/kg)'], c6['Quantity Sold (kilo)'])\n",
    "plt.scatter(c7['Unit Selling Price (RMB/kg)'], c7['Quantity Sold (kilo)'])\n",
    "plt.scatter(c8['Unit Selling Price (RMB/kg)'], c8['Quantity Sold (kilo)'])\n",
    "plt.scatter(c9['Unit Selling Price (RMB/kg)'], c9['Quantity Sold (kilo)'])\n",
    "plt.scatter(c10['Unit Selling Price (RMB/kg)'], c10['Quantity Sold (kilo)'])\n",
    "plt.scatter(c11['Unit Selling Price (RMB/kg)'], c11['Quantity Sold (kilo)'])\n",
    "plt.scatter(c12['Unit Selling Price (RMB/kg)'], c12['Quantity Sold (kilo)'])\n",
    "plt.scatter(c13['Unit Selling Price (RMB/kg)'], c13['Quantity Sold (kilo)'])"
   ],
   "metadata": {
    "collapsed": false,
    "ExecuteTime": {
     "end_time": "2023-11-30T18:48:11.666323Z",
     "start_time": "2023-11-30T18:48:10.680084Z"
    }
   },
   "id": "3a92020fce495345"
  },
  {
   "cell_type": "code",
   "execution_count": 33,
   "outputs": [
    {
     "data": {
      "text/plain": "<matplotlib.collections.PathCollection at 0x2b12f6a30>"
     },
     "execution_count": 33,
     "metadata": {},
     "output_type": "execute_result"
    },
    {
     "data": {
      "text/plain": "<Figure size 640x480 with 1 Axes>",
      "image/png": "[encoded data removed]"
     },
     "metadata": {},
     "output_type": "display_data"
    }
   ],
   "source": [
    "plt.scatter(c1['Amount'], [0] * len(c1['Amount']))\n",
    "plt.scatter(c2['Amount'], [1] * len(c2['Amount']))\n",
    "plt.scatter(c3['Amount'], [2] * len(c3['Amount']))\n",
    "plt.scatter(c4['Amount'], [3] * len(c4['Amount']))\n",
    "plt.scatter(c5['Amount'], [4] * len(c5['Amount']))\n",
    "plt.scatter(c6['Amount'], [5] * len(c6['Amount']))\n",
    "plt.scatter(c7['Amount'], [6] * len(c7['Amount']))\n",
    "plt.scatter(c8['Amount'], [7] * len(c8['Amount']))\n",
    "plt.scatter(c9['Amount'], [8] * len(c9['Amount']))\n",
    "plt.scatter(c10['Amount'], [9] * len(c10['Amount']))\n",
    "plt.scatter(c11['Amount'], [10] * len(c11['Amount']))\n",
    "plt.scatter(c12['Amount'], [11] * len(c12['Amount']))\n",
    "plt.scatter(c13['Amount'], [12] * len(c13['Amount']))"
   ],
   "metadata": {
    "collapsed": false,
    "ExecuteTime": {
     "end_time": "2023-11-30T19:01:31.313737Z",
     "start_time": "2023-11-30T19:01:29.483299Z"
    }
   },
   "id": "350c744027d3e012"
  }
 ],
 "metadata": {
  "kernelspec": {
   "display_name": "Python 3",
   "language": "python",
   "name": "python3"
  },
  "language_info": {
   "codemirror_mode": {
    "name": "ipython",
    "version": 2
   },
   "file_extension": ".py",
   "mimetype": "text/x-python",
   "name": "python",
   "nbconvert_exporter": "python",
   "pygments_lexer": "ipython2",
   "version": "2.7.6"
  }
 },
 "nbformat": 4,
 "nbformat_minor": 5
}
