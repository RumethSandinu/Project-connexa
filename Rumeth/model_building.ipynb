{
 "cells": [
  {
   "cell_type": "code",
   "execution_count": null,
   "id": "initial_id",
   "metadata": {
    "collapsed": true
   },
   "outputs": [],
   "source": [
    "import pandas as pd\n",
    "import seaborn as sb\n",
    "from sklearn.preprocessing import StandardScaler"
   ]
  },
  {
   "cell_type": "markdown",
   "source": [
    "## data pre-processing"
   ],
   "metadata": {
    "collapsed": false
   },
   "id": "94f0e99b5a636fe6"
  },
  {
   "cell_type": "code",
   "execution_count": null,
   "outputs": [],
   "source": [
    "df = pd.read_csv('/Users/rumethsandinu/Study/Assessments/Year 2/DSGP/Datasets/final_cleaned_dataset/cleaned_annex.csv')\n",
    "df.sample(5)"
   ],
   "metadata": {
    "collapsed": false
   },
   "id": "8313a95613700d05"
  },
  {
   "cell_type": "code",
   "execution_count": null,
   "outputs": [],
   "source": [
    "df['Sale or Return'].value_counts()"
   ],
   "metadata": {
    "collapsed": false
   },
   "id": "b0482c9be872fd06"
  },
  {
   "cell_type": "code",
   "execution_count": null,
   "outputs": [],
   "source": [
    "df = df.drop(['Date', 'Time', 'Item Code', 'CustomerId', 'Sale or Return', 'Loss Rate'], axis=1)"
   ],
   "metadata": {
    "collapsed": false
   },
   "id": "46d31b97a799d352"
  },
  {
   "cell_type": "code",
   "execution_count": null,
   "outputs": [],
   "source": [
    "df.info()"
   ],
   "metadata": {
    "collapsed": false
   },
   "id": "dac1c49b59693fcd"
  },
  {
   "cell_type": "code",
   "execution_count": null,
   "outputs": [],
   "source": [
    "df.isnull().sum()"
   ],
   "metadata": {
    "collapsed": false
   },
   "id": "9b35454271bb02b0"
  },
  {
   "cell_type": "code",
   "execution_count": null,
   "outputs": [],
   "source": [
    "for i in range(df.shape[0]):\n",
    "    if df['Discount (Yes/No)'].values[i] == 'Yes':\n",
    "        df['Discount (Yes/No)'].values[i] = 1\n",
    "    else:\n",
    "        df['Discount (Yes/No)'].values[i] = 0\n",
    "        \n",
    "df['Discount (Yes/No)'] = df['Discount (Yes/No)'].astype(int)\n",
    "df.sample(5)  "
   ],
   "metadata": {
    "collapsed": false
   },
   "id": "5b0298bd2e87808"
  },
  {
   "cell_type": "code",
   "execution_count": null,
   "outputs": [],
   "source": [
    "df.info()"
   ],
   "metadata": {
    "collapsed": false
   },
   "id": "f73e65ad1df3272b"
  },
  {
   "cell_type": "code",
   "execution_count": null,
   "outputs": [],
   "source": [
    "df['Discount (Yes/No)'].value_counts()"
   ],
   "metadata": {
    "collapsed": false
   },
   "id": "c851d1885bf2cf9f"
  },
  {
   "cell_type": "code",
   "execution_count": null,
   "outputs": [],
   "source": [
    "df.iloc[:,[0, 1, 2]].corr()"
   ],
   "metadata": {
    "collapsed": false
   },
   "id": "962c9c03464f3443"
  },
  {
   "cell_type": "code",
   "execution_count": null,
   "outputs": [],
   "source": [
    "sb.pairplot(df.iloc[:,[0, 1, 2]])"
   ],
   "metadata": {
    "collapsed": false
   },
   "id": "1bc91c4078aa25b6"
  },
  {
   "cell_type": "code",
   "execution_count": null,
   "outputs": [],
   "source": [
    "df.head()"
   ],
   "metadata": {
    "collapsed": false
   },
   "id": "f31bd9ba71a0d0a3"
  },
  {
   "cell_type": "code",
   "execution_count": null,
   "outputs": [],
   "source": [
    "df['Discount (Yes/No)'] = df['Discount (Yes/No)'].astype(str)"
   ],
   "metadata": {
    "collapsed": false
   },
   "id": "4d12d201225eb25f"
  },
  {
   "cell_type": "code",
   "execution_count": null,
   "outputs": [],
   "source": [
    "df['Quantity Sold (kilo)'].min(),df['Quantity Sold (kilo)'].max()"
   ],
   "metadata": {
    "collapsed": false
   },
   "id": "da4abd33dd4d078c"
  },
  {
   "cell_type": "code",
   "execution_count": null,
   "outputs": [],
   "source": [
    "df['Unit Selling Price (RMB/kg)'].min(), df['Unit Selling Price (RMB/kg)'].max()"
   ],
   "metadata": {
    "collapsed": false
   },
   "id": "71823ffce4ea06d6"
  },
  {
   "cell_type": "code",
   "execution_count": null,
   "outputs": [],
   "source": [
    "scaler = StandardScaler()\n",
    "df['Quantity Sold (kilo)'] = scaler.fit_transform(df['Quantity Sold (kilo)'].values.reshape(-1, 1))\n",
    "df['Unit Selling Price (RMB/kg)'] = scaler.fit_transform(df['Unit Selling Price (RMB/kg)'].values.reshape(-1, 1))\n",
    "df.head()"
   ],
   "metadata": {
    "collapsed": false
   },
   "id": "a8cb402ef61d86d7"
  },
  {
   "cell_type": "code",
   "execution_count": null,
   "outputs": [],
   "source": [
    "df = pd.get_dummies(df)\n",
    "df.shape"
   ],
   "metadata": {
    "collapsed": false
   },
   "id": "61320d2411114576"
  },
  {
   "cell_type": "code",
   "execution_count": null,
   "outputs": [],
   "source": [
    "df.sample(5)"
   ],
   "metadata": {
    "collapsed": false
   },
   "id": "859e7a8200e5c83f"
  },
  {
   "cell_type": "code",
   "execution_count": null,
   "outputs": [],
   "source": [
    "from sklearn_extra.cluster import KMedoids\n",
    "import numpy as np\n",
    "import matplotlib.pyplot as plt"
   ],
   "metadata": {
    "collapsed": false
   },
   "id": "94920688553a4a18"
  },
  {
   "cell_type": "code",
   "execution_count": null,
   "outputs": [],
   "source": [
    "k = 100\n",
    "kmedoids = KMedoids(n_clusters=k, random_state=0)\n",
    "kmedoids.fit(df)"
   ],
   "metadata": {
    "collapsed": false
   },
   "id": "ad31a0ea12f6ee01"
  },
  {
   "cell_type": "code",
   "execution_count": null,
   "outputs": [],
   "source": [
    "labels = kmedoids.labels_\n",
    "medoid_indices = kmedoids.medoid_indices_\n",
    "\n",
    "# Randomly sample a subset of clusters to plot\n",
    "sampled_clusters = np.random.choice(np.unique(labels), size=10, replace=False)\n",
    "\n",
    "# Plot the sampled clusters\n",
    "for i in sampled_clusters:\n",
    "    cluster_points = df[labels == i]\n",
    "    medoid = df[medoid_indices[i]]\n",
    "    \n",
    "    plt.scatter(cluster_points[:, 0], cluster_points[:, 1], label=f'Cluster {i + 1}')\n",
    "    plt.scatter(medoid[0], medoid[1], c='red', marker='x', s=200, label=f'Medoid {i + 1}')\n",
    "\n",
    "plt.title('K-Medoids Clustering (Sampled Clusters)')\n",
    "plt.xlabel('Feature 1')\n",
    "plt.ylabel('Feature 2')\n",
    "plt.legend()"
   ],
   "metadata": {
    "collapsed": false
   },
   "id": "408c82f19315be04"
  },
  {
   "cell_type": "code",
   "execution_count": null,
   "outputs": [],
   "source": [],
   "metadata": {
    "collapsed": false
   },
   "id": "2738b8d4f6a54a61"
  }
 ],
 "metadata": {
  "kernelspec": {
   "display_name": "Python 3",
   "language": "python",
   "name": "python3"
  },
  "language_info": {
   "codemirror_mode": {
    "name": "ipython",
    "version": 2
   },
   "file_extension": ".py",
   "mimetype": "text/x-python",
   "name": "python",
   "nbconvert_exporter": "python",
   "pygments_lexer": "ipython2",
   "version": "2.7.6"
  }
 },
 "nbformat": 4,
 "nbformat_minor": 5
}
