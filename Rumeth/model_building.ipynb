{
 "cells": [
  {
   "cell_type": "code",
   "execution_count": 1,
   "id": "initial_id",
   "metadata": {
    "collapsed": true,
    "ExecuteTime": {
     "end_time": "2023-12-10T12:28:58.134624Z",
     "start_time": "2023-12-10T12:28:57.884275Z"
    }
   },
   "outputs": [],
   "source": [
    "import pandas as pd"
   ]
  },
  {
   "cell_type": "code",
   "execution_count": 2,
   "outputs": [
    {
     "name": "stdout",
     "output_type": "stream",
     "text": [
      "<class 'pandas.core.frame.DataFrame'>\n",
      "RangeIndex: 25568 entries, 0 to 25567\n",
      "Columns: 185 entries, Quantity Sold (kilo) to Category Name_Solanum\n",
      "dtypes: bool(183), float64(2)\n",
      "memory usage: 4.9 MB\n"
     ]
    }
   ],
   "source": [
    "# load pre-processed dataset\n",
    "df = pd.read_csv('/Users/rumethsandinu/Study/Assessments/Year 2/DSGP/Datasets/pre_processed_dataset.csv')\n",
    "df.info()"
   ],
   "metadata": {
    "collapsed": false,
    "ExecuteTime": {
     "end_time": "2023-12-10T12:28:58.302305Z",
     "start_time": "2023-12-10T12:28:58.147960Z"
    }
   },
   "id": "f6a76d43f2da9e88"
  },
  {
   "cell_type": "code",
   "execution_count": 3,
   "outputs": [
    {
     "data": {
      "text/plain": "       Quantity Sold (kilo)  Unit Selling Price (RMB/kg)  \\\n6437               0.340000                         14.0   \n7470               0.292308                         12.0   \n12295              0.457895                          8.0   \n\n       Item Name_7 Colour Pepper   Item Name_Agaricus Bisporus   \\\n6437                        False                         False   \n7470                        False                         False   \n12295                       False                         False   \n\n       Item Name_Aihao  Item Name_Amaranth  Item Name_Amaranth   \\\n6437             False               False                False   \n7470             False               False                False   \n12295            False               False                False   \n\n       Item Name_Apricot Bao Mushroom   Item Name_Basil   \\\n6437                             False             False   \n7470                             False             False   \n12295                            False             False   \n\n       Item Name_Bell Pepper   ...  Item Name_Zhijiang Red Bolt   \\\n6437                    False  ...                         False   \n7470                    False  ...                         False   \n12295                   False  ...                         False   \n\n       Item Name_Zhimaxiancai  Item Name_Zhuyecai  Item Name_Zhuyecai   \\\n6437                    False               False                False   \n7470                    False               False                False   \n12295                   False               False                False   \n\n       Category Name_Aquatic Tuberous Vegetables  Category Name_Cabbage  \\\n6437                                       False                  False   \n7470                                       False                  False   \n12295                                      False                  False   \n\n       Category Name_Capsicum  Category Name_Edible Mushroom  \\\n6437                     True                          False   \n7470                    False                           True   \n12295                   False                          False   \n\n       Category Name_Flower/Leaf Vegetables  Category Name_Solanum  \n6437                                  False                  False  \n7470                                  False                  False  \n12295                                  True                  False  \n\n[3 rows x 185 columns]",
      "text/html": "<div>\n<style scoped>\n    .dataframe tbody tr th:only-of-type {\n        vertical-align: middle;\n    }\n\n    .dataframe tbody tr th {\n        vertical-align: top;\n    }\n\n    .dataframe thead th {\n        text-align: right;\n    }\n</style>\n<table border=\"1\" class=\"dataframe\">\n  <thead>\n    <tr style=\"text-align: right;\">\n      <th></th>\n      <th>Quantity Sold (kilo)</th>\n      <th>Unit Selling Price (RMB/kg)</th>\n      <th>Item Name_7 Colour Pepper</th>\n      <th>Item Name_Agaricus Bisporus</th>\n      <th>Item Name_Aihao</th>\n      <th>Item Name_Amaranth</th>\n      <th>Item Name_Amaranth</th>\n      <th>Item Name_Apricot Bao Mushroom</th>\n      <th>Item Name_Basil</th>\n      <th>Item Name_Bell Pepper</th>\n      <th>...</th>\n      <th>Item Name_Zhijiang Red Bolt</th>\n      <th>Item Name_Zhimaxiancai</th>\n      <th>Item Name_Zhuyecai</th>\n      <th>Item Name_Zhuyecai</th>\n      <th>Category Name_Aquatic Tuberous Vegetables</th>\n      <th>Category Name_Cabbage</th>\n      <th>Category Name_Capsicum</th>\n      <th>Category Name_Edible Mushroom</th>\n      <th>Category Name_Flower/Leaf Vegetables</th>\n      <th>Category Name_Solanum</th>\n    </tr>\n  </thead>\n  <tbody>\n    <tr>\n      <th>6437</th>\n      <td>0.340000</td>\n      <td>14.0</td>\n      <td>False</td>\n      <td>False</td>\n      <td>False</td>\n      <td>False</td>\n      <td>False</td>\n      <td>False</td>\n      <td>False</td>\n      <td>False</td>\n      <td>...</td>\n      <td>False</td>\n      <td>False</td>\n      <td>False</td>\n      <td>False</td>\n      <td>False</td>\n      <td>False</td>\n      <td>True</td>\n      <td>False</td>\n      <td>False</td>\n      <td>False</td>\n    </tr>\n    <tr>\n      <th>7470</th>\n      <td>0.292308</td>\n      <td>12.0</td>\n      <td>False</td>\n      <td>False</td>\n      <td>False</td>\n      <td>False</td>\n      <td>False</td>\n      <td>False</td>\n      <td>False</td>\n      <td>False</td>\n      <td>...</td>\n      <td>False</td>\n      <td>False</td>\n      <td>False</td>\n      <td>False</td>\n      <td>False</td>\n      <td>False</td>\n      <td>False</td>\n      <td>True</td>\n      <td>False</td>\n      <td>False</td>\n    </tr>\n    <tr>\n      <th>12295</th>\n      <td>0.457895</td>\n      <td>8.0</td>\n      <td>False</td>\n      <td>False</td>\n      <td>False</td>\n      <td>False</td>\n      <td>False</td>\n      <td>False</td>\n      <td>False</td>\n      <td>False</td>\n      <td>...</td>\n      <td>False</td>\n      <td>False</td>\n      <td>False</td>\n      <td>False</td>\n      <td>False</td>\n      <td>False</td>\n      <td>False</td>\n      <td>False</td>\n      <td>True</td>\n      <td>False</td>\n    </tr>\n  </tbody>\n</table>\n<p>3 rows × 185 columns</p>\n</div>"
     },
     "execution_count": 3,
     "metadata": {},
     "output_type": "execute_result"
    }
   ],
   "source": [
    "df.sample(3)"
   ],
   "metadata": {
    "collapsed": false,
    "ExecuteTime": {
     "end_time": "2023-12-10T12:28:58.314540Z",
     "start_time": "2023-12-10T12:28:58.300524Z"
    }
   },
   "id": "51cd436875161ac6"
  },
  {
   "cell_type": "code",
   "execution_count": 4,
   "outputs": [
    {
     "name": "stderr",
     "output_type": "stream",
     "text": [
      "/Users/rumethsandinu/Library/Python/3.9/lib/python/site-packages/urllib3/__init__.py:34: NotOpenSSLWarning: urllib3 v2 only supports OpenSSL 1.1.1+, currently the 'ssl' module is compiled with 'LibreSSL 2.8.3'. See: https://github.com/urllib3/urllib3/issues/3020\n",
      "  warnings.warn(\n"
     ]
    }
   ],
   "source": [
    "from sklearn.model_selection import train_test_split\n",
    "import tensorflow as tf"
   ],
   "metadata": {
    "collapsed": false,
    "ExecuteTime": {
     "end_time": "2023-12-10T12:29:01.996259Z",
     "start_time": "2023-12-10T12:28:58.312165Z"
    }
   },
   "id": "278bdc9d61ee98ad"
  },
  {
   "cell_type": "code",
   "execution_count": 5,
   "outputs": [
    {
     "name": "stderr",
     "output_type": "stream",
     "text": [
      "2023-12-10 17:59:02.010955: I metal_plugin/src/device/metal_device.cc:1154] Metal device set to: Apple M2\n",
      "2023-12-10 17:59:02.010975: I metal_plugin/src/device/metal_device.cc:296] systemMemory: 8.00 GB\n",
      "2023-12-10 17:59:02.010980: I metal_plugin/src/device/metal_device.cc:313] maxCacheSize: 2.67 GB\n",
      "2023-12-10 17:59:02.011101: I tensorflow/core/common_runtime/pluggable_device/pluggable_device_factory.cc:306] Could not identify NUMA node of platform GPU ID 0, defaulting to 0. Your kernel may not have been built with NUMA support.\n",
      "2023-12-10 17:59:02.011326: I tensorflow/core/common_runtime/pluggable_device/pluggable_device_factory.cc:272] Created TensorFlow device (/job:localhost/replica:0/task:0/device:GPU:0 with 0 MB memory) -> physical PluggableDevice (device: 0, name: METAL, pci bus id: <undefined>)\n"
     ]
    },
    {
     "data": {
      "text/plain": "(TensorShape([20454, 184]), TensorShape([2557, 184]), (2557, 184))"
     },
     "execution_count": 5,
     "metadata": {},
     "output_type": "execute_result"
    }
   ],
   "source": [
    "# define dependent and non dependent variables\n",
    "y = df['Quantity Sold (kilo)']\n",
    "x = df.drop(columns=['Quantity Sold (kilo)'], axis=1)\n",
    "\n",
    "# split the dataset 0.8, 0.1, 0.1\n",
    "x_train, x_temp, y_train, y_temp = train_test_split(x, y, test_size=0.2, random_state=42)\n",
    "x_eval, x_test, y_eval, y_test = train_test_split(x_temp, y_temp, test_size=0.5, random_state=42)\n",
    "\n",
    "# convert to tensor arrays\n",
    "x_train_tensor = tf.constant(x_train, dtype=tf.float32)\n",
    "y_train_tensor = tf.constant(y_train, dtype=tf.float32)\n",
    "x_eval_tensor = tf.constant(x_eval, dtype=tf.float32)\n",
    "y_eval_tensor = tf.constant(y_eval, dtype=tf.float32)\n",
    "\n",
    "x_train_tensor.shape, x_eval_tensor.shape, x_test.shape"
   ],
   "metadata": {
    "collapsed": false,
    "ExecuteTime": {
     "end_time": "2023-12-10T12:29:02.197765Z",
     "start_time": "2023-12-10T12:29:01.998064Z"
    }
   },
   "id": "87771c7557fd3e35"
  },
  {
   "cell_type": "code",
   "execution_count": 6,
   "outputs": [
    {
     "data": {
      "text/plain": "      Quantity Sold (kilo)  Unit Selling Price (RMB/kg)  \\\n483               0.433333                         19.8   \n2442              1.000000                          3.9   \n1041              0.623288                          7.2   \n2214              0.449254                         12.0   \n2063              1.000000                          2.0   \n\n      Item Name_7 Colour Pepper   Item Name_Agaricus Bisporus   \\\n483                        False                         False   \n2442                       False                         False   \n1041                       False                         False   \n2214                       False                         False   \n2063                       False                         False   \n\n      Item Name_Aihao  Item Name_Amaranth  Item Name_Amaranth   \\\n483             False               False                False   \n2442            False               False                False   \n1041            False               False                False   \n2214            False               False                False   \n2063            False               False                False   \n\n      Item Name_Apricot Bao Mushroom   Item Name_Basil   \\\n483                             False             False   \n2442                            False             False   \n1041                            False             False   \n2214                            False             False   \n2063                            False             False   \n\n      Item Name_Bell Pepper   ...  Item Name_Zhijiang Red Bolt   \\\n483                    False  ...                         False   \n2442                   False  ...                         False   \n1041                   False  ...                         False   \n2214                   False  ...                         False   \n2063                   False  ...                         False   \n\n      Item Name_Zhimaxiancai  Item Name_Zhuyecai  Item Name_Zhuyecai   \\\n483                    False               False                False   \n2442                   False               False                False   \n1041                   False               False                False   \n2214                   False               False                False   \n2063                   False               False                False   \n\n      Category Name_Aquatic Tuberous Vegetables  Category Name_Cabbage  \\\n483                                       False                  False   \n2442                                      False                  False   \n1041                                       True                  False   \n2214                                      False                  False   \n2063                                      False                  False   \n\n      Category Name_Capsicum  Category Name_Edible Mushroom  \\\n483                    False                          False   \n2442                    True                          False   \n1041                   False                          False   \n2214                   False                          False   \n2063                   False                           True   \n\n      Category Name_Flower/Leaf Vegetables  Category Name_Solanum  \n483                                   True                  False  \n2442                                 False                  False  \n1041                                 False                  False  \n2214                                 False                   True  \n2063                                 False                  False  \n\n[5 rows x 185 columns]",
      "text/html": "<div>\n<style scoped>\n    .dataframe tbody tr th:only-of-type {\n        vertical-align: middle;\n    }\n\n    .dataframe tbody tr th {\n        vertical-align: top;\n    }\n\n    .dataframe thead th {\n        text-align: right;\n    }\n</style>\n<table border=\"1\" class=\"dataframe\">\n  <thead>\n    <tr style=\"text-align: right;\">\n      <th></th>\n      <th>Quantity Sold (kilo)</th>\n      <th>Unit Selling Price (RMB/kg)</th>\n      <th>Item Name_7 Colour Pepper</th>\n      <th>Item Name_Agaricus Bisporus</th>\n      <th>Item Name_Aihao</th>\n      <th>Item Name_Amaranth</th>\n      <th>Item Name_Amaranth</th>\n      <th>Item Name_Apricot Bao Mushroom</th>\n      <th>Item Name_Basil</th>\n      <th>Item Name_Bell Pepper</th>\n      <th>...</th>\n      <th>Item Name_Zhijiang Red Bolt</th>\n      <th>Item Name_Zhimaxiancai</th>\n      <th>Item Name_Zhuyecai</th>\n      <th>Item Name_Zhuyecai</th>\n      <th>Category Name_Aquatic Tuberous Vegetables</th>\n      <th>Category Name_Cabbage</th>\n      <th>Category Name_Capsicum</th>\n      <th>Category Name_Edible Mushroom</th>\n      <th>Category Name_Flower/Leaf Vegetables</th>\n      <th>Category Name_Solanum</th>\n    </tr>\n  </thead>\n  <tbody>\n    <tr>\n      <th>483</th>\n      <td>0.433333</td>\n      <td>19.8</td>\n      <td>False</td>\n      <td>False</td>\n      <td>False</td>\n      <td>False</td>\n      <td>False</td>\n      <td>False</td>\n      <td>False</td>\n      <td>False</td>\n      <td>...</td>\n      <td>False</td>\n      <td>False</td>\n      <td>False</td>\n      <td>False</td>\n      <td>False</td>\n      <td>False</td>\n      <td>False</td>\n      <td>False</td>\n      <td>True</td>\n      <td>False</td>\n    </tr>\n    <tr>\n      <th>2442</th>\n      <td>1.000000</td>\n      <td>3.9</td>\n      <td>False</td>\n      <td>False</td>\n      <td>False</td>\n      <td>False</td>\n      <td>False</td>\n      <td>False</td>\n      <td>False</td>\n      <td>False</td>\n      <td>...</td>\n      <td>False</td>\n      <td>False</td>\n      <td>False</td>\n      <td>False</td>\n      <td>False</td>\n      <td>False</td>\n      <td>True</td>\n      <td>False</td>\n      <td>False</td>\n      <td>False</td>\n    </tr>\n    <tr>\n      <th>1041</th>\n      <td>0.623288</td>\n      <td>7.2</td>\n      <td>False</td>\n      <td>False</td>\n      <td>False</td>\n      <td>False</td>\n      <td>False</td>\n      <td>False</td>\n      <td>False</td>\n      <td>False</td>\n      <td>...</td>\n      <td>False</td>\n      <td>False</td>\n      <td>False</td>\n      <td>False</td>\n      <td>True</td>\n      <td>False</td>\n      <td>False</td>\n      <td>False</td>\n      <td>False</td>\n      <td>False</td>\n    </tr>\n    <tr>\n      <th>2214</th>\n      <td>0.449254</td>\n      <td>12.0</td>\n      <td>False</td>\n      <td>False</td>\n      <td>False</td>\n      <td>False</td>\n      <td>False</td>\n      <td>False</td>\n      <td>False</td>\n      <td>False</td>\n      <td>...</td>\n      <td>False</td>\n      <td>False</td>\n      <td>False</td>\n      <td>False</td>\n      <td>False</td>\n      <td>False</td>\n      <td>False</td>\n      <td>False</td>\n      <td>False</td>\n      <td>True</td>\n    </tr>\n    <tr>\n      <th>2063</th>\n      <td>1.000000</td>\n      <td>2.0</td>\n      <td>False</td>\n      <td>False</td>\n      <td>False</td>\n      <td>False</td>\n      <td>False</td>\n      <td>False</td>\n      <td>False</td>\n      <td>False</td>\n      <td>...</td>\n      <td>False</td>\n      <td>False</td>\n      <td>False</td>\n      <td>False</td>\n      <td>False</td>\n      <td>False</td>\n      <td>False</td>\n      <td>True</td>\n      <td>False</td>\n      <td>False</td>\n    </tr>\n  </tbody>\n</table>\n<p>5 rows × 185 columns</p>\n</div>"
     },
     "execution_count": 6,
     "metadata": {},
     "output_type": "execute_result"
    }
   ],
   "source": [
    "# save testing dataset\n",
    "df_test = pd.concat([y_test.reset_index(drop=True), x_test.reset_index(drop=True)], axis=1)\n",
    "df_test.to_csv('/Users/rumethsandinu/Study/Assessments/Year 2/DSGP/Datasets/testing_dataset.csv')\n",
    "df_test.sample(5)"
   ],
   "metadata": {
    "collapsed": false,
    "ExecuteTime": {
     "end_time": "2023-12-10T12:29:02.258388Z",
     "start_time": "2023-12-10T12:29:02.194985Z"
    }
   },
   "id": "f2ad927015ae9653"
  },
  {
   "cell_type": "code",
   "execution_count": 7,
   "outputs": [],
   "source": [
    "# convert to tensor arrays\n",
    "x_test_tensor = tf.constant(x_test, dtype=tf.float32)\n",
    "y_test_tensor = tf.constant(y_test, dtype=tf.float32)"
   ],
   "metadata": {
    "collapsed": false,
    "ExecuteTime": {
     "end_time": "2023-12-10T12:29:02.278501Z",
     "start_time": "2023-12-10T12:29:02.256930Z"
    }
   },
   "id": "d4f2882c044068f4"
  },
  {
   "cell_type": "code",
   "execution_count": 8,
   "outputs": [
    {
     "name": "stderr",
     "output_type": "stream",
     "text": [
      "WARNING:absl:At this time, the v2.11+ optimizer `tf.keras.optimizers.Adam` runs slowly on M1/M2 Macs, please use the legacy Keras optimizer instead, located at `tf.keras.optimizers.legacy.Adam`.\n"
     ]
    },
    {
     "name": "stdout",
     "output_type": "stream",
     "text": [
      "Epoch 1/20\n"
     ]
    },
    {
     "name": "stderr",
     "output_type": "stream",
     "text": [
      "2023-12-10 17:59:03.749370: I tensorflow/core/grappler/optimizers/custom_graph_optimizer_registry.cc:117] Plugin optimizer for device_type GPU is enabled.\n",
      "2023-12-10 17:59:03.835958: E tensorflow/core/grappler/optimizers/meta_optimizer.cc:961] model_pruner failed: INVALID_ARGUMENT: Graph does not contain terminal node Adam/AssignAddVariableOp.\n"
     ]
    },
    {
     "name": "stdout",
     "output_type": "stream",
     "text": [
      "640/640 [==============================] - 12s 16ms/step - loss: 0.2043 - mae: 0.2043 - val_loss: 0.1388 - val_mae: 0.1388\n",
      "Epoch 2/20\n",
      "640/640 [==============================] - 10s 15ms/step - loss: 0.0919 - mae: 0.0919 - val_loss: 0.0801 - val_mae: 0.0801\n",
      "Epoch 3/20\n",
      "640/640 [==============================] - 10s 16ms/step - loss: 0.0705 - mae: 0.0705 - val_loss: 0.0718 - val_mae: 0.0718\n",
      "Epoch 4/20\n",
      "640/640 [==============================] - 10s 15ms/step - loss: 0.0666 - mae: 0.0666 - val_loss: 0.0698 - val_mae: 0.0698\n",
      "Epoch 5/20\n",
      "640/640 [==============================] - 10s 15ms/step - loss: 0.0655 - mae: 0.0655 - val_loss: 0.0692 - val_mae: 0.0692\n",
      "Epoch 6/20\n",
      "640/640 [==============================] - 9s 15ms/step - loss: 0.0637 - mae: 0.0637 - val_loss: 0.0787 - val_mae: 0.0787\n",
      "Epoch 7/20\n",
      "640/640 [==============================] - 10s 15ms/step - loss: 0.0636 - mae: 0.0636 - val_loss: 0.0694 - val_mae: 0.0694\n",
      "Epoch 8/20\n",
      "640/640 [==============================] - 10s 15ms/step - loss: 0.0627 - mae: 0.0627 - val_loss: 0.0672 - val_mae: 0.0672\n",
      "Epoch 9/20\n",
      "640/640 [==============================] - 10s 16ms/step - loss: 0.0623 - mae: 0.0623 - val_loss: 0.0674 - val_mae: 0.0674\n",
      "Epoch 10/20\n",
      "640/640 [==============================] - 10s 15ms/step - loss: 0.0620 - mae: 0.0620 - val_loss: 0.0745 - val_mae: 0.0745\n",
      "Epoch 11/20\n",
      "640/640 [==============================] - 10s 15ms/step - loss: 0.0615 - mae: 0.0615 - val_loss: 0.0662 - val_mae: 0.0662\n",
      "Epoch 12/20\n",
      "640/640 [==============================] - 9s 14ms/step - loss: 0.0613 - mae: 0.0613 - val_loss: 0.0675 - val_mae: 0.0675\n",
      "Epoch 13/20\n",
      "640/640 [==============================] - 9s 15ms/step - loss: 0.0608 - mae: 0.0608 - val_loss: 0.0641 - val_mae: 0.0641\n",
      "Epoch 14/20\n",
      "640/640 [==============================] - 9s 14ms/step - loss: 0.0603 - mae: 0.0603 - val_loss: 0.0633 - val_mae: 0.0633\n",
      "Epoch 15/20\n",
      "640/640 [==============================] - 9s 15ms/step - loss: 0.0606 - mae: 0.0606 - val_loss: 0.0656 - val_mae: 0.0656\n",
      "Epoch 16/20\n",
      "640/640 [==============================] - 10s 15ms/step - loss: 0.0597 - mae: 0.0597 - val_loss: 0.0632 - val_mae: 0.0632\n",
      "Epoch 17/20\n",
      "640/640 [==============================] - 9s 15ms/step - loss: 0.0594 - mae: 0.0594 - val_loss: 0.0612 - val_mae: 0.0612\n",
      "Epoch 18/20\n",
      "640/640 [==============================] - 9s 15ms/step - loss: 0.0594 - mae: 0.0594 - val_loss: 0.0622 - val_mae: 0.0622\n",
      "Epoch 19/20\n",
      "640/640 [==============================] - 9s 15ms/step - loss: 0.0583 - mae: 0.0583 - val_loss: 0.0595 - val_mae: 0.0595\n",
      "Epoch 20/20\n",
      "640/640 [==============================] - 9s 14ms/step - loss: 0.0581 - mae: 0.0581 - val_loss: 0.0590 - val_mae: 0.0590\n"
     ]
    }
   ],
   "source": [
    "# model\n",
    "model = tf.keras.Sequential()\n",
    "model.add(tf.keras.layers.Dense(184, activation='relu', input_shape=(x_train_tensor.shape[1],)))\n",
    "model.add(tf.keras.layers.Reshape((1, 184))) \n",
    "model.add(tf.keras.layers.LSTM(128, return_sequences=True))\n",
    "model.add(tf.keras.layers.Dense(128, activation='relu'))\n",
    "model.add(tf.keras.layers.Dense(64, activation='relu'))\n",
    "model.add(tf.keras.layers.LSTM(32))\n",
    "model.add(tf.keras.layers.Dense(1, activation='linear'))\n",
    "\n",
    "# compile model\n",
    "model.compile(optimizer=tf.keras.optimizers.Adam(learning_rate=1e-4), loss='mae', metrics=['mae'])\n",
    "\n",
    "epoch_number = 20\n",
    "\n",
    "# train model and get history\n",
    "history = model.fit(x_train_tensor, y_train_tensor, epochs=epoch_number, validation_data=(x_eval_tensor, y_eval_tensor))"
   ],
   "metadata": {
    "collapsed": false,
    "ExecuteTime": {
     "end_time": "2023-12-10T12:32:17.172708Z",
     "start_time": "2023-12-10T12:29:02.277585Z"
    }
   },
   "id": "8b436d40b14f1f96"
  },
  {
   "cell_type": "code",
   "execution_count": 11,
   "outputs": [],
   "source": [
    "import matplotlib.pyplot as plt"
   ],
   "metadata": {
    "collapsed": false,
    "ExecuteTime": {
     "end_time": "2023-12-10T12:32:18.373631Z",
     "start_time": "2023-12-10T12:32:18.104236Z"
    }
   },
   "id": "6463930abb54b395"
  },
  {
   "cell_type": "code",
   "execution_count": 12,
   "outputs": [
    {
     "data": {
      "text/plain": "Text(0, 0.5, 'loss')"
     },
     "execution_count": 12,
     "metadata": {},
     "output_type": "execute_result"
    },
    {
     "data": {
      "text/plain": "<Figure size 640x480 with 1 Axes>",
      "image/png": "[encoded data removed]"
     },
     "metadata": {},
     "output_type": "display_data"
    }
   ],
   "source": [
    "# plot loss with respect to epoch number\n",
    "x_range = range(1, epoch_number + 1)\n",
    "loss = history.history['loss']\n",
    "plt.plot(x_range, loss)\n",
    "plt.xlabel('epoch')\n",
    "plt.ylabel('loss')"
   ],
   "metadata": {
    "collapsed": false,
    "ExecuteTime": {
     "end_time": "2023-12-10T12:32:18.654542Z",
     "start_time": "2023-12-10T12:32:18.374554Z"
    }
   },
   "id": "edd889b97d10a84"
  },
  {
   "cell_type": "code",
   "execution_count": 13,
   "outputs": [
    {
     "name": "stderr",
     "output_type": "stream",
     "text": [
      "WARNING:absl:At this time, the v2.11+ optimizer `tf.keras.optimizers.Adam` runs slowly on M1/M2 Macs, please use the legacy Keras optimizer instead, located at `tf.keras.optimizers.legacy.Adam`.\n"
     ]
    },
    {
     "name": "stdout",
     "output_type": "stream",
     "text": [
      "Epoch 1/19\n"
     ]
    },
    {
     "name": "stderr",
     "output_type": "stream",
     "text": [
      "2023-12-10 18:02:19.770110: E tensorflow/core/grappler/optimizers/meta_optimizer.cc:961] model_pruner failed: INVALID_ARGUMENT: Graph does not contain terminal node Adam/AssignAddVariableOp.\n"
     ]
    },
    {
     "name": "stdout",
     "output_type": "stream",
     "text": [
      "640/640 [==============================] - 11s 15ms/step - loss: 0.2073 - mae: 0.2073 - val_loss: 0.1450 - val_mae: 0.1450\n",
      "Epoch 2/19\n",
      "640/640 [==============================] - 9s 15ms/step - loss: 0.0939 - mae: 0.0939 - val_loss: 0.0802 - val_mae: 0.0802\n",
      "Epoch 3/19\n",
      "640/640 [==============================] - 10s 15ms/step - loss: 0.0719 - mae: 0.0719 - val_loss: 0.0790 - val_mae: 0.0790\n",
      "Epoch 4/19\n",
      "640/640 [==============================] - 9s 15ms/step - loss: 0.0669 - mae: 0.0669 - val_loss: 0.0711 - val_mae: 0.0711\n",
      "Epoch 5/19\n",
      "640/640 [==============================] - 9s 15ms/step - loss: 0.0650 - mae: 0.0650 - val_loss: 0.0688 - val_mae: 0.0688\n",
      "Epoch 6/19\n",
      "640/640 [==============================] - 10s 15ms/step - loss: 0.0641 - mae: 0.0641 - val_loss: 0.0689 - val_mae: 0.0689\n",
      "Epoch 7/19\n",
      "640/640 [==============================] - 10s 15ms/step - loss: 0.0632 - mae: 0.0632 - val_loss: 0.0715 - val_mae: 0.0715\n",
      "Epoch 8/19\n",
      "640/640 [==============================] - 10s 15ms/step - loss: 0.0627 - mae: 0.0627 - val_loss: 0.0669 - val_mae: 0.0669\n",
      "Epoch 9/19\n",
      "640/640 [==============================] - 10s 15ms/step - loss: 0.0619 - mae: 0.0619 - val_loss: 0.0650 - val_mae: 0.0650\n",
      "Epoch 10/19\n",
      "640/640 [==============================] - 10s 15ms/step - loss: 0.0611 - mae: 0.0611 - val_loss: 0.0637 - val_mae: 0.0637\n",
      "Epoch 11/19\n",
      "640/640 [==============================] - 9s 15ms/step - loss: 0.0604 - mae: 0.0604 - val_loss: 0.0656 - val_mae: 0.0656\n",
      "Epoch 12/19\n",
      "640/640 [==============================] - 9s 15ms/step - loss: 0.0601 - mae: 0.0601 - val_loss: 0.0634 - val_mae: 0.0634\n",
      "Epoch 13/19\n",
      "640/640 [==============================] - 10s 15ms/step - loss: 0.0593 - mae: 0.0593 - val_loss: 0.0631 - val_mae: 0.0631\n",
      "Epoch 14/19\n",
      "640/640 [==============================] - 10s 15ms/step - loss: 0.0587 - mae: 0.0587 - val_loss: 0.0627 - val_mae: 0.0627\n",
      "Epoch 15/19\n",
      "640/640 [==============================] - 9s 14ms/step - loss: 0.0582 - mae: 0.0582 - val_loss: 0.0599 - val_mae: 0.0599\n",
      "Epoch 16/19\n",
      "640/640 [==============================] - 9s 14ms/step - loss: 0.0582 - mae: 0.0582 - val_loss: 0.0598 - val_mae: 0.0598\n",
      "Epoch 17/19\n",
      "640/640 [==============================] - 9s 14ms/step - loss: 0.0570 - mae: 0.0570 - val_loss: 0.0579 - val_mae: 0.0579\n",
      "Epoch 18/19\n",
      "640/640 [==============================] - 9s 14ms/step - loss: 0.0569 - mae: 0.0569 - val_loss: 0.0578 - val_mae: 0.0578\n",
      "Epoch 19/19\n",
      "640/640 [==============================] - 9s 14ms/step - loss: 0.0566 - mae: 0.0566 - val_loss: 0.0582 - val_mae: 0.0582\n"
     ]
    }
   ],
   "source": [
    "# final model with optimized epoch number\n",
    "final_model = tf.keras.Sequential()\n",
    "final_model.add(tf.keras.layers.Dense(184, activation='relu', input_shape=(x_train_tensor.shape[1],)))\n",
    "final_model.add(tf.keras.layers.Reshape((1, 184))) \n",
    "final_model.add(tf.keras.layers.LSTM(128, return_sequences=True))\n",
    "final_model.add(tf.keras.layers.Dense(128, activation='relu'))\n",
    "final_model.add(tf.keras.layers.Dense(64, activation='relu'))\n",
    "final_model.add(tf.keras.layers.LSTM(32))\n",
    "final_model.add(tf.keras.layers.Dense(1, activation='linear'))\n",
    "\n",
    "final_model.compile(optimizer=tf.keras.optimizers.Adam(learning_rate=1e-4), loss='mae', metrics=['mae'])\n",
    "\n",
    "epoch_number = 19\n",
    "\n",
    "history = final_model.fit(x_train_tensor, y_train_tensor, epochs=epoch_number, validation_data=(x_eval_tensor, y_eval_tensor))"
   ],
   "metadata": {
    "collapsed": false,
    "ExecuteTime": {
     "end_time": "2023-12-10T12:35:20.636933Z",
     "start_time": "2023-12-10T12:32:18.653714Z"
    }
   },
   "id": "8b01720110040e7f"
  },
  {
   "cell_type": "code",
   "execution_count": 14,
   "outputs": [
    {
     "name": "stdout",
     "output_type": "stream",
     "text": [
      "Model: \"sequential_1\"\n",
      "_________________________________________________________________\n",
      " Layer (type)                Output Shape              Param #   \n",
      "=================================================================\n",
      " dense_4 (Dense)             (None, 184)               34040     \n",
      "                                                                 \n",
      " reshape_1 (Reshape)         (None, 1, 184)            0         \n",
      "                                                                 \n",
      " lstm_2 (LSTM)               (None, 1, 128)            160256    \n",
      "                                                                 \n",
      " dense_5 (Dense)             (None, 1, 128)            16512     \n",
      "                                                                 \n",
      " dense_6 (Dense)             (None, 1, 64)             8256      \n",
      "                                                                 \n",
      " lstm_3 (LSTM)               (None, 32)                12416     \n",
      "                                                                 \n",
      " dense_7 (Dense)             (None, 1)                 33        \n",
      "                                                                 \n",
      "=================================================================\n",
      "Total params: 231513 (904.35 KB)\n",
      "Trainable params: 231513 (904.35 KB)\n",
      "Non-trainable params: 0 (0.00 Byte)\n",
      "_________________________________________________________________\n"
     ]
    }
   ],
   "source": [
    "final_model.summary()"
   ],
   "metadata": {
    "collapsed": false,
    "ExecuteTime": {
     "end_time": "2023-12-10T12:35:20.664439Z",
     "start_time": "2023-12-10T12:35:20.655355Z"
    }
   },
   "id": "e343e8db0446aeb0"
  },
  {
   "cell_type": "code",
   "execution_count": 15,
   "outputs": [
    {
     "name": "stdout",
     "output_type": "stream",
     "text": [
      "80/80 [==============================] - 1s 7ms/step - loss: 0.0603 - mae: 0.0603\n"
     ]
    },
    {
     "data": {
      "text/plain": "[0.06033642217516899, 0.06033642217516899]"
     },
     "execution_count": 15,
     "metadata": {},
     "output_type": "execute_result"
    }
   ],
   "source": [
    "# view loss for testing values\n",
    "final_model.evaluate(x_test_tensor, y_test_tensor)"
   ],
   "metadata": {
    "collapsed": false,
    "ExecuteTime": {
     "end_time": "2023-12-10T12:35:21.264859Z",
     "start_time": "2023-12-10T12:35:20.658351Z"
    }
   },
   "id": "69956a15af34e265"
  },
  {
   "cell_type": "code",
   "execution_count": 16,
   "outputs": [
    {
     "name": "stdout",
     "output_type": "stream",
     "text": [
      "80/80 [==============================] - 1s 6ms/step\n"
     ]
    },
    {
     "data": {
      "text/plain": "array([[0.22939107],\n       [1.0108167 ],\n       [0.54042804],\n       [0.21148407],\n       [0.42360643]], dtype=float32)"
     },
     "execution_count": 16,
     "metadata": {},
     "output_type": "execute_result"
    }
   ],
   "source": [
    "# predict sample value set\n",
    "y_predictions = final_model.predict(x_test_tensor)\n",
    "y_predictions[:5]"
   ],
   "metadata": {
    "collapsed": false,
    "ExecuteTime": {
     "end_time": "2023-12-10T12:35:22.098068Z",
     "start_time": "2023-12-10T12:35:21.263575Z"
    }
   },
   "id": "af247d91cef66b79"
  },
  {
   "cell_type": "code",
   "execution_count": 17,
   "outputs": [
    {
     "data": {
      "text/plain": "<tf.Tensor: shape=(5,), dtype=float32, numpy=\narray([0.26666668, 1.        , 0.59      , 0.18333334, 0.36666667],\n      dtype=float32)>"
     },
     "execution_count": 17,
     "metadata": {},
     "output_type": "execute_result"
    }
   ],
   "source": [
    "# view actual values\n",
    "y_test_tensor[:5]"
   ],
   "metadata": {
    "collapsed": false,
    "ExecuteTime": {
     "end_time": "2023-12-10T12:35:22.103051Z",
     "start_time": "2023-12-10T12:35:22.097653Z"
    }
   },
   "id": "363d820b101a1bb6"
  },
  {
   "cell_type": "code",
   "execution_count": 18,
   "outputs": [
    {
     "name": "stdout",
     "output_type": "stream",
     "text": [
      "INFO:tensorflow:Assets written to: final_sold_amount_model/assets\n"
     ]
    },
    {
     "name": "stderr",
     "output_type": "stream",
     "text": [
      "INFO:tensorflow:Assets written to: final_sold_amount_model/assets\n"
     ]
    }
   ],
   "source": [
    "# save final model\n",
    "final_model.save('final_sold_amount_model')"
   ],
   "metadata": {
    "collapsed": false,
    "ExecuteTime": {
     "end_time": "2023-12-10T12:35:23.971870Z",
     "start_time": "2023-12-10T12:35:22.136648Z"
    }
   },
   "id": "46f2cd66a29e1bc7"
  }
 ],
 "metadata": {
  "kernelspec": {
   "display_name": "Python 3",
   "language": "python",
   "name": "python3"
  },
  "language_info": {
   "codemirror_mode": {
    "name": "ipython",
    "version": 2
   },
   "file_extension": ".py",
   "mimetype": "text/x-python",
   "name": "python",
   "nbconvert_exporter": "python",
   "pygments_lexer": "ipython2",
   "version": "2.7.6"
  }
 },
 "nbformat": 4,
 "nbformat_minor": 5
}
