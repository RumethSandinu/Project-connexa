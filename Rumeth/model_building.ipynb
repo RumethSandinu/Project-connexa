{
 "cells": [
  {
   "cell_type": "code",
   "execution_count": 1,
   "id": "initial_id",
   "metadata": {
    "collapsed": true,
    "ExecuteTime": {
     "end_time": "2023-12-04T06:59:04.970553Z",
     "start_time": "2023-12-04T06:59:01.889068Z"
    }
   },
   "outputs": [
    {
     "name": "stderr",
     "output_type": "stream",
     "text": [
      "/Users/rumethsandinu/Library/Python/3.9/lib/python/site-packages/urllib3/__init__.py:34: NotOpenSSLWarning: urllib3 v2 only supports OpenSSL 1.1.1+, currently the 'ssl' module is compiled with 'LibreSSL 2.8.3'. See: https://github.com/urllib3/urllib3/issues/3020\n",
      "  warnings.warn(\n"
     ]
    }
   ],
   "source": [
    "import pandas as pd\n",
    "import matplotlib.pyplot as plt\n",
    "import tensorflow as tf\n",
    "from sklearn.model_selection import train_test_split"
   ]
  },
  {
   "cell_type": "code",
   "execution_count": 2,
   "outputs": [
    {
     "name": "stdout",
     "output_type": "stream",
     "text": [
      "<class 'pandas.core.frame.DataFrame'>\n",
      "RangeIndex: 699942 entries, 0 to 699941\n",
      "Columns: 198 entries, Quantity Sold (kilo) to Sale or Return_sale\n",
      "dtypes: bool(196), float64(2)\n",
      "memory usage: 141.5 MB\n"
     ]
    }
   ],
   "source": [
    "df = pd.read_csv('/Users/rumethsandinu/Study/Assessments/Year 2/DSGP/Datasets/pre_processed_dataset.csv')\n",
    "df.info()"
   ],
   "metadata": {
    "collapsed": false,
    "ExecuteTime": {
     "end_time": "2023-12-04T06:59:09.297061Z",
     "start_time": "2023-12-04T06:59:04.971469Z"
    }
   },
   "id": "f6a76d43f2da9e88"
  },
  {
   "cell_type": "code",
   "execution_count": 3,
   "outputs": [
    {
     "name": "stderr",
     "output_type": "stream",
     "text": [
      "2023-12-04 12:29:09.508274: I metal_plugin/src/device/metal_device.cc:1154] Metal device set to: Apple M2\n",
      "2023-12-04 12:29:09.508328: I metal_plugin/src/device/metal_device.cc:296] systemMemory: 8.00 GB\n",
      "2023-12-04 12:29:09.508341: I metal_plugin/src/device/metal_device.cc:313] maxCacheSize: 2.67 GB\n",
      "2023-12-04 12:29:09.508390: I tensorflow/core/common_runtime/pluggable_device/pluggable_device_factory.cc:306] Could not identify NUMA node of platform GPU ID 0, defaulting to 0. Your kernel may not have been built with NUMA support.\n",
      "2023-12-04 12:29:09.508415: I tensorflow/core/common_runtime/pluggable_device/pluggable_device_factory.cc:272] Created TensorFlow device (/job:localhost/replica:0/task:0/device:GPU:0 with 0 MB memory) -> physical PluggableDevice (device: 0, name: METAL, pci bus id: <undefined>)\n"
     ]
    },
    {
     "data": {
      "text/plain": "(TensorShape([559953, 197]), TensorShape([69994, 197]), (69995, 197))"
     },
     "execution_count": 3,
     "metadata": {},
     "output_type": "execute_result"
    }
   ],
   "source": [
    "y = df['Quantity Sold (kilo)']\n",
    "x = df.drop(columns=['Quantity Sold (kilo)'], axis=1)\n",
    "\n",
    "x_train, x_temp, y_train, y_temp = train_test_split(x, y, test_size=0.2, random_state=42)\n",
    "x_eval, x_test, y_eval, y_test = train_test_split(x_temp, y_temp, test_size=0.5, random_state=42)\n",
    "\n",
    "x_train_tensor = tf.constant(x_train, dtype=tf.float32)\n",
    "y_train_tensor = tf.constant(y_train, dtype=tf.float32)\n",
    "x_eval_tensor = tf.constant(x_eval, dtype=tf.float32)\n",
    "y_eval_tensor = tf.constant(y_eval, dtype=tf.float32)\n",
    "\n",
    "x_train_tensor.shape, x_eval_tensor.shape, x_test.shape"
   ],
   "metadata": {
    "collapsed": false,
    "ExecuteTime": {
     "end_time": "2023-12-04T06:59:14.775553Z",
     "start_time": "2023-12-04T06:59:09.285779Z"
    }
   },
   "id": "87771c7557fd3e35"
  },
  {
   "cell_type": "code",
   "execution_count": 4,
   "outputs": [
    {
     "data": {
      "text/plain": "       Quantity Sold (kilo)  Unit Selling Price (RMB/kg)  \\\n29389                 0.603                          4.0   \n50935                 0.569                          6.0   \n53546                 1.000                          3.5   \n22143                 0.100                         10.0   \n39030                 0.503                          6.0   \n\n       Item Name_7 Colour Pepper   Item Name_Agaricus Bisporus   \\\n29389                       False                         False   \n50935                       False                         False   \n53546                       False                         False   \n22143                       False                         False   \n39030                       False                         False   \n\n       Item Name_Aihao  Item Name_Amaranth  Item Name_Amaranth   \\\n29389            False               False                False   \n50935            False               False                False   \n53546            False               False                False   \n22143            False               False                False   \n39030            False               False                False   \n\n       Item Name_Apricot Bao Mushroom   Item Name_Artemisia Stelleriana  \\\n29389                            False                            False   \n50935                            False                            False   \n53546                            False                            False   \n22143                            False                            False   \n39030                            False                            False   \n\n       Item Name_Basil   ...  Item Name_Zhimaxiancai  Item Name_Zhuyecai  \\\n29389             False  ...                   False               False   \n50935             False  ...                   False               False   \n53546             False  ...                   False               False   \n22143             False  ...                   False               False   \n39030             False  ...                   False               False   \n\n       Item Name_Zhuyecai   Category Name_Aquatic Tuberous Vegetables  \\\n29389                False                                      False   \n50935                False                                      False   \n53546                False                                      False   \n22143                False                                      False   \n39030                False                                      False   \n\n       Category Name_Cabbage  Category Name_Capsicum  \\\n29389                  False                   False   \n50935                  False                    True   \n53546                  False                    True   \n22143                  False                    True   \n39030                  False                    True   \n\n       Category Name_Edible Mushroom  Category Name_Flower/Leaf Vegetables  \\\n29389                          False                                  True   \n50935                          False                                 False   \n53546                          False                                 False   \n22143                          False                                 False   \n39030                          False                                 False   \n\n       Category Name_Solanum  Sale or Return_sale  \n29389                  False                 True  \n50935                  False                 True  \n53546                  False                 True  \n22143                  False                 True  \n39030                  False                 True  \n\n[5 rows x 198 columns]",
      "text/html": "<div>\n<style scoped>\n    .dataframe tbody tr th:only-of-type {\n        vertical-align: middle;\n    }\n\n    .dataframe tbody tr th {\n        vertical-align: top;\n    }\n\n    .dataframe thead th {\n        text-align: right;\n    }\n</style>\n<table border=\"1\" class=\"dataframe\">\n  <thead>\n    <tr style=\"text-align: right;\">\n      <th></th>\n      <th>Quantity Sold (kilo)</th>\n      <th>Unit Selling Price (RMB/kg)</th>\n      <th>Item Name_7 Colour Pepper</th>\n      <th>Item Name_Agaricus Bisporus</th>\n      <th>Item Name_Aihao</th>\n      <th>Item Name_Amaranth</th>\n      <th>Item Name_Amaranth</th>\n      <th>Item Name_Apricot Bao Mushroom</th>\n      <th>Item Name_Artemisia Stelleriana</th>\n      <th>Item Name_Basil</th>\n      <th>...</th>\n      <th>Item Name_Zhimaxiancai</th>\n      <th>Item Name_Zhuyecai</th>\n      <th>Item Name_Zhuyecai</th>\n      <th>Category Name_Aquatic Tuberous Vegetables</th>\n      <th>Category Name_Cabbage</th>\n      <th>Category Name_Capsicum</th>\n      <th>Category Name_Edible Mushroom</th>\n      <th>Category Name_Flower/Leaf Vegetables</th>\n      <th>Category Name_Solanum</th>\n      <th>Sale or Return_sale</th>\n    </tr>\n  </thead>\n  <tbody>\n    <tr>\n      <th>29389</th>\n      <td>0.603</td>\n      <td>4.0</td>\n      <td>False</td>\n      <td>False</td>\n      <td>False</td>\n      <td>False</td>\n      <td>False</td>\n      <td>False</td>\n      <td>False</td>\n      <td>False</td>\n      <td>...</td>\n      <td>False</td>\n      <td>False</td>\n      <td>False</td>\n      <td>False</td>\n      <td>False</td>\n      <td>False</td>\n      <td>False</td>\n      <td>True</td>\n      <td>False</td>\n      <td>True</td>\n    </tr>\n    <tr>\n      <th>50935</th>\n      <td>0.569</td>\n      <td>6.0</td>\n      <td>False</td>\n      <td>False</td>\n      <td>False</td>\n      <td>False</td>\n      <td>False</td>\n      <td>False</td>\n      <td>False</td>\n      <td>False</td>\n      <td>...</td>\n      <td>False</td>\n      <td>False</td>\n      <td>False</td>\n      <td>False</td>\n      <td>False</td>\n      <td>True</td>\n      <td>False</td>\n      <td>False</td>\n      <td>False</td>\n      <td>True</td>\n    </tr>\n    <tr>\n      <th>53546</th>\n      <td>1.000</td>\n      <td>3.5</td>\n      <td>False</td>\n      <td>False</td>\n      <td>False</td>\n      <td>False</td>\n      <td>False</td>\n      <td>False</td>\n      <td>False</td>\n      <td>False</td>\n      <td>...</td>\n      <td>False</td>\n      <td>False</td>\n      <td>False</td>\n      <td>False</td>\n      <td>False</td>\n      <td>True</td>\n      <td>False</td>\n      <td>False</td>\n      <td>False</td>\n      <td>True</td>\n    </tr>\n    <tr>\n      <th>22143</th>\n      <td>0.100</td>\n      <td>10.0</td>\n      <td>False</td>\n      <td>False</td>\n      <td>False</td>\n      <td>False</td>\n      <td>False</td>\n      <td>False</td>\n      <td>False</td>\n      <td>False</td>\n      <td>...</td>\n      <td>False</td>\n      <td>False</td>\n      <td>False</td>\n      <td>False</td>\n      <td>False</td>\n      <td>True</td>\n      <td>False</td>\n      <td>False</td>\n      <td>False</td>\n      <td>True</td>\n    </tr>\n    <tr>\n      <th>39030</th>\n      <td>0.503</td>\n      <td>6.0</td>\n      <td>False</td>\n      <td>False</td>\n      <td>False</td>\n      <td>False</td>\n      <td>False</td>\n      <td>False</td>\n      <td>False</td>\n      <td>False</td>\n      <td>...</td>\n      <td>False</td>\n      <td>False</td>\n      <td>False</td>\n      <td>False</td>\n      <td>False</td>\n      <td>True</td>\n      <td>False</td>\n      <td>False</td>\n      <td>False</td>\n      <td>True</td>\n    </tr>\n  </tbody>\n</table>\n<p>5 rows × 198 columns</p>\n</div>"
     },
     "execution_count": 4,
     "metadata": {},
     "output_type": "execute_result"
    }
   ],
   "source": [
    "df_test = pd.concat([y_test.reset_index(drop=True), x_test.reset_index(drop=True)], axis=1)\n",
    "df_test.to_csv('/Users/rumethsandinu/Study/Assessments/Year 2/DSGP/Datasets/testing_dataset.csv')\n",
    "df_test.sample(5)"
   ],
   "metadata": {
    "collapsed": false,
    "ExecuteTime": {
     "end_time": "2023-12-04T06:59:16.167823Z",
     "start_time": "2023-12-04T06:59:14.776323Z"
    }
   },
   "id": "f2ad927015ae9653"
  },
  {
   "cell_type": "code",
   "execution_count": 5,
   "outputs": [],
   "source": [
    "x_test_tensor = tf.constant(x_test, dtype=tf.float32)\n",
    "y_test_tensor = tf.constant(y_test, dtype=tf.float32)"
   ],
   "metadata": {
    "collapsed": false,
    "ExecuteTime": {
     "end_time": "2023-12-04T06:59:16.692691Z",
     "start_time": "2023-12-04T06:59:16.166355Z"
    }
   },
   "id": "d4f2882c044068f4"
  },
  {
   "cell_type": "code",
   "execution_count": 6,
   "outputs": [
    {
     "name": "stderr",
     "output_type": "stream",
     "text": [
      "WARNING:absl:At this time, the v2.11+ optimizer `tf.keras.optimizers.Adam` runs slowly on M1/M2 Macs, please use the legacy Keras optimizer instead, located at `tf.keras.optimizers.legacy.Adam`.\n"
     ]
    },
    {
     "name": "stdout",
     "output_type": "stream",
     "text": [
      "Epoch 1/20\n"
     ]
    },
    {
     "name": "stderr",
     "output_type": "stream",
     "text": [
      "2023-12-04 12:29:18.109016: I tensorflow/core/grappler/optimizers/custom_graph_optimizer_registry.cc:117] Plugin optimizer for device_type GPU is enabled.\n",
      "2023-12-04 12:29:18.182852: E tensorflow/core/grappler/optimizers/meta_optimizer.cc:961] model_pruner failed: INVALID_ARGUMENT: Graph does not contain terminal node Adam/AssignAddVariableOp.\n"
     ]
    },
    {
     "name": "stdout",
     "output_type": "stream",
     "text": [
      "17499/17499 [==============================] - 256s 15ms/step - loss: 0.1320 - mae: 0.1320 - val_loss: 0.1262 - val_mae: 0.1262\n",
      "Epoch 2/20\n",
      "17499/17499 [==============================] - 255s 15ms/step - loss: 0.1253 - mae: 0.1253 - val_loss: 0.1240 - val_mae: 0.1240\n",
      "Epoch 3/20\n",
      "17499/17499 [==============================] - 255s 15ms/step - loss: 0.1239 - mae: 0.1239 - val_loss: 0.1230 - val_mae: 0.1230\n",
      "Epoch 4/20\n",
      "17499/17499 [==============================] - 255s 15ms/step - loss: 0.1234 - mae: 0.1234 - val_loss: 0.1222 - val_mae: 0.1222\n",
      "Epoch 5/20\n",
      "17499/17499 [==============================] - 258s 15ms/step - loss: 0.1232 - mae: 0.1232 - val_loss: 0.1219 - val_mae: 0.1219\n",
      "Epoch 6/20\n",
      "17499/17499 [==============================] - 257s 15ms/step - loss: 0.1230 - mae: 0.1230 - val_loss: 0.1217 - val_mae: 0.1217\n",
      "Epoch 7/20\n",
      "17499/17499 [==============================] - 257s 15ms/step - loss: 0.1229 - mae: 0.1229 - val_loss: 0.1218 - val_mae: 0.1218\n",
      "Epoch 8/20\n",
      "17499/17499 [==============================] - 259s 15ms/step - loss: 0.1229 - mae: 0.1229 - val_loss: 0.1221 - val_mae: 0.1221\n",
      "Epoch 9/20\n",
      "17499/17499 [==============================] - 259s 15ms/step - loss: 0.1228 - mae: 0.1228 - val_loss: 0.1216 - val_mae: 0.1216\n",
      "Epoch 10/20\n",
      "17499/17499 [==============================] - 260s 15ms/step - loss: 0.1227 - mae: 0.1227 - val_loss: 0.1218 - val_mae: 0.1218\n",
      "Epoch 11/20\n",
      "17499/17499 [==============================] - 261s 15ms/step - loss: 0.1227 - mae: 0.1227 - val_loss: 0.1215 - val_mae: 0.1215\n",
      "Epoch 12/20\n",
      "17499/17499 [==============================] - 262s 15ms/step - loss: 0.1226 - mae: 0.1226 - val_loss: 0.1213 - val_mae: 0.1213\n",
      "Epoch 13/20\n",
      "17499/17499 [==============================] - 262s 15ms/step - loss: 0.1226 - mae: 0.1226 - val_loss: 0.1218 - val_mae: 0.1218\n",
      "Epoch 14/20\n",
      "17499/17499 [==============================] - 263s 15ms/step - loss: 0.1225 - mae: 0.1225 - val_loss: 0.1219 - val_mae: 0.1219\n",
      "Epoch 15/20\n",
      "17499/17499 [==============================] - 274s 16ms/step - loss: 0.1225 - mae: 0.1225 - val_loss: 0.1215 - val_mae: 0.1215\n",
      "Epoch 16/20\n",
      "17499/17499 [==============================] - 296s 17ms/step - loss: 0.1225 - mae: 0.1225 - val_loss: 0.1215 - val_mae: 0.1215\n",
      "Epoch 17/20\n",
      "17499/17499 [==============================] - 288s 16ms/step - loss: 0.1224 - mae: 0.1224 - val_loss: 0.1213 - val_mae: 0.1213\n",
      "Epoch 18/20\n",
      "17499/17499 [==============================] - 318s 18ms/step - loss: 0.1224 - mae: 0.1224 - val_loss: 0.1216 - val_mae: 0.1216\n",
      "Epoch 19/20\n",
      "17499/17499 [==============================] - 291s 17ms/step - loss: 0.1223 - mae: 0.1223 - val_loss: 0.1212 - val_mae: 0.1212\n",
      "Epoch 20/20\n",
      "17499/17499 [==============================] - 287s 16ms/step - loss: 0.1223 - mae: 0.1223 - val_loss: 0.1215 - val_mae: 0.1215\n"
     ]
    }
   ],
   "source": [
    "model = tf.keras.Sequential()\n",
    "\n",
    "model.add(tf.keras.layers.Dense(197, activation='relu', input_shape=(x_train_tensor.shape[1],)))\n",
    "\n",
    "model.add(tf.keras.layers.Reshape((1, 197))) \n",
    "model.add(tf.keras.layers.LSTM(128, return_sequences=True))\n",
    "model.add(tf.keras.layers.Dense(128, activation='relu'))\n",
    "model.add(tf.keras.layers.Dense(64, activation='relu'))\n",
    "model.add(tf.keras.layers.LSTM(32))\n",
    "\n",
    "model.add(tf.keras.layers.Dense(1, activation='linear'))\n",
    "\n",
    "model.compile(optimizer=tf.keras.optimizers.Adam(learning_rate=1e-4), loss='mae', metrics=['mae'])\n",
    "\n",
    "epoch_number = 20\n",
    "\n",
    "history = model.fit(x_train_tensor, y_train_tensor, epochs=epoch_number, validation_data=(x_eval_tensor, y_eval_tensor))"
   ],
   "metadata": {
    "collapsed": false,
    "ExecuteTime": {
     "end_time": "2023-12-04T08:28:49.399359Z",
     "start_time": "2023-12-04T06:59:16.695154Z"
    }
   },
   "id": "8b436d40b14f1f96"
  },
  {
   "cell_type": "code",
   "execution_count": 7,
   "outputs": [
    {
     "name": "stdout",
     "output_type": "stream",
     "text": [
      "2188/2188 [==============================] - 16s 7ms/step\n"
     ]
    },
    {
     "data": {
      "text/plain": "array([[0.443424  ],\n       [0.2242806 ],\n       [0.40660104],\n       [0.3679442 ],\n       [0.25421163]], dtype=float32)"
     },
     "execution_count": 7,
     "metadata": {},
     "output_type": "execute_result"
    }
   ],
   "source": [
    "y_predictions = model.predict(x_test_tensor)\n",
    "y_predictions[:5]"
   ],
   "metadata": {
    "collapsed": false,
    "ExecuteTime": {
     "end_time": "2023-12-04T08:29:05.898600Z",
     "start_time": "2023-12-04T08:28:49.398625Z"
    }
   },
   "id": "e0facaf38587807f"
  },
  {
   "cell_type": "code",
   "execution_count": 8,
   "outputs": [
    {
     "data": {
      "text/plain": "<tf.Tensor: shape=(5,), dtype=float32, numpy=array([0.452, 0.22 , 0.973, 0.251, 0.222], dtype=float32)>"
     },
     "execution_count": 8,
     "metadata": {},
     "output_type": "execute_result"
    }
   ],
   "source": [
    "y_test_tensor[:5]"
   ],
   "metadata": {
    "collapsed": false,
    "ExecuteTime": {
     "end_time": "2023-12-04T08:29:05.909872Z",
     "start_time": "2023-12-04T08:29:05.897551Z"
    }
   },
   "id": "efd5e0a74de38007"
  },
  {
   "cell_type": "code",
   "execution_count": 9,
   "outputs": [
    {
     "data": {
      "text/plain": "Text(0, 0.5, 'loss')"
     },
     "execution_count": 9,
     "metadata": {},
     "output_type": "execute_result"
    },
    {
     "data": {
      "text/plain": "<Figure size 640x480 with 1 Axes>",
      "image/png": "[encoded data removed]"
     },
     "metadata": {},
     "output_type": "display_data"
    }
   ],
   "source": [
    "x_range = range(1, epoch_number + 1)\n",
    "loss = history.history['loss']\n",
    "plt.plot(x_range, loss)\n",
    "plt.xlabel('epoch')\n",
    "plt.ylabel('loss')"
   ],
   "metadata": {
    "collapsed": false,
    "ExecuteTime": {
     "end_time": "2023-12-04T08:29:06.146179Z",
     "start_time": "2023-12-04T08:29:05.913355Z"
    }
   },
   "id": "edd889b97d10a84"
  },
  {
   "cell_type": "code",
   "execution_count": 11,
   "outputs": [
    {
     "name": "stderr",
     "output_type": "stream",
     "text": [
      "WARNING:absl:At this time, the v2.11+ optimizer `tf.keras.optimizers.Adam` runs slowly on M1/M2 Macs, please use the legacy Keras optimizer instead, located at `tf.keras.optimizers.legacy.Adam`.\n"
     ]
    },
    {
     "name": "stdout",
     "output_type": "stream",
     "text": [
      "Epoch 1/10\n"
     ]
    },
    {
     "name": "stderr",
     "output_type": "stream",
     "text": [
      "2023-12-04 14:04:40.287476: E tensorflow/core/grappler/optimizers/meta_optimizer.cc:961] model_pruner failed: INVALID_ARGUMENT: Graph does not contain terminal node Adam/AssignAddVariableOp.\n"
     ]
    },
    {
     "name": "stdout",
     "output_type": "stream",
     "text": [
      "17499/17499 [==============================] - 270s 15ms/step - loss: 0.1312 - mae: 0.1312 - val_loss: 0.1271 - val_mae: 0.1271\n",
      "Epoch 2/10\n",
      "17499/17499 [==============================] - 256s 15ms/step - loss: 0.1252 - mae: 0.1252 - val_loss: 0.1235 - val_mae: 0.1235\n",
      "Epoch 3/10\n",
      "17499/17499 [==============================] - 258s 15ms/step - loss: 0.1238 - mae: 0.1238 - val_loss: 0.1219 - val_mae: 0.1219\n",
      "Epoch 4/10\n",
      "17499/17499 [==============================] - 252s 14ms/step - loss: 0.1233 - mae: 0.1233 - val_loss: 0.1218 - val_mae: 0.1218\n",
      "Epoch 5/10\n",
      "17499/17499 [==============================] - 249s 14ms/step - loss: 0.1231 - mae: 0.1231 - val_loss: 0.1218 - val_mae: 0.1218\n",
      "Epoch 6/10\n",
      "17499/17499 [==============================] - 250s 14ms/step - loss: 0.1230 - mae: 0.1230 - val_loss: 0.1220 - val_mae: 0.1220\n",
      "Epoch 7/10\n",
      "17499/17499 [==============================] - 247s 14ms/step - loss: 0.1229 - mae: 0.1229 - val_loss: 0.1218 - val_mae: 0.1218\n",
      "Epoch 8/10\n",
      "17499/17499 [==============================] - 248s 14ms/step - loss: 0.1228 - mae: 0.1228 - val_loss: 0.1216 - val_mae: 0.1216\n",
      "Epoch 9/10\n",
      "17499/17499 [==============================] - 251s 14ms/step - loss: 0.1227 - mae: 0.1227 - val_loss: 0.1216 - val_mae: 0.1216\n",
      "Epoch 10/10\n",
      "17499/17499 [==============================] - 252s 14ms/step - loss: 0.1227 - mae: 0.1227 - val_loss: 0.1216 - val_mae: 0.1216\n"
     ]
    }
   ],
   "source": [
    "final_model = tf.keras.Sequential()\n",
    "\n",
    "final_model.add(tf.keras.layers.Dense(197, activation='relu', input_shape=(x_train_tensor.shape[1],)))\n",
    "\n",
    "final_model.add(tf.keras.layers.Reshape((1, 197))) \n",
    "final_model.add(tf.keras.layers.LSTM(128, return_sequences=True))\n",
    "final_model.add(tf.keras.layers.Dense(128, activation='relu'))\n",
    "final_model.add(tf.keras.layers.Dense(64, activation='relu'))\n",
    "final_model.add(tf.keras.layers.LSTM(32))\n",
    "\n",
    "final_model.add(tf.keras.layers.Dense(1, activation='linear'))\n",
    "\n",
    "final_model.compile(optimizer=tf.keras.optimizers.Adam(learning_rate=1e-4), loss='mae', metrics=['mae'])\n",
    "\n",
    "epoch_number = 10\n",
    "\n",
    "history = final_model.fit(x_train_tensor, y_train_tensor, epochs=epoch_number, validation_data=(x_eval_tensor, y_eval_tensor))"
   ],
   "metadata": {
    "collapsed": false,
    "ExecuteTime": {
     "end_time": "2023-12-04T09:16:52.486019Z",
     "start_time": "2023-12-04T08:34:38.639040Z"
    }
   },
   "id": "8b01720110040e7f"
  },
  {
   "cell_type": "code",
   "execution_count": 12,
   "outputs": [
    {
     "name": "stdout",
     "output_type": "stream",
     "text": [
      "2188/2188 [==============================] - 15s 7ms/step - loss: 0.1218 - mae: 0.1218\n"
     ]
    },
    {
     "data": {
      "text/plain": "[0.12177867442369461, 0.12177867442369461]"
     },
     "execution_count": 12,
     "metadata": {},
     "output_type": "execute_result"
    }
   ],
   "source": [
    "final_model.evaluate(x_test_tensor, y_test_tensor)"
   ],
   "metadata": {
    "collapsed": false,
    "ExecuteTime": {
     "end_time": "2023-12-04T09:17:07.509780Z",
     "start_time": "2023-12-04T09:16:52.481971Z"
    }
   },
   "id": "69956a15af34e265"
  },
  {
   "cell_type": "code",
   "execution_count": 13,
   "outputs": [
    {
     "name": "stdout",
     "output_type": "stream",
     "text": [
      "INFO:tensorflow:Assets written to: final_sold_amount_model/assets\n"
     ]
    },
    {
     "name": "stderr",
     "output_type": "stream",
     "text": [
      "INFO:tensorflow:Assets written to: final_sold_amount_model/assets\n"
     ]
    }
   ],
   "source": [
    "final_model.save('final_sold_amount_model')"
   ],
   "metadata": {
    "collapsed": false,
    "ExecuteTime": {
     "end_time": "2023-12-04T09:17:09.579158Z",
     "start_time": "2023-12-04T09:17:07.520497Z"
    }
   },
   "id": "46f2cd66a29e1bc7"
  },
  {
   "cell_type": "code",
   "execution_count": null,
   "outputs": [],
   "source": [],
   "metadata": {
    "collapsed": false
   },
   "id": "9388c28e4df28873"
  }
 ],
 "metadata": {
  "kernelspec": {
   "display_name": "Python 3",
   "language": "python",
   "name": "python3"
  },
  "language_info": {
   "codemirror_mode": {
    "name": "ipython",
    "version": 2
   },
   "file_extension": ".py",
   "mimetype": "text/x-python",
   "name": "python",
   "nbconvert_exporter": "python",
   "pygments_lexer": "ipython2",
   "version": "2.7.6"
  }
 },
 "nbformat": 4,
 "nbformat_minor": 5
}
