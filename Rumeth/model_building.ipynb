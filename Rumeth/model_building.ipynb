{
 "cells": [
  {
   "cell_type": "code",
   "execution_count": null,
   "id": "initial_id",
   "metadata": {
    "collapsed": true
   },
   "outputs": [],
   "source": [
    "import pandas as pd\n",
    "import matplotlib.pyplot as plt\n",
    "import random\n",
    "import numpy as np"
   ]
  },
  {
   "cell_type": "code",
   "execution_count": null,
   "outputs": [],
   "source": [
    "df1 = pd.read_csv('/Users/rumethsandinu/Study/Assessments/Year 2/DSGP/Datasets/annex/item.csv')\n",
    "df1.head()"
   ],
   "metadata": {
    "collapsed": false
   },
   "id": "8e4f9211ddae87b6"
  },
  {
   "cell_type": "code",
   "execution_count": null,
   "outputs": [],
   "source": [
    "df1.info()"
   ],
   "metadata": {
    "collapsed": false
   },
   "id": "78ed671b18013277"
  },
  {
   "cell_type": "code",
   "execution_count": null,
   "outputs": [],
   "source": [
    "df1.shape"
   ],
   "metadata": {
    "collapsed": false
   },
   "id": "92c71f0adcde9a4b"
  },
  {
   "cell_type": "code",
   "execution_count": null,
   "outputs": [],
   "source": [
    "df1['Item Code'] = df1['Item Code'].astype(str)"
   ],
   "metadata": {
    "collapsed": false
   },
   "id": "49a7d1f979950611"
  },
  {
   "cell_type": "code",
   "execution_count": null,
   "outputs": [],
   "source": [
    "df1.isnull().sum()"
   ],
   "metadata": {
    "collapsed": false
   },
   "id": "e581c3f5ca07d7e5"
  },
  {
   "cell_type": "code",
   "execution_count": null,
   "outputs": [],
   "source": [
    "df1['Category Name'].value_counts()"
   ],
   "metadata": {
    "collapsed": false
   },
   "id": "b1ca6678c24298fd"
  },
  {
   "cell_type": "code",
   "execution_count": null,
   "outputs": [],
   "source": [
    "def rename_category(data):\n",
    "    if data == 'Flower/Leaf Vegetables':\n",
    "        return 'Flower'\n",
    "    return data\n",
    "\n",
    "df1['Category Name'] = df1['Category Name'].apply(rename_category)\n",
    "df1['Category Name'].value_counts()"
   ],
   "metadata": {
    "collapsed": false
   },
   "id": "e8123fbaed77245a"
  },
  {
   "cell_type": "code",
   "execution_count": null,
   "outputs": [],
   "source": [
    "df2 = pd.read_csv('/Users/rumethsandinu/Study/Assessments/Year 2/DSGP/Datasets/annex/loss rate.csv')\n",
    "df2.head()"
   ],
   "metadata": {
    "collapsed": false
   },
   "id": "5e560fc3bd28ca8a"
  },
  {
   "cell_type": "code",
   "execution_count": null,
   "outputs": [],
   "source": [
    "df2.info()"
   ],
   "metadata": {
    "collapsed": false
   },
   "id": "d63106315adaf430"
  },
  {
   "cell_type": "code",
   "execution_count": null,
   "outputs": [],
   "source": [
    "df2['Item Code'] = df2['Item Code'].astype(str)"
   ],
   "metadata": {
    "collapsed": false
   },
   "id": "b0d470a4023ca542"
  },
  {
   "cell_type": "code",
   "execution_count": null,
   "outputs": [],
   "source": [
    "df2.isnull().sum()"
   ],
   "metadata": {
    "collapsed": false
   },
   "id": "4afe23697c7e2d68"
  },
  {
   "cell_type": "code",
   "execution_count": null,
   "outputs": [],
   "source": [
    "plt.boxplot(df2['Loss Rate (%)'])"
   ],
   "metadata": {
    "collapsed": false
   },
   "id": "40b1d22ceae2054f"
  },
  {
   "cell_type": "code",
   "execution_count": null,
   "outputs": [],
   "source": [
    "(df2['Loss Rate (%)'] < 0).sum()"
   ],
   "metadata": {
    "collapsed": false
   },
   "id": "ab89fa5cf041c3f7"
  },
  {
   "cell_type": "code",
   "execution_count": null,
   "outputs": [],
   "source": [
    "df3 = pd.read_csv('/Users/rumethsandinu/Study/Assessments/Year 2/DSGP/Datasets/annex/sale.csv')\n",
    "df3.head()"
   ],
   "metadata": {
    "collapsed": false
   },
   "id": "e91032627b07ee8c"
  },
  {
   "cell_type": "code",
   "execution_count": null,
   "outputs": [],
   "source": [
    "df3.info()"
   ],
   "metadata": {
    "collapsed": false
   },
   "id": "cbba1e17241ebd7e"
  },
  {
   "cell_type": "code",
   "execution_count": null,
   "outputs": [],
   "source": [
    "df3.shape"
   ],
   "metadata": {
    "collapsed": false
   },
   "id": "2d97a3546430efc5"
  },
  {
   "cell_type": "code",
   "execution_count": null,
   "outputs": [],
   "source": [
    "df3.isnull().sum()"
   ],
   "metadata": {
    "collapsed": false
   },
   "id": "2c78b9e5c4d9d446"
  },
  {
   "cell_type": "code",
   "execution_count": null,
   "outputs": [],
   "source": [
    "(df3['Time'].value_counts() > 1).sum()"
   ],
   "metadata": {
    "collapsed": false
   },
   "id": "eae37bd901b99973"
  },
  {
   "cell_type": "code",
   "execution_count": null,
   "outputs": [],
   "source": [
    "df3['Time'].nunique()"
   ],
   "metadata": {
    "collapsed": false
   },
   "id": "9652bc0423fcdd08"
  },
  {
   "cell_type": "code",
   "execution_count": null,
   "outputs": [],
   "source": [
    "df3['Date'].nunique() / 365"
   ],
   "metadata": {
    "collapsed": false
   },
   "id": "acb5e86a448b7a8f"
  },
  {
   "cell_type": "code",
   "execution_count": null,
   "outputs": [],
   "source": [
    "df3['CustomerId'] = np.NAN\n",
    "\n",
    "for i in range(df3.shape[0]):\n",
    "    df3['CustomerId'].values[i] = random.randint(1,df3.shape[0])\n",
    "df3['CustomerId'].value_counts()"
   ],
   "metadata": {
    "collapsed": false
   },
   "id": "ce5b93ddedf8411c"
  },
  {
   "cell_type": "code",
   "execution_count": null,
   "outputs": [],
   "source": [
    "np.average(df3['CustomerId'].value_counts())"
   ],
   "metadata": {
    "collapsed": false
   },
   "id": "90310fe1870a18a"
  },
  {
   "cell_type": "code",
   "execution_count": null,
   "outputs": [],
   "source": [
    "(df3['CustomerId'].value_counts() > 1).sum()"
   ],
   "metadata": {
    "collapsed": false
   },
   "id": "f9553c8dddf61d6a"
  },
  {
   "cell_type": "code",
   "execution_count": null,
   "outputs": [],
   "source": [
    "df1.value_counts()"
   ],
   "metadata": {
    "collapsed": false
   },
   "id": "51d45eb18ce4478f"
  },
  {
   "cell_type": "code",
   "execution_count": null,
   "outputs": [],
   "source": [
    "df3['Item Code'].value_counts()"
   ],
   "metadata": {
    "collapsed": false
   },
   "id": "315339c59cf08da1"
  },
  {
   "cell_type": "code",
   "execution_count": null,
   "outputs": [],
   "source": [
    "plt.boxplot(df3['Item Code'].value_counts())"
   ],
   "metadata": {
    "collapsed": false
   },
   "id": "fd9626e0d5683959"
  },
  {
   "cell_type": "code",
   "execution_count": null,
   "outputs": [],
   "source": [
    "data = {'present': [False] * 246}\n",
    "present = pd.DataFrame(data)\n",
    "\n",
    "for i in range(df3['Item Code'].unique().shape[0]):\n",
    "    for j in range(df1['Item Code'].shape[0]):\n",
    "        if df3['Item Code'].values[i] == df1['Item Code'].values[j]:\n",
    "            present.at[i, 'present'] = True\n",
    "            \n",
    "present['present'].value_counts()"
   ],
   "metadata": {
    "collapsed": false
   },
   "id": "2d1ecfede796df63"
  },
  {
   "cell_type": "code",
   "execution_count": null,
   "outputs": [],
   "source": [
    "plt.boxplot(df3['Quantity Sold (kilo)'])"
   ],
   "metadata": {
    "collapsed": false
   },
   "id": "7ce8aae532feca7a"
  },
  {
   "cell_type": "code",
   "execution_count": null,
   "outputs": [],
   "source": [
    "(df3['Quantity Sold (kilo)'] > 75).sum()"
   ],
   "metadata": {
    "collapsed": false
   },
   "id": "71b76a0ccfea3102"
  },
  {
   "cell_type": "code",
   "execution_count": null,
   "outputs": [],
   "source": [
    "df3 = df3[~(df3['Quantity Sold (kilo)'] > 75)]"
   ],
   "metadata": {
    "collapsed": false
   },
   "id": "8f20dda894941d5"
  },
  {
   "cell_type": "code",
   "execution_count": null,
   "outputs": [],
   "source": [
    "((df3['Quantity Sold (kilo)'] < 0).sum()) == ((df3['Sale or Return'] == 'return').sum())"
   ],
   "metadata": {
    "collapsed": false
   },
   "id": "e186dca3ff3a2bf0"
  },
  {
   "cell_type": "code",
   "execution_count": null,
   "outputs": [],
   "source": [
    "plt.boxplot(df3['Unit Selling Price (RMB/kg)'])"
   ],
   "metadata": {
    "collapsed": false
   },
   "id": "e0c761b8000d54b7"
  },
  {
   "cell_type": "code",
   "execution_count": null,
   "outputs": [],
   "source": [
    "df3.head()"
   ],
   "metadata": {
    "collapsed": false
   },
   "id": "1d51bd339a4b89c2"
  },
  {
   "cell_type": "code",
   "execution_count": null,
   "outputs": [],
   "source": [
    "dff = df3.copy()\n",
    "dff['Item Code'] = dff['Item Code'].astype(str)\n",
    "dff['Quantity Sold (kilo)'] = dff['Quantity Sold (kilo)'].astype(str)\n",
    "dff['Unit Selling Price (RMB/kg)'] = dff['Unit Selling Price (RMB/kg)'].astype(str)\n",
    "dff['CustomerId'] = dff['CustomerId'].astype(str)\n",
    "dff.sample()"
   ],
   "metadata": {
    "collapsed": false
   },
   "id": "70e418d00022cc43"
  },
  {
   "cell_type": "code",
   "execution_count": null,
   "outputs": [],
   "source": [
    "for i in range(dff.shape[0]):\n",
    "    for j in range(df1.shape[0]):\n",
    "        if dff['Item Code'].values[i] == df1['Item Code'].values[j]:\n",
    "            dff.at[i, 'Item Name'] = df1['Item Name'].values[j]\n",
    "            dff.at[i, 'Category Name'] = df1['Category Name'].values[j]\n",
    "dff.sample()"
   ],
   "metadata": {
    "collapsed": false
   },
   "id": "f7fb01539b2247e3"
  },
  {
   "cell_type": "code",
   "execution_count": null,
   "outputs": [],
   "source": [
    "for i in range(dff.shape[0]):\n",
    "    for j in range(df2.shape[0]):\n",
    "        if dff['Item Code'].values[i] == df2['Item Code'].values[j]:\n",
    "            dff.at[i, 'Loss Rate'] = df2['Loss Rate (%)'].values[j].astype(str)\n",
    "dff.sample()"
   ],
   "metadata": {
    "collapsed": false
   },
   "id": "aa613c5388232cc4"
  },
  {
   "cell_type": "code",
   "execution_count": null,
   "outputs": [],
   "source": [
    "dff['Item Code'].astype(int).max()"
   ],
   "metadata": {
    "collapsed": false
   },
   "id": "5de5e20eaaae7301"
  },
  {
   "cell_type": "code",
   "execution_count": null,
   "outputs": [],
   "source": [
    "dff['Item Code'].astype(int).min(), dff['Item Code'].astype(int).max()"
   ],
   "metadata": {
    "collapsed": false
   },
   "id": "92cdca4382632200"
  }
 ],
 "metadata": {
  "kernelspec": {
   "display_name": "Python 3",
   "language": "python",
   "name": "python3"
  },
  "language_info": {
   "codemirror_mode": {
    "name": "ipython",
    "version": 2
   },
   "file_extension": ".py",
   "mimetype": "text/x-python",
   "name": "python",
   "nbconvert_exporter": "python",
   "pygments_lexer": "ipython2",
   "version": "2.7.6"
  }
 },
 "nbformat": 4,
 "nbformat_minor": 5
}
