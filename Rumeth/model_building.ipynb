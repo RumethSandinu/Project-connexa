{
 "cells": [
  {
   "cell_type": "code",
   "execution_count": 1,
   "id": "initial_id",
   "metadata": {
    "collapsed": true,
    "ExecuteTime": {
     "end_time": "2023-12-03T16:59:58.666007Z",
     "start_time": "2023-12-03T16:59:54.762643Z"
    }
   },
   "outputs": [
    {
     "name": "stderr",
     "output_type": "stream",
     "text": [
      "/Users/rumethsandinu/Library/Python/3.9/lib/python/site-packages/urllib3/__init__.py:34: NotOpenSSLWarning: urllib3 v2 only supports OpenSSL 1.1.1+, currently the 'ssl' module is compiled with 'LibreSSL 2.8.3'. See: https://github.com/urllib3/urllib3/issues/3020\n",
      "  warnings.warn(\n"
     ]
    }
   ],
   "source": [
    "import pandas as pd\n",
    "import matplotlib.pyplot as plt\n",
    "import tensorflow as tf\n",
    "from sklearn.model_selection import train_test_split"
   ]
  },
  {
   "cell_type": "code",
   "execution_count": 2,
   "outputs": [
    {
     "name": "stdout",
     "output_type": "stream",
     "text": [
      "<class 'pandas.core.frame.DataFrame'>\n",
      "RangeIndex: 699942 entries, 0 to 699941\n",
      "Columns: 198 entries, Quantity Sold (kilo) to Sale or Return_sale\n",
      "dtypes: bool(196), float64(2)\n",
      "memory usage: 141.5 MB\n"
     ]
    }
   ],
   "source": [
    "df = pd.read_csv('/Users/rumethsandinu/Study/Assessments/Year 2/DSGP/Datasets/pre_processed_dataset.csv')\n",
    "df.info()"
   ],
   "metadata": {
    "collapsed": false,
    "ExecuteTime": {
     "end_time": "2023-12-03T17:00:02.593436Z",
     "start_time": "2023-12-03T16:59:58.667182Z"
    }
   },
   "id": "f6a76d43f2da9e88"
  },
  {
   "cell_type": "code",
   "execution_count": 3,
   "outputs": [
    {
     "name": "stderr",
     "output_type": "stream",
     "text": [
      "2023-12-03 22:30:02.801113: I metal_plugin/src/device/metal_device.cc:1154] Metal device set to: Apple M2\n",
      "2023-12-03 22:30:02.801318: I metal_plugin/src/device/metal_device.cc:296] systemMemory: 8.00 GB\n",
      "2023-12-03 22:30:02.801328: I metal_plugin/src/device/metal_device.cc:313] maxCacheSize: 2.67 GB\n",
      "2023-12-03 22:30:02.801867: I tensorflow/core/common_runtime/pluggable_device/pluggable_device_factory.cc:306] Could not identify NUMA node of platform GPU ID 0, defaulting to 0. Your kernel may not have been built with NUMA support.\n",
      "2023-12-03 22:30:02.802471: I tensorflow/core/common_runtime/pluggable_device/pluggable_device_factory.cc:272] Created TensorFlow device (/job:localhost/replica:0/task:0/device:GPU:0 with 0 MB memory) -> physical PluggableDevice (device: 0, name: METAL, pci bus id: <undefined>)\n"
     ]
    },
    {
     "data": {
      "text/plain": "(TensorShape([664944, 197]), TensorShape([34998, 197]))"
     },
     "execution_count": 3,
     "metadata": {},
     "output_type": "execute_result"
    }
   ],
   "source": [
    "y = df['Quantity Sold (kilo)']\n",
    "x = df.drop(columns=['Quantity Sold (kilo)'], axis=1)\n",
    "\n",
    "x_train, x_test, y_train, y_test = train_test_split(x, y, test_size=0.05, random_state=42)\n",
    "\n",
    "x_train_tensor = tf.constant(x_train, dtype=tf.float32)\n",
    "y_train_tensor = tf.constant(y_train, dtype=tf.float32)\n",
    "x_test_tensor = tf.constant(x_test, dtype=tf.float32)\n",
    "y_test_tensor = tf.constant(y_test, dtype=tf.float32)\n",
    "\n",
    "x_train_tensor.shape, x_test_tensor.shape"
   ],
   "metadata": {
    "collapsed": false,
    "ExecuteTime": {
     "end_time": "2023-12-03T17:00:08.830173Z",
     "start_time": "2023-12-03T17:00:02.594314Z"
    }
   },
   "id": "87771c7557fd3e35"
  },
  {
   "cell_type": "code",
   "execution_count": 4,
   "outputs": [
    {
     "name": "stderr",
     "output_type": "stream",
     "text": [
      "WARNING:absl:At this time, the v2.11+ optimizer `tf.keras.optimizers.Adam` runs slowly on M1/M2 Macs, please use the legacy Keras optimizer instead, located at `tf.keras.optimizers.legacy.Adam`.\n"
     ]
    },
    {
     "name": "stdout",
     "output_type": "stream",
     "text": [
      "Epoch 1/5\n"
     ]
    },
    {
     "name": "stderr",
     "output_type": "stream",
     "text": [
      "2023-12-03 22:30:10.313648: I tensorflow/core/grappler/optimizers/custom_graph_optimizer_registry.cc:117] Plugin optimizer for device_type GPU is enabled.\n",
      "2023-12-03 22:30:10.399920: E tensorflow/core/grappler/optimizers/meta_optimizer.cc:961] model_pruner failed: INVALID_ARGUMENT: Graph does not contain terminal node Adam/AssignAddVariableOp.\n"
     ]
    },
    {
     "name": "stdout",
     "output_type": "stream",
     "text": [
      "20780/20780 [==============================] - 312s 15ms/step - loss: 0.1304 - mae: 0.1304 - val_loss: 0.1251 - val_mae: 0.1251\n",
      "Epoch 2/5\n",
      "20780/20780 [==============================] - 307s 15ms/step - loss: 0.1245 - mae: 0.1245 - val_loss: 0.1233 - val_mae: 0.1233\n",
      "Epoch 3/5\n",
      "20780/20780 [==============================] - 283s 14ms/step - loss: 0.1234 - mae: 0.1234 - val_loss: 0.1241 - val_mae: 0.1241\n",
      "Epoch 4/5\n",
      "20780/20780 [==============================] - 305s 15ms/step - loss: 0.1231 - mae: 0.1231 - val_loss: 0.1223 - val_mae: 0.1223\n",
      "Epoch 5/5\n",
      "20780/20780 [==============================] - 320s 15ms/step - loss: 0.1229 - mae: 0.1229 - val_loss: 0.1224 - val_mae: 0.1224\n"
     ]
    }
   ],
   "source": [
    "model = tf.keras.Sequential()\n",
    "\n",
    "# Dense layers\n",
    "model.add(tf.keras.layers.Dense(197, activation='relu', input_shape=(x_train_tensor.shape[1],)))\n",
    "\n",
    "# LSTM layers\n",
    "# Reshape for LSTM layer\n",
    "model.add(tf.keras.layers.Reshape((1, 197))) \n",
    "model.add(tf.keras.layers.LSTM(128, return_sequences=True))\n",
    "model.add(tf.keras.layers.Dense(128, activation='relu'))\n",
    "model.add(tf.keras.layers.Dense(64, activation='relu'))\n",
    "model.add(tf.keras.layers.LSTM(32))\n",
    "\n",
    "# Output layer\n",
    "model.add(tf.keras.layers.Dense(1, activation='linear'))\n",
    "\n",
    "model.compile(optimizer=tf.keras.optimizers.Adam(learning_rate=1e-4), loss='mae', metrics=['mae'])\n",
    "\n",
    "epoch_number = 5\n",
    "\n",
    "history = model.fit(x_train_tensor, y_train_tensor, epochs=epoch_number, validation_data=(x_test_tensor, y_test_tensor))"
   ],
   "metadata": {
    "collapsed": false,
    "ExecuteTime": {
     "end_time": "2023-12-03T17:25:35.985957Z",
     "start_time": "2023-12-03T17:00:08.828432Z"
    }
   },
   "id": "8b436d40b14f1f96"
  },
  {
   "cell_type": "code",
   "execution_count": 5,
   "outputs": [
    {
     "name": "stdout",
     "output_type": "stream",
     "text": [
      "1094/1094 [==============================] - 7s 6ms/step\n"
     ]
    },
    {
     "data": {
      "text/plain": "array([[0.10557097],\n       [0.37036562],\n       [0.41812134],\n       [0.54719085],\n       [0.5839406 ]], dtype=float32)"
     },
     "execution_count": 5,
     "metadata": {},
     "output_type": "execute_result"
    }
   ],
   "source": [
    "y_predictions = model.predict(x_test_tensor)\n",
    "y_predictions[:5]"
   ],
   "metadata": {
    "collapsed": false,
    "ExecuteTime": {
     "end_time": "2023-12-03T17:25:43.176816Z",
     "start_time": "2023-12-03T17:25:36.006235Z"
    }
   },
   "id": "e0facaf38587807f"
  },
  {
   "cell_type": "code",
   "execution_count": 6,
   "outputs": [
    {
     "data": {
      "text/plain": "<tf.Tensor: shape=(5,), dtype=float32, numpy=array([0.095, 0.621, 0.447, 1.163, 0.543], dtype=float32)>"
     },
     "execution_count": 6,
     "metadata": {},
     "output_type": "execute_result"
    }
   ],
   "source": [
    "y_test_tensor[:5]"
   ],
   "metadata": {
    "collapsed": false,
    "ExecuteTime": {
     "end_time": "2023-12-03T17:25:43.178742Z",
     "start_time": "2023-12-03T17:25:43.167179Z"
    }
   },
   "id": "efd5e0a74de38007"
  },
  {
   "cell_type": "code",
   "execution_count": 8,
   "outputs": [
    {
     "data": {
      "text/plain": "Text(0, 0.5, 'loss')"
     },
     "execution_count": 8,
     "metadata": {},
     "output_type": "execute_result"
    },
    {
     "data": {
      "text/plain": "<Figure size 640x480 with 1 Axes>",
      "image/png": "[encoded data removed]"
     },
     "metadata": {},
     "output_type": "display_data"
    }
   ],
   "source": [
    "x_range = range(1, epoch_number + 1)\n",
    "loss = history.history['loss']\n",
    "plt.plot(x_range, loss)\n",
    "plt.xlabel('epoch')\n",
    "plt.ylabel('loss')"
   ],
   "metadata": {
    "collapsed": false,
    "ExecuteTime": {
     "end_time": "2023-12-03T17:25:51.488403Z",
     "start_time": "2023-12-03T17:25:51.230653Z"
    }
   },
   "id": "edd889b97d10a84"
  },
  {
   "cell_type": "code",
   "execution_count": 9,
   "outputs": [
    {
     "name": "stdout",
     "output_type": "stream",
     "text": [
      "INFO:tensorflow:Assets written to: sold_amount_model/assets\n"
     ]
    },
    {
     "name": "stderr",
     "output_type": "stream",
     "text": [
      "INFO:tensorflow:Assets written to: sold_amount_model/assets\n"
     ]
    }
   ],
   "source": [
    "model.save('sold_amount_model')"
   ],
   "metadata": {
    "collapsed": false,
    "ExecuteTime": {
     "end_time": "2023-12-03T17:27:14.906025Z",
     "start_time": "2023-12-03T17:27:12.737590Z"
    }
   },
   "id": "46f2cd66a29e1bc7"
  }
 ],
 "metadata": {
  "kernelspec": {
   "display_name": "Python 3",
   "language": "python",
   "name": "python3"
  },
  "language_info": {
   "codemirror_mode": {
    "name": "ipython",
    "version": 2
   },
   "file_extension": ".py",
   "mimetype": "text/x-python",
   "name": "python",
   "nbconvert_exporter": "python",
   "pygments_lexer": "ipython2",
   "version": "2.7.6"
  }
 },
 "nbformat": 4,
 "nbformat_minor": 5
}
