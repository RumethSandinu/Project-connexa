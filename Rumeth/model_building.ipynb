{
 "cells": [
  {
   "cell_type": "code",
   "execution_count": 1,
   "id": "initial_id",
   "metadata": {
    "collapsed": true,
    "ExecuteTime": {
     "end_time": "2023-12-06T13:27:38.773508Z",
     "start_time": "2023-12-06T13:27:35.181822Z"
    }
   },
   "outputs": [
    {
     "name": "stderr",
     "output_type": "stream",
     "text": [
      "/Users/rumethsandinu/Library/Python/3.9/lib/python/site-packages/urllib3/__init__.py:34: NotOpenSSLWarning: urllib3 v2 only supports OpenSSL 1.1.1+, currently the 'ssl' module is compiled with 'LibreSSL 2.8.3'. See: https://github.com/urllib3/urllib3/issues/3020\n",
      "  warnings.warn(\n"
     ]
    }
   ],
   "source": [
    "import pandas as pd\n",
    "import matplotlib.pyplot as plt\n",
    "import tensorflow as tf\n",
    "from sklearn.model_selection import train_test_split"
   ]
  },
  {
   "cell_type": "code",
   "execution_count": 2,
   "outputs": [
    {
     "name": "stdout",
     "output_type": "stream",
     "text": [
      "<class 'pandas.core.frame.DataFrame'>\n",
      "RangeIndex: 736947 entries, 0 to 736946\n",
      "Columns: 199 entries, Quantity Sold (kilo) to Category Name_Solanum\n",
      "dtypes: bool(197), float64(2)\n",
      "memory usage: 149.7 MB\n"
     ]
    }
   ],
   "source": [
    "df = pd.read_csv('/Users/rumethsandinu/Study/Assessments/Year 2/DSGP/Datasets/pre_processed_dataset.csv')\n",
    "df.info()"
   ],
   "metadata": {
    "collapsed": false,
    "ExecuteTime": {
     "end_time": "2023-12-06T13:27:43.220335Z",
     "start_time": "2023-12-06T13:27:38.774840Z"
    }
   },
   "id": "f6a76d43f2da9e88"
  },
  {
   "cell_type": "code",
   "execution_count": 3,
   "outputs": [
    {
     "data": {
      "text/plain": "        Quantity Sold (kilo)  Unit Selling Price (RMB/kg)  \\\n215066                   0.5                          8.0   \n285338                   0.3                         12.0   \n692378                   0.7                          6.6   \n\n        Item Name_7 Colour Pepper   Item Name_Agaricus Bisporus   \\\n215066                       False                         False   \n285338                       False                         False   \n692378                       False                         False   \n\n        Item Name_Aihao  Item Name_Amaranth  Item Name_Amaranth   \\\n215066            False               False                False   \n285338            False               False                False   \n692378            False               False                False   \n\n        Item Name_Apricot Bao Mushroom   Item Name_Artemisia Stelleriana  \\\n215066                            False                            False   \n285338                            False                            False   \n692378                            False                            False   \n\n        Item Name_Basil   ...  Item Name_Zhijiang Red Bolt   \\\n215066             False  ...                         False   \n285338             False  ...                         False   \n692378             False  ...                         False   \n\n        Item Name_Zhimaxiancai  Item Name_Zhuyecai  Item Name_Zhuyecai   \\\n215066                   False               False                False   \n285338                   False               False                False   \n692378                   False               False                False   \n\n        Category Name_Aquatic Tuberous Vegetables  Category Name_Cabbage  \\\n215066                                      False                  False   \n285338                                      False                  False   \n692378                                      False                  False   \n\n        Category Name_Capsicum  Category Name_Edible Mushroom  \\\n215066                   False                          False   \n285338                   False                          False   \n692378                    True                          False   \n\n        Category Name_Flower/Leaf Vegetables  Category Name_Solanum  \n215066                                 False                   True  \n285338                                  True                  False  \n692378                                 False                  False  \n\n[3 rows x 199 columns]",
      "text/html": "<div>\n<style scoped>\n    .dataframe tbody tr th:only-of-type {\n        vertical-align: middle;\n    }\n\n    .dataframe tbody tr th {\n        vertical-align: top;\n    }\n\n    .dataframe thead th {\n        text-align: right;\n    }\n</style>\n<table border=\"1\" class=\"dataframe\">\n  <thead>\n    <tr style=\"text-align: right;\">\n      <th></th>\n      <th>Quantity Sold (kilo)</th>\n      <th>Unit Selling Price (RMB/kg)</th>\n      <th>Item Name_7 Colour Pepper</th>\n      <th>Item Name_Agaricus Bisporus</th>\n      <th>Item Name_Aihao</th>\n      <th>Item Name_Amaranth</th>\n      <th>Item Name_Amaranth</th>\n      <th>Item Name_Apricot Bao Mushroom</th>\n      <th>Item Name_Artemisia Stelleriana</th>\n      <th>Item Name_Basil</th>\n      <th>...</th>\n      <th>Item Name_Zhijiang Red Bolt</th>\n      <th>Item Name_Zhimaxiancai</th>\n      <th>Item Name_Zhuyecai</th>\n      <th>Item Name_Zhuyecai</th>\n      <th>Category Name_Aquatic Tuberous Vegetables</th>\n      <th>Category Name_Cabbage</th>\n      <th>Category Name_Capsicum</th>\n      <th>Category Name_Edible Mushroom</th>\n      <th>Category Name_Flower/Leaf Vegetables</th>\n      <th>Category Name_Solanum</th>\n    </tr>\n  </thead>\n  <tbody>\n    <tr>\n      <th>215066</th>\n      <td>0.5</td>\n      <td>8.0</td>\n      <td>False</td>\n      <td>False</td>\n      <td>False</td>\n      <td>False</td>\n      <td>False</td>\n      <td>False</td>\n      <td>False</td>\n      <td>False</td>\n      <td>...</td>\n      <td>False</td>\n      <td>False</td>\n      <td>False</td>\n      <td>False</td>\n      <td>False</td>\n      <td>False</td>\n      <td>False</td>\n      <td>False</td>\n      <td>False</td>\n      <td>True</td>\n    </tr>\n    <tr>\n      <th>285338</th>\n      <td>0.3</td>\n      <td>12.0</td>\n      <td>False</td>\n      <td>False</td>\n      <td>False</td>\n      <td>False</td>\n      <td>False</td>\n      <td>False</td>\n      <td>False</td>\n      <td>False</td>\n      <td>...</td>\n      <td>False</td>\n      <td>False</td>\n      <td>False</td>\n      <td>False</td>\n      <td>False</td>\n      <td>False</td>\n      <td>False</td>\n      <td>False</td>\n      <td>True</td>\n      <td>False</td>\n    </tr>\n    <tr>\n      <th>692378</th>\n      <td>0.7</td>\n      <td>6.6</td>\n      <td>False</td>\n      <td>False</td>\n      <td>False</td>\n      <td>False</td>\n      <td>False</td>\n      <td>False</td>\n      <td>False</td>\n      <td>False</td>\n      <td>...</td>\n      <td>False</td>\n      <td>False</td>\n      <td>False</td>\n      <td>False</td>\n      <td>False</td>\n      <td>False</td>\n      <td>True</td>\n      <td>False</td>\n      <td>False</td>\n      <td>False</td>\n    </tr>\n  </tbody>\n</table>\n<p>3 rows × 199 columns</p>\n</div>"
     },
     "execution_count": 3,
     "metadata": {},
     "output_type": "execute_result"
    }
   ],
   "source": [
    "df.sample(3)"
   ],
   "metadata": {
    "collapsed": false,
    "ExecuteTime": {
     "end_time": "2023-12-06T13:27:43.272835Z",
     "start_time": "2023-12-06T13:27:43.220606Z"
    }
   },
   "id": "51cd436875161ac6"
  },
  {
   "cell_type": "code",
   "execution_count": 4,
   "outputs": [
    {
     "name": "stderr",
     "output_type": "stream",
     "text": [
      "2023-12-06 18:57:43.484427: I metal_plugin/src/device/metal_device.cc:1154] Metal device set to: Apple M2\n",
      "2023-12-06 18:57:43.484509: I metal_plugin/src/device/metal_device.cc:296] systemMemory: 8.00 GB\n",
      "2023-12-06 18:57:43.484530: I metal_plugin/src/device/metal_device.cc:313] maxCacheSize: 2.67 GB\n",
      "2023-12-06 18:57:43.484625: I tensorflow/core/common_runtime/pluggable_device/pluggable_device_factory.cc:306] Could not identify NUMA node of platform GPU ID 0, defaulting to 0. Your kernel may not have been built with NUMA support.\n",
      "2023-12-06 18:57:43.484717: I tensorflow/core/common_runtime/pluggable_device/pluggable_device_factory.cc:272] Created TensorFlow device (/job:localhost/replica:0/task:0/device:GPU:0 with 0 MB memory) -> physical PluggableDevice (device: 0, name: METAL, pci bus id: <undefined>)\n"
     ]
    },
    {
     "data": {
      "text/plain": "(TensorShape([589557, 198]), TensorShape([73695, 198]), (73695, 198))"
     },
     "execution_count": 4,
     "metadata": {},
     "output_type": "execute_result"
    }
   ],
   "source": [
    "y = df['Quantity Sold (kilo)']\n",
    "x = df.drop(columns=['Quantity Sold (kilo)'], axis=1)\n",
    "\n",
    "x_train, x_temp, y_train, y_temp = train_test_split(x, y, test_size=0.2, random_state=42)\n",
    "x_eval, x_test, y_eval, y_test = train_test_split(x_temp, y_temp, test_size=0.5, random_state=42)\n",
    "\n",
    "x_train_tensor = tf.constant(x_train, dtype=tf.float32)\n",
    "y_train_tensor = tf.constant(y_train, dtype=tf.float32)\n",
    "x_eval_tensor = tf.constant(x_eval, dtype=tf.float32)\n",
    "y_eval_tensor = tf.constant(y_eval, dtype=tf.float32)\n",
    "\n",
    "x_train_tensor.shape, x_eval_tensor.shape, x_test.shape"
   ],
   "metadata": {
    "collapsed": false,
    "ExecuteTime": {
     "end_time": "2023-12-06T13:27:48.714980Z",
     "start_time": "2023-12-06T13:27:43.249437Z"
    }
   },
   "id": "87771c7557fd3e35"
  },
  {
   "cell_type": "code",
   "execution_count": 5,
   "outputs": [
    {
     "data": {
      "text/plain": "       Quantity Sold (kilo)  Unit Selling Price (RMB/kg)  \\\n65160                   1.0                          4.9   \n69654                   0.6                          8.0   \n54703                   1.0                          5.9   \n9008                    0.9                          6.0   \n57951                   0.4                         18.0   \n\n       Item Name_7 Colour Pepper   Item Name_Agaricus Bisporus   \\\n65160                       False                         False   \n69654                       False                         False   \n54703                       False                         False   \n9008                        False                         False   \n57951                       False                         False   \n\n       Item Name_Aihao  Item Name_Amaranth  Item Name_Amaranth   \\\n65160            False               False                False   \n69654            False               False                False   \n54703            False               False                False   \n9008             False               False                False   \n57951            False               False                False   \n\n       Item Name_Apricot Bao Mushroom   Item Name_Artemisia Stelleriana  \\\n65160                            False                            False   \n69654                            False                            False   \n54703                            False                            False   \n9008                             False                            False   \n57951                            False                            False   \n\n       Item Name_Basil   ...  Item Name_Zhijiang Red Bolt   \\\n65160             False  ...                         False   \n69654             False  ...                         False   \n54703             False  ...                         False   \n9008              False  ...                         False   \n57951             False  ...                         False   \n\n       Item Name_Zhimaxiancai  Item Name_Zhuyecai  Item Name_Zhuyecai   \\\n65160                   False               False                False   \n69654                   False               False                False   \n54703                   False               False                False   \n9008                    False               False                False   \n57951                   False               False                False   \n\n       Category Name_Aquatic Tuberous Vegetables  Category Name_Cabbage  \\\n65160                                      False                  False   \n69654                                       True                  False   \n54703                                      False                  False   \n9008                                       False                  False   \n57951                                      False                  False   \n\n       Category Name_Capsicum  Category Name_Edible Mushroom  \\\n65160                   False                          False   \n69654                   False                          False   \n54703                   False                          False   \n9008                     True                          False   \n57951                   False                           True   \n\n       Category Name_Flower/Leaf Vegetables  Category Name_Solanum  \n65160                                  True                  False  \n69654                                 False                  False  \n54703                                  True                  False  \n9008                                  False                  False  \n57951                                 False                  False  \n\n[5 rows x 199 columns]",
      "text/html": "<div>\n<style scoped>\n    .dataframe tbody tr th:only-of-type {\n        vertical-align: middle;\n    }\n\n    .dataframe tbody tr th {\n        vertical-align: top;\n    }\n\n    .dataframe thead th {\n        text-align: right;\n    }\n</style>\n<table border=\"1\" class=\"dataframe\">\n  <thead>\n    <tr style=\"text-align: right;\">\n      <th></th>\n      <th>Quantity Sold (kilo)</th>\n      <th>Unit Selling Price (RMB/kg)</th>\n      <th>Item Name_7 Colour Pepper</th>\n      <th>Item Name_Agaricus Bisporus</th>\n      <th>Item Name_Aihao</th>\n      <th>Item Name_Amaranth</th>\n      <th>Item Name_Amaranth</th>\n      <th>Item Name_Apricot Bao Mushroom</th>\n      <th>Item Name_Artemisia Stelleriana</th>\n      <th>Item Name_Basil</th>\n      <th>...</th>\n      <th>Item Name_Zhijiang Red Bolt</th>\n      <th>Item Name_Zhimaxiancai</th>\n      <th>Item Name_Zhuyecai</th>\n      <th>Item Name_Zhuyecai</th>\n      <th>Category Name_Aquatic Tuberous Vegetables</th>\n      <th>Category Name_Cabbage</th>\n      <th>Category Name_Capsicum</th>\n      <th>Category Name_Edible Mushroom</th>\n      <th>Category Name_Flower/Leaf Vegetables</th>\n      <th>Category Name_Solanum</th>\n    </tr>\n  </thead>\n  <tbody>\n    <tr>\n      <th>65160</th>\n      <td>1.0</td>\n      <td>4.9</td>\n      <td>False</td>\n      <td>False</td>\n      <td>False</td>\n      <td>False</td>\n      <td>False</td>\n      <td>False</td>\n      <td>False</td>\n      <td>False</td>\n      <td>...</td>\n      <td>False</td>\n      <td>False</td>\n      <td>False</td>\n      <td>False</td>\n      <td>False</td>\n      <td>False</td>\n      <td>False</td>\n      <td>False</td>\n      <td>True</td>\n      <td>False</td>\n    </tr>\n    <tr>\n      <th>69654</th>\n      <td>0.6</td>\n      <td>8.0</td>\n      <td>False</td>\n      <td>False</td>\n      <td>False</td>\n      <td>False</td>\n      <td>False</td>\n      <td>False</td>\n      <td>False</td>\n      <td>False</td>\n      <td>...</td>\n      <td>False</td>\n      <td>False</td>\n      <td>False</td>\n      <td>False</td>\n      <td>True</td>\n      <td>False</td>\n      <td>False</td>\n      <td>False</td>\n      <td>False</td>\n      <td>False</td>\n    </tr>\n    <tr>\n      <th>54703</th>\n      <td>1.0</td>\n      <td>5.9</td>\n      <td>False</td>\n      <td>False</td>\n      <td>False</td>\n      <td>False</td>\n      <td>False</td>\n      <td>False</td>\n      <td>False</td>\n      <td>False</td>\n      <td>...</td>\n      <td>False</td>\n      <td>False</td>\n      <td>False</td>\n      <td>False</td>\n      <td>False</td>\n      <td>False</td>\n      <td>False</td>\n      <td>False</td>\n      <td>True</td>\n      <td>False</td>\n    </tr>\n    <tr>\n      <th>9008</th>\n      <td>0.9</td>\n      <td>6.0</td>\n      <td>False</td>\n      <td>False</td>\n      <td>False</td>\n      <td>False</td>\n      <td>False</td>\n      <td>False</td>\n      <td>False</td>\n      <td>False</td>\n      <td>...</td>\n      <td>False</td>\n      <td>False</td>\n      <td>False</td>\n      <td>False</td>\n      <td>False</td>\n      <td>False</td>\n      <td>True</td>\n      <td>False</td>\n      <td>False</td>\n      <td>False</td>\n    </tr>\n    <tr>\n      <th>57951</th>\n      <td>0.4</td>\n      <td>18.0</td>\n      <td>False</td>\n      <td>False</td>\n      <td>False</td>\n      <td>False</td>\n      <td>False</td>\n      <td>False</td>\n      <td>False</td>\n      <td>False</td>\n      <td>...</td>\n      <td>False</td>\n      <td>False</td>\n      <td>False</td>\n      <td>False</td>\n      <td>False</td>\n      <td>False</td>\n      <td>False</td>\n      <td>True</td>\n      <td>False</td>\n      <td>False</td>\n    </tr>\n  </tbody>\n</table>\n<p>5 rows × 199 columns</p>\n</div>"
     },
     "execution_count": 5,
     "metadata": {},
     "output_type": "execute_result"
    }
   ],
   "source": [
    "df_test = pd.concat([y_test.reset_index(drop=True), x_test.reset_index(drop=True)], axis=1)\n",
    "df_test.to_csv('/Users/rumethsandinu/Study/Assessments/Year 2/DSGP/Datasets/testing_dataset.csv')\n",
    "df_test.sample(5)"
   ],
   "metadata": {
    "collapsed": false,
    "ExecuteTime": {
     "end_time": "2023-12-06T13:27:50.190413Z",
     "start_time": "2023-12-06T13:27:48.712076Z"
    }
   },
   "id": "f2ad927015ae9653"
  },
  {
   "cell_type": "code",
   "execution_count": 6,
   "outputs": [],
   "source": [
    "x_test_tensor = tf.constant(x_test, dtype=tf.float32)\n",
    "y_test_tensor = tf.constant(y_test, dtype=tf.float32)"
   ],
   "metadata": {
    "collapsed": false,
    "ExecuteTime": {
     "end_time": "2023-12-06T13:27:50.724439Z",
     "start_time": "2023-12-06T13:27:50.188182Z"
    }
   },
   "id": "d4f2882c044068f4"
  },
  {
   "cell_type": "code",
   "execution_count": 7,
   "outputs": [
    {
     "name": "stderr",
     "output_type": "stream",
     "text": [
      "WARNING:absl:At this time, the v2.11+ optimizer `tf.keras.optimizers.Adam` runs slowly on M1/M2 Macs, please use the legacy Keras optimizer instead, located at `tf.keras.optimizers.legacy.Adam`.\n"
     ]
    },
    {
     "name": "stdout",
     "output_type": "stream",
     "text": [
      "Epoch 1/20\n"
     ]
    },
    {
     "name": "stderr",
     "output_type": "stream",
     "text": [
      "2023-12-06 18:57:52.136368: I tensorflow/core/grappler/optimizers/custom_graph_optimizer_registry.cc:117] Plugin optimizer for device_type GPU is enabled.\n",
      "2023-12-06 18:57:52.206653: E tensorflow/core/grappler/optimizers/meta_optimizer.cc:961] model_pruner failed: INVALID_ARGUMENT: Graph does not contain terminal node Adam/AssignAddVariableOp.\n"
     ]
    },
    {
     "name": "stdout",
     "output_type": "stream",
     "text": [
      "18424/18424 [==============================] - 267s 14ms/step - loss: 0.1305 - mae: 0.1305 - val_loss: 0.1243 - val_mae: 0.1243\n",
      "Epoch 2/20\n",
      "18424/18424 [==============================] - 266s 14ms/step - loss: 0.1234 - mae: 0.1234 - val_loss: 0.1219 - val_mae: 0.1219\n",
      "Epoch 3/20\n",
      "18424/18424 [==============================] - 265s 14ms/step - loss: 0.1222 - mae: 0.1222 - val_loss: 0.1216 - val_mae: 0.1216\n",
      "Epoch 4/20\n",
      "18424/18424 [==============================] - 266s 14ms/step - loss: 0.1217 - mae: 0.1217 - val_loss: 0.1226 - val_mae: 0.1226\n",
      "Epoch 5/20\n",
      "18424/18424 [==============================] - 268s 15ms/step - loss: 0.1214 - mae: 0.1214 - val_loss: 0.1213 - val_mae: 0.1213\n",
      "Epoch 6/20\n",
      "18424/18424 [==============================] - 267s 14ms/step - loss: 0.1212 - mae: 0.1212 - val_loss: 0.1211 - val_mae: 0.1211\n",
      "Epoch 7/20\n",
      "18424/18424 [==============================] - 268s 15ms/step - loss: 0.1211 - mae: 0.1211 - val_loss: 0.1215 - val_mae: 0.1215\n",
      "Epoch 8/20\n",
      "18424/18424 [==============================] - 271s 15ms/step - loss: 0.1210 - mae: 0.1210 - val_loss: 0.1212 - val_mae: 0.1212\n",
      "Epoch 9/20\n",
      "18424/18424 [==============================] - 271s 15ms/step - loss: 0.1209 - mae: 0.1209 - val_loss: 0.1212 - val_mae: 0.1212\n",
      "Epoch 10/20\n",
      "18424/18424 [==============================] - 272s 15ms/step - loss: 0.1208 - mae: 0.1208 - val_loss: 0.1207 - val_mae: 0.1207\n",
      "Epoch 11/20\n",
      "18424/18424 [==============================] - 273s 15ms/step - loss: 0.1207 - mae: 0.1207 - val_loss: 0.1211 - val_mae: 0.1211\n",
      "Epoch 12/20\n",
      "18424/18424 [==============================] - 274s 15ms/step - loss: 0.1207 - mae: 0.1207 - val_loss: 0.1207 - val_mae: 0.1207\n",
      "Epoch 13/20\n",
      "18424/18424 [==============================] - 276s 15ms/step - loss: 0.1206 - mae: 0.1206 - val_loss: 0.1208 - val_mae: 0.1208\n",
      "Epoch 14/20\n",
      "18424/18424 [==============================] - 278s 15ms/step - loss: 0.1205 - mae: 0.1205 - val_loss: 0.1207 - val_mae: 0.1207\n",
      "Epoch 15/20\n",
      "18424/18424 [==============================] - 279s 15ms/step - loss: 0.1205 - mae: 0.1205 - val_loss: 0.1207 - val_mae: 0.1207\n",
      "Epoch 16/20\n",
      "18424/18424 [==============================] - 278s 15ms/step - loss: 0.1204 - mae: 0.1204 - val_loss: 0.1207 - val_mae: 0.1207\n",
      "Epoch 17/20\n",
      "18424/18424 [==============================] - 276s 15ms/step - loss: 0.1204 - mae: 0.1204 - val_loss: 0.1204 - val_mae: 0.1204\n",
      "Epoch 18/20\n",
      "18424/18424 [==============================] - 276s 15ms/step - loss: 0.1203 - mae: 0.1203 - val_loss: 0.1207 - val_mae: 0.1207\n",
      "Epoch 19/20\n",
      "18424/18424 [==============================] - 277s 15ms/step - loss: 0.1203 - mae: 0.1203 - val_loss: 0.1205 - val_mae: 0.1205\n",
      "Epoch 20/20\n",
      "18424/18424 [==============================] - 295s 16ms/step - loss: 0.1203 - mae: 0.1203 - val_loss: 0.1205 - val_mae: 0.1205\n"
     ]
    }
   ],
   "source": [
    "model = tf.keras.Sequential()\n",
    "\n",
    "model.add(tf.keras.layers.Dense(198, activation='relu', input_shape=(x_train_tensor.shape[1],)))\n",
    "\n",
    "model.add(tf.keras.layers.Reshape((1, 198))) \n",
    "model.add(tf.keras.layers.LSTM(128, return_sequences=True))\n",
    "model.add(tf.keras.layers.Dense(128, activation='relu'))\n",
    "model.add(tf.keras.layers.Dense(64, activation='relu'))\n",
    "model.add(tf.keras.layers.LSTM(32))\n",
    "\n",
    "model.add(tf.keras.layers.Dense(1, activation='linear'))\n",
    "\n",
    "model.compile(optimizer=tf.keras.optimizers.Adam(learning_rate=1e-4), loss='mae', metrics=['mae'])\n",
    "\n",
    "epoch_number = 20\n",
    "\n",
    "history = model.fit(x_train_tensor, y_train_tensor, epochs=epoch_number, validation_data=(x_eval_tensor, y_eval_tensor))"
   ],
   "metadata": {
    "collapsed": false,
    "ExecuteTime": {
     "end_time": "2023-12-06T14:58:54.790820Z",
     "start_time": "2023-12-06T13:27:50.727843Z"
    }
   },
   "id": "8b436d40b14f1f96"
  },
  {
   "cell_type": "code",
   "execution_count": 13,
   "outputs": [
    {
     "name": "stdout",
     "output_type": "stream",
     "text": [
      "2303/2303 [==============================] - 13s 6ms/step\n"
     ]
    },
    {
     "data": {
      "text/plain": "array([[0.3989164 ],\n       [0.49904183],\n       [0.3986001 ],\n       [0.4959774 ],\n       [0.9992976 ]], dtype=float32)"
     },
     "execution_count": 13,
     "metadata": {},
     "output_type": "execute_result"
    }
   ],
   "source": [
    "y_predictions = model.predict(x_test_tensor)\n",
    "y_predictions[:5]"
   ],
   "metadata": {
    "collapsed": false,
    "ExecuteTime": {
     "end_time": "2023-12-06T15:12:48.358158Z",
     "start_time": "2023-12-06T15:12:34.648051Z"
    }
   },
   "id": "e0facaf38587807f"
  },
  {
   "cell_type": "code",
   "execution_count": 14,
   "outputs": [
    {
     "data": {
      "text/plain": "<tf.Tensor: shape=(5,), dtype=float32, numpy=array([0.6, 0.4, 0.7, 0.9, 1. ], dtype=float32)>"
     },
     "execution_count": 14,
     "metadata": {},
     "output_type": "execute_result"
    }
   ],
   "source": [
    "y_test_tensor[:5]"
   ],
   "metadata": {
    "collapsed": false,
    "ExecuteTime": {
     "end_time": "2023-12-06T15:12:48.363743Z",
     "start_time": "2023-12-06T15:12:48.357817Z"
    }
   },
   "id": "efd5e0a74de38007"
  },
  {
   "cell_type": "code",
   "execution_count": 10,
   "outputs": [
    {
     "data": {
      "text/plain": "Text(0, 0.5, 'loss')"
     },
     "execution_count": 10,
     "metadata": {},
     "output_type": "execute_result"
    },
    {
     "data": {
      "text/plain": "<Figure size 640x480 with 1 Axes>",
      "image/png": "[encoded data removed]"
     },
     "metadata": {},
     "output_type": "display_data"
    }
   ],
   "source": [
    "x_range = range(1, epoch_number + 1)\n",
    "loss = history.history['loss']\n",
    "plt.plot(x_range, loss)\n",
    "plt.xlabel('epoch')\n",
    "plt.ylabel('loss')"
   ],
   "metadata": {
    "collapsed": false,
    "ExecuteTime": {
     "end_time": "2023-12-06T14:59:09.589492Z",
     "start_time": "2023-12-06T14:59:09.355114Z"
    }
   },
   "id": "edd889b97d10a84"
  },
  {
   "cell_type": "code",
   "execution_count": null,
   "outputs": [],
   "source": [
    "final_model = tf.keras.Sequential()\n",
    "\n",
    "final_model.add(tf.keras.layers.Dense(198, activation='relu', input_shape=(x_train_tensor.shape[1],)))\n",
    "\n",
    "final_model.add(tf.keras.layers.Reshape((1, 198))) \n",
    "final_model.add(tf.keras.layers.LSTM(128, return_sequences=True))\n",
    "final_model.add(tf.keras.layers.Dense(128, activation='relu'))\n",
    "final_model.add(tf.keras.layers.Dense(64, activation='relu'))\n",
    "final_model.add(tf.keras.layers.LSTM(32))\n",
    "\n",
    "final_model.add(tf.keras.layers.Dense(1, activation='linear'))\n",
    "\n",
    "final_model.compile(optimizer=tf.keras.optimizers.Adam(learning_rate=1e-4), loss='mae', metrics=['mae'])\n",
    "\n",
    "epoch_number = 15\n",
    "\n",
    "history = final_model.fit(x_train_tensor, y_train_tensor, epochs=epoch_number, validation_data=(x_eval_tensor, y_eval_tensor))"
   ],
   "metadata": {
    "collapsed": false
   },
   "id": "8b01720110040e7f"
  },
  {
   "cell_type": "code",
   "execution_count": null,
   "outputs": [],
   "source": [
    "final_model.evaluate(x_test_tensor, y_test_tensor)"
   ],
   "metadata": {
    "collapsed": false
   },
   "id": "69956a15af34e265"
  },
  {
   "cell_type": "code",
   "execution_count": null,
   "outputs": [],
   "source": [
    "final_model.save('final_sold_amount_model')"
   ],
   "metadata": {
    "collapsed": false
   },
   "id": "46f2cd66a29e1bc7"
  }
 ],
 "metadata": {
  "kernelspec": {
   "display_name": "Python 3",
   "language": "python",
   "name": "python3"
  },
  "language_info": {
   "codemirror_mode": {
    "name": "ipython",
    "version": 2
   },
   "file_extension": ".py",
   "mimetype": "text/x-python",
   "name": "python",
   "nbconvert_exporter": "python",
   "pygments_lexer": "ipython2",
   "version": "2.7.6"
  }
 },
 "nbformat": 4,
 "nbformat_minor": 5
}
