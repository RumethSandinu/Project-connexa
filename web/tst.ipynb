{
 "cells": [
  {
   "cell_type": "code",
   "execution_count": 11,
   "id": "initial_id",
   "metadata": {
    "collapsed": true,
    "ExecuteTime": {
     "end_time": "2024-03-23T10:23:54.746834Z",
     "start_time": "2024-03-23T10:23:54.734908Z"
    }
   },
   "outputs": [],
   "source": [
    "import pandas as pd"
   ]
  },
  {
   "cell_type": "code",
   "outputs": [
    {
     "data": {
      "text/plain": "           item_name category_name  cluster\n0  green hot peppers      capsicum        0\n1    yunnan lettuces        flower        0\n2    xixia mushroom       mushroom        0",
      "text/html": "<div>\n<style scoped>\n    .dataframe tbody tr th:only-of-type {\n        vertical-align: middle;\n    }\n\n    .dataframe tbody tr th {\n        vertical-align: top;\n    }\n\n    .dataframe thead th {\n        text-align: right;\n    }\n</style>\n<table border=\"1\" class=\"dataframe\">\n  <thead>\n    <tr style=\"text-align: right;\">\n      <th></th>\n      <th>item_name</th>\n      <th>category_name</th>\n      <th>cluster</th>\n    </tr>\n  </thead>\n  <tbody>\n    <tr>\n      <th>0</th>\n      <td>green hot peppers</td>\n      <td>capsicum</td>\n      <td>0</td>\n    </tr>\n    <tr>\n      <th>1</th>\n      <td>yunnan lettuces</td>\n      <td>flower</td>\n      <td>0</td>\n    </tr>\n    <tr>\n      <th>2</th>\n      <td>xixia mushroom</td>\n      <td>mushroom</td>\n      <td>0</td>\n    </tr>\n  </tbody>\n</table>\n</div>"
     },
     "execution_count": 12,
     "metadata": {},
     "output_type": "execute_result"
    }
   ],
   "source": [
    "df = pd.read_csv('../time_based_analysis/time_model.csv')\n",
    "df.head(3)"
   ],
   "metadata": {
    "collapsed": false,
    "ExecuteTime": {
     "end_time": "2024-03-23T10:23:54.779420Z",
     "start_time": "2024-03-23T10:23:54.749752Z"
    }
   },
   "id": "a6b6e4a52cc8ba0f",
   "execution_count": 12
  },
  {
   "cell_type": "code",
   "outputs": [
    {
     "data": {
      "text/plain": "(128, 3)"
     },
     "execution_count": 13,
     "metadata": {},
     "output_type": "execute_result"
    }
   ],
   "source": [
    "filt_0 = df['cluster'] == 0\n",
    "df.loc[filt_0].shape"
   ],
   "metadata": {
    "collapsed": false,
    "ExecuteTime": {
     "end_time": "2024-03-23T10:23:54.785608Z",
     "start_time": "2024-03-23T10:23:54.780260Z"
    }
   },
   "id": "25399936ec847c3d",
   "execution_count": 13
  },
  {
   "cell_type": "code",
   "outputs": [
    {
     "data": {
      "text/plain": "(15, 3)"
     },
     "execution_count": 14,
     "metadata": {},
     "output_type": "execute_result"
    }
   ],
   "source": [
    "filt_1 = df['cluster'] == 1\n",
    "df.loc[filt_1].shape"
   ],
   "metadata": {
    "collapsed": false,
    "ExecuteTime": {
     "end_time": "2024-03-23T10:24:05.151570Z",
     "start_time": "2024-03-23T10:24:05.140206Z"
    }
   },
   "id": "934939a089d018e2",
   "execution_count": 14
  },
  {
   "cell_type": "code",
   "outputs": [
    {
     "data": {
      "text/plain": "(10, 3)"
     },
     "execution_count": 15,
     "metadata": {},
     "output_type": "execute_result"
    }
   ],
   "source": [
    "filt_2 = df['cluster'] == 2\n",
    "df.loc[filt_2].shape"
   ],
   "metadata": {
    "collapsed": false,
    "ExecuteTime": {
     "end_time": "2024-03-23T10:24:15.818650Z",
     "start_time": "2024-03-23T10:24:15.806773Z"
    }
   },
   "id": "b0cfc09b60d30d31",
   "execution_count": 15
  },
  {
   "cell_type": "code",
   "outputs": [],
   "source": [],
   "metadata": {
    "collapsed": false
   },
   "id": "bea4b89b6de16485"
  }
 ],
 "metadata": {
  "kernelspec": {
   "display_name": "Python 3",
   "language": "python",
   "name": "python3"
  },
  "language_info": {
   "codemirror_mode": {
    "name": "ipython",
    "version": 2
   },
   "file_extension": ".py",
   "mimetype": "text/x-python",
   "name": "python",
   "nbconvert_exporter": "python",
   "pygments_lexer": "ipython2",
   "version": "2.7.6"
  }
 },
 "nbformat": 4,
 "nbformat_minor": 5
}
