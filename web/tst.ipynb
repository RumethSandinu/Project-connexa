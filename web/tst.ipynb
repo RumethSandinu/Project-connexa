{
 "cells": [
  {
   "cell_type": "code",
   "execution_count": 5,
   "id": "initial_id",
   "metadata": {
    "collapsed": true,
    "ExecuteTime": {
     "end_time": "2024-02-23T08:58:09.618845Z",
     "start_time": "2024-02-23T08:58:09.592297Z"
    }
   },
   "outputs": [],
   "source": [
    "import pandas as pd"
   ]
  },
  {
   "cell_type": "code",
   "outputs": [
    {
     "data": {
      "text/plain": "                              0\n0     unit_selling_price_rmb/kg\n1    item_name_7 colour pepper \n2  item_name_agaricus bisporus \n3               item_name_aihao\n4           item_name_amaranth ",
      "text/html": "<div>\n<style scoped>\n    .dataframe tbody tr th:only-of-type {\n        vertical-align: middle;\n    }\n\n    .dataframe tbody tr th {\n        vertical-align: top;\n    }\n\n    .dataframe thead th {\n        text-align: right;\n    }\n</style>\n<table border=\"1\" class=\"dataframe\">\n  <thead>\n    <tr style=\"text-align: right;\">\n      <th></th>\n      <th>0</th>\n    </tr>\n  </thead>\n  <tbody>\n    <tr>\n      <th>0</th>\n      <td>unit_selling_price_rmb/kg</td>\n    </tr>\n    <tr>\n      <th>1</th>\n      <td>item_name_7 colour pepper</td>\n    </tr>\n    <tr>\n      <th>2</th>\n      <td>item_name_agaricus bisporus</td>\n    </tr>\n    <tr>\n      <th>3</th>\n      <td>item_name_aihao</td>\n    </tr>\n    <tr>\n      <th>4</th>\n      <td>item_name_amaranth</td>\n    </tr>\n  </tbody>\n</table>\n</div>"
     },
     "execution_count": 6,
     "metadata": {},
     "output_type": "execute_result"
    }
   ],
   "source": [
    "columns = pd.read_csv('../sales_analysis/column_names')\n",
    "columns.head()"
   ],
   "metadata": {
    "collapsed": false,
    "ExecuteTime": {
     "end_time": "2024-02-23T08:58:09.627968Z",
     "start_time": "2024-02-23T08:58:09.600558Z"
    }
   },
   "id": "593d831c352e39c9",
   "execution_count": 6
  },
  {
   "cell_type": "code",
   "outputs": [],
   "source": [],
   "metadata": {
    "collapsed": false,
    "ExecuteTime": {
     "end_time": "2024-02-23T08:58:09.628847Z",
     "start_time": "2024-02-23T08:58:09.620514Z"
    }
   },
   "id": "ab38937ab0d438f1",
   "execution_count": 6
  }
 ],
 "metadata": {
  "kernelspec": {
   "display_name": "Python 3",
   "language": "python",
   "name": "python3"
  },
  "language_info": {
   "codemirror_mode": {
    "name": "ipython",
    "version": 2
   },
   "file_extension": ".py",
   "mimetype": "text/x-python",
   "name": "python",
   "nbconvert_exporter": "python",
   "pygments_lexer": "ipython2",
   "version": "2.7.6"
  }
 },
 "nbformat": 4,
 "nbformat_minor": 5
}
