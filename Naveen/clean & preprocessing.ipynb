{
 "cells": [
  {
   "cell_type": "code",
   "execution_count": 69,
   "id": "initial_id",
   "metadata": {
    "collapsed": true,
    "ExecuteTime": {
     "end_time": "2023-12-04T05:12:45.289199700Z",
     "start_time": "2023-12-04T05:12:45.241978800Z"
    }
   },
   "outputs": [],
   "source": [
    "import pandas as pd\n",
    "import matplotlib.pyplot as plt"
   ]
  },
  {
   "cell_type": "code",
   "execution_count": 70,
   "outputs": [
    {
     "data": {
      "text/plain": "         Date          Time        Item Code  Quantity Sold (kilo)  \\\n0  2020-07-01  09:15:07.924  102900005117056                 0.396   \n1  2020-07-01  09:17:27.295  102900005115960                 0.849   \n2  2020-07-01  09:17:33.905  102900005117056                 0.409   \n3  2020-07-01  09:19:45.450  102900005115823                 0.421   \n4  2020-07-01  09:20:23.686  102900005115908                 0.539   \n\n   Unit Selling Price (RMB/kg) Sale or Return Discount (Yes/No)  \n0                          7.6           sale                No  \n1                          3.2           sale                No  \n2                          7.6           sale                No  \n3                         10.0           sale                No  \n4                          8.0           sale                No  ",
      "text/html": "<div>\n<style scoped>\n    .dataframe tbody tr th:only-of-type {\n        vertical-align: middle;\n    }\n\n    .dataframe tbody tr th {\n        vertical-align: top;\n    }\n\n    .dataframe thead th {\n        text-align: right;\n    }\n</style>\n<table border=\"1\" class=\"dataframe\">\n  <thead>\n    <tr style=\"text-align: right;\">\n      <th></th>\n      <th>Date</th>\n      <th>Time</th>\n      <th>Item Code</th>\n      <th>Quantity Sold (kilo)</th>\n      <th>Unit Selling Price (RMB/kg)</th>\n      <th>Sale or Return</th>\n      <th>Discount (Yes/No)</th>\n    </tr>\n  </thead>\n  <tbody>\n    <tr>\n      <th>0</th>\n      <td>2020-07-01</td>\n      <td>09:15:07.924</td>\n      <td>102900005117056</td>\n      <td>0.396</td>\n      <td>7.6</td>\n      <td>sale</td>\n      <td>No</td>\n    </tr>\n    <tr>\n      <th>1</th>\n      <td>2020-07-01</td>\n      <td>09:17:27.295</td>\n      <td>102900005115960</td>\n      <td>0.849</td>\n      <td>3.2</td>\n      <td>sale</td>\n      <td>No</td>\n    </tr>\n    <tr>\n      <th>2</th>\n      <td>2020-07-01</td>\n      <td>09:17:33.905</td>\n      <td>102900005117056</td>\n      <td>0.409</td>\n      <td>7.6</td>\n      <td>sale</td>\n      <td>No</td>\n    </tr>\n    <tr>\n      <th>3</th>\n      <td>2020-07-01</td>\n      <td>09:19:45.450</td>\n      <td>102900005115823</td>\n      <td>0.421</td>\n      <td>10.0</td>\n      <td>sale</td>\n      <td>No</td>\n    </tr>\n    <tr>\n      <th>4</th>\n      <td>2020-07-01</td>\n      <td>09:20:23.686</td>\n      <td>102900005115908</td>\n      <td>0.539</td>\n      <td>8.0</td>\n      <td>sale</td>\n      <td>No</td>\n    </tr>\n  </tbody>\n</table>\n</div>"
     },
     "execution_count": 70,
     "metadata": {},
     "output_type": "execute_result"
    }
   ],
   "source": [
    "ds = pd.read_csv(\"C:\\\\Users\\\\User\\\\Desktop\\\\DSGP\\\\Data Set\\\\annex2.csv\")\n",
    "ds.head()"
   ],
   "metadata": {
    "collapsed": false,
    "ExecuteTime": {
     "end_time": "2023-12-04T05:12:46.125665600Z",
     "start_time": "2023-12-04T05:12:45.243982200Z"
    }
   },
   "id": "4c0ee27133883235"
  },
  {
   "cell_type": "code",
   "execution_count": 71,
   "outputs": [
    {
     "data": {
      "text/plain": "'2023-06-30'"
     },
     "execution_count": 71,
     "metadata": {},
     "output_type": "execute_result"
    }
   ],
   "source": [
    "ds['Date'].max()"
   ],
   "metadata": {
    "collapsed": false,
    "ExecuteTime": {
     "end_time": "2023-12-04T05:12:46.191639400Z",
     "start_time": "2023-12-04T05:12:46.118592Z"
    }
   },
   "id": "bec958bb93c30df6"
  },
  {
   "cell_type": "code",
   "execution_count": 72,
   "outputs": [
    {
     "data": {
      "text/plain": "'2020-07-01'"
     },
     "execution_count": 72,
     "metadata": {},
     "output_type": "execute_result"
    }
   ],
   "source": [
    "ds['Date'].min()"
   ],
   "metadata": {
    "collapsed": false,
    "ExecuteTime": {
     "end_time": "2023-12-04T05:12:46.240733900Z",
     "start_time": "2023-12-04T05:12:46.154583Z"
    }
   },
   "id": "6861a00b1fda663e"
  },
  {
   "cell_type": "code",
   "execution_count": 73,
   "outputs": [
    {
     "data": {
      "text/plain": "Date\n2021-02-10    3747\n2022-11-19    3215\n2023-01-20    3177\n2022-11-21    2627\n2021-02-09    2501\n              ... \n2022-12-04     277\n2021-04-06     277\n2022-11-27      84\n2022-11-28      78\n2022-11-29      74\nName: count, Length: 1085, dtype: int64"
     },
     "execution_count": 73,
     "metadata": {},
     "output_type": "execute_result"
    }
   ],
   "source": [
    "ds['Date'].value_counts()"
   ],
   "metadata": {
    "collapsed": false,
    "ExecuteTime": {
     "end_time": "2023-12-04T05:12:46.283846600Z",
     "start_time": "2023-12-04T05:12:46.194636600Z"
    }
   },
   "id": "746f25930e72ca82"
  },
  {
   "cell_type": "code",
   "execution_count": 74,
   "outputs": [
    {
     "data": {
      "text/plain": "{'whiskers': [<matplotlib.lines.Line2D at 0x2823da68050>,\n  <matplotlib.lines.Line2D at 0x2823da689d0>],\n 'caps': [<matplotlib.lines.Line2D at 0x2823da69350>,\n  <matplotlib.lines.Line2D at 0x2823da69c50>],\n 'boxes': [<matplotlib.lines.Line2D at 0x2823da57710>],\n 'medians': [<matplotlib.lines.Line2D at 0x2823da6a490>],\n 'fliers': [<matplotlib.lines.Line2D at 0x2823da6ad50>],\n 'means': []}"
     },
     "execution_count": 74,
     "metadata": {},
     "output_type": "execute_result"
    },
    {
     "data": {
      "text/plain": "<Figure size 640x480 with 1 Axes>",
      "image/png": "[encoded data removed]"
     },
     "metadata": {},
     "output_type": "display_data"
    }
   ],
   "source": [
    "plt.boxplot(ds['Quantity Sold (kilo)'])"
   ],
   "metadata": {
    "collapsed": false,
    "ExecuteTime": {
     "end_time": "2023-12-04T05:12:46.385889700Z",
     "start_time": "2023-12-04T05:12:46.237207700Z"
    }
   },
   "id": "9d6bf7fea2a6994a"
  },
  {
   "cell_type": "code",
   "execution_count": 75,
   "outputs": [
    {
     "data": {
      "text/plain": "('2020-07-01', '2023-06-30')"
     },
     "execution_count": 75,
     "metadata": {},
     "output_type": "execute_result"
    }
   ],
   "source": [
    "ds['Date'].min(),ds['Date'].max()"
   ],
   "metadata": {
    "collapsed": false,
    "ExecuteTime": {
     "end_time": "2023-12-04T05:12:46.447142Z",
     "start_time": "2023-12-04T05:12:46.364879100Z"
    }
   },
   "id": "f3d6c3152c0ca827"
  },
  {
   "cell_type": "code",
   "execution_count": 76,
   "outputs": [
    {
     "data": {
      "text/plain": "Time\n10:05:12.655    6\n09:37:24.655    5\n18:18:35.264    5\n09:34:20.717    4\n18:11:43.061    4\n               ..\n09:36:37.701    1\n09:36:47.983    1\n09:38:14.294    1\n09:38:24.197    1\n21:40:48.248    1\nName: count, Length: 849632, dtype: int64"
     },
     "execution_count": 76,
     "metadata": {},
     "output_type": "execute_result"
    }
   ],
   "source": [
    "ds['Time'].value_counts()"
   ],
   "metadata": {
    "collapsed": false,
    "ExecuteTime": {
     "end_time": "2023-12-04T05:12:47.400630Z",
     "start_time": "2023-12-04T05:12:46.441999600Z"
    }
   },
   "id": "af220f5301277b21"
  },
  {
   "cell_type": "code",
   "execution_count": 77,
   "outputs": [
    {
     "data": {
      "text/plain": "('08:14:12.655', '23:11:47.998')"
     },
     "execution_count": 77,
     "metadata": {},
     "output_type": "execute_result"
    }
   ],
   "source": [
    "ds['Time'].min(),ds['Time'].max()"
   ],
   "metadata": {
    "collapsed": false,
    "ExecuteTime": {
     "end_time": "2023-12-04T05:12:47.494219100Z",
     "start_time": "2023-12-04T05:12:47.394649400Z"
    }
   },
   "id": "810982c4f73de152"
  },
  {
   "cell_type": "code",
   "execution_count": 86,
   "outputs": [
    {
     "name": "stderr",
     "output_type": "stream",
     "text": [
      "C:\\Users\\User\\AppData\\Local\\Temp\\ipykernel_15592\\2603571680.py:2: SettingWithCopyWarning: \n",
      "A value is trying to be set on a copy of a slice from a DataFrame.\n",
      "Try using .loc[row_indexer,col_indexer] = value instead\n",
      "\n",
      "See the caveats in the documentation: https://pandas.pydata.org/pandas-docs/stable/user_guide/indexing.html#returning-a-view-versus-a-copy\n",
      "  ds['Time'] = ds['Time'].apply(lambda x: x.split(':')[0])\n"
     ]
    },
    {
     "data": {
      "text/plain": "             Date Time        Item Code  Quantity Sold (kilo)  \\\n0      2020-07-01   09  102900005117056                 0.396   \n1      2020-07-01   09  102900005115960                 0.849   \n2      2020-07-01   09  102900005117056                 0.409   \n3      2020-07-01   09  102900005115823                 0.421   \n4      2020-07-01   09  102900005115908                 0.539   \n...           ...  ...              ...                   ...   \n878498 2023-06-30   21  102900005115250                 0.284   \n878499 2023-06-30   21  102900011022764                 0.669   \n878500 2023-06-30   21  102900005115250                 0.125   \n878501 2023-06-30   21  102900011016701                 0.252   \n878502 2023-06-30   21  102900011022764                 0.803   \n\n        Unit Selling Price (RMB/kg) Sale or Return Discount (Yes/No)  \n0                               7.6           sale                No  \n1                               3.2           sale                No  \n2                               7.6           sale                No  \n3                              10.0           sale                No  \n4                               8.0           sale                No  \n...                             ...            ...               ...  \n878498                         24.0           sale                No  \n878499                         12.0           sale                No  \n878500                         24.0           sale                No  \n878501                          5.2           sale                No  \n878502                         12.0           sale                No  \n\n[878042 rows x 7 columns]",
      "text/html": "<div>\n<style scoped>\n    .dataframe tbody tr th:only-of-type {\n        vertical-align: middle;\n    }\n\n    .dataframe tbody tr th {\n        vertical-align: top;\n    }\n\n    .dataframe thead th {\n        text-align: right;\n    }\n</style>\n<table border=\"1\" class=\"dataframe\">\n  <thead>\n    <tr style=\"text-align: right;\">\n      <th></th>\n      <th>Date</th>\n      <th>Time</th>\n      <th>Item Code</th>\n      <th>Quantity Sold (kilo)</th>\n      <th>Unit Selling Price (RMB/kg)</th>\n      <th>Sale or Return</th>\n      <th>Discount (Yes/No)</th>\n    </tr>\n  </thead>\n  <tbody>\n    <tr>\n      <th>0</th>\n      <td>2020-07-01</td>\n      <td>09</td>\n      <td>102900005117056</td>\n      <td>0.396</td>\n      <td>7.6</td>\n      <td>sale</td>\n      <td>No</td>\n    </tr>\n    <tr>\n      <th>1</th>\n      <td>2020-07-01</td>\n      <td>09</td>\n      <td>102900005115960</td>\n      <td>0.849</td>\n      <td>3.2</td>\n      <td>sale</td>\n      <td>No</td>\n    </tr>\n    <tr>\n      <th>2</th>\n      <td>2020-07-01</td>\n      <td>09</td>\n      <td>102900005117056</td>\n      <td>0.409</td>\n      <td>7.6</td>\n      <td>sale</td>\n      <td>No</td>\n    </tr>\n    <tr>\n      <th>3</th>\n      <td>2020-07-01</td>\n      <td>09</td>\n      <td>102900005115823</td>\n      <td>0.421</td>\n      <td>10.0</td>\n      <td>sale</td>\n      <td>No</td>\n    </tr>\n    <tr>\n      <th>4</th>\n      <td>2020-07-01</td>\n      <td>09</td>\n      <td>102900005115908</td>\n      <td>0.539</td>\n      <td>8.0</td>\n      <td>sale</td>\n      <td>No</td>\n    </tr>\n    <tr>\n      <th>...</th>\n      <td>...</td>\n      <td>...</td>\n      <td>...</td>\n      <td>...</td>\n      <td>...</td>\n      <td>...</td>\n      <td>...</td>\n    </tr>\n    <tr>\n      <th>878498</th>\n      <td>2023-06-30</td>\n      <td>21</td>\n      <td>102900005115250</td>\n      <td>0.284</td>\n      <td>24.0</td>\n      <td>sale</td>\n      <td>No</td>\n    </tr>\n    <tr>\n      <th>878499</th>\n      <td>2023-06-30</td>\n      <td>21</td>\n      <td>102900011022764</td>\n      <td>0.669</td>\n      <td>12.0</td>\n      <td>sale</td>\n      <td>No</td>\n    </tr>\n    <tr>\n      <th>878500</th>\n      <td>2023-06-30</td>\n      <td>21</td>\n      <td>102900005115250</td>\n      <td>0.125</td>\n      <td>24.0</td>\n      <td>sale</td>\n      <td>No</td>\n    </tr>\n    <tr>\n      <th>878501</th>\n      <td>2023-06-30</td>\n      <td>21</td>\n      <td>102900011016701</td>\n      <td>0.252</td>\n      <td>5.2</td>\n      <td>sale</td>\n      <td>No</td>\n    </tr>\n    <tr>\n      <th>878502</th>\n      <td>2023-06-30</td>\n      <td>21</td>\n      <td>102900011022764</td>\n      <td>0.803</td>\n      <td>12.0</td>\n      <td>sale</td>\n      <td>No</td>\n    </tr>\n  </tbody>\n</table>\n<p>878042 rows × 7 columns</p>\n</div>"
     },
     "execution_count": 86,
     "metadata": {},
     "output_type": "execute_result"
    }
   ],
   "source": [
    "# Removing millisecond in column\n",
    "ds['Time'] = ds['Time'].apply(lambda x: x.split(':')[0])\n",
    "ds"
   ],
   "metadata": {
    "collapsed": false,
    "ExecuteTime": {
     "end_time": "2023-12-04T05:14:01.093746100Z",
     "start_time": "2023-12-04T05:14:00.886489Z"
    }
   },
   "id": "764ebc8a451ce6bc"
  },
  {
   "cell_type": "code",
   "execution_count": 87,
   "outputs": [
    {
     "data": {
      "text/plain": "{'whiskers': [<matplotlib.lines.Line2D at 0x2824a254250>,\n  <matplotlib.lines.Line2D at 0x2824a254cd0>],\n 'caps': [<matplotlib.lines.Line2D at 0x2824a255450>,\n  <matplotlib.lines.Line2D at 0x2824a255d10>],\n 'boxes': [<matplotlib.lines.Line2D at 0x2824a24b910>],\n 'medians': [<matplotlib.lines.Line2D at 0x2824a256550>],\n 'fliers': [<matplotlib.lines.Line2D at 0x2824a256e10>],\n 'means': []}"
     },
     "execution_count": 87,
     "metadata": {},
     "output_type": "execute_result"
    },
    {
     "data": {
      "text/plain": "<Figure size 640x480 with 1 Axes>",
      "image/png": "[encoded data removed]"
     },
     "metadata": {},
     "output_type": "display_data"
    }
   ],
   "source": [
    "plt.boxplot(ds['Time'].value_counts())"
   ],
   "metadata": {
    "collapsed": false,
    "ExecuteTime": {
     "end_time": "2023-12-04T05:15:21.117695600Z",
     "start_time": "2023-12-04T05:15:21.019451400Z"
    }
   },
   "id": "56c18b7a394e8597"
  },
  {
   "cell_type": "code",
   "execution_count": 80,
   "outputs": [
    {
     "data": {
      "text/plain": "         Date   Time  Item Code  Quantity Sold (kilo)  \\\n0       False  False      False                 False   \n1       False  False      False                 False   \n2       False  False      False                 False   \n3       False  False      False                 False   \n4       False  False      False                 False   \n...       ...    ...        ...                   ...   \n878498  False  False      False                 False   \n878499  False  False      False                 False   \n878500  False  False      False                 False   \n878501  False  False      False                 False   \n878502  False  False      False                 False   \n\n        Unit Selling Price (RMB/kg)  Sale or Return  Discount (Yes/No)  \n0                             False           False              False  \n1                             False           False              False  \n2                             False           False              False  \n3                             False           False              False  \n4                             False           False              False  \n...                             ...             ...                ...  \n878498                        False           False              False  \n878499                        False           False              False  \n878500                        False           False              False  \n878501                        False           False              False  \n878502                        False           False              False  \n\n[878503 rows x 7 columns]",
      "text/html": "<div>\n<style scoped>\n    .dataframe tbody tr th:only-of-type {\n        vertical-align: middle;\n    }\n\n    .dataframe tbody tr th {\n        vertical-align: top;\n    }\n\n    .dataframe thead th {\n        text-align: right;\n    }\n</style>\n<table border=\"1\" class=\"dataframe\">\n  <thead>\n    <tr style=\"text-align: right;\">\n      <th></th>\n      <th>Date</th>\n      <th>Time</th>\n      <th>Item Code</th>\n      <th>Quantity Sold (kilo)</th>\n      <th>Unit Selling Price (RMB/kg)</th>\n      <th>Sale or Return</th>\n      <th>Discount (Yes/No)</th>\n    </tr>\n  </thead>\n  <tbody>\n    <tr>\n      <th>0</th>\n      <td>False</td>\n      <td>False</td>\n      <td>False</td>\n      <td>False</td>\n      <td>False</td>\n      <td>False</td>\n      <td>False</td>\n    </tr>\n    <tr>\n      <th>1</th>\n      <td>False</td>\n      <td>False</td>\n      <td>False</td>\n      <td>False</td>\n      <td>False</td>\n      <td>False</td>\n      <td>False</td>\n    </tr>\n    <tr>\n      <th>2</th>\n      <td>False</td>\n      <td>False</td>\n      <td>False</td>\n      <td>False</td>\n      <td>False</td>\n      <td>False</td>\n      <td>False</td>\n    </tr>\n    <tr>\n      <th>3</th>\n      <td>False</td>\n      <td>False</td>\n      <td>False</td>\n      <td>False</td>\n      <td>False</td>\n      <td>False</td>\n      <td>False</td>\n    </tr>\n    <tr>\n      <th>4</th>\n      <td>False</td>\n      <td>False</td>\n      <td>False</td>\n      <td>False</td>\n      <td>False</td>\n      <td>False</td>\n      <td>False</td>\n    </tr>\n    <tr>\n      <th>...</th>\n      <td>...</td>\n      <td>...</td>\n      <td>...</td>\n      <td>...</td>\n      <td>...</td>\n      <td>...</td>\n      <td>...</td>\n    </tr>\n    <tr>\n      <th>878498</th>\n      <td>False</td>\n      <td>False</td>\n      <td>False</td>\n      <td>False</td>\n      <td>False</td>\n      <td>False</td>\n      <td>False</td>\n    </tr>\n    <tr>\n      <th>878499</th>\n      <td>False</td>\n      <td>False</td>\n      <td>False</td>\n      <td>False</td>\n      <td>False</td>\n      <td>False</td>\n      <td>False</td>\n    </tr>\n    <tr>\n      <th>878500</th>\n      <td>False</td>\n      <td>False</td>\n      <td>False</td>\n      <td>False</td>\n      <td>False</td>\n      <td>False</td>\n      <td>False</td>\n    </tr>\n    <tr>\n      <th>878501</th>\n      <td>False</td>\n      <td>False</td>\n      <td>False</td>\n      <td>False</td>\n      <td>False</td>\n      <td>False</td>\n      <td>False</td>\n    </tr>\n    <tr>\n      <th>878502</th>\n      <td>False</td>\n      <td>False</td>\n      <td>False</td>\n      <td>False</td>\n      <td>False</td>\n      <td>False</td>\n      <td>False</td>\n    </tr>\n  </tbody>\n</table>\n<p>878503 rows × 7 columns</p>\n</div>"
     },
     "execution_count": 80,
     "metadata": {},
     "output_type": "execute_result"
    }
   ],
   "source": [
    "ds.isnull()"
   ],
   "metadata": {
    "collapsed": false,
    "ExecuteTime": {
     "end_time": "2023-12-04T05:12:47.875046100Z",
     "start_time": "2023-12-04T05:12:47.746241Z"
    }
   },
   "id": "317f96b068c13eeb"
  },
  {
   "cell_type": "code",
   "execution_count": 81,
   "outputs": [
    {
     "data": {
      "text/plain": "             Date      Time        Item Code  Quantity Sold (kilo)  \\\n0      2020-07-01  09:15:07  102900005117056                 0.396   \n1      2020-07-01  09:17:27  102900005115960                 0.849   \n2      2020-07-01  09:17:33  102900005117056                 0.409   \n3      2020-07-01  09:19:45  102900005115823                 0.421   \n4      2020-07-01  09:20:23  102900005115908                 0.539   \n...           ...       ...              ...                   ...   \n185827 2020-12-31  21:24:58  102900005115960                 1.594   \n185828 2020-12-31  21:25:49  102900005116530                 0.328   \n185829 2020-12-31  21:28:03  102900005116257                 0.401   \n185830 2020-12-31  21:31:22  102900005116257                 0.234   \n185831 2020-12-31  21:35:45  102900005116530                 0.395   \n\n        Unit Selling Price (RMB/kg) Sale or Return Discount (Yes/No)  \n0                               7.6           sale                No  \n1                               3.2           sale                No  \n2                               7.6           sale                No  \n3                              10.0           sale                No  \n4                               8.0           sale                No  \n...                             ...            ...               ...  \n185827                          1.4           sale                No  \n185828                         18.0           sale                No  \n185829                          9.0           sale                No  \n185830                          9.0           sale                No  \n185831                         18.0           sale                No  \n\n[185832 rows x 7 columns]",
      "text/html": "<div>\n<style scoped>\n    .dataframe tbody tr th:only-of-type {\n        vertical-align: middle;\n    }\n\n    .dataframe tbody tr th {\n        vertical-align: top;\n    }\n\n    .dataframe thead th {\n        text-align: right;\n    }\n</style>\n<table border=\"1\" class=\"dataframe\">\n  <thead>\n    <tr style=\"text-align: right;\">\n      <th></th>\n      <th>Date</th>\n      <th>Time</th>\n      <th>Item Code</th>\n      <th>Quantity Sold (kilo)</th>\n      <th>Unit Selling Price (RMB/kg)</th>\n      <th>Sale or Return</th>\n      <th>Discount (Yes/No)</th>\n    </tr>\n  </thead>\n  <tbody>\n    <tr>\n      <th>0</th>\n      <td>2020-07-01</td>\n      <td>09:15:07</td>\n      <td>102900005117056</td>\n      <td>0.396</td>\n      <td>7.6</td>\n      <td>sale</td>\n      <td>No</td>\n    </tr>\n    <tr>\n      <th>1</th>\n      <td>2020-07-01</td>\n      <td>09:17:27</td>\n      <td>102900005115960</td>\n      <td>0.849</td>\n      <td>3.2</td>\n      <td>sale</td>\n      <td>No</td>\n    </tr>\n    <tr>\n      <th>2</th>\n      <td>2020-07-01</td>\n      <td>09:17:33</td>\n      <td>102900005117056</td>\n      <td>0.409</td>\n      <td>7.6</td>\n      <td>sale</td>\n      <td>No</td>\n    </tr>\n    <tr>\n      <th>3</th>\n      <td>2020-07-01</td>\n      <td>09:19:45</td>\n      <td>102900005115823</td>\n      <td>0.421</td>\n      <td>10.0</td>\n      <td>sale</td>\n      <td>No</td>\n    </tr>\n    <tr>\n      <th>4</th>\n      <td>2020-07-01</td>\n      <td>09:20:23</td>\n      <td>102900005115908</td>\n      <td>0.539</td>\n      <td>8.0</td>\n      <td>sale</td>\n      <td>No</td>\n    </tr>\n    <tr>\n      <th>...</th>\n      <td>...</td>\n      <td>...</td>\n      <td>...</td>\n      <td>...</td>\n      <td>...</td>\n      <td>...</td>\n      <td>...</td>\n    </tr>\n    <tr>\n      <th>185827</th>\n      <td>2020-12-31</td>\n      <td>21:24:58</td>\n      <td>102900005115960</td>\n      <td>1.594</td>\n      <td>1.4</td>\n      <td>sale</td>\n      <td>No</td>\n    </tr>\n    <tr>\n      <th>185828</th>\n      <td>2020-12-31</td>\n      <td>21:25:49</td>\n      <td>102900005116530</td>\n      <td>0.328</td>\n      <td>18.0</td>\n      <td>sale</td>\n      <td>No</td>\n    </tr>\n    <tr>\n      <th>185829</th>\n      <td>2020-12-31</td>\n      <td>21:28:03</td>\n      <td>102900005116257</td>\n      <td>0.401</td>\n      <td>9.0</td>\n      <td>sale</td>\n      <td>No</td>\n    </tr>\n    <tr>\n      <th>185830</th>\n      <td>2020-12-31</td>\n      <td>21:31:22</td>\n      <td>102900005116257</td>\n      <td>0.234</td>\n      <td>9.0</td>\n      <td>sale</td>\n      <td>No</td>\n    </tr>\n    <tr>\n      <th>185831</th>\n      <td>2020-12-31</td>\n      <td>21:35:45</td>\n      <td>102900005116530</td>\n      <td>0.395</td>\n      <td>18.0</td>\n      <td>sale</td>\n      <td>No</td>\n    </tr>\n  </tbody>\n</table>\n<p>185832 rows × 7 columns</p>\n</div>"
     },
     "execution_count": 81,
     "metadata": {},
     "output_type": "execute_result"
    }
   ],
   "source": [
    "#Checking the 2020 details \n",
    "ds['Date'] = pd.to_datetime(ds['Date'])\n",
    "ds_2020 = ds[ds['Date'].dt.year == 2020]\n",
    "ds_2020"
   ],
   "metadata": {
    "collapsed": false,
    "ExecuteTime": {
     "end_time": "2023-12-04T05:12:48.007515400Z",
     "start_time": "2023-12-04T05:12:47.855761700Z"
    }
   },
   "id": "479368c2e7f523bc"
  },
  {
   "cell_type": "code",
   "execution_count": 82,
   "outputs": [
    {
     "data": {
      "text/plain": "('08:14:12', '22:24:18')"
     },
     "execution_count": 82,
     "metadata": {},
     "output_type": "execute_result"
    }
   ],
   "source": [
    "ds_2020['Time'].min(),ds_2020['Time'].max()"
   ],
   "metadata": {
    "collapsed": false,
    "ExecuteTime": {
     "end_time": "2023-12-04T05:12:48.008517400Z",
     "start_time": "2023-12-04T05:12:47.968323400Z"
    }
   },
   "id": "ecd0c65d1ba42eb7"
  },
  {
   "cell_type": "code",
   "execution_count": 83,
   "outputs": [
    {
     "data": {
      "text/plain": "Date\n2020-07-01    1.554\n2020-07-02    2.000\n2020-07-03    1.391\n2020-07-04    1.782\n2020-07-05    2.161\n              ...  \n2020-12-27    5.102\n2020-12-28    6.735\n2020-12-29    4.286\n2020-12-30    2.536\n2020-12-31    2.754\nName: Quantity Sold (kilo), Length: 184, dtype: float64"
     },
     "execution_count": 83,
     "metadata": {},
     "output_type": "execute_result"
    }
   ],
   "source": [
    "# Check the maximum in the one day quantity sold(Kilo)\n",
    "ds_2020 = ds[ds['Date'].dt.year == 2020]\n",
    "max_2020 = ds_2020.groupby('Date')['Quantity Sold (kilo)'].max()\n",
    "max_2020"
   ],
   "metadata": {
    "collapsed": false,
    "ExecuteTime": {
     "end_time": "2023-12-04T05:12:48.086056600Z",
     "start_time": "2023-12-04T05:12:47.995672700Z"
    }
   },
   "id": "68ad58ebcf7dbfc2"
  },
  {
   "cell_type": "code",
   "execution_count": 84,
   "outputs": [
    {
     "data": {
      "text/plain": "Date\n2020-07-01   -0.436\n2020-07-02    0.008\n2020-07-03   -1.000\n2020-07-04    0.019\n2020-07-05    0.012\n              ...  \n2020-12-27    0.043\n2020-12-28    0.061\n2020-12-29    0.045\n2020-12-30    0.071\n2020-12-31    0.056\nName: Quantity Sold (kilo), Length: 184, dtype: float64"
     },
     "execution_count": 84,
     "metadata": {},
     "output_type": "execute_result"
    }
   ],
   "source": [
    "# Check the minimum in the one day quantity sold(Kilo)\n",
    "ds_2020 = ds[ds['Date'].dt.year == 2020]\n",
    "max_2020 = ds_2020.groupby('Date')['Quantity Sold (kilo)'].min()\n",
    "max_2020"
   ],
   "metadata": {
    "collapsed": false,
    "ExecuteTime": {
     "end_time": "2023-12-04T05:12:48.159515300Z",
     "start_time": "2023-12-04T05:12:48.047904Z"
    }
   },
   "id": "f40ef276808d6b81"
  },
  {
   "cell_type": "code",
   "execution_count": 85,
   "outputs": [
    {
     "data": {
      "text/plain": "             Date      Time        Item Code  Quantity Sold (kilo)  \\\n0      2020-07-01  09:15:07  102900005117056                 0.396   \n1      2020-07-01  09:17:27  102900005115960                 0.849   \n2      2020-07-01  09:17:33  102900005117056                 0.409   \n3      2020-07-01  09:19:45  102900005115823                 0.421   \n4      2020-07-01  09:20:23  102900005115908                 0.539   \n...           ...       ...              ...                   ...   \n878498 2023-06-30  21:35:13  102900005115250                 0.284   \n878499 2023-06-30  21:35:14  102900011022764                 0.669   \n878500 2023-06-30  21:35:20  102900005115250                 0.125   \n878501 2023-06-30  21:35:21  102900011016701                 0.252   \n878502 2023-06-30  21:40:48  102900011022764                 0.803   \n\n        Unit Selling Price (RMB/kg) Sale or Return Discount (Yes/No)  \n0                               7.6           sale                No  \n1                               3.2           sale                No  \n2                               7.6           sale                No  \n3                              10.0           sale                No  \n4                               8.0           sale                No  \n...                             ...            ...               ...  \n878498                         24.0           sale                No  \n878499                         12.0           sale                No  \n878500                         24.0           sale                No  \n878501                          5.2           sale                No  \n878502                         12.0           sale                No  \n\n[878042 rows x 7 columns]",
      "text/html": "<div>\n<style scoped>\n    .dataframe tbody tr th:only-of-type {\n        vertical-align: middle;\n    }\n\n    .dataframe tbody tr th {\n        vertical-align: top;\n    }\n\n    .dataframe thead th {\n        text-align: right;\n    }\n</style>\n<table border=\"1\" class=\"dataframe\">\n  <thead>\n    <tr style=\"text-align: right;\">\n      <th></th>\n      <th>Date</th>\n      <th>Time</th>\n      <th>Item Code</th>\n      <th>Quantity Sold (kilo)</th>\n      <th>Unit Selling Price (RMB/kg)</th>\n      <th>Sale or Return</th>\n      <th>Discount (Yes/No)</th>\n    </tr>\n  </thead>\n  <tbody>\n    <tr>\n      <th>0</th>\n      <td>2020-07-01</td>\n      <td>09:15:07</td>\n      <td>102900005117056</td>\n      <td>0.396</td>\n      <td>7.6</td>\n      <td>sale</td>\n      <td>No</td>\n    </tr>\n    <tr>\n      <th>1</th>\n      <td>2020-07-01</td>\n      <td>09:17:27</td>\n      <td>102900005115960</td>\n      <td>0.849</td>\n      <td>3.2</td>\n      <td>sale</td>\n      <td>No</td>\n    </tr>\n    <tr>\n      <th>2</th>\n      <td>2020-07-01</td>\n      <td>09:17:33</td>\n      <td>102900005117056</td>\n      <td>0.409</td>\n      <td>7.6</td>\n      <td>sale</td>\n      <td>No</td>\n    </tr>\n    <tr>\n      <th>3</th>\n      <td>2020-07-01</td>\n      <td>09:19:45</td>\n      <td>102900005115823</td>\n      <td>0.421</td>\n      <td>10.0</td>\n      <td>sale</td>\n      <td>No</td>\n    </tr>\n    <tr>\n      <th>4</th>\n      <td>2020-07-01</td>\n      <td>09:20:23</td>\n      <td>102900005115908</td>\n      <td>0.539</td>\n      <td>8.0</td>\n      <td>sale</td>\n      <td>No</td>\n    </tr>\n    <tr>\n      <th>...</th>\n      <td>...</td>\n      <td>...</td>\n      <td>...</td>\n      <td>...</td>\n      <td>...</td>\n      <td>...</td>\n      <td>...</td>\n    </tr>\n    <tr>\n      <th>878498</th>\n      <td>2023-06-30</td>\n      <td>21:35:13</td>\n      <td>102900005115250</td>\n      <td>0.284</td>\n      <td>24.0</td>\n      <td>sale</td>\n      <td>No</td>\n    </tr>\n    <tr>\n      <th>878499</th>\n      <td>2023-06-30</td>\n      <td>21:35:14</td>\n      <td>102900011022764</td>\n      <td>0.669</td>\n      <td>12.0</td>\n      <td>sale</td>\n      <td>No</td>\n    </tr>\n    <tr>\n      <th>878500</th>\n      <td>2023-06-30</td>\n      <td>21:35:20</td>\n      <td>102900005115250</td>\n      <td>0.125</td>\n      <td>24.0</td>\n      <td>sale</td>\n      <td>No</td>\n    </tr>\n    <tr>\n      <th>878501</th>\n      <td>2023-06-30</td>\n      <td>21:35:21</td>\n      <td>102900011016701</td>\n      <td>0.252</td>\n      <td>5.2</td>\n      <td>sale</td>\n      <td>No</td>\n    </tr>\n    <tr>\n      <th>878502</th>\n      <td>2023-06-30</td>\n      <td>21:40:48</td>\n      <td>102900011022764</td>\n      <td>0.803</td>\n      <td>12.0</td>\n      <td>sale</td>\n      <td>No</td>\n    </tr>\n  </tbody>\n</table>\n<p>878042 rows × 7 columns</p>\n</div>"
     },
     "execution_count": 85,
     "metadata": {},
     "output_type": "execute_result"
    }
   ],
   "source": [
    "#Removing all negative values in quantity sold(kilo)\n",
    "ds = ds[ds['Quantity Sold (kilo)'] >= 0]\n",
    "ds"
   ],
   "metadata": {
    "collapsed": false,
    "ExecuteTime": {
     "end_time": "2023-12-04T05:12:48.240885800Z",
     "start_time": "2023-12-04T05:12:48.095583700Z"
    }
   },
   "id": "ab56bea8b55bacba"
  },
  {
   "cell_type": "code",
   "execution_count": 85,
   "outputs": [],
   "source": [],
   "metadata": {
    "collapsed": false,
    "ExecuteTime": {
     "end_time": "2023-12-04T05:12:48.240885800Z",
     "start_time": "2023-12-04T05:12:48.153520200Z"
    }
   },
   "id": "8eb7fe4ab357d017"
  },
  {
   "cell_type": "code",
   "execution_count": 85,
   "outputs": [],
   "source": [],
   "metadata": {
    "collapsed": false,
    "ExecuteTime": {
     "end_time": "2023-12-04T05:12:48.240885800Z",
     "start_time": "2023-12-04T05:12:48.156515200Z"
    }
   },
   "id": "a4291d908b59c5a6"
  }
 ],
 "metadata": {
  "kernelspec": {
   "display_name": "Python 3",
   "language": "python",
   "name": "python3"
  },
  "language_info": {
   "codemirror_mode": {
    "name": "ipython",
    "version": 2
   },
   "file_extension": ".py",
   "mimetype": "text/x-python",
   "name": "python",
   "nbconvert_exporter": "python",
   "pygments_lexer": "ipython2",
   "version": "2.7.6"
  }
 },
 "nbformat": 4,
 "nbformat_minor": 5
}
