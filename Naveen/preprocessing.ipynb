{
 "cells": [
  {
   "cell_type": "code",
   "execution_count": 16,
   "id": "initial_id",
   "metadata": {
    "collapsed": true,
    "ExecuteTime": {
     "end_time": "2024-01-20T15:47:47.055995100Z",
     "start_time": "2024-01-20T15:47:47.001324800Z"
    }
   },
   "outputs": [],
   "source": [
    "import pandas as pd"
   ]
  },
  {
   "cell_type": "code",
   "execution_count": 17,
   "outputs": [
    {
     "data": {
      "text/plain": "           Item Name Category Name        Date          Time        Item Code  \\\n0  green hot peppers      capsicum  2021-01-01  09:14:26.212  102900005116226   \n1  green hot peppers      capsicum  2021-01-01  09:14:26.324  102900005116226   \n2    yunnan lettuces        flower  2021-01-01  09:16:20.074  102900005115984   \n3    xixia mushroom       mushroom  2021-01-01  09:18:49.451  102900005116530   \n4        paopaojiao       capsicum  2021-01-01  09:19:14.842  102900005117056   \n\n   Quantity Sold (kilo)  Unit Selling Price (RMB/kg) Sale or Return  \\\n0                 1.132                         25.8           sale   \n1                 0.593                         25.8           sale   \n2                 0.468                          6.0           sale   \n3                 0.389                         18.0           sale   \n4                 0.606                         18.0           sale   \n\n  Discount (Yes/No)  \n0                No  \n1                No  \n2                No  \n3                No  \n4                No  ",
      "text/html": "<div>\n<style scoped>\n    .dataframe tbody tr th:only-of-type {\n        vertical-align: middle;\n    }\n\n    .dataframe tbody tr th {\n        vertical-align: top;\n    }\n\n    .dataframe thead th {\n        text-align: right;\n    }\n</style>\n<table border=\"1\" class=\"dataframe\">\n  <thead>\n    <tr style=\"text-align: right;\">\n      <th></th>\n      <th>Item Name</th>\n      <th>Category Name</th>\n      <th>Date</th>\n      <th>Time</th>\n      <th>Item Code</th>\n      <th>Quantity Sold (kilo)</th>\n      <th>Unit Selling Price (RMB/kg)</th>\n      <th>Sale or Return</th>\n      <th>Discount (Yes/No)</th>\n    </tr>\n  </thead>\n  <tbody>\n    <tr>\n      <th>0</th>\n      <td>green hot peppers</td>\n      <td>capsicum</td>\n      <td>2021-01-01</td>\n      <td>09:14:26.212</td>\n      <td>102900005116226</td>\n      <td>1.132</td>\n      <td>25.8</td>\n      <td>sale</td>\n      <td>No</td>\n    </tr>\n    <tr>\n      <th>1</th>\n      <td>green hot peppers</td>\n      <td>capsicum</td>\n      <td>2021-01-01</td>\n      <td>09:14:26.324</td>\n      <td>102900005116226</td>\n      <td>0.593</td>\n      <td>25.8</td>\n      <td>sale</td>\n      <td>No</td>\n    </tr>\n    <tr>\n      <th>2</th>\n      <td>yunnan lettuces</td>\n      <td>flower</td>\n      <td>2021-01-01</td>\n      <td>09:16:20.074</td>\n      <td>102900005115984</td>\n      <td>0.468</td>\n      <td>6.0</td>\n      <td>sale</td>\n      <td>No</td>\n    </tr>\n    <tr>\n      <th>3</th>\n      <td>xixia mushroom</td>\n      <td>mushroom</td>\n      <td>2021-01-01</td>\n      <td>09:18:49.451</td>\n      <td>102900005116530</td>\n      <td>0.389</td>\n      <td>18.0</td>\n      <td>sale</td>\n      <td>No</td>\n    </tr>\n    <tr>\n      <th>4</th>\n      <td>paopaojiao</td>\n      <td>capsicum</td>\n      <td>2021-01-01</td>\n      <td>09:19:14.842</td>\n      <td>102900005117056</td>\n      <td>0.606</td>\n      <td>18.0</td>\n      <td>sale</td>\n      <td>No</td>\n    </tr>\n  </tbody>\n</table>\n</div>"
     },
     "execution_count": 17,
     "metadata": {},
     "output_type": "execute_result"
    }
   ],
   "source": [
    "ds = pd.read_csv('../../datasets/built_dataset.csv')\n",
    "ds.head()"
   ],
   "metadata": {
    "collapsed": false,
    "ExecuteTime": {
     "end_time": "2024-01-20T15:47:47.512737800Z",
     "start_time": "2024-01-20T15:47:47.007457300Z"
    }
   },
   "id": "42caa4459b2f1a35"
  },
  {
   "cell_type": "code",
   "execution_count": 37,
   "outputs": [
    {
     "data": {
      "text/plain": "           Item Name Category Name       Date   Time        Item Code  \\\n0  green hot peppers      capsicum 2021-01-01  09:14  102900005116226   \n1  green hot peppers      capsicum 2021-01-01  09:14  102900005116226   \n2    yunnan lettuces        flower 2021-01-01  09:16  102900005115984   \n3    xixia mushroom       mushroom 2021-01-01  09:18  102900005116530   \n4        paopaojiao       capsicum 2021-01-01  09:19  102900005117056   \n5    red hang pepper      capsicum 2021-01-01  09:30  102900005116943   \n6    xixia mushroom       mushroom 2021-01-01  09:32  102900005116530   \n7        paopaojiao       capsicum 2021-01-01  09:32  102900005117056   \n8        paopaojiao       capsicum 2021-01-01  09:33  102900005117056   \n9       luosi pepper      capsicum 2021-01-01  09:33  102900011000328   \n\n   Quantity Sold (kilo) Sale or Return  \n0                 1.132           sale  \n1                 0.593           sale  \n2                 0.468           sale  \n3                 0.389           sale  \n4                 0.606           sale  \n5                 0.171           sale  \n6                 0.161           sale  \n7                 0.350           sale  \n8                 0.300           sale  \n9                 0.411           sale  ",
      "text/html": "<div>\n<style scoped>\n    .dataframe tbody tr th:only-of-type {\n        vertical-align: middle;\n    }\n\n    .dataframe tbody tr th {\n        vertical-align: top;\n    }\n\n    .dataframe thead th {\n        text-align: right;\n    }\n</style>\n<table border=\"1\" class=\"dataframe\">\n  <thead>\n    <tr style=\"text-align: right;\">\n      <th></th>\n      <th>Item Name</th>\n      <th>Category Name</th>\n      <th>Date</th>\n      <th>Time</th>\n      <th>Item Code</th>\n      <th>Quantity Sold (kilo)</th>\n      <th>Sale or Return</th>\n    </tr>\n  </thead>\n  <tbody>\n    <tr>\n      <th>0</th>\n      <td>green hot peppers</td>\n      <td>capsicum</td>\n      <td>2021-01-01</td>\n      <td>09:14</td>\n      <td>102900005116226</td>\n      <td>1.132</td>\n      <td>sale</td>\n    </tr>\n    <tr>\n      <th>1</th>\n      <td>green hot peppers</td>\n      <td>capsicum</td>\n      <td>2021-01-01</td>\n      <td>09:14</td>\n      <td>102900005116226</td>\n      <td>0.593</td>\n      <td>sale</td>\n    </tr>\n    <tr>\n      <th>2</th>\n      <td>yunnan lettuces</td>\n      <td>flower</td>\n      <td>2021-01-01</td>\n      <td>09:16</td>\n      <td>102900005115984</td>\n      <td>0.468</td>\n      <td>sale</td>\n    </tr>\n    <tr>\n      <th>3</th>\n      <td>xixia mushroom</td>\n      <td>mushroom</td>\n      <td>2021-01-01</td>\n      <td>09:18</td>\n      <td>102900005116530</td>\n      <td>0.389</td>\n      <td>sale</td>\n    </tr>\n    <tr>\n      <th>4</th>\n      <td>paopaojiao</td>\n      <td>capsicum</td>\n      <td>2021-01-01</td>\n      <td>09:19</td>\n      <td>102900005117056</td>\n      <td>0.606</td>\n      <td>sale</td>\n    </tr>\n    <tr>\n      <th>5</th>\n      <td>red hang pepper</td>\n      <td>capsicum</td>\n      <td>2021-01-01</td>\n      <td>09:30</td>\n      <td>102900005116943</td>\n      <td>0.171</td>\n      <td>sale</td>\n    </tr>\n    <tr>\n      <th>6</th>\n      <td>xixia mushroom</td>\n      <td>mushroom</td>\n      <td>2021-01-01</td>\n      <td>09:32</td>\n      <td>102900005116530</td>\n      <td>0.161</td>\n      <td>sale</td>\n    </tr>\n    <tr>\n      <th>7</th>\n      <td>paopaojiao</td>\n      <td>capsicum</td>\n      <td>2021-01-01</td>\n      <td>09:32</td>\n      <td>102900005117056</td>\n      <td>0.350</td>\n      <td>sale</td>\n    </tr>\n    <tr>\n      <th>8</th>\n      <td>paopaojiao</td>\n      <td>capsicum</td>\n      <td>2021-01-01</td>\n      <td>09:33</td>\n      <td>102900005117056</td>\n      <td>0.300</td>\n      <td>sale</td>\n    </tr>\n    <tr>\n      <th>9</th>\n      <td>luosi pepper</td>\n      <td>capsicum</td>\n      <td>2021-01-01</td>\n      <td>09:33</td>\n      <td>102900011000328</td>\n      <td>0.411</td>\n      <td>sale</td>\n    </tr>\n  </tbody>\n</table>\n</div>"
     },
     "execution_count": 37,
     "metadata": {},
     "output_type": "execute_result"
    }
   ],
   "source": [
    "# Remove the unnecessary columns \n",
    "df = ds.drop(columns=['Unit Selling Price (RMB/kg)','Discount (Yes/No)'])\n",
    "df.head(10)\n"
   ],
   "metadata": {
    "collapsed": false,
    "ExecuteTime": {
     "end_time": "2024-01-21T05:44:45.235075300Z",
     "start_time": "2024-01-21T05:44:45.212838100Z"
    }
   },
   "id": "3e5ed61d9ce32987"
  },
  {
   "cell_type": "code",
   "execution_count": 38,
   "outputs": [
    {
     "data": {
      "text/plain": "Item Name               0\nCategory Name           0\nDate                    0\nTime                    0\nItem Code               0\nQuantity Sold (kilo)    0\nSale or Return          0\ndtype: int64"
     },
     "execution_count": 38,
     "metadata": {},
     "output_type": "execute_result"
    }
   ],
   "source": [
    "#Checking the sum of missing value for each column\n",
    "df.isnull().sum()"
   ],
   "metadata": {
    "collapsed": false,
    "ExecuteTime": {
     "end_time": "2024-01-21T05:45:08.708507700Z",
     "start_time": "2024-01-21T05:45:08.653914800Z"
    }
   },
   "id": "a03a58b5a21fd7ff"
  },
  {
   "cell_type": "code",
   "execution_count": 39,
   "outputs": [
    {
     "data": {
      "text/plain": "0         False\n1         False\n2         False\n3         False\n4         False\n          ...  \n475423    False\n475424    False\n475425    False\n475426    False\n475427    False\nLength: 475428, dtype: bool"
     },
     "execution_count": 39,
     "metadata": {},
     "output_type": "execute_result"
    }
   ],
   "source": [
    "# Check the duplicate data \n",
    "df.duplicated()"
   ],
   "metadata": {
    "collapsed": false,
    "ExecuteTime": {
     "end_time": "2024-01-21T05:45:20.246031Z",
     "start_time": "2024-01-21T05:45:20.129495900Z"
    }
   },
   "id": "3955a457d1744fc2"
  },
  {
   "cell_type": "code",
   "execution_count": 52,
   "outputs": [
    {
     "data": {
      "text/plain": "            Item Name Category Name       Date Time        Item Code  \\\n0   green hot peppers      capsicum 2021-01-01   09  102900005116226   \n1   green hot peppers      capsicum 2021-01-01   09  102900005116226   \n2     yunnan lettuces        flower 2021-01-01   09  102900005115984   \n3     xixia mushroom       mushroom 2021-01-01   09  102900005116530   \n4         paopaojiao       capsicum 2021-01-01   09  102900005117056   \n..                ...           ...        ...  ...              ...   \n95     niushou youcai        flower 2021-01-01   10  102900005115861   \n96    xixia mushroom       mushroom 2021-01-01   10  102900005116530   \n97  zhijiang red bolt        flower 2021-01-01   10  102900005122654   \n98        paopaojiao       capsicum 2021-01-01   10  102900005117056   \n99    net lotus root        aquatic 2021-01-01   10  102900005116899   \n\n    Quantity Sold (kilo) Sale or Return  \n0                  1.132           sale  \n1                  0.593           sale  \n2                  0.468           sale  \n3                  0.389           sale  \n4                  0.606           sale  \n..                   ...            ...  \n95                 0.388           sale  \n96                 0.223           sale  \n97                 0.473           sale  \n98                 0.389           sale  \n99                 0.573           sale  \n\n[100 rows x 7 columns]",
      "text/html": "<div>\n<style scoped>\n    .dataframe tbody tr th:only-of-type {\n        vertical-align: middle;\n    }\n\n    .dataframe tbody tr th {\n        vertical-align: top;\n    }\n\n    .dataframe thead th {\n        text-align: right;\n    }\n</style>\n<table border=\"1\" class=\"dataframe\">\n  <thead>\n    <tr style=\"text-align: right;\">\n      <th></th>\n      <th>Item Name</th>\n      <th>Category Name</th>\n      <th>Date</th>\n      <th>Time</th>\n      <th>Item Code</th>\n      <th>Quantity Sold (kilo)</th>\n      <th>Sale or Return</th>\n    </tr>\n  </thead>\n  <tbody>\n    <tr>\n      <th>0</th>\n      <td>green hot peppers</td>\n      <td>capsicum</td>\n      <td>2021-01-01</td>\n      <td>09</td>\n      <td>102900005116226</td>\n      <td>1.132</td>\n      <td>sale</td>\n    </tr>\n    <tr>\n      <th>1</th>\n      <td>green hot peppers</td>\n      <td>capsicum</td>\n      <td>2021-01-01</td>\n      <td>09</td>\n      <td>102900005116226</td>\n      <td>0.593</td>\n      <td>sale</td>\n    </tr>\n    <tr>\n      <th>2</th>\n      <td>yunnan lettuces</td>\n      <td>flower</td>\n      <td>2021-01-01</td>\n      <td>09</td>\n      <td>102900005115984</td>\n      <td>0.468</td>\n      <td>sale</td>\n    </tr>\n    <tr>\n      <th>3</th>\n      <td>xixia mushroom</td>\n      <td>mushroom</td>\n      <td>2021-01-01</td>\n      <td>09</td>\n      <td>102900005116530</td>\n      <td>0.389</td>\n      <td>sale</td>\n    </tr>\n    <tr>\n      <th>4</th>\n      <td>paopaojiao</td>\n      <td>capsicum</td>\n      <td>2021-01-01</td>\n      <td>09</td>\n      <td>102900005117056</td>\n      <td>0.606</td>\n      <td>sale</td>\n    </tr>\n    <tr>\n      <th>...</th>\n      <td>...</td>\n      <td>...</td>\n      <td>...</td>\n      <td>...</td>\n      <td>...</td>\n      <td>...</td>\n      <td>...</td>\n    </tr>\n    <tr>\n      <th>95</th>\n      <td>niushou youcai</td>\n      <td>flower</td>\n      <td>2021-01-01</td>\n      <td>10</td>\n      <td>102900005115861</td>\n      <td>0.388</td>\n      <td>sale</td>\n    </tr>\n    <tr>\n      <th>96</th>\n      <td>xixia mushroom</td>\n      <td>mushroom</td>\n      <td>2021-01-01</td>\n      <td>10</td>\n      <td>102900005116530</td>\n      <td>0.223</td>\n      <td>sale</td>\n    </tr>\n    <tr>\n      <th>97</th>\n      <td>zhijiang red bolt</td>\n      <td>flower</td>\n      <td>2021-01-01</td>\n      <td>10</td>\n      <td>102900005122654</td>\n      <td>0.473</td>\n      <td>sale</td>\n    </tr>\n    <tr>\n      <th>98</th>\n      <td>paopaojiao</td>\n      <td>capsicum</td>\n      <td>2021-01-01</td>\n      <td>10</td>\n      <td>102900005117056</td>\n      <td>0.389</td>\n      <td>sale</td>\n    </tr>\n    <tr>\n      <th>99</th>\n      <td>net lotus root</td>\n      <td>aquatic</td>\n      <td>2021-01-01</td>\n      <td>10</td>\n      <td>102900005116899</td>\n      <td>0.573</td>\n      <td>sale</td>\n    </tr>\n  </tbody>\n</table>\n<p>100 rows × 7 columns</p>\n</div>"
     },
     "execution_count": 52,
     "metadata": {},
     "output_type": "execute_result"
    }
   ],
   "source": [
    "# Remove the minutes,seconds and milliseconds in time \n",
    "df['Time'] = df['Time'].apply(lambda x: x.split(':')[0])\n",
    "df.head(100)"
   ],
   "metadata": {
    "collapsed": false,
    "ExecuteTime": {
     "end_time": "2024-01-21T05:53:42.522943700Z",
     "start_time": "2024-01-21T05:53:42.439961100Z"
    }
   },
   "id": "52a1a02a646e9559"
  },
  {
   "cell_type": "code",
   "execution_count": 41,
   "outputs": [
    {
     "data": {
      "text/plain": "Category Name\nflower      203383\ncapsicum    131143\nmushroom     60398\naquatic      37928\nsolanum      26788\ncabbage      15788\nName: count, dtype: int64"
     },
     "execution_count": 41,
     "metadata": {},
     "output_type": "execute_result"
    }
   ],
   "source": [
    "# Check the values of each category name\n",
    "df['Category Name'].value_counts()"
   ],
   "metadata": {
    "collapsed": false,
    "ExecuteTime": {
     "end_time": "2024-01-21T05:45:56.092625400Z",
     "start_time": "2024-01-21T05:45:56.060936900Z"
    }
   },
   "id": "77295c37112421e3"
  },
  {
   "cell_type": "code",
   "execution_count": 45,
   "outputs": [
    {
     "data": {
      "text/plain": "(Timestamp('2021-01-01 00:00:00'), Timestamp('2022-12-31 00:00:00'))"
     },
     "execution_count": 45,
     "metadata": {},
     "output_type": "execute_result"
    }
   ],
   "source": [
    "# Check the year range \n",
    "df['Date'].min(),df['Date'].max()"
   ],
   "metadata": {
    "collapsed": false,
    "ExecuteTime": {
     "end_time": "2024-01-21T05:46:47.235291Z",
     "start_time": "2024-01-21T05:46:47.217368100Z"
    }
   },
   "id": "d8baa1df41d1a6b5"
  },
  {
   "cell_type": "code",
   "execution_count": 60,
   "outputs": [
    {
     "data": {
      "text/plain": "                Item Name Category Name       Date Time        Item Code  \\\n0       green hot peppers      capsicum 2021-01-01   09  102900005116226   \n1       green hot peppers      capsicum 2021-01-01   09  102900005116226   \n2         yunnan lettuces        flower 2021-01-01   09  102900005115984   \n3         xixia mushroom       mushroom 2021-01-01   09  102900005116530   \n4             paopaojiao       capsicum 2021-01-01   09  102900005117056   \n...                   ...           ...        ...  ...              ...   \n475423      luosi pepper       capsicum 2022-12-31   21  102900011032251   \n475424            wawacai        flower 2022-12-31   21  102900005118831   \n475425    yunnan lettuce         flower 2022-12-31   21  102900011030059   \n475426            wawacai        flower 2022-12-31   21  102900005118831   \n475427     yellow baicai         flower 2022-12-31   21  102900011035771   \n\n        Quantity Sold (kilo) Sale or Return  \n0                      1.132           sale  \n1                      0.593           sale  \n2                      0.468           sale  \n3                      0.389           sale  \n4                      0.606           sale  \n...                      ...            ...  \n475423                 1.000           sale  \n475424                 1.000           sale  \n475425                 1.000           sale  \n475426                 1.000           sale  \n475427                 0.306           sale  \n\n[475174 rows x 7 columns]",
      "text/html": "<div>\n<style scoped>\n    .dataframe tbody tr th:only-of-type {\n        vertical-align: middle;\n    }\n\n    .dataframe tbody tr th {\n        vertical-align: top;\n    }\n\n    .dataframe thead th {\n        text-align: right;\n    }\n</style>\n<table border=\"1\" class=\"dataframe\">\n  <thead>\n    <tr style=\"text-align: right;\">\n      <th></th>\n      <th>Item Name</th>\n      <th>Category Name</th>\n      <th>Date</th>\n      <th>Time</th>\n      <th>Item Code</th>\n      <th>Quantity Sold (kilo)</th>\n      <th>Sale or Return</th>\n    </tr>\n  </thead>\n  <tbody>\n    <tr>\n      <th>0</th>\n      <td>green hot peppers</td>\n      <td>capsicum</td>\n      <td>2021-01-01</td>\n      <td>09</td>\n      <td>102900005116226</td>\n      <td>1.132</td>\n      <td>sale</td>\n    </tr>\n    <tr>\n      <th>1</th>\n      <td>green hot peppers</td>\n      <td>capsicum</td>\n      <td>2021-01-01</td>\n      <td>09</td>\n      <td>102900005116226</td>\n      <td>0.593</td>\n      <td>sale</td>\n    </tr>\n    <tr>\n      <th>2</th>\n      <td>yunnan lettuces</td>\n      <td>flower</td>\n      <td>2021-01-01</td>\n      <td>09</td>\n      <td>102900005115984</td>\n      <td>0.468</td>\n      <td>sale</td>\n    </tr>\n    <tr>\n      <th>3</th>\n      <td>xixia mushroom</td>\n      <td>mushroom</td>\n      <td>2021-01-01</td>\n      <td>09</td>\n      <td>102900005116530</td>\n      <td>0.389</td>\n      <td>sale</td>\n    </tr>\n    <tr>\n      <th>4</th>\n      <td>paopaojiao</td>\n      <td>capsicum</td>\n      <td>2021-01-01</td>\n      <td>09</td>\n      <td>102900005117056</td>\n      <td>0.606</td>\n      <td>sale</td>\n    </tr>\n    <tr>\n      <th>...</th>\n      <td>...</td>\n      <td>...</td>\n      <td>...</td>\n      <td>...</td>\n      <td>...</td>\n      <td>...</td>\n      <td>...</td>\n    </tr>\n    <tr>\n      <th>475423</th>\n      <td>luosi pepper</td>\n      <td>capsicum</td>\n      <td>2022-12-31</td>\n      <td>21</td>\n      <td>102900011032251</td>\n      <td>1.000</td>\n      <td>sale</td>\n    </tr>\n    <tr>\n      <th>475424</th>\n      <td>wawacai</td>\n      <td>flower</td>\n      <td>2022-12-31</td>\n      <td>21</td>\n      <td>102900005118831</td>\n      <td>1.000</td>\n      <td>sale</td>\n    </tr>\n    <tr>\n      <th>475425</th>\n      <td>yunnan lettuce</td>\n      <td>flower</td>\n      <td>2022-12-31</td>\n      <td>21</td>\n      <td>102900011030059</td>\n      <td>1.000</td>\n      <td>sale</td>\n    </tr>\n    <tr>\n      <th>475426</th>\n      <td>wawacai</td>\n      <td>flower</td>\n      <td>2022-12-31</td>\n      <td>21</td>\n      <td>102900005118831</td>\n      <td>1.000</td>\n      <td>sale</td>\n    </tr>\n    <tr>\n      <th>475427</th>\n      <td>yellow baicai</td>\n      <td>flower</td>\n      <td>2022-12-31</td>\n      <td>21</td>\n      <td>102900011035771</td>\n      <td>0.306</td>\n      <td>sale</td>\n    </tr>\n  </tbody>\n</table>\n<p>475174 rows × 7 columns</p>\n</div>"
     },
     "execution_count": 60,
     "metadata": {},
     "output_type": "execute_result"
    }
   ],
   "source": [
    "# Remove all the return values \n",
    "df = df[df['Sale or Return'] != 'return']\n",
    "df"
   ],
   "metadata": {
    "collapsed": false,
    "ExecuteTime": {
     "end_time": "2024-01-21T05:58:45.192105400Z",
     "start_time": "2024-01-21T05:58:45.133306800Z"
    }
   },
   "id": "c8e1f2cea9d3667b"
  },
  {
   "cell_type": "code",
   "execution_count": 63,
   "outputs": [
    {
     "data": {
      "text/plain": "Empty DataFrame\nColumns: [Item Name, Category Name, Date, Time, Item Code, Quantity Sold (kilo), Sale or Return]\nIndex: []",
      "text/html": "<div>\n<style scoped>\n    .dataframe tbody tr th:only-of-type {\n        vertical-align: middle;\n    }\n\n    .dataframe tbody tr th {\n        vertical-align: top;\n    }\n\n    .dataframe thead th {\n        text-align: right;\n    }\n</style>\n<table border=\"1\" class=\"dataframe\">\n  <thead>\n    <tr style=\"text-align: right;\">\n      <th></th>\n      <th>Item Name</th>\n      <th>Category Name</th>\n      <th>Date</th>\n      <th>Time</th>\n      <th>Item Code</th>\n      <th>Quantity Sold (kilo)</th>\n      <th>Sale or Return</th>\n    </tr>\n  </thead>\n  <tbody>\n  </tbody>\n</table>\n</div>"
     },
     "execution_count": 63,
     "metadata": {},
     "output_type": "execute_result"
    }
   ],
   "source": [
    "# prove that there is no return values\n",
    "return_rows = df[df['Sale or Return'] == 'Return']\n",
    "return_rows"
   ],
   "metadata": {
    "collapsed": false,
    "ExecuteTime": {
     "end_time": "2024-01-21T06:03:15.429439Z",
     "start_time": "2024-01-21T06:03:15.404891900Z"
    }
   },
   "id": "89c93d9f7b7a7efe"
  },
  {
   "cell_type": "code",
   "execution_count": 71,
   "outputs": [
    {
     "data": {
      "text/plain": "           Item Name Category Name       Date Time        Item Code  \\\n0  green hot peppers      capsicum 2021-01-01   09  102900005116226   \n1  green hot peppers      capsicum 2021-01-01   09  102900005116226   \n2    yunnan lettuces        flower 2021-01-01   09  102900005115984   \n3    xixia mushroom       mushroom 2021-01-01   09  102900005116530   \n4        paopaojiao       capsicum 2021-01-01   09  102900005117056   \n5    red hang pepper      capsicum 2021-01-01   09  102900005116943   \n6    xixia mushroom       mushroom 2021-01-01   09  102900005116530   \n7        paopaojiao       capsicum 2021-01-01   09  102900005117056   \n8        paopaojiao       capsicum 2021-01-01   09  102900005117056   \n9       luosi pepper      capsicum 2021-01-01   09  102900011000328   \n\n   Quantity Sold (kilo) Sales  \n0                 1.132  sale  \n1                 0.593  sale  \n2                 0.468  sale  \n3                 0.389  sale  \n4                 0.606  sale  \n5                 0.171  sale  \n6                 0.161  sale  \n7                 0.350  sale  \n8                 0.300  sale  \n9                 0.411  sale  ",
      "text/html": "<div>\n<style scoped>\n    .dataframe tbody tr th:only-of-type {\n        vertical-align: middle;\n    }\n\n    .dataframe tbody tr th {\n        vertical-align: top;\n    }\n\n    .dataframe thead th {\n        text-align: right;\n    }\n</style>\n<table border=\"1\" class=\"dataframe\">\n  <thead>\n    <tr style=\"text-align: right;\">\n      <th></th>\n      <th>Item Name</th>\n      <th>Category Name</th>\n      <th>Date</th>\n      <th>Time</th>\n      <th>Item Code</th>\n      <th>Quantity Sold (kilo)</th>\n      <th>Sales</th>\n    </tr>\n  </thead>\n  <tbody>\n    <tr>\n      <th>0</th>\n      <td>green hot peppers</td>\n      <td>capsicum</td>\n      <td>2021-01-01</td>\n      <td>09</td>\n      <td>102900005116226</td>\n      <td>1.132</td>\n      <td>sale</td>\n    </tr>\n    <tr>\n      <th>1</th>\n      <td>green hot peppers</td>\n      <td>capsicum</td>\n      <td>2021-01-01</td>\n      <td>09</td>\n      <td>102900005116226</td>\n      <td>0.593</td>\n      <td>sale</td>\n    </tr>\n    <tr>\n      <th>2</th>\n      <td>yunnan lettuces</td>\n      <td>flower</td>\n      <td>2021-01-01</td>\n      <td>09</td>\n      <td>102900005115984</td>\n      <td>0.468</td>\n      <td>sale</td>\n    </tr>\n    <tr>\n      <th>3</th>\n      <td>xixia mushroom</td>\n      <td>mushroom</td>\n      <td>2021-01-01</td>\n      <td>09</td>\n      <td>102900005116530</td>\n      <td>0.389</td>\n      <td>sale</td>\n    </tr>\n    <tr>\n      <th>4</th>\n      <td>paopaojiao</td>\n      <td>capsicum</td>\n      <td>2021-01-01</td>\n      <td>09</td>\n      <td>102900005117056</td>\n      <td>0.606</td>\n      <td>sale</td>\n    </tr>\n    <tr>\n      <th>5</th>\n      <td>red hang pepper</td>\n      <td>capsicum</td>\n      <td>2021-01-01</td>\n      <td>09</td>\n      <td>102900005116943</td>\n      <td>0.171</td>\n      <td>sale</td>\n    </tr>\n    <tr>\n      <th>6</th>\n      <td>xixia mushroom</td>\n      <td>mushroom</td>\n      <td>2021-01-01</td>\n      <td>09</td>\n      <td>102900005116530</td>\n      <td>0.161</td>\n      <td>sale</td>\n    </tr>\n    <tr>\n      <th>7</th>\n      <td>paopaojiao</td>\n      <td>capsicum</td>\n      <td>2021-01-01</td>\n      <td>09</td>\n      <td>102900005117056</td>\n      <td>0.350</td>\n      <td>sale</td>\n    </tr>\n    <tr>\n      <th>8</th>\n      <td>paopaojiao</td>\n      <td>capsicum</td>\n      <td>2021-01-01</td>\n      <td>09</td>\n      <td>102900005117056</td>\n      <td>0.300</td>\n      <td>sale</td>\n    </tr>\n    <tr>\n      <th>9</th>\n      <td>luosi pepper</td>\n      <td>capsicum</td>\n      <td>2021-01-01</td>\n      <td>09</td>\n      <td>102900011000328</td>\n      <td>0.411</td>\n      <td>sale</td>\n    </tr>\n  </tbody>\n</table>\n</div>"
     },
     "execution_count": 71,
     "metadata": {},
     "output_type": "execute_result"
    }
   ],
   "source": [
    "# Rename sale or return column name to Sales\n",
    "df.rename(columns={'Sale or Return': 'Sales'}, inplace=True)\n",
    "df.head(10)"
   ],
   "metadata": {
    "collapsed": false,
    "ExecuteTime": {
     "end_time": "2024-01-21T06:13:15.339011200Z",
     "start_time": "2024-01-21T06:13:15.336999400Z"
    }
   },
   "id": "7417c3ff3e30e7fc"
  },
  {
   "cell_type": "code",
   "execution_count": 65,
   "outputs": [
    {
     "data": {
      "text/plain": "                   Item Name Category Name       Date Time        Item Code  \\\n0          green hot peppers      capsicum 2021-01-01   09  102900005116226   \n1          green hot peppers      capsicum 2021-01-01   09  102900005116226   \n2            yunnan lettuces        flower 2021-01-01   09  102900005115984   \n3            xixia mushroom       mushroom 2021-01-01   09  102900005116530   \n4                paopaojiao       capsicum 2021-01-01   09  102900005117056   \n...                      ...           ...        ...  ...              ...   \n262579          luosi pepper      capsicum 2021-12-31   21  102900011000328   \n262580       xixia mushroom       mushroom 2021-12-31   21  102900005116530   \n262581        millet pepper       capsicum 2021-12-31   21  102900011031100   \n262582        millet pepper       capsicum 2021-12-31   21  102900011031100   \n262583  yunnan leaf lettuce         flower 2021-12-31   22  102900011030097   \n\n        Quantity Sold (kilo) Sales  \n0                      1.132  sale  \n1                      0.593  sale  \n2                      0.468  sale  \n3                      0.389  sale  \n4                      0.606  sale  \n...                      ...   ...  \n262579                 0.192  sale  \n262580                 0.244  sale  \n262581                 1.000  sale  \n262582                 1.000  sale  \n262583                 1.000  sale  \n\n[262435 rows x 7 columns]",
      "text/html": "<div>\n<style scoped>\n    .dataframe tbody tr th:only-of-type {\n        vertical-align: middle;\n    }\n\n    .dataframe tbody tr th {\n        vertical-align: top;\n    }\n\n    .dataframe thead th {\n        text-align: right;\n    }\n</style>\n<table border=\"1\" class=\"dataframe\">\n  <thead>\n    <tr style=\"text-align: right;\">\n      <th></th>\n      <th>Item Name</th>\n      <th>Category Name</th>\n      <th>Date</th>\n      <th>Time</th>\n      <th>Item Code</th>\n      <th>Quantity Sold (kilo)</th>\n      <th>Sales</th>\n    </tr>\n  </thead>\n  <tbody>\n    <tr>\n      <th>0</th>\n      <td>green hot peppers</td>\n      <td>capsicum</td>\n      <td>2021-01-01</td>\n      <td>09</td>\n      <td>102900005116226</td>\n      <td>1.132</td>\n      <td>sale</td>\n    </tr>\n    <tr>\n      <th>1</th>\n      <td>green hot peppers</td>\n      <td>capsicum</td>\n      <td>2021-01-01</td>\n      <td>09</td>\n      <td>102900005116226</td>\n      <td>0.593</td>\n      <td>sale</td>\n    </tr>\n    <tr>\n      <th>2</th>\n      <td>yunnan lettuces</td>\n      <td>flower</td>\n      <td>2021-01-01</td>\n      <td>09</td>\n      <td>102900005115984</td>\n      <td>0.468</td>\n      <td>sale</td>\n    </tr>\n    <tr>\n      <th>3</th>\n      <td>xixia mushroom</td>\n      <td>mushroom</td>\n      <td>2021-01-01</td>\n      <td>09</td>\n      <td>102900005116530</td>\n      <td>0.389</td>\n      <td>sale</td>\n    </tr>\n    <tr>\n      <th>4</th>\n      <td>paopaojiao</td>\n      <td>capsicum</td>\n      <td>2021-01-01</td>\n      <td>09</td>\n      <td>102900005117056</td>\n      <td>0.606</td>\n      <td>sale</td>\n    </tr>\n    <tr>\n      <th>...</th>\n      <td>...</td>\n      <td>...</td>\n      <td>...</td>\n      <td>...</td>\n      <td>...</td>\n      <td>...</td>\n      <td>...</td>\n    </tr>\n    <tr>\n      <th>262579</th>\n      <td>luosi pepper</td>\n      <td>capsicum</td>\n      <td>2021-12-31</td>\n      <td>21</td>\n      <td>102900011000328</td>\n      <td>0.192</td>\n      <td>sale</td>\n    </tr>\n    <tr>\n      <th>262580</th>\n      <td>xixia mushroom</td>\n      <td>mushroom</td>\n      <td>2021-12-31</td>\n      <td>21</td>\n      <td>102900005116530</td>\n      <td>0.244</td>\n      <td>sale</td>\n    </tr>\n    <tr>\n      <th>262581</th>\n      <td>millet pepper</td>\n      <td>capsicum</td>\n      <td>2021-12-31</td>\n      <td>21</td>\n      <td>102900011031100</td>\n      <td>1.000</td>\n      <td>sale</td>\n    </tr>\n    <tr>\n      <th>262582</th>\n      <td>millet pepper</td>\n      <td>capsicum</td>\n      <td>2021-12-31</td>\n      <td>21</td>\n      <td>102900011031100</td>\n      <td>1.000</td>\n      <td>sale</td>\n    </tr>\n    <tr>\n      <th>262583</th>\n      <td>yunnan leaf lettuce</td>\n      <td>flower</td>\n      <td>2021-12-31</td>\n      <td>22</td>\n      <td>102900011030097</td>\n      <td>1.000</td>\n      <td>sale</td>\n    </tr>\n  </tbody>\n</table>\n<p>262435 rows × 7 columns</p>\n</div>"
     },
     "execution_count": 65,
     "metadata": {},
     "output_type": "execute_result"
    }
   ],
   "source": [
    "# 2021 sales\n",
    "df['Date'] = pd.to_datetime(df['Date'])\n",
    "df_2021 = df[df['Date'].dt.year == 2021]\n",
    "df_2021"
   ],
   "metadata": {
    "collapsed": false,
    "ExecuteTime": {
     "end_time": "2024-01-21T06:11:09.543646700Z",
     "start_time": "2024-01-21T06:11:09.484599Z"
    }
   },
   "id": "4ebebd789446d707"
  },
  {
   "cell_type": "code",
   "execution_count": 66,
   "outputs": [
    {
     "data": {
      "text/plain": "                 Item Name Category Name       Date Time        Item Code  \\\n262584     net lotus root        aquatic 2022-01-01   09  102900005116899   \n262585  wuhu green pepper       capsicum 2022-01-01   09  102900011016701   \n262586              caixin        flower 2022-01-01   09  102900005115908   \n262587     xixia mushroom       mushroom 2022-01-01   09  102900005116530   \n262588        shanghaiqing        flower 2022-01-01   09  102900005115823   \n...                    ...           ...        ...  ...              ...   \n475423       luosi pepper       capsicum 2022-12-31   21  102900011032251   \n475424             wawacai        flower 2022-12-31   21  102900005118831   \n475425     yunnan lettuce         flower 2022-12-31   21  102900011030059   \n475426             wawacai        flower 2022-12-31   21  102900005118831   \n475427      yellow baicai         flower 2022-12-31   21  102900011035771   \n\n        Quantity Sold (kilo) Sales  \n262584                 0.470  sale  \n262585                 0.206  sale  \n262586                 0.302  sale  \n262587                 0.401  sale  \n262588                 0.484  sale  \n...                      ...   ...  \n475423                 1.000  sale  \n475424                 1.000  sale  \n475425                 1.000  sale  \n475426                 1.000  sale  \n475427                 0.306  sale  \n\n[212739 rows x 7 columns]",
      "text/html": "<div>\n<style scoped>\n    .dataframe tbody tr th:only-of-type {\n        vertical-align: middle;\n    }\n\n    .dataframe tbody tr th {\n        vertical-align: top;\n    }\n\n    .dataframe thead th {\n        text-align: right;\n    }\n</style>\n<table border=\"1\" class=\"dataframe\">\n  <thead>\n    <tr style=\"text-align: right;\">\n      <th></th>\n      <th>Item Name</th>\n      <th>Category Name</th>\n      <th>Date</th>\n      <th>Time</th>\n      <th>Item Code</th>\n      <th>Quantity Sold (kilo)</th>\n      <th>Sales</th>\n    </tr>\n  </thead>\n  <tbody>\n    <tr>\n      <th>262584</th>\n      <td>net lotus root</td>\n      <td>aquatic</td>\n      <td>2022-01-01</td>\n      <td>09</td>\n      <td>102900005116899</td>\n      <td>0.470</td>\n      <td>sale</td>\n    </tr>\n    <tr>\n      <th>262585</th>\n      <td>wuhu green pepper</td>\n      <td>capsicum</td>\n      <td>2022-01-01</td>\n      <td>09</td>\n      <td>102900011016701</td>\n      <td>0.206</td>\n      <td>sale</td>\n    </tr>\n    <tr>\n      <th>262586</th>\n      <td>caixin</td>\n      <td>flower</td>\n      <td>2022-01-01</td>\n      <td>09</td>\n      <td>102900005115908</td>\n      <td>0.302</td>\n      <td>sale</td>\n    </tr>\n    <tr>\n      <th>262587</th>\n      <td>xixia mushroom</td>\n      <td>mushroom</td>\n      <td>2022-01-01</td>\n      <td>09</td>\n      <td>102900005116530</td>\n      <td>0.401</td>\n      <td>sale</td>\n    </tr>\n    <tr>\n      <th>262588</th>\n      <td>shanghaiqing</td>\n      <td>flower</td>\n      <td>2022-01-01</td>\n      <td>09</td>\n      <td>102900005115823</td>\n      <td>0.484</td>\n      <td>sale</td>\n    </tr>\n    <tr>\n      <th>...</th>\n      <td>...</td>\n      <td>...</td>\n      <td>...</td>\n      <td>...</td>\n      <td>...</td>\n      <td>...</td>\n      <td>...</td>\n    </tr>\n    <tr>\n      <th>475423</th>\n      <td>luosi pepper</td>\n      <td>capsicum</td>\n      <td>2022-12-31</td>\n      <td>21</td>\n      <td>102900011032251</td>\n      <td>1.000</td>\n      <td>sale</td>\n    </tr>\n    <tr>\n      <th>475424</th>\n      <td>wawacai</td>\n      <td>flower</td>\n      <td>2022-12-31</td>\n      <td>21</td>\n      <td>102900005118831</td>\n      <td>1.000</td>\n      <td>sale</td>\n    </tr>\n    <tr>\n      <th>475425</th>\n      <td>yunnan lettuce</td>\n      <td>flower</td>\n      <td>2022-12-31</td>\n      <td>21</td>\n      <td>102900011030059</td>\n      <td>1.000</td>\n      <td>sale</td>\n    </tr>\n    <tr>\n      <th>475426</th>\n      <td>wawacai</td>\n      <td>flower</td>\n      <td>2022-12-31</td>\n      <td>21</td>\n      <td>102900005118831</td>\n      <td>1.000</td>\n      <td>sale</td>\n    </tr>\n    <tr>\n      <th>475427</th>\n      <td>yellow baicai</td>\n      <td>flower</td>\n      <td>2022-12-31</td>\n      <td>21</td>\n      <td>102900011035771</td>\n      <td>0.306</td>\n      <td>sale</td>\n    </tr>\n  </tbody>\n</table>\n<p>212739 rows × 7 columns</p>\n</div>"
     },
     "execution_count": 66,
     "metadata": {},
     "output_type": "execute_result"
    }
   ],
   "source": [
    "# 2022 sales\n",
    "df['Date'] = pd.to_datetime(df['Date'])\n",
    "df_2022 = df[df['Date'].dt.year == 2022]\n",
    "df_2022"
   ],
   "metadata": {
    "collapsed": false,
    "ExecuteTime": {
     "end_time": "2024-01-21T06:11:13.821072300Z",
     "start_time": "2024-01-21T06:11:13.773701100Z"
    }
   },
   "id": "2b423aa63635fc8e"
  },
  {
   "cell_type": "code",
   "execution_count": 67,
   "outputs": [
    {
     "data": {
      "text/plain": "    Month  Quantity Sold (kilo)\n0       1                 10226\n1       2                 13239\n2       3                  9746\n3       4                  8466\n4       5                  9174\n5       6                  8434\n6       7                  9439\n7       8                 11933\n8       9                  8901\n9      10                  8151\n10     11                  5081\n11     12                  6724",
      "text/html": "<div>\n<style scoped>\n    .dataframe tbody tr th:only-of-type {\n        vertical-align: middle;\n    }\n\n    .dataframe tbody tr th {\n        vertical-align: top;\n    }\n\n    .dataframe thead th {\n        text-align: right;\n    }\n</style>\n<table border=\"1\" class=\"dataframe\">\n  <thead>\n    <tr style=\"text-align: right;\">\n      <th></th>\n      <th>Month</th>\n      <th>Quantity Sold (kilo)</th>\n    </tr>\n  </thead>\n  <tbody>\n    <tr>\n      <th>0</th>\n      <td>1</td>\n      <td>10226</td>\n    </tr>\n    <tr>\n      <th>1</th>\n      <td>2</td>\n      <td>13239</td>\n    </tr>\n    <tr>\n      <th>2</th>\n      <td>3</td>\n      <td>9746</td>\n    </tr>\n    <tr>\n      <th>3</th>\n      <td>4</td>\n      <td>8466</td>\n    </tr>\n    <tr>\n      <th>4</th>\n      <td>5</td>\n      <td>9174</td>\n    </tr>\n    <tr>\n      <th>5</th>\n      <td>6</td>\n      <td>8434</td>\n    </tr>\n    <tr>\n      <th>6</th>\n      <td>7</td>\n      <td>9439</td>\n    </tr>\n    <tr>\n      <th>7</th>\n      <td>8</td>\n      <td>11933</td>\n    </tr>\n    <tr>\n      <th>8</th>\n      <td>9</td>\n      <td>8901</td>\n    </tr>\n    <tr>\n      <th>9</th>\n      <td>10</td>\n      <td>8151</td>\n    </tr>\n    <tr>\n      <th>10</th>\n      <td>11</td>\n      <td>5081</td>\n    </tr>\n    <tr>\n      <th>11</th>\n      <td>12</td>\n      <td>6724</td>\n    </tr>\n  </tbody>\n</table>\n</div>"
     },
     "execution_count": 67,
     "metadata": {},
     "output_type": "execute_result"
    }
   ],
   "source": [
    "# Monthly sales Quantity Sold (kilo) in 2021\n",
    "sales_data_2021 = df_2021.groupby(df_2021['Date'].dt.month)['Quantity Sold (kilo)'].sum().reset_index().rename(columns = {\"Date\" : \"Month\"}).round(0).astype('int')\n",
    "sales_data_2021"
   ],
   "metadata": {
    "collapsed": false,
    "ExecuteTime": {
     "end_time": "2024-01-21T06:11:25.791310400Z",
     "start_time": "2024-01-21T06:11:25.777089600Z"
    }
   },
   "id": "6da8bd21ec7d99cb"
  },
  {
   "cell_type": "code",
   "execution_count": 68,
   "outputs": [
    {
     "data": {
      "text/plain": "    Month  Quantity Sold (kilo)\n0       1                 10478\n1       2                  7477\n2       3                  7210\n3       4                  6767\n4       5                  6350\n5       6                  6881\n6       7                 10580\n7       8                 18228\n8       9                 13234\n9      10                 16128\n10     11                 12430\n11     12                 12417",
      "text/html": "<div>\n<style scoped>\n    .dataframe tbody tr th:only-of-type {\n        vertical-align: middle;\n    }\n\n    .dataframe tbody tr th {\n        vertical-align: top;\n    }\n\n    .dataframe thead th {\n        text-align: right;\n    }\n</style>\n<table border=\"1\" class=\"dataframe\">\n  <thead>\n    <tr style=\"text-align: right;\">\n      <th></th>\n      <th>Month</th>\n      <th>Quantity Sold (kilo)</th>\n    </tr>\n  </thead>\n  <tbody>\n    <tr>\n      <th>0</th>\n      <td>1</td>\n      <td>10478</td>\n    </tr>\n    <tr>\n      <th>1</th>\n      <td>2</td>\n      <td>7477</td>\n    </tr>\n    <tr>\n      <th>2</th>\n      <td>3</td>\n      <td>7210</td>\n    </tr>\n    <tr>\n      <th>3</th>\n      <td>4</td>\n      <td>6767</td>\n    </tr>\n    <tr>\n      <th>4</th>\n      <td>5</td>\n      <td>6350</td>\n    </tr>\n    <tr>\n      <th>5</th>\n      <td>6</td>\n      <td>6881</td>\n    </tr>\n    <tr>\n      <th>6</th>\n      <td>7</td>\n      <td>10580</td>\n    </tr>\n    <tr>\n      <th>7</th>\n      <td>8</td>\n      <td>18228</td>\n    </tr>\n    <tr>\n      <th>8</th>\n      <td>9</td>\n      <td>13234</td>\n    </tr>\n    <tr>\n      <th>9</th>\n      <td>10</td>\n      <td>16128</td>\n    </tr>\n    <tr>\n      <th>10</th>\n      <td>11</td>\n      <td>12430</td>\n    </tr>\n    <tr>\n      <th>11</th>\n      <td>12</td>\n      <td>12417</td>\n    </tr>\n  </tbody>\n</table>\n</div>"
     },
     "execution_count": 68,
     "metadata": {},
     "output_type": "execute_result"
    }
   ],
   "source": [
    "# Monthly sales Quantity Sold (kilo) in 2022\n",
    "sales_data_2022 = df_2022.groupby(df_2022['Date'].dt.month)['Quantity Sold (kilo)'].sum().reset_index().rename(columns = {\"Date\" : \"Month\"}).round(0).astype('int')\n",
    "sales_data_2022"
   ],
   "metadata": {
    "collapsed": false,
    "ExecuteTime": {
     "end_time": "2024-01-21T06:11:32.090779600Z",
     "start_time": "2024-01-21T06:11:32.077325500Z"
    }
   },
   "id": "d6a6e347c806ca81"
  },
  {
   "cell_type": "code",
   "execution_count": 69,
   "outputs": [
    {
     "data": {
      "text/plain": "<Figure size 500x300 with 1 Axes>",
      "image/png": "[encoded data removed]"
     },
     "metadata": {},
     "output_type": "display_data"
    }
   ],
   "source": [
    "import matplotlib.pyplot as plt\n",
    "# Plotting the scatter plot for 2021 and 2022 on the same plot\n",
    "plt.figure(figsize=(5, 3))\n",
    "plt.scatter(sales_data_2021['Month'], sales_data_2021['Quantity Sold (kilo)'], label='2021', marker='o')\n",
    "plt.scatter(sales_data_2022['Month'], sales_data_2022['Quantity Sold (kilo)'], label='2022', marker='x')\n",
    "\n",
    "plt.title('Quantity sold (kilo) in 2021 and 2022')\n",
    "plt.xlabel('Month')\n",
    "plt.ylabel('Quantity Sold (kilo)')\n",
    "plt.legend()\n",
    "plt.show()"
   ],
   "metadata": {
    "collapsed": false,
    "ExecuteTime": {
     "end_time": "2024-01-21T06:11:41.600400100Z",
     "start_time": "2024-01-21T06:11:41.499423700Z"
    }
   },
   "id": "32622f3d5c705100"
  },
  {
   "cell_type": "code",
   "execution_count": 33,
   "outputs": [],
   "source": [],
   "metadata": {
    "collapsed": false,
    "ExecuteTime": {
     "end_time": "2024-01-20T16:03:37.692241400Z",
     "start_time": "2024-01-20T16:03:37.690735300Z"
    }
   },
   "id": "b8d8c5d76ab74e58"
  },
  {
   "cell_type": "code",
   "execution_count": null,
   "outputs": [],
   "source": [],
   "metadata": {
    "collapsed": false,
    "ExecuteTime": {
     "start_time": "2024-01-20T15:47:48.524909800Z"
    }
   },
   "id": "bb5ca63538e966b0"
  }
 ],
 "metadata": {
  "kernelspec": {
   "display_name": "Python 3",
   "language": "python",
   "name": "python3"
  },
  "language_info": {
   "codemirror_mode": {
    "name": "ipython",
    "version": 2
   },
   "file_extension": ".py",
   "mimetype": "text/x-python",
   "name": "python",
   "nbconvert_exporter": "python",
   "pygments_lexer": "ipython2",
   "version": "2.7.6"
  }
 },
 "nbformat": 4,
 "nbformat_minor": 5
}
