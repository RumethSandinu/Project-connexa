{
 "cells": [
  {
   "cell_type": "code",
   "execution_count": 1,
   "id": "initial_id",
   "metadata": {
    "collapsed": true,
    "ExecuteTime": {
     "end_time": "2024-01-16T17:46:07.146810300Z",
     "start_time": "2024-01-16T17:46:06.641463700Z"
    }
   },
   "outputs": [],
   "source": [
    "import pandas as pd\n",
    "import matplotlib.pyplot as plt"
   ]
  },
  {
   "cell_type": "code",
   "execution_count": 2,
   "outputs": [
    {
     "data": {
      "text/plain": "           Item Name Category Name        Date          Time        Item Code  \\\n0  green hot peppers      capsicum  2021-01-01  09:14:26.212  102900005116226   \n1  green hot peppers      capsicum  2021-01-01  09:14:26.324  102900005116226   \n2    yunnan lettuces        flower  2021-01-01  09:16:20.074  102900005115984   \n3    xixia mushroom       mushroom  2021-01-01  09:18:49.451  102900005116530   \n4        paopaojiao       capsicum  2021-01-01  09:19:14.842  102900005117056   \n\n   Quantity Sold (kilo)  Unit Selling Price (RMB/kg) Sale or Return  \\\n0                 1.132                         25.8           sale   \n1                 0.593                         25.8           sale   \n2                 0.468                          6.0           sale   \n3                 0.389                         18.0           sale   \n4                 0.606                         18.0           sale   \n\n  Discount (Yes/No)  \n0                No  \n1                No  \n2                No  \n3                No  \n4                No  ",
      "text/html": "<div>\n<style scoped>\n    .dataframe tbody tr th:only-of-type {\n        vertical-align: middle;\n    }\n\n    .dataframe tbody tr th {\n        vertical-align: top;\n    }\n\n    .dataframe thead th {\n        text-align: right;\n    }\n</style>\n<table border=\"1\" class=\"dataframe\">\n  <thead>\n    <tr style=\"text-align: right;\">\n      <th></th>\n      <th>Item Name</th>\n      <th>Category Name</th>\n      <th>Date</th>\n      <th>Time</th>\n      <th>Item Code</th>\n      <th>Quantity Sold (kilo)</th>\n      <th>Unit Selling Price (RMB/kg)</th>\n      <th>Sale or Return</th>\n      <th>Discount (Yes/No)</th>\n    </tr>\n  </thead>\n  <tbody>\n    <tr>\n      <th>0</th>\n      <td>green hot peppers</td>\n      <td>capsicum</td>\n      <td>2021-01-01</td>\n      <td>09:14:26.212</td>\n      <td>102900005116226</td>\n      <td>1.132</td>\n      <td>25.8</td>\n      <td>sale</td>\n      <td>No</td>\n    </tr>\n    <tr>\n      <th>1</th>\n      <td>green hot peppers</td>\n      <td>capsicum</td>\n      <td>2021-01-01</td>\n      <td>09:14:26.324</td>\n      <td>102900005116226</td>\n      <td>0.593</td>\n      <td>25.8</td>\n      <td>sale</td>\n      <td>No</td>\n    </tr>\n    <tr>\n      <th>2</th>\n      <td>yunnan lettuces</td>\n      <td>flower</td>\n      <td>2021-01-01</td>\n      <td>09:16:20.074</td>\n      <td>102900005115984</td>\n      <td>0.468</td>\n      <td>6.0</td>\n      <td>sale</td>\n      <td>No</td>\n    </tr>\n    <tr>\n      <th>3</th>\n      <td>xixia mushroom</td>\n      <td>mushroom</td>\n      <td>2021-01-01</td>\n      <td>09:18:49.451</td>\n      <td>102900005116530</td>\n      <td>0.389</td>\n      <td>18.0</td>\n      <td>sale</td>\n      <td>No</td>\n    </tr>\n    <tr>\n      <th>4</th>\n      <td>paopaojiao</td>\n      <td>capsicum</td>\n      <td>2021-01-01</td>\n      <td>09:19:14.842</td>\n      <td>102900005117056</td>\n      <td>0.606</td>\n      <td>18.0</td>\n      <td>sale</td>\n      <td>No</td>\n    </tr>\n  </tbody>\n</table>\n</div>"
     },
     "execution_count": 2,
     "metadata": {},
     "output_type": "execute_result"
    }
   ],
   "source": [
    "ds = pd.read_csv('../../datasets/built_dataset.csv')\n",
    "ds.head()"
   ],
   "metadata": {
    "collapsed": false,
    "ExecuteTime": {
     "end_time": "2024-01-16T17:46:43.702520800Z",
     "start_time": "2024-01-16T17:46:43.225909300Z"
    }
   },
   "id": "42caa4459b2f1a35"
  },
  {
   "cell_type": "code",
   "execution_count": 3,
   "outputs": [
    {
     "data": {
      "text/plain": "        Item Name  Category Name   Date   Time  Item Code  \\\n0           False          False  False  False      False   \n1           False          False  False  False      False   \n2           False          False  False  False      False   \n3           False          False  False  False      False   \n4           False          False  False  False      False   \n...           ...            ...    ...    ...        ...   \n475423      False          False  False  False      False   \n475424      False          False  False  False      False   \n475425      False          False  False  False      False   \n475426      False          False  False  False      False   \n475427      False          False  False  False      False   \n\n        Quantity Sold (kilo)  Unit Selling Price (RMB/kg)  Sale or Return  \\\n0                      False                        False           False   \n1                      False                        False           False   \n2                      False                        False           False   \n3                      False                        False           False   \n4                      False                        False           False   \n...                      ...                          ...             ...   \n475423                 False                        False           False   \n475424                 False                        False           False   \n475425                 False                        False           False   \n475426                 False                        False           False   \n475427                 False                        False           False   \n\n        Discount (Yes/No)  \n0                   False  \n1                   False  \n2                   False  \n3                   False  \n4                   False  \n...                   ...  \n475423              False  \n475424              False  \n475425              False  \n475426              False  \n475427              False  \n\n[475428 rows x 9 columns]",
      "text/html": "<div>\n<style scoped>\n    .dataframe tbody tr th:only-of-type {\n        vertical-align: middle;\n    }\n\n    .dataframe tbody tr th {\n        vertical-align: top;\n    }\n\n    .dataframe thead th {\n        text-align: right;\n    }\n</style>\n<table border=\"1\" class=\"dataframe\">\n  <thead>\n    <tr style=\"text-align: right;\">\n      <th></th>\n      <th>Item Name</th>\n      <th>Category Name</th>\n      <th>Date</th>\n      <th>Time</th>\n      <th>Item Code</th>\n      <th>Quantity Sold (kilo)</th>\n      <th>Unit Selling Price (RMB/kg)</th>\n      <th>Sale or Return</th>\n      <th>Discount (Yes/No)</th>\n    </tr>\n  </thead>\n  <tbody>\n    <tr>\n      <th>0</th>\n      <td>False</td>\n      <td>False</td>\n      <td>False</td>\n      <td>False</td>\n      <td>False</td>\n      <td>False</td>\n      <td>False</td>\n      <td>False</td>\n      <td>False</td>\n    </tr>\n    <tr>\n      <th>1</th>\n      <td>False</td>\n      <td>False</td>\n      <td>False</td>\n      <td>False</td>\n      <td>False</td>\n      <td>False</td>\n      <td>False</td>\n      <td>False</td>\n      <td>False</td>\n    </tr>\n    <tr>\n      <th>2</th>\n      <td>False</td>\n      <td>False</td>\n      <td>False</td>\n      <td>False</td>\n      <td>False</td>\n      <td>False</td>\n      <td>False</td>\n      <td>False</td>\n      <td>False</td>\n    </tr>\n    <tr>\n      <th>3</th>\n      <td>False</td>\n      <td>False</td>\n      <td>False</td>\n      <td>False</td>\n      <td>False</td>\n      <td>False</td>\n      <td>False</td>\n      <td>False</td>\n      <td>False</td>\n    </tr>\n    <tr>\n      <th>4</th>\n      <td>False</td>\n      <td>False</td>\n      <td>False</td>\n      <td>False</td>\n      <td>False</td>\n      <td>False</td>\n      <td>False</td>\n      <td>False</td>\n      <td>False</td>\n    </tr>\n    <tr>\n      <th>...</th>\n      <td>...</td>\n      <td>...</td>\n      <td>...</td>\n      <td>...</td>\n      <td>...</td>\n      <td>...</td>\n      <td>...</td>\n      <td>...</td>\n      <td>...</td>\n    </tr>\n    <tr>\n      <th>475423</th>\n      <td>False</td>\n      <td>False</td>\n      <td>False</td>\n      <td>False</td>\n      <td>False</td>\n      <td>False</td>\n      <td>False</td>\n      <td>False</td>\n      <td>False</td>\n    </tr>\n    <tr>\n      <th>475424</th>\n      <td>False</td>\n      <td>False</td>\n      <td>False</td>\n      <td>False</td>\n      <td>False</td>\n      <td>False</td>\n      <td>False</td>\n      <td>False</td>\n      <td>False</td>\n    </tr>\n    <tr>\n      <th>475425</th>\n      <td>False</td>\n      <td>False</td>\n      <td>False</td>\n      <td>False</td>\n      <td>False</td>\n      <td>False</td>\n      <td>False</td>\n      <td>False</td>\n      <td>False</td>\n    </tr>\n    <tr>\n      <th>475426</th>\n      <td>False</td>\n      <td>False</td>\n      <td>False</td>\n      <td>False</td>\n      <td>False</td>\n      <td>False</td>\n      <td>False</td>\n      <td>False</td>\n      <td>False</td>\n    </tr>\n    <tr>\n      <th>475427</th>\n      <td>False</td>\n      <td>False</td>\n      <td>False</td>\n      <td>False</td>\n      <td>False</td>\n      <td>False</td>\n      <td>False</td>\n      <td>False</td>\n      <td>False</td>\n    </tr>\n  </tbody>\n</table>\n<p>475428 rows × 9 columns</p>\n</div>"
     },
     "execution_count": 3,
     "metadata": {},
     "output_type": "execute_result"
    }
   ],
   "source": [
    "#Checking the missing values\n",
    "ds.isnull()"
   ],
   "metadata": {
    "collapsed": false,
    "ExecuteTime": {
     "end_time": "2024-01-16T17:53:46.444534900Z",
     "start_time": "2024-01-16T17:53:46.362626600Z"
    }
   },
   "id": "3e5ed61d9ce32987"
  },
  {
   "cell_type": "code",
   "execution_count": 5,
   "outputs": [
    {
     "data": {
      "text/plain": "Item Name                      0\nCategory Name                  0\nDate                           0\nTime                           0\nItem Code                      0\nQuantity Sold (kilo)           0\nUnit Selling Price (RMB/kg)    0\nSale or Return                 0\nDiscount (Yes/No)              0\ndtype: int64"
     },
     "execution_count": 5,
     "metadata": {},
     "output_type": "execute_result"
    }
   ],
   "source": [
    "#Checking the sum of missing value for each column\n",
    "ds.isnull().sum()"
   ],
   "metadata": {
    "collapsed": false,
    "ExecuteTime": {
     "end_time": "2024-01-16T17:55:51.128455400Z",
     "start_time": "2024-01-16T17:55:51.027295900Z"
    }
   },
   "id": "a03a58b5a21fd7ff"
  },
  {
   "cell_type": "code",
   "execution_count": 7,
   "outputs": [
    {
     "data": {
      "text/plain": "0         False\n1         False\n2         False\n3         False\n4         False\n          ...  \n475423    False\n475424    False\n475425    False\n475426    False\n475427    False\nLength: 475428, dtype: bool"
     },
     "execution_count": 7,
     "metadata": {},
     "output_type": "execute_result"
    }
   ],
   "source": [
    "# Check the duplicate data \n",
    "ds.duplicated()"
   ],
   "metadata": {
    "collapsed": false,
    "ExecuteTime": {
     "end_time": "2024-01-16T17:59:03.794377100Z",
     "start_time": "2024-01-16T17:59:03.581022Z"
    }
   },
   "id": "3955a457d1744fc2"
  },
  {
   "cell_type": "code",
   "execution_count": 9,
   "outputs": [
    {
     "data": {
      "text/plain": "                Item Name Category Name        Date   Time        Item Code  \\\n0       green hot peppers      capsicum  2021-01-01  09:14  102900005116226   \n1       green hot peppers      capsicum  2021-01-01  09:14  102900005116226   \n2         yunnan lettuces        flower  2021-01-01  09:16  102900005115984   \n3         xixia mushroom       mushroom  2021-01-01  09:18  102900005116530   \n4             paopaojiao       capsicum  2021-01-01  09:19  102900005117056   \n...                   ...           ...         ...    ...              ...   \n475423      luosi pepper       capsicum  2022-12-31  21:30  102900011032251   \n475424            wawacai        flower  2022-12-31  21:30  102900005118831   \n475425    yunnan lettuce         flower  2022-12-31  21:32  102900011030059   \n475426            wawacai        flower  2022-12-31  21:38  102900005118831   \n475427     yellow baicai         flower  2022-12-31  21:38  102900011035771   \n\n        Quantity Sold (kilo)  Unit Selling Price (RMB/kg) Sale or Return  \\\n0                      1.132                         25.8           sale   \n1                      0.593                         25.8           sale   \n2                      0.468                          6.0           sale   \n3                      0.389                         18.0           sale   \n4                      0.606                         18.0           sale   \n...                      ...                          ...            ...   \n475423                 1.000                          1.5           sale   \n475424                 1.000                          2.1           sale   \n475425                 1.000                          2.7           sale   \n475426                 1.000                          3.5           sale   \n475427                 0.306                          9.2           sale   \n\n       Discount (Yes/No)  \n0                     No  \n1                     No  \n2                     No  \n3                     No  \n4                     No  \n...                  ...  \n475423               Yes  \n475424               Yes  \n475425               Yes  \n475426                No  \n475427                No  \n\n[475428 rows x 9 columns]",
      "text/html": "<div>\n<style scoped>\n    .dataframe tbody tr th:only-of-type {\n        vertical-align: middle;\n    }\n\n    .dataframe tbody tr th {\n        vertical-align: top;\n    }\n\n    .dataframe thead th {\n        text-align: right;\n    }\n</style>\n<table border=\"1\" class=\"dataframe\">\n  <thead>\n    <tr style=\"text-align: right;\">\n      <th></th>\n      <th>Item Name</th>\n      <th>Category Name</th>\n      <th>Date</th>\n      <th>Time</th>\n      <th>Item Code</th>\n      <th>Quantity Sold (kilo)</th>\n      <th>Unit Selling Price (RMB/kg)</th>\n      <th>Sale or Return</th>\n      <th>Discount (Yes/No)</th>\n    </tr>\n  </thead>\n  <tbody>\n    <tr>\n      <th>0</th>\n      <td>green hot peppers</td>\n      <td>capsicum</td>\n      <td>2021-01-01</td>\n      <td>09:14</td>\n      <td>102900005116226</td>\n      <td>1.132</td>\n      <td>25.8</td>\n      <td>sale</td>\n      <td>No</td>\n    </tr>\n    <tr>\n      <th>1</th>\n      <td>green hot peppers</td>\n      <td>capsicum</td>\n      <td>2021-01-01</td>\n      <td>09:14</td>\n      <td>102900005116226</td>\n      <td>0.593</td>\n      <td>25.8</td>\n      <td>sale</td>\n      <td>No</td>\n    </tr>\n    <tr>\n      <th>2</th>\n      <td>yunnan lettuces</td>\n      <td>flower</td>\n      <td>2021-01-01</td>\n      <td>09:16</td>\n      <td>102900005115984</td>\n      <td>0.468</td>\n      <td>6.0</td>\n      <td>sale</td>\n      <td>No</td>\n    </tr>\n    <tr>\n      <th>3</th>\n      <td>xixia mushroom</td>\n      <td>mushroom</td>\n      <td>2021-01-01</td>\n      <td>09:18</td>\n      <td>102900005116530</td>\n      <td>0.389</td>\n      <td>18.0</td>\n      <td>sale</td>\n      <td>No</td>\n    </tr>\n    <tr>\n      <th>4</th>\n      <td>paopaojiao</td>\n      <td>capsicum</td>\n      <td>2021-01-01</td>\n      <td>09:19</td>\n      <td>102900005117056</td>\n      <td>0.606</td>\n      <td>18.0</td>\n      <td>sale</td>\n      <td>No</td>\n    </tr>\n    <tr>\n      <th>...</th>\n      <td>...</td>\n      <td>...</td>\n      <td>...</td>\n      <td>...</td>\n      <td>...</td>\n      <td>...</td>\n      <td>...</td>\n      <td>...</td>\n      <td>...</td>\n    </tr>\n    <tr>\n      <th>475423</th>\n      <td>luosi pepper</td>\n      <td>capsicum</td>\n      <td>2022-12-31</td>\n      <td>21:30</td>\n      <td>102900011032251</td>\n      <td>1.000</td>\n      <td>1.5</td>\n      <td>sale</td>\n      <td>Yes</td>\n    </tr>\n    <tr>\n      <th>475424</th>\n      <td>wawacai</td>\n      <td>flower</td>\n      <td>2022-12-31</td>\n      <td>21:30</td>\n      <td>102900005118831</td>\n      <td>1.000</td>\n      <td>2.1</td>\n      <td>sale</td>\n      <td>Yes</td>\n    </tr>\n    <tr>\n      <th>475425</th>\n      <td>yunnan lettuce</td>\n      <td>flower</td>\n      <td>2022-12-31</td>\n      <td>21:32</td>\n      <td>102900011030059</td>\n      <td>1.000</td>\n      <td>2.7</td>\n      <td>sale</td>\n      <td>Yes</td>\n    </tr>\n    <tr>\n      <th>475426</th>\n      <td>wawacai</td>\n      <td>flower</td>\n      <td>2022-12-31</td>\n      <td>21:38</td>\n      <td>102900005118831</td>\n      <td>1.000</td>\n      <td>3.5</td>\n      <td>sale</td>\n      <td>No</td>\n    </tr>\n    <tr>\n      <th>475427</th>\n      <td>yellow baicai</td>\n      <td>flower</td>\n      <td>2022-12-31</td>\n      <td>21:38</td>\n      <td>102900011035771</td>\n      <td>0.306</td>\n      <td>9.2</td>\n      <td>sale</td>\n      <td>No</td>\n    </tr>\n  </tbody>\n</table>\n<p>475428 rows × 9 columns</p>\n</div>"
     },
     "execution_count": 9,
     "metadata": {},
     "output_type": "execute_result"
    }
   ],
   "source": [
    "# Remove the seconds and milliseconds in time \n",
    "ds['Time'] = ds['Time'].apply(lambda x: x.split(':')[0] + ':' + x.split(':')[1])\n",
    "ds"
   ],
   "metadata": {
    "collapsed": false,
    "ExecuteTime": {
     "end_time": "2024-01-16T18:07:26.587271100Z",
     "start_time": "2024-01-16T18:07:26.418447200Z"
    }
   },
   "id": "52a1a02a646e9559"
  },
  {
   "cell_type": "code",
   "execution_count": 12,
   "outputs": [
    {
     "data": {
      "text/plain": "Category Name\nflower      203383\ncapsicum    131143\nmushroom     60398\naquatic      37928\nsolanum      26788\ncabbage      15788\nName: count, dtype: int64"
     },
     "execution_count": 12,
     "metadata": {},
     "output_type": "execute_result"
    }
   ],
   "source": [
    "# Check the values of each category name\n",
    "ds['Category Name'].value_counts()"
   ],
   "metadata": {
    "collapsed": false,
    "ExecuteTime": {
     "end_time": "2024-01-16T18:35:45.507303200Z",
     "start_time": "2024-01-16T18:35:45.478383300Z"
    }
   },
   "id": "77295c37112421e3"
  },
  {
   "cell_type": "code",
   "execution_count": 14,
   "outputs": [
    {
     "data": {
      "text/plain": "('2021-01-01', '2022-12-31')"
     },
     "execution_count": 14,
     "metadata": {},
     "output_type": "execute_result"
    }
   ],
   "source": [
    "# Check the year range \n",
    "ds['Date'].min(),ds['Date'].max()"
   ],
   "metadata": {
    "collapsed": false,
    "ExecuteTime": {
     "end_time": "2024-01-16T18:44:57.578516700Z",
     "start_time": "2024-01-16T18:44:57.539597100Z"
    }
   },
   "id": "d8baa1df41d1a6b5"
  },
  {
   "cell_type": "code",
   "execution_count": 15,
   "outputs": [
    {
     "data": {
      "text/plain": "                   Item Name Category Name       Date   Time        Item Code  \\\n0          green hot peppers      capsicum 2021-01-01  09:14  102900005116226   \n1          green hot peppers      capsicum 2021-01-01  09:14  102900005116226   \n2            yunnan lettuces        flower 2021-01-01  09:16  102900005115984   \n3            xixia mushroom       mushroom 2021-01-01  09:18  102900005116530   \n4                paopaojiao       capsicum 2021-01-01  09:19  102900005117056   \n...                      ...           ...        ...    ...              ...   \n262579          luosi pepper      capsicum 2021-12-31  21:44  102900011000328   \n262580       xixia mushroom       mushroom 2021-12-31  21:50  102900005116530   \n262581        millet pepper       capsicum 2021-12-31  21:58  102900011031100   \n262582        millet pepper       capsicum 2021-12-31  21:58  102900011031100   \n262583  yunnan leaf lettuce         flower 2021-12-31  22:07  102900011030097   \n\n        Quantity Sold (kilo)  Unit Selling Price (RMB/kg) Sale or Return  \\\n0                      1.132                         25.8           sale   \n1                      0.593                         25.8           sale   \n2                      0.468                          6.0           sale   \n3                      0.389                         18.0           sale   \n4                      0.606                         18.0           sale   \n...                      ...                          ...            ...   \n262579                 0.192                         12.0           sale   \n262580                 0.244                         14.0           sale   \n262581                 1.000                          6.9           sale   \n262582                 1.000                          6.9           sale   \n262583                 1.000                          2.9           sale   \n\n       Discount (Yes/No)  \n0                     No  \n1                     No  \n2                     No  \n3                     No  \n4                     No  \n...                  ...  \n262579                No  \n262580                No  \n262581                No  \n262582                No  \n262583               Yes  \n\n[262584 rows x 9 columns]",
      "text/html": "<div>\n<style scoped>\n    .dataframe tbody tr th:only-of-type {\n        vertical-align: middle;\n    }\n\n    .dataframe tbody tr th {\n        vertical-align: top;\n    }\n\n    .dataframe thead th {\n        text-align: right;\n    }\n</style>\n<table border=\"1\" class=\"dataframe\">\n  <thead>\n    <tr style=\"text-align: right;\">\n      <th></th>\n      <th>Item Name</th>\n      <th>Category Name</th>\n      <th>Date</th>\n      <th>Time</th>\n      <th>Item Code</th>\n      <th>Quantity Sold (kilo)</th>\n      <th>Unit Selling Price (RMB/kg)</th>\n      <th>Sale or Return</th>\n      <th>Discount (Yes/No)</th>\n    </tr>\n  </thead>\n  <tbody>\n    <tr>\n      <th>0</th>\n      <td>green hot peppers</td>\n      <td>capsicum</td>\n      <td>2021-01-01</td>\n      <td>09:14</td>\n      <td>102900005116226</td>\n      <td>1.132</td>\n      <td>25.8</td>\n      <td>sale</td>\n      <td>No</td>\n    </tr>\n    <tr>\n      <th>1</th>\n      <td>green hot peppers</td>\n      <td>capsicum</td>\n      <td>2021-01-01</td>\n      <td>09:14</td>\n      <td>102900005116226</td>\n      <td>0.593</td>\n      <td>25.8</td>\n      <td>sale</td>\n      <td>No</td>\n    </tr>\n    <tr>\n      <th>2</th>\n      <td>yunnan lettuces</td>\n      <td>flower</td>\n      <td>2021-01-01</td>\n      <td>09:16</td>\n      <td>102900005115984</td>\n      <td>0.468</td>\n      <td>6.0</td>\n      <td>sale</td>\n      <td>No</td>\n    </tr>\n    <tr>\n      <th>3</th>\n      <td>xixia mushroom</td>\n      <td>mushroom</td>\n      <td>2021-01-01</td>\n      <td>09:18</td>\n      <td>102900005116530</td>\n      <td>0.389</td>\n      <td>18.0</td>\n      <td>sale</td>\n      <td>No</td>\n    </tr>\n    <tr>\n      <th>4</th>\n      <td>paopaojiao</td>\n      <td>capsicum</td>\n      <td>2021-01-01</td>\n      <td>09:19</td>\n      <td>102900005117056</td>\n      <td>0.606</td>\n      <td>18.0</td>\n      <td>sale</td>\n      <td>No</td>\n    </tr>\n    <tr>\n      <th>...</th>\n      <td>...</td>\n      <td>...</td>\n      <td>...</td>\n      <td>...</td>\n      <td>...</td>\n      <td>...</td>\n      <td>...</td>\n      <td>...</td>\n      <td>...</td>\n    </tr>\n    <tr>\n      <th>262579</th>\n      <td>luosi pepper</td>\n      <td>capsicum</td>\n      <td>2021-12-31</td>\n      <td>21:44</td>\n      <td>102900011000328</td>\n      <td>0.192</td>\n      <td>12.0</td>\n      <td>sale</td>\n      <td>No</td>\n    </tr>\n    <tr>\n      <th>262580</th>\n      <td>xixia mushroom</td>\n      <td>mushroom</td>\n      <td>2021-12-31</td>\n      <td>21:50</td>\n      <td>102900005116530</td>\n      <td>0.244</td>\n      <td>14.0</td>\n      <td>sale</td>\n      <td>No</td>\n    </tr>\n    <tr>\n      <th>262581</th>\n      <td>millet pepper</td>\n      <td>capsicum</td>\n      <td>2021-12-31</td>\n      <td>21:58</td>\n      <td>102900011031100</td>\n      <td>1.000</td>\n      <td>6.9</td>\n      <td>sale</td>\n      <td>No</td>\n    </tr>\n    <tr>\n      <th>262582</th>\n      <td>millet pepper</td>\n      <td>capsicum</td>\n      <td>2021-12-31</td>\n      <td>21:58</td>\n      <td>102900011031100</td>\n      <td>1.000</td>\n      <td>6.9</td>\n      <td>sale</td>\n      <td>No</td>\n    </tr>\n    <tr>\n      <th>262583</th>\n      <td>yunnan leaf lettuce</td>\n      <td>flower</td>\n      <td>2021-12-31</td>\n      <td>22:07</td>\n      <td>102900011030097</td>\n      <td>1.000</td>\n      <td>2.9</td>\n      <td>sale</td>\n      <td>Yes</td>\n    </tr>\n  </tbody>\n</table>\n<p>262584 rows × 9 columns</p>\n</div>"
     },
     "execution_count": 15,
     "metadata": {},
     "output_type": "execute_result"
    }
   ],
   "source": [
    "# 2021 sales\n",
    "ds['Date'] = pd.to_datetime(ds['Date'])\n",
    "ds_2021 = ds[ds['Date'].dt.year == 2021]\n",
    "ds_2021"
   ],
   "metadata": {
    "collapsed": false,
    "ExecuteTime": {
     "end_time": "2024-01-16T18:48:04.348766100Z",
     "start_time": "2024-01-16T18:48:04.254717900Z"
    }
   },
   "id": "4ebebd789446d707"
  },
  {
   "cell_type": "code",
   "execution_count": 34,
   "outputs": [
    {
     "data": {
      "text/plain": "                 Item Name Category Name       Date   Time        Item Code  \\\n262584     net lotus root        aquatic 2022-01-01  09:15  102900005116899   \n262585  wuhu green pepper       capsicum 2022-01-01  09:17  102900011016701   \n262586              caixin        flower 2022-01-01  09:20  102900005115908   \n262587     xixia mushroom       mushroom 2022-01-01  09:23  102900005116530   \n262588        shanghaiqing        flower 2022-01-01  09:28  102900005115823   \n...                    ...           ...        ...    ...              ...   \n475423       luosi pepper       capsicum 2022-12-31  21:30  102900011032251   \n475424             wawacai        flower 2022-12-31  21:30  102900005118831   \n475425     yunnan lettuce         flower 2022-12-31  21:32  102900011030059   \n475426             wawacai        flower 2022-12-31  21:38  102900005118831   \n475427      yellow baicai         flower 2022-12-31  21:38  102900011035771   \n\n        Quantity Sold (kilo)  Unit Selling Price (RMB/kg) Sale or Return  \\\n262584                 0.470                          6.0           sale   \n262585                 0.206                          7.8           sale   \n262586                 0.302                          6.0           sale   \n262587                 0.401                         14.0           sale   \n262588                 0.484                          5.0           sale   \n...                      ...                          ...            ...   \n475423                 1.000                          1.5           sale   \n475424                 1.000                          2.1           sale   \n475425                 1.000                          2.7           sale   \n475426                 1.000                          3.5           sale   \n475427                 0.306                          9.2           sale   \n\n       Discount (Yes/No)  \n262584                No  \n262585                No  \n262586                No  \n262587                No  \n262588                No  \n...                  ...  \n475423               Yes  \n475424               Yes  \n475425               Yes  \n475426                No  \n475427                No  \n\n[212844 rows x 9 columns]",
      "text/html": "<div>\n<style scoped>\n    .dataframe tbody tr th:only-of-type {\n        vertical-align: middle;\n    }\n\n    .dataframe tbody tr th {\n        vertical-align: top;\n    }\n\n    .dataframe thead th {\n        text-align: right;\n    }\n</style>\n<table border=\"1\" class=\"dataframe\">\n  <thead>\n    <tr style=\"text-align: right;\">\n      <th></th>\n      <th>Item Name</th>\n      <th>Category Name</th>\n      <th>Date</th>\n      <th>Time</th>\n      <th>Item Code</th>\n      <th>Quantity Sold (kilo)</th>\n      <th>Unit Selling Price (RMB/kg)</th>\n      <th>Sale or Return</th>\n      <th>Discount (Yes/No)</th>\n    </tr>\n  </thead>\n  <tbody>\n    <tr>\n      <th>262584</th>\n      <td>net lotus root</td>\n      <td>aquatic</td>\n      <td>2022-01-01</td>\n      <td>09:15</td>\n      <td>102900005116899</td>\n      <td>0.470</td>\n      <td>6.0</td>\n      <td>sale</td>\n      <td>No</td>\n    </tr>\n    <tr>\n      <th>262585</th>\n      <td>wuhu green pepper</td>\n      <td>capsicum</td>\n      <td>2022-01-01</td>\n      <td>09:17</td>\n      <td>102900011016701</td>\n      <td>0.206</td>\n      <td>7.8</td>\n      <td>sale</td>\n      <td>No</td>\n    </tr>\n    <tr>\n      <th>262586</th>\n      <td>caixin</td>\n      <td>flower</td>\n      <td>2022-01-01</td>\n      <td>09:20</td>\n      <td>102900005115908</td>\n      <td>0.302</td>\n      <td>6.0</td>\n      <td>sale</td>\n      <td>No</td>\n    </tr>\n    <tr>\n      <th>262587</th>\n      <td>xixia mushroom</td>\n      <td>mushroom</td>\n      <td>2022-01-01</td>\n      <td>09:23</td>\n      <td>102900005116530</td>\n      <td>0.401</td>\n      <td>14.0</td>\n      <td>sale</td>\n      <td>No</td>\n    </tr>\n    <tr>\n      <th>262588</th>\n      <td>shanghaiqing</td>\n      <td>flower</td>\n      <td>2022-01-01</td>\n      <td>09:28</td>\n      <td>102900005115823</td>\n      <td>0.484</td>\n      <td>5.0</td>\n      <td>sale</td>\n      <td>No</td>\n    </tr>\n    <tr>\n      <th>...</th>\n      <td>...</td>\n      <td>...</td>\n      <td>...</td>\n      <td>...</td>\n      <td>...</td>\n      <td>...</td>\n      <td>...</td>\n      <td>...</td>\n      <td>...</td>\n    </tr>\n    <tr>\n      <th>475423</th>\n      <td>luosi pepper</td>\n      <td>capsicum</td>\n      <td>2022-12-31</td>\n      <td>21:30</td>\n      <td>102900011032251</td>\n      <td>1.000</td>\n      <td>1.5</td>\n      <td>sale</td>\n      <td>Yes</td>\n    </tr>\n    <tr>\n      <th>475424</th>\n      <td>wawacai</td>\n      <td>flower</td>\n      <td>2022-12-31</td>\n      <td>21:30</td>\n      <td>102900005118831</td>\n      <td>1.000</td>\n      <td>2.1</td>\n      <td>sale</td>\n      <td>Yes</td>\n    </tr>\n    <tr>\n      <th>475425</th>\n      <td>yunnan lettuce</td>\n      <td>flower</td>\n      <td>2022-12-31</td>\n      <td>21:32</td>\n      <td>102900011030059</td>\n      <td>1.000</td>\n      <td>2.7</td>\n      <td>sale</td>\n      <td>Yes</td>\n    </tr>\n    <tr>\n      <th>475426</th>\n      <td>wawacai</td>\n      <td>flower</td>\n      <td>2022-12-31</td>\n      <td>21:38</td>\n      <td>102900005118831</td>\n      <td>1.000</td>\n      <td>3.5</td>\n      <td>sale</td>\n      <td>No</td>\n    </tr>\n    <tr>\n      <th>475427</th>\n      <td>yellow baicai</td>\n      <td>flower</td>\n      <td>2022-12-31</td>\n      <td>21:38</td>\n      <td>102900011035771</td>\n      <td>0.306</td>\n      <td>9.2</td>\n      <td>sale</td>\n      <td>No</td>\n    </tr>\n  </tbody>\n</table>\n<p>212844 rows × 9 columns</p>\n</div>"
     },
     "execution_count": 34,
     "metadata": {},
     "output_type": "execute_result"
    }
   ],
   "source": [
    "# 2022 sales\n",
    "ds['Date'] = pd.to_datetime(ds['Date'])\n",
    "ds_2022 = ds[ds['Date'].dt.year == 2022]\n",
    "ds_2022"
   ],
   "metadata": {
    "collapsed": false,
    "ExecuteTime": {
     "end_time": "2024-01-16T19:20:29.201657800Z",
     "start_time": "2024-01-16T19:20:29.126146900Z"
    }
   },
   "id": "2b423aa63635fc8e"
  },
  {
   "cell_type": "code",
   "execution_count": 35,
   "outputs": [
    {
     "data": {
      "text/plain": "    Month  Quantity Sold (kilo)\n0       1                 10225\n1       2                 13237\n2       3                  9738\n3       4                  8464\n4       5                  9173\n5       6                  8430\n6       7                  9439\n7       8                 11931\n8       9                  8886\n9      10                  8120\n10     11                  5076\n11     12                  6721",
      "text/html": "<div>\n<style scoped>\n    .dataframe tbody tr th:only-of-type {\n        vertical-align: middle;\n    }\n\n    .dataframe tbody tr th {\n        vertical-align: top;\n    }\n\n    .dataframe thead th {\n        text-align: right;\n    }\n</style>\n<table border=\"1\" class=\"dataframe\">\n  <thead>\n    <tr style=\"text-align: right;\">\n      <th></th>\n      <th>Month</th>\n      <th>Quantity Sold (kilo)</th>\n    </tr>\n  </thead>\n  <tbody>\n    <tr>\n      <th>0</th>\n      <td>1</td>\n      <td>10225</td>\n    </tr>\n    <tr>\n      <th>1</th>\n      <td>2</td>\n      <td>13237</td>\n    </tr>\n    <tr>\n      <th>2</th>\n      <td>3</td>\n      <td>9738</td>\n    </tr>\n    <tr>\n      <th>3</th>\n      <td>4</td>\n      <td>8464</td>\n    </tr>\n    <tr>\n      <th>4</th>\n      <td>5</td>\n      <td>9173</td>\n    </tr>\n    <tr>\n      <th>5</th>\n      <td>6</td>\n      <td>8430</td>\n    </tr>\n    <tr>\n      <th>6</th>\n      <td>7</td>\n      <td>9439</td>\n    </tr>\n    <tr>\n      <th>7</th>\n      <td>8</td>\n      <td>11931</td>\n    </tr>\n    <tr>\n      <th>8</th>\n      <td>9</td>\n      <td>8886</td>\n    </tr>\n    <tr>\n      <th>9</th>\n      <td>10</td>\n      <td>8120</td>\n    </tr>\n    <tr>\n      <th>10</th>\n      <td>11</td>\n      <td>5076</td>\n    </tr>\n    <tr>\n      <th>11</th>\n      <td>12</td>\n      <td>6721</td>\n    </tr>\n  </tbody>\n</table>\n</div>"
     },
     "execution_count": 35,
     "metadata": {},
     "output_type": "execute_result"
    }
   ],
   "source": [
    "# Monthly sales Quantity Sold (kilo) in 2021\n",
    "sales_data_2021 = ds_2021.groupby(ds_2021['Date'].dt.month)['Quantity Sold (kilo)'].sum().reset_index().rename(columns = {\"Date\" : \"Month\"}).round(0).astype('int')\n",
    "sales_data_2021"
   ],
   "metadata": {
    "collapsed": false,
    "ExecuteTime": {
     "end_time": "2024-01-16T19:20:41.250186100Z",
     "start_time": "2024-01-16T19:20:41.233050800Z"
    }
   },
   "id": "6da8bd21ec7d99cb"
  },
  {
   "cell_type": "code",
   "execution_count": 36,
   "outputs": [
    {
     "data": {
      "text/plain": "    Month  Quantity Sold (kilo)\n0       1                 10471\n1       2                  7473\n2       3                  7208\n3       4                  6764\n4       5                  6348\n5       6                  6875\n6       7                 10576\n7       8                 18219\n8       9                 13221\n9      10                 16110\n10     11                 12416\n11     12                 12414",
      "text/html": "<div>\n<style scoped>\n    .dataframe tbody tr th:only-of-type {\n        vertical-align: middle;\n    }\n\n    .dataframe tbody tr th {\n        vertical-align: top;\n    }\n\n    .dataframe thead th {\n        text-align: right;\n    }\n</style>\n<table border=\"1\" class=\"dataframe\">\n  <thead>\n    <tr style=\"text-align: right;\">\n      <th></th>\n      <th>Month</th>\n      <th>Quantity Sold (kilo)</th>\n    </tr>\n  </thead>\n  <tbody>\n    <tr>\n      <th>0</th>\n      <td>1</td>\n      <td>10471</td>\n    </tr>\n    <tr>\n      <th>1</th>\n      <td>2</td>\n      <td>7473</td>\n    </tr>\n    <tr>\n      <th>2</th>\n      <td>3</td>\n      <td>7208</td>\n    </tr>\n    <tr>\n      <th>3</th>\n      <td>4</td>\n      <td>6764</td>\n    </tr>\n    <tr>\n      <th>4</th>\n      <td>5</td>\n      <td>6348</td>\n    </tr>\n    <tr>\n      <th>5</th>\n      <td>6</td>\n      <td>6875</td>\n    </tr>\n    <tr>\n      <th>6</th>\n      <td>7</td>\n      <td>10576</td>\n    </tr>\n    <tr>\n      <th>7</th>\n      <td>8</td>\n      <td>18219</td>\n    </tr>\n    <tr>\n      <th>8</th>\n      <td>9</td>\n      <td>13221</td>\n    </tr>\n    <tr>\n      <th>9</th>\n      <td>10</td>\n      <td>16110</td>\n    </tr>\n    <tr>\n      <th>10</th>\n      <td>11</td>\n      <td>12416</td>\n    </tr>\n    <tr>\n      <th>11</th>\n      <td>12</td>\n      <td>12414</td>\n    </tr>\n  </tbody>\n</table>\n</div>"
     },
     "execution_count": 36,
     "metadata": {},
     "output_type": "execute_result"
    }
   ],
   "source": [
    "# Monthly sales Quantity Sold (kilo) in 2022\n",
    "sales_data_2022 = ds_2022.groupby(ds_2022['Date'].dt.month)['Quantity Sold (kilo)'].sum().reset_index().rename(columns = {\"Date\" : \"Month\"}).round(0).astype('int')\n",
    "sales_data_2022"
   ],
   "metadata": {
    "collapsed": false,
    "ExecuteTime": {
     "end_time": "2024-01-16T19:21:05.178374100Z",
     "start_time": "2024-01-16T19:21:05.162211200Z"
    }
   },
   "id": "d6a6e347c806ca81"
  },
  {
   "cell_type": "code",
   "execution_count": 48,
   "outputs": [
    {
     "data": {
      "text/plain": "<Figure size 500x300 with 1 Axes>",
      "image/png": "[encoded data removed]"
     },
     "metadata": {},
     "output_type": "display_data"
    }
   ],
   "source": [
    "# Plotting the scatter plot for 2021 and 2022 on the same plot\n",
    "plt.figure(figsize=(5, 3))\n",
    "plt.scatter(sales_data_2021['Month'], sales_data_2021['Quantity Sold (kilo)'], label='2021', marker='o')\n",
    "plt.scatter(sales_data_2022['Month'], sales_data_2022['Quantity Sold (kilo)'], label='2022', marker='x')\n",
    "\n",
    "plt.title('Quantity sold (kilo) in 2021 and 2022')\n",
    "plt.xlabel('Month')\n",
    "plt.ylabel('Quantity Sold (kilo)')\n",
    "plt.legend()\n",
    "plt.show()"
   ],
   "metadata": {
    "collapsed": false,
    "ExecuteTime": {
     "end_time": "2024-01-16T19:36:18.200286100Z",
     "start_time": "2024-01-16T19:36:18.098927600Z"
    }
   },
   "id": "32622f3d5c705100"
  },
  {
   "cell_type": "code",
   "execution_count": 48,
   "outputs": [],
   "source": [
    "\n"
   ],
   "metadata": {
    "collapsed": false,
    "ExecuteTime": {
     "end_time": "2024-01-16T19:36:28.881343600Z",
     "start_time": "2024-01-16T19:36:28.881343600Z"
    }
   },
   "id": "b8d8c5d76ab74e58"
  },
  {
   "cell_type": "code",
   "execution_count": null,
   "outputs": [],
   "source": [],
   "metadata": {
    "collapsed": false
   },
   "id": "bb5ca63538e966b0"
  }
 ],
 "metadata": {
  "kernelspec": {
   "display_name": "Python 3",
   "language": "python",
   "name": "python3"
  },
  "language_info": {
   "codemirror_mode": {
    "name": "ipython",
    "version": 2
   },
   "file_extension": ".py",
   "mimetype": "text/x-python",
   "name": "python",
   "nbconvert_exporter": "python",
   "pygments_lexer": "ipython2",
   "version": "2.7.6"
  }
 },
 "nbformat": 4,
 "nbformat_minor": 5
}
