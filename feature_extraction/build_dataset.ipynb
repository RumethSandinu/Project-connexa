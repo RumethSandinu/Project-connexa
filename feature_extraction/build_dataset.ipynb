{
 "cells": [
  {
   "cell_type": "code",
   "execution_count": null,
   "id": "initial_id",
   "metadata": {
    "collapsed": true
   },
   "outputs": [],
   "source": [
    "import pandas as pd"
   ]
  },
  {
   "cell_type": "code",
   "execution_count": null,
   "outputs": [],
   "source": [
    "# load item.csv\n",
    "df1 = pd.read_csv('../../datasets/annex/item.csv')\n",
    "df1.head()"
   ],
   "metadata": {
    "collapsed": false
   },
   "id": "8e4f9211ddae87b6"
  },
  {
   "cell_type": "code",
   "execution_count": null,
   "outputs": [],
   "source": [
    "df1.info()"
   ],
   "metadata": {
    "collapsed": false
   },
   "id": "78ed671b18013277"
  },
  {
   "cell_type": "code",
   "execution_count": null,
   "outputs": [],
   "source": [
    "# check if item code duplicates\n",
    "df1['Item Code'].duplicated().value_counts()"
   ],
   "metadata": {
    "collapsed": false
   },
   "id": "34b9ca94737f53fb"
  },
  {
   "cell_type": "code",
   "execution_count": null,
   "outputs": [],
   "source": [
    "# convert item code to object type to protect from type conversion\n",
    "df1['Item Code'] = df1['Item Code'].astype(str)\n",
    "\n",
    "# split item names where duplication name starts\n",
    "df1['Item Name'] = df1['Item Name'].apply(lambda x : x.split('(')[0])\n",
    "df1.sample(5)"
   ],
   "metadata": {
    "collapsed": false
   },
   "id": "d5acee1e3f03d6a"
  },
  {
   "cell_type": "code",
   "execution_count": null,
   "outputs": [],
   "source": [
    "# check for duplications names\n",
    "df1['Item Name'].duplicated().value_counts()"
   ],
   "metadata": {
    "collapsed": false
   },
   "id": "956218b5c7fc9825"
  },
  {
   "cell_type": "code",
   "execution_count": null,
   "outputs": [],
   "source": [
    "# drop the duplicates keeping only first value\n",
    "df1 = df1.drop_duplicates(subset=['Item Name'], keep='first')\n",
    "df1.shape"
   ],
   "metadata": {
    "collapsed": false
   },
   "id": "3175a0cf2d606740"
  },
  {
   "cell_type": "code",
   "execution_count": null,
   "outputs": [],
   "source": [
    "# check the frequency of each catgory name\n",
    "df1['Category Name'].value_counts()"
   ],
   "metadata": {
    "collapsed": false
   },
   "id": "b1ca6678c24298fd"
  },
  {
   "cell_type": "code",
   "execution_count": null,
   "outputs": [],
   "source": [
    "def rename_category(data):\n",
    "    if data == 'Flower/Leaf Vegetables':\n",
    "        return 'Flower'\n",
    "    if data == 'Edible Mushroom':\n",
    "        return 'Mushroom'\n",
    "    if data == 'Aquatic Tuberous Vegetables':\n",
    "        return 'Aquatic'\n",
    "    return data\n",
    "\n",
    "df1['Category Name'] = df1['Category Name'].astype(str)\n",
    "\n",
    "# rename all Flower/Leaf Vegetables values to readable value\n",
    "df1['Category Name'] = df1['Category Name'].apply(rename_category)\n",
    "df1['Category Name'].value_counts()"
   ],
   "metadata": {
    "collapsed": false
   },
   "id": "e8123fbaed77245a"
  },
  {
   "cell_type": "code",
   "outputs": [],
   "source": [
    "df1['Item Name'] = df1['Item Name'].str.lower()\n",
    "df1['Category Name'] = df1['Category Name'].str.lower()\n",
    "df1.sample()"
   ],
   "metadata": {
    "collapsed": false
   },
   "id": "e144b120c12e774f",
   "execution_count": null
  },
  {
   "cell_type": "code",
   "execution_count": null,
   "outputs": [],
   "source": [
    "# load the sale.csv dataset\n",
    "df3 = pd.read_csv('/Users/rumethsandinu/Study/Assessments/Year 2/DSGP/Datasets/annex/sale.csv')\n",
    "df3.head()"
   ],
   "metadata": {
    "collapsed": false
   },
   "id": "e91032627b07ee8c"
  },
  {
   "cell_type": "code",
   "execution_count": null,
   "outputs": [],
   "source": [
    "df3.info()"
   ],
   "metadata": {
    "collapsed": false
   },
   "id": "cbba1e17241ebd7e"
  },
  {
   "cell_type": "code",
   "execution_count": null,
   "outputs": [],
   "source": [
    "# convert item code to object type to protect from type conversion\n",
    "df3['Item Code'] = df3['Item Code'].astype(str)"
   ],
   "metadata": {
    "collapsed": false
   },
   "id": "516950ee36b32e26"
  },
  {
   "cell_type": "code",
   "execution_count": null,
   "outputs": [],
   "source": [
    "# get item codes in df1 which present in df3\n",
    "df1 = df1[df1['Item Code'].isin(df3['Item Code'])]\n",
    "df1.shape"
   ],
   "metadata": {
    "collapsed": false
   },
   "id": "36f13c005a0065f0"
  },
  {
   "cell_type": "code",
   "execution_count": null,
   "outputs": [],
   "source": [
    "# get item codes in df3 which present in df1\n",
    "df3 = df3[df3['Item Code'].isin(df1['Item Code'])]\n",
    "\n",
    "df3.shape"
   ],
   "metadata": {
    "collapsed": false
   },
   "id": "6589b5cecc2993c"
  },
  {
   "cell_type": "code",
   "execution_count": null,
   "outputs": [],
   "source": [
    "# getting a copy of df3 and assigning it to dff\n",
    "dff = df3.copy().reset_index(drop=True)\n",
    "dff.info()"
   ],
   "metadata": {
    "collapsed": false
   },
   "id": "70e418d00022cc43"
  },
  {
   "cell_type": "code",
   "execution_count": null,
   "outputs": [],
   "source": [
    "# merge df3 with df1 (item name, category name)\n",
    "for i in range(dff.shape[0]):\n",
    "    for j in range(df1.shape[0]):\n",
    "        if dff['Item Code'].values[i] == df1['Item Code'].values[j]:\n",
    "            dff.at[i, 'Item Name'] = df1['Item Name'].values[j]\n",
    "            dff.at[i, 'Category Name'] = df1['Category Name'].values[j]\n",
    "            break\n",
    "\n",
    "dff.info()"
   ],
   "metadata": {
    "collapsed": false
   },
   "id": "f7fb01539b2247e3"
  },
  {
   "cell_type": "code",
   "execution_count": null,
   "outputs": [],
   "source": [
    "# Get the column names to lists\n",
    "\n",
    "first_columns = dff.columns[:-2].tolist()\n",
    "last_two_columns = dff.columns[-2:].tolist()\n",
    "\n",
    "# Rearrange the columns\n",
    "\n",
    "order = last_two_columns + first_columns\n",
    "dff = dff[order]\n",
    "\n",
    "# check all the operations successful\n",
    "dff.sample(2)"
   ],
   "metadata": {
    "collapsed": false
   },
   "id": "3befb7395baaec6"
  },
  {
   "cell_type": "code",
   "outputs": [],
   "source": [
    "# check date range\n",
    "dff['Date'].min(), dff['Date'].max()"
   ],
   "metadata": {
    "collapsed": false
   },
   "id": "7bfaa8dba0d2c4e2",
   "execution_count": null
  },
  {
   "cell_type": "code",
   "outputs": [],
   "source": [
    "# select 2 year range of data\n",
    "df = dff[(dff['Date'] >= '2021-01-01') & (dff['Date'] <= '2022-12-31')]\n",
    "df.shape"
   ],
   "metadata": {
    "collapsed": false
   },
   "id": "681bcaece6ddae5a",
   "execution_count": null
  },
  {
   "cell_type": "code",
   "execution_count": null,
   "outputs": [],
   "source": [
    "# save built dataset\n",
    "dff.to_csv(\"../../datasets/built_dataset.csv\", index=False)"
   ],
   "metadata": {
    "collapsed": false
   },
   "id": "d1aeb15737715773"
  }
 ],
 "metadata": {
  "kernelspec": {
   "display_name": "Python 3",
   "language": "python",
   "name": "python3"
  },
  "language_info": {
   "codemirror_mode": {
    "name": "ipython",
    "version": 2
   },
   "file_extension": ".py",
   "mimetype": "text/x-python",
   "name": "python",
   "nbconvert_exporter": "python",
   "pygments_lexer": "ipython2",
   "version": "2.7.6"
  }
 },
 "nbformat": 4,
 "nbformat_minor": 5
}
