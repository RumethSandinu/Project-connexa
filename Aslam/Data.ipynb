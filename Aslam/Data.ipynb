{
 "cells": [
  {
   "cell_type": "code",
   "execution_count": 45,
   "outputs": [],
   "source": [
    "import pandas as pd\n",
    "import numpy as np"
   ],
   "metadata": {
    "collapsed": false,
    "ExecuteTime": {
     "end_time": "2023-11-13T14:22:05.898748900Z",
     "start_time": "2023-11-13T14:22:05.866070Z"
    }
   },
   "id": "db8d2926aeaf3fa8"
  },
  {
   "cell_type": "code",
   "execution_count": 46,
   "outputs": [
    {
     "data": {
      "text/plain": "         Item Code              Item Name  Category Code  \\\n0  102900005115168       Niushou Shengcai     1011010101   \n1  102900005115199      Sichuan Red Cedar     1011010101   \n2  102900005115625  Local Xiaomao Cabbage     1011010101   \n3  102900005115748           White Caitai     1011010101   \n4  102900005115762               Amaranth     1011010101   \n5  102900005115779        Yunnan Shengcai     1011010101   \n6  102900005115786               Zhuyecai     1011010101   \n7  102900005115793        Chinese Cabbage     1011010101   \n8  102900005115816             Nanguajian     1011010101   \n9  102900005115823           Shanghaiqing     1011010101   \n\n            Category Name  \n0  Flower/Leaf Vegetables  \n1  Flower/Leaf Vegetables  \n2  Flower/Leaf Vegetables  \n3  Flower/Leaf Vegetables  \n4  Flower/Leaf Vegetables  \n5  Flower/Leaf Vegetables  \n6  Flower/Leaf Vegetables  \n7  Flower/Leaf Vegetables  \n8  Flower/Leaf Vegetables  \n9  Flower/Leaf Vegetables  ",
      "text/html": "<div>\n<style scoped>\n    .dataframe tbody tr th:only-of-type {\n        vertical-align: middle;\n    }\n\n    .dataframe tbody tr th {\n        vertical-align: top;\n    }\n\n    .dataframe thead th {\n        text-align: right;\n    }\n</style>\n<table border=\"1\" class=\"dataframe\">\n  <thead>\n    <tr style=\"text-align: right;\">\n      <th></th>\n      <th>Item Code</th>\n      <th>Item Name</th>\n      <th>Category Code</th>\n      <th>Category Name</th>\n    </tr>\n  </thead>\n  <tbody>\n    <tr>\n      <th>0</th>\n      <td>102900005115168</td>\n      <td>Niushou Shengcai</td>\n      <td>1011010101</td>\n      <td>Flower/Leaf Vegetables</td>\n    </tr>\n    <tr>\n      <th>1</th>\n      <td>102900005115199</td>\n      <td>Sichuan Red Cedar</td>\n      <td>1011010101</td>\n      <td>Flower/Leaf Vegetables</td>\n    </tr>\n    <tr>\n      <th>2</th>\n      <td>102900005115625</td>\n      <td>Local Xiaomao Cabbage</td>\n      <td>1011010101</td>\n      <td>Flower/Leaf Vegetables</td>\n    </tr>\n    <tr>\n      <th>3</th>\n      <td>102900005115748</td>\n      <td>White Caitai</td>\n      <td>1011010101</td>\n      <td>Flower/Leaf Vegetables</td>\n    </tr>\n    <tr>\n      <th>4</th>\n      <td>102900005115762</td>\n      <td>Amaranth</td>\n      <td>1011010101</td>\n      <td>Flower/Leaf Vegetables</td>\n    </tr>\n    <tr>\n      <th>5</th>\n      <td>102900005115779</td>\n      <td>Yunnan Shengcai</td>\n      <td>1011010101</td>\n      <td>Flower/Leaf Vegetables</td>\n    </tr>\n    <tr>\n      <th>6</th>\n      <td>102900005115786</td>\n      <td>Zhuyecai</td>\n      <td>1011010101</td>\n      <td>Flower/Leaf Vegetables</td>\n    </tr>\n    <tr>\n      <th>7</th>\n      <td>102900005115793</td>\n      <td>Chinese Cabbage</td>\n      <td>1011010101</td>\n      <td>Flower/Leaf Vegetables</td>\n    </tr>\n    <tr>\n      <th>8</th>\n      <td>102900005115816</td>\n      <td>Nanguajian</td>\n      <td>1011010101</td>\n      <td>Flower/Leaf Vegetables</td>\n    </tr>\n    <tr>\n      <th>9</th>\n      <td>102900005115823</td>\n      <td>Shanghaiqing</td>\n      <td>1011010101</td>\n      <td>Flower/Leaf Vegetables</td>\n    </tr>\n  </tbody>\n</table>\n</div>"
     },
     "execution_count": 46,
     "metadata": {},
     "output_type": "execute_result"
    }
   ],
   "source": [
    "df = pd.read_csv(r\"C:\\Users\\TUF\\Desktop\\dataset\\annex1.csv\")\n",
    "df.head(10)"
   ],
   "metadata": {
    "collapsed": false,
    "ExecuteTime": {
     "end_time": "2023-11-13T14:22:05.976742900Z",
     "start_time": "2023-11-13T14:22:05.867797300Z"
    }
   },
   "id": "d324e74c3b069332"
  },
  {
   "cell_type": "code",
   "execution_count": 47,
   "outputs": [
    {
     "data": {
      "text/plain": "Item Code         int64\nItem Name        object\nCategory Code     int64\nCategory Name    object\ndtype: object"
     },
     "execution_count": 47,
     "metadata": {},
     "output_type": "execute_result"
    }
   ],
   "source": [
    "df.dtypes"
   ],
   "metadata": {
    "collapsed": false,
    "ExecuteTime": {
     "end_time": "2023-11-13T14:22:05.976742900Z",
     "start_time": "2023-11-13T14:22:05.886162100Z"
    }
   },
   "id": "667f2002e66dd65"
  },
  {
   "cell_type": "code",
   "execution_count": 48,
   "outputs": [
    {
     "data": {
      "text/plain": "          Item Code  Category Code\ncount  2.510000e+02   2.510000e+02\nmean   1.031908e+14   1.011010e+09\nstd    1.048400e+12   2.915469e+02\nmin    1.029000e+14   1.011010e+09\n25%    1.029000e+14   1.011010e+09\n50%    1.029000e+14   1.011011e+09\n75%    1.029000e+14   1.011011e+09\nmax    1.069740e+14   1.011011e+09",
      "text/html": "<div>\n<style scoped>\n    .dataframe tbody tr th:only-of-type {\n        vertical-align: middle;\n    }\n\n    .dataframe tbody tr th {\n        vertical-align: top;\n    }\n\n    .dataframe thead th {\n        text-align: right;\n    }\n</style>\n<table border=\"1\" class=\"dataframe\">\n  <thead>\n    <tr style=\"text-align: right;\">\n      <th></th>\n      <th>Item Code</th>\n      <th>Category Code</th>\n    </tr>\n  </thead>\n  <tbody>\n    <tr>\n      <th>count</th>\n      <td>2.510000e+02</td>\n      <td>2.510000e+02</td>\n    </tr>\n    <tr>\n      <th>mean</th>\n      <td>1.031908e+14</td>\n      <td>1.011010e+09</td>\n    </tr>\n    <tr>\n      <th>std</th>\n      <td>1.048400e+12</td>\n      <td>2.915469e+02</td>\n    </tr>\n    <tr>\n      <th>min</th>\n      <td>1.029000e+14</td>\n      <td>1.011010e+09</td>\n    </tr>\n    <tr>\n      <th>25%</th>\n      <td>1.029000e+14</td>\n      <td>1.011010e+09</td>\n    </tr>\n    <tr>\n      <th>50%</th>\n      <td>1.029000e+14</td>\n      <td>1.011011e+09</td>\n    </tr>\n    <tr>\n      <th>75%</th>\n      <td>1.029000e+14</td>\n      <td>1.011011e+09</td>\n    </tr>\n    <tr>\n      <th>max</th>\n      <td>1.069740e+14</td>\n      <td>1.011011e+09</td>\n    </tr>\n  </tbody>\n</table>\n</div>"
     },
     "execution_count": 48,
     "metadata": {},
     "output_type": "execute_result"
    }
   ],
   "source": [
    "df.describe()"
   ],
   "metadata": {
    "collapsed": false,
    "ExecuteTime": {
     "end_time": "2023-11-13T14:22:05.976742900Z",
     "start_time": "2023-11-13T14:22:05.893239700Z"
    }
   },
   "id": "addf43ec183139c3"
  },
  {
   "cell_type": "code",
   "execution_count": 49,
   "outputs": [
    {
     "name": "stdout",
     "output_type": "stream",
     "text": [
      "<class 'pandas.core.frame.DataFrame'>\n",
      "RangeIndex: 251 entries, 0 to 250\n",
      "Data columns (total 4 columns):\n",
      " #   Column         Non-Null Count  Dtype \n",
      "---  ------         --------------  ----- \n",
      " 0   Item Code      251 non-null    int64 \n",
      " 1   Item Name      251 non-null    object\n",
      " 2   Category Code  251 non-null    int64 \n",
      " 3   Category Name  251 non-null    object\n",
      "dtypes: int64(2), object(2)\n",
      "memory usage: 8.0+ KB\n"
     ]
    }
   ],
   "source": [
    "df.info()"
   ],
   "metadata": {
    "collapsed": false,
    "ExecuteTime": {
     "end_time": "2023-11-13T14:22:05.976742900Z",
     "start_time": "2023-11-13T14:22:05.914483900Z"
    }
   },
   "id": "cf870363884c96eb"
  },
  {
   "cell_type": "code",
   "execution_count": 50,
   "outputs": [
    {
     "data": {
      "text/plain": "Item Code        0\nItem Name        0\nCategory Code    0\nCategory Name    0\ndtype: int64"
     },
     "execution_count": 50,
     "metadata": {},
     "output_type": "execute_result"
    }
   ],
   "source": [
    "df.isnull().sum() #Apparently,there are no null data"
   ],
   "metadata": {
    "collapsed": false,
    "ExecuteTime": {
     "end_time": "2023-11-13T14:22:05.976742900Z",
     "start_time": "2023-11-13T14:22:05.926212900Z"
    }
   },
   "id": "a7a00566e0acbda8"
  },
  {
   "cell_type": "code",
   "execution_count": 51,
   "outputs": [
    {
     "data": {
      "text/plain": "           Item Code                                     Item Name  \\\n241  106949711300259                         needle mushroom (box)   \n242  106956146480197                        the white mushroom (2)   \n243  106956146480203                  the crab flavor mushroom (2)   \n244  106957634300010                      the white mushroom (box)   \n245  106957634300058                the crab flavor mushroom (box)   \n246  106958851400125                    haixian mushroom (bag) (4)   \n247  106971533450003                      haixian mushroom (bunch)   \n248  106971533455008                    haixian mushroom (bag) (3)   \n249  106973223300667  chinese caterpillar fungus flowers (box) (2)   \n250  106973990980123                 hfyg haixian mushroom (bunch)   \n\n     Category Code    Category Name  \n241     1011010801  edible mushroom  \n242     1011010801  edible mushroom  \n243     1011010801  edible mushroom  \n244     1011010801  edible mushroom  \n245     1011010801  edible mushroom  \n246     1011010801  edible mushroom  \n247     1011010801  edible mushroom  \n248     1011010801  edible mushroom  \n249     1011010801  edible mushroom  \n250     1011010801  edible mushroom  ",
      "text/html": "<div>\n<style scoped>\n    .dataframe tbody tr th:only-of-type {\n        vertical-align: middle;\n    }\n\n    .dataframe tbody tr th {\n        vertical-align: top;\n    }\n\n    .dataframe thead th {\n        text-align: right;\n    }\n</style>\n<table border=\"1\" class=\"dataframe\">\n  <thead>\n    <tr style=\"text-align: right;\">\n      <th></th>\n      <th>Item Code</th>\n      <th>Item Name</th>\n      <th>Category Code</th>\n      <th>Category Name</th>\n    </tr>\n  </thead>\n  <tbody>\n    <tr>\n      <th>241</th>\n      <td>106949711300259</td>\n      <td>needle mushroom (box)</td>\n      <td>1011010801</td>\n      <td>edible mushroom</td>\n    </tr>\n    <tr>\n      <th>242</th>\n      <td>106956146480197</td>\n      <td>the white mushroom (2)</td>\n      <td>1011010801</td>\n      <td>edible mushroom</td>\n    </tr>\n    <tr>\n      <th>243</th>\n      <td>106956146480203</td>\n      <td>the crab flavor mushroom (2)</td>\n      <td>1011010801</td>\n      <td>edible mushroom</td>\n    </tr>\n    <tr>\n      <th>244</th>\n      <td>106957634300010</td>\n      <td>the white mushroom (box)</td>\n      <td>1011010801</td>\n      <td>edible mushroom</td>\n    </tr>\n    <tr>\n      <th>245</th>\n      <td>106957634300058</td>\n      <td>the crab flavor mushroom (box)</td>\n      <td>1011010801</td>\n      <td>edible mushroom</td>\n    </tr>\n    <tr>\n      <th>246</th>\n      <td>106958851400125</td>\n      <td>haixian mushroom (bag) (4)</td>\n      <td>1011010801</td>\n      <td>edible mushroom</td>\n    </tr>\n    <tr>\n      <th>247</th>\n      <td>106971533450003</td>\n      <td>haixian mushroom (bunch)</td>\n      <td>1011010801</td>\n      <td>edible mushroom</td>\n    </tr>\n    <tr>\n      <th>248</th>\n      <td>106971533455008</td>\n      <td>haixian mushroom (bag) (3)</td>\n      <td>1011010801</td>\n      <td>edible mushroom</td>\n    </tr>\n    <tr>\n      <th>249</th>\n      <td>106973223300667</td>\n      <td>chinese caterpillar fungus flowers (box) (2)</td>\n      <td>1011010801</td>\n      <td>edible mushroom</td>\n    </tr>\n    <tr>\n      <th>250</th>\n      <td>106973990980123</td>\n      <td>hfyg haixian mushroom (bunch)</td>\n      <td>1011010801</td>\n      <td>edible mushroom</td>\n    </tr>\n  </tbody>\n</table>\n</div>"
     },
     "execution_count": 51,
     "metadata": {},
     "output_type": "execute_result"
    }
   ],
   "source": [
    "# Convert text data to lowercase in the process of standardisation \n",
    "df['Item Name'] = df['Item Name'].str.lower()\n",
    "df['Category Name'] = df['Category Name'].str.lower()\n",
    "df.tail(10)"
   ],
   "metadata": {
    "collapsed": false,
    "ExecuteTime": {
     "end_time": "2023-11-13T14:22:06.023634300Z",
     "start_time": "2023-11-13T14:22:05.937760300Z"
    }
   },
   "id": "4c16e78a61657f5d"
  },
  {
   "cell_type": "code",
   "execution_count": 52,
   "outputs": [
    {
     "data": {
      "text/plain": "<Figure size 640x480 with 1 Axes>",
      "image/png": "[encoded data removed]"
     },
     "metadata": {},
     "output_type": "display_data"
    }
   ],
   "source": [
    "from matplotlib import pyplot as plt\n",
    "\n",
    "#Checking for unusually long or short text . Did this simply , might remove it later.\n",
    "df['text_length'] = df['Category Name'].apply(len)\n",
    "\n",
    "plt.hist(df['text_length'], bins='auto')\n",
    "plt.xlabel('Category Name Text Length')\n",
    "plt.ylabel('Frequency')\n",
    "plt.title('Distribution of Text Lengths')\n",
    "plt.show()"
   ],
   "metadata": {
    "collapsed": false,
    "ExecuteTime": {
     "end_time": "2023-11-13T14:22:06.383377700Z",
     "start_time": "2023-11-13T14:22:05.955600600Z"
    }
   },
   "id": "a48eefa1377fa14e"
  },
  {
   "cell_type": "code",
   "execution_count": 53,
   "outputs": [
    {
     "data": {
      "text/plain": "<Figure size 640x480 with 1 Axes>",
      "image/png": "[encoded data removed]"
     },
     "metadata": {},
     "output_type": "display_data"
    }
   ],
   "source": [
    "#Checking for unusually long or short text .Did this simply , might remove it later.\n",
    "df['text_length'] = df['Item Name'].apply(len)\n",
    "\n",
    "plt.hist(df['text_length'], bins='auto')\n",
    "plt.xlabel('Item Name Text Length')\n",
    "plt.ylabel('Frequency')\n",
    "plt.title('Distribution of Text Lengths')\n",
    "plt.show()"
   ],
   "metadata": {
    "collapsed": false,
    "ExecuteTime": {
     "end_time": "2023-11-13T14:22:06.539976300Z",
     "start_time": "2023-11-13T14:22:06.166670700Z"
    }
   },
   "id": "c51ff135c6796e4d"
  },
  {
   "cell_type": "code",
   "execution_count": 54,
   "outputs": [
    {
     "data": {
      "text/plain": "          Item Code                 Item Name  Category Code  \\\n0   102900005115168          niushou shengcai     1011010101   \n1   102900005115199         sichuan red cedar     1011010101   \n2   102900005115625     local xiaomao cabbage     1011010101   \n3   102900005115748              white caitai     1011010101   \n4   102900005115762                  amaranth     1011010101   \n5   102900005115779           yunnan shengcai     1011010101   \n6   102900005115786                  zhuyecai     1011010101   \n7   102900005115793           chinese cabbage     1011010101   \n8   102900005115816                nanguajian     1011010101   \n9   102900005115823              shanghaiqing     1011010101   \n10  102900005115854             radish leaves     1011010101   \n11  102900005115861            niushou youcai     1011010101   \n12  102900005115878      garden chrysanthemum     1011010101   \n13  102900005115885  caidian quinoa artemisia     1011010101   \n14  102900005115908                    caixin     1011010101   \n\n            Category Name  text_length  \n0   flower/leafvegetables           16  \n1   flower/leafvegetables           17  \n2   flower/leafvegetables           21  \n3   flower/leafvegetables           12  \n4   flower/leafvegetables            8  \n5   flower/leafvegetables           15  \n6   flower/leafvegetables            8  \n7   flower/leafvegetables           15  \n8   flower/leafvegetables           10  \n9   flower/leafvegetables           12  \n10  flower/leafvegetables           13  \n11  flower/leafvegetables           14  \n12  flower/leafvegetables           20  \n13  flower/leafvegetables           24  \n14  flower/leafvegetables            6  ",
      "text/html": "<div>\n<style scoped>\n    .dataframe tbody tr th:only-of-type {\n        vertical-align: middle;\n    }\n\n    .dataframe tbody tr th {\n        vertical-align: top;\n    }\n\n    .dataframe thead th {\n        text-align: right;\n    }\n</style>\n<table border=\"1\" class=\"dataframe\">\n  <thead>\n    <tr style=\"text-align: right;\">\n      <th></th>\n      <th>Item Code</th>\n      <th>Item Name</th>\n      <th>Category Code</th>\n      <th>Category Name</th>\n      <th>text_length</th>\n    </tr>\n  </thead>\n  <tbody>\n    <tr>\n      <th>0</th>\n      <td>102900005115168</td>\n      <td>niushou shengcai</td>\n      <td>1011010101</td>\n      <td>flower/leafvegetables</td>\n      <td>16</td>\n    </tr>\n    <tr>\n      <th>1</th>\n      <td>102900005115199</td>\n      <td>sichuan red cedar</td>\n      <td>1011010101</td>\n      <td>flower/leafvegetables</td>\n      <td>17</td>\n    </tr>\n    <tr>\n      <th>2</th>\n      <td>102900005115625</td>\n      <td>local xiaomao cabbage</td>\n      <td>1011010101</td>\n      <td>flower/leafvegetables</td>\n      <td>21</td>\n    </tr>\n    <tr>\n      <th>3</th>\n      <td>102900005115748</td>\n      <td>white caitai</td>\n      <td>1011010101</td>\n      <td>flower/leafvegetables</td>\n      <td>12</td>\n    </tr>\n    <tr>\n      <th>4</th>\n      <td>102900005115762</td>\n      <td>amaranth</td>\n      <td>1011010101</td>\n      <td>flower/leafvegetables</td>\n      <td>8</td>\n    </tr>\n    <tr>\n      <th>5</th>\n      <td>102900005115779</td>\n      <td>yunnan shengcai</td>\n      <td>1011010101</td>\n      <td>flower/leafvegetables</td>\n      <td>15</td>\n    </tr>\n    <tr>\n      <th>6</th>\n      <td>102900005115786</td>\n      <td>zhuyecai</td>\n      <td>1011010101</td>\n      <td>flower/leafvegetables</td>\n      <td>8</td>\n    </tr>\n    <tr>\n      <th>7</th>\n      <td>102900005115793</td>\n      <td>chinese cabbage</td>\n      <td>1011010101</td>\n      <td>flower/leafvegetables</td>\n      <td>15</td>\n    </tr>\n    <tr>\n      <th>8</th>\n      <td>102900005115816</td>\n      <td>nanguajian</td>\n      <td>1011010101</td>\n      <td>flower/leafvegetables</td>\n      <td>10</td>\n    </tr>\n    <tr>\n      <th>9</th>\n      <td>102900005115823</td>\n      <td>shanghaiqing</td>\n      <td>1011010101</td>\n      <td>flower/leafvegetables</td>\n      <td>12</td>\n    </tr>\n    <tr>\n      <th>10</th>\n      <td>102900005115854</td>\n      <td>radish leaves</td>\n      <td>1011010101</td>\n      <td>flower/leafvegetables</td>\n      <td>13</td>\n    </tr>\n    <tr>\n      <th>11</th>\n      <td>102900005115861</td>\n      <td>niushou youcai</td>\n      <td>1011010101</td>\n      <td>flower/leafvegetables</td>\n      <td>14</td>\n    </tr>\n    <tr>\n      <th>12</th>\n      <td>102900005115878</td>\n      <td>garden chrysanthemum</td>\n      <td>1011010101</td>\n      <td>flower/leafvegetables</td>\n      <td>20</td>\n    </tr>\n    <tr>\n      <th>13</th>\n      <td>102900005115885</td>\n      <td>caidian quinoa artemisia</td>\n      <td>1011010101</td>\n      <td>flower/leafvegetables</td>\n      <td>24</td>\n    </tr>\n    <tr>\n      <th>14</th>\n      <td>102900005115908</td>\n      <td>caixin</td>\n      <td>1011010101</td>\n      <td>flower/leafvegetables</td>\n      <td>6</td>\n    </tr>\n  </tbody>\n</table>\n</div>"
     },
     "execution_count": 54,
     "metadata": {},
     "output_type": "execute_result"
    }
   ],
   "source": [
    "#Removing Non-breaking space characters\n",
    "df['Category Name'] = df['Category Name'].str.replace('\\xa0', '') \n",
    "df.head(15)"
   ],
   "metadata": {
    "collapsed": false,
    "ExecuteTime": {
     "end_time": "2023-11-13T14:22:06.539976300Z",
     "start_time": "2023-11-13T14:22:06.434053300Z"
    }
   },
   "id": "e726d9eb3e250835"
  },
  {
   "cell_type": "code",
   "execution_count": 55,
   "outputs": [
    {
     "data": {
      "text/plain": "Item Name\nchinese caterpillar fungus flowers (bag)    2\nbroccoli                                    2\napricot bao mushroom (bag)                  2\nchinese cabbage                             2\nfruit pepper (bag)                          1\n                                           ..\nxianzongye (bag) (1)                        1\nforeign garland chrysanthemum  (bag)        1\nlongyacai                                   1\nyellow baicai (1)                           1\nhfyg haixian mushroom (bunch)               1\nName: count, Length: 247, dtype: int64"
     },
     "execution_count": 55,
     "metadata": {},
     "output_type": "execute_result"
    }
   ],
   "source": [
    "item_name_counts = df['Item Name'].value_counts()\n",
    "item_name_counts\n"
   ],
   "metadata": {
    "collapsed": false,
    "ExecuteTime": {
     "end_time": "2023-11-13T14:22:06.539976300Z",
     "start_time": "2023-11-13T14:22:06.446557900Z"
    }
   },
   "id": "542bc8519cf5384c"
  },
  {
   "cell_type": "code",
   "execution_count": 56,
   "outputs": [],
   "source": [
    "#space for bar graph :item vs frequency"
   ],
   "metadata": {
    "collapsed": false,
    "ExecuteTime": {
     "end_time": "2023-11-13T14:22:06.539976300Z",
     "start_time": "2023-11-13T14:22:06.461389400Z"
    }
   },
   "id": "3e0a837f52c0ac6a"
  },
  {
   "cell_type": "code",
   "execution_count": 57,
   "outputs": [
    {
     "name": "stdout",
     "output_type": "stream",
     "text": [
      "         Item Code                  Item Name  Category Code  \\\n",
      "0  102900005115168  yunnan leaf lettuce (bag)     1011010101   \n",
      "1  102900005115199         purple cabbage (2)     1011010101   \n",
      "2  102900005115625                   zhuyecai     1011010101   \n",
      "3  102900005115748      local xiaomao cabbage     1011010101   \n",
      "4  102900005115762              radish leaves     1011010101   \n",
      "\n",
      "           Category Name  text_length  Customer ID  \n",
      "0  flower/leafvegetables           16        92540  \n",
      "1  flower/leafvegetables           17        10932  \n",
      "2  flower/leafvegetables           21        59768  \n",
      "3  flower/leafvegetables           12        52606  \n",
      "4  flower/leafvegetables            8        81911  \n"
     ]
    }
   ],
   "source": [
    "unique_items = df['Item Name'].unique()\n",
    "\n",
    "# Number of customers\n",
    "num_customers = len(df) // 2  # Assuming each customer buys at least two items\n",
    "\n",
    "# Generate random customer IDs\n",
    "customer_ids = np.random.randint(10000, 99999, size=num_customers)\n",
    "\n",
    "# Duplicate customer IDs to ensure each customer buys at least two items\n",
    "customer_ids = np.repeat(customer_ids, np.random.randint(2, 5, size=num_customers))\n",
    "\n",
    "# Shuffle the customer IDs to randomize the association with items\n",
    "np.random.shuffle(customer_ids)\n",
    "\n",
    "# Assign customer IDs and items to the DataFrame\n",
    "customer_item_association = np.random.choice(unique_items, len(df))\n",
    "df['Customer ID'] = np.tile(customer_ids, len(unique_items) // 2)[:len(df)]\n",
    "df['Item Name'] = customer_item_association\n",
    "\n",
    "# Display the resulting DataFrame\n",
    "print(df.head())\n"
   ],
   "metadata": {
    "collapsed": false,
    "ExecuteTime": {
     "end_time": "2023-11-13T14:22:06.539976300Z",
     "start_time": "2023-11-13T14:22:06.468864300Z"
    }
   },
   "id": "9ed5ea794cba981a"
  },
  {
   "cell_type": "code",
   "execution_count": 58,
   "outputs": [
    {
     "data": {
      "text/plain": "           Item Code                  Item Name  Category Code  \\\n0    102900005115168  yunnan leaf lettuce (bag)     1011010101   \n1    102900005115199         purple cabbage (2)     1011010101   \n2    102900005115625                   zhuyecai     1011010101   \n3    102900005115748      local xiaomao cabbage     1011010101   \n4    102900005115762              radish leaves     1011010101   \n..               ...                        ...            ...   \n246  106958851400125           red pepper (bag)     1011010801   \n247  106971533450003              millet pepper     1011010801   \n248  106971533455008              spinach (bag)     1011010801   \n249  106973223300667      needle mushroom (bag)     1011010801   \n250  106973990980123            hongshan caitai     1011010801   \n\n             Category Name  text_length  Customer ID  \n0    flower/leafvegetables           16        92540  \n1    flower/leafvegetables           17        10932  \n2    flower/leafvegetables           21        59768  \n3    flower/leafvegetables           12        52606  \n4    flower/leafvegetables            8        81911  \n..                     ...          ...          ...  \n246        edible mushroom           26        45960  \n247        edible mushroom           24        48559  \n248        edible mushroom           26        85187  \n249        edible mushroom           44        59768  \n250        edible mushroom           29        50675  \n\n[251 rows x 6 columns]",
      "text/html": "<div>\n<style scoped>\n    .dataframe tbody tr th:only-of-type {\n        vertical-align: middle;\n    }\n\n    .dataframe tbody tr th {\n        vertical-align: top;\n    }\n\n    .dataframe thead th {\n        text-align: right;\n    }\n</style>\n<table border=\"1\" class=\"dataframe\">\n  <thead>\n    <tr style=\"text-align: right;\">\n      <th></th>\n      <th>Item Code</th>\n      <th>Item Name</th>\n      <th>Category Code</th>\n      <th>Category Name</th>\n      <th>text_length</th>\n      <th>Customer ID</th>\n    </tr>\n  </thead>\n  <tbody>\n    <tr>\n      <th>0</th>\n      <td>102900005115168</td>\n      <td>yunnan leaf lettuce (bag)</td>\n      <td>1011010101</td>\n      <td>flower/leafvegetables</td>\n      <td>16</td>\n      <td>92540</td>\n    </tr>\n    <tr>\n      <th>1</th>\n      <td>102900005115199</td>\n      <td>purple cabbage (2)</td>\n      <td>1011010101</td>\n      <td>flower/leafvegetables</td>\n      <td>17</td>\n      <td>10932</td>\n    </tr>\n    <tr>\n      <th>2</th>\n      <td>102900005115625</td>\n      <td>zhuyecai</td>\n      <td>1011010101</td>\n      <td>flower/leafvegetables</td>\n      <td>21</td>\n      <td>59768</td>\n    </tr>\n    <tr>\n      <th>3</th>\n      <td>102900005115748</td>\n      <td>local xiaomao cabbage</td>\n      <td>1011010101</td>\n      <td>flower/leafvegetables</td>\n      <td>12</td>\n      <td>52606</td>\n    </tr>\n    <tr>\n      <th>4</th>\n      <td>102900005115762</td>\n      <td>radish leaves</td>\n      <td>1011010101</td>\n      <td>flower/leafvegetables</td>\n      <td>8</td>\n      <td>81911</td>\n    </tr>\n    <tr>\n      <th>...</th>\n      <td>...</td>\n      <td>...</td>\n      <td>...</td>\n      <td>...</td>\n      <td>...</td>\n      <td>...</td>\n    </tr>\n    <tr>\n      <th>246</th>\n      <td>106958851400125</td>\n      <td>red pepper (bag)</td>\n      <td>1011010801</td>\n      <td>edible mushroom</td>\n      <td>26</td>\n      <td>45960</td>\n    </tr>\n    <tr>\n      <th>247</th>\n      <td>106971533450003</td>\n      <td>millet pepper</td>\n      <td>1011010801</td>\n      <td>edible mushroom</td>\n      <td>24</td>\n      <td>48559</td>\n    </tr>\n    <tr>\n      <th>248</th>\n      <td>106971533455008</td>\n      <td>spinach (bag)</td>\n      <td>1011010801</td>\n      <td>edible mushroom</td>\n      <td>26</td>\n      <td>85187</td>\n    </tr>\n    <tr>\n      <th>249</th>\n      <td>106973223300667</td>\n      <td>needle mushroom (bag)</td>\n      <td>1011010801</td>\n      <td>edible mushroom</td>\n      <td>44</td>\n      <td>59768</td>\n    </tr>\n    <tr>\n      <th>250</th>\n      <td>106973990980123</td>\n      <td>hongshan caitai</td>\n      <td>1011010801</td>\n      <td>edible mushroom</td>\n      <td>29</td>\n      <td>50675</td>\n    </tr>\n  </tbody>\n</table>\n<p>251 rows × 6 columns</p>\n</div>"
     },
     "execution_count": 58,
     "metadata": {},
     "output_type": "execute_result"
    }
   ],
   "source": [
    "df"
   ],
   "metadata": {
    "collapsed": false,
    "ExecuteTime": {
     "end_time": "2023-11-13T14:22:36.137542100Z",
     "start_time": "2023-11-13T14:22:36.121413400Z"
    }
   },
   "id": "ee83c981d59958cc"
  },
  {
   "cell_type": "code",
   "execution_count": 59,
   "outputs": [
    {
     "name": "stdout",
     "output_type": "stream",
     "text": [
      "Average number of items bought by each customer: 2.163793103448276\n"
     ]
    }
   ],
   "source": [
    "average_items_per_customer = df.groupby('Customer ID')['Item Name'].count().mean()\n",
    "\n",
    "print(f\"Average number of items bought by each customer: {average_items_per_customer}\")\n"
   ],
   "metadata": {
    "collapsed": false,
    "ExecuteTime": {
     "end_time": "2023-11-13T14:49:49.134333300Z",
     "start_time": "2023-11-13T14:49:48.976085200Z"
    }
   },
   "id": "14ed6f8c882faf90"
  },
  {
   "cell_type": "code",
   "execution_count": 60,
   "outputs": [
    {
     "name": "stdout",
     "output_type": "stream",
     "text": [
      "hello\n"
     ]
    }
   ],
   "source": [
    "print(\"hello\")"
   ],
   "metadata": {
    "collapsed": false,
    "ExecuteTime": {
     "end_time": "2023-11-13T15:02:24.787249300Z",
     "start_time": "2023-11-13T15:02:24.706660400Z"
    }
   },
   "id": "bfdd2f979e30e49a"
  },
  {
   "cell_type": "code",
   "execution_count": null,
   "outputs": [],
   "source": [],
   "metadata": {
    "collapsed": false
   },
   "id": "983d5ee09ca77a89"
  }
 ],
 "metadata": {
  "kernelspec": {
   "display_name": "Python 3",
   "language": "python",
   "name": "python3"
  },
  "language_info": {
   "codemirror_mode": {
    "name": "ipython",
    "version": 2
   },
   "file_extension": ".py",
   "mimetype": "text/x-python",
   "name": "python",
   "nbconvert_exporter": "python",
   "pygments_lexer": "ipython2",
   "version": "2.7.6"
  }
 },
 "nbformat": 4,
 "nbformat_minor": 5
}
