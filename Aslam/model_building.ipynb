{
 "cells": [
  {
   "cell_type": "code",
   "execution_count": 1,
   "id": "initial_id",
   "metadata": {
    "collapsed": true,
    "ExecuteTime": {
     "end_time": "2024-01-11T11:39:08.461967800Z",
     "start_time": "2024-01-11T11:39:06.669102700Z"
    }
   },
   "outputs": [],
   "source": [
    "import pandas as pd"
   ]
  },
  {
   "cell_type": "code",
   "execution_count": null,
   "outputs": [],
   "source": [
    "df = pd.read_csv('../../datasets/annex/pre_processed_data.csv')"
   ],
   "metadata": {
    "collapsed": false
   },
   "id": "39fa193127a1e960"
  },
  {
   "cell_type": "code",
   "execution_count": 2,
   "outputs": [],
   "source": [
    "from sklearn.cluster import KMeans"
   ],
   "metadata": {
    "collapsed": false,
    "ExecuteTime": {
     "end_time": "2024-01-11T11:41:57.868086700Z",
     "start_time": "2024-01-11T11:41:53.602125400Z"
    }
   },
   "id": "312ae85024e2809a"
  },
  {
   "cell_type": "code",
   "execution_count": null,
   "outputs": [],
   "source": [
    "k_means = KMeans() #default 8 clusters\n",
    "k_values = range(1,11)\n",
    "\n",
    "#Using Elbow method to find the optimal number of clusters\n",
    "#Running the KMeans cluster algorithm in a loop provides WCSS : Within Clusters Sum of Squares metric\n",
    "#Inertia attribute k_means helps to find the wcss\n",
    "wcss_error = []\n",
    "for k in k_values :\n",
    "    model = KMeans(n_clusters= k)\n",
    "    model.fit(df)\n",
    "    wcss_error.append(model.inertia_)"
   ],
   "metadata": {
    "collapsed": false
   },
   "id": "8d191c06330879cd"
  },
  {
   "cell_type": "code",
   "execution_count": null,
   "outputs": [],
   "source": [
    "wcss_error"
   ],
   "metadata": {
    "collapsed": false
   },
   "id": "dea1c932c214ffe6"
  },
  {
   "cell_type": "code",
   "execution_count": null,
   "outputs": [],
   "source": [
    "import matplotlib as plt\n",
    "plt.plot(k_values, wcss_error)\n",
    "plt.xlabel('K value')\n",
    "plt.ylabel('WCSS error')"
   ],
   "metadata": {
    "collapsed": false
   },
   "id": "efb06662e83a9ff5"
  },
  {
   "cell_type": "code",
   "execution_count": null,
   "outputs": [],
   "source": [
    "pred = model.fit_predict(df)\n",
    "pred"
   ],
   "metadata": {
    "collapsed": false
   },
   "id": "df722621c5f2f07b"
  },
  {
   "cell_type": "code",
   "execution_count": null,
   "outputs": [],
   "source": [
    "df['cluster'] = pred"
   ],
   "metadata": {
    "collapsed": false
   },
   "id": "b1337a3a27106c59"
  },
  {
   "cell_type": "code",
   "execution_count": null,
   "outputs": [],
   "source": [
    "c1 = df[df['cluster'] == 0]"
   ],
   "metadata": {
    "collapsed": false
   },
   "id": "b03f200c4ad4b11c"
  },
  {
   "cell_type": "code",
   "execution_count": null,
   "outputs": [],
   "source": [
    "#plt.scatter(c1., c1.score)\n",
    "#plt.scatter(c2.income, c2.score)\n",
    "#plt.scatter(c3.income, c3.score)\n",
    "#plt.scatter(c4.income, c4.score)\n",
    "#plt.scatter(c5.income, c5.score)\n",
    "#plt.scatter(model.cluster_centers_[:,0],model.cluster_centers_[:, 1], color = '#000000')"
   ],
   "metadata": {
    "collapsed": false
   },
   "id": "f71b7948a6730095"
  }
 ],
 "metadata": {
  "kernelspec": {
   "display_name": "Python 3",
   "language": "python",
   "name": "python3"
  },
  "language_info": {
   "codemirror_mode": {
    "name": "ipython",
    "version": 2
   },
   "file_extension": ".py",
   "mimetype": "text/x-python",
   "name": "python",
   "nbconvert_exporter": "python",
   "pygments_lexer": "ipython2",
   "version": "2.7.6"
  }
 },
 "nbformat": 4,
 "nbformat_minor": 5
}
