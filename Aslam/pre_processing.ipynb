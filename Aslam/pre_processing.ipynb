{
 "cells": [
  {
   "cell_type": "code",
   "execution_count": 119,
   "id": "initial_id",
   "metadata": {
    "collapsed": true,
    "ExecuteTime": {
     "end_time": "2024-01-12T19:28:05.185602700Z",
     "start_time": "2024-01-12T19:28:05.103441300Z"
    }
   },
   "outputs": [],
   "source": [
    "import pandas as pd"
   ]
  },
  {
   "cell_type": "code",
   "execution_count": 120,
   "outputs": [
    {
     "name": "stdout",
     "output_type": "stream",
     "text": [
      "<class 'pandas.core.frame.DataFrame'>\n",
      "RangeIndex: 737337 entries, 0 to 737336\n",
      "Data columns (total 9 columns):\n",
      " #   Column                       Non-Null Count   Dtype  \n",
      "---  ------                       --------------   -----  \n",
      " 0   Item Name                    737337 non-null  object \n",
      " 1   Category Name                737337 non-null  object \n",
      " 2   Date                         737337 non-null  object \n",
      " 3   Time                         737337 non-null  object \n",
      " 4   Item Code                    737337 non-null  int64  \n",
      " 5   Quantity Sold (kilo)         737337 non-null  float64\n",
      " 6   Unit Selling Price (RMB/kg)  737337 non-null  float64\n",
      " 7   Sale or Return               737337 non-null  object \n",
      " 8   Discount (Yes/No)            737337 non-null  object \n",
      "dtypes: float64(2), int64(1), object(6)\n",
      "memory usage: 50.6+ MB\n"
     ]
    }
   ],
   "source": [
    "df = pd.read_csv(\"../../datasets/built_dataset.csv\")\n",
    "df.info() #Gives Information about null data and more"
   ],
   "metadata": {
    "collapsed": false,
    "ExecuteTime": {
     "end_time": "2024-01-12T19:28:06.514924600Z",
     "start_time": "2024-01-12T19:28:05.107448600Z"
    }
   },
   "id": "2e0dc98eb3e5a785"
  },
  {
   "cell_type": "code",
   "execution_count": 121,
   "outputs": [],
   "source": [
    "df = df.drop(columns=['Item Code', 'Unit Selling Price (RMB/kg)', 'Sale or Return', 'Discount (Yes/No)', 'Date', 'Time'])"
   ],
   "metadata": {
    "collapsed": false,
    "ExecuteTime": {
     "end_time": "2024-01-12T19:28:06.583246Z",
     "start_time": "2024-01-12T19:28:06.514924600Z"
    }
   },
   "id": "3ad17dc5083482f3"
  },
  {
   "cell_type": "code",
   "execution_count": 122,
   "outputs": [
    {
     "name": "stdout",
     "output_type": "stream",
     "text": [
      "<class 'pandas.core.frame.DataFrame'>\n",
      "RangeIndex: 737337 entries, 0 to 737336\n",
      "Data columns (total 3 columns):\n",
      " #   Column                Non-Null Count   Dtype  \n",
      "---  ------                --------------   -----  \n",
      " 0   Item Name             737337 non-null  object \n",
      " 1   Category Name         737337 non-null  object \n",
      " 2   Quantity Sold (kilo)  737337 non-null  float64\n",
      "dtypes: float64(1), object(2)\n",
      "memory usage: 16.9+ MB\n"
     ]
    }
   ],
   "source": [
    "df.info()"
   ],
   "metadata": {
    "collapsed": false,
    "ExecuteTime": {
     "end_time": "2024-01-12T19:28:06.618349700Z",
     "start_time": "2024-01-12T19:28:06.556106Z"
    }
   },
   "id": "e5a013034448cac8"
  },
  {
   "cell_type": "code",
   "execution_count": 123,
   "outputs": [
    {
     "data": {
      "text/plain": "(736947, 390)"
     },
     "execution_count": 123,
     "metadata": {},
     "output_type": "execute_result"
    }
   ],
   "source": [
    "#Returned Items are recorded with a negative quantity value\n",
    "#Getting the number of positive and negative values\n",
    "(df['Quantity Sold (kilo)']>0).sum(), (df['Quantity Sold (kilo)']<0).sum()"
   ],
   "metadata": {
    "collapsed": false,
    "ExecuteTime": {
     "end_time": "2024-01-12T19:28:06.665375700Z",
     "start_time": "2024-01-12T19:28:06.614936500Z"
    }
   },
   "id": "8a581c4e6977bc9a"
  },
  {
   "cell_type": "code",
   "execution_count": 124,
   "outputs": [
    {
     "data": {
      "text/plain": "(736947, 3)"
     },
     "execution_count": 124,
     "metadata": {},
     "output_type": "execute_result"
    }
   ],
   "source": [
    "#Removing the all the rows with negative quantity sold\n",
    "for i in range(df.shape[0]):\n",
    "    if df.at[i, 'Quantity Sold (kilo)']<0:\n",
    "        df.drop(i, inplace=True)\n",
    "    \n",
    "df.shape"
   ],
   "metadata": {
    "collapsed": false,
    "ExecuteTime": {
     "end_time": "2024-01-12T19:28:29.768521100Z",
     "start_time": "2024-01-12T19:28:06.624610600Z"
    }
   },
   "id": "572f7e2aae4029e2"
  },
  {
   "cell_type": "code",
   "execution_count": 125,
   "outputs": [
    {
     "data": {
      "text/plain": "          Item Name Category Name  Quantity Sold (kilo)\n687950  high melon        aquatic                   0.4",
      "text/html": "<div>\n<style scoped>\n    .dataframe tbody tr th:only-of-type {\n        vertical-align: middle;\n    }\n\n    .dataframe tbody tr th {\n        vertical-align: top;\n    }\n\n    .dataframe thead th {\n        text-align: right;\n    }\n</style>\n<table border=\"1\" class=\"dataframe\">\n  <thead>\n    <tr style=\"text-align: right;\">\n      <th></th>\n      <th>Item Name</th>\n      <th>Category Name</th>\n      <th>Quantity Sold (kilo)</th>\n    </tr>\n  </thead>\n  <tbody>\n    <tr>\n      <th>687950</th>\n      <td>high melon</td>\n      <td>aquatic</td>\n      <td>0.4</td>\n    </tr>\n  </tbody>\n</table>\n</div>"
     },
     "execution_count": 125,
     "metadata": {},
     "output_type": "execute_result"
    }
   ],
   "source": [
    "#Rounding the Quantity to 1 decimal place\n",
    "df['Quantity Sold (kilo)'] = df['Quantity Sold (kilo)'].round(1)\n",
    "df.sample()"
   ],
   "metadata": {
    "collapsed": false,
    "ExecuteTime": {
     "end_time": "2024-01-12T19:28:29.815585Z",
     "start_time": "2024-01-12T19:28:29.757012900Z"
    }
   },
   "id": "17e1b761570a9bb8"
  },
  {
   "cell_type": "code",
   "execution_count": 126,
   "outputs": [
    {
     "data": {
      "text/plain": "4201"
     },
     "execution_count": 126,
     "metadata": {},
     "output_type": "execute_result"
    }
   ],
   "source": [
    "#Finding the number of values that got rounded to zero\n",
    "(df['Quantity Sold (kilo)'] == 0).sum()"
   ],
   "metadata": {
    "collapsed": false,
    "ExecuteTime": {
     "end_time": "2024-01-12T19:28:29.815585Z",
     "start_time": "2024-01-12T19:28:29.803294400Z"
    }
   },
   "id": "a70157274c4593be"
  },
  {
   "cell_type": "code",
   "execution_count": 127,
   "outputs": [],
   "source": [
    "#Making df have only quantity values that are not zero\n",
    "df = df[df['Quantity Sold (kilo)'] != 0]"
   ],
   "metadata": {
    "collapsed": false,
    "ExecuteTime": {
     "end_time": "2024-01-12T19:28:29.878306500Z",
     "start_time": "2024-01-12T19:28:29.815585Z"
    }
   },
   "id": "33c91e88a3baef7e"
  },
  {
   "cell_type": "code",
   "execution_count": 128,
   "outputs": [
    {
     "data": {
      "text/plain": "(732746, 3)"
     },
     "execution_count": 128,
     "metadata": {},
     "output_type": "execute_result"
    }
   ],
   "source": [
    "df.shape"
   ],
   "metadata": {
    "collapsed": false,
    "ExecuteTime": {
     "end_time": "2024-01-12T19:28:29.878306500Z",
     "start_time": "2024-01-12T19:28:29.855801600Z"
    }
   },
   "id": "9d7dbe2d32ab316"
  },
  {
   "cell_type": "code",
   "execution_count": 129,
   "outputs": [],
   "source": [
    "import matplotlib.pyplot as plt\n",
    "import seaborn as sns"
   ],
   "metadata": {
    "collapsed": false,
    "ExecuteTime": {
     "end_time": "2024-01-12T19:28:29.878306500Z",
     "start_time": "2024-01-12T19:28:29.863005Z"
    }
   },
   "id": "9c30fc0b1ad4cae1"
  },
  {
   "cell_type": "code",
   "execution_count": 130,
   "outputs": [
    {
     "name": "stderr",
     "output_type": "stream",
     "text": [
      "C:\\Users\\TUF\\AppData\\Local\\Temp\\ipykernel_1780\\1616298376.py:1: UserWarning: \n",
      "\n",
      "`distplot` is a deprecated function and will be removed in seaborn v0.14.0.\n",
      "\n",
      "Please adapt your code to use either `displot` (a figure-level function with\n",
      "similar flexibility) or `histplot` (an axes-level function for histograms).\n",
      "\n",
      "For a guide to updating your code to use the new functions, please see\n",
      "https://gist.github.com/mwaskom/de44147ed2974457ad6372750bbe5751\n",
      "\n",
      "  sns.distplot(df['Quantity Sold (kilo)']) #Graph is right skewed and to observe the outliers better boxplot  can be used\n"
     ]
    },
    {
     "data": {
      "text/plain": "<Axes: xlabel='Quantity Sold (kilo)', ylabel='Density'>"
     },
     "execution_count": 130,
     "metadata": {},
     "output_type": "execute_result"
    },
    {
     "data": {
      "text/plain": "<Figure size 640x480 with 1 Axes>",
      "image/png": "[encoded data removed]"
     },
     "metadata": {},
     "output_type": "display_data"
    }
   ],
   "source": [
    "sns.distplot(df['Quantity Sold (kilo)']) #Graph is right skewed and to observe the outliers better boxplot  can be used"
   ],
   "metadata": {
    "collapsed": false,
    "ExecuteTime": {
     "end_time": "2024-01-12T19:28:31.500587400Z",
     "start_time": "2024-01-12T19:28:29.870796500Z"
    }
   },
   "id": "166419ad413121e2"
  },
  {
   "cell_type": "code",
   "execution_count": 131,
   "outputs": [
    {
     "data": {
      "text/plain": "<Figure size 1000x500 with 1 Axes>",
      "image/png": "[encoded data removed]"
     },
     "metadata": {},
     "output_type": "display_data"
    }
   ],
   "source": [
    "#Visualizing the outliers using boxplot\n",
    "plt.figure(figsize=(10,5))\n",
    "plt.boxplot(df['Quantity Sold (kilo)'], vert=False, flierprops=dict(markerfacecolor='Red', marker='o'))\n",
    "plt.ylabel('Quantity Sold (kilo)')\n",
    "plt.title('Quantity Sold')\n",
    "plt.show()"
   ],
   "metadata": {
    "collapsed": false,
    "ExecuteTime": {
     "end_time": "2024-01-12T19:28:31.718589900Z",
     "start_time": "2024-01-12T19:28:31.500587400Z"
    }
   },
   "id": "a22a9a12099e2128"
  },
  {
   "cell_type": "code",
   "execution_count": 132,
   "outputs": [
    {
     "name": "stdout",
     "output_type": "stream",
     "text": [
      "0.5053033384010283\n"
     ]
    }
   ],
   "source": [
    "#Mean before handling the outliers\n",
    "print(df['Quantity Sold (kilo)'].mean())"
   ],
   "metadata": {
    "collapsed": false,
    "ExecuteTime": {
     "end_time": "2024-01-12T19:28:31.718589900Z",
     "start_time": "2024-01-12T19:28:31.711718100Z"
    }
   },
   "id": "63e0e7b776bb10df"
  },
  {
   "cell_type": "code",
   "execution_count": 133,
   "outputs": [
    {
     "name": "stdout",
     "output_type": "stream",
     "text": [
      "Upper limit:  1.644818791171859  lower limit:  -0.6342121143698024\n"
     ]
    }
   ],
   "source": [
    "#Defining the limits\n",
    "upper_limit = df['Quantity Sold (kilo)'].mean() + 3*df['Quantity Sold (kilo)'].std()\n",
    "lower_limit = df['Quantity Sold (kilo)'].mean() - 3*df['Quantity Sold (kilo)'].std()\n",
    "print('Upper limit: ',upper_limit,' lower limit: ',lower_limit)"
   ],
   "metadata": {
    "collapsed": false,
    "ExecuteTime": {
     "end_time": "2024-01-12T19:28:31.809535Z",
     "start_time": "2024-01-12T19:28:31.718589900Z"
    }
   },
   "id": "41e66bc302198f02"
  },
  {
   "cell_type": "code",
   "execution_count": 134,
   "outputs": [
    {
     "data": {
      "text/plain": "                    Item Name Category Name  Quantity Sold (kilo)\n1259                  wawacai        flower                   2.0\n1403              paopaojiao       capsicum                   1.8\n3328             huangbaicai         flower                   1.8\n3843          green eggplant        solanum                   2.2\n4426    sweet chinese cabbage        flower                   1.7\n...                       ...           ...                   ...\n720713        net lotus root        aquatic                   1.7\n726186        net lotus root        aquatic                   2.1\n728619        net lotus root        aquatic                   1.8\n729799        net lotus root        aquatic                   1.7\n736789        water chestnut        aquatic                   2.2\n\n[2865 rows x 3 columns]",
      "text/html": "<div>\n<style scoped>\n    .dataframe tbody tr th:only-of-type {\n        vertical-align: middle;\n    }\n\n    .dataframe tbody tr th {\n        vertical-align: top;\n    }\n\n    .dataframe thead th {\n        text-align: right;\n    }\n</style>\n<table border=\"1\" class=\"dataframe\">\n  <thead>\n    <tr style=\"text-align: right;\">\n      <th></th>\n      <th>Item Name</th>\n      <th>Category Name</th>\n      <th>Quantity Sold (kilo)</th>\n    </tr>\n  </thead>\n  <tbody>\n    <tr>\n      <th>1259</th>\n      <td>wawacai</td>\n      <td>flower</td>\n      <td>2.0</td>\n    </tr>\n    <tr>\n      <th>1403</th>\n      <td>paopaojiao</td>\n      <td>capsicum</td>\n      <td>1.8</td>\n    </tr>\n    <tr>\n      <th>3328</th>\n      <td>huangbaicai</td>\n      <td>flower</td>\n      <td>1.8</td>\n    </tr>\n    <tr>\n      <th>3843</th>\n      <td>green eggplant</td>\n      <td>solanum</td>\n      <td>2.2</td>\n    </tr>\n    <tr>\n      <th>4426</th>\n      <td>sweet chinese cabbage</td>\n      <td>flower</td>\n      <td>1.7</td>\n    </tr>\n    <tr>\n      <th>...</th>\n      <td>...</td>\n      <td>...</td>\n      <td>...</td>\n    </tr>\n    <tr>\n      <th>720713</th>\n      <td>net lotus root</td>\n      <td>aquatic</td>\n      <td>1.7</td>\n    </tr>\n    <tr>\n      <th>726186</th>\n      <td>net lotus root</td>\n      <td>aquatic</td>\n      <td>2.1</td>\n    </tr>\n    <tr>\n      <th>728619</th>\n      <td>net lotus root</td>\n      <td>aquatic</td>\n      <td>1.8</td>\n    </tr>\n    <tr>\n      <th>729799</th>\n      <td>net lotus root</td>\n      <td>aquatic</td>\n      <td>1.7</td>\n    </tr>\n    <tr>\n      <th>736789</th>\n      <td>water chestnut</td>\n      <td>aquatic</td>\n      <td>2.2</td>\n    </tr>\n  </tbody>\n</table>\n<p>2865 rows × 3 columns</p>\n</div>"
     },
     "execution_count": 134,
     "metadata": {},
     "output_type": "execute_result"
    }
   ],
   "source": [
    "#Finding the outliers\n",
    "df.loc[(df['Quantity Sold (kilo)'] > upper_limit) | (df['Quantity Sold (kilo)'] < lower_limit)]"
   ],
   "metadata": {
    "collapsed": false,
    "ExecuteTime": {
     "end_time": "2024-01-12T19:28:31.809535Z",
     "start_time": "2024-01-12T19:28:31.759185400Z"
    }
   },
   "id": "235228802d15ef5"
  },
  {
   "cell_type": "code",
   "execution_count": 135,
   "outputs": [],
   "source": [
    "df_filtered = df.loc[(df['Quantity Sold (kilo)'] < upper_limit) & (df['Quantity Sold (kilo)'] > lower_limit)]"
   ],
   "metadata": {
    "collapsed": false,
    "ExecuteTime": {
     "end_time": "2024-01-12T19:28:31.809535Z",
     "start_time": "2024-01-12T19:28:31.774945600Z"
    }
   },
   "id": "a04ad627807907b7"
  },
  {
   "cell_type": "code",
   "execution_count": 136,
   "outputs": [
    {
     "data": {
      "text/plain": "(732746, 729881, 2865)"
     },
     "execution_count": 136,
     "metadata": {},
     "output_type": "execute_result"
    }
   ],
   "source": [
    "len(df),len(df_filtered),len(df)-len(df_filtered)"
   ],
   "metadata": {
    "collapsed": false,
    "ExecuteTime": {
     "end_time": "2024-01-12T19:28:31.821916400Z",
     "start_time": "2024-01-12T19:28:31.809535Z"
    }
   },
   "id": "d6d52e877a69ea8d"
  },
  {
   "cell_type": "code",
   "execution_count": 137,
   "outputs": [
    {
     "data": {
      "text/plain": "<Figure size 1000x500 with 1 Axes>",
      "image/png": "[encoded data removed]"
     },
     "metadata": {},
     "output_type": "display_data"
    }
   ],
   "source": [
    "#After handling outliers\n",
    "plt.figure(figsize=(10,5))\n",
    "plt.boxplot(df_filtered['Quantity Sold (kilo)'], vert=False, flierprops=dict(markerfacecolor='Red', marker='o'))\n",
    "plt.ylabel('Quantity Sold (kilo)')\n",
    "plt.title('Quantity Sold After Handling Outliers')\n",
    "plt.show()"
   ],
   "metadata": {
    "collapsed": false,
    "ExecuteTime": {
     "end_time": "2024-01-12T19:28:32.024699500Z",
     "start_time": "2024-01-12T19:28:31.816907Z"
    }
   },
   "id": "87a0177dd61ab6f7"
  },
  {
   "cell_type": "code",
   "execution_count": 138,
   "outputs": [],
   "source": [
    "#Further Handling Outliers\n",
    "#df_filtered = df[df['Quantity Sold (kilo)'] < 1] #Removing everything above 20"
   ],
   "metadata": {
    "collapsed": false,
    "ExecuteTime": {
     "end_time": "2024-01-12T19:28:32.024699500Z",
     "start_time": "2024-01-12T19:28:32.019559600Z"
    }
   },
   "id": "dda76081795c32b7"
  },
  {
   "cell_type": "code",
   "execution_count": 139,
   "outputs": [
    {
     "data": {
      "text/plain": "<seaborn.axisgrid.FacetGrid at 0x1c73dbeebd0>"
     },
     "execution_count": 139,
     "metadata": {},
     "output_type": "execute_result"
    },
    {
     "data": {
      "text/plain": "<Figure size 500x500 with 1 Axes>",
      "image/png": "[encoded data removed]"
     },
     "metadata": {},
     "output_type": "display_data"
    }
   ],
   "source": [
    "sns.displot(df_filtered['Quantity Sold (kilo)'])"
   ],
   "metadata": {
    "collapsed": false,
    "ExecuteTime": {
     "end_time": "2024-01-12T19:28:33.414347900Z",
     "start_time": "2024-01-12T19:28:32.024699500Z"
    }
   },
   "id": "dfc061849c7718e0"
  },
  {
   "cell_type": "code",
   "execution_count": 140,
   "outputs": [
    {
     "name": "stdout",
     "output_type": "stream",
     "text": [
      "0.49704718988437857\n"
     ]
    }
   ],
   "source": [
    "print(df_filtered['Quantity Sold (kilo)'].mean()) # Mean value has only slightly changed"
   ],
   "metadata": {
    "collapsed": false,
    "ExecuteTime": {
     "end_time": "2024-01-12T19:28:33.418657600Z",
     "start_time": "2024-01-12T19:28:33.399141Z"
    }
   },
   "id": "62b74eaa2f795aaa"
  },
  {
   "cell_type": "code",
   "execution_count": 141,
   "outputs": [
    {
     "name": "stdout",
     "output_type": "stream",
     "text": [
      "<class 'pandas.core.frame.DataFrame'>\n",
      "Index: 729881 entries, 0 to 737336\n",
      "Data columns (total 3 columns):\n",
      " #   Column                Non-Null Count   Dtype  \n",
      "---  ------                --------------   -----  \n",
      " 0   Item Name             729881 non-null  object \n",
      " 1   Category Name         729881 non-null  object \n",
      " 2   Quantity Sold (kilo)  729881 non-null  float64\n",
      "dtypes: float64(1), object(2)\n",
      "memory usage: 22.3+ MB\n"
     ]
    }
   ],
   "source": [
    "df_filtered.info()"
   ],
   "metadata": {
    "collapsed": false,
    "ExecuteTime": {
     "end_time": "2024-01-12T19:28:33.480926700Z",
     "start_time": "2024-01-12T19:28:33.418657600Z"
    }
   },
   "id": "1f13bc93ac4887f5"
  },
  {
   "cell_type": "code",
   "execution_count": 142,
   "outputs": [],
   "source": [
    "df_final = pd.get_dummies(df_filtered) #One Hot Encoding"
   ],
   "metadata": {
    "collapsed": false,
    "ExecuteTime": {
     "end_time": "2024-01-12T19:28:34.166669700Z",
     "start_time": "2024-01-12T19:28:33.470420100Z"
    }
   },
   "id": "c0c2bd57148453b0"
  },
  {
   "cell_type": "code",
   "execution_count": 143,
   "outputs": [],
   "source": [
    "df_final.to_csv('../../datasets/annex/pre_processed_data.csv', index=False)"
   ],
   "metadata": {
    "collapsed": false,
    "ExecuteTime": {
     "end_time": "2024-01-12T19:29:02.327697400Z",
     "start_time": "2024-01-12T19:28:34.166669700Z"
    }
   },
   "id": "3cf8cd787a6bca12"
  }
 ],
 "metadata": {
  "kernelspec": {
   "display_name": "Python 3",
   "language": "python",
   "name": "python3"
  },
  "language_info": {
   "codemirror_mode": {
    "name": "ipython",
    "version": 2
   },
   "file_extension": ".py",
   "mimetype": "text/x-python",
   "name": "python",
   "nbconvert_exporter": "python",
   "pygments_lexer": "ipython2",
   "version": "2.7.6"
  }
 },
 "nbformat": 4,
 "nbformat_minor": 5
}
