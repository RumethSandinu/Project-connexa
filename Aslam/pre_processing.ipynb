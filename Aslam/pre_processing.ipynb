{
 "cells": [
  {
   "cell_type": "code",
   "execution_count": 158,
   "id": "initial_id",
   "metadata": {
    "collapsed": true,
    "ExecuteTime": {
     "end_time": "2024-01-20T05:38:32.961291100Z",
     "start_time": "2024-01-20T05:38:32.769694100Z"
    }
   },
   "outputs": [],
   "source": [
    "import pandas as pd"
   ]
  },
  {
   "cell_type": "code",
   "execution_count": 159,
   "outputs": [
    {
     "name": "stdout",
     "output_type": "stream",
     "text": [
      "<class 'pandas.core.frame.DataFrame'>\n",
      "RangeIndex: 737337 entries, 0 to 737336\n",
      "Data columns (total 9 columns):\n",
      " #   Column                       Non-Null Count   Dtype  \n",
      "---  ------                       --------------   -----  \n",
      " 0   Item Name                    737337 non-null  object \n",
      " 1   Category Name                737337 non-null  object \n",
      " 2   Date                         737337 non-null  object \n",
      " 3   Time                         737337 non-null  object \n",
      " 4   Item Code                    737337 non-null  int64  \n",
      " 5   Quantity Sold (kilo)         737337 non-null  float64\n",
      " 6   Unit Selling Price (RMB/kg)  737337 non-null  float64\n",
      " 7   Sale or Return               737337 non-null  object \n",
      " 8   Discount (Yes/No)            737337 non-null  object \n",
      "dtypes: float64(2), int64(1), object(6)\n",
      "memory usage: 50.6+ MB\n"
     ]
    }
   ],
   "source": [
    "df = pd.read_csv(\"../../datasets/built_dataset.csv\")\n",
    "df.info() #Gives Information about null data and more"
   ],
   "metadata": {
    "collapsed": false,
    "ExecuteTime": {
     "end_time": "2024-01-20T05:38:35.201773500Z",
     "start_time": "2024-01-20T05:38:32.789356700Z"
    }
   },
   "id": "2e0dc98eb3e5a785"
  },
  {
   "cell_type": "code",
   "execution_count": 160,
   "outputs": [],
   "source": [
    "df = df.drop(columns=['Item Code', 'Unit Selling Price (RMB/kg)', 'Sale or Return', 'Discount (Yes/No)', 'Date', 'Time'])"
   ],
   "metadata": {
    "collapsed": false,
    "ExecuteTime": {
     "end_time": "2024-01-20T05:38:35.294294Z",
     "start_time": "2024-01-20T05:38:35.201773500Z"
    }
   },
   "id": "3ad17dc5083482f3"
  },
  {
   "cell_type": "code",
   "execution_count": 161,
   "outputs": [
    {
     "data": {
      "text/plain": "(737337, 3)"
     },
     "execution_count": 161,
     "metadata": {},
     "output_type": "execute_result"
    }
   ],
   "source": [
    "df.shape"
   ],
   "metadata": {
    "collapsed": false,
    "ExecuteTime": {
     "end_time": "2024-01-20T05:38:35.310419200Z",
     "start_time": "2024-01-20T05:38:35.269118100Z"
    }
   },
   "id": "e5a013034448cac8"
  },
  {
   "cell_type": "code",
   "execution_count": 162,
   "outputs": [
    {
     "data": {
      "text/plain": "(736947, 390)"
     },
     "execution_count": 162,
     "metadata": {},
     "output_type": "execute_result"
    }
   ],
   "source": [
    "#Returned Items are recorded with a negative quantity value\n",
    "#Getting the number of positive and negative values\n",
    "(df['Quantity Sold (kilo)']>0).sum(), (df['Quantity Sold (kilo)']<0).sum()"
   ],
   "metadata": {
    "collapsed": false,
    "ExecuteTime": {
     "end_time": "2024-01-20T05:38:35.310419200Z",
     "start_time": "2024-01-20T05:38:35.281281300Z"
    }
   },
   "id": "8a581c4e6977bc9a"
  },
  {
   "cell_type": "code",
   "execution_count": 163,
   "outputs": [
    {
     "data": {
      "text/plain": "(736947, 3)"
     },
     "execution_count": 163,
     "metadata": {},
     "output_type": "execute_result"
    }
   ],
   "source": [
    "#Removing all the rows with negative quantity sold\n",
    "#for i in range(df.shape[0]):\n",
    "#    if df.at[i, 'Quantity Sold (kilo)']<0:\n",
    "#        df.drop(i, inplace=True)\n",
    "#\n",
    "\n",
    "df = df[df['Quantity Sold (kilo)'] > 0]\n",
    "df.shape"
   ],
   "metadata": {
    "collapsed": false,
    "ExecuteTime": {
     "end_time": "2024-01-20T05:38:35.483619Z",
     "start_time": "2024-01-20T05:38:35.310419200Z"
    }
   },
   "id": "572f7e2aae4029e2"
  },
  {
   "cell_type": "code",
   "execution_count": 164,
   "outputs": [
    {
     "data": {
      "text/plain": "           Item Name Category Name  Quantity Sold (kilo)\n429334  luosi pepper      capsicum                   0.6",
      "text/html": "<div>\n<style scoped>\n    .dataframe tbody tr th:only-of-type {\n        vertical-align: middle;\n    }\n\n    .dataframe tbody tr th {\n        vertical-align: top;\n    }\n\n    .dataframe thead th {\n        text-align: right;\n    }\n</style>\n<table border=\"1\" class=\"dataframe\">\n  <thead>\n    <tr style=\"text-align: right;\">\n      <th></th>\n      <th>Item Name</th>\n      <th>Category Name</th>\n      <th>Quantity Sold (kilo)</th>\n    </tr>\n  </thead>\n  <tbody>\n    <tr>\n      <th>429334</th>\n      <td>luosi pepper</td>\n      <td>capsicum</td>\n      <td>0.6</td>\n    </tr>\n  </tbody>\n</table>\n</div>"
     },
     "execution_count": 164,
     "metadata": {},
     "output_type": "execute_result"
    }
   ],
   "source": [
    "#Rounding the Quantity to 1 decimal place\n",
    "df['Quantity Sold (kilo)'] = df['Quantity Sold (kilo)'].round(1)\n",
    "df.sample()"
   ],
   "metadata": {
    "collapsed": false,
    "ExecuteTime": {
     "end_time": "2024-01-20T05:38:35.530649Z",
     "start_time": "2024-01-20T05:38:35.373273900Z"
    }
   },
   "id": "17e1b761570a9bb8"
  },
  {
   "cell_type": "code",
   "execution_count": 165,
   "outputs": [
    {
     "data": {
      "text/plain": "4201"
     },
     "execution_count": 165,
     "metadata": {},
     "output_type": "execute_result"
    }
   ],
   "source": [
    "#Finding the number of values that got rounded to zero\n",
    "(df['Quantity Sold (kilo)'] == 0).sum()"
   ],
   "metadata": {
    "collapsed": false,
    "ExecuteTime": {
     "end_time": "2024-01-20T05:38:35.530649Z",
     "start_time": "2024-01-20T05:38:35.451855900Z"
    }
   },
   "id": "a70157274c4593be"
  },
  {
   "cell_type": "code",
   "execution_count": 166,
   "outputs": [],
   "source": [
    "#Making df have only quantity values that are not zero\n",
    "# Rounding to 1 decimal point can cause certain values to become equal to zero\n",
    "df = df[df['Quantity Sold (kilo)'] != 0]"
   ],
   "metadata": {
    "collapsed": false,
    "ExecuteTime": {
     "end_time": "2024-01-20T05:38:35.640840Z",
     "start_time": "2024-01-20T05:38:35.467981900Z"
    }
   },
   "id": "33c91e88a3baef7e"
  },
  {
   "cell_type": "code",
   "execution_count": 167,
   "outputs": [
    {
     "data": {
      "text/plain": "(732746, 3)"
     },
     "execution_count": 167,
     "metadata": {},
     "output_type": "execute_result"
    }
   ],
   "source": [
    "df.shape"
   ],
   "metadata": {
    "collapsed": false,
    "ExecuteTime": {
     "end_time": "2024-01-20T05:38:35.719004Z",
     "start_time": "2024-01-20T05:38:35.530649Z"
    }
   },
   "id": "9d7dbe2d32ab316"
  },
  {
   "cell_type": "code",
   "execution_count": 168,
   "outputs": [],
   "source": [
    "import matplotlib.pyplot as plt\n",
    "import seaborn as sns"
   ],
   "metadata": {
    "collapsed": false,
    "ExecuteTime": {
     "end_time": "2024-01-20T05:38:35.719004Z",
     "start_time": "2024-01-20T05:38:35.546565700Z"
    }
   },
   "id": "9c30fc0b1ad4cae1"
  },
  {
   "cell_type": "code",
   "execution_count": 169,
   "outputs": [
    {
     "name": "stderr",
     "output_type": "stream",
     "text": [
      "C:\\Users\\TUF\\AppData\\Local\\Temp\\ipykernel_12472\\1616298376.py:1: UserWarning: \n",
      "\n",
      "`distplot` is a deprecated function and will be removed in seaborn v0.14.0.\n",
      "\n",
      "Please adapt your code to use either `displot` (a figure-level function with\n",
      "similar flexibility) or `histplot` (an axes-level function for histograms).\n",
      "\n",
      "For a guide to updating your code to use the new functions, please see\n",
      "https://gist.github.com/mwaskom/de44147ed2974457ad6372750bbe5751\n",
      "\n",
      "  sns.distplot(df['Quantity Sold (kilo)']) #Graph is right skewed and to observe the outliers better boxplot  can be used\n"
     ]
    },
    {
     "data": {
      "text/plain": "<Axes: xlabel='Quantity Sold (kilo)', ylabel='Density'>"
     },
     "execution_count": 169,
     "metadata": {},
     "output_type": "execute_result"
    },
    {
     "data": {
      "text/plain": "<Figure size 640x480 with 1 Axes>",
      "image/png": "[encoded data removed]"
     },
     "metadata": {},
     "output_type": "display_data"
    }
   ],
   "source": [
    "sns.distplot(df['Quantity Sold (kilo)']) #Graph is right skewed and to observe the outliers better boxplot  can be used"
   ],
   "metadata": {
    "collapsed": false,
    "ExecuteTime": {
     "end_time": "2024-01-20T05:38:38.244013800Z",
     "start_time": "2024-01-20T05:38:35.562681400Z"
    }
   },
   "id": "166419ad413121e2"
  },
  {
   "cell_type": "code",
   "execution_count": 170,
   "outputs": [
    {
     "data": {
      "text/plain": "<Figure size 1000x500 with 1 Axes>",
      "image/png": "[encoded data removed]"
     },
     "metadata": {},
     "output_type": "display_data"
    }
   ],
   "source": [
    "#Visualizing the outliers using boxplot\n",
    "plt.figure(figsize=(10,5))\n",
    "plt.boxplot(df['Quantity Sold (kilo)'], vert=False, flierprops=dict(markerfacecolor='Red', marker='o'))\n",
    "plt.ylabel('Quantity Sold (kilo)')\n",
    "plt.title('Quantity Sold')\n",
    "plt.show()"
   ],
   "metadata": {
    "collapsed": false,
    "ExecuteTime": {
     "end_time": "2024-01-20T05:38:38.654423300Z",
     "start_time": "2024-01-20T05:38:38.232001400Z"
    }
   },
   "id": "a22a9a12099e2128"
  },
  {
   "cell_type": "code",
   "execution_count": 171,
   "outputs": [
    {
     "name": "stdout",
     "output_type": "stream",
     "text": [
      "0.5053033384010283\n"
     ]
    }
   ],
   "source": [
    "#Mean before handling the outliers\n",
    "print(df['Quantity Sold (kilo)'].mean())"
   ],
   "metadata": {
    "collapsed": false,
    "ExecuteTime": {
     "end_time": "2024-01-20T05:38:38.684412800Z",
     "start_time": "2024-01-20T05:38:38.663711700Z"
    }
   },
   "id": "63e0e7b776bb10df"
  },
  {
   "cell_type": "code",
   "execution_count": 172,
   "outputs": [
    {
     "name": "stdout",
     "output_type": "stream",
     "text": [
      "Upper limit:  1.644818791171859  lower limit:  -0.6342121143698024\n"
     ]
    }
   ],
   "source": [
    "#Defining the limits\n",
    "upper_limit = df['Quantity Sold (kilo)'].mean() + 3*df['Quantity Sold (kilo)'].std()\n",
    "lower_limit = df['Quantity Sold (kilo)'].mean() - 3*df['Quantity Sold (kilo)'].std()\n",
    "print('Upper limit: ',upper_limit,' lower limit: ',lower_limit)"
   ],
   "metadata": {
    "collapsed": false,
    "ExecuteTime": {
     "end_time": "2024-01-20T05:38:38.842386700Z",
     "start_time": "2024-01-20T05:38:38.671903900Z"
    }
   },
   "id": "41e66bc302198f02"
  },
  {
   "cell_type": "code",
   "execution_count": 173,
   "outputs": [
    {
     "data": {
      "text/plain": "                    Item Name Category Name  Quantity Sold (kilo)\n1259                  wawacai        flower                   2.0\n1403              paopaojiao       capsicum                   1.8\n3328             huangbaicai         flower                   1.8\n3843          green eggplant        solanum                   2.2\n4426    sweet chinese cabbage        flower                   1.7\n...                       ...           ...                   ...\n720713        net lotus root        aquatic                   1.7\n726186        net lotus root        aquatic                   2.1\n728619        net lotus root        aquatic                   1.8\n729799        net lotus root        aquatic                   1.7\n736789        water chestnut        aquatic                   2.2\n\n[2865 rows x 3 columns]",
      "text/html": "<div>\n<style scoped>\n    .dataframe tbody tr th:only-of-type {\n        vertical-align: middle;\n    }\n\n    .dataframe tbody tr th {\n        vertical-align: top;\n    }\n\n    .dataframe thead th {\n        text-align: right;\n    }\n</style>\n<table border=\"1\" class=\"dataframe\">\n  <thead>\n    <tr style=\"text-align: right;\">\n      <th></th>\n      <th>Item Name</th>\n      <th>Category Name</th>\n      <th>Quantity Sold (kilo)</th>\n    </tr>\n  </thead>\n  <tbody>\n    <tr>\n      <th>1259</th>\n      <td>wawacai</td>\n      <td>flower</td>\n      <td>2.0</td>\n    </tr>\n    <tr>\n      <th>1403</th>\n      <td>paopaojiao</td>\n      <td>capsicum</td>\n      <td>1.8</td>\n    </tr>\n    <tr>\n      <th>3328</th>\n      <td>huangbaicai</td>\n      <td>flower</td>\n      <td>1.8</td>\n    </tr>\n    <tr>\n      <th>3843</th>\n      <td>green eggplant</td>\n      <td>solanum</td>\n      <td>2.2</td>\n    </tr>\n    <tr>\n      <th>4426</th>\n      <td>sweet chinese cabbage</td>\n      <td>flower</td>\n      <td>1.7</td>\n    </tr>\n    <tr>\n      <th>...</th>\n      <td>...</td>\n      <td>...</td>\n      <td>...</td>\n    </tr>\n    <tr>\n      <th>720713</th>\n      <td>net lotus root</td>\n      <td>aquatic</td>\n      <td>1.7</td>\n    </tr>\n    <tr>\n      <th>726186</th>\n      <td>net lotus root</td>\n      <td>aquatic</td>\n      <td>2.1</td>\n    </tr>\n    <tr>\n      <th>728619</th>\n      <td>net lotus root</td>\n      <td>aquatic</td>\n      <td>1.8</td>\n    </tr>\n    <tr>\n      <th>729799</th>\n      <td>net lotus root</td>\n      <td>aquatic</td>\n      <td>1.7</td>\n    </tr>\n    <tr>\n      <th>736789</th>\n      <td>water chestnut</td>\n      <td>aquatic</td>\n      <td>2.2</td>\n    </tr>\n  </tbody>\n</table>\n<p>2865 rows × 3 columns</p>\n</div>"
     },
     "execution_count": 173,
     "metadata": {},
     "output_type": "execute_result"
    }
   ],
   "source": [
    "#Finding the outliers\n",
    "df.loc[(df['Quantity Sold (kilo)'] > upper_limit) | (df['Quantity Sold (kilo)'] < lower_limit)]"
   ],
   "metadata": {
    "collapsed": false,
    "ExecuteTime": {
     "end_time": "2024-01-20T05:38:38.842386700Z",
     "start_time": "2024-01-20T05:38:38.747451Z"
    }
   },
   "id": "235228802d15ef5"
  },
  {
   "cell_type": "code",
   "execution_count": 174,
   "outputs": [],
   "source": [
    "df_filtered = df.loc[(df['Quantity Sold (kilo)'] < upper_limit) & (df['Quantity Sold (kilo)'] > lower_limit)]"
   ],
   "metadata": {
    "collapsed": false,
    "ExecuteTime": {
     "end_time": "2024-01-20T05:38:38.842386700Z",
     "start_time": "2024-01-20T05:38:38.778971300Z"
    }
   },
   "id": "a04ad627807907b7"
  },
  {
   "cell_type": "code",
   "execution_count": 175,
   "outputs": [
    {
     "data": {
      "text/plain": "(732746, 729881, 2865)"
     },
     "execution_count": 175,
     "metadata": {},
     "output_type": "execute_result"
    }
   ],
   "source": [
    "len(df),len(df_filtered),len(df)-len(df_filtered)"
   ],
   "metadata": {
    "collapsed": false,
    "ExecuteTime": {
     "end_time": "2024-01-20T05:38:38.842386700Z",
     "start_time": "2024-01-20T05:38:38.830563Z"
    }
   },
   "id": "d6d52e877a69ea8d"
  },
  {
   "cell_type": "code",
   "execution_count": 176,
   "outputs": [
    {
     "data": {
      "text/plain": "<Figure size 1000x500 with 1 Axes>",
      "image/png": "[encoded data removed]"
     },
     "metadata": {},
     "output_type": "display_data"
    }
   ],
   "source": [
    "#After handling outliers\n",
    "plt.figure(figsize=(10,5))\n",
    "plt.boxplot(df_filtered['Quantity Sold (kilo)'], vert=False, flierprops=dict(markerfacecolor='Red', marker='o'))\n",
    "plt.ylabel('Quantity Sold (kilo)')\n",
    "plt.title('Quantity Sold After Handling Outliers')\n",
    "plt.show()"
   ],
   "metadata": {
    "collapsed": false,
    "ExecuteTime": {
     "end_time": "2024-01-20T05:38:40.749740400Z",
     "start_time": "2024-01-20T05:38:38.842386700Z"
    }
   },
   "id": "87a0177dd61ab6f7"
  },
  {
   "cell_type": "code",
   "execution_count": 177,
   "outputs": [],
   "source": [
    "#Further Handling Outliers\n",
    "#df_filtered = df[df['Quantity Sold (kilo)'] < 1] #Removing everything above 20"
   ],
   "metadata": {
    "collapsed": false,
    "ExecuteTime": {
     "end_time": "2024-01-20T05:38:40.749740400Z",
     "start_time": "2024-01-20T05:38:40.718752700Z"
    }
   },
   "id": "dda76081795c32b7"
  },
  {
   "cell_type": "code",
   "execution_count": 178,
   "outputs": [
    {
     "data": {
      "text/plain": "<seaborn.axisgrid.FacetGrid at 0x224bdf37d10>"
     },
     "execution_count": 178,
     "metadata": {},
     "output_type": "execute_result"
    },
    {
     "data": {
      "text/plain": "<Figure size 500x500 with 1 Axes>",
      "image/png": "[encoded data removed]"
     },
     "metadata": {},
     "output_type": "display_data"
    }
   ],
   "source": [
    "sns.displot(df_filtered['Quantity Sold (kilo)'])"
   ],
   "metadata": {
    "collapsed": false,
    "ExecuteTime": {
     "end_time": "2024-01-20T05:38:42.709705400Z",
     "start_time": "2024-01-20T05:38:40.734100700Z"
    }
   },
   "id": "dfc061849c7718e0"
  },
  {
   "cell_type": "code",
   "execution_count": 179,
   "outputs": [
    {
     "name": "stdout",
     "output_type": "stream",
     "text": [
      "0.49704718988437857\n"
     ]
    }
   ],
   "source": [
    "print(df_filtered['Quantity Sold (kilo)'].mean()) # Mean value has only slightly changed"
   ],
   "metadata": {
    "collapsed": false,
    "ExecuteTime": {
     "end_time": "2024-01-20T05:38:42.725474700Z",
     "start_time": "2024-01-20T05:38:42.709705400Z"
    }
   },
   "id": "62b74eaa2f795aaa"
  },
  {
   "cell_type": "code",
   "execution_count": 180,
   "outputs": [
    {
     "name": "stdout",
     "output_type": "stream",
     "text": [
      "<class 'pandas.core.frame.DataFrame'>\n",
      "Index: 729881 entries, 0 to 737336\n",
      "Data columns (total 3 columns):\n",
      " #   Column                Non-Null Count   Dtype  \n",
      "---  ------                --------------   -----  \n",
      " 0   Item Name             729881 non-null  object \n",
      " 1   Category Name         729881 non-null  object \n",
      " 2   Quantity Sold (kilo)  729881 non-null  float64\n",
      "dtypes: float64(1), object(2)\n",
      "memory usage: 22.3+ MB\n"
     ]
    }
   ],
   "source": [
    "df_filtered.info()"
   ],
   "metadata": {
    "collapsed": false,
    "ExecuteTime": {
     "end_time": "2024-01-20T05:38:42.897736Z",
     "start_time": "2024-01-20T05:38:42.725474700Z"
    }
   },
   "id": "1f13bc93ac4887f5"
  },
  {
   "cell_type": "code",
   "execution_count": 181,
   "outputs": [
    {
     "name": "stdout",
     "output_type": "stream",
     "text": [
      "<class 'pandas.core.frame.DataFrame'>\n",
      "RangeIndex: 729881 entries, 0 to 729880\n",
      "Data columns (total 3 columns):\n",
      " #   Column                Non-Null Count   Dtype  \n",
      "---  ------                --------------   -----  \n",
      " 0   Item Name             729881 non-null  object \n",
      " 1   Category Name         729881 non-null  object \n",
      " 2   Quantity Sold (kilo)  729881 non-null  float64\n",
      "dtypes: float64(1), object(2)\n",
      "memory usage: 16.7+ MB\n"
     ]
    }
   ],
   "source": [
    "#Handling the index number error \n",
    "#There are 729881 entries but the index goes till 737336\n",
    "df_final = df_filtered.reset_index(drop=True)\n",
    "df_final.info()"
   ],
   "metadata": {
    "collapsed": false,
    "ExecuteTime": {
     "end_time": "2024-01-20T05:38:42.992253200Z",
     "start_time": "2024-01-20T05:38:42.811063Z"
    }
   },
   "id": "e69133773055473c"
  },
  {
   "cell_type": "code",
   "execution_count": 182,
   "outputs": [],
   "source": [
    "#Encoding\n",
    "#from sklearn import preprocessing\n",
    "#le = preprocessing.LabelEncoder()\n",
    "#df_final['Item Name'] = le.fit_transform(df['Item Name'])\n",
    "#df_final['Category Name'] = le.fit_transform(df['Category Name'])"
   ],
   "metadata": {
    "collapsed": false,
    "ExecuteTime": {
     "end_time": "2024-01-20T05:38:42.992253200Z",
     "start_time": "2024-01-20T05:38:42.913425400Z"
    }
   },
   "id": "b9e76b0eb5b861e7"
  },
  {
   "cell_type": "code",
   "execution_count": 183,
   "outputs": [],
   "source": [
    "#df_final = pd.get_dummies(df_final) #One Hot Encoding method"
   ],
   "metadata": {
    "collapsed": false,
    "ExecuteTime": {
     "end_time": "2024-01-20T05:38:42.992253200Z",
     "start_time": "2024-01-20T05:38:42.929399700Z"
    }
   },
   "id": "c0c2bd57148453b0"
  },
  {
   "cell_type": "code",
   "execution_count": 184,
   "outputs": [],
   "source": [
    "df_final.to_csv('../../datasets/annex/pre_processed_data.csv', index=False)"
   ],
   "metadata": {
    "collapsed": false,
    "ExecuteTime": {
     "end_time": "2024-01-20T05:38:44.790038300Z",
     "start_time": "2024-01-20T05:38:42.932845700Z"
    }
   },
   "id": "3cf8cd787a6bca12"
  }
 ],
 "metadata": {
  "kernelspec": {
   "display_name": "Python 3",
   "language": "python",
   "name": "python3"
  },
  "language_info": {
   "codemirror_mode": {
    "name": "ipython",
    "version": 2
   },
   "file_extension": ".py",
   "mimetype": "text/x-python",
   "name": "python",
   "nbconvert_exporter": "python",
   "pygments_lexer": "ipython2",
   "version": "2.7.6"
  }
 },
 "nbformat": 4,
 "nbformat_minor": 5
}
