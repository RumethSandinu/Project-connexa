{
 "cells": [
  {
   "cell_type": "code",
   "execution_count": 1,
   "id": "initial_id",
   "metadata": {
    "collapsed": true,
    "ExecuteTime": {
     "end_time": "2024-01-20T15:27:45.542258500Z",
     "start_time": "2024-01-20T15:27:43.625852500Z"
    }
   },
   "outputs": [],
   "source": [
    "import pandas as pd\n",
    "import numpy as np\n",
    "from sklearn.cluster import KMeans\n",
    "import matplotlib.pyplot as plt"
   ]
  },
  {
   "cell_type": "code",
   "execution_count": 2,
   "outputs": [
    {
     "name": "stdout",
     "output_type": "stream",
     "text": [
      "<class 'pandas.core.frame.DataFrame'>\n",
      "RangeIndex: 475428 entries, 0 to 475427\n",
      "Data columns (total 9 columns):\n",
      " #   Column                       Non-Null Count   Dtype  \n",
      "---  ------                       --------------   -----  \n",
      " 0   Item Name                    475428 non-null  object \n",
      " 1   Category Name                475428 non-null  object \n",
      " 2   Date                         475428 non-null  object \n",
      " 3   Time                         475428 non-null  object \n",
      " 4   Item Code                    475428 non-null  int64  \n",
      " 5   Quantity Sold (kilo)         475428 non-null  float64\n",
      " 6   Unit Selling Price (RMB/kg)  475428 non-null  float64\n",
      " 7   Sale or Return               475428 non-null  object \n",
      " 8   Discount (Yes/No)            475428 non-null  object \n",
      "dtypes: float64(2), int64(1), object(6)\n",
      "memory usage: 32.6+ MB\n"
     ]
    }
   ],
   "source": [
    "df = pd.read_csv(\"../../datasets/built_dataset.csv\")\n",
    "df.info()#Gives Information about null data and more"
   ],
   "metadata": {
    "collapsed": false,
    "ExecuteTime": {
     "end_time": "2024-01-20T15:27:46.083755100Z",
     "start_time": "2024-01-20T15:27:45.542258500Z"
    }
   },
   "id": "2e0dc98eb3e5a785"
  },
  {
   "cell_type": "code",
   "execution_count": 3,
   "outputs": [],
   "source": [
    "df=df.drop(columns=['Item Code', 'Quantity Sold (kilo)', 'Unit Selling Price (RMB/kg)', 'Sale or Return', 'Discount (Yes/No)'])"
   ],
   "metadata": {
    "collapsed": false,
    "ExecuteTime": {
     "end_time": "2024-01-20T15:27:46.130510900Z",
     "start_time": "2024-01-20T15:27:46.097716500Z"
    }
   },
   "id": "3ad17dc5083482f3"
  },
  {
   "cell_type": "code",
   "execution_count": 4,
   "outputs": [
    {
     "data": {
      "text/plain": "           Item Name Category Name        Date      Time\n0  green hot peppers      capsicum  2021-01-01  09:14:26\n1  green hot peppers      capsicum  2021-01-01  09:14:26\n2    yunnan lettuces        flower  2021-01-01  09:16:20\n3    xixia mushroom       mushroom  2021-01-01  09:18:49\n4        paopaojiao       capsicum  2021-01-01  09:19:14",
      "text/html": "<div>\n<style scoped>\n    .dataframe tbody tr th:only-of-type {\n        vertical-align: middle;\n    }\n\n    .dataframe tbody tr th {\n        vertical-align: top;\n    }\n\n    .dataframe thead th {\n        text-align: right;\n    }\n</style>\n<table border=\"1\" class=\"dataframe\">\n  <thead>\n    <tr style=\"text-align: right;\">\n      <th></th>\n      <th>Item Name</th>\n      <th>Category Name</th>\n      <th>Date</th>\n      <th>Time</th>\n    </tr>\n  </thead>\n  <tbody>\n    <tr>\n      <th>0</th>\n      <td>green hot peppers</td>\n      <td>capsicum</td>\n      <td>2021-01-01</td>\n      <td>09:14:26</td>\n    </tr>\n    <tr>\n      <th>1</th>\n      <td>green hot peppers</td>\n      <td>capsicum</td>\n      <td>2021-01-01</td>\n      <td>09:14:26</td>\n    </tr>\n    <tr>\n      <th>2</th>\n      <td>yunnan lettuces</td>\n      <td>flower</td>\n      <td>2021-01-01</td>\n      <td>09:16:20</td>\n    </tr>\n    <tr>\n      <th>3</th>\n      <td>xixia mushroom</td>\n      <td>mushroom</td>\n      <td>2021-01-01</td>\n      <td>09:18:49</td>\n    </tr>\n    <tr>\n      <th>4</th>\n      <td>paopaojiao</td>\n      <td>capsicum</td>\n      <td>2021-01-01</td>\n      <td>09:19:14</td>\n    </tr>\n  </tbody>\n</table>\n</div>"
     },
     "execution_count": 4,
     "metadata": {},
     "output_type": "execute_result"
    }
   ],
   "source": [
    "df['Time'] = df['Time'].str[:8]\n",
    "df.head()"
   ],
   "metadata": {
    "collapsed": false,
    "ExecuteTime": {
     "end_time": "2024-01-20T15:27:46.212393700Z",
     "start_time": "2024-01-20T15:27:46.108580800Z"
    }
   },
   "id": "5a1a611021df5e89"
  },
  {
   "cell_type": "code",
   "execution_count": 5,
   "outputs": [
    {
     "data": {
      "text/plain": "659.4008321775312"
     },
     "execution_count": 5,
     "metadata": {},
     "output_type": "execute_result"
    }
   ],
   "source": [
    "df['Date'].value_counts().mean()"
   ],
   "metadata": {
    "collapsed": false,
    "ExecuteTime": {
     "end_time": "2024-01-20T15:27:46.217439Z",
     "start_time": "2024-01-20T15:27:46.197438900Z"
    }
   },
   "id": "bd7ff2fbb1b3bc98"
  },
  {
   "cell_type": "code",
   "execution_count": 6,
   "outputs": [],
   "source": [
    "import random"
   ],
   "metadata": {
    "collapsed": false,
    "ExecuteTime": {
     "end_time": "2024-01-20T15:27:46.229433Z",
     "start_time": "2024-01-20T15:27:46.217966400Z"
    }
   },
   "id": "899fe10456e12f85"
  },
  {
   "cell_type": "code",
   "execution_count": 7,
   "outputs": [
    {
     "data": {
      "text/plain": "699.1588235294117"
     },
     "execution_count": 7,
     "metadata": {},
     "output_type": "execute_result"
    }
   ],
   "source": [
    "for i in range(df.shape[0]):\n",
    "    df.at[i, 'suffix'] = random.randint(1,680)\n",
    "    \n",
    "    \n",
    "df['suffix'] = df['suffix'].astype(str)\n",
    "df['suffix'].value_counts().mean()"
   ],
   "metadata": {
    "collapsed": false,
    "ExecuteTime": {
     "end_time": "2024-01-20T15:27:50.587183200Z",
     "start_time": "2024-01-20T15:27:46.221460700Z"
    }
   },
   "id": "1ae93e74fbfb56bd"
  },
  {
   "cell_type": "code",
   "execution_count": 8,
   "outputs": [
    {
     "data": {
      "text/plain": "       Item Name Category Name        Date      Time suffix  prefix\n323870  amaranth        flower  2022-04-28  15:23:24  308.0  220428",
      "text/html": "<div>\n<style scoped>\n    .dataframe tbody tr th:only-of-type {\n        vertical-align: middle;\n    }\n\n    .dataframe tbody tr th {\n        vertical-align: top;\n    }\n\n    .dataframe thead th {\n        text-align: right;\n    }\n</style>\n<table border=\"1\" class=\"dataframe\">\n  <thead>\n    <tr style=\"text-align: right;\">\n      <th></th>\n      <th>Item Name</th>\n      <th>Category Name</th>\n      <th>Date</th>\n      <th>Time</th>\n      <th>suffix</th>\n      <th>prefix</th>\n    </tr>\n  </thead>\n  <tbody>\n    <tr>\n      <th>323870</th>\n      <td>amaranth</td>\n      <td>flower</td>\n      <td>2022-04-28</td>\n      <td>15:23:24</td>\n      <td>308.0</td>\n      <td>220428</td>\n    </tr>\n  </tbody>\n</table>\n</div>"
     },
     "execution_count": 8,
     "metadata": {},
     "output_type": "execute_result"
    }
   ],
   "source": [
    "df['Date'] = df['Date'].astype(str)\n",
    "for i in range(df.shape[0]):\n",
    "    df.at[i, 'prefix'] = df['Date'][i][2:4]+df['Date'][i][5:7]+df['Date'][i][8:]\n",
    "    \n",
    "df.sample()"
   ],
   "metadata": {
    "collapsed": false,
    "ExecuteTime": {
     "end_time": "2024-01-20T15:28:03.974266700Z",
     "start_time": "2024-01-20T15:27:50.588180300Z"
    }
   },
   "id": "e74cc0240de3cf13"
  },
  {
   "cell_type": "code",
   "execution_count": 9,
   "outputs": [
    {
     "data": {
      "text/plain": "(13, 1.6254671147777509, 1)"
     },
     "execution_count": 9,
     "metadata": {},
     "output_type": "execute_result"
    }
   ],
   "source": [
    "for i in range(df.shape[0]):\n",
    "    df.at[i, 'Invoice_ID']=df['prefix'][i]+df['suffix'][i][:-2]\n",
    "    \n",
    "df['Invoice_ID'].value_counts().max(),df['Invoice_ID'].value_counts().mean(),df['Invoice_ID'].value_counts().min()"
   ],
   "metadata": {
    "collapsed": false,
    "ExecuteTime": {
     "end_time": "2024-01-20T15:28:21.378614Z",
     "start_time": "2024-01-20T15:28:03.973023Z"
    }
   },
   "id": "c8087b1c04de5a5f"
  },
  {
   "cell_type": "code",
   "execution_count": 10,
   "outputs": [
    {
     "data": {
      "text/plain": "           Item Name Category Name        Date      Time suffix  prefix  \\\n448426  huangxincai         flower  2022-11-15  18:56:03   70.0  221115   \n\n       Invoice_ID  \n448426   22111570  ",
      "text/html": "<div>\n<style scoped>\n    .dataframe tbody tr th:only-of-type {\n        vertical-align: middle;\n    }\n\n    .dataframe tbody tr th {\n        vertical-align: top;\n    }\n\n    .dataframe thead th {\n        text-align: right;\n    }\n</style>\n<table border=\"1\" class=\"dataframe\">\n  <thead>\n    <tr style=\"text-align: right;\">\n      <th></th>\n      <th>Item Name</th>\n      <th>Category Name</th>\n      <th>Date</th>\n      <th>Time</th>\n      <th>suffix</th>\n      <th>prefix</th>\n      <th>Invoice_ID</th>\n    </tr>\n  </thead>\n  <tbody>\n    <tr>\n      <th>448426</th>\n      <td>huangxincai</td>\n      <td>flower</td>\n      <td>2022-11-15</td>\n      <td>18:56:03</td>\n      <td>70.0</td>\n      <td>221115</td>\n      <td>22111570</td>\n    </tr>\n  </tbody>\n</table>\n</div>"
     },
     "execution_count": 10,
     "metadata": {},
     "output_type": "execute_result"
    }
   ],
   "source": [
    "df.sample()"
   ],
   "metadata": {
    "collapsed": false,
    "ExecuteTime": {
     "end_time": "2024-01-20T15:28:21.396215800Z",
     "start_time": "2024-01-20T15:28:21.377617300Z"
    }
   },
   "id": "f01121ba40fae8fa"
  },
  {
   "cell_type": "code",
   "execution_count": 11,
   "outputs": [],
   "source": [
    "df=df.drop(columns=['Date','Time','prefix','suffix'])"
   ],
   "metadata": {
    "collapsed": false,
    "ExecuteTime": {
     "end_time": "2024-01-20T15:28:21.465075700Z",
     "start_time": "2024-01-20T15:28:21.397211Z"
    }
   },
   "id": "56216beaf99bc987"
  },
  {
   "cell_type": "code",
   "execution_count": 12,
   "outputs": [
    {
     "name": "stdout",
     "output_type": "stream",
     "text": [
      "<class 'pandas.core.frame.DataFrame'>\n",
      "RangeIndex: 475428 entries, 0 to 475427\n",
      "Data columns (total 3 columns):\n",
      " #   Column         Non-Null Count   Dtype \n",
      "---  ------         --------------   ----- \n",
      " 0   Item Name      475428 non-null  object\n",
      " 1   Category Name  475428 non-null  object\n",
      " 2   Invoice_ID     475428 non-null  object\n",
      "dtypes: object(3)\n",
      "memory usage: 10.9+ MB\n"
     ]
    }
   ],
   "source": [
    "df.info()"
   ],
   "metadata": {
    "collapsed": false,
    "ExecuteTime": {
     "end_time": "2024-01-20T15:28:21.528822800Z",
     "start_time": "2024-01-20T15:28:21.441153900Z"
    }
   },
   "id": "3ab6e2ab3c286278"
  },
  {
   "cell_type": "code",
   "execution_count": 13,
   "outputs": [
    {
     "data": {
      "text/plain": "292487"
     },
     "execution_count": 13,
     "metadata": {},
     "output_type": "execute_result"
    }
   ],
   "source": [
    "df['Invoice_ID'].unique().shape[0]"
   ],
   "metadata": {
    "collapsed": false,
    "ExecuteTime": {
     "end_time": "2024-01-20T15:28:21.557055100Z",
     "start_time": "2024-01-20T15:28:21.503967600Z"
    }
   },
   "id": "60b325b9da907fe4"
  },
  {
   "cell_type": "code",
   "execution_count": 14,
   "outputs": [],
   "source": [
    "df1 = pd.get_dummies(df.drop(columns=['Invoice_ID']))"
   ],
   "metadata": {
    "collapsed": false,
    "ExecuteTime": {
     "end_time": "2024-01-20T15:28:21.841367800Z",
     "start_time": "2024-01-20T15:28:21.543101100Z"
    }
   },
   "id": "c0c2bd57148453b0"
  },
  {
   "cell_type": "code",
   "execution_count": null,
   "outputs": [],
   "source": [
    "from sklearn.preprocessing import LabelBinarizer\n",
    "obj = LabelBinarizer()\n",
    "df2 = obj.fit_transform(df['Invoice_ID'])\n",
    "df2.shape"
   ],
   "metadata": {
    "collapsed": false,
    "is_executing": true,
    "ExecuteTime": {
     "start_time": "2024-01-20T15:28:21.842364600Z"
    }
   },
   "id": "f54e5ac34291067d"
  },
  {
   "cell_type": "code",
   "execution_count": null,
   "outputs": [],
   "source": [
    "df_final = df1 + df2\n",
    "df_final.sample(3)"
   ],
   "metadata": {
    "collapsed": false,
    "is_executing": true
   },
   "id": "bff25df606065359"
  },
  {
   "cell_type": "code",
   "execution_count": null,
   "outputs": [],
   "source": [
    "df_final.to_csv('../../datasets/annex/pre_processed_data.csv', index=False)"
   ],
   "metadata": {
    "collapsed": false,
    "is_executing": true
   },
   "id": "3cf8cd787a6bca12"
  }
 ],
 "metadata": {
  "kernelspec": {
   "display_name": "Python 3",
   "language": "python",
   "name": "python3"
  },
  "language_info": {
   "codemirror_mode": {
    "name": "ipython",
    "version": 2
   },
   "file_extension": ".py",
   "mimetype": "text/x-python",
   "name": "python",
   "nbconvert_exporter": "python",
   "pygments_lexer": "ipython2",
   "version": "2.7.6"
  }
 },
 "nbformat": 4,
 "nbformat_minor": 5
}
