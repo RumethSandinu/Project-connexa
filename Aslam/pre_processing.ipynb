{
 "cells": [
  {
   "cell_type": "code",
   "execution_count": null,
   "id": "initial_id",
   "metadata": {
    "collapsed": true
   },
   "outputs": [],
   "source": [
    "import pandas as pd\n",
    "import numpy as np\n",
    "from sklearn.cluster import KMeans\n",
    "import matplotlib.pyplot as plt"
   ]
  },
  {
   "cell_type": "code",
   "execution_count": null,
   "outputs": [],
   "source": [
    "df = pd.read_csv(\"../../datasets/built_dataset.csv\")\n",
    "df.info()#Gives Information about null data and more"
   ],
   "metadata": {
    "collapsed": false
   },
   "id": "2e0dc98eb3e5a785"
  },
  {
   "cell_type": "code",
   "execution_count": null,
   "outputs": [],
   "source": [
    "df=df.drop(columns=['Item Code', 'Quantity Sold (kilo)', 'Unit Selling Price (RMB/kg)', 'Sale or Return', 'Discount (Yes/No)'])"
   ],
   "metadata": {
    "collapsed": false
   },
   "id": "3ad17dc5083482f3"
  },
  {
   "cell_type": "code",
   "execution_count": null,
   "outputs": [],
   "source": [
    "df['Time'] = df['Time'].str[:8]\n",
    "df.head()"
   ],
   "metadata": {
    "collapsed": false
   },
   "id": "5a1a611021df5e89"
  },
  {
   "cell_type": "code",
   "execution_count": null,
   "outputs": [],
   "source": [
    "df['Date'].value_counts().mean()"
   ],
   "metadata": {
    "collapsed": false
   },
   "id": "bd7ff2fbb1b3bc98"
  },
  {
   "cell_type": "code",
   "execution_count": null,
   "outputs": [],
   "source": [
    "import random"
   ],
   "metadata": {
    "collapsed": false
   },
   "id": "899fe10456e12f85"
  },
  {
   "cell_type": "code",
   "execution_count": null,
   "outputs": [],
   "source": [
    "for i in range(df.shape[0]):\n",
    "    df.at[i, 'suffix'] = random.randint(1,680)\n",
    "    \n",
    "    \n",
    "df['suffix'] = df['suffix'].astype(str)\n",
    "df['suffix'].value_counts().mean()"
   ],
   "metadata": {
    "collapsed": false
   },
   "id": "1ae93e74fbfb56bd"
  },
  {
   "cell_type": "code",
   "execution_count": null,
   "outputs": [],
   "source": [
    "df['Date'] = df['Date'].astype(str)\n",
    "for i in range(df.shape[0]):\n",
    "    df.at[i, 'prefix'] = df['Date'][i][2:4]+df['Date'][i][5:7]+df['Date'][i][8:]\n",
    "    \n",
    "df.sample()"
   ],
   "metadata": {
    "collapsed": false
   },
   "id": "e74cc0240de3cf13"
  },
  {
   "cell_type": "code",
   "execution_count": null,
   "outputs": [],
   "source": [
    "for i in range(df.shape[0]):\n",
    "    df.at[i, 'Invoice_ID']=df['prefix'][i]+df['suffix'][i][:-2]\n",
    "    \n",
    "df['Invoice_ID'].value_counts().max(),df['Invoice_ID'].value_counts().mean(),df['Invoice_ID'].value_counts().min()"
   ],
   "metadata": {
    "collapsed": false
   },
   "id": "c8087b1c04de5a5f"
  },
  {
   "cell_type": "code",
   "execution_count": null,
   "outputs": [],
   "source": [
    "df.sample()"
   ],
   "metadata": {
    "collapsed": false
   },
   "id": "f01121ba40fae8fa"
  },
  {
   "cell_type": "code",
   "execution_count": null,
   "outputs": [],
   "source": [
    "df=df.drop(columns=['Date','Time','prefix','suffix'])"
   ],
   "metadata": {
    "collapsed": false
   },
   "id": "56216beaf99bc987"
  },
  {
   "cell_type": "code",
   "execution_count": null,
   "outputs": [],
   "source": [
    "df.info()"
   ],
   "metadata": {
    "collapsed": false
   },
   "id": "3ab6e2ab3c286278"
  },
  {
   "cell_type": "code",
   "execution_count": null,
   "outputs": [],
   "source": [
    "df['Invoice_ID'].unique().shape[0]"
   ],
   "metadata": {
    "collapsed": false
   },
   "id": "60b325b9da907fe4"
  },
  {
   "cell_type": "code",
   "execution_count": null,
   "outputs": [],
   "source": [
    "df1 = pd.get_dummies(df.drop(columns=['Invoice_ID']))"
   ],
   "metadata": {
    "collapsed": false
   },
   "id": "c0c2bd57148453b0"
  },
  {
   "cell_type": "code",
   "execution_count": null,
   "outputs": [],
   "source": [
    "from sklearn.preprocessing import LabelBinarizer\n",
    "obj = LabelBinarizer()\n",
    "df2 = obj.fit_transform(df['Invoice_ID'])\n",
    "df2.shape"
   ],
   "metadata": {
    "collapsed": false
   },
   "id": "f54e5ac34291067d"
  },
  {
   "cell_type": "code",
   "execution_count": null,
   "outputs": [],
   "source": [
    "df_final = df1 + df2\n",
    "df_final.sample(3)"
   ],
   "metadata": {
    "collapsed": false
   },
   "id": "bff25df606065359"
  },
  {
   "cell_type": "code",
   "execution_count": null,
   "outputs": [],
   "source": [
    "df_final.to_csv('../../datasets/annex/pre_processed_data.csv', index=False)"
   ],
   "metadata": {
    "collapsed": false
   },
   "id": "3cf8cd787a6bca12"
  }
 ],
 "metadata": {
  "kernelspec": {
   "display_name": "Python 3",
   "language": "python",
   "name": "python3"
  },
  "language_info": {
   "codemirror_mode": {
    "name": "ipython",
    "version": 2
   },
   "file_extension": ".py",
   "mimetype": "text/x-python",
   "name": "python",
   "nbconvert_exporter": "python",
   "pygments_lexer": "ipython2",
   "version": "2.7.6"
  }
 },
 "nbformat": 4,
 "nbformat_minor": 5
}
