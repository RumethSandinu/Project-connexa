{
 "cells": [
  {
   "cell_type": "code",
   "execution_count": 117,
   "id": "initial_id",
   "metadata": {
    "collapsed": true,
    "ExecuteTime": {
     "end_time": "2023-12-02T19:19:06.388599800Z",
     "start_time": "2023-12-02T19:19:06.242465800Z"
    }
   },
   "outputs": [],
   "source": [
    "import pandas as pd\n",
    "import numpy as np"
   ]
  },
  {
   "cell_type": "code",
   "execution_count": 118,
   "outputs": [
    {
     "data": {
      "text/plain": "         Item Code              Item Name  Category Code  \\\n0  102900005115168       Niushou Shengcai     1011010101   \n1  102900005115199      Sichuan Red Cedar     1011010101   \n2  102900005115625  Local Xiaomao Cabbage     1011010101   \n3  102900005115748           White Caitai     1011010101   \n4  102900005115762               Amaranth     1011010101   \n5  102900005115779        Yunnan Shengcai     1011010101   \n6  102900005115786               Zhuyecai     1011010101   \n7  102900005115793        Chinese Cabbage     1011010101   \n8  102900005115816             Nanguajian     1011010101   \n9  102900005115823           Shanghaiqing     1011010101   \n\n            Category Name  \n0  Flower/Leaf Vegetables  \n1  Flower/Leaf Vegetables  \n2  Flower/Leaf Vegetables  \n3  Flower/Leaf Vegetables  \n4  Flower/Leaf Vegetables  \n5  Flower/Leaf Vegetables  \n6  Flower/Leaf Vegetables  \n7  Flower/Leaf Vegetables  \n8  Flower/Leaf Vegetables  \n9  Flower/Leaf Vegetables  ",
      "text/html": "<div>\n<style scoped>\n    .dataframe tbody tr th:only-of-type {\n        vertical-align: middle;\n    }\n\n    .dataframe tbody tr th {\n        vertical-align: top;\n    }\n\n    .dataframe thead th {\n        text-align: right;\n    }\n</style>\n<table border=\"1\" class=\"dataframe\">\n  <thead>\n    <tr style=\"text-align: right;\">\n      <th></th>\n      <th>Item Code</th>\n      <th>Item Name</th>\n      <th>Category Code</th>\n      <th>Category Name</th>\n    </tr>\n  </thead>\n  <tbody>\n    <tr>\n      <th>0</th>\n      <td>102900005115168</td>\n      <td>Niushou Shengcai</td>\n      <td>1011010101</td>\n      <td>Flower/Leaf Vegetables</td>\n    </tr>\n    <tr>\n      <th>1</th>\n      <td>102900005115199</td>\n      <td>Sichuan Red Cedar</td>\n      <td>1011010101</td>\n      <td>Flower/Leaf Vegetables</td>\n    </tr>\n    <tr>\n      <th>2</th>\n      <td>102900005115625</td>\n      <td>Local Xiaomao Cabbage</td>\n      <td>1011010101</td>\n      <td>Flower/Leaf Vegetables</td>\n    </tr>\n    <tr>\n      <th>3</th>\n      <td>102900005115748</td>\n      <td>White Caitai</td>\n      <td>1011010101</td>\n      <td>Flower/Leaf Vegetables</td>\n    </tr>\n    <tr>\n      <th>4</th>\n      <td>102900005115762</td>\n      <td>Amaranth</td>\n      <td>1011010101</td>\n      <td>Flower/Leaf Vegetables</td>\n    </tr>\n    <tr>\n      <th>5</th>\n      <td>102900005115779</td>\n      <td>Yunnan Shengcai</td>\n      <td>1011010101</td>\n      <td>Flower/Leaf Vegetables</td>\n    </tr>\n    <tr>\n      <th>6</th>\n      <td>102900005115786</td>\n      <td>Zhuyecai</td>\n      <td>1011010101</td>\n      <td>Flower/Leaf Vegetables</td>\n    </tr>\n    <tr>\n      <th>7</th>\n      <td>102900005115793</td>\n      <td>Chinese Cabbage</td>\n      <td>1011010101</td>\n      <td>Flower/Leaf Vegetables</td>\n    </tr>\n    <tr>\n      <th>8</th>\n      <td>102900005115816</td>\n      <td>Nanguajian</td>\n      <td>1011010101</td>\n      <td>Flower/Leaf Vegetables</td>\n    </tr>\n    <tr>\n      <th>9</th>\n      <td>102900005115823</td>\n      <td>Shanghaiqing</td>\n      <td>1011010101</td>\n      <td>Flower/Leaf Vegetables</td>\n    </tr>\n  </tbody>\n</table>\n</div>"
     },
     "execution_count": 118,
     "metadata": {},
     "output_type": "execute_result"
    }
   ],
   "source": [
    "df = pd.read_csv(r\"C:\\Users\\TUF\\Desktop\\dataset\\annex1.csv\")\n",
    "df2 = pd.read_csv(r\"C:\\Users\\TUF\\Desktop\\dataset\\annex2.csv\")\n",
    "df.head(10)"
   ],
   "metadata": {
    "collapsed": false,
    "ExecuteTime": {
     "end_time": "2023-12-02T19:19:09.417515300Z",
     "start_time": "2023-12-02T19:19:06.247975500Z"
    }
   },
   "id": "2e0dc98eb3e5a785"
  },
  {
   "cell_type": "code",
   "execution_count": 119,
   "outputs": [
    {
     "name": "stdout",
     "output_type": "stream",
     "text": [
      "<class 'pandas.core.frame.DataFrame'>\n",
      "RangeIndex: 251 entries, 0 to 250\n",
      "Data columns (total 4 columns):\n",
      " #   Column         Non-Null Count  Dtype \n",
      "---  ------         --------------  ----- \n",
      " 0   Item Code      251 non-null    int64 \n",
      " 1   Item Name      251 non-null    object\n",
      " 2   Category Code  251 non-null    int64 \n",
      " 3   Category Name  251 non-null    object\n",
      "dtypes: int64(2), object(2)\n",
      "memory usage: 8.0+ KB\n"
     ]
    }
   ],
   "source": [
    "df.drop_duplicates() #Drops the duplicates\n",
    "df.info() #Gives Information about null data and more"
   ],
   "metadata": {
    "collapsed": false,
    "ExecuteTime": {
     "end_time": "2023-12-02T19:19:09.417515300Z",
     "start_time": "2023-12-02T19:19:09.401718300Z"
    }
   },
   "id": "becbe308068cc970"
  },
  {
   "cell_type": "code",
   "execution_count": 120,
   "outputs": [
    {
     "data": {
      "text/plain": "         Item Code              Item Name  Category Code  \\\n0  102900005115168       niushou shengcai     1011010101   \n1  102900005115199      sichuan red cedar     1011010101   \n2  102900005115625  local xiaomao cabbage     1011010101   \n3  102900005115748           white caitai     1011010101   \n4  102900005115762               amaranth     1011010101   \n5  102900005115779        yunnan shengcai     1011010101   \n6  102900005115786               zhuyecai     1011010101   \n7  102900005115793        chinese cabbage     1011010101   \n8  102900005115816             nanguajian     1011010101   \n9  102900005115823           shanghaiqing     1011010101   \n\n           Category Name  \n0  flower/leafvegetables  \n1  flower/leafvegetables  \n2  flower/leafvegetables  \n3  flower/leafvegetables  \n4  flower/leafvegetables  \n5  flower/leafvegetables  \n6  flower/leafvegetables  \n7  flower/leafvegetables  \n8  flower/leafvegetables  \n9  flower/leafvegetables  ",
      "text/html": "<div>\n<style scoped>\n    .dataframe tbody tr th:only-of-type {\n        vertical-align: middle;\n    }\n\n    .dataframe tbody tr th {\n        vertical-align: top;\n    }\n\n    .dataframe thead th {\n        text-align: right;\n    }\n</style>\n<table border=\"1\" class=\"dataframe\">\n  <thead>\n    <tr style=\"text-align: right;\">\n      <th></th>\n      <th>Item Code</th>\n      <th>Item Name</th>\n      <th>Category Code</th>\n      <th>Category Name</th>\n    </tr>\n  </thead>\n  <tbody>\n    <tr>\n      <th>0</th>\n      <td>102900005115168</td>\n      <td>niushou shengcai</td>\n      <td>1011010101</td>\n      <td>flower/leafvegetables</td>\n    </tr>\n    <tr>\n      <th>1</th>\n      <td>102900005115199</td>\n      <td>sichuan red cedar</td>\n      <td>1011010101</td>\n      <td>flower/leafvegetables</td>\n    </tr>\n    <tr>\n      <th>2</th>\n      <td>102900005115625</td>\n      <td>local xiaomao cabbage</td>\n      <td>1011010101</td>\n      <td>flower/leafvegetables</td>\n    </tr>\n    <tr>\n      <th>3</th>\n      <td>102900005115748</td>\n      <td>white caitai</td>\n      <td>1011010101</td>\n      <td>flower/leafvegetables</td>\n    </tr>\n    <tr>\n      <th>4</th>\n      <td>102900005115762</td>\n      <td>amaranth</td>\n      <td>1011010101</td>\n      <td>flower/leafvegetables</td>\n    </tr>\n    <tr>\n      <th>5</th>\n      <td>102900005115779</td>\n      <td>yunnan shengcai</td>\n      <td>1011010101</td>\n      <td>flower/leafvegetables</td>\n    </tr>\n    <tr>\n      <th>6</th>\n      <td>102900005115786</td>\n      <td>zhuyecai</td>\n      <td>1011010101</td>\n      <td>flower/leafvegetables</td>\n    </tr>\n    <tr>\n      <th>7</th>\n      <td>102900005115793</td>\n      <td>chinese cabbage</td>\n      <td>1011010101</td>\n      <td>flower/leafvegetables</td>\n    </tr>\n    <tr>\n      <th>8</th>\n      <td>102900005115816</td>\n      <td>nanguajian</td>\n      <td>1011010101</td>\n      <td>flower/leafvegetables</td>\n    </tr>\n    <tr>\n      <th>9</th>\n      <td>102900005115823</td>\n      <td>shanghaiqing</td>\n      <td>1011010101</td>\n      <td>flower/leafvegetables</td>\n    </tr>\n  </tbody>\n</table>\n</div>"
     },
     "execution_count": 120,
     "metadata": {},
     "output_type": "execute_result"
    }
   ],
   "source": [
    "df['Category Name'] = df['Category Name'].str.replace('\\xa0', '') # Removing Non-Breaking space characters\n",
    "df['Item Name'] = df['Item Name'].str.lower() # Standardisation : converts all the letters to lowercase\n",
    "df['Category Name'] = df['Category Name'].str.lower() # Standardisation : converts all the letters to lowercase\n",
    "df.head(10)"
   ],
   "metadata": {
    "collapsed": false,
    "ExecuteTime": {
     "end_time": "2023-12-02T19:19:09.581280800Z",
     "start_time": "2023-12-02T19:19:09.424530100Z"
    }
   },
   "id": "902d56b958720d3f"
  },
  {
   "cell_type": "code",
   "execution_count": 121,
   "outputs": [
    {
     "data": {
      "text/plain": "           Item Code                                          Item Name  \\\n201  102900011012994                         apricot bao mushroom (bag)   \n202  102900011013274                           the white mushroom (bag)   \n203  102900011018095           chinese caterpillar fungus flowers (bag)   \n204  102900011021675                                   chopped red pine   \n205  102900011021699                                the steak mushrooms   \n206  102900011023075                               white jelly mushroom   \n207  102900011026793                       apricot bao mushroom (250 g)   \n208  102900011030561                             chopped red pine (box)   \n209  102900011030608                          the steak mushrooms (box)   \n210  102900011030615                    the pork stomach mushroom (box)   \n211  102900011030622                                black porcini (box)   \n212  102900011030639                   black chicken fir bacteria (box)   \n213  102900011030912                             haixian mushroom (bag)   \n214  102900011030929                          fresh edible fungus (bag)   \n215  102900011031599                         apricot bao mushroom (bag)   \n216  102900011031841                            agaricus bisporus (bag)   \n217  102900011031858                              needle mushroom (bag)   \n218  102900011031926           chinese caterpillar fungus flowers (bag)   \n219  102900011031995                                         jigu (bag)   \n220  102900011032619                         xixia xianggu mushroom (2)   \n221  102900011032626                            fresh edible fungus (2)   \n222  102900011032633                                      fresh sea (2)   \n223  102900011032640                                           jigu (2)   \n224  102900011033937                                needle mushroom (2)   \n225  102900011033944                           apricot bao mushroom (2)   \n226  102900011033968                           xixia black mushroom (2)   \n227  102900011034330                            agaricus bisporus (box)   \n228  102900011034538                               black mushroom (bag)   \n229  102900011034705          the fungus mushroom hot pot package (bag)   \n230  102900011035740  crab flavor mushroom and white mushroom mix (box)   \n231  102900011035788                       xixia xianggu mushroom (bag)   \n232  102900011036068                        mushroom and leaf mix (bag)   \n233  102900011036266                       velvet antler mushroom (box)   \n234  102900051009336                 chinese caterpillar fungus flowers   \n235  106930274220092                     the crab flavor mushroom (bag)   \n236  106930274620090                         haixian mushroom (bag) (2)   \n237  106931885000035                                 embroidered aureus   \n238  106931885000356                           embroidered aureus (bag)   \n239  106949711300068                          needle mushroom (bag) (3)   \n240  106949711300167                          needle mushroom (bag) (2)   \n241  106949711300259                              needle mushroom (box)   \n242  106956146480197                             the white mushroom (2)   \n243  106956146480203                       the crab flavor mushroom (2)   \n244  106957634300010                           the white mushroom (box)   \n245  106957634300058                     the crab flavor mushroom (box)   \n246  106958851400125                         haixian mushroom (bag) (4)   \n247  106971533450003                           haixian mushroom (bunch)   \n248  106971533455008                         haixian mushroom (bag) (3)   \n249  106973223300667       chinese caterpillar fungus flowers (box) (2)   \n250  106973990980123                      hfyg haixian mushroom (bunch)   \n\n     Category Code Category Name  \n201     1011010801      mushroom  \n202     1011010801      mushroom  \n203     1011010801      mushroom  \n204     1011010801      mushroom  \n205     1011010801      mushroom  \n206     1011010801      mushroom  \n207     1011010801      mushroom  \n208     1011010801      mushroom  \n209     1011010801      mushroom  \n210     1011010801      mushroom  \n211     1011010801      mushroom  \n212     1011010801      mushroom  \n213     1011010801      mushroom  \n214     1011010801      mushroom  \n215     1011010801      mushroom  \n216     1011010801      mushroom  \n217     1011010801      mushroom  \n218     1011010801      mushroom  \n219     1011010801      mushroom  \n220     1011010801      mushroom  \n221     1011010801      mushroom  \n222     1011010801      mushroom  \n223     1011010801      mushroom  \n224     1011010801      mushroom  \n225     1011010801      mushroom  \n226     1011010801      mushroom  \n227     1011010801      mushroom  \n228     1011010801      mushroom  \n229     1011010801      mushroom  \n230     1011010801      mushroom  \n231     1011010801      mushroom  \n232     1011010801      mushroom  \n233     1011010801      mushroom  \n234     1011010801      mushroom  \n235     1011010801      mushroom  \n236     1011010801      mushroom  \n237     1011010801      mushroom  \n238     1011010801      mushroom  \n239     1011010801      mushroom  \n240     1011010801      mushroom  \n241     1011010801      mushroom  \n242     1011010801      mushroom  \n243     1011010801      mushroom  \n244     1011010801      mushroom  \n245     1011010801      mushroom  \n246     1011010801      mushroom  \n247     1011010801      mushroom  \n248     1011010801      mushroom  \n249     1011010801      mushroom  \n250     1011010801      mushroom  ",
      "text/html": "<div>\n<style scoped>\n    .dataframe tbody tr th:only-of-type {\n        vertical-align: middle;\n    }\n\n    .dataframe tbody tr th {\n        vertical-align: top;\n    }\n\n    .dataframe thead th {\n        text-align: right;\n    }\n</style>\n<table border=\"1\" class=\"dataframe\">\n  <thead>\n    <tr style=\"text-align: right;\">\n      <th></th>\n      <th>Item Code</th>\n      <th>Item Name</th>\n      <th>Category Code</th>\n      <th>Category Name</th>\n    </tr>\n  </thead>\n  <tbody>\n    <tr>\n      <th>201</th>\n      <td>102900011012994</td>\n      <td>apricot bao mushroom (bag)</td>\n      <td>1011010801</td>\n      <td>mushroom</td>\n    </tr>\n    <tr>\n      <th>202</th>\n      <td>102900011013274</td>\n      <td>the white mushroom (bag)</td>\n      <td>1011010801</td>\n      <td>mushroom</td>\n    </tr>\n    <tr>\n      <th>203</th>\n      <td>102900011018095</td>\n      <td>chinese caterpillar fungus flowers (bag)</td>\n      <td>1011010801</td>\n      <td>mushroom</td>\n    </tr>\n    <tr>\n      <th>204</th>\n      <td>102900011021675</td>\n      <td>chopped red pine</td>\n      <td>1011010801</td>\n      <td>mushroom</td>\n    </tr>\n    <tr>\n      <th>205</th>\n      <td>102900011021699</td>\n      <td>the steak mushrooms</td>\n      <td>1011010801</td>\n      <td>mushroom</td>\n    </tr>\n    <tr>\n      <th>206</th>\n      <td>102900011023075</td>\n      <td>white jelly mushroom</td>\n      <td>1011010801</td>\n      <td>mushroom</td>\n    </tr>\n    <tr>\n      <th>207</th>\n      <td>102900011026793</td>\n      <td>apricot bao mushroom (250 g)</td>\n      <td>1011010801</td>\n      <td>mushroom</td>\n    </tr>\n    <tr>\n      <th>208</th>\n      <td>102900011030561</td>\n      <td>chopped red pine (box)</td>\n      <td>1011010801</td>\n      <td>mushroom</td>\n    </tr>\n    <tr>\n      <th>209</th>\n      <td>102900011030608</td>\n      <td>the steak mushrooms (box)</td>\n      <td>1011010801</td>\n      <td>mushroom</td>\n    </tr>\n    <tr>\n      <th>210</th>\n      <td>102900011030615</td>\n      <td>the pork stomach mushroom (box)</td>\n      <td>1011010801</td>\n      <td>mushroom</td>\n    </tr>\n    <tr>\n      <th>211</th>\n      <td>102900011030622</td>\n      <td>black porcini (box)</td>\n      <td>1011010801</td>\n      <td>mushroom</td>\n    </tr>\n    <tr>\n      <th>212</th>\n      <td>102900011030639</td>\n      <td>black chicken fir bacteria (box)</td>\n      <td>1011010801</td>\n      <td>mushroom</td>\n    </tr>\n    <tr>\n      <th>213</th>\n      <td>102900011030912</td>\n      <td>haixian mushroom (bag)</td>\n      <td>1011010801</td>\n      <td>mushroom</td>\n    </tr>\n    <tr>\n      <th>214</th>\n      <td>102900011030929</td>\n      <td>fresh edible fungus (bag)</td>\n      <td>1011010801</td>\n      <td>mushroom</td>\n    </tr>\n    <tr>\n      <th>215</th>\n      <td>102900011031599</td>\n      <td>apricot bao mushroom (bag)</td>\n      <td>1011010801</td>\n      <td>mushroom</td>\n    </tr>\n    <tr>\n      <th>216</th>\n      <td>102900011031841</td>\n      <td>agaricus bisporus (bag)</td>\n      <td>1011010801</td>\n      <td>mushroom</td>\n    </tr>\n    <tr>\n      <th>217</th>\n      <td>102900011031858</td>\n      <td>needle mushroom (bag)</td>\n      <td>1011010801</td>\n      <td>mushroom</td>\n    </tr>\n    <tr>\n      <th>218</th>\n      <td>102900011031926</td>\n      <td>chinese caterpillar fungus flowers (bag)</td>\n      <td>1011010801</td>\n      <td>mushroom</td>\n    </tr>\n    <tr>\n      <th>219</th>\n      <td>102900011031995</td>\n      <td>jigu (bag)</td>\n      <td>1011010801</td>\n      <td>mushroom</td>\n    </tr>\n    <tr>\n      <th>220</th>\n      <td>102900011032619</td>\n      <td>xixia xianggu mushroom (2)</td>\n      <td>1011010801</td>\n      <td>mushroom</td>\n    </tr>\n    <tr>\n      <th>221</th>\n      <td>102900011032626</td>\n      <td>fresh edible fungus (2)</td>\n      <td>1011010801</td>\n      <td>mushroom</td>\n    </tr>\n    <tr>\n      <th>222</th>\n      <td>102900011032633</td>\n      <td>fresh sea (2)</td>\n      <td>1011010801</td>\n      <td>mushroom</td>\n    </tr>\n    <tr>\n      <th>223</th>\n      <td>102900011032640</td>\n      <td>jigu (2)</td>\n      <td>1011010801</td>\n      <td>mushroom</td>\n    </tr>\n    <tr>\n      <th>224</th>\n      <td>102900011033937</td>\n      <td>needle mushroom (2)</td>\n      <td>1011010801</td>\n      <td>mushroom</td>\n    </tr>\n    <tr>\n      <th>225</th>\n      <td>102900011033944</td>\n      <td>apricot bao mushroom (2)</td>\n      <td>1011010801</td>\n      <td>mushroom</td>\n    </tr>\n    <tr>\n      <th>226</th>\n      <td>102900011033968</td>\n      <td>xixia black mushroom (2)</td>\n      <td>1011010801</td>\n      <td>mushroom</td>\n    </tr>\n    <tr>\n      <th>227</th>\n      <td>102900011034330</td>\n      <td>agaricus bisporus (box)</td>\n      <td>1011010801</td>\n      <td>mushroom</td>\n    </tr>\n    <tr>\n      <th>228</th>\n      <td>102900011034538</td>\n      <td>black mushroom (bag)</td>\n      <td>1011010801</td>\n      <td>mushroom</td>\n    </tr>\n    <tr>\n      <th>229</th>\n      <td>102900011034705</td>\n      <td>the fungus mushroom hot pot package (bag)</td>\n      <td>1011010801</td>\n      <td>mushroom</td>\n    </tr>\n    <tr>\n      <th>230</th>\n      <td>102900011035740</td>\n      <td>crab flavor mushroom and white mushroom mix (box)</td>\n      <td>1011010801</td>\n      <td>mushroom</td>\n    </tr>\n    <tr>\n      <th>231</th>\n      <td>102900011035788</td>\n      <td>xixia xianggu mushroom (bag)</td>\n      <td>1011010801</td>\n      <td>mushroom</td>\n    </tr>\n    <tr>\n      <th>232</th>\n      <td>102900011036068</td>\n      <td>mushroom and leaf mix (bag)</td>\n      <td>1011010801</td>\n      <td>mushroom</td>\n    </tr>\n    <tr>\n      <th>233</th>\n      <td>102900011036266</td>\n      <td>velvet antler mushroom (box)</td>\n      <td>1011010801</td>\n      <td>mushroom</td>\n    </tr>\n    <tr>\n      <th>234</th>\n      <td>102900051009336</td>\n      <td>chinese caterpillar fungus flowers</td>\n      <td>1011010801</td>\n      <td>mushroom</td>\n    </tr>\n    <tr>\n      <th>235</th>\n      <td>106930274220092</td>\n      <td>the crab flavor mushroom (bag)</td>\n      <td>1011010801</td>\n      <td>mushroom</td>\n    </tr>\n    <tr>\n      <th>236</th>\n      <td>106930274620090</td>\n      <td>haixian mushroom (bag) (2)</td>\n      <td>1011010801</td>\n      <td>mushroom</td>\n    </tr>\n    <tr>\n      <th>237</th>\n      <td>106931885000035</td>\n      <td>embroidered aureus</td>\n      <td>1011010801</td>\n      <td>mushroom</td>\n    </tr>\n    <tr>\n      <th>238</th>\n      <td>106931885000356</td>\n      <td>embroidered aureus (bag)</td>\n      <td>1011010801</td>\n      <td>mushroom</td>\n    </tr>\n    <tr>\n      <th>239</th>\n      <td>106949711300068</td>\n      <td>needle mushroom (bag) (3)</td>\n      <td>1011010801</td>\n      <td>mushroom</td>\n    </tr>\n    <tr>\n      <th>240</th>\n      <td>106949711300167</td>\n      <td>needle mushroom (bag) (2)</td>\n      <td>1011010801</td>\n      <td>mushroom</td>\n    </tr>\n    <tr>\n      <th>241</th>\n      <td>106949711300259</td>\n      <td>needle mushroom (box)</td>\n      <td>1011010801</td>\n      <td>mushroom</td>\n    </tr>\n    <tr>\n      <th>242</th>\n      <td>106956146480197</td>\n      <td>the white mushroom (2)</td>\n      <td>1011010801</td>\n      <td>mushroom</td>\n    </tr>\n    <tr>\n      <th>243</th>\n      <td>106956146480203</td>\n      <td>the crab flavor mushroom (2)</td>\n      <td>1011010801</td>\n      <td>mushroom</td>\n    </tr>\n    <tr>\n      <th>244</th>\n      <td>106957634300010</td>\n      <td>the white mushroom (box)</td>\n      <td>1011010801</td>\n      <td>mushroom</td>\n    </tr>\n    <tr>\n      <th>245</th>\n      <td>106957634300058</td>\n      <td>the crab flavor mushroom (box)</td>\n      <td>1011010801</td>\n      <td>mushroom</td>\n    </tr>\n    <tr>\n      <th>246</th>\n      <td>106958851400125</td>\n      <td>haixian mushroom (bag) (4)</td>\n      <td>1011010801</td>\n      <td>mushroom</td>\n    </tr>\n    <tr>\n      <th>247</th>\n      <td>106971533450003</td>\n      <td>haixian mushroom (bunch)</td>\n      <td>1011010801</td>\n      <td>mushroom</td>\n    </tr>\n    <tr>\n      <th>248</th>\n      <td>106971533455008</td>\n      <td>haixian mushroom (bag) (3)</td>\n      <td>1011010801</td>\n      <td>mushroom</td>\n    </tr>\n    <tr>\n      <th>249</th>\n      <td>106973223300667</td>\n      <td>chinese caterpillar fungus flowers (box) (2)</td>\n      <td>1011010801</td>\n      <td>mushroom</td>\n    </tr>\n    <tr>\n      <th>250</th>\n      <td>106973990980123</td>\n      <td>hfyg haixian mushroom (bunch)</td>\n      <td>1011010801</td>\n      <td>mushroom</td>\n    </tr>\n  </tbody>\n</table>\n</div>"
     },
     "execution_count": 121,
     "metadata": {},
     "output_type": "execute_result"
    }
   ],
   "source": [
    "for index,row in df.iterrows():\n",
    "    df.at[index,'Category Name']= row['Category Name'].replace('/leafvegetables','').replace('edible ','').replace(' tuberous vegetables','')\n",
    "    \n",
    "df.tail(50)"
   ],
   "metadata": {
    "collapsed": false,
    "ExecuteTime": {
     "end_time": "2023-12-02T19:19:09.832289900Z",
     "start_time": "2023-12-02T19:19:09.456151700Z"
    }
   },
   "id": "a228672d46a53b4c"
  },
  {
   "cell_type": "code",
   "execution_count": 122,
   "outputs": [
    {
     "data": {
      "text/plain": "              Item Code                 Item Name  Category Code  \\\n878403  102900005116714                  broccoli     1011010201   \n878404  102900005118824            high melon (1)     1011010402   \n878405  102900011030059      yunnan lettuce (bag)     1011010101   \n878406  102900011034026   zhijiang qinggengsanhua     1011010201   \n878407  102900005116714                  broccoli     1011010201   \n...                 ...                       ...            ...   \n878498  102900005115250  xixia black mushroom (1)     1011010801   \n878499  102900011022764              changxianqie     1011010501   \n878500  102900005115250  xixia black mushroom (1)     1011010801   \n878501  102900011016701     wuhu green pepper (1)     1011010504   \n878502  102900011022764              changxianqie     1011010501   \n\n       Category Name        Date          Time  \n878403       cabbage  2023-06-30  19:50:16.436  \n878404       aquatic  2023-06-30  19:50:24.786  \n878405        flower  2023-06-30  19:55:45.264  \n878406       cabbage  2023-06-30  19:55:49.061  \n878407       cabbage  2023-06-30  19:55:55.104  \n...              ...         ...           ...  \n878498      mushroom  2023-06-30  21:35:13.264  \n878499       solanum  2023-06-30  21:35:14.358  \n878500      mushroom  2023-06-30  21:35:20.264  \n878501      capsicum  2023-06-30  21:35:21.509  \n878502       solanum  2023-06-30  21:40:48.248  \n\n[100 rows x 6 columns]",
      "text/html": "<div>\n<style scoped>\n    .dataframe tbody tr th:only-of-type {\n        vertical-align: middle;\n    }\n\n    .dataframe tbody tr th {\n        vertical-align: top;\n    }\n\n    .dataframe thead th {\n        text-align: right;\n    }\n</style>\n<table border=\"1\" class=\"dataframe\">\n  <thead>\n    <tr style=\"text-align: right;\">\n      <th></th>\n      <th>Item Code</th>\n      <th>Item Name</th>\n      <th>Category Code</th>\n      <th>Category Name</th>\n      <th>Date</th>\n      <th>Time</th>\n    </tr>\n  </thead>\n  <tbody>\n    <tr>\n      <th>878403</th>\n      <td>102900005116714</td>\n      <td>broccoli</td>\n      <td>1011010201</td>\n      <td>cabbage</td>\n      <td>2023-06-30</td>\n      <td>19:50:16.436</td>\n    </tr>\n    <tr>\n      <th>878404</th>\n      <td>102900005118824</td>\n      <td>high melon (1)</td>\n      <td>1011010402</td>\n      <td>aquatic</td>\n      <td>2023-06-30</td>\n      <td>19:50:24.786</td>\n    </tr>\n    <tr>\n      <th>878405</th>\n      <td>102900011030059</td>\n      <td>yunnan lettuce (bag)</td>\n      <td>1011010101</td>\n      <td>flower</td>\n      <td>2023-06-30</td>\n      <td>19:55:45.264</td>\n    </tr>\n    <tr>\n      <th>878406</th>\n      <td>102900011034026</td>\n      <td>zhijiang qinggengsanhua</td>\n      <td>1011010201</td>\n      <td>cabbage</td>\n      <td>2023-06-30</td>\n      <td>19:55:49.061</td>\n    </tr>\n    <tr>\n      <th>878407</th>\n      <td>102900005116714</td>\n      <td>broccoli</td>\n      <td>1011010201</td>\n      <td>cabbage</td>\n      <td>2023-06-30</td>\n      <td>19:55:55.104</td>\n    </tr>\n    <tr>\n      <th>...</th>\n      <td>...</td>\n      <td>...</td>\n      <td>...</td>\n      <td>...</td>\n      <td>...</td>\n      <td>...</td>\n    </tr>\n    <tr>\n      <th>878498</th>\n      <td>102900005115250</td>\n      <td>xixia black mushroom (1)</td>\n      <td>1011010801</td>\n      <td>mushroom</td>\n      <td>2023-06-30</td>\n      <td>21:35:13.264</td>\n    </tr>\n    <tr>\n      <th>878499</th>\n      <td>102900011022764</td>\n      <td>changxianqie</td>\n      <td>1011010501</td>\n      <td>solanum</td>\n      <td>2023-06-30</td>\n      <td>21:35:14.358</td>\n    </tr>\n    <tr>\n      <th>878500</th>\n      <td>102900005115250</td>\n      <td>xixia black mushroom (1)</td>\n      <td>1011010801</td>\n      <td>mushroom</td>\n      <td>2023-06-30</td>\n      <td>21:35:20.264</td>\n    </tr>\n    <tr>\n      <th>878501</th>\n      <td>102900011016701</td>\n      <td>wuhu green pepper (1)</td>\n      <td>1011010504</td>\n      <td>capsicum</td>\n      <td>2023-06-30</td>\n      <td>21:35:21.509</td>\n    </tr>\n    <tr>\n      <th>878502</th>\n      <td>102900011022764</td>\n      <td>changxianqie</td>\n      <td>1011010501</td>\n      <td>solanum</td>\n      <td>2023-06-30</td>\n      <td>21:40:48.248</td>\n    </tr>\n  </tbody>\n</table>\n<p>100 rows × 6 columns</p>\n</div>"
     },
     "execution_count": 122,
     "metadata": {},
     "output_type": "execute_result"
    }
   ],
   "source": [
    "merged_data = pd.merge(df, df2[['Date', 'Time', 'Item Code']], on='Item Code', how='right')\n",
    "merged_data.tail(100)"
   ],
   "metadata": {
    "collapsed": false,
    "ExecuteTime": {
     "end_time": "2023-12-02T19:19:10.177104400Z",
     "start_time": "2023-12-02T19:19:09.566261600Z"
    }
   },
   "id": "4a256b155d26bcc2"
  },
  {
   "cell_type": "code",
   "execution_count": 123,
   "outputs": [
    {
     "name": "stdout",
     "output_type": "stream",
     "text": [
      "Time\n",
      "10:05:12.655    6\n",
      "09:37:24.655    5\n",
      "18:18:35.264    5\n",
      "09:34:20.717    4\n",
      "18:11:43.061    4\n",
      "               ..\n",
      "09:36:37.701    1\n",
      "09:36:47.983    1\n",
      "09:38:14.294    1\n",
      "09:38:24.197    1\n",
      "21:40:48.248    1\n",
      "Name: count, Length: 849632, dtype: int64\n"
     ]
    }
   ],
   "source": [
    "time_occurrences = merged_data['Time'].value_counts()\n",
    "print(time_occurrences) #Number of occurrences of each time value"
   ],
   "metadata": {
    "collapsed": false,
    "ExecuteTime": {
     "end_time": "2023-12-02T19:19:12.695974900Z",
     "start_time": "2023-12-02T19:19:10.083348300Z"
    }
   },
   "id": "981a10145b60ad5e"
  },
  {
   "cell_type": "code",
   "execution_count": 130,
   "outputs": [
    {
     "name": "stdout",
     "output_type": "stream",
     "text": [
      "Date\n",
      "2021-02-10    3747\n",
      "2022-11-19    3215\n",
      "2023-01-20    3177\n",
      "2022-11-21    2627\n",
      "2021-02-09    2501\n",
      "              ... \n",
      "2022-12-04     277\n",
      "2021-04-06     277\n",
      "2022-11-27      84\n",
      "2022-11-28      78\n",
      "2022-11-29      74\n",
      "Name: count, Length: 1085, dtype: int64\n"
     ]
    }
   ],
   "source": [
    "date_occurrences = merged_data['Date'].value_counts()\n",
    "print(date_occurrences) #Number of occurrences of each Date value"
   ],
   "metadata": {
    "collapsed": false,
    "ExecuteTime": {
     "end_time": "2023-12-02T20:01:46.792327600Z",
     "start_time": "2023-12-02T20:01:46.651015800Z"
    }
   },
   "id": "a208d6377fe7a1fc"
  },
  {
   "cell_type": "code",
   "execution_count": null,
   "outputs": [],
   "source": [],
   "metadata": {
    "collapsed": false
   },
   "id": "a24c09717bbfd820"
  }
 ],
 "metadata": {
  "kernelspec": {
   "display_name": "Python 3",
   "language": "python",
   "name": "python3"
  },
  "language_info": {
   "codemirror_mode": {
    "name": "ipython",
    "version": 2
   },
   "file_extension": ".py",
   "mimetype": "text/x-python",
   "name": "python",
   "nbconvert_exporter": "python",
   "pygments_lexer": "ipython2",
   "version": "2.7.6"
  }
 },
 "nbformat": 4,
 "nbformat_minor": 5
}
