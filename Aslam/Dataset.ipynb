{
 "cells": [
  {
   "cell_type": "code",
   "execution_count": 78,
   "id": "initial_id",
   "metadata": {
    "collapsed": true,
    "ExecuteTime": {
     "end_time": "2023-12-24T20:11:14.567824900Z",
     "start_time": "2023-12-24T20:11:13.914992900Z"
    }
   },
   "outputs": [],
   "source": [
    "import pandas as pd\n",
    "import numpy as np\n",
    "from sklearn.cluster import KMeans\n",
    "import matplotlib.pyplot as plt"
   ]
  },
  {
   "cell_type": "code",
   "execution_count": 79,
   "outputs": [
    {
     "data": {
      "text/plain": "         Item Code              Item Name  Category Code  \\\n0  102900005115168       Niushou Shengcai     1011010101   \n1  102900005115199      Sichuan Red Cedar     1011010101   \n2  102900005115625  Local Xiaomao Cabbage     1011010101   \n3  102900005115748           White Caitai     1011010101   \n4  102900005115762               Amaranth     1011010101   \n5  102900005115779        Yunnan Shengcai     1011010101   \n6  102900005115786               Zhuyecai     1011010101   \n7  102900005115793        Chinese Cabbage     1011010101   \n8  102900005115816             Nanguajian     1011010101   \n9  102900005115823           Shanghaiqing     1011010101   \n\n            Category Name  \n0  Flower/Leaf Vegetables  \n1  Flower/Leaf Vegetables  \n2  Flower/Leaf Vegetables  \n3  Flower/Leaf Vegetables  \n4  Flower/Leaf Vegetables  \n5  Flower/Leaf Vegetables  \n6  Flower/Leaf Vegetables  \n7  Flower/Leaf Vegetables  \n8  Flower/Leaf Vegetables  \n9  Flower/Leaf Vegetables  ",
      "text/html": "<div>\n<style scoped>\n    .dataframe tbody tr th:only-of-type {\n        vertical-align: middle;\n    }\n\n    .dataframe tbody tr th {\n        vertical-align: top;\n    }\n\n    .dataframe thead th {\n        text-align: right;\n    }\n</style>\n<table border=\"1\" class=\"dataframe\">\n  <thead>\n    <tr style=\"text-align: right;\">\n      <th></th>\n      <th>Item Code</th>\n      <th>Item Name</th>\n      <th>Category Code</th>\n      <th>Category Name</th>\n    </tr>\n  </thead>\n  <tbody>\n    <tr>\n      <th>0</th>\n      <td>102900005115168</td>\n      <td>Niushou Shengcai</td>\n      <td>1011010101</td>\n      <td>Flower/Leaf Vegetables</td>\n    </tr>\n    <tr>\n      <th>1</th>\n      <td>102900005115199</td>\n      <td>Sichuan Red Cedar</td>\n      <td>1011010101</td>\n      <td>Flower/Leaf Vegetables</td>\n    </tr>\n    <tr>\n      <th>2</th>\n      <td>102900005115625</td>\n      <td>Local Xiaomao Cabbage</td>\n      <td>1011010101</td>\n      <td>Flower/Leaf Vegetables</td>\n    </tr>\n    <tr>\n      <th>3</th>\n      <td>102900005115748</td>\n      <td>White Caitai</td>\n      <td>1011010101</td>\n      <td>Flower/Leaf Vegetables</td>\n    </tr>\n    <tr>\n      <th>4</th>\n      <td>102900005115762</td>\n      <td>Amaranth</td>\n      <td>1011010101</td>\n      <td>Flower/Leaf Vegetables</td>\n    </tr>\n    <tr>\n      <th>5</th>\n      <td>102900005115779</td>\n      <td>Yunnan Shengcai</td>\n      <td>1011010101</td>\n      <td>Flower/Leaf Vegetables</td>\n    </tr>\n    <tr>\n      <th>6</th>\n      <td>102900005115786</td>\n      <td>Zhuyecai</td>\n      <td>1011010101</td>\n      <td>Flower/Leaf Vegetables</td>\n    </tr>\n    <tr>\n      <th>7</th>\n      <td>102900005115793</td>\n      <td>Chinese Cabbage</td>\n      <td>1011010101</td>\n      <td>Flower/Leaf Vegetables</td>\n    </tr>\n    <tr>\n      <th>8</th>\n      <td>102900005115816</td>\n      <td>Nanguajian</td>\n      <td>1011010101</td>\n      <td>Flower/Leaf Vegetables</td>\n    </tr>\n    <tr>\n      <th>9</th>\n      <td>102900005115823</td>\n      <td>Shanghaiqing</td>\n      <td>1011010101</td>\n      <td>Flower/Leaf Vegetables</td>\n    </tr>\n  </tbody>\n</table>\n</div>"
     },
     "execution_count": 79,
     "metadata": {},
     "output_type": "execute_result"
    }
   ],
   "source": [
    "df = pd.read_csv(r\"C:\\Users\\TUF\\Desktop\\dataset\\annex1.csv\")\n",
    "df2 = pd.read_csv(r\"C:\\Users\\TUF\\Desktop\\dataset\\annex2.csv\")\n",
    "df.head(10)"
   ],
   "metadata": {
    "collapsed": false,
    "ExecuteTime": {
     "end_time": "2023-12-24T20:11:16.562615600Z",
     "start_time": "2023-12-24T20:11:13.928621700Z"
    }
   },
   "id": "2e0dc98eb3e5a785"
  },
  {
   "cell_type": "code",
   "execution_count": 80,
   "outputs": [
    {
     "name": "stdout",
     "output_type": "stream",
     "text": [
      "<class 'pandas.core.frame.DataFrame'>\n",
      "RangeIndex: 251 entries, 0 to 250\n",
      "Data columns (total 4 columns):\n",
      " #   Column         Non-Null Count  Dtype \n",
      "---  ------         --------------  ----- \n",
      " 0   Item Code      251 non-null    int64 \n",
      " 1   Item Name      251 non-null    object\n",
      " 2   Category Code  251 non-null    int64 \n",
      " 3   Category Name  251 non-null    object\n",
      "dtypes: int64(2), object(2)\n",
      "memory usage: 8.0+ KB\n"
     ]
    }
   ],
   "source": [
    "df.drop_duplicates() #Drops the duplicates\n",
    "df.info() #Gives Information about null data and more"
   ],
   "metadata": {
    "collapsed": false,
    "ExecuteTime": {
     "end_time": "2023-12-24T20:11:16.609973900Z",
     "start_time": "2023-12-24T20:11:16.546913400Z"
    }
   },
   "id": "becbe308068cc970"
  },
  {
   "cell_type": "code",
   "execution_count": 81,
   "outputs": [
    {
     "data": {
      "text/plain": "         Item Code              Item Name  Category Code  \\\n0  102900005115168       niushou shengcai     1011010101   \n1  102900005115199      sichuan red cedar     1011010101   \n2  102900005115625  local xiaomao cabbage     1011010101   \n3  102900005115748           white caitai     1011010101   \n4  102900005115762               amaranth     1011010101   \n5  102900005115779        yunnan shengcai     1011010101   \n6  102900005115786               zhuyecai     1011010101   \n7  102900005115793        chinese cabbage     1011010101   \n8  102900005115816             nanguajian     1011010101   \n9  102900005115823           shanghaiqing     1011010101   \n\n           Category Name  \n0  flower/leafvegetables  \n1  flower/leafvegetables  \n2  flower/leafvegetables  \n3  flower/leafvegetables  \n4  flower/leafvegetables  \n5  flower/leafvegetables  \n6  flower/leafvegetables  \n7  flower/leafvegetables  \n8  flower/leafvegetables  \n9  flower/leafvegetables  ",
      "text/html": "<div>\n<style scoped>\n    .dataframe tbody tr th:only-of-type {\n        vertical-align: middle;\n    }\n\n    .dataframe tbody tr th {\n        vertical-align: top;\n    }\n\n    .dataframe thead th {\n        text-align: right;\n    }\n</style>\n<table border=\"1\" class=\"dataframe\">\n  <thead>\n    <tr style=\"text-align: right;\">\n      <th></th>\n      <th>Item Code</th>\n      <th>Item Name</th>\n      <th>Category Code</th>\n      <th>Category Name</th>\n    </tr>\n  </thead>\n  <tbody>\n    <tr>\n      <th>0</th>\n      <td>102900005115168</td>\n      <td>niushou shengcai</td>\n      <td>1011010101</td>\n      <td>flower/leafvegetables</td>\n    </tr>\n    <tr>\n      <th>1</th>\n      <td>102900005115199</td>\n      <td>sichuan red cedar</td>\n      <td>1011010101</td>\n      <td>flower/leafvegetables</td>\n    </tr>\n    <tr>\n      <th>2</th>\n      <td>102900005115625</td>\n      <td>local xiaomao cabbage</td>\n      <td>1011010101</td>\n      <td>flower/leafvegetables</td>\n    </tr>\n    <tr>\n      <th>3</th>\n      <td>102900005115748</td>\n      <td>white caitai</td>\n      <td>1011010101</td>\n      <td>flower/leafvegetables</td>\n    </tr>\n    <tr>\n      <th>4</th>\n      <td>102900005115762</td>\n      <td>amaranth</td>\n      <td>1011010101</td>\n      <td>flower/leafvegetables</td>\n    </tr>\n    <tr>\n      <th>5</th>\n      <td>102900005115779</td>\n      <td>yunnan shengcai</td>\n      <td>1011010101</td>\n      <td>flower/leafvegetables</td>\n    </tr>\n    <tr>\n      <th>6</th>\n      <td>102900005115786</td>\n      <td>zhuyecai</td>\n      <td>1011010101</td>\n      <td>flower/leafvegetables</td>\n    </tr>\n    <tr>\n      <th>7</th>\n      <td>102900005115793</td>\n      <td>chinese cabbage</td>\n      <td>1011010101</td>\n      <td>flower/leafvegetables</td>\n    </tr>\n    <tr>\n      <th>8</th>\n      <td>102900005115816</td>\n      <td>nanguajian</td>\n      <td>1011010101</td>\n      <td>flower/leafvegetables</td>\n    </tr>\n    <tr>\n      <th>9</th>\n      <td>102900005115823</td>\n      <td>shanghaiqing</td>\n      <td>1011010101</td>\n      <td>flower/leafvegetables</td>\n    </tr>\n  </tbody>\n</table>\n</div>"
     },
     "execution_count": 81,
     "metadata": {},
     "output_type": "execute_result"
    }
   ],
   "source": [
    "df['Category Name'] = df['Category Name'].str.replace('\\xa0', '') # Removing Non-Breaking space characters\n",
    "df['Item Name'] = df['Item Name'].str.lower() # Standardisation : converts all the letters to lowercase\n",
    "df['Category Name'] = df['Category Name'].str.lower() # Standardisation : converts all the letters to lowercase\n",
    "df.head(10)"
   ],
   "metadata": {
    "collapsed": false,
    "ExecuteTime": {
     "end_time": "2023-12-24T20:11:16.711309900Z",
     "start_time": "2023-12-24T20:11:16.578458200Z"
    }
   },
   "id": "902d56b958720d3f"
  },
  {
   "cell_type": "code",
   "execution_count": 82,
   "outputs": [
    {
     "data": {
      "text/plain": "           Item Code                                          Item Name  \\\n201  102900011012994                         apricot bao mushroom (bag)   \n202  102900011013274                           the white mushroom (bag)   \n203  102900011018095           chinese caterpillar fungus flowers (bag)   \n204  102900011021675                                   chopped red pine   \n205  102900011021699                                the steak mushrooms   \n206  102900011023075                               white jelly mushroom   \n207  102900011026793                       apricot bao mushroom (250 g)   \n208  102900011030561                             chopped red pine (box)   \n209  102900011030608                          the steak mushrooms (box)   \n210  102900011030615                    the pork stomach mushroom (box)   \n211  102900011030622                                black porcini (box)   \n212  102900011030639                   black chicken fir bacteria (box)   \n213  102900011030912                             haixian mushroom (bag)   \n214  102900011030929                          fresh edible fungus (bag)   \n215  102900011031599                         apricot bao mushroom (bag)   \n216  102900011031841                            agaricus bisporus (bag)   \n217  102900011031858                              needle mushroom (bag)   \n218  102900011031926           chinese caterpillar fungus flowers (bag)   \n219  102900011031995                                         jigu (bag)   \n220  102900011032619                         xixia xianggu mushroom (2)   \n221  102900011032626                            fresh edible fungus (2)   \n222  102900011032633                                      fresh sea (2)   \n223  102900011032640                                           jigu (2)   \n224  102900011033937                                needle mushroom (2)   \n225  102900011033944                           apricot bao mushroom (2)   \n226  102900011033968                           xixia black mushroom (2)   \n227  102900011034330                            agaricus bisporus (box)   \n228  102900011034538                               black mushroom (bag)   \n229  102900011034705          the fungus mushroom hot pot package (bag)   \n230  102900011035740  crab flavor mushroom and white mushroom mix (box)   \n231  102900011035788                       xixia xianggu mushroom (bag)   \n232  102900011036068                        mushroom and leaf mix (bag)   \n233  102900011036266                       velvet antler mushroom (box)   \n234  102900051009336                 chinese caterpillar fungus flowers   \n235  106930274220092                     the crab flavor mushroom (bag)   \n236  106930274620090                         haixian mushroom (bag) (2)   \n237  106931885000035                                 embroidered aureus   \n238  106931885000356                           embroidered aureus (bag)   \n239  106949711300068                          needle mushroom (bag) (3)   \n240  106949711300167                          needle mushroom (bag) (2)   \n241  106949711300259                              needle mushroom (box)   \n242  106956146480197                             the white mushroom (2)   \n243  106956146480203                       the crab flavor mushroom (2)   \n244  106957634300010                           the white mushroom (box)   \n245  106957634300058                     the crab flavor mushroom (box)   \n246  106958851400125                         haixian mushroom (bag) (4)   \n247  106971533450003                           haixian mushroom (bunch)   \n248  106971533455008                         haixian mushroom (bag) (3)   \n249  106973223300667       chinese caterpillar fungus flowers (box) (2)   \n250  106973990980123                      hfyg haixian mushroom (bunch)   \n\n     Category Code Category Name  \n201     1011010801      mushroom  \n202     1011010801      mushroom  \n203     1011010801      mushroom  \n204     1011010801      mushroom  \n205     1011010801      mushroom  \n206     1011010801      mushroom  \n207     1011010801      mushroom  \n208     1011010801      mushroom  \n209     1011010801      mushroom  \n210     1011010801      mushroom  \n211     1011010801      mushroom  \n212     1011010801      mushroom  \n213     1011010801      mushroom  \n214     1011010801      mushroom  \n215     1011010801      mushroom  \n216     1011010801      mushroom  \n217     1011010801      mushroom  \n218     1011010801      mushroom  \n219     1011010801      mushroom  \n220     1011010801      mushroom  \n221     1011010801      mushroom  \n222     1011010801      mushroom  \n223     1011010801      mushroom  \n224     1011010801      mushroom  \n225     1011010801      mushroom  \n226     1011010801      mushroom  \n227     1011010801      mushroom  \n228     1011010801      mushroom  \n229     1011010801      mushroom  \n230     1011010801      mushroom  \n231     1011010801      mushroom  \n232     1011010801      mushroom  \n233     1011010801      mushroom  \n234     1011010801      mushroom  \n235     1011010801      mushroom  \n236     1011010801      mushroom  \n237     1011010801      mushroom  \n238     1011010801      mushroom  \n239     1011010801      mushroom  \n240     1011010801      mushroom  \n241     1011010801      mushroom  \n242     1011010801      mushroom  \n243     1011010801      mushroom  \n244     1011010801      mushroom  \n245     1011010801      mushroom  \n246     1011010801      mushroom  \n247     1011010801      mushroom  \n248     1011010801      mushroom  \n249     1011010801      mushroom  \n250     1011010801      mushroom  ",
      "text/html": "<div>\n<style scoped>\n    .dataframe tbody tr th:only-of-type {\n        vertical-align: middle;\n    }\n\n    .dataframe tbody tr th {\n        vertical-align: top;\n    }\n\n    .dataframe thead th {\n        text-align: right;\n    }\n</style>\n<table border=\"1\" class=\"dataframe\">\n  <thead>\n    <tr style=\"text-align: right;\">\n      <th></th>\n      <th>Item Code</th>\n      <th>Item Name</th>\n      <th>Category Code</th>\n      <th>Category Name</th>\n    </tr>\n  </thead>\n  <tbody>\n    <tr>\n      <th>201</th>\n      <td>102900011012994</td>\n      <td>apricot bao mushroom (bag)</td>\n      <td>1011010801</td>\n      <td>mushroom</td>\n    </tr>\n    <tr>\n      <th>202</th>\n      <td>102900011013274</td>\n      <td>the white mushroom (bag)</td>\n      <td>1011010801</td>\n      <td>mushroom</td>\n    </tr>\n    <tr>\n      <th>203</th>\n      <td>102900011018095</td>\n      <td>chinese caterpillar fungus flowers (bag)</td>\n      <td>1011010801</td>\n      <td>mushroom</td>\n    </tr>\n    <tr>\n      <th>204</th>\n      <td>102900011021675</td>\n      <td>chopped red pine</td>\n      <td>1011010801</td>\n      <td>mushroom</td>\n    </tr>\n    <tr>\n      <th>205</th>\n      <td>102900011021699</td>\n      <td>the steak mushrooms</td>\n      <td>1011010801</td>\n      <td>mushroom</td>\n    </tr>\n    <tr>\n      <th>206</th>\n      <td>102900011023075</td>\n      <td>white jelly mushroom</td>\n      <td>1011010801</td>\n      <td>mushroom</td>\n    </tr>\n    <tr>\n      <th>207</th>\n      <td>102900011026793</td>\n      <td>apricot bao mushroom (250 g)</td>\n      <td>1011010801</td>\n      <td>mushroom</td>\n    </tr>\n    <tr>\n      <th>208</th>\n      <td>102900011030561</td>\n      <td>chopped red pine (box)</td>\n      <td>1011010801</td>\n      <td>mushroom</td>\n    </tr>\n    <tr>\n      <th>209</th>\n      <td>102900011030608</td>\n      <td>the steak mushrooms (box)</td>\n      <td>1011010801</td>\n      <td>mushroom</td>\n    </tr>\n    <tr>\n      <th>210</th>\n      <td>102900011030615</td>\n      <td>the pork stomach mushroom (box)</td>\n      <td>1011010801</td>\n      <td>mushroom</td>\n    </tr>\n    <tr>\n      <th>211</th>\n      <td>102900011030622</td>\n      <td>black porcini (box)</td>\n      <td>1011010801</td>\n      <td>mushroom</td>\n    </tr>\n    <tr>\n      <th>212</th>\n      <td>102900011030639</td>\n      <td>black chicken fir bacteria (box)</td>\n      <td>1011010801</td>\n      <td>mushroom</td>\n    </tr>\n    <tr>\n      <th>213</th>\n      <td>102900011030912</td>\n      <td>haixian mushroom (bag)</td>\n      <td>1011010801</td>\n      <td>mushroom</td>\n    </tr>\n    <tr>\n      <th>214</th>\n      <td>102900011030929</td>\n      <td>fresh edible fungus (bag)</td>\n      <td>1011010801</td>\n      <td>mushroom</td>\n    </tr>\n    <tr>\n      <th>215</th>\n      <td>102900011031599</td>\n      <td>apricot bao mushroom (bag)</td>\n      <td>1011010801</td>\n      <td>mushroom</td>\n    </tr>\n    <tr>\n      <th>216</th>\n      <td>102900011031841</td>\n      <td>agaricus bisporus (bag)</td>\n      <td>1011010801</td>\n      <td>mushroom</td>\n    </tr>\n    <tr>\n      <th>217</th>\n      <td>102900011031858</td>\n      <td>needle mushroom (bag)</td>\n      <td>1011010801</td>\n      <td>mushroom</td>\n    </tr>\n    <tr>\n      <th>218</th>\n      <td>102900011031926</td>\n      <td>chinese caterpillar fungus flowers (bag)</td>\n      <td>1011010801</td>\n      <td>mushroom</td>\n    </tr>\n    <tr>\n      <th>219</th>\n      <td>102900011031995</td>\n      <td>jigu (bag)</td>\n      <td>1011010801</td>\n      <td>mushroom</td>\n    </tr>\n    <tr>\n      <th>220</th>\n      <td>102900011032619</td>\n      <td>xixia xianggu mushroom (2)</td>\n      <td>1011010801</td>\n      <td>mushroom</td>\n    </tr>\n    <tr>\n      <th>221</th>\n      <td>102900011032626</td>\n      <td>fresh edible fungus (2)</td>\n      <td>1011010801</td>\n      <td>mushroom</td>\n    </tr>\n    <tr>\n      <th>222</th>\n      <td>102900011032633</td>\n      <td>fresh sea (2)</td>\n      <td>1011010801</td>\n      <td>mushroom</td>\n    </tr>\n    <tr>\n      <th>223</th>\n      <td>102900011032640</td>\n      <td>jigu (2)</td>\n      <td>1011010801</td>\n      <td>mushroom</td>\n    </tr>\n    <tr>\n      <th>224</th>\n      <td>102900011033937</td>\n      <td>needle mushroom (2)</td>\n      <td>1011010801</td>\n      <td>mushroom</td>\n    </tr>\n    <tr>\n      <th>225</th>\n      <td>102900011033944</td>\n      <td>apricot bao mushroom (2)</td>\n      <td>1011010801</td>\n      <td>mushroom</td>\n    </tr>\n    <tr>\n      <th>226</th>\n      <td>102900011033968</td>\n      <td>xixia black mushroom (2)</td>\n      <td>1011010801</td>\n      <td>mushroom</td>\n    </tr>\n    <tr>\n      <th>227</th>\n      <td>102900011034330</td>\n      <td>agaricus bisporus (box)</td>\n      <td>1011010801</td>\n      <td>mushroom</td>\n    </tr>\n    <tr>\n      <th>228</th>\n      <td>102900011034538</td>\n      <td>black mushroom (bag)</td>\n      <td>1011010801</td>\n      <td>mushroom</td>\n    </tr>\n    <tr>\n      <th>229</th>\n      <td>102900011034705</td>\n      <td>the fungus mushroom hot pot package (bag)</td>\n      <td>1011010801</td>\n      <td>mushroom</td>\n    </tr>\n    <tr>\n      <th>230</th>\n      <td>102900011035740</td>\n      <td>crab flavor mushroom and white mushroom mix (box)</td>\n      <td>1011010801</td>\n      <td>mushroom</td>\n    </tr>\n    <tr>\n      <th>231</th>\n      <td>102900011035788</td>\n      <td>xixia xianggu mushroom (bag)</td>\n      <td>1011010801</td>\n      <td>mushroom</td>\n    </tr>\n    <tr>\n      <th>232</th>\n      <td>102900011036068</td>\n      <td>mushroom and leaf mix (bag)</td>\n      <td>1011010801</td>\n      <td>mushroom</td>\n    </tr>\n    <tr>\n      <th>233</th>\n      <td>102900011036266</td>\n      <td>velvet antler mushroom (box)</td>\n      <td>1011010801</td>\n      <td>mushroom</td>\n    </tr>\n    <tr>\n      <th>234</th>\n      <td>102900051009336</td>\n      <td>chinese caterpillar fungus flowers</td>\n      <td>1011010801</td>\n      <td>mushroom</td>\n    </tr>\n    <tr>\n      <th>235</th>\n      <td>106930274220092</td>\n      <td>the crab flavor mushroom (bag)</td>\n      <td>1011010801</td>\n      <td>mushroom</td>\n    </tr>\n    <tr>\n      <th>236</th>\n      <td>106930274620090</td>\n      <td>haixian mushroom (bag) (2)</td>\n      <td>1011010801</td>\n      <td>mushroom</td>\n    </tr>\n    <tr>\n      <th>237</th>\n      <td>106931885000035</td>\n      <td>embroidered aureus</td>\n      <td>1011010801</td>\n      <td>mushroom</td>\n    </tr>\n    <tr>\n      <th>238</th>\n      <td>106931885000356</td>\n      <td>embroidered aureus (bag)</td>\n      <td>1011010801</td>\n      <td>mushroom</td>\n    </tr>\n    <tr>\n      <th>239</th>\n      <td>106949711300068</td>\n      <td>needle mushroom (bag) (3)</td>\n      <td>1011010801</td>\n      <td>mushroom</td>\n    </tr>\n    <tr>\n      <th>240</th>\n      <td>106949711300167</td>\n      <td>needle mushroom (bag) (2)</td>\n      <td>1011010801</td>\n      <td>mushroom</td>\n    </tr>\n    <tr>\n      <th>241</th>\n      <td>106949711300259</td>\n      <td>needle mushroom (box)</td>\n      <td>1011010801</td>\n      <td>mushroom</td>\n    </tr>\n    <tr>\n      <th>242</th>\n      <td>106956146480197</td>\n      <td>the white mushroom (2)</td>\n      <td>1011010801</td>\n      <td>mushroom</td>\n    </tr>\n    <tr>\n      <th>243</th>\n      <td>106956146480203</td>\n      <td>the crab flavor mushroom (2)</td>\n      <td>1011010801</td>\n      <td>mushroom</td>\n    </tr>\n    <tr>\n      <th>244</th>\n      <td>106957634300010</td>\n      <td>the white mushroom (box)</td>\n      <td>1011010801</td>\n      <td>mushroom</td>\n    </tr>\n    <tr>\n      <th>245</th>\n      <td>106957634300058</td>\n      <td>the crab flavor mushroom (box)</td>\n      <td>1011010801</td>\n      <td>mushroom</td>\n    </tr>\n    <tr>\n      <th>246</th>\n      <td>106958851400125</td>\n      <td>haixian mushroom (bag) (4)</td>\n      <td>1011010801</td>\n      <td>mushroom</td>\n    </tr>\n    <tr>\n      <th>247</th>\n      <td>106971533450003</td>\n      <td>haixian mushroom (bunch)</td>\n      <td>1011010801</td>\n      <td>mushroom</td>\n    </tr>\n    <tr>\n      <th>248</th>\n      <td>106971533455008</td>\n      <td>haixian mushroom (bag) (3)</td>\n      <td>1011010801</td>\n      <td>mushroom</td>\n    </tr>\n    <tr>\n      <th>249</th>\n      <td>106973223300667</td>\n      <td>chinese caterpillar fungus flowers (box) (2)</td>\n      <td>1011010801</td>\n      <td>mushroom</td>\n    </tr>\n    <tr>\n      <th>250</th>\n      <td>106973990980123</td>\n      <td>hfyg haixian mushroom (bunch)</td>\n      <td>1011010801</td>\n      <td>mushroom</td>\n    </tr>\n  </tbody>\n</table>\n</div>"
     },
     "execution_count": 82,
     "metadata": {},
     "output_type": "execute_result"
    }
   ],
   "source": [
    "for index,row in df.iterrows():\n",
    "    df.at[index,'Category Name']= row['Category Name'].replace('/leafvegetables','').replace('edible ','').replace(' tuberous vegetables','')\n",
    "    \n",
    "df.tail(50)"
   ],
   "metadata": {
    "collapsed": false,
    "ExecuteTime": {
     "end_time": "2023-12-24T20:11:16.851987700Z",
     "start_time": "2023-12-24T20:11:16.617035900Z"
    }
   },
   "id": "a228672d46a53b4c"
  },
  {
   "cell_type": "code",
   "execution_count": 83,
   "outputs": [
    {
     "data": {
      "text/plain": "          Item Code                 Item Name  Category Code Category Name  \\\n0   102900005117056      paopaojiao (jingpin)     1011010504      capsicum   \n1   102900005115960           chinese cabbage     1011010101        flower   \n2   102900005117056      paopaojiao (jingpin)     1011010504      capsicum   \n3   102900005115823              shanghaiqing     1011010101        flower   \n4   102900005115908                    caixin     1011010101        flower   \n..              ...                       ...            ...           ...   \n95  102900005115779           yunnan shengcai     1011010101        flower   \n96  102900005125808             millet pepper     1011010504      capsicum   \n97  102900005125815  apricot bao mushroom (1)     1011010801      mushroom   \n98  102900005115779           yunnan shengcai     1011010101        flower   \n99  102900011009970            qinggengsanhua     1011010201       cabbage   \n\n          Date          Time  \n0   2020-07-01  09:15:07.924  \n1   2020-07-01  09:17:27.295  \n2   2020-07-01  09:17:33.905  \n3   2020-07-01  09:19:45.450  \n4   2020-07-01  09:20:23.686  \n..         ...           ...  \n95  2020-07-01  10:13:08.905  \n96  2020-07-01  10:13:25.034  \n97  2020-07-01  10:13:39.264  \n98  2020-07-01  10:14:44.982  \n99  2020-07-01  10:14:59.001  \n\n[100 rows x 6 columns]",
      "text/html": "<div>\n<style scoped>\n    .dataframe tbody tr th:only-of-type {\n        vertical-align: middle;\n    }\n\n    .dataframe tbody tr th {\n        vertical-align: top;\n    }\n\n    .dataframe thead th {\n        text-align: right;\n    }\n</style>\n<table border=\"1\" class=\"dataframe\">\n  <thead>\n    <tr style=\"text-align: right;\">\n      <th></th>\n      <th>Item Code</th>\n      <th>Item Name</th>\n      <th>Category Code</th>\n      <th>Category Name</th>\n      <th>Date</th>\n      <th>Time</th>\n    </tr>\n  </thead>\n  <tbody>\n    <tr>\n      <th>0</th>\n      <td>102900005117056</td>\n      <td>paopaojiao (jingpin)</td>\n      <td>1011010504</td>\n      <td>capsicum</td>\n      <td>2020-07-01</td>\n      <td>09:15:07.924</td>\n    </tr>\n    <tr>\n      <th>1</th>\n      <td>102900005115960</td>\n      <td>chinese cabbage</td>\n      <td>1011010101</td>\n      <td>flower</td>\n      <td>2020-07-01</td>\n      <td>09:17:27.295</td>\n    </tr>\n    <tr>\n      <th>2</th>\n      <td>102900005117056</td>\n      <td>paopaojiao (jingpin)</td>\n      <td>1011010504</td>\n      <td>capsicum</td>\n      <td>2020-07-01</td>\n      <td>09:17:33.905</td>\n    </tr>\n    <tr>\n      <th>3</th>\n      <td>102900005115823</td>\n      <td>shanghaiqing</td>\n      <td>1011010101</td>\n      <td>flower</td>\n      <td>2020-07-01</td>\n      <td>09:19:45.450</td>\n    </tr>\n    <tr>\n      <th>4</th>\n      <td>102900005115908</td>\n      <td>caixin</td>\n      <td>1011010101</td>\n      <td>flower</td>\n      <td>2020-07-01</td>\n      <td>09:20:23.686</td>\n    </tr>\n    <tr>\n      <th>...</th>\n      <td>...</td>\n      <td>...</td>\n      <td>...</td>\n      <td>...</td>\n      <td>...</td>\n      <td>...</td>\n    </tr>\n    <tr>\n      <th>95</th>\n      <td>102900005115779</td>\n      <td>yunnan shengcai</td>\n      <td>1011010101</td>\n      <td>flower</td>\n      <td>2020-07-01</td>\n      <td>10:13:08.905</td>\n    </tr>\n    <tr>\n      <th>96</th>\n      <td>102900005125808</td>\n      <td>millet pepper</td>\n      <td>1011010504</td>\n      <td>capsicum</td>\n      <td>2020-07-01</td>\n      <td>10:13:25.034</td>\n    </tr>\n    <tr>\n      <th>97</th>\n      <td>102900005125815</td>\n      <td>apricot bao mushroom (1)</td>\n      <td>1011010801</td>\n      <td>mushroom</td>\n      <td>2020-07-01</td>\n      <td>10:13:39.264</td>\n    </tr>\n    <tr>\n      <th>98</th>\n      <td>102900005115779</td>\n      <td>yunnan shengcai</td>\n      <td>1011010101</td>\n      <td>flower</td>\n      <td>2020-07-01</td>\n      <td>10:14:44.982</td>\n    </tr>\n    <tr>\n      <th>99</th>\n      <td>102900011009970</td>\n      <td>qinggengsanhua</td>\n      <td>1011010201</td>\n      <td>cabbage</td>\n      <td>2020-07-01</td>\n      <td>10:14:59.001</td>\n    </tr>\n  </tbody>\n</table>\n<p>100 rows × 6 columns</p>\n</div>"
     },
     "execution_count": 83,
     "metadata": {},
     "output_type": "execute_result"
    }
   ],
   "source": [
    "merged_data = pd.merge(df, df2[['Date', 'Time', 'Item Code']], on='Item Code', how='right')\n",
    "merged_data.head(100)"
   ],
   "metadata": {
    "collapsed": false,
    "ExecuteTime": {
     "end_time": "2023-12-24T20:11:17.367908600Z",
     "start_time": "2023-12-24T20:11:16.711309900Z"
    }
   },
   "id": "4a256b155d26bcc2"
  },
  {
   "cell_type": "code",
   "execution_count": 84,
   "outputs": [
    {
     "name": "stdout",
     "output_type": "stream",
     "text": [
      "Time\n",
      "10:05:12.655    6\n",
      "09:37:24.655    5\n",
      "18:18:35.264    5\n",
      "09:34:20.717    4\n",
      "18:11:43.061    4\n",
      "               ..\n",
      "09:36:37.701    1\n",
      "09:36:47.983    1\n",
      "09:38:14.294    1\n",
      "09:38:24.197    1\n",
      "21:40:48.248    1\n",
      "Name: count, Length: 849632, dtype: int64\n"
     ]
    }
   ],
   "source": [
    "time_occurrences = merged_data['Time'].value_counts()\n",
    "print(time_occurrences) #Number of occurrences of each time value"
   ],
   "metadata": {
    "collapsed": false,
    "ExecuteTime": {
     "end_time": "2023-12-24T20:11:19.195667100Z",
     "start_time": "2023-12-24T20:11:17.133453700Z"
    }
   },
   "id": "981a10145b60ad5e"
  },
  {
   "cell_type": "code",
   "execution_count": 85,
   "outputs": [
    {
     "name": "stdout",
     "output_type": "stream",
     "text": [
      "Date\n",
      "2021-02-10    3747\n",
      "2022-11-19    3215\n",
      "2023-01-20    3177\n",
      "2022-11-21    2627\n",
      "2021-02-09    2501\n",
      "              ... \n",
      "2022-12-04     277\n",
      "2021-04-06     277\n",
      "2022-11-27      84\n",
      "2022-11-28      78\n",
      "2022-11-29      74\n",
      "Name: count, Length: 1085, dtype: int64\n"
     ]
    }
   ],
   "source": [
    "date_occurrences = merged_data['Date'].value_counts()\n",
    "print(date_occurrences) #Number of occurrences of each Date value"
   ],
   "metadata": {
    "collapsed": false,
    "ExecuteTime": {
     "end_time": "2023-12-24T20:11:19.306145500Z",
     "start_time": "2023-12-24T20:11:19.224622200Z"
    }
   },
   "id": "a208d6377fe7a1fc"
  },
  {
   "cell_type": "code",
   "execution_count": 86,
   "outputs": [
    {
     "name": "stdout",
     "output_type": "stream",
     "text": [
      "Item Code        102900005116257\n",
      "Item Name           eggplant (2)\n",
      "Category Code         1011010501\n",
      "Category Name            solanum\n",
      "Date                  2022-11-03\n",
      "Time                    13:03:52\n",
      "Name: 705020, dtype: object\n"
     ]
    }
   ],
   "source": [
    "print(merged_data.loc[705020])"
   ],
   "metadata": {
    "collapsed": false,
    "ExecuteTime": {
     "end_time": "2023-12-24T20:11:19.306145500Z",
     "start_time": "2023-12-24T20:11:19.242781900Z"
    }
   },
   "id": "d6d6e8af311e9412"
  },
  {
   "cell_type": "code",
   "execution_count": 87,
   "outputs": [
    {
     "name": "stdout",
     "output_type": "stream",
     "text": [
      "Item Code                 102900011033944\n",
      "Item Name        apricot bao mushroom (2)\n",
      "Category Code                  1011010801\n",
      "Category Name                    mushroom\n",
      "Date                           2022-11-03\n",
      "Time                         13:03:52.948\n",
      "Name: 705021, dtype: object\n"
     ]
    }
   ],
   "source": [
    "print(merged_data.loc[705021])"
   ],
   "metadata": {
    "collapsed": false,
    "ExecuteTime": {
     "end_time": "2023-12-24T20:11:19.353034800Z",
     "start_time": "2023-12-24T20:11:19.247227Z"
    }
   },
   "id": "9b56d248be7fe3fa"
  },
  {
   "cell_type": "code",
   "execution_count": 88,
   "outputs": [
    {
     "data": {
      "text/plain": "         Item Code              Item Name  Category Code Category Name  \\\n0  102900005117056   paopaojiao (jingpin)     1011010504      capsicum   \n1  102900005115960        chinese cabbage     1011010101        flower   \n2  102900005117056   paopaojiao (jingpin)     1011010504      capsicum   \n3  102900005115823           shanghaiqing     1011010101        flower   \n4  102900005115908                 caixin     1011010101        flower   \n5  102900005117056   paopaojiao (jingpin)     1011010504      capsicum   \n6  102900005115779        yunnan shengcai     1011010101        flower   \n7  102900005117056   paopaojiao (jingpin)     1011010504      capsicum   \n8  102900005115779        yunnan shengcai     1011010101        flower   \n9  102900011008522  sweet chinese cabbage     1011010101        flower   \n\n         Date      Time  \n0  2020-07-01  09:15:07  \n1  2020-07-01  09:17:27  \n2  2020-07-01  09:17:33  \n3  2020-07-01  09:19:45  \n4  2020-07-01  09:20:23  \n5  2020-07-01  09:21:55  \n6  2020-07-01  09:21:56  \n7  2020-07-01  09:22:01  \n8  2020-07-01  09:22:01  \n9  2020-07-01  09:22:15  ",
      "text/html": "<div>\n<style scoped>\n    .dataframe tbody tr th:only-of-type {\n        vertical-align: middle;\n    }\n\n    .dataframe tbody tr th {\n        vertical-align: top;\n    }\n\n    .dataframe thead th {\n        text-align: right;\n    }\n</style>\n<table border=\"1\" class=\"dataframe\">\n  <thead>\n    <tr style=\"text-align: right;\">\n      <th></th>\n      <th>Item Code</th>\n      <th>Item Name</th>\n      <th>Category Code</th>\n      <th>Category Name</th>\n      <th>Date</th>\n      <th>Time</th>\n    </tr>\n  </thead>\n  <tbody>\n    <tr>\n      <th>0</th>\n      <td>102900005117056</td>\n      <td>paopaojiao (jingpin)</td>\n      <td>1011010504</td>\n      <td>capsicum</td>\n      <td>2020-07-01</td>\n      <td>09:15:07</td>\n    </tr>\n    <tr>\n      <th>1</th>\n      <td>102900005115960</td>\n      <td>chinese cabbage</td>\n      <td>1011010101</td>\n      <td>flower</td>\n      <td>2020-07-01</td>\n      <td>09:17:27</td>\n    </tr>\n    <tr>\n      <th>2</th>\n      <td>102900005117056</td>\n      <td>paopaojiao (jingpin)</td>\n      <td>1011010504</td>\n      <td>capsicum</td>\n      <td>2020-07-01</td>\n      <td>09:17:33</td>\n    </tr>\n    <tr>\n      <th>3</th>\n      <td>102900005115823</td>\n      <td>shanghaiqing</td>\n      <td>1011010101</td>\n      <td>flower</td>\n      <td>2020-07-01</td>\n      <td>09:19:45</td>\n    </tr>\n    <tr>\n      <th>4</th>\n      <td>102900005115908</td>\n      <td>caixin</td>\n      <td>1011010101</td>\n      <td>flower</td>\n      <td>2020-07-01</td>\n      <td>09:20:23</td>\n    </tr>\n    <tr>\n      <th>5</th>\n      <td>102900005117056</td>\n      <td>paopaojiao (jingpin)</td>\n      <td>1011010504</td>\n      <td>capsicum</td>\n      <td>2020-07-01</td>\n      <td>09:21:55</td>\n    </tr>\n    <tr>\n      <th>6</th>\n      <td>102900005115779</td>\n      <td>yunnan shengcai</td>\n      <td>1011010101</td>\n      <td>flower</td>\n      <td>2020-07-01</td>\n      <td>09:21:56</td>\n    </tr>\n    <tr>\n      <th>7</th>\n      <td>102900005117056</td>\n      <td>paopaojiao (jingpin)</td>\n      <td>1011010504</td>\n      <td>capsicum</td>\n      <td>2020-07-01</td>\n      <td>09:22:01</td>\n    </tr>\n    <tr>\n      <th>8</th>\n      <td>102900005115779</td>\n      <td>yunnan shengcai</td>\n      <td>1011010101</td>\n      <td>flower</td>\n      <td>2020-07-01</td>\n      <td>09:22:01</td>\n    </tr>\n    <tr>\n      <th>9</th>\n      <td>102900011008522</td>\n      <td>sweet chinese cabbage</td>\n      <td>1011010101</td>\n      <td>flower</td>\n      <td>2020-07-01</td>\n      <td>09:22:15</td>\n    </tr>\n  </tbody>\n</table>\n</div>"
     },
     "execution_count": 88,
     "metadata": {},
     "output_type": "execute_result"
    }
   ],
   "source": [
    "merged_data['Time'] = merged_data['Time'].str[:8]\n",
    "merged_data.head(10)"
   ],
   "metadata": {
    "collapsed": false,
    "ExecuteTime": {
     "end_time": "2023-12-24T20:11:19.825139400Z",
     "start_time": "2023-12-24T20:11:19.261354600Z"
    }
   },
   "id": "5a1a611021df5e89"
  },
  {
   "cell_type": "code",
   "execution_count": 89,
   "outputs": [
    {
     "name": "stdout",
     "output_type": "stream",
     "text": [
      "Item Code        102900005116257\n",
      "Item Name           eggplant (2)\n",
      "Category Code         1011010501\n",
      "Category Name            solanum\n",
      "Date                  2022-11-03\n",
      "Time                    13:03:52\n",
      "Name: 705020, dtype: object\n"
     ]
    }
   ],
   "source": [
    "print(merged_data.loc[705020])"
   ],
   "metadata": {
    "collapsed": false,
    "ExecuteTime": {
     "end_time": "2023-12-24T20:11:19.825139400Z",
     "start_time": "2023-12-24T20:11:19.810638200Z"
    }
   },
   "id": "e7668593abeb51f5"
  },
  {
   "cell_type": "code",
   "execution_count": 90,
   "outputs": [
    {
     "name": "stdout",
     "output_type": "stream",
     "text": [
      "<class 'pandas.core.frame.DataFrame'>\n",
      "RangeIndex: 878503 entries, 0 to 878502\n",
      "Data columns (total 6 columns):\n",
      " #   Column         Non-Null Count   Dtype \n",
      "---  ------         --------------   ----- \n",
      " 0   Item Code      878503 non-null  int64 \n",
      " 1   Item Name      878503 non-null  object\n",
      " 2   Category Code  878503 non-null  int64 \n",
      " 3   Category Name  878503 non-null  object\n",
      " 4   Date           878503 non-null  object\n",
      " 5   Time           878503 non-null  object\n",
      "dtypes: int64(2), object(4)\n",
      "memory usage: 40.2+ MB\n"
     ]
    }
   ],
   "source": [
    "merged_data.info()"
   ],
   "metadata": {
    "collapsed": false,
    "ExecuteTime": {
     "end_time": "2023-12-24T20:11:20.260271400Z",
     "start_time": "2023-12-24T20:11:19.825139400Z"
    }
   },
   "id": "d6e709768d63463d"
  },
  {
   "cell_type": "code",
   "execution_count": 91,
   "outputs": [
    {
     "data": {
      "text/plain": "              Item Code                 Item Name  Category Code  \\\n878403  102900005116714                  broccoli     1011010201   \n878404  102900005118824            high melon (1)     1011010402   \n878405  102900011030059      yunnan lettuce (bag)     1011010101   \n878406  102900011034026   zhijiang qinggengsanhua     1011010201   \n878407  102900005116714                  broccoli     1011010201   \n...                 ...                       ...            ...   \n878498  102900005115250  xixia black mushroom (1)     1011010801   \n878499  102900011022764              changxianqie     1011010501   \n878500  102900005115250  xixia black mushroom (1)     1011010801   \n878501  102900011016701     wuhu green pepper (1)     1011010504   \n878502  102900011022764              changxianqie     1011010501   \n\n       Category Name        Date      Time  Invoice_ID  \n878403       cabbage  2023-06-30  19:50:16      756891  \n878404       aquatic  2023-06-30  19:50:24      756892  \n878405        flower  2023-06-30  19:55:45      756893  \n878406       cabbage  2023-06-30  19:55:49      756894  \n878407       cabbage  2023-06-30  19:55:55      756895  \n...              ...         ...       ...         ...  \n878498      mushroom  2023-06-30  21:35:13      756978  \n878499       solanum  2023-06-30  21:35:14      756979  \n878500      mushroom  2023-06-30  21:35:20      756980  \n878501      capsicum  2023-06-30  21:35:21      756981  \n878502       solanum  2023-06-30  21:40:48      756982  \n\n[100 rows x 7 columns]",
      "text/html": "<div>\n<style scoped>\n    .dataframe tbody tr th:only-of-type {\n        vertical-align: middle;\n    }\n\n    .dataframe tbody tr th {\n        vertical-align: top;\n    }\n\n    .dataframe thead th {\n        text-align: right;\n    }\n</style>\n<table border=\"1\" class=\"dataframe\">\n  <thead>\n    <tr style=\"text-align: right;\">\n      <th></th>\n      <th>Item Code</th>\n      <th>Item Name</th>\n      <th>Category Code</th>\n      <th>Category Name</th>\n      <th>Date</th>\n      <th>Time</th>\n      <th>Invoice_ID</th>\n    </tr>\n  </thead>\n  <tbody>\n    <tr>\n      <th>878403</th>\n      <td>102900005116714</td>\n      <td>broccoli</td>\n      <td>1011010201</td>\n      <td>cabbage</td>\n      <td>2023-06-30</td>\n      <td>19:50:16</td>\n      <td>756891</td>\n    </tr>\n    <tr>\n      <th>878404</th>\n      <td>102900005118824</td>\n      <td>high melon (1)</td>\n      <td>1011010402</td>\n      <td>aquatic</td>\n      <td>2023-06-30</td>\n      <td>19:50:24</td>\n      <td>756892</td>\n    </tr>\n    <tr>\n      <th>878405</th>\n      <td>102900011030059</td>\n      <td>yunnan lettuce (bag)</td>\n      <td>1011010101</td>\n      <td>flower</td>\n      <td>2023-06-30</td>\n      <td>19:55:45</td>\n      <td>756893</td>\n    </tr>\n    <tr>\n      <th>878406</th>\n      <td>102900011034026</td>\n      <td>zhijiang qinggengsanhua</td>\n      <td>1011010201</td>\n      <td>cabbage</td>\n      <td>2023-06-30</td>\n      <td>19:55:49</td>\n      <td>756894</td>\n    </tr>\n    <tr>\n      <th>878407</th>\n      <td>102900005116714</td>\n      <td>broccoli</td>\n      <td>1011010201</td>\n      <td>cabbage</td>\n      <td>2023-06-30</td>\n      <td>19:55:55</td>\n      <td>756895</td>\n    </tr>\n    <tr>\n      <th>...</th>\n      <td>...</td>\n      <td>...</td>\n      <td>...</td>\n      <td>...</td>\n      <td>...</td>\n      <td>...</td>\n      <td>...</td>\n    </tr>\n    <tr>\n      <th>878498</th>\n      <td>102900005115250</td>\n      <td>xixia black mushroom (1)</td>\n      <td>1011010801</td>\n      <td>mushroom</td>\n      <td>2023-06-30</td>\n      <td>21:35:13</td>\n      <td>756978</td>\n    </tr>\n    <tr>\n      <th>878499</th>\n      <td>102900011022764</td>\n      <td>changxianqie</td>\n      <td>1011010501</td>\n      <td>solanum</td>\n      <td>2023-06-30</td>\n      <td>21:35:14</td>\n      <td>756979</td>\n    </tr>\n    <tr>\n      <th>878500</th>\n      <td>102900005115250</td>\n      <td>xixia black mushroom (1)</td>\n      <td>1011010801</td>\n      <td>mushroom</td>\n      <td>2023-06-30</td>\n      <td>21:35:20</td>\n      <td>756980</td>\n    </tr>\n    <tr>\n      <th>878501</th>\n      <td>102900011016701</td>\n      <td>wuhu green pepper (1)</td>\n      <td>1011010504</td>\n      <td>capsicum</td>\n      <td>2023-06-30</td>\n      <td>21:35:21</td>\n      <td>756981</td>\n    </tr>\n    <tr>\n      <th>878502</th>\n      <td>102900011022764</td>\n      <td>changxianqie</td>\n      <td>1011010501</td>\n      <td>solanum</td>\n      <td>2023-06-30</td>\n      <td>21:40:48</td>\n      <td>756982</td>\n    </tr>\n  </tbody>\n</table>\n<p>100 rows × 7 columns</p>\n</div>"
     },
     "execution_count": 91,
     "metadata": {},
     "output_type": "execute_result"
    }
   ],
   "source": [
    "merged_data['Invoice_ID'] = merged_data['Date'].astype(str) + '_' + merged_data['Time'].astype(str)\n",
    "\n",
    "merged_data['Invoice_ID'] = merged_data.groupby(['Date', 'Time']).ngroup()\n",
    "\n",
    "merged_data.tail(100)"
   ],
   "metadata": {
    "collapsed": false,
    "ExecuteTime": {
     "end_time": "2023-12-24T20:11:21.755117600Z",
     "start_time": "2023-12-24T20:11:20.150852300Z"
    }
   },
   "id": "bd7ff2fbb1b3bc98"
  },
  {
   "cell_type": "code",
   "execution_count": 92,
   "outputs": [
    {
     "name": "stdout",
     "output_type": "stream",
     "text": [
      "Average number of records per Invoice ID: 1.1605320066632936\n"
     ]
    }
   ],
   "source": [
    "average_records_per_invoice = merged_data.groupby('Invoice_ID').size().mean()\n",
    "\n",
    "print(f\"Average number of records per Invoice ID: {average_records_per_invoice}\")"
   ],
   "metadata": {
    "collapsed": false,
    "ExecuteTime": {
     "end_time": "2023-12-24T20:11:22.021319200Z",
     "start_time": "2023-12-24T20:11:21.717478800Z"
    }
   },
   "id": "add553de5108c5ac"
  },
  {
   "cell_type": "code",
   "execution_count": 93,
   "outputs": [
    {
     "name": "stdout",
     "output_type": "stream",
     "text": [
      "<class 'pandas.core.frame.DataFrame'>\n",
      "RangeIndex: 878503 entries, 0 to 878502\n",
      "Data columns (total 7 columns):\n",
      " #   Column         Non-Null Count   Dtype \n",
      "---  ------         --------------   ----- \n",
      " 0   Item Code      878503 non-null  int64 \n",
      " 1   Item Name      878503 non-null  object\n",
      " 2   Category Code  878503 non-null  int64 \n",
      " 3   Category Name  878503 non-null  object\n",
      " 4   Date           878503 non-null  object\n",
      " 5   Time           878503 non-null  object\n",
      " 6   Invoice_ID     878503 non-null  int64 \n",
      "dtypes: int64(3), object(4)\n",
      "memory usage: 46.9+ MB\n"
     ]
    }
   ],
   "source": [
    "merged_data.info()"
   ],
   "metadata": {
    "collapsed": false,
    "ExecuteTime": {
     "end_time": "2023-12-24T20:11:22.350731200Z",
     "start_time": "2023-12-24T20:11:21.890247Z"
    }
   },
   "id": "3ab6e2ab3c286278"
  },
  {
   "cell_type": "code",
   "execution_count": 94,
   "outputs": [
    {
     "data": {
      "text/plain": "(878503, 7)"
     },
     "execution_count": 94,
     "metadata": {},
     "output_type": "execute_result"
    }
   ],
   "source": [
    "merged_data.shape"
   ],
   "metadata": {
    "collapsed": false,
    "ExecuteTime": {
     "end_time": "2023-12-24T20:11:22.350731200Z",
     "start_time": "2023-12-24T20:11:22.224514200Z"
    }
   },
   "id": "f54e5ac34291067d"
  },
  {
   "cell_type": "code",
   "execution_count": 95,
   "outputs": [
    {
     "data": {
      "text/plain": "Index(['Item Code', 'Item Name', 'Category Code', 'Category Name', 'Date',\n       'Time', 'Invoice_ID'],\n      dtype='object')"
     },
     "execution_count": 95,
     "metadata": {},
     "output_type": "execute_result"
    }
   ],
   "source": [
    "merged_data.columns"
   ],
   "metadata": {
    "collapsed": false,
    "ExecuteTime": {
     "end_time": "2023-12-24T20:11:22.350731200Z",
     "start_time": "2023-12-24T20:11:22.240552600Z"
    }
   },
   "id": "e4bfa9a5a9280860"
  },
  {
   "cell_type": "code",
   "execution_count": 96,
   "outputs": [
    {
     "data": {
      "text/plain": "        Category Code  Invoice_ID\n0          1011010504           0\n1          1011010101           1\n2          1011010504           2\n3          1011010101           3\n4          1011010101           4\n...               ...         ...\n878498     1011010801      756978\n878499     1011010501      756979\n878500     1011010801      756980\n878501     1011010504      756981\n878502     1011010501      756982\n\n[878503 rows x 2 columns]",
      "text/html": "<div>\n<style scoped>\n    .dataframe tbody tr th:only-of-type {\n        vertical-align: middle;\n    }\n\n    .dataframe tbody tr th {\n        vertical-align: top;\n    }\n\n    .dataframe thead th {\n        text-align: right;\n    }\n</style>\n<table border=\"1\" class=\"dataframe\">\n  <thead>\n    <tr style=\"text-align: right;\">\n      <th></th>\n      <th>Category Code</th>\n      <th>Invoice_ID</th>\n    </tr>\n  </thead>\n  <tbody>\n    <tr>\n      <th>0</th>\n      <td>1011010504</td>\n      <td>0</td>\n    </tr>\n    <tr>\n      <th>1</th>\n      <td>1011010101</td>\n      <td>1</td>\n    </tr>\n    <tr>\n      <th>2</th>\n      <td>1011010504</td>\n      <td>2</td>\n    </tr>\n    <tr>\n      <th>3</th>\n      <td>1011010101</td>\n      <td>3</td>\n    </tr>\n    <tr>\n      <th>4</th>\n      <td>1011010101</td>\n      <td>4</td>\n    </tr>\n    <tr>\n      <th>...</th>\n      <td>...</td>\n      <td>...</td>\n    </tr>\n    <tr>\n      <th>878498</th>\n      <td>1011010801</td>\n      <td>756978</td>\n    </tr>\n    <tr>\n      <th>878499</th>\n      <td>1011010501</td>\n      <td>756979</td>\n    </tr>\n    <tr>\n      <th>878500</th>\n      <td>1011010801</td>\n      <td>756980</td>\n    </tr>\n    <tr>\n      <th>878501</th>\n      <td>1011010504</td>\n      <td>756981</td>\n    </tr>\n    <tr>\n      <th>878502</th>\n      <td>1011010501</td>\n      <td>756982</td>\n    </tr>\n  </tbody>\n</table>\n<p>878503 rows × 2 columns</p>\n</div>"
     },
     "execution_count": 96,
     "metadata": {},
     "output_type": "execute_result"
    }
   ],
   "source": [
    "#KMeans can only work with numerical data.\n",
    "#To overcome that , one hot encoding was usd to represent each category as a vector\n",
    "#X_categorical = pd.get_dummies(merged_data[['Category Name']])\n",
    "#X_invoice_id = merged_data['Invoice_ID']\n",
    "#X = pd.concat([X_categorical, X_invoice_id], axis=1)\n",
    "X= merged_data[['Category Code','Invoice_ID']]\n",
    "X"
   ],
   "metadata": {
    "collapsed": false,
    "ExecuteTime": {
     "end_time": "2023-12-24T20:11:22.397616300Z",
     "start_time": "2023-12-24T20:11:22.272112900Z"
    }
   },
   "id": "755328a8393fe430"
  },
  {
   "cell_type": "code",
   "execution_count": 97,
   "outputs": [
    {
     "name": "stderr",
     "output_type": "stream",
     "text": [
      "C:\\Users\\TUF\\Desktop\\Project\\venv\\Lib\\site-packages\\sklearn\\cluster\\_kmeans.py:1416: FutureWarning: The default value of `n_init` will change from 10 to 'auto' in 1.4. Set the value of `n_init` explicitly to suppress the warning\n",
      "  super()._check_params_vs_input(X, default_n_init=10)\n"
     ]
    },
    {
     "data": {
      "text/plain": "KMeans()",
      "text/html": "<style>#sk-container-id-2 {color: black;}#sk-container-id-2 pre{padding: 0;}#sk-container-id-2 div.sk-toggleable {background-color: white;}#sk-container-id-2 label.sk-toggleable__label {cursor: pointer;display: block;width: 100%;margin-bottom: 0;padding: 0.3em;box-sizing: border-box;text-align: center;}#sk-container-id-2 label.sk-toggleable__label-arrow:before {content: \"▸\";float: left;margin-right: 0.25em;color: #696969;}#sk-container-id-2 label.sk-toggleable__label-arrow:hover:before {color: black;}#sk-container-id-2 div.sk-estimator:hover label.sk-toggleable__label-arrow:before {color: black;}#sk-container-id-2 div.sk-toggleable__content {max-height: 0;max-width: 0;overflow: hidden;text-align: left;background-color: #f0f8ff;}#sk-container-id-2 div.sk-toggleable__content pre {margin: 0.2em;color: black;border-radius: 0.25em;background-color: #f0f8ff;}#sk-container-id-2 input.sk-toggleable__control:checked~div.sk-toggleable__content {max-height: 200px;max-width: 100%;overflow: auto;}#sk-container-id-2 input.sk-toggleable__control:checked~label.sk-toggleable__label-arrow:before {content: \"▾\";}#sk-container-id-2 div.sk-estimator input.sk-toggleable__control:checked~label.sk-toggleable__label {background-color: #d4ebff;}#sk-container-id-2 div.sk-label input.sk-toggleable__control:checked~label.sk-toggleable__label {background-color: #d4ebff;}#sk-container-id-2 input.sk-hidden--visually {border: 0;clip: rect(1px 1px 1px 1px);clip: rect(1px, 1px, 1px, 1px);height: 1px;margin: -1px;overflow: hidden;padding: 0;position: absolute;width: 1px;}#sk-container-id-2 div.sk-estimator {font-family: monospace;background-color: #f0f8ff;border: 1px dotted black;border-radius: 0.25em;box-sizing: border-box;margin-bottom: 0.5em;}#sk-container-id-2 div.sk-estimator:hover {background-color: #d4ebff;}#sk-container-id-2 div.sk-parallel-item::after {content: \"\";width: 100%;border-bottom: 1px solid gray;flex-grow: 1;}#sk-container-id-2 div.sk-label:hover label.sk-toggleable__label {background-color: #d4ebff;}#sk-container-id-2 div.sk-serial::before {content: \"\";position: absolute;border-left: 1px solid gray;box-sizing: border-box;top: 0;bottom: 0;left: 50%;z-index: 0;}#sk-container-id-2 div.sk-serial {display: flex;flex-direction: column;align-items: center;background-color: white;padding-right: 0.2em;padding-left: 0.2em;position: relative;}#sk-container-id-2 div.sk-item {position: relative;z-index: 1;}#sk-container-id-2 div.sk-parallel {display: flex;align-items: stretch;justify-content: center;background-color: white;position: relative;}#sk-container-id-2 div.sk-item::before, #sk-container-id-2 div.sk-parallel-item::before {content: \"\";position: absolute;border-left: 1px solid gray;box-sizing: border-box;top: 0;bottom: 0;left: 50%;z-index: -1;}#sk-container-id-2 div.sk-parallel-item {display: flex;flex-direction: column;z-index: 1;position: relative;background-color: white;}#sk-container-id-2 div.sk-parallel-item:first-child::after {align-self: flex-end;width: 50%;}#sk-container-id-2 div.sk-parallel-item:last-child::after {align-self: flex-start;width: 50%;}#sk-container-id-2 div.sk-parallel-item:only-child::after {width: 0;}#sk-container-id-2 div.sk-dashed-wrapped {border: 1px dashed gray;margin: 0 0.4em 0.5em 0.4em;box-sizing: border-box;padding-bottom: 0.4em;background-color: white;}#sk-container-id-2 div.sk-label label {font-family: monospace;font-weight: bold;display: inline-block;line-height: 1.2em;}#sk-container-id-2 div.sk-label-container {text-align: center;}#sk-container-id-2 div.sk-container {/* jupyter's `normalize.less` sets `[hidden] { display: none; }` but bootstrap.min.css set `[hidden] { display: none !important; }` so we also need the `!important` here to be able to override the default hidden behavior on the sphinx rendered scikit-learn.org. See: https://github.com/scikit-learn/scikit-learn/issues/21755 */display: inline-block !important;position: relative;}#sk-container-id-2 div.sk-text-repr-fallback {display: none;}</style><div id=\"sk-container-id-2\" class=\"sk-top-container\"><div class=\"sk-text-repr-fallback\"><pre>KMeans()</pre><b>In a Jupyter environment, please rerun this cell to show the HTML representation or trust the notebook. <br />On GitHub, the HTML representation is unable to render, please try loading this page with nbviewer.org.</b></div><div class=\"sk-container\" hidden><div class=\"sk-item\"><div class=\"sk-estimator sk-toggleable\"><input class=\"sk-toggleable__control sk-hidden--visually\" id=\"sk-estimator-id-2\" type=\"checkbox\" checked><label for=\"sk-estimator-id-2\" class=\"sk-toggleable__label sk-toggleable__label-arrow\">KMeans</label><div class=\"sk-toggleable__content\"><pre>KMeans()</pre></div></div></div></div></div>"
     },
     "execution_count": 97,
     "metadata": {},
     "output_type": "execute_result"
    }
   ],
   "source": [
    "k_means = KMeans() #default 8 clusters\n",
    "k_means.fit(X) #Trains the model"
   ],
   "metadata": {
    "collapsed": false,
    "ExecuteTime": {
     "end_time": "2023-12-24T20:11:32.808548400Z",
     "start_time": "2023-12-24T20:11:22.304944400Z"
    }
   },
   "id": "c1e696751cfb9687"
  },
  {
   "cell_type": "code",
   "execution_count": 98,
   "outputs": [
    {
     "name": "stderr",
     "output_type": "stream",
     "text": [
      "C:\\Users\\TUF\\Desktop\\Project\\venv\\Lib\\site-packages\\sklearn\\cluster\\_kmeans.py:1416: FutureWarning: The default value of `n_init` will change from 10 to 'auto' in 1.4. Set the value of `n_init` explicitly to suppress the warning\n",
      "  super()._check_params_vs_input(X, default_n_init=10)\n"
     ]
    },
    {
     "data": {
      "text/plain": "array([5, 5, 5, ..., 7, 7, 7])"
     },
     "execution_count": 98,
     "metadata": {},
     "output_type": "execute_result"
    }
   ],
   "source": [
    "k_means.fit_predict(X) #trains and creates clusters"
   ],
   "metadata": {
    "collapsed": false,
    "ExecuteTime": {
     "end_time": "2023-12-24T20:11:41.466145800Z",
     "start_time": "2023-12-24T20:11:32.808548400Z"
    }
   },
   "id": "ce20ab616f69c408"
  },
  {
   "cell_type": "code",
   "execution_count": 99,
   "outputs": [
    {
     "name": "stdout",
     "output_type": "stream",
     "text": [
      "Category Name\n",
      "flower      331968\n",
      "capsicum    207996\n",
      "mushroom    148424\n",
      "cabbage      86570\n",
      "aquatic      58647\n",
      "solanum      44898\n",
      "Name: count, dtype: int64\n"
     ]
    }
   ],
   "source": [
    "#Get the number of unique categories\n",
    "no_category = merged_data[\"Category Name\"].value_counts()\n",
    "print(no_category)"
   ],
   "metadata": {
    "collapsed": false,
    "ExecuteTime": {
     "end_time": "2023-12-24T20:11:41.616521Z",
     "start_time": "2023-12-24T20:11:41.450026Z"
    }
   },
   "id": "a6352743746a3cba"
  },
  {
   "cell_type": "code",
   "execution_count": 100,
   "outputs": [
    {
     "name": "stderr",
     "output_type": "stream",
     "text": [
      "C:\\Users\\TUF\\Desktop\\Project\\venv\\Lib\\site-packages\\sklearn\\cluster\\_kmeans.py:1416: FutureWarning: The default value of `n_init` will change from 10 to 'auto' in 1.4. Set the value of `n_init` explicitly to suppress the warning\n",
      "  super()._check_params_vs_input(X, default_n_init=10)\n",
      "C:\\Users\\TUF\\Desktop\\Project\\venv\\Lib\\site-packages\\sklearn\\cluster\\_kmeans.py:1416: FutureWarning: The default value of `n_init` will change from 10 to 'auto' in 1.4. Set the value of `n_init` explicitly to suppress the warning\n",
      "  super()._check_params_vs_input(X, default_n_init=10)\n",
      "C:\\Users\\TUF\\Desktop\\Project\\venv\\Lib\\site-packages\\sklearn\\cluster\\_kmeans.py:1416: FutureWarning: The default value of `n_init` will change from 10 to 'auto' in 1.4. Set the value of `n_init` explicitly to suppress the warning\n",
      "  super()._check_params_vs_input(X, default_n_init=10)\n",
      "C:\\Users\\TUF\\Desktop\\Project\\venv\\Lib\\site-packages\\sklearn\\cluster\\_kmeans.py:1416: FutureWarning: The default value of `n_init` will change from 10 to 'auto' in 1.4. Set the value of `n_init` explicitly to suppress the warning\n",
      "  super()._check_params_vs_input(X, default_n_init=10)\n",
      "C:\\Users\\TUF\\Desktop\\Project\\venv\\Lib\\site-packages\\sklearn\\cluster\\_kmeans.py:1416: FutureWarning: The default value of `n_init` will change from 10 to 'auto' in 1.4. Set the value of `n_init` explicitly to suppress the warning\n",
      "  super()._check_params_vs_input(X, default_n_init=10)\n",
      "C:\\Users\\TUF\\Desktop\\Project\\venv\\Lib\\site-packages\\sklearn\\cluster\\_kmeans.py:1416: FutureWarning: The default value of `n_init` will change from 10 to 'auto' in 1.4. Set the value of `n_init` explicitly to suppress the warning\n",
      "  super()._check_params_vs_input(X, default_n_init=10)\n",
      "C:\\Users\\TUF\\Desktop\\Project\\venv\\Lib\\site-packages\\sklearn\\cluster\\_kmeans.py:1416: FutureWarning: The default value of `n_init` will change from 10 to 'auto' in 1.4. Set the value of `n_init` explicitly to suppress the warning\n",
      "  super()._check_params_vs_input(X, default_n_init=10)\n",
      "C:\\Users\\TUF\\Desktop\\Project\\venv\\Lib\\site-packages\\sklearn\\cluster\\_kmeans.py:1416: FutureWarning: The default value of `n_init` will change from 10 to 'auto' in 1.4. Set the value of `n_init` explicitly to suppress the warning\n",
      "  super()._check_params_vs_input(X, default_n_init=10)\n",
      "C:\\Users\\TUF\\Desktop\\Project\\venv\\Lib\\site-packages\\sklearn\\cluster\\_kmeans.py:1416: FutureWarning: The default value of `n_init` will change from 10 to 'auto' in 1.4. Set the value of `n_init` explicitly to suppress the warning\n",
      "  super()._check_params_vs_input(X, default_n_init=10)\n",
      "C:\\Users\\TUF\\Desktop\\Project\\venv\\Lib\\site-packages\\sklearn\\cluster\\_kmeans.py:1416: FutureWarning: The default value of `n_init` will change from 10 to 'auto' in 1.4. Set the value of `n_init` explicitly to suppress the warning\n",
      "  super()._check_params_vs_input(X, default_n_init=10)\n"
     ]
    }
   ],
   "source": [
    "#Using Elbow method to find the optimal number of clusters\n",
    "#Running the KMeans cluster algorithm in a loop provides WCSS : Within Clusters Sum of Squares metric\n",
    "#Inertia attribute k_means helps to find the wcss\n",
    "\n",
    "wcss=[]\n",
    "for i in range(1,11):\n",
    "    k_means = KMeans(n_clusters=i)\n",
    "    k_means.fit(X)\n",
    "    wcss.append(k_means.inertia_)"
   ],
   "metadata": {
    "collapsed": false,
    "ExecuteTime": {
     "end_time": "2023-12-24T20:12:41.834725700Z",
     "start_time": "2023-12-24T20:11:41.602006Z"
    }
   },
   "id": "3a5b2699ba50f368"
  },
  {
   "cell_type": "code",
   "execution_count": 101,
   "outputs": [
    {
     "data": {
      "text/plain": "[4.310824862089834e+16,\n 1.0426398558259252e+16,\n 4569044353735587.0,\n 2622619968423337.5,\n 1686018798065467.8,\n 1161781518959557.2,\n 859233458777106.4,\n 656551456608681.1,\n 516427332509311.1,\n 420874228751932.3]"
     },
     "execution_count": 101,
     "metadata": {},
     "output_type": "execute_result"
    }
   ],
   "source": [
    "wcss"
   ],
   "metadata": {
    "collapsed": false,
    "ExecuteTime": {
     "end_time": "2023-12-24T20:12:41.876667600Z",
     "start_time": "2023-12-24T20:12:41.845248200Z"
    }
   },
   "id": "25286d0e431f3f05"
  },
  {
   "cell_type": "code",
   "execution_count": 102,
   "outputs": [
    {
     "data": {
      "text/plain": "<Figure size 640x480 with 1 Axes>",
      "image/png": "[encoded data removed]"
     },
     "metadata": {},
     "output_type": "display_data"
    }
   ],
   "source": [
    "plt.plot(range(1,11),wcss)\n",
    "plt.title(\"Elbow Method\")\n",
    "plt.xlabel(\"Number of Clusters\")\n",
    "plt.ylabel(\"WCSS\")\n",
    "plt.show()"
   ],
   "metadata": {
    "collapsed": false,
    "ExecuteTime": {
     "end_time": "2023-12-24T20:12:42.225665600Z",
     "start_time": "2023-12-24T20:12:41.861029600Z"
    }
   },
   "id": "a53903a49a139776"
  },
  {
   "cell_type": "code",
   "execution_count": 103,
   "outputs": [
    {
     "name": "stderr",
     "output_type": "stream",
     "text": [
      "C:\\Users\\TUF\\Desktop\\Project\\venv\\Lib\\site-packages\\sklearn\\cluster\\_kmeans.py:1416: FutureWarning: The default value of `n_init` will change from 10 to 'auto' in 1.4. Set the value of `n_init` explicitly to suppress the warning\n",
      "  super()._check_params_vs_input(X, default_n_init=10)\n"
     ]
    }
   ],
   "source": [
    "#The graph proceeds to decrease slowly after 4 , so 4 could be chosen as the optimal number of clusters\n",
    "#Modelling and training with the optimal number of clusters\n",
    "k_means = KMeans(n_clusters=4,random_state=42)\n",
    "y_means = k_means.fit_predict(X)"
   ],
   "metadata": {
    "collapsed": false,
    "ExecuteTime": {
     "end_time": "2023-12-24T20:12:46.617132600Z",
     "start_time": "2023-12-24T20:12:42.214066200Z"
    }
   },
   "id": "13feeba898472e98"
  },
  {
   "cell_type": "code",
   "execution_count": 110,
   "outputs": [
    {
     "data": {
      "text/plain": "<Figure size 640x480 with 1 Axes>",
      "image/png": "[encoded data removed]"
     },
     "metadata": {},
     "output_type": "display_data"
    }
   ],
   "source": [
    "# Scatter plot\n",
    "plt.scatter(X['Invoice_ID'],X['Category Code'], c=y_means, cmap='viridis', marker='o')\n",
    "plt.title('K-Means Clustering')\n",
    "plt.xlabel('Category Code')\n",
    "plt.ylabel('Invoice_ID')\n",
    "plt.show()\n"
   ],
   "metadata": {
    "collapsed": false,
    "ExecuteTime": {
     "end_time": "2023-12-24T20:44:52.305750300Z",
     "start_time": "2023-12-24T20:44:09.120360600Z"
    }
   },
   "id": "57d261c17f77b36"
  }
 ],
 "metadata": {
  "kernelspec": {
   "display_name": "Python 3",
   "language": "python",
   "name": "python3"
  },
  "language_info": {
   "codemirror_mode": {
    "name": "ipython",
    "version": 2
   },
   "file_extension": ".py",
   "mimetype": "text/x-python",
   "name": "python",
   "nbconvert_exporter": "python",
   "pygments_lexer": "ipython2",
   "version": "2.7.6"
  }
 },
 "nbformat": 4,
 "nbformat_minor": 5
}
