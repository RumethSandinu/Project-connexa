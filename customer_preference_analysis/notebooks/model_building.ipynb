{
 "cells": [
  {
   "cell_type": "markdown",
   "source": [
    "**<big>Building the Clustering Model</big>**"
   ],
   "metadata": {
    "collapsed": false
   },
   "id": "c8f07cdbd9fedde4"
  },
  {
   "cell_type": "markdown",
   "source": [
    "The pre-processed data is imported using the pandas library and its contents are viewed before commencing the construction of the model.\n",
    "The dataframe consists of three features : Item Name, Category Name and Quantity sold (kilo).\n",
    "The 'Item Name' and 'Category Name' contain categorical data while the 'Quantity Sold (kilo)' column consists of numerical data.  "
   ],
   "metadata": {
    "collapsed": false
   },
   "id": "bb7c8f1cf201372"
  },
  {
   "cell_type": "code",
   "execution_count": 1,
   "id": "initial_id",
   "metadata": {
    "collapsed": true,
    "ExecuteTime": {
     "end_time": "2024-03-31T15:15:00.739764Z",
     "start_time": "2024-03-31T15:15:00.715072Z"
    }
   },
   "outputs": [],
   "source": [
    "import pandas as pd"
   ]
  },
  {
   "cell_type": "code",
   "execution_count": 2,
   "outputs": [],
   "source": [
    "df = pd.read_csv('../datasets/pre_processed_data.csv')"
   ],
   "metadata": {
    "collapsed": false,
    "ExecuteTime": {
     "end_time": "2024-03-31T15:15:00.927491Z",
     "start_time": "2024-03-31T15:15:00.763478Z"
    }
   },
   "id": "39fa193127a1e960"
  },
  {
   "cell_type": "code",
   "execution_count": 3,
   "outputs": [
    {
     "data": {
      "text/plain": "           item_name category_name  quantity_sold_kg\n0  green hot peppers      capsicum               1.1\n1  green hot peppers      capsicum               0.6\n2    yunnan lettuces        flower               0.5\n3     xixia mushroom      mushroom               0.4\n4         paopaojiao      capsicum               0.6\n5    red hang pepper      capsicum               0.2\n6     xixia mushroom      mushroom               0.2\n7         paopaojiao      capsicum               0.4\n8         paopaojiao      capsicum               0.3\n9       luosi pepper      capsicum               0.4",
      "text/html": "<div>\n<style scoped>\n    .dataframe tbody tr th:only-of-type {\n        vertical-align: middle;\n    }\n\n    .dataframe tbody tr th {\n        vertical-align: top;\n    }\n\n    .dataframe thead th {\n        text-align: right;\n    }\n</style>\n<table border=\"1\" class=\"dataframe\">\n  <thead>\n    <tr style=\"text-align: right;\">\n      <th></th>\n      <th>item_name</th>\n      <th>category_name</th>\n      <th>quantity_sold_kg</th>\n    </tr>\n  </thead>\n  <tbody>\n    <tr>\n      <th>0</th>\n      <td>green hot peppers</td>\n      <td>capsicum</td>\n      <td>1.1</td>\n    </tr>\n    <tr>\n      <th>1</th>\n      <td>green hot peppers</td>\n      <td>capsicum</td>\n      <td>0.6</td>\n    </tr>\n    <tr>\n      <th>2</th>\n      <td>yunnan lettuces</td>\n      <td>flower</td>\n      <td>0.5</td>\n    </tr>\n    <tr>\n      <th>3</th>\n      <td>xixia mushroom</td>\n      <td>mushroom</td>\n      <td>0.4</td>\n    </tr>\n    <tr>\n      <th>4</th>\n      <td>paopaojiao</td>\n      <td>capsicum</td>\n      <td>0.6</td>\n    </tr>\n    <tr>\n      <th>5</th>\n      <td>red hang pepper</td>\n      <td>capsicum</td>\n      <td>0.2</td>\n    </tr>\n    <tr>\n      <th>6</th>\n      <td>xixia mushroom</td>\n      <td>mushroom</td>\n      <td>0.2</td>\n    </tr>\n    <tr>\n      <th>7</th>\n      <td>paopaojiao</td>\n      <td>capsicum</td>\n      <td>0.4</td>\n    </tr>\n    <tr>\n      <th>8</th>\n      <td>paopaojiao</td>\n      <td>capsicum</td>\n      <td>0.3</td>\n    </tr>\n    <tr>\n      <th>9</th>\n      <td>luosi pepper</td>\n      <td>capsicum</td>\n      <td>0.4</td>\n    </tr>\n  </tbody>\n</table>\n</div>"
     },
     "execution_count": 3,
     "metadata": {},
     "output_type": "execute_result"
    }
   ],
   "source": [
    "df.head(10)"
   ],
   "metadata": {
    "collapsed": false,
    "ExecuteTime": {
     "end_time": "2024-03-31T15:15:00.938969Z",
     "start_time": "2024-03-31T15:15:00.928460Z"
    }
   },
   "id": "9c52ae982b664f17"
  },
  {
   "cell_type": "markdown",
   "source": [
    "**Clustering Algorithm and the Optimal number of clusters**\n",
    "\n",
    "The dataframe consists of both categorical and numerical data, therefore it is good to choose an algorithm that can deal with both these data types. The k-prototypes is a clustering algorithm that performs k-means clustering for the numerical data and k-modes clustering for the categorical data; this algorithm does not require the dataset to be encoded.\n",
    "\n",
    "Before building the clustering algorithm, the optimal number of clusters must be found.This can be done using the elbow method and the  silhouette method.The number of unique items in the \"Category Name\" column is checked because there is a likelihood of the optimal number of clusters being close to this number. \n"
   ],
   "metadata": {
    "collapsed": false
   },
   "id": "b2b74e7cdd42005"
  },
  {
   "cell_type": "code",
   "execution_count": 4,
   "outputs": [
    {
     "data": {
      "text/plain": "array(['capsicum', 'flower', 'mushroom', 'aquatic', 'cabbage', 'solanum'],\n      dtype=object)"
     },
     "execution_count": 4,
     "metadata": {},
     "output_type": "execute_result"
    }
   ],
   "source": [
    "df['category_name'].unique()\n",
    "#Number of clusters could be close to 6"
   ],
   "metadata": {
    "collapsed": false,
    "ExecuteTime": {
     "end_time": "2024-03-31T15:15:00.959267Z",
     "start_time": "2024-03-31T15:15:00.939801Z"
    }
   },
   "id": "d99de9e5fa836b"
  },
  {
   "cell_type": "code",
   "execution_count": 5,
   "outputs": [],
   "source": [
    "#df_sample =df(frac=0.01, random_state=42)\n",
    "#df_sample.shape"
   ],
   "metadata": {
    "collapsed": false,
    "ExecuteTime": {
     "end_time": "2024-03-31T15:15:00.963163Z",
     "start_time": "2024-03-31T15:15:00.960542Z"
    }
   },
   "id": "2c019845a94636d5"
  },
  {
   "cell_type": "markdown",
   "source": [
    "**<big>i) The Elbow method</big>**"
   ],
   "metadata": {
    "collapsed": false
   },
   "id": "55e61877394412dd"
  },
  {
   "cell_type": "code",
   "execution_count": 6,
   "outputs": [],
   "source": [
    "import matplotlib.pyplot as plt\n",
    "from kmodes.kprototypes import KPrototypes"
   ],
   "metadata": {
    "collapsed": false,
    "ExecuteTime": {
     "end_time": "2024-03-31T15:15:01.030143Z",
     "start_time": "2024-03-31T15:15:00.964574Z"
    }
   },
   "id": "e6f97e03c588cd4a"
  },
  {
   "cell_type": "code",
   "execution_count": 7,
   "outputs": [
    {
     "ename": "KeyboardInterrupt",
     "evalue": "",
     "output_type": "error",
     "traceback": [
      "\u001B[0;31m---------------------------------------------------------------------------\u001B[0m",
      "\u001B[0;31mKeyboardInterrupt\u001B[0m                         Traceback (most recent call last)",
      "Cell \u001B[0;32mIn[7], line 5\u001B[0m\n\u001B[1;32m      3\u001B[0m \u001B[38;5;28;01mfor\u001B[39;00m k \u001B[38;5;129;01min\u001B[39;00m \u001B[38;5;28mrange\u001B[39m(\u001B[38;5;241m1\u001B[39m,\u001B[38;5;241m11\u001B[39m): \u001B[38;5;66;03m#range 1 to 10\u001B[39;00m\n\u001B[1;32m      4\u001B[0m     k_proto \u001B[38;5;241m=\u001B[39m KPrototypes(n_clusters \u001B[38;5;241m=\u001B[39m k, init\u001B[38;5;241m=\u001B[39m\u001B[38;5;124m'\u001B[39m\u001B[38;5;124mCao\u001B[39m\u001B[38;5;124m'\u001B[39m, max_iter\u001B[38;5;241m=\u001B[39m\u001B[38;5;241m50\u001B[39m, n_jobs\u001B[38;5;241m=\u001B[39m\u001B[38;5;241m-\u001B[39m\u001B[38;5;241m1\u001B[39m, verbose\u001B[38;5;241m=\u001B[39m\u001B[38;5;241m0\u001B[39m)\n\u001B[0;32m----> 5\u001B[0m     \u001B[43mk_proto\u001B[49m\u001B[38;5;241;43m.\u001B[39;49m\u001B[43mfit_predict\u001B[49m\u001B[43m(\u001B[49m\u001B[43mdf\u001B[49m\u001B[43m,\u001B[49m\u001B[43m \u001B[49m\u001B[43mcategorical\u001B[49m\u001B[43m \u001B[49m\u001B[38;5;241;43m=\u001B[39;49m\u001B[43m \u001B[49m\u001B[43m[\u001B[49m\u001B[38;5;241;43m0\u001B[39;49m\u001B[43m,\u001B[49m\u001B[38;5;241;43m1\u001B[39;49m\u001B[43m]\u001B[49m\u001B[43m)\u001B[49m\n\u001B[1;32m      6\u001B[0m     cost\u001B[38;5;241m.\u001B[39mappend(k_proto\u001B[38;5;241m.\u001B[39mcost_)\n",
      "File \u001B[0;32m~/Assessments/Year 2/DSGP/connexa/venv/lib/python3.9/site-packages/kmodes/kmodes.py:154\u001B[0m, in \u001B[0;36mKModes.fit_predict\u001B[0;34m(self, X, y, **kwargs)\u001B[0m\n\u001B[1;32m    148\u001B[0m \u001B[38;5;28;01mdef\u001B[39;00m \u001B[38;5;21mfit_predict\u001B[39m(\u001B[38;5;28mself\u001B[39m, X, y\u001B[38;5;241m=\u001B[39m\u001B[38;5;28;01mNone\u001B[39;00m, \u001B[38;5;241m*\u001B[39m\u001B[38;5;241m*\u001B[39mkwargs):\n\u001B[1;32m    149\u001B[0m \u001B[38;5;250m    \u001B[39m\u001B[38;5;124;03m\"\"\"Compute cluster centroids and predict cluster index for each sample.\u001B[39;00m\n\u001B[1;32m    150\u001B[0m \n\u001B[1;32m    151\u001B[0m \u001B[38;5;124;03m    Convenience method; equivalent to calling fit(X) followed by\u001B[39;00m\n\u001B[1;32m    152\u001B[0m \u001B[38;5;124;03m    predict(X).\u001B[39;00m\n\u001B[1;32m    153\u001B[0m \u001B[38;5;124;03m    \"\"\"\u001B[39;00m\n\u001B[0;32m--> 154\u001B[0m     \u001B[38;5;28;01mreturn\u001B[39;00m \u001B[38;5;28;43mself\u001B[39;49m\u001B[38;5;241;43m.\u001B[39;49m\u001B[43mfit\u001B[49m\u001B[43m(\u001B[49m\u001B[43mX\u001B[49m\u001B[43m,\u001B[49m\u001B[43m \u001B[49m\u001B[38;5;241;43m*\u001B[39;49m\u001B[38;5;241;43m*\u001B[39;49m\u001B[43mkwargs\u001B[49m\u001B[43m)\u001B[49m\u001B[38;5;241m.\u001B[39mpredict(X, \u001B[38;5;241m*\u001B[39m\u001B[38;5;241m*\u001B[39mkwargs)\n",
      "File \u001B[0;32m~/Assessments/Year 2/DSGP/connexa/venv/lib/python3.9/site-packages/kmodes/kprototypes.py:161\u001B[0m, in \u001B[0;36mKPrototypes.fit\u001B[0;34m(self, X, y, categorical, sample_weight)\u001B[0m\n\u001B[1;32m    155\u001B[0m kmodes\u001B[38;5;241m.\u001B[39m_validate_sample_weight(sample_weight, n_samples\u001B[38;5;241m=\u001B[39mX\u001B[38;5;241m.\u001B[39mshape[\u001B[38;5;241m0\u001B[39m],\n\u001B[1;32m    156\u001B[0m                                n_clusters\u001B[38;5;241m=\u001B[39m\u001B[38;5;28mself\u001B[39m\u001B[38;5;241m.\u001B[39mn_clusters)\n\u001B[1;32m    158\u001B[0m \u001B[38;5;66;03m# If self.gamma is None, gamma will be automatically determined from\u001B[39;00m\n\u001B[1;32m    159\u001B[0m \u001B[38;5;66;03m# the data. The function below returns its value.\u001B[39;00m\n\u001B[1;32m    160\u001B[0m \u001B[38;5;28mself\u001B[39m\u001B[38;5;241m.\u001B[39m_enc_cluster_centroids, \u001B[38;5;28mself\u001B[39m\u001B[38;5;241m.\u001B[39m_enc_map, \u001B[38;5;28mself\u001B[39m\u001B[38;5;241m.\u001B[39mlabels_, \u001B[38;5;28mself\u001B[39m\u001B[38;5;241m.\u001B[39mcost_, \\\n\u001B[0;32m--> 161\u001B[0m \u001B[38;5;28mself\u001B[39m\u001B[38;5;241m.\u001B[39mn_iter_, \u001B[38;5;28mself\u001B[39m\u001B[38;5;241m.\u001B[39mepoch_costs_, \u001B[38;5;28mself\u001B[39m\u001B[38;5;241m.\u001B[39mgamma \u001B[38;5;241m=\u001B[39m \u001B[43mk_prototypes\u001B[49m\u001B[43m(\u001B[49m\n\u001B[1;32m    162\u001B[0m \u001B[43m    \u001B[49m\u001B[43mX\u001B[49m\u001B[43m,\u001B[49m\n\u001B[1;32m    163\u001B[0m \u001B[43m    \u001B[49m\u001B[43mcategorical\u001B[49m\u001B[43m,\u001B[49m\n\u001B[1;32m    164\u001B[0m \u001B[43m    \u001B[49m\u001B[38;5;28;43mself\u001B[39;49m\u001B[38;5;241;43m.\u001B[39;49m\u001B[43mn_clusters\u001B[49m\u001B[43m,\u001B[49m\n\u001B[1;32m    165\u001B[0m \u001B[43m    \u001B[49m\u001B[38;5;28;43mself\u001B[39;49m\u001B[38;5;241;43m.\u001B[39;49m\u001B[43mmax_iter\u001B[49m\u001B[43m,\u001B[49m\n\u001B[1;32m    166\u001B[0m \u001B[43m    \u001B[49m\u001B[38;5;28;43mself\u001B[39;49m\u001B[38;5;241;43m.\u001B[39;49m\u001B[43mnum_dissim\u001B[49m\u001B[43m,\u001B[49m\n\u001B[1;32m    167\u001B[0m \u001B[43m    \u001B[49m\u001B[38;5;28;43mself\u001B[39;49m\u001B[38;5;241;43m.\u001B[39;49m\u001B[43mcat_dissim\u001B[49m\u001B[43m,\u001B[49m\n\u001B[1;32m    168\u001B[0m \u001B[43m    \u001B[49m\u001B[38;5;28;43mself\u001B[39;49m\u001B[38;5;241;43m.\u001B[39;49m\u001B[43mgamma\u001B[49m\u001B[43m,\u001B[49m\n\u001B[1;32m    169\u001B[0m \u001B[43m    \u001B[49m\u001B[38;5;28;43mself\u001B[39;49m\u001B[38;5;241;43m.\u001B[39;49m\u001B[43minit\u001B[49m\u001B[43m,\u001B[49m\n\u001B[1;32m    170\u001B[0m \u001B[43m    \u001B[49m\u001B[38;5;28;43mself\u001B[39;49m\u001B[38;5;241;43m.\u001B[39;49m\u001B[43mn_init\u001B[49m\u001B[43m,\u001B[49m\n\u001B[1;32m    171\u001B[0m \u001B[43m    \u001B[49m\u001B[38;5;28;43mself\u001B[39;49m\u001B[38;5;241;43m.\u001B[39;49m\u001B[43mverbose\u001B[49m\u001B[43m,\u001B[49m\n\u001B[1;32m    172\u001B[0m \u001B[43m    \u001B[49m\u001B[43mrandom_state\u001B[49m\u001B[43m,\u001B[49m\n\u001B[1;32m    173\u001B[0m \u001B[43m    \u001B[49m\u001B[38;5;28;43mself\u001B[39;49m\u001B[38;5;241;43m.\u001B[39;49m\u001B[43mn_jobs\u001B[49m\u001B[43m,\u001B[49m\n\u001B[1;32m    174\u001B[0m \u001B[43m    \u001B[49m\u001B[43msample_weight\u001B[49m\u001B[43m,\u001B[49m\n\u001B[1;32m    175\u001B[0m \u001B[43m\u001B[49m\u001B[43m)\u001B[49m\n\u001B[1;32m    177\u001B[0m \u001B[38;5;28;01mreturn\u001B[39;00m \u001B[38;5;28mself\u001B[39m\n",
      "File \u001B[0;32m~/Assessments/Year 2/DSGP/connexa/venv/lib/python3.9/site-packages/kmodes/kprototypes.py:305\u001B[0m, in \u001B[0;36mk_prototypes\u001B[0;34m(X, categorical, n_clusters, max_iter, num_dissim, cat_dissim, gamma, init, n_init, verbose, random_state, n_jobs, sample_weight)\u001B[0m\n\u001B[1;32m    299\u001B[0m         results\u001B[38;5;241m.\u001B[39mappend(_k_prototypes_single(Xnum, Xcat, nnumattrs, ncatattrs,\n\u001B[1;32m    300\u001B[0m                                             n_clusters, n_points, max_iter,\n\u001B[1;32m    301\u001B[0m                                             num_dissim, cat_dissim, gamma,\n\u001B[1;32m    302\u001B[0m                                             init, init_no, verbose, seeds[init_no],\n\u001B[1;32m    303\u001B[0m                                             sample_weight))\n\u001B[1;32m    304\u001B[0m \u001B[38;5;28;01melse\u001B[39;00m:\n\u001B[0;32m--> 305\u001B[0m     results \u001B[38;5;241m=\u001B[39m \u001B[43mParallel\u001B[49m\u001B[43m(\u001B[49m\u001B[43mn_jobs\u001B[49m\u001B[38;5;241;43m=\u001B[39;49m\u001B[43mn_jobs\u001B[49m\u001B[43m,\u001B[49m\u001B[43m \u001B[49m\u001B[43mverbose\u001B[49m\u001B[38;5;241;43m=\u001B[39;49m\u001B[38;5;241;43m0\u001B[39;49m\u001B[43m)\u001B[49m\u001B[43m(\u001B[49m\n\u001B[1;32m    306\u001B[0m \u001B[43m        \u001B[49m\u001B[43mdelayed\u001B[49m\u001B[43m(\u001B[49m\u001B[43m_k_prototypes_single\u001B[49m\u001B[43m)\u001B[49m\u001B[43m(\u001B[49m\u001B[43mXnum\u001B[49m\u001B[43m,\u001B[49m\u001B[43m \u001B[49m\u001B[43mXcat\u001B[49m\u001B[43m,\u001B[49m\u001B[43m \u001B[49m\u001B[43mnnumattrs\u001B[49m\u001B[43m,\u001B[49m\u001B[43m \u001B[49m\u001B[43mncatattrs\u001B[49m\u001B[43m,\u001B[49m\n\u001B[1;32m    307\u001B[0m \u001B[43m                                      \u001B[49m\u001B[43mn_clusters\u001B[49m\u001B[43m,\u001B[49m\u001B[43m \u001B[49m\u001B[43mn_points\u001B[49m\u001B[43m,\u001B[49m\u001B[43m \u001B[49m\u001B[43mmax_iter\u001B[49m\u001B[43m,\u001B[49m\n\u001B[1;32m    308\u001B[0m \u001B[43m                                      \u001B[49m\u001B[43mnum_dissim\u001B[49m\u001B[43m,\u001B[49m\u001B[43m \u001B[49m\u001B[43mcat_dissim\u001B[49m\u001B[43m,\u001B[49m\u001B[43m \u001B[49m\u001B[43mgamma\u001B[49m\u001B[43m,\u001B[49m\n\u001B[1;32m    309\u001B[0m \u001B[43m                                      \u001B[49m\u001B[43minit\u001B[49m\u001B[43m,\u001B[49m\u001B[43m \u001B[49m\u001B[43minit_no\u001B[49m\u001B[43m,\u001B[49m\u001B[43m \u001B[49m\u001B[43mverbose\u001B[49m\u001B[43m,\u001B[49m\u001B[43m \u001B[49m\u001B[43mseed\u001B[49m\u001B[43m,\u001B[49m\u001B[43m \u001B[49m\u001B[43msample_weight\u001B[49m\u001B[43m)\u001B[49m\n\u001B[1;32m    310\u001B[0m \u001B[43m        \u001B[49m\u001B[38;5;28;43;01mfor\u001B[39;49;00m\u001B[43m \u001B[49m\u001B[43minit_no\u001B[49m\u001B[43m,\u001B[49m\u001B[43m \u001B[49m\u001B[43mseed\u001B[49m\u001B[43m \u001B[49m\u001B[38;5;129;43;01min\u001B[39;49;00m\u001B[43m \u001B[49m\u001B[38;5;28;43menumerate\u001B[39;49m\u001B[43m(\u001B[49m\u001B[43mseeds\u001B[49m\u001B[43m)\u001B[49m\u001B[43m)\u001B[49m\n\u001B[1;32m    311\u001B[0m all_centroids, all_labels, all_costs, all_n_iters, all_epoch_costs \u001B[38;5;241m=\u001B[39m \u001B[38;5;28mzip\u001B[39m(\u001B[38;5;241m*\u001B[39mresults)\n\u001B[1;32m    313\u001B[0m best \u001B[38;5;241m=\u001B[39m np\u001B[38;5;241m.\u001B[39margmin(all_costs)\n",
      "File \u001B[0;32m~/Library/Python/3.9/lib/python/site-packages/joblib/parallel.py:1952\u001B[0m, in \u001B[0;36mParallel.__call__\u001B[0;34m(self, iterable)\u001B[0m\n\u001B[1;32m   1946\u001B[0m \u001B[38;5;66;03m# The first item from the output is blank, but it makes the interpreter\u001B[39;00m\n\u001B[1;32m   1947\u001B[0m \u001B[38;5;66;03m# progress until it enters the Try/Except block of the generator and\u001B[39;00m\n\u001B[1;32m   1948\u001B[0m \u001B[38;5;66;03m# reach the first `yield` statement. This starts the aynchronous\u001B[39;00m\n\u001B[1;32m   1949\u001B[0m \u001B[38;5;66;03m# dispatch of the tasks to the workers.\u001B[39;00m\n\u001B[1;32m   1950\u001B[0m \u001B[38;5;28mnext\u001B[39m(output)\n\u001B[0;32m-> 1952\u001B[0m \u001B[38;5;28;01mreturn\u001B[39;00m output \u001B[38;5;28;01mif\u001B[39;00m \u001B[38;5;28mself\u001B[39m\u001B[38;5;241m.\u001B[39mreturn_generator \u001B[38;5;28;01melse\u001B[39;00m \u001B[38;5;28;43mlist\u001B[39;49m\u001B[43m(\u001B[49m\u001B[43moutput\u001B[49m\u001B[43m)\u001B[49m\n",
      "File \u001B[0;32m~/Library/Python/3.9/lib/python/site-packages/joblib/parallel.py:1595\u001B[0m, in \u001B[0;36mParallel._get_outputs\u001B[0;34m(self, iterator, pre_dispatch)\u001B[0m\n\u001B[1;32m   1592\u001B[0m     \u001B[38;5;28;01myield\u001B[39;00m\n\u001B[1;32m   1594\u001B[0m     \u001B[38;5;28;01mwith\u001B[39;00m \u001B[38;5;28mself\u001B[39m\u001B[38;5;241m.\u001B[39m_backend\u001B[38;5;241m.\u001B[39mretrieval_context():\n\u001B[0;32m-> 1595\u001B[0m         \u001B[38;5;28;01myield from\u001B[39;00m \u001B[38;5;28mself\u001B[39m\u001B[38;5;241m.\u001B[39m_retrieve()\n\u001B[1;32m   1597\u001B[0m \u001B[38;5;28;01mexcept\u001B[39;00m \u001B[38;5;167;01mGeneratorExit\u001B[39;00m:\n\u001B[1;32m   1598\u001B[0m     \u001B[38;5;66;03m# The generator has been garbage collected before being fully\u001B[39;00m\n\u001B[1;32m   1599\u001B[0m     \u001B[38;5;66;03m# consumed. This aborts the remaining tasks if possible and warn\u001B[39;00m\n\u001B[1;32m   1600\u001B[0m     \u001B[38;5;66;03m# the user if necessary.\u001B[39;00m\n\u001B[1;32m   1601\u001B[0m     \u001B[38;5;28mself\u001B[39m\u001B[38;5;241m.\u001B[39m_exception \u001B[38;5;241m=\u001B[39m \u001B[38;5;28;01mTrue\u001B[39;00m\n",
      "File \u001B[0;32m~/Library/Python/3.9/lib/python/site-packages/joblib/parallel.py:1707\u001B[0m, in \u001B[0;36mParallel._retrieve\u001B[0;34m(self)\u001B[0m\n\u001B[1;32m   1702\u001B[0m \u001B[38;5;66;03m# If the next job is not ready for retrieval yet, we just wait for\u001B[39;00m\n\u001B[1;32m   1703\u001B[0m \u001B[38;5;66;03m# async callbacks to progress.\u001B[39;00m\n\u001B[1;32m   1704\u001B[0m \u001B[38;5;28;01mif\u001B[39;00m ((\u001B[38;5;28mlen\u001B[39m(\u001B[38;5;28mself\u001B[39m\u001B[38;5;241m.\u001B[39m_jobs) \u001B[38;5;241m==\u001B[39m \u001B[38;5;241m0\u001B[39m) \u001B[38;5;129;01mor\u001B[39;00m\n\u001B[1;32m   1705\u001B[0m     (\u001B[38;5;28mself\u001B[39m\u001B[38;5;241m.\u001B[39m_jobs[\u001B[38;5;241m0\u001B[39m]\u001B[38;5;241m.\u001B[39mget_status(\n\u001B[1;32m   1706\u001B[0m         timeout\u001B[38;5;241m=\u001B[39m\u001B[38;5;28mself\u001B[39m\u001B[38;5;241m.\u001B[39mtimeout) \u001B[38;5;241m==\u001B[39m TASK_PENDING)):\n\u001B[0;32m-> 1707\u001B[0m     \u001B[43mtime\u001B[49m\u001B[38;5;241;43m.\u001B[39;49m\u001B[43msleep\u001B[49m\u001B[43m(\u001B[49m\u001B[38;5;241;43m0.01\u001B[39;49m\u001B[43m)\u001B[49m\n\u001B[1;32m   1708\u001B[0m     \u001B[38;5;28;01mcontinue\u001B[39;00m\n\u001B[1;32m   1710\u001B[0m \u001B[38;5;66;03m# We need to be careful: the job list can be filling up as\u001B[39;00m\n\u001B[1;32m   1711\u001B[0m \u001B[38;5;66;03m# we empty it and Python list are not thread-safe by\u001B[39;00m\n\u001B[1;32m   1712\u001B[0m \u001B[38;5;66;03m# default hence the use of the lock\u001B[39;00m\n",
      "\u001B[0;31mKeyboardInterrupt\u001B[0m: "
     ]
    }
   ],
   "source": [
    "cost = []\n",
    "\n",
    "for k in range(1,11): #range 1 to 10\n",
    "    k_proto = KPrototypes(n_clusters = k, init='Cao', max_iter=50, n_jobs=-1, verbose=0)\n",
    "    k_proto.fit_predict(df, categorical = [0,1])\n",
    "    cost.append(k_proto.cost_)"
   ],
   "metadata": {
    "collapsed": false,
    "ExecuteTime": {
     "end_time": "2024-03-31T15:18:48.753654Z",
     "start_time": "2024-03-31T15:15:01.032959Z"
    }
   },
   "id": "856ea4945a68607f"
  },
  {
   "cell_type": "code",
   "execution_count": null,
   "outputs": [],
   "source": [
    "# Plot the cost against the number of clusters to identify the elbow\n",
    "plt.plot(range(1,11), cost)\n",
    "plt.xlabel('Number of Clusters (k)')\n",
    "plt.ylabel('Cost')\n",
    "plt.title('Elbow Method')\n",
    "plt.show()"
   ],
   "metadata": {
    "collapsed": false
   },
   "id": "6cb1b2948dce9f02"
  },
  {
   "cell_type": "markdown",
   "source": [
    "**<big>ii) The Silhouette method</big>**"
   ],
   "metadata": {
    "collapsed": false
   },
   "id": "f7357ec0f8142479"
  },
  {
   "cell_type": "code",
   "execution_count": null,
   "outputs": [],
   "source": [
    "#Encoding the data\n",
    "from sklearn.preprocessing import LabelEncoder\n",
    "label_encoder = LabelEncoder()\n",
    "df_encoded = df.copy()\n",
    "df_encoded['item_name'] = label_encoder.fit_transform(df_encoded['item_name'])\n",
    "df_encoded['category_name'] = label_encoder.fit_transform(df_encoded['category_name'])"
   ],
   "metadata": {
    "collapsed": false
   },
   "id": "1d96dd31879defcc"
  },
  {
   "cell_type": "code",
   "execution_count": null,
   "outputs": [],
   "source": [
    "from sklearn.metrics import silhouette_score\n",
    "silhouette_scores = []\n",
    "for k in range(2, 11):  #range 2 to 10 \n",
    "    k_proto = KPrototypes(n_clusters = k, init='Cao', max_iter=50, n_jobs=-1, verbose=0)\n",
    "    clusters = k_proto.fit_predict(df_encoded.values, categorical=[0, 1])\n",
    "    silhouette_scores.append(silhouette_score(df_encoded.values, clusters))"
   ],
   "metadata": {
    "collapsed": false
   },
   "id": "2b0d74139a7b34dc"
  },
  {
   "cell_type": "code",
   "execution_count": null,
   "outputs": [],
   "source": [
    "# Plot the silhouette scores against the number of clusters\n",
    "plt.plot(range(2, 11), silhouette_scores, marker='o')\n",
    "plt.xlabel('Number of Clusters (k)')\n",
    "plt.ylabel('Silhouette Score')\n",
    "plt.title('Silhouette method')\n",
    "plt.show()"
   ],
   "metadata": {
    "collapsed": false
   },
   "id": "d1c1c257454008f2"
  },
  {
   "cell_type": "markdown",
   "source": [
    "**Modelling and viewing the clusters**\n",
    "The elbow method did not display a clear elbow point,  but the silhouette method showed a proper peak at 6. Based on these results, the optimal number of clusters could  be  taken as six."
   ],
   "metadata": {
    "collapsed": false
   },
   "id": "539a37e6fb1eefa6"
  },
  {
   "cell_type": "code",
   "execution_count": null,
   "outputs": [],
   "source": [
    "model = KPrototypes(n_clusters = 6, init='Cao', max_iter=50, n_jobs=-1, verbose=0)\n",
    "predictions = model.fit_predict(df, categorical = [0,1])"
   ],
   "metadata": {
    "collapsed": false
   },
   "id": "ef15972681cf1f37"
  },
  {
   "cell_type": "code",
   "execution_count": null,
   "outputs": [],
   "source": [
    "#Creating a column called clusters in the main dataset\n",
    "df['cluster'] = predictions"
   ],
   "metadata": {
    "collapsed": false
   },
   "id": "4e600131b790d5e4"
  },
  {
   "cell_type": "code",
   "execution_count": null,
   "outputs": [],
   "source": [
    "df.head()"
   ],
   "metadata": {
    "collapsed": false
   },
   "id": "366e52a742b6d836"
  },
  {
   "cell_type": "code",
   "execution_count": null,
   "outputs": [],
   "source": [
    "x_values = [0,1,2,3,4,5]\n",
    "y_values = []\n",
    "\n",
    "for i in x_values:\n",
    "    y_values.append(len(df[df['cluster']==i]))"
   ],
   "metadata": {
    "collapsed": false
   },
   "id": "91de45ff2f70650d"
  },
  {
   "cell_type": "code",
   "execution_count": null,
   "outputs": [],
   "source": [
    "plt.bar(x_values,y_values)\n",
    "plt.xlabel(\"Cluster Number\")\n",
    "plt.ylabel(\"Number of Instances\")\n",
    "plt.show()"
   ],
   "metadata": {
    "collapsed": false
   },
   "id": "b57d03b989fb9145"
  },
  {
   "cell_type": "code",
   "execution_count": null,
   "outputs": [],
   "source": [
    "df_encoded['cluster'] = df['cluster']\n",
    "df_encoded"
   ],
   "metadata": {
    "collapsed": false
   },
   "id": "b4e027d3a15950dc"
  },
  {
   "cell_type": "code",
   "execution_count": null,
   "outputs": [],
   "source": [
    "#Scatter Plot requires encoded categorical data\n",
    "c1 = df_encoded[df_encoded['cluster']==0] #Rows that were assigned to the cluster 0\n",
    "c2 = df_encoded[df_encoded['cluster']==1] #Rows that were assigned to the cluster 1\n",
    "c3 = df_encoded[df_encoded['cluster']==2] #Rows that were assigned to the cluster 2\n",
    "c4 = df_encoded[df_encoded['cluster']==3]\n",
    "c5 = df_encoded[df_encoded['cluster']==4]\n",
    "c6 = df_encoded[df_encoded['cluster']==5]"
   ],
   "metadata": {
    "collapsed": false
   },
   "id": "f4e89aac2bd6c7d6"
  },
  {
   "cell_type": "code",
   "execution_count": null,
   "outputs": [],
   "source": [
    "#Only for two features\n",
    "plt.scatter(c1['item_name'], c1['quantity_sold_kg'])\n",
    "plt.scatter(c2['item_name'], c2['quantity_sold_kg'])\n",
    "plt.scatter(c3['item_name'], c3['quantity_sold_kg'])\n",
    "plt.scatter(c4['item_name'], c4['quantity_sold_kg'])\n",
    "plt.scatter(c5['item_name'], c5['quantity_sold_kg'])\n",
    "plt.scatter(c6['item_name'], c6['quantity_sold_kg'])"
   ],
   "metadata": {
    "collapsed": false
   },
   "id": "f71b7948a6730095"
  },
  {
   "cell_type": "code",
   "execution_count": null,
   "outputs": [],
   "source": [
    "import seaborn as sns\n",
    "df_encoded['cluster'] = model.labels_\n",
    "sns.pairplot(df_encoded, hue='cluster', palette='viridis')\n",
    "plt.show()"
   ],
   "metadata": {
    "collapsed": false
   },
   "id": "6a09923ca2f619f3"
  },
  {
   "cell_type": "code",
   "execution_count": null,
   "outputs": [],
   "source": [
    "#A second model with kmeans\n",
    "df_encoded2 = df_encoded.drop('cluster', axis=1)\n",
    "from sklearn.cluster import KMeans\n",
    "model2 = KMeans(n_clusters = 6, init = 'k-means++' , random_state = 42, verbose=0)\n",
    "predictions2 = model2.fit_predict(df_encoded2)\n",
    "\n",
    "df_encoded2['cluster'] = predictions2"
   ],
   "metadata": {
    "collapsed": false
   },
   "id": "538a0b09cc4b9370"
  },
  {
   "cell_type": "code",
   "execution_count": null,
   "outputs": [],
   "source": [
    "y_values2 = []\n",
    "\n",
    "for i in x_values:\n",
    "    y_values2.append(len(df_encoded2[df_encoded2['cluster']==i]))"
   ],
   "metadata": {
    "collapsed": false
   },
   "id": "adcce10dca4c0151"
  },
  {
   "cell_type": "code",
   "execution_count": null,
   "outputs": [],
   "source": [
    "plt.bar(x_values,y_values)\n",
    "plt.xlabel(\"Cluster Number\")\n",
    "plt.ylabel(\"Number of Instances\")\n",
    "plt.show()"
   ],
   "metadata": {
    "collapsed": false
   },
   "id": "e97004352cca737d"
  },
  {
   "cell_type": "code",
   "execution_count": null,
   "outputs": [],
   "source": [
    "from sklearn.metrics import silhouette_score\n",
    "kproto = KPrototypes(n_clusters=6, init='Cao', max_iter=50, n_jobs=-1, verbose=0)\n",
    "labels_kproto = kproto.fit_predict(df_encoded2, categorical=[0,1])\n",
    "silhouette_kproto = silhouette_score(df_encoded2.values, labels_kproto)\n",
    "\n",
    "\n",
    "kmeans = KMeans(n_clusters=6, init='k-means++', random_state=42,  verbose=0)\n",
    "labels_kmeans = kmeans.fit_predict(df_encoded2)\n",
    "silhouette_kmeans = silhouette_score(df_encoded2, labels_kmeans)\n",
    "\n",
    "print(f\"Silhouette Score (K-Prototypes): {silhouette_kproto}\")\n",
    "print(f\"Silhouette Score (K-Means): {silhouette_kmeans}\")"
   ],
   "metadata": {
    "collapsed": false
   },
   "id": "fc74394b247aabfc"
  },
  {
   "cell_type": "code",
   "execution_count": null,
   "outputs": [],
   "source": [
    "#Saving the model\n",
    "import pickle\n",
    "with open('../models/cluster_model.pkl', 'wb') as model_file:\n",
    "    pickle.dump(model, model_file)"
   ],
   "metadata": {
    "collapsed": false
   },
   "id": "95d770e5251dabb8"
  },
  {
   "cell_type": "code",
   "execution_count": null,
   "outputs": [],
   "source": [
    "#Loading the model\n",
    "with open('../models/cluster_model.pkl', 'rb') as model_file:\n",
    "    loaded_model = pickle.load(model_file)"
   ],
   "metadata": {
    "collapsed": false
   },
   "id": "25bb07096e5fea37"
  },
  {
   "cell_type": "code",
   "execution_count": null,
   "outputs": [],
   "source": [
    "import numpy as np\n",
    "new_purchase = ['shanghaiqing', 'flower', 0.9]\n",
    "new_purchase_array = np.array([new_purchase])"
   ],
   "metadata": {
    "collapsed": false
   },
   "id": "de9d52961aedaba0"
  },
  {
   "cell_type": "code",
   "execution_count": null,
   "outputs": [],
   "source": [
    "predicted_cluster = loaded_model.predict(new_purchase_array, categorical=[0, 1])"
   ],
   "metadata": {
    "collapsed": false
   },
   "id": "ce073b277f921fd9"
  },
  {
   "cell_type": "code",
   "execution_count": null,
   "outputs": [],
   "source": [
    "predicted_cluster"
   ],
   "metadata": {
    "collapsed": false
   },
   "id": "3f8de1068e03d306"
  },
  {
   "cell_type": "code",
   "execution_count": null,
   "outputs": [],
   "source": [
    "def pred(iName,cName,qSold):\n",
    "    purchase = [iName, cName, qSold]\n",
    "    purchase_array = np.array([purchase])\n",
    "    pred_cluster = loaded_model.predict(purchase_array, categorical=[0, 1])\n",
    "    return pred_cluster\n",
    "\n",
    "pred('shanghaiqing', 'flower', 0.9)    "
   ],
   "metadata": {
    "collapsed": false
   },
   "id": "51844594650876f7"
  },
  {
   "cell_type": "code",
   "execution_count": null,
   "outputs": [],
   "source": [
    "discount_frac = {0:0.25, 1:0.05, 2:0.15, 3:0.35, 4:0.5, 5:0.1}\n",
    "\n",
    "def offer(iName,cName,qSold):\n",
    "    purchase = [iName, cName, qSold]\n",
    "    purchase_array = np.array([purchase])\n",
    "    pred_cluster = loaded_model.predict(purchase_array, categorical=[0, 1])\n",
    "    discount = discount_frac.get(int(pred_cluster))\n",
    "    discount_qsold = qSold*(1-discount)\n",
    "    print(\"You are charged only for \",discount_qsold)   \n",
    "    \n",
    "offer('shanghaiqing', 'flower', 0.9)    "
   ],
   "metadata": {
    "collapsed": false
   },
   "id": "d9deff8da7f48051"
  },
  {
   "cell_type": "code",
   "execution_count": null,
   "outputs": [],
   "source": [
    "def discount(iName, cName, qSold):\n",
    "    purchase = [iName, cName, qSold]\n",
    "    purchase_array = np.array([purchase])\n",
    "    pred_cluster = loaded_model.predict(purchase_array, categorical=[0, 1])\n",
    "    \n",
    "    count = 0\n",
    "    discount_item_names = []\n",
    "\n",
    "    while count < 10:\n",
    "        random_item_name = np.random.choice(df['item_name'])\n",
    "        if (df[df['item_name'] == random_item_name]['cluster'].values[0] != pred_cluster) and (random_item_name not in discount_item_names):\n",
    "            count += 1\n",
    "            discount_item_names.append(random_item_name)\n",
    "    \n",
    "    for i in range(len(discount_item_names)):\n",
    "        print(discount_item_names[i], df[df['item_name'] == discount_item_names[i]]['cluster'].values[0])\n",
    "    \n",
    "    return discount_item_names"
   ],
   "metadata": {
    "collapsed": false
   },
   "id": "5dfda303cb96b519"
  },
  {
   "cell_type": "code",
   "execution_count": null,
   "outputs": [],
   "source": [
    "discount('shanghaiqing', 'flower', 0.9)"
   ],
   "metadata": {
    "collapsed": false
   },
   "id": "7e3c702649aeff88"
  },
  {
   "cell_type": "code",
   "execution_count": null,
   "outputs": [],
   "source": [
    "discount('shanghaiqing', 'flower', 0.9)"
   ],
   "metadata": {
    "collapsed": false
   },
   "id": "9579d6313cf3868c"
  },
  {
   "cell_type": "code",
   "execution_count": null,
   "outputs": [],
   "source": [
    "df.to_csv('../datasets/model_building.csv', index=False)"
   ],
   "metadata": {
    "collapsed": false
   },
   "id": "5c156d2e2b534e10"
  }
 ],
 "metadata": {
  "kernelspec": {
   "display_name": "Python 3",
   "language": "python",
   "name": "python3"
  },
  "language_info": {
   "codemirror_mode": {
    "name": "ipython",
    "version": 2
   },
   "file_extension": ".py",
   "mimetype": "text/x-python",
   "name": "python",
   "nbconvert_exporter": "python",
   "pygments_lexer": "ipython2",
   "version": "2.7.6"
  }
 },
 "nbformat": 4,
 "nbformat_minor": 5
}
