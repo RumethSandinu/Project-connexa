{
 "cells": [
  {
   "cell_type": "code",
   "execution_count": 3,
   "id": "initial_id",
   "metadata": {
    "collapsed": true,
    "ExecuteTime": {
     "end_time": "2024-02-04T13:57:59.996577500Z",
     "start_time": "2024-02-04T13:57:59.486803400Z"
    }
   },
   "outputs": [],
   "source": [
    "import pandas as pd"
   ]
  },
  {
   "cell_type": "code",
   "execution_count": 4,
   "outputs": [
    {
     "name": "stdout",
     "output_type": "stream",
     "text": [
      "<class 'pandas.core.frame.DataFrame'>\n",
      "RangeIndex: 475428 entries, 0 to 475427\n",
      "Data columns (total 9 columns):\n",
      " #   Column                     Non-Null Count   Dtype  \n",
      "---  ------                     --------------   -----  \n",
      " 0   item_name                  475428 non-null  object \n",
      " 1   category_name              475428 non-null  object \n",
      " 2   date                       475428 non-null  object \n",
      " 3   time                       475428 non-null  object \n",
      " 4   item_code                  475428 non-null  int64  \n",
      " 5   quantity_sold_kg           475428 non-null  float64\n",
      " 6   unit_selling_price_rmb/kg  475428 non-null  float64\n",
      " 7   sale_or_return             475428 non-null  object \n",
      " 8   discount                   475428 non-null  object \n",
      "dtypes: float64(2), int64(1), object(6)\n",
      "memory usage: 32.6+ MB\n"
     ]
    }
   ],
   "source": [
    "df = pd.read_csv(\"../../datasets/built_dataset.csv\")\n",
    "df.info() #Gives Information about null data and more"
   ],
   "metadata": {
    "collapsed": false,
    "ExecuteTime": {
     "end_time": "2024-02-04T13:58:01.377947200Z",
     "start_time": "2024-02-04T13:57:59.509955600Z"
    }
   },
   "id": "2e0dc98eb3e5a785"
  },
  {
   "cell_type": "code",
   "execution_count": 5,
   "outputs": [],
   "source": [
    "df = df.drop(columns=['item_code', 'unit_selling_price_rmb/kg', 'sale_or_return', 'discount', 'date', 'time'])"
   ],
   "metadata": {
    "collapsed": false,
    "ExecuteTime": {
     "end_time": "2024-02-04T13:58:01.485488400Z",
     "start_time": "2024-02-04T13:58:01.377947200Z"
    }
   },
   "id": "3ad17dc5083482f3"
  },
  {
   "cell_type": "code",
   "execution_count": 6,
   "outputs": [
    {
     "data": {
      "text/plain": "(475428, 3)"
     },
     "execution_count": 6,
     "metadata": {},
     "output_type": "execute_result"
    }
   ],
   "source": [
    "df.shape"
   ],
   "metadata": {
    "collapsed": false,
    "ExecuteTime": {
     "end_time": "2024-02-04T13:58:01.523833800Z",
     "start_time": "2024-02-04T13:58:01.438080400Z"
    }
   },
   "id": "e5a013034448cac8"
  },
  {
   "cell_type": "code",
   "execution_count": 7,
   "outputs": [
    {
     "data": {
      "text/plain": "(475174, 254)"
     },
     "execution_count": 7,
     "metadata": {},
     "output_type": "execute_result"
    }
   ],
   "source": [
    "#Returned Items are recorded with a negative quantity value\n",
    "#Getting the number of positive and negative values\n",
    "(df['quantity_sold_kg']>0).sum(), (df['quantity_sold_kg']<0).sum()"
   ],
   "metadata": {
    "collapsed": false,
    "ExecuteTime": {
     "end_time": "2024-02-04T13:58:01.523833800Z",
     "start_time": "2024-02-04T13:58:01.453895500Z"
    }
   },
   "id": "8a581c4e6977bc9a"
  },
  {
   "cell_type": "code",
   "execution_count": 8,
   "outputs": [
    {
     "data": {
      "text/plain": "(475174, 3)"
     },
     "execution_count": 8,
     "metadata": {},
     "output_type": "execute_result"
    }
   ],
   "source": [
    "#Removing all the rows with negative quantity sold\n",
    "#for i in range(df.shape[0]):\n",
    "#    if df.at[i, 'Quantity Sold (kilo)']<0:\n",
    "#        df.drop(i, inplace=True)\n",
    "#\n",
    "\n",
    "df = df[df['quantity_sold_kg'] > 0]\n",
    "df.shape"
   ],
   "metadata": {
    "collapsed": false,
    "ExecuteTime": {
     "end_time": "2024-02-04T13:58:01.736846700Z",
     "start_time": "2024-02-04T13:58:01.475472400Z"
    }
   },
   "id": "572f7e2aae4029e2"
  },
  {
   "cell_type": "code",
   "execution_count": 9,
   "outputs": [
    {
     "data": {
      "text/plain": "                 item_name category_name  quantity_sold_kg\n474296  wuhu green pepper       capsicum               0.5",
      "text/html": "<div>\n<style scoped>\n    .dataframe tbody tr th:only-of-type {\n        vertical-align: middle;\n    }\n\n    .dataframe tbody tr th {\n        vertical-align: top;\n    }\n\n    .dataframe thead th {\n        text-align: right;\n    }\n</style>\n<table border=\"1\" class=\"dataframe\">\n  <thead>\n    <tr style=\"text-align: right;\">\n      <th></th>\n      <th>item_name</th>\n      <th>category_name</th>\n      <th>quantity_sold_kg</th>\n    </tr>\n  </thead>\n  <tbody>\n    <tr>\n      <th>474296</th>\n      <td>wuhu green pepper</td>\n      <td>capsicum</td>\n      <td>0.5</td>\n    </tr>\n  </tbody>\n</table>\n</div>"
     },
     "execution_count": 9,
     "metadata": {},
     "output_type": "execute_result"
    }
   ],
   "source": [
    "#Rounding the Quantity to 1 decimal place\n",
    "df['quantity_sold_kg'] = df['quantity_sold_kg'].round(1)\n",
    "df.sample()"
   ],
   "metadata": {
    "collapsed": false,
    "ExecuteTime": {
     "end_time": "2024-02-04T13:58:01.776141600Z",
     "start_time": "2024-02-04T13:58:01.532847800Z"
    }
   },
   "id": "17e1b761570a9bb8"
  },
  {
   "cell_type": "code",
   "execution_count": 10,
   "outputs": [
    {
     "data": {
      "text/plain": "2479"
     },
     "execution_count": 10,
     "metadata": {},
     "output_type": "execute_result"
    }
   ],
   "source": [
    "#Finding the number of values that got rounded to zero\n",
    "(df['quantity_sold_kg'] == 0).sum()"
   ],
   "metadata": {
    "collapsed": false,
    "ExecuteTime": {
     "end_time": "2024-02-04T13:58:01.776141600Z",
     "start_time": "2024-02-04T13:58:01.579417800Z"
    }
   },
   "id": "a70157274c4593be"
  },
  {
   "cell_type": "code",
   "execution_count": 11,
   "outputs": [],
   "source": [
    "#Making df have only quantity values that are not zero\n",
    "# Rounding to 1 decimal point can cause certain values to become equal to zero\n",
    "df = df[df['quantity_sold_kg'] != 0]"
   ],
   "metadata": {
    "collapsed": false,
    "ExecuteTime": {
     "end_time": "2024-02-04T13:58:01.784157900Z",
     "start_time": "2024-02-04T13:58:01.596181500Z"
    }
   },
   "id": "33c91e88a3baef7e"
  },
  {
   "cell_type": "code",
   "execution_count": 12,
   "outputs": [
    {
     "data": {
      "text/plain": "(472695, 3)"
     },
     "execution_count": 12,
     "metadata": {},
     "output_type": "execute_result"
    }
   ],
   "source": [
    "df.shape"
   ],
   "metadata": {
    "collapsed": false,
    "ExecuteTime": {
     "end_time": "2024-02-04T13:58:01.784157900Z",
     "start_time": "2024-02-04T13:58:01.654888300Z"
    }
   },
   "id": "9d7dbe2d32ab316"
  },
  {
   "cell_type": "code",
   "execution_count": 13,
   "outputs": [],
   "source": [
    "import matplotlib.pyplot as plt\n",
    "import seaborn as sns"
   ],
   "metadata": {
    "collapsed": false,
    "ExecuteTime": {
     "end_time": "2024-02-04T13:58:01.784157900Z",
     "start_time": "2024-02-04T13:58:01.667366900Z"
    }
   },
   "id": "9c30fc0b1ad4cae1"
  },
  {
   "cell_type": "code",
   "execution_count": 14,
   "outputs": [
    {
     "name": "stderr",
     "output_type": "stream",
     "text": [
      "C:\\Users\\TUF\\AppData\\Local\\Temp\\ipykernel_18752\\2690050114.py:1: UserWarning: \n",
      "\n",
      "`distplot` is a deprecated function and will be removed in seaborn v0.14.0.\n",
      "\n",
      "Please adapt your code to use either `displot` (a figure-level function with\n",
      "similar flexibility) or `histplot` (an axes-level function for histograms).\n",
      "\n",
      "For a guide to updating your code to use the new functions, please see\n",
      "https://gist.github.com/mwaskom/de44147ed2974457ad6372750bbe5751\n",
      "\n",
      "  sns.distplot(df['quantity_sold_kg']) #Graph is right skewed and to observe the outliers better boxplot  can be used\n"
     ]
    },
    {
     "data": {
      "text/plain": "<Axes: xlabel='quantity_sold_kg', ylabel='Density'>"
     },
     "execution_count": 14,
     "metadata": {},
     "output_type": "execute_result"
    },
    {
     "data": {
      "text/plain": "<Figure size 640x480 with 1 Axes>",
      "image/png": "[encoded data removed]"
     },
     "metadata": {},
     "output_type": "display_data"
    }
   ],
   "source": [
    "sns.distplot(df['quantity_sold_kg']) #Graph is right skewed and to observe the outliers better boxplot  can be used"
   ],
   "metadata": {
    "collapsed": false,
    "ExecuteTime": {
     "end_time": "2024-02-04T13:58:04.033796600Z",
     "start_time": "2024-02-04T13:58:01.675931700Z"
    }
   },
   "id": "166419ad413121e2"
  },
  {
   "cell_type": "code",
   "execution_count": 15,
   "outputs": [
    {
     "data": {
      "text/plain": "<Figure size 1000x500 with 1 Axes>",
      "image/png": "[encoded data removed]"
     },
     "metadata": {},
     "output_type": "display_data"
    }
   ],
   "source": [
    "#Visualizing the outliers using boxplot\n",
    "plt.figure(figsize=(10,5))\n",
    "plt.boxplot(df['quantity_sold_kg'], vert=False, flierprops=dict(markerfacecolor='Red', marker='o'))\n",
    "plt.xlabel('Quantity Sold')\n",
    "plt.show()"
   ],
   "metadata": {
    "collapsed": false,
    "ExecuteTime": {
     "end_time": "2024-02-04T13:58:04.445320800Z",
     "start_time": "2024-02-04T13:58:04.033796600Z"
    }
   },
   "id": "a22a9a12099e2128"
  },
  {
   "cell_type": "code",
   "execution_count": 16,
   "outputs": [
    {
     "name": "stdout",
     "output_type": "stream",
     "text": [
      "0.504880948603222\n"
     ]
    }
   ],
   "source": [
    "#Mean before handling the outliers\n",
    "print(df['quantity_sold_kg'].mean())"
   ],
   "metadata": {
    "collapsed": false,
    "ExecuteTime": {
     "end_time": "2024-02-04T13:58:04.476920800Z",
     "start_time": "2024-02-04T13:58:04.456573500Z"
    }
   },
   "id": "63e0e7b776bb10df"
  },
  {
   "cell_type": "code",
   "execution_count": 17,
   "outputs": [
    {
     "name": "stdout",
     "output_type": "stream",
     "text": [
      "Upper limit:  1.7436494665294144  lower limit:  -0.7338875693229705\n"
     ]
    }
   ],
   "source": [
    "#Defining the limits\n",
    "upper_limit = df['quantity_sold_kg'].mean() + 3*df['quantity_sold_kg'].std()\n",
    "lower_limit = df['quantity_sold_kg'].mean() - 3*df['quantity_sold_kg'].std()\n",
    "print('Upper limit: ',upper_limit,' lower limit: ',lower_limit)"
   ],
   "metadata": {
    "collapsed": false,
    "ExecuteTime": {
     "end_time": "2024-02-04T13:58:04.649371600Z",
     "start_time": "2024-02-04T13:58:04.476920800Z"
    }
   },
   "id": "41e66bc302198f02"
  },
  {
   "cell_type": "code",
   "execution_count": 18,
   "outputs": [
    {
     "data": {
      "text/plain": "                item_name category_name  quantity_sold_kg\n128       net lotus root        aquatic               1.8\n361       net lotus root        aquatic               3.1\n498     zhijiang red bolt        flower               1.8\n582        water chestnut       aquatic               2.0\n614       net lotus root        aquatic               1.8\n...                   ...           ...               ...\n474686    net lotus root        aquatic               2.3\n474838    net lotus root        aquatic               1.8\n474856    net lotus root        aquatic               2.0\n475064    net lotus root        aquatic               2.1\n475288    net lotus root        aquatic               2.6\n\n[1797 rows x 3 columns]",
      "text/html": "<div>\n<style scoped>\n    .dataframe tbody tr th:only-of-type {\n        vertical-align: middle;\n    }\n\n    .dataframe tbody tr th {\n        vertical-align: top;\n    }\n\n    .dataframe thead th {\n        text-align: right;\n    }\n</style>\n<table border=\"1\" class=\"dataframe\">\n  <thead>\n    <tr style=\"text-align: right;\">\n      <th></th>\n      <th>item_name</th>\n      <th>category_name</th>\n      <th>quantity_sold_kg</th>\n    </tr>\n  </thead>\n  <tbody>\n    <tr>\n      <th>128</th>\n      <td>net lotus root</td>\n      <td>aquatic</td>\n      <td>1.8</td>\n    </tr>\n    <tr>\n      <th>361</th>\n      <td>net lotus root</td>\n      <td>aquatic</td>\n      <td>3.1</td>\n    </tr>\n    <tr>\n      <th>498</th>\n      <td>zhijiang red bolt</td>\n      <td>flower</td>\n      <td>1.8</td>\n    </tr>\n    <tr>\n      <th>582</th>\n      <td>water chestnut</td>\n      <td>aquatic</td>\n      <td>2.0</td>\n    </tr>\n    <tr>\n      <th>614</th>\n      <td>net lotus root</td>\n      <td>aquatic</td>\n      <td>1.8</td>\n    </tr>\n    <tr>\n      <th>...</th>\n      <td>...</td>\n      <td>...</td>\n      <td>...</td>\n    </tr>\n    <tr>\n      <th>474686</th>\n      <td>net lotus root</td>\n      <td>aquatic</td>\n      <td>2.3</td>\n    </tr>\n    <tr>\n      <th>474838</th>\n      <td>net lotus root</td>\n      <td>aquatic</td>\n      <td>1.8</td>\n    </tr>\n    <tr>\n      <th>474856</th>\n      <td>net lotus root</td>\n      <td>aquatic</td>\n      <td>2.0</td>\n    </tr>\n    <tr>\n      <th>475064</th>\n      <td>net lotus root</td>\n      <td>aquatic</td>\n      <td>2.1</td>\n    </tr>\n    <tr>\n      <th>475288</th>\n      <td>net lotus root</td>\n      <td>aquatic</td>\n      <td>2.6</td>\n    </tr>\n  </tbody>\n</table>\n<p>1797 rows × 3 columns</p>\n</div>"
     },
     "execution_count": 18,
     "metadata": {},
     "output_type": "execute_result"
    }
   ],
   "source": [
    "#Finding the outliers\n",
    "df.loc[(df['quantity_sold_kg'] > upper_limit) | (df['quantity_sold_kg'] < lower_limit)]"
   ],
   "metadata": {
    "collapsed": false,
    "ExecuteTime": {
     "end_time": "2024-02-04T13:58:04.649371600Z",
     "start_time": "2024-02-04T13:58:04.510802700Z"
    }
   },
   "id": "235228802d15ef5"
  },
  {
   "cell_type": "code",
   "execution_count": 19,
   "outputs": [],
   "source": [
    "df_filtered = df.loc[(df['quantity_sold_kg'] < upper_limit) & (df['quantity_sold_kg'] > lower_limit)]"
   ],
   "metadata": {
    "collapsed": false,
    "ExecuteTime": {
     "end_time": "2024-02-04T13:58:04.649371600Z",
     "start_time": "2024-02-04T13:58:04.540336800Z"
    }
   },
   "id": "a04ad627807907b7"
  },
  {
   "cell_type": "code",
   "execution_count": 20,
   "outputs": [
    {
     "data": {
      "text/plain": "(472695, 470898, 1797)"
     },
     "execution_count": 20,
     "metadata": {},
     "output_type": "execute_result"
    }
   ],
   "source": [
    "len(df),len(df_filtered),len(df)-len(df_filtered)"
   ],
   "metadata": {
    "collapsed": false,
    "ExecuteTime": {
     "end_time": "2024-02-04T13:58:04.649371600Z",
     "start_time": "2024-02-04T13:58:04.580357700Z"
    }
   },
   "id": "d6d52e877a69ea8d"
  },
  {
   "cell_type": "code",
   "execution_count": 21,
   "outputs": [
    {
     "data": {
      "text/plain": "<Figure size 1000x500 with 1 Axes>",
      "image/png": "[encoded data removed]"
     },
     "metadata": {},
     "output_type": "display_data"
    }
   ],
   "source": [
    "#After handling outliers\n",
    "plt.figure(figsize=(10,5))\n",
    "plt.boxplot(df_filtered['quantity_sold_kg'], vert=False, flierprops=dict(markerfacecolor='Red', marker='o'))\n",
    "plt.xlabel('Quantity Sold (kilo)')\n",
    "plt.title('Quantity Sold After Handling Outliers')\n",
    "plt.show()"
   ],
   "metadata": {
    "collapsed": false,
    "ExecuteTime": {
     "end_time": "2024-02-04T13:58:05.136188900Z",
     "start_time": "2024-02-04T13:58:04.586845300Z"
    }
   },
   "id": "87a0177dd61ab6f7"
  },
  {
   "cell_type": "code",
   "execution_count": 22,
   "outputs": [],
   "source": [
    "#Further Handling Outliers\n",
    "#df_filtered = df[df['Quantity Sold (kilo)'] < 1] #Removing everything above 20"
   ],
   "metadata": {
    "collapsed": false,
    "ExecuteTime": {
     "end_time": "2024-02-04T13:58:05.136188900Z",
     "start_time": "2024-02-04T13:58:05.107525700Z"
    }
   },
   "id": "dda76081795c32b7"
  },
  {
   "cell_type": "code",
   "execution_count": 23,
   "outputs": [
    {
     "data": {
      "text/plain": "<seaborn.axisgrid.FacetGrid at 0x21022d2fe90>"
     },
     "execution_count": 23,
     "metadata": {},
     "output_type": "execute_result"
    },
    {
     "data": {
      "text/plain": "<Figure size 500x500 with 1 Axes>",
      "image/png": "[encoded data removed]"
     },
     "metadata": {},
     "output_type": "display_data"
    }
   ],
   "source": [
    "sns.displot(df_filtered['quantity_sold_kg'])"
   ],
   "metadata": {
    "collapsed": false,
    "ExecuteTime": {
     "end_time": "2024-02-04T13:58:07.419171700Z",
     "start_time": "2024-02-04T13:58:05.120547300Z"
    }
   },
   "id": "dfc061849c7718e0"
  },
  {
   "cell_type": "code",
   "execution_count": 24,
   "outputs": [
    {
     "name": "stdout",
     "output_type": "stream",
     "text": [
      "0.4954387149658737\n"
     ]
    }
   ],
   "source": [
    "print(df_filtered['quantity_sold_kg'].mean()) # Mean value has only slightly changed"
   ],
   "metadata": {
    "collapsed": false,
    "ExecuteTime": {
     "end_time": "2024-02-04T13:58:07.448789800Z",
     "start_time": "2024-02-04T13:58:07.429109700Z"
    }
   },
   "id": "62b74eaa2f795aaa"
  },
  {
   "cell_type": "code",
   "execution_count": 25,
   "outputs": [
    {
     "name": "stdout",
     "output_type": "stream",
     "text": [
      "<class 'pandas.core.frame.DataFrame'>\n",
      "Index: 470898 entries, 0 to 475427\n",
      "Data columns (total 3 columns):\n",
      " #   Column            Non-Null Count   Dtype  \n",
      "---  ------            --------------   -----  \n",
      " 0   item_name         470898 non-null  object \n",
      " 1   category_name     470898 non-null  object \n",
      " 2   quantity_sold_kg  470898 non-null  float64\n",
      "dtypes: float64(1), object(2)\n",
      "memory usage: 14.4+ MB\n"
     ]
    }
   ],
   "source": [
    "df_filtered.info()"
   ],
   "metadata": {
    "collapsed": false,
    "ExecuteTime": {
     "end_time": "2024-02-04T13:58:07.606588Z",
     "start_time": "2024-02-04T13:58:07.434277100Z"
    }
   },
   "id": "1f13bc93ac4887f5"
  },
  {
   "cell_type": "code",
   "execution_count": 26,
   "outputs": [
    {
     "name": "stdout",
     "output_type": "stream",
     "text": [
      "<class 'pandas.core.frame.DataFrame'>\n",
      "RangeIndex: 470898 entries, 0 to 470897\n",
      "Data columns (total 3 columns):\n",
      " #   Column            Non-Null Count   Dtype  \n",
      "---  ------            --------------   -----  \n",
      " 0   item_name         470898 non-null  object \n",
      " 1   category_name     470898 non-null  object \n",
      " 2   quantity_sold_kg  470898 non-null  float64\n",
      "dtypes: float64(1), object(2)\n",
      "memory usage: 10.8+ MB\n"
     ]
    }
   ],
   "source": [
    "#Handling the index number error \n",
    "#There are 729881 entries but the index goes till 737336\n",
    "df_final = df_filtered.reset_index(drop=True)\n",
    "df_final.info()"
   ],
   "metadata": {
    "collapsed": false,
    "ExecuteTime": {
     "end_time": "2024-02-04T13:58:07.606588Z",
     "start_time": "2024-02-04T13:58:07.499315Z"
    }
   },
   "id": "e69133773055473c"
  },
  {
   "cell_type": "code",
   "execution_count": 27,
   "outputs": [],
   "source": [
    "#Encoding\n",
    "#from sklearn import preprocessing\n",
    "#le = preprocessing.LabelEncoder()\n",
    "#df_final['Item Name'] = le.fit_transform(df['Item Name'])\n",
    "#df_final['Category Name'] = le.fit_transform(df['Category Name'])"
   ],
   "metadata": {
    "collapsed": false,
    "ExecuteTime": {
     "end_time": "2024-02-04T13:58:07.622227900Z",
     "start_time": "2024-02-04T13:58:07.577874800Z"
    }
   },
   "id": "b9e76b0eb5b861e7"
  },
  {
   "cell_type": "code",
   "execution_count": 28,
   "outputs": [],
   "source": [
    "#df_final = pd.get_dummies(df_final) #One Hot Encoding method"
   ],
   "metadata": {
    "collapsed": false,
    "ExecuteTime": {
     "end_time": "2024-02-04T13:58:07.637861500Z",
     "start_time": "2024-02-04T13:58:07.586926500Z"
    }
   },
   "id": "c0c2bd57148453b0"
  },
  {
   "cell_type": "code",
   "execution_count": 29,
   "outputs": [],
   "source": [
    "df_final.to_csv('../../datasets/annex/pre_processed_data.csv', index=False)"
   ],
   "metadata": {
    "collapsed": false,
    "ExecuteTime": {
     "end_time": "2024-02-04T13:58:08.848638100Z",
     "start_time": "2024-02-04T13:58:07.593074800Z"
    }
   },
   "id": "3cf8cd787a6bca12"
  }
 ],
 "metadata": {
  "kernelspec": {
   "display_name": "Python 3",
   "language": "python",
   "name": "python3"
  },
  "language_info": {
   "codemirror_mode": {
    "name": "ipython",
    "version": 2
   },
   "file_extension": ".py",
   "mimetype": "text/x-python",
   "name": "python",
   "nbconvert_exporter": "python",
   "pygments_lexer": "ipython2",
   "version": "2.7.6"
  }
 },
 "nbformat": 4,
 "nbformat_minor": 5
}
